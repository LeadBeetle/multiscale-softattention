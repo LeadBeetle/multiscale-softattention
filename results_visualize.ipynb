{
 "cells": [
  {
   "cell_type": "code",
   "execution_count": 1,
   "source": [
    "from utils.constants import *\r\n",
    "from utils.experimentorUtils import * \r\n",
    "from utils.visualize import *"
   ],
   "outputs": [],
   "metadata": {}
  },
  {
   "cell_type": "code",
   "execution_count": 2,
   "source": [
    "getAccuraciesScatter(\"CORA\",\"all\",\"all\",\"all\",\"test_accs\")"
   ],
   "outputs": [
    {
     "output_type": "stream",
     "name": "stdout",
     "text": [
      "NumOfLayers_2\n",
      "test_accs\n",
      "NumOfLayers_2\n",
      "test_accs\n",
      "NumOfLayers_2\n",
      "test_accs\n",
      "NumOfLayers_2\n",
      "test_accs\n",
      "NumOfLayers_2\n",
      "test_accs\n",
      "NumOfLayers_2\n",
      "test_accs\n",
      "NumOfLayers_2\n",
      "test_accs\n",
      "['GATV1', 'GATV1', 'GATV1', 'GATV1', 'GATV1', 'GATV1', 'GATV1', 'GATV1', 'GATV1', 'GATV1', 'GATV2', 'GATV2', 'GATV2', 'GATV2', 'GATV2', 'GATV2', 'TRANS', 'TRANS', 'TRANS', 'TRANS', 'TRANS', 'TRANS']\n",
      "[1, 2, 3, 4, 1, 2, 3, 1, 2, 3, 1, 2, 3, 1, 2, 3, 1, 2, 3, 1, 2, 3]\n",
      "[0.7986000180244446, 0.8008000254631042, 0.8163000345230103, 0.8158000111579895, 0.7933332920074463, 0.7950000166893005, 0.7919999957084656, 0.8043333888053894, 0.8036666512489319, 0.79666668176651, 0.7933333516120911, 0.7989999651908875, 0.7966666221618652, 0.8056666254997253, 0.8033332824707031, 0.8013333678245544, 0.7516667246818542, 0.7463333606719971, 0.7583332657814026, 0.746666669845581, 0.7486665844917297, 0.7520000338554382]\n"
     ]
    }
   ],
   "metadata": {}
  }
 ],
 "metadata": {
  "orig_nbformat": 4,
  "language_info": {
   "name": "python",
   "version": "3.8.10",
   "mimetype": "text/x-python",
   "codemirror_mode": {
    "name": "ipython",
    "version": 3
   },
   "pygments_lexer": "ipython3",
   "nbconvert_exporter": "python",
   "file_extension": ".py"
  },
  "kernelspec": {
   "name": "python3",
   "display_name": "Python 3.8.10 64-bit ('PSN': conda)"
  },
  "interpreter": {
   "hash": "6269ab1df76b315f6ef08fbf419c4497e13e711736ecf8084d3d013ff454a393"
  }
 },
 "nbformat": 4,
 "nbformat_minor": 2
}