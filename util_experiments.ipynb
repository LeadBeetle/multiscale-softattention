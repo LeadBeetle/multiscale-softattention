{
 "metadata": {
  "language_info": {
   "codemirror_mode": {
    "name": "ipython",
    "version": 3
   },
   "file_extension": ".py",
   "mimetype": "text/x-python",
   "name": "python",
   "nbconvert_exporter": "python",
   "pygments_lexer": "ipython3",
   "version": "3.8.10"
  },
  "orig_nbformat": 4,
  "kernelspec": {
   "name": "python3",
   "display_name": "Python 3.8.10 64-bit ('PS': conda)"
  },
  "interpreter": {
   "hash": "1322c26f02ebbf0700fad666a69e487b987002dd3640f1a2df48e494c6ae2c9b"
  }
 },
 "nbformat": 4,
 "nbformat_minor": 2,
 "cells": [
  {
   "cell_type": "code",
   "execution_count": 35,
   "metadata": {},
   "outputs": [],
   "source": [
    "import torch\n",
    "import time\n",
    "from torch_geometric.utils import to_dense_adj"
   ]
  },
  {
   "cell_type": "code",
   "execution_count": 36,
   "metadata": {},
   "outputs": [
    {
     "output_type": "stream",
     "name": "stdout",
     "text": [
      "Original Edge_index: \n tensor([[0, 0, 1, 1, 2, 2],\n        [1, 2, 3, 4, 4, 5]])\n\nHop2-Sparse: \n tensor(indices=tensor([[0, 0, 1, 1, 2, 2],\n                       [1, 2, 3, 4, 4, 5]]),\n       values=tensor([1., 1., 1., 1., 1., 1.]),\n       size=(6, 6), nnz=6, layout=torch.sparse_coo)\n\nAvg. time: \n 997365.868263473\n"
     ]
    }
   ],
   "source": [
    "edge_index = torch.tensor([[0,0,1,1,2,2],[1,2,3,4,4,5]], dtype=torch.long)  # 2 x E\n",
    "x = torch.tensor([[1], [1], [1], [1], [1], [1]], dtype=torch.float)  # N x emb(in)\n",
    "print(\"Original Edge_index: \\n\", edge_index)\n",
    "\n",
    "def one_step_sparse(edge_index, x):\n",
    "    edge_weight = None\n",
    "    if x>1: \n",
    "        edge_weight = torch.ones(edge_index.size(1))\n",
    "        size = torch.Size([edge_index.size(1), edge_index.size(1)] + list(edge_weight.size())[1:])\n",
    "        adj = torch.sparse.IntTensor(edge_index, edge_weight, size = size)\n",
    "        \n",
    "        #adj = to_dense_adj(edge_index)[0]\n",
    "        for k in range(2, x+1):\n",
    "            adj_k = 1/k * (torch.sparse.mm(adj, adj) - adj)\n",
    "            \n",
    "            #adj_k._values = (adj_k._values()>0)*1\n",
    "            #adj = adj+adj_k\n",
    "\n",
    "        #print(adj.to_dense())\n",
    "        return adj\n",
    "            \n",
    "    return edge_index\n",
    "\n",
    "avg_passed = 0\n",
    "n= 0\n",
    "for i in range(1000):   \n",
    "    start = time.time_ns()\n",
    "    hop2 = one_step_sparse(edge_index, 2)\n",
    "    end = time.time_ns()\n",
    "    passed = 1 * (end-start)\n",
    "    if passed>0:\n",
    "        n+=1\n",
    "    avg_passed += passed\n",
    "\n",
    "print()\n",
    "print(\"Hop2-Sparse: \\n\", hop2)\n",
    "print()\n",
    "print(\"Avg. time: \\n\", avg_passed/n)"
   ]
  },
  {
   "cell_type": "code",
   "execution_count": 37,
   "metadata": {},
   "outputs": [
    {
     "output_type": "stream",
     "name": "stdout",
     "text": [
      "Original Edge_index: \n",
      " tensor([[0, 0, 1, 1, 2, 2],\n",
      "        [1, 2, 3, 4, 4, 5]])\n",
      "\n",
      "Hop2-Edge-Index: tensor([[0, 0, 1, 1, 2, 2, 0, 0, 0],\n",
      "        [1, 2, 3, 4, 4, 5, 3, 4, 5]])\n",
      "Edge-Weights: tensor([1.0000, 1.0000, 1.0000, 1.0000, 1.0000, 1.0000, 0.5000, 0.5000, 0.5000])\n",
      "\n",
      "Avg. time: 997855.6390977444\n"
     ]
    }
   ],
   "source": [
    "edge_index = torch.tensor([[0,0,1,1,2,2],[1,2,3,4,4,5]], dtype=torch.long)  # 2 x E\n",
    "x = torch.tensor([[1], [1], [1], [1], [1], [1]], dtype=torch.float)  # N x emb(in)\n",
    "print(\"Original Edge_index: \\n\", edge_index)\n",
    "\n",
    "def one_step(edge_index, x):\n",
    "    edge_weight = None\n",
    "    if x>1: \n",
    "        edge_weight = torch.ones(edge_index.size(1))\n",
    "        adj = to_dense_adj(edge_index)[0]\n",
    "        for k in range(2,x+1):\n",
    "            adj_k = (torch.linalg.matrix_power(adj, k)>0)*1 - adj\n",
    "            \n",
    "            edge_index_k = (adj_k > 0).nonzero().t()\n",
    "            edge_weight_k = 1/k * torch.ones(edge_index_k.size(1))\n",
    "            edge_index = torch.cat((edge_index, edge_index_k), dim=1)\n",
    "            edge_weight = torch.cat((edge_weight, edge_weight_k), dim=0)\n",
    "\n",
    "    return edge_index, edge_weight\n",
    "\n",
    "avg_passed = 0\n",
    "n= 0\n",
    "for i in range(1000):   \n",
    "    start = time.time_ns()\n",
    "    hop2, w2 = one_step(edge_index, 2)\n",
    "    end = time.time_ns()\n",
    "    passed = 1 * (end-start)\n",
    "    if passed>0:\n",
    "        n+=1\n",
    "    avg_passed += passed\n",
    "\n",
    "print()\n",
    "print(\"Hop2-Edge-Index:\\n\", hop2)\n",
    "print(\"Edge-Weights:\\n\", w2)\n",
    "print()\n",
    "print(\"Avg. time:\", avg_passed/n)"
   ]
  }
 ]
}