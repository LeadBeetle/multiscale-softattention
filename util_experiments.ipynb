{
 "metadata": {
  "language_info": {
   "codemirror_mode": {
    "name": "ipython",
    "version": 3
   },
   "file_extension": ".py",
   "mimetype": "text/x-python",
   "name": "python",
   "nbconvert_exporter": "python",
   "pygments_lexer": "ipython3",
   "version": "3.8.10"
  },
  "orig_nbformat": 4,
  "kernelspec": {
   "name": "python3",
   "display_name": "Python 3.8.10 64-bit ('PS': conda)"
  },
  "interpreter": {
   "hash": "1322c26f02ebbf0700fad666a69e487b987002dd3640f1a2df48e494c6ae2c9b"
  }
 },
 "nbformat": 4,
 "nbformat_minor": 2,
 "cells": [
  {
   "cell_type": "code",
   "execution_count": 5,
   "source": [
    "import torch\r\n",
    "import time\r\n",
    "from torch_geometric.utils import to_dense_adj\r\n",
    "from torch_sparse import SparseTensor"
   ],
   "outputs": [],
   "metadata": {}
  },
  {
   "cell_type": "code",
   "execution_count": 6,
   "source": [
    "edge_index = torch.tensor([[0,0,1,1,2,2],[1,2,3,4,4,5]], dtype=torch.long)  # 2 x E\r\n",
    "x = torch.tensor([[1], [1], [1], [1], [1], [1]], dtype=torch.float)  # N x emb(in)\r\n",
    "print(\"Original Edge_index: \\n\", edge_index)\r\n",
    "\r\n",
    "def one_step_sparse(edge_index, x, num_nodes):\r\n",
    "    edge_weight = torch.ones(edge_index.size(1))\r\n",
    "    size = torch.Size([num_nodes, num_nodes])\r\n",
    "    adj = torch.sparse_coo_tensor(edge_index, edge_weight, size = size)\r\n",
    "    if x>1: \r\n",
    "        adj_powers = [adj]\r\n",
    "        for k in range(2, x+1):\r\n",
    "            adj_powers.append(torch.sparse.mm(adj_powers[k-2], adj_powers[0]))\r\n",
    "            adj_k = adj_powers[k-1] - adj_powers[0]\r\n",
    "            adj_k = torch.sparse_coo_tensor(adj_k._indices(), 1/k * (adj_k._values()>0)*1, size = size)\r\n",
    "            adj = adj + adj_k   \r\n",
    "    return SparseTensor.from_torch_sparse_coo_tensor(adj), None\r\n",
    "\r\n",
    "avg_passed = 0\r\n",
    "n= 0\r\n",
    "for i in range(1):   \r\n",
    "    start = time.time_ns()\r\n",
    "    hop2, w2 = one_step_sparse(edge_index, 2, x.size(0))\r\n",
    "    end = time.time_ns()\r\n",
    "    passed = 1 * (end-start)\r\n",
    "    if passed>0:\r\n",
    "        n+=1\r\n",
    "    avg_passed += passed\r\n",
    "\r\n",
    "print()\r\n",
    "print(\"Hop2-Sparse: \\n\", hop2)\r\n",
    "print(\"Hop2-Dense: \\n\", hop2.to_dense())\r\n",
    "print()\r\n",
    "print(\"Avg. time: \\n\", avg_passed/n)"
   ],
   "outputs": [
    {
     "output_type": "stream",
     "name": "stdout",
     "text": [
      "Original Edge_index: \n",
      " tensor([[0, 0, 1, 1, 2, 2],\n",
      "        [1, 2, 3, 4, 4, 5]])\n",
      "\n",
      "Hop2-Sparse: \n",
      " SparseTensor(row=tensor([0, 0, 0, 0, 0, 1, 1, 2, 2]),\n",
      "             col=tensor([1, 2, 3, 4, 5, 3, 4, 4, 5]),\n",
      "             val=tensor([1.0000, 1.0000, 0.5000, 0.5000, 0.5000, 1.0000, 1.0000, 1.0000, 1.0000]),\n",
      "             size=(6, 6), nnz=9, density=25.00%)\n",
      "Hop2-Dense: \n",
      " tensor([[0.0000, 1.0000, 1.0000, 0.5000, 0.5000, 0.5000],\n",
      "        [0.0000, 0.0000, 0.0000, 1.0000, 1.0000, 0.0000],\n",
      "        [0.0000, 0.0000, 0.0000, 0.0000, 1.0000, 1.0000],\n",
      "        [0.0000, 0.0000, 0.0000, 0.0000, 0.0000, 0.0000],\n",
      "        [0.0000, 0.0000, 0.0000, 0.0000, 0.0000, 0.0000],\n",
      "        [0.0000, 0.0000, 0.0000, 0.0000, 0.0000, 0.0000]])\n",
      "\n",
      "Avg. time: \n",
      " 998300.0\n"
     ]
    }
   ],
   "metadata": {
    "tags": []
   }
  },
  {
   "cell_type": "code",
   "execution_count": 7,
   "source": [
    "edge_index = torch.tensor([[0,0,1,1,2,2],[1,2,3,4,4,5]], dtype=torch.long)  # 2 x E\r\n",
    "x = torch.tensor([[1], [1], [1], [1], [1], [1]], dtype=torch.float)  # N x emb(in)\r\n",
    "print(\"Original Edge_index: \\n\", edge_index)\r\n",
    "\r\n",
    "def one_step(edge_index, x):\r\n",
    "    edge_weight = None\r\n",
    "    if x>1: \r\n",
    "        edge_weight = torch.ones(edge_index.size(1))\r\n",
    "        adj = to_dense_adj(edge_index)[0]\r\n",
    "        for k in range(2,x+1):\r\n",
    "            adj_k = (torch.linalg.matrix_power(adj, k)>0)*1 - adj\r\n",
    "            edge_index_k = (adj_k > 0).nonzero().t()\r\n",
    "            edge_weight_k = 1/k * torch.ones(edge_index_k.size(1))\r\n",
    "            edge_index = torch.cat((edge_index, edge_index_k), dim=1)\r\n",
    "            edge_weight = torch.cat((edge_weight, edge_weight_k), dim=0)\r\n",
    "\r\n",
    "    return edge_index, edge_weight\r\n",
    "\r\n",
    "avg_passed = 0\r\n",
    "n= 0\r\n",
    "for i in range(1000):   \r\n",
    "    start = time.time_ns()\r\n",
    "    hop2, w2 = one_step(edge_index, 2)\r\n",
    "    end = time.time_ns()\r\n",
    "    passed = 1 * (end-start)\r\n",
    "    if passed>0:\r\n",
    "        n+=1\r\n",
    "    avg_passed += passed\r\n",
    "\r\n",
    "print()\r\n",
    "print(\"Hop2-Edge-Index:\\n\", hop2)\r\n",
    "print(\"Edge-Weights:\\n\", w2)\r\n",
    "print()\r\n",
    "print(\"Avg. time:\", avg_passed/n)"
   ],
   "outputs": [
    {
     "output_type": "stream",
     "name": "stdout",
     "text": [
      "Original Edge_index: \n",
      " tensor([[0, 0, 1, 1, 2, 2],\n",
      "        [1, 2, 3, 4, 4, 5]])\n",
      "tensor([[ 0., -1., -1.,  1.,  1.,  1.],\n",
      "        [ 0.,  0.,  0., -1., -1.,  0.],\n",
      "        [ 0.,  0.,  0.,  0., -1., -1.],\n",
      "        [ 0.,  0.,  0.,  0.,  0.,  0.],\n",
      "        [ 0.,  0.,  0.,  0.,  0.,  0.],\n",
      "        [ 0.,  0.,  0.,  0.,  0.,  0.]])\n",
      "\n",
      "Hop2-Edge-Index:\n",
      " tensor([[0, 0, 1, 1, 2, 2, 0, 0, 0],\n",
      "        [1, 2, 3, 4, 4, 5, 3, 4, 5]])\n",
      "Edge-Weights:\n",
      " tensor([1.0000, 1.0000, 1.0000, 1.0000, 1.0000, 1.0000, 0.5000, 0.5000, 0.5000])\n",
      "\n",
      "Avg. time: 2993400.0\n"
     ]
    }
   ],
   "metadata": {
    "tags": [
     "outputPrepend"
    ]
   }
  },
  {
   "cell_type": "code",
   "execution_count": null,
   "source": [],
   "outputs": [],
   "metadata": {}
  }
 ]
}