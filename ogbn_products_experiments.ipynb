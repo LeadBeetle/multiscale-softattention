{
 "cells": [
  {
   "cell_type": "code",
   "execution_count": 11,
   "source": [
    "import os.path as osp\r\n",
    "\r\n",
    "import torch\r\n",
    "import torch.nn.functional as F\r\n",
    "\r\n",
    "from tqdm import tqdm\r\n",
    "from ogb.nodeproppred import PygNodePropPredDataset, Evaluator\r\n",
    "from torch_geometric.data import NeighborSampler\r\n",
    "\r\n",
    "from models.GAT import GAT\r\n",
    "\r\n",
    "print(torch.cuda.is_available())\r\n"
   ],
   "outputs": [],
   "metadata": {}
  },
  {
   "cell_type": "code",
   "execution_count": 9,
   "source": [
    "root = osp.abspath( 'data')\r\n",
    "dataset = PygNodePropPredDataset('ogbn-products', root)\r\n",
    "split_idx = dataset.get_idx_split()\r\n",
    "evaluator = Evaluator(name='ogbn-products')\r\n",
    "data = dataset[0]\r\n",
    "\r\n",
    "train_idx = split_idx['train']\r\n",
    "train_loader = NeighborSampler(data.edge_index, node_idx=train_idx,\r\n",
    "                               sizes=[10, 10, 10], batch_size=512,\r\n",
    "                               shuffle=True, num_workers=12)\r\n",
    "subgraph_loader = NeighborSampler(data.edge_index, node_idx=None, sizes=[-1],\r\n",
    "                                  batch_size=1024, shuffle=False,\r\n",
    "                                  num_workers=12)"
   ],
   "outputs": [
    {
     "output_type": "stream",
     "name": "stdout",
     "text": [
      "Downloading http://snap.stanford.edu/ogb/data/nodeproppred/products.zip\n"
     ]
    },
    {
     "output_type": "stream",
     "name": "stderr",
     "text": [
      "Downloaded 1.38 GB: 100%|██████████| 1414/1414 [02:22<00:00,  9.92it/s]\n"
     ]
    },
    {
     "output_type": "stream",
     "name": "stdout",
     "text": [
      "Extracting c:\\Users\\doria\\Desktop\\ProseminarMA\\multiscale-softattention\\data\\products.zip\n",
      "Processing...\n",
      "Loading necessary files...\n",
      "This might take a while.\n",
      "Processing graphs...\n"
     ]
    },
    {
     "output_type": "stream",
     "name": "stderr",
     "text": [
      "100%|██████████| 1/1 [00:01<00:00,  1.76s/it]\n"
     ]
    },
    {
     "output_type": "stream",
     "name": "stdout",
     "text": [
      "Converting graphs into PyG objects...\n"
     ]
    },
    {
     "output_type": "stream",
     "name": "stderr",
     "text": [
      "100%|██████████| 1/1 [00:00<?, ?it/s]\n"
     ]
    },
    {
     "output_type": "stream",
     "name": "stdout",
     "text": [
      "Saving...\n",
      "Done!\n"
     ]
    }
   ],
   "metadata": {}
  },
  {
   "cell_type": "code",
   "execution_count": 14,
   "source": [
    "\r\n",
    "device = torch.device('cuda' if torch.cuda.is_available() else 'cpu')\r\n",
    "model = GAT(dataset.num_features, 128, dataset.num_classes, num_layers=3,\r\n",
    "            heads=4, dataset = dataset, device = device)\r\n",
    "model = model.to(device)\r\n",
    "\r\n",
    "x = data.x.to(device)\r\n",
    "y = data.y.squeeze().to(device)"
   ],
   "outputs": [
    {
     "output_type": "stream",
     "name": "stdout",
     "text": [
      "False\n"
     ]
    }
   ],
   "metadata": {}
  },
  {
   "cell_type": "code",
   "execution_count": null,
   "source": [
    "def train(epoch):\r\n",
    "    model.train()\r\n",
    "\r\n",
    "    pbar = tqdm(total=train_idx.size(0))\r\n",
    "    pbar.set_description(f'Epoch {epoch:02d}')\r\n",
    "\r\n",
    "    total_loss = total_correct = 0\r\n",
    "    for batch_size, n_id, adjs in train_loader:\r\n",
    "        # `adjs` holds a list of `(edge_index, e_id, size)` tuples.\r\n",
    "        adjs = [adj.to(device) for adj in adjs]\r\n",
    "\r\n",
    "        optimizer.zero_grad()\r\n",
    "        out = model(x[n_id], adjs)\r\n",
    "        loss = F.nll_loss(out, y[n_id[:batch_size]])\r\n",
    "        loss.backward()\r\n",
    "        optimizer.step()\r\n",
    "\r\n",
    "        total_loss += float(loss)\r\n",
    "        total_correct += int(out.argmax(dim=-1).eq(y[n_id[:batch_size]]).sum())\r\n",
    "        pbar.update(batch_size)\r\n",
    "\r\n",
    "    pbar.close()\r\n",
    "\r\n",
    "    loss = total_loss / len(train_loader)\r\n",
    "    approx_acc = total_correct / train_idx.size(0)\r\n",
    "\r\n",
    "    return loss, approx_acc\r\n",
    "\r\n",
    "@torch.no_grad()\r\n",
    "def test():\r\n",
    "    model.eval()\r\n",
    "\r\n",
    "    out = model.inference(x, loader = subgraph_loader)\r\n",
    "\r\n",
    "    y_true = y.cpu().unsqueeze(-1)\r\n",
    "    y_pred = out.argmax(dim=-1, keepdim=True)\r\n",
    "\r\n",
    "    train_acc = evaluator.eval({\r\n",
    "        'y_true': y_true[split_idx['train']],\r\n",
    "        'y_pred': y_pred[split_idx['train']],\r\n",
    "    })['acc']\r\n",
    "    val_acc = evaluator.eval({\r\n",
    "        'y_true': y_true[split_idx['valid']],\r\n",
    "        'y_pred': y_pred[split_idx['valid']],\r\n",
    "    })['acc']\r\n",
    "    test_acc = evaluator.eval({\r\n",
    "        'y_true': y_true[split_idx['test']],\r\n",
    "        'y_pred': y_pred[split_idx['test']],\r\n",
    "    })['acc']\r\n",
    "\r\n",
    "    return train_acc, val_acc, test_acc"
   ],
   "outputs": [],
   "metadata": {}
  },
  {
   "cell_type": "code",
   "execution_count": null,
   "source": [
    "test_accs = []\r\n",
    "for run in range(1, 11):\r\n",
    "    print('')\r\n",
    "    print(f'Run {run:02d}:')\r\n",
    "    print('')\r\n",
    "\r\n",
    "    model.reset_parameters()\r\n",
    "    optimizer = torch.optim.Adam(model.parameters(), lr=0.001)\r\n",
    "\r\n",
    "    best_val_acc = final_test_acc = 0\r\n",
    "    for epoch in range(1, 101):\r\n",
    "        loss, acc = train(epoch)\r\n",
    "        print(f'Epoch {epoch:02d}, Loss: {loss:.4f}, Approx. Train: {acc:.4f}')\r\n",
    "\r\n",
    "        if epoch > 50 and epoch % 10 == 0:\r\n",
    "            train_acc, val_acc, test_acc = test()\r\n",
    "            print(f'Train: {train_acc:.4f}, Val: {val_acc:.4f}, '\r\n",
    "                  f'Test: {test_acc:.4f}')\r\n",
    "\r\n",
    "            if val_acc > best_val_acc:\r\n",
    "                best_val_acc = val_acc\r\n",
    "                final_test_acc = test_acc\r\n",
    "    test_accs.append(final_test_acc)\r\n",
    "\r\n",
    "test_acc = torch.tensor(test_accs)\r\n",
    "print('============================')\r\n",
    "print(f'Final Test: {test_acc.mean():.4f} ± {test_acc.std():.4f}')"
   ],
   "outputs": [],
   "metadata": {}
  }
 ],
 "metadata": {
  "orig_nbformat": 4,
  "language_info": {
   "name": "python"
  }
 },
 "nbformat": 4,
 "nbformat_minor": 2
}