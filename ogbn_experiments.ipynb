{
 "cells": [
  {
   "cell_type": "code",
   "execution_count": 1,
   "source": [
    "from utils.experimentor_base import *\r\n",
    "from utils.experimentor_proteins import * \r\n",
    "from utils.constants import *"
   ],
   "outputs": [],
   "metadata": {}
  },
  {
   "cell_type": "code",
   "execution_count": 2,
   "source": [
    "config = {\r\n",
    "    \"dataset_name\": Dataset.OGBN_PROTEINS,\r\n",
    "    \"model_type\": ModelType.GATV1,\r\n",
    "    'num_of_epochs': 1000,\r\n",
    "    'num_of_runs': 3,\r\n",
    "    'patience_period': 50,\r\n",
    "    \r\n",
    "    'batch_size': 1024,\r\n",
    "    'test_batch_size': 1024,\r\n",
    "    'num_workers': 2,\r\n",
    "    'force_cpu': False,\r\n",
    "    'test_frequency': 5,\r\n",
    "    'console_log_freq': 1,\r\n",
    "    'do_train_tqdm_logging': False,\r\n",
    "    \r\n",
    "    'lr': 0.01,\r\n",
    "    'num_of_layers': 6, \r\n",
    "    'num_heads': 1,\r\n",
    "    'hidden_size': 64,\r\n",
    "    'dropout': 0.25,  \r\n",
    "    \"use_layer_norm\": False,\r\n",
    "    \"use_batch_norm\": True,\r\n",
    "    \r\n",
    "    'nbor_degree': 1,\r\n",
    "    'adj_mode': AdjacencyMode.OneStep,\r\n",
    "    'sparse': False\r\n",
    "}"
   ],
   "outputs": [],
   "metadata": {}
  },
  {
   "cell_type": "code",
   "execution_count": 3,
   "source": [
    "exp = Experimentor_Proteins if config[\"dataset_name\"] == Dataset.OGBN_PROTEINS else Experimentor\r\n",
    "experimentor = exp(config)\r\n",
    "experimentor.run()"
   ],
   "outputs": [
    {
     "output_type": "stream",
     "name": "stdout",
     "text": [
      "Run 01:\n"
     ]
    },
    {
     "output_type": "stream",
     "name": "stderr",
     "text": [
      "Epoch 01: 100%|██████████| 86619/86619 [02:17<00:00, 629.01it/s]\n"
     ]
    },
    {
     "output_type": "stream",
     "name": "stdout",
     "text": [
      "Epoch 01| Loss: 2.9337\n",
      "Epoch 02| Loss: 0.6097\n",
      "Epoch 03| Loss: 0.5989\n",
      "Epoch 04| Loss: 0.5903\n",
      "Epoch 05| Loss: 0.5901\n"
     ]
    },
    {
     "output_type": "stream",
     "name": "stderr",
     "text": [
      "Evaluating: 100%|██████████| 795204/795204 [01:22<00:00, 9609.02it/s]\n"
     ]
    },
    {
     "output_type": "stream",
     "name": "stdout",
     "text": [
      "Train: 0.4458, Val: 0.4746, Test: 0.4853\n",
      "Epoch 06| Loss: 0.5885\n",
      "Epoch 07| Loss: 0.5881\n",
      "Epoch 08| Loss: 0.5957\n",
      "Epoch 09| Loss: 0.5874\n",
      "Epoch 10| Loss: 0.5879\n"
     ]
    },
    {
     "output_type": "stream",
     "name": "stderr",
     "text": [
      "Evaluating: 100%|██████████| 795204/795204 [01:14<00:00, 10742.04it/s]\n"
     ]
    },
    {
     "output_type": "stream",
     "name": "stdout",
     "text": [
      "Train: 0.4914, Val: 0.4977, Test: 0.5018\n",
      "Epoch 11| Loss: 0.5857\n",
      "Epoch 12| Loss: 0.5854\n",
      "Epoch 13| Loss: 0.5848\n",
      "Epoch 14| Loss: 0.5847\n",
      "Epoch 15| Loss: 0.5841\n"
     ]
    },
    {
     "output_type": "stream",
     "name": "stderr",
     "text": [
      "Evaluating: 100%|██████████| 795204/795204 [01:14<00:00, 10622.15it/s]\n"
     ]
    },
    {
     "output_type": "stream",
     "name": "stdout",
     "text": [
      "Train: 0.4928, Val: 0.4998, Test: 0.4993\n",
      "Epoch 16| Loss: 0.5839\n"
     ]
    }
   ],
   "metadata": {}
  }
 ],
 "metadata": {
  "orig_nbformat": 4,
  "language_info": {
   "name": "python",
   "version": "3.8.10",
   "mimetype": "text/x-python",
   "codemirror_mode": {
    "name": "ipython",
    "version": 3
   },
   "pygments_lexer": "ipython3",
   "nbconvert_exporter": "python",
   "file_extension": ".py"
  },
  "kernelspec": {
   "name": "python3",
   "display_name": "Python 3.8.10 64-bit ('PS': conda)"
  },
  "interpreter": {
   "hash": "1322c26f02ebbf0700fad666a69e487b987002dd3640f1a2df48e494c6ae2c9b"
  }
 },
 "nbformat": 4,
 "nbformat_minor": 2
}