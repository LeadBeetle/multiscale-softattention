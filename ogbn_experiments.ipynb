{
 "cells": [
  {
   "cell_type": "code",
   "execution_count": 1,
   "source": [
    "import torch\r\n",
    "from utils.experimentorUtils import getExperimentor\r\n",
    "from utils.constants import *"
   ],
   "outputs": [],
   "metadata": {}
  },
  {
   "cell_type": "code",
   "execution_count": 2,
   "source": [
    "config = {\r\n",
    "    \"dataset_name\": Dataset.CORA,\r\n",
    "    \"model_type\": ModelType.GATV1,\r\n",
    "    'num_of_epochs': 500,\r\n",
    "    'num_of_runs': 3,\r\n",
    "    'patience_period': 100,\r\n",
    "    \r\n",
    "    'batch_size': 32,\r\n",
    "    'test_batch_size': 32,\r\n",
    "    'num_workers': 2,\r\n",
    "    'force_cpu': False,\r\n",
    "    'test_frequency': 5,\r\n",
    "    'console_log_freq': 1,\r\n",
    "    'do_train_tqdm_logging': False,\r\n",
    "    \r\n",
    "    'lr': 0.005,\r\n",
    "    'num_of_layers': 2, \r\n",
    "    'num_heads': 1,\r\n",
    "    'hidden_size': 128,\r\n",
    "    'dropout': 0.6,  \r\n",
    "    \"use_layer_norm\": False,\r\n",
    "    \"use_batch_norm\": False,\r\n",
    "    \r\n",
    "    'nbor_degree': 1,\r\n",
    "    'adj_mode': AdjacencyMode.OneStep,\r\n",
    "    'sparse': False\r\n",
    "}"
   ],
   "outputs": [],
   "metadata": {}
  },
  {
   "cell_type": "code",
   "execution_count": 3,
   "source": [
    "experimentor = getExperimentor(config[\"dataset_name\"])(config)\r\n",
    "experimentor.run_wrapper()"
   ],
   "outputs": [
    {
     "output_type": "stream",
     "name": "stdout",
     "text": [
      "Run 01:\n"
     ]
    },
    {
     "output_type": "stream",
     "name": "stderr",
     "text": [
      "Epoch 01: 100%|██████████| 2708/2708 [00:04<00:00, 639.61it/s] \n"
     ]
    },
    {
     "output_type": "stream",
     "name": "stdout",
     "text": [
      "Epoch 01| Loss: 0.8081| Acc: 0.7607| Train Time: 4.2389s\n",
      "Epoch 02| Loss: 0.4240| Acc: 0.8848| Train Time: 3.6064s\n",
      "Epoch 03| Loss: 0.3065| Acc: 0.9021| Train Time: 3.5260s\n",
      "Epoch 04| Loss: 0.2349| Acc: 0.9280| Train Time: 3.8825s\n",
      "Epoch 05| Loss: 0.2025| Acc: 0.9335| Train Time: 3.7362s\n"
     ]
    },
    {
     "output_type": "stream",
     "name": "stderr",
     "text": [
      "Evaluating: 100%|██████████| 5416/5416 [00:05<00:00, 933.53it/s] \n"
     ]
    },
    {
     "output_type": "stream",
     "name": "stdout",
     "text": [
      "Train: 0.9786| Val: 0.9940| Test: 0.9850| Eval Time: 5.8056s\n",
      "Epoch 06| Loss: 0.1545| Acc: 0.9498| Train Time: 3.9860s\n",
      "Epoch 07| Loss: 0.1696| Acc: 0.9505| Train Time: 3.7705s\n",
      "Epoch 08| Loss: 0.1209| Acc: 0.9620| Train Time: 4.1658s\n",
      "Epoch 09| Loss: 0.1207| Acc: 0.9623| Train Time: 3.8180s\n",
      "Epoch 10| Loss: 0.1310| Acc: 0.9579| Train Time: 4.1076s\n"
     ]
    },
    {
     "output_type": "stream",
     "name": "stderr",
     "text": [
      "Evaluating: 100%|██████████| 5416/5416 [00:06<00:00, 852.16it/s]\n"
     ]
    },
    {
     "output_type": "stream",
     "name": "stdout",
     "text": [
      "Train: 0.9929| Val: 0.9960| Test: 0.9950| Eval Time: 6.3617s\n",
      "Epoch 11| Loss: 0.1277| Acc: 0.9609| Train Time: 3.9031s\n",
      "Epoch 12| Loss: 0.1197| Acc: 0.9686| Train Time: 4.0904s\n",
      "Epoch 13| Loss: 0.1113| Acc: 0.9634| Train Time: 3.8277s\n",
      "Epoch 14| Loss: 0.0969| Acc: 0.9697| Train Time: 3.7624s\n",
      "Epoch 15| Loss: 0.0981| Acc: 0.9705| Train Time: 3.7623s\n"
     ]
    },
    {
     "output_type": "stream",
     "name": "stderr",
     "text": [
      "Evaluating: 100%|██████████| 5416/5416 [00:05<00:00, 906.71it/s] \n"
     ]
    },
    {
     "output_type": "stream",
     "name": "stdout",
     "text": [
      "Train: 1.0000| Val: 1.0000| Test: 0.9980| Eval Time: 5.9772s\n",
      "Epoch 16| Loss: 0.0945| Acc: 0.9719| Train Time: 3.8123s\n",
      "Epoch 17| Loss: 0.1060| Acc: 0.9701| Train Time: 3.9720s\n",
      "Epoch 18| Loss: 0.1305| Acc: 0.9653| Train Time: 3.8482s\n",
      "Epoch 19| Loss: 0.1086| Acc: 0.9694| Train Time: 4.4207s\n"
     ]
    }
   ],
   "metadata": {}
  }
 ],
 "metadata": {
  "orig_nbformat": 4,
  "kernelspec": {
   "name": "python3",
   "display_name": "Python 3.8.10 64-bit ('PS': conda)"
  },
  "interpreter": {
   "hash": "1322c26f02ebbf0700fad666a69e487b987002dd3640f1a2df48e494c6ae2c9b"
  },
  "language_info": {
   "name": "python",
   "version": "3.8.10",
   "mimetype": "text/x-python",
   "codemirror_mode": {
    "name": "ipython",
    "version": 3
   },
   "pygments_lexer": "ipython3",
   "nbconvert_exporter": "python",
   "file_extension": ".py"
  }
 },
 "nbformat": 4,
 "nbformat_minor": 2
}