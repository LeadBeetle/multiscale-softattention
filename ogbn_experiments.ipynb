{
 "cells": [
  {
   "cell_type": "code",
   "execution_count": 67,
   "source": [
    "from utils.experimentor import *\n",
    "from utils.constants import *\n",
    "import torch\n",
    "import time\n",
    "from torch_geometric.utils import to_dense_adj\n",
    "\n"
   ],
   "outputs": [],
   "metadata": {}
  },
  {
   "cell_type": "code",
   "execution_count": 68,
   "source": [
    "config = {\n",
    "    \"dataset_name\": Dataset.OGBN_ARXIV,\n",
    "    \"model_type\": ModelType.GATV1,\n",
    "    'num_of_epochs': 10000,\n",
    "    'num_of_runs': 10000,\n",
    "    'patience_period': 1,\n",
    "    \n",
    "    #'should_visualize': False,\n",
    "    'batch_size': 256,\n",
    "    'test_batch_size': 256,\n",
    "    'num_workers': 0,\n",
    "    'force_cpu': False,\n",
    "    'test_frequency': 5,\n",
    "    'console_log_freq': 1,\n",
    "    'do_train_tqdm_logging': True,\n",
    "    \n",
    "    'lr': 0.01,\n",
    "    'num_of_layers': 3, \n",
    "    'num_heads': 1,\n",
    "    'hidden_size': 256,\n",
    "    'dropout': 0.25,  \n",
    "    \"use_layer_norm\": True,\n",
    "    \n",
    "    'nbor_degree': 2,\n",
    "    'adj_mode': AdjacencyMode.OneStep\n",
    "}"
   ],
   "outputs": [],
   "metadata": {}
  },
  {
   "cell_type": "code",
   "execution_count": 75,
   "source": [
    "edge_index = torch.tensor([[0,0,1,1,2,2],[1,2,3,4,4,5]], dtype=torch.long)  # 2 x E\n",
    "x = torch.tensor([[1], [1], [1], [1], [1], [1]], dtype=torch.float)  # N x emb(in)\n",
    "print(edge_index)\n",
    "\n",
    "def one_step_sparse(edge_index, x):\n",
    "    edge_weight = None\n",
    "    if x>1: \n",
    "        edge_weight = torch.ones(edge_index.size(1))\n",
    "        size = torch.Size([edge_index.size(1), edge_index.size(1)] + list(edge_weight.size())[1:])\n",
    "        adj = torch.sparse.IntTensor(edge_index, edge_weight, size = size)\n",
    "        \n",
    "        #adj = to_dense_adj(edge_index)[0]\n",
    "        for k in range(2, x+1):\n",
    "            adj_k = 1/k * (torch.sparse.mm(adj, adj) - adj)\n",
    "            \n",
    "            #adj_k._values = (adj_k._values()>0)*1\n",
    "            #adj = adj+adj_k\n",
    "\n",
    "        #print(adj.to_dense())\n",
    "        return adj\n",
    "            \n",
    "    return edge_index\n",
    "\n",
    "avg_passed = 0\n",
    "n= 0\n",
    "for i in range(1000):   \n",
    "    start = time.time_ns()\n",
    "    hop2 = one_step_sparse(edge_index, 2)\n",
    "    end = time.time_ns()\n",
    "    passed = 1 * (end-start)\n",
    "    if passed>0:\n",
    "        n+=1\n",
    "    avg_passed += passed\n",
    "\n",
    "print(avg_passed/n)\n",
    "\n",
    "print(hop2)"
   ],
   "outputs": [
    {
     "output_type": "stream",
     "name": "stdout",
     "text": [
      "tensor([[0, 0, 1, 1, 2, 2],\n        [1, 2, 3, 4, 4, 5]])\n997308.8050314465\ntensor(indices=tensor([[0, 0, 1, 1, 2, 2],\n                       [1, 2, 3, 4, 4, 5]]),\n       values=tensor([1., 1., 1., 1., 1., 1.]),\n       size=(6, 6), nnz=6, layout=torch.sparse_coo)\n"
     ]
    }
   ],
   "metadata": {
    "tags": []
   }
  },
  {
   "cell_type": "code",
   "execution_count": 70,
   "metadata": {
    "tags": []
   },
   "outputs": [
    {
     "output_type": "stream",
     "name": "stdout",
     "text": [
      "tensor([[0, 0, 1, 1, 2, 2],\n",
      "        [1, 2, 3, 4, 4, 5]])\n",
      "1000937.676056338\n",
      "(tensor([[0, 0, 1, 1, 2, 2, 0, 0, 0],\n",
      "        [1, 2, 3, 4, 4, 5, 3, 4, 5]]), tensor([1.0000, 1.0000, 1.0000, 1.0000, 1.0000, 1.0000, 0.5000, 0.5000, 0.5000]))\n"
     ]
    }
   ],
   "source": [
    "edge_index = torch.tensor([[0,0,1,1,2,2],[1,2,3,4,4,5]], dtype=torch.long)  # 2 x E\n",
    "x = torch.tensor([[1], [1], [1], [1], [1], [1]], dtype=torch.float)  # N x emb(in)\n",
    "print(edge_index)\n",
    "\n",
    "def one_step(edge_index, x):\n",
    "    edge_weight = None\n",
    "    if x>1: \n",
    "        edge_weight = torch.ones(edge_index.size(1))\n",
    "        adj = to_dense_adj(edge_index)[0]\n",
    "        for k in range(2,x+1):\n",
    "            adj_k = (torch.linalg.matrix_power(adj, k)>0)*1 - adj\n",
    "            \n",
    "            edge_index_k = (adj_k > 0).nonzero().t()\n",
    "            edge_weight_k = 1/k * torch.ones(edge_index_k.size(1))\n",
    "            edge_index = torch.cat((edge_index, edge_index_k), dim=1)\n",
    "            edge_weight = torch.cat((edge_weight, edge_weight_k), dim=0)\n",
    "\n",
    "    return edge_index, edge_weight\n",
    "\n",
    "avg_passed = 0\n",
    "n= 0\n",
    "for i in range(1000):   \n",
    "    start = time.time_ns()\n",
    "    hop2 = one_step(edge_index, 2)\n",
    "    end = time.time_ns()\n",
    "    passed = 1 * (end-start)\n",
    "    if passed>0:\n",
    "        n+=1\n",
    "    avg_passed += passed\n",
    "\n",
    "print(avg_passed/n)\n",
    "\n",
    "print(hop2)"
   ]
  },
  {
   "cell_type": "code",
   "execution_count": 71,
   "source": [
    "# experimentor = Experimentor(config)\n",
    "# experimentor.run()"
   ],
   "outputs": [],
   "metadata": {
    "tags": []
   }
  }
 ],
 "metadata": {
  "orig_nbformat": 4,
  "language_info": {
   "name": "python",
   "version": "3.8.10",
   "mimetype": "text/x-python",
   "codemirror_mode": {
    "name": "ipython",
    "version": 3
   },
   "pygments_lexer": "ipython3",
   "nbconvert_exporter": "python",
   "file_extension": ".py"
  },
  "kernelspec": {
   "name": "python3",
   "display_name": "Python 3.8.10 64-bit ('PS': conda)"
  },
  "interpreter": {
   "hash": "1322c26f02ebbf0700fad666a69e487b987002dd3640f1a2df48e494c6ae2c9b"
  }
 },
 "nbformat": 4,
 "nbformat_minor": 2
}