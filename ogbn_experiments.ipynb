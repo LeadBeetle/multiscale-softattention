{
 "cells": [
  {
   "cell_type": "code",
   "execution_count": 1,
   "source": [
    "from utils.experimentor import *\r\n",
    "from utils.constants import *\r\n"
   ],
   "outputs": [],
   "metadata": {}
  },
  {
   "cell_type": "code",
   "execution_count": 2,
   "source": [
    "config = {\r\n",
    "    \"dataset_name\": Dataset.OGBN_PRODUCTS,\r\n",
    "    \"model_type\": ModelType.GATV1,\r\n",
    "    'num_of_epochs': 10000,\r\n",
    "    'num_of_runs': 1,\r\n",
    "    'patience_period': 40,\r\n",
    "    \r\n",
    "    #'should_visualize': False,\r\n",
    "    'batch_size': 256,\r\n",
    "    'test_batch_size': 256,\r\n",
    "    'num_workers': 0,\r\n",
    "    'force_cpu': False,\r\n",
    "    'test_frequency': 5,\r\n",
    "    'console_log_freq': 1,\r\n",
    "    'do_train_tqdm_logging': True,\r\n",
    "    \r\n",
    "    'lr': 0.001,\r\n",
    "    'num_of_layers': 3,  # PPI has got 42% of nodes with all 0 features - that's why 3 layers are useful\r\n",
    "    'num_heads': 1,\r\n",
    "    'hidden_size': 128,\r\n",
    "    'dropout': 0.5,  \r\n",
    "    \"use_layer_norm\": False,\r\n",
    "    \"use_saint\": False,\r\n",
    "    \r\n",
    "    #'neighbourhood_degree': 2,\r\n",
    "    #'adjacency_mode': AdjacencyMode.OneStep\r\n",
    "}"
   ],
   "outputs": [],
   "metadata": {}
  },
  {
   "cell_type": "code",
   "execution_count": 3,
   "source": [
    "experimentor = Experimentor(config)\r\n",
    "experimentor.run()"
   ],
   "outputs": [
    {
     "output_type": "stream",
     "name": "stdout",
     "text": [
      "torch.cuda is available: True\n",
      "Used Dataset: Dataset.OGBN_PRODUCTS\n",
      "\n",
      "Run 01:\n",
      "\n"
     ]
    },
    {
     "output_type": "stream",
     "name": "stderr",
     "text": [
      "Epoch 01: 100%|██████████| 196615/196615 [01:12<00:00, 2727.91it/s]\n"
     ]
    },
    {
     "output_type": "stream",
     "name": "stdout",
     "text": [
      "Epoch 01| Loss: 1.3533, Approx. Train: 0.6802\n"
     ]
    },
    {
     "output_type": "stream",
     "name": "stderr",
     "text": [
      "Epoch 02: 100%|██████████| 196615/196615 [00:53<00:00, 3654.79it/s]\n"
     ]
    },
    {
     "output_type": "stream",
     "name": "stdout",
     "text": [
      "Epoch 02| Loss: 0.7561, Approx. Train: 0.8046\n"
     ]
    },
    {
     "output_type": "stream",
     "name": "stderr",
     "text": [
      "Evaluating: 100%|██████████| 4898058/4898058 [05:50<00:00, 13976.52it/s]\n"
     ]
    },
    {
     "output_type": "stream",
     "name": "stdout",
     "text": [
      "Train: 0.8642, Val: 0.8553, Test: 0.6792\n"
     ]
    },
    {
     "output_type": "stream",
     "name": "stderr",
     "text": [
      "Epoch 03: 100%|██████████| 196615/196615 [01:00<00:00, 3224.98it/s]\n"
     ]
    },
    {
     "output_type": "stream",
     "name": "stdout",
     "text": [
      "Epoch 03| Loss: 0.6696, Approx. Train: 0.8236\n"
     ]
    },
    {
     "output_type": "stream",
     "name": "stderr",
     "text": [
      "Epoch 04: 100%|██████████| 196615/196615 [00:33<00:00, 5795.78it/s]\n"
     ]
    },
    {
     "output_type": "stream",
     "name": "stdout",
     "text": [
      "Epoch 04| Loss: 0.6510, Approx. Train: 0.8304\n"
     ]
    },
    {
     "output_type": "stream",
     "name": "stderr",
     "text": [
      "Evaluating: 100%|██████████| 4898058/4898058 [03:39<00:00, 22309.66it/s]\n"
     ]
    },
    {
     "output_type": "stream",
     "name": "stdout",
     "text": [
      "Train: 0.8737, Val: 0.8673, Test: 0.6996\n"
     ]
    },
    {
     "output_type": "stream",
     "name": "stderr",
     "text": [
      "Epoch 05: 100%|██████████| 196615/196615 [00:27<00:00, 7144.70it/s]\n"
     ]
    },
    {
     "output_type": "stream",
     "name": "stdout",
     "text": [
      "Epoch 05| Loss: 0.6147, Approx. Train: 0.8392\n"
     ]
    },
    {
     "output_type": "stream",
     "name": "stderr",
     "text": [
      "Epoch 06: 100%|██████████| 196615/196615 [00:27<00:00, 7024.70it/s]\n"
     ]
    },
    {
     "output_type": "stream",
     "name": "stdout",
     "text": [
      "Epoch 06| Loss: 0.5871, Approx. Train: 0.8449\n"
     ]
    },
    {
     "output_type": "stream",
     "name": "stderr",
     "text": [
      "Evaluating: 100%|██████████| 4898058/4898058 [03:35<00:00, 22735.09it/s]\n"
     ]
    },
    {
     "output_type": "stream",
     "name": "stdout",
     "text": [
      "Train: 0.8866, Val: 0.8796, Test: 0.7168\n"
     ]
    },
    {
     "output_type": "stream",
     "name": "stderr",
     "text": [
      "Epoch 07: 100%|██████████| 196615/196615 [00:28<00:00, 6790.14it/s]\n"
     ]
    },
    {
     "output_type": "stream",
     "name": "stdout",
     "text": [
      "Epoch 07| Loss: 0.5742, Approx. Train: 0.8471\n"
     ]
    },
    {
     "output_type": "stream",
     "name": "stderr",
     "text": [
      "Epoch 08: 100%|██████████| 196615/196615 [00:26<00:00, 7314.28it/s]\n"
     ]
    },
    {
     "output_type": "stream",
     "name": "stdout",
     "text": [
      "Epoch 08| Loss: 0.5590, Approx. Train: 0.8514\n"
     ]
    },
    {
     "output_type": "stream",
     "name": "stderr",
     "text": [
      "Evaluating: 100%|██████████| 4898058/4898058 [03:20<00:00, 24486.31it/s]\n"
     ]
    },
    {
     "output_type": "stream",
     "name": "stdout",
     "text": [
      "Train: 0.8928, Val: 0.8843, Test: 0.7276\n"
     ]
    },
    {
     "output_type": "stream",
     "name": "stderr",
     "text": [
      "Epoch 09: 100%|██████████| 196615/196615 [00:24<00:00, 8015.62it/s]\n"
     ]
    },
    {
     "output_type": "stream",
     "name": "stdout",
     "text": [
      "Epoch 09| Loss: 0.5447, Approx. Train: 0.8536\n"
     ]
    },
    {
     "output_type": "stream",
     "name": "stderr",
     "text": [
      "Epoch 10: 100%|██████████| 196615/196615 [00:24<00:00, 8144.23it/s]\n"
     ]
    },
    {
     "output_type": "stream",
     "name": "stdout",
     "text": [
      "Epoch 10| Loss: 0.5397, Approx. Train: 0.8536\n"
     ]
    },
    {
     "output_type": "stream",
     "name": "stderr",
     "text": [
      "Evaluating: 100%|██████████| 4898058/4898058 [03:09<00:00, 25876.56it/s]\n"
     ]
    },
    {
     "output_type": "stream",
     "name": "stdout",
     "text": [
      "Train: 0.8967, Val: 0.8873, Test: 0.7289\n"
     ]
    },
    {
     "output_type": "stream",
     "name": "stderr",
     "text": [
      "Epoch 11: 100%|██████████| 196615/196615 [00:28<00:00, 6891.66it/s]\n"
     ]
    },
    {
     "output_type": "stream",
     "name": "stdout",
     "text": [
      "Epoch 11| Loss: 0.5380, Approx. Train: 0.8565\n"
     ]
    },
    {
     "output_type": "stream",
     "name": "stderr",
     "text": [
      "Epoch 12: 100%|██████████| 196615/196615 [00:25<00:00, 7567.65it/s]\n"
     ]
    },
    {
     "output_type": "stream",
     "name": "stdout",
     "text": [
      "Epoch 12| Loss: 0.5270, Approx. Train: 0.8590\n"
     ]
    },
    {
     "output_type": "stream",
     "name": "stderr",
     "text": [
      "Evaluating: 100%|██████████| 4898058/4898058 [03:09<00:00, 25875.97it/s]\n"
     ]
    },
    {
     "output_type": "stream",
     "name": "stdout",
     "text": [
      "Train: 0.8996, Val: 0.8909, Test: 0.7369\n"
     ]
    },
    {
     "output_type": "stream",
     "name": "stderr",
     "text": [
      "Epoch 13: 100%|██████████| 196615/196615 [00:25<00:00, 7778.36it/s]\n"
     ]
    },
    {
     "output_type": "stream",
     "name": "stdout",
     "text": [
      "Epoch 13| Loss: 0.5196, Approx. Train: 0.8596\n"
     ]
    },
    {
     "output_type": "stream",
     "name": "stderr",
     "text": [
      "Epoch 14: 100%|██████████| 196615/196615 [00:25<00:00, 7741.45it/s]\n"
     ]
    },
    {
     "output_type": "stream",
     "name": "stdout",
     "text": [
      "Epoch 14| Loss: 0.5159, Approx. Train: 0.8609\n"
     ]
    },
    {
     "output_type": "stream",
     "name": "stderr",
     "text": [
      "Evaluating: 100%|██████████| 4898058/4898058 [03:17<00:00, 24757.51it/s]\n"
     ]
    },
    {
     "output_type": "stream",
     "name": "stdout",
     "text": [
      "Train: 0.9008, Val: 0.8913, Test: 0.7377\n"
     ]
    },
    {
     "output_type": "stream",
     "name": "stderr",
     "text": [
      "Epoch 15: 100%|██████████| 196615/196615 [00:25<00:00, 7811.76it/s]\n"
     ]
    },
    {
     "output_type": "stream",
     "name": "stdout",
     "text": [
      "Epoch 15| Loss: 0.5143, Approx. Train: 0.8614\n"
     ]
    },
    {
     "output_type": "stream",
     "name": "stderr",
     "text": [
      "Epoch 16: 100%|██████████| 196615/196615 [00:25<00:00, 7863.11it/s]\n"
     ]
    },
    {
     "output_type": "stream",
     "name": "stdout",
     "text": [
      "Epoch 16| Loss: 0.5260, Approx. Train: 0.8604\n"
     ]
    },
    {
     "output_type": "stream",
     "name": "stderr",
     "text": [
      "Evaluating: 100%|██████████| 4898058/4898058 [03:16<00:00, 24928.89it/s]\n"
     ]
    },
    {
     "output_type": "stream",
     "name": "stdout",
     "text": [
      "Train: 0.9024, Val: 0.8935, Test: 0.7457\n"
     ]
    },
    {
     "output_type": "stream",
     "name": "stderr",
     "text": [
      "Epoch 17: 100%|██████████| 196615/196615 [00:25<00:00, 7660.29it/s]\n"
     ]
    },
    {
     "output_type": "stream",
     "name": "stdout",
     "text": [
      "Epoch 17| Loss: 0.5112, Approx. Train: 0.8631\n"
     ]
    },
    {
     "output_type": "stream",
     "name": "stderr",
     "text": [
      "Epoch 18: 100%|██████████| 196615/196615 [00:26<00:00, 7399.26it/s]\n"
     ]
    },
    {
     "output_type": "stream",
     "name": "stdout",
     "text": [
      "Epoch 18| Loss: 0.5094, Approx. Train: 0.8620\n"
     ]
    },
    {
     "output_type": "stream",
     "name": "stderr",
     "text": [
      "Evaluating: 100%|██████████| 4898058/4898058 [03:23<00:00, 24060.85it/s]\n"
     ]
    },
    {
     "output_type": "stream",
     "name": "stdout",
     "text": [
      "Train: 0.9041, Val: 0.8957, Test: 0.7442\n"
     ]
    },
    {
     "output_type": "stream",
     "name": "stderr",
     "text": [
      "Epoch 19: 100%|██████████| 196615/196615 [00:25<00:00, 7704.65it/s]\n"
     ]
    },
    {
     "output_type": "stream",
     "name": "stdout",
     "text": [
      "Epoch 19| Loss: 0.5001, Approx. Train: 0.8639\n"
     ]
    },
    {
     "output_type": "stream",
     "name": "stderr",
     "text": [
      "Epoch 20: 100%|██████████| 196615/196615 [00:25<00:00, 7710.34it/s]\n"
     ]
    },
    {
     "output_type": "stream",
     "name": "stdout",
     "text": [
      "Epoch 20| Loss: 0.5008, Approx. Train: 0.8648\n"
     ]
    },
    {
     "output_type": "stream",
     "name": "stderr",
     "text": [
      "Evaluating: 100%|██████████| 4898058/4898058 [03:14<00:00, 25127.72it/s]\n"
     ]
    },
    {
     "output_type": "stream",
     "name": "stdout",
     "text": [
      "Train: 0.9051, Val: 0.8954, Test: 0.7416\n"
     ]
    },
    {
     "output_type": "stream",
     "name": "stderr",
     "text": [
      "Epoch 21: 100%|██████████| 196615/196615 [00:25<00:00, 7828.88it/s]\n"
     ]
    },
    {
     "output_type": "stream",
     "name": "stdout",
     "text": [
      "Epoch 21| Loss: 0.4995, Approx. Train: 0.8643\n"
     ]
    },
    {
     "output_type": "stream",
     "name": "stderr",
     "text": [
      "Epoch 22: 100%|██████████| 196615/196615 [00:25<00:00, 7790.60it/s]\n"
     ]
    },
    {
     "output_type": "stream",
     "name": "stdout",
     "text": [
      "Epoch 22| Loss: 0.4975, Approx. Train: 0.8653\n"
     ]
    },
    {
     "output_type": "stream",
     "name": "stderr",
     "text": [
      "Evaluating: 100%|██████████| 4898058/4898058 [03:15<00:00, 24999.65it/s]\n"
     ]
    },
    {
     "output_type": "stream",
     "name": "stdout",
     "text": [
      "Train: 0.9054, Val: 0.8962, Test: 0.7504\n"
     ]
    },
    {
     "output_type": "stream",
     "name": "stderr",
     "text": [
      "Epoch 23: 100%|██████████| 196615/196615 [00:25<00:00, 7712.04it/s]\n"
     ]
    },
    {
     "output_type": "stream",
     "name": "stdout",
     "text": [
      "Epoch 23| Loss: 0.4929, Approx. Train: 0.8667\n"
     ]
    },
    {
     "output_type": "stream",
     "name": "stderr",
     "text": [
      "Epoch 24: 100%|██████████| 196615/196615 [00:25<00:00, 7763.15it/s]\n"
     ]
    },
    {
     "output_type": "stream",
     "name": "stdout",
     "text": [
      "Epoch 24| Loss: 0.4972, Approx. Train: 0.8672\n"
     ]
    },
    {
     "output_type": "stream",
     "name": "stderr",
     "text": [
      "Evaluating: 100%|██████████| 4898058/4898058 [03:14<00:00, 25231.74it/s]\n"
     ]
    },
    {
     "output_type": "stream",
     "name": "stdout",
     "text": [
      "Train: 0.9071, Val: 0.8979, Test: 0.7499\n"
     ]
    },
    {
     "output_type": "stream",
     "name": "stderr",
     "text": [
      "Epoch 25: 100%|██████████| 196615/196615 [00:25<00:00, 7785.35it/s]\n"
     ]
    },
    {
     "output_type": "stream",
     "name": "stdout",
     "text": [
      "Epoch 25| Loss: 0.4944, Approx. Train: 0.8667\n"
     ]
    },
    {
     "output_type": "stream",
     "name": "stderr",
     "text": [
      "Epoch 26: 100%|██████████| 196615/196615 [00:24<00:00, 7890.04it/s]\n"
     ]
    },
    {
     "output_type": "stream",
     "name": "stdout",
     "text": [
      "Epoch 26| Loss: 0.4907, Approx. Train: 0.8678\n"
     ]
    },
    {
     "output_type": "stream",
     "name": "stderr",
     "text": [
      "Evaluating: 100%|██████████| 4898058/4898058 [03:15<00:00, 25029.81it/s]\n"
     ]
    },
    {
     "output_type": "stream",
     "name": "stdout",
     "text": [
      "Train: 0.9039, Val: 0.8954, Test: 0.7436\n"
     ]
    },
    {
     "output_type": "stream",
     "name": "stderr",
     "text": [
      "Epoch 27: 100%|██████████| 196615/196615 [00:25<00:00, 7785.86it/s]\n"
     ]
    },
    {
     "output_type": "stream",
     "name": "stdout",
     "text": [
      "Epoch 27| Loss: 0.4962, Approx. Train: 0.8667\n"
     ]
    },
    {
     "output_type": "stream",
     "name": "stderr",
     "text": [
      "Epoch 28: 100%|██████████| 196615/196615 [00:25<00:00, 7821.78it/s]\n"
     ]
    },
    {
     "output_type": "stream",
     "name": "stdout",
     "text": [
      "Epoch 28| Loss: 0.4844, Approx. Train: 0.8688\n"
     ]
    },
    {
     "output_type": "stream",
     "name": "stderr",
     "text": [
      "Evaluating: 100%|██████████| 4898058/4898058 [03:17<00:00, 24762.69it/s]\n"
     ]
    },
    {
     "output_type": "stream",
     "name": "stdout",
     "text": [
      "Train: 0.9080, Val: 0.9001, Test: 0.7545\n"
     ]
    },
    {
     "output_type": "stream",
     "name": "stderr",
     "text": [
      "Epoch 29: 100%|██████████| 196615/196615 [00:28<00:00, 6995.46it/s]\n"
     ]
    },
    {
     "output_type": "stream",
     "name": "stdout",
     "text": [
      "Epoch 29| Loss: 0.4801, Approx. Train: 0.8697\n"
     ]
    },
    {
     "output_type": "stream",
     "name": "stderr",
     "text": [
      "Epoch 30: 100%|██████████| 196615/196615 [00:27<00:00, 7265.92it/s]\n"
     ]
    },
    {
     "output_type": "stream",
     "name": "stdout",
     "text": [
      "Epoch 30| Loss: 0.4878, Approx. Train: 0.8681\n"
     ]
    },
    {
     "output_type": "stream",
     "name": "stderr",
     "text": [
      "Evaluating: 100%|██████████| 4898058/4898058 [03:31<00:00, 23187.34it/s]\n"
     ]
    },
    {
     "output_type": "stream",
     "name": "stdout",
     "text": [
      "Train: 0.9076, Val: 0.8994, Test: 0.7481\n"
     ]
    },
    {
     "output_type": "stream",
     "name": "stderr",
     "text": [
      "Epoch 31: 100%|██████████| 196615/196615 [00:26<00:00, 7461.82it/s]\n"
     ]
    },
    {
     "output_type": "stream",
     "name": "stdout",
     "text": [
      "Epoch 31| Loss: 0.4963, Approx. Train: 0.8681\n"
     ]
    },
    {
     "output_type": "stream",
     "name": "stderr",
     "text": [
      "Epoch 32: 100%|██████████| 196615/196615 [00:26<00:00, 7534.35it/s]\n"
     ]
    },
    {
     "output_type": "stream",
     "name": "stdout",
     "text": [
      "Epoch 32| Loss: 0.4877, Approx. Train: 0.8684\n"
     ]
    },
    {
     "output_type": "stream",
     "name": "stderr",
     "text": [
      "Evaluating: 100%|██████████| 4898058/4898058 [03:15<00:00, 25048.14it/s]\n"
     ]
    },
    {
     "output_type": "stream",
     "name": "stdout",
     "text": [
      "Train: 0.9068, Val: 0.8993, Test: 0.7527\n"
     ]
    },
    {
     "output_type": "stream",
     "name": "stderr",
     "text": [
      "Epoch 33: 100%|██████████| 196615/196615 [00:25<00:00, 7720.62it/s]\n"
     ]
    },
    {
     "output_type": "stream",
     "name": "stdout",
     "text": [
      "Epoch 33| Loss: 0.4967, Approx. Train: 0.8676\n"
     ]
    },
    {
     "output_type": "stream",
     "name": "stderr",
     "text": [
      "Epoch 34: 100%|██████████| 196615/196615 [00:25<00:00, 7768.72it/s]\n"
     ]
    },
    {
     "output_type": "stream",
     "name": "stdout",
     "text": [
      "Epoch 34| Loss: 0.4813, Approx. Train: 0.8699\n"
     ]
    },
    {
     "output_type": "stream",
     "name": "stderr",
     "text": [
      "Evaluating: 100%|██████████| 4898058/4898058 [03:19<00:00, 24585.44it/s]\n"
     ]
    },
    {
     "output_type": "stream",
     "name": "stdout",
     "text": [
      "Train: 0.9082, Val: 0.8989, Test: 0.7493\n"
     ]
    },
    {
     "output_type": "stream",
     "name": "stderr",
     "text": [
      "Epoch 35: 100%|██████████| 196615/196615 [00:25<00:00, 7733.14it/s]\n"
     ]
    },
    {
     "output_type": "stream",
     "name": "stdout",
     "text": [
      "Epoch 35| Loss: 0.4785, Approx. Train: 0.8710\n"
     ]
    },
    {
     "output_type": "stream",
     "name": "stderr",
     "text": [
      "Epoch 36: 100%|██████████| 196615/196615 [00:25<00:00, 7774.67it/s]\n"
     ]
    },
    {
     "output_type": "stream",
     "name": "stdout",
     "text": [
      "Epoch 36| Loss: 0.4810, Approx. Train: 0.8703\n"
     ]
    },
    {
     "output_type": "stream",
     "name": "stderr",
     "text": [
      "Evaluating:   9%|▊         | 428032/4898058 [00:24<02:02, 36491.86it/s]"
     ]
    }
   ],
   "metadata": {}
  }
 ],
 "metadata": {
  "orig_nbformat": 4,
  "language_info": {
   "name": "python",
   "version": "3.8.10",
   "mimetype": "text/x-python",
   "codemirror_mode": {
    "name": "ipython",
    "version": 3
   },
   "pygments_lexer": "ipython3",
   "nbconvert_exporter": "python",
   "file_extension": ".py"
  },
  "kernelspec": {
   "name": "python3",
   "display_name": "Python 3.8.10 64-bit ('PS': conda)"
  },
  "interpreter": {
   "hash": "1322c26f02ebbf0700fad666a69e487b987002dd3640f1a2df48e494c6ae2c9b"
  }
 },
 "nbformat": 4,
 "nbformat_minor": 2
}