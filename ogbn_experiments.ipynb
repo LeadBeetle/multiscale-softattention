{
 "cells": [
  {
   "cell_type": "code",
   "execution_count": 1,
   "source": [
    "from utils.experimentor import *\r\n",
    "from utils.constants import *\r\n"
   ],
   "outputs": [],
   "metadata": {}
  },
  {
   "cell_type": "code",
   "execution_count": 2,
   "source": [
    "config = {\r\n",
    "    \"dataset_name\": Dataset.OGBN_ARXIV,\r\n",
    "    \"model_type\": ModelType.GATV1,\r\n",
    "    'num_of_epochs': 10000,\r\n",
    "    'num_of_runs': 1,\r\n",
    "    'patience_period': 200,\r\n",
    "    \r\n",
    "    #'should_visualize': False,\r\n",
    "    'batch_size': 20000,\r\n",
    "    'test_batch_size': 20000,\r\n",
    "    'num_workers': 3,\r\n",
    "    'force_cpu': False,\r\n",
    "    'test_frequency': 10,\r\n",
    "    'console_log_freq': 1,\r\n",
    "    'do_train_tqdm_logging': False,\r\n",
    "    \r\n",
    "    'lr': 0.01,\r\n",
    "    'num_of_layers': 3,  # PPI has got 42% of nodes with all 0 features - that's why 3 layers are useful\r\n",
    "    'num_heads': 1,\r\n",
    "    'hidden_size': 256,\r\n",
    "    'dropout': 0.25,  \r\n",
    "    \"use_layer_norm\": True,\r\n",
    "    \"use_saint\": True,\r\n",
    "    \r\n",
    "    #'neighbourhood_degree': 2,\r\n",
    "    #'adjacency_mode': AdjacencyMode.OneStep\r\n",
    "}"
   ],
   "outputs": [],
   "metadata": {}
  },
  {
   "cell_type": "code",
   "execution_count": 3,
   "source": [
    "experimentor = Experimentor(config)\r\n",
    "experimentor.run()"
   ],
   "outputs": [
    {
     "output_type": "stream",
     "name": "stdout",
     "text": [
      "torch.cuda is available: True\n",
      "Used Dataset: Dataset.OGBN_ARXIV\n",
      "\n",
      "Run 01:\n",
      "\n"
     ]
    },
    {
     "output_type": "stream",
     "name": "stderr",
     "text": [
      "Epoch 01: 100%|██████████| 90941/90941 [00:15<00:00, 6051.97it/s]\n"
     ]
    },
    {
     "output_type": "stream",
     "name": "stdout",
     "text": [
      "Epoch 01| Loss: 5.5114, Approx. Train: 0.0889\n",
      "Epoch 02| Loss: 3.7127, Approx. Train: 0.1258\n",
      "Epoch 03| Loss: 3.1148, Approx. Train: 0.1963\n",
      "Epoch 04| Loss: 2.8364, Approx. Train: 0.2617\n",
      "Epoch 05| Loss: 2.5670, Approx. Train: 0.3063\n",
      "Epoch 06| Loss: 2.3580, Approx. Train: 0.3466\n",
      "Epoch 07| Loss: 2.2347, Approx. Train: 0.3717\n",
      "Epoch 08| Loss: 2.1526, Approx. Train: 0.3921\n",
      "Epoch 09| Loss: 2.0747, Approx. Train: 0.4107\n",
      "Epoch 10| Loss: 2.0012, Approx. Train: 0.4329\n"
     ]
    },
    {
     "output_type": "stream",
     "name": "stderr",
     "text": [
      "Evaluating: 100%|██████████| 508029/508029 [00:16<00:00, 30181.34it/s]\n"
     ]
    },
    {
     "output_type": "stream",
     "name": "stdout",
     "text": [
      "Train: 0.4826, Val: 0.4858, Test: 0.4411\n",
      "Epoch 11| Loss: 1.9288, Approx. Train: 0.4530\n",
      "Epoch 12| Loss: 1.8612, Approx. Train: 0.4704\n",
      "Epoch 13| Loss: 1.7974, Approx. Train: 0.4862\n",
      "Epoch 14| Loss: 1.7458, Approx. Train: 0.4999\n",
      "Epoch 15| Loss: 1.7026, Approx. Train: 0.5109\n",
      "Epoch 16| Loss: 1.6701, Approx. Train: 0.5193\n",
      "Epoch 17| Loss: 1.6302, Approx. Train: 0.5295\n",
      "Epoch 18| Loss: 1.6103, Approx. Train: 0.5370\n",
      "Epoch 19| Loss: 1.5770, Approx. Train: 0.5443\n",
      "Epoch 20| Loss: 1.5542, Approx. Train: 0.5489\n"
     ]
    },
    {
     "output_type": "stream",
     "name": "stderr",
     "text": [
      "Evaluating: 100%|██████████| 508029/508029 [00:14<00:00, 35487.38it/s]\n"
     ]
    },
    {
     "output_type": "stream",
     "name": "stdout",
     "text": [
      "Train: 0.5796, Val: 0.5737, Test: 0.5159\n",
      "Epoch 21| Loss: 1.5321, Approx. Train: 0.5539\n",
      "Epoch 22| Loss: 1.5167, Approx. Train: 0.5582\n",
      "Epoch 23| Loss: 1.4948, Approx. Train: 0.5642\n",
      "Epoch 24| Loss: 1.4851, Approx. Train: 0.5659\n",
      "Epoch 25| Loss: 1.4691, Approx. Train: 0.5709\n",
      "Epoch 26| Loss: 1.4477, Approx. Train: 0.5738\n",
      "Epoch 27| Loss: 1.4411, Approx. Train: 0.5770\n",
      "Epoch 28| Loss: 1.4277, Approx. Train: 0.5798\n",
      "Epoch 29| Loss: 1.4138, Approx. Train: 0.5845\n",
      "Epoch 30| Loss: 1.4060, Approx. Train: 0.5848\n"
     ]
    },
    {
     "output_type": "stream",
     "name": "stderr",
     "text": [
      "Evaluating: 100%|██████████| 508029/508029 [00:14<00:00, 34016.52it/s]\n"
     ]
    },
    {
     "output_type": "stream",
     "name": "stdout",
     "text": [
      "Train: 0.6125, Val: 0.5946, Test: 0.5269\n",
      "Epoch 31| Loss: 1.3940, Approx. Train: 0.5888\n",
      "Epoch 32| Loss: 1.3911, Approx. Train: 0.5891\n",
      "Epoch 33| Loss: 1.3827, Approx. Train: 0.5931\n",
      "Epoch 34| Loss: 1.3658, Approx. Train: 0.5959\n",
      "Epoch 35| Loss: 1.3682, Approx. Train: 0.5969\n",
      "Epoch 36| Loss: 1.3547, Approx. Train: 0.5988\n",
      "Epoch 37| Loss: 1.3515, Approx. Train: 0.5986\n",
      "Epoch 38| Loss: 1.3393, Approx. Train: 0.6031\n",
      "Epoch 39| Loss: 1.3330, Approx. Train: 0.6032\n",
      "Epoch 40| Loss: 1.3330, Approx. Train: 0.6038\n"
     ]
    },
    {
     "output_type": "stream",
     "name": "stderr",
     "text": [
      "Evaluating: 100%|██████████| 508029/508029 [00:15<00:00, 33706.58it/s]\n"
     ]
    },
    {
     "output_type": "stream",
     "name": "stdout",
     "text": [
      "Train: 0.6286, Val: 0.6013, Test: 0.5302\n",
      "Epoch 41| Loss: 1.3274, Approx. Train: 0.6052\n",
      "Epoch 42| Loss: 1.3218, Approx. Train: 0.6063\n",
      "Epoch 43| Loss: 1.3197, Approx. Train: 0.6079\n",
      "Epoch 44| Loss: 1.3152, Approx. Train: 0.6078\n",
      "Epoch 45| Loss: 1.3095, Approx. Train: 0.6111\n",
      "Epoch 46| Loss: 1.3054, Approx. Train: 0.6097\n",
      "Epoch 47| Loss: 1.2982, Approx. Train: 0.6130\n",
      "Epoch 48| Loss: 1.2934, Approx. Train: 0.6151\n",
      "Epoch 49| Loss: 1.2859, Approx. Train: 0.6162\n",
      "Epoch 50| Loss: 1.2884, Approx. Train: 0.6167\n"
     ]
    },
    {
     "output_type": "stream",
     "name": "stderr",
     "text": [
      "Evaluating: 100%|██████████| 508029/508029 [00:14<00:00, 34862.00it/s]\n"
     ]
    },
    {
     "output_type": "stream",
     "name": "stdout",
     "text": [
      "Train: 0.6418, Val: 0.6173, Test: 0.5520\n",
      "Epoch 51| Loss: 1.2826, Approx. Train: 0.6164\n",
      "Epoch 52| Loss: 1.2797, Approx. Train: 0.6167\n",
      "Epoch 53| Loss: 1.2728, Approx. Train: 0.6182\n",
      "Epoch 54| Loss: 1.2719, Approx. Train: 0.6208\n",
      "Epoch 55| Loss: 1.2696, Approx. Train: 0.6213\n",
      "Epoch 56| Loss: 1.2649, Approx. Train: 0.6214\n",
      "Epoch 57| Loss: 1.2646, Approx. Train: 0.6224\n",
      "Epoch 58| Loss: 1.2619, Approx. Train: 0.6221\n",
      "Epoch 59| Loss: 1.2599, Approx. Train: 0.6223\n",
      "Epoch 60| Loss: 1.2554, Approx. Train: 0.6240\n"
     ]
    },
    {
     "output_type": "stream",
     "name": "stderr",
     "text": [
      "Evaluating: 100%|██████████| 508029/508029 [00:14<00:00, 35367.09it/s]\n"
     ]
    },
    {
     "output_type": "stream",
     "name": "stdout",
     "text": [
      "Train: 0.6494, Val: 0.6163, Test: 0.5525\n",
      "Epoch 61| Loss: 1.2523, Approx. Train: 0.6245\n",
      "Epoch 62| Loss: 1.2451, Approx. Train: 0.6260\n",
      "Epoch 63| Loss: 1.2397, Approx. Train: 0.6259\n",
      "Epoch 64| Loss: 1.2417, Approx. Train: 0.6275\n",
      "Epoch 65| Loss: 1.2382, Approx. Train: 0.6282\n",
      "Epoch 66| Loss: 1.2397, Approx. Train: 0.6282\n",
      "Epoch 67| Loss: 1.2313, Approx. Train: 0.6283\n",
      "Epoch 68| Loss: 1.2282, Approx. Train: 0.6308\n",
      "Epoch 69| Loss: 1.2292, Approx. Train: 0.6309\n",
      "Epoch 70| Loss: 1.2275, Approx. Train: 0.6303\n"
     ]
    },
    {
     "output_type": "stream",
     "name": "stderr",
     "text": [
      "Evaluating: 100%|██████████| 508029/508029 [00:14<00:00, 34021.34it/s]\n"
     ]
    },
    {
     "output_type": "stream",
     "name": "stdout",
     "text": [
      "Train: 0.6579, Val: 0.6269, Test: 0.5656\n",
      "Epoch 71| Loss: 1.2240, Approx. Train: 0.6296\n",
      "Epoch 72| Loss: 1.2191, Approx. Train: 0.6311\n",
      "Epoch 73| Loss: 1.2215, Approx. Train: 0.6311\n",
      "Epoch 74| Loss: 1.2161, Approx. Train: 0.6339\n",
      "Epoch 75| Loss: 1.2140, Approx. Train: 0.6326\n",
      "Epoch 76| Loss: 1.2135, Approx. Train: 0.6338\n",
      "Epoch 77| Loss: 1.2124, Approx. Train: 0.6339\n",
      "Epoch 78| Loss: 1.2073, Approx. Train: 0.6346\n",
      "Epoch 79| Loss: 1.2062, Approx. Train: 0.6347\n",
      "Epoch 80| Loss: 1.2103, Approx. Train: 0.6328\n"
     ]
    },
    {
     "output_type": "stream",
     "name": "stderr",
     "text": [
      "Evaluating: 100%|██████████| 508029/508029 [00:13<00:00, 36570.00it/s]\n"
     ]
    },
    {
     "output_type": "stream",
     "name": "stdout",
     "text": [
      "Train: 0.6632, Val: 0.6260, Test: 0.5631\n",
      "Epoch 81| Loss: 1.2022, Approx. Train: 0.6363\n",
      "Epoch 82| Loss: 1.2009, Approx. Train: 0.6366\n",
      "Epoch 83| Loss: 1.1951, Approx. Train: 0.6389\n",
      "Epoch 84| Loss: 1.1957, Approx. Train: 0.6382\n",
      "Epoch 85| Loss: 1.1966, Approx. Train: 0.6386\n",
      "Epoch 86| Loss: 1.1922, Approx. Train: 0.6378\n",
      "Epoch 87| Loss: 1.1897, Approx. Train: 0.6384\n",
      "Epoch 88| Loss: 1.1843, Approx. Train: 0.6403\n",
      "Epoch 89| Loss: 1.1880, Approx. Train: 0.6398\n",
      "Epoch 90| Loss: 1.1818, Approx. Train: 0.6415\n"
     ]
    },
    {
     "output_type": "stream",
     "name": "stderr",
     "text": [
      "Evaluating: 100%|██████████| 508029/508029 [00:14<00:00, 34187.98it/s]\n"
     ]
    },
    {
     "output_type": "stream",
     "name": "stdout",
     "text": [
      "Train: 0.6699, Val: 0.6253, Test: 0.5604\n",
      "Epoch 91| Loss: 1.1841, Approx. Train: 0.6407\n",
      "Epoch 92| Loss: 1.1787, Approx. Train: 0.6425\n",
      "Epoch 93| Loss: 1.1830, Approx. Train: 0.6425\n",
      "Epoch 94| Loss: 1.1797, Approx. Train: 0.6431\n",
      "Epoch 95| Loss: 1.1801, Approx. Train: 0.6422\n",
      "Epoch 96| Loss: 1.1736, Approx. Train: 0.6420\n"
     ]
    }
   ],
   "metadata": {}
  }
 ],
 "metadata": {
  "orig_nbformat": 4,
  "language_info": {
   "name": "python",
   "version": "3.8.10",
   "mimetype": "text/x-python",
   "codemirror_mode": {
    "name": "ipython",
    "version": 3
   },
   "pygments_lexer": "ipython3",
   "nbconvert_exporter": "python",
   "file_extension": ".py"
  },
  "kernelspec": {
   "name": "python3",
   "display_name": "Python 3.8.10 64-bit ('PS': conda)"
  },
  "interpreter": {
   "hash": "1322c26f02ebbf0700fad666a69e487b987002dd3640f1a2df48e494c6ae2c9b"
  }
 },
 "nbformat": 4,
 "nbformat_minor": 2
}