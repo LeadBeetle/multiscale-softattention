{
 "cells": [
  {
   "cell_type": "code",
   "execution_count": 1,
   "source": [
    "import torch\r\n",
    "from utils.experimentorUtils import getExperimentor\r\n",
    "from utils.constants import *\r\n",
    "print(torch.backends.cudnn.version())"
   ],
   "outputs": [
    {
     "output_type": "stream",
     "name": "stdout",
     "text": [
      "8005\n"
     ]
    }
   ],
   "metadata": {}
  },
  {
   "cell_type": "code",
   "execution_count": 2,
   "source": [
    "config = {\r\n",
    "    \"dataset_name\": Dataset.CORA,\r\n",
    "    \"model_type\": ModelType.GATV1,\r\n",
    "    'num_of_epochs': 500,\r\n",
    "    'num_of_runs': 1,\r\n",
    "    'patience_period': 100,\r\n",
    "    \r\n",
    "    'batch_size': 256,\r\n",
    "    'test_batch_size': 256,\r\n",
    "    'num_workers': 2,\r\n",
    "    'force_cpu': False,\r\n",
    "    'test_frequency': 10,\r\n",
    "    'console_log_freq': 1,\r\n",
    "    'do_train_tqdm_logging': False,\r\n",
    "    \r\n",
    "    'lr': 0.001,\r\n",
    "    'num_of_layers': 3, \r\n",
    "    'num_heads': 1,\r\n",
    "    'hidden_size': 128,\r\n",
    "    'dropout': 0.5,  \r\n",
    "    \"use_layer_norm\": False,\r\n",
    "    \"use_batch_norm\": False,\r\n",
    "    \r\n",
    "    'nbor_degree': 2,\r\n",
    "    'adj_mode': AdjacencyMode.OneStep,\r\n",
    "    'sparse': True\r\n",
    "}"
   ],
   "outputs": [],
   "metadata": {}
  },
  {
   "cell_type": "code",
   "execution_count": 3,
   "source": [
    "experimentor = getExperimentor(config[\"dataset_name\"])(config)\r\n",
    "experimentor.run_wrapper()"
   ],
   "outputs": [
    {
     "output_type": "stream",
     "name": "stdout",
     "text": [
      "Run 01:\n"
     ]
    },
    {
     "output_type": "stream",
     "name": "stderr",
     "text": [
      "Epoch 01:   5%|▌         | 140/2708 [00:04<01:19, 32.37it/s]\n"
     ]
    },
    {
     "output_type": "stream",
     "name": "stdout",
     "text": [
      "Epoch 01| Loss: 2.0022| Acc: 0.0096| Train Time: 4.3289s\n",
      "Epoch 02| Loss: 1.8415| Acc: 0.0174| Train Time: 3.7161s\n",
      "Epoch 03| Loss: 1.7222| Acc: 0.0244| Train Time: 3.3191s\n",
      "Epoch 04| Loss: 1.6619| Acc: 0.0303| Train Time: 2.4143s\n",
      "Epoch 05| Loss: 1.5840| Acc: 0.0347| Train Time: 2.8264s\n",
      "Epoch 06| Loss: 1.4458| Acc: 0.0366| Train Time: 2.6830s\n",
      "Epoch 07| Loss: 1.2843| Acc: 0.0395| Train Time: 2.6376s\n",
      "Epoch 08| Loss: 1.1845| Acc: 0.0421| Train Time: 2.3691s\n",
      "Epoch 09| Loss: 1.1348| Acc: 0.0410| Train Time: 2.3108s\n",
      "Epoch 10| Loss: 1.0542| Acc: 0.0428| Train Time: 2.6770s\n"
     ]
    },
    {
     "output_type": "stream",
     "name": "stderr",
     "text": [
      "Evaluating: 100%|██████████| 8124/8124 [00:12<00:00, 668.63it/s]\n"
     ]
    },
    {
     "output_type": "stream",
     "name": "stdout",
     "text": [
      "Train: 0.9500| Val: 0.7660| Test: 0.7920| Eval Time: 12.1562s\n",
      "Epoch 11| Loss: 0.9769| Acc: 0.0454| Train Time: 2.4618s\n",
      "Epoch 12| Loss: 0.8443| Acc: 0.0476| Train Time: 2.3377s\n",
      "Epoch 13| Loss: 0.8270| Acc: 0.0473| Train Time: 2.7337s\n",
      "Epoch 14| Loss: 0.7330| Acc: 0.0491| Train Time: 2.4352s\n",
      "Epoch 15| Loss: 0.6256| Acc: 0.0484| Train Time: 2.5193s\n",
      "Epoch 16| Loss: 0.6328| Acc: 0.0469| Train Time: 2.5154s\n",
      "Epoch 17| Loss: 0.5127| Acc: 0.0480| Train Time: 2.5213s\n",
      "Epoch 18| Loss: 0.4719| Acc: 0.0502| Train Time: 2.4215s\n",
      "Epoch 19| Loss: 0.5818| Acc: 0.0480| Train Time: 2.3780s\n",
      "Epoch 20| Loss: 0.4641| Acc: 0.0495| Train Time: 2.3449s\n"
     ]
    },
    {
     "output_type": "stream",
     "name": "stderr",
     "text": [
      "Evaluating: 100%|██████████| 8124/8124 [00:07<00:00, 1052.43it/s]\n"
     ]
    },
    {
     "output_type": "stream",
     "name": "stdout",
     "text": [
      "Train: 0.9786| Val: 0.7660| Test: 0.8000| Eval Time: 7.7233s\n",
      "Epoch 21| Loss: 0.4338| Acc: 0.0499| Train Time: 2.5302s\n",
      "Epoch 22| Loss: 0.4035| Acc: 0.0506| Train Time: 2.2246s\n",
      "Epoch 23| Loss: 0.3231| Acc: 0.0502| Train Time: 2.2132s\n",
      "Epoch 24| Loss: 0.3663| Acc: 0.0495| Train Time: 2.3019s\n",
      "Epoch 25| Loss: 0.3214| Acc: 0.0502| Train Time: 2.8643s\n",
      "Epoch 26| Loss: 0.2762| Acc: 0.0502| Train Time: 3.0620s\n",
      "Epoch 27| Loss: 0.2253| Acc: 0.0513| Train Time: 2.4842s\n",
      "Epoch 28| Loss: 0.2500| Acc: 0.0506| Train Time: 2.5957s\n",
      "Epoch 29| Loss: 0.2549| Acc: 0.0506| Train Time: 2.3242s\n",
      "Epoch 30| Loss: 0.2726| Acc: 0.0499| Train Time: 2.4755s\n"
     ]
    },
    {
     "output_type": "stream",
     "name": "stderr",
     "text": [
      "Evaluating: 100%|██████████| 8124/8124 [00:09<00:00, 893.98it/s] \n"
     ]
    },
    {
     "output_type": "stream",
     "name": "stdout",
     "text": [
      "Train: 0.9786| Val: 0.7740| Test: 0.7900| Eval Time: 9.0914s\n",
      "Epoch 31| Loss: 0.1902| Acc: 0.0510| Train Time: 3.2634s\n",
      "Epoch 32| Loss: 0.1613| Acc: 0.0513| Train Time: 2.6885s\n",
      "Epoch 33| Loss: 0.1566| Acc: 0.0506| Train Time: 4.0230s\n",
      "Epoch 34| Loss: 0.1462| Acc: 0.0513| Train Time: 3.7950s\n",
      "Epoch 35| Loss: 0.1848| Acc: 0.0510| Train Time: 4.2330s\n",
      "Epoch 36| Loss: 0.1352| Acc: 0.0513| Train Time: 2.9030s\n",
      "Epoch 37| Loss: 0.1455| Acc: 0.0510| Train Time: 2.6740s\n",
      "Epoch 38| Loss: 0.1146| Acc: 0.0513| Train Time: 2.4390s\n",
      "Epoch 39| Loss: 0.1037| Acc: 0.0510| Train Time: 2.5015s\n",
      "Epoch 40| Loss: 0.1230| Acc: 0.0513| Train Time: 2.3563s\n"
     ]
    },
    {
     "output_type": "stream",
     "name": "stderr",
     "text": [
      "Evaluating: 100%|██████████| 8124/8124 [00:07<00:00, 1071.62it/s]\n"
     ]
    },
    {
     "output_type": "stream",
     "name": "stdout",
     "text": [
      "Train: 0.9929| Val: 0.7760| Test: 0.7930| Eval Time: 7.5851s\n",
      "Epoch 41| Loss: 0.1139| Acc: 0.0513| Train Time: 2.4358s\n",
      "Epoch 42| Loss: 0.0945| Acc: 0.0513| Train Time: 2.3041s\n",
      "Epoch 43| Loss: 0.1127| Acc: 0.0513| Train Time: 3.0976s\n",
      "Epoch 44| Loss: 0.0964| Acc: 0.0517| Train Time: 2.4027s\n",
      "Epoch 45| Loss: 0.1174| Acc: 0.0517| Train Time: 2.7307s\n",
      "Epoch 46| Loss: 0.0900| Acc: 0.0510| Train Time: 2.4466s\n",
      "Epoch 47| Loss: 0.0806| Acc: 0.0513| Train Time: 2.2718s\n",
      "Epoch 48| Loss: 0.0689| Acc: 0.0517| Train Time: 2.3145s\n",
      "Epoch 49| Loss: 0.0851| Acc: 0.0510| Train Time: 2.5110s\n",
      "Epoch 50| Loss: 0.0883| Acc: 0.0513| Train Time: 2.3199s\n"
     ]
    },
    {
     "output_type": "stream",
     "name": "stderr",
     "text": [
      "Evaluating: 100%|██████████| 8124/8124 [00:07<00:00, 1134.65it/s]\n"
     ]
    },
    {
     "output_type": "stream",
     "name": "stdout",
     "text": [
      "Train: 0.9929| Val: 0.7720| Test: 0.7860| Eval Time: 7.1639s\n",
      "Epoch 51| Loss: 0.0452| Acc: 0.0517| Train Time: 2.2621s\n",
      "Epoch 52| Loss: 0.0803| Acc: 0.0517| Train Time: 2.2552s\n",
      "Epoch 53| Loss: 0.0519| Acc: 0.0517| Train Time: 3.1881s\n",
      "Epoch 54| Loss: 0.0615| Acc: 0.0517| Train Time: 3.6870s\n",
      "Epoch 55| Loss: 0.0587| Acc: 0.0517| Train Time: 2.8412s\n",
      "Epoch 56| Loss: 0.0631| Acc: 0.0513| Train Time: 2.7303s\n",
      "Epoch 57| Loss: 0.0508| Acc: 0.0517| Train Time: 3.2483s\n",
      "Epoch 58| Loss: 0.0736| Acc: 0.0513| Train Time: 2.5251s\n",
      "Epoch 59| Loss: 0.0726| Acc: 0.0513| Train Time: 3.5388s\n",
      "Epoch 60| Loss: 0.0495| Acc: 0.0517| Train Time: 2.7057s\n"
     ]
    },
    {
     "output_type": "stream",
     "name": "stderr",
     "text": [
      "Evaluating: 100%|██████████| 8124/8124 [00:08<00:00, 918.34it/s]\n"
     ]
    },
    {
     "output_type": "stream",
     "name": "stdout",
     "text": [
      "Train: 0.9929| Val: 0.7740| Test: 0.7840| Eval Time: 8.8513s\n",
      "Epoch 61| Loss: 0.0641| Acc: 0.0517| Train Time: 2.6360s\n",
      "Epoch 62| Loss: 0.0654| Acc: 0.0517| Train Time: 2.5392s\n",
      "Epoch 63| Loss: 0.0280| Acc: 0.0517| Train Time: 2.5542s\n",
      "Epoch 64| Loss: 0.0409| Acc: 0.0513| Train Time: 2.5478s\n",
      "Epoch 65| Loss: 0.0403| Acc: 0.0517| Train Time: 3.2255s\n",
      "Epoch 66| Loss: 0.0457| Acc: 0.0517| Train Time: 2.5688s\n",
      "Epoch 67| Loss: 0.0207| Acc: 0.0517| Train Time: 2.4004s\n",
      "Epoch 68| Loss: 0.0491| Acc: 0.0517| Train Time: 2.2518s\n",
      "Epoch 69| Loss: 0.0312| Acc: 0.0517| Train Time: 2.2016s\n",
      "Epoch 70| Loss: 0.0304| Acc: 0.0513| Train Time: 2.3372s\n"
     ]
    },
    {
     "output_type": "stream",
     "name": "stderr",
     "text": [
      "Evaluating: 100%|██████████| 8124/8124 [00:08<00:00, 976.73it/s]\n"
     ]
    },
    {
     "output_type": "stream",
     "name": "stdout",
     "text": [
      "Train: 0.9929| Val: 0.7740| Test: 0.7820| Eval Time: 8.3256s\n",
      "Epoch 71| Loss: 0.0376| Acc: 0.0517| Train Time: 2.7586s\n",
      "Epoch 72| Loss: 0.0213| Acc: 0.0517| Train Time: 2.7666s\n",
      "Epoch 73| Loss: 0.0120| Acc: 0.0517| Train Time: 2.3503s\n"
     ]
    }
   ],
   "metadata": {}
  }
 ],
 "metadata": {
  "orig_nbformat": 4,
  "kernelspec": {
   "name": "python3",
   "display_name": "Python 3.8.10 64-bit ('PS': conda)"
  },
  "interpreter": {
   "hash": "1322c26f02ebbf0700fad666a69e487b987002dd3640f1a2df48e494c6ae2c9b"
  },
  "language_info": {
   "name": "python",
   "version": "3.8.10",
   "mimetype": "text/x-python",
   "codemirror_mode": {
    "name": "ipython",
    "version": 3
   },
   "pygments_lexer": "ipython3",
   "nbconvert_exporter": "python",
   "file_extension": ".py"
  }
 },
 "nbformat": 4,
 "nbformat_minor": 2
}