{
 "cells": [
  {
   "cell_type": "code",
   "execution_count": 1,
   "source": [
    "from utils.experimentor import *\n",
    "from utils.constants import *\n",
    "import torch\n"
   ],
   "outputs": [],
   "metadata": {}
  },
  {
   "cell_type": "code",
   "execution_count": 2,
   "source": [
    "config = {\n",
    "    \"dataset_name\": Dataset.OGBN_ARXIV,\n",
    "    \"model_type\": ModelType.GATV1,\n",
    "    'num_of_epochs': 10000,\n",
    "    'num_of_runs': 10000,\n",
    "    'patience_period': 1,\n",
    "    \n",
    "    #'should_visualize': False,\n",
    "    'batch_size': 8,\n",
    "    'test_batch_size': 8,\n",
    "    'num_workers': 0,\n",
    "    'force_cpu': False,\n",
    "    'test_frequency': 5,\n",
    "    'console_log_freq': 1,\n",
    "    'do_train_tqdm_logging': True,\n",
    "    \n",
    "    'lr': 0.01,\n",
    "    'num_of_layers': 3, \n",
    "    'num_heads': 1,\n",
    "    'hidden_size': 32,\n",
    "    'dropout': 0.25,  \n",
    "    \"use_layer_norm\": True,\n",
    "    \n",
    "    'nbor_degree': 2,\n",
    "    'adj_mode': AdjacencyMode.OneStep\n",
    "}"
   ],
   "outputs": [],
   "metadata": {}
  },
  {
   "cell_type": "code",
   "execution_count": 3,
   "source": [
    "# import torch\r\n",
    "# from torch_geometric.utils import to_dense_adj\r\n",
    "\r\n",
    "# edge_index = torch.tensor([[0,0,1,1,2,2],[1,2,3,4,4,5]], dtype=torch.long)  # 2 x E\r\n",
    "# x = torch.tensor([[1], [1], [1], [1], [1], [1]], dtype=torch.float)  # N x emb(in)\r\n",
    "# print(edge_index)\r\n",
    "\r\n",
    "# def adj_times_x(adj, x):\r\n",
    "#     return torch.linalg.matrix_power(adj, x)\r\n",
    "\r\n",
    "# def one_step(edge_index, x):\r\n",
    "#     edge_weight = torch.ones(edge_index.size(1))\r\n",
    "#     if x>1: \r\n",
    "#         adj = to_dense_adj(edge_index)[0]\r\n",
    "#         for k in range(2,x+1):\r\n",
    "#             adj_k = (adj_times_x(adj, k)>0)*1 - adj\r\n",
    "            \r\n",
    "#             edge_index_k = (adj_k > 0).nonzero().t()\r\n",
    "#             edge_weight_k = 1/k * torch.ones(edge_index_k.size(1))\r\n",
    "#             edge_index = torch.cat((edge_index, edge_index_k), dim=1)\r\n",
    "#             edge_weight = torch.cat((edge_weight, edge_weight_k), dim=0)\r\n",
    "            \r\n",
    "#     return edge_index, edge_weight\r\n",
    "    \r\n",
    "# hop2, w2 = one_step(edge_index, 2)\r\n",
    "# print(hop2)\r\n",
    "# print(w2)"
   ],
   "outputs": [],
   "metadata": {}
  },
  {
   "cell_type": "code",
   "execution_count": 4,
   "source": [
    "experimentor = Experimentor(config)\r\n",
    "experimentor.run()"
   ],
   "outputs": [
    {
     "output_type": "stream",
     "name": "stdout",
     "text": [
      "torch.cuda is available: True\n",
      "Used Dataset: Dataset.OGBN_ARXIV\n",
      "\n",
      "Run 01:\n",
      "\n",
      "Epoch 01:  19%|█▊        | 16856/90941 [00:43<02:20, 528.72it/s]"
     ]
    }
   ],
   "metadata": {
    "tags": []
   }
  }
 ],
 "metadata": {
  "orig_nbformat": 4,
  "language_info": {
   "name": "python",
   "version": "3.8.10",
   "mimetype": "text/x-python",
   "codemirror_mode": {
    "name": "ipython",
    "version": 3
   },
   "pygments_lexer": "ipython3",
   "nbconvert_exporter": "python",
   "file_extension": ".py"
  },
  "kernelspec": {
   "name": "python3",
   "display_name": "Python 3.8.10 64-bit ('PS': conda)"
  },
  "interpreter": {
   "hash": "1322c26f02ebbf0700fad666a69e487b987002dd3640f1a2df48e494c6ae2c9b"
  }
 },
 "nbformat": 4,
 "nbformat_minor": 2
}