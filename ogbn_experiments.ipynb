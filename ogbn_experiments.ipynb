{
 "cells": [
  {
   "cell_type": "code",
   "execution_count": 1,
   "source": [
    "import torch\r\n",
    "from utils.experimentorUtils import getExperimentor\r\n",
    "from utils.constants import *"
   ],
   "outputs": [],
   "metadata": {}
  },
  {
   "cell_type": "code",
   "execution_count": 2,
   "source": [
    "config = {\r\n",
    "    \"dataset_name\": Dataset.OGBN_PRODUCTS,\r\n",
    "    \"model_type\": ModelType.GATV1,\r\n",
    "    'num_of_epochs': 500,\r\n",
    "    'num_of_runs': 1,\r\n",
    "    'patience_period': 100,\r\n",
    "    \r\n",
    "    'batch_size': 32,\r\n",
    "    'test_batch_size': 32,\r\n",
    "    'num_workers': 1,\r\n",
    "    'force_cpu': False,\r\n",
    "    'test_frequency': 5,\r\n",
    "    'console_log_freq': 1,\r\n",
    "    'do_train_tqdm_logging': False,\r\n",
    "    \r\n",
    "    'lr': 0.005,\r\n",
    "    'num_of_layers': 2, \r\n",
    "    'num_heads': 1,\r\n",
    "    'hidden_size': 128,\r\n",
    "    'dropout': 0.6,  \r\n",
    "    \"use_layer_norm\": False,\r\n",
    "    \"use_batch_norm\": False,\r\n",
    "    \r\n",
    "    'nbor_degree': 1,\r\n",
    "    'adj_mode': AdjacencyMode.OneStep,\r\n",
    "    'sparse': True\r\n",
    "}"
   ],
   "outputs": [],
   "metadata": {}
  },
  {
   "cell_type": "code",
   "execution_count": 3,
   "source": [
    "experimentor = getExperimentor(config[\"dataset_name\"])(config)\r\n",
    "experimentor.run_wrapper()"
   ],
   "outputs": [
    {
     "output_type": "stream",
     "name": "stdout",
     "text": [
      "Run 01:\n"
     ]
    },
    {
     "output_type": "stream",
     "name": "stderr",
     "text": [
      "Epoch 01: 100%|██████████| 2708/2708 [00:15<00:00, 169.33it/s] \n"
     ]
    },
    {
     "output_type": "stream",
     "name": "stdout",
     "text": [
      "Epoch 01| Loss: 0.8022| Acc: 0.7589| Train Time: 15.9950s\n",
      "Epoch 02| Loss: 0.4146| Acc: 0.8781| Train Time: 2.7752s\n",
      "Epoch 03| Loss: 0.3073| Acc: 0.9095| Train Time: 2.7940s\n",
      "Epoch 04| Loss: 0.2494| Acc: 0.9254| Train Time: 2.8482s\n",
      "Epoch 05| Loss: 0.1833| Acc: 0.9428| Train Time: 2.8192s\n"
     ]
    },
    {
     "output_type": "stream",
     "name": "stderr",
     "text": [
      "Evaluating: 100%|██████████| 5416/5416 [00:10<00:00, 519.83it/s] \n"
     ]
    },
    {
     "output_type": "stream",
     "name": "stdout",
     "text": [
      "Train: 1.0000| Val: 0.9980| Test: 0.9860| Eval Time: 10.4228s\n",
      "Epoch 06| Loss: 0.1791| Acc: 0.9461| Train Time: 2.8856s\n",
      "Epoch 07| Loss: 0.1602| Acc: 0.9546| Train Time: 2.9525s\n",
      "Epoch 08| Loss: 0.1302| Acc: 0.9590| Train Time: 3.1482s\n",
      "Epoch 09| Loss: 0.1305| Acc: 0.9594| Train Time: 2.7659s\n",
      "Epoch 10| Loss: 0.1519| Acc: 0.9601| Train Time: 3.0098s\n"
     ]
    },
    {
     "output_type": "stream",
     "name": "stderr",
     "text": [
      "Evaluating: 100%|██████████| 5416/5416 [00:04<00:00, 1207.49it/s]\n"
     ]
    },
    {
     "output_type": "stream",
     "name": "stdout",
     "text": [
      "Train: 1.0000| Val: 1.0000| Test: 0.9990| Eval Time: 4.4893s\n",
      "Epoch 11| Loss: 0.1343| Acc: 0.9594| Train Time: 2.7555s\n",
      "Epoch 12| Loss: 0.1365| Acc: 0.9590| Train Time: 2.8568s\n",
      "Epoch 13| Loss: 0.1104| Acc: 0.9664| Train Time: 2.6804s\n",
      "Epoch 14| Loss: 0.1589| Acc: 0.9601| Train Time: 2.7349s\n",
      "Epoch 15| Loss: 0.1194| Acc: 0.9642| Train Time: 2.7076s\n"
     ]
    },
    {
     "output_type": "stream",
     "name": "stderr",
     "text": [
      "Evaluating: 100%|██████████| 5416/5416 [00:04<00:00, 1186.51it/s]\n"
     ]
    },
    {
     "output_type": "stream",
     "name": "stdout",
     "text": [
      "Train: 1.0000| Val: 1.0000| Test: 0.9950| Eval Time: 4.5696s\n",
      "Epoch 16| Loss: 0.1186| Acc: 0.9694| Train Time: 2.9091s\n",
      "Epoch 17| Loss: 0.0905| Acc: 0.9686| Train Time: 2.7207s\n",
      "Epoch 18| Loss: 0.1267| Acc: 0.9671| Train Time: 3.0908s\n",
      "Epoch 19| Loss: 0.1085| Acc: 0.9727| Train Time: 2.8720s\n",
      "Epoch 20| Loss: 0.0959| Acc: 0.9749| Train Time: 2.7672s\n"
     ]
    },
    {
     "output_type": "stream",
     "name": "stderr",
     "text": [
      "Evaluating: 100%|██████████| 5416/5416 [00:04<00:00, 1304.48it/s]\n"
     ]
    },
    {
     "output_type": "stream",
     "name": "stdout",
     "text": [
      "Train: 1.0000| Val: 0.9980| Test: 1.0000| Eval Time: 4.1559s\n",
      "Epoch 21| Loss: 0.0781| Acc: 0.9764| Train Time: 2.9335s\n",
      "Epoch 22| Loss: 0.1008| Acc: 0.9734| Train Time: 2.8448s\n",
      "Epoch 23| Loss: 0.0799| Acc: 0.9742| Train Time: 2.9465s\n",
      "Epoch 24| Loss: 0.1399| Acc: 0.9727| Train Time: 2.8915s\n",
      "Epoch 25| Loss: 0.1123| Acc: 0.9719| Train Time: 3.1619s\n"
     ]
    },
    {
     "output_type": "stream",
     "name": "stderr",
     "text": [
      "Evaluating: 100%|██████████| 5416/5416 [00:04<00:00, 1248.14it/s]\n"
     ]
    },
    {
     "output_type": "stream",
     "name": "stdout",
     "text": [
      "Train: 1.0000| Val: 1.0000| Test: 0.9980| Eval Time: 4.3453s\n",
      "Epoch 26| Loss: 0.1005| Acc: 0.9767| Train Time: 2.7890s\n",
      "Epoch 27| Loss: 0.0949| Acc: 0.9775| Train Time: 2.7777s\n",
      "Epoch 28| Loss: 0.0866| Acc: 0.9775| Train Time: 2.7850s\n",
      "Epoch 29| Loss: 0.0912| Acc: 0.9782| Train Time: 2.7301s\n",
      "Epoch 30| Loss: 0.0616| Acc: 0.9826| Train Time: 2.7178s\n"
     ]
    },
    {
     "output_type": "stream",
     "name": "stderr",
     "text": [
      "Evaluating: 100%|██████████| 5416/5416 [00:04<00:00, 1236.58it/s]\n"
     ]
    },
    {
     "output_type": "stream",
     "name": "stdout",
     "text": [
      "Train: 1.0000| Val: 1.0000| Test: 1.0000| Eval Time: 4.3848s\n",
      "Epoch 31| Loss: 0.0555| Acc: 0.9830| Train Time: 2.7621s\n",
      "Epoch 32| Loss: 0.0553| Acc: 0.9845| Train Time: 2.7177s\n",
      "Epoch 33| Loss: 0.0526| Acc: 0.9819| Train Time: 2.7175s\n",
      "Epoch 34| Loss: 0.0708| Acc: 0.9812| Train Time: 2.7862s\n",
      "Epoch 35| Loss: 0.0712| Acc: 0.9830| Train Time: 2.7500s\n"
     ]
    },
    {
     "output_type": "stream",
     "name": "stderr",
     "text": [
      "Evaluating: 100%|██████████| 5416/5416 [00:04<00:00, 1205.21it/s]\n"
     ]
    },
    {
     "output_type": "stream",
     "name": "stdout",
     "text": [
      "Train: 1.0000| Val: 1.0000| Test: 0.9980| Eval Time: 4.4988s\n",
      "Epoch 36| Loss: 0.0973| Acc: 0.9708| Train Time: 2.7637s\n",
      "Epoch 37| Loss: 0.0935| Acc: 0.9790| Train Time: 2.8290s\n",
      "Epoch 38| Loss: 0.1036| Acc: 0.9790| Train Time: 2.7001s\n",
      "Epoch 39| Loss: 0.0865| Acc: 0.9808| Train Time: 2.7078s\n",
      "Epoch 40| Loss: 0.0633| Acc: 0.9804| Train Time: 2.8308s\n"
     ]
    },
    {
     "output_type": "stream",
     "name": "stderr",
     "text": [
      "Evaluating: 100%|██████████| 5416/5416 [00:04<00:00, 1245.73it/s]\n"
     ]
    },
    {
     "output_type": "stream",
     "name": "stdout",
     "text": [
      "Train: 1.0000| Val: 1.0000| Test: 1.0000| Eval Time: 4.3526s\n",
      "Epoch 41| Loss: 0.0849| Acc: 0.9782| Train Time: 2.8101s\n",
      "Epoch 42| Loss: 0.0854| Acc: 0.9793| Train Time: 2.7097s\n",
      "Epoch 43| Loss: 0.1061| Acc: 0.9749| Train Time: 3.0351s\n",
      "Epoch 44| Loss: 0.0693| Acc: 0.9804| Train Time: 2.7681s\n",
      "Epoch 45| Loss: 0.1016| Acc: 0.9812| Train Time: 2.7370s\n"
     ]
    },
    {
     "output_type": "stream",
     "name": "stderr",
     "text": [
      "Evaluating: 100%|██████████| 5416/5416 [00:04<00:00, 1231.46it/s]\n"
     ]
    },
    {
     "output_type": "stream",
     "name": "stdout",
     "text": [
      "Train: 1.0000| Val: 1.0000| Test: 1.0000| Eval Time: 4.4030s\n",
      "Epoch 46| Loss: 0.0777| Acc: 0.9812| Train Time: 2.9331s\n",
      "Epoch 47| Loss: 0.1015| Acc: 0.9815| Train Time: 2.8725s\n",
      "Epoch 48| Loss: 0.1113| Acc: 0.9786| Train Time: 2.8298s\n",
      "Epoch 49| Loss: 0.0749| Acc: 0.9834| Train Time: 2.7754s\n",
      "Epoch 50| Loss: 0.1000| Acc: 0.9775| Train Time: 3.1918s\n"
     ]
    },
    {
     "output_type": "stream",
     "name": "stderr",
     "text": [
      "Evaluating: 100%|██████████| 5416/5416 [00:04<00:00, 1112.68it/s]\n"
     ]
    },
    {
     "output_type": "stream",
     "name": "stdout",
     "text": [
      "Train: 1.0000| Val: 1.0000| Test: 1.0000| Eval Time: 4.8735s\n"
     ]
    }
   ],
   "metadata": {}
  }
 ],
 "metadata": {
  "orig_nbformat": 4,
  "kernelspec": {
   "name": "python3",
   "display_name": "Python 3.8.10 64-bit ('PS': conda)"
  },
  "interpreter": {
   "hash": "1322c26f02ebbf0700fad666a69e487b987002dd3640f1a2df48e494c6ae2c9b"
  },
  "language_info": {
   "name": "python",
   "version": "3.8.10",
   "mimetype": "text/x-python",
   "codemirror_mode": {
    "name": "ipython",
    "version": 3
   },
   "pygments_lexer": "ipython3",
   "nbconvert_exporter": "python",
   "file_extension": ".py"
  }
 },
 "nbformat": 4,
 "nbformat_minor": 2
}