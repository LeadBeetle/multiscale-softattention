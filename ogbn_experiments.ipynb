{
 "cells": [
  {
   "cell_type": "code",
   "execution_count": 1,
   "source": [
    "from utils.experimentor import *\r\n",
    "from utils.constants import *  "
   ],
   "outputs": [],
   "metadata": {}
  },
  {
   "cell_type": "code",
   "execution_count": 2,
   "source": [
    "config = {\r\n",
    "    \"dataset_name\": Dataset.OGBN_ARXIV,\r\n",
    "    'num_of_epochs': 2,\r\n",
    "    'num_of_runs': 2,\r\n",
    "    'patience_period': 100,\r\n",
    "    \r\n",
    "    #'should_visualize': False,\r\n",
    "    'batch_size': 512,\r\n",
    "    'test_batch_size': 1024,\r\n",
    "    'num_workers': 6,\r\n",
    "    'force_cpu': False,\r\n",
    "    'test_frequency': 10,\r\n",
    "    #'console_log_freq': 10,\r\n",
    "    \r\n",
    "    'lr': 0.0001,\r\n",
    "    'num_of_layers': 3,  # PPI has got 42% of nodes with all 0 features - that's why 3 layers are useful\r\n",
    "    'num_heads': 4,\r\n",
    "    'hidden_size': 128,\r\n",
    "    #'num_heads_per_layer': [4, 4, 6],  # other values may give even better results from the reported ones\r\n",
    "    #'num_features_per_layer': [PPI_NUM_INPUT_FEATURES, 256, 256, PPI_NUM_CLASSES],  # 64 would also give ~0.975 uF1!\r\n",
    "    #'add_skip_connection': True,  # skip connection is very important! (keep it otherwise micro-F1 is almost 0)\r\n",
    "    #'bias': True,  # bias doesn't matter that much\r\n",
    "    #'dropout': 0.0,  # dropout hurts the performance (best to keep it at 0)\r\n",
    "    \r\n",
    "    #'neighbourhood_degree': 2,\r\n",
    "    #'adjacency_mode': AdjacencyMode.OneStep\r\n",
    "}\r\n"
   ],
   "outputs": [],
   "metadata": {}
  },
  {
   "cell_type": "code",
   "execution_count": 3,
   "source": [
    "experimentor = Experimentor(config)\r\n",
    "experimentor.run()"
   ],
   "outputs": [
    {
     "output_type": "stream",
     "name": "stdout",
     "text": [
      "torch.cuda is available: True\n",
      "Dataset.OGBN_ARXIV\n",
      "\n",
      "Run 01:\n",
      "\n"
     ]
    },
    {
     "output_type": "stream",
     "name": "stderr",
     "text": [
      "Epoch 01: 100%|██████████| 90941/90941 [00:24<00:00, 3659.47it/s] \n"
     ]
    },
    {
     "output_type": "stream",
     "name": "stdout",
     "text": [
      "Epoch 01, Loss: 2.5479, Approx. Train: 0.3289\n"
     ]
    },
    {
     "output_type": "stream",
     "name": "stderr",
     "text": [
      "Evaluating: 100%|██████████| 508029/508029 [00:30<00:00, 16788.46it/s]\n"
     ]
    },
    {
     "output_type": "stream",
     "name": "stdout",
     "text": [
      "Train: 0.4804, Val: 0.4984, Test: 0.4558\n",
      "Val_Acc: 0.4984395449511729\n"
     ]
    },
    {
     "output_type": "stream",
     "name": "stderr",
     "text": [
      "Epoch 02: 100%|██████████| 90941/90941 [00:13<00:00, 6960.20it/s] \n"
     ]
    },
    {
     "output_type": "stream",
     "name": "stdout",
     "text": [
      "Epoch 02, Loss: 1.7964, Approx. Train: 0.5106\n"
     ]
    },
    {
     "output_type": "stream",
     "name": "stderr",
     "text": [
      "Evaluating: 100%|██████████| 508029/508029 [00:28<00:00, 17723.03it/s]\n"
     ]
    },
    {
     "output_type": "stream",
     "name": "stdout",
     "text": [
      "Train: 0.5542, Val: 0.5559, Test: 0.5012\n",
      "Val_Acc: 0.5558575791133931\n",
      "\n",
      "Run 02:\n",
      "\n"
     ]
    },
    {
     "output_type": "stream",
     "name": "stderr",
     "text": [
      "Epoch 01: 100%|██████████| 90941/90941 [00:13<00:00, 6791.00it/s] \n"
     ]
    },
    {
     "output_type": "stream",
     "name": "stdout",
     "text": [
      "Epoch 01, Loss: 2.5398, Approx. Train: 0.3331\n"
     ]
    },
    {
     "output_type": "stream",
     "name": "stderr",
     "text": [
      "Evaluating: 100%|██████████| 508029/508029 [00:25<00:00, 19649.53it/s]\n"
     ]
    },
    {
     "output_type": "stream",
     "name": "stdout",
     "text": [
      "Train: 0.4850, Val: 0.5065, Test: 0.4672\n",
      "Val_Acc: 0.5064935064935064\n"
     ]
    },
    {
     "output_type": "stream",
     "name": "stderr",
     "text": [
      "Epoch 02: 100%|██████████| 90941/90941 [00:13<00:00, 6774.40it/s] \n"
     ]
    },
    {
     "output_type": "stream",
     "name": "stdout",
     "text": [
      "Epoch 02, Loss: 1.7860, Approx. Train: 0.5137\n"
     ]
    },
    {
     "output_type": "stream",
     "name": "stderr",
     "text": [
      "Evaluating: 100%|██████████| 508029/508029 [00:28<00:00, 17736.46it/s]"
     ]
    },
    {
     "output_type": "stream",
     "name": "stdout",
     "text": [
      "Train: 0.5581, Val: 0.5579, Test: 0.5097\n",
      "Val_Acc: 0.5578710694989765\n",
      "[0.5012242042672262, 0.5097010472604572]\n",
      "============================\n",
      "Final Test: 0.5055 ± 0.0060\n"
     ]
    },
    {
     "output_type": "stream",
     "name": "stderr",
     "text": [
      "\n"
     ]
    }
   ],
   "metadata": {}
  }
 ],
 "metadata": {
  "orig_nbformat": 4,
  "language_info": {
   "name": "python"
  }
 },
 "nbformat": 4,
 "nbformat_minor": 2
}