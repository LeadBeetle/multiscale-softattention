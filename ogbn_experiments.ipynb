{
 "cells": [
  {
   "cell_type": "code",
   "execution_count": 30,
   "source": [
    "from utils.experimentor import *\r\n",
    "from utils.constants import *\r\n",
    "import torch\r\n"
   ],
   "outputs": [],
   "metadata": {}
  },
  {
   "cell_type": "code",
   "execution_count": 31,
   "source": [
    "config = {\r\n",
    "    \"dataset_name\": Dataset.OGBN_ARXIV,\r\n",
    "    \"model_type\": ModelType.GATV1,\r\n",
    "    'num_of_epochs': 2,\r\n",
    "    'num_of_runs': 1,\r\n",
    "    'patience_period': 1,\r\n",
    "    \r\n",
    "    #'should_visualize': False,\r\n",
    "    'batch_size': 20000,\r\n",
    "    'test_batch_size': 20000,\r\n",
    "    'num_workers': 0,\r\n",
    "    'force_cpu': False,\r\n",
    "    'test_frequency': 5,\r\n",
    "    'console_log_freq': 1,\r\n",
    "    'do_train_tqdm_logging': True,\r\n",
    "    \r\n",
    "    'lr': 0.01,\r\n",
    "    'num_of_layers': 2,  # PPI has got 42% of nodes with all 0 features - that's why 3 layers are useful\r\n",
    "    'num_heads': 1,\r\n",
    "    'hidden_size': 64,\r\n",
    "    'dropout': 0.5,  \r\n",
    "    \"use_layer_norm\": True,\r\n",
    "    \r\n",
    "    #'neighbourhood_degree': 2,\r\n",
    "    #'adjacency_mode': AdjacencyMode.OneStep\r\n",
    "}"
   ],
   "outputs": [],
   "metadata": {}
  },
  {
   "cell_type": "code",
   "execution_count": 35,
   "source": [
    "from torch_geometric.utils import to_dense_adj\r\n",
    "\r\n",
    "edge_index = torch.tensor([[0,0,1,1,2,2],[1,2,3,4,4,5]], dtype=torch.long)  # 2 x E\r\n",
    "x = torch.tensor([[1], [1], [1], [1], [1], [1]], dtype=torch.float)  # N x emb(in)\r\n",
    "print(edge_index)\r\n",
    "\r\n",
    "\r\n",
    "def edge_index_times_x(edge_index, x):\r\n",
    "    adj = to_dense_adj(edge_index)[0]\r\n",
    "    adj = torch.linalg.matrix_power(adj, x)\r\n",
    "    edge_index = (adj > 0).nonzero().t()\r\n",
    "    edge_weight = 1/x * torch.ones(edge_index.size(1))\r\n",
    "          \r\n",
    "    return edge_index, edge_weight\r\n",
    "    \r\n",
    "hop2, w2 = edge_index_times_x(edge_index, 2)\r\n",
    "hop3, w3 = edge_index_times_x(edge_index, 3)\r\n",
    "print(hop2)\r\n",
    "print(w2)\r\n",
    "print(hop3)\r\n",
    "print(w3) # correctly working"
   ],
   "outputs": [
    {
     "output_type": "stream",
     "name": "stdout",
     "text": [
      "tensor([[0, 0, 1, 1, 2, 2],\n",
      "        [1, 2, 3, 4, 4, 5]])\n",
      "tensor([[0, 0, 0],\n",
      "        [3, 4, 5]])\n",
      "tensor([0.5000, 0.5000, 0.5000])\n",
      "tensor([], size=(2, 0), dtype=torch.int64)\n",
      "tensor([])\n"
     ]
    }
   ],
   "metadata": {}
  },
  {
   "cell_type": "code",
   "execution_count": 33,
   "source": [
    "##experimentor = Experimentor(config)\r\n",
    "#experimentor.run()"
   ],
   "outputs": [],
   "metadata": {}
  }
 ],
 "metadata": {
  "orig_nbformat": 4,
  "language_info": {
   "name": "python",
   "version": "3.8.10",
   "mimetype": "text/x-python",
   "codemirror_mode": {
    "name": "ipython",
    "version": 3
   },
   "pygments_lexer": "ipython3",
   "nbconvert_exporter": "python",
   "file_extension": ".py"
  },
  "kernelspec": {
   "name": "python3",
   "display_name": "Python 3.8.10 64-bit ('PS': conda)"
  },
  "interpreter": {
   "hash": "1322c26f02ebbf0700fad666a69e487b987002dd3640f1a2df48e494c6ae2c9b"
  }
 },
 "nbformat": 4,
 "nbformat_minor": 2
}