{
 "cells": [
  {
   "cell_type": "code",
   "execution_count": 1,
   "source": [
    "from utils.experimentor import *\n",
    "from utils.constants import *\n"
   ],
   "outputs": [],
   "metadata": {}
  },
  {
   "cell_type": "code",
   "execution_count": 2,
   "source": [
    "config = {\n",
    "    \"dataset_name\": Dataset.OGBN_ARXIV,\n",
    "    \"model_type\": ModelType.GATV1,\n",
    "    'num_of_epochs': 10000,\n",
    "    'num_of_runs': 10000,\n",
    "    'patience_period': 1,\n",
    "    \n",
    "    #'should_visualize': False,\n",
    "    'batch_size': 32,\n",
    "    'test_batch_size': 32,\n",
    "    'num_workers': 0,\n",
    "    'force_cpu': False,\n",
    "    'test_frequency': 5,\n",
    "    'console_log_freq': 1,\n",
    "    'do_train_tqdm_logging': True,\n",
    "    \n",
    "    'lr': 0.01,\n",
    "    'num_of_layers': 2, \n",
    "    'num_heads': 1,\n",
    "    'hidden_size': 256,\n",
    "    'dropout': 0.25,  \n",
    "    \"use_layer_norm\": True,\n",
    "    \n",
    "    'nbor_degree': 2,\n",
    "    'adj_mode': AdjacencyMode.OneStep,\n",
    "    'sparse': False\n",
    "}"
   ],
   "outputs": [],
   "metadata": {}
  },
  {
   "cell_type": "code",
   "execution_count": 3,
   "source": [
    "experimentor = Experimentor(config)\n",
    "experimentor.run()"
   ],
   "outputs": [
    {
     "output_type": "stream",
     "name": "stdout",
     "text": [
      "torch.cuda is available: True\n",
      "Used Dataset: Dataset.OGBN_ARXIV\n",
      "\n",
      "Run 01:\n",
      "\n",
      "Epoch 01:   0%|          | 32/90941 [00:00<22:24, 67.61it/s]torch.Size([540, 1]) torch.Size([140, 1])\n",
      "torch.Size([140, 1]) torch.Size([32, 1])\n",
      "torch.Size([333, 1]) torch.Size([125, 1])\n",
      "torch.Size([125, 1]) torch.Size([32, 1])\n",
      "Epoch 01:   0%|          | 64/90941 [00:01<45:49, 33.05it/s]torch.Size([356, 1]) torch.Size([122, 1])\n",
      "torch.Size([122, 1]) torch.Size([32, 1])\n",
      "Epoch 01:   0%|          | 96/90941 [00:03<52:38, 28.77it/s]torch.Size([447, 1]) torch.Size([138, 1])\n",
      "torch.Size([138, 1]) torch.Size([32, 1])\n",
      "Epoch 01:   0%|          | 128/90941 [00:04<56:03, 27.00it/s]torch.Size([374, 1]) torch.Size([136, 1])\n",
      "torch.Size([136, 1]) torch.Size([32, 1])\n",
      "Epoch 01:   0%|          | 160/90941 [00:05<58:16, 25.97it/s]torch.Size([339, 1]) torch.Size([120, 1])\n",
      "torch.Size([120, 1]) torch.Size([32, 1])\n"
     ]
    }
   ],
   "metadata": {
    "tags": []
   }
  }
 ],
 "metadata": {
  "orig_nbformat": 4,
  "language_info": {
   "name": "python",
   "version": "3.8.10",
   "mimetype": "text/x-python",
   "codemirror_mode": {
    "name": "ipython",
    "version": 3
   },
   "pygments_lexer": "ipython3",
   "nbconvert_exporter": "python",
   "file_extension": ".py"
  },
  "kernelspec": {
   "name": "python3",
   "display_name": "Python 3.8.10 64-bit ('PS': conda)"
  },
  "interpreter": {
   "hash": "1322c26f02ebbf0700fad666a69e487b987002dd3640f1a2df48e494c6ae2c9b"
  }
 },
 "nbformat": 4,
 "nbformat_minor": 2
}