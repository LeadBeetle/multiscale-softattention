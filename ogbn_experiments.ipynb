{
 "cells": [
  {
   "cell_type": "code",
   "execution_count": 1,
   "source": [
    "from utils.experimentor_base import *\r\n",
    "from utils.experimentor_proteins import * \r\n",
    "from utils.constants import *"
   ],
   "outputs": [],
   "metadata": {}
  },
  {
   "cell_type": "code",
   "execution_count": 2,
   "source": [
    "config = {\r\n",
    "    \"dataset_name\": Dataset.OGBN_PRODUCTS,\r\n",
    "    \"model_type\": ModelType.GATV1,\r\n",
    "    'num_of_epochs': 500,\r\n",
    "    'num_of_runs': 1,\r\n",
    "    'patience_period': 100,\r\n",
    "    \r\n",
    "    'batch_size': 256,\r\n",
    "    'test_batch_size': 256,\r\n",
    "    'num_workers': 2,\r\n",
    "    'force_cpu': False,\r\n",
    "    'test_frequency': 1,\r\n",
    "    'console_log_freq': 1,\r\n",
    "    'do_train_tqdm_logging': False,\r\n",
    "    \r\n",
    "    'lr': 0.001,\r\n",
    "    'num_of_layers': 3, \r\n",
    "    'num_heads': 1,\r\n",
    "    'hidden_size': 128,\r\n",
    "    'dropout': 0.5,  \r\n",
    "    \"use_layer_norm\": False,\r\n",
    "    \"use_batch_norm\": False,\r\n",
    "    \r\n",
    "    'nbor_degree': 2,\r\n",
    "    'adj_mode': AdjacencyMode.OneStep,\r\n",
    "    'sparse': True\r\n",
    "}"
   ],
   "outputs": [],
   "metadata": {}
  },
  {
   "cell_type": "code",
   "execution_count": 3,
   "source": [
    "exp = Experimentor_Proteins if config[\"dataset_name\"] == Dataset.OGBN_PROTEINS else Experimentor\r\n",
    "experimentor = exp(config)\r\n",
    "experimentor.run_wrapper()"
   ],
   "outputs": [
    {
     "output_type": "stream",
     "name": "stdout",
     "text": [
      "Run 01:\n"
     ]
    },
    {
     "output_type": "stream",
     "name": "stderr",
     "text": [
      "Epoch 01:   2%|▏         | 3072/196615 [00:45<10:22, 311.16it/s]"
     ]
    },
    {
     "output_type": "stream",
     "name": "stdout",
     "text": [
      "Printing only the traceback above the current stack frame\n",
      "Traceback (most recent call last):\n",
      "  File \"c:\\Users\\doria\\Desktop\\ProseminarMA\\multiscale-softattention\\utils\\experimentor_base.py\", line 219, in run_wrapper\n",
      "    self.run()\n",
      "  File \"c:\\Users\\doria\\Desktop\\ProseminarMA\\multiscale-softattention\\utils\\experimentor_base.py\", line 166, in run\n",
      "    loss, acc, train_time = self.train(epoch)\n",
      "  File \"c:\\Users\\doria\\Desktop\\ProseminarMA\\multiscale-softattention\\utils\\experimentor_base.py\", line 97, in train\n",
      "    for batch_size, n_id, adjs in self.train_loader:\n",
      "  File \"C:\\Users\\doria\\anaconda3\\envs\\PS\\lib\\site-packages\\torch\\utils\\data\\dataloader.py\", line 521, in __next__\n",
      "    data = self._next_data()\n",
      "  File \"C:\\Users\\doria\\anaconda3\\envs\\PS\\lib\\site-packages\\torch\\utils\\data\\dataloader.py\", line 1203, in _next_data\n",
      "    return self._process_data(data)\n",
      "  File \"C:\\Users\\doria\\anaconda3\\envs\\PS\\lib\\site-packages\\torch\\utils\\data\\dataloader.py\", line 1229, in _process_data\n",
      "    data.reraise()\n",
      "  File \"C:\\Users\\doria\\anaconda3\\envs\\PS\\lib\\site-packages\\torch\\_utils.py\", line 425, in reraise\n",
      "    raise self.exc_type(msg)\n",
      "MemoryError: Caught MemoryError in DataLoader worker process 0.\n",
      "Original Traceback (most recent call last):\n",
      "  File \"C:\\Users\\doria\\anaconda3\\envs\\PS\\lib\\site-packages\\torch\\utils\\data\\_utils\\worker.py\", line 287, in _worker_loop\n",
      "    data = fetcher.fetch(index)\n",
      "  File \"C:\\Users\\doria\\anaconda3\\envs\\PS\\lib\\site-packages\\torch\\utils\\data\\_utils\\fetch.py\", line 47, in fetch\n",
      "    return self.collate_fn(data)\n",
      "  File \"C:\\Users\\doria\\anaconda3\\envs\\PS\\lib\\site-packages\\torch_geometric\\data\\sampler.py\", line 170, in sample\n",
      "    adj_t, n_id = self.adj_t.sample_adj(n_id, size, replace=False)\n",
      "  File \"C:\\Users\\doria\\anaconda3\\envs\\PS\\lib\\site-packages\\torch_sparse\\sample.py\", line 30, in sample_adj\n",
      "    rowptr, col, n_id, e_id = torch.ops.torch_sparse.sample_adj(\n",
      "MemoryError: bad allocation\n",
      "\n",
      "\n",
      "\n",
      "Printing the full traceback as if we had not caught it here...\n",
      "Traceback (most recent call last):\n",
      "  File \"C:\\Users\\doria\\anaconda3\\envs\\PS\\lib\\runpy.py\", line 194, in _run_module_as_main\n",
      "    return _run_code(code, main_globals, None,\n",
      "  File \"C:\\Users\\doria\\anaconda3\\envs\\PS\\lib\\runpy.py\", line 87, in _run_code\n",
      "    exec(code, run_globals)\n",
      "  File \"C:\\Users\\doria\\anaconda3\\envs\\PS\\lib\\site-packages\\ipykernel_launcher.py\", line 16, in <module>\n",
      "    app.launch_new_instance()\n",
      "  File \"C:\\Users\\doria\\anaconda3\\envs\\PS\\lib\\site-packages\\traitlets\\config\\application.py\", line 846, in launch_instance\n",
      "    app.start()\n",
      "  File \"C:\\Users\\doria\\anaconda3\\envs\\PS\\lib\\site-packages\\ipykernel\\kernelapp.py\", line 677, in start\n",
      "    self.io_loop.start()\n",
      "  File \"C:\\Users\\doria\\anaconda3\\envs\\PS\\lib\\site-packages\\tornado\\platform\\asyncio.py\", line 199, in start\n",
      "    self.asyncio_loop.run_forever()\n",
      "  File \"C:\\Users\\doria\\anaconda3\\envs\\PS\\lib\\asyncio\\base_events.py\", line 570, in run_forever\n",
      "    self._run_once()\n",
      "  File \"C:\\Users\\doria\\anaconda3\\envs\\PS\\lib\\asyncio\\base_events.py\", line 1859, in _run_once\n",
      "    handle._run()\n",
      "  File \"C:\\Users\\doria\\anaconda3\\envs\\PS\\lib\\asyncio\\events.py\", line 81, in _run\n",
      "    self._context.run(self._callback, *self._args)\n",
      "  File \"C:\\Users\\doria\\anaconda3\\envs\\PS\\lib\\site-packages\\ipykernel\\kernelbase.py\", line 457, in dispatch_queue\n",
      "    await self.process_one()\n",
      "  File \"C:\\Users\\doria\\anaconda3\\envs\\PS\\lib\\site-packages\\ipykernel\\kernelbase.py\", line 446, in process_one\n",
      "    await dispatch(*args)\n",
      "  File \"C:\\Users\\doria\\anaconda3\\envs\\PS\\lib\\site-packages\\ipykernel\\kernelbase.py\", line 353, in dispatch_shell\n",
      "    await result\n",
      "  File \"C:\\Users\\doria\\anaconda3\\envs\\PS\\lib\\site-packages\\ipykernel\\kernelbase.py\", line 648, in execute_request\n",
      "    reply_content = await reply_content\n",
      "  File \"C:\\Users\\doria\\anaconda3\\envs\\PS\\lib\\site-packages\\ipykernel\\ipkernel.py\", line 345, in do_execute\n",
      "    res = shell.run_cell(code, store_history=store_history, silent=silent)\n",
      "  File \"C:\\Users\\doria\\anaconda3\\envs\\PS\\lib\\site-packages\\ipykernel\\zmqshell.py\", line 532, in run_cell\n",
      "    return super(ZMQInteractiveShell, self).run_cell(*args, **kwargs)\n",
      "  File \"C:\\Users\\doria\\anaconda3\\envs\\PS\\lib\\site-packages\\IPython\\core\\interactiveshell.py\", line 2898, in run_cell\n",
      "    result = self._run_cell(\n",
      "  File \"C:\\Users\\doria\\anaconda3\\envs\\PS\\lib\\site-packages\\IPython\\core\\interactiveshell.py\", line 2944, in _run_cell\n",
      "    return runner(coro)\n",
      "  File \"C:\\Users\\doria\\anaconda3\\envs\\PS\\lib\\site-packages\\IPython\\core\\async_helpers.py\", line 68, in _pseudo_sync_runner\n",
      "    coro.send(None)\n",
      "  File \"C:\\Users\\doria\\anaconda3\\envs\\PS\\lib\\site-packages\\IPython\\core\\interactiveshell.py\", line 3169, in run_cell_async\n",
      "    has_raised = await self.run_ast_nodes(code_ast.body, cell_name,\n",
      "  File \"C:\\Users\\doria\\anaconda3\\envs\\PS\\lib\\site-packages\\IPython\\core\\interactiveshell.py\", line 3361, in run_ast_nodes\n",
      "    if (await self.run_code(code, result,  async_=asy)):\n",
      "  File \"C:\\Users\\doria\\anaconda3\\envs\\PS\\lib\\site-packages\\IPython\\core\\interactiveshell.py\", line 3441, in run_code\n",
      "    exec(code_obj, self.user_global_ns, self.user_ns)\n",
      "  File \"C:\\Users\\doria\\AppData\\Local\\Temp/ipykernel_9440/2879061996.py\", line 3, in <module>\n",
      "    experimentor.run_wrapper()\n",
      "  File \"c:\\Users\\doria\\Desktop\\ProseminarMA\\multiscale-softattention\\utils\\experimentor_base.py\", line 219, in run_wrapper\n",
      "    self.run()\n",
      "  File \"c:\\Users\\doria\\Desktop\\ProseminarMA\\multiscale-softattention\\utils\\experimentor_base.py\", line 166, in run\n",
      "    loss, acc, train_time = self.train(epoch)\n",
      "  File \"c:\\Users\\doria\\Desktop\\ProseminarMA\\multiscale-softattention\\utils\\experimentor_base.py\", line 97, in train\n",
      "    for batch_size, n_id, adjs in self.train_loader:\n",
      "  File \"C:\\Users\\doria\\anaconda3\\envs\\PS\\lib\\site-packages\\torch\\utils\\data\\dataloader.py\", line 521, in __next__\n",
      "    data = self._next_data()\n",
      "  File \"C:\\Users\\doria\\anaconda3\\envs\\PS\\lib\\site-packages\\torch\\utils\\data\\dataloader.py\", line 1203, in _next_data\n",
      "    return self._process_data(data)\n",
      "  File \"C:\\Users\\doria\\anaconda3\\envs\\PS\\lib\\site-packages\\torch\\utils\\data\\dataloader.py\", line 1229, in _process_data\n",
      "    data.reraise()\n",
      "  File \"C:\\Users\\doria\\anaconda3\\envs\\PS\\lib\\site-packages\\torch\\_utils.py\", line 425, in reraise\n",
      "    raise self.exc_type(msg)\n",
      "MemoryError: Caught MemoryError in DataLoader worker process 0.\n",
      "Original Traceback (most recent call last):\n",
      "  File \"C:\\Users\\doria\\anaconda3\\envs\\PS\\lib\\site-packages\\torch\\utils\\data\\_utils\\worker.py\", line 287, in _worker_loop\n",
      "    data = fetcher.fetch(index)\n",
      "  File \"C:\\Users\\doria\\anaconda3\\envs\\PS\\lib\\site-packages\\torch\\utils\\data\\_utils\\fetch.py\", line 47, in fetch\n",
      "    return self.collate_fn(data)\n",
      "  File \"C:\\Users\\doria\\anaconda3\\envs\\PS\\lib\\site-packages\\torch_geometric\\data\\sampler.py\", line 170, in sample\n",
      "    adj_t, n_id = self.adj_t.sample_adj(n_id, size, replace=False)\n",
      "  File \"C:\\Users\\doria\\anaconda3\\envs\\PS\\lib\\site-packages\\torch_sparse\\sample.py\", line 30, in sample_adj\n",
      "    rowptr, col, n_id, e_id = torch.ops.torch_sparse.sample_adj(\n",
      "MemoryError: bad allocation\n",
      "\n"
     ]
    },
    {
     "output_type": "stream",
     "name": "stderr",
     "text": [
      "Epoch 01:   2%|▏         | 3072/196615 [00:46<48:26, 66.60it/s] \n"
     ]
    }
   ],
   "metadata": {}
  }
 ],
 "metadata": {
  "orig_nbformat": 4,
  "kernelspec": {
   "name": "python3",
   "display_name": "Python 3.8.11 64-bit ('PS': conda)"
  },
  "interpreter": {
   "hash": "1322c26f02ebbf0700fad666a69e487b987002dd3640f1a2df48e494c6ae2c9b"
  },
  "language_info": {
   "name": "python",
   "version": "3.8.11",
   "mimetype": "text/x-python",
   "codemirror_mode": {
    "name": "ipython",
    "version": 3
   },
   "pygments_lexer": "ipython3",
   "nbconvert_exporter": "python",
   "file_extension": ".py"
  }
 },
 "nbformat": 4,
 "nbformat_minor": 2
}