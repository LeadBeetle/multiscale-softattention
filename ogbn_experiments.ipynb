{
 "cells": [
  {
   "cell_type": "code",
   "execution_count": 1,
   "source": [
    "from utils.experimentor import *\r\n",
    "from utils.constants import *\r\n"
   ],
   "outputs": [],
   "metadata": {}
  },
  {
   "cell_type": "code",
   "execution_count": 2,
   "source": [
    "config = {\r\n",
    "    \"dataset_name\": Dataset.OGBN_ARXIV,\r\n",
    "    \"model_type\": ModelType.GATV2,\r\n",
    "    'num_of_epochs': 10000,\r\n",
    "    'num_of_runs': 1,\r\n",
    "    'patience_period': 200,\r\n",
    "    \r\n",
    "    #'should_visualize': False,\r\n",
    "    'batch_size': 20000,\r\n",
    "    'test_batch_size': 20000,\r\n",
    "    'num_workers': 0,\r\n",
    "    'force_cpu': False,\r\n",
    "    'test_frequency': 10,\r\n",
    "    'console_log_freq': 1,\r\n",
    "    'do_train_tqdm_logging': False,\r\n",
    "    \r\n",
    "    'lr': 0.01,\r\n",
    "    'num_of_layers': 3,  # PPI has got 42% of nodes with all 0 features - that's why 3 layers are useful\r\n",
    "    'num_heads': 1,\r\n",
    "    'hidden_size': 256,\r\n",
    "    'dropout': 0.25,  \r\n",
    "    \"use_layer_norm\": True,\r\n",
    "    \"use_saint\": False,\r\n",
    "    \r\n",
    "    #'neighbourhood_degree': 2,\r\n",
    "    #'adjacency_mode': AdjacencyMode.OneStep\r\n",
    "}"
   ],
   "outputs": [],
   "metadata": {}
  },
  {
   "cell_type": "code",
   "execution_count": 3,
   "source": [
    "experimentor = Experimentor(config)\r\n",
    "experimentor.run()"
   ],
   "outputs": [
    {
     "output_type": "stream",
     "name": "stdout",
     "text": [
      "torch.cuda is available: True\n",
      "Used Dataset: Dataset.OGBN_ARXIV\n",
      "\n",
      "Run 01:\n",
      "\n"
     ]
    },
    {
     "output_type": "stream",
     "name": "stderr",
     "text": [
      "Epoch 01: 100%|██████████| 90941/90941 [00:11<00:00, 7664.22it/s]\n"
     ]
    },
    {
     "output_type": "stream",
     "name": "stdout",
     "text": [
      "Epoch 01| Loss: 6.4890, Approx. Train: 0.0827\n",
      "Epoch 02| Loss: 4.9849, Approx. Train: 0.1239\n",
      "Epoch 03| Loss: 3.4616, Approx. Train: 0.1897\n",
      "Epoch 04| Loss: 2.8142, Approx. Train: 0.2787\n",
      "Epoch 05| Loss: 2.4637, Approx. Train: 0.3410\n",
      "Epoch 06| Loss: 2.2094, Approx. Train: 0.4112\n",
      "Epoch 07| Loss: 2.0218, Approx. Train: 0.4486\n",
      "Epoch 08| Loss: 1.8912, Approx. Train: 0.4857\n",
      "Epoch 09| Loss: 1.7990, Approx. Train: 0.5081\n",
      "Epoch 10| Loss: 1.7258, Approx. Train: 0.5243\n"
     ]
    },
    {
     "output_type": "stream",
     "name": "stderr",
     "text": [
      "Evaluating: 100%|██████████| 508029/508029 [00:06<00:00, 79516.54it/s] \n"
     ]
    },
    {
     "output_type": "stream",
     "name": "stdout",
     "text": [
      "Train: 0.5616, Val: 0.5576, Test: 0.5061\n",
      "Epoch 11| Loss: 1.6691, Approx. Train: 0.5364\n",
      "Epoch 12| Loss: 1.6274, Approx. Train: 0.5458\n",
      "Epoch 13| Loss: 1.5926, Approx. Train: 0.5551\n",
      "Epoch 14| Loss: 1.5559, Approx. Train: 0.5642\n",
      "Epoch 15| Loss: 1.5372, Approx. Train: 0.5690\n",
      "Epoch 16| Loss: 1.5138, Approx. Train: 0.5746\n",
      "Epoch 17| Loss: 1.4978, Approx. Train: 0.5757\n",
      "Epoch 18| Loss: 1.4806, Approx. Train: 0.5805\n",
      "Epoch 19| Loss: 1.4624, Approx. Train: 0.5852\n",
      "Epoch 20| Loss: 1.4537, Approx. Train: 0.5851\n"
     ]
    },
    {
     "output_type": "stream",
     "name": "stderr",
     "text": [
      "Evaluating: 100%|██████████| 508029/508029 [00:03<00:00, 154310.70it/s]\n"
     ]
    },
    {
     "output_type": "stream",
     "name": "stdout",
     "text": [
      "Train: 0.6124, Val: 0.5978, Test: 0.5328\n",
      "Epoch 21| Loss: 1.4381, Approx. Train: 0.5904\n",
      "Epoch 22| Loss: 1.4315, Approx. Train: 0.5915\n",
      "Epoch 23| Loss: 1.4226, Approx. Train: 0.5927\n",
      "Epoch 24| Loss: 1.4162, Approx. Train: 0.5945\n",
      "Epoch 25| Loss: 1.4093, Approx. Train: 0.5997\n",
      "Epoch 26| Loss: 1.3949, Approx. Train: 0.5997\n"
     ]
    }
   ],
   "metadata": {}
  }
 ],
 "metadata": {
  "orig_nbformat": 4,
  "language_info": {
   "name": "python",
   "version": "3.8.10",
   "mimetype": "text/x-python",
   "codemirror_mode": {
    "name": "ipython",
    "version": 3
   },
   "pygments_lexer": "ipython3",
   "nbconvert_exporter": "python",
   "file_extension": ".py"
  },
  "kernelspec": {
   "name": "python3",
   "display_name": "Python 3.8.10 64-bit ('PS': conda)"
  },
  "interpreter": {
   "hash": "1322c26f02ebbf0700fad666a69e487b987002dd3640f1a2df48e494c6ae2c9b"
  }
 },
 "nbformat": 4,
 "nbformat_minor": 2
}