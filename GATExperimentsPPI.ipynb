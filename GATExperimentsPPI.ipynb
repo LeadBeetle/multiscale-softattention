{
 "cells": [
  {
   "cell_type": "code",
   "execution_count": 4,
   "source": [
    "import enum\r\n",
    "\r\n",
    "# Deep learning related imports\r\n",
    "import torch\r\n",
    "import enum\r\n",
    "from utils.data_loading import *"
   ],
   "outputs": [],
   "metadata": {}
  },
  {
   "cell_type": "code",
   "execution_count": 6,
   "source": [
    "class DatasetType(enum.Enum):\r\n",
    "    CORA = 0,\r\n",
    "    PPI = 1\r\n",
    "    \r\n",
    "class GraphVisualizationTool(enum.Enum):\r\n",
    "    IGRAPH = 0\r\n",
    "    \r\n",
    "PPI_NUM_INPUT_FEATURES = 50\r\n",
    "PPI_NUM_CLASSES = 121\r\n",
    "\r\n",
    "device = torch.device(\"cuda\" if torch.cuda.is_available() else \"cpu\")  # checking whether you have a GPU\r\n",
    "\r\n",
    "config = {\r\n",
    "    'dataset_name': DatasetType.PPI.name,\r\n",
    "    'num_of_epochs': 200,\r\n",
    "    'patience_period': 100,\r\n",
    "    'lr': 5e-3,\r\n",
    "    'should_visualize': False,\r\n",
    "    'batch_size': 1,\r\n",
    "    'force_cpu': False,\r\n",
    "    'should_test': True,\r\n",
    "    'console_log_freq': 10,\r\n",
    "    'checkpoint_freq': 5,\r\n",
    "    'enable_tensorboard': True,\r\n",
    "    'weight_decay': 0,\r\n",
    "    'ppi_load_test_only': False,\r\n",
    "    \r\n",
    "    \"num_of_layers\": 3,  # PPI has got 42% of nodes with all 0 features - that's why 3 layers are useful\r\n",
    "    \"num_heads_per_layer\": [4, 4, 6],  # other values may give even better results from the reported ones\r\n",
    "    \"num_features_per_layer\": [PPI_NUM_INPUT_FEATURES, 256, 256, PPI_NUM_CLASSES],  # 64 would also give ~0.975 uF1!\r\n",
    "    \"add_skip_connection\": True,  # skip connection is very important! (keep it otherwise micro-F1 is almost 0)\r\n",
    "    \"bias\": True,  # bias doesn't matter that much\r\n",
    "    \"dropout\": 0.0,  # dropout hurts the performance (best to keep it at 0)\r\n",
    "    \"layer_type\": LayerType.IMP3  # the only implementation that supports the inductive setting\r\n",
    "}\r\n",
    "\r\n",
    "data_loader_train, data_loader_val, data_loader_test = load_graph_data(config, device)\r\n",
    "# Let's fetch a single batch from the train graph data loader\r\n",
    "node_features, node_labels, edge_index = next(iter(data_loader_train))\r\n",
    "\r\n",
    "print('*' * 20)\r\n",
    "print(node_features.shape, node_features.dtype)\r\n",
    "print(node_labels.shape, node_labels.dtype)\r\n",
    "print(edge_index.shape, edge_index.dtype)"
   ],
   "outputs": [
    {
     "output_type": "error",
     "ename": "KeyError",
     "evalue": "'layer_type'",
     "traceback": [
      "\u001b[1;31m---------------------------------------------------------------------------\u001b[0m",
      "\u001b[1;31mKeyError\u001b[0m                                  Traceback (most recent call last)",
      "\u001b[1;32m<ipython-input-6-c1f55985ddc1>\u001b[0m in \u001b[0;36m<module>\u001b[1;34m\u001b[0m\n\u001b[0;32m     27\u001b[0m }\n\u001b[0;32m     28\u001b[0m \u001b[1;33m\u001b[0m\u001b[0m\n\u001b[1;32m---> 29\u001b[1;33m \u001b[0mdata_loader_train\u001b[0m\u001b[1;33m,\u001b[0m \u001b[0mdata_loader_val\u001b[0m\u001b[1;33m,\u001b[0m \u001b[0mdata_loader_test\u001b[0m \u001b[1;33m=\u001b[0m \u001b[0mload_graph_data\u001b[0m\u001b[1;33m(\u001b[0m\u001b[0mconfig\u001b[0m\u001b[1;33m,\u001b[0m \u001b[0mdevice\u001b[0m\u001b[1;33m)\u001b[0m\u001b[1;33m\u001b[0m\u001b[1;33m\u001b[0m\u001b[0m\n\u001b[0m\u001b[0;32m     30\u001b[0m \u001b[1;31m# Let's fetch a single batch from the train graph data loader\u001b[0m\u001b[1;33m\u001b[0m\u001b[1;33m\u001b[0m\u001b[1;33m\u001b[0m\u001b[0m\n\u001b[0;32m     31\u001b[0m \u001b[0mnode_features\u001b[0m\u001b[1;33m,\u001b[0m \u001b[0mnode_labels\u001b[0m\u001b[1;33m,\u001b[0m \u001b[0medge_index\u001b[0m \u001b[1;33m=\u001b[0m \u001b[0mnext\u001b[0m\u001b[1;33m(\u001b[0m\u001b[0miter\u001b[0m\u001b[1;33m(\u001b[0m\u001b[0mdata_loader_train\u001b[0m\u001b[1;33m)\u001b[0m\u001b[1;33m)\u001b[0m\u001b[1;33m\u001b[0m\u001b[1;33m\u001b[0m\u001b[0m\n",
      "\u001b[1;32mc:\\Users\\doria\\Desktop\\ProseminarMA\\multiscale-softattention\\utils\\data_loading.py\u001b[0m in \u001b[0;36mload_graph_data\u001b[1;34m(training_config, device)\u001b[0m\n\u001b[0;32m     57\u001b[0m \u001b[1;32mdef\u001b[0m \u001b[0mload_graph_data\u001b[0m\u001b[1;33m(\u001b[0m\u001b[0mtraining_config\u001b[0m\u001b[1;33m,\u001b[0m \u001b[0mdevice\u001b[0m\u001b[1;33m)\u001b[0m\u001b[1;33m:\u001b[0m\u001b[1;33m\u001b[0m\u001b[1;33m\u001b[0m\u001b[0m\n\u001b[0;32m     58\u001b[0m     \u001b[0mdataset_name\u001b[0m \u001b[1;33m=\u001b[0m \u001b[0mtraining_config\u001b[0m\u001b[1;33m[\u001b[0m\u001b[1;34m'dataset_name'\u001b[0m\u001b[1;33m]\u001b[0m\u001b[1;33m.\u001b[0m\u001b[0mlower\u001b[0m\u001b[1;33m(\u001b[0m\u001b[1;33m)\u001b[0m\u001b[1;33m\u001b[0m\u001b[1;33m\u001b[0m\u001b[0m\n\u001b[1;32m---> 59\u001b[1;33m     \u001b[0mlayer_type\u001b[0m \u001b[1;33m=\u001b[0m \u001b[0mtraining_config\u001b[0m\u001b[1;33m[\u001b[0m\u001b[1;34m'layer_type'\u001b[0m\u001b[1;33m]\u001b[0m\u001b[1;33m\u001b[0m\u001b[1;33m\u001b[0m\u001b[0m\n\u001b[0m\u001b[0;32m     60\u001b[0m     \u001b[0mshould_visualize\u001b[0m \u001b[1;33m=\u001b[0m \u001b[0mtraining_config\u001b[0m\u001b[1;33m[\u001b[0m\u001b[1;34m'should_visualize'\u001b[0m\u001b[1;33m]\u001b[0m\u001b[1;33m\u001b[0m\u001b[1;33m\u001b[0m\u001b[0m\n\u001b[0;32m     61\u001b[0m \u001b[1;33m\u001b[0m\u001b[0m\n",
      "\u001b[1;31mKeyError\u001b[0m: 'layer_type'"
     ]
    }
   ],
   "metadata": {}
  }
 ],
 "metadata": {
  "orig_nbformat": 4,
  "language_info": {
   "name": "python"
  }
 },
 "nbformat": 4,
 "nbformat_minor": 2
}