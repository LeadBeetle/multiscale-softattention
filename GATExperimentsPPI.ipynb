{
 "cells": [
  {
   "cell_type": "code",
   "execution_count": 1,
   "source": [
    "import enum\r\n",
    "\r\n",
    "# Deep learning related imports\r\n",
    "import torch\r\n",
    "import enum\r\n",
    "from utils.data_loading import *\r\n",
    "from utils.visualizations import * "
   ],
   "outputs": [],
   "metadata": {}
  },
  {
   "cell_type": "code",
   "execution_count": 2,
   "source": [
    "class DatasetType(enum.Enum):\r\n",
    "    CORA = 0,\r\n",
    "    PPI = 1\r\n",
    "    \r\n",
    "class GraphVisualizationTool(enum.Enum):\r\n",
    "    IGRAPH = 0\r\n",
    "    \r\n",
    "PPI_NUM_INPUT_FEATURES = 50\r\n",
    "PPI_NUM_CLASSES = 121\r\n",
    "\r\n",
    "device = torch.device(\"cuda\" if torch.cuda.is_available() else \"cpu\")  # checking whether you have a GPU\r\n",
    "\r\n",
    "config = {\r\n",
    "    'dataset_name': DatasetType.PPI.name,\r\n",
    "    'num_of_epochs': 200,\r\n",
    "    'patience_period': 100,\r\n",
    "    \r\n",
    "    'should_visualize': False,\r\n",
    "    'batch_size': 1,\r\n",
    "    'force_cpu': False,\r\n",
    "    'should_test': True,\r\n",
    "    'console_log_freq': 10,\r\n",
    "    'checkpoint_freq': 5,\r\n",
    "    'enable_tensorboard': True,\r\n",
    "    'weight_decay': 0,\r\n",
    "    'ppi_load_test_only': False,\r\n",
    "    \r\n",
    "    'lr': 5e-3,\r\n",
    "    'num_of_layers': 3,  # PPI has got 42% of nodes with all 0 features - that's why 3 layers are useful\r\n",
    "    'num_heads_per_layer': [4, 4, 6],  # other values may give even better results from the reported ones\r\n",
    "    'num_features_per_layer': [PPI_NUM_INPUT_FEATURES, 256, 256, PPI_NUM_CLASSES],  # 64 would also give ~0.975 uF1!\r\n",
    "    'add_skip_connection': True,  # skip connection is very important! (keep it otherwise micro-F1 is almost 0)\r\n",
    "    'bias': True,  # bias doesn't matter that much\r\n",
    "    'dropout': 0.0,  # dropout hurts the performance (best to keep it at 0)\r\n",
    "    'layer_type': LayerType.IMP3  # the only implementation that supports the inductive setting\r\n",
    "}\r\n",
    "\r\n",
    "print(\"Cuda is available:\", torch.cuda.is_available())\r\n",
    "\r\n",
    "data_loader_train, data_loader_val, data_loader_test = load_graph_data(config, device)\r\n",
    "# Let's fetch a single batch from the train graph data loader\r\n",
    "node_features, node_labels, edge_index = next(iter(data_loader_train))\r\n",
    "\r\n",
    "print('*' * 20)\r\n",
    "print(node_features.shape, node_features.dtype)\r\n",
    "print(node_labels.shape, node_labels.dtype)\r\n",
    "print(edge_index.shape, edge_index.dtype)\r\n"
   ],
   "outputs": [
    {
     "output_type": "stream",
     "name": "stdout",
     "text": [
      "Cuda is available:  True\n",
      "Loading train graph 1 to CPU. It has 1767 nodes and 34085 edges.\n",
      "Loading train graph 2 to CPU. It has 1377 nodes and 31081 edges.\n",
      "Loading train graph 3 to CPU. It has 2263 nodes and 61907 edges.\n",
      "Loading train graph 4 to CPU. It has 2339 nodes and 67769 edges.\n",
      "Loading train graph 5 to CPU. It has 1578 nodes and 37740 edges.\n",
      "Loading train graph 6 to CPU. It has 1021 nodes and 19237 edges.\n",
      "Loading train graph 7 to CPU. It has 1823 nodes and 46153 edges.\n",
      "Loading train graph 8 to CPU. It has 2488 nodes and 72878 edges.\n",
      "Loading train graph 9 to CPU. It has 591 nodes and 8299 edges.\n",
      "Loading train graph 10 to CPU. It has 3312 nodes and 109510 edges.\n",
      "Loading train graph 11 to CPU. It has 2401 nodes and 66619 edges.\n",
      "Loading train graph 12 to CPU. It has 1878 nodes and 48146 edges.\n",
      "Loading train graph 13 to CPU. It has 1819 nodes and 47587 edges.\n",
      "Loading train graph 14 to CPU. It has 3480 nodes and 110234 edges.\n",
      "Loading train graph 15 to CPU. It has 2794 nodes and 88112 edges.\n",
      "Loading train graph 16 to CPU. It has 2326 nodes and 62188 edges.\n",
      "Loading train graph 17 to CPU. It has 2650 nodes and 79714 edges.\n",
      "Loading train graph 18 to CPU. It has 2815 nodes and 88335 edges.\n",
      "Loading train graph 19 to CPU. It has 3163 nodes and 97321 edges.\n",
      "Loading train graph 20 to CPU. It has 3021 nodes and 94359 edges.\n",
      "Loading valid graph 21 to CPU. It has 3230 nodes and 100676 edges.\n",
      "Loading valid graph 22 to CPU. It has 3284 nodes and 104758 edges.\n",
      "Loading test graph 23 to CPU. It has 3224 nodes and 103872 edges.\n",
      "Loading test graph 24 to CPU. It has 2300 nodes and 63628 edges.\n",
      "********************\n",
      "torch.Size([2401, 50]) torch.float32\n",
      "torch.Size([2401, 121]) torch.float32\n",
      "torch.Size([2, 66619]) torch.int64\n"
     ]
    }
   ],
   "metadata": {}
  },
  {
   "cell_type": "code",
   "execution_count": 5,
   "source": [
    "num_of_nodes = len(node_labels)\r\n",
    "plot_in_out_degree_distributions(edge_index, num_of_nodes, config['dataset_name'])"
   ],
   "outputs": [
    {
     "output_type": "stream",
     "name": "stdout",
     "text": [
      "tensor([[   0,    0,    0,  ..., 2400, 2400, 2400],\n",
      "        [1706, 1670, 1655,  ..., 1520, 2167, 2400]]) 2401\n"
     ]
    },
    {
     "output_type": "error",
     "ename": "AssertionError",
     "evalue": "Expected NumPy array got <class 'torch.Tensor'>.",
     "traceback": [
      "\u001b[1;31m---------------------------------------------------------------------------\u001b[0m",
      "\u001b[1;31mAssertionError\u001b[0m                            Traceback (most recent call last)",
      "\u001b[1;32m<ipython-input-5-657f71fd7ee2>\u001b[0m in \u001b[0;36m<module>\u001b[1;34m\u001b[0m\n\u001b[0;32m      2\u001b[0m \u001b[1;33m\u001b[0m\u001b[0m\n\u001b[0;32m      3\u001b[0m \u001b[0mprint\u001b[0m\u001b[1;33m(\u001b[0m\u001b[0medge_index\u001b[0m\u001b[1;33m,\u001b[0m \u001b[0mnum_of_nodes\u001b[0m\u001b[1;33m)\u001b[0m\u001b[1;33m\u001b[0m\u001b[1;33m\u001b[0m\u001b[0m\n\u001b[1;32m----> 4\u001b[1;33m \u001b[0mplot_in_out_degree_distributions\u001b[0m\u001b[1;33m(\u001b[0m\u001b[0medge_index\u001b[0m\u001b[1;33m,\u001b[0m \u001b[0mnum_of_nodes\u001b[0m\u001b[1;33m,\u001b[0m \u001b[0mconfig\u001b[0m\u001b[1;33m[\u001b[0m\u001b[1;34m'dataset_name'\u001b[0m\u001b[1;33m]\u001b[0m\u001b[1;33m)\u001b[0m\u001b[1;33m\u001b[0m\u001b[1;33m\u001b[0m\u001b[0m\n\u001b[0m",
      "\u001b[1;32mc:\\Users\\doria\\Desktop\\ProseminarMA\\multiscale-softattention\\utils\\visualizations.py\u001b[0m in \u001b[0;36mplot_in_out_degree_distributions\u001b[1;34m(edge_index, num_of_nodes, dataset_name)\u001b[0m\n\u001b[0;32m     16\u001b[0m \u001b[1;33m\u001b[0m\u001b[0m\n\u001b[0;32m     17\u001b[0m     \"\"\"\n\u001b[1;32m---> 18\u001b[1;33m     \u001b[1;32massert\u001b[0m \u001b[0misinstance\u001b[0m\u001b[1;33m(\u001b[0m\u001b[0medge_index\u001b[0m\u001b[1;33m,\u001b[0m \u001b[0mnp\u001b[0m\u001b[1;33m.\u001b[0m\u001b[0mndarray\u001b[0m\u001b[1;33m)\u001b[0m\u001b[1;33m,\u001b[0m \u001b[1;34mf'Expected NumPy array got {type(edge_index)}.'\u001b[0m\u001b[1;33m\u001b[0m\u001b[1;33m\u001b[0m\u001b[0m\n\u001b[0m\u001b[0;32m     19\u001b[0m     \u001b[1;32mif\u001b[0m \u001b[0medge_index\u001b[0m\u001b[1;33m.\u001b[0m\u001b[0mshape\u001b[0m\u001b[1;33m[\u001b[0m\u001b[1;36m0\u001b[0m\u001b[1;33m]\u001b[0m \u001b[1;33m==\u001b[0m \u001b[0medge_index\u001b[0m\u001b[1;33m.\u001b[0m\u001b[0mshape\u001b[0m\u001b[1;33m[\u001b[0m\u001b[1;36m1\u001b[0m\u001b[1;33m]\u001b[0m\u001b[1;33m:\u001b[0m\u001b[1;33m\u001b[0m\u001b[1;33m\u001b[0m\u001b[0m\n\u001b[0;32m     20\u001b[0m         \u001b[0medge_index\u001b[0m \u001b[1;33m=\u001b[0m \u001b[0mconvert_adj_to_edge_index\u001b[0m\u001b[1;33m(\u001b[0m\u001b[0medge_index\u001b[0m\u001b[1;33m)\u001b[0m\u001b[1;33m\u001b[0m\u001b[1;33m\u001b[0m\u001b[0m\n",
      "\u001b[1;31mAssertionError\u001b[0m: Expected NumPy array got <class 'torch.Tensor'>."
     ]
    }
   ],
   "metadata": {}
  }
 ],
 "metadata": {
  "orig_nbformat": 4,
  "language_info": {
   "name": "python"
  }
 },
 "nbformat": 4,
 "nbformat_minor": 2
}