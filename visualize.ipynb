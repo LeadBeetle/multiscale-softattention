{
 "cells": [
  {
   "cell_type": "code",
   "execution_count": 1,
   "metadata": {},
   "outputs": [],
   "source": [
    "from utils.Compressor import *  \n",
    "from utils.constants import * "
   ]
  },
  {
   "cell_type": "code",
   "execution_count": 2,
   "metadata": {},
   "outputs": [],
   "source": [
    "compressor = Compressor()\n",
    "compressor.compressAll()"
   ]
  },
  {
   "cell_type": "code",
   "execution_count": 18,
   "metadata": {},
   "outputs": [
    {
     "name": "stdout",
     "output_type": "stream",
     "text": [
      "388760089\n",
      "0.0002280275226503511\n",
      "0.002895322930127223\n",
      "0.0003404670483034075\n",
      "0.0007878432191633746\n",
      "0.0014509076830672297\n"
     ]
    }
   ],
   "source": [
    "print(19717  * 19717)\n",
    "\n",
    "print(88648 / (19717  * 19717 )) \n",
    "print(1125586 / (19717  * 19717 ))\n",
    "print(7356898 / (19717  * 19717 ))\n",
    "print(306282 / (19717  * 19717 ))\n",
    "print(564055 / (19717  * 19717 ))"
   ]
  }
 ],
 "metadata": {
  "interpreter": {
   "hash": "b8be38cac5e07419459cc1d2fe0e04c6cbe36991c6a4efd3c9a636608bfd9cde"
  },
  "kernelspec": {
   "display_name": "Python [conda env:.conda-PSN]",
   "language": "python",
   "name": "python3"
  },
  "language_info": {
   "codemirror_mode": {
    "name": "ipython",
    "version": 3
   },
   "file_extension": ".py",
   "mimetype": "text/x-python",
   "name": "python",
   "nbconvert_exporter": "python",
   "pygments_lexer": "ipython3",
   "version": "3.8.10"
  }
 },
 "nbformat": 4,
 "nbformat_minor": 4
}
