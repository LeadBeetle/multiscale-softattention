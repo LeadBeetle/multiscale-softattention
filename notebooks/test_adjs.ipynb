{
 "cells": [
  {
   "cell_type": "code",
   "execution_count": 1,
   "metadata": {},
   "outputs": [],
   "source": [
    "from utils.experimentorUtils import *\n",
    "from utils.experimentor_base import *\n",
    "from utils.experimentor_proteins import * \n",
    "from utils.experimentor_planetoid import * \n",
    "from utils.constants import *\n",
    "from utils.configs import * \n",
    "from utils.utils import * \n",
    "from torch_sparse import SparseTensor\n",
    "\n",
    "\n",
    "config = {\n",
    "    'num_of_epochs': 500,\n",
    "    'num_of_runs': 3,\n",
    "    'patience_period': 30,\n",
    "    'num_workers': 0,\n",
    "    'force_cpu': False,\n",
    "    'test_frequency': 1,\n",
    "    'console_log_freq': 1,\n",
    "    'do_train_tqdm_logging': False,\n",
    "    'computationBefore': False,\n",
    "    'batch_size': 256,\n",
    "    'test_batch_size': 256,\n",
    "    'lr': 0.005,\n",
    "    'num_heads': 4,\n",
    "    'hidden_size': 64,\n",
    "    'dropout': 0.6,  \n",
    "    \"use_layer_norm\": False,\n",
    "    \"use_batch_norm\": False,\n",
    "    \"dataset_name\": \"PubMed\",\n",
    "    \"model_type\": \"GAT-V1\",\n",
    "    \"nbor_degree\": 2,\n",
    "    \"sparse\": True,\n",
    "    \"aggr_mode\": None,\n",
    "    \"num_of_layers\": 2,\n",
    "    \"adj_mode\": \"OneStep\"\n",
    "}"
   ]
  },
  {
   "cell_type": "code",
   "execution_count": 2,
   "metadata": {},
   "outputs": [],
   "source": [
    "import networkx as nx\n",
    "import statistics\n",
    "from itertools import chain\n",
    "# This includes the isolated node!\n",
    "\n",
    "build_graph = True; \n",
    "\n",
    "exp = Experimentor_Planetoid(config)\n",
    "\n",
    "edge_index = exp.edge_index\n",
    "edge_index = edge_index.set_diag(0)\n",
    "print(\"Num_Nodes:\", exp.num_nodes, \"\\n\")\n",
    "all_es = multi_step_sparse(edge_index, 5, exp.num_nodes)\n",
    "\n",
    "for i, e in enumerate(all_es):\n",
    "    if i+1 > 2:\n",
    "        print(\"k=\", i+1)\n",
    "        print(\"\\tSum:\", e.to_dense().sum())\n",
    "        edges = SparseTensor.to_torch_sparse_coo_tensor(e)._indices()\n",
    "\n",
    "        if build_graph:\n",
    "            edges_f = [(edge.item(), edges[1][i].item()) for i, edge in enumerate(edges[0])]\n",
    "            G = nx.Graph(edges_f)\n",
    "            print(\"\\tNum_Edges\", G.number_of_edges())\n",
    "            path_lengths = (x.values() for x in dict(nx.shortest_path_length(G)).values())\n",
    "            avg_length = statistics.mean(chain.from_iterable(path_lengths))\n",
    "            print(\"\\tAvg Shortest Path Length: \", avg_length)\n"
   ]
  }
 ],
 "metadata": {
  "interpreter": {
   "hash": "b8be38cac5e07419459cc1d2fe0e04c6cbe36991c6a4efd3c9a636608bfd9cde"
  },
  "kernelspec": {
   "display_name": "Python 3.8.10 64-bit ('PSN': conda)",
   "language": "python",
   "name": "python3"
  },
  "language_info": {
   "codemirror_mode": {
    "name": "ipython",
    "version": 3
   },
   "file_extension": ".py",
   "mimetype": "text/x-python",
   "name": "python",
   "nbconvert_exporter": "python",
   "pygments_lexer": "ipython3",
   "version": "3.8.10"
  },
  "orig_nbformat": 4
 },
 "nbformat": 4,
 "nbformat_minor": 2
}
