{
 "cells": [
  {
   "cell_type": "code",
   "execution_count": 1,
   "metadata": {},
   "outputs": [],
   "source": [
    "from utils.constants import *\r\n",
    "from utils.experimentorUtils import * "
   ]
  },
  {
   "cell_type": "code",
   "execution_count": null,
   "metadata": {},
   "outputs": [
    {
     "name": "stdout",
     "output_type": "stream",
     "text": [
      "Run 01 for GatV1_K2_D2_s_AggrMode.MAX and CiteSeer:\n"
     ]
    },
    {
     "name": "stderr",
     "output_type": "stream",
     "text": [
      "Epoch 01: 100%|██████████| 120/120 [00:03<00:00, 33.94it/s]\n"
     ]
    },
    {
     "name": "stdout",
     "output_type": "stream",
     "text": [
      "Epoch 01| Loss: 1.7992| Acc: 0.1250| Train Time: 3.5402s\n"
     ]
    },
    {
     "name": "stderr",
     "output_type": "stream",
     "text": [
      "Evaluating: 100%|██████████| 6654/6654 [00:09<00:00, 689.22it/s] \n"
     ]
    },
    {
     "name": "stdout",
     "output_type": "stream",
     "text": [
      "Train: 0.9917| Val: 0.6560| Test: 0.6600| Eval Time: 9.6639s\n",
      "Epoch 02| Loss: 1.1149| Acc: 0.9333| Train Time: 1.1547s\n"
     ]
    },
    {
     "name": "stderr",
     "output_type": "stream",
     "text": [
      "Evaluating: 100%|██████████| 6654/6654 [00:00<00:00, 16770.56it/s]\n"
     ]
    },
    {
     "name": "stdout",
     "output_type": "stream",
     "text": [
      "Train: 1.0000| Val: 0.6860| Test: 0.6860| Eval Time: 0.4138s\n",
      "Epoch 03| Loss: 0.5703| Acc: 0.9833| Train Time: 1.1350s\n"
     ]
    },
    {
     "name": "stderr",
     "output_type": "stream",
     "text": [
      "Evaluating: 100%|██████████| 6654/6654 [00:00<00:00, 14227.82it/s]\n"
     ]
    },
    {
     "name": "stdout",
     "output_type": "stream",
     "text": [
      "Train: 1.0000| Val: 0.7120| Test: 0.6860| Eval Time: 0.4775s\n",
      "Epoch 04| Loss: 0.2402| Acc: 0.9917| Train Time: 0.1024s\n"
     ]
    },
    {
     "name": "stderr",
     "output_type": "stream",
     "text": [
      "Evaluating: 100%|██████████| 6654/6654 [00:00<00:00, 13280.42it/s]\n"
     ]
    },
    {
     "name": "stdout",
     "output_type": "stream",
     "text": [
      "Train: 1.0000| Val: 0.7000| Test: 0.6680| Eval Time: 0.5093s\n",
      "Epoch 05| Loss: 0.1334| Acc: 0.9833| Train Time: 0.0970s\n"
     ]
    },
    {
     "name": "stderr",
     "output_type": "stream",
     "text": [
      "Evaluating: 100%|██████████| 6654/6654 [00:00<00:00, 11915.57it/s]\n"
     ]
    },
    {
     "name": "stdout",
     "output_type": "stream",
     "text": [
      "Train: 1.0000| Val: 0.6960| Test: 0.6680| Eval Time: 0.5756s\n",
      "Epoch 06| Loss: 0.0591| Acc: 0.9833| Train Time: 0.1068s\n"
     ]
    },
    {
     "name": "stderr",
     "output_type": "stream",
     "text": [
      "Evaluating: 100%|██████████| 6654/6654 [00:00<00:00, 13645.07it/s]\n"
     ]
    },
    {
     "name": "stdout",
     "output_type": "stream",
     "text": [
      "Train: 1.0000| Val: 0.6880| Test: 0.6650| Eval Time: 0.4973s\n",
      "Epoch 07| Loss: 0.0347| Acc: 1.0000| Train Time: 0.1012s\n"
     ]
    },
    {
     "name": "stderr",
     "output_type": "stream",
     "text": [
      "Evaluating: 100%|██████████| 6654/6654 [00:00<00:00, 13477.51it/s]\n"
     ]
    },
    {
     "name": "stdout",
     "output_type": "stream",
     "text": [
      "Train: 1.0000| Val: 0.6880| Test: 0.6620| Eval Time: 0.5011s\n",
      "Epoch 08| Loss: 0.0198| Acc: 1.0000| Train Time: 0.0971s\n"
     ]
    },
    {
     "name": "stderr",
     "output_type": "stream",
     "text": [
      "Evaluating: 100%|██████████| 6654/6654 [00:00<00:00, 13609.91it/s]\n"
     ]
    },
    {
     "name": "stdout",
     "output_type": "stream",
     "text": [
      "Train: 1.0000| Val: 0.6780| Test: 0.6690| Eval Time: 0.4983s\n",
      "Epoch 09| Loss: 0.0184| Acc: 1.0000| Train Time: 0.0999s\n"
     ]
    },
    {
     "name": "stderr",
     "output_type": "stream",
     "text": [
      "Evaluating: 100%|██████████| 6654/6654 [00:00<00:00, 13603.32it/s]\n"
     ]
    },
    {
     "name": "stdout",
     "output_type": "stream",
     "text": [
      "Train: 1.0000| Val: 0.6760| Test: 0.6610| Eval Time: 0.4971s\n",
      "Epoch 10| Loss: 0.0049| Acc: 1.0000| Train Time: 0.0919s\n"
     ]
    },
    {
     "name": "stderr",
     "output_type": "stream",
     "text": [
      "Evaluating: 100%|██████████| 6654/6654 [00:00<00:00, 16038.56it/s]\n"
     ]
    },
    {
     "name": "stdout",
     "output_type": "stream",
     "text": [
      "Train: 1.0000| Val: 0.6680| Test: 0.6590| Eval Time: 0.4218s\n",
      "Epoch 11| Loss: 0.0167| Acc: 0.9833| Train Time: 0.0896s\n"
     ]
    },
    {
     "name": "stderr",
     "output_type": "stream",
     "text": [
      "Evaluating: 100%|██████████| 6654/6654 [00:00<00:00, 13744.24it/s]\n"
     ]
    },
    {
     "name": "stdout",
     "output_type": "stream",
     "text": [
      "Train: 1.0000| Val: 0.6680| Test: 0.6510| Eval Time: 0.4936s\n",
      "Epoch 12| Loss: 0.0044| Acc: 1.0000| Train Time: 0.1023s\n"
     ]
    },
    {
     "name": "stderr",
     "output_type": "stream",
     "text": [
      "Evaluating: 100%|██████████| 6654/6654 [00:00<00:00, 11698.44it/s]\n"
     ]
    },
    {
     "name": "stdout",
     "output_type": "stream",
     "text": [
      "Train: 1.0000| Val: 0.6560| Test: 0.6390| Eval Time: 0.5833s\n",
      "Epoch 13| Loss: 0.0006| Acc: 1.0000| Train Time: 0.1062s\n"
     ]
    },
    {
     "name": "stderr",
     "output_type": "stream",
     "text": [
      "Evaluating: 100%|██████████| 6654/6654 [00:00<00:00, 15873.56it/s]\n"
     ]
    },
    {
     "name": "stdout",
     "output_type": "stream",
     "text": [
      "Train: 1.0000| Val: 0.6520| Test: 0.6300| Eval Time: 0.4898s\n",
      "Epoch 14| Loss: 0.0029| Acc: 1.0000| Train Time: 0.0408s\n"
     ]
    },
    {
     "name": "stderr",
     "output_type": "stream",
     "text": [
      "Evaluating: 100%|██████████| 6654/6654 [00:00<00:00, 15788.22it/s]\n"
     ]
    },
    {
     "name": "stdout",
     "output_type": "stream",
     "text": [
      "Train: 1.0000| Val: 0.6540| Test: 0.6260| Eval Time: 0.4340s\n",
      "Epoch 15| Loss: 0.0038| Acc: 1.0000| Train Time: 0.0823s\n"
     ]
    },
    {
     "name": "stderr",
     "output_type": "stream",
     "text": [
      "Evaluating: 100%|██████████| 6654/6654 [00:00<00:00, 13926.21it/s]\n"
     ]
    },
    {
     "name": "stdout",
     "output_type": "stream",
     "text": [
      "Train: 1.0000| Val: 0.6500| Test: 0.6240| Eval Time: 0.4984s\n",
      "Epoch 16| Loss: 0.0025| Acc: 1.0000| Train Time: 0.0334s\n"
     ]
    },
    {
     "name": "stderr",
     "output_type": "stream",
     "text": [
      "Evaluating: 100%|██████████| 6654/6654 [00:00<00:00, 16417.32it/s]\n"
     ]
    },
    {
     "name": "stdout",
     "output_type": "stream",
     "text": [
      "Train: 1.0000| Val: 0.6520| Test: 0.6240| Eval Time: 0.4662s\n",
      "Epoch 17| Loss: 0.0007| Acc: 1.0000| Train Time: 0.1071s\n"
     ]
    },
    {
     "name": "stderr",
     "output_type": "stream",
     "text": [
      "Evaluating: 100%|██████████| 6654/6654 [00:00<00:00, 16062.51it/s]\n"
     ]
    },
    {
     "name": "stdout",
     "output_type": "stream",
     "text": [
      "Train: 1.0000| Val: 0.6560| Test: 0.6220| Eval Time: 0.4206s\n",
      "Epoch 18| Loss: 0.0002| Acc: 1.0000| Train Time: 0.0901s\n"
     ]
    },
    {
     "name": "stderr",
     "output_type": "stream",
     "text": [
      "Evaluating: 100%|██████████| 6654/6654 [00:00<00:00, 16588.81it/s]\n"
     ]
    },
    {
     "name": "stdout",
     "output_type": "stream",
     "text": [
      "Train: 1.0000| Val: 0.6540| Test: 0.6220| Eval Time: 0.4633s\n",
      "Epoch 19| Loss: 0.0002| Acc: 1.0000| Train Time: 0.1118s\n"
     ]
    },
    {
     "name": "stderr",
     "output_type": "stream",
     "text": [
      "Evaluating: 100%|██████████| 6654/6654 [00:00<00:00, 13181.53it/s]\n"
     ]
    },
    {
     "name": "stdout",
     "output_type": "stream",
     "text": [
      "Train: 1.0000| Val: 0.6520| Test: 0.6220| Eval Time: 0.5145s\n",
      "Epoch 20| Loss: 0.0007| Acc: 1.0000| Train Time: 0.1009s\n"
     ]
    },
    {
     "name": "stderr",
     "output_type": "stream",
     "text": [
      "Evaluating: 100%|██████████| 6654/6654 [00:00<00:00, 11147.09it/s]\n"
     ]
    },
    {
     "name": "stdout",
     "output_type": "stream",
     "text": [
      "Train: 1.0000| Val: 0.6540| Test: 0.6230| Eval Time: 0.6034s\n",
      "Epoch 21| Loss: 0.0006| Acc: 1.0000| Train Time: 0.0980s\n"
     ]
    },
    {
     "name": "stderr",
     "output_type": "stream",
     "text": [
      "Evaluating: 100%|██████████| 6654/6654 [00:00<00:00, 16188.53it/s]\n"
     ]
    },
    {
     "name": "stdout",
     "output_type": "stream",
     "text": [
      "Train: 1.0000| Val: 0.6580| Test: 0.6230| Eval Time: 0.4779s\n",
      "Epoch 22| Loss: 0.0001| Acc: 1.0000| Train Time: 0.0949s\n"
     ]
    },
    {
     "name": "stderr",
     "output_type": "stream",
     "text": [
      "Evaluating: 100%|██████████| 6654/6654 [00:00<00:00, 12826.07it/s]\n"
     ]
    },
    {
     "name": "stdout",
     "output_type": "stream",
     "text": [
      "Train: 1.0000| Val: 0.6600| Test: 0.6230| Eval Time: 0.5295s\n",
      "Epoch 23| Loss: 0.0001| Acc: 1.0000| Train Time: 0.1049s\n"
     ]
    },
    {
     "name": "stderr",
     "output_type": "stream",
     "text": [
      "Evaluating: 100%|██████████| 6654/6654 [00:00<00:00, 15343.56it/s]\n"
     ]
    },
    {
     "name": "stdout",
     "output_type": "stream",
     "text": [
      "Train: 1.0000| Val: 0.6620| Test: 0.6270| Eval Time: 0.4963s\n",
      "Epoch 24| Loss: 0.0002| Acc: 1.0000| Train Time: 0.1589s\n"
     ]
    },
    {
     "name": "stderr",
     "output_type": "stream",
     "text": [
      "Evaluating: 100%|██████████| 6654/6654 [00:00<00:00, 16359.52it/s]\n"
     ]
    },
    {
     "name": "stdout",
     "output_type": "stream",
     "text": [
      "Train: 1.0000| Val: 0.6640| Test: 0.6310| Eval Time: 0.4186s\n",
      "Epoch 25| Loss: 0.0011| Acc: 1.0000| Train Time: 0.0824s\n"
     ]
    },
    {
     "name": "stderr",
     "output_type": "stream",
     "text": [
      "Evaluating: 100%|██████████| 6654/6654 [00:00<00:00, 15774.47it/s]\n"
     ]
    },
    {
     "name": "stdout",
     "output_type": "stream",
     "text": [
      "Train: 1.0000| Val: 0.6640| Test: 0.6330| Eval Time: 0.4306s\n",
      "Epoch 26| Loss: 0.0002| Acc: 1.0000| Train Time: 0.0952s\n"
     ]
    },
    {
     "name": "stderr",
     "output_type": "stream",
     "text": [
      "Evaluating: 100%|██████████| 6654/6654 [00:00<00:00, 16362.49it/s]\n"
     ]
    },
    {
     "name": "stdout",
     "output_type": "stream",
     "text": [
      "Train: 1.0000| Val: 0.6640| Test: 0.6330| Eval Time: 0.4745s\n",
      "Epoch 27| Loss: 0.0006| Acc: 1.0000| Train Time: 0.1063s\n"
     ]
    },
    {
     "name": "stderr",
     "output_type": "stream",
     "text": [
      "Evaluating: 100%|██████████| 6654/6654 [00:00<00:00, 16433.63it/s]\n"
     ]
    },
    {
     "name": "stdout",
     "output_type": "stream",
     "text": [
      "Train: 1.0000| Val: 0.6640| Test: 0.6330| Eval Time: 0.4123s\n",
      "Epoch 28| Loss: 0.0000| Acc: 1.0000| Train Time: 0.0953s\n"
     ]
    },
    {
     "name": "stderr",
     "output_type": "stream",
     "text": [
      "Evaluating: 100%|██████████| 6654/6654 [00:00<00:00, 17088.98it/s]\n"
     ]
    },
    {
     "name": "stdout",
     "output_type": "stream",
     "text": [
      "Train: 1.0000| Val: 0.6640| Test: 0.6320| Eval Time: 0.3970s\n",
      "Epoch 29| Loss: 0.0014| Acc: 1.0000| Train Time: 0.1017s\n"
     ]
    },
    {
     "name": "stderr",
     "output_type": "stream",
     "text": [
      "Evaluating: 100%|██████████| 6654/6654 [00:00<00:00, 13402.85it/s]\n"
     ]
    },
    {
     "name": "stdout",
     "output_type": "stream",
     "text": [
      "Train: 1.0000| Val: 0.6640| Test: 0.6330| Eval Time: 0.5029s\n",
      "Epoch 30| Loss: 0.0010| Acc: 1.0000| Train Time: 0.0954s\n"
     ]
    },
    {
     "name": "stderr",
     "output_type": "stream",
     "text": [
      "Evaluating: 100%|██████████| 6654/6654 [00:00<00:00, 13680.88it/s]\n"
     ]
    },
    {
     "name": "stdout",
     "output_type": "stream",
     "text": [
      "Train: 1.0000| Val: 0.6640| Test: 0.6350| Eval Time: 0.4947s\n",
      "Epoch 31| Loss: 0.0004| Acc: 1.0000| Train Time: 0.1003s\n"
     ]
    },
    {
     "name": "stderr",
     "output_type": "stream",
     "text": [
      "Evaluating: 100%|██████████| 6654/6654 [00:00<00:00, 12966.36it/s]\n"
     ]
    },
    {
     "name": "stdout",
     "output_type": "stream",
     "text": [
      "Train: 1.0000| Val: 0.6640| Test: 0.6390| Eval Time: 0.5855s\n",
      "Epoch 32| Loss: 0.0000| Acc: 1.0000| Train Time: 0.1116s\n"
     ]
    },
    {
     "name": "stderr",
     "output_type": "stream",
     "text": [
      "Evaluating: 100%|██████████| 6654/6654 [00:00<00:00, 16932.06it/s]\n"
     ]
    },
    {
     "name": "stdout",
     "output_type": "stream",
     "text": [
      "Train: 1.0000| Val: 0.6580| Test: 0.6380| Eval Time: 0.4013s\n",
      "Epoch 33| Loss: 0.0000| Acc: 1.0000| Train Time: 0.1013s\n"
     ]
    },
    {
     "name": "stderr",
     "output_type": "stream",
     "text": [
      "Evaluating: 100%|██████████| 6654/6654 [00:00<00:00, 13136.85it/s]\n"
     ]
    },
    {
     "name": "stdout",
     "output_type": "stream",
     "text": [
      "Train: 1.0000| Val: 0.6580| Test: 0.6350| Eval Time: 0.5762s\n",
      "\n",
      "Result of  1. run| Train: 1.0000| Val: 0.7120| Test: 0.6860\n",
      "\n",
      "Run 02 for GatV1_K2_D2_s_AggrMode.MAX and CiteSeer:\n"
     ]
    },
    {
     "name": "stderr",
     "output_type": "stream",
     "text": [
      "Epoch 01: 100%|██████████| 120/120 [00:00<00:00, 1155.60it/s]\n"
     ]
    },
    {
     "name": "stdout",
     "output_type": "stream",
     "text": [
      "Epoch 01| Loss: 1.8155| Acc: 0.1333| Train Time: 0.1101s\n"
     ]
    },
    {
     "name": "stderr",
     "output_type": "stream",
     "text": [
      "Evaluating: 100%|██████████| 6654/6654 [00:00<00:00, 13544.12it/s]\n"
     ]
    },
    {
     "name": "stdout",
     "output_type": "stream",
     "text": [
      "Train: 0.9667| Val: 0.5920| Test: 0.5810| Eval Time: 0.5012s\n",
      "Epoch 02| Loss: 1.1236| Acc: 0.9500| Train Time: 0.0968s\n"
     ]
    },
    {
     "name": "stderr",
     "output_type": "stream",
     "text": [
      "Evaluating: 100%|██████████| 6654/6654 [00:00<00:00, 13993.93it/s]\n"
     ]
    },
    {
     "name": "stdout",
     "output_type": "stream",
     "text": [
      "Train: 0.9750| Val: 0.6560| Test: 0.6410| Eval Time: 0.4885s\n",
      "Epoch 03| Loss: 0.5693| Acc: 0.9667| Train Time: 0.1047s\n"
     ]
    },
    {
     "name": "stderr",
     "output_type": "stream",
     "text": [
      "Evaluating: 100%|██████████| 6654/6654 [00:00<00:00, 13538.57it/s]\n"
     ]
    },
    {
     "name": "stdout",
     "output_type": "stream",
     "text": [
      "Train: 1.0000| Val: 0.7060| Test: 0.6900| Eval Time: 0.5038s\n",
      "Epoch 04| Loss: 0.2662| Acc: 0.9917| Train Time: 0.1021s\n"
     ]
    },
    {
     "name": "stderr",
     "output_type": "stream",
     "text": [
      "Evaluating: 100%|██████████| 6654/6654 [00:00<00:00, 17172.49it/s]\n"
     ]
    },
    {
     "name": "stdout",
     "output_type": "stream",
     "text": [
      "Train: 1.0000| Val: 0.7000| Test: 0.6900| Eval Time: 0.3985s\n",
      "Epoch 05| Loss: 0.1063| Acc: 0.9917| Train Time: 0.1029s\n"
     ]
    },
    {
     "name": "stderr",
     "output_type": "stream",
     "text": [
      "Evaluating: 100%|██████████| 6654/6654 [00:00<00:00, 14072.99it/s]\n"
     ]
    },
    {
     "name": "stdout",
     "output_type": "stream",
     "text": [
      "Train: 1.0000| Val: 0.6900| Test: 0.6970| Eval Time: 0.4857s\n",
      "Epoch 06| Loss: 0.0516| Acc: 1.0000| Train Time: 0.0942s\n"
     ]
    },
    {
     "name": "stderr",
     "output_type": "stream",
     "text": [
      "Evaluating: 100%|██████████| 6654/6654 [00:00<00:00, 11429.55it/s]\n"
     ]
    },
    {
     "name": "stdout",
     "output_type": "stream",
     "text": [
      "Train: 1.0000| Val: 0.6880| Test: 0.6960| Eval Time: 0.6021s\n",
      "Epoch 07| Loss: 0.0345| Acc: 0.9917| Train Time: 0.0325s\n"
     ]
    },
    {
     "name": "stderr",
     "output_type": "stream",
     "text": [
      "Evaluating: 100%|██████████| 6654/6654 [00:00<00:00, 15682.89it/s]\n"
     ]
    },
    {
     "name": "stdout",
     "output_type": "stream",
     "text": [
      "Train: 1.0000| Val: 0.6820| Test: 0.6950| Eval Time: 0.4873s\n",
      "Epoch 08| Loss: 0.0148| Acc: 1.0000| Train Time: 0.0867s\n"
     ]
    },
    {
     "name": "stderr",
     "output_type": "stream",
     "text": [
      "Evaluating: 100%|██████████| 6654/6654 [00:00<00:00, 13289.31it/s]\n"
     ]
    },
    {
     "name": "stdout",
     "output_type": "stream",
     "text": [
      "Train: 1.0000| Val: 0.6800| Test: 0.6930| Eval Time: 0.5093s\n",
      "Epoch 09| Loss: 0.0160| Acc: 1.0000| Train Time: 0.1001s\n"
     ]
    },
    {
     "name": "stderr",
     "output_type": "stream",
     "text": [
      "Evaluating: 100%|██████████| 6654/6654 [00:00<00:00, 15528.66it/s]\n"
     ]
    },
    {
     "name": "stdout",
     "output_type": "stream",
     "text": [
      "Train: 1.0000| Val: 0.6800| Test: 0.6860| Eval Time: 0.5027s\n",
      "Epoch 10| Loss: 0.0053| Acc: 1.0000| Train Time: 0.0979s\n"
     ]
    },
    {
     "name": "stderr",
     "output_type": "stream",
     "text": [
      "Evaluating: 100%|██████████| 6654/6654 [00:00<00:00, 14289.42it/s]\n"
     ]
    },
    {
     "name": "stdout",
     "output_type": "stream",
     "text": [
      "Train: 1.0000| Val: 0.6760| Test: 0.6770| Eval Time: 0.4833s\n",
      "Epoch 11| Loss: 0.0079| Acc: 1.0000| Train Time: 0.0858s\n"
     ]
    },
    {
     "name": "stderr",
     "output_type": "stream",
     "text": [
      "Evaluating: 100%|██████████| 6654/6654 [00:00<00:00, 12683.86it/s]\n"
     ]
    },
    {
     "name": "stdout",
     "output_type": "stream",
     "text": [
      "Train: 1.0000| Val: 0.6760| Test: 0.6690| Eval Time: 0.5332s\n",
      "Epoch 12| Loss: 0.0020| Acc: 1.0000| Train Time: 0.0938s\n"
     ]
    },
    {
     "name": "stderr",
     "output_type": "stream",
     "text": [
      "Evaluating: 100%|██████████| 6654/6654 [00:00<00:00, 14254.63it/s]\n"
     ]
    },
    {
     "name": "stdout",
     "output_type": "stream",
     "text": [
      "Train: 1.0000| Val: 0.6700| Test: 0.6650| Eval Time: 0.4784s\n",
      "Epoch 13| Loss: 0.0013| Acc: 1.0000| Train Time: 0.1023s\n"
     ]
    },
    {
     "name": "stderr",
     "output_type": "stream",
     "text": [
      "Evaluating: 100%|██████████| 6654/6654 [00:00<00:00, 16063.38it/s]\n"
     ]
    },
    {
     "name": "stdout",
     "output_type": "stream",
     "text": [
      "Train: 1.0000| Val: 0.6700| Test: 0.6600| Eval Time: 0.4883s\n",
      "Epoch 14| Loss: 0.0023| Acc: 1.0000| Train Time: 0.0303s\n"
     ]
    },
    {
     "name": "stderr",
     "output_type": "stream",
     "text": [
      "Evaluating: 100%|██████████| 6654/6654 [00:00<00:00, 15577.24it/s]\n"
     ]
    },
    {
     "name": "stdout",
     "output_type": "stream",
     "text": [
      "Train: 1.0000| Val: 0.6620| Test: 0.6560| Eval Time: 0.4960s\n",
      "Epoch 15| Loss: 0.0008| Acc: 1.0000| Train Time: 0.0932s\n"
     ]
    },
    {
     "name": "stderr",
     "output_type": "stream",
     "text": [
      "Evaluating: 100%|██████████| 6654/6654 [00:00<00:00, 13399.20it/s]\n"
     ]
    },
    {
     "name": "stdout",
     "output_type": "stream",
     "text": [
      "Train: 1.0000| Val: 0.6560| Test: 0.6540| Eval Time: 0.5045s\n",
      "Epoch 16| Loss: 0.0041| Acc: 1.0000| Train Time: 0.1034s\n"
     ]
    },
    {
     "name": "stderr",
     "output_type": "stream",
     "text": [
      "Evaluating: 100%|██████████| 6654/6654 [00:00<00:00, 13389.30it/s]\n"
     ]
    },
    {
     "name": "stdout",
     "output_type": "stream",
     "text": [
      "Train: 1.0000| Val: 0.6520| Test: 0.6540| Eval Time: 0.5752s\n",
      "Epoch 17| Loss: 0.0083| Acc: 0.9917| Train Time: 0.1074s\n"
     ]
    },
    {
     "name": "stderr",
     "output_type": "stream",
     "text": [
      "Evaluating: 100%|██████████| 6654/6654 [00:00<00:00, 17086.34it/s]\n"
     ]
    },
    {
     "name": "stdout",
     "output_type": "stream",
     "text": [
      "Train: 1.0000| Val: 0.6520| Test: 0.6550| Eval Time: 0.4025s\n",
      "Epoch 18| Loss: 0.0035| Acc: 1.0000| Train Time: 0.1031s\n"
     ]
    },
    {
     "name": "stderr",
     "output_type": "stream",
     "text": [
      "Evaluating: 100%|██████████| 6654/6654 [00:00<00:00, 13304.57it/s]\n"
     ]
    },
    {
     "name": "stdout",
     "output_type": "stream",
     "text": [
      "Train: 1.0000| Val: 0.6520| Test: 0.6590| Eval Time: 0.5075s\n",
      "Epoch 19| Loss: 0.0019| Acc: 1.0000| Train Time: 0.1015s\n"
     ]
    },
    {
     "name": "stderr",
     "output_type": "stream",
     "text": [
      "Evaluating: 100%|██████████| 6654/6654 [00:00<00:00, 12945.57it/s]\n"
     ]
    },
    {
     "name": "stdout",
     "output_type": "stream",
     "text": [
      "Train: 1.0000| Val: 0.6580| Test: 0.6600| Eval Time: 0.5841s\n",
      "Epoch 20| Loss: 0.0018| Acc: 1.0000| Train Time: 0.0875s\n"
     ]
    },
    {
     "name": "stderr",
     "output_type": "stream",
     "text": [
      "Evaluating: 100%|██████████| 6654/6654 [00:00<00:00, 12727.55it/s]\n"
     ]
    },
    {
     "name": "stdout",
     "output_type": "stream",
     "text": [
      "Train: 1.0000| Val: 0.6580| Test: 0.6640| Eval Time: 0.5957s\n",
      "Epoch 21| Loss: 0.0340| Acc: 0.9917| Train Time: 0.1036s\n"
     ]
    },
    {
     "name": "stderr",
     "output_type": "stream",
     "text": [
      "Evaluating: 100%|██████████| 6654/6654 [00:00<00:00, 16006.57it/s]\n"
     ]
    },
    {
     "name": "stdout",
     "output_type": "stream",
     "text": [
      "Train: 1.0000| Val: 0.6580| Test: 0.6660| Eval Time: 0.4242s\n",
      "Epoch 22| Loss: 0.0005| Acc: 1.0000| Train Time: 0.1003s\n"
     ]
    },
    {
     "name": "stderr",
     "output_type": "stream",
     "text": [
      "Evaluating: 100%|██████████| 6654/6654 [00:00<00:00, 15626.05it/s]\n"
     ]
    },
    {
     "name": "stdout",
     "output_type": "stream",
     "text": [
      "Train: 1.0000| Val: 0.6560| Test: 0.6630| Eval Time: 0.4961s\n",
      "Epoch 23| Loss: 0.0006| Acc: 1.0000| Train Time: 0.1041s\n"
     ]
    },
    {
     "name": "stderr",
     "output_type": "stream",
     "text": [
      "Evaluating: 100%|██████████| 6654/6654 [00:00<00:00, 13184.80it/s]\n"
     ]
    },
    {
     "name": "stdout",
     "output_type": "stream",
     "text": [
      "Train: 1.0000| Val: 0.6580| Test: 0.6660| Eval Time: 0.5188s\n",
      "Epoch 24| Loss: 0.0002| Acc: 1.0000| Train Time: 0.1047s\n"
     ]
    },
    {
     "name": "stderr",
     "output_type": "stream",
     "text": [
      "Evaluating: 100%|██████████| 6654/6654 [00:00<00:00, 11541.45it/s]\n"
     ]
    },
    {
     "name": "stdout",
     "output_type": "stream",
     "text": [
      "Train: 1.0000| Val: 0.6580| Test: 0.6630| Eval Time: 0.5874s\n",
      "Epoch 25| Loss: 0.0001| Acc: 1.0000| Train Time: 0.1026s\n"
     ]
    },
    {
     "name": "stderr",
     "output_type": "stream",
     "text": [
      "Evaluating: 100%|██████████| 6654/6654 [00:00<00:00, 16396.50it/s]\n"
     ]
    },
    {
     "name": "stdout",
     "output_type": "stream",
     "text": [
      "Train: 1.0000| Val: 0.6620| Test: 0.6610| Eval Time: 0.4154s\n",
      "Epoch 26| Loss: 0.0001| Acc: 1.0000| Train Time: 0.1040s\n"
     ]
    },
    {
     "name": "stderr",
     "output_type": "stream",
     "text": [
      "Evaluating: 100%|██████████| 6654/6654 [00:00<00:00, 12833.80it/s]\n"
     ]
    },
    {
     "name": "stdout",
     "output_type": "stream",
     "text": [
      "Train: 1.0000| Val: 0.6560| Test: 0.6600| Eval Time: 0.5893s\n",
      "Epoch 27| Loss: 0.0002| Acc: 1.0000| Train Time: 0.0998s\n"
     ]
    },
    {
     "name": "stderr",
     "output_type": "stream",
     "text": [
      "Evaluating: 100%|██████████| 6654/6654 [00:00<00:00, 11128.73it/s]\n"
     ]
    },
    {
     "name": "stdout",
     "output_type": "stream",
     "text": [
      "Train: 1.0000| Val: 0.6540| Test: 0.6560| Eval Time: 0.6058s\n",
      "Epoch 28| Loss: 0.0010| Acc: 1.0000| Train Time: 0.1023s\n"
     ]
    },
    {
     "name": "stderr",
     "output_type": "stream",
     "text": [
      "Evaluating: 100%|██████████| 6654/6654 [00:00<00:00, 15567.23it/s]\n"
     ]
    },
    {
     "name": "stdout",
     "output_type": "stream",
     "text": [
      "Train: 1.0000| Val: 0.6540| Test: 0.6570| Eval Time: 0.4967s\n",
      "Epoch 29| Loss: 0.0001| Acc: 1.0000| Train Time: 0.1964s\n"
     ]
    },
    {
     "name": "stderr",
     "output_type": "stream",
     "text": [
      "Evaluating: 100%|██████████| 6654/6654 [00:00<00:00, 13897.85it/s]\n"
     ]
    },
    {
     "name": "stdout",
     "output_type": "stream",
     "text": [
      "Train: 1.0000| Val: 0.6540| Test: 0.6560| Eval Time: 0.4887s\n",
      "Epoch 30| Loss: 0.0014| Acc: 1.0000| Train Time: 0.1061s\n"
     ]
    },
    {
     "name": "stderr",
     "output_type": "stream",
     "text": [
      "Evaluating: 100%|██████████| 6654/6654 [00:00<00:00, 16406.00it/s]\n"
     ]
    },
    {
     "name": "stdout",
     "output_type": "stream",
     "text": [
      "Train: 1.0000| Val: 0.6520| Test: 0.6550| Eval Time: 0.4119s\n",
      "Epoch 31| Loss: 0.0002| Acc: 1.0000| Train Time: 0.0933s\n"
     ]
    },
    {
     "name": "stderr",
     "output_type": "stream",
     "text": [
      "Evaluating: 100%|██████████| 6654/6654 [00:00<00:00, 11796.08it/s]\n"
     ]
    },
    {
     "name": "stdout",
     "output_type": "stream",
     "text": [
      "Train: 1.0000| Val: 0.6540| Test: 0.6550| Eval Time: 0.5760s\n",
      "Epoch 32| Loss: 0.0000| Acc: 1.0000| Train Time: 0.1086s\n"
     ]
    },
    {
     "name": "stderr",
     "output_type": "stream",
     "text": [
      "Evaluating: 100%|██████████| 6654/6654 [00:00<00:00, 16691.51it/s]\n"
     ]
    },
    {
     "name": "stdout",
     "output_type": "stream",
     "text": [
      "Train: 1.0000| Val: 0.6580| Test: 0.6570| Eval Time: 0.4067s\n",
      "Epoch 33| Loss: 0.0029| Acc: 1.0000| Train Time: 0.1055s\n"
     ]
    },
    {
     "name": "stderr",
     "output_type": "stream",
     "text": [
      "Evaluating: 100%|██████████| 6654/6654 [00:00<00:00, 13376.36it/s]\n"
     ]
    },
    {
     "name": "stdout",
     "output_type": "stream",
     "text": [
      "Train: 1.0000| Val: 0.6540| Test: 0.6550| Eval Time: 0.5024s\n",
      "\n",
      "Result of  2. run| Train: 1.0000| Val: 0.7060| Test: 0.6900\n",
      "\n",
      "Run 03 for GatV1_K2_D2_s_AggrMode.MAX and CiteSeer:\n"
     ]
    },
    {
     "name": "stderr",
     "output_type": "stream",
     "text": [
      "Epoch 01: 100%|██████████| 120/120 [00:00<00:00, 933.46it/s]\n"
     ]
    },
    {
     "name": "stdout",
     "output_type": "stream",
     "text": [
      "Epoch 01| Loss: 1.7749| Acc: 0.2667| Train Time: 0.1950s\n"
     ]
    },
    {
     "name": "stderr",
     "output_type": "stream",
     "text": [
      "Evaluating: 100%|██████████| 6654/6654 [00:00<00:00, 17474.92it/s]\n"
     ]
    },
    {
     "name": "stdout",
     "output_type": "stream",
     "text": [
      "Train: 0.9833| Val: 0.6340| Test: 0.5950| Eval Time: 0.3906s\n",
      "Epoch 02| Loss: 1.0935| Acc: 0.9000| Train Time: 0.0958s\n"
     ]
    },
    {
     "name": "stderr",
     "output_type": "stream",
     "text": [
      "Evaluating: 100%|██████████| 6654/6654 [00:00<00:00, 16233.28it/s]\n"
     ]
    },
    {
     "name": "stdout",
     "output_type": "stream",
     "text": [
      "Train: 1.0000| Val: 0.6940| Test: 0.6680| Eval Time: 0.4159s\n",
      "Epoch 03| Loss: 0.5690| Acc: 0.9667| Train Time: 0.0879s\n"
     ]
    },
    {
     "name": "stderr",
     "output_type": "stream",
     "text": [
      "Evaluating: 100%|██████████| 6654/6654 [00:00<00:00, 15865.87it/s]\n"
     ]
    },
    {
     "name": "stdout",
     "output_type": "stream",
     "text": [
      "Train: 1.0000| Val: 0.6960| Test: 0.6710| Eval Time: 0.4764s\n",
      "Epoch 04| Loss: 0.2483| Acc: 0.9833| Train Time: 0.0346s\n"
     ]
    },
    {
     "name": "stderr",
     "output_type": "stream",
     "text": [
      "Evaluating: 100%|██████████| 6654/6654 [00:00<00:00, 13693.75it/s]\n"
     ]
    },
    {
     "name": "stdout",
     "output_type": "stream",
     "text": [
      "Train: 1.0000| Val: 0.6940| Test: 0.6670| Eval Time: 0.4918s\n",
      "Epoch 05| Loss: 0.1103| Acc: 0.9917| Train Time: 0.0786s\n"
     ]
    },
    {
     "name": "stderr",
     "output_type": "stream",
     "text": [
      "Evaluating: 100%|██████████| 6654/6654 [00:00<00:00, 13502.96it/s]\n"
     ]
    },
    {
     "name": "stdout",
     "output_type": "stream",
     "text": [
      "Train: 1.0000| Val: 0.6880| Test: 0.6670| Eval Time: 0.5067s\n",
      "Epoch 06| Loss: 0.0491| Acc: 1.0000| Train Time: 0.0971s\n"
     ]
    },
    {
     "name": "stderr",
     "output_type": "stream",
     "text": [
      "Evaluating: 100%|██████████| 6654/6654 [00:00<00:00, 17477.89it/s]\n"
     ]
    },
    {
     "name": "stdout",
     "output_type": "stream",
     "text": [
      "Train: 1.0000| Val: 0.6860| Test: 0.6660| Eval Time: 0.3972s\n",
      "Epoch 07| Loss: 0.0178| Acc: 1.0000| Train Time: 0.1036s\n"
     ]
    },
    {
     "name": "stderr",
     "output_type": "stream",
     "text": [
      "Evaluating: 100%|██████████| 6654/6654 [00:00<00:00, 17305.92it/s]\n"
     ]
    },
    {
     "name": "stdout",
     "output_type": "stream",
     "text": [
      "Train: 1.0000| Val: 0.6880| Test: 0.6620| Eval Time: 0.3967s\n",
      "Epoch 08| Loss: 0.0135| Acc: 1.0000| Train Time: 0.0876s\n"
     ]
    },
    {
     "name": "stderr",
     "output_type": "stream",
     "text": [
      "Evaluating: 100%|██████████| 6654/6654 [00:00<00:00, 16619.53it/s]\n"
     ]
    },
    {
     "name": "stdout",
     "output_type": "stream",
     "text": [
      "Train: 1.0000| Val: 0.6860| Test: 0.6620| Eval Time: 0.4136s\n",
      "Epoch 09| Loss: 0.0099| Acc: 1.0000| Train Time: 0.0958s\n"
     ]
    },
    {
     "name": "stderr",
     "output_type": "stream",
     "text": [
      "Evaluating: 100%|██████████| 6654/6654 [00:00<00:00, 16634.82it/s]\n"
     ]
    },
    {
     "name": "stdout",
     "output_type": "stream",
     "text": [
      "Train: 1.0000| Val: 0.6880| Test: 0.6620| Eval Time: 0.4093s\n",
      "Epoch 10| Loss: 0.0053| Acc: 1.0000| Train Time: 0.0914s\n"
     ]
    },
    {
     "name": "stderr",
     "output_type": "stream",
     "text": [
      "Evaluating: 100%|██████████| 6654/6654 [00:00<00:00, 16418.82it/s]\n"
     ]
    },
    {
     "name": "stdout",
     "output_type": "stream",
     "text": [
      "Train: 1.0000| Val: 0.6840| Test: 0.6640| Eval Time: 0.4123s\n",
      "Epoch 11| Loss: 0.0020| Acc: 1.0000| Train Time: 0.0897s\n"
     ]
    },
    {
     "name": "stderr",
     "output_type": "stream",
     "text": [
      "Evaluating: 100%|██████████| 6654/6654 [00:00<00:00, 13051.24it/s]\n"
     ]
    },
    {
     "name": "stdout",
     "output_type": "stream",
     "text": [
      "Train: 1.0000| Val: 0.6760| Test: 0.6660| Eval Time: 0.5155s\n",
      "Epoch 12| Loss: 0.0029| Acc: 1.0000| Train Time: 0.0937s\n"
     ]
    },
    {
     "name": "stderr",
     "output_type": "stream",
     "text": [
      "Evaluating: 100%|██████████| 6654/6654 [00:00<00:00, 14124.71it/s]\n"
     ]
    },
    {
     "name": "stdout",
     "output_type": "stream",
     "text": [
      "Train: 1.0000| Val: 0.6760| Test: 0.6640| Eval Time: 0.4809s\n",
      "Epoch 13| Loss: 0.0051| Acc: 1.0000| Train Time: 0.0931s\n"
     ]
    },
    {
     "name": "stderr",
     "output_type": "stream",
     "text": [
      "Evaluating: 100%|██████████| 6654/6654 [00:00<00:00, 13001.84it/s]\n"
     ]
    },
    {
     "name": "stdout",
     "output_type": "stream",
     "text": [
      "Train: 1.0000| Val: 0.6760| Test: 0.6580| Eval Time: 0.5196s\n",
      "Epoch 14| Loss: 0.0030| Acc: 1.0000| Train Time: 0.0971s\n"
     ]
    },
    {
     "name": "stderr",
     "output_type": "stream",
     "text": [
      "Evaluating: 100%|██████████| 6654/6654 [00:00<00:00, 16219.21it/s]\n"
     ]
    },
    {
     "name": "stdout",
     "output_type": "stream",
     "text": [
      "Train: 1.0000| Val: 0.6660| Test: 0.6550| Eval Time: 0.4165s\n",
      "Epoch 15| Loss: 0.0007| Acc: 1.0000| Train Time: 0.0917s\n"
     ]
    },
    {
     "name": "stderr",
     "output_type": "stream",
     "text": [
      "Evaluating: 100%|██████████| 6654/6654 [00:00<00:00, 16678.73it/s]\n"
     ]
    },
    {
     "name": "stdout",
     "output_type": "stream",
     "text": [
      "Train: 1.0000| Val: 0.6640| Test: 0.6510| Eval Time: 0.4047s\n",
      "Epoch 16| Loss: 0.0005| Acc: 1.0000| Train Time: 0.0880s\n"
     ]
    },
    {
     "name": "stderr",
     "output_type": "stream",
     "text": [
      "Evaluating: 100%|██████████| 6654/6654 [00:00<00:00, 16804.77it/s]\n"
     ]
    },
    {
     "name": "stdout",
     "output_type": "stream",
     "text": [
      "Train: 1.0000| Val: 0.6600| Test: 0.6480| Eval Time: 0.4025s\n",
      "Epoch 17| Loss: 0.0003| Acc: 1.0000| Train Time: 0.0921s\n"
     ]
    },
    {
     "name": "stderr",
     "output_type": "stream",
     "text": [
      "Evaluating: 100%|██████████| 6654/6654 [00:00<00:00, 13765.90it/s]\n"
     ]
    },
    {
     "name": "stdout",
     "output_type": "stream",
     "text": [
      "Train: 1.0000| Val: 0.6580| Test: 0.6450| Eval Time: 0.4956s\n",
      "Epoch 18| Loss: 0.0002| Acc: 1.0000| Train Time: 0.0999s\n"
     ]
    },
    {
     "name": "stderr",
     "output_type": "stream",
     "text": [
      "Evaluating: 100%|██████████| 6654/6654 [00:00<00:00, 16906.25it/s]\n"
     ]
    },
    {
     "name": "stdout",
     "output_type": "stream",
     "text": [
      "Train: 1.0000| Val: 0.6560| Test: 0.6420| Eval Time: 0.4021s\n",
      "Epoch 19| Loss: 0.0003| Acc: 1.0000| Train Time: 0.0951s\n"
     ]
    },
    {
     "name": "stderr",
     "output_type": "stream",
     "text": [
      "Evaluating: 100%|██████████| 6654/6654 [00:00<00:00, 15647.17it/s]\n"
     ]
    },
    {
     "name": "stdout",
     "output_type": "stream",
     "text": [
      "Train: 1.0000| Val: 0.6520| Test: 0.6410| Eval Time: 0.4920s\n",
      "Epoch 20| Loss: 0.0001| Acc: 1.0000| Train Time: 0.0872s\n"
     ]
    },
    {
     "name": "stderr",
     "output_type": "stream",
     "text": [
      "Evaluating: 100%|██████████| 6654/6654 [00:00<00:00, 20140.52it/s]\n"
     ]
    },
    {
     "name": "stdout",
     "output_type": "stream",
     "text": [
      "Train: 1.0000| Val: 0.6520| Test: 0.6390| Eval Time: 0.4064s\n",
      "Epoch 21| Loss: 0.0000| Acc: 1.0000| Train Time: 0.0368s\n"
     ]
    },
    {
     "name": "stderr",
     "output_type": "stream",
     "text": [
      "Evaluating: 100%|██████████| 6654/6654 [00:00<00:00, 19606.82it/s]\n"
     ]
    },
    {
     "name": "stdout",
     "output_type": "stream",
     "text": [
      "Train: 1.0000| Val: 0.6500| Test: 0.6390| Eval Time: 0.4119s\n",
      "Epoch 22| Loss: 0.0001| Acc: 1.0000| Train Time: 0.0939s\n"
     ]
    },
    {
     "name": "stderr",
     "output_type": "stream",
     "text": [
      "Evaluating: 100%|██████████| 6654/6654 [00:00<00:00, 17239.42it/s]\n"
     ]
    },
    {
     "name": "stdout",
     "output_type": "stream",
     "text": [
      "Train: 1.0000| Val: 0.6520| Test: 0.6400| Eval Time: 0.3995s\n",
      "Epoch 23| Loss: 0.0001| Acc: 1.0000| Train Time: 0.0961s\n"
     ]
    },
    {
     "name": "stderr",
     "output_type": "stream",
     "text": [
      "Evaluating: 100%|██████████| 6654/6654 [00:00<00:00, 16243.16it/s]\n"
     ]
    },
    {
     "name": "stdout",
     "output_type": "stream",
     "text": [
      "Train: 1.0000| Val: 0.6520| Test: 0.6410| Eval Time: 0.4180s\n",
      "Epoch 24| Loss: 0.0001| Acc: 1.0000| Train Time: 0.0914s\n"
     ]
    },
    {
     "name": "stderr",
     "output_type": "stream",
     "text": [
      "Evaluating: 100%|██████████| 6654/6654 [00:00<00:00, 16132.72it/s]\n"
     ]
    },
    {
     "name": "stdout",
     "output_type": "stream",
     "text": [
      "Train: 1.0000| Val: 0.6500| Test: 0.6390| Eval Time: 0.4180s\n",
      "Epoch 25| Loss: 0.0006| Acc: 1.0000| Train Time: 0.0855s\n"
     ]
    },
    {
     "name": "stderr",
     "output_type": "stream",
     "text": [
      "Evaluating: 100%|██████████| 6654/6654 [00:00<00:00, 16369.55it/s]\n"
     ]
    },
    {
     "name": "stdout",
     "output_type": "stream",
     "text": [
      "Train: 1.0000| Val: 0.6520| Test: 0.6400| Eval Time: 0.4119s\n",
      "Epoch 26| Loss: 0.0003| Acc: 1.0000| Train Time: 0.0917s\n"
     ]
    },
    {
     "name": "stderr",
     "output_type": "stream",
     "text": [
      "Evaluating: 100%|██████████| 6654/6654 [00:00<00:00, 14083.34it/s]\n"
     ]
    },
    {
     "name": "stdout",
     "output_type": "stream",
     "text": [
      "Train: 1.0000| Val: 0.6520| Test: 0.6410| Eval Time: 0.4882s\n",
      "Epoch 27| Loss: 0.0001| Acc: 1.0000| Train Time: 0.0965s\n"
     ]
    },
    {
     "name": "stderr",
     "output_type": "stream",
     "text": [
      "Evaluating: 100%|██████████| 6654/6654 [00:00<00:00, 13383.73it/s]\n"
     ]
    },
    {
     "name": "stdout",
     "output_type": "stream",
     "text": [
      "Train: 1.0000| Val: 0.6520| Test: 0.6400| Eval Time: 0.5044s\n",
      "Epoch 28| Loss: 0.0000| Acc: 1.0000| Train Time: 0.0969s\n"
     ]
    },
    {
     "name": "stderr",
     "output_type": "stream",
     "text": [
      "Evaluating: 100%|██████████| 6654/6654 [00:00<00:00, 14095.00it/s]\n"
     ]
    },
    {
     "name": "stdout",
     "output_type": "stream",
     "text": [
      "Train: 1.0000| Val: 0.6520| Test: 0.6400| Eval Time: 0.4965s\n",
      "Epoch 29| Loss: 0.0015| Acc: 1.0000| Train Time: 0.0982s\n"
     ]
    },
    {
     "name": "stderr",
     "output_type": "stream",
     "text": [
      "Evaluating: 100%|██████████| 6654/6654 [00:00<00:00, 16685.32it/s]\n"
     ]
    },
    {
     "name": "stdout",
     "output_type": "stream",
     "text": [
      "Train: 1.0000| Val: 0.6540| Test: 0.6380| Eval Time: 0.4090s\n",
      "Epoch 30| Loss: 0.0001| Acc: 1.0000| Train Time: 0.0960s\n"
     ]
    },
    {
     "name": "stderr",
     "output_type": "stream",
     "text": [
      "Evaluating: 100%|██████████| 6654/6654 [00:00<00:00, 16350.78it/s]\n"
     ]
    },
    {
     "name": "stdout",
     "output_type": "stream",
     "text": [
      "Train: 1.0000| Val: 0.6520| Test: 0.6380| Eval Time: 0.4128s\n",
      "Epoch 31| Loss: 0.0000| Acc: 1.0000| Train Time: 0.0902s\n"
     ]
    },
    {
     "name": "stderr",
     "output_type": "stream",
     "text": [
      "Evaluating: 100%|██████████| 6654/6654 [00:00<00:00, 13614.57it/s]\n"
     ]
    },
    {
     "name": "stdout",
     "output_type": "stream",
     "text": [
      "Train: 1.0000| Val: 0.6560| Test: 0.6390| Eval Time: 0.4958s\n",
      "Epoch 32| Loss: 0.0000| Acc: 1.0000| Train Time: 0.0977s\n"
     ]
    },
    {
     "name": "stderr",
     "output_type": "stream",
     "text": [
      "Evaluating: 100%|██████████| 6654/6654 [00:00<00:00, 16570.08it/s]\n"
     ]
    },
    {
     "name": "stdout",
     "output_type": "stream",
     "text": [
      "Train: 1.0000| Val: 0.6580| Test: 0.6400| Eval Time: 0.4082s\n",
      "Epoch 33| Loss: 0.0001| Acc: 1.0000| Train Time: 0.0963s\n"
     ]
    },
    {
     "name": "stderr",
     "output_type": "stream",
     "text": [
      "Evaluating: 100%|██████████| 6654/6654 [00:00<00:00, 14093.26it/s]\n"
     ]
    },
    {
     "name": "stdout",
     "output_type": "stream",
     "text": [
      "Train: 1.0000| Val: 0.6580| Test: 0.6420| Eval Time: 0.4845s\n",
      "\n",
      "Result of  3. run| Train: 1.0000| Val: 0.6960| Test: 0.6710\n",
      "\n",
      "Run 01 for GatV1_K3_D2_s_AggrMode.MAX and CiteSeer:\n"
     ]
    },
    {
     "name": "stderr",
     "output_type": "stream",
     "text": [
      "Epoch 01: 100%|██████████| 120/120 [00:01<00:00, 104.84it/s]\n"
     ]
    },
    {
     "name": "stdout",
     "output_type": "stream",
     "text": [
      "Epoch 01| Loss: 1.8198| Acc: 0.1583| Train Time: 1.1482s\n"
     ]
    },
    {
     "name": "stderr",
     "output_type": "stream",
     "text": [
      "Evaluating: 100%|██████████| 6654/6654 [00:00<00:00, 10085.37it/s]\n"
     ]
    },
    {
     "name": "stdout",
     "output_type": "stream",
     "text": [
      "Train: 0.9667| Val: 0.6540| Test: 0.6530| Eval Time: 0.7313s\n",
      "Epoch 02| Loss: 1.0718| Acc: 0.9417| Train Time: 1.0846s\n"
     ]
    },
    {
     "name": "stderr",
     "output_type": "stream",
     "text": [
      "Evaluating: 100%|██████████| 6654/6654 [00:00<00:00, 10452.56it/s]\n"
     ]
    },
    {
     "name": "stdout",
     "output_type": "stream",
     "text": [
      "Train: 0.9833| Val: 0.7000| Test: 0.6840| Eval Time: 0.6463s\n",
      "Epoch 03| Loss: 0.5179| Acc: 0.9750| Train Time: 0.1876s\n"
     ]
    },
    {
     "name": "stderr",
     "output_type": "stream",
     "text": [
      "Evaluating: 100%|██████████| 6654/6654 [00:00<00:00, 11035.46it/s]\n"
     ]
    },
    {
     "name": "stdout",
     "output_type": "stream",
     "text": [
      "Train: 0.9833| Val: 0.6900| Test: 0.6590| Eval Time: 0.6104s\n",
      "Epoch 04| Loss: 0.2125| Acc: 0.9917| Train Time: 0.1872s\n"
     ]
    },
    {
     "name": "stderr",
     "output_type": "stream",
     "text": [
      "Evaluating: 100%|██████████| 6654/6654 [00:00<00:00, 12868.63it/s]\n"
     ]
    },
    {
     "name": "stdout",
     "output_type": "stream",
     "text": [
      "Train: 0.9917| Val: 0.6840| Test: 0.6560| Eval Time: 0.5804s\n",
      "Epoch 05| Loss: 0.1049| Acc: 0.9667| Train Time: 0.1254s\n"
     ]
    },
    {
     "name": "stderr",
     "output_type": "stream",
     "text": [
      "Evaluating: 100%|██████████| 6654/6654 [00:00<00:00, 11486.95it/s]\n"
     ]
    },
    {
     "name": "stdout",
     "output_type": "stream",
     "text": [
      "Train: 1.0000| Val: 0.6780| Test: 0.6530| Eval Time: 0.5923s\n",
      "Epoch 06| Loss: 0.0550| Acc: 0.9917| Train Time: 0.1178s\n"
     ]
    },
    {
     "name": "stderr",
     "output_type": "stream",
     "text": [
      "Evaluating: 100%|██████████| 6654/6654 [00:00<00:00, 12249.35it/s]\n"
     ]
    },
    {
     "name": "stdout",
     "output_type": "stream",
     "text": [
      "Train: 1.0000| Val: 0.6780| Test: 0.6600| Eval Time: 0.6551s\n",
      "Epoch 07| Loss: 0.0274| Acc: 1.0000| Train Time: 0.1194s\n"
     ]
    },
    {
     "name": "stderr",
     "output_type": "stream",
     "text": [
      "Evaluating: 100%|██████████| 6654/6654 [00:00<00:00, 13019.82it/s]\n"
     ]
    },
    {
     "name": "stdout",
     "output_type": "stream",
     "text": [
      "Train: 1.0000| Val: 0.6800| Test: 0.6630| Eval Time: 0.5185s\n",
      "Epoch 08| Loss: 0.0113| Acc: 1.0000| Train Time: 0.1034s\n"
     ]
    },
    {
     "name": "stderr",
     "output_type": "stream",
     "text": [
      "Evaluating: 100%|██████████| 6654/6654 [00:00<00:00, 13315.92it/s]\n"
     ]
    },
    {
     "name": "stdout",
     "output_type": "stream",
     "text": [
      "Train: 1.0000| Val: 0.6740| Test: 0.6630| Eval Time: 0.5651s\n",
      "Epoch 09| Loss: 0.0081| Acc: 1.0000| Train Time: 0.1183s\n"
     ]
    },
    {
     "name": "stderr",
     "output_type": "stream",
     "text": [
      "Evaluating: 100%|██████████| 6654/6654 [00:00<00:00, 11116.99it/s]\n"
     ]
    },
    {
     "name": "stdout",
     "output_type": "stream",
     "text": [
      "Train: 1.0000| Val: 0.6720| Test: 0.6670| Eval Time: 0.6065s\n",
      "Epoch 10| Loss: 0.0044| Acc: 1.0000| Train Time: 0.1075s\n"
     ]
    },
    {
     "name": "stderr",
     "output_type": "stream",
     "text": [
      "Evaluating: 100%|██████████| 6654/6654 [00:00<00:00, 11210.51it/s]\n"
     ]
    },
    {
     "name": "stdout",
     "output_type": "stream",
     "text": [
      "Train: 1.0000| Val: 0.6680| Test: 0.6690| Eval Time: 0.6754s\n",
      "Epoch 11| Loss: 0.0075| Acc: 1.0000| Train Time: 0.1113s\n"
     ]
    },
    {
     "name": "stderr",
     "output_type": "stream",
     "text": [
      "Evaluating: 100%|██████████| 6654/6654 [00:00<00:00, 11145.76it/s]\n"
     ]
    },
    {
     "name": "stdout",
     "output_type": "stream",
     "text": [
      "Train: 1.0000| Val: 0.6640| Test: 0.6710| Eval Time: 0.6028s\n",
      "Epoch 12| Loss: 0.0024| Acc: 1.0000| Train Time: 0.1098s\n"
     ]
    },
    {
     "name": "stderr",
     "output_type": "stream",
     "text": [
      "Evaluating: 100%|██████████| 6654/6654 [00:00<00:00, 12395.08it/s]\n"
     ]
    },
    {
     "name": "stdout",
     "output_type": "stream",
     "text": [
      "Train: 1.0000| Val: 0.6600| Test: 0.6740| Eval Time: 0.5996s\n",
      "Epoch 13| Loss: 0.0072| Acc: 1.0000| Train Time: 0.1659s\n"
     ]
    },
    {
     "name": "stderr",
     "output_type": "stream",
     "text": [
      "Evaluating: 100%|██████████| 6654/6654 [00:00<00:00, 12668.73it/s]\n"
     ]
    },
    {
     "name": "stdout",
     "output_type": "stream",
     "text": [
      "Train: 1.0000| Val: 0.6600| Test: 0.6730| Eval Time: 0.5330s\n",
      "Epoch 14| Loss: 0.0070| Acc: 1.0000| Train Time: 0.1798s\n"
     ]
    },
    {
     "name": "stderr",
     "output_type": "stream",
     "text": [
      "Evaluating: 100%|██████████| 6654/6654 [00:00<00:00, 10970.03it/s]\n"
     ]
    },
    {
     "name": "stdout",
     "output_type": "stream",
     "text": [
      "Train: 1.0000| Val: 0.6560| Test: 0.6710| Eval Time: 0.6135s\n",
      "Epoch 15| Loss: 0.0015| Acc: 1.0000| Train Time: 0.0980s\n"
     ]
    },
    {
     "name": "stderr",
     "output_type": "stream",
     "text": [
      "Evaluating: 100%|██████████| 6654/6654 [00:00<00:00, 9726.11it/s] \n"
     ]
    },
    {
     "name": "stdout",
     "output_type": "stream",
     "text": [
      "Train: 1.0000| Val: 0.6580| Test: 0.6700| Eval Time: 0.6907s\n",
      "Epoch 16| Loss: 0.0036| Acc: 1.0000| Train Time: 0.1097s\n"
     ]
    },
    {
     "name": "stderr",
     "output_type": "stream",
     "text": [
      "Evaluating: 100%|██████████| 6654/6654 [00:00<00:00, 12605.21it/s]\n"
     ]
    },
    {
     "name": "stdout",
     "output_type": "stream",
     "text": [
      "Train: 1.0000| Val: 0.6640| Test: 0.6730| Eval Time: 0.5363s\n",
      "Epoch 17| Loss: 0.0024| Acc: 1.0000| Train Time: 0.1656s\n"
     ]
    },
    {
     "name": "stderr",
     "output_type": "stream",
     "text": [
      "Evaluating: 100%|██████████| 6654/6654 [00:00<00:00, 12556.38it/s]\n"
     ]
    },
    {
     "name": "stdout",
     "output_type": "stream",
     "text": [
      "Train: 1.0000| Val: 0.6640| Test: 0.6740| Eval Time: 0.6113s\n",
      "Epoch 18| Loss: 0.0010| Acc: 1.0000| Train Time: 0.1129s\n"
     ]
    },
    {
     "name": "stderr",
     "output_type": "stream",
     "text": [
      "Evaluating: 100%|██████████| 6654/6654 [00:00<00:00, 11598.76it/s]\n"
     ]
    },
    {
     "name": "stdout",
     "output_type": "stream",
     "text": [
      "Train: 1.0000| Val: 0.6660| Test: 0.6740| Eval Time: 0.5827s\n",
      "Epoch 19| Loss: 0.0002| Acc: 1.0000| Train Time: 0.1144s\n"
     ]
    },
    {
     "name": "stderr",
     "output_type": "stream",
     "text": [
      "Evaluating: 100%|██████████| 6654/6654 [00:00<00:00, 14130.20it/s]\n"
     ]
    },
    {
     "name": "stdout",
     "output_type": "stream",
     "text": [
      "Train: 1.0000| Val: 0.6700| Test: 0.6740| Eval Time: 0.4839s\n",
      "Epoch 20| Loss: 0.0004| Acc: 1.0000| Train Time: 0.1145s\n"
     ]
    },
    {
     "name": "stderr",
     "output_type": "stream",
     "text": [
      "Evaluating: 100%|██████████| 6654/6654 [00:00<00:00, 11185.05it/s]\n"
     ]
    },
    {
     "name": "stdout",
     "output_type": "stream",
     "text": [
      "Train: 1.0000| Val: 0.6700| Test: 0.6760| Eval Time: 0.6005s\n",
      "Epoch 21| Loss: 0.0002| Acc: 1.0000| Train Time: 0.1948s\n"
     ]
    },
    {
     "name": "stderr",
     "output_type": "stream",
     "text": [
      "Evaluating: 100%|██████████| 6654/6654 [00:00<00:00, 13964.45it/s]\n"
     ]
    },
    {
     "name": "stdout",
     "output_type": "stream",
     "text": [
      "Train: 1.0000| Val: 0.6720| Test: 0.6760| Eval Time: 0.4850s\n",
      "Epoch 22| Loss: 0.0094| Acc: 0.9917| Train Time: 0.0385s\n"
     ]
    },
    {
     "name": "stderr",
     "output_type": "stream",
     "text": [
      "Evaluating: 100%|██████████| 6654/6654 [00:00<00:00, 9070.97it/s] \n"
     ]
    },
    {
     "name": "stdout",
     "output_type": "stream",
     "text": [
      "Train: 1.0000| Val: 0.6720| Test: 0.6790| Eval Time: 0.8592s\n",
      "Epoch 23| Loss: 0.0000| Acc: 1.0000| Train Time: 0.1231s\n"
     ]
    },
    {
     "name": "stderr",
     "output_type": "stream",
     "text": [
      "Evaluating: 100%|██████████| 6654/6654 [00:00<00:00, 13263.58it/s]\n"
     ]
    },
    {
     "name": "stdout",
     "output_type": "stream",
     "text": [
      "Train: 1.0000| Val: 0.6720| Test: 0.6820| Eval Time: 0.5074s\n",
      "Epoch 24| Loss: 0.0001| Acc: 1.0000| Train Time: 0.1589s\n"
     ]
    },
    {
     "name": "stderr",
     "output_type": "stream",
     "text": [
      "Evaluating: 100%|██████████| 6654/6654 [00:00<00:00, 11177.84it/s]\n"
     ]
    },
    {
     "name": "stdout",
     "output_type": "stream",
     "text": [
      "Train: 1.0000| Val: 0.6760| Test: 0.6830| Eval Time: 0.6108s\n",
      "Epoch 25| Loss: 0.0001| Acc: 1.0000| Train Time: 0.1191s\n"
     ]
    },
    {
     "name": "stderr",
     "output_type": "stream",
     "text": [
      "Evaluating: 100%|██████████| 6654/6654 [00:00<00:00, 11550.60it/s]\n"
     ]
    },
    {
     "name": "stdout",
     "output_type": "stream",
     "text": [
      "Train: 1.0000| Val: 0.6800| Test: 0.6810| Eval Time: 0.5849s\n",
      "Epoch 26| Loss: 0.0000| Acc: 1.0000| Train Time: 0.1153s\n"
     ]
    },
    {
     "name": "stderr",
     "output_type": "stream",
     "text": [
      "Evaluating: 100%|██████████| 6654/6654 [00:00<00:00, 9748.07it/s] \n"
     ]
    },
    {
     "name": "stdout",
     "output_type": "stream",
     "text": [
      "Train: 1.0000| Val: 0.6780| Test: 0.6820| Eval Time: 0.6907s\n",
      "Epoch 27| Loss: 0.0000| Acc: 1.0000| Train Time: 0.1114s\n"
     ]
    },
    {
     "name": "stderr",
     "output_type": "stream",
     "text": [
      "Evaluating: 100%|██████████| 6654/6654 [00:00<00:00, 11309.37it/s]\n"
     ]
    },
    {
     "name": "stdout",
     "output_type": "stream",
     "text": [
      "Train: 1.0000| Val: 0.6780| Test: 0.6820| Eval Time: 0.5947s\n",
      "Epoch 28| Loss: 0.0001| Acc: 1.0000| Train Time: 0.1056s\n"
     ]
    },
    {
     "name": "stderr",
     "output_type": "stream",
     "text": [
      "Evaluating: 100%|██████████| 6654/6654 [00:00<00:00, 9159.64it/s] \n"
     ]
    },
    {
     "name": "stdout",
     "output_type": "stream",
     "text": [
      "Train: 1.0000| Val: 0.6780| Test: 0.6860| Eval Time: 0.7950s\n",
      "Epoch 29| Loss: 0.0037| Acc: 1.0000| Train Time: 0.1900s\n"
     ]
    },
    {
     "name": "stderr",
     "output_type": "stream",
     "text": [
      "Evaluating: 100%|██████████| 6654/6654 [00:00<00:00, 12794.60it/s]\n"
     ]
    },
    {
     "name": "stdout",
     "output_type": "stream",
     "text": [
      "Train: 1.0000| Val: 0.6780| Test: 0.6840| Eval Time: 0.5830s\n",
      "Epoch 30| Loss: 0.0008| Acc: 1.0000| Train Time: 0.1235s\n"
     ]
    },
    {
     "name": "stderr",
     "output_type": "stream",
     "text": [
      "Evaluating: 100%|██████████| 6654/6654 [00:00<00:00, 11239.49it/s]\n"
     ]
    },
    {
     "name": "stdout",
     "output_type": "stream",
     "text": [
      "Train: 1.0000| Val: 0.6780| Test: 0.6830| Eval Time: 0.5986s\n",
      "Epoch 31| Loss: 0.0043| Acc: 1.0000| Train Time: 0.1839s\n"
     ]
    },
    {
     "name": "stderr",
     "output_type": "stream",
     "text": [
      "Evaluating: 100%|██████████| 6654/6654 [00:00<00:00, 9782.43it/s] \n"
     ]
    },
    {
     "name": "stdout",
     "output_type": "stream",
     "text": [
      "Train: 1.0000| Val: 0.6820| Test: 0.6800| Eval Time: 0.6987s\n",
      "Epoch 32| Loss: 0.0003| Acc: 1.0000| Train Time: 0.1211s\n"
     ]
    },
    {
     "name": "stderr",
     "output_type": "stream",
     "text": [
      "Evaluating: 100%|██████████| 6654/6654 [00:00<00:00, 9720.70it/s] \n"
     ]
    },
    {
     "name": "stdout",
     "output_type": "stream",
     "text": [
      "Train: 1.0000| Val: 0.6760| Test: 0.6800| Eval Time: 0.6925s\n",
      "\n",
      "Result of  1. run| Train: 0.9833| Val: 0.7000| Test: 0.6840\n",
      "\n",
      "Run 02 for GatV1_K3_D2_s_AggrMode.MAX and CiteSeer:\n"
     ]
    },
    {
     "name": "stderr",
     "output_type": "stream",
     "text": [
      "Epoch 01: 100%|██████████| 120/120 [00:00<00:00, 641.02it/s]\n"
     ]
    },
    {
     "name": "stdout",
     "output_type": "stream",
     "text": [
      "Epoch 01| Loss: 1.7707| Acc: 0.2417| Train Time: 0.1904s\n"
     ]
    },
    {
     "name": "stderr",
     "output_type": "stream",
     "text": [
      "Evaluating: 100%|██████████| 6654/6654 [00:00<00:00, 9822.20it/s] \n"
     ]
    },
    {
     "name": "stdout",
     "output_type": "stream",
     "text": [
      "Train: 0.9667| Val: 0.5460| Test: 0.5290| Eval Time: 0.6929s\n",
      "Epoch 02| Loss: 1.0342| Acc: 0.9500| Train Time: 0.1130s\n"
     ]
    },
    {
     "name": "stderr",
     "output_type": "stream",
     "text": [
      "Evaluating: 100%|██████████| 6654/6654 [00:00<00:00, 9707.15it/s] \n"
     ]
    },
    {
     "name": "stdout",
     "output_type": "stream",
     "text": [
      "Train: 0.9917| Val: 0.6860| Test: 0.6670| Eval Time: 0.6942s\n",
      "Epoch 03| Loss: 0.4902| Acc: 0.9750| Train Time: 0.1112s\n"
     ]
    },
    {
     "name": "stderr",
     "output_type": "stream",
     "text": [
      "Evaluating: 100%|██████████| 6654/6654 [00:00<00:00, 9964.04it/s] \n"
     ]
    },
    {
     "name": "stdout",
     "output_type": "stream",
     "text": [
      "Train: 1.0000| Val: 0.6920| Test: 0.6790| Eval Time: 0.6746s\n",
      "Epoch 04| Loss: 0.1931| Acc: 0.9833| Train Time: 0.1153s\n"
     ]
    },
    {
     "name": "stderr",
     "output_type": "stream",
     "text": [
      "Evaluating: 100%|██████████| 6654/6654 [00:00<00:00, 8587.30it/s] \n"
     ]
    },
    {
     "name": "stdout",
     "output_type": "stream",
     "text": [
      "Train: 1.0000| Val: 0.6800| Test: 0.6880| Eval Time: 0.7902s\n",
      "Epoch 05| Loss: 0.0953| Acc: 0.9833| Train Time: 0.1133s\n"
     ]
    },
    {
     "name": "stderr",
     "output_type": "stream",
     "text": [
      "Evaluating: 100%|██████████| 6654/6654 [00:00<00:00, 13525.82it/s]\n"
     ]
    },
    {
     "name": "stdout",
     "output_type": "stream",
     "text": [
      "Train: 1.0000| Val: 0.6820| Test: 0.6850| Eval Time: 0.4977s\n",
      "Epoch 06| Loss: 0.0468| Acc: 1.0000| Train Time: 0.1949s\n"
     ]
    },
    {
     "name": "stderr",
     "output_type": "stream",
     "text": [
      "Evaluating: 100%|██████████| 6654/6654 [00:00<00:00, 11745.62it/s]\n"
     ]
    },
    {
     "name": "stdout",
     "output_type": "stream",
     "text": [
      "Train: 1.0000| Val: 0.6800| Test: 0.6870| Eval Time: 0.5763s\n",
      "Epoch 07| Loss: 0.0241| Acc: 1.0000| Train Time: 0.1353s\n"
     ]
    },
    {
     "name": "stderr",
     "output_type": "stream",
     "text": [
      "Evaluating: 100%|██████████| 6654/6654 [00:00<00:00, 13172.43it/s]\n"
     ]
    },
    {
     "name": "stdout",
     "output_type": "stream",
     "text": [
      "Train: 1.0000| Val: 0.6720| Test: 0.6900| Eval Time: 0.5608s\n",
      "Epoch 08| Loss: 0.0135| Acc: 1.0000| Train Time: 0.1271s\n"
     ]
    },
    {
     "name": "stderr",
     "output_type": "stream",
     "text": [
      "Evaluating: 100%|██████████| 6654/6654 [00:00<00:00, 11273.96it/s]\n"
     ]
    },
    {
     "name": "stdout",
     "output_type": "stream",
     "text": [
      "Train: 1.0000| Val: 0.6660| Test: 0.6840| Eval Time: 0.5981s\n",
      "Epoch 09| Loss: 0.0054| Acc: 1.0000| Train Time: 0.1014s\n"
     ]
    },
    {
     "name": "stderr",
     "output_type": "stream",
     "text": [
      "Evaluating: 100%|██████████| 6654/6654 [00:00<00:00, 11228.26it/s]\n"
     ]
    },
    {
     "name": "stdout",
     "output_type": "stream",
     "text": [
      "Train: 1.0000| Val: 0.6640| Test: 0.6800| Eval Time: 0.5996s\n",
      "Epoch 10| Loss: 0.0137| Acc: 0.9917| Train Time: 0.1021s\n"
     ]
    },
    {
     "name": "stderr",
     "output_type": "stream",
     "text": [
      "Evaluating: 100%|██████████| 6654/6654 [00:00<00:00, 11277.27it/s]\n"
     ]
    },
    {
     "name": "stdout",
     "output_type": "stream",
     "text": [
      "Train: 1.0000| Val: 0.6560| Test: 0.6730| Eval Time: 0.5958s\n",
      "Epoch 11| Loss: 0.0051| Acc: 1.0000| Train Time: 0.0981s\n"
     ]
    },
    {
     "name": "stderr",
     "output_type": "stream",
     "text": [
      "Evaluating: 100%|██████████| 6654/6654 [00:00<00:00, 9606.24it/s] \n"
     ]
    },
    {
     "name": "stdout",
     "output_type": "stream",
     "text": [
      "Train: 1.0000| Val: 0.6640| Test: 0.6690| Eval Time: 0.6989s\n",
      "Epoch 12| Loss: 0.0017| Acc: 1.0000| Train Time: 0.1117s\n"
     ]
    },
    {
     "name": "stderr",
     "output_type": "stream",
     "text": [
      "Evaluating: 100%|██████████| 6654/6654 [00:00<00:00, 12536.81it/s]\n"
     ]
    },
    {
     "name": "stdout",
     "output_type": "stream",
     "text": [
      "Train: 1.0000| Val: 0.6620| Test: 0.6630| Eval Time: 0.5964s\n",
      "Epoch 13| Loss: 0.0017| Acc: 1.0000| Train Time: 0.1021s\n"
     ]
    },
    {
     "name": "stderr",
     "output_type": "stream",
     "text": [
      "Evaluating: 100%|██████████| 6654/6654 [00:00<00:00, 12511.84it/s]\n"
     ]
    },
    {
     "name": "stdout",
     "output_type": "stream",
     "text": [
      "Train: 1.0000| Val: 0.6600| Test: 0.6590| Eval Time: 0.5976s\n",
      "Epoch 14| Loss: 0.0016| Acc: 1.0000| Train Time: 0.1034s\n"
     ]
    },
    {
     "name": "stderr",
     "output_type": "stream",
     "text": [
      "Evaluating: 100%|██████████| 6654/6654 [00:00<00:00, 11115.69it/s]\n"
     ]
    },
    {
     "name": "stdout",
     "output_type": "stream",
     "text": [
      "Train: 1.0000| Val: 0.6600| Test: 0.6600| Eval Time: 0.6133s\n",
      "Epoch 15| Loss: 0.0064| Acc: 1.0000| Train Time: 0.1189s\n"
     ]
    },
    {
     "name": "stderr",
     "output_type": "stream",
     "text": [
      "Evaluating: 100%|██████████| 6654/6654 [00:00<00:00, 9657.60it/s] \n"
     ]
    },
    {
     "name": "stdout",
     "output_type": "stream",
     "text": [
      "Train: 1.0000| Val: 0.6620| Test: 0.6600| Eval Time: 0.6958s\n",
      "Epoch 16| Loss: 0.0004| Acc: 1.0000| Train Time: 0.1075s\n"
     ]
    },
    {
     "name": "stderr",
     "output_type": "stream",
     "text": [
      "Evaluating: 100%|██████████| 6654/6654 [00:00<00:00, 11123.94it/s]\n"
     ]
    },
    {
     "name": "stdout",
     "output_type": "stream",
     "text": [
      "Train: 1.0000| Val: 0.6620| Test: 0.6620| Eval Time: 0.6757s\n",
      "Epoch 17| Loss: 0.0002| Acc: 1.0000| Train Time: 0.1167s\n"
     ]
    },
    {
     "name": "stderr",
     "output_type": "stream",
     "text": [
      "Evaluating: 100%|██████████| 6654/6654 [00:00<00:00, 8430.42it/s] \n"
     ]
    },
    {
     "name": "stdout",
     "output_type": "stream",
     "text": [
      "Train: 1.0000| Val: 0.6620| Test: 0.6620| Eval Time: 0.7949s\n",
      "Epoch 18| Loss: 0.0002| Acc: 1.0000| Train Time: 0.1133s\n"
     ]
    },
    {
     "name": "stderr",
     "output_type": "stream",
     "text": [
      "Evaluating: 100%|██████████| 6654/6654 [00:00<00:00, 11251.17it/s]\n"
     ]
    },
    {
     "name": "stdout",
     "output_type": "stream",
     "text": [
      "Train: 1.0000| Val: 0.6640| Test: 0.6600| Eval Time: 0.5970s\n",
      "Epoch 19| Loss: 0.0001| Acc: 1.0000| Train Time: 0.1748s\n"
     ]
    },
    {
     "name": "stderr",
     "output_type": "stream",
     "text": [
      "Evaluating: 100%|██████████| 6654/6654 [00:00<00:00, 12914.23it/s]\n"
     ]
    },
    {
     "name": "stdout",
     "output_type": "stream",
     "text": [
      "Train: 1.0000| Val: 0.6620| Test: 0.6600| Eval Time: 0.5225s\n",
      "Epoch 20| Loss: 0.0008| Acc: 1.0000| Train Time: 0.1076s\n"
     ]
    },
    {
     "name": "stderr",
     "output_type": "stream",
     "text": [
      "Evaluating: 100%|██████████| 6654/6654 [00:00<00:00, 10611.14it/s]\n"
     ]
    },
    {
     "name": "stdout",
     "output_type": "stream",
     "text": [
      "Train: 1.0000| Val: 0.6640| Test: 0.6590| Eval Time: 0.6836s\n",
      "Epoch 21| Loss: 0.0005| Acc: 1.0000| Train Time: 0.1066s\n"
     ]
    },
    {
     "name": "stderr",
     "output_type": "stream",
     "text": [
      "Evaluating: 100%|██████████| 6654/6654 [00:00<00:00, 11418.62it/s]\n"
     ]
    },
    {
     "name": "stdout",
     "output_type": "stream",
     "text": [
      "Train: 1.0000| Val: 0.6640| Test: 0.6570| Eval Time: 0.5915s\n",
      "Epoch 22| Loss: 0.0001| Acc: 1.0000| Train Time: 0.1054s\n"
     ]
    },
    {
     "name": "stderr",
     "output_type": "stream",
     "text": [
      "Evaluating: 100%|██████████| 6654/6654 [00:00<00:00, 10107.39it/s]\n"
     ]
    },
    {
     "name": "stdout",
     "output_type": "stream",
     "text": [
      "Train: 1.0000| Val: 0.6640| Test: 0.6610| Eval Time: 0.6738s\n",
      "Epoch 23| Loss: 0.0009| Acc: 1.0000| Train Time: 0.1153s\n"
     ]
    },
    {
     "name": "stderr",
     "output_type": "stream",
     "text": [
      "Evaluating: 100%|██████████| 6654/6654 [00:00<00:00, 10880.92it/s]\n"
     ]
    },
    {
     "name": "stdout",
     "output_type": "stream",
     "text": [
      "Train: 1.0000| Val: 0.6640| Test: 0.6610| Eval Time: 0.6168s\n",
      "Epoch 24| Loss: 0.0177| Acc: 0.9917| Train Time: 0.1811s\n"
     ]
    },
    {
     "name": "stderr",
     "output_type": "stream",
     "text": [
      "Evaluating: 100%|██████████| 6654/6654 [00:00<00:00, 13196.54it/s]\n"
     ]
    },
    {
     "name": "stdout",
     "output_type": "stream",
     "text": [
      "Train: 1.0000| Val: 0.6640| Test: 0.6650| Eval Time: 0.5102s\n",
      "Epoch 25| Loss: 0.0001| Acc: 1.0000| Train Time: 0.1035s\n"
     ]
    },
    {
     "name": "stderr",
     "output_type": "stream",
     "text": [
      "Evaluating: 100%|██████████| 6654/6654 [00:00<00:00, 13068.29it/s]\n"
     ]
    },
    {
     "name": "stdout",
     "output_type": "stream",
     "text": [
      "Train: 1.0000| Val: 0.6640| Test: 0.6620| Eval Time: 0.5940s\n",
      "Epoch 26| Loss: 0.0000| Acc: 1.0000| Train Time: 0.1001s\n"
     ]
    },
    {
     "name": "stderr",
     "output_type": "stream",
     "text": [
      "Evaluating: 100%|██████████| 6654/6654 [00:00<00:00, 11027.36it/s]\n"
     ]
    },
    {
     "name": "stdout",
     "output_type": "stream",
     "text": [
      "Train: 1.0000| Val: 0.6580| Test: 0.6570| Eval Time: 0.6693s\n",
      "Epoch 27| Loss: 0.0001| Acc: 1.0000| Train Time: 0.0957s\n"
     ]
    },
    {
     "name": "stderr",
     "output_type": "stream",
     "text": [
      "Evaluating: 100%|██████████| 6654/6654 [00:00<00:00, 12596.61it/s]\n"
     ]
    },
    {
     "name": "stdout",
     "output_type": "stream",
     "text": [
      "Train: 1.0000| Val: 0.6540| Test: 0.6540| Eval Time: 0.6050s\n",
      "Epoch 28| Loss: 0.0004| Acc: 1.0000| Train Time: 0.1251s\n"
     ]
    },
    {
     "name": "stderr",
     "output_type": "stream",
     "text": [
      "Evaluating: 100%|██████████| 6654/6654 [00:00<00:00, 11761.18it/s]\n"
     ]
    },
    {
     "name": "stdout",
     "output_type": "stream",
     "text": [
      "Train: 1.0000| Val: 0.6560| Test: 0.6500| Eval Time: 0.5731s\n",
      "Epoch 29| Loss: 0.0000| Acc: 1.0000| Train Time: 0.1054s\n"
     ]
    },
    {
     "name": "stderr",
     "output_type": "stream",
     "text": [
      "Evaluating: 100%|██████████| 6654/6654 [00:00<00:00, 12949.61it/s]\n"
     ]
    },
    {
     "name": "stdout",
     "output_type": "stream",
     "text": [
      "Train: 1.0000| Val: 0.6520| Test: 0.6490| Eval Time: 0.5815s\n",
      "Epoch 30| Loss: 0.0010| Acc: 1.0000| Train Time: 0.1229s\n"
     ]
    },
    {
     "name": "stderr",
     "output_type": "stream",
     "text": [
      "Evaluating: 100%|██████████| 6654/6654 [00:00<00:00, 9829.83it/s] \n"
     ]
    },
    {
     "name": "stdout",
     "output_type": "stream",
     "text": [
      "Train: 1.0000| Val: 0.6540| Test: 0.6500| Eval Time: 0.6926s\n",
      "Epoch 31| Loss: 0.0000| Acc: 1.0000| Train Time: 0.1169s\n"
     ]
    },
    {
     "name": "stderr",
     "output_type": "stream",
     "text": [
      "Evaluating: 100%|██████████| 6654/6654 [00:00<00:00, 8505.10it/s] \n"
     ]
    },
    {
     "name": "stdout",
     "output_type": "stream",
     "text": [
      "Train: 1.0000| Val: 0.6480| Test: 0.6500| Eval Time: 0.7901s\n",
      "Epoch 32| Loss: 0.0060| Acc: 0.9917| Train Time: 0.1040s\n"
     ]
    },
    {
     "name": "stderr",
     "output_type": "stream",
     "text": [
      "Evaluating: 100%|██████████| 6654/6654 [00:00<00:00, 8377.74it/s] \n"
     ]
    },
    {
     "name": "stdout",
     "output_type": "stream",
     "text": [
      "Train: 1.0000| Val: 0.6520| Test: 0.6510| Eval Time: 0.8009s\n",
      "Epoch 33| Loss: 0.0000| Acc: 1.0000| Train Time: 0.1135s\n"
     ]
    },
    {
     "name": "stderr",
     "output_type": "stream",
     "text": [
      "Evaluating: 100%|██████████| 6654/6654 [00:00<00:00, 9720.20it/s] \n"
     ]
    },
    {
     "name": "stdout",
     "output_type": "stream",
     "text": [
      "Train: 1.0000| Val: 0.6520| Test: 0.6530| Eval Time: 0.6904s\n",
      "\n",
      "Result of  2. run| Train: 1.0000| Val: 0.6920| Test: 0.6790\n",
      "\n",
      "Run 03 for GatV1_K3_D2_s_AggrMode.MAX and CiteSeer:\n"
     ]
    },
    {
     "name": "stderr",
     "output_type": "stream",
     "text": [
      "Epoch 01: 100%|██████████| 120/120 [00:00<00:00, 880.21it/s]\n"
     ]
    },
    {
     "name": "stdout",
     "output_type": "stream",
     "text": [
      "Epoch 01| Loss: 1.8079| Acc: 0.1583| Train Time: 0.1997s\n"
     ]
    },
    {
     "name": "stderr",
     "output_type": "stream",
     "text": [
      "Evaluating: 100%|██████████| 6654/6654 [00:00<00:00, 9694.55it/s] \n"
     ]
    },
    {
     "name": "stdout",
     "output_type": "stream",
     "text": [
      "Train: 0.9750| Val: 0.6320| Test: 0.5860| Eval Time: 0.6934s\n",
      "Epoch 02| Loss: 1.0507| Acc: 0.9250| Train Time: 0.1004s\n"
     ]
    },
    {
     "name": "stderr",
     "output_type": "stream",
     "text": [
      "Evaluating: 100%|██████████| 6654/6654 [00:00<00:00, 11346.84it/s]\n"
     ]
    },
    {
     "name": "stdout",
     "output_type": "stream",
     "text": [
      "Train: 0.9917| Val: 0.6820| Test: 0.6650| Eval Time: 0.5942s\n",
      "Epoch 03| Loss: 0.5136| Acc: 0.9667| Train Time: 0.1072s\n"
     ]
    },
    {
     "name": "stderr",
     "output_type": "stream",
     "text": [
      "Evaluating: 100%|██████████| 6654/6654 [00:00<00:00, 10984.14it/s]\n"
     ]
    },
    {
     "name": "stdout",
     "output_type": "stream",
     "text": [
      "Train: 0.9917| Val: 0.6720| Test: 0.6630| Eval Time: 0.6100s\n",
      "Epoch 04| Loss: 0.2221| Acc: 0.9917| Train Time: 0.1818s\n"
     ]
    },
    {
     "name": "stderr",
     "output_type": "stream",
     "text": [
      "Evaluating: 100%|██████████| 6654/6654 [00:00<00:00, 13470.09it/s]\n"
     ]
    },
    {
     "name": "stdout",
     "output_type": "stream",
     "text": [
      "Train: 0.9917| Val: 0.6740| Test: 0.6610| Eval Time: 0.5011s\n",
      "Epoch 05| Loss: 0.0966| Acc: 0.9833| Train Time: 0.1041s\n"
     ]
    },
    {
     "name": "stderr",
     "output_type": "stream",
     "text": [
      "Evaluating: 100%|██████████| 6654/6654 [00:00<00:00, 13263.90it/s]\n"
     ]
    },
    {
     "name": "stdout",
     "output_type": "stream",
     "text": [
      "Train: 1.0000| Val: 0.6700| Test: 0.6600| Eval Time: 0.5074s\n",
      "Epoch 06| Loss: 0.0540| Acc: 0.9917| Train Time: 0.0986s\n"
     ]
    },
    {
     "name": "stderr",
     "output_type": "stream",
     "text": [
      "Evaluating: 100%|██████████| 6654/6654 [00:00<00:00, 10528.04it/s]\n"
     ]
    },
    {
     "name": "stdout",
     "output_type": "stream",
     "text": [
      "Train: 1.0000| Val: 0.6820| Test: 0.6680| Eval Time: 0.7679s\n",
      "Epoch 07| Loss: 0.0240| Acc: 1.0000| Train Time: 0.1125s\n"
     ]
    },
    {
     "name": "stderr",
     "output_type": "stream",
     "text": [
      "Evaluating: 100%|██████████| 6654/6654 [00:00<00:00, 11287.55it/s]\n"
     ]
    },
    {
     "name": "stdout",
     "output_type": "stream",
     "text": [
      "Train: 1.0000| Val: 0.6840| Test: 0.6700| Eval Time: 0.6019s\n",
      "Epoch 08| Loss: 0.0123| Acc: 1.0000| Train Time: 0.1109s\n"
     ]
    },
    {
     "name": "stderr",
     "output_type": "stream",
     "text": [
      "Evaluating: 100%|██████████| 6654/6654 [00:00<00:00, 11364.30it/s]\n"
     ]
    },
    {
     "name": "stdout",
     "output_type": "stream",
     "text": [
      "Train: 1.0000| Val: 0.6740| Test: 0.6680| Eval Time: 0.5915s\n",
      "Epoch 09| Loss: 0.0083| Acc: 1.0000| Train Time: 0.1098s\n"
     ]
    },
    {
     "name": "stderr",
     "output_type": "stream",
     "text": [
      "Evaluating: 100%|██████████| 6654/6654 [00:00<00:00, 13466.90it/s]\n"
     ]
    },
    {
     "name": "stdout",
     "output_type": "stream",
     "text": [
      "Train: 1.0000| Val: 0.6640| Test: 0.6700| Eval Time: 0.5732s\n",
      "Epoch 10| Loss: 0.0102| Acc: 1.0000| Train Time: 0.1000s\n"
     ]
    },
    {
     "name": "stderr",
     "output_type": "stream",
     "text": [
      "Evaluating: 100%|██████████| 6654/6654 [00:00<00:00, 11407.08it/s]\n"
     ]
    },
    {
     "name": "stdout",
     "output_type": "stream",
     "text": [
      "Train: 1.0000| Val: 0.6600| Test: 0.6470| Eval Time: 0.5908s\n",
      "Epoch 11| Loss: 0.0042| Acc: 1.0000| Train Time: 0.0404s\n"
     ]
    },
    {
     "name": "stderr",
     "output_type": "stream",
     "text": [
      "Evaluating: 100%|██████████| 6654/6654 [00:00<00:00, 12612.77it/s]\n"
     ]
    },
    {
     "name": "stdout",
     "output_type": "stream",
     "text": [
      "Train: 1.0000| Val: 0.6520| Test: 0.6360| Eval Time: 0.5891s\n",
      "Epoch 12| Loss: 0.0028| Acc: 1.0000| Train Time: 0.1110s\n"
     ]
    },
    {
     "name": "stderr",
     "output_type": "stream",
     "text": [
      "Evaluating: 100%|██████████| 6654/6654 [00:00<00:00, 15323.07it/s]\n"
     ]
    },
    {
     "name": "stdout",
     "output_type": "stream",
     "text": [
      "Train: 1.0000| Val: 0.6460| Test: 0.6300| Eval Time: 0.4981s\n",
      "Epoch 13| Loss: 0.0079| Acc: 0.9917| Train Time: 0.0993s\n"
     ]
    },
    {
     "name": "stderr",
     "output_type": "stream",
     "text": [
      "Evaluating: 100%|██████████| 6654/6654 [00:00<00:00, 12717.92it/s]\n"
     ]
    },
    {
     "name": "stdout",
     "output_type": "stream",
     "text": [
      "Train: 1.0000| Val: 0.6460| Test: 0.6310| Eval Time: 0.5860s\n",
      "Epoch 14| Loss: 0.0018| Acc: 1.0000| Train Time: 0.0980s\n"
     ]
    },
    {
     "name": "stderr",
     "output_type": "stream",
     "text": [
      "Evaluating: 100%|██████████| 6654/6654 [00:00<00:00, 10991.02it/s]\n"
     ]
    },
    {
     "name": "stdout",
     "output_type": "stream",
     "text": [
      "Train: 1.0000| Val: 0.6440| Test: 0.6300| Eval Time: 0.6128s\n",
      "Epoch 15| Loss: 0.0022| Acc: 1.0000| Train Time: 0.1028s\n"
     ]
    },
    {
     "name": "stderr",
     "output_type": "stream",
     "text": [
      "Evaluating: 100%|██████████| 6654/6654 [00:00<00:00, 14800.03it/s]\n"
     ]
    },
    {
     "name": "stdout",
     "output_type": "stream",
     "text": [
      "Train: 1.0000| Val: 0.6420| Test: 0.6320| Eval Time: 0.5655s\n",
      "Epoch 16| Loss: 0.0019| Acc: 1.0000| Train Time: 0.1156s\n"
     ]
    },
    {
     "name": "stderr",
     "output_type": "stream",
     "text": [
      "Evaluating: 100%|██████████| 6654/6654 [00:00<00:00, 10877.18it/s]\n"
     ]
    },
    {
     "name": "stdout",
     "output_type": "stream",
     "text": [
      "Train: 1.0000| Val: 0.6460| Test: 0.6360| Eval Time: 0.6167s\n",
      "Epoch 17| Loss: 0.0008| Acc: 1.0000| Train Time: 0.1826s\n"
     ]
    },
    {
     "name": "stderr",
     "output_type": "stream",
     "text": [
      "Evaluating: 100%|██████████| 6654/6654 [00:00<00:00, 11456.76it/s]\n"
     ]
    },
    {
     "name": "stdout",
     "output_type": "stream",
     "text": [
      "Train: 1.0000| Val: 0.6480| Test: 0.6360| Eval Time: 0.5904s\n",
      "Epoch 18| Loss: 0.0002| Acc: 1.0000| Train Time: 0.1119s\n"
     ]
    },
    {
     "name": "stderr",
     "output_type": "stream",
     "text": [
      "Evaluating: 100%|██████████| 6654/6654 [00:00<00:00, 11245.86it/s]\n"
     ]
    },
    {
     "name": "stdout",
     "output_type": "stream",
     "text": [
      "Train: 1.0000| Val: 0.6480| Test: 0.6380| Eval Time: 0.5990s\n",
      "Epoch 19| Loss: 0.0005| Acc: 1.0000| Train Time: 0.1065s\n"
     ]
    },
    {
     "name": "stderr",
     "output_type": "stream",
     "text": [
      "Evaluating: 100%|██████████| 6654/6654 [00:00<00:00, 12285.25it/s]\n"
     ]
    },
    {
     "name": "stdout",
     "output_type": "stream",
     "text": [
      "Train: 1.0000| Val: 0.6480| Test: 0.6360| Eval Time: 0.6753s\n",
      "Epoch 20| Loss: 0.0003| Acc: 1.0000| Train Time: 0.1210s\n"
     ]
    },
    {
     "name": "stderr",
     "output_type": "stream",
     "text": [
      "Evaluating: 100%|██████████| 6654/6654 [00:00<00:00, 11141.02it/s]\n"
     ]
    },
    {
     "name": "stdout",
     "output_type": "stream",
     "text": [
      "Train: 1.0000| Val: 0.6500| Test: 0.6390| Eval Time: 0.6031s\n",
      "Epoch 21| Loss: 0.0083| Acc: 0.9917| Train Time: 0.1190s\n"
     ]
    },
    {
     "name": "stderr",
     "output_type": "stream",
     "text": [
      "Evaluating: 100%|██████████| 6654/6654 [00:00<00:00, 11236.15it/s]\n"
     ]
    },
    {
     "name": "stdout",
     "output_type": "stream",
     "text": [
      "Train: 1.0000| Val: 0.6500| Test: 0.6430| Eval Time: 0.6042s\n",
      "Epoch 22| Loss: 0.0000| Acc: 1.0000| Train Time: 0.1152s\n"
     ]
    },
    {
     "name": "stderr",
     "output_type": "stream",
     "text": [
      "Evaluating: 100%|██████████| 6654/6654 [00:00<00:00, 9826.67it/s] \n"
     ]
    },
    {
     "name": "stdout",
     "output_type": "stream",
     "text": [
      "Train: 1.0000| Val: 0.6540| Test: 0.6480| Eval Time: 0.6861s\n",
      "Epoch 23| Loss: 0.0001| Acc: 1.0000| Train Time: 0.1126s\n"
     ]
    },
    {
     "name": "stderr",
     "output_type": "stream",
     "text": [
      "Evaluating: 100%|██████████| 6654/6654 [00:00<00:00, 11306.75it/s]\n"
     ]
    },
    {
     "name": "stdout",
     "output_type": "stream",
     "text": [
      "Train: 1.0000| Val: 0.6560| Test: 0.6460| Eval Time: 0.5982s\n",
      "Epoch 24| Loss: 0.0002| Acc: 1.0000| Train Time: 0.0960s\n"
     ]
    },
    {
     "name": "stderr",
     "output_type": "stream",
     "text": [
      "Evaluating: 100%|██████████| 6654/6654 [00:00<00:00, 9528.69it/s] \n"
     ]
    },
    {
     "name": "stdout",
     "output_type": "stream",
     "text": [
      "Train: 1.0000| Val: 0.6480| Test: 0.6490| Eval Time: 0.7043s\n",
      "Epoch 25| Loss: 0.0005| Acc: 1.0000| Train Time: 0.1203s\n"
     ]
    },
    {
     "name": "stderr",
     "output_type": "stream",
     "text": [
      "Evaluating: 100%|██████████| 6654/6654 [00:00<00:00, 10884.88it/s]\n"
     ]
    },
    {
     "name": "stdout",
     "output_type": "stream",
     "text": [
      "Train: 1.0000| Val: 0.6460| Test: 0.6500| Eval Time: 0.6178s\n",
      "Epoch 26| Loss: 0.0003| Acc: 1.0000| Train Time: 0.1898s\n"
     ]
    },
    {
     "name": "stderr",
     "output_type": "stream",
     "text": [
      "Evaluating: 100%|██████████| 6654/6654 [00:00<00:00, 13002.13it/s]\n"
     ]
    },
    {
     "name": "stdout",
     "output_type": "stream",
     "text": [
      "Train: 1.0000| Val: 0.6460| Test: 0.6480| Eval Time: 0.5171s\n",
      "Epoch 27| Loss: 0.0055| Acc: 1.0000| Train Time: 0.1840s\n"
     ]
    },
    {
     "name": "stderr",
     "output_type": "stream",
     "text": [
      "Evaluating: 100%|██████████| 6654/6654 [00:00<00:00, 11577.48it/s]\n"
     ]
    },
    {
     "name": "stdout",
     "output_type": "stream",
     "text": [
      "Train: 1.0000| Val: 0.6440| Test: 0.6470| Eval Time: 0.5872s\n",
      "Epoch 28| Loss: 0.0000| Acc: 1.0000| Train Time: 0.1130s\n"
     ]
    },
    {
     "name": "stderr",
     "output_type": "stream",
     "text": [
      "Evaluating: 100%|██████████| 6654/6654 [00:00<00:00, 9962.80it/s] \n"
     ]
    },
    {
     "name": "stdout",
     "output_type": "stream",
     "text": [
      "Train: 1.0000| Val: 0.6420| Test: 0.6440| Eval Time: 0.6797s\n",
      "Epoch 29| Loss: 0.0053| Acc: 1.0000| Train Time: 0.1229s\n"
     ]
    },
    {
     "name": "stderr",
     "output_type": "stream",
     "text": [
      "Evaluating: 100%|██████████| 6654/6654 [00:00<00:00, 9651.20it/s] \n"
     ]
    },
    {
     "name": "stdout",
     "output_type": "stream",
     "text": [
      "Train: 1.0000| Val: 0.6440| Test: 0.6400| Eval Time: 0.6947s\n",
      "Epoch 30| Loss: 0.0002| Acc: 1.0000| Train Time: 0.1709s\n"
     ]
    },
    {
     "name": "stderr",
     "output_type": "stream",
     "text": [
      "Evaluating: 100%|██████████| 6654/6654 [00:00<00:00, 10916.47it/s]\n"
     ]
    },
    {
     "name": "stdout",
     "output_type": "stream",
     "text": [
      "Train: 1.0000| Val: 0.6460| Test: 0.6380| Eval Time: 0.6229s\n",
      "Epoch 31| Loss: 0.0000| Acc: 1.0000| Train Time: 0.1055s\n"
     ]
    },
    {
     "name": "stderr",
     "output_type": "stream",
     "text": [
      "Evaluating: 100%|██████████| 6654/6654 [00:00<00:00, 9711.76it/s] \n"
     ]
    },
    {
     "name": "stdout",
     "output_type": "stream",
     "text": [
      "Train: 1.0000| Val: 0.6440| Test: 0.6370| Eval Time: 0.6960s\n",
      "Epoch 32| Loss: 0.0001| Acc: 1.0000| Train Time: 0.1720s\n"
     ]
    },
    {
     "name": "stderr",
     "output_type": "stream",
     "text": [
      "Evaluating: 100%|██████████| 6654/6654 [00:00<00:00, 11108.85it/s]\n"
     ]
    },
    {
     "name": "stdout",
     "output_type": "stream",
     "text": [
      "Train: 1.0000| Val: 0.6420| Test: 0.6340| Eval Time: 0.6117s\n",
      "Epoch 33| Loss: 0.0000| Acc: 1.0000| Train Time: 0.1188s\n"
     ]
    },
    {
     "name": "stderr",
     "output_type": "stream",
     "text": [
      "Evaluating: 100%|██████████| 6654/6654 [00:00<00:00, 11612.01it/s]\n"
     ]
    },
    {
     "name": "stdout",
     "output_type": "stream",
     "text": [
      "Train: 1.0000| Val: 0.6420| Test: 0.6340| Eval Time: 0.5819s\n",
      "Epoch 34| Loss: 0.0001| Acc: 1.0000| Train Time: 0.1110s\n"
     ]
    },
    {
     "name": "stderr",
     "output_type": "stream",
     "text": [
      "Evaluating: 100%|██████████| 6654/6654 [00:00<00:00, 10908.86it/s]\n"
     ]
    },
    {
     "name": "stdout",
     "output_type": "stream",
     "text": [
      "Train: 1.0000| Val: 0.6420| Test: 0.6330| Eval Time: 0.6779s\n",
      "Epoch 35| Loss: 0.0000| Acc: 1.0000| Train Time: 0.1160s\n"
     ]
    },
    {
     "name": "stderr",
     "output_type": "stream",
     "text": [
      "Evaluating: 100%|██████████| 6654/6654 [00:00<00:00, 14233.45it/s]\n"
     ]
    },
    {
     "name": "stdout",
     "output_type": "stream",
     "text": [
      "Train: 1.0000| Val: 0.6420| Test: 0.6350| Eval Time: 0.4739s\n",
      "Epoch 36| Loss: 0.0000| Acc: 1.0000| Train Time: 0.1235s\n"
     ]
    },
    {
     "name": "stderr",
     "output_type": "stream",
     "text": [
      "Evaluating: 100%|██████████| 6654/6654 [00:00<00:00, 11754.45it/s]\n"
     ]
    },
    {
     "name": "stdout",
     "output_type": "stream",
     "text": [
      "Train: 1.0000| Val: 0.6420| Test: 0.6330| Eval Time: 0.5778s\n",
      "Epoch 37| Loss: 0.0003| Acc: 1.0000| Train Time: 0.1221s\n"
     ]
    },
    {
     "name": "stderr",
     "output_type": "stream",
     "text": [
      "Evaluating: 100%|██████████| 6654/6654 [00:00<00:00, 11420.07it/s]\n"
     ]
    },
    {
     "name": "stdout",
     "output_type": "stream",
     "text": [
      "Train: 1.0000| Val: 0.6400| Test: 0.6340| Eval Time: 0.5904s\n",
      "\n",
      "Result of  3. run| Train: 1.0000| Val: 0.6840| Test: 0.6700\n",
      "\n",
      "Run 01 for GatV1_K4_D2_s_AggrMode.MAX and CiteSeer:\n"
     ]
    },
    {
     "name": "stderr",
     "output_type": "stream",
     "text": [
      "Epoch 01: 100%|██████████| 120/120 [00:00<00:00, 811.84it/s]\n"
     ]
    },
    {
     "name": "stdout",
     "output_type": "stream",
     "text": [
      "Epoch 01| Loss: 1.8157| Acc: 0.1750| Train Time: 0.1517s\n"
     ]
    },
    {
     "name": "stderr",
     "output_type": "stream",
     "text": [
      "Evaluating: 100%|██████████| 6654/6654 [00:00<00:00, 7087.82it/s] \n"
     ]
    },
    {
     "name": "stdout",
     "output_type": "stream",
     "text": [
      "Train: 0.9417| Val: 0.6080| Test: 0.5740| Eval Time: 0.9460s\n",
      "Epoch 02| Loss: 1.0439| Acc: 0.9500| Train Time: 1.2391s\n"
     ]
    },
    {
     "name": "stderr",
     "output_type": "stream",
     "text": [
      "Evaluating: 100%|██████████| 6654/6654 [00:00<00:00, 7978.35it/s] \n"
     ]
    },
    {
     "name": "stdout",
     "output_type": "stream",
     "text": [
      "Train: 0.9833| Val: 0.6700| Test: 0.6370| Eval Time: 0.8429s\n",
      "Epoch 03| Loss: 0.4980| Acc: 0.9500| Train Time: 0.1184s\n"
     ]
    },
    {
     "name": "stderr",
     "output_type": "stream",
     "text": [
      "Evaluating: 100%|██████████| 6654/6654 [00:00<00:00, 9830.05it/s] \n"
     ]
    },
    {
     "name": "stdout",
     "output_type": "stream",
     "text": [
      "Train: 0.9833| Val: 0.6940| Test: 0.6560| Eval Time: 0.6893s\n",
      "Epoch 04| Loss: 0.2136| Acc: 0.9750| Train Time: 0.1993s\n"
     ]
    },
    {
     "name": "stderr",
     "output_type": "stream",
     "text": [
      "Evaluating: 100%|██████████| 6654/6654 [00:00<00:00, 8605.37it/s] \n"
     ]
    },
    {
     "name": "stdout",
     "output_type": "stream",
     "text": [
      "Train: 1.0000| Val: 0.6920| Test: 0.6630| Eval Time: 0.7805s\n",
      "Epoch 05| Loss: 0.0928| Acc: 0.9750| Train Time: 0.1164s\n"
     ]
    },
    {
     "name": "stderr",
     "output_type": "stream",
     "text": [
      "Evaluating: 100%|██████████| 6654/6654 [00:00<00:00, 8452.53it/s] \n"
     ]
    },
    {
     "name": "stdout",
     "output_type": "stream",
     "text": [
      "Train: 1.0000| Val: 0.6900| Test: 0.6670| Eval Time: 0.7985s\n",
      "Epoch 06| Loss: 0.0393| Acc: 1.0000| Train Time: 0.1901s\n"
     ]
    },
    {
     "name": "stderr",
     "output_type": "stream",
     "text": [
      "Evaluating: 100%|██████████| 6654/6654 [00:00<00:00, 9292.86it/s] \n"
     ]
    },
    {
     "name": "stdout",
     "output_type": "stream",
     "text": [
      "Train: 1.0000| Val: 0.6700| Test: 0.6590| Eval Time: 0.7238s\n",
      "Epoch 07| Loss: 0.0210| Acc: 1.0000| Train Time: 0.1819s\n"
     ]
    },
    {
     "name": "stderr",
     "output_type": "stream",
     "text": [
      "Evaluating: 100%|██████████| 6654/6654 [00:00<00:00, 8171.38it/s] \n"
     ]
    },
    {
     "name": "stdout",
     "output_type": "stream",
     "text": [
      "Train: 1.0000| Val: 0.6640| Test: 0.6580| Eval Time: 0.8845s\n",
      "Epoch 08| Loss: 0.0137| Acc: 1.0000| Train Time: 0.1230s\n"
     ]
    },
    {
     "name": "stderr",
     "output_type": "stream",
     "text": [
      "Evaluating: 100%|██████████| 6654/6654 [00:00<00:00, 7680.66it/s] \n"
     ]
    },
    {
     "name": "stdout",
     "output_type": "stream",
     "text": [
      "Train: 1.0000| Val: 0.6620| Test: 0.6610| Eval Time: 0.8814s\n",
      "Epoch 09| Loss: 0.0049| Acc: 1.0000| Train Time: 0.1279s\n"
     ]
    },
    {
     "name": "stderr",
     "output_type": "stream",
     "text": [
      "Evaluating: 100%|██████████| 6654/6654 [00:00<00:00, 8541.94it/s] \n"
     ]
    },
    {
     "name": "stdout",
     "output_type": "stream",
     "text": [
      "Train: 1.0000| Val: 0.6580| Test: 0.6660| Eval Time: 0.7844s\n",
      "Epoch 10| Loss: 0.0048| Acc: 1.0000| Train Time: 0.1717s\n"
     ]
    },
    {
     "name": "stderr",
     "output_type": "stream",
     "text": [
      "Evaluating: 100%|██████████| 6654/6654 [00:00<00:00, 8034.53it/s] \n"
     ]
    },
    {
     "name": "stdout",
     "output_type": "stream",
     "text": [
      "Train: 1.0000| Val: 0.6560| Test: 0.6670| Eval Time: 0.8960s\n",
      "Epoch 11| Loss: 0.0039| Acc: 1.0000| Train Time: 0.1352s\n"
     ]
    },
    {
     "name": "stderr",
     "output_type": "stream",
     "text": [
      "Evaluating: 100%|██████████| 6654/6654 [00:00<00:00, 8404.37it/s] \n"
     ]
    },
    {
     "name": "stdout",
     "output_type": "stream",
     "text": [
      "Train: 1.0000| Val: 0.6480| Test: 0.6620| Eval Time: 0.7997s\n",
      "Epoch 12| Loss: 0.0042| Acc: 1.0000| Train Time: 0.1935s\n"
     ]
    },
    {
     "name": "stderr",
     "output_type": "stream",
     "text": [
      "Evaluating: 100%|██████████| 6654/6654 [00:00<00:00, 8643.75it/s] \n"
     ]
    },
    {
     "name": "stdout",
     "output_type": "stream",
     "text": [
      "Train: 1.0000| Val: 0.6500| Test: 0.6610| Eval Time: 0.7826s\n",
      "Epoch 13| Loss: 0.0030| Acc: 1.0000| Train Time: 0.1303s\n"
     ]
    },
    {
     "name": "stderr",
     "output_type": "stream",
     "text": [
      "Evaluating: 100%|██████████| 6654/6654 [00:00<00:00, 7798.83it/s] \n"
     ]
    },
    {
     "name": "stdout",
     "output_type": "stream",
     "text": [
      "Train: 1.0000| Val: 0.6500| Test: 0.6590| Eval Time: 0.8649s\n",
      "Epoch 14| Loss: 0.0031| Acc: 1.0000| Train Time: 0.1307s\n"
     ]
    },
    {
     "name": "stderr",
     "output_type": "stream",
     "text": [
      "Evaluating: 100%|██████████| 6654/6654 [00:00<00:00, 7587.27it/s] \n"
     ]
    },
    {
     "name": "stdout",
     "output_type": "stream",
     "text": [
      "Train: 1.0000| Val: 0.6420| Test: 0.6590| Eval Time: 0.8868s\n",
      "Epoch 15| Loss: 0.0003| Acc: 1.0000| Train Time: 0.1274s\n"
     ]
    },
    {
     "name": "stderr",
     "output_type": "stream",
     "text": [
      "Evaluating: 100%|██████████| 6654/6654 [00:00<00:00, 6859.89it/s] \n"
     ]
    },
    {
     "name": "stdout",
     "output_type": "stream",
     "text": [
      "Train: 1.0000| Val: 0.6420| Test: 0.6590| Eval Time: 0.9778s\n",
      "Epoch 16| Loss: 0.0015| Acc: 1.0000| Train Time: 0.1399s\n"
     ]
    },
    {
     "name": "stderr",
     "output_type": "stream",
     "text": [
      "Evaluating: 100%|██████████| 6654/6654 [00:00<00:00, 8393.10it/s] \n"
     ]
    },
    {
     "name": "stdout",
     "output_type": "stream",
     "text": [
      "Train: 1.0000| Val: 0.6420| Test: 0.6600| Eval Time: 0.7999s\n",
      "Epoch 17| Loss: 0.0023| Acc: 1.0000| Train Time: 0.1896s\n"
     ]
    },
    {
     "name": "stderr",
     "output_type": "stream",
     "text": [
      "Evaluating: 100%|██████████| 6654/6654 [00:00<00:00, 7299.52it/s] \n"
     ]
    },
    {
     "name": "stdout",
     "output_type": "stream",
     "text": [
      "Train: 1.0000| Val: 0.6460| Test: 0.6610| Eval Time: 0.9789s\n",
      "Epoch 18| Loss: 0.0011| Acc: 1.0000| Train Time: 0.1407s\n"
     ]
    },
    {
     "name": "stderr",
     "output_type": "stream",
     "text": [
      "Evaluating: 100%|██████████| 6654/6654 [00:00<00:00, 7586.45it/s] \n"
     ]
    },
    {
     "name": "stdout",
     "output_type": "stream",
     "text": [
      "Train: 1.0000| Val: 0.6440| Test: 0.6610| Eval Time: 0.8852s\n",
      "Epoch 19| Loss: 0.0001| Acc: 1.0000| Train Time: 0.2063s\n"
     ]
    },
    {
     "name": "stderr",
     "output_type": "stream",
     "text": [
      "Evaluating: 100%|██████████| 6654/6654 [00:00<00:00, 9572.44it/s] \n"
     ]
    },
    {
     "name": "stdout",
     "output_type": "stream",
     "text": [
      "Train: 1.0000| Val: 0.6420| Test: 0.6580| Eval Time: 0.7016s\n",
      "Epoch 20| Loss: 0.0013| Acc: 1.0000| Train Time: 0.1892s\n"
     ]
    },
    {
     "name": "stderr",
     "output_type": "stream",
     "text": [
      "Evaluating: 100%|██████████| 6654/6654 [00:00<00:00, 9468.86it/s] \n"
     ]
    },
    {
     "name": "stdout",
     "output_type": "stream",
     "text": [
      "Train: 1.0000| Val: 0.6420| Test: 0.6580| Eval Time: 0.7656s\n",
      "Epoch 21| Loss: 0.0008| Acc: 1.0000| Train Time: 0.1302s\n"
     ]
    },
    {
     "name": "stderr",
     "output_type": "stream",
     "text": [
      "Evaluating: 100%|██████████| 6654/6654 [00:00<00:00, 8341.49it/s] \n"
     ]
    },
    {
     "name": "stdout",
     "output_type": "stream",
     "text": [
      "Train: 1.0000| Val: 0.6440| Test: 0.6590| Eval Time: 0.8031s\n",
      "Epoch 22| Loss: 0.0024| Acc: 1.0000| Train Time: 0.1143s\n"
     ]
    },
    {
     "name": "stderr",
     "output_type": "stream",
     "text": [
      "Evaluating: 100%|██████████| 6654/6654 [00:00<00:00, 8088.04it/s] \n"
     ]
    },
    {
     "name": "stdout",
     "output_type": "stream",
     "text": [
      "Train: 1.0000| Val: 0.6460| Test: 0.6590| Eval Time: 0.8351s\n",
      "Epoch 23| Loss: 0.0000| Acc: 1.0000| Train Time: 0.1926s\n"
     ]
    },
    {
     "name": "stderr",
     "output_type": "stream",
     "text": [
      "Evaluating: 100%|██████████| 6654/6654 [00:00<00:00, 6857.60it/s] \n"
     ]
    },
    {
     "name": "stdout",
     "output_type": "stream",
     "text": [
      "Train: 1.0000| Val: 0.6460| Test: 0.6570| Eval Time: 0.9856s\n",
      "Epoch 24| Loss: 0.0001| Acc: 1.0000| Train Time: 0.1411s\n"
     ]
    },
    {
     "name": "stderr",
     "output_type": "stream",
     "text": [
      "Evaluating: 100%|██████████| 6654/6654 [00:00<00:00, 9001.43it/s] \n"
     ]
    },
    {
     "name": "stdout",
     "output_type": "stream",
     "text": [
      "Train: 1.0000| Val: 0.6500| Test: 0.6570| Eval Time: 0.7580s\n",
      "Epoch 25| Loss: 0.0002| Acc: 1.0000| Train Time: 0.1314s\n"
     ]
    },
    {
     "name": "stderr",
     "output_type": "stream",
     "text": [
      "Evaluating: 100%|██████████| 6654/6654 [00:00<00:00, 6790.01it/s] \n"
     ]
    },
    {
     "name": "stdout",
     "output_type": "stream",
     "text": [
      "Train: 1.0000| Val: 0.6540| Test: 0.6570| Eval Time: 0.9876s\n",
      "Epoch 26| Loss: 0.0005| Acc: 1.0000| Train Time: 0.1333s\n"
     ]
    },
    {
     "name": "stderr",
     "output_type": "stream",
     "text": [
      "Evaluating: 100%|██████████| 6654/6654 [00:00<00:00, 7720.47it/s] \n"
     ]
    },
    {
     "name": "stdout",
     "output_type": "stream",
     "text": [
      "Train: 1.0000| Val: 0.6560| Test: 0.6570| Eval Time: 0.8698s\n",
      "Epoch 27| Loss: 0.0035| Acc: 1.0000| Train Time: 0.1783s\n"
     ]
    },
    {
     "name": "stderr",
     "output_type": "stream",
     "text": [
      "Evaluating: 100%|██████████| 6654/6654 [00:00<00:00, 9352.26it/s] \n"
     ]
    },
    {
     "name": "stdout",
     "output_type": "stream",
     "text": [
      "Train: 1.0000| Val: 0.6560| Test: 0.6590| Eval Time: 0.7181s\n",
      "Epoch 28| Loss: 0.0000| Acc: 1.0000| Train Time: 0.1850s\n"
     ]
    },
    {
     "name": "stderr",
     "output_type": "stream",
     "text": [
      "Evaluating: 100%|██████████| 6654/6654 [00:01<00:00, 5996.10it/s] \n"
     ]
    },
    {
     "name": "stdout",
     "output_type": "stream",
     "text": [
      "Train: 1.0000| Val: 0.6540| Test: 0.6600| Eval Time: 1.1785s\n",
      "Epoch 29| Loss: 0.0002| Acc: 1.0000| Train Time: 0.1476s\n"
     ]
    },
    {
     "name": "stderr",
     "output_type": "stream",
     "text": [
      "Evaluating: 100%|██████████| 6654/6654 [00:00<00:00, 6751.04it/s] \n"
     ]
    },
    {
     "name": "stdout",
     "output_type": "stream",
     "text": [
      "Train: 1.0000| Val: 0.6540| Test: 0.6650| Eval Time: 1.0547s\n",
      "Epoch 30| Loss: 0.0000| Acc: 1.0000| Train Time: 0.1339s\n"
     ]
    },
    {
     "name": "stderr",
     "output_type": "stream",
     "text": [
      "Evaluating: 100%|██████████| 6654/6654 [00:00<00:00, 7729.11it/s] \n"
     ]
    },
    {
     "name": "stdout",
     "output_type": "stream",
     "text": [
      "Train: 1.0000| Val: 0.6560| Test: 0.6670| Eval Time: 0.8721s\n",
      "Epoch 31| Loss: 0.0000| Acc: 1.0000| Train Time: 0.1220s\n"
     ]
    },
    {
     "name": "stderr",
     "output_type": "stream",
     "text": [
      "Evaluating: 100%|██████████| 6654/6654 [00:00<00:00, 7445.59it/s] \n"
     ]
    },
    {
     "name": "stdout",
     "output_type": "stream",
     "text": [
      "Train: 1.0000| Val: 0.6560| Test: 0.6690| Eval Time: 0.8997s\n",
      "Epoch 32| Loss: 0.0000| Acc: 1.0000| Train Time: 0.1930s\n"
     ]
    },
    {
     "name": "stderr",
     "output_type": "stream",
     "text": [
      "Evaluating: 100%|██████████| 6654/6654 [00:00<00:00, 8307.53it/s] \n"
     ]
    },
    {
     "name": "stdout",
     "output_type": "stream",
     "text": [
      "Train: 1.0000| Val: 0.6560| Test: 0.6710| Eval Time: 0.8091s\n",
      "Epoch 33| Loss: 0.0000| Acc: 1.0000| Train Time: 0.1924s\n"
     ]
    },
    {
     "name": "stderr",
     "output_type": "stream",
     "text": [
      "Evaluating: 100%|██████████| 6654/6654 [00:00<00:00, 7442.99it/s] \n"
     ]
    },
    {
     "name": "stdout",
     "output_type": "stream",
     "text": [
      "Train: 1.0000| Val: 0.6560| Test: 0.6710| Eval Time: 0.9002s\n",
      "\n",
      "Result of  1. run| Train: 0.9833| Val: 0.6940| Test: 0.6560\n",
      "\n",
      "Run 02 for GatV1_K4_D2_s_AggrMode.MAX and CiteSeer:\n"
     ]
    },
    {
     "name": "stderr",
     "output_type": "stream",
     "text": [
      "Epoch 01: 100%|██████████| 120/120 [00:00<00:00, 604.60it/s]\n"
     ]
    },
    {
     "name": "stdout",
     "output_type": "stream",
     "text": [
      "Epoch 01| Loss: 1.8275| Acc: 0.1667| Train Time: 0.2024s\n"
     ]
    },
    {
     "name": "stderr",
     "output_type": "stream",
     "text": [
      "Evaluating: 100%|██████████| 6654/6654 [00:00<00:00, 8815.42it/s] \n"
     ]
    },
    {
     "name": "stdout",
     "output_type": "stream",
     "text": [
      "Train: 0.9750| Val: 0.6620| Test: 0.6690| Eval Time: 0.7676s\n",
      "Epoch 02| Loss: 1.0542| Acc: 0.9083| Train Time: 0.1231s\n"
     ]
    },
    {
     "name": "stderr",
     "output_type": "stream",
     "text": [
      "Evaluating: 100%|██████████| 6654/6654 [00:00<00:00, 8378.08it/s] \n"
     ]
    },
    {
     "name": "stdout",
     "output_type": "stream",
     "text": [
      "Train: 0.9917| Val: 0.7100| Test: 0.7060| Eval Time: 0.8002s\n",
      "Epoch 03| Loss: 0.4802| Acc: 0.9667| Train Time: 0.1737s\n"
     ]
    },
    {
     "name": "stderr",
     "output_type": "stream",
     "text": [
      "Evaluating: 100%|██████████| 6654/6654 [00:00<00:00, 8054.90it/s] \n"
     ]
    },
    {
     "name": "stdout",
     "output_type": "stream",
     "text": [
      "Train: 1.0000| Val: 0.7260| Test: 0.7090| Eval Time: 0.8946s\n",
      "Epoch 04| Loss: 0.1816| Acc: 1.0000| Train Time: 0.1340s\n"
     ]
    },
    {
     "name": "stderr",
     "output_type": "stream",
     "text": [
      "Evaluating: 100%|██████████| 6654/6654 [00:00<00:00, 7578.69it/s] \n"
     ]
    },
    {
     "name": "stdout",
     "output_type": "stream",
     "text": [
      "Train: 1.0000| Val: 0.7100| Test: 0.6940| Eval Time: 0.8838s\n",
      "Epoch 05| Loss: 0.0891| Acc: 0.9917| Train Time: 0.1850s\n"
     ]
    },
    {
     "name": "stderr",
     "output_type": "stream",
     "text": [
      "Evaluating: 100%|██████████| 6654/6654 [00:00<00:00, 9199.52it/s] \n"
     ]
    },
    {
     "name": "stdout",
     "output_type": "stream",
     "text": [
      "Train: 1.0000| Val: 0.7040| Test: 0.6880| Eval Time: 0.7325s\n",
      "Epoch 06| Loss: 0.0421| Acc: 0.9917| Train Time: 0.1853s\n"
     ]
    },
    {
     "name": "stderr",
     "output_type": "stream",
     "text": [
      "Evaluating: 100%|██████████| 6654/6654 [00:00<00:00, 8653.09it/s] \n"
     ]
    },
    {
     "name": "stdout",
     "output_type": "stream",
     "text": [
      "Train: 1.0000| Val: 0.7000| Test: 0.6840| Eval Time: 0.7814s\n",
      "Epoch 07| Loss: 0.0167| Acc: 1.0000| Train Time: 0.1282s\n"
     ]
    },
    {
     "name": "stderr",
     "output_type": "stream",
     "text": [
      "Evaluating: 100%|██████████| 6654/6654 [00:00<00:00, 9438.54it/s] \n"
     ]
    },
    {
     "name": "stdout",
     "output_type": "stream",
     "text": [
      "Train: 1.0000| Val: 0.6940| Test: 0.6770| Eval Time: 0.7684s\n",
      "Epoch 08| Loss: 0.0177| Acc: 1.0000| Train Time: 0.1235s\n"
     ]
    },
    {
     "name": "stderr",
     "output_type": "stream",
     "text": [
      "Evaluating: 100%|██████████| 6654/6654 [00:00<00:00, 9346.99it/s] \n"
     ]
    },
    {
     "name": "stdout",
     "output_type": "stream",
     "text": [
      "Train: 1.0000| Val: 0.6860| Test: 0.6700| Eval Time: 0.7760s\n",
      "Epoch 09| Loss: 0.0071| Acc: 1.0000| Train Time: 0.1236s\n"
     ]
    },
    {
     "name": "stderr",
     "output_type": "stream",
     "text": [
      "Evaluating: 100%|██████████| 6654/6654 [00:00<00:00, 7365.50it/s] \n"
     ]
    },
    {
     "name": "stdout",
     "output_type": "stream",
     "text": [
      "Train: 1.0000| Val: 0.6820| Test: 0.6670| Eval Time: 0.9696s\n",
      "Epoch 10| Loss: 0.0047| Acc: 1.0000| Train Time: 0.1323s\n"
     ]
    },
    {
     "name": "stderr",
     "output_type": "stream",
     "text": [
      "Evaluating: 100%|██████████| 6654/6654 [00:00<00:00, 8780.77it/s] \n"
     ]
    },
    {
     "name": "stdout",
     "output_type": "stream",
     "text": [
      "Train: 1.0000| Val: 0.6720| Test: 0.6650| Eval Time: 0.7723s\n",
      "Epoch 11| Loss: 0.0027| Acc: 1.0000| Train Time: 0.1243s\n"
     ]
    },
    {
     "name": "stderr",
     "output_type": "stream",
     "text": [
      "Evaluating: 100%|██████████| 6654/6654 [00:00<00:00, 7391.02it/s] \n"
     ]
    },
    {
     "name": "stdout",
     "output_type": "stream",
     "text": [
      "Train: 1.0000| Val: 0.6640| Test: 0.6570| Eval Time: 0.9738s\n",
      "Epoch 12| Loss: 0.0010| Acc: 1.0000| Train Time: 0.1360s\n"
     ]
    },
    {
     "name": "stderr",
     "output_type": "stream",
     "text": [
      "Evaluating: 100%|██████████| 6654/6654 [00:00<00:00, 7793.70it/s] \n"
     ]
    },
    {
     "name": "stdout",
     "output_type": "stream",
     "text": [
      "Train: 1.0000| Val: 0.6540| Test: 0.6500| Eval Time: 0.8692s\n",
      "Epoch 13| Loss: 0.0022| Acc: 1.0000| Train Time: 0.1211s\n"
     ]
    },
    {
     "name": "stderr",
     "output_type": "stream",
     "text": [
      "Evaluating: 100%|██████████| 6654/6654 [00:00<00:00, 7559.83it/s] \n"
     ]
    },
    {
     "name": "stdout",
     "output_type": "stream",
     "text": [
      "Train: 1.0000| Val: 0.6540| Test: 0.6460| Eval Time: 0.8882s\n",
      "Epoch 14| Loss: 0.0005| Acc: 1.0000| Train Time: 0.1344s\n"
     ]
    },
    {
     "name": "stderr",
     "output_type": "stream",
     "text": [
      "Evaluating: 100%|██████████| 6654/6654 [00:00<00:00, 7778.14it/s] \n"
     ]
    },
    {
     "name": "stdout",
     "output_type": "stream",
     "text": [
      "Train: 1.0000| Val: 0.6540| Test: 0.6430| Eval Time: 0.8647s\n",
      "Epoch 15| Loss: 0.0010| Acc: 1.0000| Train Time: 0.1234s\n"
     ]
    },
    {
     "name": "stderr",
     "output_type": "stream",
     "text": [
      "Evaluating: 100%|██████████| 6654/6654 [00:00<00:00, 8544.53it/s] \n"
     ]
    },
    {
     "name": "stdout",
     "output_type": "stream",
     "text": [
      "Train: 1.0000| Val: 0.6500| Test: 0.6400| Eval Time: 0.7853s\n",
      "Epoch 16| Loss: 0.0019| Acc: 1.0000| Train Time: 0.1816s\n"
     ]
    },
    {
     "name": "stderr",
     "output_type": "stream",
     "text": [
      "Evaluating: 100%|██████████| 6654/6654 [00:00<00:00, 8366.72it/s] \n"
     ]
    },
    {
     "name": "stdout",
     "output_type": "stream",
     "text": [
      "Train: 1.0000| Val: 0.6500| Test: 0.6400| Eval Time: 0.8056s\n",
      "Epoch 17| Loss: 0.0012| Acc: 1.0000| Train Time: 0.1804s\n"
     ]
    },
    {
     "name": "stderr",
     "output_type": "stream",
     "text": [
      "Evaluating: 100%|██████████| 6654/6654 [00:00<00:00, 8174.84it/s] \n"
     ]
    },
    {
     "name": "stdout",
     "output_type": "stream",
     "text": [
      "Train: 1.0000| Val: 0.6520| Test: 0.6450| Eval Time: 0.8243s\n",
      "Epoch 18| Loss: 0.0005| Acc: 1.0000| Train Time: 0.1664s\n"
     ]
    },
    {
     "name": "stderr",
     "output_type": "stream",
     "text": [
      "Evaluating: 100%|██████████| 6654/6654 [00:00<00:00, 8030.47it/s] \n"
     ]
    },
    {
     "name": "stdout",
     "output_type": "stream",
     "text": [
      "Train: 1.0000| Val: 0.6520| Test: 0.6430| Eval Time: 0.8412s\n",
      "Epoch 19| Loss: 0.0008| Acc: 1.0000| Train Time: 0.1911s\n"
     ]
    },
    {
     "name": "stderr",
     "output_type": "stream",
     "text": [
      "Evaluating: 100%|██████████| 6654/6654 [00:00<00:00, 8634.27it/s] \n"
     ]
    },
    {
     "name": "stdout",
     "output_type": "stream",
     "text": [
      "Train: 1.0000| Val: 0.6540| Test: 0.6450| Eval Time: 0.7824s\n",
      "Epoch 20| Loss: 0.0029| Acc: 1.0000| Train Time: 0.1191s\n"
     ]
    },
    {
     "name": "stderr",
     "output_type": "stream",
     "text": [
      "Evaluating: 100%|██████████| 6654/6654 [00:00<00:00, 8607.72it/s] \n"
     ]
    },
    {
     "name": "stdout",
     "output_type": "stream",
     "text": [
      "Train: 1.0000| Val: 0.6560| Test: 0.6450| Eval Time: 0.7816s\n",
      "Epoch 21| Loss: 0.0002| Acc: 1.0000| Train Time: 0.1205s\n"
     ]
    },
    {
     "name": "stderr",
     "output_type": "stream",
     "text": [
      "Evaluating: 100%|██████████| 6654/6654 [00:00<00:00, 8331.46it/s] \n"
     ]
    },
    {
     "name": "stdout",
     "output_type": "stream",
     "text": [
      "Train: 1.0000| Val: 0.6500| Test: 0.6440| Eval Time: 0.8038s\n",
      "Epoch 22| Loss: 0.0002| Acc: 1.0000| Train Time: 0.1903s\n"
     ]
    },
    {
     "name": "stderr",
     "output_type": "stream",
     "text": [
      "Evaluating:  81%|████████  | 5375/6654 [00:00<00:00, 7846.52it/s] "
     ]
    }
   ],
   "source": [
    "models     = [ModelType.GATV1, ModelType.GATV2, ModelType.TRANS]\r\n",
    "datasets   = [Dataset.CITESEER, Dataset.CORA]\r\n",
    "degrees    = [2,3,4]\r\n",
    "num_layers = [2,4]\r\n",
    "sparse     = [True]\r\n",
    "adj_modes  = [AdjacencyMode.Partial]\r\n",
    "aggr_modes = [AggrMode.MAX, AggrMode.MEAN]\r\n",
    "\r\n",
    "runExperiments(models, datasets, degrees, sparse, num_layers, adj_modes, aggr_modes)"
   ]
  },
  {
   "cell_type": "code",
   "execution_count": null,
   "metadata": {},
   "outputs": [],
   "source": []
  }
 ],
 "metadata": {
  "interpreter": {
   "hash": "b8be38cac5e07419459cc1d2fe0e04c6cbe36991c6a4efd3c9a636608bfd9cde"
  },
  "kernelspec": {
   "display_name": "Python [conda env:.conda-PSN]",
   "language": "python",
   "name": "conda-env-.conda-PSN-py"
  },
  "language_info": {
   "codemirror_mode": {
    "name": "ipython",
    "version": 3
   },
   "file_extension": ".py",
   "mimetype": "text/x-python",
   "name": "python",
   "nbconvert_exporter": "python",
   "pygments_lexer": "ipython3",
   "version": "3.8.10"
  }
 },
 "nbformat": 4,
 "nbformat_minor": 4
}
