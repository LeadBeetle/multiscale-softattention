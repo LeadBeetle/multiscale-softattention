{
 "cells": [
  {
   "cell_type": "code",
   "execution_count": 5,
   "metadata": {},
   "outputs": [],
   "source": [
    "from utils.constants import *\r\n",
    "from utils.experimentorUtils import * "
   ]
  },
  {
   "cell_type": "code",
   "execution_count": null,
   "metadata": {},
   "outputs": [
    {
     "name": "stdout",
     "output_type": "stream",
     "text": [
      "Run 01 for GatV1_K4_D3_s_AggrMode.MEAN and CiteSeer:\n"
     ]
    },
    {
     "name": "stderr",
     "output_type": "stream",
     "text": [
      "Epoch 01: 100%|██████████| 120/120 [00:08<00:00, 13.85it/s]\n"
     ]
    },
    {
     "name": "stdout",
     "output_type": "stream",
     "text": [
      "Epoch 01| Loss: 1.8154| Acc: 0.1583| Train Time: 8.6694s\n"
     ]
    },
    {
     "name": "stderr",
     "output_type": "stream",
     "text": [
      "Evaluating: 100%|██████████| 9981/9981 [00:05<00:00, 1961.57it/s]\n"
     ]
    },
    {
     "name": "stdout",
     "output_type": "stream",
     "text": [
      "Train: 0.8833| Val: 0.6200| Test: 0.5810| Eval Time: 5.0957s\n",
      "Epoch 02| Loss: 1.2207| Acc: 0.7667| Train Time: 9.3651s\n"
     ]
    },
    {
     "name": "stderr",
     "output_type": "stream",
     "text": [
      "Evaluating: 100%|██████████| 9981/9981 [00:05<00:00, 1908.10it/s]\n"
     ]
    },
    {
     "name": "stdout",
     "output_type": "stream",
     "text": [
      "Train: 0.9333| Val: 0.7280| Test: 0.6920| Eval Time: 5.2373s\n",
      "Epoch 03| Loss: 0.6621| Acc: 0.8750| Train Time: 9.4848s\n"
     ]
    },
    {
     "name": "stderr",
     "output_type": "stream",
     "text": [
      "Evaluating: 100%|██████████| 9981/9981 [00:05<00:00, 1926.64it/s]\n"
     ]
    },
    {
     "name": "stdout",
     "output_type": "stream",
     "text": [
      "Train: 0.9500| Val: 0.7200| Test: 0.6850| Eval Time: 5.1952s\n",
      "Epoch 04| Loss: 0.3246| Acc: 0.9083| Train Time: 9.0233s\n"
     ]
    },
    {
     "name": "stderr",
     "output_type": "stream",
     "text": [
      "Evaluating: 100%|██████████| 9981/9981 [00:05<00:00, 1956.26it/s]\n"
     ]
    },
    {
     "name": "stdout",
     "output_type": "stream",
     "text": [
      "Train: 0.9583| Val: 0.6480| Test: 0.6550| Eval Time: 5.1850s\n",
      "Epoch 05| Loss: 0.1769| Acc: 0.9333| Train Time: 9.9044s\n"
     ]
    },
    {
     "name": "stderr",
     "output_type": "stream",
     "text": [
      "Evaluating: 100%|██████████| 9981/9981 [00:05<00:00, 1692.18it/s]\n"
     ]
    },
    {
     "name": "stdout",
     "output_type": "stream",
     "text": [
      "Train: 0.9750| Val: 0.6380| Test: 0.6550| Eval Time: 5.9076s\n",
      "Epoch 06| Loss: 0.1049| Acc: 0.9583| Train Time: 9.6279s\n"
     ]
    },
    {
     "name": "stderr",
     "output_type": "stream",
     "text": [
      "Evaluating: 100%|██████████| 9981/9981 [00:05<00:00, 1753.74it/s]\n"
     ]
    },
    {
     "name": "stdout",
     "output_type": "stream",
     "text": [
      "Train: 0.9750| Val: 0.6680| Test: 0.6540| Eval Time: 5.7033s\n",
      "Epoch 07| Loss: 0.0824| Acc: 0.9750| Train Time: 9.3834s\n"
     ]
    },
    {
     "name": "stderr",
     "output_type": "stream",
     "text": [
      "Evaluating: 100%|██████████| 9981/9981 [00:05<00:00, 1748.50it/s]\n"
     ]
    },
    {
     "name": "stdout",
     "output_type": "stream",
     "text": [
      "Train: 0.9917| Val: 0.6400| Test: 0.6330| Eval Time: 5.7152s\n",
      "Epoch 08| Loss: 0.0733| Acc: 0.9750| Train Time: 9.1300s\n"
     ]
    },
    {
     "name": "stderr",
     "output_type": "stream",
     "text": [
      "Evaluating:  31%|███       | 3072/9981 [00:02<00:05, 1161.70it/s]"
     ]
    }
   ],
   "source": [
    "models     = [ModelType.GATV1, ModelType.GATV2, ModelType.TRANS]\r\n",
    "datasets   = [Dataset.OGBN_PRODUCTS]\r\n",
    "degrees    = [1,2,3,4,5]\r\n",
    "num_layers = [2]\r\n",
    "sparse     = [True]\r\n",
    "adj_modes  = [AdjacencyMode.OneStep]\r\n",
    "aggr_modes = [AggrMode.NONE]\r\n",
    "\r\n",
    "runExperiments(models, datasets, degrees, sparse, num_layers, adj_modes, aggr_modes)"
   ]
  },
  {
   "cell_type": "code",
   "execution_count": null,
   "metadata": {},
   "outputs": [],
   "source": []
  }
 ],
 "metadata": {
  "interpreter": {
   "hash": "b8be38cac5e07419459cc1d2fe0e04c6cbe36991c6a4efd3c9a636608bfd9cde"
  },
  "kernelspec": {
   "display_name": "Python [conda env:.conda-PSN]",
   "language": "python",
   "name": "conda-env-.conda-PSN-py"
  },
  "language_info": {
   "codemirror_mode": {
    "name": "ipython",
    "version": 3
   },
   "file_extension": ".py",
   "mimetype": "text/x-python",
   "name": "python",
   "nbconvert_exporter": "python",
   "pygments_lexer": "ipython3",
   "version": "3.8.10"
  }
 },
 "nbformat": 4,
 "nbformat_minor": 4
}
