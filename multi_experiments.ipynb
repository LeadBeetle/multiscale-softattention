{
 "cells": [
  {
   "cell_type": "code",
   "execution_count": 1,
   "metadata": {},
   "outputs": [],
   "source": [
    "from utils.constants import *\r\n",
    "from utils.experimentorUtils import * "
   ]
  },
  {
   "cell_type": "code",
   "execution_count": null,
   "metadata": {},
   "outputs": [
    {
     "name": "stdout",
     "output_type": "stream",
     "text": [
      "Run 01 for GatV1_K2_D3_s_ and ogbn-products:\n"
     ]
    },
    {
     "name": "stderr",
     "output_type": "stream",
     "text": [
      "Epoch 01:   8%|▊         | 15744/196615 [01:12<10:06, 298.14it/s]"
     ]
    }
   ],
   "source": [
    "models     = [ModelType.GATV1, ModelType.GATV2, ModelType.TRANS]\r\n",
    "datasets   = [Dataset.OGBN_PRODUCTS]\r\n",
    "degrees    = [2,3]\r\n",
    "num_layers = [3]\r\n",
    "sparse     = [True]\r\n",
    "adj_modes  = [AdjacencyMode.OneStep]\r\n",
    "aggr_modes = [AggrMode.NONE]\r\n",
    "\r\n",
    "runExperiments(models, datasets, degrees, sparse, num_layers, adj_modes, aggr_modes)"
   ]
  },
  {
   "cell_type": "code",
   "execution_count": null,
   "metadata": {},
   "outputs": [],
   "source": []
  }
 ],
 "metadata": {
  "interpreter": {
   "hash": "b8be38cac5e07419459cc1d2fe0e04c6cbe36991c6a4efd3c9a636608bfd9cde"
  },
  "kernelspec": {
   "display_name": "Python [conda env:.conda-PSN]",
   "language": "python",
   "name": "conda-env-.conda-PSN-py"
  },
  "language_info": {
   "codemirror_mode": {
    "name": "ipython",
    "version": 3
   },
   "file_extension": ".py",
   "mimetype": "text/x-python",
   "name": "python",
   "nbconvert_exporter": "python",
   "pygments_lexer": "ipython3",
   "version": "3.8.10"
  }
 },
 "nbformat": 4,
 "nbformat_minor": 4
}
