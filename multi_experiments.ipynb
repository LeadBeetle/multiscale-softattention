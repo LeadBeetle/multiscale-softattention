{
 "cells": [
  {
   "cell_type": "code",
   "execution_count": 1,
   "source": [
    "import torch\r\n",
    "from utils.experimentorUtils import getExperimentor\r\n",
    "from utils.constants import *\r\n",
    "print(torch.backends.cudnn.version())"
   ],
   "outputs": [
    {
     "output_type": "stream",
     "name": "stdout",
     "text": [
      "8005\n"
     ]
    }
   ],
   "metadata": {}
  },
  {
   "cell_type": "code",
   "execution_count": 2,
   "source": [
    "config = {\r\n",
    "    \"dataset_name\": Dataset.CORA,\r\n",
    "    \"model_type\": ModelType.GATV1,\r\n",
    "    'num_of_epochs': 500,\r\n",
    "    'num_of_runs': 5,\r\n",
    "    'patience_period': 100,\r\n",
    "    \r\n",
    "    'batch_size': 20000,\r\n",
    "    'test_batch_size': 20000,\r\n",
    "    'num_workers': 2,\r\n",
    "    'force_cpu': False,\r\n",
    "    'test_frequency': 5,\r\n",
    "    'console_log_freq': 1,\r\n",
    "    'do_train_tqdm_logging': False,\r\n",
    "    \r\n",
    "    'lr': 0.005,\r\n",
    "    'num_of_layers': 2, \r\n",
    "    'num_heads': 1,\r\n",
    "    'hidden_size': 128,\r\n",
    "    'dropout': 0.6,  \r\n",
    "    \"use_layer_norm\": False,\r\n",
    "    \"use_batch_norm\": False,\r\n",
    "    \r\n",
    "    'nbor_degree': 1,\r\n",
    "    'adj_mode': AdjacencyMode.OneStep,\r\n",
    "    'sparse': True,\r\n",
    "    'init_dropout': False\r\n",
    "}"
   ],
   "outputs": [],
   "metadata": {}
  },
  {
   "cell_type": "code",
   "execution_count": 3,
   "source": [
    "for dataset in [Dataset.CORA, Dataset.PUBMED, Dataset.CITESEER]:\r\n",
    "    config[\"dataset_name\"] = dataset\r\n",
    "    if dataset == Dataset.PUBMED:\r\n",
    "        config[\"lr\"] = 0.01\r\n",
    "        config[\"num_heads\"] = 8\r\n",
    "    else: \r\n",
    "        config[\"lr\"] = 0.005\r\n",
    "        config[\"num_heads\"] = 1\r\n",
    "        \r\n",
    "    for degree in [1, 2, 3, 4]:\r\n",
    "        config[\"nbor_degree\"] = degree\r\n",
    "        for isSparse in [False, True]:\r\n",
    "            config[\"sparse\"] = isSparse\r\n",
    "            experimentor = getExperimentor(config[\"dataset_name\"])(config)\r\n",
    "            experimentor.run_wrapper()"
   ],
   "outputs": [
    {
     "output_type": "stream",
     "name": "stdout",
     "text": [
      "Run 01:\n"
     ]
    },
    {
     "output_type": "stream",
     "name": "stderr",
     "text": [
      "Epoch 01: 100%|██████████| 140/140 [00:02<00:00, 50.96it/s]\n"
     ]
    },
    {
     "output_type": "stream",
     "name": "stdout",
     "text": [
      "Epoch 01| Loss: 2.0853| Acc: 0.1357| Train Time: 2.7502s\n",
      "Epoch 02| Loss: 1.7406| Acc: 0.3929| Train Time: 3.1309s\n",
      "Epoch 03| Loss: 1.5218| Acc: 0.5429| Train Time: 3.1902s\n",
      "Epoch 04| Loss: 1.2903| Acc: 0.7143| Train Time: 2.3607s\n",
      "Epoch 05| Loss: 1.1410| Acc: 0.7643| Train Time: 2.2538s\n"
     ]
    },
    {
     "output_type": "stream",
     "name": "stderr",
     "text": [
      "Evaluating: 100%|██████████| 5416/5416 [00:04<00:00, 1114.00it/s]\n"
     ]
    },
    {
     "output_type": "stream",
     "name": "stdout",
     "text": [
      "Train: 0.9643| Val: 0.6560| Test: 0.6840| Eval Time: 4.8668s\n",
      "Epoch 06| Loss: 0.9504| Acc: 0.8071| Train Time: 2.2041s\n",
      "Epoch 07| Loss: 0.8986| Acc: 0.8143| Train Time: 2.1963s\n",
      "Epoch 08| Loss: 0.7324| Acc: 0.9000| Train Time: 2.2833s\n",
      "Epoch 09| Loss: 0.6572| Acc: 0.8929| Train Time: 2.3470s\n",
      "Epoch 10| Loss: 0.5892| Acc: 0.9286| Train Time: 2.2842s\n"
     ]
    },
    {
     "output_type": "stream",
     "name": "stderr",
     "text": [
      "Evaluating: 100%|██████████| 5416/5416 [00:05<00:00, 1071.12it/s]\n"
     ]
    },
    {
     "output_type": "stream",
     "name": "stdout",
     "text": [
      "Train: 0.9929| Val: 0.7400| Test: 0.7490| Eval Time: 5.0604s\n",
      "Epoch 11| Loss: 0.5071| Acc: 0.9214| Train Time: 2.2937s\n",
      "Epoch 12| Loss: 0.4899| Acc: 0.9286| Train Time: 2.2112s\n",
      "Epoch 13| Loss: 0.3575| Acc: 0.9571| Train Time: 2.2135s\n",
      "Epoch 14| Loss: 0.2996| Acc: 0.9643| Train Time: 2.2905s\n",
      "Epoch 15| Loss: 0.3532| Acc: 0.9286| Train Time: 2.3164s\n"
     ]
    },
    {
     "output_type": "stream",
     "name": "stderr",
     "text": [
      "Evaluating: 100%|██████████| 5416/5416 [00:04<00:00, 1136.68it/s]\n"
     ]
    },
    {
     "output_type": "stream",
     "name": "stdout",
     "text": [
      "Train: 0.9929| Val: 0.7540| Test: 0.7590| Eval Time: 4.7687s\n",
      "Epoch 16| Loss: 0.2881| Acc: 0.9571| Train Time: 2.3199s\n",
      "Epoch 17| Loss: 0.3180| Acc: 0.9214| Train Time: 2.2267s\n",
      "Epoch 18| Loss: 0.2192| Acc: 0.9643| Train Time: 2.2576s\n",
      "Epoch 19| Loss: 0.2175| Acc: 0.9429| Train Time: 2.2776s\n",
      "Epoch 20| Loss: 0.1425| Acc: 1.0000| Train Time: 2.3654s\n"
     ]
    },
    {
     "output_type": "stream",
     "name": "stderr",
     "text": [
      "Evaluating: 100%|██████████| 5416/5416 [00:04<00:00, 1146.89it/s]\n"
     ]
    },
    {
     "output_type": "stream",
     "name": "stdout",
     "text": [
      "Train: 1.0000| Val: 0.7700| Test: 0.7650| Eval Time: 4.7263s\n",
      "Epoch 21| Loss: 0.1226| Acc: 0.9929| Train Time: 2.1946s\n",
      "Epoch 22| Loss: 0.1758| Acc: 0.9786| Train Time: 2.5051s\n",
      "Epoch 23| Loss: 0.1062| Acc: 0.9929| Train Time: 2.3058s\n",
      "Epoch 24| Loss: 0.0887| Acc: 1.0000| Train Time: 2.3358s\n",
      "Epoch 25| Loss: 0.1306| Acc: 0.9714| Train Time: 2.2179s\n"
     ]
    },
    {
     "output_type": "stream",
     "name": "stderr",
     "text": [
      "Evaluating: 100%|██████████| 5416/5416 [00:04<00:00, 1161.80it/s]\n"
     ]
    },
    {
     "output_type": "stream",
     "name": "stdout",
     "text": [
      "Train: 1.0000| Val: 0.7660| Test: 0.7630| Eval Time: 4.6677s\n",
      "Epoch 26| Loss: 0.1156| Acc: 0.9643| Train Time: 2.2782s\n",
      "Epoch 27| Loss: 0.1439| Acc: 0.9786| Train Time: 2.2747s\n",
      "Epoch 28| Loss: 0.1040| Acc: 0.9714| Train Time: 2.3121s\n",
      "Epoch 29| Loss: 0.0980| Acc: 0.9929| Train Time: 2.7427s\n",
      "Epoch 30| Loss: 0.0862| Acc: 0.9929| Train Time: 2.8576s\n"
     ]
    },
    {
     "output_type": "stream",
     "name": "stderr",
     "text": [
      "Evaluating: 100%|██████████| 5416/5416 [00:04<00:00, 1085.78it/s]\n"
     ]
    },
    {
     "output_type": "stream",
     "name": "stdout",
     "text": [
      "Train: 1.0000| Val: 0.7580| Test: 0.7590| Eval Time: 4.9931s\n",
      "Epoch 31| Loss: 0.0670| Acc: 0.9714| Train Time: 2.3992s\n",
      "Epoch 32| Loss: 0.0731| Acc: 0.9929| Train Time: 2.3674s\n",
      "Epoch 33| Loss: 0.0807| Acc: 0.9857| Train Time: 2.6349s\n",
      "Epoch 34| Loss: 0.0535| Acc: 0.9929| Train Time: 2.7291s\n",
      "Epoch 35| Loss: 0.0803| Acc: 0.9929| Train Time: 2.5190s\n"
     ]
    },
    {
     "output_type": "stream",
     "name": "stderr",
     "text": [
      "Evaluating: 100%|██████████| 5416/5416 [00:05<00:00, 995.04it/s] \n"
     ]
    },
    {
     "output_type": "stream",
     "name": "stdout",
     "text": [
      "Train: 1.0000| Val: 0.7340| Test: 0.7580| Eval Time: 5.4470s\n",
      "Epoch 36| Loss: 0.0948| Acc: 0.9714| Train Time: 2.3328s\n",
      "Epoch 37| Loss: 0.0680| Acc: 0.9786| Train Time: 2.3024s\n",
      "Epoch 38| Loss: 0.1402| Acc: 0.9500| Train Time: 2.3128s\n",
      "Epoch 39| Loss: 0.0837| Acc: 0.9714| Train Time: 2.2942s\n",
      "Epoch 40| Loss: 0.0570| Acc: 0.9929| Train Time: 2.3623s\n"
     ]
    },
    {
     "output_type": "stream",
     "name": "stderr",
     "text": [
      "Evaluating: 100%|██████████| 5416/5416 [00:04<00:00, 1100.96it/s]\n"
     ]
    },
    {
     "output_type": "stream",
     "name": "stdout",
     "text": [
      "Train: 1.0000| Val: 0.7440| Test: 0.7590| Eval Time: 4.9242s\n",
      "Epoch 41| Loss: 0.0815| Acc: 0.9857| Train Time: 2.6820s\n",
      "Epoch 42| Loss: 0.0525| Acc: 1.0000| Train Time: 2.6292s\n",
      "Epoch 43| Loss: 0.0689| Acc: 0.9857| Train Time: 2.5766s\n",
      "Epoch 44| Loss: 0.0512| Acc: 0.9857| Train Time: 3.0255s\n"
     ]
    }
   ],
   "metadata": {}
  }
 ],
 "metadata": {
  "orig_nbformat": 4,
  "kernelspec": {
   "name": "python3",
   "display_name": "Python 3.8.10 64-bit ('PS': conda)"
  },
  "interpreter": {
   "hash": "1322c26f02ebbf0700fad666a69e487b987002dd3640f1a2df48e494c6ae2c9b"
  },
  "language_info": {
   "name": "python",
   "version": "3.8.10",
   "mimetype": "text/x-python",
   "codemirror_mode": {
    "name": "ipython",
    "version": 3
   },
   "pygments_lexer": "ipython3",
   "nbconvert_exporter": "python",
   "file_extension": ".py"
  }
 },
 "nbformat": 4,
 "nbformat_minor": 2
}