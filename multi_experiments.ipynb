{
 "cells": [
  {
   "cell_type": "code",
   "execution_count": 1,
   "source": [
    "from utils.constants import *\r\n",
    "from utils.experimentorUtils import * "
   ],
   "outputs": [],
   "metadata": {}
  },
  {
   "cell_type": "code",
   "execution_count": 2,
   "source": [
    "models   = [ModelType.TRANS, ModelType.GATV2, ModelType.GATV1]\r\n",
    "datasets = [Dataset.CORA, Dataset.CITESEER, Dataset.PUBMED]\r\n",
    "degrees  = [1, 2, 3, 4, 5]\r\n",
    "\r\n",
    "runExperiments(models, datasets, degrees)"
   ],
   "outputs": [
    {
     "output_type": "stream",
     "name": "stdout",
     "text": [
      "Run 01:\n"
     ]
    },
    {
     "output_type": "stream",
     "name": "stderr",
     "text": [
      "Epoch 01: 100%|██████████| 140/140 [00:00<00:00, 286.30it/s]\n"
     ]
    },
    {
     "output_type": "stream",
     "name": "stdout",
     "text": [
      "Epoch 01| Loss: 1.9943| Acc: 0.1286| Train Time: 0.4930s\n"
     ]
    },
    {
     "output_type": "stream",
     "name": "stderr",
     "text": [
      "Evaluating: 100%|██████████| 5416/5416 [00:03<00:00, 1655.59it/s]\n"
     ]
    },
    {
     "output_type": "stream",
     "name": "stdout",
     "text": [
      "Train: 0.9143| Val: 0.3620| Test: 0.3610| Eval Time: 3.2753s\n",
      "Epoch 02| Loss: 1.4367| Acc: 0.7857| Train Time: 0.6820s\n"
     ]
    },
    {
     "output_type": "stream",
     "name": "stderr",
     "text": [
      "Evaluating: 100%|██████████| 5416/5416 [00:00<00:00, 102193.33it/s]"
     ]
    },
    {
     "output_type": "stream",
     "name": "stdout",
     "text": [
      "Train: 0.9643| Val: 0.5380| Test: 0.5550| Eval Time: 0.0560s\n"
     ]
    },
    {
     "output_type": "stream",
     "name": "stderr",
     "text": [
      "\n"
     ]
    },
    {
     "output_type": "stream",
     "name": "stdout",
     "text": [
      "Epoch 03| Loss: 0.9265| Acc: 0.9357| Train Time: 0.6760s\n"
     ]
    },
    {
     "output_type": "stream",
     "name": "stderr",
     "text": [
      "Evaluating: 100%|██████████| 5416/5416 [00:00<00:00, 84597.10it/s]\n"
     ]
    },
    {
     "output_type": "stream",
     "name": "stdout",
     "text": [
      "Train: 0.9929| Val: 0.5820| Test: 0.5820| Eval Time: 0.0710s\n",
      "Epoch 04| Loss: 0.5818| Acc: 0.9643| Train Time: 0.0170s\n"
     ]
    },
    {
     "output_type": "stream",
     "name": "stderr",
     "text": [
      "Evaluating: 100%|██████████| 5416/5416 [00:00<00:00, 78495.19it/s]\n"
     ]
    },
    {
     "output_type": "stream",
     "name": "stdout",
     "text": [
      "Train: 1.0000| Val: 0.5860| Test: 0.5950| Eval Time: 0.0740s\n",
      "Epoch 05| Loss: 0.3602| Acc: 0.9857| Train Time: 0.0180s\n"
     ]
    },
    {
     "output_type": "stream",
     "name": "stderr",
     "text": [
      "Evaluating: 100%|██████████| 5416/5416 [00:00<00:00, 98471.33it/s]"
     ]
    },
    {
     "output_type": "stream",
     "name": "stdout",
     "text": [
      "Train: 1.0000| Val: 0.5900| Test: 0.5860| Eval Time: 0.0600s\n",
      "Epoch 06| Loss: 0.2064| Acc: 0.9929| Train Time: 0.0140s\n"
     ]
    },
    {
     "output_type": "stream",
     "name": "stderr",
     "text": [
      "\n",
      "Evaluating: 100%|██████████| 5416/5416 [00:00<00:00, 76282.35it/s]\n"
     ]
    },
    {
     "output_type": "stream",
     "name": "stdout",
     "text": [
      "Train: 1.0000| Val: 0.5880| Test: 0.5880| Eval Time: 0.0780s\n",
      "Epoch 07| Loss: 0.1247| Acc: 1.0000| Train Time: 0.0190s\n"
     ]
    },
    {
     "output_type": "stream",
     "name": "stderr",
     "text": [
      "Evaluating: 100%|██████████| 5416/5416 [00:00<00:00, 78494.92it/s]\n"
     ]
    },
    {
     "output_type": "stream",
     "name": "stdout",
     "text": [
      "Train: 1.0000| Val: 0.5900| Test: 0.5870| Eval Time: 0.0730s\n",
      "Epoch 08| Loss: 0.0758| Acc: 1.0000| Train Time: 0.0130s\n"
     ]
    },
    {
     "output_type": "stream",
     "name": "stderr",
     "text": [
      "Evaluating: 100%|██████████| 5416/5416 [00:00<00:00, 87316.85it/s]"
     ]
    },
    {
     "output_type": "stream",
     "name": "stdout",
     "text": [
      "Train: 1.0000| Val: 0.5900| Test: 0.5900| Eval Time: 0.0660s\n",
      "Epoch 09| Loss: 0.0563| Acc: 1.0000| Train Time: 0.0150s\n"
     ]
    },
    {
     "output_type": "stream",
     "name": "stderr",
     "text": [
      "\n",
      "Evaluating: 100%|██████████| 5416/5416 [00:00<00:00, 96715.94it/s]\n"
     ]
    },
    {
     "output_type": "stream",
     "name": "stdout",
     "text": [
      "Train: 1.0000| Val: 0.5900| Test: 0.5940| Eval Time: 0.0610s\n",
      "Epoch 10| Loss: 0.0302| Acc: 1.0000| Train Time: 0.0150s\n"
     ]
    },
    {
     "output_type": "stream",
     "name": "stderr",
     "text": [
      "Evaluating: 100%|██████████| 5416/5416 [00:00<00:00, 90275.00it/s]\n"
     ]
    },
    {
     "output_type": "stream",
     "name": "stdout",
     "text": [
      "Train: 1.0000| Val: 0.5880| Test: 0.5960| Eval Time: 0.0690s\n",
      "Epoch 11| Loss: 0.0312| Acc: 1.0000| Train Time: 0.0150s\n"
     ]
    },
    {
     "output_type": "stream",
     "name": "stderr",
     "text": [
      "Evaluating: 100%|██████████| 5416/5416 [00:00<00:00, 77373.35it/s]\n"
     ]
    },
    {
     "output_type": "stream",
     "name": "stdout",
     "text": [
      "Train: 1.0000| Val: 0.5880| Test: 0.5980| Eval Time: 0.0750s\n",
      "Epoch 12| Loss: 0.0186| Acc: 1.0000| Train Time: 0.0160s\n"
     ]
    },
    {
     "output_type": "stream",
     "name": "stderr",
     "text": [
      "Evaluating: 100%|██████████| 5416/5416 [00:00<00:00, 70335.14it/s]\n"
     ]
    },
    {
     "output_type": "stream",
     "name": "stdout",
     "text": [
      "Train: 1.0000| Val: 0.5900| Test: 0.5970| Eval Time: 0.0830s\n",
      "Epoch 13| Loss: 0.0147| Acc: 1.0000| Train Time: 0.0140s\n"
     ]
    },
    {
     "output_type": "stream",
     "name": "stderr",
     "text": [
      "Evaluating: 100%|██████████| 5416/5416 [00:00<00:00, 65254.18it/s]\n"
     ]
    },
    {
     "output_type": "stream",
     "name": "stdout",
     "text": [
      "Train: 1.0000| Val: 0.5880| Test: 0.5970| Eval Time: 0.0880s\n",
      "Epoch 14| Loss: 0.0074| Acc: 1.0000| Train Time: 0.0180s\n"
     ]
    },
    {
     "output_type": "stream",
     "name": "stderr",
     "text": [
      "Evaluating: 100%|██████████| 5416/5416 [00:00<00:00, 69439.23it/s]\n"
     ]
    },
    {
     "output_type": "stream",
     "name": "stdout",
     "text": [
      "Train: 1.0000| Val: 0.5880| Test: 0.5930| Eval Time: 0.0830s\n",
      "Epoch 15| Loss: 0.0076| Acc: 1.0000| Train Time: 0.0140s\n"
     ]
    },
    {
     "output_type": "stream",
     "name": "stderr",
     "text": [
      "Evaluating: 100%|██████████| 5416/5416 [00:00<00:00, 80835.35it/s]\n"
     ]
    },
    {
     "output_type": "stream",
     "name": "stdout",
     "text": [
      "Train: 1.0000| Val: 0.5860| Test: 0.5920| Eval Time: 0.0700s\n",
      "Epoch 16| Loss: 0.0087| Acc: 1.0000| Train Time: 0.0150s\n"
     ]
    },
    {
     "output_type": "stream",
     "name": "stderr",
     "text": [
      "Evaluating: 100%|██████████| 5416/5416 [00:00<00:00, 82062.11it/s]\n"
     ]
    },
    {
     "output_type": "stream",
     "name": "stdout",
     "text": [
      "Train: 1.0000| Val: 0.5860| Test: 0.5890| Eval Time: 0.0720s\n",
      "Epoch 17| Loss: 0.0031| Acc: 1.0000| Train Time: 0.0140s\n"
     ]
    },
    {
     "output_type": "stream",
     "name": "stderr",
     "text": [
      "Evaluating: 100%|██████████| 5416/5416 [00:00<00:00, 91798.44it/s]"
     ]
    },
    {
     "output_type": "stream",
     "name": "stdout",
     "text": [
      "Train: 1.0000| Val: 0.5880| Test: 0.5890| Eval Time: 0.0630s\n",
      "Epoch 18| Loss: 0.0050| Acc: 1.0000| Train Time: 0.0200s\n"
     ]
    },
    {
     "output_type": "stream",
     "name": "stderr",
     "text": [
      "\n",
      "Evaluating: 100%|██████████| 5416/5416 [00:00<00:00, 75224.19it/s]\n"
     ]
    },
    {
     "output_type": "stream",
     "name": "stdout",
     "text": [
      "Train: 1.0000| Val: 0.5880| Test: 0.5880| Eval Time: 0.0760s\n",
      "Epoch 19| Loss: 0.0014| Acc: 1.0000| Train Time: 0.0150s\n"
     ]
    },
    {
     "output_type": "stream",
     "name": "stderr",
     "text": [
      "Evaluating: 100%|██████████| 5416/5416 [00:00<00:00, 71257.59it/s]\n"
     ]
    },
    {
     "output_type": "stream",
     "name": "stdout",
     "text": [
      "Train: 1.0000| Val: 0.5860| Test: 0.5850| Eval Time: 0.0810s\n",
      "Epoch 20| Loss: 0.0049| Acc: 1.0000| Train Time: 0.0150s\n"
     ]
    },
    {
     "output_type": "stream",
     "name": "stderr",
     "text": [
      "Evaluating: 100%|██████████| 5416/5416 [00:00<00:00, 87356.13it/s]\n"
     ]
    },
    {
     "output_type": "stream",
     "name": "stdout",
     "text": [
      "Train: 1.0000| Val: 0.5840| Test: 0.5850| Eval Time: 0.0670s\n",
      "Epoch 21| Loss: 0.0014| Acc: 1.0000| Train Time: 0.0160s\n"
     ]
    },
    {
     "output_type": "stream",
     "name": "stderr",
     "text": [
      "Evaluating: 100%|██████████| 5416/5416 [00:00<00:00, 90246.31it/s]\n"
     ]
    },
    {
     "output_type": "stream",
     "name": "stdout",
     "text": [
      "Train: 1.0000| Val: 0.5840| Test: 0.5840| Eval Time: 0.0640s\n",
      "Epoch 22| Loss: 0.0013| Acc: 1.0000| Train Time: 0.0160s\n"
     ]
    },
    {
     "output_type": "stream",
     "name": "stderr",
     "text": [
      "Evaluating: 100%|██████████| 5416/5416 [00:00<00:00, 93378.02it/s]\n"
     ]
    },
    {
     "output_type": "stream",
     "name": "stdout",
     "text": [
      "Train: 1.0000| Val: 0.5860| Test: 0.5840| Eval Time: 0.0650s\n",
      "Epoch 23| Loss: 0.0014| Acc: 1.0000| Train Time: 0.0130s\n"
     ]
    },
    {
     "output_type": "stream",
     "name": "stderr",
     "text": [
      "Evaluating: 100%|██████████| 5416/5416 [00:00<00:00, 90270.70it/s]\n"
     ]
    },
    {
     "output_type": "stream",
     "name": "stdout",
     "text": [
      "Train: 1.0000| Val: 0.5860| Test: 0.5840| Eval Time: 0.0650s\n",
      "Epoch 24| Loss: 0.0017| Acc: 1.0000| Train Time: 0.0160s\n"
     ]
    },
    {
     "output_type": "stream",
     "name": "stderr",
     "text": [
      "Evaluating: 100%|██████████| 5416/5416 [00:00<00:00, 90270.34it/s]\n"
     ]
    },
    {
     "output_type": "stream",
     "name": "stdout",
     "text": [
      "Train: 1.0000| Val: 0.5840| Test: 0.5840| Eval Time: 0.0660s\n",
      "Epoch 25| Loss: 0.0006| Acc: 1.0000| Train Time: 0.0150s\n"
     ]
    },
    {
     "output_type": "stream",
     "name": "stderr",
     "text": [
      "Evaluating: 100%|██████████| 5416/5416 [00:00<00:00, 100295.15it/s]\n"
     ]
    },
    {
     "output_type": "stream",
     "name": "stdout",
     "text": [
      "Train: 1.0000| Val: 0.5840| Test: 0.5840| Eval Time: 0.0580s\n",
      "Epoch 26| Loss: 0.0009| Acc: 1.0000| Train Time: 0.0140s\n"
     ]
    },
    {
     "output_type": "stream",
     "name": "stderr",
     "text": [
      "Evaluating: 100%|██████████| 5416/5416 [00:00<00:00, 90235.56it/s]\n"
     ]
    },
    {
     "output_type": "stream",
     "name": "stdout",
     "text": [
      "Train: 1.0000| Val: 0.5820| Test: 0.5840| Eval Time: 0.0650s\n",
      "Epoch 27| Loss: 0.0004| Acc: 1.0000| Train Time: 0.0140s\n"
     ]
    },
    {
     "output_type": "stream",
     "name": "stderr",
     "text": [
      "Evaluating: 100%|██████████| 5416/5416 [00:00<00:00, 84614.11it/s]"
     ]
    },
    {
     "output_type": "stream",
     "name": "stdout",
     "text": [
      "Train: 1.0000| Val: 0.5800| Test: 0.5830| Eval Time: 0.0680s\n",
      "Epoch 28| Loss: 0.0010| Acc: 1.0000| Train Time: 0.0160s\n"
     ]
    },
    {
     "output_type": "stream",
     "name": "stderr",
     "text": [
      "\n",
      "Evaluating: 100%|██████████| 5416/5416 [00:00<00:00, 80832.76it/s]\n"
     ]
    },
    {
     "output_type": "stream",
     "name": "stdout",
     "text": [
      "Train: 1.0000| Val: 0.5780| Test: 0.5820| Eval Time: 0.0710s\n",
      "Epoch 29| Loss: 0.0005| Acc: 1.0000| Train Time: 0.0130s\n"
     ]
    },
    {
     "output_type": "stream",
     "name": "stderr",
     "text": [
      "Evaluating: 100%|██████████| 5416/5416 [00:00<00:00, 84622.62it/s]\n"
     ]
    },
    {
     "output_type": "stream",
     "name": "stdout",
     "text": [
      "Train: 1.0000| Val: 0.5780| Test: 0.5820| Eval Time: 0.0680s\n",
      "Epoch 30| Loss: 0.0003| Acc: 1.0000| Train Time: 0.0150s\n"
     ]
    },
    {
     "output_type": "stream",
     "name": "stderr",
     "text": [
      "Evaluating: 100%|██████████| 5416/5416 [00:00<00:00, 83322.70it/s]\n"
     ]
    },
    {
     "output_type": "stream",
     "name": "stdout",
     "text": [
      "Train: 1.0000| Val: 0.5760| Test: 0.5820| Eval Time: 0.0680s\n",
      "Epoch 31| Loss: 0.0002| Acc: 1.0000| Train Time: 0.0160s\n"
     ]
    },
    {
     "output_type": "stream",
     "name": "stderr",
     "text": [
      "Evaluating: 100%|██████████| 5416/5416 [00:00<00:00, 79647.25it/s]\n"
     ]
    },
    {
     "output_type": "stream",
     "name": "stdout",
     "text": [
      "Train: 1.0000| Val: 0.5760| Test: 0.5810| Eval Time: 0.0730s\n",
      "Epoch 32| Loss: 0.0003| Acc: 1.0000| Train Time: 0.0170s\n"
     ]
    },
    {
     "output_type": "stream",
     "name": "stderr",
     "text": [
      "Evaluating: 100%|██████████| 5416/5416 [00:00<00:00, 65253.81it/s]\n"
     ]
    },
    {
     "output_type": "stream",
     "name": "stdout",
     "text": [
      "Train: 1.0000| Val: 0.5760| Test: 0.5800| Eval Time: 0.0900s\n",
      "Epoch 33| Loss: 0.0003| Acc: 1.0000| Train Time: 0.0170s\n"
     ]
    },
    {
     "output_type": "stream",
     "name": "stderr",
     "text": [
      "Evaluating: 100%|██████████| 5416/5416 [00:00<00:00, 63718.33it/s]\n"
     ]
    },
    {
     "output_type": "stream",
     "name": "stdout",
     "text": [
      "Train: 1.0000| Val: 0.5760| Test: 0.5790| Eval Time: 0.0910s\n",
      "Epoch 34| Loss: 0.0003| Acc: 1.0000| Train Time: 0.0210s\n"
     ]
    },
    {
     "output_type": "stream",
     "name": "stderr",
     "text": [
      "Evaluating: 100%|██████████| 5416/5416 [00:00<00:00, 61534.58it/s]\n"
     ]
    },
    {
     "output_type": "stream",
     "name": "stdout",
     "text": [
      "Train: 1.0000| Val: 0.5740| Test: 0.5780| Eval Time: 0.0950s\n",
      "Epoch 35| Loss: 0.0001| Acc: 1.0000| Train Time: 0.0185s\n"
     ]
    },
    {
     "output_type": "stream",
     "name": "stderr",
     "text": [
      "Evaluating: 100%|██████████| 5416/5416 [00:00<00:00, 70323.38it/s]\n"
     ]
    },
    {
     "output_type": "stream",
     "name": "stdout",
     "text": [
      "Train: 1.0000| Val: 0.5720| Test: 0.5780| Eval Time: 0.0840s\n",
      "Epoch 36| Loss: 0.0001| Acc: 1.0000| Train Time: 0.0160s\n"
     ]
    },
    {
     "output_type": "stream",
     "name": "stderr",
     "text": [
      "Evaluating: 100%|██████████| 5416/5416 [00:00<00:00, 64479.03it/s]\n"
     ]
    },
    {
     "output_type": "stream",
     "name": "stdout",
     "text": [
      "Train: 1.0000| Val: 0.5720| Test: 0.5780| Eval Time: 0.0900s\n",
      "Epoch 37| Loss: 0.0004| Acc: 1.0000| Train Time: 0.0160s\n"
     ]
    },
    {
     "output_type": "stream",
     "name": "stderr",
     "text": [
      "Evaluating: 100%|██████████| 5416/5416 [00:00<00:00, 51584.81it/s]\n"
     ]
    },
    {
     "output_type": "stream",
     "name": "stdout",
     "text": [
      "Train: 1.0000| Val: 0.5720| Test: 0.5780| Eval Time: 0.1120s\n",
      "Epoch 38| Loss: 0.0001| Acc: 1.0000| Train Time: 0.0190s\n"
     ]
    },
    {
     "output_type": "stream",
     "name": "stderr",
     "text": [
      "Evaluating: 100%|██████████| 5416/5416 [00:00<00:00, 58236.75it/s]\n"
     ]
    },
    {
     "output_type": "stream",
     "name": "stdout",
     "text": [
      "Train: 1.0000| Val: 0.5720| Test: 0.5780| Eval Time: 0.0990s\n",
      "Epoch 39| Loss: 0.0001| Acc: 1.0000| Train Time: 0.0160s\n"
     ]
    },
    {
     "output_type": "stream",
     "name": "stderr",
     "text": [
      "Evaluating: 100%|██████████| 5416/5416 [00:00<00:00, 57617.25it/s]\n"
     ]
    },
    {
     "output_type": "stream",
     "name": "stdout",
     "text": [
      "Train: 1.0000| Val: 0.5720| Test: 0.5780| Eval Time: 0.0990s\n",
      "Epoch 40| Loss: 0.0002| Acc: 1.0000| Train Time: 0.0170s\n"
     ]
    },
    {
     "output_type": "stream",
     "name": "stderr",
     "text": [
      "Evaluating: 100%|██████████| 5416/5416 [00:00<00:00, 58868.80it/s]\n"
     ]
    },
    {
     "output_type": "stream",
     "name": "stdout",
     "text": [
      "Train: 1.0000| Val: 0.5700| Test: 0.5760| Eval Time: 0.0980s\n",
      "Epoch 41| Loss: 0.0005| Acc: 1.0000| Train Time: 0.0180s\n"
     ]
    },
    {
     "output_type": "stream",
     "name": "stderr",
     "text": [
      "Evaluating: 100%|██████████| 5416/5416 [00:00<00:00, 66059.71it/s]\n"
     ]
    },
    {
     "output_type": "stream",
     "name": "stdout",
     "text": [
      "Train: 1.0000| Val: 0.5700| Test: 0.5760| Eval Time: 0.0880s\n",
      "Epoch 42| Loss: 0.0004| Acc: 1.0000| Train Time: 0.0150s\n"
     ]
    },
    {
     "output_type": "stream",
     "name": "stderr",
     "text": [
      "Evaluating: 100%|██████████| 5416/5416 [00:00<00:00, 66779.99it/s]\n"
     ]
    },
    {
     "output_type": "stream",
     "name": "stdout",
     "text": [
      "Train: 1.0000| Val: 0.5700| Test: 0.5750| Eval Time: 0.0891s\n",
      "Epoch 43| Loss: 0.0003| Acc: 1.0000| Train Time: 0.0140s\n"
     ]
    },
    {
     "output_type": "stream",
     "name": "stderr",
     "text": [
      "Evaluating: 100%|██████████| 5416/5416 [00:00<00:00, 60177.20it/s]\n"
     ]
    },
    {
     "output_type": "stream",
     "name": "stdout",
     "text": [
      "Train: 1.0000| Val: 0.5700| Test: 0.5750| Eval Time: 0.0960s\n",
      "Epoch 44| Loss: 0.0001| Acc: 1.0000| Train Time: 0.0210s\n"
     ]
    },
    {
     "output_type": "stream",
     "name": "stderr",
     "text": [
      "Evaluating: 100%|██████████| 5416/5416 [00:00<00:00, 62978.69it/s]\n"
     ]
    },
    {
     "output_type": "stream",
     "name": "stdout",
     "text": [
      "Train: 1.0000| Val: 0.5700| Test: 0.5750| Eval Time: 0.0910s\n",
      "Epoch 45| Loss: 0.0003| Acc: 1.0000| Train Time: 0.0155s\n"
     ]
    },
    {
     "output_type": "stream",
     "name": "stderr",
     "text": [
      "Evaluating: 100%|██████████| 5416/5416 [00:00<00:00, 58236.45it/s]\n"
     ]
    },
    {
     "output_type": "stream",
     "name": "stdout",
     "text": [
      "Train: 1.0000| Val: 0.5700| Test: 0.5750| Eval Time: 0.0980s\n",
      "Epoch 46| Loss: 0.0005| Acc: 1.0000| Train Time: 0.0170s\n"
     ]
    },
    {
     "output_type": "stream",
     "name": "stderr",
     "text": [
      "Evaluating: 100%|██████████| 5416/5416 [00:00<00:00, 70332.31it/s]\n"
     ]
    },
    {
     "output_type": "stream",
     "name": "stdout",
     "text": [
      "Train: 1.0000| Val: 0.5700| Test: 0.5750| Eval Time: 0.0820s\n",
      "Epoch 47| Loss: 0.0001| Acc: 1.0000| Train Time: 0.0200s\n"
     ]
    },
    {
     "output_type": "stream",
     "name": "stderr",
     "text": [
      "Evaluating: 100%|██████████| 5416/5416 [00:00<00:00, 64475.01it/s]\n"
     ]
    },
    {
     "output_type": "stream",
     "name": "stdout",
     "text": [
      "Train: 1.0000| Val: 0.5680| Test: 0.5750| Eval Time: 0.0930s\n",
      "Epoch 48| Loss: 0.0003| Acc: 1.0000| Train Time: 0.0170s\n"
     ]
    },
    {
     "output_type": "stream",
     "name": "stderr",
     "text": [
      "Evaluating: 100%|██████████| 5416/5416 [00:00<00:00, 64470.43it/s]\n"
     ]
    },
    {
     "output_type": "stream",
     "name": "stdout",
     "text": [
      "Train: 1.0000| Val: 0.5680| Test: 0.5750| Eval Time: 0.0890s\n",
      "Epoch 49| Loss: 0.0004| Acc: 1.0000| Train Time: 0.0170s\n"
     ]
    },
    {
     "output_type": "stream",
     "name": "stderr",
     "text": [
      "Evaluating: 100%|██████████| 5416/5416 [00:00<00:00, 57618.27it/s]\n"
     ]
    },
    {
     "output_type": "stream",
     "name": "stdout",
     "text": [
      "Train: 1.0000| Val: 0.5680| Test: 0.5750| Eval Time: 0.1000s\n",
      "Epoch 50| Loss: 0.0002| Acc: 1.0000| Train Time: 0.0170s\n"
     ]
    },
    {
     "output_type": "stream",
     "name": "stderr",
     "text": [
      "Evaluating: 100%|██████████| 5416/5416 [00:00<00:00, 67705.51it/s]\n"
     ]
    },
    {
     "output_type": "stream",
     "name": "stdout",
     "text": [
      "Train: 1.0000| Val: 0.5680| Test: 0.5740| Eval Time: 0.0850s\n",
      "Epoch 51| Loss: 0.0004| Acc: 1.0000| Train Time: 0.0210s\n"
     ]
    },
    {
     "output_type": "stream",
     "name": "stderr",
     "text": [
      "Evaluating: 100%|██████████| 5416/5416 [00:00<00:00, 64474.46it/s]\n"
     ]
    },
    {
     "output_type": "stream",
     "name": "stdout",
     "text": [
      "Train: 1.0000| Val: 0.5680| Test: 0.5740| Eval Time: 0.0890s\n",
      "Epoch 52| Loss: 0.0001| Acc: 1.0000| Train Time: 0.0200s\n"
     ]
    },
    {
     "output_type": "stream",
     "name": "stderr",
     "text": [
      "Evaluating: 100%|██████████| 5416/5416 [00:00<00:00, 66049.92it/s]\n"
     ]
    },
    {
     "output_type": "stream",
     "name": "stdout",
     "text": [
      "Train: 1.0000| Val: 0.5680| Test: 0.5740| Eval Time: 0.0890s\n",
      "Epoch 53| Loss: 0.0001| Acc: 1.0000| Train Time: 0.0180s\n"
     ]
    },
    {
     "output_type": "stream",
     "name": "stderr",
     "text": [
      "Evaluating: 100%|██████████| 5416/5416 [00:00<00:00, 71259.38it/s]\n"
     ]
    },
    {
     "output_type": "stream",
     "name": "stdout",
     "text": [
      "Train: 1.0000| Val: 0.5680| Test: 0.5740| Eval Time: 0.0860s\n",
      "Epoch 54| Loss: 0.0001| Acc: 1.0000| Train Time: 0.0200s\n"
     ]
    },
    {
     "output_type": "stream",
     "name": "stderr",
     "text": [
      "Evaluating: 100%|██████████| 5416/5416 [00:00<00:00, 68559.45it/s]\n"
     ]
    },
    {
     "output_type": "stream",
     "name": "stdout",
     "text": [
      "Train: 1.0000| Val: 0.5680| Test: 0.5740| Eval Time: 0.0850s\n",
      "Epoch 55| Loss: 0.0004| Acc: 1.0000| Train Time: 0.0190s\n"
     ]
    },
    {
     "output_type": "stream",
     "name": "stderr",
     "text": [
      "Evaluating: 100%|██████████| 5416/5416 [00:00<00:00, 68564.83it/s]\n"
     ]
    },
    {
     "output_type": "stream",
     "name": "stdout",
     "text": [
      "Train: 1.0000| Val: 0.5680| Test: 0.5740| Eval Time: 0.0910s\n",
      "\n",
      "Result of  1. run| Train: 1.0000| Val: 0.5900| Test: 0.5860\n",
      "\n",
      "Run 01:\n"
     ]
    },
    {
     "output_type": "stream",
     "name": "stderr",
     "text": [
      "Epoch 01:   0%|          | 0/140 [00:00<?, ?it/s]"
     ]
    }
   ],
   "metadata": {}
  },
  {
   "cell_type": "code",
   "execution_count": null,
   "source": [],
   "outputs": [],
   "metadata": {}
  }
 ],
 "metadata": {
  "orig_nbformat": 4,
  "kernelspec": {
   "name": "python3",
   "display_name": "Python 3.8.10 64-bit ('PSN': conda)"
  },
  "interpreter": {
   "hash": "b8be38cac5e07419459cc1d2fe0e04c6cbe36991c6a4efd3c9a636608bfd9cde"
  },
  "language_info": {
   "name": "python",
   "version": "3.8.10",
   "mimetype": "text/x-python",
   "codemirror_mode": {
    "name": "ipython",
    "version": 3
   },
   "pygments_lexer": "ipython3",
   "nbconvert_exporter": "python",
   "file_extension": ".py"
  }
 },
 "nbformat": 4,
 "nbformat_minor": 2
}