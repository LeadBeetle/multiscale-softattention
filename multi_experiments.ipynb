{
 "cells": [
  {
   "cell_type": "code",
   "execution_count": 1,
   "source": [
    "from utils.constants import *\r\n",
    "from utils.experimentorUtils import * "
   ],
   "outputs": [],
   "metadata": {}
  },
  {
   "cell_type": "code",
   "execution_count": 2,
   "source": [
    "models     = [ModelType.GATV1]\r\n",
    "datasets   = [Dataset.CORA]\r\n",
    "degrees    = [2]\r\n",
    "num_layers = [3]\r\n",
    "sparse     = [True]\r\n",
    "adj_modes  = [AdjacencyMode.Partial]\r\n",
    "aggr_modes = [AggrMode.MEAN]\r\n",
    "\r\n",
    "runExperiments(models, datasets, degrees, sparse, num_layers, adj_modes, aggr_modes)"
   ],
   "outputs": [
    {
     "output_type": "stream",
     "name": "stdout",
     "text": [
      "Run 01 for GatV1_K2_D3_s and Cora:\n"
     ]
    },
    {
     "output_type": "stream",
     "name": "stderr",
     "text": [
      "Epoch 01: 100%|██████████| 140/140 [00:01<00:00, 82.18it/s]\n"
     ]
    },
    {
     "output_type": "stream",
     "name": "stdout",
     "text": [
      "Epoch 01| Loss: 1.9621| Acc: 0.1571| Train Time: 1.7106s\n"
     ]
    },
    {
     "output_type": "stream",
     "name": "stderr",
     "text": [
      "Evaluating: 100%|██████████| 8124/8124 [00:00<00:00, 13934.84it/s]\n"
     ]
    },
    {
     "output_type": "stream",
     "name": "stdout",
     "text": [
      "Train: 0.9000| Val: 0.6940| Test: 0.7370| Eval Time: 0.5870s\n",
      "Epoch 02| Loss: 1.4440| Acc: 0.8143| Train Time: 1.4691s\n"
     ]
    },
    {
     "output_type": "stream",
     "name": "stderr",
     "text": [
      "Evaluating: 100%|██████████| 8124/8124 [00:00<00:00, 15240.20it/s]\n"
     ]
    },
    {
     "output_type": "stream",
     "name": "stdout",
     "text": [
      "Train: 0.9643| Val: 0.7560| Test: 0.7730| Eval Time: 0.5371s\n",
      "Epoch 03| Loss: 0.9366| Acc: 0.9071| Train Time: 1.4737s\n"
     ]
    },
    {
     "output_type": "stream",
     "name": "stderr",
     "text": [
      "Evaluating: 100%|██████████| 8124/8124 [00:00<00:00, 14879.17it/s]\n"
     ]
    },
    {
     "output_type": "stream",
     "name": "stdout",
     "text": [
      "Train: 0.9786| Val: 0.7840| Test: 0.8080| Eval Time: 0.5500s\n",
      "Epoch 04| Loss: 0.4369| Acc: 0.9571| Train Time: 1.4975s\n"
     ]
    },
    {
     "output_type": "stream",
     "name": "stderr",
     "text": [
      "Evaluating: 100%|██████████| 8124/8124 [00:00<00:00, 15715.63it/s]\n"
     ]
    },
    {
     "output_type": "stream",
     "name": "stdout",
     "text": [
      "Train: 0.9929| Val: 0.7880| Test: 0.8150| Eval Time: 0.5219s\n",
      "Epoch 05| Loss: 0.2065| Acc: 0.9571| Train Time: 1.5241s\n"
     ]
    },
    {
     "output_type": "stream",
     "name": "stderr",
     "text": [
      "Evaluating: 100%|██████████| 8124/8124 [00:00<00:00, 16023.71it/s]\n"
     ]
    },
    {
     "output_type": "stream",
     "name": "stdout",
     "text": [
      "Train: 0.9857| Val: 0.7920| Test: 0.7980| Eval Time: 0.5110s\n",
      "Epoch 06| Loss: 0.1066| Acc: 0.9714| Train Time: 1.5110s\n"
     ]
    },
    {
     "output_type": "stream",
     "name": "stderr",
     "text": [
      "Evaluating: 100%|██████████| 8124/8124 [00:00<00:00, 13958.01it/s]\n"
     ]
    },
    {
     "output_type": "stream",
     "name": "stdout",
     "text": [
      "Train: 0.9857| Val: 0.7900| Test: 0.8020| Eval Time: 0.5870s\n",
      "Epoch 07| Loss: 0.0612| Acc: 0.9786| Train Time: 1.4105s\n"
     ]
    },
    {
     "output_type": "stream",
     "name": "stderr",
     "text": [
      "Evaluating: 100%|██████████| 8124/8124 [00:00<00:00, 15444.89it/s]\n"
     ]
    },
    {
     "output_type": "stream",
     "name": "stdout",
     "text": [
      "Train: 1.0000| Val: 0.7680| Test: 0.7970| Eval Time: 0.5300s\n",
      "Epoch 08| Loss: 0.0347| Acc: 0.9857| Train Time: 1.4441s\n"
     ]
    },
    {
     "output_type": "stream",
     "name": "stderr",
     "text": [
      "Evaluating: 100%|██████████| 8124/8124 [00:00<00:00, 16646.35it/s]\n"
     ]
    },
    {
     "output_type": "stream",
     "name": "stdout",
     "text": [
      "Train: 1.0000| Val: 0.7700| Test: 0.7960| Eval Time: 0.4926s\n",
      "Epoch 09| Loss: 0.0201| Acc: 1.0000| Train Time: 1.4460s\n"
     ]
    },
    {
     "output_type": "stream",
     "name": "stderr",
     "text": [
      "Evaluating: 100%|██████████| 8124/8124 [00:00<00:00, 16101.17it/s]\n"
     ]
    },
    {
     "output_type": "stream",
     "name": "stdout",
     "text": [
      "Train: 1.0000| Val: 0.7700| Test: 0.7990| Eval Time: 0.5106s\n",
      "Epoch 10| Loss: 0.0137| Acc: 1.0000| Train Time: 1.4878s\n"
     ]
    },
    {
     "output_type": "stream",
     "name": "stderr",
     "text": [
      "Evaluating: 100%|██████████| 8124/8124 [00:00<00:00, 16150.27it/s]\n"
     ]
    },
    {
     "output_type": "stream",
     "name": "stdout",
     "text": [
      "Train: 1.0000| Val: 0.7640| Test: 0.8010| Eval Time: 0.5090s\n",
      "Epoch 11| Loss: 0.0124| Acc: 0.9929| Train Time: 1.4366s\n"
     ]
    },
    {
     "output_type": "stream",
     "name": "stderr",
     "text": [
      "Evaluating: 100%|██████████| 8124/8124 [00:00<00:00, 15835.31it/s]\n"
     ]
    },
    {
     "output_type": "stream",
     "name": "stdout",
     "text": [
      "Train: 1.0000| Val: 0.7740| Test: 0.8040| Eval Time: 0.5170s\n",
      "Epoch 12| Loss: 0.0028| Acc: 1.0000| Train Time: 1.3836s\n"
     ]
    },
    {
     "output_type": "stream",
     "name": "stderr",
     "text": [
      "Evaluating: 100%|██████████| 8124/8124 [00:00<00:00, 16197.97it/s]\n"
     ]
    },
    {
     "output_type": "stream",
     "name": "stdout",
     "text": [
      "Train: 1.0000| Val: 0.7760| Test: 0.8100| Eval Time: 0.5055s\n",
      "Epoch 13| Loss: 0.0013| Acc: 1.0000| Train Time: 1.4041s\n"
     ]
    },
    {
     "output_type": "stream",
     "name": "stderr",
     "text": [
      "Evaluating: 100%|██████████| 8124/8124 [00:00<00:00, 16726.14it/s]\n"
     ]
    },
    {
     "output_type": "stream",
     "name": "stdout",
     "text": [
      "Train: 1.0000| Val: 0.7720| Test: 0.8090| Eval Time: 0.4897s\n",
      "Epoch 14| Loss: 0.0040| Acc: 1.0000| Train Time: 1.3786s\n"
     ]
    },
    {
     "output_type": "stream",
     "name": "stderr",
     "text": [
      "Evaluating: 100%|██████████| 8124/8124 [00:00<00:00, 16261.41it/s]\n"
     ]
    },
    {
     "output_type": "stream",
     "name": "stdout",
     "text": [
      "Train: 1.0000| Val: 0.7680| Test: 0.8050| Eval Time: 0.5026s\n",
      "Epoch 15| Loss: 0.0006| Acc: 1.0000| Train Time: 1.4092s\n"
     ]
    },
    {
     "output_type": "stream",
     "name": "stderr",
     "text": [
      "Evaluating: 100%|██████████| 8124/8124 [00:00<00:00, 13437.69it/s]\n"
     ]
    },
    {
     "output_type": "stream",
     "name": "stdout",
     "text": [
      "Train: 1.0000| Val: 0.7700| Test: 0.8010| Eval Time: 0.6096s\n",
      "Epoch 16| Loss: 0.0200| Acc: 0.9929| Train Time: 1.8437s\n"
     ]
    },
    {
     "output_type": "stream",
     "name": "stderr",
     "text": [
      "Evaluating: 100%|██████████| 8124/8124 [00:00<00:00, 11605.69it/s]\n"
     ]
    },
    {
     "output_type": "stream",
     "name": "stdout",
     "text": [
      "Train: 1.0000| Val: 0.7700| Test: 0.7900| Eval Time: 0.7050s\n",
      "Epoch 17| Loss: 0.0022| Acc: 1.0000| Train Time: 1.8141s\n"
     ]
    },
    {
     "output_type": "stream",
     "name": "stderr",
     "text": [
      "Evaluating: 100%|██████████| 8124/8124 [00:00<00:00, 10026.71it/s]\n"
     ]
    }
   ],
   "metadata": {}
  }
 ],
 "metadata": {
  "orig_nbformat": 4,
  "kernelspec": {
   "name": "python3",
   "display_name": "Python 3.8.10 64-bit ('PSN': conda)"
  },
  "interpreter": {
   "hash": "b8be38cac5e07419459cc1d2fe0e04c6cbe36991c6a4efd3c9a636608bfd9cde"
  },
  "language_info": {
   "name": "python",
   "version": "3.8.10",
   "mimetype": "text/x-python",
   "codemirror_mode": {
    "name": "ipython",
    "version": 3
   },
   "pygments_lexer": "ipython3",
   "nbconvert_exporter": "python",
   "file_extension": ".py"
  }
 },
 "nbformat": 4,
 "nbformat_minor": 2
}