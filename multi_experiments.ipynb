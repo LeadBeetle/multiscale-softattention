{
 "cells": [
  {
   "cell_type": "code",
   "execution_count": 1,
   "metadata": {},
   "outputs": [
    {
     "ename": "SyntaxError",
     "evalue": "invalid syntax (experimentorUtils.py, line 46)",
     "output_type": "error",
     "traceback": [
      "Traceback \u001b[0;36m(most recent call last)\u001b[0m:\n",
      "  File \u001b[1;32m\"/home/mseeland/.conda/envs/PSN/lib/python3.8/site-packages/IPython/core/interactiveshell.py\"\u001b[0m, line \u001b[1;32m3441\u001b[0m, in \u001b[1;35mrun_code\u001b[0m\n    exec(code_obj, self.user_global_ns, self.user_ns)\n",
      "\u001b[0;36m  File \u001b[0;32m\"/tmp/ipykernel_15795/1597870320.py\"\u001b[0;36m, line \u001b[0;32m2\u001b[0;36m, in \u001b[0;35m<module>\u001b[0;36m\u001b[0m\n\u001b[0;31m    from utils.experimentorUtils import *\u001b[0m\n",
      "\u001b[0;36m  File \u001b[0;32m\"/home/mseeland/multiscale-softattention/utils/experimentorUtils.py\"\u001b[0;36m, line \u001b[0;32m46\u001b[0m\n\u001b[0;31m    <<<<<<< HEAD\u001b[0m\n\u001b[0m    ^\u001b[0m\n\u001b[0;31mSyntaxError\u001b[0m\u001b[0;31m:\u001b[0m invalid syntax\n"
     ]
    }
   ],
   "source": [
    "from utils.constants import *\r\n",
    "from utils.experimentorUtils import * "
   ]
  },
  {
   "cell_type": "code",
   "execution_count": null,
   "metadata": {},
   "outputs": [],
   "source": [
    "models     = [ModelType.GATV1]\r\n",
    "datasets   = [Dataset.CITESEER, Dataset.CORA, Dataset.PUBMED]\r\n",
    "degrees    = [5,6,7,8,9,10]\r\n",
    "num_layers = [3]\r\n",
    "sparse     = [True]\r\n",
    "adj_modes  = [AdjacencyMode.OneStep]\r\n",
    "aggr_modes = [AggrMode.NONE]\r\n",
    "\r\n",
    "runExperiments(models, datasets, degrees, sparse, num_layers, adj_modes, aggr_modes)"
   ]
  },
  {
   "cell_type": "code",
   "execution_count": null,
   "metadata": {},
   "outputs": [],
   "source": []
  }
 ],
 "metadata": {
  "interpreter": {
   "hash": "b8be38cac5e07419459cc1d2fe0e04c6cbe36991c6a4efd3c9a636608bfd9cde"
  },
  "kernelspec": {
   "display_name": "Python [conda env:.conda-PSN]",
   "language": "python",
   "name": "conda-env-.conda-PSN-py"
  },
  "language_info": {
   "codemirror_mode": {
    "name": "ipython",
    "version": 3
   },
   "file_extension": ".py",
   "mimetype": "text/x-python",
   "name": "python",
   "nbconvert_exporter": "python",
   "pygments_lexer": "ipython3",
   "version": "3.8.10"
  }
 },
 "nbformat": 4,
 "nbformat_minor": 4
}
