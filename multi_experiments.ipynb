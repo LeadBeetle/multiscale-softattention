{
 "cells": [
  {
   "cell_type": "code",
   "execution_count": 1,
   "source": [
    "from utils.experimentorUtils import getExperimentor\r\n",
    "from utils.constants import *"
   ],
   "outputs": [],
   "metadata": {}
  },
  {
   "cell_type": "code",
   "execution_count": 2,
   "source": [
    "config = {\r\n",
    "    \"dataset_name\": Dataset.CORA,\r\n",
    "    \"model_type\": ModelType.GATV1,\r\n",
    "    'num_of_epochs': 500,\r\n",
    "    'num_of_runs': 5,\r\n",
    "    'patience_period': 50,\r\n",
    "    \r\n",
    "    'batch_size': 256,\r\n",
    "    'test_batch_size': 256,\r\n",
    "    'num_workers': 0,\r\n",
    "    'force_cpu': False,\r\n",
    "    'test_frequency': 1,\r\n",
    "    'console_log_freq': 1,\r\n",
    "    'do_train_tqdm_logging': False,\r\n",
    "    \r\n",
    "    'lr': 0.005,\r\n",
    "    'num_of_layers': 2, \r\n",
    "    'num_heads': 1,\r\n",
    "    'hidden_size': 128,\r\n",
    "    'dropout': 0.6,  \r\n",
    "    \"use_layer_norm\": False,\r\n",
    "    \"use_batch_norm\": False,\r\n",
    "    \r\n",
    "    'nbor_degree': 2,\r\n",
    "    'adj_mode': AdjacencyMode.OneStep,\r\n",
    "    'sparse': True\r\n",
    "}\r\n",
    "#experimentor = getExperimentor(config[\"dataset_name\"])(config)\r\n",
    "#experimentor.run_wrapper()"
   ],
   "outputs": [],
   "metadata": {}
  },
  {
   "cell_type": "code",
   "execution_count": 3,
   "source": [
    "for dataset in [Dataset.CORA, Dataset.PUBMED, Dataset.CITESEER]:\r\n",
    "    config[\"dataset_name\"] = dataset\r\n",
    "    if dataset == Dataset.PUBMED:\r\n",
    "        config[\"lr\"] = 0.01\r\n",
    "        config[\"num_heads\"] = 8\r\n",
    "    else: \r\n",
    "        config[\"lr\"] = 0.005\r\n",
    "        config[\"num_heads\"] = 1\r\n",
    "        \r\n",
    "    for degree in [1, 2, 3, 4]:\r\n",
    "        config[\"nbor_degree\"] = degree\r\n",
    "        for isSparse in [False, True]:\r\n",
    "            config[\"sparse\"] = isSparse\r\n",
    "            experimentor = getExperimentor(config[\"dataset_name\"])(config)\r\n",
    "            experimentor.run_wrapper()"
   ],
   "outputs": [
    {
     "output_type": "stream",
     "name": "stdout",
     "text": [
      "Run 01:\n"
     ]
    },
    {
     "output_type": "stream",
     "name": "stderr",
     "text": [
      "Epoch 01: 100%|██████████| 140/140 [00:01<00:00, 88.08it/s]\n"
     ]
    },
    {
     "output_type": "stream",
     "name": "stdout",
     "text": [
      "Epoch 01| Loss: 1.9248| Acc: 0.1571| Train Time: 1.5934s\n"
     ]
    },
    {
     "output_type": "stream",
     "name": "stderr",
     "text": [
      "Evaluating: 100%|██████████| 5416/5416 [00:03<00:00, 1359.13it/s]\n"
     ]
    },
    {
     "output_type": "stream",
     "name": "stdout",
     "text": [
      "Train: 0.8357| Val: 0.5260| Test: 0.5100| Eval Time: 3.9929s\n",
      "Epoch 02| Loss: 1.4863| Acc: 0.6857| Train Time: 0.7265s\n"
     ]
    },
    {
     "output_type": "stream",
     "name": "stderr",
     "text": [
      "Evaluating: 100%|██████████| 5416/5416 [00:00<00:00, 90266.39it/s]"
     ]
    },
    {
     "output_type": "stream",
     "name": "stdout",
     "text": [
      "Train: 0.9571| Val: 0.6560| Test: 0.6560| Eval Time: 0.0630s\n"
     ]
    },
    {
     "output_type": "stream",
     "name": "stderr",
     "text": [
      "\n"
     ]
    },
    {
     "output_type": "stream",
     "name": "stdout",
     "text": [
      "Epoch 03| Loss: 1.1207| Acc: 0.8286| Train Time: 0.7228s\n"
     ]
    },
    {
     "output_type": "stream",
     "name": "stderr",
     "text": [
      "Evaluating: 100%|██████████| 5416/5416 [00:00<00:00, 95827.75it/s]\n"
     ]
    },
    {
     "output_type": "stream",
     "name": "stdout",
     "text": [
      "Train: 0.9786| Val: 0.7060| Test: 0.7170| Eval Time: 0.0605s\n",
      "Epoch 04| Loss: 0.8595| Acc: 0.9286| Train Time: 0.0110s\n"
     ]
    },
    {
     "output_type": "stream",
     "name": "stderr",
     "text": [
      "Evaluating: 100%|██████████| 5416/5416 [00:00<00:00, 78492.20it/s]\n"
     ]
    },
    {
     "output_type": "stream",
     "name": "stdout",
     "text": [
      "Train: 0.9929| Val: 0.7340| Test: 0.7480| Eval Time: 0.0730s\n",
      "Epoch 05| Loss: 0.6870| Acc: 0.9429| Train Time: 0.0100s\n"
     ]
    },
    {
     "output_type": "stream",
     "name": "stderr",
     "text": [
      "Evaluating: 100%|██████████| 5416/5416 [00:00<00:00, 77370.71it/s]"
     ]
    },
    {
     "output_type": "stream",
     "name": "stdout",
     "text": [
      "Train: 0.9929| Val: 0.7400| Test: 0.7620| Eval Time: 0.0740s\n",
      "Epoch 06| Loss: 0.5357| Acc: 0.9571| Train Time: 0.0110s\n"
     ]
    },
    {
     "output_type": "stream",
     "name": "stderr",
     "text": [
      "\n",
      "Evaluating: 100%|██████████| 5416/5416 [00:00<00:00, 73149.95it/s]"
     ]
    },
    {
     "output_type": "stream",
     "name": "stdout",
     "text": [
      "Train: 0.9929| Val: 0.7560| Test: 0.7720| Eval Time: 0.0810s\n",
      "Epoch 07| Loss: 0.4656| Acc: 0.9786| Train Time: 0.0180s\n"
     ]
    },
    {
     "output_type": "stream",
     "name": "stderr",
     "text": [
      "\n",
      "Evaluating: 100%|██████████| 5416/5416 [00:00<00:00, 70337.53it/s]\n"
     ]
    },
    {
     "output_type": "stream",
     "name": "stdout",
     "text": [
      "Train: 1.0000| Val: 0.7540| Test: 0.7840| Eval Time: 0.0820s\n",
      "Epoch 08| Loss: 0.3762| Acc: 0.9643| Train Time: 0.0130s\n"
     ]
    },
    {
     "output_type": "stream",
     "name": "stderr",
     "text": [
      "Evaluating: 100%|██████████| 5416/5416 [00:00<00:00, 82060.63it/s]\n"
     ]
    },
    {
     "output_type": "stream",
     "name": "stdout",
     "text": [
      "Train: 1.0000| Val: 0.7520| Test: 0.7800| Eval Time: 0.0700s\n",
      "Epoch 09| Loss: 0.2516| Acc: 0.9929| Train Time: 0.0110s\n"
     ]
    },
    {
     "output_type": "stream",
     "name": "stderr",
     "text": [
      "Evaluating: 100%|██████████| 5416/5416 [00:00<00:00, 85971.56it/s]\n"
     ]
    },
    {
     "output_type": "stream",
     "name": "stdout",
     "text": [
      "Train: 1.0000| Val: 0.7500| Test: 0.7760| Eval Time: 0.0680s\n",
      "Epoch 10| Loss: 0.2222| Acc: 0.9786| Train Time: 0.0140s\n"
     ]
    },
    {
     "output_type": "stream",
     "name": "stderr",
     "text": [
      "Evaluating: 100%|██████████| 5416/5416 [00:00<00:00, 78493.29it/s]"
     ]
    },
    {
     "output_type": "stream",
     "name": "stdout",
     "text": [
      "Train: 1.0000| Val: 0.7500| Test: 0.7800| Eval Time: 0.0740s\n",
      "Epoch 11| Loss: 0.1796| Acc: 1.0000| Train Time: 0.0110s\n"
     ]
    },
    {
     "output_type": "stream",
     "name": "stderr",
     "text": [
      "\n",
      "Evaluating: 100%|██████████| 5416/5416 [00:00<00:00, 60855.57it/s]\n"
     ]
    },
    {
     "output_type": "stream",
     "name": "stdout",
     "text": [
      "Train: 1.0000| Val: 0.7480| Test: 0.7810| Eval Time: 0.0950s\n",
      "Epoch 12| Loss: 0.1440| Acc: 1.0000| Train Time: 0.0100s\n"
     ]
    },
    {
     "output_type": "stream",
     "name": "stderr",
     "text": [
      "Evaluating: 100%|██████████| 5416/5416 [00:00<00:00, 91795.84it/s]\n"
     ]
    },
    {
     "output_type": "stream",
     "name": "stdout",
     "text": [
      "Train: 1.0000| Val: 0.7520| Test: 0.7800| Eval Time: 0.0630s\n",
      "Epoch 13| Loss: 0.1119| Acc: 1.0000| Train Time: 0.0100s\n"
     ]
    },
    {
     "output_type": "stream",
     "name": "stderr",
     "text": [
      "Evaluating: 100%|██████████| 5416/5416 [00:00<00:00, 102190.11it/s]\n"
     ]
    },
    {
     "output_type": "stream",
     "name": "stdout",
     "text": [
      "Train: 1.0000| Val: 0.7500| Test: 0.7770| Eval Time: 0.0570s\n",
      "Epoch 14| Loss: 0.0789| Acc: 1.0000| Train Time: 0.0110s\n"
     ]
    },
    {
     "output_type": "stream",
     "name": "stderr",
     "text": [
      "Evaluating: 100%|██████████| 5416/5416 [00:00<00:00, 91798.81it/s]\n"
     ]
    },
    {
     "output_type": "stream",
     "name": "stdout",
     "text": [
      "Train: 1.0000| Val: 0.7520| Test: 0.7760| Eval Time: 0.0640s\n",
      "Epoch 15| Loss: 0.0804| Acc: 0.9929| Train Time: 0.0110s\n"
     ]
    },
    {
     "output_type": "stream",
     "name": "stderr",
     "text": [
      "Evaluating: 100%|██████████| 5416/5416 [00:00<00:00, 88787.42it/s]\n"
     ]
    },
    {
     "output_type": "stream",
     "name": "stdout",
     "text": [
      "Train: 1.0000| Val: 0.7460| Test: 0.7760| Eval Time: 0.0650s\n",
      "Epoch 16| Loss: 0.0815| Acc: 1.0000| Train Time: 0.0130s\n"
     ]
    },
    {
     "output_type": "stream",
     "name": "stderr",
     "text": [
      "Evaluating: 100%|██████████| 5416/5416 [00:00<00:00, 63717.98it/s]\n"
     ]
    },
    {
     "output_type": "stream",
     "name": "stdout",
     "text": [
      "Train: 1.0000| Val: 0.7440| Test: 0.7710| Eval Time: 0.0890s\n",
      "Epoch 17| Loss: 0.0620| Acc: 1.0000| Train Time: 0.0150s\n"
     ]
    },
    {
     "output_type": "stream",
     "name": "stderr",
     "text": [
      "Evaluating: 100%|██████████| 5416/5416 [00:00<00:00, 82060.63it/s]\n"
     ]
    },
    {
     "output_type": "stream",
     "name": "stdout",
     "text": [
      "Train: 1.0000| Val: 0.7440| Test: 0.7720| Eval Time: 0.0720s\n",
      "Epoch 18| Loss: 0.0545| Acc: 0.9929| Train Time: 0.0120s\n"
     ]
    },
    {
     "output_type": "stream",
     "name": "stderr",
     "text": [
      "Evaluating: 100%|██████████| 5416/5416 [00:00<00:00, 73192.61it/s]\n"
     ]
    },
    {
     "output_type": "stream",
     "name": "stdout",
     "text": [
      "Train: 1.0000| Val: 0.7440| Test: 0.7710| Eval Time: 0.0790s\n",
      "Epoch 19| Loss: 0.0316| Acc: 1.0000| Train Time: 0.0120s\n"
     ]
    },
    {
     "output_type": "stream",
     "name": "stderr",
     "text": [
      "Evaluating: 100%|██████████| 5416/5416 [00:00<00:00, 72213.29it/s]\n"
     ]
    },
    {
     "output_type": "stream",
     "name": "stdout",
     "text": [
      "Train: 1.0000| Val: 0.7440| Test: 0.7720| Eval Time: 0.0800s\n",
      "Epoch 20| Loss: 0.0557| Acc: 1.0000| Train Time: 0.0140s\n"
     ]
    },
    {
     "output_type": "stream",
     "name": "stderr",
     "text": [
      "Evaluating: 100%|██████████| 5416/5416 [00:00<00:00, 90265.32it/s]\n"
     ]
    },
    {
     "output_type": "stream",
     "name": "stdout",
     "text": [
      "Train: 1.0000| Val: 0.7460| Test: 0.7700| Eval Time: 0.0660s\n",
      "Epoch 21| Loss: 0.0217| Acc: 1.0000| Train Time: 0.0150s\n"
     ]
    },
    {
     "output_type": "stream",
     "name": "stderr",
     "text": [
      "Evaluating: 100%|██████████| 5416/5416 [00:00<00:00, 74929.91it/s]\n"
     ]
    },
    {
     "output_type": "stream",
     "name": "stdout",
     "text": [
      "Train: 1.0000| Val: 0.7440| Test: 0.7700| Eval Time: 0.0783s\n",
      "Epoch 22| Loss: 0.0387| Acc: 1.0000| Train Time: 0.0130s\n"
     ]
    },
    {
     "output_type": "stream",
     "name": "stderr",
     "text": [
      "Evaluating: 100%|██████████| 5416/5416 [00:00<00:00, 106198.81it/s]\n"
     ]
    },
    {
     "output_type": "stream",
     "name": "stdout",
     "text": [
      "Train: 1.0000| Val: 0.7440| Test: 0.7700| Eval Time: 0.0570s\n",
      "Epoch 23| Loss: 0.0224| Acc: 1.0000| Train Time: 0.0130s\n"
     ]
    },
    {
     "output_type": "stream",
     "name": "stderr",
     "text": [
      "Evaluating: 100%|██████████| 5416/5416 [00:00<00:00, 85968.30it/s]\n"
     ]
    },
    {
     "output_type": "stream",
     "name": "stdout",
     "text": [
      "Train: 1.0000| Val: 0.7440| Test: 0.7700| Eval Time: 0.0680s\n",
      "Epoch 24| Loss: 0.0401| Acc: 1.0000| Train Time: 0.0100s\n"
     ]
    },
    {
     "output_type": "stream",
     "name": "stderr",
     "text": [
      "Evaluating: 100%|██████████| 5416/5416 [00:00<00:00, 94119.68it/s]\n"
     ]
    },
    {
     "output_type": "stream",
     "name": "stdout",
     "text": [
      "Train: 1.0000| Val: 0.7440| Test: 0.7690| Eval Time: 0.0625s\n",
      "Epoch 25| Loss: 0.0105| Acc: 1.0000| Train Time: 0.0100s\n"
     ]
    },
    {
     "output_type": "stream",
     "name": "stderr",
     "text": [
      "Evaluating: 100%|██████████| 5416/5416 [00:00<00:00, 72214.66it/s]\n"
     ]
    },
    {
     "output_type": "stream",
     "name": "stdout",
     "text": [
      "Train: 1.0000| Val: 0.7440| Test: 0.7680| Eval Time: 0.0800s\n",
      "Epoch 26| Loss: 0.0216| Acc: 1.0000| Train Time: 0.0161s\n"
     ]
    },
    {
     "output_type": "stream",
     "name": "stderr",
     "text": [
      "Evaluating: 100%|██████████| 5416/5416 [00:00<00:00, 80870.46it/s]\n"
     ]
    },
    {
     "output_type": "stream",
     "name": "stdout",
     "text": [
      "Train: 1.0000| Val: 0.7440| Test: 0.7700| Eval Time: 0.0740s\n",
      "Epoch 27| Loss: 0.0308| Acc: 1.0000| Train Time: 0.0110s\n"
     ]
    },
    {
     "output_type": "stream",
     "name": "stderr",
     "text": [
      "Evaluating: 100%|██████████| 5416/5416 [00:00<00:00, 100297.81it/s]\n"
     ]
    },
    {
     "output_type": "stream",
     "name": "stdout",
     "text": [
      "Train: 1.0000| Val: 0.7420| Test: 0.7680| Eval Time: 0.0580s\n",
      "Epoch 28| Loss: 0.0214| Acc: 0.9929| Train Time: 0.0100s\n"
     ]
    },
    {
     "output_type": "stream",
     "name": "stderr",
     "text": [
      "Evaluating: 100%|██████████| 5416/5416 [00:00<00:00, 82062.40it/s]\n"
     ]
    },
    {
     "output_type": "stream",
     "name": "stdout",
     "text": [
      "Train: 1.0000| Val: 0.7420| Test: 0.7640| Eval Time: 0.0700s\n",
      "Epoch 29| Loss: 0.0121| Acc: 1.0000| Train Time: 0.0100s\n"
     ]
    },
    {
     "output_type": "stream",
     "name": "stderr",
     "text": [
      "Evaluating: 100%|██████████| 5416/5416 [00:00<00:00, 90211.91it/s]\n"
     ]
    },
    {
     "output_type": "stream",
     "name": "stdout",
     "text": [
      "Train: 1.0000| Val: 0.7440| Test: 0.7620| Eval Time: 0.0640s\n",
      "Epoch 30| Loss: 0.0138| Acc: 1.0000| Train Time: 0.0100s\n"
     ]
    },
    {
     "output_type": "stream",
     "name": "stderr",
     "text": [
      "Evaluating: 100%|██████████| 5416/5416 [00:00<00:00, 83325.75it/s]\n"
     ]
    },
    {
     "output_type": "stream",
     "name": "stdout",
     "text": [
      "Train: 1.0000| Val: 0.7440| Test: 0.7620| Eval Time: 0.0700s\n",
      "Epoch 31| Loss: 0.0108| Acc: 1.0000| Train Time: 0.0120s\n"
     ]
    },
    {
     "output_type": "stream",
     "name": "stderr",
     "text": [
      "Evaluating: 100%|██████████| 5416/5416 [00:00<00:00, 98473.46it/s]\n"
     ]
    },
    {
     "output_type": "stream",
     "name": "stdout",
     "text": [
      "Train: 1.0000| Val: 0.7460| Test: 0.7610| Eval Time: 0.0590s\n",
      "Epoch 32| Loss: 0.0285| Acc: 1.0000| Train Time: 0.0100s\n"
     ]
    },
    {
     "output_type": "stream",
     "name": "stderr",
     "text": [
      "Evaluating: 100%|██████████| 5416/5416 [00:00<00:00, 77375.46it/s]\n"
     ]
    },
    {
     "output_type": "stream",
     "name": "stdout",
     "text": [
      "Train: 1.0000| Val: 0.7460| Test: 0.7580| Eval Time: 0.0750s\n",
      "Epoch 33| Loss: 0.0069| Acc: 1.0000| Train Time: 0.0120s\n"
     ]
    },
    {
     "output_type": "stream",
     "name": "stderr",
     "text": [
      "Evaluating: 100%|██████████| 5416/5416 [00:00<00:00, 76282.10it/s]\n"
     ]
    },
    {
     "output_type": "stream",
     "name": "stdout",
     "text": [
      "Train: 1.0000| Val: 0.7460| Test: 0.7570| Eval Time: 0.0750s\n",
      "Epoch 34| Loss: 0.0083| Acc: 1.0000| Train Time: 0.0110s\n"
     ]
    },
    {
     "output_type": "stream",
     "name": "stderr",
     "text": [
      "Evaluating: 100%|██████████| 5416/5416 [00:00<00:00, 77370.98it/s]\n"
     ]
    },
    {
     "output_type": "stream",
     "name": "stdout",
     "text": [
      "Train: 1.0000| Val: 0.7440| Test: 0.7560| Eval Time: 0.0740s\n",
      "Epoch 35| Loss: 0.0070| Acc: 1.0000| Train Time: 0.0100s\n"
     ]
    },
    {
     "output_type": "stream",
     "name": "stderr",
     "text": [
      "Evaluating: 100%|██████████| 5416/5416 [00:00<00:00, 96715.12it/s]\n"
     ]
    },
    {
     "output_type": "stream",
     "name": "stdout",
     "text": [
      "Train: 1.0000| Val: 0.7420| Test: 0.7560| Eval Time: 0.0610s\n",
      "Epoch 36| Loss: 0.0081| Acc: 1.0000| Train Time: 0.0110s\n"
     ]
    },
    {
     "output_type": "stream",
     "name": "stderr",
     "text": [
      "Evaluating: 100%|██████████| 5416/5416 [00:00<00:00, 93384.93it/s]\n"
     ]
    },
    {
     "output_type": "stream",
     "name": "stdout",
     "text": [
      "Train: 1.0000| Val: 0.7420| Test: 0.7560| Eval Time: 0.0630s\n",
      "Epoch 37| Loss: 0.0060| Acc: 1.0000| Train Time: 0.0120s\n"
     ]
    },
    {
     "output_type": "stream",
     "name": "stderr",
     "text": [
      "Evaluating: 100%|██████████| 5416/5416 [00:00<00:00, 87349.08it/s]\n"
     ]
    },
    {
     "output_type": "stream",
     "name": "stdout",
     "text": [
      "Train: 1.0000| Val: 0.7420| Test: 0.7570| Eval Time: 0.0680s\n",
      "Epoch 38| Loss: 0.0075| Acc: 1.0000| Train Time: 0.0110s\n"
     ]
    },
    {
     "output_type": "stream",
     "name": "stderr",
     "text": [
      "Evaluating: 100%|██████████| 5416/5416 [00:00<00:00, 87353.44it/s]\n"
     ]
    },
    {
     "output_type": "stream",
     "name": "stdout",
     "text": [
      "Train: 1.0000| Val: 0.7420| Test: 0.7560| Eval Time: 0.0660s\n",
      "Epoch 39| Loss: 0.0091| Acc: 1.0000| Train Time: 0.0110s\n"
     ]
    },
    {
     "output_type": "stream",
     "name": "stderr",
     "text": [
      "Evaluating: 100%|██████████| 5416/5416 [00:00<00:00, 82060.92it/s]\n"
     ]
    },
    {
     "output_type": "stream",
     "name": "stdout",
     "text": [
      "Train: 1.0000| Val: 0.7400| Test: 0.7560| Eval Time: 0.0710s\n",
      "Epoch 40| Loss: 0.0040| Acc: 1.0000| Train Time: 0.0110s\n"
     ]
    },
    {
     "output_type": "stream",
     "name": "stderr",
     "text": [
      "Evaluating: 100%|██████████| 5416/5416 [00:00<00:00, 90267.83it/s]\n"
     ]
    },
    {
     "output_type": "stream",
     "name": "stdout",
     "text": [
      "Train: 1.0000| Val: 0.7400| Test: 0.7560| Eval Time: 0.0650s\n",
      "Epoch 41| Loss: 0.0066| Acc: 1.0000| Train Time: 0.0120s\n"
     ]
    },
    {
     "output_type": "stream",
     "name": "stderr",
     "text": [
      "Evaluating: 100%|██████████| 5416/5416 [00:00<00:00, 84625.46it/s]\n"
     ]
    },
    {
     "output_type": "stream",
     "name": "stdout",
     "text": [
      "Train: 1.0000| Val: 0.7380| Test: 0.7570| Eval Time: 0.0690s\n",
      "Epoch 42| Loss: 0.0037| Acc: 1.0000| Train Time: 0.0100s\n"
     ]
    },
    {
     "output_type": "stream",
     "name": "stderr",
     "text": [
      "Evaluating: 100%|██████████| 5416/5416 [00:00<00:00, 82061.51it/s]\n"
     ]
    },
    {
     "output_type": "stream",
     "name": "stdout",
     "text": [
      "Train: 1.0000| Val: 0.7380| Test: 0.7580| Eval Time: 0.0710s\n",
      "Epoch 43| Loss: 0.0108| Acc: 1.0000| Train Time: 0.0130s\n"
     ]
    },
    {
     "output_type": "stream",
     "name": "stderr",
     "text": [
      "Evaluating: 100%|██████████| 5416/5416 [00:00<00:00, 82060.92it/s]\n"
     ]
    },
    {
     "output_type": "stream",
     "name": "stdout",
     "text": [
      "Train: 1.0000| Val: 0.7360| Test: 0.7570| Eval Time: 0.0720s\n",
      "Epoch 44| Loss: 0.0053| Acc: 1.0000| Train Time: 0.0100s\n"
     ]
    },
    {
     "output_type": "stream",
     "name": "stderr",
     "text": [
      "Evaluating: 100%|██████████| 5416/5416 [00:00<00:00, 87354.79it/s]"
     ]
    },
    {
     "output_type": "stream",
     "name": "stdout",
     "text": [
      "Train: 1.0000| Val: 0.7360| Test: 0.7570| Eval Time: 0.0670s\n",
      "Epoch 45| Loss: 0.0029| Acc: 1.0000| Train Time: 0.0110s\n"
     ]
    },
    {
     "output_type": "stream",
     "name": "stderr",
     "text": [
      "\n",
      "Evaluating: 100%|██████████| 5416/5416 [00:00<00:00, 79644.17it/s]\n"
     ]
    },
    {
     "output_type": "stream",
     "name": "stdout",
     "text": [
      "Train: 1.0000| Val: 0.7360| Test: 0.7570| Eval Time: 0.0730s\n",
      "Epoch 46| Loss: 0.0037| Acc: 1.0000| Train Time: 0.0110s\n"
     ]
    },
    {
     "output_type": "stream",
     "name": "stderr",
     "text": [
      "Evaluating: 100%|██████████| 5416/5416 [00:00<00:00, 85971.88it/s]\n"
     ]
    },
    {
     "output_type": "stream",
     "name": "stdout",
     "text": [
      "Train: 1.0000| Val: 0.7340| Test: 0.7560| Eval Time: 0.0680s\n",
      "Epoch 47| Loss: 0.0141| Acc: 1.0000| Train Time: 0.0120s\n"
     ]
    },
    {
     "output_type": "stream",
     "name": "stderr",
     "text": [
      "Evaluating: 100%|██████████| 5416/5416 [00:00<00:00, 79648.36it/s]"
     ]
    },
    {
     "output_type": "stream",
     "name": "stdout",
     "text": [
      "Train: 1.0000| Val: 0.7360| Test: 0.7560| Eval Time: 0.0730s\n",
      "Epoch 48| Loss: 0.0064| Acc: 1.0000| Train Time: 0.0110s\n"
     ]
    },
    {
     "output_type": "stream",
     "name": "stderr",
     "text": [
      "\n",
      "Evaluating: 100%|██████████| 5416/5416 [00:00<00:00, 88784.64it/s]\n"
     ]
    },
    {
     "output_type": "stream",
     "name": "stdout",
     "text": [
      "Train: 1.0000| Val: 0.7360| Test: 0.7560| Eval Time: 0.0650s\n",
      "Epoch 49| Loss: 0.0031| Acc: 1.0000| Train Time: 0.0140s\n"
     ]
    },
    {
     "output_type": "stream",
     "name": "stderr",
     "text": [
      "Evaluating: 100%|██████████| 5416/5416 [00:00<00:00, 77375.19it/s]\n"
     ]
    },
    {
     "output_type": "stream",
     "name": "stdout",
     "text": [
      "Train: 1.0000| Val: 0.7360| Test: 0.7560| Eval Time: 0.0770s\n",
      "Epoch 50| Loss: 0.0024| Acc: 1.0000| Train Time: 0.0100s\n"
     ]
    },
    {
     "output_type": "stream",
     "name": "stderr",
     "text": [
      "Evaluating: 100%|██████████| 5416/5416 [00:00<00:00, 80747.14it/s]\n"
     ]
    },
    {
     "output_type": "stream",
     "name": "stdout",
     "text": [
      "Train: 1.0000| Val: 0.7360| Test: 0.7560| Eval Time: 0.0711s\n",
      "Epoch 51| Loss: 0.0091| Acc: 1.0000| Train Time: 0.0120s\n"
     ]
    },
    {
     "output_type": "stream",
     "name": "stderr",
     "text": [
      "Evaluating: 100%|██████████| 5416/5416 [00:00<00:00, 93379.55it/s]\n"
     ]
    },
    {
     "output_type": "stream",
     "name": "stdout",
     "text": [
      "Train: 1.0000| Val: 0.7360| Test: 0.7550| Eval Time: 0.0630s\n",
      "Epoch 52| Loss: 0.0056| Acc: 1.0000| Train Time: 0.0140s\n"
     ]
    },
    {
     "output_type": "stream",
     "name": "stderr",
     "text": [
      "Evaluating: 100%|██████████| 5416/5416 [00:00<00:00, 78494.37it/s]\n"
     ]
    },
    {
     "output_type": "stream",
     "name": "stdout",
     "text": [
      "Train: 1.0000| Val: 0.7340| Test: 0.7550| Eval Time: 0.0750s\n",
      "Epoch 53| Loss: 0.0014| Acc: 1.0000| Train Time: 0.0120s\n"
     ]
    },
    {
     "output_type": "stream",
     "name": "stderr",
     "text": [
      "Evaluating: 100%|██████████| 5416/5416 [00:00<00:00, 68557.79it/s]\n"
     ]
    },
    {
     "output_type": "stream",
     "name": "stdout",
     "text": [
      "Train: 1.0000| Val: 0.7340| Test: 0.7560| Eval Time: 0.0830s\n",
      "Epoch 54| Loss: 0.0028| Acc: 1.0000| Train Time: 0.0140s\n"
     ]
    },
    {
     "output_type": "stream",
     "name": "stderr",
     "text": [
      "Evaluating: 100%|██████████| 5416/5416 [00:00<00:00, 76282.86it/s]\n"
     ]
    },
    {
     "output_type": "stream",
     "name": "stdout",
     "text": [
      "Train: 1.0000| Val: 0.7340| Test: 0.7560| Eval Time: 0.0770s\n",
      "Epoch 55| Loss: 0.0135| Acc: 1.0000| Train Time: 0.0180s\n"
     ]
    },
    {
     "output_type": "stream",
     "name": "stderr",
     "text": [
      "Evaluating: 100%|██████████| 5416/5416 [00:00<00:00, 44387.81it/s]\n"
     ]
    },
    {
     "output_type": "stream",
     "name": "stdout",
     "text": [
      "Train: 1.0000| Val: 0.7340| Test: 0.7550| Eval Time: 0.1300s\n",
      "Epoch 56| Loss: 0.0061| Acc: 1.0000| Train Time: 0.0170s\n"
     ]
    },
    {
     "output_type": "stream",
     "name": "stderr",
     "text": [
      "Evaluating: 100%|██████████| 5416/5416 [00:00<00:00, 52594.13it/s]\n"
     ]
    },
    {
     "output_type": "stream",
     "name": "stdout",
     "text": [
      "Train: 1.0000| Val: 0.7320| Test: 0.7550| Eval Time: 0.1090s\n",
      "\n",
      "Result of  1. run| Train: 0.9929| Val: 0.7560| Test: 0.7720\n",
      "\n",
      "Run 02:\n"
     ]
    },
    {
     "output_type": "stream",
     "name": "stderr",
     "text": [
      "Epoch 01: 100%|██████████| 140/140 [00:00<00:00, 7368.22it/s]\n"
     ]
    },
    {
     "output_type": "stream",
     "name": "stdout",
     "text": [
      "Epoch 01| Loss: 1.9828| Acc: 0.1643| Train Time: 0.0220s\n"
     ]
    },
    {
     "output_type": "stream",
     "name": "stderr",
     "text": [
      "Evaluating: 100%|██████████| 5416/5416 [00:00<00:00, 56432.95it/s]\n"
     ]
    },
    {
     "output_type": "stream",
     "name": "stdout",
     "text": [
      "Train: 0.8643| Val: 0.5320| Test: 0.5220| Eval Time: 0.1050s\n",
      "Epoch 02| Loss: 1.5524| Acc: 0.6357| Train Time: 0.0170s\n"
     ]
    },
    {
     "output_type": "stream",
     "name": "stderr",
     "text": [
      "Evaluating: 100%|██████████| 5416/5416 [00:00<00:00, 64478.30it/s]\n"
     ]
    },
    {
     "output_type": "stream",
     "name": "stdout",
     "text": [
      "Train: 0.9214| Val: 0.6640| Test: 0.6840| Eval Time: 0.0900s\n",
      "Epoch 03| Loss: 1.1260| Acc: 0.8429| Train Time: 0.0120s\n"
     ]
    },
    {
     "output_type": "stream",
     "name": "stderr",
     "text": [
      "Evaluating: 100%|██████████| 5416/5416 [00:00<00:00, 61545.08it/s]\n"
     ]
    },
    {
     "output_type": "stream",
     "name": "stdout",
     "text": [
      "Train: 0.9643| Val: 0.7580| Test: 0.7440| Eval Time: 0.0970s\n",
      "Epoch 04| Loss: 0.8791| Acc: 0.9000| Train Time: 0.0150s\n"
     ]
    },
    {
     "output_type": "stream",
     "name": "stderr",
     "text": [
      "Evaluating: 100%|██████████| 5416/5416 [00:00<00:00, 54161.08it/s]\n"
     ]
    },
    {
     "output_type": "stream",
     "name": "stdout",
     "text": [
      "Train: 0.9857| Val: 0.7900| Test: 0.7660| Eval Time: 0.1080s\n",
      "Epoch 05| Loss: 0.6635| Acc: 0.9286| Train Time: 0.0130s\n"
     ]
    },
    {
     "output_type": "stream",
     "name": "stderr",
     "text": [
      "Evaluating: 100%|██████████| 5416/5416 [00:00<00:00, 76280.56it/s]\n"
     ]
    },
    {
     "output_type": "stream",
     "name": "stdout",
     "text": [
      "Train: 0.9929| Val: 0.7860| Test: 0.7770| Eval Time: 0.0780s\n",
      "Epoch 06| Loss: 0.5108| Acc: 0.9571| Train Time: 0.0150s\n"
     ]
    },
    {
     "output_type": "stream",
     "name": "stderr",
     "text": [
      "Evaluating: 100%|██████████| 5416/5416 [00:00<00:00, 61544.25it/s]\n"
     ]
    },
    {
     "output_type": "stream",
     "name": "stdout",
     "text": [
      "Train: 1.0000| Val: 0.7820| Test: 0.7770| Eval Time: 0.0930s\n",
      "Epoch 07| Loss: 0.3838| Acc: 0.9857| Train Time: 0.0160s\n"
     ]
    },
    {
     "output_type": "stream",
     "name": "stderr",
     "text": [
      "Evaluating: 100%|██████████| 5416/5416 [00:00<00:00, 69457.70it/s]\n"
     ]
    },
    {
     "output_type": "stream",
     "name": "stdout",
     "text": [
      "Train: 1.0000| Val: 0.7780| Test: 0.7700| Eval Time: 0.0850s\n",
      "Epoch 08| Loss: 0.3450| Acc: 0.9714| Train Time: 0.0130s\n"
     ]
    },
    {
     "output_type": "stream",
     "name": "stderr",
     "text": [
      "Evaluating: 100%|██████████| 5416/5416 [00:00<00:00, 79646.97it/s]\n"
     ]
    },
    {
     "output_type": "stream",
     "name": "stdout",
     "text": [
      "Train: 1.0000| Val: 0.7720| Test: 0.7710| Eval Time: 0.0740s\n",
      "Epoch 09| Loss: 0.2191| Acc: 1.0000| Train Time: 0.0130s\n"
     ]
    },
    {
     "output_type": "stream",
     "name": "stderr",
     "text": [
      "Evaluating: 100%|██████████| 5416/5416 [00:00<00:00, 73189.31it/s]\n"
     ]
    },
    {
     "output_type": "stream",
     "name": "stdout",
     "text": [
      "Train: 1.0000| Val: 0.7660| Test: 0.7740| Eval Time: 0.0790s\n",
      "Epoch 10| Loss: 0.2609| Acc: 0.9857| Train Time: 0.0110s\n"
     ]
    },
    {
     "output_type": "stream",
     "name": "stderr",
     "text": [
      "Evaluating: 100%|██████████| 5416/5416 [00:00<00:00, 87203.22it/s]\n"
     ]
    },
    {
     "output_type": "stream",
     "name": "stdout",
     "text": [
      "Train: 1.0000| Val: 0.7640| Test: 0.7740| Eval Time: 0.0681s\n",
      "Epoch 11| Loss: 0.1982| Acc: 0.9857| Train Time: 0.0140s\n"
     ]
    },
    {
     "output_type": "stream",
     "name": "stderr",
     "text": [
      "Evaluating: 100%|██████████| 5416/5416 [00:00<00:00, 95022.05it/s]\n"
     ]
    },
    {
     "output_type": "stream",
     "name": "stdout",
     "text": [
      "Train: 1.0000| Val: 0.7640| Test: 0.7750| Eval Time: 0.0620s\n",
      "Epoch 12| Loss: 0.1173| Acc: 1.0000| Train Time: 0.0100s\n"
     ]
    },
    {
     "output_type": "stream",
     "name": "stderr",
     "text": [
      "Evaluating: 100%|██████████| 5416/5416 [00:00<00:00, 76280.82it/s]\n"
     ]
    },
    {
     "output_type": "stream",
     "name": "stdout",
     "text": [
      "Train: 1.0000| Val: 0.7640| Test: 0.7800| Eval Time: 0.0760s\n",
      "Epoch 13| Loss: 0.1249| Acc: 1.0000| Train Time: 0.0120s\n"
     ]
    },
    {
     "output_type": "stream",
     "name": "stderr",
     "text": [
      "Evaluating: 100%|██████████| 5416/5416 [00:00<00:00, 93378.02it/s]\n"
     ]
    },
    {
     "output_type": "stream",
     "name": "stdout",
     "text": [
      "Train: 1.0000| Val: 0.7680| Test: 0.7800| Eval Time: 0.0620s\n",
      "Epoch 14| Loss: 0.1107| Acc: 1.0000| Train Time: 0.0110s\n"
     ]
    },
    {
     "output_type": "stream",
     "name": "stderr",
     "text": [
      "Evaluating: 100%|██████████| 5416/5416 [00:00<00:00, 84629.24it/s]\n"
     ]
    },
    {
     "output_type": "stream",
     "name": "stdout",
     "text": [
      "Train: 1.0000| Val: 0.7660| Test: 0.7810| Eval Time: 0.0690s\n",
      "Epoch 15| Loss: 0.0713| Acc: 1.0000| Train Time: 0.0110s\n"
     ]
    },
    {
     "output_type": "stream",
     "name": "stderr",
     "text": [
      "Evaluating: 100%|██████████| 5416/5416 [00:00<00:00, 83327.59it/s]\n"
     ]
    },
    {
     "output_type": "stream",
     "name": "stdout",
     "text": [
      "Train: 1.0000| Val: 0.7680| Test: 0.7810| Eval Time: 0.0710s\n",
      "Epoch 16| Loss: 0.0669| Acc: 1.0000| Train Time: 0.0120s\n"
     ]
    },
    {
     "output_type": "stream",
     "name": "stderr",
     "text": [
      "Evaluating: 100%|██████████| 5416/5416 [00:00<00:00, 73190.96it/s]\n"
     ]
    },
    {
     "output_type": "stream",
     "name": "stdout",
     "text": [
      "Train: 1.0000| Val: 0.7660| Test: 0.7820| Eval Time: 0.0790s\n",
      "Epoch 17| Loss: 0.0375| Acc: 1.0000| Train Time: 0.0120s\n"
     ]
    },
    {
     "output_type": "stream",
     "name": "stderr",
     "text": [
      "Evaluating: 100%|██████████| 5416/5416 [00:00<00:00, 74192.07it/s]"
     ]
    },
    {
     "output_type": "stream",
     "name": "stdout",
     "text": [
      "Train: 1.0000| Val: 0.7640| Test: 0.7800| Eval Time: 0.0780s\n"
     ]
    },
    {
     "output_type": "stream",
     "name": "stderr",
     "text": [
      "\n"
     ]
    },
    {
     "output_type": "stream",
     "name": "stdout",
     "text": [
      "Epoch 18| Loss: 0.0709| Acc: 1.0000| Train Time: 0.0140s\n"
     ]
    },
    {
     "output_type": "stream",
     "name": "stderr",
     "text": [
      "Evaluating: 100%|██████████| 5416/5416 [00:00<00:00, 84626.09it/s]"
     ]
    },
    {
     "output_type": "stream",
     "name": "stdout",
     "text": [
      "Train: 1.0000| Val: 0.7660| Test: 0.7790| Eval Time: 0.0680s\n",
      "Epoch 19| Loss: 0.0305| Acc: 1.0000| Train Time: 0.0100s\n"
     ]
    },
    {
     "output_type": "stream",
     "name": "stderr",
     "text": [
      "\n",
      "Evaluating: 100%|██████████| 5416/5416 [00:00<00:00, 67702.28it/s]"
     ]
    },
    {
     "output_type": "stream",
     "name": "stdout",
     "text": [
      "Train: 1.0000| Val: 0.7660| Test: 0.7770| Eval Time: 0.0860s\n",
      "Epoch 20| Loss: 0.0301| Acc: 1.0000| Train Time: 0.0160s\n"
     ]
    },
    {
     "output_type": "stream",
     "name": "stderr",
     "text": [
      "\n",
      "Evaluating: 100%|██████████| 5416/5416 [00:00<00:00, 55541.47it/s]\n"
     ]
    },
    {
     "output_type": "stream",
     "name": "stdout",
     "text": [
      "Train: 1.0000| Val: 0.7680| Test: 0.7800| Eval Time: 0.1035s\n",
      "Epoch 21| Loss: 0.0216| Acc: 1.0000| Train Time: 0.0160s\n"
     ]
    },
    {
     "output_type": "stream",
     "name": "stderr",
     "text": [
      "Evaluating: 100%|██████████| 5416/5416 [00:00<00:00, 52076.64it/s]\n"
     ]
    },
    {
     "output_type": "stream",
     "name": "stdout",
     "text": [
      "Train: 1.0000| Val: 0.7680| Test: 0.7820| Eval Time: 0.1100s\n",
      "Epoch 22| Loss: 0.0247| Acc: 1.0000| Train Time: 0.0170s\n"
     ]
    },
    {
     "output_type": "stream",
     "name": "stderr",
     "text": [
      "Evaluating: 100%|██████████| 5416/5416 [00:00<00:00, 51051.76it/s]\n"
     ]
    },
    {
     "output_type": "stream",
     "name": "stdout",
     "text": [
      "Train: 1.0000| Val: 0.7680| Test: 0.7810| Eval Time: 0.1121s\n",
      "Epoch 23| Loss: 0.0293| Acc: 1.0000| Train Time: 0.0170s\n"
     ]
    },
    {
     "output_type": "stream",
     "name": "stderr",
     "text": [
      "Evaluating: 100%|██████████| 5416/5416 [00:00<00:00, 59522.20it/s]\n"
     ]
    },
    {
     "output_type": "stream",
     "name": "stdout",
     "text": [
      "Train: 1.0000| Val: 0.7700| Test: 0.7800| Eval Time: 0.0980s\n",
      "Epoch 24| Loss: 0.0191| Acc: 1.0000| Train Time: 0.0170s\n"
     ]
    },
    {
     "output_type": "stream",
     "name": "stderr",
     "text": [
      "Evaluating: 100%|██████████| 5416/5416 [00:00<00:00, 54711.43it/s]\n"
     ]
    },
    {
     "output_type": "stream",
     "name": "stdout",
     "text": [
      "Train: 1.0000| Val: 0.7700| Test: 0.7800| Eval Time: 0.1050s\n",
      "Epoch 25| Loss: 0.0146| Acc: 1.0000| Train Time: 0.0170s\n"
     ]
    },
    {
     "output_type": "stream",
     "name": "stderr",
     "text": [
      "Evaluating: 100%|██████████| 5416/5416 [00:00<00:00, 55835.67it/s]\n"
     ]
    },
    {
     "output_type": "stream",
     "name": "stdout",
     "text": [
      "Train: 1.0000| Val: 0.7720| Test: 0.7810| Eval Time: 0.1040s\n",
      "Epoch 26| Loss: 0.0275| Acc: 1.0000| Train Time: 0.0180s\n"
     ]
    },
    {
     "output_type": "stream",
     "name": "stderr",
     "text": [
      "Evaluating: 100%|██████████| 5416/5416 [00:00<00:00, 60165.40it/s]\n"
     ]
    },
    {
     "output_type": "stream",
     "name": "stdout",
     "text": [
      "Train: 1.0000| Val: 0.7740| Test: 0.7800| Eval Time: 0.0970s\n",
      "Epoch 27| Loss: 0.0172| Acc: 1.0000| Train Time: 0.0140s\n"
     ]
    },
    {
     "output_type": "stream",
     "name": "stderr",
     "text": [
      "Evaluating: 100%|██████████| 5416/5416 [00:00<00:00, 64475.74it/s]\n"
     ]
    },
    {
     "output_type": "stream",
     "name": "stdout",
     "text": [
      "Train: 1.0000| Val: 0.7740| Test: 0.7800| Eval Time: 0.0900s\n",
      "Epoch 28| Loss: 0.0210| Acc: 1.0000| Train Time: 0.0110s\n"
     ]
    },
    {
     "output_type": "stream",
     "name": "stderr",
     "text": [
      "Evaluating: 100%|██████████| 5416/5416 [00:00<00:00, 71265.86it/s]\n"
     ]
    },
    {
     "output_type": "stream",
     "name": "stdout",
     "text": [
      "Train: 1.0000| Val: 0.7740| Test: 0.7810| Eval Time: 0.0830s\n",
      "Epoch 29| Loss: 0.0163| Acc: 1.0000| Train Time: 0.0170s\n"
     ]
    },
    {
     "output_type": "stream",
     "name": "stderr",
     "text": [
      "Evaluating: 100%|██████████| 5416/5416 [00:00<00:00, 73189.54it/s]\n"
     ]
    },
    {
     "output_type": "stream",
     "name": "stdout",
     "text": [
      "Train: 1.0000| Val: 0.7740| Test: 0.7810| Eval Time: 0.0780s\n",
      "Epoch 30| Loss: 0.0129| Acc: 1.0000| Train Time: 0.0140s\n"
     ]
    },
    {
     "output_type": "stream",
     "name": "stderr",
     "text": [
      "Evaluating: 100%|██████████| 5416/5416 [00:00<00:00, 69113.67it/s]\n"
     ]
    },
    {
     "output_type": "stream",
     "name": "stdout",
     "text": [
      "Train: 1.0000| Val: 0.7720| Test: 0.7800| Eval Time: 0.0824s\n",
      "Epoch 31| Loss: 0.0104| Acc: 1.0000| Train Time: 0.0130s\n"
     ]
    },
    {
     "output_type": "stream",
     "name": "stderr",
     "text": [
      "Evaluating: 100%|██████████| 5416/5416 [00:00<00:00, 78492.75it/s]\n"
     ]
    },
    {
     "output_type": "stream",
     "name": "stdout",
     "text": [
      "Train: 1.0000| Val: 0.7720| Test: 0.7800| Eval Time: 0.0720s\n",
      "Epoch 32| Loss: 0.0098| Acc: 1.0000| Train Time: 0.0160s\n"
     ]
    },
    {
     "output_type": "stream",
     "name": "stderr",
     "text": [
      "Evaluating: 100%|██████████| 5416/5416 [00:00<00:00, 74190.86it/s]\n"
     ]
    },
    {
     "output_type": "stream",
     "name": "stdout",
     "text": [
      "Train: 1.0000| Val: 0.7720| Test: 0.7800| Eval Time: 0.0780s\n",
      "Epoch 33| Loss: 0.0037| Acc: 1.0000| Train Time: 0.0155s\n"
     ]
    },
    {
     "output_type": "stream",
     "name": "stderr",
     "text": [
      "Evaluating: 100%|██████████| 5416/5416 [00:00<00:00, 83328.51it/s]\n"
     ]
    },
    {
     "output_type": "stream",
     "name": "stdout",
     "text": [
      "Train: 1.0000| Val: 0.7700| Test: 0.7810| Eval Time: 0.0700s\n",
      "Epoch 34| Loss: 0.0090| Acc: 1.0000| Train Time: 0.0130s\n"
     ]
    },
    {
     "output_type": "stream",
     "name": "stderr",
     "text": [
      "Evaluating: 100%|██████████| 5416/5416 [00:00<00:00, 78488.41it/s]\n"
     ]
    },
    {
     "output_type": "stream",
     "name": "stdout",
     "text": [
      "Train: 1.0000| Val: 0.7700| Test: 0.7810| Eval Time: 0.0720s\n",
      "Epoch 35| Loss: 0.0167| Acc: 1.0000| Train Time: 0.0120s\n"
     ]
    },
    {
     "output_type": "stream",
     "name": "stderr",
     "text": [
      "Evaluating: 100%|██████████| 5416/5416 [00:00<00:00, 78582.08it/s]\n"
     ]
    },
    {
     "output_type": "stream",
     "name": "stdout",
     "text": [
      "Train: 1.0000| Val: 0.7700| Test: 0.7800| Eval Time: 0.0749s\n",
      "Epoch 36| Loss: 0.0022| Acc: 1.0000| Train Time: 0.0120s\n"
     ]
    },
    {
     "output_type": "stream",
     "name": "stderr",
     "text": [
      "Evaluating: 100%|██████████| 5416/5416 [00:00<00:00, 72214.44it/s]\n"
     ]
    },
    {
     "output_type": "stream",
     "name": "stdout",
     "text": [
      "Train: 1.0000| Val: 0.7700| Test: 0.7780| Eval Time: 0.0810s\n",
      "Epoch 37| Loss: 0.0127| Acc: 1.0000| Train Time: 0.0120s\n"
     ]
    },
    {
     "output_type": "stream",
     "name": "stderr",
     "text": [
      "Evaluating: 100%|██████████| 5416/5416 [00:00<00:00, 69439.87it/s]\n"
     ]
    },
    {
     "output_type": "stream",
     "name": "stdout",
     "text": [
      "Train: 1.0000| Val: 0.7700| Test: 0.7780| Eval Time: 0.0840s\n",
      "Epoch 38| Loss: 0.0122| Acc: 1.0000| Train Time: 0.0140s\n"
     ]
    },
    {
     "output_type": "stream",
     "name": "stderr",
     "text": [
      "Evaluating: 100%|██████████| 5416/5416 [00:00<00:00, 69437.96it/s]\n"
     ]
    },
    {
     "output_type": "stream",
     "name": "stdout",
     "text": [
      "Train: 1.0000| Val: 0.7700| Test: 0.7780| Eval Time: 0.0830s\n",
      "Epoch 39| Loss: 0.0112| Acc: 1.0000| Train Time: 0.0130s\n"
     ]
    },
    {
     "output_type": "stream",
     "name": "stderr",
     "text": [
      "Evaluating: 100%|██████████| 5416/5416 [00:00<00:00, 72214.66it/s]\n"
     ]
    },
    {
     "output_type": "stream",
     "name": "stdout",
     "text": [
      "Train: 1.0000| Val: 0.7700| Test: 0.7780| Eval Time: 0.0790s\n",
      "Epoch 40| Loss: 0.0095| Acc: 1.0000| Train Time: 0.0110s\n"
     ]
    },
    {
     "output_type": "stream",
     "name": "stderr",
     "text": [
      "Evaluating: 100%|██████████| 5416/5416 [00:00<00:00, 87355.12it/s]\n"
     ]
    },
    {
     "output_type": "stream",
     "name": "stdout",
     "text": [
      "Train: 1.0000| Val: 0.7700| Test: 0.7760| Eval Time: 0.0690s\n",
      "Epoch 41| Loss: 0.0065| Acc: 1.0000| Train Time: 0.0110s\n"
     ]
    },
    {
     "output_type": "stream",
     "name": "stderr",
     "text": [
      "Evaluating: 100%|██████████| 5416/5416 [00:00<00:00, 85964.40it/s]\n"
     ]
    },
    {
     "output_type": "stream",
     "name": "stdout",
     "text": [
      "Train: 1.0000| Val: 0.7700| Test: 0.7760| Eval Time: 0.0680s\n",
      "Epoch 42| Loss: 0.0036| Acc: 1.0000| Train Time: 0.0120s\n"
     ]
    },
    {
     "output_type": "stream",
     "name": "stderr",
     "text": [
      "Evaluating: 100%|██████████| 5416/5416 [00:00<00:00, 85961.47it/s]\n"
     ]
    },
    {
     "output_type": "stream",
     "name": "stdout",
     "text": [
      "Train: 1.0000| Val: 0.7700| Test: 0.7740| Eval Time: 0.0670s\n",
      "Epoch 43| Loss: 0.0054| Acc: 1.0000| Train Time: 0.0120s\n"
     ]
    },
    {
     "output_type": "stream",
     "name": "stderr",
     "text": [
      "Evaluating: 100%|██████████| 5416/5416 [00:00<00:00, 87357.48it/s]\n"
     ]
    },
    {
     "output_type": "stream",
     "name": "stdout",
     "text": [
      "Train: 1.0000| Val: 0.7700| Test: 0.7740| Eval Time: 0.0660s\n",
      "Epoch 44| Loss: 0.0048| Acc: 1.0000| Train Time: 0.0100s\n"
     ]
    },
    {
     "output_type": "stream",
     "name": "stderr",
     "text": [
      "Evaluating: 100%|██████████| 5416/5416 [00:00<00:00, 96720.06it/s]\n"
     ]
    },
    {
     "output_type": "stream",
     "name": "stdout",
     "text": [
      "Train: 1.0000| Val: 0.7680| Test: 0.7760| Eval Time: 0.0610s\n",
      "Epoch 45| Loss: 0.0046| Acc: 1.0000| Train Time: 0.0100s\n"
     ]
    },
    {
     "output_type": "stream",
     "name": "stderr",
     "text": [
      "Evaluating: 100%|██████████| 5416/5416 [00:00<00:00, 87356.47it/s]\n"
     ]
    },
    {
     "output_type": "stream",
     "name": "stdout",
     "text": [
      "Train: 1.0000| Val: 0.7680| Test: 0.7760| Eval Time: 0.0670s\n",
      "Epoch 46| Loss: 0.0057| Acc: 1.0000| Train Time: 0.0110s\n"
     ]
    },
    {
     "output_type": "stream",
     "name": "stderr",
     "text": [
      "Evaluating: 100%|██████████| 5416/5416 [00:00<00:00, 93377.63it/s]\n"
     ]
    },
    {
     "output_type": "stream",
     "name": "stdout",
     "text": [
      "Train: 1.0000| Val: 0.7680| Test: 0.7770| Eval Time: 0.0620s\n",
      "Epoch 47| Loss: 0.0149| Acc: 1.0000| Train Time: 0.0100s\n"
     ]
    },
    {
     "output_type": "stream",
     "name": "stderr",
     "text": [
      "Evaluating: 100%|██████████| 5416/5416 [00:00<00:00, 75214.47it/s]\n"
     ]
    },
    {
     "output_type": "stream",
     "name": "stdout",
     "text": [
      "Train: 1.0000| Val: 0.7700| Test: 0.7770| Eval Time: 0.0770s\n",
      "Epoch 48| Loss: 0.0117| Acc: 1.0000| Train Time: 0.0110s\n"
     ]
    },
    {
     "output_type": "stream",
     "name": "stderr",
     "text": [
      "Evaluating: 100%|██████████| 5416/5416 [00:00<00:00, 88785.34it/s]\n"
     ]
    },
    {
     "output_type": "stream",
     "name": "stdout",
     "text": [
      "Train: 1.0000| Val: 0.7720| Test: 0.7770| Eval Time: 0.0660s\n",
      "Epoch 49| Loss: 0.0126| Acc: 1.0000| Train Time: 0.0100s\n"
     ]
    },
    {
     "output_type": "stream",
     "name": "stderr",
     "text": [
      "Evaluating: 100%|██████████| 5416/5416 [00:00<00:00, 77370.71it/s]"
     ]
    },
    {
     "output_type": "stream",
     "name": "stdout",
     "text": [
      "Train: 1.0000| Val: 0.7680| Test: 0.7770| Eval Time: 0.0750s\n",
      "Epoch 50| Loss: 0.0082| Acc: 1.0000| Train Time: 0.0170s\n"
     ]
    },
    {
     "output_type": "stream",
     "name": "stderr",
     "text": [
      "\n",
      "Evaluating: 100%|██████████| 5416/5416 [00:00<00:00, 60853.13it/s]\n"
     ]
    },
    {
     "output_type": "stream",
     "name": "stdout",
     "text": [
      "Train: 1.0000| Val: 0.7680| Test: 0.7770| Eval Time: 0.0980s\n",
      "Epoch 51| Loss: 0.0020| Acc: 1.0000| Train Time: 0.0120s\n"
     ]
    },
    {
     "output_type": "stream",
     "name": "stderr",
     "text": [
      "Evaluating: 100%|██████████| 5416/5416 [00:00<00:00, 54423.20it/s]\n"
     ]
    },
    {
     "output_type": "stream",
     "name": "stdout",
     "text": [
      "Train: 1.0000| Val: 0.7660| Test: 0.7770| Eval Time: 0.1075s\n",
      "Epoch 52| Loss: 0.0039| Acc: 1.0000| Train Time: 0.0170s\n"
     ]
    },
    {
     "output_type": "stream",
     "name": "stderr",
     "text": [
      "Evaluating: 100%|██████████| 5416/5416 [00:00<00:00, 64369.23it/s]\n"
     ]
    },
    {
     "output_type": "stream",
     "name": "stdout",
     "text": [
      "Train: 1.0000| Val: 0.7660| Test: 0.7750| Eval Time: 0.0891s\n",
      "Epoch 53| Loss: 0.0027| Acc: 1.0000| Train Time: 0.0140s\n"
     ]
    },
    {
     "output_type": "stream",
     "name": "stderr",
     "text": [
      "Evaluating: 100%|██████████| 5416/5416 [00:00<00:00, 70335.57it/s]\n"
     ]
    },
    {
     "output_type": "stream",
     "name": "stdout",
     "text": [
      "Train: 1.0000| Val: 0.7680| Test: 0.7750| Eval Time: 0.0830s\n",
      "Epoch 54| Loss: 0.0024| Acc: 1.0000| Train Time: 0.0130s\n"
     ]
    },
    {
     "output_type": "stream",
     "name": "stderr",
     "text": [
      "Evaluating: 100%|██████████| 5416/5416 [00:00<00:00, 80837.08it/s]\n"
     ]
    },
    {
     "output_type": "stream",
     "name": "stdout",
     "text": [
      "Train: 1.0000| Val: 0.7660| Test: 0.7750| Eval Time: 0.0710s\n",
      "\n",
      "Result of  2. run| Train: 0.9857| Val: 0.7900| Test: 0.7660\n",
      "\n",
      "Run 03:\n"
     ]
    },
    {
     "output_type": "stream",
     "name": "stderr",
     "text": [
      "Epoch 01: 100%|██████████| 140/140 [00:00<00:00, 10001.75it/s]\n"
     ]
    },
    {
     "output_type": "stream",
     "name": "stdout",
     "text": [
      "Epoch 01| Loss: 1.9618| Acc: 0.1286| Train Time: 0.0160s\n"
     ]
    },
    {
     "output_type": "stream",
     "name": "stderr",
     "text": [
      "Evaluating: 100%|██████████| 5416/5416 [00:00<00:00, 93380.32it/s]\n"
     ]
    },
    {
     "output_type": "stream",
     "name": "stdout",
     "text": [
      "Train: 0.8429| Val: 0.5260| Test: 0.5480| Eval Time: 0.0640s\n",
      "Epoch 02| Loss: 1.5915| Acc: 0.5714| Train Time: 0.0120s\n"
     ]
    },
    {
     "output_type": "stream",
     "name": "stderr",
     "text": [
      "Evaluating: 100%|██████████| 5416/5416 [00:00<00:00, 85926.03it/s]\n"
     ]
    },
    {
     "output_type": "stream",
     "name": "stdout",
     "text": [
      "Train: 0.9571| Val: 0.7120| Test: 0.7100| Eval Time: 0.0690s\n",
      "Epoch 03| Loss: 1.1728| Acc: 0.8214| Train Time: 0.0110s\n"
     ]
    },
    {
     "output_type": "stream",
     "name": "stderr",
     "text": [
      "Evaluating: 100%|██████████| 5416/5416 [00:00<00:00, 71714.93it/s]"
     ]
    },
    {
     "output_type": "stream",
     "name": "stdout",
     "text": [
      "Train: 0.9714| Val: 0.7260| Test: 0.7410| Eval Time: 0.0825s\n",
      "Epoch 04| Loss: 0.9001| Acc: 0.9000| Train Time: 0.0110s\n"
     ]
    },
    {
     "output_type": "stream",
     "name": "stderr",
     "text": [
      "\n",
      "Evaluating: 100%|██████████| 5416/5416 [00:00<00:00, 78492.75it/s]\n"
     ]
    },
    {
     "output_type": "stream",
     "name": "stdout",
     "text": [
      "Train: 0.9786| Val: 0.7340| Test: 0.7510| Eval Time: 0.0740s\n",
      "Epoch 05| Loss: 0.7134| Acc: 0.9143| Train Time: 0.0120s\n"
     ]
    },
    {
     "output_type": "stream",
     "name": "stderr",
     "text": [
      "Evaluating: 100%|██████████| 5416/5416 [00:00<00:00, 85967.33it/s]\n"
     ]
    },
    {
     "output_type": "stream",
     "name": "stdout",
     "text": [
      "Train: 0.9857| Val: 0.7520| Test: 0.7720| Eval Time: 0.0680s\n",
      "Epoch 06| Loss: 0.4592| Acc: 0.9643| Train Time: 0.0110s\n"
     ]
    },
    {
     "output_type": "stream",
     "name": "stderr",
     "text": [
      "Evaluating: 100%|██████████| 5416/5416 [00:00<00:00, 77326.99it/s]\n"
     ]
    },
    {
     "output_type": "stream",
     "name": "stdout",
     "text": [
      "Train: 0.9929| Val: 0.7640| Test: 0.7850| Eval Time: 0.0760s\n",
      "Epoch 07| Loss: 0.4064| Acc: 0.9714| Train Time: 0.0130s\n"
     ]
    },
    {
     "output_type": "stream",
     "name": "stderr",
     "text": [
      "Evaluating: 100%|██████████| 5416/5416 [00:00<00:00, 90276.80it/s]\n"
     ]
    },
    {
     "output_type": "stream",
     "name": "stdout",
     "text": [
      "Train: 0.9929| Val: 0.7660| Test: 0.7910| Eval Time: 0.0650s\n",
      "Epoch 08| Loss: 0.3121| Acc: 0.9857| Train Time: 0.0100s\n"
     ]
    },
    {
     "output_type": "stream",
     "name": "stderr",
     "text": [
      "Evaluating: 100%|██████████| 5416/5416 [00:00<00:00, 95017.67it/s]\n"
     ]
    },
    {
     "output_type": "stream",
     "name": "stdout",
     "text": [
      "Train: 1.0000| Val: 0.7640| Test: 0.7930| Eval Time: 0.0610s\n",
      "Epoch 09| Loss: 0.2724| Acc: 0.9786| Train Time: 0.0130s\n"
     ]
    },
    {
     "output_type": "stream",
     "name": "stderr",
     "text": [
      "Evaluating: 100%|██████████| 5416/5416 [00:00<00:00, 77372.56it/s]\n"
     ]
    },
    {
     "output_type": "stream",
     "name": "stdout",
     "text": [
      "Train: 1.0000| Val: 0.7660| Test: 0.7970| Eval Time: 0.0770s\n",
      "Epoch 10| Loss: 0.2437| Acc: 0.9857| Train Time: 0.0120s\n"
     ]
    },
    {
     "output_type": "stream",
     "name": "stderr",
     "text": [
      "Evaluating: 100%|██████████| 5416/5416 [00:00<00:00, 79648.08it/s]\n"
     ]
    },
    {
     "output_type": "stream",
     "name": "stdout",
     "text": [
      "Train: 1.0000| Val: 0.7700| Test: 0.7990| Eval Time: 0.0730s\n",
      "Epoch 11| Loss: 0.1786| Acc: 0.9929| Train Time: 0.0120s\n"
     ]
    },
    {
     "output_type": "stream",
     "name": "stderr",
     "text": [
      "Evaluating: 100%|██████████| 5416/5416 [00:00<00:00, 87356.47it/s]\n"
     ]
    },
    {
     "output_type": "stream",
     "name": "stdout",
     "text": [
      "Train: 1.0000| Val: 0.7740| Test: 0.8040| Eval Time: 0.0670s\n",
      "Epoch 12| Loss: 0.1564| Acc: 0.9929| Train Time: 0.0120s\n"
     ]
    },
    {
     "output_type": "stream",
     "name": "stderr",
     "text": [
      "Evaluating: 100%|██████████| 5416/5416 [00:00<00:00, 74192.80it/s]\n"
     ]
    },
    {
     "output_type": "stream",
     "name": "stdout",
     "text": [
      "Train: 1.0000| Val: 0.7760| Test: 0.8060| Eval Time: 0.0800s\n",
      "Epoch 13| Loss: 0.1199| Acc: 1.0000| Train Time: 0.0120s\n"
     ]
    },
    {
     "output_type": "stream",
     "name": "stderr",
     "text": [
      "Evaluating: 100%|██████████| 5416/5416 [00:00<00:00, 82062.11it/s]\n"
     ]
    },
    {
     "output_type": "stream",
     "name": "stdout",
     "text": [
      "Train: 1.0000| Val: 0.7740| Test: 0.8060| Eval Time: 0.0710s\n",
      "Epoch 14| Loss: 0.0813| Acc: 1.0000| Train Time: 0.0100s\n"
     ]
    },
    {
     "output_type": "stream",
     "name": "stderr",
     "text": [
      "Evaluating: 100%|██████████| 5416/5416 [00:00<00:00, 90267.83it/s]\n"
     ]
    },
    {
     "output_type": "stream",
     "name": "stdout",
     "text": [
      "Train: 1.0000| Val: 0.7680| Test: 0.8050| Eval Time: 0.0640s\n",
      "Epoch 15| Loss: 0.1087| Acc: 1.0000| Train Time: 0.0110s\n"
     ]
    },
    {
     "output_type": "stream",
     "name": "stderr",
     "text": [
      "Evaluating: 100%|██████████| 5416/5416 [00:00<00:00, 69435.41it/s]\n"
     ]
    },
    {
     "output_type": "stream",
     "name": "stdout",
     "text": [
      "Train: 1.0000| Val: 0.7640| Test: 0.8040| Eval Time: 0.0830s\n",
      "Epoch 16| Loss: 0.0721| Acc: 1.0000| Train Time: 0.0160s\n"
     ]
    },
    {
     "output_type": "stream",
     "name": "stderr",
     "text": [
      "Evaluating: 100%|██████████| 5416/5416 [00:00<00:00, 48797.69it/s]\n"
     ]
    },
    {
     "output_type": "stream",
     "name": "stdout",
     "text": [
      "Train: 1.0000| Val: 0.7620| Test: 0.8050| Eval Time: 0.1200s\n",
      "Epoch 17| Loss: 0.0928| Acc: 1.0000| Train Time: 0.0130s\n"
     ]
    },
    {
     "output_type": "stream",
     "name": "stderr",
     "text": [
      "Evaluating: 100%|██████████| 5416/5416 [00:00<00:00, 63719.41it/s]\n"
     ]
    },
    {
     "output_type": "stream",
     "name": "stdout",
     "text": [
      "Train: 1.0000| Val: 0.7620| Test: 0.8010| Eval Time: 0.0919s\n",
      "Epoch 18| Loss: 0.0675| Acc: 1.0000| Train Time: 0.0120s\n"
     ]
    },
    {
     "output_type": "stream",
     "name": "stderr",
     "text": [
      "Evaluating: 100%|██████████| 5416/5416 [00:00<00:00, 58865.44it/s]\n"
     ]
    },
    {
     "output_type": "stream",
     "name": "stdout",
     "text": [
      "Train: 1.0000| Val: 0.7620| Test: 0.8030| Eval Time: 0.0970s\n",
      "Epoch 19| Loss: 0.0616| Acc: 0.9929| Train Time: 0.0130s\n"
     ]
    },
    {
     "output_type": "stream",
     "name": "stderr",
     "text": [
      "Evaluating: 100%|██████████| 5416/5416 [00:00<00:00, 69436.69it/s]\n"
     ]
    },
    {
     "output_type": "stream",
     "name": "stdout",
     "text": [
      "Train: 1.0000| Val: 0.7640| Test: 0.8020| Eval Time: 0.0830s\n",
      "Epoch 20| Loss: 0.0365| Acc: 1.0000| Train Time: 0.0120s\n"
     ]
    },
    {
     "output_type": "stream",
     "name": "stderr",
     "text": [
      "Evaluating: 100%|██████████| 5416/5416 [00:00<00:00, 71160.94it/s]\n"
     ]
    },
    {
     "output_type": "stream",
     "name": "stdout",
     "text": [
      "Train: 1.0000| Val: 0.7660| Test: 0.8030| Eval Time: 0.0831s\n",
      "Epoch 21| Loss: 0.0264| Acc: 1.0000| Train Time: 0.0160s\n"
     ]
    },
    {
     "output_type": "stream",
     "name": "stderr",
     "text": [
      "Evaluating: 100%|██████████| 5416/5416 [00:00<00:00, 77370.71it/s]\n"
     ]
    },
    {
     "output_type": "stream",
     "name": "stdout",
     "text": [
      "Train: 1.0000| Val: 0.7680| Test: 0.8040| Eval Time: 0.0750s\n",
      "Epoch 22| Loss: 0.0553| Acc: 1.0000| Train Time: 0.0110s\n"
     ]
    },
    {
     "output_type": "stream",
     "name": "stderr",
     "text": [
      "Evaluating: 100%|██████████| 5416/5416 [00:00<00:00, 73189.78it/s]\n"
     ]
    },
    {
     "output_type": "stream",
     "name": "stdout",
     "text": [
      "Train: 1.0000| Val: 0.7700| Test: 0.8040| Eval Time: 0.0790s\n",
      "Epoch 23| Loss: 0.0298| Acc: 1.0000| Train Time: 0.0146s\n"
     ]
    },
    {
     "output_type": "stream",
     "name": "stderr",
     "text": [
      "Evaluating: 100%|██████████| 5416/5416 [00:00<00:00, 72215.12it/s]\n"
     ]
    },
    {
     "output_type": "stream",
     "name": "stdout",
     "text": [
      "Train: 1.0000| Val: 0.7680| Test: 0.8010| Eval Time: 0.0800s\n",
      "Epoch 24| Loss: 0.0267| Acc: 1.0000| Train Time: 0.0140s\n"
     ]
    },
    {
     "output_type": "stream",
     "name": "stderr",
     "text": [
      "Evaluating: 100%|██████████| 5416/5416 [00:00<00:00, 84626.72it/s]\n"
     ]
    },
    {
     "output_type": "stream",
     "name": "stdout",
     "text": [
      "Train: 1.0000| Val: 0.7700| Test: 0.8040| Eval Time: 0.0690s\n",
      "Epoch 25| Loss: 0.0285| Acc: 1.0000| Train Time: 0.0110s\n"
     ]
    },
    {
     "output_type": "stream",
     "name": "stderr",
     "text": [
      "Evaluating: 100%|██████████| 5416/5416 [00:00<00:00, 79645.29it/s]\n"
     ]
    },
    {
     "output_type": "stream",
     "name": "stdout",
     "text": [
      "Train: 1.0000| Val: 0.7640| Test: 0.8040| Eval Time: 0.0750s\n",
      "Epoch 26| Loss: 0.0089| Acc: 1.0000| Train Time: 0.0150s\n"
     ]
    },
    {
     "output_type": "stream",
     "name": "stderr",
     "text": [
      "Evaluating: 100%|██████████| 5416/5416 [00:00<00:00, 73100.28it/s]\n"
     ]
    },
    {
     "output_type": "stream",
     "name": "stdout",
     "text": [
      "Train: 1.0000| Val: 0.7640| Test: 0.8030| Eval Time: 0.0801s\n",
      "Epoch 27| Loss: 0.0276| Acc: 1.0000| Train Time: 0.0150s\n"
     ]
    },
    {
     "output_type": "stream",
     "name": "stderr",
     "text": [
      "Evaluating: 100%|██████████| 5416/5416 [00:00<00:00, 90266.75it/s]"
     ]
    },
    {
     "output_type": "stream",
     "name": "stdout",
     "text": [
      "Train: 1.0000| Val: 0.7640| Test: 0.8030| Eval Time: 0.0650s\n",
      "Epoch 28| Loss: 0.0133| Acc: 1.0000| Train Time: 0.0100s\n"
     ]
    },
    {
     "output_type": "stream",
     "name": "stderr",
     "text": [
      "\n",
      "Evaluating: 100%|██████████| 5416/5416 [00:00<00:00, 80838.52it/s]\n"
     ]
    },
    {
     "output_type": "stream",
     "name": "stdout",
     "text": [
      "Train: 1.0000| Val: 0.7640| Test: 0.8010| Eval Time: 0.0730s\n",
      "Epoch 29| Loss: 0.0139| Acc: 1.0000| Train Time: 0.0110s\n"
     ]
    },
    {
     "output_type": "stream",
     "name": "stderr",
     "text": [
      "Evaluating: 100%|██████████| 5416/5416 [00:00<00:00, 76282.86it/s]\n"
     ]
    },
    {
     "output_type": "stream",
     "name": "stdout",
     "text": [
      "Train: 1.0000| Val: 0.7660| Test: 0.8000| Eval Time: 0.0750s\n",
      "Epoch 30| Loss: 0.0039| Acc: 1.0000| Train Time: 0.0120s\n"
     ]
    },
    {
     "output_type": "stream",
     "name": "stderr",
     "text": [
      "Evaluating: 100%|██████████| 5416/5416 [00:00<00:00, 82062.11it/s]"
     ]
    },
    {
     "output_type": "stream",
     "name": "stdout",
     "text": [
      "Train: 1.0000| Val: 0.7660| Test: 0.8000| Eval Time: 0.0710s\n",
      "Epoch 31| Loss: 0.0252| Acc: 1.0000| Train Time: 0.0120s\n"
     ]
    },
    {
     "output_type": "stream",
     "name": "stderr",
     "text": [
      "\n",
      "Evaluating: 100%|██████████| 5416/5416 [00:00<00:00, 72196.99it/s]\n"
     ]
    },
    {
     "output_type": "stream",
     "name": "stdout",
     "text": [
      "Train: 1.0000| Val: 0.7660| Test: 0.7990| Eval Time: 0.0800s\n",
      "Epoch 32| Loss: 0.0195| Acc: 1.0000| Train Time: 0.0130s\n"
     ]
    },
    {
     "output_type": "stream",
     "name": "stderr",
     "text": [
      "Evaluating: 100%|██████████| 5416/5416 [00:00<00:00, 71268.10it/s]\n"
     ]
    },
    {
     "output_type": "stream",
     "name": "stdout",
     "text": [
      "Train: 1.0000| Val: 0.7660| Test: 0.7980| Eval Time: 0.0820s\n",
      "Epoch 33| Loss: 0.0275| Acc: 1.0000| Train Time: 0.0110s\n"
     ]
    },
    {
     "output_type": "stream",
     "name": "stderr",
     "text": [
      "Evaluating: 100%|██████████| 5416/5416 [00:00<00:00, 61547.25it/s]\n"
     ]
    },
    {
     "output_type": "stream",
     "name": "stdout",
     "text": [
      "Train: 1.0000| Val: 0.7640| Test: 0.8000| Eval Time: 0.0930s\n",
      "Epoch 34| Loss: 0.0125| Acc: 1.0000| Train Time: 0.0150s\n"
     ]
    },
    {
     "output_type": "stream",
     "name": "stderr",
     "text": [
      "Evaluating: 100%|██████████| 5416/5416 [00:00<00:00, 73187.89it/s]\n"
     ]
    },
    {
     "output_type": "stream",
     "name": "stdout",
     "text": [
      "Train: 1.0000| Val: 0.7640| Test: 0.8000| Eval Time: 0.0790s\n",
      "Epoch 35| Loss: 0.0169| Acc: 1.0000| Train Time: 0.0140s\n"
     ]
    },
    {
     "output_type": "stream",
     "name": "stderr",
     "text": [
      "Evaluating: 100%|██████████| 5416/5416 [00:00<00:00, 52591.45it/s]\n"
     ]
    },
    {
     "output_type": "stream",
     "name": "stdout",
     "text": [
      "Train: 1.0000| Val: 0.7640| Test: 0.8000| Eval Time: 0.1070s\n",
      "Epoch 36| Loss: 0.0038| Acc: 1.0000| Train Time: 0.0200s\n"
     ]
    },
    {
     "output_type": "stream",
     "name": "stderr",
     "text": [
      "Evaluating: 100%|██████████| 5416/5416 [00:00<00:00, 67700.06it/s]\n"
     ]
    },
    {
     "output_type": "stream",
     "name": "stdout",
     "text": [
      "Train: 1.0000| Val: 0.7640| Test: 0.8010| Eval Time: 0.0850s\n",
      "Epoch 37| Loss: 0.0099| Acc: 1.0000| Train Time: 0.0150s\n"
     ]
    },
    {
     "output_type": "stream",
     "name": "stderr",
     "text": [
      "Evaluating: 100%|██████████| 5416/5416 [00:00<00:00, 60854.27it/s]\n"
     ]
    },
    {
     "output_type": "stream",
     "name": "stdout",
     "text": [
      "Train: 1.0000| Val: 0.7620| Test: 0.8000| Eval Time: 0.0950s\n",
      "Epoch 38| Loss: 0.0135| Acc: 1.0000| Train Time: 0.0180s\n"
     ]
    },
    {
     "output_type": "stream",
     "name": "stderr",
     "text": [
      "Evaluating: 100%|██████████| 5416/5416 [00:00<00:00, 64848.27it/s]\n"
     ]
    },
    {
     "output_type": "stream",
     "name": "stdout",
     "text": [
      "Train: 1.0000| Val: 0.7620| Test: 0.7990| Eval Time: 0.0895s\n",
      "Epoch 39| Loss: 0.0091| Acc: 1.0000| Train Time: 0.0160s\n"
     ]
    },
    {
     "output_type": "stream",
     "name": "stderr",
     "text": [
      "Evaluating: 100%|██████████| 5416/5416 [00:00<00:00, 59517.37it/s]\n"
     ]
    },
    {
     "output_type": "stream",
     "name": "stdout",
     "text": [
      "Train: 1.0000| Val: 0.7620| Test: 0.7980| Eval Time: 0.1010s\n",
      "Epoch 40| Loss: 0.0087| Acc: 1.0000| Train Time: 0.0110s\n"
     ]
    },
    {
     "output_type": "stream",
     "name": "stderr",
     "text": [
      "Evaluating: 100%|██████████| 5416/5416 [00:00<00:00, 80233.22it/s]\n"
     ]
    },
    {
     "output_type": "stream",
     "name": "stdout",
     "text": [
      "Train: 1.0000| Val: 0.7620| Test: 0.7990| Eval Time: 0.0735s\n",
      "Epoch 41| Loss: 0.0084| Acc: 1.0000| Train Time: 0.0160s\n"
     ]
    },
    {
     "output_type": "stream",
     "name": "stderr",
     "text": [
      "Evaluating: 100%|██████████| 5416/5416 [00:00<00:00, 63435.06it/s]\n"
     ]
    },
    {
     "output_type": "stream",
     "name": "stdout",
     "text": [
      "Train: 1.0000| Val: 0.7580| Test: 0.7990| Eval Time: 0.0904s\n",
      "Epoch 42| Loss: 0.0035| Acc: 1.0000| Train Time: 0.0150s\n"
     ]
    },
    {
     "output_type": "stream",
     "name": "stderr",
     "text": [
      "Evaluating: 100%|██████████| 5416/5416 [00:00<00:00, 79646.69it/s]\n"
     ]
    },
    {
     "output_type": "stream",
     "name": "stdout",
     "text": [
      "Train: 1.0000| Val: 0.7620| Test: 0.7980| Eval Time: 0.0750s\n",
      "Epoch 43| Loss: 0.0109| Acc: 1.0000| Train Time: 0.0150s\n"
     ]
    },
    {
     "output_type": "stream",
     "name": "stderr",
     "text": [
      "Evaluating: 100%|██████████| 5416/5416 [00:00<00:00, 66867.86it/s]\n"
     ]
    },
    {
     "output_type": "stream",
     "name": "stdout",
     "text": [
      "Train: 1.0000| Val: 0.7620| Test: 0.7970| Eval Time: 0.0870s\n",
      "Epoch 44| Loss: 0.0082| Acc: 1.0000| Train Time: 0.0130s\n"
     ]
    },
    {
     "output_type": "stream",
     "name": "stderr",
     "text": [
      "Evaluating: 100%|██████████| 5416/5416 [00:00<00:00, 70334.70it/s]\n"
     ]
    },
    {
     "output_type": "stream",
     "name": "stdout",
     "text": [
      "Train: 1.0000| Val: 0.7600| Test: 0.7960| Eval Time: 0.0840s\n",
      "Epoch 45| Loss: 0.0047| Acc: 1.0000| Train Time: 0.0140s\n"
     ]
    },
    {
     "output_type": "stream",
     "name": "stderr",
     "text": [
      "Evaluating: 100%|██████████| 5416/5416 [00:00<00:00, 75233.90it/s]\n"
     ]
    },
    {
     "output_type": "stream",
     "name": "stdout",
     "text": [
      "Train: 1.0000| Val: 0.7620| Test: 0.7940| Eval Time: 0.0790s\n",
      "Epoch 46| Loss: 0.0030| Acc: 1.0000| Train Time: 0.0120s\n"
     ]
    },
    {
     "output_type": "stream",
     "name": "stderr",
     "text": [
      "Evaluating: 100%|██████████| 5416/5416 [00:00<00:00, 73194.02it/s]\n"
     ]
    },
    {
     "output_type": "stream",
     "name": "stdout",
     "text": [
      "Train: 1.0000| Val: 0.7600| Test: 0.7920| Eval Time: 0.0800s\n",
      "Epoch 47| Loss: 0.0093| Acc: 1.0000| Train Time: 0.0180s\n"
     ]
    },
    {
     "output_type": "stream",
     "name": "stderr",
     "text": [
      "Evaluating: 100%|██████████| 5416/5416 [00:00<00:00, 65255.30it/s]\n"
     ]
    },
    {
     "output_type": "stream",
     "name": "stdout",
     "text": [
      "Train: 1.0000| Val: 0.7600| Test: 0.7930| Eval Time: 0.0910s\n",
      "Epoch 48| Loss: 0.0085| Acc: 1.0000| Train Time: 0.0150s\n"
     ]
    },
    {
     "output_type": "stream",
     "name": "stderr",
     "text": [
      "Evaluating: 100%|██████████| 5416/5416 [00:00<00:00, 75226.93it/s]\n"
     ]
    },
    {
     "output_type": "stream",
     "name": "stdout",
     "text": [
      "Train: 1.0000| Val: 0.7600| Test: 0.7930| Eval Time: 0.0770s\n",
      "Epoch 49| Loss: 0.0049| Acc: 1.0000| Train Time: 0.0150s\n"
     ]
    },
    {
     "output_type": "stream",
     "name": "stderr",
     "text": [
      "Evaluating: 100%|██████████| 5416/5416 [00:00<00:00, 32625.59it/s]\n"
     ]
    },
    {
     "output_type": "stream",
     "name": "stdout",
     "text": [
      "Train: 1.0000| Val: 0.7600| Test: 0.7920| Eval Time: 0.1730s\n",
      "Epoch 50| Loss: 0.0043| Acc: 1.0000| Train Time: 0.0406s\n"
     ]
    },
    {
     "output_type": "stream",
     "name": "stderr",
     "text": [
      "Evaluating: 100%|██████████| 5416/5416 [00:00<00:00, 42312.81it/s]"
     ]
    },
    {
     "output_type": "stream",
     "name": "stdout",
     "text": [
      "Train: 1.0000| Val: 0.7600| Test: 0.7910| Eval Time: 0.1355s"
     ]
    },
    {
     "output_type": "stream",
     "name": "stderr",
     "text": [
      "\n"
     ]
    },
    {
     "output_type": "stream",
     "name": "stdout",
     "text": [
      "\n",
      "Epoch 51| Loss: 0.0027| Acc: 1.0000| Train Time: 0.0240s\n"
     ]
    },
    {
     "output_type": "stream",
     "name": "stderr",
     "text": [
      "Evaluating: 100%|██████████| 5416/5416 [00:00<00:00, 51583.17it/s]\n"
     ]
    },
    {
     "output_type": "stream",
     "name": "stdout",
     "text": [
      "Train: 1.0000| Val: 0.7600| Test: 0.7910| Eval Time: 0.1120s\n",
      "Epoch 52| Loss: 0.0026| Acc: 1.0000| Train Time: 0.0220s\n"
     ]
    },
    {
     "output_type": "stream",
     "name": "stderr",
     "text": [
      "Evaluating: 100%|██████████| 5416/5416 [00:00<00:00, 54156.69it/s]\n"
     ]
    },
    {
     "output_type": "stream",
     "name": "stdout",
     "text": [
      "Train: 1.0000| Val: 0.7600| Test: 0.7910| Eval Time: 0.1090s\n",
      "Epoch 53| Loss: 0.0015| Acc: 1.0000| Train Time: 0.0180s\n"
     ]
    },
    {
     "output_type": "stream",
     "name": "stderr",
     "text": [
      "Evaluating: 100%|██████████| 5416/5416 [00:00<00:00, 49235.66it/s]\n"
     ]
    },
    {
     "output_type": "stream",
     "name": "stdout",
     "text": [
      "Train: 1.0000| Val: 0.7600| Test: 0.7900| Eval Time: 0.1170s\n",
      "Epoch 54| Loss: 0.0057| Acc: 1.0000| Train Time: 0.0160s\n"
     ]
    },
    {
     "output_type": "stream",
     "name": "stderr",
     "text": [
      "Evaluating: 100%|██████████| 5416/5416 [00:00<00:00, 66049.34it/s]\n"
     ]
    },
    {
     "output_type": "stream",
     "name": "stdout",
     "text": [
      "Train: 1.0000| Val: 0.7580| Test: 0.7890| Eval Time: 0.0880s\n",
      "Epoch 55| Loss: 0.0045| Acc: 1.0000| Train Time: 0.0140s\n"
     ]
    },
    {
     "output_type": "stream",
     "name": "stderr",
     "text": [
      "Evaluating: 100%|██████████| 5416/5416 [00:00<00:00, 63719.23it/s]\n"
     ]
    },
    {
     "output_type": "stream",
     "name": "stdout",
     "text": [
      "Train: 1.0000| Val: 0.7580| Test: 0.7890| Eval Time: 0.0900s\n",
      "Epoch 56| Loss: 0.0028| Acc: 1.0000| Train Time: 0.0125s\n"
     ]
    },
    {
     "output_type": "stream",
     "name": "stderr",
     "text": [
      "Evaluating: 100%|██████████| 5416/5416 [00:00<00:00, 66864.32it/s]\n"
     ]
    },
    {
     "output_type": "stream",
     "name": "stdout",
     "text": [
      "Train: 1.0000| Val: 0.7580| Test: 0.7890| Eval Time: 0.0880s\n",
      "Epoch 57| Loss: 0.0039| Acc: 1.0000| Train Time: 0.0120s\n"
     ]
    },
    {
     "output_type": "stream",
     "name": "stderr",
     "text": [
      "Evaluating: 100%|██████████| 5416/5416 [00:00<00:00, 69436.90it/s]\n"
     ]
    },
    {
     "output_type": "stream",
     "name": "stdout",
     "text": [
      "Train: 1.0000| Val: 0.7580| Test: 0.7880| Eval Time: 0.0840s\n",
      "Epoch 58| Loss: 0.0028| Acc: 1.0000| Train Time: 0.0160s\n"
     ]
    },
    {
     "output_type": "stream",
     "name": "stderr",
     "text": [
      "Evaluating: 100%|██████████| 5416/5416 [00:00<00:00, 57550.83it/s]\n"
     ]
    },
    {
     "output_type": "stream",
     "name": "stdout",
     "text": [
      "Train: 1.0000| Val: 0.7580| Test: 0.7880| Eval Time: 0.1021s\n",
      "Epoch 59| Loss: 0.0034| Acc: 1.0000| Train Time: 0.0180s\n"
     ]
    },
    {
     "output_type": "stream",
     "name": "stderr",
     "text": [
      "Evaluating: 100%|██████████| 5416/5416 [00:00<00:00, 49687.65it/s]\n"
     ]
    },
    {
     "output_type": "stream",
     "name": "stdout",
     "text": [
      "Train: 1.0000| Val: 0.7580| Test: 0.7870| Eval Time: 0.1160s\n",
      "Epoch 60| Loss: 0.0009| Acc: 1.0000| Train Time: 0.0180s\n"
     ]
    },
    {
     "output_type": "stream",
     "name": "stderr",
     "text": [
      "Evaluating: 100%|██████████| 5416/5416 [00:00<00:00, 52582.32it/s]\n"
     ]
    },
    {
     "output_type": "stream",
     "name": "stdout",
     "text": [
      "Train: 1.0000| Val: 0.7580| Test: 0.7870| Eval Time: 0.1100s\n",
      "Epoch 61| Loss: 0.0093| Acc: 1.0000| Train Time: 0.0190s\n"
     ]
    },
    {
     "output_type": "stream",
     "name": "stderr",
     "text": [
      "Evaluating: 100%|██████████| 5416/5416 [00:00<00:00, 54708.53it/s]\n"
     ]
    },
    {
     "output_type": "stream",
     "name": "stdout",
     "text": [
      "Train: 1.0000| Val: 0.7560| Test: 0.7870| Eval Time: 0.1060s\n",
      "Epoch 62| Loss: 0.0034| Acc: 1.0000| Train Time: 0.0200s\n"
     ]
    },
    {
     "output_type": "stream",
     "name": "stderr",
     "text": [
      "Evaluating: 100%|██████████| 5416/5416 [00:00<00:00, 53098.16it/s]\n"
     ]
    },
    {
     "output_type": "stream",
     "name": "stdout",
     "text": [
      "Train: 1.0000| Val: 0.7580| Test: 0.7870| Eval Time: 0.1090s\n",
      "\n",
      "Result of  3. run| Train: 1.0000| Val: 0.7760| Test: 0.8060\n",
      "\n",
      "Run 04:\n"
     ]
    },
    {
     "output_type": "stream",
     "name": "stderr",
     "text": [
      "Epoch 01: 100%|██████████| 140/140 [00:00<00:00, 6363.89it/s]\n"
     ]
    },
    {
     "output_type": "stream",
     "name": "stdout",
     "text": [
      "Epoch 01| Loss: 1.9443| Acc: 0.2000| Train Time: 0.0260s\n"
     ]
    },
    {
     "output_type": "stream",
     "name": "stderr",
     "text": [
      "Evaluating: 100%|██████████| 5416/5416 [00:00<00:00, 48358.07it/s]\n"
     ]
    },
    {
     "output_type": "stream",
     "name": "stdout",
     "text": [
      "Train: 0.9000| Val: 0.5680| Test: 0.6070| Eval Time: 0.1180s\n",
      "Epoch 02| Loss: 1.4692| Acc: 0.6571| Train Time: 0.0210s\n"
     ]
    },
    {
     "output_type": "stream",
     "name": "stderr",
     "text": [
      "Evaluating: 100%|██████████| 5416/5416 [00:00<00:00, 47929.24it/s]\n"
     ]
    },
    {
     "output_type": "stream",
     "name": "stdout",
     "text": [
      "Train: 0.9786| Val: 0.6900| Test: 0.7100| Eval Time: 0.1200s\n",
      "Epoch 03| Loss: 1.0774| Acc: 0.8571| Train Time: 0.0170s\n"
     ]
    },
    {
     "output_type": "stream",
     "name": "stderr",
     "text": [
      "Evaluating: 100%|██████████| 5416/5416 [00:00<00:00, 58869.10it/s]\n"
     ]
    },
    {
     "output_type": "stream",
     "name": "stdout",
     "text": [
      "Train: 1.0000| Val: 0.7560| Test: 0.7500| Eval Time: 0.0980s\n",
      "Epoch 04| Loss: 0.8438| Acc: 0.9357| Train Time: 0.0150s\n"
     ]
    },
    {
     "output_type": "stream",
     "name": "stderr",
     "text": [
      "Evaluating: 100%|██████████| 5416/5416 [00:00<00:00, 73190.49it/s]\n"
     ]
    },
    {
     "output_type": "stream",
     "name": "stdout",
     "text": [
      "Train: 0.9929| Val: 0.7560| Test: 0.7670| Eval Time: 0.0810s\n",
      "Epoch 05| Loss: 0.7024| Acc: 0.9357| Train Time: 0.0130s\n"
     ]
    },
    {
     "output_type": "stream",
     "name": "stderr",
     "text": [
      "Evaluating: 100%|██████████| 5416/5416 [00:00<00:00, 62976.59it/s]\n"
     ]
    },
    {
     "output_type": "stream",
     "name": "stdout",
     "text": [
      "Train: 0.9929| Val: 0.7460| Test: 0.7750| Eval Time: 0.0920s\n",
      "Epoch 06| Loss: 0.4468| Acc: 0.9714| Train Time: 0.0150s\n"
     ]
    },
    {
     "output_type": "stream",
     "name": "stderr",
     "text": [
      "Evaluating: 100%|██████████| 5416/5416 [00:00<00:00, 63661.91it/s]\n"
     ]
    },
    {
     "output_type": "stream",
     "name": "stdout",
     "text": [
      "Train: 0.9929| Val: 0.7600| Test: 0.7760| Eval Time: 0.0901s\n",
      "Epoch 07| Loss: 0.4657| Acc: 0.9643| Train Time: 0.0110s\n"
     ]
    },
    {
     "output_type": "stream",
     "name": "stderr",
     "text": [
      "Evaluating: 100%|██████████| 5416/5416 [00:00<00:00, 71271.45it/s]\n"
     ]
    },
    {
     "output_type": "stream",
     "name": "stdout",
     "text": [
      "Train: 0.9929| Val: 0.7580| Test: 0.7820| Eval Time: 0.0820s\n",
      "Epoch 08| Loss: 0.3577| Acc: 0.9786| Train Time: 0.0150s\n"
     ]
    },
    {
     "output_type": "stream",
     "name": "stderr",
     "text": [
      "Evaluating: 100%|██████████| 5416/5416 [00:00<00:00, 78492.48it/s]\n"
     ]
    },
    {
     "output_type": "stream",
     "name": "stdout",
     "text": [
      "Train: 1.0000| Val: 0.7520| Test: 0.7870| Eval Time: 0.0750s\n",
      "Epoch 09| Loss: 0.2837| Acc: 1.0000| Train Time: 0.0140s\n"
     ]
    },
    {
     "output_type": "stream",
     "name": "stderr",
     "text": [
      "Evaluating: 100%|██████████| 5416/5416 [00:00<00:00, 69436.05it/s]\n"
     ]
    },
    {
     "output_type": "stream",
     "name": "stdout",
     "text": [
      "Train: 1.0000| Val: 0.7580| Test: 0.7870| Eval Time: 0.0850s\n",
      "Epoch 10| Loss: 0.2492| Acc: 0.9929| Train Time: 0.0130s\n"
     ]
    },
    {
     "output_type": "stream",
     "name": "stderr",
     "text": [
      "Evaluating: 100%|██████████| 5416/5416 [00:00<00:00, 60178.31it/s]\n"
     ]
    },
    {
     "output_type": "stream",
     "name": "stdout",
     "text": [
      "Train: 1.0000| Val: 0.7600| Test: 0.7870| Eval Time: 0.0950s\n",
      "Epoch 11| Loss: 0.1507| Acc: 0.9929| Train Time: 0.0130s\n"
     ]
    },
    {
     "output_type": "stream",
     "name": "stderr",
     "text": [
      "Evaluating: 100%|██████████| 5416/5416 [00:00<00:00, 33848.37it/s]\n"
     ]
    },
    {
     "output_type": "stream",
     "name": "stdout",
     "text": [
      "Train: 1.0000| Val: 0.7620| Test: 0.7920| Eval Time: 0.1660s\n",
      "Epoch 12| Loss: 0.1229| Acc: 1.0000| Train Time: 0.0160s\n"
     ]
    },
    {
     "output_type": "stream",
     "name": "stderr",
     "text": [
      "Evaluating: 100%|██████████| 5416/5416 [00:00<00:00, 48272.27it/s]\n"
     ]
    },
    {
     "output_type": "stream",
     "name": "stdout",
     "text": [
      "Train: 1.0000| Val: 0.7620| Test: 0.7940| Eval Time: 0.1174s\n",
      "Epoch 13| Loss: 0.1433| Acc: 0.9929| Train Time: 0.0210s\n"
     ]
    },
    {
     "output_type": "stream",
     "name": "stderr",
     "text": [
      "Evaluating: 100%|██████████| 5416/5416 [00:00<00:00, 57616.67it/s]\n"
     ]
    },
    {
     "output_type": "stream",
     "name": "stdout",
     "text": [
      "Train: 1.0000| Val: 0.7560| Test: 0.7940| Eval Time: 0.1050s\n",
      "Epoch 14| Loss: 0.0818| Acc: 0.9929| Train Time: 0.0160s\n"
     ]
    },
    {
     "output_type": "stream",
     "name": "stderr",
     "text": [
      "Evaluating: 100%|██████████| 5416/5416 [00:00<00:00, 62976.42it/s]\n"
     ]
    },
    {
     "output_type": "stream",
     "name": "stdout",
     "text": [
      "Train: 1.0000| Val: 0.7560| Test: 0.7970| Eval Time: 0.0920s\n",
      "Epoch 15| Loss: 0.1003| Acc: 0.9929| Train Time: 0.0170s\n"
     ]
    },
    {
     "output_type": "stream",
     "name": "stderr",
     "text": [
      "Evaluating: 100%|██████████| 5416/5416 [00:00<00:00, 61546.08it/s]\n"
     ]
    },
    {
     "output_type": "stream",
     "name": "stdout",
     "text": [
      "Train: 1.0000| Val: 0.7580| Test: 0.7920| Eval Time: 0.0970s\n",
      "Epoch 16| Loss: 0.0439| Acc: 1.0000| Train Time: 0.0140s\n"
     ]
    },
    {
     "output_type": "stream",
     "name": "stderr",
     "text": [
      "Evaluating: 100%|██████████| 5416/5416 [00:00<00:00, 65253.62it/s]\n"
     ]
    },
    {
     "output_type": "stream",
     "name": "stdout",
     "text": [
      "Train: 1.0000| Val: 0.7580| Test: 0.7940| Eval Time: 0.0880s\n",
      "Epoch 17| Loss: 0.0681| Acc: 1.0000| Train Time: 0.0120s\n"
     ]
    },
    {
     "output_type": "stream",
     "name": "stderr",
     "text": [
      "Evaluating: 100%|██████████| 5416/5416 [00:00<00:00, 62252.95it/s]\n"
     ]
    },
    {
     "output_type": "stream",
     "name": "stdout",
     "text": [
      "Train: 1.0000| Val: 0.7560| Test: 0.7940| Eval Time: 0.0930s\n",
      "Epoch 18| Loss: 0.0522| Acc: 0.9929| Train Time: 0.0160s\n"
     ]
    },
    {
     "output_type": "stream",
     "name": "stderr",
     "text": [
      "Evaluating: 100%|██████████| 5416/5416 [00:00<00:00, 66048.96it/s]\n"
     ]
    },
    {
     "output_type": "stream",
     "name": "stdout",
     "text": [
      "Train: 1.0000| Val: 0.7580| Test: 0.7920| Eval Time: 0.0880s\n",
      "Epoch 19| Loss: 0.0453| Acc: 1.0000| Train Time: 0.0120s\n"
     ]
    },
    {
     "output_type": "stream",
     "name": "stderr",
     "text": [
      "Evaluating: 100%|██████████| 5416/5416 [00:00<00:00, 66050.88it/s]\n"
     ]
    },
    {
     "output_type": "stream",
     "name": "stdout",
     "text": [
      "Train: 1.0000| Val: 0.7600| Test: 0.7920| Eval Time: 0.0890s\n",
      "Epoch 20| Loss: 0.0291| Acc: 1.0000| Train Time: 0.0140s\n"
     ]
    },
    {
     "output_type": "stream",
     "name": "stderr",
     "text": [
      "Evaluating: 100%|██████████| 5416/5416 [00:00<00:00, 68559.03it/s]\n"
     ]
    },
    {
     "output_type": "stream",
     "name": "stdout",
     "text": [
      "Train: 1.0000| Val: 0.7640| Test: 0.7930| Eval Time: 0.0850s\n",
      "Epoch 21| Loss: 0.0364| Acc: 1.0000| Train Time: 0.0160s\n"
     ]
    },
    {
     "output_type": "stream",
     "name": "stderr",
     "text": [
      "Evaluating: 100%|██████████| 5416/5416 [00:00<00:00, 62231.46it/s]\n"
     ]
    },
    {
     "output_type": "stream",
     "name": "stdout",
     "text": [
      "Train: 1.0000| Val: 0.7600| Test: 0.7880| Eval Time: 0.0940s\n",
      "Epoch 22| Loss: 0.0140| Acc: 1.0000| Train Time: 0.0140s\n"
     ]
    },
    {
     "output_type": "stream",
     "name": "stderr",
     "text": [
      "Evaluating: 100%|██████████| 5416/5416 [00:00<00:00, 68559.86it/s]\n"
     ]
    },
    {
     "output_type": "stream",
     "name": "stdout",
     "text": [
      "Train: 1.0000| Val: 0.7620| Test: 0.7890| Eval Time: 0.0840s\n",
      "Epoch 23| Loss: 0.0253| Acc: 1.0000| Train Time: 0.0150s\n"
     ]
    },
    {
     "output_type": "stream",
     "name": "stderr",
     "text": [
      "Evaluating: 100%|██████████| 5416/5416 [00:00<00:00, 74195.22it/s]\n"
     ]
    },
    {
     "output_type": "stream",
     "name": "stdout",
     "text": [
      "Train: 1.0000| Val: 0.7640| Test: 0.7880| Eval Time: 0.0800s\n",
      "Epoch 24| Loss: 0.0280| Acc: 1.0000| Train Time: 0.0150s\n"
     ]
    },
    {
     "output_type": "stream",
     "name": "stderr",
     "text": [
      "Evaluating: 100%|██████████| 5416/5416 [00:00<00:00, 82063.00it/s]\n"
     ]
    },
    {
     "output_type": "stream",
     "name": "stdout",
     "text": [
      "Train: 1.0000| Val: 0.7620| Test: 0.7880| Eval Time: 0.0720s\n",
      "Epoch 25| Loss: 0.0237| Acc: 1.0000| Train Time: 0.0160s\n"
     ]
    },
    {
     "output_type": "stream",
     "name": "stderr",
     "text": [
      "Evaluating: 100%|██████████| 5416/5416 [00:00<00:00, 75191.07it/s]\n"
     ]
    },
    {
     "output_type": "stream",
     "name": "stdout",
     "text": [
      "Train: 1.0000| Val: 0.7600| Test: 0.7860| Eval Time: 0.0770s\n",
      "Epoch 26| Loss: 0.0111| Acc: 1.0000| Train Time: 0.0120s\n"
     ]
    },
    {
     "output_type": "stream",
     "name": "stderr",
     "text": [
      "Evaluating: 100%|██████████| 5416/5416 [00:00<00:00, 84627.04it/s]\n"
     ]
    },
    {
     "output_type": "stream",
     "name": "stdout",
     "text": [
      "Train: 1.0000| Val: 0.7560| Test: 0.7860| Eval Time: 0.0710s\n",
      "Epoch 27| Loss: 0.0171| Acc: 1.0000| Train Time: 0.0100s\n"
     ]
    },
    {
     "output_type": "stream",
     "name": "stderr",
     "text": [
      "Evaluating: 100%|██████████| 5416/5416 [00:00<00:00, 90267.83it/s]\n"
     ]
    },
    {
     "output_type": "stream",
     "name": "stdout",
     "text": [
      "Train: 1.0000| Val: 0.7580| Test: 0.7850| Eval Time: 0.0660s\n",
      "Epoch 28| Loss: 0.0133| Acc: 1.0000| Train Time: 0.0130s\n"
     ]
    },
    {
     "output_type": "stream",
     "name": "stderr",
     "text": [
      "Evaluating: 100%|██████████| 5416/5416 [00:00<00:00, 75222.94it/s]\n"
     ]
    },
    {
     "output_type": "stream",
     "name": "stdout",
     "text": [
      "Train: 1.0000| Val: 0.7540| Test: 0.7850| Eval Time: 0.0770s\n",
      "Epoch 29| Loss: 0.0077| Acc: 1.0000| Train Time: 0.0130s\n"
     ]
    },
    {
     "output_type": "stream",
     "name": "stderr",
     "text": [
      "Evaluating: 100%|██████████| 5416/5416 [00:00<00:00, 71262.51it/s]\n"
     ]
    },
    {
     "output_type": "stream",
     "name": "stdout",
     "text": [
      "Train: 1.0000| Val: 0.7520| Test: 0.7860| Eval Time: 0.0820s\n",
      "Epoch 30| Loss: 0.0225| Acc: 1.0000| Train Time: 0.0140s\n"
     ]
    },
    {
     "output_type": "stream",
     "name": "stderr",
     "text": [
      "Evaluating: 100%|██████████| 5416/5416 [00:00<00:00, 70339.28it/s]\n"
     ]
    },
    {
     "output_type": "stream",
     "name": "stdout",
     "text": [
      "Train: 1.0000| Val: 0.7500| Test: 0.7860| Eval Time: 0.0840s\n",
      "Epoch 31| Loss: 0.0239| Acc: 1.0000| Train Time: 0.0160s\n"
     ]
    },
    {
     "output_type": "stream",
     "name": "stderr",
     "text": [
      "Evaluating: 100%|██████████| 5416/5416 [00:00<00:00, 67701.68it/s]\n"
     ]
    },
    {
     "output_type": "stream",
     "name": "stdout",
     "text": [
      "Train: 1.0000| Val: 0.7500| Test: 0.7860| Eval Time: 0.0860s\n",
      "Epoch 32| Loss: 0.0051| Acc: 1.0000| Train Time: 0.0150s\n"
     ]
    },
    {
     "output_type": "stream",
     "name": "stderr",
     "text": [
      "Evaluating: 100%|██████████| 5416/5416 [00:00<00:00, 73299.36it/s]\n"
     ]
    },
    {
     "output_type": "stream",
     "name": "stdout",
     "text": [
      "Train: 1.0000| Val: 0.7500| Test: 0.7850| Eval Time: 0.0791s\n",
      "Epoch 33| Loss: 0.0065| Acc: 1.0000| Train Time: 0.0116s\n"
     ]
    },
    {
     "output_type": "stream",
     "name": "stderr",
     "text": [
      "Evaluating: 100%|██████████| 5416/5416 [00:00<00:00, 76299.01it/s]\n"
     ]
    },
    {
     "output_type": "stream",
     "name": "stdout",
     "text": [
      "Train: 1.0000| Val: 0.7500| Test: 0.7850| Eval Time: 0.0750s\n",
      "Epoch 34| Loss: 0.0141| Acc: 1.0000| Train Time: 0.0110s\n"
     ]
    },
    {
     "output_type": "stream",
     "name": "stderr",
     "text": [
      "Evaluating: 100%|██████████| 5416/5416 [00:00<00:00, 74192.80it/s]"
     ]
    },
    {
     "output_type": "stream",
     "name": "stdout",
     "text": [
      "Train: 1.0000| Val: 0.7480| Test: 0.7850| Eval Time: 0.0790s\n"
     ]
    },
    {
     "output_type": "stream",
     "name": "stderr",
     "text": [
      "\n"
     ]
    },
    {
     "output_type": "stream",
     "name": "stdout",
     "text": [
      "Epoch 35| Loss: 0.0126| Acc: 1.0000| Train Time: 0.0150s\n"
     ]
    },
    {
     "output_type": "stream",
     "name": "stderr",
     "text": [
      "Evaluating: 100%|██████████| 5416/5416 [00:00<00:00, 82061.22it/s]"
     ]
    },
    {
     "output_type": "stream",
     "name": "stdout",
     "text": [
      "Train: 1.0000| Val: 0.7460| Test: 0.7830| Eval Time: 0.0710s\n",
      "Epoch 36| Loss: 0.0084| Acc: 1.0000| Train Time: 0.0150s\n"
     ]
    },
    {
     "output_type": "stream",
     "name": "stderr",
     "text": [
      "\n",
      "Evaluating: 100%|██████████| 5416/5416 [00:00<00:00, 78490.31it/s]"
     ]
    },
    {
     "output_type": "stream",
     "name": "stdout",
     "text": [
      "Train: 1.0000| Val: 0.7460| Test: 0.7820| Eval Time: 0.0740s\n",
      "Epoch 37| Loss: 0.0113| Acc: 1.0000| Train Time: 0.0100s\n"
     ]
    },
    {
     "output_type": "stream",
     "name": "stderr",
     "text": [
      "\n",
      "Evaluating: 100%|██████████| 5416/5416 [00:00<00:00, 77387.32it/s]\n"
     ]
    },
    {
     "output_type": "stream",
     "name": "stdout",
     "text": [
      "Train: 1.0000| Val: 0.7420| Test: 0.7800| Eval Time: 0.0750s\n",
      "Epoch 38| Loss: 0.0132| Acc: 0.9929| Train Time: 0.0160s\n"
     ]
    },
    {
     "output_type": "stream",
     "name": "stderr",
     "text": [
      "Evaluating: 100%|██████████| 5416/5416 [00:00<00:00, 66864.52it/s]\n"
     ]
    },
    {
     "output_type": "stream",
     "name": "stdout",
     "text": [
      "Train: 1.0000| Val: 0.7400| Test: 0.7790| Eval Time: 0.0890s\n",
      "Epoch 39| Loss: 0.0062| Acc: 1.0000| Train Time: 0.0140s\n"
     ]
    },
    {
     "output_type": "stream",
     "name": "stderr",
     "text": [
      "Evaluating: 100%|██████████| 5416/5416 [00:00<00:00, 61545.75it/s]\n"
     ]
    },
    {
     "output_type": "stream",
     "name": "stdout",
     "text": [
      "Train: 1.0000| Val: 0.7400| Test: 0.7780| Eval Time: 0.0940s\n",
      "Epoch 40| Loss: 0.0096| Acc: 1.0000| Train Time: 0.0140s\n"
     ]
    },
    {
     "output_type": "stream",
     "name": "stderr",
     "text": [
      "Evaluating: 100%|██████████| 5416/5416 [00:00<00:00, 64475.56it/s]\n"
     ]
    },
    {
     "output_type": "stream",
     "name": "stdout",
     "text": [
      "Train: 1.0000| Val: 0.7400| Test: 0.7800| Eval Time: 0.0900s\n",
      "Epoch 41| Loss: 0.0114| Acc: 1.0000| Train Time: 0.0130s\n"
     ]
    },
    {
     "output_type": "stream",
     "name": "stderr",
     "text": [
      "Evaluating: 100%|██████████| 5416/5416 [00:00<00:00, 70339.93it/s]\n"
     ]
    },
    {
     "output_type": "stream",
     "name": "stdout",
     "text": [
      "Train: 1.0000| Val: 0.7440| Test: 0.7770| Eval Time: 0.0830s\n",
      "Epoch 42| Loss: 0.0073| Acc: 1.0000| Train Time: 0.0140s\n"
     ]
    },
    {
     "output_type": "stream",
     "name": "stderr",
     "text": [
      "Evaluating: 100%|██████████| 5416/5416 [00:00<00:00, 61524.58it/s]\n"
     ]
    },
    {
     "output_type": "stream",
     "name": "stdout",
     "text": [
      "Train: 1.0000| Val: 0.7400| Test: 0.7780| Eval Time: 0.0930s\n",
      "Epoch 43| Loss: 0.0088| Acc: 1.0000| Train Time: 0.0150s\n"
     ]
    },
    {
     "output_type": "stream",
     "name": "stderr",
     "text": [
      "Evaluating: 100%|██████████| 5416/5416 [00:00<00:00, 74191.59it/s]\n"
     ]
    },
    {
     "output_type": "stream",
     "name": "stdout",
     "text": [
      "Train: 1.0000| Val: 0.7420| Test: 0.7770| Eval Time: 0.0780s\n",
      "Epoch 44| Loss: 0.0053| Acc: 1.0000| Train Time: 0.0160s\n"
     ]
    },
    {
     "output_type": "stream",
     "name": "stderr",
     "text": [
      "Evaluating: 100%|██████████| 5416/5416 [00:00<00:00, 62263.87it/s]\n"
     ]
    },
    {
     "output_type": "stream",
     "name": "stdout",
     "text": [
      "Train: 1.0000| Val: 0.7420| Test: 0.7740| Eval Time: 0.0930s\n",
      "Epoch 45| Loss: 0.0040| Acc: 1.0000| Train Time: 0.0160s\n"
     ]
    },
    {
     "output_type": "stream",
     "name": "stderr",
     "text": [
      "Evaluating: 100%|██████████| 5416/5416 [00:00<00:00, 61545.91it/s]\n"
     ]
    },
    {
     "output_type": "stream",
     "name": "stdout",
     "text": [
      "Train: 1.0000| Val: 0.7420| Test: 0.7750| Eval Time: 0.0930s\n",
      "Epoch 46| Loss: 0.0077| Acc: 1.0000| Train Time: 0.0130s\n"
     ]
    },
    {
     "output_type": "stream",
     "name": "stderr",
     "text": [
      "Evaluating: 100%|██████████| 5416/5416 [00:00<00:00, 65250.43it/s]\n"
     ]
    },
    {
     "output_type": "stream",
     "name": "stdout",
     "text": [
      "Train: 1.0000| Val: 0.7400| Test: 0.7750| Eval Time: 0.0890s\n",
      "Epoch 47| Loss: 0.0040| Acc: 1.0000| Train Time: 0.0130s\n"
     ]
    },
    {
     "output_type": "stream",
     "name": "stderr",
     "text": [
      "Evaluating: 100%|██████████| 5416/5416 [00:00<00:00, 66049.15it/s]\n"
     ]
    },
    {
     "output_type": "stream",
     "name": "stdout",
     "text": [
      "Train: 1.0000| Val: 0.7380| Test: 0.7760| Eval Time: 0.0880s\n",
      "Epoch 48| Loss: 0.0048| Acc: 1.0000| Train Time: 0.0140s\n"
     ]
    },
    {
     "output_type": "stream",
     "name": "stderr",
     "text": [
      "Evaluating: 100%|██████████| 5416/5416 [00:00<00:00, 74193.77it/s]\n"
     ]
    },
    {
     "output_type": "stream",
     "name": "stdout",
     "text": [
      "Train: 1.0000| Val: 0.7380| Test: 0.7760| Eval Time: 0.0780s\n",
      "Epoch 49| Loss: 0.0026| Acc: 1.0000| Train Time: 0.0140s\n"
     ]
    },
    {
     "output_type": "stream",
     "name": "stderr",
     "text": [
      "Evaluating: 100%|██████████| 5416/5416 [00:00<00:00, 67699.46it/s]\n"
     ]
    },
    {
     "output_type": "stream",
     "name": "stdout",
     "text": [
      "Train: 1.0000| Val: 0.7360| Test: 0.7750| Eval Time: 0.0850s\n",
      "Epoch 50| Loss: 0.0125| Acc: 1.0000| Train Time: 0.0110s\n"
     ]
    },
    {
     "output_type": "stream",
     "name": "stderr",
     "text": [
      "Evaluating: 100%|██████████| 5416/5416 [00:00<00:00, 79650.60it/s]\n"
     ]
    },
    {
     "output_type": "stream",
     "name": "stdout",
     "text": [
      "Train: 1.0000| Val: 0.7360| Test: 0.7750| Eval Time: 0.0730s\n",
      "Epoch 51| Loss: 0.0062| Acc: 1.0000| Train Time: 0.0110s\n"
     ]
    },
    {
     "output_type": "stream",
     "name": "stderr",
     "text": [
      "Evaluating: 100%|██████████| 5416/5416 [00:00<00:00, 76281.33it/s]"
     ]
    },
    {
     "output_type": "stream",
     "name": "stdout",
     "text": [
      "Train: 1.0000| Val: 0.7360| Test: 0.7750| Eval Time: 0.0760s\n",
      "Epoch 52| Loss: 0.0045| Acc: 1.0000| Train Time: 0.0110s\n"
     ]
    },
    {
     "output_type": "stream",
     "name": "stderr",
     "text": [
      "\n",
      "Evaluating: 100%|██████████| 5416/5416 [00:00<00:00, 62975.72it/s]\n"
     ]
    },
    {
     "output_type": "stream",
     "name": "stdout",
     "text": [
      "Train: 1.0000| Val: 0.7360| Test: 0.7740| Eval Time: 0.0910s\n",
      "Epoch 53| Loss: 0.0031| Acc: 1.0000| Train Time: 0.0130s\n"
     ]
    },
    {
     "output_type": "stream",
     "name": "stderr",
     "text": [
      "Evaluating: 100%|██████████| 5416/5416 [00:00<00:00, 79536.26it/s]\n"
     ]
    },
    {
     "output_type": "stream",
     "name": "stdout",
     "text": [
      "Train: 1.0000| Val: 0.7340| Test: 0.7740| Eval Time: 0.0731s\n",
      "Epoch 54| Loss: 0.0095| Acc: 0.9929| Train Time: 0.0140s\n"
     ]
    },
    {
     "output_type": "stream",
     "name": "stderr",
     "text": [
      "Evaluating: 100%|██████████| 5416/5416 [00:00<00:00, 66864.12it/s]\n"
     ]
    },
    {
     "output_type": "stream",
     "name": "stdout",
     "text": [
      "Train: 1.0000| Val: 0.7320| Test: 0.7750| Eval Time: 0.0870s\n",
      "Epoch 55| Loss: 0.0020| Acc: 1.0000| Train Time: 0.0180s\n"
     ]
    },
    {
     "output_type": "stream",
     "name": "stderr",
     "text": [
      "Evaluating: 100%|██████████| 5416/5416 [00:00<00:00, 69828.14it/s]\n"
     ]
    },
    {
     "output_type": "stream",
     "name": "stdout",
     "text": [
      "Train: 1.0000| Val: 0.7360| Test: 0.7750| Eval Time: 0.0836s\n",
      "Epoch 56| Loss: 0.0038| Acc: 1.0000| Train Time: 0.0140s\n"
     ]
    },
    {
     "output_type": "stream",
     "name": "stderr",
     "text": [
      "Evaluating: 100%|██████████| 5416/5416 [00:00<00:00, 74193.52it/s]\n"
     ]
    },
    {
     "output_type": "stream",
     "name": "stdout",
     "text": [
      "Train: 1.0000| Val: 0.7400| Test: 0.7760| Eval Time: 0.0780s\n",
      "Epoch 57| Loss: 0.0036| Acc: 1.0000| Train Time: 0.0160s\n"
     ]
    },
    {
     "output_type": "stream",
     "name": "stderr",
     "text": [
      "Evaluating: 100%|██████████| 5416/5416 [00:00<00:00, 66050.50it/s]\n"
     ]
    },
    {
     "output_type": "stream",
     "name": "stdout",
     "text": [
      "Train: 1.0000| Val: 0.7360| Test: 0.7770| Eval Time: 0.0900s\n",
      "Epoch 58| Loss: 0.0038| Acc: 1.0000| Train Time: 0.0140s\n"
     ]
    },
    {
     "output_type": "stream",
     "name": "stderr",
     "text": [
      "Evaluating: 100%|██████████| 5416/5416 [00:00<00:00, 61546.41it/s]\n"
     ]
    },
    {
     "output_type": "stream",
     "name": "stdout",
     "text": [
      "Train: 1.0000| Val: 0.7340| Test: 0.7780| Eval Time: 0.0950s\n",
      "Epoch 59| Loss: 0.0025| Acc: 1.0000| Train Time: 0.0160s\n"
     ]
    },
    {
     "output_type": "stream",
     "name": "stderr",
     "text": [
      "Evaluating: 100%|██████████| 5416/5416 [00:00<00:00, 60854.92it/s]\n"
     ]
    },
    {
     "output_type": "stream",
     "name": "stdout",
     "text": [
      "Train: 1.0000| Val: 0.7320| Test: 0.7750| Eval Time: 0.0940s\n",
      "Epoch 60| Loss: 0.0035| Acc: 1.0000| Train Time: 0.0160s\n"
     ]
    },
    {
     "output_type": "stream",
     "name": "stderr",
     "text": [
      "Evaluating: 100%|██████████| 5416/5416 [00:00<00:00, 71263.85it/s]\n"
     ]
    },
    {
     "output_type": "stream",
     "name": "stdout",
     "text": [
      "Train: 1.0000| Val: 0.7340| Test: 0.7770| Eval Time: 0.0820s\n",
      "Epoch 61| Loss: 0.0034| Acc: 1.0000| Train Time: 0.0110s\n"
     ]
    },
    {
     "output_type": "stream",
     "name": "stderr",
     "text": [
      "Evaluating: 100%|██████████| 5416/5416 [00:00<00:00, 70337.75it/s]\n"
     ]
    },
    {
     "output_type": "stream",
     "name": "stdout",
     "text": [
      "Train: 1.0000| Val: 0.7360| Test: 0.7780| Eval Time: 0.0820s\n",
      "Epoch 62| Loss: 0.0030| Acc: 1.0000| Train Time: 0.0160s\n"
     ]
    },
    {
     "output_type": "stream",
     "name": "stderr",
     "text": [
      "Evaluating: 100%|██████████| 5416/5416 [00:00<00:00, 85970.26it/s]\n"
     ]
    },
    {
     "output_type": "stream",
     "name": "stdout",
     "text": [
      "Train: 1.0000| Val: 0.7400| Test: 0.7780| Eval Time: 0.0670s\n",
      "Epoch 63| Loss: 0.0023| Acc: 1.0000| Train Time: 0.0105s\n"
     ]
    },
    {
     "output_type": "stream",
     "name": "stderr",
     "text": [
      "Evaluating: 100%|██████████| 5416/5416 [00:00<00:00, 74192.55it/s]\n"
     ]
    },
    {
     "output_type": "stream",
     "name": "stdout",
     "text": [
      "Train: 1.0000| Val: 0.7400| Test: 0.7750| Eval Time: 0.0780s\n",
      "Epoch 64| Loss: 0.0024| Acc: 1.0000| Train Time: 0.0140s\n"
     ]
    },
    {
     "output_type": "stream",
     "name": "stderr",
     "text": [
      "Evaluating: 100%|██████████| 5416/5416 [00:00<00:00, 73189.07it/s]\n"
     ]
    },
    {
     "output_type": "stream",
     "name": "stdout",
     "text": [
      "Train: 1.0000| Val: 0.7400| Test: 0.7750| Eval Time: 0.0800s\n",
      "Epoch 65| Loss: 0.0040| Acc: 1.0000| Train Time: 0.0130s\n"
     ]
    },
    {
     "output_type": "stream",
     "name": "stderr",
     "text": [
      "Evaluating: 100%|██████████| 5416/5416 [00:00<00:00, 79650.04it/s]\n"
     ]
    },
    {
     "output_type": "stream",
     "name": "stdout",
     "text": [
      "Train: 1.0000| Val: 0.7400| Test: 0.7750| Eval Time: 0.0730s\n",
      "Epoch 66| Loss: 0.0066| Acc: 1.0000| Train Time: 0.0120s\n"
     ]
    },
    {
     "output_type": "stream",
     "name": "stderr",
     "text": [
      "Evaluating: 100%|██████████| 5416/5416 [00:00<00:00, 85969.28it/s]\n"
     ]
    },
    {
     "output_type": "stream",
     "name": "stdout",
     "text": [
      "Train: 1.0000| Val: 0.7400| Test: 0.7750| Eval Time: 0.0680s\n",
      "Epoch 67| Loss: 0.0048| Acc: 1.0000| Train Time: 0.0100s\n"
     ]
    },
    {
     "output_type": "stream",
     "name": "stderr",
     "text": [
      "Evaluating: 100%|██████████| 5416/5416 [00:00<00:00, 87358.15it/s]\n"
     ]
    },
    {
     "output_type": "stream",
     "name": "stdout",
     "text": [
      "Train: 1.0000| Val: 0.7400| Test: 0.7750| Eval Time: 0.0670s\n",
      "Epoch 68| Loss: 0.0058| Acc: 1.0000| Train Time: 0.0130s\n"
     ]
    },
    {
     "output_type": "stream",
     "name": "stderr",
     "text": [
      "Evaluating: 100%|██████████| 5416/5416 [00:00<00:00, 72215.12it/s]\n"
     ]
    },
    {
     "output_type": "stream",
     "name": "stdout",
     "text": [
      "Train: 1.0000| Val: 0.7400| Test: 0.7750| Eval Time: 0.0790s\n",
      "Epoch 69| Loss: 0.0038| Acc: 1.0000| Train Time: 0.0120s\n"
     ]
    },
    {
     "output_type": "stream",
     "name": "stderr",
     "text": [
      "Evaluating: 100%|██████████| 5416/5416 [00:00<00:00, 88793.67it/s]\n"
     ]
    },
    {
     "output_type": "stream",
     "name": "stdout",
     "text": [
      "Train: 1.0000| Val: 0.7420| Test: 0.7760| Eval Time: 0.0650s\n",
      "Epoch 70| Loss: 0.0033| Acc: 1.0000| Train Time: 0.0131s\n"
     ]
    },
    {
     "output_type": "stream",
     "name": "stderr",
     "text": [
      "Evaluating: 100%|██████████| 5416/5416 [00:00<00:00, 87290.34it/s]\n"
     ]
    },
    {
     "output_type": "stream",
     "name": "stdout",
     "text": [
      "Train: 1.0000| Val: 0.7440| Test: 0.7780| Eval Time: 0.0660s\n",
      "\n",
      "Result of  4. run| Train: 1.0000| Val: 0.7640| Test: 0.7930\n",
      "\n",
      "Run 05:\n"
     ]
    },
    {
     "output_type": "stream",
     "name": "stderr",
     "text": [
      "Epoch 01: 100%|██████████| 140/140 [00:00<00:00, 10768.83it/s]\n"
     ]
    },
    {
     "output_type": "stream",
     "name": "stdout",
     "text": [
      "Epoch 01| Loss: 1.9935| Acc: 0.1071| Train Time: 0.0160s\n"
     ]
    },
    {
     "output_type": "stream",
     "name": "stderr",
     "text": [
      "Evaluating: 100%|██████████| 5416/5416 [00:00<00:00, 77374.14it/s]\n"
     ]
    },
    {
     "output_type": "stream",
     "name": "stdout",
     "text": [
      "Train: 0.8071| Val: 0.5120| Test: 0.5140| Eval Time: 0.0760s\n",
      "Epoch 02| Loss: 1.5256| Acc: 0.6143| Train Time: 0.0130s\n"
     ]
    },
    {
     "output_type": "stream",
     "name": "stderr",
     "text": [
      "Evaluating: 100%|██████████| 5416/5416 [00:00<00:00, 88788.81it/s]\n"
     ]
    },
    {
     "output_type": "stream",
     "name": "stdout",
     "text": [
      "Train: 0.9500| Val: 0.7280| Test: 0.7370| Eval Time: 0.0660s\n",
      "Epoch 03| Loss: 1.0991| Acc: 0.8714| Train Time: 0.0110s\n"
     ]
    },
    {
     "output_type": "stream",
     "name": "stderr",
     "text": [
      "Evaluating: 100%|██████████| 5416/5416 [00:00<00:00, 84627.04it/s]\n"
     ]
    },
    {
     "output_type": "stream",
     "name": "stdout",
     "text": [
      "Train: 0.9929| Val: 0.7740| Test: 0.7730| Eval Time: 0.0700s\n",
      "Epoch 04| Loss: 0.8866| Acc: 0.9143| Train Time: 0.0120s\n"
     ]
    },
    {
     "output_type": "stream",
     "name": "stderr",
     "text": [
      "Evaluating: 100%|██████████| 5416/5416 [00:00<00:00, 91796.96it/s]\n"
     ]
    },
    {
     "output_type": "stream",
     "name": "stdout",
     "text": [
      "Train: 0.9857| Val: 0.7800| Test: 0.7820| Eval Time: 0.0640s\n",
      "Epoch 05| Loss: 0.6932| Acc: 0.9786| Train Time: 0.0110s\n"
     ]
    },
    {
     "output_type": "stream",
     "name": "stderr",
     "text": [
      "Evaluating: 100%|██████████| 5416/5416 [00:00<00:00, 84317.63it/s]\n"
     ]
    },
    {
     "output_type": "stream",
     "name": "stdout",
     "text": [
      "Train: 0.9857| Val: 0.7780| Test: 0.7820| Eval Time: 0.0692s\n",
      "Epoch 06| Loss: 0.4423| Acc: 0.9857| Train Time: 0.0120s\n"
     ]
    },
    {
     "output_type": "stream",
     "name": "stderr",
     "text": [
      "Evaluating: 100%|██████████| 5416/5416 [00:00<00:00, 88806.16it/s]\n"
     ]
    },
    {
     "output_type": "stream",
     "name": "stdout",
     "text": [
      "Train: 0.9857| Val: 0.7740| Test: 0.7750| Eval Time: 0.0660s\n",
      "Epoch 07| Loss: 0.4145| Acc: 0.9929| Train Time: 0.0130s\n"
     ]
    },
    {
     "output_type": "stream",
     "name": "stderr",
     "text": [
      "Evaluating: 100%|██████████| 5416/5416 [00:00<00:00, 84626.40it/s]\n"
     ]
    },
    {
     "output_type": "stream",
     "name": "stdout",
     "text": [
      "Train: 0.9857| Val: 0.7760| Test: 0.7810| Eval Time: 0.0680s\n",
      "Epoch 08| Loss: 0.2930| Acc: 0.9857| Train Time: 0.0120s\n"
     ]
    },
    {
     "output_type": "stream",
     "name": "stderr",
     "text": [
      "Evaluating: 100%|██████████| 5416/5416 [00:00<00:00, 91788.43it/s]\n"
     ]
    },
    {
     "output_type": "stream",
     "name": "stdout",
     "text": [
      "Train: 1.0000| Val: 0.7700| Test: 0.7810| Eval Time: 0.0640s\n",
      "Epoch 09| Loss: 0.2486| Acc: 0.9857| Train Time: 0.0120s\n"
     ]
    },
    {
     "output_type": "stream",
     "name": "stderr",
     "text": [
      "Evaluating: 100%|██████████| 5416/5416 [00:00<00:00, 73190.49it/s]\n"
     ]
    },
    {
     "output_type": "stream",
     "name": "stdout",
     "text": [
      "Train: 1.0000| Val: 0.7700| Test: 0.7840| Eval Time: 0.0800s\n",
      "Epoch 10| Loss: 0.2043| Acc: 0.9929| Train Time: 0.0120s\n"
     ]
    },
    {
     "output_type": "stream",
     "name": "stderr",
     "text": [
      "Evaluating: 100%|██████████| 5416/5416 [00:00<00:00, 83322.70it/s]"
     ]
    },
    {
     "output_type": "stream",
     "name": "stdout",
     "text": [
      "Train: 1.0000| Val: 0.7680| Test: 0.7880| Eval Time: 0.0700s\n"
     ]
    },
    {
     "output_type": "stream",
     "name": "stderr",
     "text": [
      "\n"
     ]
    },
    {
     "output_type": "stream",
     "name": "stdout",
     "text": [
      "Epoch 11| Loss: 0.1503| Acc: 0.9786| Train Time: 0.0150s\n"
     ]
    },
    {
     "output_type": "stream",
     "name": "stderr",
     "text": [
      "Evaluating: 100%|██████████| 5416/5416 [00:00<00:00, 76233.46it/s]"
     ]
    },
    {
     "output_type": "stream",
     "name": "stdout",
     "text": [
      "Train: 1.0000| Val: 0.7740| Test: 0.7910| Eval Time: 0.0750s\n"
     ]
    },
    {
     "output_type": "stream",
     "name": "stderr",
     "text": [
      "\n"
     ]
    },
    {
     "output_type": "stream",
     "name": "stdout",
     "text": [
      "Epoch 12| Loss: 0.1315| Acc: 1.0000| Train Time: 0.0120s\n"
     ]
    },
    {
     "output_type": "stream",
     "name": "stderr",
     "text": [
      "Evaluating: 100%|██████████| 5416/5416 [00:00<00:00, 75222.94it/s]\n"
     ]
    },
    {
     "output_type": "stream",
     "name": "stdout",
     "text": [
      "Train: 1.0000| Val: 0.7720| Test: 0.7930| Eval Time: 0.0770s\n",
      "Epoch 13| Loss: 0.1173| Acc: 1.0000| Train Time: 0.0120s\n"
     ]
    },
    {
     "output_type": "stream",
     "name": "stderr",
     "text": [
      "Evaluating: 100%|██████████| 5416/5416 [00:00<00:00, 87355.46it/s]\n"
     ]
    },
    {
     "output_type": "stream",
     "name": "stdout",
     "text": [
      "Train: 1.0000| Val: 0.7700| Test: 0.7980| Eval Time: 0.0660s\n",
      "Epoch 14| Loss: 0.1187| Acc: 0.9857| Train Time: 0.0130s\n"
     ]
    },
    {
     "output_type": "stream",
     "name": "stderr",
     "text": [
      "Evaluating: 100%|██████████| 5416/5416 [00:00<00:00, 80145.75it/s]\n"
     ]
    },
    {
     "output_type": "stream",
     "name": "stdout",
     "text": [
      "Train: 1.0000| Val: 0.7700| Test: 0.7970| Eval Time: 0.0746s\n",
      "Epoch 15| Loss: 0.0925| Acc: 1.0000| Train Time: 0.0200s\n"
     ]
    },
    {
     "output_type": "stream",
     "name": "stderr",
     "text": [
      "Evaluating: 100%|██████████| 5416/5416 [00:00<00:00, 67701.48it/s]\n"
     ]
    },
    {
     "output_type": "stream",
     "name": "stdout",
     "text": [
      "Train: 1.0000| Val: 0.7720| Test: 0.8000| Eval Time: 0.0850s\n",
      "Epoch 16| Loss: 0.1002| Acc: 0.9929| Train Time: 0.0120s\n"
     ]
    },
    {
     "output_type": "stream",
     "name": "stderr",
     "text": [
      "Evaluating: 100%|██████████| 5416/5416 [00:00<00:00, 83324.23it/s]\n"
     ]
    },
    {
     "output_type": "stream",
     "name": "stdout",
     "text": [
      "Train: 1.0000| Val: 0.7680| Test: 0.8010| Eval Time: 0.0700s\n",
      "Epoch 17| Loss: 0.0723| Acc: 1.0000| Train Time: 0.0150s\n"
     ]
    },
    {
     "output_type": "stream",
     "name": "stderr",
     "text": [
      "Evaluating: 100%|██████████| 5416/5416 [00:00<00:00, 76280.82it/s]\n"
     ]
    },
    {
     "output_type": "stream",
     "name": "stdout",
     "text": [
      "Train: 1.0000| Val: 0.7700| Test: 0.7990| Eval Time: 0.0760s\n",
      "Epoch 18| Loss: 0.0409| Acc: 1.0000| Train Time: 0.0130s\n"
     ]
    },
    {
     "output_type": "stream",
     "name": "stderr",
     "text": [
      "Evaluating: 100%|██████████| 5416/5416 [00:00<00:00, 72212.37it/s]\n"
     ]
    },
    {
     "output_type": "stream",
     "name": "stdout",
     "text": [
      "Train: 1.0000| Val: 0.7740| Test: 0.7980| Eval Time: 0.0800s\n",
      "Epoch 19| Loss: 0.0312| Acc: 1.0000| Train Time: 0.0130s\n"
     ]
    },
    {
     "output_type": "stream",
     "name": "stderr",
     "text": [
      "Evaluating: 100%|██████████| 5416/5416 [00:00<00:00, 84628.61it/s]"
     ]
    },
    {
     "output_type": "stream",
     "name": "stdout",
     "text": [
      "Train: 1.0000| Val: 0.7740| Test: 0.7960| Eval Time: 0.0690s\n",
      "Epoch 20| Loss: 0.0376| Acc: 1.0000| Train Time: 0.0110s\n"
     ]
    },
    {
     "output_type": "stream",
     "name": "stderr",
     "text": [
      "\n",
      "Evaluating: 100%|██████████| 5416/5416 [00:00<00:00, 66046.27it/s]\n"
     ]
    },
    {
     "output_type": "stream",
     "name": "stdout",
     "text": [
      "Train: 1.0000| Val: 0.7700| Test: 0.7920| Eval Time: 0.0860s\n",
      "Epoch 21| Loss: 0.0354| Acc: 1.0000| Train Time: 0.0120s\n"
     ]
    },
    {
     "output_type": "stream",
     "name": "stderr",
     "text": [
      "Evaluating: 100%|██████████| 5416/5416 [00:00<00:00, 75220.95it/s]\n"
     ]
    },
    {
     "output_type": "stream",
     "name": "stdout",
     "text": [
      "Train: 1.0000| Val: 0.7720| Test: 0.7900| Eval Time: 0.0790s\n",
      "Epoch 22| Loss: 0.0336| Acc: 1.0000| Train Time: 0.0150s\n"
     ]
    },
    {
     "output_type": "stream",
     "name": "stderr",
     "text": [
      "Evaluating: 100%|██████████| 5416/5416 [00:00<00:00, 80833.34it/s]"
     ]
    },
    {
     "output_type": "stream",
     "name": "stdout",
     "text": [
      "Train: 1.0000| Val: 0.7700| Test: 0.7890| Eval Time: 0.0740s\n",
      "Epoch 23| Loss: 0.0232| Acc: 1.0000| Train Time: 0.0140s\n"
     ]
    },
    {
     "output_type": "stream",
     "name": "stderr",
     "text": [
      "\n",
      "Evaluating: 100%|██████████| 5416/5416 [00:00<00:00, 73192.37it/s]"
     ]
    },
    {
     "output_type": "stream",
     "name": "stdout",
     "text": [
      "Train: 1.0000| Val: 0.7660| Test: 0.7870| Eval Time: 0.0800s\n"
     ]
    },
    {
     "output_type": "stream",
     "name": "stderr",
     "text": [
      "\n"
     ]
    },
    {
     "output_type": "stream",
     "name": "stdout",
     "text": [
      "Epoch 24| Loss: 0.0301| Acc: 1.0000| Train Time: 0.0150s\n"
     ]
    },
    {
     "output_type": "stream",
     "name": "stderr",
     "text": [
      "Evaluating: 100%|██████████| 5416/5416 [00:00<00:00, 82058.85it/s]"
     ]
    },
    {
     "output_type": "stream",
     "name": "stdout",
     "text": [
      "Train: 1.0000| Val: 0.7640| Test: 0.7840| Eval Time: 0.0720s\n",
      "Epoch 25| Loss: 0.0261| Acc: 1.0000| Train Time: 0.0120s\n"
     ]
    },
    {
     "output_type": "stream",
     "name": "stderr",
     "text": [
      "\n",
      "Evaluating: 100%|██████████| 5416/5416 [00:00<00:00, 68557.38it/s]"
     ]
    },
    {
     "output_type": "stream",
     "name": "stdout",
     "text": [
      "Train: 1.0000| Val: 0.7640| Test: 0.7830| Eval Time: 0.0850s\n"
     ]
    },
    {
     "output_type": "stream",
     "name": "stderr",
     "text": [
      "\n"
     ]
    },
    {
     "output_type": "stream",
     "name": "stdout",
     "text": [
      "Epoch 26| Loss: 0.0272| Acc: 1.0000| Train Time: 0.0160s\n"
     ]
    },
    {
     "output_type": "stream",
     "name": "stderr",
     "text": [
      "Evaluating: 100%|██████████| 5416/5416 [00:00<00:00, 70334.27it/s]\n"
     ]
    },
    {
     "output_type": "stream",
     "name": "stdout",
     "text": [
      "Train: 1.0000| Val: 0.7640| Test: 0.7810| Eval Time: 0.0840s\n",
      "Epoch 27| Loss: 0.0321| Acc: 1.0000| Train Time: 0.0130s\n"
     ]
    },
    {
     "output_type": "stream",
     "name": "stderr",
     "text": [
      "Evaluating: 100%|██████████| 5416/5416 [00:00<00:00, 73068.77it/s]\n"
     ]
    },
    {
     "output_type": "stream",
     "name": "stdout",
     "text": [
      "Train: 1.0000| Val: 0.7600| Test: 0.7790| Eval Time: 0.0791s\n",
      "Epoch 28| Loss: 0.0204| Acc: 1.0000| Train Time: 0.0130s\n"
     ]
    },
    {
     "output_type": "stream",
     "name": "stderr",
     "text": [
      "Evaluating: 100%|██████████| 5416/5416 [00:00<00:00, 82061.22it/s]\n"
     ]
    },
    {
     "output_type": "stream",
     "name": "stdout",
     "text": [
      "Train: 1.0000| Val: 0.7580| Test: 0.7770| Eval Time: 0.0720s\n",
      "Epoch 29| Loss: 0.0268| Acc: 0.9929| Train Time: 0.0150s\n"
     ]
    },
    {
     "output_type": "stream",
     "name": "stderr",
     "text": [
      "Evaluating: 100%|██████████| 5416/5416 [00:00<00:00, 77318.31it/s]\n"
     ]
    },
    {
     "output_type": "stream",
     "name": "stdout",
     "text": [
      "Train: 1.0000| Val: 0.7580| Test: 0.7770| Eval Time: 0.0740s\n",
      "Epoch 30| Loss: 0.0565| Acc: 0.9929| Train Time: 0.0120s\n"
     ]
    },
    {
     "output_type": "stream",
     "name": "stderr",
     "text": [
      "Evaluating: 100%|██████████| 5416/5416 [00:00<00:00, 74192.31it/s]\n"
     ]
    },
    {
     "output_type": "stream",
     "name": "stdout",
     "text": [
      "Train: 1.0000| Val: 0.7520| Test: 0.7790| Eval Time: 0.0790s\n",
      "Epoch 31| Loss: 0.0050| Acc: 1.0000| Train Time: 0.0140s\n"
     ]
    },
    {
     "output_type": "stream",
     "name": "stderr",
     "text": [
      "Evaluating: 100%|██████████| 5416/5416 [00:00<00:00, 82063.00it/s]\n"
     ]
    },
    {
     "output_type": "stream",
     "name": "stdout",
     "text": [
      "Train: 1.0000| Val: 0.7520| Test: 0.7780| Eval Time: 0.0710s\n",
      "Epoch 32| Loss: 0.0107| Acc: 1.0000| Train Time: 0.0110s\n"
     ]
    },
    {
     "output_type": "stream",
     "name": "stderr",
     "text": [
      "Evaluating: 100%|██████████| 5416/5416 [00:00<00:00, 73186.24it/s]\n"
     ]
    },
    {
     "output_type": "stream",
     "name": "stdout",
     "text": [
      "Train: 1.0000| Val: 0.7500| Test: 0.7780| Eval Time: 0.0800s\n",
      "Epoch 33| Loss: 0.0189| Acc: 1.0000| Train Time: 0.0160s\n"
     ]
    },
    {
     "output_type": "stream",
     "name": "stderr",
     "text": [
      "Evaluating: 100%|██████████| 5416/5416 [00:00<00:00, 70351.26it/s]\n"
     ]
    },
    {
     "output_type": "stream",
     "name": "stdout",
     "text": [
      "Train: 1.0000| Val: 0.7500| Test: 0.7750| Eval Time: 0.0820s\n",
      "Epoch 34| Loss: 0.0116| Acc: 1.0000| Train Time: 0.0140s\n"
     ]
    },
    {
     "output_type": "stream",
     "name": "stderr",
     "text": [
      "Evaluating: 100%|██████████| 5416/5416 [00:00<00:00, 79646.13it/s]\n"
     ]
    },
    {
     "output_type": "stream",
     "name": "stdout",
     "text": [
      "Train: 1.0000| Val: 0.7420| Test: 0.7730| Eval Time: 0.0730s\n",
      "Epoch 35| Loss: 0.0065| Acc: 1.0000| Train Time: 0.0110s\n"
     ]
    },
    {
     "output_type": "stream",
     "name": "stderr",
     "text": [
      "Evaluating: 100%|██████████| 5416/5416 [00:00<00:00, 65253.43it/s]\n"
     ]
    },
    {
     "output_type": "stream",
     "name": "stdout",
     "text": [
      "Train: 1.0000| Val: 0.7400| Test: 0.7720| Eval Time: 0.0880s\n",
      "Epoch 36| Loss: 0.0037| Acc: 1.0000| Train Time: 0.0110s\n"
     ]
    },
    {
     "output_type": "stream",
     "name": "stderr",
     "text": [
      "Evaluating: 100%|██████████| 5416/5416 [00:00<00:00, 82017.66it/s]\n"
     ]
    },
    {
     "output_type": "stream",
     "name": "stdout",
     "text": [
      "Train: 1.0000| Val: 0.7400| Test: 0.7700| Eval Time: 0.0710s\n",
      "Epoch 37| Loss: 0.0069| Acc: 1.0000| Train Time: 0.0100s\n"
     ]
    },
    {
     "output_type": "stream",
     "name": "stderr",
     "text": [
      "Evaluating: 100%|██████████| 5416/5416 [00:00<00:00, 90265.32it/s]\n"
     ]
    },
    {
     "output_type": "stream",
     "name": "stdout",
     "text": [
      "Train: 1.0000| Val: 0.7420| Test: 0.7650| Eval Time: 0.0630s\n",
      "Epoch 38| Loss: 0.0087| Acc: 1.0000| Train Time: 0.0120s\n"
     ]
    },
    {
     "output_type": "stream",
     "name": "stderr",
     "text": [
      "Evaluating: 100%|██████████| 5416/5416 [00:00<00:00, 68556.34it/s]\n"
     ]
    },
    {
     "output_type": "stream",
     "name": "stdout",
     "text": [
      "Train: 1.0000| Val: 0.7420| Test: 0.7670| Eval Time: 0.0850s\n",
      "Epoch 39| Loss: 0.0055| Acc: 1.0000| Train Time: 0.0160s\n"
     ]
    },
    {
     "output_type": "stream",
     "name": "stderr",
     "text": [
      "Evaluating: 100%|██████████| 5416/5416 [00:00<00:00, 87358.82it/s]\n"
     ]
    },
    {
     "output_type": "stream",
     "name": "stdout",
     "text": [
      "Train: 1.0000| Val: 0.7420| Test: 0.7640| Eval Time: 0.0680s\n",
      "Epoch 40| Loss: 0.0073| Acc: 1.0000| Train Time: 0.0150s\n"
     ]
    },
    {
     "output_type": "stream",
     "name": "stderr",
     "text": [
      "Evaluating: 100%|██████████| 5416/5416 [00:00<00:00, 74192.55it/s]"
     ]
    },
    {
     "output_type": "stream",
     "name": "stdout",
     "text": [
      "Train: 1.0000| Val: 0.7420| Test: 0.7630| Eval Time: 0.0770s\n",
      "Epoch 41| Loss: 0.0064| Acc: 1.0000| Train Time: 0.0125s\n"
     ]
    },
    {
     "output_type": "stream",
     "name": "stderr",
     "text": [
      "\n",
      "Evaluating: 100%|██████████| 5416/5416 [00:00<00:00, 87357.81it/s]\n"
     ]
    },
    {
     "output_type": "stream",
     "name": "stdout",
     "text": [
      "Train: 1.0000| Val: 0.7440| Test: 0.7650| Eval Time: 0.0680s\n",
      "Epoch 42| Loss: 0.0040| Acc: 1.0000| Train Time: 0.0100s\n"
     ]
    },
    {
     "output_type": "stream",
     "name": "stderr",
     "text": [
      "Evaluating: 100%|██████████| 5416/5416 [00:00<00:00, 87358.15it/s]\n"
     ]
    },
    {
     "output_type": "stream",
     "name": "stdout",
     "text": [
      "Train: 1.0000| Val: 0.7440| Test: 0.7680| Eval Time: 0.0670s\n",
      "Epoch 43| Loss: 0.0031| Acc: 1.0000| Train Time: 0.0100s\n"
     ]
    },
    {
     "output_type": "stream",
     "name": "stderr",
     "text": [
      "Evaluating: 100%|██████████| 5416/5416 [00:00<00:00, 66049.92it/s]\n"
     ]
    },
    {
     "output_type": "stream",
     "name": "stdout",
     "text": [
      "Train: 1.0000| Val: 0.7440| Test: 0.7680| Eval Time: 0.0880s\n",
      "Epoch 44| Loss: 0.0077| Acc: 1.0000| Train Time: 0.0100s\n"
     ]
    },
    {
     "output_type": "stream",
     "name": "stderr",
     "text": [
      "Evaluating: 100%|██████████| 5416/5416 [00:00<00:00, 88743.02it/s]\n"
     ]
    },
    {
     "output_type": "stream",
     "name": "stdout",
     "text": [
      "Train: 1.0000| Val: 0.7420| Test: 0.7680| Eval Time: 0.0660s\n",
      "Epoch 45| Loss: 0.0022| Acc: 1.0000| Train Time: 0.0140s\n"
     ]
    },
    {
     "output_type": "stream",
     "name": "stderr",
     "text": [
      "Evaluating: 100%|██████████| 5416/5416 [00:00<00:00, 58867.12it/s]\n"
     ]
    },
    {
     "output_type": "stream",
     "name": "stdout",
     "text": [
      "Train: 1.0000| Val: 0.7420| Test: 0.7680| Eval Time: 0.0990s\n",
      "Epoch 46| Loss: 0.0057| Acc: 1.0000| Train Time: 0.0160s\n"
     ]
    },
    {
     "output_type": "stream",
     "name": "stderr",
     "text": [
      "Evaluating: 100%|██████████| 5416/5416 [00:00<00:00, 66865.30it/s]\n"
     ]
    },
    {
     "output_type": "stream",
     "name": "stdout",
     "text": [
      "Train: 1.0000| Val: 0.7420| Test: 0.7690| Eval Time: 0.0870s\n",
      "Epoch 47| Loss: 0.0075| Acc: 1.0000| Train Time: 0.0120s\n"
     ]
    },
    {
     "output_type": "stream",
     "name": "stderr",
     "text": [
      "Evaluating: 100%|██████████| 5416/5416 [00:00<00:00, 62252.27it/s]\n"
     ]
    },
    {
     "output_type": "stream",
     "name": "stdout",
     "text": [
      "Train: 1.0000| Val: 0.7420| Test: 0.7700| Eval Time: 0.0940s\n",
      "Epoch 48| Loss: 0.0033| Acc: 1.0000| Train Time: 0.0140s\n"
     ]
    },
    {
     "output_type": "stream",
     "name": "stderr",
     "text": [
      "Evaluating: 100%|██████████| 5416/5416 [00:00<00:00, 58250.04it/s]\n"
     ]
    },
    {
     "output_type": "stream",
     "name": "stdout",
     "text": [
      "Train: 1.0000| Val: 0.7440| Test: 0.7700| Eval Time: 0.0990s\n",
      "Epoch 49| Loss: 0.0030| Acc: 1.0000| Train Time: 0.0160s\n"
     ]
    },
    {
     "output_type": "stream",
     "name": "stderr",
     "text": [
      "Evaluating: 100%|██████████| 5416/5416 [00:00<00:00, 58238.54it/s]\n"
     ]
    },
    {
     "output_type": "stream",
     "name": "stdout",
     "text": [
      "Train: 1.0000| Val: 0.7440| Test: 0.7710| Eval Time: 0.1000s\n",
      "Epoch 50| Loss: 0.0049| Acc: 1.0000| Train Time: 0.0150s\n"
     ]
    },
    {
     "output_type": "stream",
     "name": "stderr",
     "text": [
      "Evaluating: 100%|██████████| 5416/5416 [00:00<00:00, 60855.08it/s]\n"
     ]
    },
    {
     "output_type": "stream",
     "name": "stdout",
     "text": [
      "Train: 1.0000| Val: 0.7440| Test: 0.7710| Eval Time: 0.0940s\n",
      "Epoch 51| Loss: 0.0037| Acc: 1.0000| Train Time: 0.0150s\n"
     ]
    },
    {
     "output_type": "stream",
     "name": "stderr",
     "text": [
      "Evaluating: 100%|██████████| 5416/5416 [00:00<00:00, 61549.75it/s]\n"
     ]
    },
    {
     "output_type": "stream",
     "name": "stdout",
     "text": [
      "Train: 1.0000| Val: 0.7440| Test: 0.7710| Eval Time: 0.0960s\n",
      "Epoch 52| Loss: 0.0039| Acc: 1.0000| Train Time: 0.0170s\n"
     ]
    },
    {
     "output_type": "stream",
     "name": "stderr",
     "text": [
      "Evaluating: 100%|██████████| 5416/5416 [00:00<00:00, 60181.18it/s]\n"
     ]
    },
    {
     "output_type": "stream",
     "name": "stdout",
     "text": [
      "Train: 1.0000| Val: 0.7440| Test: 0.7710| Eval Time: 0.0970s\n",
      "Epoch 53| Loss: 0.0060| Acc: 1.0000| Train Time: 0.0210s\n"
     ]
    },
    {
     "output_type": "stream",
     "name": "stderr",
     "text": [
      "Evaluating: 100%|██████████| 5416/5416 [00:00<00:00, 54707.61it/s]\n"
     ]
    },
    {
     "output_type": "stream",
     "name": "stdout",
     "text": [
      "Train: 1.0000| Val: 0.7440| Test: 0.7690| Eval Time: 0.1060s\n",
      "Epoch 54| Loss: 0.0029| Acc: 1.0000| Train Time: 0.0160s\n"
     ]
    },
    {
     "output_type": "stream",
     "name": "stderr",
     "text": [
      "Evaluating: 100%|██████████| 5416/5416 [00:00<00:00, 50617.56it/s]\n",
      "c:\\Users\\doria\\Desktop\\ProseminarMA\\multiscale-softattention\\utils\\experimentor_base.py:228: UserWarning: To copy construct from a tensor, it is recommended to use sourceTensor.clone().detach() or sourceTensor.clone().detach().requires_grad_(True), rather than torch.tensor(sourceTensor).\n",
      "  run_eval_times = torch.tensor(run_train_times)\n"
     ]
    },
    {
     "output_type": "stream",
     "name": "stdout",
     "text": [
      "Train: 1.0000| Val: 0.7420| Test: 0.7720| Eval Time: 0.1130s\n",
      "\n",
      "Result of  5. run| Train: 0.9857| Val: 0.7800| Test: 0.7820\n",
      "\n",
      "Run 01:\n"
     ]
    },
    {
     "output_type": "stream",
     "name": "stderr",
     "text": [
      "Epoch 01: 100%|██████████| 140/140 [00:00<00:00, 2857.14it/s]\n"
     ]
    },
    {
     "output_type": "stream",
     "name": "stdout",
     "text": [
      "Epoch 01| Loss: 2.0157| Acc: 0.1143| Train Time: 0.0520s\n"
     ]
    },
    {
     "output_type": "stream",
     "name": "stderr",
     "text": [
      "Evaluating: 100%|██████████| 5416/5416 [00:00<00:00, 41030.68it/s]\n"
     ]
    },
    {
     "output_type": "stream",
     "name": "stdout",
     "text": [
      "Train: 0.9214| Val: 0.6300| Test: 0.6250| Eval Time: 0.1370s\n",
      "Epoch 02| Loss: 1.5631| Acc: 0.5929| Train Time: 0.0170s\n"
     ]
    },
    {
     "output_type": "stream",
     "name": "stderr",
     "text": [
      "Evaluating: 100%|██████████| 5416/5416 [00:00<00:00, 37474.90it/s]\n"
     ]
    },
    {
     "output_type": "stream",
     "name": "stdout",
     "text": [
      "Train: 0.9643| Val: 0.7280| Test: 0.7690| Eval Time: 0.1505s\n",
      "Epoch 03| Loss: 1.1582| Acc: 0.8357| Train Time: 0.0230s\n"
     ]
    },
    {
     "output_type": "stream",
     "name": "stderr",
     "text": [
      "Evaluating: 100%|██████████| 5416/5416 [00:00<00:00, 33639.65it/s]\n"
     ]
    },
    {
     "output_type": "stream",
     "name": "stdout",
     "text": [
      "Train: 0.9714| Val: 0.7360| Test: 0.7820| Eval Time: 0.1680s\n",
      "Epoch 04| Loss: 0.8999| Acc: 0.9214| Train Time: 0.0235s\n"
     ]
    },
    {
     "output_type": "stream",
     "name": "stderr",
     "text": [
      "Evaluating: 100%|██████████| 5416/5416 [00:00<00:00, 33850.23it/s]\n"
     ]
    },
    {
     "output_type": "stream",
     "name": "stdout",
     "text": [
      "Train: 0.9786| Val: 0.7660| Test: 0.8010| Eval Time: 0.1670s\n",
      "Epoch 05| Loss: 0.7613| Acc: 0.9214| Train Time: 0.0210s\n"
     ]
    },
    {
     "output_type": "stream",
     "name": "stderr",
     "text": [
      "Evaluating: 100%|██████████| 5416/5416 [00:00<00:00, 39247.59it/s]"
     ]
    },
    {
     "output_type": "stream",
     "name": "stdout",
     "text": [
      "Train: 0.9929| Val: 0.7660| Test: 0.7960| Eval Time: 0.1440s\n",
      "Epoch 06| Loss: 0.5593| Acc: 0.9714| Train Time: 0.0180s\n"
     ]
    },
    {
     "output_type": "stream",
     "name": "stderr",
     "text": [
      "\n",
      "Evaluating: 100%|██████████| 5416/5416 [00:00<00:00, 38963.78it/s]\n"
     ]
    },
    {
     "output_type": "stream",
     "name": "stdout",
     "text": [
      "Train: 0.9929| Val: 0.7660| Test: 0.8020| Eval Time: 0.1450s\n",
      "Epoch 07| Loss: 0.4676| Acc: 0.9714| Train Time: 0.0230s\n"
     ]
    },
    {
     "output_type": "stream",
     "name": "stderr",
     "text": [
      "Evaluating: 100%|██████████| 5416/5416 [00:00<00:00, 32024.76it/s]\n"
     ]
    },
    {
     "output_type": "stream",
     "name": "stdout",
     "text": [
      "Train: 0.9929| Val: 0.7640| Test: 0.7990| Eval Time: 0.1761s\n",
      "Epoch 08| Loss: 0.3520| Acc: 0.9929| Train Time: 0.0290s\n"
     ]
    },
    {
     "output_type": "stream",
     "name": "stderr",
     "text": [
      "Evaluating: 100%|██████████| 5416/5416 [00:00<00:00, 34945.06it/s]\n"
     ]
    },
    {
     "output_type": "stream",
     "name": "stdout",
     "text": [
      "Train: 1.0000| Val: 0.7740| Test: 0.8030| Eval Time: 0.1630s\n",
      "Epoch 09| Loss: 0.3280| Acc: 0.9786| Train Time: 0.0220s\n"
     ]
    },
    {
     "output_type": "stream",
     "name": "stderr",
     "text": [
      "Evaluating: 100%|██████████| 5416/5416 [00:00<00:00, 38538.21it/s]"
     ]
    },
    {
     "output_type": "stream",
     "name": "stdout",
     "text": [
      "Train: 1.0000| Val: 0.7760| Test: 0.8050| Eval Time: 0.1465s\n",
      "Epoch 10| Loss: 0.2031| Acc: 1.0000| Train Time: 0.0270s\n"
     ]
    },
    {
     "output_type": "stream",
     "name": "stderr",
     "text": [
      "\n",
      "Evaluating: 100%|██████████| 5416/5416 [00:00<00:00, 42645.72it/s]\n"
     ]
    },
    {
     "output_type": "stream",
     "name": "stdout",
     "text": [
      "Train: 1.0000| Val: 0.7820| Test: 0.8100| Eval Time: 0.1340s\n",
      "Epoch 11| Loss: 0.2058| Acc: 1.0000| Train Time: 0.0160s\n"
     ]
    },
    {
     "output_type": "stream",
     "name": "stderr",
     "text": [
      "Evaluating: 100%|██████████| 5416/5416 [00:00<00:00, 52583.41it/s]\n"
     ]
    },
    {
     "output_type": "stream",
     "name": "stdout",
     "text": [
      "Train: 1.0000| Val: 0.7800| Test: 0.8130| Eval Time: 0.1080s\n",
      "Epoch 12| Loss: 0.1509| Acc: 1.0000| Train Time: 0.0150s\n"
     ]
    },
    {
     "output_type": "stream",
     "name": "stderr",
     "text": [
      "Evaluating: 100%|██████████| 5416/5416 [00:00<00:00, 37872.32it/s]\n"
     ]
    },
    {
     "output_type": "stream",
     "name": "stdout",
     "text": [
      "Train: 1.0000| Val: 0.7840| Test: 0.8160| Eval Time: 0.1490s\n",
      "Epoch 13| Loss: 0.1533| Acc: 0.9929| Train Time: 0.0190s\n"
     ]
    },
    {
     "output_type": "stream",
     "name": "stderr",
     "text": [
      "Evaluating: 100%|██████████| 5416/5416 [00:00<00:00, 39246.10it/s]"
     ]
    },
    {
     "output_type": "stream",
     "name": "stdout",
     "text": [
      "Train: 1.0000| Val: 0.7840| Test: 0.8190| Eval Time: 0.1440s\n",
      "Epoch 14| Loss: 0.1320| Acc: 0.9929| Train Time: 0.0210s\n"
     ]
    },
    {
     "output_type": "stream",
     "name": "stderr",
     "text": [
      "\n",
      "Evaluating: 100%|██████████| 5416/5416 [00:00<00:00, 39246.17it/s]\n"
     ]
    },
    {
     "output_type": "stream",
     "name": "stdout",
     "text": [
      "Train: 1.0000| Val: 0.7860| Test: 0.8220| Eval Time: 0.1440s\n",
      "Epoch 15| Loss: 0.1199| Acc: 0.9857| Train Time: 0.0170s\n"
     ]
    },
    {
     "output_type": "stream",
     "name": "stderr",
     "text": [
      "Evaluating: 100%|██████████| 5416/5416 [00:00<00:00, 58869.10it/s]\n"
     ]
    },
    {
     "output_type": "stream",
     "name": "stdout",
     "text": [
      "Train: 1.0000| Val: 0.7800| Test: 0.8210| Eval Time: 0.0970s\n",
      "Epoch 16| Loss: 0.0625| Acc: 1.0000| Train Time: 0.0150s\n"
     ]
    },
    {
     "output_type": "stream",
     "name": "stderr",
     "text": [
      "Evaluating: 100%|██████████| 5416/5416 [00:00<00:00, 48357.97it/s]\n"
     ]
    },
    {
     "output_type": "stream",
     "name": "stdout",
     "text": [
      "Train: 1.0000| Val: 0.7800| Test: 0.8230| Eval Time: 0.1170s\n",
      "Epoch 17| Loss: 0.0544| Acc: 1.0000| Train Time: 0.0180s\n"
     ]
    },
    {
     "output_type": "stream",
     "name": "stderr",
     "text": [
      "Evaluating: 100%|██████████| 5416/5416 [00:00<00:00, 45897.64it/s]\n"
     ]
    },
    {
     "output_type": "stream",
     "name": "stdout",
     "text": [
      "Train: 1.0000| Val: 0.7760| Test: 0.8230| Eval Time: 0.1230s\n",
      "Epoch 18| Loss: 0.0680| Acc: 1.0000| Train Time: 0.0150s\n"
     ]
    },
    {
     "output_type": "stream",
     "name": "stderr",
     "text": [
      "Evaluating: 100%|██████████| 5416/5416 [00:00<00:00, 48561.93it/s]\n"
     ]
    },
    {
     "output_type": "stream",
     "name": "stdout",
     "text": [
      "Train: 1.0000| Val: 0.7780| Test: 0.8250| Eval Time: 0.1165s\n",
      "Epoch 19| Loss: 0.0678| Acc: 0.9929| Train Time: 0.0160s\n"
     ]
    },
    {
     "output_type": "stream",
     "name": "stderr",
     "text": [
      "Evaluating: 100%|██████████| 5416/5416 [00:00<00:00, 55844.04it/s]\n"
     ]
    },
    {
     "output_type": "stream",
     "name": "stdout",
     "text": [
      "Train: 1.0000| Val: 0.7740| Test: 0.8250| Eval Time: 0.1030s\n",
      "Epoch 20| Loss: 0.1843| Acc: 0.9929| Train Time: 0.0190s\n"
     ]
    },
    {
     "output_type": "stream",
     "name": "stderr",
     "text": [
      "Evaluating: 100%|██████████| 5416/5416 [00:00<00:00, 51578.83it/s]\n"
     ]
    },
    {
     "output_type": "stream",
     "name": "stdout",
     "text": [
      "Train: 1.0000| Val: 0.7820| Test: 0.8250| Eval Time: 0.1100s\n",
      "Epoch 21| Loss: 0.1105| Acc: 0.9929| Train Time: 0.0140s\n"
     ]
    },
    {
     "output_type": "stream",
     "name": "stderr",
     "text": [
      "Evaluating: 100%|██████████| 5416/5416 [00:00<00:00, 44725.94it/s]\n"
     ]
    },
    {
     "output_type": "stream",
     "name": "stdout",
     "text": [
      "Train: 1.0000| Val: 0.7820| Test: 0.8220| Eval Time: 0.1261s\n",
      "Epoch 22| Loss: 0.0304| Acc: 1.0000| Train Time: 0.0160s\n"
     ]
    },
    {
     "output_type": "stream",
     "name": "stderr",
     "text": [
      "Evaluating: 100%|██████████| 5416/5416 [00:00<00:00, 46856.77it/s]\n"
     ]
    },
    {
     "output_type": "stream",
     "name": "stdout",
     "text": [
      "Train: 1.0000| Val: 0.7800| Test: 0.8190| Eval Time: 0.1206s\n",
      "Epoch 23| Loss: 0.0176| Acc: 1.0000| Train Time: 0.0180s\n"
     ]
    },
    {
     "output_type": "stream",
     "name": "stderr",
     "text": [
      "Evaluating: 100%|██████████| 5416/5416 [00:00<00:00, 47485.40it/s]\n"
     ]
    },
    {
     "output_type": "stream",
     "name": "stdout",
     "text": [
      "Train: 1.0000| Val: 0.7840| Test: 0.8180| Eval Time: 0.1181s\n",
      "Epoch 24| Loss: 0.0289| Acc: 1.0000| Train Time: 0.0190s\n"
     ]
    },
    {
     "output_type": "stream",
     "name": "stderr",
     "text": [
      "Evaluating: 100%|██████████| 5416/5416 [00:00<00:00, 44760.75it/s]\n"
     ]
    },
    {
     "output_type": "stream",
     "name": "stdout",
     "text": [
      "Train: 1.0000| Val: 0.7740| Test: 0.8180| Eval Time: 0.1260s\n",
      "Epoch 25| Loss: 0.0164| Acc: 1.0000| Train Time: 0.0190s\n"
     ]
    },
    {
     "output_type": "stream",
     "name": "stderr",
     "text": [
      "Evaluating: 100%|██████████| 5416/5416 [00:00<00:00, 47930.05it/s]\n"
     ]
    },
    {
     "output_type": "stream",
     "name": "stdout",
     "text": [
      "Train: 1.0000| Val: 0.7740| Test: 0.8180| Eval Time: 0.1180s\n",
      "Epoch 26| Loss: 0.0119| Acc: 1.0000| Train Time: 0.0170s\n"
     ]
    },
    {
     "output_type": "stream",
     "name": "stderr",
     "text": [
      "Evaluating: 100%|██████████| 5416/5416 [00:00<00:00, 45511.98it/s]\n"
     ]
    },
    {
     "output_type": "stream",
     "name": "stdout",
     "text": [
      "Train: 1.0000| Val: 0.7740| Test: 0.8190| Eval Time: 0.1260s\n",
      "Epoch 27| Loss: 0.0285| Acc: 1.0000| Train Time: 0.0140s\n"
     ]
    },
    {
     "output_type": "stream",
     "name": "stderr",
     "text": [
      "Evaluating: 100%|██████████| 5416/5416 [00:00<00:00, 49235.66it/s]\n"
     ]
    },
    {
     "output_type": "stream",
     "name": "stdout",
     "text": [
      "Train: 1.0000| Val: 0.7760| Test: 0.8200| Eval Time: 0.1150s\n",
      "Epoch 28| Loss: 0.0252| Acc: 0.9929| Train Time: 0.0240s\n"
     ]
    },
    {
     "output_type": "stream",
     "name": "stderr",
     "text": [
      "Evaluating: 100%|██████████| 5416/5416 [00:00<00:00, 48331.63it/s]\n"
     ]
    },
    {
     "output_type": "stream",
     "name": "stdout",
     "text": [
      "Train: 1.0000| Val: 0.7720| Test: 0.8180| Eval Time: 0.1181s\n",
      "Epoch 29| Loss: 0.0204| Acc: 1.0000| Train Time: 0.0140s\n"
     ]
    },
    {
     "output_type": "stream",
     "name": "stderr",
     "text": [
      "Evaluating: 100%|██████████| 5416/5416 [00:00<00:00, 48793.71it/s]\n"
     ]
    },
    {
     "output_type": "stream",
     "name": "stdout",
     "text": [
      "Train: 1.0000| Val: 0.7720| Test: 0.8160| Eval Time: 0.1160s\n",
      "Epoch 30| Loss: 0.0274| Acc: 0.9929| Train Time: 0.0150s\n"
     ]
    },
    {
     "output_type": "stream",
     "name": "stderr",
     "text": [
      "Evaluating: 100%|██████████| 5416/5416 [00:00<00:00, 53098.41it/s]\n"
     ]
    },
    {
     "output_type": "stream",
     "name": "stdout",
     "text": [
      "Train: 1.0000| Val: 0.7680| Test: 0.8160| Eval Time: 0.1070s\n",
      "Epoch 31| Loss: 0.0084| Acc: 1.0000| Train Time: 0.0190s\n"
     ]
    },
    {
     "output_type": "stream",
     "name": "stderr",
     "text": [
      "Evaluating: 100%|██████████| 5416/5416 [00:00<00:00, 50148.90it/s]\n"
     ]
    },
    {
     "output_type": "stream",
     "name": "stdout",
     "text": [
      "Train: 1.0000| Val: 0.7680| Test: 0.8220| Eval Time: 0.1130s\n",
      "Epoch 32| Loss: 0.0113| Acc: 1.0000| Train Time: 0.0140s\n"
     ]
    },
    {
     "output_type": "stream",
     "name": "stderr",
     "text": [
      "Evaluating: 100%|██████████| 5416/5416 [00:00<00:00, 57618.13it/s]\n"
     ]
    },
    {
     "output_type": "stream",
     "name": "stdout",
     "text": [
      "Train: 1.0000| Val: 0.7740| Test: 0.8220| Eval Time: 0.0990s\n",
      "Epoch 33| Loss: 0.0204| Acc: 1.0000| Train Time: 0.0150s\n"
     ]
    },
    {
     "output_type": "stream",
     "name": "stderr",
     "text": [
      "Evaluating: 100%|██████████| 5416/5416 [00:00<00:00, 55835.12it/s]\n"
     ]
    },
    {
     "output_type": "stream",
     "name": "stdout",
     "text": [
      "Train: 1.0000| Val: 0.7720| Test: 0.8210| Eval Time: 0.1020s\n",
      "Epoch 34| Loss: 0.0170| Acc: 1.0000| Train Time: 0.0140s\n"
     ]
    },
    {
     "output_type": "stream",
     "name": "stderr",
     "text": [
      "Evaluating: 100%|██████████| 5416/5416 [00:00<00:00, 57617.84it/s]\n"
     ]
    },
    {
     "output_type": "stream",
     "name": "stdout",
     "text": [
      "Train: 1.0000| Val: 0.7660| Test: 0.8190| Eval Time: 0.1000s\n",
      "Epoch 35| Loss: 0.0181| Acc: 0.9929| Train Time: 0.0180s\n"
     ]
    },
    {
     "output_type": "stream",
     "name": "stderr",
     "text": [
      "Evaluating: 100%|██████████| 5416/5416 [00:00<00:00, 53624.23it/s]\n"
     ]
    },
    {
     "output_type": "stream",
     "name": "stdout",
     "text": [
      "Train: 1.0000| Val: 0.7660| Test: 0.8170| Eval Time: 0.1050s\n",
      "Epoch 36| Loss: 0.0079| Acc: 1.0000| Train Time: 0.0200s\n"
     ]
    },
    {
     "output_type": "stream",
     "name": "stderr",
     "text": [
      "Evaluating: 100%|██████████| 5416/5416 [00:00<00:00, 47847.47it/s]\n"
     ]
    },
    {
     "output_type": "stream",
     "name": "stdout",
     "text": [
      "Train: 1.0000| Val: 0.7660| Test: 0.8180| Eval Time: 0.1182s\n",
      "Epoch 37| Loss: 0.0125| Acc: 1.0000| Train Time: 0.0130s\n"
     ]
    },
    {
     "output_type": "stream",
     "name": "stderr",
     "text": [
      "Evaluating: 100%|██████████| 5416/5416 [00:00<00:00, 54160.31it/s]\n"
     ]
    },
    {
     "output_type": "stream",
     "name": "stdout",
     "text": [
      "Train: 1.0000| Val: 0.7660| Test: 0.8150| Eval Time: 0.1040s\n",
      "Epoch 38| Loss: 0.0079| Acc: 1.0000| Train Time: 0.0170s\n"
     ]
    },
    {
     "output_type": "stream",
     "name": "stderr",
     "text": [
      "Evaluating: 100%|██████████| 5416/5416 [00:00<00:00, 38400.88it/s]\n"
     ]
    },
    {
     "output_type": "stream",
     "name": "stdout",
     "text": [
      "Train: 1.0000| Val: 0.7660| Test: 0.8160| Eval Time: 0.1470s\n",
      "Epoch 39| Loss: 0.0171| Acc: 0.9929| Train Time: 0.0210s\n"
     ]
    },
    {
     "output_type": "stream",
     "name": "stderr",
     "text": [
      "Evaluating: 100%|██████████| 5416/5416 [00:00<00:00, 39823.76it/s]\n"
     ]
    },
    {
     "output_type": "stream",
     "name": "stdout",
     "text": [
      "Train: 1.0000| Val: 0.7660| Test: 0.8160| Eval Time: 0.1420s\n",
      "Epoch 40| Loss: 0.0140| Acc: 1.0000| Train Time: 0.0210s\n"
     ]
    },
    {
     "output_type": "stream",
     "name": "stderr",
     "text": [
      "Evaluating: 100%|██████████| 5416/5416 [00:00<00:00, 38412.31it/s]\n"
     ]
    },
    {
     "output_type": "stream",
     "name": "stdout",
     "text": [
      "Train: 1.0000| Val: 0.7640| Test: 0.8150| Eval Time: 0.1480s\n",
      "Epoch 41| Loss: 0.0117| Acc: 1.0000| Train Time: 0.0190s\n"
     ]
    },
    {
     "output_type": "stream",
     "name": "stderr",
     "text": [
      "Evaluating: 100%|██████████| 5416/5416 [00:00<00:00, 41344.18it/s]\n"
     ]
    },
    {
     "output_type": "stream",
     "name": "stdout",
     "text": [
      "Train: 1.0000| Val: 0.7620| Test: 0.8130| Eval Time: 0.1370s\n",
      "Epoch 42| Loss: 0.0039| Acc: 1.0000| Train Time: 0.0180s\n"
     ]
    },
    {
     "output_type": "stream",
     "name": "stderr",
     "text": [
      "Evaluating: 100%|██████████| 5416/5416 [00:00<00:00, 49907.51it/s]\n"
     ]
    },
    {
     "output_type": "stream",
     "name": "stdout",
     "text": [
      "Train: 1.0000| Val: 0.7640| Test: 0.8110| Eval Time: 0.1135s\n",
      "Epoch 43| Loss: 0.0110| Acc: 1.0000| Train Time: 0.0150s\n"
     ]
    },
    {
     "output_type": "stream",
     "name": "stderr",
     "text": [
      "Evaluating: 100%|██████████| 5416/5416 [00:00<00:00, 34941.78it/s]"
     ]
    },
    {
     "output_type": "stream",
     "name": "stdout",
     "text": [
      "Train: 1.0000| Val: 0.7640| Test: 0.8080| Eval Time: 0.1620s\n",
      "Epoch 44| Loss: 0.0053| Acc: 1.0000| Train Time: 0.0230s\n"
     ]
    },
    {
     "output_type": "stream",
     "name": "stderr",
     "text": [
      "\n",
      "Evaluating: 100%|██████████| 5416/5416 [00:00<00:00, 34278.90it/s]\n"
     ]
    },
    {
     "output_type": "stream",
     "name": "stdout",
     "text": [
      "Train: 1.0000| Val: 0.7660| Test: 0.8070| Eval Time: 0.1660s\n",
      "Epoch 45| Loss: 0.0027| Acc: 1.0000| Train Time: 0.0170s\n"
     ]
    },
    {
     "output_type": "stream",
     "name": "stderr",
     "text": [
      "Evaluating: 100%|██████████| 5416/5416 [00:00<00:00, 50618.24it/s]\n"
     ]
    },
    {
     "output_type": "stream",
     "name": "stdout",
     "text": [
      "Train: 1.0000| Val: 0.7660| Test: 0.8080| Eval Time: 0.1130s\n",
      "Epoch 46| Loss: 0.0050| Acc: 1.0000| Train Time: 0.0140s\n"
     ]
    },
    {
     "output_type": "stream",
     "name": "stderr",
     "text": [
      "Evaluating: 100%|██████████| 5416/5416 [00:00<00:00, 44760.58it/s]\n"
     ]
    },
    {
     "output_type": "stream",
     "name": "stdout",
     "text": [
      "Train: 1.0000| Val: 0.7660| Test: 0.8080| Eval Time: 0.1260s\n",
      "Epoch 47| Loss: 0.0036| Acc: 1.0000| Train Time: 0.0170s\n"
     ]
    },
    {
     "output_type": "stream",
     "name": "stderr",
     "text": [
      "Evaluating: 100%|██████████| 5416/5416 [00:00<00:00, 47509.63it/s]\n"
     ]
    },
    {
     "output_type": "stream",
     "name": "stdout",
     "text": [
      "Train: 1.0000| Val: 0.7640| Test: 0.8080| Eval Time: 0.1200s\n",
      "Epoch 48| Loss: 0.0051| Acc: 1.0000| Train Time: 0.0160s\n"
     ]
    },
    {
     "output_type": "stream",
     "name": "stderr",
     "text": [
      "Evaluating: 100%|██████████| 5416/5416 [00:00<00:00, 47929.44it/s]\n"
     ]
    },
    {
     "output_type": "stream",
     "name": "stdout",
     "text": [
      "Train: 1.0000| Val: 0.7620| Test: 0.8110| Eval Time: 0.1190s\n",
      "Epoch 49| Loss: 0.0075| Acc: 1.0000| Train Time: 0.0150s\n"
     ]
    },
    {
     "output_type": "stream",
     "name": "stderr",
     "text": [
      "Evaluating: 100%|██████████| 5416/5416 [00:00<00:00, 42273.20it/s]\n"
     ]
    },
    {
     "output_type": "stream",
     "name": "stdout",
     "text": [
      "Train: 1.0000| Val: 0.7640| Test: 0.8090| Eval Time: 0.1341s\n",
      "Epoch 50| Loss: 0.0025| Acc: 1.0000| Train Time: 0.0190s\n"
     ]
    },
    {
     "output_type": "stream",
     "name": "stderr",
     "text": [
      "Evaluating: 100%|██████████| 5416/5416 [00:00<00:00, 39246.64it/s]\n"
     ]
    },
    {
     "output_type": "stream",
     "name": "stdout",
     "text": [
      "Train: 1.0000| Val: 0.7640| Test: 0.8100| Eval Time: 0.1450s\n",
      "Epoch 51| Loss: 0.0071| Acc: 1.0000| Train Time: 0.0220s\n"
     ]
    },
    {
     "output_type": "stream",
     "name": "stderr",
     "text": [
      "Evaluating: 100%|██████████| 5416/5416 [00:00<00:00, 35732.08it/s]\n"
     ]
    },
    {
     "output_type": "stream",
     "name": "stdout",
     "text": [
      "Train: 1.0000| Val: 0.7620| Test: 0.8110| Eval Time: 0.1576s\n",
      "Epoch 52| Loss: 0.0053| Acc: 1.0000| Train Time: 0.0240s\n"
     ]
    },
    {
     "output_type": "stream",
     "name": "stderr",
     "text": [
      "Evaluating: 100%|██████████| 5416/5416 [00:00<00:00, 41343.50it/s]"
     ]
    },
    {
     "output_type": "stream",
     "name": "stdout",
     "text": [
      "Train: 1.0000| Val: 0.7620| Test: 0.8110| Eval Time: 0.1380s\n",
      "Epoch 53| Loss: 0.0043| Acc: 1.0000| Train Time: 0.0210s\n"
     ]
    },
    {
     "output_type": "stream",
     "name": "stderr",
     "text": [
      "\n",
      "Evaluating: 100%|██████████| 5416/5416 [00:00<00:00, 45884.94it/s]\n"
     ]
    },
    {
     "output_type": "stream",
     "name": "stdout",
     "text": [
      "Train: 1.0000| Val: 0.7620| Test: 0.8100| Eval Time: 0.1240s\n",
      "Epoch 54| Loss: 0.0048| Acc: 1.0000| Train Time: 0.0180s\n"
     ]
    },
    {
     "output_type": "stream",
     "name": "stderr",
     "text": [
      "Evaluating: 100%|██████████| 5416/5416 [00:00<00:00, 48794.13it/s]\n"
     ]
    },
    {
     "output_type": "stream",
     "name": "stdout",
     "text": [
      "Train: 1.0000| Val: 0.7600| Test: 0.8090| Eval Time: 0.1170s\n",
      "Epoch 55| Loss: 0.0044| Acc: 1.0000| Train Time: 0.0170s\n"
     ]
    },
    {
     "output_type": "stream",
     "name": "stderr",
     "text": [
      "Evaluating: 100%|██████████| 5416/5416 [00:00<00:00, 42645.72it/s]\n"
     ]
    },
    {
     "output_type": "stream",
     "name": "stdout",
     "text": [
      "Train: 1.0000| Val: 0.7600| Test: 0.8080| Eval Time: 0.1330s\n",
      "Epoch 56| Loss: 0.0063| Acc: 1.0000| Train Time: 0.0160s\n"
     ]
    },
    {
     "output_type": "stream",
     "name": "stderr",
     "text": [
      "Evaluating: 100%|██████████| 5416/5416 [00:00<00:00, 46075.83it/s]\n"
     ]
    },
    {
     "output_type": "stream",
     "name": "stdout",
     "text": [
      "Train: 1.0000| Val: 0.7620| Test: 0.8080| Eval Time: 0.1235s\n",
      "Epoch 57| Loss: 0.0048| Acc: 1.0000| Train Time: 0.0190s\n"
     ]
    },
    {
     "output_type": "stream",
     "name": "stderr",
     "text": [
      "Evaluating: 100%|██████████| 5416/5416 [00:00<00:00, 36317.69it/s]"
     ]
    },
    {
     "output_type": "stream",
     "name": "stdout",
     "text": [
      "Train: 1.0000| Val: 0.7620| Test: 0.8080| Eval Time: 0.1551s\n",
      "Epoch 58| Loss: 0.0047| Acc: 1.0000| Train Time: 0.0260s\n"
     ]
    },
    {
     "output_type": "stream",
     "name": "stderr",
     "text": [
      "\n",
      "Evaluating: 100%|██████████| 5416/5416 [00:00<00:00, 34718.50it/s]\n"
     ]
    },
    {
     "output_type": "stream",
     "name": "stdout",
     "text": [
      "Train: 1.0000| Val: 0.7620| Test: 0.8080| Eval Time: 0.1640s\n",
      "Epoch 59| Loss: 0.0037| Acc: 1.0000| Train Time: 0.0250s\n"
     ]
    },
    {
     "output_type": "stream",
     "name": "stderr",
     "text": [
      "Evaluating: 100%|██████████| 5416/5416 [00:00<00:00, 30256.76it/s]\n"
     ]
    },
    {
     "output_type": "stream",
     "name": "stdout",
     "text": [
      "Train: 1.0000| Val: 0.7620| Test: 0.8070| Eval Time: 0.1860s\n",
      "Epoch 60| Loss: 0.0126| Acc: 1.0000| Train Time: 0.0310s\n"
     ]
    },
    {
     "output_type": "stream",
     "name": "stderr",
     "text": [
      "Evaluating: 100%|██████████| 5416/5416 [00:00<00:00, 35983.05it/s]\n"
     ]
    },
    {
     "output_type": "stream",
     "name": "stdout",
     "text": [
      "Train: 1.0000| Val: 0.7560| Test: 0.8060| Eval Time: 0.1565s\n",
      "Epoch 61| Loss: 0.0012| Acc: 1.0000| Train Time: 0.0240s\n"
     ]
    },
    {
     "output_type": "stream",
     "name": "stderr",
     "text": [
      "Evaluating: 100%|██████████| 5416/5416 [00:00<00:00, 43903.96it/s]\n"
     ]
    },
    {
     "output_type": "stream",
     "name": "stdout",
     "text": [
      "Train: 1.0000| Val: 0.7560| Test: 0.8050| Eval Time: 0.1274s\n",
      "Epoch 62| Loss: 0.0020| Acc: 1.0000| Train Time: 0.0170s\n"
     ]
    },
    {
     "output_type": "stream",
     "name": "stderr",
     "text": [
      "Evaluating: 100%|██████████| 5416/5416 [00:00<00:00, 54707.08it/s]\n"
     ]
    },
    {
     "output_type": "stream",
     "name": "stdout",
     "text": [
      "Train: 1.0000| Val: 0.7560| Test: 0.8070| Eval Time: 0.1040s\n",
      "Epoch 63| Loss: 0.0038| Acc: 1.0000| Train Time: 0.0180s\n"
     ]
    },
    {
     "output_type": "stream",
     "name": "stderr",
     "text": [
      "Evaluating: 100%|██████████| 5416/5416 [00:00<00:00, 50616.32it/s]\n"
     ]
    },
    {
     "output_type": "stream",
     "name": "stdout",
     "text": [
      "Train: 1.0000| Val: 0.7560| Test: 0.8050| Eval Time: 0.1130s\n",
      "Epoch 64| Loss: 0.0019| Acc: 1.0000| Train Time: 0.0150s\n"
     ]
    },
    {
     "output_type": "stream",
     "name": "stderr",
     "text": [
      "Evaluating: 100%|██████████| 5416/5416 [00:00<00:00, 39823.62it/s]\n"
     ]
    },
    {
     "output_type": "stream",
     "name": "stdout",
     "text": [
      "Train: 1.0000| Val: 0.7580| Test: 0.8050| Eval Time: 0.1420s\n",
      "\n",
      "Result of  1. run| Train: 1.0000| Val: 0.7860| Test: 0.8220\n",
      "\n",
      "Run 02:\n"
     ]
    },
    {
     "output_type": "stream",
     "name": "stderr",
     "text": [
      "Epoch 01: 100%|██████████| 140/140 [00:00<00:00, 7000.59it/s]\n"
     ]
    },
    {
     "output_type": "stream",
     "name": "stdout",
     "text": [
      "Epoch 01| Loss: 1.9588| Acc: 0.1571| Train Time: 0.0240s\n"
     ]
    },
    {
     "output_type": "stream",
     "name": "stderr",
     "text": [
      "Evaluating: 100%|██████████| 5416/5416 [00:00<00:00, 37874.09it/s]\n"
     ]
    },
    {
     "output_type": "stream",
     "name": "stdout",
     "text": [
      "Train: 0.7786| Val: 0.4420| Test: 0.4470| Eval Time: 0.1480s\n",
      "Epoch 02| Loss: 1.4985| Acc: 0.6071| Train Time: 0.0180s\n"
     ]
    },
    {
     "output_type": "stream",
     "name": "stderr",
     "text": [
      "Evaluating: 100%|██████████| 5416/5416 [00:00<00:00, 45896.90it/s]\n"
     ]
    },
    {
     "output_type": "stream",
     "name": "stdout",
     "text": [
      "Train: 0.9786| Val: 0.6780| Test: 0.7000| Eval Time: 0.1240s\n",
      "Epoch 03| Loss: 1.1302| Acc: 0.9000| Train Time: 0.0200s\n"
     ]
    },
    {
     "output_type": "stream",
     "name": "stderr",
     "text": [
      "Evaluating: 100%|██████████| 5416/5416 [00:00<00:00, 36840.65it/s]\n"
     ]
    },
    {
     "output_type": "stream",
     "name": "stdout",
     "text": [
      "Train: 0.9929| Val: 0.7540| Test: 0.7500| Eval Time: 0.1520s\n",
      "Epoch 04| Loss: 0.8921| Acc: 0.9071| Train Time: 0.0170s\n"
     ]
    },
    {
     "output_type": "stream",
     "name": "stderr",
     "text": [
      "Evaluating: 100%|██████████| 5416/5416 [00:00<00:00, 50618.69it/s]\n"
     ]
    },
    {
     "output_type": "stream",
     "name": "stdout",
     "text": [
      "Train: 0.9929| Val: 0.7880| Test: 0.7810| Eval Time: 0.1120s\n",
      "Epoch 05| Loss: 0.6728| Acc: 0.9357| Train Time: 0.0160s\n"
     ]
    },
    {
     "output_type": "stream",
     "name": "stderr",
     "text": [
      "Evaluating: 100%|██████████| 5416/5416 [00:00<00:00, 57011.80it/s]\n"
     ]
    },
    {
     "output_type": "stream",
     "name": "stdout",
     "text": [
      "Train: 1.0000| Val: 0.7920| Test: 0.7920| Eval Time: 0.1000s\n",
      "Epoch 06| Loss: 0.5578| Acc: 0.9786| Train Time: 0.0160s\n"
     ]
    },
    {
     "output_type": "stream",
     "name": "stderr",
     "text": [
      "Evaluating: 100%|██████████| 5416/5416 [00:00<00:00, 44760.58it/s]\n"
     ]
    },
    {
     "output_type": "stream",
     "name": "stdout",
     "text": [
      "Train: 1.0000| Val: 0.7920| Test: 0.7980| Eval Time: 0.1260s\n",
      "Epoch 07| Loss: 0.3852| Acc: 0.9857| Train Time: 0.0150s\n"
     ]
    },
    {
     "output_type": "stream",
     "name": "stderr",
     "text": [
      "Evaluating: 100%|██████████| 5416/5416 [00:00<00:00, 52076.76it/s]\n"
     ]
    },
    {
     "output_type": "stream",
     "name": "stdout",
     "text": [
      "Train: 1.0000| Val: 0.7920| Test: 0.8000| Eval Time: 0.1090s\n",
      "Epoch 08| Loss: 0.3202| Acc: 0.9857| Train Time: 0.0150s\n"
     ]
    },
    {
     "output_type": "stream",
     "name": "stderr",
     "text": [
      "Evaluating: 100%|██████████| 5416/5416 [00:00<00:00, 52040.25it/s]\n"
     ]
    },
    {
     "output_type": "stream",
     "name": "stdout",
     "text": [
      "Train: 1.0000| Val: 0.7860| Test: 0.7960| Eval Time: 0.1101s\n",
      "Epoch 09| Loss: 0.2450| Acc: 0.9786| Train Time: 0.0160s\n"
     ]
    },
    {
     "output_type": "stream",
     "name": "stderr",
     "text": [
      "Evaluating: 100%|██████████| 5416/5416 [00:00<00:00, 52583.05it/s]\n"
     ]
    },
    {
     "output_type": "stream",
     "name": "stdout",
     "text": [
      "Train: 1.0000| Val: 0.7800| Test: 0.7980| Eval Time: 0.1090s\n",
      "Epoch 10| Loss: 0.2152| Acc: 0.9786| Train Time: 0.0180s\n"
     ]
    },
    {
     "output_type": "stream",
     "name": "stderr",
     "text": [
      "Evaluating: 100%|██████████| 5416/5416 [00:00<00:00, 48344.90it/s]\n"
     ]
    },
    {
     "output_type": "stream",
     "name": "stdout",
     "text": [
      "Train: 1.0000| Val: 0.7700| Test: 0.7990| Eval Time: 0.1180s\n",
      "Epoch 11| Loss: 0.1778| Acc: 0.9929| Train Time: 0.0150s\n"
     ]
    },
    {
     "output_type": "stream",
     "name": "stderr",
     "text": [
      "Evaluating: 100%|██████████| 5416/5416 [00:00<00:00, 46291.12it/s]\n"
     ]
    },
    {
     "output_type": "stream",
     "name": "stdout",
     "text": [
      "Train: 1.0000| Val: 0.7680| Test: 0.7970| Eval Time: 0.1230s\n",
      "Epoch 12| Loss: 0.1918| Acc: 0.9929| Train Time: 0.0183s\n"
     ]
    },
    {
     "output_type": "stream",
     "name": "stderr",
     "text": [
      "Evaluating: 100%|██████████| 5416/5416 [00:00<00:00, 44072.45it/s]\n"
     ]
    },
    {
     "output_type": "stream",
     "name": "stdout",
     "text": [
      "Train: 1.0000| Val: 0.7740| Test: 0.7970| Eval Time: 0.1276s\n",
      "Epoch 13| Loss: 0.1362| Acc: 1.0000| Train Time: 0.0180s\n"
     ]
    },
    {
     "output_type": "stream",
     "name": "stderr",
     "text": [
      "Evaluating: 100%|██████████| 5416/5416 [00:00<00:00, 46291.41it/s]\n"
     ]
    },
    {
     "output_type": "stream",
     "name": "stdout",
     "text": [
      "Train: 1.0000| Val: 0.7700| Test: 0.7970| Eval Time: 0.1240s\n",
      "Epoch 14| Loss: 0.1209| Acc: 0.9929| Train Time: 0.0180s\n"
     ]
    },
    {
     "output_type": "stream",
     "name": "stderr",
     "text": [
      "Evaluating: 100%|██████████| 5416/5416 [00:00<00:00, 50148.79it/s]\n"
     ]
    },
    {
     "output_type": "stream",
     "name": "stdout",
     "text": [
      "Train: 1.0000| Val: 0.7740| Test: 0.7950| Eval Time: 0.1130s\n",
      "Epoch 15| Loss: 0.0763| Acc: 1.0000| Train Time: 0.0150s\n"
     ]
    },
    {
     "output_type": "stream",
     "name": "stderr",
     "text": [
      "Evaluating: 100%|██████████| 5416/5416 [00:00<00:00, 50616.54it/s]\n"
     ]
    },
    {
     "output_type": "stream",
     "name": "stdout",
     "text": [
      "Train: 1.0000| Val: 0.7820| Test: 0.7880| Eval Time: 0.1110s\n",
      "Epoch 16| Loss: 0.0906| Acc: 1.0000| Train Time: 0.0140s\n"
     ]
    },
    {
     "output_type": "stream",
     "name": "stderr",
     "text": [
      "Evaluating: 100%|██████████| 5416/5416 [00:00<00:00, 35394.58it/s]\n"
     ]
    },
    {
     "output_type": "stream",
     "name": "stdout",
     "text": [
      "Train: 1.0000| Val: 0.7820| Test: 0.7900| Eval Time: 0.1590s\n",
      "Epoch 17| Loss: 0.0698| Acc: 1.0000| Train Time: 0.0160s\n"
     ]
    },
    {
     "output_type": "stream",
     "name": "stderr",
     "text": [
      "Evaluating: 100%|██████████| 5416/5416 [00:00<00:00, 52583.17it/s]\n"
     ]
    },
    {
     "output_type": "stream",
     "name": "stdout",
     "text": [
      "Train: 1.0000| Val: 0.7760| Test: 0.7910| Eval Time: 0.1090s\n",
      "Epoch 18| Loss: 0.0425| Acc: 1.0000| Train Time: 0.0140s\n"
     ]
    },
    {
     "output_type": "stream",
     "name": "stderr",
     "text": [
      "Evaluating: 100%|██████████| 5416/5416 [00:00<00:00, 52076.76it/s]\n"
     ]
    },
    {
     "output_type": "stream",
     "name": "stdout",
     "text": [
      "Train: 1.0000| Val: 0.7780| Test: 0.7920| Eval Time: 0.1100s\n",
      "Epoch 19| Loss: 0.0526| Acc: 0.9929| Train Time: 0.0230s\n"
     ]
    },
    {
     "output_type": "stream",
     "name": "stderr",
     "text": [
      "Evaluating: 100%|██████████| 5416/5416 [00:00<00:00, 39539.43it/s]\n"
     ]
    },
    {
     "output_type": "stream",
     "name": "stdout",
     "text": [
      "Train: 1.0000| Val: 0.7700| Test: 0.7920| Eval Time: 0.1420s\n",
      "Epoch 20| Loss: 0.0356| Acc: 1.0000| Train Time: 0.0150s\n"
     ]
    },
    {
     "output_type": "stream",
     "name": "stderr",
     "text": [
      "Evaluating: 100%|██████████| 5416/5416 [00:00<00:00, 52828.97it/s]\n"
     ]
    },
    {
     "output_type": "stream",
     "name": "stdout",
     "text": [
      "Train: 1.0000| Val: 0.7700| Test: 0.7920| Eval Time: 0.1081s\n",
      "Epoch 21| Loss: 0.0377| Acc: 0.9929| Train Time: 0.0150s\n"
     ]
    },
    {
     "output_type": "stream",
     "name": "stderr",
     "text": [
      "Evaluating: 100%|██████████| 5416/5416 [00:00<00:00, 37350.07it/s]\n"
     ]
    },
    {
     "output_type": "stream",
     "name": "stdout",
     "text": [
      "Train: 1.0000| Val: 0.7700| Test: 0.7870| Eval Time: 0.1520s\n",
      "Epoch 22| Loss: 0.0352| Acc: 1.0000| Train Time: 0.0240s\n"
     ]
    },
    {
     "output_type": "stream",
     "name": "stderr",
     "text": [
      "Evaluating: 100%|██████████| 5416/5416 [00:00<00:00, 48364.15it/s]\n"
     ]
    },
    {
     "output_type": "stream",
     "name": "stdout",
     "text": [
      "Train: 1.0000| Val: 0.7700| Test: 0.7830| Eval Time: 0.1170s\n",
      "Epoch 23| Loss: 0.0187| Acc: 1.0000| Train Time: 0.0140s\n"
     ]
    },
    {
     "output_type": "stream",
     "name": "stderr",
     "text": [
      "Evaluating: 100%|██████████| 5416/5416 [00:00<00:00, 52074.49it/s]\n"
     ]
    },
    {
     "output_type": "stream",
     "name": "stdout",
     "text": [
      "Train: 1.0000| Val: 0.7680| Test: 0.7810| Eval Time: 0.1110s\n",
      "Epoch 24| Loss: 0.0243| Acc: 1.0000| Train Time: 0.0210s\n"
     ]
    },
    {
     "output_type": "stream",
     "name": "stderr",
     "text": [
      "Evaluating: 100%|██████████| 5416/5416 [00:00<00:00, 40723.37it/s]\n"
     ]
    },
    {
     "output_type": "stream",
     "name": "stdout",
     "text": [
      "Train: 1.0000| Val: 0.7680| Test: 0.7810| Eval Time: 0.1380s\n",
      "Epoch 25| Loss: 0.0256| Acc: 1.0000| Train Time: 0.0150s\n"
     ]
    },
    {
     "output_type": "stream",
     "name": "stderr",
     "text": [
      "Evaluating: 100%|██████████| 5416/5416 [00:00<00:00, 55266.08it/s]\n"
     ]
    },
    {
     "output_type": "stream",
     "name": "stdout",
     "text": [
      "Train: 1.0000| Val: 0.7660| Test: 0.7800| Eval Time: 0.1030s\n",
      "Epoch 26| Loss: 0.0152| Acc: 1.0000| Train Time: 0.0180s\n"
     ]
    },
    {
     "output_type": "stream",
     "name": "stderr",
     "text": [
      "Evaluating: 100%|██████████| 5416/5416 [00:00<00:00, 35097.80it/s]\n"
     ]
    },
    {
     "output_type": "stream",
     "name": "stdout",
     "text": [
      "Train: 1.0000| Val: 0.7640| Test: 0.7790| Eval Time: 0.1593s\n",
      "Epoch 27| Loss: 0.0174| Acc: 1.0000| Train Time: 0.0160s\n"
     ]
    },
    {
     "output_type": "stream",
     "name": "stderr",
     "text": [
      "Evaluating: 100%|██████████| 5416/5416 [00:00<00:00, 50819.35it/s]\n"
     ]
    },
    {
     "output_type": "stream",
     "name": "stdout",
     "text": [
      "Train: 1.0000| Val: 0.7620| Test: 0.7770| Eval Time: 0.1116s\n",
      "Epoch 28| Loss: 0.0142| Acc: 1.0000| Train Time: 0.0160s\n"
     ]
    },
    {
     "output_type": "stream",
     "name": "stderr",
     "text": [
      "Evaluating: 100%|██████████| 5416/5416 [00:00<00:00, 55262.45it/s]\n"
     ]
    },
    {
     "output_type": "stream",
     "name": "stdout",
     "text": [
      "Train: 1.0000| Val: 0.7620| Test: 0.7760| Eval Time: 0.1030s\n",
      "Epoch 29| Loss: 0.0108| Acc: 1.0000| Train Time: 0.0170s\n"
     ]
    },
    {
     "output_type": "stream",
     "name": "stderr",
     "text": [
      "Evaluating: 100%|██████████| 5416/5416 [00:00<00:00, 38411.79it/s]\n"
     ]
    },
    {
     "output_type": "stream",
     "name": "stdout",
     "text": [
      "Train: 1.0000| Val: 0.7580| Test: 0.7730| Eval Time: 0.1470s\n",
      "Epoch 30| Loss: 0.0219| Acc: 1.0000| Train Time: 0.0190s\n"
     ]
    },
    {
     "output_type": "stream",
     "name": "stderr",
     "text": [
      "Evaluating: 100%|██████████| 5416/5416 [00:00<00:00, 51071.74it/s]\n"
     ]
    },
    {
     "output_type": "stream",
     "name": "stdout",
     "text": [
      "Train: 1.0000| Val: 0.7560| Test: 0.7730| Eval Time: 0.1110s\n",
      "Epoch 31| Loss: 0.0219| Acc: 1.0000| Train Time: 0.0170s\n"
     ]
    },
    {
     "output_type": "stream",
     "name": "stderr",
     "text": [
      "Evaluating: 100%|██████████| 5416/5416 [00:00<00:00, 44760.31it/s]\n"
     ]
    },
    {
     "output_type": "stream",
     "name": "stdout",
     "text": [
      "Train: 1.0000| Val: 0.7520| Test: 0.7730| Eval Time: 0.1280s\n",
      "Epoch 32| Loss: 0.0082| Acc: 1.0000| Train Time: 0.0190s\n"
     ]
    },
    {
     "output_type": "stream",
     "name": "stderr",
     "text": [
      "Evaluating: 100%|██████████| 5416/5416 [00:00<00:00, 41344.10it/s]\n"
     ]
    },
    {
     "output_type": "stream",
     "name": "stdout",
     "text": [
      "Train: 1.0000| Val: 0.7520| Test: 0.7730| Eval Time: 0.1360s\n",
      "Epoch 33| Loss: 0.0075| Acc: 1.0000| Train Time: 0.0156s\n"
     ]
    },
    {
     "output_type": "stream",
     "name": "stderr",
     "text": [
      "Evaluating: 100%|██████████| 5416/5416 [00:00<00:00, 45131.94it/s]\n"
     ]
    },
    {
     "output_type": "stream",
     "name": "stdout",
     "text": [
      "Train: 1.0000| Val: 0.7520| Test: 0.7720| Eval Time: 0.1260s\n",
      "Epoch 34| Loss: 0.0100| Acc: 1.0000| Train Time: 0.0170s\n"
     ]
    },
    {
     "output_type": "stream",
     "name": "stderr",
     "text": [
      "Evaluating: 100%|██████████| 5416/5416 [00:00<00:00, 44489.87it/s]\n"
     ]
    },
    {
     "output_type": "stream",
     "name": "stdout",
     "text": [
      "Train: 1.0000| Val: 0.7500| Test: 0.7730| Eval Time: 0.1257s\n",
      "Epoch 35| Loss: 0.0148| Acc: 1.0000| Train Time: 0.0169s\n"
     ]
    },
    {
     "output_type": "stream",
     "name": "stderr",
     "text": [
      "Evaluating: 100%|██████████| 5416/5416 [00:00<00:00, 49580.07it/s]\n"
     ]
    },
    {
     "output_type": "stream",
     "name": "stdout",
     "text": [
      "Train: 1.0000| Val: 0.7460| Test: 0.7730| Eval Time: 0.1142s\n",
      "Epoch 36| Loss: 0.0106| Acc: 1.0000| Train Time: 0.0180s\n"
     ]
    },
    {
     "output_type": "stream",
     "name": "stderr",
     "text": [
      "Evaluating: 100%|██████████| 5416/5416 [00:00<00:00, 36348.78it/s]"
     ]
    },
    {
     "output_type": "stream",
     "name": "stdout",
     "text": [
      "Train: 1.0000| Val: 0.7460| Test: 0.7720| Eval Time: 0.1540s\n",
      "Epoch 37| Loss: 0.0043| Acc: 1.0000| Train Time: 0.0200s\n"
     ]
    },
    {
     "output_type": "stream",
     "name": "stderr",
     "text": [
      "\n",
      "Evaluating: 100%|██████████| 5416/5416 [00:00<00:00, 46885.01it/s]\n"
     ]
    },
    {
     "output_type": "stream",
     "name": "stdout",
     "text": [
      "Train: 1.0000| Val: 0.7460| Test: 0.7720| Eval Time: 0.1225s\n",
      "Epoch 38| Loss: 0.0076| Acc: 1.0000| Train Time: 0.0170s\n"
     ]
    },
    {
     "output_type": "stream",
     "name": "stderr",
     "text": [
      "Evaluating: 100%|██████████| 5416/5416 [00:00<00:00, 44938.11it/s]\n"
     ]
    },
    {
     "output_type": "stream",
     "name": "stdout",
     "text": [
      "Train: 1.0000| Val: 0.7480| Test: 0.7730| Eval Time: 0.1265s\n",
      "Epoch 39| Loss: 0.0115| Acc: 1.0000| Train Time: 0.0190s\n"
     ]
    },
    {
     "output_type": "stream",
     "name": "stderr",
     "text": [
      "Evaluating: 100%|██████████| 5416/5416 [00:00<00:00, 48644.50it/s]\n"
     ]
    },
    {
     "output_type": "stream",
     "name": "stdout",
     "text": [
      "Train: 1.0000| Val: 0.7480| Test: 0.7710| Eval Time: 0.1173s\n",
      "Epoch 40| Loss: 0.0198| Acc: 1.0000| Train Time: 0.0160s\n"
     ]
    },
    {
     "output_type": "stream",
     "name": "stderr",
     "text": [
      "Evaluating: 100%|██████████| 5416/5416 [00:00<00:00, 50602.34it/s]\n"
     ]
    },
    {
     "output_type": "stream",
     "name": "stdout",
     "text": [
      "Train: 1.0000| Val: 0.7460| Test: 0.7710| Eval Time: 0.1140s\n",
      "Epoch 41| Loss: 0.0089| Acc: 1.0000| Train Time: 0.0170s\n"
     ]
    },
    {
     "output_type": "stream",
     "name": "stderr",
     "text": [
      "Evaluating: 100%|██████████| 5416/5416 [00:00<00:00, 52773.98it/s]\n"
     ]
    },
    {
     "output_type": "stream",
     "name": "stdout",
     "text": [
      "Train: 1.0000| Val: 0.7460| Test: 0.7700| Eval Time: 0.1076s\n",
      "Epoch 42| Loss: 0.0076| Acc: 1.0000| Train Time: 0.0180s\n"
     ]
    },
    {
     "output_type": "stream",
     "name": "stderr",
     "text": [
      "Evaluating: 100%|██████████| 5416/5416 [00:00<00:00, 47508.44it/s]\n"
     ]
    },
    {
     "output_type": "stream",
     "name": "stdout",
     "text": [
      "Train: 1.0000| Val: 0.7460| Test: 0.7680| Eval Time: 0.1200s\n",
      "Epoch 43| Loss: 0.0052| Acc: 1.0000| Train Time: 0.0140s\n"
     ]
    },
    {
     "output_type": "stream",
     "name": "stderr",
     "text": [
      "Evaluating: 100%|██████████| 5416/5416 [00:00<00:00, 58237.35it/s]\n"
     ]
    },
    {
     "output_type": "stream",
     "name": "stdout",
     "text": [
      "Train: 1.0000| Val: 0.7440| Test: 0.7680| Eval Time: 0.0980s\n",
      "Epoch 44| Loss: 0.0022| Acc: 1.0000| Train Time: 0.0180s\n"
     ]
    },
    {
     "output_type": "stream",
     "name": "stderr",
     "text": [
      "Evaluating: 100%|██████████| 5416/5416 [00:00<00:00, 47095.84it/s]\n"
     ]
    },
    {
     "output_type": "stream",
     "name": "stdout",
     "text": [
      "Train: 1.0000| Val: 0.7420| Test: 0.7680| Eval Time: 0.1220s\n",
      "Epoch 45| Loss: 0.0045| Acc: 1.0000| Train Time: 0.0180s\n"
     ]
    },
    {
     "output_type": "stream",
     "name": "stderr",
     "text": [
      "Evaluating: 100%|██████████| 5416/5416 [00:00<00:00, 45513.35it/s]\n"
     ]
    },
    {
     "output_type": "stream",
     "name": "stdout",
     "text": [
      "Train: 1.0000| Val: 0.7420| Test: 0.7670| Eval Time: 0.1230s\n",
      "Epoch 46| Loss: 0.0109| Acc: 1.0000| Train Time: 0.0170s\n"
     ]
    },
    {
     "output_type": "stream",
     "name": "stderr",
     "text": [
      "Evaluating: 100%|██████████| 5416/5416 [00:00<00:00, 46693.81it/s]\n"
     ]
    },
    {
     "output_type": "stream",
     "name": "stdout",
     "text": [
      "Train: 1.0000| Val: 0.7400| Test: 0.7670| Eval Time: 0.1210s\n",
      "Epoch 47| Loss: 0.0070| Acc: 1.0000| Train Time: 0.0150s\n"
     ]
    },
    {
     "output_type": "stream",
     "name": "stderr",
     "text": [
      "Evaluating: 100%|██████████| 5416/5416 [00:00<00:00, 53099.65it/s]\n"
     ]
    },
    {
     "output_type": "stream",
     "name": "stdout",
     "text": [
      "Train: 1.0000| Val: 0.7400| Test: 0.7680| Eval Time: 0.1070s\n",
      "Epoch 48| Loss: 0.0095| Acc: 1.0000| Train Time: 0.0150s\n"
     ]
    },
    {
     "output_type": "stream",
     "name": "stderr",
     "text": [
      "Evaluating: 100%|██████████| 5416/5416 [00:00<00:00, 49236.41it/s]\n"
     ]
    },
    {
     "output_type": "stream",
     "name": "stdout",
     "text": [
      "Train: 1.0000| Val: 0.7400| Test: 0.7680| Eval Time: 0.1140s\n",
      "Epoch 49| Loss: 0.0039| Acc: 1.0000| Train Time: 0.0170s\n"
     ]
    },
    {
     "output_type": "stream",
     "name": "stderr",
     "text": [
      "Evaluating: 100%|██████████| 5416/5416 [00:00<00:00, 42807.65it/s]\n"
     ]
    },
    {
     "output_type": "stream",
     "name": "stdout",
     "text": [
      "Train: 1.0000| Val: 0.7400| Test: 0.7690| Eval Time: 0.1325s\n",
      "Epoch 50| Loss: 0.0100| Acc: 1.0000| Train Time: 0.0150s\n"
     ]
    },
    {
     "output_type": "stream",
     "name": "stderr",
     "text": [
      "Evaluating: 100%|██████████| 5416/5416 [00:00<00:00, 44033.24it/s]\n"
     ]
    },
    {
     "output_type": "stream",
     "name": "stdout",
     "text": [
      "Train: 1.0000| Val: 0.7400| Test: 0.7690| Eval Time: 0.1310s\n",
      "Epoch 51| Loss: 0.0046| Acc: 1.0000| Train Time: 0.0190s\n"
     ]
    },
    {
     "output_type": "stream",
     "name": "stderr",
     "text": [
      "Evaluating: 100%|██████████| 5416/5416 [00:00<00:00, 41493.78it/s]\n"
     ]
    },
    {
     "output_type": "stream",
     "name": "stdout",
     "text": [
      "Train: 1.0000| Val: 0.7400| Test: 0.7690| Eval Time: 0.1370s\n",
      "Epoch 52| Loss: 0.0092| Acc: 1.0000| Train Time: 0.0150s\n"
     ]
    },
    {
     "output_type": "stream",
     "name": "stderr",
     "text": [
      "Evaluating: 100%|██████████| 5416/5416 [00:00<00:00, 53623.47it/s]\n"
     ]
    },
    {
     "output_type": "stream",
     "name": "stdout",
     "text": [
      "Train: 1.0000| Val: 0.7400| Test: 0.7680| Eval Time: 0.1060s\n",
      "Epoch 53| Loss: 0.0012| Acc: 1.0000| Train Time: 0.0150s\n"
     ]
    },
    {
     "output_type": "stream",
     "name": "stderr",
     "text": [
      "Evaluating: 100%|██████████| 5416/5416 [00:00<00:00, 57010.08it/s]\n"
     ]
    },
    {
     "output_type": "stream",
     "name": "stdout",
     "text": [
      "Train: 1.0000| Val: 0.7400| Test: 0.7670| Eval Time: 0.1000s\n",
      "Epoch 54| Loss: 0.0080| Acc: 1.0000| Train Time: 0.0150s\n"
     ]
    },
    {
     "output_type": "stream",
     "name": "stderr",
     "text": [
      "Evaluating: 100%|██████████| 5416/5416 [00:00<00:00, 48166.74it/s]\n"
     ]
    },
    {
     "output_type": "stream",
     "name": "stdout",
     "text": [
      "Train: 1.0000| Val: 0.7420| Test: 0.7670| Eval Time: 0.1164s\n",
      "Epoch 55| Loss: 0.0021| Acc: 1.0000| Train Time: 0.0150s\n"
     ]
    },
    {
     "output_type": "stream",
     "name": "stderr",
     "text": [
      "Evaluating: 100%|██████████| 5416/5416 [00:00<00:00, 54708.53it/s]\n"
     ]
    },
    {
     "output_type": "stream",
     "name": "stdout",
     "text": [
      "Train: 1.0000| Val: 0.7400| Test: 0.7660| Eval Time: 0.1040s\n",
      "\n",
      "Result of  2. run| Train: 1.0000| Val: 0.7920| Test: 0.7920\n",
      "\n",
      "Run 03:\n"
     ]
    },
    {
     "output_type": "stream",
     "name": "stderr",
     "text": [
      "Epoch 01: 100%|██████████| 140/140 [00:00<00:00, 8236.01it/s]\n"
     ]
    },
    {
     "output_type": "stream",
     "name": "stdout",
     "text": [
      "Epoch 01| Loss: 1.9999| Acc: 0.1357| Train Time: 0.0210s\n"
     ]
    },
    {
     "output_type": "stream",
     "name": "stderr",
     "text": [
      "Evaluating: 100%|██████████| 5416/5416 [00:00<00:00, 56415.85it/s]\n"
     ]
    },
    {
     "output_type": "stream",
     "name": "stdout",
     "text": [
      "Train: 0.8714| Val: 0.5900| Test: 0.6090| Eval Time: 0.1000s\n",
      "Epoch 02| Loss: 1.5169| Acc: 0.7571| Train Time: 0.0150s\n"
     ]
    },
    {
     "output_type": "stream",
     "name": "stderr",
     "text": [
      "Evaluating: 100%|██████████| 5416/5416 [00:00<00:00, 54708.66it/s]\n"
     ]
    },
    {
     "output_type": "stream",
     "name": "stdout",
     "text": [
      "Train: 0.9643| Val: 0.7260| Test: 0.7520| Eval Time: 0.1050s\n",
      "Epoch 03| Loss: 1.2116| Acc: 0.8500| Train Time: 0.0170s\n"
     ]
    },
    {
     "output_type": "stream",
     "name": "stderr",
     "text": [
      "Evaluating: 100%|██████████| 5416/5416 [00:00<00:00, 49688.85it/s]\n"
     ]
    },
    {
     "output_type": "stream",
     "name": "stdout",
     "text": [
      "Train: 0.9714| Val: 0.7560| Test: 0.7760| Eval Time: 0.1140s\n",
      "Epoch 04| Loss: 0.8875| Acc: 0.9286| Train Time: 0.0180s\n"
     ]
    },
    {
     "output_type": "stream",
     "name": "stderr",
     "text": [
      "Evaluating: 100%|██████████| 5416/5416 [00:00<00:00, 48134.29it/s]\n"
     ]
    },
    {
     "output_type": "stream",
     "name": "stdout",
     "text": [
      "Train: 0.9786| Val: 0.7780| Test: 0.7830| Eval Time: 0.1195s\n",
      "Epoch 05| Loss: 0.7527| Acc: 0.9143| Train Time: 0.0180s\n"
     ]
    },
    {
     "output_type": "stream",
     "name": "stderr",
     "text": [
      "Evaluating: 100%|██████████| 5416/5416 [00:00<00:00, 43327.92it/s]\n"
     ]
    },
    {
     "output_type": "stream",
     "name": "stdout",
     "text": [
      "Train: 0.9857| Val: 0.7680| Test: 0.7890| Eval Time: 0.1320s\n",
      "Epoch 06| Loss: 0.6080| Acc: 0.9643| Train Time: 0.0220s\n"
     ]
    },
    {
     "output_type": "stream",
     "name": "stderr",
     "text": [
      "Evaluating: 100%|██████████| 5416/5416 [00:00<00:00, 43330.23it/s]\n"
     ]
    },
    {
     "output_type": "stream",
     "name": "stdout",
     "text": [
      "Train: 0.9857| Val: 0.7640| Test: 0.7800| Eval Time: 0.1320s\n",
      "Epoch 07| Loss: 0.4260| Acc: 0.9643| Train Time: 0.0180s\n"
     ]
    },
    {
     "output_type": "stream",
     "name": "stderr",
     "text": [
      "Evaluating: 100%|██████████| 5416/5416 [00:00<00:00, 40722.42it/s]\n"
     ]
    },
    {
     "output_type": "stream",
     "name": "stdout",
     "text": [
      "Train: 1.0000| Val: 0.7660| Test: 0.7820| Eval Time: 0.1370s\n",
      "Epoch 08| Loss: 0.4281| Acc: 0.9571| Train Time: 0.0190s\n"
     ]
    },
    {
     "output_type": "stream",
     "name": "stderr",
     "text": [
      "Evaluating: 100%|██████████| 5416/5416 [00:00<00:00, 45862.43it/s]\n"
     ]
    },
    {
     "output_type": "stream",
     "name": "stdout",
     "text": [
      "Train: 1.0000| Val: 0.7660| Test: 0.7860| Eval Time: 0.1241s\n",
      "Epoch 09| Loss: 0.3018| Acc: 0.9929| Train Time: 0.0180s\n"
     ]
    },
    {
     "output_type": "stream",
     "name": "stderr",
     "text": [
      "Evaluating: 100%|██████████| 5416/5416 [00:00<00:00, 53099.28it/s]\n"
     ]
    },
    {
     "output_type": "stream",
     "name": "stdout",
     "text": [
      "Train: 1.0000| Val: 0.7660| Test: 0.7860| Eval Time: 0.1090s\n",
      "Epoch 10| Loss: 0.2589| Acc: 1.0000| Train Time: 0.0180s\n"
     ]
    },
    {
     "output_type": "stream",
     "name": "stderr",
     "text": [
      "Evaluating: 100%|██████████| 5416/5416 [00:00<00:00, 46290.37it/s]\n"
     ]
    },
    {
     "output_type": "stream",
     "name": "stdout",
     "text": [
      "Train: 1.0000| Val: 0.7640| Test: 0.7910| Eval Time: 0.1220s\n",
      "Epoch 11| Loss: 0.1947| Acc: 1.0000| Train Time: 0.0170s\n"
     ]
    },
    {
     "output_type": "stream",
     "name": "stderr",
     "text": [
      "Evaluating: 100%|██████████| 5416/5416 [00:00<00:00, 54708.01it/s]\n"
     ]
    },
    {
     "output_type": "stream",
     "name": "stdout",
     "text": [
      "Train: 1.0000| Val: 0.7560| Test: 0.7940| Eval Time: 0.1040s\n",
      "Epoch 12| Loss: 0.1358| Acc: 1.0000| Train Time: 0.0170s\n"
     ]
    },
    {
     "output_type": "stream",
     "name": "stderr",
     "text": [
      "Evaluating: 100%|██████████| 5416/5416 [00:00<00:00, 56417.81it/s]\n"
     ]
    },
    {
     "output_type": "stream",
     "name": "stdout",
     "text": [
      "Train: 1.0000| Val: 0.7620| Test: 0.7970| Eval Time: 0.1010s\n",
      "Epoch 13| Loss: 0.1978| Acc: 0.9857| Train Time: 0.0150s\n"
     ]
    },
    {
     "output_type": "stream",
     "name": "stderr",
     "text": [
      "Evaluating: 100%|██████████| 5416/5416 [00:00<00:00, 50149.57it/s]\n"
     ]
    },
    {
     "output_type": "stream",
     "name": "stdout",
     "text": [
      "Train: 1.0000| Val: 0.7620| Test: 0.7960| Eval Time: 0.1150s\n",
      "Epoch 14| Loss: 0.1328| Acc: 0.9929| Train Time: 0.0150s\n"
     ]
    },
    {
     "output_type": "stream",
     "name": "stderr",
     "text": [
      "Evaluating: 100%|██████████| 5416/5416 [00:00<00:00, 51518.24it/s]\n"
     ]
    },
    {
     "output_type": "stream",
     "name": "stdout",
     "text": [
      "Train: 1.0000| Val: 0.7620| Test: 0.7960| Eval Time: 0.1121s\n",
      "Epoch 15| Loss: 0.0726| Acc: 1.0000| Train Time: 0.0150s\n"
     ]
    },
    {
     "output_type": "stream",
     "name": "stderr",
     "text": [
      "Evaluating: 100%|██████████| 5416/5416 [00:00<00:00, 52587.80it/s]\n"
     ]
    },
    {
     "output_type": "stream",
     "name": "stdout",
     "text": [
      "Train: 1.0000| Val: 0.7580| Test: 0.7930| Eval Time: 0.1080s\n",
      "Epoch 16| Loss: 0.0894| Acc: 0.9857| Train Time: 0.0140s\n"
     ]
    },
    {
     "output_type": "stream",
     "name": "stderr",
     "text": [
      "Evaluating: 100%|██████████| 5416/5416 [00:00<00:00, 52051.58it/s]\n"
     ]
    },
    {
     "output_type": "stream",
     "name": "stdout",
     "text": [
      "Train: 1.0000| Val: 0.7600| Test: 0.7940| Eval Time: 0.1081s\n",
      "Epoch 17| Loss: 0.0699| Acc: 1.0000| Train Time: 0.0140s\n"
     ]
    },
    {
     "output_type": "stream",
     "name": "stderr",
     "text": [
      "Evaluating: 100%|██████████| 5416/5416 [00:00<00:00, 46290.65it/s]\n"
     ]
    },
    {
     "output_type": "stream",
     "name": "stdout",
     "text": [
      "Train: 1.0000| Val: 0.7560| Test: 0.7930| Eval Time: 0.1220s\n",
      "Epoch 18| Loss: 0.0579| Acc: 1.0000| Train Time: 0.0150s\n"
     ]
    },
    {
     "output_type": "stream",
     "name": "stderr",
     "text": [
      "Evaluating: 100%|██████████| 5416/5416 [00:00<00:00, 37352.22it/s]\n"
     ]
    },
    {
     "output_type": "stream",
     "name": "stdout",
     "text": [
      "Train: 1.0000| Val: 0.7580| Test: 0.7920| Eval Time: 0.1510s\n",
      "Epoch 19| Loss: 0.0705| Acc: 1.0000| Train Time: 0.0180s\n"
     ]
    },
    {
     "output_type": "stream",
     "name": "stderr",
     "text": [
      "Evaluating: 100%|██████████| 5416/5416 [00:00<00:00, 32047.17it/s]\n"
     ]
    },
    {
     "output_type": "stream",
     "name": "stdout",
     "text": [
      "Train: 1.0000| Val: 0.7580| Test: 0.7920| Eval Time: 0.1770s\n",
      "Epoch 20| Loss: 0.0399| Acc: 1.0000| Train Time: 0.0250s\n"
     ]
    },
    {
     "output_type": "stream",
     "name": "stderr",
     "text": [
      "Evaluating: 100%|██████████| 5416/5416 [00:00<00:00, 41021.42it/s]\n"
     ]
    },
    {
     "output_type": "stream",
     "name": "stdout",
     "text": [
      "Train: 1.0000| Val: 0.7620| Test: 0.7920| Eval Time: 0.1390s\n",
      "Epoch 21| Loss: 0.0625| Acc: 0.9929| Train Time: 0.0260s\n"
     ]
    },
    {
     "output_type": "stream",
     "name": "stderr",
     "text": [
      "Evaluating: 100%|██████████| 5416/5416 [00:00<00:00, 27080.28it/s]\n"
     ]
    },
    {
     "output_type": "stream",
     "name": "stdout",
     "text": [
      "Train: 1.0000| Val: 0.7620| Test: 0.7940| Eval Time: 0.2100s\n",
      "Epoch 22| Loss: 0.0225| Acc: 1.0000| Train Time: 0.0310s\n"
     ]
    },
    {
     "output_type": "stream",
     "name": "stderr",
     "text": [
      "Evaluating: 100%|██████████| 5416/5416 [00:00<00:00, 34063.47it/s]\n"
     ]
    },
    {
     "output_type": "stream",
     "name": "stdout",
     "text": [
      "Train: 1.0000| Val: 0.7620| Test: 0.7960| Eval Time: 0.1660s\n",
      "Epoch 23| Loss: 0.0205| Acc: 1.0000| Train Time: 0.0150s\n"
     ]
    },
    {
     "output_type": "stream",
     "name": "stderr",
     "text": [
      "Evaluating: 100%|██████████| 5416/5416 [00:00<00:00, 54708.01it/s]\n"
     ]
    },
    {
     "output_type": "stream",
     "name": "stdout",
     "text": [
      "Train: 1.0000| Val: 0.7600| Test: 0.7990| Eval Time: 0.1050s\n",
      "Epoch 24| Loss: 0.0227| Acc: 1.0000| Train Time: 0.0160s\n"
     ]
    },
    {
     "output_type": "stream",
     "name": "stderr",
     "text": [
      "Evaluating: 100%|██████████| 5416/5416 [00:00<00:00, 50148.35it/s]\n"
     ]
    },
    {
     "output_type": "stream",
     "name": "stdout",
     "text": [
      "Train: 1.0000| Val: 0.7560| Test: 0.7970| Eval Time: 0.1130s\n",
      "Epoch 25| Loss: 0.0316| Acc: 1.0000| Train Time: 0.0130s\n"
     ]
    },
    {
     "output_type": "stream",
     "name": "stderr",
     "text": [
      "Evaluating: 100%|██████████| 5416/5416 [00:00<00:00, 52078.31it/s]\n"
     ]
    },
    {
     "output_type": "stream",
     "name": "stdout",
     "text": [
      "Train: 1.0000| Val: 0.7600| Test: 0.7940| Eval Time: 0.1090s\n",
      "Epoch 26| Loss: 0.0263| Acc: 1.0000| Train Time: 0.0170s\n"
     ]
    },
    {
     "output_type": "stream",
     "name": "stderr",
     "text": [
      "Evaluating: 100%|██████████| 5416/5416 [00:00<00:00, 51581.41it/s]\n"
     ]
    },
    {
     "output_type": "stream",
     "name": "stdout",
     "text": [
      "Train: 1.0000| Val: 0.7600| Test: 0.7930| Eval Time: 0.1100s\n",
      "Epoch 27| Loss: 0.0126| Acc: 1.0000| Train Time: 0.0150s\n"
     ]
    },
    {
     "output_type": "stream",
     "name": "stderr",
     "text": [
      "Evaluating: 100%|██████████| 5416/5416 [00:00<00:00, 55212.62it/s]\n"
     ]
    },
    {
     "output_type": "stream",
     "name": "stdout",
     "text": [
      "Train: 1.0000| Val: 0.7620| Test: 0.7930| Eval Time: 0.1031s\n",
      "Epoch 28| Loss: 0.0168| Acc: 1.0000| Train Time: 0.0160s\n"
     ]
    },
    {
     "output_type": "stream",
     "name": "stderr",
     "text": [
      "Evaluating: 100%|██████████| 5416/5416 [00:00<00:00, 41031.28it/s]\n"
     ]
    },
    {
     "output_type": "stream",
     "name": "stdout",
     "text": [
      "Train: 1.0000| Val: 0.7600| Test: 0.7920| Eval Time: 0.1380s\n",
      "Epoch 29| Loss: 0.0171| Acc: 1.0000| Train Time: 0.0170s\n"
     ]
    },
    {
     "output_type": "stream",
     "name": "stderr",
     "text": [
      "Evaluating: 100%|██████████| 5416/5416 [00:00<00:00, 44745.94it/s]\n"
     ]
    },
    {
     "output_type": "stream",
     "name": "stdout",
     "text": [
      "Train: 1.0000| Val: 0.7600| Test: 0.7910| Eval Time: 0.1270s\n",
      "Epoch 30| Loss: 0.0171| Acc: 1.0000| Train Time: 0.0190s\n"
     ]
    },
    {
     "output_type": "stream",
     "name": "stderr",
     "text": [
      "Evaluating: 100%|██████████| 5416/5416 [00:00<00:00, 45133.38it/s]\n"
     ]
    },
    {
     "output_type": "stream",
     "name": "stdout",
     "text": [
      "Train: 1.0000| Val: 0.7600| Test: 0.7880| Eval Time: 0.1250s\n",
      "Epoch 31| Loss: 0.0145| Acc: 1.0000| Train Time: 0.0160s\n"
     ]
    },
    {
     "output_type": "stream",
     "name": "stderr",
     "text": [
      "Evaluating: 100%|██████████| 5416/5416 [00:00<00:00, 42984.80it/s]\n"
     ]
    },
    {
     "output_type": "stream",
     "name": "stdout",
     "text": [
      "Train: 1.0000| Val: 0.7580| Test: 0.7840| Eval Time: 0.1320s\n",
      "Epoch 32| Loss: 0.0080| Acc: 1.0000| Train Time: 0.0150s\n"
     ]
    },
    {
     "output_type": "stream",
     "name": "stderr",
     "text": [
      "Evaluating: 100%|██████████| 5416/5416 [00:00<00:00, 41967.14it/s]\n"
     ]
    },
    {
     "output_type": "stream",
     "name": "stdout",
     "text": [
      "Train: 1.0000| Val: 0.7600| Test: 0.7830| Eval Time: 0.1341s\n",
      "Epoch 33| Loss: 0.0091| Acc: 1.0000| Train Time: 0.0160s\n"
     ]
    },
    {
     "output_type": "stream",
     "name": "stderr",
     "text": [
      "Evaluating: 100%|██████████| 5416/5416 [00:00<00:00, 41030.39it/s]\n"
     ]
    },
    {
     "output_type": "stream",
     "name": "stdout",
     "text": [
      "Train: 1.0000| Val: 0.7580| Test: 0.7830| Eval Time: 0.1370s\n",
      "Epoch 34| Loss: 0.0063| Acc: 1.0000| Train Time: 0.0180s\n"
     ]
    },
    {
     "output_type": "stream",
     "name": "stderr",
     "text": [
      "Evaluating: 100%|██████████| 5416/5416 [00:00<00:00, 49689.61it/s]\n"
     ]
    },
    {
     "output_type": "stream",
     "name": "stdout",
     "text": [
      "Train: 1.0000| Val: 0.7560| Test: 0.7820| Eval Time: 0.1140s\n",
      "Epoch 35| Loss: 0.0155| Acc: 1.0000| Train Time: 0.0180s\n"
     ]
    },
    {
     "output_type": "stream",
     "name": "stderr",
     "text": [
      "Evaluating: 100%|██████████| 5416/5416 [00:00<00:00, 44032.90it/s]\n"
     ]
    },
    {
     "output_type": "stream",
     "name": "stdout",
     "text": [
      "Train: 1.0000| Val: 0.7540| Test: 0.7820| Eval Time: 0.1290s\n",
      "Epoch 36| Loss: 0.0077| Acc: 1.0000| Train Time: 0.0170s\n"
     ]
    },
    {
     "output_type": "stream",
     "name": "stderr",
     "text": [
      "Evaluating: 100%|██████████| 5416/5416 [00:00<00:00, 41985.06it/s]\n"
     ]
    },
    {
     "output_type": "stream",
     "name": "stdout",
     "text": [
      "Train: 1.0000| Val: 0.7540| Test: 0.7790| Eval Time: 0.1350s\n",
      "Epoch 37| Loss: 0.0058| Acc: 1.0000| Train Time: 0.0180s\n"
     ]
    },
    {
     "output_type": "stream",
     "name": "stderr",
     "text": [
      "Evaluating: 100%|██████████| 5416/5416 [00:00<00:00, 45512.26it/s]\n"
     ]
    },
    {
     "output_type": "stream",
     "name": "stdout",
     "text": [
      "Train: 1.0000| Val: 0.7540| Test: 0.7800| Eval Time: 0.1240s\n",
      "Epoch 38| Loss: 0.0064| Acc: 1.0000| Train Time: 0.0180s\n"
     ]
    },
    {
     "output_type": "stream",
     "name": "stderr",
     "text": [
      "Evaluating: 100%|██████████| 5416/5416 [00:00<00:00, 41661.65it/s]\n"
     ]
    },
    {
     "output_type": "stream",
     "name": "stdout",
     "text": [
      "Train: 1.0000| Val: 0.7600| Test: 0.7810| Eval Time: 0.1360s\n",
      "Epoch 39| Loss: 0.0065| Acc: 1.0000| Train Time: 0.0200s\n"
     ]
    },
    {
     "output_type": "stream",
     "name": "stderr",
     "text": [
      "Evaluating: 100%|██████████| 5416/5416 [00:00<00:00, 43327.59it/s]\n"
     ]
    },
    {
     "output_type": "stream",
     "name": "stdout",
     "text": [
      "Train: 1.0000| Val: 0.7600| Test: 0.7800| Eval Time: 0.1310s\n",
      "Epoch 40| Loss: 0.0063| Acc: 1.0000| Train Time: 0.0180s\n"
     ]
    },
    {
     "output_type": "stream",
     "name": "stderr",
     "text": [
      "Evaluating: 100%|██████████| 5416/5416 [00:00<00:00, 45897.18it/s]\n"
     ]
    },
    {
     "output_type": "stream",
     "name": "stdout",
     "text": [
      "Train: 1.0000| Val: 0.7600| Test: 0.7790| Eval Time: 0.1240s\n",
      "Epoch 41| Loss: 0.0157| Acc: 1.0000| Train Time: 0.0170s\n"
     ]
    },
    {
     "output_type": "stream",
     "name": "stderr",
     "text": [
      "Evaluating: 100%|██████████| 5416/5416 [00:00<00:00, 43809.98it/s]\n"
     ]
    },
    {
     "output_type": "stream",
     "name": "stdout",
     "text": [
      "Train: 1.0000| Val: 0.7580| Test: 0.7780| Eval Time: 0.1286s\n",
      "Epoch 42| Loss: 0.0040| Acc: 1.0000| Train Time: 0.0180s\n"
     ]
    },
    {
     "output_type": "stream",
     "name": "stderr",
     "text": [
      "Evaluating: 100%|██████████| 5416/5416 [00:00<00:00, 46381.01it/s]\n"
     ]
    },
    {
     "output_type": "stream",
     "name": "stdout",
     "text": [
      "Train: 1.0000| Val: 0.7580| Test: 0.7760| Eval Time: 0.1228s\n",
      "Epoch 43| Loss: 0.0050| Acc: 1.0000| Train Time: 0.0190s\n"
     ]
    },
    {
     "output_type": "stream",
     "name": "stderr",
     "text": [
      "Evaluating: 100%|██████████| 5416/5416 [00:00<00:00, 47507.94it/s]\n"
     ]
    },
    {
     "output_type": "stream",
     "name": "stdout",
     "text": [
      "Train: 1.0000| Val: 0.7540| Test: 0.7760| Eval Time: 0.1200s\n",
      "Epoch 44| Loss: 0.0039| Acc: 1.0000| Train Time: 0.0200s\n"
     ]
    },
    {
     "output_type": "stream",
     "name": "stderr",
     "text": [
      "Evaluating: 100%|██████████| 5416/5416 [00:00<00:00, 49237.58it/s]\n"
     ]
    },
    {
     "output_type": "stream",
     "name": "stdout",
     "text": [
      "Train: 1.0000| Val: 0.7500| Test: 0.7770| Eval Time: 0.1160s\n",
      "Epoch 45| Loss: 0.0026| Acc: 1.0000| Train Time: 0.0190s\n"
     ]
    },
    {
     "output_type": "stream",
     "name": "stderr",
     "text": [
      "Evaluating: 100%|██████████| 5416/5416 [00:00<00:00, 41646.61it/s]\n"
     ]
    },
    {
     "output_type": "stream",
     "name": "stdout",
     "text": [
      "Train: 1.0000| Val: 0.7500| Test: 0.7770| Eval Time: 0.1360s\n",
      "Epoch 46| Loss: 0.0060| Acc: 1.0000| Train Time: 0.0170s\n"
     ]
    },
    {
     "output_type": "stream",
     "name": "stderr",
     "text": [
      "Evaluating: 100%|██████████| 5416/5416 [00:00<00:00, 41343.12it/s]\n"
     ]
    },
    {
     "output_type": "stream",
     "name": "stdout",
     "text": [
      "Train: 1.0000| Val: 0.7480| Test: 0.7780| Eval Time: 0.1380s\n",
      "Epoch 47| Loss: 0.0076| Acc: 1.0000| Train Time: 0.0170s\n"
     ]
    },
    {
     "output_type": "stream",
     "name": "stderr",
     "text": [
      "Evaluating: 100%|██████████| 5416/5416 [00:00<00:00, 41344.55it/s]\n"
     ]
    },
    {
     "output_type": "stream",
     "name": "stdout",
     "text": [
      "Train: 1.0000| Val: 0.7460| Test: 0.7780| Eval Time: 0.1360s\n",
      "Epoch 48| Loss: 0.0038| Acc: 1.0000| Train Time: 0.0150s\n"
     ]
    },
    {
     "output_type": "stream",
     "name": "stderr",
     "text": [
      "Evaluating: 100%|██████████| 5416/5416 [00:00<00:00, 45512.26it/s]\n"
     ]
    },
    {
     "output_type": "stream",
     "name": "stdout",
     "text": [
      "Train: 1.0000| Val: 0.7420| Test: 0.7790| Eval Time: 0.1230s\n",
      "Epoch 49| Loss: 0.0093| Acc: 1.0000| Train Time: 0.0190s\n"
     ]
    },
    {
     "output_type": "stream",
     "name": "stderr",
     "text": [
      "Evaluating: 100%|██████████| 5416/5416 [00:00<00:00, 47929.95it/s]\n"
     ]
    },
    {
     "output_type": "stream",
     "name": "stdout",
     "text": [
      "Train: 1.0000| Val: 0.7440| Test: 0.7790| Eval Time: 0.1180s\n",
      "Epoch 50| Loss: 0.0048| Acc: 1.0000| Train Time: 0.0180s\n"
     ]
    },
    {
     "output_type": "stream",
     "name": "stderr",
     "text": [
      "Evaluating: 100%|██████████| 5416/5416 [00:00<00:00, 49892.93it/s]\n"
     ]
    },
    {
     "output_type": "stream",
     "name": "stdout",
     "text": [
      "Train: 1.0000| Val: 0.7440| Test: 0.7780| Eval Time: 0.1136s\n",
      "Epoch 51| Loss: 0.0071| Acc: 1.0000| Train Time: 0.0155s\n"
     ]
    },
    {
     "output_type": "stream",
     "name": "stderr",
     "text": [
      "Evaluating: 100%|██████████| 5416/5416 [00:00<00:00, 47508.74it/s]\n"
     ]
    },
    {
     "output_type": "stream",
     "name": "stdout",
     "text": [
      "Train: 1.0000| Val: 0.7480| Test: 0.7780| Eval Time: 0.1200s\n",
      "Epoch 52| Loss: 0.0029| Acc: 1.0000| Train Time: 0.0180s\n"
     ]
    },
    {
     "output_type": "stream",
     "name": "stderr",
     "text": [
      "Evaluating: 100%|██████████| 5416/5416 [00:00<00:00, 42645.80it/s]\n"
     ]
    },
    {
     "output_type": "stream",
     "name": "stdout",
     "text": [
      "Train: 1.0000| Val: 0.7480| Test: 0.7790| Eval Time: 0.1340s\n",
      "Epoch 53| Loss: 0.0050| Acc: 1.0000| Train Time: 0.0180s\n"
     ]
    },
    {
     "output_type": "stream",
     "name": "stderr",
     "text": [
      "Evaluating: 100%|██████████| 5416/5416 [00:00<00:00, 41646.99it/s]\n"
     ]
    },
    {
     "output_type": "stream",
     "name": "stdout",
     "text": [
      "Train: 1.0000| Val: 0.7480| Test: 0.7760| Eval Time: 0.1360s\n",
      "Epoch 54| Loss: 0.0050| Acc: 1.0000| Train Time: 0.0180s\n"
     ]
    },
    {
     "output_type": "stream",
     "name": "stderr",
     "text": [
      "Evaluating: 100%|██████████| 5416/5416 [00:00<00:00, 40721.91it/s]\n"
     ]
    },
    {
     "output_type": "stream",
     "name": "stdout",
     "text": [
      "Train: 1.0000| Val: 0.7480| Test: 0.7750| Eval Time: 0.1410s\n",
      "\n",
      "Result of  3. run| Train: 0.9786| Val: 0.7780| Test: 0.7830\n",
      "\n",
      "Run 04:\n"
     ]
    },
    {
     "output_type": "stream",
     "name": "stderr",
     "text": [
      "Epoch 01: 100%|██████████| 140/140 [00:00<00:00, 5534.01it/s]\n"
     ]
    },
    {
     "output_type": "stream",
     "name": "stdout",
     "text": [
      "Epoch 01| Loss: 1.9644| Acc: 0.1571| Train Time: 0.0293s\n"
     ]
    },
    {
     "output_type": "stream",
     "name": "stderr",
     "text": [
      "Evaluating: 100%|██████████| 5416/5416 [00:00<00:00, 42646.12it/s]\n"
     ]
    },
    {
     "output_type": "stream",
     "name": "stdout",
     "text": [
      "Train: 0.8857| Val: 0.5980| Test: 0.6040| Eval Time: 0.1320s\n",
      "Epoch 02| Loss: 1.4633| Acc: 0.7071| Train Time: 0.0180s\n"
     ]
    },
    {
     "output_type": "stream",
     "name": "stderr",
     "text": [
      "Evaluating: 100%|██████████| 5416/5416 [00:00<00:00, 45897.74it/s]\n"
     ]
    },
    {
     "output_type": "stream",
     "name": "stdout",
     "text": [
      "Train: 0.9714| Val: 0.7200| Test: 0.7040| Eval Time: 0.1240s\n",
      "Epoch 03| Loss: 1.1275| Acc: 0.8786| Train Time: 0.0180s\n"
     ]
    },
    {
     "output_type": "stream",
     "name": "stderr",
     "text": [
      "Evaluating: 100%|██████████| 5416/5416 [00:00<00:00, 48356.94it/s]\n"
     ]
    },
    {
     "output_type": "stream",
     "name": "stdout",
     "text": [
      "Train: 0.9929| Val: 0.7360| Test: 0.7370| Eval Time: 0.1180s\n",
      "Epoch 04| Loss: 0.8647| Acc: 0.9214| Train Time: 0.0150s\n"
     ]
    },
    {
     "output_type": "stream",
     "name": "stderr",
     "text": [
      "Evaluating: 100%|██████████| 5416/5416 [00:00<00:00, 51574.85it/s]\n"
     ]
    },
    {
     "output_type": "stream",
     "name": "stdout",
     "text": [
      "Train: 0.9929| Val: 0.7520| Test: 0.7650| Eval Time: 0.1110s\n",
      "Epoch 05| Loss: 0.6689| Acc: 0.9429| Train Time: 0.0180s\n"
     ]
    },
    {
     "output_type": "stream",
     "name": "stderr",
     "text": [
      "Evaluating: 100%|██████████| 5416/5416 [00:00<00:00, 40424.51it/s]\n"
     ]
    },
    {
     "output_type": "stream",
     "name": "stdout",
     "text": [
      "Train: 0.9929| Val: 0.7740| Test: 0.7870| Eval Time: 0.1420s\n",
      "Epoch 06| Loss: 0.5675| Acc: 0.9429| Train Time: 0.0190s\n"
     ]
    },
    {
     "output_type": "stream",
     "name": "stderr",
     "text": [
      "Evaluating: 100%|██████████| 5416/5416 [00:00<00:00, 44938.38it/s]\n"
     ]
    },
    {
     "output_type": "stream",
     "name": "stdout",
     "text": [
      "Train: 0.9929| Val: 0.7820| Test: 0.8010| Eval Time: 0.1265s\n",
      "Epoch 07| Loss: 0.3991| Acc: 0.9714| Train Time: 0.0150s\n"
     ]
    },
    {
     "output_type": "stream",
     "name": "stderr",
     "text": [
      "Evaluating: 100%|██████████| 5416/5416 [00:00<00:00, 52077.24it/s]\n"
     ]
    },
    {
     "output_type": "stream",
     "name": "stdout",
     "text": [
      "Train: 0.9929| Val: 0.7900| Test: 0.8050| Eval Time: 0.1100s\n",
      "Epoch 08| Loss: 0.2953| Acc: 0.9857| Train Time: 0.0150s\n"
     ]
    },
    {
     "output_type": "stream",
     "name": "stderr",
     "text": [
      "Evaluating: 100%|██████████| 5416/5416 [00:00<00:00, 44393.45it/s]\n"
     ]
    },
    {
     "output_type": "stream",
     "name": "stdout",
     "text": [
      "Train: 1.0000| Val: 0.7980| Test: 0.8070| Eval Time: 0.1270s\n",
      "Epoch 09| Loss: 0.2349| Acc: 0.9929| Train Time: 0.0150s\n"
     ]
    },
    {
     "output_type": "stream",
     "name": "stderr",
     "text": [
      "Evaluating: 100%|██████████| 5416/5416 [00:00<00:00, 44759.52it/s]\n"
     ]
    },
    {
     "output_type": "stream",
     "name": "stdout",
     "text": [
      "Train: 1.0000| Val: 0.7940| Test: 0.8090| Eval Time: 0.1260s\n",
      "Epoch 10| Loss: 0.1845| Acc: 0.9857| Train Time: 0.0140s\n"
     ]
    },
    {
     "output_type": "stream",
     "name": "stderr",
     "text": [
      "Evaluating: 100%|██████████| 5416/5416 [00:00<00:00, 53097.92it/s]\n"
     ]
    },
    {
     "output_type": "stream",
     "name": "stdout",
     "text": [
      "Train: 1.0000| Val: 0.7860| Test: 0.8100| Eval Time: 0.1080s\n",
      "Epoch 11| Loss: 0.1666| Acc: 0.9929| Train Time: 0.0150s\n"
     ]
    },
    {
     "output_type": "stream",
     "name": "stderr",
     "text": [
      "Evaluating: 100%|██████████| 5416/5416 [00:00<00:00, 54681.67it/s]\n"
     ]
    },
    {
     "output_type": "stream",
     "name": "stdout",
     "text": [
      "Train: 1.0000| Val: 0.7880| Test: 0.8080| Eval Time: 0.1050s\n",
      "Epoch 12| Loss: 0.1536| Acc: 0.9929| Train Time: 0.0170s\n"
     ]
    },
    {
     "output_type": "stream",
     "name": "stderr",
     "text": [
      "Evaluating: 100%|██████████| 5416/5416 [00:00<00:00, 48357.15it/s]\n"
     ]
    },
    {
     "output_type": "stream",
     "name": "stdout",
     "text": [
      "Train: 1.0000| Val: 0.7880| Test: 0.8060| Eval Time: 0.1170s\n",
      "Epoch 13| Loss: 0.1055| Acc: 1.0000| Train Time: 0.0150s\n"
     ]
    },
    {
     "output_type": "stream",
     "name": "stderr",
     "text": [
      "Evaluating: 100%|██████████| 5416/5416 [00:00<00:00, 47491.55it/s]\n"
     ]
    },
    {
     "output_type": "stream",
     "name": "stdout",
     "text": [
      "Train: 1.0000| Val: 0.7920| Test: 0.8060| Eval Time: 0.1200s\n",
      "Epoch 14| Loss: 0.1230| Acc: 0.9857| Train Time: 0.0140s\n"
     ]
    },
    {
     "output_type": "stream",
     "name": "stderr",
     "text": [
      "Evaluating: 100%|██████████| 5416/5416 [00:00<00:00, 58870.02it/s]\n"
     ]
    },
    {
     "output_type": "stream",
     "name": "stdout",
     "text": [
      "Train: 1.0000| Val: 0.7940| Test: 0.8070| Eval Time: 0.0960s\n",
      "Epoch 15| Loss: 0.0787| Acc: 1.0000| Train Time: 0.0195s\n"
     ]
    },
    {
     "output_type": "stream",
     "name": "stderr",
     "text": [
      "Evaluating: 100%|██████████| 5416/5416 [00:00<00:00, 52582.56it/s]\n"
     ]
    },
    {
     "output_type": "stream",
     "name": "stdout",
     "text": [
      "Train: 1.0000| Val: 0.7920| Test: 0.8080| Eval Time: 0.1090s\n",
      "Epoch 16| Loss: 0.0650| Acc: 1.0000| Train Time: 0.0150s\n"
     ]
    },
    {
     "output_type": "stream",
     "name": "stderr",
     "text": [
      "Evaluating: 100%|██████████| 5416/5416 [00:00<00:00, 42807.89it/s]\n"
     ]
    },
    {
     "output_type": "stream",
     "name": "stdout",
     "text": [
      "Train: 1.0000| Val: 0.7880| Test: 0.8110| Eval Time: 0.1315s\n",
      "Epoch 17| Loss: 0.0394| Acc: 1.0000| Train Time: 0.0150s\n"
     ]
    },
    {
     "output_type": "stream",
     "name": "stderr",
     "text": [
      "Evaluating: 100%|██████████| 5416/5416 [00:00<00:00, 47095.16it/s]\n"
     ]
    },
    {
     "output_type": "stream",
     "name": "stdout",
     "text": [
      "Train: 1.0000| Val: 0.7880| Test: 0.8060| Eval Time: 0.1210s\n",
      "Epoch 18| Loss: 0.0354| Acc: 1.0000| Train Time: 0.0140s\n"
     ]
    },
    {
     "output_type": "stream",
     "name": "stderr",
     "text": [
      "Evaluating: 100%|██████████| 5416/5416 [00:00<00:00, 44760.22it/s]\n"
     ]
    },
    {
     "output_type": "stream",
     "name": "stdout",
     "text": [
      "Train: 1.0000| Val: 0.7880| Test: 0.8020| Eval Time: 0.1250s\n",
      "Epoch 19| Loss: 0.0348| Acc: 1.0000| Train Time: 0.0150s\n"
     ]
    },
    {
     "output_type": "stream",
     "name": "stderr",
     "text": [
      "Evaluating: 100%|██████████| 5416/5416 [00:00<00:00, 53623.85it/s]\n"
     ]
    },
    {
     "output_type": "stream",
     "name": "stdout",
     "text": [
      "Train: 1.0000| Val: 0.7820| Test: 0.8040| Eval Time: 0.1060s\n",
      "Epoch 20| Loss: 0.0428| Acc: 1.0000| Train Time: 0.0180s\n"
     ]
    },
    {
     "output_type": "stream",
     "name": "stderr",
     "text": [
      "Evaluating: 100%|██████████| 5416/5416 [00:00<00:00, 56419.07it/s]\n"
     ]
    },
    {
     "output_type": "stream",
     "name": "stdout",
     "text": [
      "Train: 1.0000| Val: 0.7780| Test: 0.8000| Eval Time: 0.1020s\n",
      "Epoch 21| Loss: 0.0331| Acc: 1.0000| Train Time: 0.0170s\n"
     ]
    },
    {
     "output_type": "stream",
     "name": "stderr",
     "text": [
      "Evaluating: 100%|██████████| 5416/5416 [00:00<00:00, 43327.67it/s]\n"
     ]
    },
    {
     "output_type": "stream",
     "name": "stdout",
     "text": [
      "Train: 1.0000| Val: 0.7800| Test: 0.7980| Eval Time: 0.1310s\n",
      "Epoch 22| Loss: 0.0238| Acc: 1.0000| Train Time: 0.0180s\n"
     ]
    },
    {
     "output_type": "stream",
     "name": "stderr",
     "text": [
      "Evaluating: 100%|██████████| 5416/5416 [00:00<00:00, 43327.83it/s]\n"
     ]
    },
    {
     "output_type": "stream",
     "name": "stdout",
     "text": [
      "Train: 1.0000| Val: 0.7760| Test: 0.7910| Eval Time: 0.1320s\n",
      "Epoch 23| Loss: 0.0189| Acc: 1.0000| Train Time: 0.0190s\n"
     ]
    },
    {
     "output_type": "stream",
     "name": "stderr",
     "text": [
      "Evaluating: 100%|██████████| 5416/5416 [00:00<00:00, 48357.25it/s]\n"
     ]
    },
    {
     "output_type": "stream",
     "name": "stdout",
     "text": [
      "Train: 1.0000| Val: 0.7740| Test: 0.7910| Eval Time: 0.1170s\n",
      "Epoch 24| Loss: 0.0195| Acc: 1.0000| Train Time: 0.0180s\n"
     ]
    },
    {
     "output_type": "stream",
     "name": "stderr",
     "text": [
      "Evaluating: 100%|██████████| 5416/5416 [00:00<00:00, 42124.50it/s]\n"
     ]
    },
    {
     "output_type": "stream",
     "name": "stdout",
     "text": [
      "Train: 1.0000| Val: 0.7740| Test: 0.7890| Eval Time: 0.1346s\n",
      "Epoch 25| Loss: 0.0153| Acc: 1.0000| Train Time: 0.0190s\n"
     ]
    },
    {
     "output_type": "stream",
     "name": "stderr",
     "text": [
      "Evaluating: 100%|██████████| 5416/5416 [00:00<00:00, 47488.28it/s]\n"
     ]
    },
    {
     "output_type": "stream",
     "name": "stdout",
     "text": [
      "Train: 1.0000| Val: 0.7700| Test: 0.7880| Eval Time: 0.1200s\n",
      "Epoch 26| Loss: 0.0214| Acc: 1.0000| Train Time: 0.0150s\n"
     ]
    },
    {
     "output_type": "stream",
     "name": "stderr",
     "text": [
      "Evaluating: 100%|██████████| 5416/5416 [00:00<00:00, 45897.09it/s]\n"
     ]
    },
    {
     "output_type": "stream",
     "name": "stdout",
     "text": [
      "Train: 1.0000| Val: 0.7720| Test: 0.7890| Eval Time: 0.1230s\n",
      "Epoch 27| Loss: 0.0184| Acc: 1.0000| Train Time: 0.0180s\n"
     ]
    },
    {
     "output_type": "stream",
     "name": "stderr",
     "text": [
      "Evaluating: 100%|██████████| 5416/5416 [00:00<00:00, 43656.41it/s]\n"
     ]
    },
    {
     "output_type": "stream",
     "name": "stdout",
     "text": [
      "Train: 1.0000| Val: 0.7720| Test: 0.7910| Eval Time: 0.1291s\n",
      "Epoch 28| Loss: 0.0061| Acc: 1.0000| Train Time: 0.0170s\n"
     ]
    },
    {
     "output_type": "stream",
     "name": "stderr",
     "text": [
      "Evaluating: 100%|██████████| 5416/5416 [00:00<00:00, 50616.88it/s]\n"
     ]
    },
    {
     "output_type": "stream",
     "name": "stdout",
     "text": [
      "Train: 1.0000| Val: 0.7720| Test: 0.7910| Eval Time: 0.1120s\n",
      "Epoch 29| Loss: 0.0110| Acc: 1.0000| Train Time: 0.0140s\n"
     ]
    },
    {
     "output_type": "stream",
     "name": "stderr",
     "text": [
      "Evaluating: 100%|██████████| 5416/5416 [00:00<00:00, 52580.86it/s]\n"
     ]
    },
    {
     "output_type": "stream",
     "name": "stdout",
     "text": [
      "Train: 1.0000| Val: 0.7760| Test: 0.7910| Eval Time: 0.1080s\n",
      "Epoch 30| Loss: 0.0206| Acc: 1.0000| Train Time: 0.0140s\n"
     ]
    },
    {
     "output_type": "stream",
     "name": "stderr",
     "text": [
      "Evaluating: 100%|██████████| 5416/5416 [00:00<00:00, 52430.01it/s]\n"
     ]
    },
    {
     "output_type": "stream",
     "name": "stdout",
     "text": [
      "Train: 1.0000| Val: 0.7760| Test: 0.7920| Eval Time: 0.1093s\n",
      "Epoch 31| Loss: 0.0149| Acc: 1.0000| Train Time: 0.0180s\n"
     ]
    },
    {
     "output_type": "stream",
     "name": "stderr",
     "text": [
      "Evaluating: 100%|██████████| 5416/5416 [00:00<00:00, 52582.56it/s]\n"
     ]
    },
    {
     "output_type": "stream",
     "name": "stdout",
     "text": [
      "Train: 1.0000| Val: 0.7780| Test: 0.7910| Eval Time: 0.1090s\n",
      "Epoch 32| Loss: 0.0057| Acc: 1.0000| Train Time: 0.0140s\n"
     ]
    },
    {
     "output_type": "stream",
     "name": "stderr",
     "text": [
      "Evaluating: 100%|██████████| 5416/5416 [00:00<00:00, 52077.71it/s]\n"
     ]
    },
    {
     "output_type": "stream",
     "name": "stdout",
     "text": [
      "Train: 1.0000| Val: 0.7800| Test: 0.7890| Eval Time: 0.1090s\n",
      "Epoch 33| Loss: 0.0099| Acc: 1.0000| Train Time: 0.0150s\n"
     ]
    },
    {
     "output_type": "stream",
     "name": "stderr",
     "text": [
      "Evaluating: 100%|██████████| 5416/5416 [00:00<00:00, 52583.41it/s]\n"
     ]
    },
    {
     "output_type": "stream",
     "name": "stdout",
     "text": [
      "Train: 1.0000| Val: 0.7800| Test: 0.7870| Eval Time: 0.1080s\n",
      "Epoch 34| Loss: 0.0079| Acc: 1.0000| Train Time: 0.0140s\n"
     ]
    },
    {
     "output_type": "stream",
     "name": "stderr",
     "text": [
      "Evaluating: 100%|██████████| 5416/5416 [00:00<00:00, 42646.28it/s]\n"
     ]
    },
    {
     "output_type": "stream",
     "name": "stdout",
     "text": [
      "Train: 1.0000| Val: 0.7800| Test: 0.7850| Eval Time: 0.1340s\n",
      "Epoch 35| Loss: 0.0100| Acc: 1.0000| Train Time: 0.0190s\n"
     ]
    },
    {
     "output_type": "stream",
     "name": "stderr",
     "text": [
      "Evaluating: 100%|██████████| 5416/5416 [00:00<00:00, 47095.45it/s]\n"
     ]
    },
    {
     "output_type": "stream",
     "name": "stdout",
     "text": [
      "Train: 1.0000| Val: 0.7800| Test: 0.7840| Eval Time: 0.1210s\n",
      "Epoch 36| Loss: 0.0044| Acc: 1.0000| Train Time: 0.0150s\n"
     ]
    },
    {
     "output_type": "stream",
     "name": "stderr",
     "text": [
      "Evaluating: 100%|██████████| 5416/5416 [00:00<00:00, 47095.55it/s]\n"
     ]
    },
    {
     "output_type": "stream",
     "name": "stdout",
     "text": [
      "Train: 1.0000| Val: 0.7820| Test: 0.7830| Eval Time: 0.1210s\n",
      "Epoch 37| Loss: 0.0047| Acc: 1.0000| Train Time: 0.0180s\n"
     ]
    },
    {
     "output_type": "stream",
     "name": "stderr",
     "text": [
      "Evaluating: 100%|██████████| 5416/5416 [00:00<00:00, 47509.63it/s]\n"
     ]
    },
    {
     "output_type": "stream",
     "name": "stdout",
     "text": [
      "Train: 1.0000| Val: 0.7840| Test: 0.7840| Eval Time: 0.1200s\n",
      "Epoch 38| Loss: 0.0070| Acc: 1.0000| Train Time: 0.0170s\n"
     ]
    },
    {
     "output_type": "stream",
     "name": "stderr",
     "text": [
      "Evaluating: 100%|██████████| 5416/5416 [00:00<00:00, 41662.57it/s]\n"
     ]
    },
    {
     "output_type": "stream",
     "name": "stdout",
     "text": [
      "Train: 1.0000| Val: 0.7840| Test: 0.7840| Eval Time: 0.1350s\n",
      "Epoch 39| Loss: 0.0099| Acc: 1.0000| Train Time: 0.0160s\n"
     ]
    },
    {
     "output_type": "stream",
     "name": "stderr",
     "text": [
      "Evaluating: 100%|██████████| 5416/5416 [00:00<00:00, 44761.28it/s]\n"
     ]
    },
    {
     "output_type": "stream",
     "name": "stdout",
     "text": [
      "Train: 1.0000| Val: 0.7840| Test: 0.7850| Eval Time: 0.1270s\n",
      "Epoch 40| Loss: 0.0098| Acc: 1.0000| Train Time: 0.0160s\n"
     ]
    },
    {
     "output_type": "stream",
     "name": "stderr",
     "text": [
      "Evaluating: 100%|██████████| 5416/5416 [00:00<00:00, 47095.45it/s]\n"
     ]
    },
    {
     "output_type": "stream",
     "name": "stdout",
     "text": [
      "Train: 1.0000| Val: 0.7840| Test: 0.7870| Eval Time: 0.1200s\n",
      "Epoch 41| Loss: 0.0092| Acc: 1.0000| Train Time: 0.0180s\n"
     ]
    },
    {
     "output_type": "stream",
     "name": "stderr",
     "text": [
      "Evaluating: 100%|██████████| 5416/5416 [00:00<00:00, 49432.80it/s]\n"
     ]
    },
    {
     "output_type": "stream",
     "name": "stdout",
     "text": [
      "Train: 1.0000| Val: 0.7780| Test: 0.7860| Eval Time: 0.1156s\n",
      "Epoch 42| Loss: 0.0172| Acc: 1.0000| Train Time: 0.0150s\n"
     ]
    },
    {
     "output_type": "stream",
     "name": "stderr",
     "text": [
      "Evaluating: 100%|██████████| 5416/5416 [00:00<00:00, 52076.40it/s]\n"
     ]
    },
    {
     "output_type": "stream",
     "name": "stdout",
     "text": [
      "Train: 1.0000| Val: 0.7760| Test: 0.7840| Eval Time: 0.1090s\n",
      "Epoch 43| Loss: 0.0065| Acc: 1.0000| Train Time: 0.0180s\n"
     ]
    },
    {
     "output_type": "stream",
     "name": "stderr",
     "text": [
      "Evaluating: 100%|██████████| 5416/5416 [00:00<00:00, 55836.49it/s]\n"
     ]
    },
    {
     "output_type": "stream",
     "name": "stdout",
     "text": [
      "Train: 1.0000| Val: 0.7780| Test: 0.7820| Eval Time: 0.1020s\n",
      "Epoch 44| Loss: 0.0038| Acc: 1.0000| Train Time: 0.0170s\n"
     ]
    },
    {
     "output_type": "stream",
     "name": "stderr",
     "text": [
      "Evaluating: 100%|██████████| 5416/5416 [00:00<00:00, 57010.80it/s]\n"
     ]
    },
    {
     "output_type": "stream",
     "name": "stdout",
     "text": [
      "Train: 1.0000| Val: 0.7780| Test: 0.7810| Eval Time: 0.1000s\n",
      "Epoch 45| Loss: 0.0174| Acc: 1.0000| Train Time: 0.0150s\n"
     ]
    },
    {
     "output_type": "stream",
     "name": "stderr",
     "text": [
      "Evaluating: 100%|██████████| 5416/5416 [00:00<00:00, 50080.80it/s]\n"
     ]
    },
    {
     "output_type": "stream",
     "name": "stdout",
     "text": [
      "Train: 1.0000| Val: 0.7800| Test: 0.7800| Eval Time: 0.1151s\n",
      "Epoch 46| Loss: 0.0121| Acc: 1.0000| Train Time: 0.0170s\n"
     ]
    },
    {
     "output_type": "stream",
     "name": "stderr",
     "text": [
      "Evaluating: 100%|██████████| 5416/5416 [00:00<00:00, 50130.31it/s]\n"
     ]
    },
    {
     "output_type": "stream",
     "name": "stdout",
     "text": [
      "Train: 1.0000| Val: 0.7800| Test: 0.7790| Eval Time: 0.1140s\n",
      "Epoch 47| Loss: 0.0037| Acc: 1.0000| Train Time: 0.0120s\n"
     ]
    },
    {
     "output_type": "stream",
     "name": "stderr",
     "text": [
      "Evaluating: 100%|██████████| 5416/5416 [00:00<00:00, 51094.02it/s]\n"
     ]
    },
    {
     "output_type": "stream",
     "name": "stdout",
     "text": [
      "Train: 1.0000| Val: 0.7780| Test: 0.7780| Eval Time: 0.1110s\n",
      "Epoch 48| Loss: 0.0064| Acc: 1.0000| Train Time: 0.0160s\n"
     ]
    },
    {
     "output_type": "stream",
     "name": "stderr",
     "text": [
      "Evaluating: 100%|██████████| 5416/5416 [00:00<00:00, 46290.65it/s]\n"
     ]
    },
    {
     "output_type": "stream",
     "name": "stdout",
     "text": [
      "Train: 1.0000| Val: 0.7760| Test: 0.7780| Eval Time: 0.1230s\n",
      "Epoch 49| Loss: 0.0075| Acc: 1.0000| Train Time: 0.0170s\n"
     ]
    },
    {
     "output_type": "stream",
     "name": "stderr",
     "text": [
      "Evaluating: 100%|██████████| 5416/5416 [00:00<00:00, 42984.31it/s]\n"
     ]
    },
    {
     "output_type": "stream",
     "name": "stdout",
     "text": [
      "Train: 1.0000| Val: 0.7760| Test: 0.7800| Eval Time: 0.1320s\n",
      "Epoch 50| Loss: 0.0032| Acc: 1.0000| Train Time: 0.0170s\n"
     ]
    },
    {
     "output_type": "stream",
     "name": "stderr",
     "text": [
      "Evaluating: 100%|██████████| 5416/5416 [00:00<00:00, 37874.85it/s]\n"
     ]
    },
    {
     "output_type": "stream",
     "name": "stdout",
     "text": [
      "Train: 1.0000| Val: 0.7760| Test: 0.7800| Eval Time: 0.1490s\n",
      "Epoch 51| Loss: 0.0027| Acc: 1.0000| Train Time: 0.0200s\n"
     ]
    },
    {
     "output_type": "stream",
     "name": "stderr",
     "text": [
      "Evaluating: 100%|██████████| 5416/5416 [00:00<00:00, 41662.11it/s]\n"
     ]
    },
    {
     "output_type": "stream",
     "name": "stdout",
     "text": [
      "Train: 1.0000| Val: 0.7780| Test: 0.7800| Eval Time: 0.1370s\n",
      "Epoch 52| Loss: 0.0024| Acc: 1.0000| Train Time: 0.0160s\n"
     ]
    },
    {
     "output_type": "stream",
     "name": "stderr",
     "text": [
      "Evaluating: 100%|██████████| 5416/5416 [00:00<00:00, 45898.76it/s]\n"
     ]
    },
    {
     "output_type": "stream",
     "name": "stdout",
     "text": [
      "Train: 1.0000| Val: 0.7780| Test: 0.7810| Eval Time: 0.1240s\n",
      "Epoch 53| Loss: 0.0065| Acc: 1.0000| Train Time: 0.0190s\n"
     ]
    },
    {
     "output_type": "stream",
     "name": "stderr",
     "text": [
      "Evaluating: 100%|██████████| 5416/5416 [00:00<00:00, 51581.88it/s]\n"
     ]
    },
    {
     "output_type": "stream",
     "name": "stdout",
     "text": [
      "Train: 1.0000| Val: 0.7740| Test: 0.7800| Eval Time: 0.1100s\n",
      "Epoch 54| Loss: 0.0054| Acc: 1.0000| Train Time: 0.0150s\n"
     ]
    },
    {
     "output_type": "stream",
     "name": "stderr",
     "text": [
      "Evaluating: 100%|██████████| 5416/5416 [00:00<00:00, 53097.92it/s]\n"
     ]
    },
    {
     "output_type": "stream",
     "name": "stdout",
     "text": [
      "Train: 1.0000| Val: 0.7740| Test: 0.7800| Eval Time: 0.1080s\n",
      "Epoch 55| Loss: 0.0025| Acc: 1.0000| Train Time: 0.0150s\n"
     ]
    },
    {
     "output_type": "stream",
     "name": "stderr",
     "text": [
      "Evaluating: 100%|██████████| 5416/5416 [00:00<00:00, 49689.07it/s]\n"
     ]
    },
    {
     "output_type": "stream",
     "name": "stdout",
     "text": [
      "Train: 1.0000| Val: 0.7760| Test: 0.7810| Eval Time: 0.1130s\n",
      "Epoch 56| Loss: 0.0043| Acc: 1.0000| Train Time: 0.0170s\n"
     ]
    },
    {
     "output_type": "stream",
     "name": "stderr",
     "text": [
      "Evaluating: 100%|██████████| 5416/5416 [00:00<00:00, 53625.88it/s]\n"
     ]
    },
    {
     "output_type": "stream",
     "name": "stdout",
     "text": [
      "Train: 1.0000| Val: 0.7760| Test: 0.7810| Eval Time: 0.1070s\n",
      "Epoch 57| Loss: 0.0015| Acc: 1.0000| Train Time: 0.0150s\n"
     ]
    },
    {
     "output_type": "stream",
     "name": "stderr",
     "text": [
      "Evaluating: 100%|██████████| 5416/5416 [00:00<00:00, 50148.35it/s]\n"
     ]
    },
    {
     "output_type": "stream",
     "name": "stdout",
     "text": [
      "Train: 1.0000| Val: 0.7760| Test: 0.7810| Eval Time: 0.1140s\n",
      "Epoch 58| Loss: 0.0030| Acc: 1.0000| Train Time: 0.0170s\n"
     ]
    },
    {
     "output_type": "stream",
     "name": "stderr",
     "text": [
      "Evaluating: 100%|██████████| 5416/5416 [00:00<00:00, 55265.41it/s]\n"
     ]
    },
    {
     "output_type": "stream",
     "name": "stdout",
     "text": [
      "Train: 1.0000| Val: 0.7780| Test: 0.7820| Eval Time: 0.1030s\n",
      "\n",
      "Result of  4. run| Train: 1.0000| Val: 0.7980| Test: 0.8070\n",
      "\n",
      "Run 05:\n"
     ]
    },
    {
     "output_type": "stream",
     "name": "stderr",
     "text": [
      "Epoch 01: 100%|██████████| 140/140 [00:00<00:00, 8236.12it/s]\n"
     ]
    },
    {
     "output_type": "stream",
     "name": "stdout",
     "text": [
      "Epoch 01| Loss: 1.9865| Acc: 0.1714| Train Time: 0.0200s\n"
     ]
    },
    {
     "output_type": "stream",
     "name": "stderr",
     "text": [
      "Evaluating: 100%|██████████| 5416/5416 [00:00<00:00, 55265.14it/s]\n"
     ]
    },
    {
     "output_type": "stream",
     "name": "stdout",
     "text": [
      "Train: 0.8857| Val: 0.6600| Test: 0.6850| Eval Time: 0.1031s\n",
      "Epoch 02| Loss: 1.4995| Acc: 0.7571| Train Time: 0.0150s\n"
     ]
    },
    {
     "output_type": "stream",
     "name": "stderr",
     "text": [
      "Evaluating: 100%|██████████| 5416/5416 [00:00<00:00, 52075.92it/s]\n"
     ]
    },
    {
     "output_type": "stream",
     "name": "stdout",
     "text": [
      "Train: 0.9786| Val: 0.7640| Test: 0.7660| Eval Time: 0.1110s\n",
      "Epoch 03| Loss: 1.1127| Acc: 0.8786| Train Time: 0.0160s\n"
     ]
    },
    {
     "output_type": "stream",
     "name": "stderr",
     "text": [
      "Evaluating: 100%|██████████| 5416/5416 [00:00<00:00, 44393.80it/s]\n"
     ]
    },
    {
     "output_type": "stream",
     "name": "stdout",
     "text": [
      "Train: 0.9857| Val: 0.7740| Test: 0.7870| Eval Time: 0.1270s\n",
      "Epoch 04| Loss: 0.9438| Acc: 0.8857| Train Time: 0.0150s\n"
     ]
    },
    {
     "output_type": "stream",
     "name": "stderr",
     "text": [
      "Evaluating: 100%|██████████| 5416/5416 [00:00<00:00, 49236.94it/s]\n"
     ]
    },
    {
     "output_type": "stream",
     "name": "stdout",
     "text": [
      "Train: 0.9929| Val: 0.7800| Test: 0.7960| Eval Time: 0.1160s\n",
      "Epoch 05| Loss: 0.6622| Acc: 0.9357| Train Time: 0.0150s\n"
     ]
    },
    {
     "output_type": "stream",
     "name": "stderr",
     "text": [
      "Evaluating: 100%|██████████| 5416/5416 [00:00<00:00, 53097.92it/s]\n"
     ]
    },
    {
     "output_type": "stream",
     "name": "stdout",
     "text": [
      "Train: 1.0000| Val: 0.7880| Test: 0.8020| Eval Time: 0.1080s\n",
      "Epoch 06| Loss: 0.5246| Acc: 0.9714| Train Time: 0.0160s\n"
     ]
    },
    {
     "output_type": "stream",
     "name": "stderr",
     "text": [
      "Evaluating: 100%|██████████| 5416/5416 [00:00<00:00, 52582.44it/s]\n"
     ]
    },
    {
     "output_type": "stream",
     "name": "stdout",
     "text": [
      "Train: 1.0000| Val: 0.7920| Test: 0.7990| Eval Time: 0.1090s\n",
      "Epoch 07| Loss: 0.4006| Acc: 0.9857| Train Time: 0.0170s\n"
     ]
    },
    {
     "output_type": "stream",
     "name": "stderr",
     "text": [
      "Evaluating: 100%|██████████| 5416/5416 [00:00<00:00, 50126.00it/s]\n"
     ]
    },
    {
     "output_type": "stream",
     "name": "stdout",
     "text": [
      "Train: 1.0000| Val: 0.7820| Test: 0.7950| Eval Time: 0.1131s\n",
      "Epoch 08| Loss: 0.4023| Acc: 0.9643| Train Time: 0.0180s\n"
     ]
    },
    {
     "output_type": "stream",
     "name": "stderr",
     "text": [
      "Evaluating: 100%|██████████| 5416/5416 [00:00<00:00, 47509.43it/s]\n"
     ]
    },
    {
     "output_type": "stream",
     "name": "stdout",
     "text": [
      "Train: 1.0000| Val: 0.7720| Test: 0.7890| Eval Time: 0.1190s\n",
      "Epoch 09| Loss: 0.2717| Acc: 0.9929| Train Time: 0.0186s\n"
     ]
    },
    {
     "output_type": "stream",
     "name": "stderr",
     "text": [
      "Evaluating: 100%|██████████| 5416/5416 [00:00<00:00, 52076.04it/s]\n"
     ]
    },
    {
     "output_type": "stream",
     "name": "stdout",
     "text": [
      "Train: 1.0000| Val: 0.7680| Test: 0.7860| Eval Time: 0.1100s\n",
      "Epoch 10| Loss: 0.2771| Acc: 0.9929| Train Time: 0.0140s\n"
     ]
    },
    {
     "output_type": "stream",
     "name": "stderr",
     "text": [
      "Evaluating: 100%|██████████| 5416/5416 [00:00<00:00, 44393.97it/s]\n"
     ]
    },
    {
     "output_type": "stream",
     "name": "stdout",
     "text": [
      "Train: 1.0000| Val: 0.7580| Test: 0.7870| Eval Time: 0.1290s\n",
      "Epoch 11| Loss: 0.1659| Acc: 1.0000| Train Time: 0.0180s\n"
     ]
    },
    {
     "output_type": "stream",
     "name": "stderr",
     "text": [
      "Evaluating: 100%|██████████| 5416/5416 [00:00<00:00, 43677.73it/s]\n"
     ]
    },
    {
     "output_type": "stream",
     "name": "stdout",
     "text": [
      "Train: 1.0000| Val: 0.7580| Test: 0.7870| Eval Time: 0.1290s\n",
      "Epoch 12| Loss: 0.1472| Acc: 0.9929| Train Time: 0.0150s\n"
     ]
    },
    {
     "output_type": "stream",
     "name": "stderr",
     "text": [
      "Evaluating: 100%|██████████| 5416/5416 [00:00<00:00, 42983.91it/s]\n"
     ]
    },
    {
     "output_type": "stream",
     "name": "stdout",
     "text": [
      "Train: 1.0000| Val: 0.7520| Test: 0.7810| Eval Time: 0.1310s\n",
      "Epoch 13| Loss: 0.1184| Acc: 0.9929| Train Time: 0.0200s\n"
     ]
    },
    {
     "output_type": "stream",
     "name": "stderr",
     "text": [
      "Evaluating: 100%|██████████| 5416/5416 [00:00<00:00, 39246.51it/s]"
     ]
    },
    {
     "output_type": "stream",
     "name": "stdout",
     "text": [
      "Train: 1.0000| Val: 0.7520| Test: 0.7810| Eval Time: 0.1440s\n",
      "Epoch 14| Loss: 0.1456| Acc: 0.9929| Train Time: 0.0190s\n"
     ]
    },
    {
     "output_type": "stream",
     "name": "stderr",
     "text": [
      "\n",
      "Evaluating: 100%|██████████| 5416/5416 [00:00<00:00, 42985.05it/s]\n"
     ]
    },
    {
     "output_type": "stream",
     "name": "stdout",
     "text": [
      "Train: 1.0000| Val: 0.7560| Test: 0.7790| Eval Time: 0.1330s\n",
      "Epoch 15| Loss: 0.1037| Acc: 0.9929| Train Time: 0.0210s\n"
     ]
    },
    {
     "output_type": "stream",
     "name": "stderr",
     "text": [
      "Evaluating: 100%|██████████| 5416/5416 [00:00<00:00, 40118.10it/s]\n"
     ]
    },
    {
     "output_type": "stream",
     "name": "stdout",
     "text": [
      "Train: 1.0000| Val: 0.7580| Test: 0.7800| Eval Time: 0.1400s\n",
      "Epoch 16| Loss: 0.0836| Acc: 1.0000| Train Time: 0.0200s\n"
     ]
    },
    {
     "output_type": "stream",
     "name": "stderr",
     "text": [
      "Evaluating: 100%|██████████| 5416/5416 [00:00<00:00, 49566.01it/s]\n"
     ]
    },
    {
     "output_type": "stream",
     "name": "stdout",
     "text": [
      "Train: 1.0000| Val: 0.7560| Test: 0.7820| Eval Time: 0.1163s\n",
      "Epoch 17| Loss: 0.0647| Acc: 1.0000| Train Time: 0.0190s\n"
     ]
    },
    {
     "output_type": "stream",
     "name": "stderr",
     "text": [
      "Evaluating: 100%|██████████| 5416/5416 [00:00<00:00, 42646.44it/s]\n"
     ]
    },
    {
     "output_type": "stream",
     "name": "stdout",
     "text": [
      "Train: 1.0000| Val: 0.7620| Test: 0.7840| Eval Time: 0.1330s\n",
      "Epoch 18| Loss: 0.0498| Acc: 1.0000| Train Time: 0.0150s\n"
     ]
    },
    {
     "output_type": "stream",
     "name": "stderr",
     "text": [
      "Evaluating: 100%|██████████| 5416/5416 [00:00<00:00, 44938.73it/s]\n"
     ]
    },
    {
     "output_type": "stream",
     "name": "stdout",
     "text": [
      "Train: 1.0000| Val: 0.7680| Test: 0.7850| Eval Time: 0.1255s\n",
      "Epoch 19| Loss: 0.0533| Acc: 1.0000| Train Time: 0.0170s\n"
     ]
    },
    {
     "output_type": "stream",
     "name": "stderr",
     "text": [
      "Evaluating: 100%|██████████| 5416/5416 [00:00<00:00, 47507.74it/s]\n"
     ]
    },
    {
     "output_type": "stream",
     "name": "stdout",
     "text": [
      "Train: 1.0000| Val: 0.7700| Test: 0.7840| Eval Time: 0.1200s\n",
      "Epoch 20| Loss: 0.0488| Acc: 0.9929| Train Time: 0.0150s\n"
     ]
    },
    {
     "output_type": "stream",
     "name": "stderr",
     "text": [
      "Evaluating: 100%|██████████| 5416/5416 [00:00<00:00, 49687.98it/s]\n"
     ]
    },
    {
     "output_type": "stream",
     "name": "stdout",
     "text": [
      "Train: 1.0000| Val: 0.7720| Test: 0.7860| Eval Time: 0.1160s\n",
      "Epoch 21| Loss: 0.0410| Acc: 1.0000| Train Time: 0.0160s\n"
     ]
    },
    {
     "output_type": "stream",
     "name": "stderr",
     "text": [
      "Evaluating: 100%|██████████| 5416/5416 [00:00<00:00, 33850.79it/s]\n"
     ]
    },
    {
     "output_type": "stream",
     "name": "stdout",
     "text": [
      "Train: 1.0000| Val: 0.7740| Test: 0.7880| Eval Time: 0.1650s\n",
      "Epoch 22| Loss: 0.0273| Acc: 1.0000| Train Time: 0.0190s\n"
     ]
    },
    {
     "output_type": "stream",
     "name": "stderr",
     "text": [
      "Evaluating: 100%|██████████| 5416/5416 [00:00<00:00, 52082.49it/s]\n"
     ]
    },
    {
     "output_type": "stream",
     "name": "stdout",
     "text": [
      "Train: 1.0000| Val: 0.7700| Test: 0.7880| Eval Time: 0.1110s\n",
      "Epoch 23| Loss: 0.0369| Acc: 1.0000| Train Time: 0.0150s\n"
     ]
    },
    {
     "output_type": "stream",
     "name": "stderr",
     "text": [
      "Evaluating: 100%|██████████| 5416/5416 [00:00<00:00, 44393.88it/s]\n"
     ]
    },
    {
     "output_type": "stream",
     "name": "stdout",
     "text": [
      "Train: 1.0000| Val: 0.7760| Test: 0.7830| Eval Time: 0.1270s\n",
      "Epoch 24| Loss: 0.0256| Acc: 1.0000| Train Time: 0.0190s\n"
     ]
    },
    {
     "output_type": "stream",
     "name": "stderr",
     "text": [
      "Evaluating: 100%|██████████| 5416/5416 [00:00<00:00, 45694.90it/s]\n"
     ]
    },
    {
     "output_type": "stream",
     "name": "stdout",
     "text": [
      "Train: 1.0000| Val: 0.7740| Test: 0.7860| Eval Time: 0.1245s\n",
      "Epoch 25| Loss: 0.0189| Acc: 1.0000| Train Time: 0.0150s\n"
     ]
    },
    {
     "output_type": "stream",
     "name": "stderr",
     "text": [
      "Evaluating: 100%|██████████| 5416/5416 [00:00<00:00, 49688.41it/s]\n"
     ]
    },
    {
     "output_type": "stream",
     "name": "stdout",
     "text": [
      "Train: 1.0000| Val: 0.7740| Test: 0.7900| Eval Time: 0.1150s\n",
      "Epoch 26| Loss: 0.0429| Acc: 0.9929| Train Time: 0.0180s\n"
     ]
    },
    {
     "output_type": "stream",
     "name": "stderr",
     "text": [
      "Evaluating: 100%|██████████| 5416/5416 [00:00<00:00, 53098.04it/s]\n"
     ]
    },
    {
     "output_type": "stream",
     "name": "stdout",
     "text": [
      "Train: 1.0000| Val: 0.7740| Test: 0.7900| Eval Time: 0.1080s\n",
      "Epoch 27| Loss: 0.0166| Acc: 1.0000| Train Time: 0.0170s\n"
     ]
    },
    {
     "output_type": "stream",
     "name": "stderr",
     "text": [
      "Evaluating: 100%|██████████| 5416/5416 [00:00<00:00, 43664.80it/s]\n"
     ]
    },
    {
     "output_type": "stream",
     "name": "stdout",
     "text": [
      "Train: 1.0000| Val: 0.7760| Test: 0.7890| Eval Time: 0.1310s\n",
      "Epoch 28| Loss: 0.0142| Acc: 1.0000| Train Time: 0.0200s\n"
     ]
    },
    {
     "output_type": "stream",
     "name": "stderr",
     "text": [
      "Evaluating: 100%|██████████| 5416/5416 [00:00<00:00, 46291.31it/s]\n"
     ]
    },
    {
     "output_type": "stream",
     "name": "stdout",
     "text": [
      "Train: 1.0000| Val: 0.7740| Test: 0.7870| Eval Time: 0.1230s\n",
      "Epoch 29| Loss: 0.0304| Acc: 1.0000| Train Time: 0.0170s\n"
     ]
    },
    {
     "output_type": "stream",
     "name": "stderr",
     "text": [
      "Evaluating: 100%|██████████| 5416/5416 [00:00<00:00, 34912.30it/s]\n"
     ]
    },
    {
     "output_type": "stream",
     "name": "stdout",
     "text": [
      "Train: 1.0000| Val: 0.7720| Test: 0.7880| Eval Time: 0.1611s\n",
      "Epoch 30| Loss: 0.0187| Acc: 1.0000| Train Time: 0.0220s\n"
     ]
    },
    {
     "output_type": "stream",
     "name": "stderr",
     "text": [
      "Evaluating: 100%|██████████| 5416/5416 [00:00<00:00, 44392.84it/s]\n"
     ]
    },
    {
     "output_type": "stream",
     "name": "stdout",
     "text": [
      "Train: 1.0000| Val: 0.7740| Test: 0.7870| Eval Time: 0.1300s\n",
      "Epoch 31| Loss: 0.0090| Acc: 1.0000| Train Time: 0.0180s\n"
     ]
    },
    {
     "output_type": "stream",
     "name": "stderr",
     "text": [
      "Evaluating: 100%|██████████| 5416/5416 [00:00<00:00, 47929.85it/s]\n"
     ]
    },
    {
     "output_type": "stream",
     "name": "stdout",
     "text": [
      "Train: 1.0000| Val: 0.7760| Test: 0.7880| Eval Time: 0.1220s\n",
      "Epoch 32| Loss: 0.0657| Acc: 0.9929| Train Time: 0.0240s\n"
     ]
    },
    {
     "output_type": "stream",
     "name": "stderr",
     "text": [
      "Evaluating: 100%|██████████| 5416/5416 [00:00<00:00, 42984.23it/s]\n"
     ]
    },
    {
     "output_type": "stream",
     "name": "stdout",
     "text": [
      "Train: 1.0000| Val: 0.7720| Test: 0.7810| Eval Time: 0.1320s\n",
      "Epoch 33| Loss: 0.0089| Acc: 1.0000| Train Time: 0.0140s\n"
     ]
    },
    {
     "output_type": "stream",
     "name": "stderr",
     "text": [
      "Evaluating: 100%|██████████| 5416/5416 [00:00<00:00, 46290.56it/s]\n"
     ]
    },
    {
     "output_type": "stream",
     "name": "stdout",
     "text": [
      "Train: 1.0000| Val: 0.7720| Test: 0.7810| Eval Time: 0.1210s\n",
      "Epoch 34| Loss: 0.0223| Acc: 1.0000| Train Time: 0.0180s\n"
     ]
    },
    {
     "output_type": "stream",
     "name": "stderr",
     "text": [
      "Evaluating: 100%|██████████| 5416/5416 [00:00<00:00, 37611.53it/s]"
     ]
    },
    {
     "output_type": "stream",
     "name": "stdout",
     "text": [
      "Train: 1.0000| Val: 0.7620| Test: 0.7820| Eval Time: 0.1500s\n",
      "Epoch 35| Loss: 0.0069| Acc: 1.0000| Train Time: 0.0150s\n"
     ]
    },
    {
     "output_type": "stream",
     "name": "stderr",
     "text": [
      "\n",
      "Evaluating: 100%|██████████| 5416/5416 [00:00<00:00, 47507.94it/s]\n"
     ]
    },
    {
     "output_type": "stream",
     "name": "stdout",
     "text": [
      "Train: 1.0000| Val: 0.7640| Test: 0.7810| Eval Time: 0.1200s\n",
      "Epoch 36| Loss: 0.0135| Acc: 1.0000| Train Time: 0.0190s\n"
     ]
    },
    {
     "output_type": "stream",
     "name": "stderr",
     "text": [
      "Evaluating: 100%|██████████| 5416/5416 [00:00<00:00, 36106.47it/s]"
     ]
    },
    {
     "output_type": "stream",
     "name": "stdout",
     "text": [
      "Train: 1.0000| Val: 0.7580| Test: 0.7800| Eval Time: 0.1550s\n",
      "Epoch 37| Loss: 0.0174| Acc: 1.0000| Train Time: 0.0180s\n"
     ]
    },
    {
     "output_type": "stream",
     "name": "stderr",
     "text": [
      "\n",
      "Evaluating: 100%|██████████| 5416/5416 [00:00<00:00, 43281.44it/s]\n"
     ]
    },
    {
     "output_type": "stream",
     "name": "stdout",
     "text": [
      "Train: 1.0000| Val: 0.7520| Test: 0.7770| Eval Time: 0.1311s\n",
      "Epoch 38| Loss: 0.0120| Acc: 1.0000| Train Time: 0.0180s\n"
     ]
    },
    {
     "output_type": "stream",
     "name": "stderr",
     "text": [
      "Evaluating: 100%|██████████| 5416/5416 [00:00<00:00, 40721.76it/s]\n"
     ]
    },
    {
     "output_type": "stream",
     "name": "stdout",
     "text": [
      "Train: 1.0000| Val: 0.7500| Test: 0.7780| Eval Time: 0.1390s\n",
      "Epoch 39| Loss: 0.0068| Acc: 1.0000| Train Time: 0.0210s\n"
     ]
    },
    {
     "output_type": "stream",
     "name": "stderr",
     "text": [
      "Evaluating: 100%|██████████| 5416/5416 [00:00<00:00, 32823.97it/s]\n"
     ]
    },
    {
     "output_type": "stream",
     "name": "stdout",
     "text": [
      "Train: 1.0000| Val: 0.7500| Test: 0.7760| Eval Time: 0.1730s\n",
      "Epoch 40| Loss: 0.0028| Acc: 1.0000| Train Time: 0.0190s\n"
     ]
    },
    {
     "output_type": "stream",
     "name": "stderr",
     "text": [
      "Evaluating: 100%|██████████| 5416/5416 [00:00<00:00, 39247.26it/s]"
     ]
    },
    {
     "output_type": "stream",
     "name": "stdout",
     "text": [
      "Train: 1.0000| Val: 0.7500| Test: 0.7740| Eval Time: 0.1440s\n",
      "Epoch 41| Loss: 0.0022| Acc: 1.0000| Train Time: 0.0231s\n"
     ]
    },
    {
     "output_type": "stream",
     "name": "stderr",
     "text": [
      "\n",
      "Evaluating: 100%|██████████| 5416/5416 [00:00<00:00, 31487.51it/s]\n"
     ]
    },
    {
     "output_type": "stream",
     "name": "stdout",
     "text": [
      "Train: 1.0000| Val: 0.7500| Test: 0.7720| Eval Time: 0.1810s\n",
      "Epoch 42| Loss: 0.0092| Acc: 1.0000| Train Time: 0.0290s\n"
     ]
    },
    {
     "output_type": "stream",
     "name": "stderr",
     "text": [
      "Evaluating: 100%|██████████| 5416/5416 [00:00<00:00, 29954.61it/s]\n"
     ]
    },
    {
     "output_type": "stream",
     "name": "stdout",
     "text": [
      "Train: 1.0000| Val: 0.7460| Test: 0.7710| Eval Time: 0.1868s\n",
      "Epoch 43| Loss: 0.0066| Acc: 1.0000| Train Time: 0.0250s\n"
     ]
    },
    {
     "output_type": "stream",
     "name": "stderr",
     "text": [
      "Evaluating: 100%|██████████| 5416/5416 [00:00<00:00, 32238.42it/s]\n"
     ]
    },
    {
     "output_type": "stream",
     "name": "stdout",
     "text": [
      "Train: 1.0000| Val: 0.7420| Test: 0.7710| Eval Time: 0.1760s\n",
      "Epoch 44| Loss: 0.0018| Acc: 1.0000| Train Time: 0.0220s\n"
     ]
    },
    {
     "output_type": "stream",
     "name": "stderr",
     "text": [
      "Evaluating: 100%|██████████| 5416/5416 [00:00<00:00, 32330.09it/s]\n"
     ]
    },
    {
     "output_type": "stream",
     "name": "stdout",
     "text": [
      "Train: 1.0000| Val: 0.7420| Test: 0.7700| Eval Time: 0.1745s\n",
      "Epoch 45| Loss: 0.0055| Acc: 1.0000| Train Time: 0.0250s\n"
     ]
    },
    {
     "output_type": "stream",
     "name": "stderr",
     "text": [
      "Evaluating: 100%|██████████| 5416/5416 [00:00<00:00, 26037.75it/s]\n"
     ]
    },
    {
     "output_type": "stream",
     "name": "stdout",
     "text": [
      "Train: 1.0000| Val: 0.7420| Test: 0.7700| Eval Time: 0.2190s\n",
      "Epoch 46| Loss: 0.0022| Acc: 1.0000| Train Time: 0.0210s\n"
     ]
    },
    {
     "output_type": "stream",
     "name": "stderr",
     "text": [
      "Evaluating: 100%|██████████| 5416/5416 [00:00<00:00, 33432.01it/s]\n"
     ]
    },
    {
     "output_type": "stream",
     "name": "stdout",
     "text": [
      "Train: 1.0000| Val: 0.7420| Test: 0.7660| Eval Time: 0.1690s\n",
      "Epoch 47| Loss: 0.0092| Acc: 1.0000| Train Time: 0.0290s\n"
     ]
    },
    {
     "output_type": "stream",
     "name": "stderr",
     "text": [
      "Evaluating: 100%|██████████| 5416/5416 [00:00<00:00, 29673.63it/s]\n"
     ]
    },
    {
     "output_type": "stream",
     "name": "stdout",
     "text": [
      "Train: 1.0000| Val: 0.7420| Test: 0.7660| Eval Time: 0.1915s\n",
      "Epoch 48| Loss: 0.0172| Acc: 0.9929| Train Time: 0.0210s\n"
     ]
    },
    {
     "output_type": "stream",
     "name": "stderr",
     "text": [
      "Evaluating: 100%|██████████| 5416/5416 [00:00<00:00, 32431.17it/s]\n"
     ]
    },
    {
     "output_type": "stream",
     "name": "stdout",
     "text": [
      "Train: 1.0000| Val: 0.7420| Test: 0.7640| Eval Time: 0.1720s\n",
      "Epoch 49| Loss: 0.0041| Acc: 1.0000| Train Time: 0.0240s\n"
     ]
    },
    {
     "output_type": "stream",
     "name": "stderr",
     "text": [
      "Evaluating: 100%|██████████| 5416/5416 [00:00<00:00, 32422.47it/s]\n"
     ]
    },
    {
     "output_type": "stream",
     "name": "stdout",
     "text": [
      "Train: 1.0000| Val: 0.7440| Test: 0.7640| Eval Time: 0.1761s\n",
      "Epoch 50| Loss: 0.0052| Acc: 1.0000| Train Time: 0.0230s\n"
     ]
    },
    {
     "output_type": "stream",
     "name": "stderr",
     "text": [
      "Evaluating: 100%|██████████| 5416/5416 [00:00<00:00, 33419.22it/s]\n"
     ]
    },
    {
     "output_type": "stream",
     "name": "stdout",
     "text": [
      "Train: 1.0000| Val: 0.7460| Test: 0.7660| Eval Time: 0.1691s\n",
      "Epoch 51| Loss: 0.0068| Acc: 1.0000| Train Time: 0.0180s\n"
     ]
    },
    {
     "output_type": "stream",
     "name": "stderr",
     "text": [
      "Evaluating: 100%|██████████| 5416/5416 [00:00<00:00, 34254.96it/s]"
     ]
    },
    {
     "output_type": "stream",
     "name": "stdout",
     "text": [
      "Train: 1.0000| Val: 0.7420| Test: 0.7650| Eval Time: 0.1651s\n"
     ]
    },
    {
     "output_type": "stream",
     "name": "stderr",
     "text": [
      "\n"
     ]
    },
    {
     "output_type": "stream",
     "name": "stdout",
     "text": [
      "Epoch 52| Loss: 0.0085| Acc: 1.0000| Train Time: 0.0210s\n"
     ]
    },
    {
     "output_type": "stream",
     "name": "stderr",
     "text": [
      "Evaluating: 100%|██████████| 5416/5416 [00:00<00:00, 37096.10it/s]"
     ]
    },
    {
     "output_type": "stream",
     "name": "stdout",
     "text": [
      "Train: 1.0000| Val: 0.7380| Test: 0.7660| Eval Time: 0.1520s\n",
      "Epoch 53| Loss: 0.0089| Acc: 1.0000| Train Time: 0.0290s\n"
     ]
    },
    {
     "output_type": "stream",
     "name": "stderr",
     "text": [
      "\n",
      "Evaluating: 100%|██████████| 5416/5416 [00:00<00:00, 33226.63it/s]\n"
     ]
    },
    {
     "output_type": "stream",
     "name": "stdout",
     "text": [
      "Train: 1.0000| Val: 0.7400| Test: 0.7640| Eval Time: 0.1700s\n",
      "Epoch 54| Loss: 0.0023| Acc: 1.0000| Train Time: 0.0270s\n"
     ]
    },
    {
     "output_type": "stream",
     "name": "stderr",
     "text": [
      "Evaluating: 100%|██████████| 5416/5416 [00:00<00:00, 31858.85it/s]\n"
     ]
    },
    {
     "output_type": "stream",
     "name": "stdout",
     "text": [
      "Train: 1.0000| Val: 0.7400| Test: 0.7640| Eval Time: 0.1790s\n",
      "Epoch 55| Loss: 0.0248| Acc: 0.9929| Train Time: 0.0270s\n"
     ]
    },
    {
     "output_type": "stream",
     "name": "stderr",
     "text": [
      "Evaluating: 100%|██████████| 5416/5416 [00:00<00:00, 31573.95it/s]\n"
     ]
    },
    {
     "output_type": "stream",
     "name": "stdout",
     "text": [
      "Train: 1.0000| Val: 0.7400| Test: 0.7660| Eval Time: 0.1835s\n",
      "Epoch 56| Loss: 0.0037| Acc: 1.0000| Train Time: 0.0280s\n"
     ]
    },
    {
     "output_type": "stream",
     "name": "stderr",
     "text": [
      "Evaluating: 100%|██████████| 5416/5416 [00:00<00:00, 31672.73it/s]\n"
     ]
    },
    {
     "output_type": "stream",
     "name": "stdout",
     "text": [
      "Train: 1.0000| Val: 0.7400| Test: 0.7650| Eval Time: 0.1810s\n",
      "\n",
      "Result of  5. run| Train: 1.0000| Val: 0.7920| Test: 0.7990\n",
      "\n",
      "Run 01:\n"
     ]
    },
    {
     "output_type": "stream",
     "name": "stderr",
     "text": [
      "Epoch 01: 100%|██████████| 140/140 [00:01<00:00, 121.06it/s]\n"
     ]
    },
    {
     "output_type": "stream",
     "name": "stdout",
     "text": [
      "Epoch 01| Loss: 1.9548| Acc: 0.1286| Train Time: 1.1625s\n"
     ]
    },
    {
     "output_type": "stream",
     "name": "stderr",
     "text": [
      "Evaluating: 100%|██████████| 5416/5416 [00:04<00:00, 1104.28it/s]\n"
     ]
    },
    {
     "output_type": "stream",
     "name": "stdout",
     "text": [
      "Train: 0.8714| Val: 0.6000| Test: 0.6150| Eval Time: 4.9105s\n"
     ]
    }
   ],
   "metadata": {}
  }
 ],
 "metadata": {
  "orig_nbformat": 4,
  "kernelspec": {
   "name": "python3",
   "display_name": "Python 3.8.10 64-bit ('PSN': conda)"
  },
  "interpreter": {
   "hash": "b8be38cac5e07419459cc1d2fe0e04c6cbe36991c6a4efd3c9a636608bfd9cde"
  },
  "language_info": {
   "name": "python",
   "version": "3.8.10",
   "mimetype": "text/x-python",
   "codemirror_mode": {
    "name": "ipython",
    "version": 3
   },
   "pygments_lexer": "ipython3",
   "nbconvert_exporter": "python",
   "file_extension": ".py"
  }
 },
 "nbformat": 4,
 "nbformat_minor": 2
}