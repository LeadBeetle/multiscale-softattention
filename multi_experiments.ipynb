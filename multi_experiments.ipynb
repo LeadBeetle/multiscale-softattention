{
 "cells": [
  {
   "cell_type": "code",
   "execution_count": 1,
   "source": [
    "from utils.constants import *\r\n",
    "from utils.experimentorUtils import * "
   ],
   "outputs": [],
   "metadata": {}
  },
  {
   "cell_type": "code",
   "execution_count": 3,
   "source": [
    "models   = [ModelType.TRANS, ModelType.GATV2, ModelType.GATV1]\r\n",
    "datasets = [Dataset.CORA, Dataset.CITESEER, Dataset.PUBMED]\r\n",
    "degrees  = [1, 2, 3, 4, 5]\r\n",
    "\r\n",
    "runExperiments(models, datasets, degrees)"
   ],
   "outputs": [
    {
     "output_type": "stream",
     "name": "stdout",
     "text": [
      "Dataset CORA\n",
      "{'dataset_name': <Dataset.CORA: 'Cora'>, 'model_type': <ModelType.TRANS: 'TRANS'>, 'num_of_epochs': 500, 'num_of_runs': 1, 'patience_period': 50, 'batch_size': 256, 'test_batch_size': 256, 'num_workers': 0, 'force_cpu': False, 'test_frequency': 1, 'console_log_freq': 1, 'do_train_tqdm_logging': False, 'lr': 0.005, 'num_of_layers': 2, 'num_heads': 1, 'hidden_size': 128, 'dropout': 0.6, 'use_layer_norm': False, 'use_batch_norm': False, 'nbor_degree': 2, 'adj_mode': <AdjacencyMode.OneStep: 'OneStep'>, 'sparse': True}\n",
      "Run 01:\n"
     ]
    },
    {
     "output_type": "stream",
     "name": "stderr",
     "text": [
      "Epoch 01: 100%|██████████| 140/140 [00:00<00:00, 295.01it/s]\n"
     ]
    },
    {
     "output_type": "stream",
     "name": "stdout",
     "text": [
      "Epoch 01| Loss: 1.9943| Acc: 0.1286| Train Time: 0.4766s\n"
     ]
    },
    {
     "output_type": "stream",
     "name": "stderr",
     "text": [
      "Evaluating: 100%|██████████| 5416/5416 [00:03<00:00, 1708.24it/s]\n"
     ]
    },
    {
     "output_type": "stream",
     "name": "stdout",
     "text": [
      "Train: 0.9143| Val: 0.3620| Test: 0.3610| Eval Time: 3.1755s\n",
      "Epoch 02| Loss: 1.4367| Acc: 0.7857| Train Time: 0.6770s\n"
     ]
    },
    {
     "output_type": "stream",
     "name": "stderr",
     "text": [
      "Evaluating: 100%|██████████| 5416/5416 [00:00<00:00, 104201.05it/s]"
     ]
    },
    {
     "output_type": "stream",
     "name": "stdout",
     "text": [
      "Train: 0.9643| Val: 0.5380| Test: 0.5550| Eval Time: 0.0560s\n"
     ]
    },
    {
     "output_type": "stream",
     "name": "stderr",
     "text": [
      "\n"
     ]
    },
    {
     "output_type": "stream",
     "name": "stdout",
     "text": [
      "Epoch 03| Loss: 0.9265| Acc: 0.9357| Train Time: 0.6790s\n"
     ]
    },
    {
     "output_type": "stream",
     "name": "stderr",
     "text": [
      "Evaluating: 100%|██████████| 5416/5416 [00:00<00:00, 96777.34it/s]\n"
     ]
    },
    {
     "output_type": "stream",
     "name": "stdout",
     "text": [
      "Train: 0.9929| Val: 0.5820| Test: 0.5820| Eval Time: 0.0590s\n",
      "Epoch 04| Loss: 0.5818| Acc: 0.9643| Train Time: 0.0180s\n"
     ]
    },
    {
     "output_type": "stream",
     "name": "stderr",
     "text": [
      "Evaluating: 100%|██████████| 5416/5416 [00:00<00:00, 70338.62it/s]"
     ]
    },
    {
     "output_type": "stream",
     "name": "stdout",
     "text": [
      "Train: 1.0000| Val: 0.5860| Test: 0.5950| Eval Time: 0.0830s\n",
      "Epoch 05| Loss: 0.3602| Acc: 0.9857| Train Time: 0.0120s\n"
     ]
    },
    {
     "output_type": "stream",
     "name": "stderr",
     "text": [
      "\n",
      "Evaluating: 100%|██████████| 5416/5416 [00:00<00:00, 85972.21it/s]\n"
     ]
    },
    {
     "output_type": "stream",
     "name": "stdout",
     "text": [
      "Train: 1.0000| Val: 0.5900| Test: 0.5860| Eval Time: 0.0690s\n",
      "Epoch 06| Loss: 0.2064| Acc: 0.9929| Train Time: 0.0130s\n"
     ]
    },
    {
     "output_type": "stream",
     "name": "stderr",
     "text": [
      "Evaluating: 100%|██████████| 5416/5416 [00:00<00:00, 95024.03it/s]\n"
     ]
    },
    {
     "output_type": "stream",
     "name": "stdout",
     "text": [
      "Train: 1.0000| Val: 0.5880| Test: 0.5880| Eval Time: 0.0620s\n",
      "Epoch 07| Loss: 0.1247| Acc: 1.0000| Train Time: 0.0150s\n"
     ]
    },
    {
     "output_type": "stream",
     "name": "stderr",
     "text": [
      "Evaluating: 100%|██████████| 5416/5416 [00:00<00:00, 80218.20it/s]\n"
     ]
    },
    {
     "output_type": "stream",
     "name": "stdout",
     "text": [
      "Train: 1.0000| Val: 0.5900| Test: 0.5870| Eval Time: 0.0705s\n",
      "Epoch 08| Loss: 0.0758| Acc: 1.0000| Train Time: 0.0150s\n"
     ]
    },
    {
     "output_type": "stream",
     "name": "stderr",
     "text": [
      "Evaluating: 100%|██████████| 5416/5416 [00:00<00:00, 83324.53it/s]\n"
     ]
    },
    {
     "output_type": "stream",
     "name": "stdout",
     "text": [
      "Train: 1.0000| Val: 0.5900| Test: 0.5900| Eval Time: 0.0700s\n",
      "Epoch 09| Loss: 0.0563| Acc: 1.0000| Train Time: 0.0140s\n"
     ]
    },
    {
     "output_type": "stream",
     "name": "stderr",
     "text": [
      "Evaluating: 100%|██████████| 5416/5416 [00:00<00:00, 96719.24it/s]\n"
     ]
    },
    {
     "output_type": "stream",
     "name": "stdout",
     "text": [
      "Train: 1.0000| Val: 0.5900| Test: 0.5940| Eval Time: 0.0610s\n",
      "Epoch 10| Loss: 0.0302| Acc: 1.0000| Train Time: 0.0120s\n"
     ]
    },
    {
     "output_type": "stream",
     "name": "stderr",
     "text": [
      "Evaluating: 100%|██████████| 5416/5416 [00:00<00:00, 71233.46it/s]\n"
     ]
    },
    {
     "output_type": "stream",
     "name": "stdout",
     "text": [
      "Train: 1.0000| Val: 0.5880| Test: 0.5960| Eval Time: 0.0840s\n",
      "Epoch 11| Loss: 0.0312| Acc: 1.0000| Train Time: 0.0140s\n"
     ]
    },
    {
     "output_type": "stream",
     "name": "stderr",
     "text": [
      "Evaluating: 100%|██████████| 5416/5416 [00:00<00:00, 83325.75it/s]\n"
     ]
    },
    {
     "output_type": "stream",
     "name": "stdout",
     "text": [
      "Train: 1.0000| Val: 0.5880| Test: 0.5980| Eval Time: 0.0690s\n",
      "Epoch 12| Loss: 0.0186| Acc: 1.0000| Train Time: 0.0150s\n"
     ]
    },
    {
     "output_type": "stream",
     "name": "stderr",
     "text": [
      "Evaluating: 100%|██████████| 5416/5416 [00:00<00:00, 75228.42it/s]\n"
     ]
    },
    {
     "output_type": "stream",
     "name": "stdout",
     "text": [
      "Train: 1.0000| Val: 0.5900| Test: 0.5970| Eval Time: 0.0780s\n",
      "Epoch 13| Loss: 0.0147| Acc: 1.0000| Train Time: 0.0180s\n"
     ]
    },
    {
     "output_type": "stream",
     "name": "stderr",
     "text": [
      "Evaluating: 100%|██████████| 5416/5416 [00:00<00:00, 84621.99it/s]\n"
     ]
    },
    {
     "output_type": "stream",
     "name": "stdout",
     "text": [
      "Train: 1.0000| Val: 0.5880| Test: 0.5970| Eval Time: 0.0670s\n",
      "Epoch 14| Loss: 0.0074| Acc: 1.0000| Train Time: 0.0150s\n"
     ]
    },
    {
     "output_type": "stream",
     "name": "stderr",
     "text": [
      "Evaluating: 100%|██████████| 5416/5416 [00:00<00:00, 76283.38it/s]"
     ]
    },
    {
     "output_type": "stream",
     "name": "stdout",
     "text": [
      "Train: 1.0000| Val: 0.5880| Test: 0.5930| Eval Time: 0.0760s\n",
      "Epoch 15| Loss: 0.0076| Acc: 1.0000| Train Time: 0.0150s\n"
     ]
    },
    {
     "output_type": "stream",
     "name": "stderr",
     "text": [
      "\n",
      "Evaluating: 100%|██████████| 5416/5416 [00:00<00:00, 74188.92it/s]\n"
     ]
    },
    {
     "output_type": "stream",
     "name": "stdout",
     "text": [
      "Train: 1.0000| Val: 0.5860| Test: 0.5920| Eval Time: 0.0770s\n",
      "Epoch 16| Loss: 0.0087| Acc: 1.0000| Train Time: 0.0140s\n"
     ]
    },
    {
     "output_type": "stream",
     "name": "stderr",
     "text": [
      "Evaluating: 100%|██████████| 5416/5416 [00:00<00:00, 76281.07it/s]\n"
     ]
    },
    {
     "output_type": "stream",
     "name": "stdout",
     "text": [
      "Train: 1.0000| Val: 0.5860| Test: 0.5890| Eval Time: 0.0770s\n",
      "Epoch 17| Loss: 0.0031| Acc: 1.0000| Train Time: 0.0160s\n"
     ]
    },
    {
     "output_type": "stream",
     "name": "stderr",
     "text": [
      "Evaluating: 100%|██████████| 5416/5416 [00:00<00:00, 88786.38it/s]\n"
     ]
    },
    {
     "output_type": "stream",
     "name": "stdout",
     "text": [
      "Train: 1.0000| Val: 0.5880| Test: 0.5890| Eval Time: 0.0660s\n",
      "Epoch 18| Loss: 0.0050| Acc: 1.0000| Train Time: 0.0190s\n"
     ]
    },
    {
     "output_type": "stream",
     "name": "stderr",
     "text": [
      "Evaluating: 100%|██████████| 5416/5416 [00:00<00:00, 84614.74it/s]\n"
     ]
    },
    {
     "output_type": "stream",
     "name": "stdout",
     "text": [
      "Train: 1.0000| Val: 0.5880| Test: 0.5880| Eval Time: 0.0720s\n",
      "Epoch 19| Loss: 0.0014| Acc: 1.0000| Train Time: 0.0160s\n"
     ]
    },
    {
     "output_type": "stream",
     "name": "stderr",
     "text": [
      "Evaluating: 100%|██████████| 5416/5416 [00:00<00:00, 83334.31it/s]\n"
     ]
    },
    {
     "output_type": "stream",
     "name": "stdout",
     "text": [
      "Train: 1.0000| Val: 0.5860| Test: 0.5850| Eval Time: 0.0700s\n",
      "Epoch 20| Loss: 0.0049| Acc: 1.0000| Train Time: 0.0180s\n"
     ]
    },
    {
     "output_type": "stream",
     "name": "stderr",
     "text": [
      "Evaluating: 100%|██████████| 5416/5416 [00:00<00:00, 70336.44it/s]\n"
     ]
    },
    {
     "output_type": "stream",
     "name": "stdout",
     "text": [
      "Train: 1.0000| Val: 0.5840| Test: 0.5850| Eval Time: 0.0810s\n",
      "Epoch 21| Loss: 0.0014| Acc: 1.0000| Train Time: 0.0130s\n"
     ]
    },
    {
     "output_type": "stream",
     "name": "stderr",
     "text": [
      "Evaluating: 100%|██████████| 5416/5416 [00:00<00:00, 82059.74it/s]"
     ]
    },
    {
     "output_type": "stream",
     "name": "stdout",
     "text": [
      "Train: 1.0000| Val: 0.5840| Test: 0.5840| Eval Time: 0.0700s\n",
      "Epoch 22| Loss: 0.0013| Acc: 1.0000| Train Time: 0.0130s\n"
     ]
    },
    {
     "output_type": "stream",
     "name": "stderr",
     "text": [
      "\n",
      "Evaluating: 100%|██████████| 5416/5416 [00:00<00:00, 84622.94it/s]\n"
     ]
    },
    {
     "output_type": "stream",
     "name": "stdout",
     "text": [
      "Train: 1.0000| Val: 0.5860| Test: 0.5840| Eval Time: 0.0680s\n",
      "Epoch 23| Loss: 0.0014| Acc: 1.0000| Train Time: 0.0160s\n"
     ]
    },
    {
     "output_type": "stream",
     "name": "stderr",
     "text": [
      "Evaluating: 100%|██████████| 5416/5416 [00:00<00:00, 77373.87it/s]"
     ]
    },
    {
     "output_type": "stream",
     "name": "stdout",
     "text": [
      "Train: 1.0000| Val: 0.5860| Test: 0.5840| Eval Time: 0.0760s\n"
     ]
    },
    {
     "output_type": "stream",
     "name": "stderr",
     "text": [
      "\n"
     ]
    },
    {
     "output_type": "stream",
     "name": "stdout",
     "text": [
      "Epoch 24| Loss: 0.0017| Acc: 1.0000| Train Time: 0.0190s\n"
     ]
    },
    {
     "output_type": "stream",
     "name": "stderr",
     "text": [
      "Evaluating: 100%|██████████| 5416/5416 [00:00<00:00, 72216.73it/s]\n"
     ]
    },
    {
     "output_type": "stream",
     "name": "stdout",
     "text": [
      "Train: 1.0000| Val: 0.5840| Test: 0.5840| Eval Time: 0.0800s\n",
      "Epoch 25| Loss: 0.0006| Acc: 1.0000| Train Time: 0.0120s\n"
     ]
    },
    {
     "output_type": "stream",
     "name": "stderr",
     "text": [
      "Evaluating: 100%|██████████| 5416/5416 [00:00<00:00, 91798.81it/s]"
     ]
    },
    {
     "output_type": "stream",
     "name": "stdout",
     "text": [
      "Train: 1.0000| Val: 0.5840| Test: 0.5840| Eval Time: 0.0640s\n",
      "Epoch 26| Loss: 0.0009| Acc: 1.0000| Train Time: 0.0170s\n"
     ]
    },
    {
     "output_type": "stream",
     "name": "stderr",
     "text": [
      "\n",
      "Evaluating: 100%|██████████| 5416/5416 [00:00<00:00, 91791.39it/s]\n"
     ]
    },
    {
     "output_type": "stream",
     "name": "stdout",
     "text": [
      "Train: 1.0000| Val: 0.5820| Test: 0.5840| Eval Time: 0.0650s\n",
      "Epoch 27| Loss: 0.0004| Acc: 1.0000| Train Time: 0.0160s\n"
     ]
    },
    {
     "output_type": "stream",
     "name": "stderr",
     "text": [
      "Evaluating: 100%|██████████| 5416/5416 [00:00<00:00, 87378.98it/s]"
     ]
    },
    {
     "output_type": "stream",
     "name": "stdout",
     "text": [
      "Train: 1.0000| Val: 0.5800| Test: 0.5830| Eval Time: 0.0700s\n",
      "Epoch 28| Loss: 0.0010| Acc: 1.0000| Train Time: 0.0160s\n"
     ]
    },
    {
     "output_type": "stream",
     "name": "stderr",
     "text": [
      "\n",
      "Evaluating: 100%|██████████| 5416/5416 [00:00<00:00, 95019.66it/s]\n"
     ]
    },
    {
     "output_type": "stream",
     "name": "stdout",
     "text": [
      "Train: 1.0000| Val: 0.5780| Test: 0.5820| Eval Time: 0.0600s\n",
      "Epoch 29| Loss: 0.0005| Acc: 1.0000| Train Time: 0.0180s\n"
     ]
    },
    {
     "output_type": "stream",
     "name": "stderr",
     "text": [
      "Evaluating: 100%|██████████| 5416/5416 [00:00<00:00, 91798.81it/s]"
     ]
    },
    {
     "output_type": "stream",
     "name": "stdout",
     "text": [
      "Train: 1.0000| Val: 0.5780| Test: 0.5820| Eval Time: 0.0650s\n",
      "Epoch 30| Loss: 0.0003| Acc: 1.0000| Train Time: 0.0190s\n"
     ]
    },
    {
     "output_type": "stream",
     "name": "stderr",
     "text": [
      "\n",
      "Evaluating: 100%|██████████| 5416/5416 [00:00<00:00, 90265.32it/s]\n"
     ]
    },
    {
     "output_type": "stream",
     "name": "stdout",
     "text": [
      "Train: 1.0000| Val: 0.5760| Test: 0.5820| Eval Time: 0.0660s\n",
      "Epoch 31| Loss: 0.0002| Acc: 1.0000| Train Time: 0.0180s\n"
     ]
    },
    {
     "output_type": "stream",
     "name": "stderr",
     "text": [
      "Evaluating: 100%|██████████| 5416/5416 [00:00<00:00, 85960.50it/s]\n"
     ]
    },
    {
     "output_type": "stream",
     "name": "stdout",
     "text": [
      "Train: 1.0000| Val: 0.5760| Test: 0.5810| Eval Time: 0.0690s\n",
      "Epoch 32| Loss: 0.0003| Acc: 1.0000| Train Time: 0.0150s\n"
     ]
    },
    {
     "output_type": "stream",
     "name": "stderr",
     "text": [
      "Evaluating: 100%|██████████| 5416/5416 [00:00<00:00, 77370.71it/s]"
     ]
    },
    {
     "output_type": "stream",
     "name": "stdout",
     "text": [
      "Train: 1.0000| Val: 0.5760| Test: 0.5800| Eval Time: 0.0730s\n",
      "Epoch 33| Loss: 0.0003| Acc: 1.0000| Train Time: 0.0130s\n"
     ]
    },
    {
     "output_type": "stream",
     "name": "stderr",
     "text": [
      "\n",
      "Evaluating: 100%|██████████| 5416/5416 [00:00<00:00, 78488.68it/s]\n"
     ]
    },
    {
     "output_type": "stream",
     "name": "stdout",
     "text": [
      "Train: 1.0000| Val: 0.5760| Test: 0.5790| Eval Time: 0.0720s\n",
      "Epoch 34| Loss: 0.0003| Acc: 1.0000| Train Time: 0.0160s\n"
     ]
    },
    {
     "output_type": "stream",
     "name": "stderr",
     "text": [
      "Evaluating: 100%|██████████| 5416/5416 [00:00<00:00, 100273.90it/s]\n"
     ]
    },
    {
     "output_type": "stream",
     "name": "stdout",
     "text": [
      "Train: 1.0000| Val: 0.5740| Test: 0.5780| Eval Time: 0.0590s\n",
      "Epoch 35| Loss: 0.0001| Acc: 1.0000| Train Time: 0.0160s\n"
     ]
    },
    {
     "output_type": "stream",
     "name": "stderr",
     "text": [
      "Evaluating: 100%|██████████| 5416/5416 [00:00<00:00, 78495.19it/s]\n"
     ]
    },
    {
     "output_type": "stream",
     "name": "stdout",
     "text": [
      "Train: 1.0000| Val: 0.5720| Test: 0.5780| Eval Time: 0.0720s\n",
      "Epoch 36| Loss: 0.0001| Acc: 1.0000| Train Time: 0.0140s\n"
     ]
    },
    {
     "output_type": "stream",
     "name": "stderr",
     "text": [
      "Evaluating: 100%|██████████| 5416/5416 [00:00<00:00, 84621.36it/s]\n"
     ]
    },
    {
     "output_type": "stream",
     "name": "stdout",
     "text": [
      "Train: 1.0000| Val: 0.5720| Test: 0.5780| Eval Time: 0.0680s\n",
      "Epoch 37| Loss: 0.0004| Acc: 1.0000| Train Time: 0.0130s\n"
     ]
    },
    {
     "output_type": "stream",
     "name": "stderr",
     "text": [
      "Evaluating: 100%|██████████| 5416/5416 [00:00<00:00, 79649.20it/s]\n"
     ]
    },
    {
     "output_type": "stream",
     "name": "stdout",
     "text": [
      "Train: 1.0000| Val: 0.5720| Test: 0.5780| Eval Time: 0.0720s\n",
      "Epoch 38| Loss: 0.0001| Acc: 1.0000| Train Time: 0.0140s\n"
     ]
    },
    {
     "output_type": "stream",
     "name": "stderr",
     "text": [
      "Evaluating: 100%|██████████| 5416/5416 [00:00<00:00, 76279.28it/s]\n"
     ]
    },
    {
     "output_type": "stream",
     "name": "stdout",
     "text": [
      "Train: 1.0000| Val: 0.5720| Test: 0.5780| Eval Time: 0.0760s\n",
      "Epoch 39| Loss: 0.0001| Acc: 1.0000| Train Time: 0.0130s\n"
     ]
    },
    {
     "output_type": "stream",
     "name": "stderr",
     "text": [
      "Evaluating: 100%|██████████| 5416/5416 [00:00<00:00, 77369.39it/s]"
     ]
    },
    {
     "output_type": "stream",
     "name": "stdout",
     "text": [
      "Train: 1.0000| Val: 0.5720| Test: 0.5780| Eval Time: 0.0750s\n",
      "Epoch 40| Loss: 0.0002| Acc: 1.0000| Train Time: 0.0140s\n"
     ]
    },
    {
     "output_type": "stream",
     "name": "stderr",
     "text": [
      "\n",
      "Evaluating: 100%|██████████| 5416/5416 [00:00<00:00, 85946.19it/s]\n"
     ]
    },
    {
     "output_type": "stream",
     "name": "stdout",
     "text": [
      "Train: 1.0000| Val: 0.5700| Test: 0.5760| Eval Time: 0.0680s\n",
      "Epoch 41| Loss: 0.0005| Acc: 1.0000| Train Time: 0.0150s\n"
     ]
    },
    {
     "output_type": "stream",
     "name": "stderr",
     "text": [
      "Evaluating: 100%|██████████| 5416/5416 [00:00<00:00, 79649.48it/s]\n"
     ]
    },
    {
     "output_type": "stream",
     "name": "stdout",
     "text": [
      "Train: 1.0000| Val: 0.5700| Test: 0.5760| Eval Time: 0.0730s\n",
      "Epoch 42| Loss: 0.0004| Acc: 1.0000| Train Time: 0.0140s\n"
     ]
    },
    {
     "output_type": "stream",
     "name": "stderr",
     "text": [
      "Evaluating: 100%|██████████| 5416/5416 [00:00<00:00, 70342.98it/s]"
     ]
    },
    {
     "output_type": "stream",
     "name": "stdout",
     "text": [
      "Train: 1.0000| Val: 0.5700| Test: 0.5750| Eval Time: 0.0830s\n"
     ]
    },
    {
     "output_type": "stream",
     "name": "stderr",
     "text": [
      "\n"
     ]
    },
    {
     "output_type": "stream",
     "name": "stdout",
     "text": [
      "Epoch 43| Loss: 0.0003| Acc: 1.0000| Train Time: 0.0160s\n"
     ]
    },
    {
     "output_type": "stream",
     "name": "stderr",
     "text": [
      "Evaluating: 100%|██████████| 5416/5416 [00:00<00:00, 66048.96it/s]\n"
     ]
    },
    {
     "output_type": "stream",
     "name": "stdout",
     "text": [
      "Train: 1.0000| Val: 0.5700| Test: 0.5750| Eval Time: 0.0870s\n",
      "Epoch 44| Loss: 0.0001| Acc: 1.0000| Train Time: 0.0170s\n"
     ]
    },
    {
     "output_type": "stream",
     "name": "stderr",
     "text": [
      "Evaluating: 100%|██████████| 5416/5416 [00:00<00:00, 82592.00it/s]\n"
     ]
    },
    {
     "output_type": "stream",
     "name": "stdout",
     "text": [
      "Train: 1.0000| Val: 0.5700| Test: 0.5750| Eval Time: 0.0706s\n",
      "Epoch 45| Loss: 0.0003| Acc: 1.0000| Train Time: 0.0130s\n"
     ]
    },
    {
     "output_type": "stream",
     "name": "stderr",
     "text": [
      "Evaluating: 100%|██████████| 5416/5416 [00:00<00:00, 83330.34it/s]\n"
     ]
    },
    {
     "output_type": "stream",
     "name": "stdout",
     "text": [
      "Train: 1.0000| Val: 0.5700| Test: 0.5750| Eval Time: 0.0740s\n",
      "Epoch 46| Loss: 0.0005| Acc: 1.0000| Train Time: 0.0140s\n"
     ]
    },
    {
     "output_type": "stream",
     "name": "stderr",
     "text": [
      "Evaluating: 100%|██████████| 5416/5416 [00:00<00:00, 76283.12it/s]\n"
     ]
    },
    {
     "output_type": "stream",
     "name": "stdout",
     "text": [
      "Train: 1.0000| Val: 0.5700| Test: 0.5750| Eval Time: 0.0760s\n",
      "Epoch 47| Loss: 0.0001| Acc: 1.0000| Train Time: 0.0140s\n"
     ]
    },
    {
     "output_type": "stream",
     "name": "stderr",
     "text": [
      "Evaluating: 100%|██████████| 5416/5416 [00:00<00:00, 80834.49it/s]\n"
     ]
    },
    {
     "output_type": "stream",
     "name": "stdout",
     "text": [
      "Train: 1.0000| Val: 0.5680| Test: 0.5750| Eval Time: 0.0710s\n",
      "Epoch 48| Loss: 0.0003| Acc: 1.0000| Train Time: 0.0140s\n"
     ]
    },
    {
     "output_type": "stream",
     "name": "stderr",
     "text": [
      "Evaluating: 100%|██████████| 5416/5416 [00:00<00:00, 87357.14it/s]\n"
     ]
    },
    {
     "output_type": "stream",
     "name": "stdout",
     "text": [
      "Train: 1.0000| Val: 0.5680| Test: 0.5750| Eval Time: 0.0660s\n",
      "Epoch 49| Loss: 0.0004| Acc: 1.0000| Train Time: 0.0160s\n"
     ]
    },
    {
     "output_type": "stream",
     "name": "stderr",
     "text": [
      "Evaluating: 100%|██████████| 5416/5416 [00:00<00:00, 75237.89it/s]"
     ]
    },
    {
     "output_type": "stream",
     "name": "stdout",
     "text": [
      "Train: 1.0000| Val: 0.5680| Test: 0.5750| Eval Time: 0.0780s\n",
      "Epoch 50| Loss: 0.0002| Acc: 1.0000| Train Time: 0.0140s\n"
     ]
    },
    {
     "output_type": "stream",
     "name": "stderr",
     "text": [
      "\n",
      "Evaluating: 100%|██████████| 5416/5416 [00:00<00:00, 80832.76it/s]\n"
     ]
    },
    {
     "output_type": "stream",
     "name": "stdout",
     "text": [
      "Train: 1.0000| Val: 0.5680| Test: 0.5740| Eval Time: 0.0710s\n",
      "Epoch 51| Loss: 0.0004| Acc: 1.0000| Train Time: 0.0160s\n"
     ]
    },
    {
     "output_type": "stream",
     "name": "stderr",
     "text": [
      "Evaluating: 100%|██████████| 5416/5416 [00:00<00:00, 82064.48it/s]\n"
     ]
    },
    {
     "output_type": "stream",
     "name": "stdout",
     "text": [
      "Train: 1.0000| Val: 0.5680| Test: 0.5740| Eval Time: 0.0700s\n",
      "Epoch 52| Loss: 0.0001| Acc: 1.0000| Train Time: 0.0190s\n"
     ]
    },
    {
     "output_type": "stream",
     "name": "stderr",
     "text": [
      "Evaluating: 100%|██████████| 5416/5416 [00:00<00:00, 78495.73it/s]"
     ]
    },
    {
     "output_type": "stream",
     "name": "stdout",
     "text": [
      "Train: 1.0000| Val: 0.5680| Test: 0.5740| Eval Time: 0.0730s\n",
      "Epoch 53| Loss: 0.0001| Acc: 1.0000| Train Time: 0.0150s\n"
     ]
    },
    {
     "output_type": "stream",
     "name": "stderr",
     "text": [
      "\n",
      "Evaluating: 100%|██████████| 5416/5416 [00:00<00:00, 47102.78it/s]\n"
     ]
    },
    {
     "output_type": "stream",
     "name": "stdout",
     "text": [
      "Train: 1.0000| Val: 0.5680| Test: 0.5740| Eval Time: 0.1220s\n",
      "Epoch 54| Loss: 0.0001| Acc: 1.0000| Train Time: 0.0170s\n"
     ]
    },
    {
     "output_type": "stream",
     "name": "stderr",
     "text": [
      "Evaluating: 100%|██████████| 5416/5416 [00:00<00:00, 71266.53it/s]\n"
     ]
    },
    {
     "output_type": "stream",
     "name": "stdout",
     "text": [
      "Train: 1.0000| Val: 0.5680| Test: 0.5740| Eval Time: 0.0810s\n",
      "Epoch 55| Loss: 0.0004| Acc: 1.0000| Train Time: 0.0140s\n"
     ]
    },
    {
     "output_type": "stream",
     "name": "stderr",
     "text": [
      "Evaluating: 100%|██████████| 5416/5416 [00:00<00:00, 98470.05it/s]"
     ]
    },
    {
     "output_type": "stream",
     "name": "stdout",
     "text": [
      "Train: 1.0000| Val: 0.5680| Test: 0.5740| Eval Time: 0.0620s\n",
      "\n",
      "Result of  1. run| Train: 1.0000| Val: 0.5900| Test: 0.5860\n",
      "\n"
     ]
    },
    {
     "output_type": "stream",
     "name": "stderr",
     "text": [
      "\n"
     ]
    },
    {
     "output_type": "stream",
     "name": "stdout",
     "text": [
      "Run 01:\n"
     ]
    },
    {
     "output_type": "stream",
     "name": "stderr",
     "text": [
      "Epoch 01: 100%|██████████| 140/140 [00:00<00:00, 189.70it/s]\n"
     ]
    },
    {
     "output_type": "stream",
     "name": "stdout",
     "text": [
      "Epoch 01| Loss: 1.9467| Acc: 0.1929| Train Time: 0.7410s\n"
     ]
    },
    {
     "output_type": "stream",
     "name": "stderr",
     "text": [
      "Evaluating: 100%|██████████| 5416/5416 [00:02<00:00, 1820.68it/s]\n"
     ]
    },
    {
     "output_type": "stream",
     "name": "stdout",
     "text": [
      "Train: 0.9357| Val: 0.5160| Test: 0.5010| Eval Time: 2.9787s\n",
      "Epoch 02| Loss: 1.3238| Acc: 0.8857| Train Time: 0.6890s\n"
     ]
    },
    {
     "output_type": "stream",
     "name": "stderr",
     "text": [
      "Evaluating: 100%|██████████| 5416/5416 [00:00<00:00, 60203.03it/s]\n"
     ]
    },
    {
     "output_type": "stream",
     "name": "stdout",
     "text": [
      "Train: 0.9857| Val: 0.5720| Test: 0.5610| Eval Time: 0.0950s\n",
      "Epoch 03| Loss: 0.8077| Acc: 0.9571| Train Time: 0.0170s\n"
     ]
    },
    {
     "output_type": "stream",
     "name": "stderr",
     "text": [
      "Evaluating: 100%|██████████| 5416/5416 [00:00<00:00, 54161.08it/s]\n"
     ]
    },
    {
     "output_type": "stream",
     "name": "stdout",
     "text": [
      "Train: 0.9929| Val: 0.5940| Test: 0.5710| Eval Time: 0.1050s\n",
      "Epoch 04| Loss: 0.4772| Acc: 0.9857| Train Time: 0.0180s\n"
     ]
    },
    {
     "output_type": "stream",
     "name": "stderr",
     "text": [
      "Evaluating: 100%|██████████| 5416/5416 [00:00<00:00, 53097.30it/s]\n"
     ]
    },
    {
     "output_type": "stream",
     "name": "stdout",
     "text": [
      "Train: 1.0000| Val: 0.6120| Test: 0.5740| Eval Time: 0.1060s\n",
      "Epoch 05| Loss: 0.2747| Acc: 0.9929| Train Time: 0.0180s\n"
     ]
    },
    {
     "output_type": "stream",
     "name": "stderr",
     "text": [
      "Evaluating: 100%|██████████| 5416/5416 [00:00<00:00, 48792.66it/s]\n"
     ]
    },
    {
     "output_type": "stream",
     "name": "stdout",
     "text": [
      "Train: 1.0000| Val: 0.6060| Test: 0.5770| Eval Time: 0.1150s\n",
      "Epoch 06| Loss: 0.1550| Acc: 1.0000| Train Time: 0.0200s\n"
     ]
    },
    {
     "output_type": "stream",
     "name": "stderr",
     "text": [
      "Evaluating: 100%|██████████| 5416/5416 [00:00<00:00, 48366.31it/s]\n"
     ]
    },
    {
     "output_type": "stream",
     "name": "stdout",
     "text": [
      "Train: 1.0000| Val: 0.6080| Test: 0.5800| Eval Time: 0.1170s\n",
      "Epoch 07| Loss: 0.0940| Acc: 1.0000| Train Time: 0.0180s\n"
     ]
    },
    {
     "output_type": "stream",
     "name": "stderr",
     "text": [
      "Evaluating: 100%|██████████| 5416/5416 [00:00<00:00, 52583.17it/s]\n"
     ]
    },
    {
     "output_type": "stream",
     "name": "stdout",
     "text": [
      "Train: 1.0000| Val: 0.6120| Test: 0.5730| Eval Time: 0.1080s\n",
      "Epoch 08| Loss: 0.0591| Acc: 1.0000| Train Time: 0.0210s\n"
     ]
    },
    {
     "output_type": "stream",
     "name": "stderr",
     "text": [
      "Evaluating: 100%|██████████| 5416/5416 [00:00<00:00, 45132.93it/s]\n"
     ]
    },
    {
     "output_type": "stream",
     "name": "stdout",
     "text": [
      "Train: 1.0000| Val: 0.6060| Test: 0.5720| Eval Time: 0.1260s\n",
      "Epoch 09| Loss: 0.0466| Acc: 1.0000| Train Time: 0.0250s\n"
     ]
    },
    {
     "output_type": "stream",
     "name": "stderr",
     "text": [
      "Evaluating: 100%|██████████| 5416/5416 [00:00<00:00, 44039.98it/s]\n"
     ]
    },
    {
     "output_type": "stream",
     "name": "stdout",
     "text": [
      "Train: 1.0000| Val: 0.6020| Test: 0.5640| Eval Time: 0.1290s\n",
      "Epoch 10| Loss: 0.0394| Acc: 1.0000| Train Time: 0.0280s\n"
     ]
    },
    {
     "output_type": "stream",
     "name": "stderr",
     "text": [
      "Evaluating: 100%|██████████| 5416/5416 [00:00<00:00, 49236.62it/s]\n"
     ]
    },
    {
     "output_type": "stream",
     "name": "stdout",
     "text": [
      "Train: 1.0000| Val: 0.6020| Test: 0.5630| Eval Time: 0.1160s\n",
      "Epoch 11| Loss: 0.0151| Acc: 1.0000| Train Time: 0.0190s\n"
     ]
    },
    {
     "output_type": "stream",
     "name": "stderr",
     "text": [
      "Evaluating: 100%|██████████| 5416/5416 [00:00<00:00, 55832.37it/s]\n"
     ]
    },
    {
     "output_type": "stream",
     "name": "stdout",
     "text": [
      "Train: 1.0000| Val: 0.5960| Test: 0.5620| Eval Time: 0.1010s\n",
      "Epoch 12| Loss: 0.0138| Acc: 1.0000| Train Time: 0.0191s\n"
     ]
    },
    {
     "output_type": "stream",
     "name": "stderr",
     "text": [
      "Evaluating: 100%|██████████| 5416/5416 [00:00<00:00, 49236.94it/s]\n"
     ]
    },
    {
     "output_type": "stream",
     "name": "stdout",
     "text": [
      "Train: 1.0000| Val: 0.5960| Test: 0.5630| Eval Time: 0.1150s\n",
      "Epoch 13| Loss: 0.0056| Acc: 1.0000| Train Time: 0.0170s\n"
     ]
    },
    {
     "output_type": "stream",
     "name": "stderr",
     "text": [
      "Evaluating: 100%|██████████| 5416/5416 [00:00<00:00, 55834.84it/s]\n"
     ]
    },
    {
     "output_type": "stream",
     "name": "stdout",
     "text": [
      "Train: 1.0000| Val: 0.5900| Test: 0.5630| Eval Time: 0.1010s\n",
      "Epoch 14| Loss: 0.0041| Acc: 1.0000| Train Time: 0.0180s\n"
     ]
    },
    {
     "output_type": "stream",
     "name": "stderr",
     "text": [
      "Evaluating: 100%|██████████| 5416/5416 [00:00<00:00, 50614.29it/s]\n"
     ]
    },
    {
     "output_type": "stream",
     "name": "stdout",
     "text": [
      "Train: 1.0000| Val: 0.5900| Test: 0.5610| Eval Time: 0.1120s\n",
      "Epoch 15| Loss: 0.0039| Acc: 1.0000| Train Time: 0.0170s\n"
     ]
    },
    {
     "output_type": "stream",
     "name": "stderr",
     "text": [
      "Evaluating: 100%|██████████| 5416/5416 [00:00<00:00, 47928.94it/s]\n"
     ]
    },
    {
     "output_type": "stream",
     "name": "stdout",
     "text": [
      "Train: 1.0000| Val: 0.5900| Test: 0.5610| Eval Time: 0.1170s\n",
      "Epoch 16| Loss: 0.0033| Acc: 1.0000| Train Time: 0.0200s\n"
     ]
    },
    {
     "output_type": "stream",
     "name": "stderr",
     "text": [
      "Evaluating: 100%|██████████| 5416/5416 [00:00<00:00, 55241.89it/s]\n"
     ]
    },
    {
     "output_type": "stream",
     "name": "stdout",
     "text": [
      "Train: 1.0000| Val: 0.5860| Test: 0.5590| Eval Time: 0.1031s\n",
      "Epoch 17| Loss: 0.0025| Acc: 1.0000| Train Time: 0.0190s\n"
     ]
    },
    {
     "output_type": "stream",
     "name": "stderr",
     "text": [
      "Evaluating: 100%|██████████| 5416/5416 [00:00<00:00, 48353.65it/s]\n"
     ]
    },
    {
     "output_type": "stream",
     "name": "stdout",
     "text": [
      "Train: 1.0000| Val: 0.5860| Test: 0.5590| Eval Time: 0.1180s\n",
      "Epoch 18| Loss: 0.0041| Acc: 1.0000| Train Time: 0.0220s\n"
     ]
    },
    {
     "output_type": "stream",
     "name": "stderr",
     "text": [
      "Evaluating: 100%|██████████| 5416/5416 [00:00<00:00, 52581.71it/s]\n"
     ]
    },
    {
     "output_type": "stream",
     "name": "stdout",
     "text": [
      "Train: 1.0000| Val: 0.5820| Test: 0.5570| Eval Time: 0.1090s\n",
      "Epoch 19| Loss: 0.0012| Acc: 1.0000| Train Time: 0.0170s\n"
     ]
    },
    {
     "output_type": "stream",
     "name": "stderr",
     "text": [
      "Evaluating: 100%|██████████| 5416/5416 [00:00<00:00, 45513.81it/s]\n"
     ]
    },
    {
     "output_type": "stream",
     "name": "stdout",
     "text": [
      "Train: 1.0000| Val: 0.5820| Test: 0.5550| Eval Time: 0.1240s\n",
      "Epoch 20| Loss: 0.0015| Acc: 1.0000| Train Time: 0.0180s\n"
     ]
    },
    {
     "output_type": "stream",
     "name": "stderr",
     "text": [
      "Evaluating: 100%|██████████| 5416/5416 [00:00<00:00, 49896.76it/s]\n"
     ]
    },
    {
     "output_type": "stream",
     "name": "stdout",
     "text": [
      "Train: 1.0000| Val: 0.5820| Test: 0.5530| Eval Time: 0.1135s\n",
      "Epoch 21| Loss: 0.0017| Acc: 1.0000| Train Time: 0.0190s\n"
     ]
    },
    {
     "output_type": "stream",
     "name": "stderr",
     "text": [
      "Evaluating: 100%|██████████| 5416/5416 [00:00<00:00, 45896.90it/s]\n"
     ]
    },
    {
     "output_type": "stream",
     "name": "stdout",
     "text": [
      "Train: 1.0000| Val: 0.5820| Test: 0.5530| Eval Time: 0.1240s\n",
      "Epoch 22| Loss: 0.0003| Acc: 1.0000| Train Time: 0.0260s\n"
     ]
    },
    {
     "output_type": "stream",
     "name": "stderr",
     "text": [
      "Evaluating: 100%|██████████| 5416/5416 [00:00<00:00, 41986.14it/s]"
     ]
    },
    {
     "output_type": "stream",
     "name": "stdout",
     "text": [
      "Train: 1.0000| Val: 0.5780| Test: 0.5540| Eval Time: 0.1380s\n",
      "Epoch 23| Loss: 0.0018| Acc: 1.0000| Train Time: 0.0260s\n"
     ]
    },
    {
     "output_type": "stream",
     "name": "stderr",
     "text": [
      "\n",
      "Evaluating: 100%|██████████| 5416/5416 [00:00<00:00, 34942.26it/s]\n"
     ]
    },
    {
     "output_type": "stream",
     "name": "stdout",
     "text": [
      "Train: 1.0000| Val: 0.5780| Test: 0.5530| Eval Time: 0.1610s\n",
      "Epoch 24| Loss: 0.0011| Acc: 1.0000| Train Time: 0.0240s\n"
     ]
    },
    {
     "output_type": "stream",
     "name": "stderr",
     "text": [
      "Evaluating: 100%|██████████| 5416/5416 [00:00<00:00, 39824.53it/s]"
     ]
    },
    {
     "output_type": "stream",
     "name": "stdout",
     "text": [
      "Train: 1.0000| Val: 0.5760| Test: 0.5510| Eval Time: 0.1460s\n",
      "Epoch 25| Loss: 0.0003| Acc: 1.0000| Train Time: 0.0250s\n"
     ]
    },
    {
     "output_type": "stream",
     "name": "stderr",
     "text": [
      "\n",
      "Evaluating: 100%|██████████| 5416/5416 [00:00<00:00, 34063.11it/s]\n"
     ]
    },
    {
     "output_type": "stream",
     "name": "stdout",
     "text": [
      "Train: 1.0000| Val: 0.5740| Test: 0.5500| Eval Time: 0.1680s\n",
      "Epoch 26| Loss: 0.0004| Acc: 1.0000| Train Time: 0.0260s\n"
     ]
    },
    {
     "output_type": "stream",
     "name": "stderr",
     "text": [
      "Evaluating: 100%|██████████| 5416/5416 [00:00<00:00, 33640.65it/s]\n"
     ]
    },
    {
     "output_type": "stream",
     "name": "stdout",
     "text": [
      "Train: 1.0000| Val: 0.5740| Test: 0.5490| Eval Time: 0.1690s\n",
      "Epoch 27| Loss: 0.0006| Acc: 1.0000| Train Time: 0.0260s\n"
     ]
    },
    {
     "output_type": "stream",
     "name": "stderr",
     "text": [
      "Evaluating: 100%|██████████| 5416/5416 [00:00<00:00, 40418.11it/s]"
     ]
    },
    {
     "output_type": "stream",
     "name": "stdout",
     "text": [
      "Train: 1.0000| Val: 0.5740| Test: 0.5470| Eval Time: 0.1420s\n",
      "Epoch 28| Loss: 0.0006| Acc: 1.0000| Train Time: 0.0270s\n"
     ]
    },
    {
     "output_type": "stream",
     "name": "stderr",
     "text": [
      "\n",
      "Evaluating: 100%|██████████| 5416/5416 [00:00<00:00, 35391.39it/s]\n"
     ]
    },
    {
     "output_type": "stream",
     "name": "stdout",
     "text": [
      "Train: 1.0000| Val: 0.5740| Test: 0.5470| Eval Time: 0.1610s\n",
      "Epoch 29| Loss: 0.0006| Acc: 1.0000| Train Time: 0.0220s\n"
     ]
    },
    {
     "output_type": "stream",
     "name": "stderr",
     "text": [
      "Evaluating: 100%|██████████| 5416/5416 [00:00<00:00, 38685.22it/s]"
     ]
    },
    {
     "output_type": "stream",
     "name": "stdout",
     "text": [
      "Train: 1.0000| Val: 0.5760| Test: 0.5470| Eval Time: 0.1480s\n",
      "Epoch 30| Loss: 0.0002| Acc: 1.0000| Train Time: 0.0260s\n"
     ]
    },
    {
     "output_type": "stream",
     "name": "stderr",
     "text": [
      "\n",
      "Evaluating: 100%|██████████| 5416/5416 [00:00<00:00, 37215.21it/s]"
     ]
    },
    {
     "output_type": "stream",
     "name": "stdout",
     "text": [
      "Train: 1.0000| Val: 0.5760| Test: 0.5470| Eval Time: 0.1515s\n",
      "Epoch 31| Loss: 0.0002| Acc: 1.0000| Train Time: 0.0220s\n"
     ]
    },
    {
     "output_type": "stream",
     "name": "stderr",
     "text": [
      "\n",
      "Evaluating: 100%|██████████| 5416/5416 [00:00<00:00, 39824.46it/s]\n"
     ]
    },
    {
     "output_type": "stream",
     "name": "stdout",
     "text": [
      "Train: 1.0000| Val: 0.5760| Test: 0.5470| Eval Time: 0.1430s\n",
      "Epoch 32| Loss: 0.0002| Acc: 1.0000| Train Time: 0.0220s\n"
     ]
    },
    {
     "output_type": "stream",
     "name": "stderr",
     "text": [
      "Evaluating: 100%|██████████| 5416/5416 [00:00<00:00, 38388.17it/s]\n"
     ]
    },
    {
     "output_type": "stream",
     "name": "stdout",
     "text": [
      "Train: 1.0000| Val: 0.5760| Test: 0.5470| Eval Time: 0.1491s\n",
      "Epoch 33| Loss: 0.0001| Acc: 1.0000| Train Time: 0.0280s\n"
     ]
    },
    {
     "output_type": "stream",
     "name": "stderr",
     "text": [
      "Evaluating: 100%|██████████| 5416/5416 [00:00<00:00, 39533.37it/s]\n"
     ]
    },
    {
     "output_type": "stream",
     "name": "stdout",
     "text": [
      "Train: 1.0000| Val: 0.5740| Test: 0.5470| Eval Time: 0.1450s\n",
      "Epoch 34| Loss: 0.0001| Acc: 1.0000| Train Time: 0.0240s\n"
     ]
    },
    {
     "output_type": "stream",
     "name": "stderr",
     "text": [
      "Evaluating: 100%|██████████| 5416/5416 [00:00<00:00, 40721.62it/s]\n"
     ]
    },
    {
     "output_type": "stream",
     "name": "stdout",
     "text": [
      "Train: 1.0000| Val: 0.5740| Test: 0.5470| Eval Time: 0.1390s\n",
      "Epoch 35| Loss: 0.0001| Acc: 1.0000| Train Time: 0.0260s\n"
     ]
    },
    {
     "output_type": "stream",
     "name": "stderr",
     "text": [
      "Evaluating: 100%|██████████| 5416/5416 [00:00<00:00, 40117.46it/s]"
     ]
    },
    {
     "output_type": "stream",
     "name": "stdout",
     "text": [
      "Train: 1.0000| Val: 0.5720| Test: 0.5470| Eval Time: 0.1430s\n",
      "Epoch 36| Loss: 0.0006| Acc: 1.0000| Train Time: 0.0240s\n"
     ]
    },
    {
     "output_type": "stream",
     "name": "stderr",
     "text": [
      "\n",
      "Evaluating: 100%|██████████| 5416/5416 [00:00<00:00, 39537.85it/s]"
     ]
    },
    {
     "output_type": "stream",
     "name": "stdout",
     "text": [
      "Train: 1.0000| Val: 0.5720| Test: 0.5480| Eval Time: 0.1440s\n",
      "Epoch 37| Loss: 0.0002| Acc: 1.0000| Train Time: 0.0230s\n"
     ]
    },
    {
     "output_type": "stream",
     "name": "stderr",
     "text": [
      "\n",
      "Evaluating: 100%|██████████| 5416/5416 [00:00<00:00, 40704.18it/s]"
     ]
    },
    {
     "output_type": "stream",
     "name": "stdout",
     "text": [
      "Train: 1.0000| Val: 0.5700| Test: 0.5480| Eval Time: 0.1410s\n",
      "Epoch 38| Loss: 0.0004| Acc: 1.0000| Train Time: 0.0230s\n"
     ]
    },
    {
     "output_type": "stream",
     "name": "stderr",
     "text": [
      "\n",
      "Evaluating: 100%|██████████| 5416/5416 [00:00<00:00, 38413.35it/s]\n"
     ]
    },
    {
     "output_type": "stream",
     "name": "stdout",
     "text": [
      "Train: 1.0000| Val: 0.5700| Test: 0.5470| Eval Time: 0.1480s\n",
      "Epoch 39| Loss: 0.0001| Acc: 1.0000| Train Time: 0.0260s\n"
     ]
    },
    {
     "output_type": "stream",
     "name": "stderr",
     "text": [
      "Evaluating: 100%|██████████| 5416/5416 [00:00<00:00, 41661.43it/s]\n"
     ]
    },
    {
     "output_type": "stream",
     "name": "stdout",
     "text": [
      "Train: 1.0000| Val: 0.5700| Test: 0.5470| Eval Time: 0.1350s\n",
      "Epoch 40| Loss: 0.0001| Acc: 1.0000| Train Time: 0.0236s\n"
     ]
    },
    {
     "output_type": "stream",
     "name": "stderr",
     "text": [
      "Evaluating: 100%|██████████| 5416/5416 [00:00<00:00, 41985.99it/s]"
     ]
    },
    {
     "output_type": "stream",
     "name": "stdout",
     "text": [
      "Train: 1.0000| Val: 0.5700| Test: 0.5470| Eval Time: 0.1400s\n",
      "Epoch 41| Loss: 0.0001| Acc: 1.0000| Train Time: 0.0250s\n"
     ]
    },
    {
     "output_type": "stream",
     "name": "stderr",
     "text": [
      "\n",
      "Evaluating: 100%|██████████| 5416/5416 [00:00<00:00, 41989.32it/s]\n"
     ]
    },
    {
     "output_type": "stream",
     "name": "stdout",
     "text": [
      "Train: 1.0000| Val: 0.5680| Test: 0.5470| Eval Time: 0.1360s\n",
      "Epoch 42| Loss: 0.0002| Acc: 1.0000| Train Time: 0.0300s\n"
     ]
    },
    {
     "output_type": "stream",
     "name": "stderr",
     "text": [
      "Evaluating: 100%|██████████| 5416/5416 [00:00<00:00, 38965.52it/s]\n"
     ]
    },
    {
     "output_type": "stream",
     "name": "stdout",
     "text": [
      "Train: 1.0000| Val: 0.5680| Test: 0.5470| Eval Time: 0.1460s\n",
      "Epoch 43| Loss: 0.0005| Acc: 1.0000| Train Time: 0.0320s\n"
     ]
    },
    {
     "output_type": "stream",
     "name": "stderr",
     "text": [
      "Evaluating: 100%|██████████| 5416/5416 [00:00<00:00, 37351.48it/s]\n"
     ]
    },
    {
     "output_type": "stream",
     "name": "stdout",
     "text": [
      "Train: 1.0000| Val: 0.5680| Test: 0.5470| Eval Time: 0.1520s\n",
      "Epoch 44| Loss: 0.0001| Acc: 1.0000| Train Time: 0.0300s\n"
     ]
    },
    {
     "output_type": "stream",
     "name": "stderr",
     "text": [
      "Evaluating:   0%|          | 0/5416 [00:00<?, ?it/s]"
     ]
    }
   ],
   "metadata": {}
  },
  {
   "cell_type": "code",
   "execution_count": null,
   "source": [],
   "outputs": [],
   "metadata": {}
  }
 ],
 "metadata": {
  "orig_nbformat": 4,
  "kernelspec": {
   "name": "python3",
   "display_name": "Python 3.8.10 64-bit ('PSN': conda)"
  },
  "interpreter": {
   "hash": "b8be38cac5e07419459cc1d2fe0e04c6cbe36991c6a4efd3c9a636608bfd9cde"
  },
  "language_info": {
   "name": "python",
   "version": "3.8.10",
   "mimetype": "text/x-python",
   "codemirror_mode": {
    "name": "ipython",
    "version": 3
   },
   "pygments_lexer": "ipython3",
   "nbconvert_exporter": "python",
   "file_extension": ".py"
  }
 },
 "nbformat": 4,
 "nbformat_minor": 2
}