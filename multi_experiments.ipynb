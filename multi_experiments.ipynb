{
 "cells": [
  {
   "cell_type": "code",
   "execution_count": 1,
   "source": [
    "from utils.experimentorUtils import getExperimentor\r\n",
    "from utils.constants import *"
   ],
   "outputs": [],
   "metadata": {}
  },
  {
   "cell_type": "code",
   "execution_count": 2,
   "source": [
    "config = {\r\n",
    "    \"dataset_name\": Dataset.CORA,\r\n",
    "    \"model_type\": ModelType.GATV1,\r\n",
    "    'num_of_epochs': 500,\r\n",
    "    'num_of_runs': 10,\r\n",
    "    'patience_period': 50,\r\n",
    "    \r\n",
    "    'batch_size': 256,\r\n",
    "    'test_batch_size': 256,\r\n",
    "    'num_workers': 0,\r\n",
    "    'force_cpu': False,\r\n",
    "    'test_frequency': 1,\r\n",
    "    'console_log_freq': 1,\r\n",
    "    'do_train_tqdm_logging': False,\r\n",
    "    \r\n",
    "    'lr': 0.005,\r\n",
    "    'num_of_layers': 2, \r\n",
    "    'num_heads': 1,\r\n",
    "    'hidden_size': 128,\r\n",
    "    'dropout': 0.6,  \r\n",
    "    \"use_layer_norm\": False,\r\n",
    "    \"use_batch_norm\": False,\r\n",
    "    \r\n",
    "    'nbor_degree': 2,\r\n",
    "    'adj_mode': AdjacencyMode.OneStep,\r\n",
    "    'sparse': True\r\n",
    "}\r\n",
    "#experimentor = getExperimentor(config[\"dataset_name\"])(config)\r\n",
    "#experimentor.run_wrapper()"
   ],
   "outputs": [],
   "metadata": {}
  },
  {
   "cell_type": "code",
   "execution_count": 3,
   "source": [
    "for dataset in [Dataset.CITESEER]:\r\n",
    "    config[\"dataset_name\"] = dataset\r\n",
    "    if dataset == Dataset.PUBMED:\r\n",
    "        config[\"lr\"] = 0.01\r\n",
    "        config[\"num_heads\"] = 8\r\n",
    "    else: \r\n",
    "        config[\"lr\"] = 0.005\r\n",
    "        config[\"num_heads\"] = 1\r\n",
    "        \r\n",
    "    for degree in [1, 2, 3, 4]:\r\n",
    "        config[\"nbor_degree\"] = degree\r\n",
    "        for isSparse in [False, True]:\r\n",
    "            config[\"sparse\"] = isSparse\r\n",
    "            experimentor = getExperimentor(config[\"dataset_name\"])(config)\r\n",
    "            experimentor.run_wrapper()"
   ],
   "outputs": [
    {
     "output_type": "stream",
     "name": "stdout",
     "text": [
      "Run 01:\n"
     ]
    },
    {
     "output_type": "stream",
     "name": "stderr",
     "text": [
      "Epoch 01: 100%|██████████| 120/120 [00:00<00:00, 250.91it/s]\n"
     ]
    },
    {
     "output_type": "stream",
     "name": "stdout",
     "text": [
      "Epoch 01| Loss: 1.8544| Acc: 0.1417| Train Time: 0.4803s\n"
     ]
    },
    {
     "output_type": "stream",
     "name": "stderr",
     "text": [
      "Evaluating: 100%|██████████| 6654/6654 [00:04<00:00, 1540.57it/s]\n"
     ]
    },
    {
     "output_type": "stream",
     "name": "stdout",
     "text": [
      "Train: 0.8750| Val: 0.5500| Test: 0.5360| Eval Time: 4.3242s\n",
      "Epoch 02| Loss: 1.1985| Acc: 0.7417| Train Time: 0.6309s\n"
     ]
    },
    {
     "output_type": "stream",
     "name": "stderr",
     "text": [
      "Evaluating: 100%|██████████| 6654/6654 [00:00<00:00, 82150.23it/s]"
     ]
    },
    {
     "output_type": "stream",
     "name": "stdout",
     "text": [
      "Train: 0.9667| Val: 0.6520| Test: 0.6250| Eval Time: 0.0850s\n"
     ]
    },
    {
     "output_type": "stream",
     "name": "stderr",
     "text": [
      "\n"
     ]
    },
    {
     "output_type": "stream",
     "name": "stdout",
     "text": [
      "Epoch 03| Loss: 0.8274| Acc: 0.8667| Train Time: 0.6730s\n"
     ]
    },
    {
     "output_type": "stream",
     "name": "stderr",
     "text": [
      "Evaluating: 100%|██████████| 6654/6654 [00:00<00:00, 78262.34it/s]\n"
     ]
    },
    {
     "output_type": "stream",
     "name": "stdout",
     "text": [
      "Train: 1.0000| Val: 0.6780| Test: 0.6550| Eval Time: 0.0900s\n",
      "Epoch 04| Loss: 0.5586| Acc: 0.9667| Train Time: 0.0150s\n"
     ]
    },
    {
     "output_type": "stream",
     "name": "stderr",
     "text": [
      "Evaluating: 100%|██████████| 6654/6654 [00:00<00:00, 67898.59it/s]\n"
     ]
    },
    {
     "output_type": "stream",
     "name": "stdout",
     "text": [
      "Train: 1.0000| Val: 0.6700| Test: 0.6540| Eval Time: 0.1030s\n",
      "Epoch 05| Loss: 0.4008| Acc: 0.9500| Train Time: 0.0120s\n"
     ]
    },
    {
     "output_type": "stream",
     "name": "stderr",
     "text": [
      "Evaluating: 100%|██████████| 6654/6654 [00:00<00:00, 72320.65it/s]\n"
     ]
    },
    {
     "output_type": "stream",
     "name": "stdout",
     "text": [
      "Train: 1.0000| Val: 0.6740| Test: 0.6660| Eval Time: 0.0970s\n",
      "Epoch 06| Loss: 0.2665| Acc: 1.0000| Train Time: 0.0100s\n"
     ]
    },
    {
     "output_type": "stream",
     "name": "stderr",
     "text": [
      "Evaluating: 100%|██████████| 6654/6654 [00:00<00:00, 76484.11it/s]\n"
     ]
    },
    {
     "output_type": "stream",
     "name": "stdout",
     "text": [
      "Train: 1.0000| Val: 0.6800| Test: 0.6740| Eval Time: 0.0910s\n",
      "Epoch 07| Loss: 0.2137| Acc: 0.9917| Train Time: 0.0110s\n"
     ]
    },
    {
     "output_type": "stream",
     "name": "stderr",
     "text": [
      "Evaluating: 100%|██████████| 6654/6654 [00:00<00:00, 79235.77it/s]\n"
     ]
    },
    {
     "output_type": "stream",
     "name": "stdout",
     "text": [
      "Train: 1.0000| Val: 0.6840| Test: 0.6790| Eval Time: 0.0890s\n",
      "Epoch 08| Loss: 0.1894| Acc: 0.9833| Train Time: 0.0100s\n"
     ]
    },
    {
     "output_type": "stream",
     "name": "stderr",
     "text": [
      "Evaluating: 100%|██████████| 6654/6654 [00:00<00:00, 73935.56it/s]\n"
     ]
    },
    {
     "output_type": "stream",
     "name": "stdout",
     "text": [
      "Train: 1.0000| Val: 0.6900| Test: 0.6810| Eval Time: 0.0950s\n",
      "Epoch 09| Loss: 0.1324| Acc: 0.9917| Train Time: 0.0130s\n"
     ]
    },
    {
     "output_type": "stream",
     "name": "stderr",
     "text": [
      "Evaluating: 100%|██████████| 6654/6654 [00:00<00:00, 73121.58it/s]\n"
     ]
    },
    {
     "output_type": "stream",
     "name": "stdout",
     "text": [
      "Train: 1.0000| Val: 0.6940| Test: 0.6760| Eval Time: 0.0950s\n",
      "Epoch 10| Loss: 0.1192| Acc: 0.9833| Train Time: 0.0110s\n"
     ]
    },
    {
     "output_type": "stream",
     "name": "stderr",
     "text": [
      "Evaluating: 100%|██████████| 6654/6654 [00:00<00:00, 74767.46it/s]\n"
     ]
    },
    {
     "output_type": "stream",
     "name": "stdout",
     "text": [
      "Train: 1.0000| Val: 0.6900| Test: 0.6750| Eval Time: 0.0930s\n",
      "Epoch 11| Loss: 0.0878| Acc: 1.0000| Train Time: 0.0130s\n"
     ]
    },
    {
     "output_type": "stream",
     "name": "stderr",
     "text": [
      "Evaluating: 100%|██████████| 6654/6654 [00:00<00:00, 75616.04it/s]\n"
     ]
    },
    {
     "output_type": "stream",
     "name": "stdout",
     "text": [
      "Train: 1.0000| Val: 0.6820| Test: 0.6700| Eval Time: 0.0930s\n",
      "Epoch 12| Loss: 0.0825| Acc: 0.9917| Train Time: 0.0130s\n"
     ]
    },
    {
     "output_type": "stream",
     "name": "stderr",
     "text": [
      "Evaluating: 100%|██████████| 6654/6654 [00:00<00:00, 72325.52it/s]\n"
     ]
    },
    {
     "output_type": "stream",
     "name": "stdout",
     "text": [
      "Train: 1.0000| Val: 0.6820| Test: 0.6730| Eval Time: 0.0960s\n",
      "Epoch 13| Loss: 0.0299| Acc: 1.0000| Train Time: 0.0100s\n"
     ]
    },
    {
     "output_type": "stream",
     "name": "stderr",
     "text": [
      "Evaluating: 100%|██████████| 6654/6654 [00:00<00:00, 81140.90it/s]\n"
     ]
    },
    {
     "output_type": "stream",
     "name": "stdout",
     "text": [
      "Train: 1.0000| Val: 0.6780| Test: 0.6730| Eval Time: 0.0880s\n",
      "Epoch 14| Loss: 0.0443| Acc: 1.0000| Train Time: 0.0110s\n"
     ]
    },
    {
     "output_type": "stream",
     "name": "stderr",
     "text": [
      "Evaluating: 100%|██████████| 6654/6654 [00:00<00:00, 73933.80it/s]\n"
     ]
    },
    {
     "output_type": "stream",
     "name": "stdout",
     "text": [
      "Train: 1.0000| Val: 0.6800| Test: 0.6780| Eval Time: 0.0960s\n",
      "Epoch 15| Loss: 0.0399| Acc: 0.9917| Train Time: 0.0120s\n"
     ]
    },
    {
     "output_type": "stream",
     "name": "stderr",
     "text": [
      "Evaluating: 100%|██████████| 6654/6654 [00:00<00:00, 73092.66it/s]\n"
     ]
    },
    {
     "output_type": "stream",
     "name": "stdout",
     "text": [
      "Train: 1.0000| Val: 0.6800| Test: 0.6780| Eval Time: 0.0950s\n",
      "Epoch 16| Loss: 0.0154| Acc: 1.0000| Train Time: 0.0110s\n"
     ]
    },
    {
     "output_type": "stream",
     "name": "stderr",
     "text": [
      "Evaluating: 100%|██████████| 6654/6654 [00:00<00:00, 75623.83it/s]\n"
     ]
    },
    {
     "output_type": "stream",
     "name": "stdout",
     "text": [
      "Train: 1.0000| Val: 0.6800| Test: 0.6770| Eval Time: 0.0930s\n",
      "Epoch 17| Loss: 0.0170| Acc: 1.0000| Train Time: 0.0120s\n"
     ]
    },
    {
     "output_type": "stream",
     "name": "stderr",
     "text": [
      "Evaluating: 100%|██████████| 6654/6654 [00:00<00:00, 77376.20it/s]\n"
     ]
    },
    {
     "output_type": "stream",
     "name": "stdout",
     "text": [
      "Train: 1.0000| Val: 0.6820| Test: 0.6740| Eval Time: 0.0910s\n",
      "Epoch 18| Loss: 0.0142| Acc: 1.0000| Train Time: 0.0120s\n"
     ]
    },
    {
     "output_type": "stream",
     "name": "stderr",
     "text": [
      "Evaluating: 100%|██████████| 6654/6654 [00:00<00:00, 78284.07it/s]\n"
     ]
    },
    {
     "output_type": "stream",
     "name": "stdout",
     "text": [
      "Train: 1.0000| Val: 0.6800| Test: 0.6730| Eval Time: 0.0900s\n",
      "Epoch 19| Loss: 0.0588| Acc: 0.9917| Train Time: 0.0110s\n"
     ]
    },
    {
     "output_type": "stream",
     "name": "stderr",
     "text": [
      "Evaluating: 100%|██████████| 6654/6654 [00:00<00:00, 77377.06it/s]\n"
     ]
    },
    {
     "output_type": "stream",
     "name": "stdout",
     "text": [
      "Train: 1.0000| Val: 0.6840| Test: 0.6740| Eval Time: 0.0910s\n",
      "Epoch 20| Loss: 0.0213| Acc: 1.0000| Train Time: 0.0120s\n"
     ]
    },
    {
     "output_type": "stream",
     "name": "stderr",
     "text": [
      "Evaluating: 100%|██████████| 6654/6654 [00:00<00:00, 75614.61it/s]\n"
     ]
    },
    {
     "output_type": "stream",
     "name": "stdout",
     "text": [
      "Train: 1.0000| Val: 0.6840| Test: 0.6760| Eval Time: 0.0920s\n",
      "Epoch 21| Loss: 0.0166| Acc: 1.0000| Train Time: 0.0090s\n"
     ]
    },
    {
     "output_type": "stream",
     "name": "stderr",
     "text": [
      "Evaluating: 100%|██████████| 6654/6654 [00:00<00:00, 71552.47it/s]\n"
     ]
    },
    {
     "output_type": "stream",
     "name": "stdout",
     "text": [
      "Train: 1.0000| Val: 0.6820| Test: 0.6740| Eval Time: 0.0970s\n",
      "Epoch 22| Loss: 0.0166| Acc: 1.0000| Train Time: 0.0110s\n"
     ]
    },
    {
     "output_type": "stream",
     "name": "stderr",
     "text": [
      "Evaluating: 100%|██████████| 6654/6654 [00:00<00:00, 72322.15it/s]\n"
     ]
    },
    {
     "output_type": "stream",
     "name": "stdout",
     "text": [
      "Train: 1.0000| Val: 0.6800| Test: 0.6750| Eval Time: 0.0960s\n",
      "Epoch 23| Loss: 0.0088| Acc: 1.0000| Train Time: 0.0100s\n"
     ]
    },
    {
     "output_type": "stream",
     "name": "stderr",
     "text": [
      "Evaluating: 100%|██████████| 6654/6654 [00:00<00:00, 73121.01it/s]\n"
     ]
    },
    {
     "output_type": "stream",
     "name": "stdout",
     "text": [
      "Train: 1.0000| Val: 0.6780| Test: 0.6780| Eval Time: 0.0940s\n",
      "Epoch 24| Loss: 0.0031| Acc: 1.0000| Train Time: 0.0140s\n"
     ]
    },
    {
     "output_type": "stream",
     "name": "stderr",
     "text": [
      "Evaluating: 100%|██████████| 6654/6654 [00:00<00:00, 77374.05it/s]\n"
     ]
    },
    {
     "output_type": "stream",
     "name": "stdout",
     "text": [
      "Train: 1.0000| Val: 0.6780| Test: 0.6790| Eval Time: 0.0900s\n",
      "Epoch 25| Loss: 0.0030| Acc: 1.0000| Train Time: 0.0100s\n"
     ]
    },
    {
     "output_type": "stream",
     "name": "stderr",
     "text": [
      "Evaluating: 100%|██████████| 6654/6654 [00:00<00:00, 72324.02it/s]\n"
     ]
    },
    {
     "output_type": "stream",
     "name": "stdout",
     "text": [
      "Train: 1.0000| Val: 0.6860| Test: 0.6800| Eval Time: 0.0960s\n",
      "Epoch 26| Loss: 0.0097| Acc: 1.0000| Train Time: 0.0110s\n"
     ]
    },
    {
     "output_type": "stream",
     "name": "stderr",
     "text": [
      "Evaluating: 100%|██████████| 6654/6654 [00:00<00:00, 73139.02it/s]\n"
     ]
    },
    {
     "output_type": "stream",
     "name": "stdout",
     "text": [
      "Train: 1.0000| Val: 0.6880| Test: 0.6770| Eval Time: 0.0960s\n",
      "Epoch 27| Loss: 0.0206| Acc: 0.9917| Train Time: 0.0130s\n"
     ]
    },
    {
     "output_type": "stream",
     "name": "stderr",
     "text": [
      "Evaluating: 100%|██████████| 6654/6654 [00:00<00:00, 70045.25it/s]\n"
     ]
    },
    {
     "output_type": "stream",
     "name": "stdout",
     "text": [
      "Train: 1.0000| Val: 0.6840| Test: 0.6740| Eval Time: 0.1000s\n",
      "Epoch 28| Loss: 0.0409| Acc: 0.9917| Train Time: 0.0170s\n"
     ]
    },
    {
     "output_type": "stream",
     "name": "stderr",
     "text": [
      "Evaluating: 100%|██████████| 6654/6654 [00:00<00:00, 58884.01it/s]\n"
     ]
    },
    {
     "output_type": "stream",
     "name": "stdout",
     "text": [
      "Train: 1.0000| Val: 0.6840| Test: 0.6730| Eval Time: 0.1180s\n",
      "Epoch 29| Loss: 0.0049| Acc: 1.0000| Train Time: 0.0150s\n"
     ]
    },
    {
     "output_type": "stream",
     "name": "stderr",
     "text": [
      "Evaluating: 100%|██████████| 6654/6654 [00:00<00:00, 69311.84it/s]\n"
     ]
    },
    {
     "output_type": "stream",
     "name": "stdout",
     "text": [
      "Train: 1.0000| Val: 0.6860| Test: 0.6690| Eval Time: 0.1020s\n",
      "Epoch 30| Loss: 0.0051| Acc: 1.0000| Train Time: 0.0130s\n"
     ]
    },
    {
     "output_type": "stream",
     "name": "stderr",
     "text": [
      "Evaluating: 100%|██████████| 6654/6654 [00:00<00:00, 68578.47it/s]\n"
     ]
    },
    {
     "output_type": "stream",
     "name": "stdout",
     "text": [
      "Train: 1.0000| Val: 0.6880| Test: 0.6680| Eval Time: 0.1020s\n",
      "Epoch 31| Loss: 0.0087| Acc: 1.0000| Train Time: 0.0120s\n"
     ]
    },
    {
     "output_type": "stream",
     "name": "stderr",
     "text": [
      "Evaluating: 100%|██████████| 6654/6654 [00:00<00:00, 68595.49it/s]\n"
     ]
    },
    {
     "output_type": "stream",
     "name": "stdout",
     "text": [
      "Train: 1.0000| Val: 0.6900| Test: 0.6660| Eval Time: 0.1020s\n",
      "Epoch 32| Loss: 0.0069| Acc: 1.0000| Train Time: 0.0110s\n"
     ]
    },
    {
     "output_type": "stream",
     "name": "stderr",
     "text": [
      "Evaluating: 100%|██████████| 6654/6654 [00:00<00:00, 73122.73it/s]\n"
     ]
    },
    {
     "output_type": "stream",
     "name": "stdout",
     "text": [
      "Train: 1.0000| Val: 0.6880| Test: 0.6650| Eval Time: 0.0940s\n",
      "Epoch 33| Loss: 0.0082| Acc: 1.0000| Train Time: 0.0130s\n"
     ]
    },
    {
     "output_type": "stream",
     "name": "stderr",
     "text": [
      "Evaluating: 100%|██████████| 6654/6654 [00:00<00:00, 73122.16it/s]\n"
     ]
    },
    {
     "output_type": "stream",
     "name": "stdout",
     "text": [
      "Train: 1.0000| Val: 0.6880| Test: 0.6620| Eval Time: 0.0960s\n",
      "Epoch 34| Loss: 0.0030| Acc: 1.0000| Train Time: 0.0100s\n"
     ]
    },
    {
     "output_type": "stream",
     "name": "stderr",
     "text": [
      "Evaluating: 100%|██████████| 6654/6654 [00:00<00:00, 72328.33it/s]\n"
     ]
    },
    {
     "output_type": "stream",
     "name": "stdout",
     "text": [
      "Train: 1.0000| Val: 0.6860| Test: 0.6610| Eval Time: 0.0980s\n",
      "Epoch 35| Loss: 0.0016| Acc: 1.0000| Train Time: 0.0120s\n"
     ]
    },
    {
     "output_type": "stream",
     "name": "stderr",
     "text": [
      "Evaluating: 100%|██████████| 6654/6654 [00:00<00:00, 70008.53it/s]\n"
     ]
    },
    {
     "output_type": "stream",
     "name": "stdout",
     "text": [
      "Train: 1.0000| Val: 0.6820| Test: 0.6600| Eval Time: 0.1010s\n",
      "Epoch 36| Loss: 0.0012| Acc: 1.0000| Train Time: 0.0120s\n"
     ]
    },
    {
     "output_type": "stream",
     "name": "stderr",
     "text": [
      "Evaluating: 100%|██████████| 6654/6654 [00:00<00:00, 72294.23it/s]\n"
     ]
    },
    {
     "output_type": "stream",
     "name": "stdout",
     "text": [
      "Train: 1.0000| Val: 0.6820| Test: 0.6600| Eval Time: 0.0980s\n",
      "Epoch 37| Loss: 0.0012| Acc: 1.0000| Train Time: 0.0110s\n"
     ]
    },
    {
     "output_type": "stream",
     "name": "stderr",
     "text": [
      "Evaluating: 100%|██████████| 6654/6654 [00:00<00:00, 71549.35it/s]\n"
     ]
    },
    {
     "output_type": "stream",
     "name": "stdout",
     "text": [
      "Train: 1.0000| Val: 0.6820| Test: 0.6610| Eval Time: 0.1010s\n",
      "Epoch 38| Loss: 0.0025| Acc: 1.0000| Train Time: 0.0120s\n"
     ]
    },
    {
     "output_type": "stream",
     "name": "stderr",
     "text": [
      "Evaluating: 100%|██████████| 6654/6654 [00:00<00:00, 72327.39it/s]\n"
     ]
    },
    {
     "output_type": "stream",
     "name": "stdout",
     "text": [
      "Train: 1.0000| Val: 0.6780| Test: 0.6610| Eval Time: 0.0980s\n",
      "Epoch 39| Loss: 0.0024| Acc: 1.0000| Train Time: 0.0110s\n"
     ]
    },
    {
     "output_type": "stream",
     "name": "stderr",
     "text": [
      "Evaluating: 100%|██████████| 6654/6654 [00:00<00:00, 61611.50it/s]\n"
     ]
    },
    {
     "output_type": "stream",
     "name": "stdout",
     "text": [
      "Train: 1.0000| Val: 0.6800| Test: 0.6620| Eval Time: 0.1120s\n",
      "Epoch 40| Loss: 0.0015| Acc: 1.0000| Train Time: 0.0150s\n"
     ]
    },
    {
     "output_type": "stream",
     "name": "stderr",
     "text": [
      "Evaluating: 100%|██████████| 6654/6654 [00:00<00:00, 65492.94it/s]\n"
     ]
    },
    {
     "output_type": "stream",
     "name": "stdout",
     "text": [
      "Train: 1.0000| Val: 0.6780| Test: 0.6620| Eval Time: 0.1096s\n",
      "Epoch 41| Loss: 0.0012| Acc: 1.0000| Train Time: 0.0110s\n"
     ]
    },
    {
     "output_type": "stream",
     "name": "stderr",
     "text": [
      "Evaluating: 100%|██████████| 6654/6654 [00:00<00:00, 62773.90it/s]\n"
     ]
    },
    {
     "output_type": "stream",
     "name": "stdout",
     "text": [
      "Train: 1.0000| Val: 0.6800| Test: 0.6590| Eval Time: 0.1100s\n",
      "Epoch 42| Loss: 0.0030| Acc: 1.0000| Train Time: 0.0180s\n"
     ]
    },
    {
     "output_type": "stream",
     "name": "stderr",
     "text": [
      "Evaluating: 100%|██████████| 6654/6654 [00:00<00:00, 63373.43it/s]\n"
     ]
    },
    {
     "output_type": "stream",
     "name": "stdout",
     "text": [
      "Train: 1.0000| Val: 0.6800| Test: 0.6580| Eval Time: 0.1120s\n",
      "Epoch 43| Loss: 0.0011| Acc: 1.0000| Train Time: 0.0150s\n"
     ]
    },
    {
     "output_type": "stream",
     "name": "stderr",
     "text": [
      "Evaluating: 100%|██████████| 6654/6654 [00:00<00:00, 66857.59it/s]\n"
     ]
    },
    {
     "output_type": "stream",
     "name": "stdout",
     "text": [
      "Train: 1.0000| Val: 0.6800| Test: 0.6590| Eval Time: 0.1045s\n",
      "Epoch 44| Loss: 0.0012| Acc: 1.0000| Train Time: 0.0140s\n"
     ]
    },
    {
     "output_type": "stream",
     "name": "stderr",
     "text": [
      "Evaluating: 100%|██████████| 6654/6654 [00:00<00:00, 72327.02it/s]\n"
     ]
    },
    {
     "output_type": "stream",
     "name": "stdout",
     "text": [
      "Train: 1.0000| Val: 0.6800| Test: 0.6590| Eval Time: 0.0970s\n",
      "Epoch 45| Loss: 0.0024| Acc: 1.0000| Train Time: 0.0140s\n"
     ]
    },
    {
     "output_type": "stream",
     "name": "stderr",
     "text": [
      "Evaluating: 100%|██████████| 6654/6654 [00:00<00:00, 63369.98it/s]\n"
     ]
    },
    {
     "output_type": "stream",
     "name": "stdout",
     "text": [
      "Train: 1.0000| Val: 0.6800| Test: 0.6580| Eval Time: 0.1110s\n",
      "Epoch 46| Loss: 0.0013| Acc: 1.0000| Train Time: 0.0150s\n"
     ]
    },
    {
     "output_type": "stream",
     "name": "stderr",
     "text": [
      "Evaluating: 100%|██████████| 6654/6654 [00:00<00:00, 73122.16it/s]\n"
     ]
    },
    {
     "output_type": "stream",
     "name": "stdout",
     "text": [
      "Train: 1.0000| Val: 0.6780| Test: 0.6570| Eval Time: 0.0980s\n",
      "Epoch 47| Loss: 0.0023| Acc: 1.0000| Train Time: 0.0100s\n"
     ]
    },
    {
     "output_type": "stream",
     "name": "stderr",
     "text": [
      "Evaluating: 100%|██████████| 6654/6654 [00:00<00:00, 79213.51it/s]\n"
     ]
    },
    {
     "output_type": "stream",
     "name": "stdout",
     "text": [
      "Train: 1.0000| Val: 0.6760| Test: 0.6570| Eval Time: 0.0880s\n",
      "Epoch 48| Loss: 0.0020| Acc: 1.0000| Train Time: 0.0110s\n"
     ]
    },
    {
     "output_type": "stream",
     "name": "stderr",
     "text": [
      "Evaluating: 100%|██████████| 6654/6654 [00:00<00:00, 63364.37it/s]\n"
     ]
    },
    {
     "output_type": "stream",
     "name": "stdout",
     "text": [
      "Train: 1.0000| Val: 0.6760| Test: 0.6570| Eval Time: 0.1120s\n",
      "Epoch 49| Loss: 0.0009| Acc: 1.0000| Train Time: 0.0150s\n"
     ]
    },
    {
     "output_type": "stream",
     "name": "stderr",
     "text": [
      "Evaluating: 100%|██████████| 6654/6654 [00:00<00:00, 75615.02it/s]\n"
     ]
    },
    {
     "output_type": "stream",
     "name": "stdout",
     "text": [
      "Train: 1.0000| Val: 0.6760| Test: 0.6580| Eval Time: 0.0920s\n",
      "Epoch 50| Loss: 0.0017| Acc: 1.0000| Train Time: 0.0100s\n"
     ]
    },
    {
     "output_type": "stream",
     "name": "stderr",
     "text": [
      "Evaluating: 100%|██████████| 6654/6654 [00:00<00:00, 74765.46it/s]\n"
     ]
    },
    {
     "output_type": "stream",
     "name": "stdout",
     "text": [
      "Train: 1.0000| Val: 0.6760| Test: 0.6580| Eval Time: 0.0940s\n",
      "Epoch 51| Loss: 0.0019| Acc: 1.0000| Train Time: 0.0100s\n"
     ]
    },
    {
     "output_type": "stream",
     "name": "stderr",
     "text": [
      "Evaluating: 100%|██████████| 6654/6654 [00:00<00:00, 61612.04it/s]\n"
     ]
    },
    {
     "output_type": "stream",
     "name": "stdout",
     "text": [
      "Train: 1.0000| Val: 0.6760| Test: 0.6580| Eval Time: 0.1120s\n",
      "Epoch 52| Loss: 0.0005| Acc: 1.0000| Train Time: 0.0160s\n"
     ]
    },
    {
     "output_type": "stream",
     "name": "stderr",
     "text": [
      "Evaluating: 100%|██████████| 6654/6654 [00:00<00:00, 76484.95it/s]\n"
     ]
    },
    {
     "output_type": "stream",
     "name": "stdout",
     "text": [
      "Train: 1.0000| Val: 0.6760| Test: 0.6580| Eval Time: 0.0910s\n",
      "Epoch 53| Loss: 0.0004| Acc: 1.0000| Train Time: 0.0100s\n"
     ]
    },
    {
     "output_type": "stream",
     "name": "stderr",
     "text": [
      "Evaluating: 100%|██████████| 6654/6654 [00:00<00:00, 71547.52it/s]\n"
     ]
    },
    {
     "output_type": "stream",
     "name": "stdout",
     "text": [
      "Train: 1.0000| Val: 0.6760| Test: 0.6570| Eval Time: 0.0970s\n",
      "Epoch 54| Loss: 0.0013| Acc: 1.0000| Train Time: 0.0170s\n"
     ]
    },
    {
     "output_type": "stream",
     "name": "stderr",
     "text": [
      "Evaluating: 100%|██████████| 6654/6654 [00:00<00:00, 67168.46it/s]\n"
     ]
    },
    {
     "output_type": "stream",
     "name": "stdout",
     "text": [
      "Train: 1.0000| Val: 0.6760| Test: 0.6570| Eval Time: 0.1051s\n",
      "Epoch 55| Loss: 0.0009| Acc: 1.0000| Train Time: 0.0110s\n"
     ]
    },
    {
     "output_type": "stream",
     "name": "stderr",
     "text": [
      "Evaluating: 100%|██████████| 6654/6654 [00:00<00:00, 78284.07it/s]\n"
     ]
    },
    {
     "output_type": "stream",
     "name": "stdout",
     "text": [
      "Train: 1.0000| Val: 0.6760| Test: 0.6570| Eval Time: 0.0900s\n",
      "Epoch 56| Loss: 0.0027| Acc: 1.0000| Train Time: 0.0100s\n"
     ]
    },
    {
     "output_type": "stream",
     "name": "stderr",
     "text": [
      "Evaluating: 100%|██████████| 6654/6654 [00:00<00:00, 56390.96it/s]\n"
     ]
    },
    {
     "output_type": "stream",
     "name": "stdout",
     "text": [
      "Train: 1.0000| Val: 0.6780| Test: 0.6570| Eval Time: 0.1240s\n",
      "Epoch 57| Loss: 0.0041| Acc: 1.0000| Train Time: 0.0130s\n"
     ]
    },
    {
     "output_type": "stream",
     "name": "stderr",
     "text": [
      "Evaluating: 100%|██████████| 6654/6654 [00:00<00:00, 74770.67it/s]\n"
     ]
    },
    {
     "output_type": "stream",
     "name": "stdout",
     "text": [
      "Train: 1.0000| Val: 0.6760| Test: 0.6560| Eval Time: 0.0950s\n",
      "Epoch 58| Loss: 0.0030| Acc: 1.0000| Train Time: 0.0120s\n"
     ]
    },
    {
     "output_type": "stream",
     "name": "stderr",
     "text": [
      "Evaluating: 100%|██████████| 6654/6654 [00:00<00:00, 62186.30it/s]\n"
     ]
    },
    {
     "output_type": "stream",
     "name": "stdout",
     "text": [
      "Train: 1.0000| Val: 0.6780| Test: 0.6550| Eval Time: 0.1130s\n",
      "Epoch 59| Loss: 0.0022| Acc: 1.0000| Train Time: 0.0140s\n"
     ]
    },
    {
     "output_type": "stream",
     "name": "stderr",
     "text": [
      "Evaluating: 100%|██████████| 6654/6654 [00:00<00:00, 78284.29it/s]\n"
     ]
    },
    {
     "output_type": "stream",
     "name": "stdout",
     "text": [
      "Train: 1.0000| Val: 0.6740| Test: 0.6560| Eval Time: 0.0920s\n",
      "\n",
      "Result of  1. run| Train: 1.0000| Val: 0.6940| Test: 0.6760\n",
      "\n",
      "Run 01:\n"
     ]
    },
    {
     "output_type": "stream",
     "name": "stderr",
     "text": [
      "Epoch 01: 100%|██████████| 120/120 [00:00<00:00, 5999.29it/s]\n"
     ]
    },
    {
     "output_type": "stream",
     "name": "stdout",
     "text": [
      "Epoch 01| Loss: 1.8206| Acc: 0.1500| Train Time: 0.0230s\n"
     ]
    },
    {
     "output_type": "stream",
     "name": "stderr",
     "text": [
      "Evaluating: 100%|██████████| 6654/6654 [00:00<00:00, 38685.95it/s]\n"
     ]
    },
    {
     "output_type": "stream",
     "name": "stdout",
     "text": [
      "Train: 0.8000| Val: 0.5120| Test: 0.4840| Eval Time: 0.1770s\n",
      "Epoch 02| Loss: 1.1913| Acc: 0.7333| Train Time: 0.0150s\n"
     ]
    },
    {
     "output_type": "stream",
     "name": "stderr",
     "text": [
      "Evaluating: 100%|██████████| 6654/6654 [00:00<00:00, 47528.54it/s]\n"
     ]
    },
    {
     "output_type": "stream",
     "name": "stdout",
     "text": [
      "Train: 0.9333| Val: 0.6460| Test: 0.6230| Eval Time: 0.1470s\n",
      "Epoch 03| Loss: 0.9612| Acc: 0.8250| Train Time: 0.0180s\n"
     ]
    },
    {
     "output_type": "stream",
     "name": "stderr",
     "text": [
      "Evaluating: 100%|██████████| 6654/6654 [00:00<00:00, 54993.34it/s]\n"
     ]
    },
    {
     "output_type": "stream",
     "name": "stdout",
     "text": [
      "Train: 0.9833| Val: 0.6700| Test: 0.6810| Eval Time: 0.1260s\n",
      "Epoch 04| Loss: 0.7082| Acc: 0.9000| Train Time: 0.0120s\n"
     ]
    },
    {
     "output_type": "stream",
     "name": "stderr",
     "text": [
      "Evaluating: 100%|██████████| 6654/6654 [00:00<00:00, 46027.70it/s]\n"
     ]
    },
    {
     "output_type": "stream",
     "name": "stdout",
     "text": [
      "Train: 1.0000| Val: 0.6580| Test: 0.6760| Eval Time: 0.1496s\n",
      "Epoch 05| Loss: 0.4860| Acc: 0.9417| Train Time: 0.0190s\n"
     ]
    },
    {
     "output_type": "stream",
     "name": "stderr",
     "text": [
      "Evaluating: 100%|██████████| 6654/6654 [00:00<00:00, 48217.05it/s]\n"
     ]
    },
    {
     "output_type": "stream",
     "name": "stdout",
     "text": [
      "Train: 1.0000| Val: 0.6720| Test: 0.6720| Eval Time: 0.1430s\n",
      "Epoch 06| Loss: 0.3764| Acc: 0.9583| Train Time: 0.0130s\n"
     ]
    },
    {
     "output_type": "stream",
     "name": "stderr",
     "text": [
      "Evaluating: 100%|██████████| 6654/6654 [00:00<00:00, 54099.49it/s]\n"
     ]
    },
    {
     "output_type": "stream",
     "name": "stdout",
     "text": [
      "Train: 1.0000| Val: 0.6540| Test: 0.6660| Eval Time: 0.1280s\n",
      "Epoch 07| Loss: 0.2695| Acc: 0.9917| Train Time: 0.0200s\n"
     ]
    },
    {
     "output_type": "stream",
     "name": "stderr",
     "text": [
      "Evaluating: 100%|██████████| 6654/6654 [00:00<00:00, 55450.60it/s]\n"
     ]
    },
    {
     "output_type": "stream",
     "name": "stdout",
     "text": [
      "Train: 1.0000| Val: 0.6420| Test: 0.6630| Eval Time: 0.1250s\n",
      "Epoch 08| Loss: 0.2613| Acc: 0.9917| Train Time: 0.0170s\n"
     ]
    },
    {
     "output_type": "stream",
     "name": "stderr",
     "text": [
      "Evaluating: 100%|██████████| 6654/6654 [00:00<00:00, 45575.52it/s]\n"
     ]
    },
    {
     "output_type": "stream",
     "name": "stdout",
     "text": [
      "Train: 1.0000| Val: 0.6420| Test: 0.6610| Eval Time: 0.1510s\n",
      "Epoch 09| Loss: 0.1764| Acc: 1.0000| Train Time: 0.0170s\n"
     ]
    },
    {
     "output_type": "stream",
     "name": "stderr",
     "text": [
      "Evaluating: 100%|██████████| 6654/6654 [00:00<00:00, 45889.59it/s]\n"
     ]
    },
    {
     "output_type": "stream",
     "name": "stdout",
     "text": [
      "Train: 1.0000| Val: 0.6440| Test: 0.6640| Eval Time: 0.1500s\n",
      "Epoch 10| Loss: 0.1360| Acc: 0.9833| Train Time: 0.0170s\n"
     ]
    },
    {
     "output_type": "stream",
     "name": "stderr",
     "text": [
      "Evaluating: 100%|██████████| 6654/6654 [00:00<00:00, 49656.52it/s]\n"
     ]
    },
    {
     "output_type": "stream",
     "name": "stdout",
     "text": [
      "Train: 1.0000| Val: 0.6480| Test: 0.6600| Eval Time: 0.1410s\n",
      "Epoch 11| Loss: 0.1021| Acc: 1.0000| Train Time: 0.0180s\n"
     ]
    },
    {
     "output_type": "stream",
     "name": "stderr",
     "text": [
      "Evaluating: 100%|██████████| 6654/6654 [00:00<00:00, 39844.75it/s]\n"
     ]
    },
    {
     "output_type": "stream",
     "name": "stdout",
     "text": [
      "Train: 1.0000| Val: 0.6500| Test: 0.6630| Eval Time: 0.1750s\n",
      "Epoch 12| Loss: 0.0736| Acc: 1.0000| Train Time: 0.0190s\n"
     ]
    },
    {
     "output_type": "stream",
     "name": "stderr",
     "text": [
      "Evaluating: 100%|██████████| 6654/6654 [00:00<00:00, 37382.28it/s]\n"
     ]
    },
    {
     "output_type": "stream",
     "name": "stdout",
     "text": [
      "Train: 1.0000| Val: 0.6440| Test: 0.6630| Eval Time: 0.1830s\n",
      "Epoch 13| Loss: 0.0509| Acc: 1.0000| Train Time: 0.0170s\n"
     ]
    },
    {
     "output_type": "stream",
     "name": "stderr",
     "text": [
      "Evaluating: 100%|██████████| 6654/6654 [00:00<00:00, 52803.26it/s]\n"
     ]
    },
    {
     "output_type": "stream",
     "name": "stdout",
     "text": [
      "Train: 1.0000| Val: 0.6380| Test: 0.6650| Eval Time: 0.1320s\n",
      "Epoch 14| Loss: 0.0643| Acc: 0.9917| Train Time: 0.0170s\n"
     ]
    },
    {
     "output_type": "stream",
     "name": "stderr",
     "text": [
      "Evaluating: 100%|██████████| 6654/6654 [00:00<00:00, 54991.39it/s]\n"
     ]
    },
    {
     "output_type": "stream",
     "name": "stdout",
     "text": [
      "Train: 1.0000| Val: 0.6420| Test: 0.6620| Eval Time: 0.1250s\n",
      "Epoch 15| Loss: 0.0302| Acc: 1.0000| Train Time: 0.0150s\n"
     ]
    },
    {
     "output_type": "stream",
     "name": "stderr",
     "text": [
      "Evaluating: 100%|██████████| 6654/6654 [00:00<00:00, 53661.57it/s]\n"
     ]
    },
    {
     "output_type": "stream",
     "name": "stdout",
     "text": [
      "Train: 1.0000| Val: 0.6480| Test: 0.6630| Eval Time: 0.1310s\n",
      "Epoch 16| Loss: 0.0236| Acc: 1.0000| Train Time: 0.0150s\n"
     ]
    },
    {
     "output_type": "stream",
     "name": "stderr",
     "text": [
      "Evaluating: 100%|██████████| 6654/6654 [00:00<00:00, 50397.91it/s]\n"
     ]
    },
    {
     "output_type": "stream",
     "name": "stdout",
     "text": [
      "Train: 0.9917| Val: 0.6440| Test: 0.6670| Eval Time: 0.1360s\n",
      "Epoch 17| Loss: 0.0344| Acc: 0.9917| Train Time: 0.0170s\n"
     ]
    },
    {
     "output_type": "stream",
     "name": "stderr",
     "text": [
      "Evaluating: 100%|██████████| 6654/6654 [00:00<00:00, 43204.64it/s]\n"
     ]
    },
    {
     "output_type": "stream",
     "name": "stdout",
     "text": [
      "Train: 1.0000| Val: 0.6480| Test: 0.6660| Eval Time: 0.1610s\n",
      "Epoch 18| Loss: 0.0872| Acc: 0.9917| Train Time: 0.0200s\n"
     ]
    },
    {
     "output_type": "stream",
     "name": "stderr",
     "text": [
      "Evaluating: 100%|██████████| 6654/6654 [00:00<00:00, 49287.76it/s]\n"
     ]
    },
    {
     "output_type": "stream",
     "name": "stdout",
     "text": [
      "Train: 1.0000| Val: 0.6540| Test: 0.6620| Eval Time: 0.1390s\n",
      "Epoch 19| Loss: 0.0182| Acc: 1.0000| Train Time: 0.0176s\n"
     ]
    },
    {
     "output_type": "stream",
     "name": "stderr",
     "text": [
      "Evaluating: 100%|██████████| 6654/6654 [00:00<00:00, 48569.74it/s]\n"
     ]
    },
    {
     "output_type": "stream",
     "name": "stdout",
     "text": [
      "Train: 1.0000| Val: 0.6520| Test: 0.6550| Eval Time: 0.1420s\n",
      "Epoch 20| Loss: 0.1295| Acc: 0.9917| Train Time: 0.0140s\n"
     ]
    },
    {
     "output_type": "stream",
     "name": "stderr",
     "text": [
      "Evaluating: 100%|██████████| 6654/6654 [00:00<00:00, 56389.47it/s]\n"
     ]
    },
    {
     "output_type": "stream",
     "name": "stdout",
     "text": [
      "Train: 1.0000| Val: 0.6500| Test: 0.6570| Eval Time: 0.1230s\n",
      "Epoch 21| Loss: 0.0151| Acc: 1.0000| Train Time: 0.0150s\n"
     ]
    },
    {
     "output_type": "stream",
     "name": "stderr",
     "text": [
      "Evaluating: 100%|██████████| 6654/6654 [00:00<00:00, 54757.58it/s]\n"
     ]
    },
    {
     "output_type": "stream",
     "name": "stdout",
     "text": [
      "Train: 1.0000| Val: 0.6500| Test: 0.6500| Eval Time: 0.1255s\n",
      "Epoch 22| Loss: 0.0093| Acc: 1.0000| Train Time: 0.0170s\n"
     ]
    },
    {
     "output_type": "stream",
     "name": "stderr",
     "text": [
      "Evaluating: 100%|██████████| 6654/6654 [00:00<00:00, 50410.29it/s]\n"
     ]
    },
    {
     "output_type": "stream",
     "name": "stdout",
     "text": [
      "Train: 1.0000| Val: 0.6420| Test: 0.6470| Eval Time: 0.1380s\n",
      "Epoch 23| Loss: 0.0059| Acc: 1.0000| Train Time: 0.0160s\n"
     ]
    },
    {
     "output_type": "stream",
     "name": "stderr",
     "text": [
      "Evaluating: 100%|██████████| 6654/6654 [00:00<00:00, 53660.23it/s]\n"
     ]
    },
    {
     "output_type": "stream",
     "name": "stdout",
     "text": [
      "Train: 1.0000| Val: 0.6380| Test: 0.6490| Eval Time: 0.1290s\n",
      "Epoch 24| Loss: 0.0076| Acc: 1.0000| Train Time: 0.0130s\n"
     ]
    },
    {
     "output_type": "stream",
     "name": "stderr",
     "text": [
      "Evaluating: 100%|██████████| 6654/6654 [00:00<00:00, 58369.23it/s]\n"
     ]
    },
    {
     "output_type": "stream",
     "name": "stdout",
     "text": [
      "Train: 1.0000| Val: 0.6360| Test: 0.6450| Eval Time: 0.1180s\n",
      "Epoch 25| Loss: 0.0082| Acc: 1.0000| Train Time: 0.0150s\n"
     ]
    },
    {
     "output_type": "stream",
     "name": "stderr",
     "text": [
      "Evaluating: 100%|██████████| 6654/6654 [00:00<00:00, 51582.18it/s]\n"
     ]
    },
    {
     "output_type": "stream",
     "name": "stdout",
     "text": [
      "Train: 1.0000| Val: 0.6360| Test: 0.6440| Eval Time: 0.1340s\n",
      "Epoch 26| Loss: 0.0428| Acc: 0.9833| Train Time: 0.0160s\n"
     ]
    },
    {
     "output_type": "stream",
     "name": "stderr",
     "text": [
      "Evaluating: 100%|██████████| 6654/6654 [00:00<00:00, 52394.15it/s]\n"
     ]
    },
    {
     "output_type": "stream",
     "name": "stdout",
     "text": [
      "Train: 1.0000| Val: 0.6440| Test: 0.6460| Eval Time: 0.1310s\n",
      "Epoch 27| Loss: 0.0072| Acc: 1.0000| Train Time: 0.0140s\n"
     ]
    },
    {
     "output_type": "stream",
     "name": "stderr",
     "text": [
      "Evaluating: 100%|██████████| 6654/6654 [00:00<00:00, 51185.13it/s]\n"
     ]
    },
    {
     "output_type": "stream",
     "name": "stdout",
     "text": [
      "Train: 1.0000| Val: 0.6420| Test: 0.6520| Eval Time: 0.1360s\n",
      "Epoch 28| Loss: 0.0047| Acc: 1.0000| Train Time: 0.0180s\n"
     ]
    },
    {
     "output_type": "stream",
     "name": "stderr",
     "text": [
      "Evaluating: 100%|██████████| 6654/6654 [00:00<00:00, 47528.70it/s]"
     ]
    },
    {
     "output_type": "stream",
     "name": "stdout",
     "text": [
      "Train: 1.0000| Val: 0.6440| Test: 0.6580| Eval Time: 0.1450s\n",
      "Epoch 29| Loss: 0.0312| Acc: 0.9917| Train Time: 0.0190s\n"
     ]
    },
    {
     "output_type": "stream",
     "name": "stderr",
     "text": [
      "\n",
      "Evaluating: 100%|██████████| 6654/6654 [00:00<00:00, 35773.44it/s]\n"
     ]
    },
    {
     "output_type": "stream",
     "name": "stdout",
     "text": [
      "Train: 1.0000| Val: 0.6460| Test: 0.6570| Eval Time: 0.1930s\n",
      "Epoch 30| Loss: 0.0014| Acc: 1.0000| Train Time: 0.0220s\n"
     ]
    },
    {
     "output_type": "stream",
     "name": "stderr",
     "text": [
      "Evaluating: 100%|██████████| 6654/6654 [00:00<00:00, 44361.31it/s]\n"
     ]
    },
    {
     "output_type": "stream",
     "name": "stdout",
     "text": [
      "Train: 1.0000| Val: 0.6400| Test: 0.6590| Eval Time: 0.1560s\n",
      "Epoch 31| Loss: 0.0043| Acc: 1.0000| Train Time: 0.0200s\n"
     ]
    },
    {
     "output_type": "stream",
     "name": "stderr",
     "text": [
      "Evaluating: 100%|██████████| 6654/6654 [00:00<00:00, 42929.50it/s]"
     ]
    },
    {
     "output_type": "stream",
     "name": "stdout",
     "text": [
      "Train: 1.0000| Val: 0.6440| Test: 0.6590| Eval Time: 0.1610s\n",
      "Epoch 32| Loss: 0.0045| Acc: 1.0000| Train Time: 0.0180s\n"
     ]
    },
    {
     "output_type": "stream",
     "name": "stderr",
     "text": [
      "\n",
      "Evaluating: 100%|██████████| 6654/6654 [00:00<00:00, 49281.32it/s]\n"
     ]
    },
    {
     "output_type": "stream",
     "name": "stdout",
     "text": [
      "Train: 1.0000| Val: 0.6440| Test: 0.6640| Eval Time: 0.1390s\n",
      "Epoch 33| Loss: 0.0222| Acc: 0.9917| Train Time: 0.0170s\n"
     ]
    },
    {
     "output_type": "stream",
     "name": "stderr",
     "text": [
      "Evaluating: 100%|██████████| 6654/6654 [00:00<00:00, 52397.60it/s]\n"
     ]
    },
    {
     "output_type": "stream",
     "name": "stdout",
     "text": [
      "Train: 1.0000| Val: 0.6440| Test: 0.6670| Eval Time: 0.1340s\n",
      "Epoch 34| Loss: 0.0029| Acc: 1.0000| Train Time: 0.0150s\n"
     ]
    },
    {
     "output_type": "stream",
     "name": "stderr",
     "text": [
      "Evaluating: 100%|██████████| 6654/6654 [00:00<00:00, 47191.32it/s]\n"
     ]
    },
    {
     "output_type": "stream",
     "name": "stdout",
     "text": [
      "Train: 1.0000| Val: 0.6440| Test: 0.6710| Eval Time: 0.1460s\n",
      "Epoch 35| Loss: 0.0060| Acc: 1.0000| Train Time: 0.0180s\n"
     ]
    },
    {
     "output_type": "stream",
     "name": "stderr",
     "text": [
      "Evaluating: 100%|██████████| 6654/6654 [00:00<00:00, 42654.33it/s]"
     ]
    },
    {
     "output_type": "stream",
     "name": "stdout",
     "text": [
      "Train: 1.0000| Val: 0.6440| Test: 0.6710| Eval Time: 0.1630s\n",
      "Epoch 36| Loss: 0.0022| Acc: 1.0000| Train Time: 0.0170s\n"
     ]
    },
    {
     "output_type": "stream",
     "name": "stderr",
     "text": [
      "\n",
      "Evaluating: 100%|██████████| 6654/6654 [00:00<00:00, 46208.93it/s]\n"
     ]
    },
    {
     "output_type": "stream",
     "name": "stdout",
     "text": [
      "Train: 1.0000| Val: 0.6440| Test: 0.6700| Eval Time: 0.1490s\n",
      "Epoch 37| Loss: 0.0028| Acc: 1.0000| Train Time: 0.0180s\n"
     ]
    },
    {
     "output_type": "stream",
     "name": "stderr",
     "text": [
      "Evaluating: 100%|██████████| 6654/6654 [00:00<00:00, 48200.40it/s]\n"
     ]
    },
    {
     "output_type": "stream",
     "name": "stdout",
     "text": [
      "Train: 1.0000| Val: 0.6460| Test: 0.6690| Eval Time: 0.1430s\n",
      "Epoch 38| Loss: 0.0063| Acc: 1.0000| Train Time: 0.0160s\n"
     ]
    },
    {
     "output_type": "stream",
     "name": "stderr",
     "text": [
      "Evaluating: 100%|██████████| 6654/6654 [00:00<00:00, 46860.58it/s]\n"
     ]
    },
    {
     "output_type": "stream",
     "name": "stdout",
     "text": [
      "Train: 1.0000| Val: 0.6520| Test: 0.6700| Eval Time: 0.1470s\n",
      "Epoch 39| Loss: 0.0409| Acc: 0.9917| Train Time: 0.0140s\n"
     ]
    },
    {
     "output_type": "stream",
     "name": "stderr",
     "text": [
      "Evaluating: 100%|██████████| 6654/6654 [00:00<00:00, 53663.43it/s]\n"
     ]
    },
    {
     "output_type": "stream",
     "name": "stdout",
     "text": [
      "Train: 1.0000| Val: 0.6620| Test: 0.6710| Eval Time: 0.1310s\n",
      "Epoch 40| Loss: 0.0015| Acc: 1.0000| Train Time: 0.0170s\n"
     ]
    },
    {
     "output_type": "stream",
     "name": "stderr",
     "text": [
      "Evaluating: 100%|██████████| 6654/6654 [00:00<00:00, 55438.05it/s]\n"
     ]
    },
    {
     "output_type": "stream",
     "name": "stdout",
     "text": [
      "Train: 1.0000| Val: 0.6640| Test: 0.6680| Eval Time: 0.1240s\n",
      "Epoch 41| Loss: 0.0017| Acc: 1.0000| Train Time: 0.0140s\n"
     ]
    },
    {
     "output_type": "stream",
     "name": "stderr",
     "text": [
      "Evaluating: 100%|██████████| 6654/6654 [00:00<00:00, 50031.01it/s]\n"
     ]
    },
    {
     "output_type": "stream",
     "name": "stdout",
     "text": [
      "Train: 1.0000| Val: 0.6620| Test: 0.6650| Eval Time: 0.1390s\n",
      "Epoch 42| Loss: 0.0117| Acc: 0.9917| Train Time: 0.0160s\n"
     ]
    },
    {
     "output_type": "stream",
     "name": "stderr",
     "text": [
      "Evaluating: 100%|██████████| 6654/6654 [00:00<00:00, 52406.94it/s]\n"
     ]
    },
    {
     "output_type": "stream",
     "name": "stdout",
     "text": [
      "Train: 1.0000| Val: 0.6600| Test: 0.6650| Eval Time: 0.1310s\n",
      "Epoch 43| Loss: 0.0107| Acc: 0.9917| Train Time: 0.0170s\n"
     ]
    },
    {
     "output_type": "stream",
     "name": "stderr",
     "text": [
      "Evaluating: 100%|██████████| 6654/6654 [00:00<00:00, 37382.83it/s]\n"
     ]
    },
    {
     "output_type": "stream",
     "name": "stdout",
     "text": [
      "Train: 1.0000| Val: 0.6620| Test: 0.6670| Eval Time: 0.1840s\n",
      "Epoch 44| Loss: 0.0070| Acc: 1.0000| Train Time: 0.0160s\n"
     ]
    },
    {
     "output_type": "stream",
     "name": "stderr",
     "text": [
      "Evaluating: 100%|██████████| 6654/6654 [00:00<00:00, 50030.65it/s]\n"
     ]
    },
    {
     "output_type": "stream",
     "name": "stdout",
     "text": [
      "Train: 1.0000| Val: 0.6600| Test: 0.6690| Eval Time: 0.1370s\n",
      "Epoch 45| Loss: 0.0017| Acc: 1.0000| Train Time: 0.0150s\n"
     ]
    },
    {
     "output_type": "stream",
     "name": "stderr",
     "text": [
      "Evaluating: 100%|██████████| 6654/6654 [00:00<00:00, 52810.55it/s]\n"
     ]
    },
    {
     "output_type": "stream",
     "name": "stdout",
     "text": [
      "Train: 1.0000| Val: 0.6620| Test: 0.6740| Eval Time: 0.1300s\n",
      "Epoch 46| Loss: 0.0024| Acc: 1.0000| Train Time: 0.0190s\n"
     ]
    },
    {
     "output_type": "stream",
     "name": "stderr",
     "text": [
      "Evaluating: 100%|██████████| 6654/6654 [00:00<00:00, 46208.09it/s]\n"
     ]
    },
    {
     "output_type": "stream",
     "name": "stdout",
     "text": [
      "Train: 1.0000| Val: 0.6600| Test: 0.6710| Eval Time: 0.1490s\n",
      "Epoch 47| Loss: 0.0244| Acc: 0.9917| Train Time: 0.0160s\n"
     ]
    },
    {
     "output_type": "stream",
     "name": "stderr",
     "text": [
      "Evaluating: 100%|██████████| 6654/6654 [00:00<00:00, 50029.93it/s]\n"
     ]
    },
    {
     "output_type": "stream",
     "name": "stdout",
     "text": [
      "Train: 1.0000| Val: 0.6580| Test: 0.6730| Eval Time: 0.1390s\n",
      "Epoch 48| Loss: 0.0016| Acc: 1.0000| Train Time: 0.0150s\n"
     ]
    },
    {
     "output_type": "stream",
     "name": "stderr",
     "text": [
      "Evaluating: 100%|██████████| 6654/6654 [00:00<00:00, 44052.31it/s]\n"
     ]
    },
    {
     "output_type": "stream",
     "name": "stdout",
     "text": [
      "Train: 1.0000| Val: 0.6560| Test: 0.6720| Eval Time: 0.1551s\n",
      "Epoch 49| Loss: 0.0013| Acc: 1.0000| Train Time: 0.0200s\n"
     ]
    },
    {
     "output_type": "stream",
     "name": "stderr",
     "text": [
      "Evaluating: 100%|██████████| 6654/6654 [00:00<00:00, 44359.62it/s]"
     ]
    },
    {
     "output_type": "stream",
     "name": "stdout",
     "text": [
      "Train: 1.0000| Val: 0.6580| Test: 0.6730| Eval Time: 0.1550s\n",
      "Epoch 50| Loss: 0.0024| Acc: 1.0000| Train Time: 0.0180s\n"
     ]
    },
    {
     "output_type": "stream",
     "name": "stderr",
     "text": [
      "\n",
      "Evaluating: 100%|██████████| 6654/6654 [00:00<00:00, 46859.09it/s]\n"
     ]
    },
    {
     "output_type": "stream",
     "name": "stdout",
     "text": [
      "Train: 1.0000| Val: 0.6620| Test: 0.6710| Eval Time: 0.1460s\n",
      "Epoch 51| Loss: 0.0008| Acc: 1.0000| Train Time: 0.0160s\n"
     ]
    },
    {
     "output_type": "stream",
     "name": "stderr",
     "text": [
      "Evaluating: 100%|██████████| 6654/6654 [00:00<00:00, 48217.05it/s]\n"
     ]
    },
    {
     "output_type": "stream",
     "name": "stdout",
     "text": [
      "Train: 1.0000| Val: 0.6600| Test: 0.6690| Eval Time: 0.1430s\n",
      "Epoch 52| Loss: 0.0085| Acc: 0.9917| Train Time: 0.0150s\n"
     ]
    },
    {
     "output_type": "stream",
     "name": "stderr",
     "text": [
      "Evaluating: 100%|██████████| 6654/6654 [00:00<00:00, 55916.32it/s]\n"
     ]
    },
    {
     "output_type": "stream",
     "name": "stdout",
     "text": [
      "Train: 1.0000| Val: 0.6560| Test: 0.6700| Eval Time: 0.1240s\n",
      "Epoch 53| Loss: 0.0014| Acc: 1.0000| Train Time: 0.0150s\n"
     ]
    },
    {
     "output_type": "stream",
     "name": "stderr",
     "text": [
      "Evaluating: 100%|██████████| 6654/6654 [00:00<00:00, 46531.74it/s]\n"
     ]
    },
    {
     "output_type": "stream",
     "name": "stdout",
     "text": [
      "Train: 1.0000| Val: 0.6500| Test: 0.6670| Eval Time: 0.1480s\n",
      "Epoch 54| Loss: 0.0006| Acc: 1.0000| Train Time: 0.0200s\n"
     ]
    },
    {
     "output_type": "stream",
     "name": "stderr",
     "text": [
      "Evaluating: 100%|██████████| 6654/6654 [00:00<00:00, 37173.06it/s]\n"
     ]
    },
    {
     "output_type": "stream",
     "name": "stdout",
     "text": [
      "Train: 1.0000| Val: 0.6460| Test: 0.6660| Eval Time: 0.1850s\n",
      "Epoch 55| Loss: 0.0019| Acc: 1.0000| Train Time: 0.0220s\n"
     ]
    },
    {
     "output_type": "stream",
     "name": "stderr",
     "text": [
      "Evaluating: 100%|██████████| 6654/6654 [00:00<00:00, 42114.69it/s]\n"
     ]
    },
    {
     "output_type": "stream",
     "name": "stdout",
     "text": [
      "Train: 1.0000| Val: 0.6480| Test: 0.6670| Eval Time: 0.1640s\n",
      "\n",
      "Result of  1. run| Train: 1.0000| Val: 0.6720| Test: 0.6720\n",
      "\n",
      "Run 01:\n"
     ]
    },
    {
     "output_type": "stream",
     "name": "stderr",
     "text": [
      "Epoch 01: 100%|██████████| 120/120 [00:00<00:00, 162.15it/s]\n"
     ]
    },
    {
     "output_type": "stream",
     "name": "stdout",
     "text": [
      "Epoch 01| Loss: 1.8157| Acc: 0.2000| Train Time: 0.7420s\n"
     ]
    },
    {
     "output_type": "stream",
     "name": "stderr",
     "text": [
      "Evaluating: 100%|██████████| 6654/6654 [00:02<00:00, 3162.87it/s]\n"
     ]
    },
    {
     "output_type": "stream",
     "name": "stdout",
     "text": [
      "Train: 0.7667| Val: 0.5060| Test: 0.5420| Eval Time: 2.1068s\n",
      "Epoch 02| Loss: 1.2865| Acc: 0.7083| Train Time: 0.6900s\n"
     ]
    },
    {
     "output_type": "stream",
     "name": "stderr",
     "text": [
      "Evaluating: 100%|██████████| 6654/6654 [00:00<00:00, 50970.88it/s]\n"
     ]
    },
    {
     "output_type": "stream",
     "name": "stdout",
     "text": [
      "Train: 0.9500| Val: 0.6280| Test: 0.6280| Eval Time: 0.1355s\n",
      "Epoch 03| Loss: 0.8058| Acc: 0.8667| Train Time: 0.0190s\n"
     ]
    },
    {
     "output_type": "stream",
     "name": "stderr",
     "text": [
      "Evaluating: 100%|██████████| 6654/6654 [00:00<00:00, 38462.46it/s]\n"
     ]
    },
    {
     "output_type": "stream",
     "name": "stdout",
     "text": [
      "Train: 0.9583| Val: 0.6580| Test: 0.6480| Eval Time: 0.1780s\n",
      "Epoch 04| Loss: 0.6217| Acc: 0.9250| Train Time: 0.0210s\n"
     ]
    },
    {
     "output_type": "stream",
     "name": "stderr",
     "text": [
      "Evaluating: 100%|██████████| 6654/6654 [00:00<00:00, 47170.50it/s]"
     ]
    },
    {
     "output_type": "stream",
     "name": "stdout",
     "text": [
      "Train: 0.9667| Val: 0.6620| Test: 0.6410| Eval Time: 0.1451s\n",
      "Epoch 05| Loss: 0.4231| Acc: 0.9750| Train Time: 0.0160s\n"
     ]
    },
    {
     "output_type": "stream",
     "name": "stderr",
     "text": [
      "\n",
      "Evaluating: 100%|██████████| 6654/6654 [00:00<00:00, 46531.27it/s]\n"
     ]
    },
    {
     "output_type": "stream",
     "name": "stdout",
     "text": [
      "Train: 0.9833| Val: 0.6680| Test: 0.6450| Eval Time: 0.1480s\n",
      "Epoch 06| Loss: 0.3381| Acc: 0.9750| Train Time: 0.0160s\n"
     ]
    },
    {
     "output_type": "stream",
     "name": "stderr",
     "text": [
      "Evaluating: 100%|██████████| 6654/6654 [00:00<00:00, 42113.04it/s]\n"
     ]
    },
    {
     "output_type": "stream",
     "name": "stdout",
     "text": [
      "Train: 0.9917| Val: 0.6600| Test: 0.6510| Eval Time: 0.1640s\n",
      "Epoch 07| Loss: 0.3408| Acc: 0.9667| Train Time: 0.0180s\n"
     ]
    },
    {
     "output_type": "stream",
     "name": "stderr",
     "text": [
      "Evaluating: 100%|██████████| 6654/6654 [00:00<00:00, 46859.09it/s]"
     ]
    },
    {
     "output_type": "stream",
     "name": "stdout",
     "text": [
      "Train: 0.9917| Val: 0.6600| Test: 0.6520| Eval Time: 0.1460s\n",
      "Epoch 08| Loss: 0.2596| Acc: 0.9917| Train Time: 0.0190s\n"
     ]
    },
    {
     "output_type": "stream",
     "name": "stderr",
     "text": [
      "\n",
      "Evaluating: 100%|██████████| 6654/6654 [00:00<00:00, 44647.09it/s]\n"
     ]
    },
    {
     "output_type": "stream",
     "name": "stdout",
     "text": [
      "Train: 0.9917| Val: 0.6580| Test: 0.6520| Eval Time: 0.1530s\n",
      "Epoch 09| Loss: 0.1578| Acc: 1.0000| Train Time: 0.0170s\n"
     ]
    },
    {
     "output_type": "stream",
     "name": "stderr",
     "text": [
      "Evaluating: 100%|██████████| 6654/6654 [00:00<00:00, 42654.92it/s]\n"
     ]
    },
    {
     "output_type": "stream",
     "name": "stdout",
     "text": [
      "Train: 1.0000| Val: 0.6620| Test: 0.6490| Eval Time: 0.1610s\n",
      "Epoch 10| Loss: 0.1346| Acc: 1.0000| Train Time: 0.0150s\n"
     ]
    },
    {
     "output_type": "stream",
     "name": "stderr",
     "text": [
      "Evaluating: 100%|██████████| 6654/6654 [00:00<00:00, 42643.90it/s]\n"
     ]
    },
    {
     "output_type": "stream",
     "name": "stdout",
     "text": [
      "Train: 1.0000| Val: 0.6620| Test: 0.6500| Eval Time: 0.1600s\n",
      "Epoch 11| Loss: 0.0992| Acc: 1.0000| Train Time: 0.0170s\n"
     ]
    },
    {
     "output_type": "stream",
     "name": "stderr",
     "text": [
      "Evaluating: 100%|██████████| 6654/6654 [00:00<00:00, 40821.22it/s]\n"
     ]
    },
    {
     "output_type": "stream",
     "name": "stdout",
     "text": [
      "Train: 1.0000| Val: 0.6600| Test: 0.6520| Eval Time: 0.1680s\n",
      "Epoch 12| Loss: 0.1146| Acc: 0.9833| Train Time: 0.0170s\n"
     ]
    },
    {
     "output_type": "stream",
     "name": "stderr",
     "text": [
      "Evaluating: 100%|██████████| 6654/6654 [00:00<00:00, 46150.02it/s]"
     ]
    },
    {
     "output_type": "stream",
     "name": "stdout",
     "text": [
      "Train: 1.0000| Val: 0.6640| Test: 0.6530| Eval Time: 0.1492s\n",
      "Epoch 13| Loss: 0.0512| Acc: 0.9917| Train Time: 0.0170s\n"
     ]
    },
    {
     "output_type": "stream",
     "name": "stderr",
     "text": [
      "\n",
      "Evaluating: 100%|██████████| 6654/6654 [00:00<00:00, 40564.38it/s]\n"
     ]
    },
    {
     "output_type": "stream",
     "name": "stdout",
     "text": [
      "Train: 1.0000| Val: 0.6580| Test: 0.6490| Eval Time: 0.1680s\n",
      "Epoch 14| Loss: 0.0260| Acc: 1.0000| Train Time: 0.0150s\n"
     ]
    },
    {
     "output_type": "stream",
     "name": "stderr",
     "text": [
      "Evaluating: 100%|██████████| 6654/6654 [00:00<00:00, 45254.64it/s]"
     ]
    },
    {
     "output_type": "stream",
     "name": "stdout",
     "text": [
      "Train: 1.0000| Val: 0.6620| Test: 0.6460| Eval Time: 0.1510s\n",
      "Epoch 15| Loss: 0.0559| Acc: 0.9833| Train Time: 0.0180s\n"
     ]
    },
    {
     "output_type": "stream",
     "name": "stderr",
     "text": [
      "\n",
      "Evaluating: 100%|██████████| 6654/6654 [00:00<00:00, 47183.98it/s]\n"
     ]
    },
    {
     "output_type": "stream",
     "name": "stdout",
     "text": [
      "Train: 1.0000| Val: 0.6640| Test: 0.6520| Eval Time: 0.1450s\n",
      "Epoch 16| Loss: 0.0264| Acc: 1.0000| Train Time: 0.0160s\n"
     ]
    },
    {
     "output_type": "stream",
     "name": "stderr",
     "text": [
      "Evaluating: 100%|██████████| 6654/6654 [00:00<00:00, 44959.82it/s]\n"
     ]
    },
    {
     "output_type": "stream",
     "name": "stdout",
     "text": [
      "Train: 1.0000| Val: 0.6640| Test: 0.6470| Eval Time: 0.1520s\n",
      "Epoch 17| Loss: 0.0159| Acc: 1.0000| Train Time: 0.0160s\n"
     ]
    },
    {
     "output_type": "stream",
     "name": "stderr",
     "text": [
      "Evaluating: 100%|██████████| 6654/6654 [00:00<00:00, 44067.19it/s]\n"
     ]
    },
    {
     "output_type": "stream",
     "name": "stdout",
     "text": [
      "Train: 1.0000| Val: 0.6580| Test: 0.6470| Eval Time: 0.1550s\n",
      "Epoch 18| Loss: 0.0202| Acc: 1.0000| Train Time: 0.0150s\n"
     ]
    },
    {
     "output_type": "stream",
     "name": "stderr",
     "text": [
      "Evaluating: 100%|██████████| 6654/6654 [00:00<00:00, 44960.47it/s]\n"
     ]
    },
    {
     "output_type": "stream",
     "name": "stdout",
     "text": [
      "Train: 1.0000| Val: 0.6520| Test: 0.6480| Eval Time: 0.1520s\n",
      "Epoch 19| Loss: 0.0133| Acc: 1.0000| Train Time: 0.0180s\n"
     ]
    },
    {
     "output_type": "stream",
     "name": "stderr",
     "text": [
      "Evaluating: 100%|██████████| 6654/6654 [00:00<00:00, 46858.85it/s]\n"
     ]
    },
    {
     "output_type": "stream",
     "name": "stdout",
     "text": [
      "Train: 1.0000| Val: 0.6460| Test: 0.6450| Eval Time: 0.1480s\n",
      "Epoch 20| Loss: 0.0108| Acc: 1.0000| Train Time: 0.0160s\n"
     ]
    },
    {
     "output_type": "stream",
     "name": "stderr",
     "text": [
      "Evaluating: 100%|██████████| 6654/6654 [00:00<00:00, 44360.96it/s]\n"
     ]
    },
    {
     "output_type": "stream",
     "name": "stdout",
     "text": [
      "Train: 1.0000| Val: 0.6420| Test: 0.6440| Eval Time: 0.1540s\n",
      "Epoch 21| Loss: 0.0061| Acc: 1.0000| Train Time: 0.0150s\n"
     ]
    },
    {
     "output_type": "stream",
     "name": "stderr",
     "text": [
      "Evaluating: 100%|██████████| 6654/6654 [00:00<00:00, 46858.22it/s]\n"
     ]
    },
    {
     "output_type": "stream",
     "name": "stdout",
     "text": [
      "Train: 1.0000| Val: 0.6420| Test: 0.6440| Eval Time: 0.1480s\n",
      "Epoch 22| Loss: 0.0066| Acc: 1.0000| Train Time: 0.0170s\n"
     ]
    },
    {
     "output_type": "stream",
     "name": "stderr",
     "text": [
      "Evaluating: 100%|██████████| 6654/6654 [00:00<00:00, 35967.44it/s]\n"
     ]
    },
    {
     "output_type": "stream",
     "name": "stdout",
     "text": [
      "Train: 1.0000| Val: 0.6440| Test: 0.6410| Eval Time: 0.1900s\n",
      "Epoch 23| Loss: 0.0088| Acc: 1.0000| Train Time: 0.0210s\n"
     ]
    },
    {
     "output_type": "stream",
     "name": "stderr",
     "text": [
      "Evaluating: 100%|██████████| 6654/6654 [00:00<00:00, 36560.31it/s]\n"
     ]
    },
    {
     "output_type": "stream",
     "name": "stdout",
     "text": [
      "Train: 1.0000| Val: 0.6440| Test: 0.6460| Eval Time: 0.1900s\n",
      "Epoch 24| Loss: 0.0075| Acc: 1.0000| Train Time: 0.0220s\n"
     ]
    },
    {
     "output_type": "stream",
     "name": "stderr",
     "text": [
      "Evaluating: 100%|██████████| 6654/6654 [00:00<00:00, 35773.90it/s]\n"
     ]
    },
    {
     "output_type": "stream",
     "name": "stdout",
     "text": [
      "Train: 1.0000| Val: 0.6440| Test: 0.6440| Eval Time: 0.1920s\n",
      "Epoch 25| Loss: 0.0041| Acc: 1.0000| Train Time: 0.0190s\n"
     ]
    },
    {
     "output_type": "stream",
     "name": "stderr",
     "text": [
      "Evaluating: 100%|██████████| 6654/6654 [00:00<00:00, 36967.58it/s]\n"
     ]
    },
    {
     "output_type": "stream",
     "name": "stdout",
     "text": [
      "Train: 1.0000| Val: 0.6440| Test: 0.6430| Eval Time: 0.1840s\n",
      "Epoch 26| Loss: 0.0056| Acc: 1.0000| Train Time: 0.0190s\n"
     ]
    },
    {
     "output_type": "stream",
     "name": "stderr",
     "text": [
      "Evaluating: 100%|██████████| 6654/6654 [00:00<00:00, 42653.03it/s]\n"
     ]
    },
    {
     "output_type": "stream",
     "name": "stdout",
     "text": [
      "Train: 1.0000| Val: 0.6440| Test: 0.6420| Eval Time: 0.1610s\n",
      "Epoch 27| Loss: 0.0054| Acc: 1.0000| Train Time: 0.0181s\n"
     ]
    },
    {
     "output_type": "stream",
     "name": "stderr",
     "text": [
      "Evaluating: 100%|██████████| 6654/6654 [00:00<00:00, 41578.25it/s]\n"
     ]
    },
    {
     "output_type": "stream",
     "name": "stdout",
     "text": [
      "Train: 1.0000| Val: 0.6420| Test: 0.6430| Eval Time: 0.1650s\n",
      "Epoch 28| Loss: 0.0053| Acc: 1.0000| Train Time: 0.0150s\n"
     ]
    },
    {
     "output_type": "stream",
     "name": "stderr",
     "text": [
      "Evaluating: 100%|██████████| 6654/6654 [00:00<00:00, 48926.50it/s]\n"
     ]
    },
    {
     "output_type": "stream",
     "name": "stdout",
     "text": [
      "Train: 1.0000| Val: 0.6400| Test: 0.6420| Eval Time: 0.1400s\n",
      "Epoch 29| Loss: 0.0031| Acc: 1.0000| Train Time: 0.0160s\n"
     ]
    },
    {
     "output_type": "stream",
     "name": "stderr",
     "text": [
      "Evaluating: 100%|██████████| 6654/6654 [00:00<00:00, 39371.30it/s]\n"
     ]
    },
    {
     "output_type": "stream",
     "name": "stdout",
     "text": [
      "Train: 1.0000| Val: 0.6400| Test: 0.6430| Eval Time: 0.1740s\n",
      "Epoch 30| Loss: 0.0102| Acc: 0.9917| Train Time: 0.0150s\n"
     ]
    },
    {
     "output_type": "stream",
     "name": "stderr",
     "text": [
      "Evaluating: 100%|██████████| 6654/6654 [00:00<00:00, 46532.44it/s]\n"
     ]
    },
    {
     "output_type": "stream",
     "name": "stdout",
     "text": [
      "Train: 1.0000| Val: 0.6400| Test: 0.6420| Eval Time: 0.1470s\n",
      "Epoch 31| Loss: 0.0035| Acc: 1.0000| Train Time: 0.0160s\n"
     ]
    },
    {
     "output_type": "stream",
     "name": "stderr",
     "text": [
      "Evaluating: 100%|██████████| 6654/6654 [00:00<00:00, 45266.16it/s]\n"
     ]
    },
    {
     "output_type": "stream",
     "name": "stdout",
     "text": [
      "Train: 1.0000| Val: 0.6400| Test: 0.6430| Eval Time: 0.1510s\n",
      "Epoch 32| Loss: 0.0027| Acc: 1.0000| Train Time: 0.0150s\n"
     ]
    },
    {
     "output_type": "stream",
     "name": "stderr",
     "text": [
      "Evaluating: 100%|██████████| 6654/6654 [00:00<00:00, 45257.72it/s]\n"
     ]
    },
    {
     "output_type": "stream",
     "name": "stdout",
     "text": [
      "Train: 1.0000| Val: 0.6400| Test: 0.6440| Eval Time: 0.1510s\n",
      "Epoch 33| Loss: 0.0018| Acc: 1.0000| Train Time: 0.0160s\n"
     ]
    },
    {
     "output_type": "stream",
     "name": "stderr",
     "text": [
      "Evaluating: 100%|██████████| 6654/6654 [00:00<00:00, 34810.32it/s]\n"
     ]
    },
    {
     "output_type": "stream",
     "name": "stdout",
     "text": [
      "Train: 1.0000| Val: 0.6420| Test: 0.6440| Eval Time: 0.1961s\n",
      "Epoch 34| Loss: 0.0025| Acc: 1.0000| Train Time: 0.0160s\n"
     ]
    },
    {
     "output_type": "stream",
     "name": "stderr",
     "text": [
      "Evaluating: 100%|██████████| 6654/6654 [00:00<00:00, 43907.18it/s]\n"
     ]
    },
    {
     "output_type": "stream",
     "name": "stdout",
     "text": [
      "Train: 1.0000| Val: 0.6420| Test: 0.6440| Eval Time: 0.1556s\n",
      "Epoch 35| Loss: 0.0021| Acc: 1.0000| Train Time: 0.0180s\n"
     ]
    },
    {
     "output_type": "stream",
     "name": "stderr",
     "text": [
      "Evaluating: 100%|██████████| 6654/6654 [00:00<00:00, 42114.05it/s]\n"
     ]
    },
    {
     "output_type": "stream",
     "name": "stdout",
     "text": [
      "Train: 1.0000| Val: 0.6460| Test: 0.6460| Eval Time: 0.1630s\n",
      "Epoch 36| Loss: 0.0021| Acc: 1.0000| Train Time: 0.0170s\n"
     ]
    },
    {
     "output_type": "stream",
     "name": "stderr",
     "text": [
      "Evaluating: 100%|██████████| 6654/6654 [00:00<00:00, 40085.40it/s]\n"
     ]
    },
    {
     "output_type": "stream",
     "name": "stdout",
     "text": [
      "Train: 1.0000| Val: 0.6460| Test: 0.6460| Eval Time: 0.1710s\n",
      "Epoch 37| Loss: 0.0029| Acc: 1.0000| Train Time: 0.0170s\n"
     ]
    },
    {
     "output_type": "stream",
     "name": "stderr",
     "text": [
      "Evaluating: 100%|██████████| 6654/6654 [00:00<00:00, 40327.98it/s]\n"
     ]
    },
    {
     "output_type": "stream",
     "name": "stdout",
     "text": [
      "Train: 1.0000| Val: 0.6440| Test: 0.6470| Eval Time: 0.1690s\n",
      "Epoch 38| Loss: 0.0016| Acc: 1.0000| Train Time: 0.0170s\n"
     ]
    },
    {
     "output_type": "stream",
     "name": "stderr",
     "text": [
      "Evaluating: 100%|██████████| 6654/6654 [00:00<00:00, 46531.97it/s]\n"
     ]
    },
    {
     "output_type": "stream",
     "name": "stdout",
     "text": [
      "Train: 1.0000| Val: 0.6440| Test: 0.6450| Eval Time: 0.1480s\n",
      "Epoch 39| Loss: 0.0011| Acc: 1.0000| Train Time: 0.0170s\n"
     ]
    },
    {
     "output_type": "stream",
     "name": "stderr",
     "text": [
      "Evaluating: 100%|██████████| 6654/6654 [00:00<00:00, 40573.75it/s]\n"
     ]
    },
    {
     "output_type": "stream",
     "name": "stdout",
     "text": [
      "Train: 1.0000| Val: 0.6460| Test: 0.6460| Eval Time: 0.1690s\n",
      "Epoch 40| Loss: 0.0022| Acc: 1.0000| Train Time: 0.0160s\n"
     ]
    },
    {
     "output_type": "stream",
     "name": "stderr",
     "text": [
      "Evaluating: 100%|██████████| 6654/6654 [00:00<00:00, 47870.44it/s]\n"
     ]
    },
    {
     "output_type": "stream",
     "name": "stdout",
     "text": [
      "Train: 1.0000| Val: 0.6420| Test: 0.6470| Eval Time: 0.1430s\n",
      "Epoch 41| Loss: 0.0014| Acc: 1.0000| Train Time: 0.0170s\n"
     ]
    },
    {
     "output_type": "stream",
     "name": "stderr",
     "text": [
      "Evaluating: 100%|██████████| 6654/6654 [00:00<00:00, 44360.68it/s]\n"
     ]
    },
    {
     "output_type": "stream",
     "name": "stdout",
     "text": [
      "Train: 1.0000| Val: 0.6420| Test: 0.6460| Eval Time: 0.1550s\n",
      "Epoch 42| Loss: 0.0019| Acc: 1.0000| Train Time: 0.0190s\n"
     ]
    },
    {
     "output_type": "stream",
     "name": "stderr",
     "text": [
      "Evaluating: 100%|██████████| 6654/6654 [00:00<00:00, 45567.63it/s]\n"
     ]
    },
    {
     "output_type": "stream",
     "name": "stdout",
     "text": [
      "Train: 1.0000| Val: 0.6420| Test: 0.6450| Eval Time: 0.1510s\n",
      "Epoch 43| Loss: 0.0003| Acc: 1.0000| Train Time: 0.0170s\n"
     ]
    },
    {
     "output_type": "stream",
     "name": "stderr",
     "text": [
      "Evaluating: 100%|██████████| 6654/6654 [00:00<00:00, 41850.33it/s]\n"
     ]
    },
    {
     "output_type": "stream",
     "name": "stdout",
     "text": [
      "Train: 1.0000| Val: 0.6420| Test: 0.6460| Eval Time: 0.1640s\n",
      "Epoch 44| Loss: 0.0009| Acc: 1.0000| Train Time: 0.0180s\n"
     ]
    },
    {
     "output_type": "stream",
     "name": "stderr",
     "text": [
      "Evaluating: 100%|██████████| 6654/6654 [00:00<00:00, 44066.64it/s]\n"
     ]
    },
    {
     "output_type": "stream",
     "name": "stdout",
     "text": [
      "Train: 1.0000| Val: 0.6420| Test: 0.6460| Eval Time: 0.1550s\n",
      "Epoch 45| Loss: 0.0008| Acc: 1.0000| Train Time: 0.0170s\n"
     ]
    },
    {
     "output_type": "stream",
     "name": "stderr",
     "text": [
      "Evaluating: 100%|██████████| 6654/6654 [00:00<00:00, 42114.50it/s]\n"
     ]
    },
    {
     "output_type": "stream",
     "name": "stdout",
     "text": [
      "Train: 1.0000| Val: 0.6420| Test: 0.6470| Eval Time: 0.1640s\n",
      "Epoch 46| Loss: 0.0023| Acc: 1.0000| Train Time: 0.0180s\n"
     ]
    },
    {
     "output_type": "stream",
     "name": "stderr",
     "text": [
      "Evaluating: 100%|██████████| 6654/6654 [00:00<00:00, 42929.44it/s]"
     ]
    },
    {
     "output_type": "stream",
     "name": "stdout",
     "text": [
      "Train: 1.0000| Val: 0.6440| Test: 0.6470| Eval Time: 0.1590s\n",
      "Epoch 47| Loss: 0.0008| Acc: 1.0000| Train Time: 0.0170s\n"
     ]
    },
    {
     "output_type": "stream",
     "name": "stderr",
     "text": [
      "\n",
      "Evaluating: 100%|██████████| 6654/6654 [00:00<00:00, 42928.84it/s]\n"
     ]
    },
    {
     "output_type": "stream",
     "name": "stdout",
     "text": [
      "Train: 1.0000| Val: 0.6440| Test: 0.6470| Eval Time: 0.1600s\n",
      "Epoch 48| Loss: 0.0013| Acc: 1.0000| Train Time: 0.0190s\n"
     ]
    },
    {
     "output_type": "stream",
     "name": "stderr",
     "text": [
      "Evaluating: 100%|██████████| 6654/6654 [00:00<00:00, 46859.17it/s]\n"
     ]
    },
    {
     "output_type": "stream",
     "name": "stdout",
     "text": [
      "Train: 1.0000| Val: 0.6440| Test: 0.6470| Eval Time: 0.1470s\n",
      "Epoch 49| Loss: 0.0009| Acc: 1.0000| Train Time: 0.0170s\n"
     ]
    },
    {
     "output_type": "stream",
     "name": "stderr",
     "text": [
      "Evaluating: 100%|██████████| 6654/6654 [00:00<00:00, 42928.51it/s]\n"
     ]
    },
    {
     "output_type": "stream",
     "name": "stdout",
     "text": [
      "Train: 1.0000| Val: 0.6440| Test: 0.6470| Eval Time: 0.1600s\n",
      "Epoch 50| Loss: 0.0010| Acc: 1.0000| Train Time: 0.0160s\n"
     ]
    },
    {
     "output_type": "stream",
     "name": "stderr",
     "text": [
      "Evaluating: 100%|██████████| 6654/6654 [00:00<00:00, 42911.09it/s]\n"
     ]
    },
    {
     "output_type": "stream",
     "name": "stdout",
     "text": [
      "Train: 1.0000| Val: 0.6440| Test: 0.6470| Eval Time: 0.1611s\n",
      "Epoch 51| Loss: 0.0010| Acc: 1.0000| Train Time: 0.0190s\n"
     ]
    },
    {
     "output_type": "stream",
     "name": "stderr",
     "text": [
      "Evaluating: 100%|██████████| 6654/6654 [00:00<00:00, 42653.68it/s]\n"
     ]
    },
    {
     "output_type": "stream",
     "name": "stdout",
     "text": [
      "Train: 1.0000| Val: 0.6440| Test: 0.6480| Eval Time: 0.1610s\n",
      "Epoch 52| Loss: 0.0011| Acc: 1.0000| Train Time: 0.0170s\n"
     ]
    },
    {
     "output_type": "stream",
     "name": "stderr",
     "text": [
      "Evaluating: 100%|██████████| 6654/6654 [00:00<00:00, 42113.80it/s]\n"
     ]
    },
    {
     "output_type": "stream",
     "name": "stdout",
     "text": [
      "Train: 1.0000| Val: 0.6440| Test: 0.6470| Eval Time: 0.1610s\n",
      "Epoch 53| Loss: 0.0037| Acc: 1.0000| Train Time: 0.0170s\n"
     ]
    },
    {
     "output_type": "stream",
     "name": "stderr",
     "text": [
      "Evaluating: 100%|██████████| 6654/6654 [00:00<00:00, 42654.53it/s]\n"
     ]
    },
    {
     "output_type": "stream",
     "name": "stdout",
     "text": [
      "Train: 1.0000| Val: 0.6420| Test: 0.6470| Eval Time: 0.1610s\n",
      "Epoch 54| Loss: 0.0009| Acc: 1.0000| Train Time: 0.0160s\n"
     ]
    },
    {
     "output_type": "stream",
     "name": "stderr",
     "text": [
      "Evaluating: 100%|██████████| 6654/6654 [00:00<00:00, 48219.55it/s]\n"
     ]
    },
    {
     "output_type": "stream",
     "name": "stdout",
     "text": [
      "Train: 1.0000| Val: 0.6420| Test: 0.6470| Eval Time: 0.1430s\n",
      "Epoch 55| Loss: 0.0006| Acc: 1.0000| Train Time: 0.0180s\n"
     ]
    },
    {
     "output_type": "stream",
     "name": "stderr",
     "text": [
      "Evaluating: 100%|██████████| 6654/6654 [00:00<00:00, 41848.39it/s]"
     ]
    },
    {
     "output_type": "stream",
     "name": "stdout",
     "text": [
      "Train: 1.0000| Val: 0.6460| Test: 0.6470| Eval Time: 0.1630s\n",
      "\n",
      "Result of  1. run| Train: 0.9833| Val: 0.6680| Test: 0.6450\n",
      "\n"
     ]
    },
    {
     "output_type": "stream",
     "name": "stderr",
     "text": [
      "\n"
     ]
    },
    {
     "output_type": "stream",
     "name": "stdout",
     "text": [
      "Run 01:\n"
     ]
    },
    {
     "output_type": "stream",
     "name": "stderr",
     "text": [
      "Epoch 01: 100%|██████████| 120/120 [00:00<00:00, 422.37it/s]\n"
     ]
    },
    {
     "output_type": "stream",
     "name": "stdout",
     "text": [
      "Epoch 01| Loss: 1.8721| Acc: 0.2000| Train Time: 0.2861s\n"
     ]
    },
    {
     "output_type": "stream",
     "name": "stderr",
     "text": [
      "Evaluating: 100%|██████████| 6654/6654 [00:00<00:00, 41849.14it/s]\n"
     ]
    },
    {
     "output_type": "stream",
     "name": "stdout",
     "text": [
      "Train: 0.8167| Val: 0.5460| Test: 0.5360| Eval Time: 0.1630s\n",
      "Epoch 02| Loss: 1.3115| Acc: 0.6083| Train Time: 0.0180s\n"
     ]
    },
    {
     "output_type": "stream",
     "name": "stderr",
     "text": [
      "Evaluating: 100%|██████████| 6654/6654 [00:00<00:00, 32065.56it/s]\n"
     ]
    },
    {
     "output_type": "stream",
     "name": "stdout",
     "text": [
      "Train: 0.9000| Val: 0.6700| Test: 0.6460| Eval Time: 0.2125s\n",
      "Epoch 03| Loss: 0.8070| Acc: 0.8250| Train Time: 0.0210s\n"
     ]
    },
    {
     "output_type": "stream",
     "name": "stderr",
     "text": [
      "Evaluating: 100%|██████████| 6654/6654 [00:00<00:00, 35851.05it/s]\n"
     ]
    },
    {
     "output_type": "stream",
     "name": "stdout",
     "text": [
      "Train: 0.9250| Val: 0.6600| Test: 0.6340| Eval Time: 0.1906s\n",
      "Epoch 04| Loss: 0.5705| Acc: 0.8750| Train Time: 0.0210s\n"
     ]
    },
    {
     "output_type": "stream",
     "name": "stderr",
     "text": [
      "Evaluating: 100%|██████████| 6654/6654 [00:00<00:00, 31990.17it/s]\n"
     ]
    },
    {
     "output_type": "stream",
     "name": "stdout",
     "text": [
      "Train: 0.9833| Val: 0.6480| Test: 0.6220| Eval Time: 0.2120s\n",
      "Epoch 05| Loss: 0.4297| Acc: 0.9417| Train Time: 0.0190s\n"
     ]
    },
    {
     "output_type": "stream",
     "name": "stderr",
     "text": [
      "Evaluating: 100%|██████████| 6654/6654 [00:00<00:00, 31385.89it/s]\n"
     ]
    },
    {
     "output_type": "stream",
     "name": "stdout",
     "text": [
      "Train: 1.0000| Val: 0.6560| Test: 0.6290| Eval Time: 0.2170s\n",
      "Epoch 06| Loss: 0.3429| Acc: 0.9667| Train Time: 0.0210s\n"
     ]
    },
    {
     "output_type": "stream",
     "name": "stderr",
     "text": [
      "Evaluating: 100%|██████████| 6654/6654 [00:00<00:00, 33768.84it/s]\n"
     ]
    },
    {
     "output_type": "stream",
     "name": "stdout",
     "text": [
      "Train: 1.0000| Val: 0.6680| Test: 0.6370| Eval Time: 0.2020s\n",
      "Epoch 07| Loss: 0.2792| Acc: 0.9667| Train Time: 0.0260s\n"
     ]
    },
    {
     "output_type": "stream",
     "name": "stderr",
     "text": [
      "Evaluating: 100%|██████████| 6654/6654 [00:00<00:00, 28373.60it/s]\n"
     ]
    },
    {
     "output_type": "stream",
     "name": "stdout",
     "text": [
      "Train: 1.0000| Val: 0.6680| Test: 0.6380| Eval Time: 0.2405s\n",
      "Epoch 08| Loss: 0.2217| Acc: 0.9750| Train Time: 0.0250s\n"
     ]
    },
    {
     "output_type": "stream",
     "name": "stderr",
     "text": [
      "Evaluating: 100%|██████████| 6654/6654 [00:00<00:00, 35967.76it/s]\n"
     ]
    },
    {
     "output_type": "stream",
     "name": "stdout",
     "text": [
      "Train: 0.9917| Val: 0.6660| Test: 0.6380| Eval Time: 0.1900s\n",
      "Epoch 09| Loss: 0.1220| Acc: 0.9833| Train Time: 0.0200s\n"
     ]
    },
    {
     "output_type": "stream",
     "name": "stderr",
     "text": [
      "Evaluating: 100%|██████████| 6654/6654 [00:00<00:00, 33606.19it/s]\n"
     ]
    },
    {
     "output_type": "stream",
     "name": "stdout",
     "text": [
      "Train: 0.9917| Val: 0.6620| Test: 0.6400| Eval Time: 0.2030s\n",
      "Epoch 10| Loss: 0.1356| Acc: 0.9750| Train Time: 0.0210s\n"
     ]
    },
    {
     "output_type": "stream",
     "name": "stderr",
     "text": [
      "Evaluating: 100%|██████████| 6654/6654 [00:00<00:00, 35021.35it/s]\n"
     ]
    },
    {
     "output_type": "stream",
     "name": "stdout",
     "text": [
      "Train: 0.9917| Val: 0.6600| Test: 0.6340| Eval Time: 0.1950s\n",
      "Epoch 11| Loss: 0.1370| Acc: 0.9750| Train Time: 0.0190s\n"
     ]
    },
    {
     "output_type": "stream",
     "name": "stderr",
     "text": [
      "Evaluating: 100%|██████████| 6654/6654 [00:00<00:00, 37904.56it/s]\n"
     ]
    },
    {
     "output_type": "stream",
     "name": "stdout",
     "text": [
      "Train: 0.9917| Val: 0.6620| Test: 0.6320| Eval Time: 0.1805s\n",
      "Epoch 12| Loss: 0.0906| Acc: 1.0000| Train Time: 0.0190s\n"
     ]
    },
    {
     "output_type": "stream",
     "name": "stderr",
     "text": [
      "Evaluating: 100%|██████████| 6654/6654 [00:00<00:00, 33774.56it/s]\n"
     ]
    },
    {
     "output_type": "stream",
     "name": "stdout",
     "text": [
      "Train: 0.9917| Val: 0.6560| Test: 0.6360| Eval Time: 0.2030s\n",
      "Epoch 13| Loss: 0.1032| Acc: 0.9833| Train Time: 0.0200s\n"
     ]
    },
    {
     "output_type": "stream",
     "name": "stderr",
     "text": [
      "Evaluating: 100%|██████████| 6654/6654 [00:00<00:00, 35132.53it/s]\n"
     ]
    },
    {
     "output_type": "stream",
     "name": "stdout",
     "text": [
      "Train: 1.0000| Val: 0.6580| Test: 0.6300| Eval Time: 0.1954s\n",
      "Epoch 14| Loss: 0.1115| Acc: 0.9917| Train Time: 0.0170s\n"
     ]
    },
    {
     "output_type": "stream",
     "name": "stderr",
     "text": [
      "Evaluating: 100%|██████████| 6654/6654 [00:00<00:00, 36762.43it/s]\n"
     ]
    },
    {
     "output_type": "stream",
     "name": "stdout",
     "text": [
      "Train: 1.0000| Val: 0.6520| Test: 0.6260| Eval Time: 0.1850s\n",
      "Epoch 15| Loss: 0.0299| Acc: 1.0000| Train Time: 0.0190s\n"
     ]
    },
    {
     "output_type": "stream",
     "name": "stderr",
     "text": [
      "Evaluating: 100%|██████████| 6654/6654 [00:00<00:00, 35394.34it/s]\n"
     ]
    },
    {
     "output_type": "stream",
     "name": "stdout",
     "text": [
      "Train: 1.0000| Val: 0.6540| Test: 0.6240| Eval Time: 0.1920s\n",
      "Epoch 16| Loss: 0.0328| Acc: 1.0000| Train Time: 0.0190s\n"
     ]
    },
    {
     "output_type": "stream",
     "name": "stderr",
     "text": [
      "Evaluating: 100%|██████████| 6654/6654 [00:00<00:00, 26404.63it/s]\n"
     ]
    },
    {
     "output_type": "stream",
     "name": "stdout",
     "text": [
      "Train: 1.0000| Val: 0.6520| Test: 0.6230| Eval Time: 0.2570s\n",
      "Epoch 17| Loss: 0.0423| Acc: 1.0000| Train Time: 0.0290s\n"
     ]
    },
    {
     "output_type": "stream",
     "name": "stderr",
     "text": [
      "Evaluating: 100%|██████████| 6654/6654 [00:00<00:00, 29705.52it/s]\n"
     ]
    },
    {
     "output_type": "stream",
     "name": "stdout",
     "text": [
      "Train: 1.0000| Val: 0.6540| Test: 0.6190| Eval Time: 0.2290s\n",
      "Epoch 18| Loss: 0.0274| Acc: 0.9917| Train Time: 0.0230s\n"
     ]
    },
    {
     "output_type": "stream",
     "name": "stderr",
     "text": [
      "Evaluating: 100%|██████████| 6654/6654 [00:00<00:00, 27161.95it/s]\n"
     ]
    },
    {
     "output_type": "stream",
     "name": "stdout",
     "text": [
      "Train: 1.0000| Val: 0.6520| Test: 0.6180| Eval Time: 0.2500s\n",
      "Epoch 19| Loss: 0.0616| Acc: 0.9917| Train Time: 0.0260s\n"
     ]
    },
    {
     "output_type": "stream",
     "name": "stderr",
     "text": [
      "Evaluating: 100%|██████████| 6654/6654 [00:00<00:00, 28673.24it/s]\n"
     ]
    },
    {
     "output_type": "stream",
     "name": "stdout",
     "text": [
      "Train: 1.0000| Val: 0.6620| Test: 0.6280| Eval Time: 0.2371s\n",
      "Epoch 20| Loss: 0.0153| Acc: 1.0000| Train Time: 0.0200s\n"
     ]
    },
    {
     "output_type": "stream",
     "name": "stderr",
     "text": [
      "Evaluating: 100%|██████████| 6654/6654 [00:00<00:00, 31534.37it/s]\n"
     ]
    },
    {
     "output_type": "stream",
     "name": "stdout",
     "text": [
      "Train: 1.0000| Val: 0.6640| Test: 0.6320| Eval Time: 0.2180s\n",
      "Epoch 21| Loss: 0.0202| Acc: 0.9917| Train Time: 0.0190s\n"
     ]
    },
    {
     "output_type": "stream",
     "name": "stderr",
     "text": [
      "Evaluating: 100%|██████████| 6654/6654 [00:00<00:00, 30949.06it/s]\n"
     ]
    },
    {
     "output_type": "stream",
     "name": "stdout",
     "text": [
      "Train: 1.0000| Val: 0.6720| Test: 0.6340| Eval Time: 0.2200s\n",
      "Epoch 22| Loss: 0.0128| Acc: 1.0000| Train Time: 0.0220s\n"
     ]
    },
    {
     "output_type": "stream",
     "name": "stderr",
     "text": [
      "Evaluating: 100%|██████████| 6654/6654 [00:00<00:00, 28555.86it/s]\n"
     ]
    },
    {
     "output_type": "stream",
     "name": "stdout",
     "text": [
      "Train: 1.0000| Val: 0.6700| Test: 0.6400| Eval Time: 0.2400s\n",
      "Epoch 23| Loss: 0.0082| Acc: 1.0000| Train Time: 0.0210s\n"
     ]
    },
    {
     "output_type": "stream",
     "name": "stderr",
     "text": [
      "Evaluating: 100%|██████████| 6654/6654 [00:00<00:00, 29833.84it/s]\n"
     ]
    },
    {
     "output_type": "stream",
     "name": "stdout",
     "text": [
      "Train: 1.0000| Val: 0.6760| Test: 0.6450| Eval Time: 0.2280s\n",
      "Epoch 24| Loss: 0.0084| Acc: 1.0000| Train Time: 0.0260s\n"
     ]
    },
    {
     "output_type": "stream",
     "name": "stderr",
     "text": [
      "Evaluating: 100%|██████████| 6654/6654 [00:00<00:00, 33260.67it/s]\n"
     ]
    },
    {
     "output_type": "stream",
     "name": "stdout",
     "text": [
      "Train: 1.0000| Val: 0.6740| Test: 0.6460| Eval Time: 0.2071s\n",
      "Epoch 25| Loss: 0.0095| Acc: 1.0000| Train Time: 0.0260s\n"
     ]
    },
    {
     "output_type": "stream",
     "name": "stderr",
     "text": [
      "Evaluating: 100%|██████████| 6654/6654 [00:00<00:00, 31386.53it/s]\n"
     ]
    },
    {
     "output_type": "stream",
     "name": "stdout",
     "text": [
      "Train: 1.0000| Val: 0.6740| Test: 0.6490| Eval Time: 0.2210s\n",
      "Epoch 26| Loss: 0.0063| Acc: 1.0000| Train Time: 0.0260s\n"
     ]
    },
    {
     "output_type": "stream",
     "name": "stderr",
     "text": [
      "Evaluating: 100%|██████████| 6654/6654 [00:00<00:00, 31535.91it/s]\n"
     ]
    },
    {
     "output_type": "stream",
     "name": "stdout",
     "text": [
      "Train: 1.0000| Val: 0.6780| Test: 0.6460| Eval Time: 0.2210s\n",
      "Epoch 27| Loss: 0.0040| Acc: 1.0000| Train Time: 0.0220s\n"
     ]
    },
    {
     "output_type": "stream",
     "name": "stderr",
     "text": [
      "Evaluating: 100%|██████████| 6654/6654 [00:00<00:00, 30660.19it/s]\n"
     ]
    },
    {
     "output_type": "stream",
     "name": "stdout",
     "text": [
      "Train: 1.0000| Val: 0.6820| Test: 0.6470| Eval Time: 0.2210s\n",
      "Epoch 28| Loss: 0.0122| Acc: 1.0000| Train Time: 0.0240s\n"
     ]
    },
    {
     "output_type": "stream",
     "name": "stderr",
     "text": [
      "Evaluating: 100%|██████████| 6654/6654 [00:00<00:00, 30384.47it/s]\n"
     ]
    },
    {
     "output_type": "stream",
     "name": "stdout",
     "text": [
      "Train: 1.0000| Val: 0.6820| Test: 0.6490| Eval Time: 0.2240s\n",
      "Epoch 29| Loss: 0.0072| Acc: 1.0000| Train Time: 0.0272s\n"
     ]
    },
    {
     "output_type": "stream",
     "name": "stderr",
     "text": [
      "Evaluating: 100%|██████████| 6654/6654 [00:00<00:00, 24100.22it/s]\n"
     ]
    },
    {
     "output_type": "stream",
     "name": "stdout",
     "text": [
      "Train: 1.0000| Val: 0.6800| Test: 0.6500| Eval Time: 0.2811s\n",
      "Epoch 30| Loss: 0.0049| Acc: 1.0000| Train Time: 0.0330s\n"
     ]
    },
    {
     "output_type": "stream",
     "name": "stderr",
     "text": [
      "Evaluating: 100%|██████████| 6654/6654 [00:00<00:00, 23935.39it/s]\n"
     ]
    },
    {
     "output_type": "stream",
     "name": "stdout",
     "text": [
      "Train: 1.0000| Val: 0.6760| Test: 0.6480| Eval Time: 0.2840s\n",
      "Epoch 31| Loss: 0.0037| Acc: 1.0000| Train Time: 0.0270s\n"
     ]
    },
    {
     "output_type": "stream",
     "name": "stderr",
     "text": [
      "Evaluating: 100%|██████████| 6654/6654 [00:00<00:00, 24150.71it/s]\n"
     ]
    },
    {
     "output_type": "stream",
     "name": "stdout",
     "text": [
      "Train: 1.0000| Val: 0.6800| Test: 0.6530| Eval Time: 0.2835s\n",
      "Epoch 32| Loss: 0.0033| Acc: 1.0000| Train Time: 0.0240s\n"
     ]
    },
    {
     "output_type": "stream",
     "name": "stderr",
     "text": [
      "Evaluating: 100%|██████████| 6654/6654 [00:00<00:00, 21604.44it/s]\n"
     ]
    },
    {
     "output_type": "stream",
     "name": "stdout",
     "text": [
      "Train: 1.0000| Val: 0.6760| Test: 0.6540| Eval Time: 0.3155s\n",
      "Epoch 33| Loss: 0.0035| Acc: 1.0000| Train Time: 0.0285s\n"
     ]
    },
    {
     "output_type": "stream",
     "name": "stderr",
     "text": [
      "Evaluating: 100%|██████████| 6654/6654 [00:00<00:00, 19513.46it/s]\n"
     ]
    },
    {
     "output_type": "stream",
     "name": "stdout",
     "text": [
      "Train: 1.0000| Val: 0.6780| Test: 0.6540| Eval Time: 0.3500s\n",
      "Epoch 34| Loss: 0.0049| Acc: 1.0000| Train Time: 0.0310s\n"
     ]
    },
    {
     "output_type": "stream",
     "name": "stderr",
     "text": [
      "Evaluating: 100%|██████████| 6654/6654 [00:00<00:00, 24873.55it/s]\n"
     ]
    },
    {
     "output_type": "stream",
     "name": "stdout",
     "text": [
      "Train: 1.0000| Val: 0.6780| Test: 0.6530| Eval Time: 0.2735s\n",
      "Epoch 35| Loss: 0.0078| Acc: 1.0000| Train Time: 0.0240s\n"
     ]
    },
    {
     "output_type": "stream",
     "name": "stderr",
     "text": [
      "Evaluating: 100%|██████████| 6654/6654 [00:00<00:00, 24644.62it/s]\n"
     ]
    },
    {
     "output_type": "stream",
     "name": "stdout",
     "text": [
      "Train: 1.0000| Val: 0.6780| Test: 0.6530| Eval Time: 0.2750s\n",
      "Epoch 36| Loss: 0.0029| Acc: 1.0000| Train Time: 0.0270s\n"
     ]
    },
    {
     "output_type": "stream",
     "name": "stderr",
     "text": [
      "Evaluating: 100%|██████████| 6654/6654 [00:00<00:00, 26094.11it/s]\n"
     ]
    },
    {
     "output_type": "stream",
     "name": "stdout",
     "text": [
      "Train: 1.0000| Val: 0.6780| Test: 0.6540| Eval Time: 0.2620s\n",
      "Epoch 37| Loss: 0.0010| Acc: 1.0000| Train Time: 0.0280s\n"
     ]
    },
    {
     "output_type": "stream",
     "name": "stderr",
     "text": [
      "Evaluating: 100%|██████████| 6654/6654 [00:00<00:00, 26197.62it/s]\n"
     ]
    },
    {
     "output_type": "stream",
     "name": "stdout",
     "text": [
      "Train: 1.0000| Val: 0.6740| Test: 0.6570| Eval Time: 0.2620s\n",
      "Epoch 38| Loss: 0.0016| Acc: 1.0000| Train Time: 0.0260s\n"
     ]
    },
    {
     "output_type": "stream",
     "name": "stderr",
     "text": [
      "Evaluating: 100%|██████████| 6654/6654 [00:00<00:00, 24919.48it/s]\n"
     ]
    },
    {
     "output_type": "stream",
     "name": "stdout",
     "text": [
      "Train: 1.0000| Val: 0.6760| Test: 0.6560| Eval Time: 0.2730s\n",
      "Epoch 39| Loss: 0.0056| Acc: 1.0000| Train Time: 0.0310s\n"
     ]
    },
    {
     "output_type": "stream",
     "name": "stderr",
     "text": [
      "Evaluating: 100%|██████████| 6654/6654 [00:00<00:00, 25060.84it/s]\n"
     ]
    },
    {
     "output_type": "stream",
     "name": "stdout",
     "text": [
      "Train: 1.0000| Val: 0.6760| Test: 0.6560| Eval Time: 0.2705s\n",
      "Epoch 40| Loss: 0.0023| Acc: 1.0000| Train Time: 0.0350s\n"
     ]
    },
    {
     "output_type": "stream",
     "name": "stderr",
     "text": [
      "Evaluating: 100%|██████████| 6654/6654 [00:00<00:00, 21359.89it/s]\n"
     ]
    },
    {
     "output_type": "stream",
     "name": "stdout",
     "text": [
      "Train: 1.0000| Val: 0.6740| Test: 0.6560| Eval Time: 0.3235s\n",
      "Epoch 41| Loss: 0.0016| Acc: 1.0000| Train Time: 0.0340s\n"
     ]
    },
    {
     "output_type": "stream",
     "name": "stderr",
     "text": [
      "Evaluating: 100%|██████████| 6654/6654 [00:00<00:00, 23720.28it/s]\n"
     ]
    },
    {
     "output_type": "stream",
     "name": "stdout",
     "text": [
      "Train: 1.0000| Val: 0.6720| Test: 0.6550| Eval Time: 0.2865s\n",
      "Epoch 42| Loss: 0.0036| Acc: 1.0000| Train Time: 0.0300s\n"
     ]
    },
    {
     "output_type": "stream",
     "name": "stderr",
     "text": [
      "Evaluating:  35%|███▍      | 2304/6654 [00:00<00:00, 22588.02it/s]"
     ]
    }
   ],
   "metadata": {}
  }
 ],
 "metadata": {
  "orig_nbformat": 4,
  "kernelspec": {
   "name": "python3",
   "display_name": "Python 3.8.10 64-bit ('PSN': conda)"
  },
  "interpreter": {
   "hash": "b8be38cac5e07419459cc1d2fe0e04c6cbe36991c6a4efd3c9a636608bfd9cde"
  },
  "language_info": {
   "name": "python",
   "version": "3.8.10",
   "mimetype": "text/x-python",
   "codemirror_mode": {
    "name": "ipython",
    "version": 3
   },
   "pygments_lexer": "ipython3",
   "nbconvert_exporter": "python",
   "file_extension": ".py"
  }
 },
 "nbformat": 4,
 "nbformat_minor": 2
}