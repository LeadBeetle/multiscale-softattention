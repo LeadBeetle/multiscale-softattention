{
 "cells": [
  {
   "cell_type": "code",
   "execution_count": 1,
   "metadata": {},
   "outputs": [],
   "source": [
    "from utils.constants import *\r\n",
    "from utils.experimentorUtils import * "
   ]
  },
  {
   "cell_type": "code",
   "execution_count": null,
   "metadata": {},
   "outputs": [
    {
     "name": "stdout",
     "output_type": "stream",
     "text": [
      "Run 01 for GatV1_K2_D3_s and Cora:\n"
     ]
    },
    {
     "name": "stderr",
     "output_type": "stream",
     "text": [
      "Epoch 01: 100%|██████████| 140/140 [00:02<00:00, 47.08it/s]\n"
     ]
    },
    {
     "name": "stdout",
     "output_type": "stream",
     "text": [
      "Epoch 01| Loss: 2.0118| Acc: 0.1571| Train Time: 2.9774s\n"
     ]
    },
    {
     "name": "stderr",
     "output_type": "stream",
     "text": [
      "Evaluating: 100%|██████████| 8124/8124 [00:01<00:00, 5159.43it/s]\n"
     ]
    },
    {
     "name": "stdout",
     "output_type": "stream",
     "text": [
      "Train: 0.8929| Val: 0.6160| Test: 0.6750| Eval Time: 1.5810s\n",
      "Epoch 02| Loss: 1.5688| Acc: 0.6857| Train Time: 2.5295s\n"
     ]
    },
    {
     "name": "stderr",
     "output_type": "stream",
     "text": [
      "Evaluating: 100%|██████████| 8124/8124 [00:01<00:00, 5698.17it/s]\n"
     ]
    },
    {
     "name": "stdout",
     "output_type": "stream",
     "text": [
      "Train: 0.9429| Val: 0.7760| Test: 0.8070| Eval Time: 1.4972s\n",
      "Epoch 03| Loss: 1.1665| Acc: 0.8500| Train Time: 2.8013s\n"
     ]
    },
    {
     "name": "stderr",
     "output_type": "stream",
     "text": [
      "Evaluating: 100%|██████████| 8124/8124 [00:01<00:00, 4801.44it/s]\n"
     ]
    },
    {
     "name": "stdout",
     "output_type": "stream",
     "text": [
      "Train: 0.9571| Val: 0.8000| Test: 0.8260| Eval Time: 1.6988s\n",
      "Epoch 04| Loss: 0.7296| Acc: 0.9071| Train Time: 2.7945s\n"
     ]
    },
    {
     "name": "stderr",
     "output_type": "stream",
     "text": [
      "Evaluating: 100%|██████████| 8124/8124 [00:01<00:00, 5893.01it/s]\n"
     ]
    },
    {
     "name": "stdout",
     "output_type": "stream",
     "text": [
      "Train: 0.9571| Val: 0.7940| Test: 0.8200| Eval Time: 1.3901s\n",
      "Epoch 05| Loss: 0.4164| Acc: 0.9429| Train Time: 2.6033s\n"
     ]
    },
    {
     "name": "stderr",
     "output_type": "stream",
     "text": [
      "Evaluating: 100%|██████████| 8124/8124 [00:01<00:00, 5450.65it/s]\n"
     ]
    },
    {
     "name": "stdout",
     "output_type": "stream",
     "text": [
      "Train: 0.9643| Val: 0.7920| Test: 0.8060| Eval Time: 1.4963s\n",
      "Epoch 06| Loss: 0.2022| Acc: 0.9571| Train Time: 2.5922s\n"
     ]
    },
    {
     "name": "stderr",
     "output_type": "stream",
     "text": [
      "Evaluating: 100%|██████████| 8124/8124 [00:01<00:00, 5759.87it/s]\n"
     ]
    },
    {
     "name": "stdout",
     "output_type": "stream",
     "text": [
      "Train: 0.9786| Val: 0.7780| Test: 0.8080| Eval Time: 1.4178s\n",
      "Epoch 07| Loss: 0.1397| Acc: 0.9643| Train Time: 2.6762s\n"
     ]
    },
    {
     "name": "stderr",
     "output_type": "stream",
     "text": [
      "Evaluating: 100%|██████████| 8124/8124 [00:01<00:00, 5098.76it/s]\n"
     ]
    },
    {
     "name": "stdout",
     "output_type": "stream",
     "text": [
      "Train: 0.9929| Val: 0.7740| Test: 0.8000| Eval Time: 1.6022s\n",
      "Epoch 08| Loss: 0.0678| Acc: 0.9857| Train Time: 2.6185s\n"
     ]
    },
    {
     "name": "stderr",
     "output_type": "stream",
     "text": [
      "Evaluating: 100%|██████████| 8124/8124 [00:01<00:00, 4955.49it/s]\n"
     ]
    },
    {
     "name": "stdout",
     "output_type": "stream",
     "text": [
      "Train: 0.9929| Val: 0.7780| Test: 0.8060| Eval Time: 1.7747s\n",
      "Epoch 09| Loss: 0.0486| Acc: 0.9857| Train Time: 2.6098s\n"
     ]
    },
    {
     "name": "stderr",
     "output_type": "stream",
     "text": [
      "Evaluating: 100%|██████████| 8124/8124 [00:01<00:00, 5439.50it/s]\n"
     ]
    },
    {
     "name": "stdout",
     "output_type": "stream",
     "text": [
      "Train: 1.0000| Val: 0.7860| Test: 0.8120| Eval Time: 1.5037s\n",
      "Epoch 10| Loss: 0.0540| Acc: 0.9929| Train Time: 2.6759s\n"
     ]
    },
    {
     "name": "stderr",
     "output_type": "stream",
     "text": [
      "Evaluating: 100%|██████████| 8124/8124 [00:01<00:00, 5703.49it/s]\n"
     ]
    },
    {
     "name": "stdout",
     "output_type": "stream",
     "text": [
      "Train: 1.0000| Val: 0.7700| Test: 0.8180| Eval Time: 1.4325s\n",
      "Epoch 11| Loss: 0.0085| Acc: 1.0000| Train Time: 2.6724s\n"
     ]
    },
    {
     "name": "stderr",
     "output_type": "stream",
     "text": [
      "Evaluating: 100%|██████████| 8124/8124 [00:01<00:00, 5392.00it/s]\n"
     ]
    },
    {
     "name": "stdout",
     "output_type": "stream",
     "text": [
      "Train: 1.0000| Val: 0.7700| Test: 0.8130| Eval Time: 1.5128s\n"
     ]
    }
   ],
   "source": [
    "models     = [ModelType.GATV1]\r\n",
    "datasets   = [Dataset.CITESEER, Dataset.CORA, Dataset.PUBMED]\r\n",
    "degrees    = [5,6,7,8,9,10]\r\n",
    "num_layers = [3]\r\n",
    "sparse     = [True]\r\n",
    "adj_modes  = [AdjacencyMode.OneStep]\r\n",
    "\r\n",
    "runExperiments(models, datasets, degrees, sparse, num_layers, adj_modes)"
   ]
  },
  {
   "cell_type": "code",
   "execution_count": null,
   "metadata": {},
   "outputs": [],
   "source": []
  }
 ],
 "metadata": {
  "interpreter": {
   "hash": "b8be38cac5e07419459cc1d2fe0e04c6cbe36991c6a4efd3c9a636608bfd9cde"
  },
  "kernelspec": {
   "display_name": "Python [conda env:.conda-PSN]",
   "language": "python",
   "name": "conda-env-.conda-PSN-py"
  },
  "language_info": {
   "codemirror_mode": {
    "name": "ipython",
    "version": 3
   },
   "file_extension": ".py",
   "mimetype": "text/x-python",
   "name": "python",
   "nbconvert_exporter": "python",
   "pygments_lexer": "ipython3",
   "version": "3.8.10"
  }
 },
 "nbformat": 4,
 "nbformat_minor": 4
}
