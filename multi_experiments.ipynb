{
 "cells": [
  {
   "cell_type": "code",
   "execution_count": 1,
   "metadata": {},
   "outputs": [],
   "source": [
    "from utils.constants import *\r\n",
    "from utils.experimentorUtils import * "
   ]
  },
  {
   "cell_type": "code",
   "execution_count": null,
   "metadata": {},
   "outputs": [
    {
     "name": "stdout",
     "output_type": "stream",
     "text": [
      "Run 01 for GatV1_K5_D3_s and CiteSeer:\n"
     ]
    },
    {
     "name": "stderr",
     "output_type": "stream",
     "text": [
      "Epoch 01: 100%|██████████| 120/120 [00:07<00:00, 15.83it/s]\n"
     ]
    },
    {
     "name": "stdout",
     "output_type": "stream",
     "text": [
      "Epoch 01| Loss: 2.3146| Acc: 0.1167| Train Time: 7.5953s\n"
     ]
    },
    {
     "name": "stderr",
     "output_type": "stream",
     "text": [
      "Evaluating: 100%|██████████| 9981/9981 [00:07<00:00, 1421.72it/s]\n"
     ]
    },
    {
     "name": "stdout",
     "output_type": "stream",
     "text": [
      "Train: 0.7333| Val: 0.6240| Test: 0.6160| Eval Time: 7.0304s\n",
      "Epoch 02| Loss: 1.8772| Acc: 0.4833| Train Time: 1.3030s\n"
     ]
    },
    {
     "name": "stderr",
     "output_type": "stream",
     "text": [
      "Evaluating: 100%|██████████| 9981/9981 [00:00<00:00, 11436.45it/s]\n"
     ]
    },
    {
     "name": "stdout",
     "output_type": "stream",
     "text": [
      "Train: 0.8250| Val: 0.6640| Test: 0.6520| Eval Time: 0.8781s\n",
      "Epoch 03| Loss: 1.6879| Acc: 0.6417| Train Time: 1.2252s\n"
     ]
    },
    {
     "name": "stderr",
     "output_type": "stream",
     "text": [
      "Evaluating: 100%|██████████| 9981/9981 [00:00<00:00, 10141.94it/s]\n"
     ]
    },
    {
     "name": "stdout",
     "output_type": "stream",
     "text": [
      "Train: 0.8333| Val: 0.6700| Test: 0.6660| Eval Time: 0.9908s\n",
      "Epoch 04| Loss: 1.5494| Acc: 0.6750| Train Time: 0.1987s\n"
     ]
    },
    {
     "name": "stderr",
     "output_type": "stream",
     "text": [
      "Evaluating: 100%|██████████| 9981/9981 [00:01<00:00, 8513.61it/s] \n"
     ]
    },
    {
     "name": "stdout",
     "output_type": "stream",
     "text": [
      "Train: 0.8583| Val: 0.6900| Test: 0.6820| Eval Time: 1.1779s\n",
      "Epoch 05| Loss: 1.1686| Acc: 0.7833| Train Time: 0.1243s\n"
     ]
    },
    {
     "name": "stderr",
     "output_type": "stream",
     "text": [
      "Evaluating: 100%|██████████| 9981/9981 [00:01<00:00, 9098.10it/s] \n"
     ]
    },
    {
     "name": "stdout",
     "output_type": "stream",
     "text": [
      "Train: 0.8917| Val: 0.6940| Test: 0.6930| Eval Time: 1.1716s\n",
      "Epoch 06| Loss: 0.7685| Acc: 0.7667| Train Time: 0.2112s\n"
     ]
    },
    {
     "name": "stderr",
     "output_type": "stream",
     "text": [
      "Evaluating: 100%|██████████| 9981/9981 [00:00<00:00, 11245.53it/s]\n"
     ]
    },
    {
     "name": "stdout",
     "output_type": "stream",
     "text": [
      "Train: 0.9000| Val: 0.6720| Test: 0.6640| Eval Time: 0.8928s\n",
      "Epoch 07| Loss: 1.0353| Acc: 0.8250| Train Time: 0.1252s\n"
     ]
    },
    {
     "name": "stderr",
     "output_type": "stream",
     "text": [
      "Evaluating: 100%|██████████| 9981/9981 [00:00<00:00, 10942.14it/s]\n"
     ]
    },
    {
     "name": "stdout",
     "output_type": "stream",
     "text": [
      "Train: 0.9000| Val: 0.6660| Test: 0.6450| Eval Time: 0.9826s\n",
      "Epoch 08| Loss: 0.9020| Acc: 0.8333| Train Time: 0.1821s\n"
     ]
    },
    {
     "name": "stderr",
     "output_type": "stream",
     "text": [
      "Evaluating: 100%|██████████| 9981/9981 [00:01<00:00, 9775.40it/s] \n"
     ]
    },
    {
     "name": "stdout",
     "output_type": "stream",
     "text": [
      "Train: 0.9083| Val: 0.6580| Test: 0.6480| Eval Time: 1.1032s\n",
      "Epoch 09| Loss: 1.1505| Acc: 0.8333| Train Time: 0.1972s\n"
     ]
    },
    {
     "name": "stderr",
     "output_type": "stream",
     "text": [
      "Evaluating: 100%|██████████| 9981/9981 [00:01<00:00, 8922.50it/s] \n"
     ]
    },
    {
     "name": "stdout",
     "output_type": "stream",
     "text": [
      "Train: 0.9083| Val: 0.6660| Test: 0.6510| Eval Time: 1.1275s\n",
      "Epoch 10| Loss: 0.9488| Acc: 0.8750| Train Time: 0.1977s\n"
     ]
    },
    {
     "name": "stderr",
     "output_type": "stream",
     "text": [
      "Evaluating: 100%|██████████| 9981/9981 [00:01<00:00, 9037.24it/s] \n"
     ]
    },
    {
     "name": "stdout",
     "output_type": "stream",
     "text": [
      "Train: 0.9250| Val: 0.6920| Test: 0.6730| Eval Time: 1.1716s\n",
      "Epoch 11| Loss: 0.7590| Acc: 0.8583| Train Time: 0.2042s\n"
     ]
    },
    {
     "name": "stderr",
     "output_type": "stream",
     "text": [
      "Evaluating: 100%|██████████| 9981/9981 [00:01<00:00, 9165.60it/s] \n"
     ]
    },
    {
     "name": "stdout",
     "output_type": "stream",
     "text": [
      "Train: 0.9250| Val: 0.7040| Test: 0.6760| Eval Time: 1.1024s\n",
      "Epoch 12| Loss: 0.6569| Acc: 0.9000| Train Time: 0.2061s\n"
     ]
    },
    {
     "name": "stderr",
     "output_type": "stream",
     "text": [
      "Evaluating: 100%|██████████| 9981/9981 [00:01<00:00, 9076.09it/s] \n"
     ]
    },
    {
     "name": "stdout",
     "output_type": "stream",
     "text": [
      "Train: 0.9417| Val: 0.6880| Test: 0.6810| Eval Time: 1.1068s\n",
      "Epoch 13| Loss: 0.6301| Acc: 0.8667| Train Time: 0.1980s\n"
     ]
    },
    {
     "name": "stderr",
     "output_type": "stream",
     "text": [
      "Evaluating: 100%|██████████| 9981/9981 [00:01<00:00, 9913.18it/s] \n"
     ]
    },
    {
     "name": "stdout",
     "output_type": "stream",
     "text": [
      "Train: 0.9417| Val: 0.6900| Test: 0.6720| Eval Time: 1.0120s\n",
      "Epoch 14| Loss: 0.9946| Acc: 0.9000| Train Time: 0.2797s\n"
     ]
    },
    {
     "name": "stderr",
     "output_type": "stream",
     "text": [
      "Evaluating: 100%|██████████| 9981/9981 [00:01<00:00, 8929.22it/s] \n"
     ]
    },
    {
     "name": "stdout",
     "output_type": "stream",
     "text": [
      "Train: 0.9333| Val: 0.6820| Test: 0.6740| Eval Time: 1.1918s\n",
      "Epoch 15| Loss: 0.4771| Acc: 0.9167| Train Time: 0.2069s\n"
     ]
    },
    {
     "name": "stderr",
     "output_type": "stream",
     "text": [
      "Evaluating: 100%|██████████| 9981/9981 [00:01<00:00, 9042.99it/s] \n"
     ]
    },
    {
     "name": "stdout",
     "output_type": "stream",
     "text": [
      "Train: 0.9333| Val: 0.6700| Test: 0.6710| Eval Time: 1.1109s\n",
      "Epoch 16| Loss: 0.2535| Acc: 0.9333| Train Time: 0.1906s\n"
     ]
    },
    {
     "name": "stderr",
     "output_type": "stream",
     "text": [
      "Evaluating: 100%|██████████| 9981/9981 [00:01<00:00, 8429.93it/s] \n"
     ]
    },
    {
     "name": "stdout",
     "output_type": "stream",
     "text": [
      "Train: 0.9333| Val: 0.6600| Test: 0.6630| Eval Time: 1.1904s\n",
      "Epoch 17| Loss: 0.2491| Acc: 0.9333| Train Time: 0.1894s\n"
     ]
    },
    {
     "name": "stderr",
     "output_type": "stream",
     "text": [
      "Evaluating: 100%|██████████| 9981/9981 [00:01<00:00, 8179.78it/s] \n"
     ]
    },
    {
     "name": "stdout",
     "output_type": "stream",
     "text": [
      "Train: 0.9417| Val: 0.6580| Test: 0.6620| Eval Time: 1.2270s\n",
      "Epoch 18| Loss: 0.4970| Acc: 0.9333| Train Time: 0.1925s\n"
     ]
    },
    {
     "name": "stderr",
     "output_type": "stream",
     "text": [
      "Evaluating: 100%|██████████| 9981/9981 [00:01<00:00, 9080.18it/s] \n"
     ]
    },
    {
     "name": "stdout",
     "output_type": "stream",
     "text": [
      "Train: 0.9667| Val: 0.6580| Test: 0.6610| Eval Time: 1.1069s\n",
      "Epoch 19| Loss: 0.5973| Acc: 0.9250| Train Time: 0.1980s\n"
     ]
    },
    {
     "name": "stderr",
     "output_type": "stream",
     "text": [
      "Evaluating: 100%|██████████| 9981/9981 [00:01<00:00, 9047.49it/s] \n"
     ]
    },
    {
     "name": "stdout",
     "output_type": "stream",
     "text": [
      "Train: 0.9667| Val: 0.6580| Test: 0.6550| Eval Time: 1.1087s\n",
      "Epoch 20| Loss: 0.3266| Acc: 0.9583| Train Time: 0.1945s\n"
     ]
    },
    {
     "name": "stderr",
     "output_type": "stream",
     "text": [
      "Evaluating: 100%|██████████| 9981/9981 [00:01<00:00, 7679.62it/s] \n"
     ]
    },
    {
     "name": "stdout",
     "output_type": "stream",
     "text": [
      "Train: 0.9583| Val: 0.6640| Test: 0.6580| Eval Time: 1.3065s\n",
      "Epoch 21| Loss: 0.3630| Acc: 0.9583| Train Time: 0.2793s\n"
     ]
    },
    {
     "name": "stderr",
     "output_type": "stream",
     "text": [
      "Evaluating: 100%|██████████| 9981/9981 [00:01<00:00, 9048.18it/s] \n"
     ]
    },
    {
     "name": "stdout",
     "output_type": "stream",
     "text": [
      "Train: 0.9667| Val: 0.6580| Test: 0.6600| Eval Time: 1.1114s\n",
      "Epoch 22| Loss: 0.2495| Acc: 0.9417| Train Time: 0.1981s\n"
     ]
    },
    {
     "name": "stderr",
     "output_type": "stream",
     "text": [
      "Evaluating: 100%|██████████| 9981/9981 [00:01<00:00, 7834.61it/s] \n"
     ]
    },
    {
     "name": "stdout",
     "output_type": "stream",
     "text": [
      "Train: 0.9583| Val: 0.6600| Test: 0.6590| Eval Time: 1.2885s\n",
      "Epoch 23| Loss: 1.3207| Acc: 0.9167| Train Time: 0.2080s\n"
     ]
    },
    {
     "name": "stderr",
     "output_type": "stream",
     "text": [
      "Evaluating: 100%|██████████| 9981/9981 [00:01<00:00, 8263.22it/s] \n"
     ]
    },
    {
     "name": "stdout",
     "output_type": "stream",
     "text": [
      "Train: 0.9583| Val: 0.6620| Test: 0.6620| Eval Time: 1.2775s\n",
      "Epoch 24| Loss: 0.1902| Acc: 0.9333| Train Time: 0.1910s\n"
     ]
    },
    {
     "name": "stderr",
     "output_type": "stream",
     "text": [
      "Evaluating: 100%|██████████| 9981/9981 [00:00<00:00, 10855.65it/s]\n"
     ]
    },
    {
     "name": "stdout",
     "output_type": "stream",
     "text": [
      "Train: 0.9583| Val: 0.6580| Test: 0.6610| Eval Time: 0.9267s\n",
      "Epoch 25| Loss: 0.2341| Acc: 0.9417| Train Time: 0.1840s\n"
     ]
    },
    {
     "name": "stderr",
     "output_type": "stream",
     "text": [
      "Evaluating: 100%|██████████| 9981/9981 [00:01<00:00, 8274.97it/s] \n"
     ]
    },
    {
     "name": "stdout",
     "output_type": "stream",
     "text": [
      "Train: 0.9583| Val: 0.6620| Test: 0.6550| Eval Time: 1.2186s\n",
      "Epoch 26| Loss: 0.1550| Acc: 0.9583| Train Time: 0.2036s\n"
     ]
    },
    {
     "name": "stderr",
     "output_type": "stream",
     "text": [
      "Evaluating: 100%|██████████| 9981/9981 [00:01<00:00, 8162.70it/s] \n"
     ]
    },
    {
     "name": "stdout",
     "output_type": "stream",
     "text": [
      "Train: 0.9667| Val: 0.6620| Test: 0.6530| Eval Time: 1.2299s\n",
      "Epoch 27| Loss: 0.2123| Acc: 0.9500| Train Time: 0.2699s\n"
     ]
    },
    {
     "name": "stderr",
     "output_type": "stream",
     "text": [
      "Evaluating: 100%|██████████| 9981/9981 [00:01<00:00, 8243.18it/s] \n"
     ]
    },
    {
     "name": "stdout",
     "output_type": "stream",
     "text": [
      "Train: 0.9417| Val: 0.6540| Test: 0.6540| Eval Time: 1.2205s\n",
      "Epoch 28| Loss: 0.1659| Acc: 0.9750| Train Time: 0.1861s\n"
     ]
    },
    {
     "name": "stderr",
     "output_type": "stream",
     "text": [
      "Evaluating: 100%|██████████| 9981/9981 [00:01<00:00, 9782.48it/s] \n"
     ]
    },
    {
     "name": "stdout",
     "output_type": "stream",
     "text": [
      "Train: 0.9333| Val: 0.6560| Test: 0.6510| Eval Time: 1.0948s\n",
      "Epoch 29| Loss: 0.4993| Acc: 0.9583| Train Time: 0.2093s\n"
     ]
    },
    {
     "name": "stderr",
     "output_type": "stream",
     "text": [
      "Evaluating: 100%|██████████| 9981/9981 [00:01<00:00, 7809.33it/s] \n"
     ]
    },
    {
     "name": "stdout",
     "output_type": "stream",
     "text": [
      "Train: 0.9417| Val: 0.6580| Test: 0.6530| Eval Time: 1.2904s\n",
      "Epoch 30| Loss: 0.1221| Acc: 0.9750| Train Time: 0.2098s\n"
     ]
    },
    {
     "name": "stderr",
     "output_type": "stream",
     "text": [
      "Evaluating: 100%|██████████| 9981/9981 [00:01<00:00, 9869.80it/s] \n"
     ]
    },
    {
     "name": "stdout",
     "output_type": "stream",
     "text": [
      "Train: 0.9417| Val: 0.6580| Test: 0.6550| Eval Time: 1.0882s\n",
      "Epoch 31| Loss: 0.1206| Acc: 0.9833| Train Time: 0.2061s\n"
     ]
    },
    {
     "name": "stderr",
     "output_type": "stream",
     "text": [
      "Evaluating: 100%|██████████| 9981/9981 [00:01<00:00, 8300.27it/s] \n"
     ]
    },
    {
     "name": "stdout",
     "output_type": "stream",
     "text": [
      "Train: 0.9417| Val: 0.6600| Test: 0.6540| Eval Time: 1.2183s\n",
      "Epoch 32| Loss: 0.3220| Acc: 0.9750| Train Time: 0.2029s\n"
     ]
    },
    {
     "name": "stderr",
     "output_type": "stream",
     "text": [
      "Evaluating: 100%|██████████| 9981/9981 [00:01<00:00, 8851.27it/s] \n"
     ]
    },
    {
     "name": "stdout",
     "output_type": "stream",
     "text": [
      "Train: 0.9167| Val: 0.6560| Test: 0.6610| Eval Time: 1.1958s\n",
      "Epoch 33| Loss: 0.0581| Acc: 0.9833| Train Time: 0.1926s\n"
     ]
    },
    {
     "name": "stderr",
     "output_type": "stream",
     "text": [
      "Evaluating: 100%|██████████| 9981/9981 [00:01<00:00, 7741.42it/s] \n"
     ]
    },
    {
     "name": "stdout",
     "output_type": "stream",
     "text": [
      "Train: 0.9250| Val: 0.6600| Test: 0.6670| Eval Time: 1.2961s\n",
      "Epoch 34| Loss: 0.7558| Acc: 0.9417| Train Time: 0.1933s\n"
     ]
    },
    {
     "name": "stderr",
     "output_type": "stream",
     "text": [
      "Evaluating: 100%|██████████| 9981/9981 [00:01<00:00, 7684.76it/s] \n"
     ]
    },
    {
     "name": "stdout",
     "output_type": "stream",
     "text": [
      "Train: 0.9167| Val: 0.6620| Test: 0.6680| Eval Time: 1.3063s\n",
      "Epoch 35| Loss: 0.6671| Acc: 0.9583| Train Time: 0.1960s\n"
     ]
    },
    {
     "name": "stderr",
     "output_type": "stream",
     "text": [
      "Evaluating: 100%|██████████| 9981/9981 [00:00<00:00, 10029.44it/s]\n"
     ]
    },
    {
     "name": "stdout",
     "output_type": "stream",
     "text": [
      "Train: 0.9333| Val: 0.6620| Test: 0.6720| Eval Time: 1.0024s\n",
      "Epoch 36| Loss: 0.2461| Acc: 0.9583| Train Time: 0.1970s\n"
     ]
    },
    {
     "name": "stderr",
     "output_type": "stream",
     "text": [
      "Evaluating: 100%|██████████| 9981/9981 [00:01<00:00, 8464.38it/s] \n"
     ]
    },
    {
     "name": "stdout",
     "output_type": "stream",
     "text": [
      "Train: 0.9333| Val: 0.6660| Test: 0.6720| Eval Time: 1.1859s\n",
      "Epoch 37| Loss: 0.1113| Acc: 0.9667| Train Time: 0.1989s\n"
     ]
    },
    {
     "name": "stderr",
     "output_type": "stream",
     "text": [
      "Evaluating: 100%|██████████| 9981/9981 [00:01<00:00, 8925.73it/s] \n"
     ]
    },
    {
     "name": "stdout",
     "output_type": "stream",
     "text": [
      "Train: 0.9417| Val: 0.6700| Test: 0.6780| Eval Time: 1.1262s\n",
      "Epoch 38| Loss: 0.0892| Acc: 0.9833| Train Time: 0.2731s\n"
     ]
    },
    {
     "name": "stderr",
     "output_type": "stream",
     "text": [
      "Evaluating: 100%|██████████| 9981/9981 [00:01<00:00, 8947.13it/s] \n"
     ]
    },
    {
     "name": "stdout",
     "output_type": "stream",
     "text": [
      "Train: 0.9417| Val: 0.6700| Test: 0.6770| Eval Time: 1.1222s\n",
      "Epoch 39| Loss: 0.4558| Acc: 0.9750| Train Time: 0.2074s\n"
     ]
    },
    {
     "name": "stderr",
     "output_type": "stream",
     "text": [
      "Evaluating: 100%|██████████| 9981/9981 [00:01<00:00, 8884.82it/s] \n"
     ]
    },
    {
     "name": "stdout",
     "output_type": "stream",
     "text": [
      "Train: 0.9333| Val: 0.6720| Test: 0.6830| Eval Time: 1.1911s\n",
      "Epoch 40| Loss: 0.0944| Acc: 0.9750| Train Time: 0.2693s\n"
     ]
    },
    {
     "name": "stderr",
     "output_type": "stream",
     "text": [
      "Evaluating: 100%|██████████| 9981/9981 [00:01<00:00, 8206.38it/s] \n"
     ]
    },
    {
     "name": "stdout",
     "output_type": "stream",
     "text": [
      "Train: 0.9333| Val: 0.6800| Test: 0.6890| Eval Time: 1.2257s\n",
      "Epoch 41| Loss: 0.4814| Acc: 0.9500| Train Time: 0.2078s\n"
     ]
    },
    {
     "name": "stderr",
     "output_type": "stream",
     "text": [
      "Evaluating: 100%|██████████| 9981/9981 [00:00<00:00, 10023.37it/s]\n"
     ]
    },
    {
     "name": "stdout",
     "output_type": "stream",
     "text": [
      "Train: 0.9417| Val: 0.6820| Test: 0.6910| Eval Time: 1.0010s\n",
      "\n",
      "Result of  1. run| Train: 0.9250| Val: 0.7040| Test: 0.6760\n",
      "\n",
      "Run 02 for GatV1_K5_D3_s and CiteSeer:\n"
     ]
    },
    {
     "name": "stderr",
     "output_type": "stream",
     "text": [
      "Epoch 01: 100%|██████████| 120/120 [00:00<00:00, 953.99it/s]\n"
     ]
    },
    {
     "name": "stdout",
     "output_type": "stream",
     "text": [
      "Epoch 01| Loss: 2.4332| Acc: 0.2167| Train Time: 0.1907s\n"
     ]
    },
    {
     "name": "stderr",
     "output_type": "stream",
     "text": [
      "Evaluating: 100%|██████████| 9981/9981 [00:01<00:00, 8449.10it/s] \n"
     ]
    },
    {
     "name": "stdout",
     "output_type": "stream",
     "text": [
      "Train: 0.7417| Val: 0.5980| Test: 0.5900| Eval Time: 1.1892s\n",
      "Epoch 02| Loss: 1.6656| Acc: 0.5750| Train Time: 0.1907s\n"
     ]
    },
    {
     "name": "stderr",
     "output_type": "stream",
     "text": [
      "Evaluating: 100%|██████████| 9981/9981 [00:01<00:00, 9201.64it/s] \n"
     ]
    },
    {
     "name": "stdout",
     "output_type": "stream",
     "text": [
      "Train: 0.8000| Val: 0.6760| Test: 0.6550| Eval Time: 1.1018s\n",
      "Epoch 03| Loss: 1.5954| Acc: 0.6750| Train Time: 0.2047s\n"
     ]
    },
    {
     "name": "stderr",
     "output_type": "stream",
     "text": [
      "Evaluating: 100%|██████████| 9981/9981 [00:01<00:00, 8300.96it/s] \n"
     ]
    },
    {
     "name": "stdout",
     "output_type": "stream",
     "text": [
      "Train: 0.8333| Val: 0.6940| Test: 0.6730| Eval Time: 1.2092s\n",
      "Epoch 04| Loss: 1.6184| Acc: 0.6750| Train Time: 0.1993s\n"
     ]
    },
    {
     "name": "stderr",
     "output_type": "stream",
     "text": [
      "Evaluating: 100%|██████████| 9981/9981 [00:01<00:00, 9082.36it/s] \n"
     ]
    },
    {
     "name": "stdout",
     "output_type": "stream",
     "text": [
      "Train: 0.8500| Val: 0.6960| Test: 0.6790| Eval Time: 1.1044s\n",
      "Epoch 05| Loss: 1.3909| Acc: 0.7417| Train Time: 0.1849s\n"
     ]
    },
    {
     "name": "stderr",
     "output_type": "stream",
     "text": [
      "Evaluating: 100%|██████████| 9981/9981 [00:01<00:00, 8449.35it/s] \n"
     ]
    },
    {
     "name": "stdout",
     "output_type": "stream",
     "text": [
      "Train: 0.8583| Val: 0.6960| Test: 0.6770| Eval Time: 1.1903s\n",
      "Epoch 06| Loss: 1.2843| Acc: 0.7167| Train Time: 0.1258s\n"
     ]
    },
    {
     "name": "stderr",
     "output_type": "stream",
     "text": [
      "Evaluating: 100%|██████████| 9981/9981 [00:01<00:00, 8161.07it/s] \n"
     ]
    },
    {
     "name": "stdout",
     "output_type": "stream",
     "text": [
      "Train: 0.8833| Val: 0.6520| Test: 0.6660| Eval Time: 1.2964s\n",
      "Epoch 07| Loss: 1.1628| Acc: 0.8167| Train Time: 0.2021s\n"
     ]
    },
    {
     "name": "stderr",
     "output_type": "stream",
     "text": [
      "Evaluating: 100%|██████████| 9981/9981 [00:01<00:00, 8327.22it/s] \n"
     ]
    },
    {
     "name": "stdout",
     "output_type": "stream",
     "text": [
      "Train: 0.8833| Val: 0.6520| Test: 0.6700| Eval Time: 1.2133s\n",
      "Epoch 08| Loss: 1.5192| Acc: 0.8333| Train Time: 0.2013s\n"
     ]
    },
    {
     "name": "stderr",
     "output_type": "stream",
     "text": [
      "Evaluating:  87%|████████▋ | 8702/9981 [00:00<00:00, 8236.11it/s] "
     ]
    }
   ],
   "source": [
    "models     = [ModelType.GATV1]\r\n",
    "datasets   = [Dataset.CITESEER, Dataset.CORA, Dataset.PUBMED]\r\n",
    "degrees    = [5,6,7,8,9,10]\r\n",
    "num_layers = [3]\r\n",
    "sparse     = [True]\r\n",
    "adj_modes  = [AdjacencyMode.OneStep]\r\n",
    "\r\n",
    "runExperiments(models, datasets, degrees, sparse, num_layers, adj_modes)"
   ]
  },
  {
   "cell_type": "code",
   "execution_count": null,
   "metadata": {},
   "outputs": [],
   "source": []
  }
 ],
 "metadata": {
  "interpreter": {
   "hash": "b8be38cac5e07419459cc1d2fe0e04c6cbe36991c6a4efd3c9a636608bfd9cde"
  },
  "kernelspec": {
   "display_name": "Python [conda env:.conda-PSN]",
   "language": "python",
   "name": "conda-env-.conda-PSN-py"
  },
  "language_info": {
   "codemirror_mode": {
    "name": "ipython",
    "version": 3
   },
   "file_extension": ".py",
   "mimetype": "text/x-python",
   "name": "python",
   "nbconvert_exporter": "python",
   "pygments_lexer": "ipython3",
   "version": "3.8.10"
  }
 },
 "nbformat": 4,
 "nbformat_minor": 4
}
