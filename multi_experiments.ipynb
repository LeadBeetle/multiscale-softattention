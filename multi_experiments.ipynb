{
 "cells": [
  {
   "cell_type": "code",
   "execution_count": 1,
   "metadata": {},
   "outputs": [],
   "source": [
    "from utils.constants import *\r\n",
    "from utils.experimentorUtils import * "
   ]
  },
  {
   "cell_type": "code",
   "execution_count": null,
   "metadata": {},
   "outputs": [
    {
     "name": "stdout",
     "output_type": "stream",
     "text": [
      "Run 01 for GatV1_K5_D3_s and CiteSeer:\n"
     ]
    },
    {
     "name": "stderr",
     "output_type": "stream",
     "text": [
      "Epoch 01: 100%|██████████| 120/120 [00:02<00:00, 47.20it/s]\n"
     ]
    },
    {
     "name": "stdout",
     "output_type": "stream",
     "text": [
      "Epoch 01| Loss: 2.3146| Acc: 0.1167| Train Time: 2.5491s\n"
     ]
    },
    {
     "name": "stderr",
     "output_type": "stream",
     "text": [
      "Evaluating: 100%|██████████| 9981/9981 [00:06<00:00, 1554.84it/s]\n"
     ]
    },
    {
     "name": "stdout",
     "output_type": "stream",
     "text": [
      "Train: 0.7333| Val: 0.6240| Test: 0.6160| Eval Time: 6.4265s\n",
      "Epoch 02| Loss: 1.8772| Acc: 0.4833| Train Time: 1.1139s\n"
     ]
    },
    {
     "name": "stderr",
     "output_type": "stream",
     "text": [
      "Evaluating: 100%|██████████| 9981/9981 [00:00<00:00, 10134.20it/s]\n"
     ]
    },
    {
     "name": "stdout",
     "output_type": "stream",
     "text": [
      "Train: 0.8250| Val: 0.6640| Test: 0.6520| Eval Time: 1.0582s\n",
      "Epoch 03| Loss: 1.6879| Acc: 0.6417| Train Time: 1.1661s\n"
     ]
    },
    {
     "name": "stderr",
     "output_type": "stream",
     "text": [
      "Evaluating: 100%|██████████| 9981/9981 [00:00<00:00, 10751.56it/s]\n"
     ]
    },
    {
     "name": "stdout",
     "output_type": "stream",
     "text": [
      "Train: 0.8333| Val: 0.6700| Test: 0.6660| Eval Time: 0.9385s\n",
      "Epoch 04| Loss: 1.5494| Acc: 0.6750| Train Time: 0.1866s\n"
     ]
    },
    {
     "name": "stderr",
     "output_type": "stream",
     "text": [
      "Evaluating: 100%|██████████| 9981/9981 [00:01<00:00, 9030.01it/s] \n"
     ]
    },
    {
     "name": "stdout",
     "output_type": "stream",
     "text": [
      "Train: 0.8583| Val: 0.6900| Test: 0.6820| Eval Time: 1.1166s\n",
      "Epoch 05| Loss: 1.1686| Acc: 0.7833| Train Time: 0.1941s\n"
     ]
    },
    {
     "name": "stderr",
     "output_type": "stream",
     "text": [
      "Evaluating: 100%|██████████| 9981/9981 [00:00<00:00, 11047.36it/s]\n"
     ]
    },
    {
     "name": "stdout",
     "output_type": "stream",
     "text": [
      "Train: 0.8917| Val: 0.6940| Test: 0.6930| Eval Time: 0.9144s\n",
      "Epoch 06| Loss: 0.7684| Acc: 0.7667| Train Time: 0.2055s\n"
     ]
    },
    {
     "name": "stderr",
     "output_type": "stream",
     "text": [
      "Evaluating: 100%|██████████| 9981/9981 [00:01<00:00, 9277.32it/s] \n"
     ]
    },
    {
     "name": "stdout",
     "output_type": "stream",
     "text": [
      "Train: 0.9000| Val: 0.6720| Test: 0.6640| Eval Time: 1.0849s\n",
      "Epoch 07| Loss: 1.0353| Acc: 0.8250| Train Time: 0.1981s\n"
     ]
    },
    {
     "name": "stderr",
     "output_type": "stream",
     "text": [
      "Evaluating: 100%|██████████| 9981/9981 [00:01<00:00, 8405.13it/s] \n"
     ]
    },
    {
     "name": "stdout",
     "output_type": "stream",
     "text": [
      "Train: 0.9000| Val: 0.6660| Test: 0.6450| Eval Time: 1.2013s\n",
      "Epoch 08| Loss: 0.9019| Acc: 0.8333| Train Time: 0.1925s\n"
     ]
    },
    {
     "name": "stderr",
     "output_type": "stream",
     "text": [
      "Evaluating: 100%|██████████| 9981/9981 [00:01<00:00, 9814.88it/s] \n"
     ]
    },
    {
     "name": "stdout",
     "output_type": "stream",
     "text": [
      "Train: 0.9083| Val: 0.6580| Test: 0.6480| Eval Time: 1.0244s\n",
      "Epoch 09| Loss: 1.1506| Acc: 0.8333| Train Time: 0.1868s\n"
     ]
    },
    {
     "name": "stderr",
     "output_type": "stream",
     "text": [
      "Evaluating: 100%|██████████| 9981/9981 [00:01<00:00, 8370.02it/s] \n"
     ]
    },
    {
     "name": "stdout",
     "output_type": "stream",
     "text": [
      "Train: 0.9083| Val: 0.6660| Test: 0.6510| Eval Time: 1.2027s\n",
      "Epoch 10| Loss: 0.9487| Acc: 0.8750| Train Time: 0.1835s\n"
     ]
    },
    {
     "name": "stderr",
     "output_type": "stream",
     "text": [
      "Evaluating: 100%|██████████| 9981/9981 [00:01<00:00, 9009.06it/s] \n"
     ]
    },
    {
     "name": "stdout",
     "output_type": "stream",
     "text": [
      "Train: 0.9250| Val: 0.6920| Test: 0.6730| Eval Time: 1.1160s\n",
      "Epoch 11| Loss: 0.7588| Acc: 0.8583| Train Time: 0.2038s\n"
     ]
    },
    {
     "name": "stderr",
     "output_type": "stream",
     "text": [
      "Evaluating: 100%|██████████| 9981/9981 [00:00<00:00, 11096.09it/s]\n"
     ]
    },
    {
     "name": "stdout",
     "output_type": "stream",
     "text": [
      "Train: 0.9250| Val: 0.7040| Test: 0.6760| Eval Time: 0.9048s\n",
      "Epoch 12| Loss: 0.6563| Acc: 0.9000| Train Time: 0.2732s\n"
     ]
    },
    {
     "name": "stderr",
     "output_type": "stream",
     "text": [
      "Evaluating: 100%|██████████| 9981/9981 [00:00<00:00, 10039.82it/s]\n"
     ]
    },
    {
     "name": "stdout",
     "output_type": "stream",
     "text": [
      "Train: 0.9417| Val: 0.6880| Test: 0.6810| Eval Time: 1.0049s\n",
      "Epoch 13| Loss: 0.6292| Acc: 0.8667| Train Time: 0.1814s\n"
     ]
    },
    {
     "name": "stderr",
     "output_type": "stream",
     "text": [
      "Evaluating: 100%|██████████| 9981/9981 [00:01<00:00, 9692.29it/s] \n"
     ]
    },
    {
     "name": "stdout",
     "output_type": "stream",
     "text": [
      "Train: 0.9417| Val: 0.6900| Test: 0.6720| Eval Time: 1.0355s\n",
      "Epoch 14| Loss: 0.9943| Acc: 0.9000| Train Time: 0.1998s\n"
     ]
    },
    {
     "name": "stderr",
     "output_type": "stream",
     "text": [
      "Evaluating: 100%|██████████| 9981/9981 [00:01<00:00, 8974.91it/s] \n"
     ]
    },
    {
     "name": "stdout",
     "output_type": "stream",
     "text": [
      "Train: 0.9333| Val: 0.6820| Test: 0.6740| Eval Time: 1.1245s\n",
      "Epoch 15| Loss: 0.4783| Acc: 0.9167| Train Time: 0.1987s\n"
     ]
    },
    {
     "name": "stderr",
     "output_type": "stream",
     "text": [
      "Evaluating: 100%|██████████| 9981/9981 [00:01<00:00, 9128.32it/s] \n"
     ]
    },
    {
     "name": "stdout",
     "output_type": "stream",
     "text": [
      "Train: 0.9333| Val: 0.6700| Test: 0.6710| Eval Time: 1.1001s\n",
      "Epoch 16| Loss: 0.2532| Acc: 0.9333| Train Time: 0.1980s\n"
     ]
    },
    {
     "name": "stderr",
     "output_type": "stream",
     "text": [
      "Evaluating: 100%|██████████| 9981/9981 [00:00<00:00, 10988.28it/s]\n"
     ]
    },
    {
     "name": "stdout",
     "output_type": "stream",
     "text": [
      "Train: 0.9333| Val: 0.6600| Test: 0.6630| Eval Time: 0.9148s\n",
      "Epoch 17| Loss: 0.2493| Acc: 0.9333| Train Time: 0.1950s\n"
     ]
    },
    {
     "name": "stderr",
     "output_type": "stream",
     "text": [
      "Evaluating: 100%|██████████| 9981/9981 [00:01<00:00, 9738.06it/s] \n"
     ]
    },
    {
     "name": "stdout",
     "output_type": "stream",
     "text": [
      "Train: 0.9417| Val: 0.6580| Test: 0.6620| Eval Time: 1.0941s\n",
      "Epoch 18| Loss: 0.4971| Acc: 0.9333| Train Time: 0.1934s\n"
     ]
    },
    {
     "name": "stderr",
     "output_type": "stream",
     "text": [
      "Evaluating: 100%|██████████| 9981/9981 [00:00<00:00, 10967.55it/s]\n"
     ]
    },
    {
     "name": "stdout",
     "output_type": "stream",
     "text": [
      "Train: 0.9667| Val: 0.6580| Test: 0.6610| Eval Time: 0.9167s\n",
      "Epoch 19| Loss: 0.5967| Acc: 0.9250| Train Time: 0.2618s\n"
     ]
    },
    {
     "name": "stderr",
     "output_type": "stream",
     "text": [
      "Evaluating: 100%|██████████| 9981/9981 [00:01<00:00, 9792.05it/s] \n"
     ]
    },
    {
     "name": "stdout",
     "output_type": "stream",
     "text": [
      "Train: 0.9667| Val: 0.6580| Test: 0.6550| Eval Time: 1.0282s\n",
      "Epoch 20| Loss: 0.3296| Acc: 0.9583| Train Time: 0.2064s\n"
     ]
    },
    {
     "name": "stderr",
     "output_type": "stream",
     "text": [
      "Evaluating: 100%|██████████| 9981/9981 [00:01<00:00, 8827.52it/s] \n"
     ]
    },
    {
     "name": "stdout",
     "output_type": "stream",
     "text": [
      "Train: 0.9583| Val: 0.6640| Test: 0.6580| Eval Time: 1.1977s\n",
      "Epoch 21| Loss: 0.3627| Acc: 0.9583| Train Time: 0.2658s\n"
     ]
    },
    {
     "name": "stderr",
     "output_type": "stream",
     "text": [
      "Evaluating: 100%|██████████| 9981/9981 [00:01<00:00, 8939.17it/s] \n"
     ]
    },
    {
     "name": "stdout",
     "output_type": "stream",
     "text": [
      "Train: 0.9667| Val: 0.6560| Test: 0.6600| Eval Time: 1.1251s\n",
      "Epoch 22| Loss: 0.2503| Acc: 0.9417| Train Time: 0.2016s\n"
     ]
    },
    {
     "name": "stderr",
     "output_type": "stream",
     "text": [
      "Evaluating: 100%|██████████| 9981/9981 [00:00<00:00, 11138.39it/s]\n"
     ]
    },
    {
     "name": "stdout",
     "output_type": "stream",
     "text": [
      "Train: 0.9583| Val: 0.6600| Test: 0.6590| Eval Time: 0.9018s\n",
      "Epoch 23| Loss: 1.3193| Acc: 0.9167| Train Time: 0.1956s\n"
     ]
    },
    {
     "name": "stderr",
     "output_type": "stream",
     "text": [
      "Evaluating: 100%|██████████| 9981/9981 [00:01<00:00, 7843.55it/s] \n"
     ]
    },
    {
     "name": "stdout",
     "output_type": "stream",
     "text": [
      "Train: 0.9583| Val: 0.6620| Test: 0.6620| Eval Time: 1.2851s\n",
      "Epoch 24| Loss: 0.1876| Acc: 0.9333| Train Time: 0.2020s\n"
     ]
    },
    {
     "name": "stderr",
     "output_type": "stream",
     "text": [
      "Evaluating: 100%|██████████| 9981/9981 [00:01<00:00, 9231.06it/s] \n"
     ]
    },
    {
     "name": "stdout",
     "output_type": "stream",
     "text": [
      "Train: 0.9583| Val: 0.6580| Test: 0.6610| Eval Time: 1.0980s\n",
      "Epoch 25| Loss: 0.2342| Acc: 0.9417| Train Time: 0.1886s\n"
     ]
    },
    {
     "name": "stderr",
     "output_type": "stream",
     "text": [
      "Evaluating: 100%|██████████| 9981/9981 [00:01<00:00, 9805.98it/s] \n"
     ]
    },
    {
     "name": "stdout",
     "output_type": "stream",
     "text": [
      "Train: 0.9583| Val: 0.6620| Test: 0.6550| Eval Time: 1.0255s\n",
      "Epoch 26| Loss: 0.1554| Acc: 0.9583| Train Time: 0.2009s\n"
     ]
    },
    {
     "name": "stderr",
     "output_type": "stream",
     "text": [
      "Evaluating: 100%|██████████| 9981/9981 [00:01<00:00, 9825.43it/s] \n"
     ]
    },
    {
     "name": "stdout",
     "output_type": "stream",
     "text": [
      "Train: 0.9667| Val: 0.6620| Test: 0.6530| Eval Time: 1.0241s\n",
      "Epoch 27| Loss: 0.2132| Acc: 0.9500| Train Time: 0.1920s\n"
     ]
    },
    {
     "name": "stderr",
     "output_type": "stream",
     "text": [
      "Evaluating: 100%|██████████| 9981/9981 [00:01<00:00, 9224.24it/s] \n"
     ]
    },
    {
     "name": "stdout",
     "output_type": "stream",
     "text": [
      "Train: 0.9417| Val: 0.6540| Test: 0.6540| Eval Time: 1.0904s\n",
      "Epoch 28| Loss: 0.1644| Acc: 0.9750| Train Time: 0.1219s\n"
     ]
    },
    {
     "name": "stderr",
     "output_type": "stream",
     "text": [
      "Evaluating: 100%|██████████| 9981/9981 [00:01<00:00, 8458.83it/s] \n"
     ]
    },
    {
     "name": "stdout",
     "output_type": "stream",
     "text": [
      "Train: 0.9333| Val: 0.6560| Test: 0.6500| Eval Time: 1.1862s\n",
      "Epoch 29| Loss: 0.4957| Acc: 0.9583| Train Time: 0.1895s\n"
     ]
    },
    {
     "name": "stderr",
     "output_type": "stream",
     "text": [
      "Evaluating: 100%|██████████| 9981/9981 [00:01<00:00, 9164.96it/s] \n"
     ]
    },
    {
     "name": "stdout",
     "output_type": "stream",
     "text": [
      "Train: 0.9417| Val: 0.6580| Test: 0.6520| Eval Time: 1.1018s\n",
      "Epoch 30| Loss: 0.1213| Acc: 0.9750| Train Time: 0.1925s\n"
     ]
    },
    {
     "name": "stderr",
     "output_type": "stream",
     "text": [
      "Evaluating: 100%|██████████| 9981/9981 [00:00<00:00, 10794.25it/s]\n"
     ]
    },
    {
     "name": "stdout",
     "output_type": "stream",
     "text": [
      "Train: 0.9417| Val: 0.6580| Test: 0.6550| Eval Time: 0.9322s\n",
      "Epoch 31| Loss: 0.1211| Acc: 0.9833| Train Time: 0.2770s\n"
     ]
    },
    {
     "name": "stderr",
     "output_type": "stream",
     "text": [
      "Evaluating: 100%|██████████| 9981/9981 [00:01<00:00, 9925.34it/s] \n"
     ]
    },
    {
     "name": "stdout",
     "output_type": "stream",
     "text": [
      "Train: 0.9417| Val: 0.6600| Test: 0.6540| Eval Time: 1.0129s\n",
      "Epoch 32| Loss: 0.3125| Acc: 0.9750| Train Time: 0.2163s\n"
     ]
    },
    {
     "name": "stderr",
     "output_type": "stream",
     "text": [
      "Evaluating: 100%|██████████| 9981/9981 [00:01<00:00, 9464.73it/s] \n"
     ]
    },
    {
     "name": "stdout",
     "output_type": "stream",
     "text": [
      "Train: 0.9250| Val: 0.6560| Test: 0.6600| Eval Time: 1.0657s\n",
      "Epoch 33| Loss: 0.0590| Acc: 0.9833| Train Time: 0.2033s\n"
     ]
    },
    {
     "name": "stderr",
     "output_type": "stream",
     "text": [
      "Evaluating: 100%|██████████| 9981/9981 [00:01<00:00, 9164.37it/s] \n"
     ]
    },
    {
     "name": "stdout",
     "output_type": "stream",
     "text": [
      "Train: 0.9250| Val: 0.6600| Test: 0.6670| Eval Time: 1.0977s\n",
      "Epoch 34| Loss: 0.7644| Acc: 0.9417| Train Time: 0.1927s\n"
     ]
    },
    {
     "name": "stderr",
     "output_type": "stream",
     "text": [
      "Evaluating: 100%|██████████| 9981/9981 [00:01<00:00, 8916.25it/s] \n"
     ]
    },
    {
     "name": "stdout",
     "output_type": "stream",
     "text": [
      "Train: 0.9167| Val: 0.6640| Test: 0.6690| Eval Time: 1.1924s\n",
      "Epoch 35| Loss: 0.6669| Acc: 0.9583| Train Time: 0.1287s\n"
     ]
    },
    {
     "name": "stderr",
     "output_type": "stream",
     "text": [
      "Evaluating: 100%|██████████| 9981/9981 [00:00<00:00, 10147.38it/s]\n"
     ]
    },
    {
     "name": "stdout",
     "output_type": "stream",
     "text": [
      "Train: 0.9333| Val: 0.6620| Test: 0.6710| Eval Time: 0.9913s\n",
      "Epoch 36| Loss: 0.2347| Acc: 0.9667| Train Time: 0.1910s\n"
     ]
    },
    {
     "name": "stderr",
     "output_type": "stream",
     "text": [
      "Evaluating: 100%|██████████| 9981/9981 [00:01<00:00, 8317.73it/s] \n"
     ]
    },
    {
     "name": "stdout",
     "output_type": "stream",
     "text": [
      "Train: 0.9333| Val: 0.6680| Test: 0.6720| Eval Time: 1.2086s\n",
      "Epoch 37| Loss: 0.1081| Acc: 0.9750| Train Time: 0.1895s\n"
     ]
    },
    {
     "name": "stderr",
     "output_type": "stream",
     "text": [
      "Evaluating: 100%|██████████| 9981/9981 [00:01<00:00, 9855.04it/s] \n"
     ]
    },
    {
     "name": "stdout",
     "output_type": "stream",
     "text": [
      "Train: 0.9417| Val: 0.6700| Test: 0.6770| Eval Time: 1.0863s\n",
      "Epoch 38| Loss: 0.0930| Acc: 0.9833| Train Time: 0.2091s\n"
     ]
    },
    {
     "name": "stderr",
     "output_type": "stream",
     "text": [
      "Evaluating: 100%|██████████| 9981/9981 [00:01<00:00, 9922.87it/s] \n"
     ]
    },
    {
     "name": "stdout",
     "output_type": "stream",
     "text": [
      "Train: 0.9417| Val: 0.6700| Test: 0.6760| Eval Time: 1.0118s\n",
      "Epoch 39| Loss: 0.4379| Acc: 0.9750| Train Time: 0.1897s\n"
     ]
    },
    {
     "name": "stderr",
     "output_type": "stream",
     "text": [
      "Evaluating: 100%|██████████| 9981/9981 [00:00<00:00, 10112.21it/s]\n"
     ]
    },
    {
     "name": "stdout",
     "output_type": "stream",
     "text": [
      "Train: 0.9417| Val: 0.6720| Test: 0.6830| Eval Time: 0.9982s\n",
      "Epoch 40| Loss: 0.0917| Acc: 0.9750| Train Time: 0.1888s\n"
     ]
    },
    {
     "name": "stderr",
     "output_type": "stream",
     "text": [
      "Evaluating: 100%|██████████| 9981/9981 [00:01<00:00, 9890.13it/s] \n"
     ]
    },
    {
     "name": "stdout",
     "output_type": "stream",
     "text": [
      "Train: 0.9417| Val: 0.6780| Test: 0.6890| Eval Time: 1.0229s\n",
      "Epoch 41| Loss: 0.4619| Acc: 0.9500| Train Time: 0.1967s\n"
     ]
    },
    {
     "name": "stderr",
     "output_type": "stream",
     "text": [
      "Evaluating: 100%|██████████| 9981/9981 [00:01<00:00, 9281.01it/s] \n"
     ]
    },
    {
     "name": "stdout",
     "output_type": "stream",
     "text": [
      "Train: 0.9417| Val: 0.6780| Test: 0.6900| Eval Time: 1.0831s\n",
      "\n",
      "Result of  1. run| Train: 0.9250| Val: 0.7040| Test: 0.6760\n",
      "\n",
      "Run 02 for GatV1_K5_D3_s and CiteSeer:\n"
     ]
    },
    {
     "name": "stderr",
     "output_type": "stream",
     "text": [
      "Epoch 01: 100%|██████████| 120/120 [00:00<00:00, 607.33it/s]\n"
     ]
    },
    {
     "name": "stdout",
     "output_type": "stream",
     "text": [
      "Epoch 01| Loss: 2.4332| Acc: 0.2167| Train Time: 0.2009s\n"
     ]
    },
    {
     "name": "stderr",
     "output_type": "stream",
     "text": [
      "Evaluating: 100%|██████████| 9981/9981 [00:01<00:00, 9907.91it/s] \n"
     ]
    },
    {
     "name": "stdout",
     "output_type": "stream",
     "text": [
      "Train: 0.7417| Val: 0.5980| Test: 0.5900| Eval Time: 1.0156s\n",
      "Epoch 02| Loss: 1.6656| Acc: 0.5750| Train Time: 0.1866s\n"
     ]
    },
    {
     "name": "stderr",
     "output_type": "stream",
     "text": [
      "Evaluating: 100%|██████████| 9981/9981 [00:00<00:00, 12392.98it/s]\n"
     ]
    },
    {
     "name": "stdout",
     "output_type": "stream",
     "text": [
      "Train: 0.8000| Val: 0.6760| Test: 0.6550| Eval Time: 0.8129s\n",
      "Epoch 03| Loss: 1.5954| Acc: 0.6750| Train Time: 0.1908s\n"
     ]
    },
    {
     "name": "stderr",
     "output_type": "stream",
     "text": [
      "Evaluating: 100%|██████████| 9981/9981 [00:01<00:00, 9193.44it/s] \n"
     ]
    },
    {
     "name": "stdout",
     "output_type": "stream",
     "text": [
      "Train: 0.8333| Val: 0.6940| Test: 0.6730| Eval Time: 1.0913s\n",
      "Epoch 04| Loss: 1.6183| Acc: 0.6750| Train Time: 0.1870s\n"
     ]
    },
    {
     "name": "stderr",
     "output_type": "stream",
     "text": [
      "Evaluating: 100%|██████████| 9981/9981 [00:00<00:00, 10807.20it/s]\n"
     ]
    },
    {
     "name": "stdout",
     "output_type": "stream",
     "text": [
      "Train: 0.8500| Val: 0.6960| Test: 0.6790| Eval Time: 0.9296s\n",
      "Epoch 05| Loss: 1.3909| Acc: 0.7417| Train Time: 0.2108s\n"
     ]
    },
    {
     "name": "stderr",
     "output_type": "stream",
     "text": [
      "Evaluating: 100%|██████████| 9981/9981 [00:01<00:00, 7869.51it/s] \n"
     ]
    },
    {
     "name": "stdout",
     "output_type": "stream",
     "text": [
      "Train: 0.8583| Val: 0.6960| Test: 0.6770| Eval Time: 1.2767s\n",
      "Epoch 06| Loss: 1.2843| Acc: 0.7167| Train Time: 0.1949s\n"
     ]
    },
    {
     "name": "stderr",
     "output_type": "stream",
     "text": [
      "Evaluating: 100%|██████████| 9981/9981 [00:00<00:00, 12274.55it/s]\n"
     ]
    },
    {
     "name": "stdout",
     "output_type": "stream",
     "text": [
      "Train: 0.8833| Val: 0.6520| Test: 0.6660| Eval Time: 0.8196s\n",
      "Epoch 07| Loss: 1.1629| Acc: 0.8167| Train Time: 0.1811s\n"
     ]
    },
    {
     "name": "stderr",
     "output_type": "stream",
     "text": [
      "Evaluating: 100%|██████████| 9981/9981 [00:00<00:00, 10028.30it/s]\n"
     ]
    },
    {
     "name": "stdout",
     "output_type": "stream",
     "text": [
      "Train: 0.8833| Val: 0.6520| Test: 0.6700| Eval Time: 1.0015s\n",
      "Epoch 08| Loss: 1.5193| Acc: 0.8333| Train Time: 0.1762s\n"
     ]
    },
    {
     "name": "stderr",
     "output_type": "stream",
     "text": [
      "Evaluating: 100%|██████████| 9981/9981 [00:00<00:00, 10825.60it/s]\n"
     ]
    },
    {
     "name": "stdout",
     "output_type": "stream",
     "text": [
      "Train: 0.9083| Val: 0.6480| Test: 0.6700| Eval Time: 0.9276s\n",
      "Epoch 09| Loss: 0.6305| Acc: 0.8500| Train Time: 0.1882s\n"
     ]
    },
    {
     "name": "stderr",
     "output_type": "stream",
     "text": [
      "Evaluating: 100%|██████████| 9981/9981 [00:00<00:00, 10165.16it/s]\n"
     ]
    },
    {
     "name": "stdout",
     "output_type": "stream",
     "text": [
      "Train: 0.9250| Val: 0.6460| Test: 0.6720| Eval Time: 0.9887s\n",
      "Epoch 10| Loss: 0.9035| Acc: 0.8750| Train Time: 0.1271s\n"
     ]
    },
    {
     "name": "stderr",
     "output_type": "stream",
     "text": [
      "Evaluating: 100%|██████████| 9981/9981 [00:01<00:00, 9045.60it/s] \n"
     ]
    },
    {
     "name": "stdout",
     "output_type": "stream",
     "text": [
      "Train: 0.9083| Val: 0.6480| Test: 0.6720| Eval Time: 1.1726s\n",
      "Epoch 11| Loss: 0.7903| Acc: 0.9167| Train Time: 0.1340s\n"
     ]
    },
    {
     "name": "stderr",
     "output_type": "stream",
     "text": [
      "Evaluating: 100%|██████████| 9981/9981 [00:01<00:00, 8915.18it/s] \n"
     ]
    },
    {
     "name": "stdout",
     "output_type": "stream",
     "text": [
      "Train: 0.9083| Val: 0.6580| Test: 0.6740| Eval Time: 1.1915s\n",
      "Epoch 12| Loss: 0.7417| Acc: 0.8750| Train Time: 0.1831s\n"
     ]
    },
    {
     "name": "stderr",
     "output_type": "stream",
     "text": [
      "Evaluating: 100%|██████████| 9981/9981 [00:01<00:00, 8324.50it/s] \n"
     ]
    },
    {
     "name": "stdout",
     "output_type": "stream",
     "text": [
      "Train: 0.9083| Val: 0.6580| Test: 0.6660| Eval Time: 1.2091s\n",
      "Epoch 13| Loss: 0.3069| Acc: 0.9333| Train Time: 0.1940s\n"
     ]
    },
    {
     "name": "stderr",
     "output_type": "stream",
     "text": [
      "Evaluating: 100%|██████████| 9981/9981 [00:01<00:00, 9900.80it/s] \n"
     ]
    },
    {
     "name": "stdout",
     "output_type": "stream",
     "text": [
      "Train: 0.9250| Val: 0.6580| Test: 0.6560| Eval Time: 1.0141s\n",
      "Epoch 14| Loss: 0.7409| Acc: 0.9333| Train Time: 0.2639s\n"
     ]
    },
    {
     "name": "stderr",
     "output_type": "stream",
     "text": [
      "Evaluating: 100%|██████████| 9981/9981 [00:00<00:00, 12112.65it/s]\n"
     ]
    },
    {
     "name": "stdout",
     "output_type": "stream",
     "text": [
      "Train: 0.9250| Val: 0.6580| Test: 0.6520| Eval Time: 0.8306s\n",
      "Epoch 15| Loss: 0.4115| Acc: 0.9500| Train Time: 0.1870s\n"
     ]
    },
    {
     "name": "stderr",
     "output_type": "stream",
     "text": [
      "Evaluating: 100%|██████████| 9981/9981 [00:00<00:00, 11100.25it/s]\n"
     ]
    },
    {
     "name": "stdout",
     "output_type": "stream",
     "text": [
      "Train: 0.9333| Val: 0.6560| Test: 0.6500| Eval Time: 0.9052s\n",
      "Epoch 16| Loss: 0.2866| Acc: 0.9250| Train Time: 0.1960s\n"
     ]
    },
    {
     "name": "stderr",
     "output_type": "stream",
     "text": [
      "Evaluating: 100%|██████████| 9981/9981 [00:01<00:00, 9883.60it/s] \n"
     ]
    },
    {
     "name": "stdout",
     "output_type": "stream",
     "text": [
      "Train: 0.9417| Val: 0.6580| Test: 0.6510| Eval Time: 1.0872s\n",
      "Epoch 17| Loss: 0.4899| Acc: 0.9500| Train Time: 0.2058s\n"
     ]
    },
    {
     "name": "stderr",
     "output_type": "stream",
     "text": [
      "Evaluating: 100%|██████████| 9981/9981 [00:01<00:00, 9957.03it/s] \n"
     ]
    },
    {
     "name": "stdout",
     "output_type": "stream",
     "text": [
      "Train: 0.9500| Val: 0.6540| Test: 0.6500| Eval Time: 1.0105s\n",
      "Epoch 18| Loss: 0.6509| Acc: 0.9583| Train Time: 0.1843s\n"
     ]
    },
    {
     "name": "stderr",
     "output_type": "stream",
     "text": [
      "Evaluating: 100%|██████████| 9981/9981 [00:01<00:00, 9149.83it/s] \n"
     ]
    },
    {
     "name": "stdout",
     "output_type": "stream",
     "text": [
      "Train: 0.9500| Val: 0.6600| Test: 0.6510| Eval Time: 1.1034s\n",
      "Epoch 19| Loss: 0.2298| Acc: 0.9417| Train Time: 0.1863s\n"
     ]
    },
    {
     "name": "stderr",
     "output_type": "stream",
     "text": [
      "Evaluating: 100%|██████████| 9981/9981 [00:01<00:00, 9107.89it/s] \n"
     ]
    },
    {
     "name": "stdout",
     "output_type": "stream",
     "text": [
      "Train: 0.9667| Val: 0.6600| Test: 0.6550| Eval Time: 1.1113s\n",
      "Epoch 20| Loss: 0.2708| Acc: 0.9667| Train Time: 0.1956s\n"
     ]
    },
    {
     "name": "stderr",
     "output_type": "stream",
     "text": [
      "Evaluating: 100%|██████████| 9981/9981 [00:01<00:00, 9085.94it/s] \n"
     ]
    },
    {
     "name": "stdout",
     "output_type": "stream",
     "text": [
      "Train: 0.9500| Val: 0.6620| Test: 0.6610| Eval Time: 1.1113s\n",
      "Epoch 21| Loss: 0.1735| Acc: 0.9333| Train Time: 0.2053s\n"
     ]
    },
    {
     "name": "stderr",
     "output_type": "stream",
     "text": [
      "Evaluating: 100%|██████████| 9981/9981 [00:01<00:00, 9182.02it/s] \n"
     ]
    },
    {
     "name": "stdout",
     "output_type": "stream",
     "text": [
      "Train: 0.9583| Val: 0.6720| Test: 0.6630| Eval Time: 1.0931s\n",
      "Epoch 22| Loss: 0.1659| Acc: 0.9583| Train Time: 0.2005s\n"
     ]
    },
    {
     "name": "stderr",
     "output_type": "stream",
     "text": [
      "Evaluating: 100%|██████████| 9981/9981 [00:00<00:00, 10969.66it/s]\n"
     ]
    },
    {
     "name": "stdout",
     "output_type": "stream",
     "text": [
      "Train: 0.9583| Val: 0.6660| Test: 0.6640| Eval Time: 0.9809s\n",
      "Epoch 23| Loss: 0.4928| Acc: 0.9333| Train Time: 0.1298s\n"
     ]
    },
    {
     "name": "stderr",
     "output_type": "stream",
     "text": [
      "Evaluating: 100%|██████████| 9981/9981 [00:01<00:00, 8984.57it/s] \n"
     ]
    },
    {
     "name": "stdout",
     "output_type": "stream",
     "text": [
      "Train: 0.9583| Val: 0.6660| Test: 0.6650| Eval Time: 1.1809s\n",
      "Epoch 24| Loss: 0.0841| Acc: 0.9750| Train Time: 0.1932s\n"
     ]
    },
    {
     "name": "stderr",
     "output_type": "stream",
     "text": [
      "Evaluating: 100%|██████████| 9981/9981 [00:01<00:00, 8945.77it/s] \n"
     ]
    },
    {
     "name": "stdout",
     "output_type": "stream",
     "text": [
      "Train: 0.9500| Val: 0.6640| Test: 0.6670| Eval Time: 1.1236s\n",
      "Epoch 25| Loss: 0.1988| Acc: 0.9583| Train Time: 0.1919s\n"
     ]
    },
    {
     "name": "stderr",
     "output_type": "stream",
     "text": [
      "Evaluating: 100%|██████████| 9981/9981 [00:01<00:00, 8368.36it/s] \n"
     ]
    },
    {
     "name": "stdout",
     "output_type": "stream",
     "text": [
      "Train: 0.9500| Val: 0.6640| Test: 0.6710| Eval Time: 1.2002s\n",
      "Epoch 26| Loss: 0.0502| Acc: 0.9833| Train Time: 0.2056s\n"
     ]
    },
    {
     "name": "stderr",
     "output_type": "stream",
     "text": [
      "Evaluating: 100%|██████████| 9981/9981 [00:00<00:00, 10704.91it/s]\n"
     ]
    },
    {
     "name": "stdout",
     "output_type": "stream",
     "text": [
      "Train: 0.9500| Val: 0.6640| Test: 0.6710| Eval Time: 1.0024s\n",
      "Epoch 27| Loss: 0.8284| Acc: 0.9583| Train Time: 0.1956s\n"
     ]
    },
    {
     "name": "stderr",
     "output_type": "stream",
     "text": [
      "Evaluating: 100%|██████████| 9981/9981 [00:01<00:00, 8927.87it/s] \n"
     ]
    },
    {
     "name": "stdout",
     "output_type": "stream",
     "text": [
      "Train: 0.9417| Val: 0.6620| Test: 0.6710| Eval Time: 1.1890s\n",
      "Epoch 28| Loss: 0.2957| Acc: 0.9500| Train Time: 0.1900s\n"
     ]
    },
    {
     "name": "stderr",
     "output_type": "stream",
     "text": [
      "Evaluating: 100%|██████████| 9981/9981 [00:01<00:00, 9145.60it/s] \n"
     ]
    },
    {
     "name": "stdout",
     "output_type": "stream",
     "text": [
      "Train: 0.9583| Val: 0.6720| Test: 0.6710| Eval Time: 1.1009s\n",
      "Epoch 29| Loss: 0.3626| Acc: 0.9750| Train Time: 0.1982s\n"
     ]
    },
    {
     "name": "stderr",
     "output_type": "stream",
     "text": [
      "Evaluating: 100%|██████████| 9981/9981 [00:01<00:00, 9125.23it/s] \n"
     ]
    },
    {
     "name": "stdout",
     "output_type": "stream",
     "text": [
      "Train: 0.9583| Val: 0.6680| Test: 0.6700| Eval Time: 1.1040s\n",
      "Epoch 30| Loss: 0.3423| Acc: 0.9250| Train Time: 0.1923s\n"
     ]
    },
    {
     "name": "stderr",
     "output_type": "stream",
     "text": [
      "Evaluating: 100%|██████████| 9981/9981 [00:01<00:00, 9038.19it/s] \n"
     ]
    },
    {
     "name": "stdout",
     "output_type": "stream",
     "text": [
      "Train: 0.9417| Val: 0.6620| Test: 0.6740| Eval Time: 1.1151s\n",
      "Epoch 31| Loss: 0.1097| Acc: 0.9750| Train Time: 0.1911s\n"
     ]
    },
    {
     "name": "stderr",
     "output_type": "stream",
     "text": [
      "Evaluating: 100%|██████████| 9981/9981 [00:01<00:00, 8489.73it/s] \n"
     ]
    },
    {
     "name": "stdout",
     "output_type": "stream",
     "text": [
      "Train: 0.9417| Val: 0.6640| Test: 0.6760| Eval Time: 1.1876s\n",
      "Epoch 32| Loss: 0.8098| Acc: 0.9833| Train Time: 0.1897s\n"
     ]
    },
    {
     "name": "stderr",
     "output_type": "stream",
     "text": [
      "Evaluating: 100%|██████████| 9981/9981 [00:01<00:00, 9962.99it/s] \n"
     ]
    },
    {
     "name": "stdout",
     "output_type": "stream",
     "text": [
      "Train: 0.9417| Val: 0.6680| Test: 0.6720| Eval Time: 1.0119s\n",
      "Epoch 33| Loss: 0.3572| Acc: 0.9333| Train Time: 0.1860s\n"
     ]
    },
    {
     "name": "stderr",
     "output_type": "stream",
     "text": [
      "Evaluating: 100%|██████████| 9981/9981 [00:01<00:00, 8298.78it/s] \n"
     ]
    },
    {
     "name": "stdout",
     "output_type": "stream",
     "text": [
      "Train: 0.9417| Val: 0.6780| Test: 0.6790| Eval Time: 1.2126s\n",
      "Epoch 34| Loss: 0.1974| Acc: 0.9750| Train Time: 0.1982s\n"
     ]
    },
    {
     "name": "stderr",
     "output_type": "stream",
     "text": [
      "Evaluating: 100%|██████████| 9981/9981 [00:01<00:00, 8259.69it/s] \n"
     ]
    },
    {
     "name": "stdout",
     "output_type": "stream",
     "text": [
      "Train: 0.9583| Val: 0.6840| Test: 0.6820| Eval Time: 1.2156s\n",
      "\n",
      "Result of  2. run| Train: 0.8500| Val: 0.6960| Test: 0.6790\n",
      "\n",
      "Run 03 for GatV1_K5_D3_s and CiteSeer:\n"
     ]
    },
    {
     "name": "stderr",
     "output_type": "stream",
     "text": [
      "Epoch 01: 100%|██████████| 120/120 [00:00<00:00, 426.32it/s]\n"
     ]
    },
    {
     "name": "stdout",
     "output_type": "stream",
     "text": [
      "Epoch 01| Loss: 2.4207| Acc: 0.1333| Train Time: 0.2854s\n"
     ]
    },
    {
     "name": "stderr",
     "output_type": "stream",
     "text": [
      "Evaluating: 100%|██████████| 9981/9981 [00:01<00:00, 9029.91it/s] \n"
     ]
    },
    {
     "name": "stdout",
     "output_type": "stream",
     "text": [
      "Train: 0.7083| Val: 0.6200| Test: 0.6120| Eval Time: 1.1125s\n",
      "Epoch 02| Loss: 1.6718| Acc: 0.5250| Train Time: 0.2014s\n"
     ]
    },
    {
     "name": "stderr",
     "output_type": "stream",
     "text": [
      "Evaluating: 100%|██████████| 9981/9981 [00:01<00:00, 9332.74it/s] \n"
     ]
    },
    {
     "name": "stdout",
     "output_type": "stream",
     "text": [
      "Train: 0.8000| Val: 0.6860| Test: 0.6730| Eval Time: 1.0808s\n",
      "Epoch 03| Loss: 1.9013| Acc: 0.6750| Train Time: 0.1863s\n"
     ]
    },
    {
     "name": "stderr",
     "output_type": "stream",
     "text": [
      "Evaluating: 100%|██████████| 9981/9981 [00:01<00:00, 8963.46it/s] \n"
     ]
    },
    {
     "name": "stdout",
     "output_type": "stream",
     "text": [
      "Train: 0.8333| Val: 0.7180| Test: 0.6900| Eval Time: 1.1233s\n",
      "Epoch 04| Loss: 1.3281| Acc: 0.7750| Train Time: 0.2031s\n"
     ]
    },
    {
     "name": "stderr",
     "output_type": "stream",
     "text": [
      "Evaluating: 100%|██████████| 9981/9981 [00:00<00:00, 10115.46it/s]\n"
     ]
    },
    {
     "name": "stdout",
     "output_type": "stream",
     "text": [
      "Train: 0.8583| Val: 0.7040| Test: 0.6920| Eval Time: 0.9929s\n",
      "Epoch 05| Loss: 0.9915| Acc: 0.7083| Train Time: 0.1963s\n"
     ]
    },
    {
     "name": "stderr",
     "output_type": "stream",
     "text": [
      "Evaluating: 100%|██████████| 9981/9981 [00:01<00:00, 9043.54it/s] \n"
     ]
    },
    {
     "name": "stdout",
     "output_type": "stream",
     "text": [
      "Train: 0.9083| Val: 0.6980| Test: 0.6940| Eval Time: 1.1111s\n",
      "Epoch 06| Loss: 1.2541| Acc: 0.7833| Train Time: 0.2058s\n"
     ]
    },
    {
     "name": "stderr",
     "output_type": "stream",
     "text": [
      "Evaluating: 100%|██████████| 9981/9981 [00:01<00:00, 9291.55it/s] \n"
     ]
    },
    {
     "name": "stdout",
     "output_type": "stream",
     "text": [
      "Train: 0.9000| Val: 0.7000| Test: 0.6920| Eval Time: 1.0823s\n",
      "Epoch 07| Loss: 1.1779| Acc: 0.8000| Train Time: 0.1798s\n"
     ]
    },
    {
     "name": "stderr",
     "output_type": "stream",
     "text": [
      "Evaluating: 100%|██████████| 9981/9981 [00:01<00:00, 9968.09it/s] \n"
     ]
    },
    {
     "name": "stdout",
     "output_type": "stream",
     "text": [
      "Train: 0.8833| Val: 0.6720| Test: 0.6930| Eval Time: 1.0159s\n",
      "Epoch 08| Loss: 0.6658| Acc: 0.8583| Train Time: 0.1882s\n"
     ]
    },
    {
     "name": "stderr",
     "output_type": "stream",
     "text": [
      "Evaluating: 100%|██████████| 9981/9981 [00:00<00:00, 10688.45it/s]\n"
     ]
    },
    {
     "name": "stdout",
     "output_type": "stream",
     "text": [
      "Train: 0.9000| Val: 0.6580| Test: 0.6860| Eval Time: 0.9954s\n",
      "Epoch 09| Loss: 1.1774| Acc: 0.8750| Train Time: 0.1320s\n"
     ]
    },
    {
     "name": "stderr",
     "output_type": "stream",
     "text": [
      "Evaluating: 100%|██████████| 9981/9981 [00:01<00:00, 8490.51it/s] \n"
     ]
    },
    {
     "name": "stdout",
     "output_type": "stream",
     "text": [
      "Train: 0.9000| Val: 0.6440| Test: 0.6830| Eval Time: 1.1808s\n",
      "Epoch 10| Loss: 0.3243| Acc: 0.9083| Train Time: 0.1203s\n"
     ]
    },
    {
     "name": "stderr",
     "output_type": "stream",
     "text": [
      "Evaluating: 100%|██████████| 9981/9981 [00:01<00:00, 8948.64it/s] \n"
     ]
    },
    {
     "name": "stdout",
     "output_type": "stream",
     "text": [
      "Train: 0.9083| Val: 0.6360| Test: 0.6890| Eval Time: 1.1867s\n",
      "Epoch 11| Loss: 0.4360| Acc: 0.9417| Train Time: 0.1934s\n"
     ]
    },
    {
     "name": "stderr",
     "output_type": "stream",
     "text": [
      "Evaluating: 100%|██████████| 9981/9981 [00:01<00:00, 9929.62it/s] \n"
     ]
    },
    {
     "name": "stdout",
     "output_type": "stream",
     "text": [
      "Train: 0.9167| Val: 0.6300| Test: 0.6900| Eval Time: 1.0116s\n",
      "Epoch 12| Loss: 0.6517| Acc: 0.8583| Train Time: 0.1975s\n"
     ]
    },
    {
     "name": "stderr",
     "output_type": "stream",
     "text": [
      "Evaluating: 100%|██████████| 9981/9981 [00:00<00:00, 11122.25it/s]\n"
     ]
    },
    {
     "name": "stdout",
     "output_type": "stream",
     "text": [
      "Train: 0.9250| Val: 0.6400| Test: 0.6880| Eval Time: 0.9033s\n",
      "Epoch 13| Loss: 0.6691| Acc: 0.9167| Train Time: 0.1874s\n"
     ]
    },
    {
     "name": "stderr",
     "output_type": "stream",
     "text": [
      "Evaluating: 100%|██████████| 9981/9981 [00:00<00:00, 10221.46it/s]\n"
     ]
    },
    {
     "name": "stdout",
     "output_type": "stream",
     "text": [
      "Train: 0.9167| Val: 0.6420| Test: 0.6820| Eval Time: 0.9826s\n",
      "Epoch 14| Loss: 0.4957| Acc: 0.9333| Train Time: 0.1271s\n"
     ]
    },
    {
     "name": "stderr",
     "output_type": "stream",
     "text": [
      "Evaluating: 100%|██████████| 9981/9981 [00:00<00:00, 11069.43it/s]\n"
     ]
    },
    {
     "name": "stdout",
     "output_type": "stream",
     "text": [
      "Train: 0.9333| Val: 0.6380| Test: 0.6770| Eval Time: 0.9674s\n",
      "Epoch 15| Loss: 0.4695| Acc: 0.9500| Train Time: 0.1240s\n"
     ]
    },
    {
     "name": "stderr",
     "output_type": "stream",
     "text": [
      "Evaluating: 100%|██████████| 9981/9981 [00:00<00:00, 10055.39it/s]\n"
     ]
    },
    {
     "name": "stdout",
     "output_type": "stream",
     "text": [
      "Train: 0.9167| Val: 0.6400| Test: 0.6750| Eval Time: 1.0024s\n",
      "Epoch 16| Loss: 0.7016| Acc: 0.9417| Train Time: 0.2030s\n"
     ]
    },
    {
     "name": "stderr",
     "output_type": "stream",
     "text": [
      "Evaluating: 100%|██████████| 9981/9981 [00:01<00:00, 9185.43it/s] \n"
     ]
    },
    {
     "name": "stdout",
     "output_type": "stream",
     "text": [
      "Train: 0.9167| Val: 0.6380| Test: 0.6590| Eval Time: 1.0925s\n",
      "Epoch 17| Loss: 0.2888| Acc: 0.9250| Train Time: 0.2073s\n"
     ]
    },
    {
     "name": "stderr",
     "output_type": "stream",
     "text": [
      "Evaluating: 100%|██████████| 9981/9981 [00:00<00:00, 10138.99it/s]\n"
     ]
    },
    {
     "name": "stdout",
     "output_type": "stream",
     "text": [
      "Train: 0.9250| Val: 0.6320| Test: 0.6490| Eval Time: 0.9901s\n",
      "Epoch 18| Loss: 0.8281| Acc: 0.9500| Train Time: 0.1987s\n"
     ]
    },
    {
     "name": "stderr",
     "output_type": "stream",
     "text": [
      "Evaluating: 100%|██████████| 9981/9981 [00:00<00:00, 11032.42it/s]\n"
     ]
    },
    {
     "name": "stdout",
     "output_type": "stream",
     "text": [
      "Train: 0.9250| Val: 0.6280| Test: 0.6460| Eval Time: 0.9102s\n",
      "Epoch 19| Loss: 0.3082| Acc: 0.9583| Train Time: 0.1946s\n"
     ]
    },
    {
     "name": "stderr",
     "output_type": "stream",
     "text": [
      "Evaluating: 100%|██████████| 9981/9981 [00:01<00:00, 8425.92it/s] \n"
     ]
    },
    {
     "name": "stdout",
     "output_type": "stream",
     "text": [
      "Train: 0.9333| Val: 0.6240| Test: 0.6420| Eval Time: 1.1915s\n",
      "Epoch 20| Loss: 0.0714| Acc: 0.9750| Train Time: 0.1911s\n"
     ]
    },
    {
     "name": "stderr",
     "output_type": "stream",
     "text": [
      "Evaluating: 100%|██████████| 9981/9981 [00:01<00:00, 9076.66it/s] \n"
     ]
    },
    {
     "name": "stdout",
     "output_type": "stream",
     "text": [
      "Train: 0.9333| Val: 0.6160| Test: 0.6320| Eval Time: 1.1056s\n",
      "Epoch 21| Loss: 0.2735| Acc: 0.9417| Train Time: 0.1958s\n"
     ]
    },
    {
     "name": "stderr",
     "output_type": "stream",
     "text": [
      "Evaluating: 100%|██████████| 9981/9981 [00:01<00:00, 9064.20it/s] \n"
     ]
    },
    {
     "name": "stdout",
     "output_type": "stream",
     "text": [
      "Train: 0.9333| Val: 0.6180| Test: 0.6340| Eval Time: 1.1078s\n",
      "Epoch 22| Loss: 0.4371| Acc: 0.9583| Train Time: 0.2040s\n"
     ]
    },
    {
     "name": "stderr",
     "output_type": "stream",
     "text": [
      "Evaluating: 100%|██████████| 9981/9981 [00:00<00:00, 9984.38it/s] \n"
     ]
    },
    {
     "name": "stdout",
     "output_type": "stream",
     "text": [
      "Train: 0.9333| Val: 0.6140| Test: 0.6340| Eval Time: 1.0050s\n",
      "Epoch 23| Loss: 1.0836| Acc: 0.9000| Train Time: 0.2198s\n"
     ]
    },
    {
     "name": "stderr",
     "output_type": "stream",
     "text": [
      "Evaluating: 100%|██████████| 9981/9981 [00:01<00:00, 9094.97it/s] \n"
     ]
    },
    {
     "name": "stdout",
     "output_type": "stream",
     "text": [
      "Train: 0.9250| Val: 0.6220| Test: 0.6350| Eval Time: 1.1060s\n",
      "Epoch 24| Loss: 0.1005| Acc: 0.9667| Train Time: 0.1932s\n"
     ]
    },
    {
     "name": "stderr",
     "output_type": "stream",
     "text": [
      "Evaluating: 100%|██████████| 9981/9981 [00:00<00:00, 10059.99it/s]\n"
     ]
    },
    {
     "name": "stdout",
     "output_type": "stream",
     "text": [
      "Train: 0.9250| Val: 0.6280| Test: 0.6330| Eval Time: 1.0005s\n",
      "Epoch 25| Loss: 0.9210| Acc: 0.9333| Train Time: 0.1944s\n"
     ]
    },
    {
     "name": "stderr",
     "output_type": "stream",
     "text": [
      "Evaluating: 100%|██████████| 9981/9981 [00:00<00:00, 9995.34it/s] \n"
     ]
    },
    {
     "name": "stdout",
     "output_type": "stream",
     "text": [
      "Train: 0.9417| Val: 0.6340| Test: 0.6330| Eval Time: 1.0058s\n",
      "Epoch 26| Loss: 0.1557| Acc: 0.9750| Train Time: 0.1783s\n"
     ]
    },
    {
     "name": "stderr",
     "output_type": "stream",
     "text": [
      "Evaluating: 100%|██████████| 9981/9981 [00:01<00:00, 9818.92it/s] \n"
     ]
    },
    {
     "name": "stdout",
     "output_type": "stream",
     "text": [
      "Train: 0.9583| Val: 0.6300| Test: 0.6330| Eval Time: 1.0227s\n",
      "Epoch 27| Loss: 0.1307| Acc: 0.9667| Train Time: 0.1911s\n"
     ]
    },
    {
     "name": "stderr",
     "output_type": "stream",
     "text": [
      "Evaluating: 100%|██████████| 9981/9981 [00:01<00:00, 9047.47it/s] \n"
     ]
    },
    {
     "name": "stdout",
     "output_type": "stream",
     "text": [
      "Train: 0.9583| Val: 0.6280| Test: 0.6350| Eval Time: 1.1114s\n",
      "Epoch 28| Loss: 0.1599| Acc: 0.9417| Train Time: 0.1978s\n"
     ]
    },
    {
     "name": "stderr",
     "output_type": "stream",
     "text": [
      "Evaluating: 100%|██████████| 9981/9981 [00:01<00:00, 9927.94it/s] \n"
     ]
    },
    {
     "name": "stdout",
     "output_type": "stream",
     "text": [
      "Train: 0.9583| Val: 0.6320| Test: 0.6340| Eval Time: 1.0873s\n",
      "Epoch 29| Loss: 0.0193| Acc: 0.9917| Train Time: 0.1871s\n"
     ]
    },
    {
     "name": "stderr",
     "output_type": "stream",
     "text": [
      "Evaluating: 100%|██████████| 9981/9981 [00:01<00:00, 9015.99it/s] \n"
     ]
    },
    {
     "name": "stdout",
     "output_type": "stream",
     "text": [
      "Train: 0.9417| Val: 0.6460| Test: 0.6380| Eval Time: 1.1161s\n",
      "Epoch 30| Loss: 0.1187| Acc: 0.9667| Train Time: 0.1963s\n"
     ]
    },
    {
     "name": "stderr",
     "output_type": "stream",
     "text": [
      "Evaluating: 100%|██████████| 9981/9981 [00:01<00:00, 9205.67it/s] \n"
     ]
    },
    {
     "name": "stdout",
     "output_type": "stream",
     "text": [
      "Train: 0.9250| Val: 0.6420| Test: 0.6360| Eval Time: 1.0918s\n",
      "Epoch 31| Loss: 0.1292| Acc: 0.9833| Train Time: 0.1903s\n"
     ]
    },
    {
     "name": "stderr",
     "output_type": "stream",
     "text": [
      "Evaluating: 100%|██████████| 9981/9981 [00:01<00:00, 9048.30it/s] \n"
     ]
    },
    {
     "name": "stdout",
     "output_type": "stream",
     "text": [
      "Train: 0.9167| Val: 0.6400| Test: 0.6290| Eval Time: 1.1173s\n",
      "Epoch 32| Loss: 0.0581| Acc: 0.9833| Train Time: 0.1813s\n"
     ]
    },
    {
     "name": "stderr",
     "output_type": "stream",
     "text": [
      "Evaluating: 100%|██████████| 9981/9981 [00:01<00:00, 8283.94it/s] \n"
     ]
    },
    {
     "name": "stdout",
     "output_type": "stream",
     "text": [
      "Train: 0.9167| Val: 0.6320| Test: 0.6270| Eval Time: 1.2139s\n",
      "Epoch 33| Loss: 0.0443| Acc: 0.9917| Train Time: 0.1995s\n"
     ]
    },
    {
     "name": "stderr",
     "output_type": "stream",
     "text": [
      "Evaluating: 100%|██████████| 9981/9981 [00:00<00:00, 13858.93it/s]\n"
     ]
    },
    {
     "name": "stdout",
     "output_type": "stream",
     "text": [
      "Train: 0.9167| Val: 0.6320| Test: 0.6260| Eval Time: 0.7920s\n",
      "\n",
      "Result of  3. run| Train: 0.8333| Val: 0.7180| Test: 0.6900\n",
      "\n",
      "Run 04 for GatV1_K5_D3_s and CiteSeer:\n"
     ]
    },
    {
     "name": "stderr",
     "output_type": "stream",
     "text": [
      "Epoch 01: 100%|██████████| 120/120 [00:00<00:00, 593.34it/s]\n"
     ]
    },
    {
     "name": "stdout",
     "output_type": "stream",
     "text": [
      "Epoch 01| Loss: 2.3227| Acc: 0.1750| Train Time: 0.2086s\n"
     ]
    },
    {
     "name": "stderr",
     "output_type": "stream",
     "text": [
      "Evaluating: 100%|██████████| 9981/9981 [00:01<00:00, 9879.84it/s] \n"
     ]
    },
    {
     "name": "stdout",
     "output_type": "stream",
     "text": [
      "Train: 0.7250| Val: 0.6140| Test: 0.5900| Eval Time: 1.0167s\n",
      "Epoch 02| Loss: 1.6955| Acc: 0.6000| Train Time: 0.1941s\n"
     ]
    },
    {
     "name": "stderr",
     "output_type": "stream",
     "text": [
      "Evaluating: 100%|██████████| 9981/9981 [00:01<00:00, 9966.76it/s] \n"
     ]
    },
    {
     "name": "stdout",
     "output_type": "stream",
     "text": [
      "Train: 0.8583| Val: 0.6760| Test: 0.6500| Eval Time: 1.0070s\n",
      "Epoch 03| Loss: 1.7800| Acc: 0.6167| Train Time: 0.2025s\n"
     ]
    },
    {
     "name": "stderr",
     "output_type": "stream",
     "text": [
      "Evaluating: 100%|██████████| 9981/9981 [00:01<00:00, 9792.76it/s] \n"
     ]
    },
    {
     "name": "stdout",
     "output_type": "stream",
     "text": [
      "Train: 0.8333| Val: 0.6760| Test: 0.6750| Eval Time: 1.0813s\n",
      "Epoch 04| Loss: 1.7664| Acc: 0.7083| Train Time: 0.1858s\n"
     ]
    },
    {
     "name": "stderr",
     "output_type": "stream",
     "text": [
      "Evaluating: 100%|██████████| 9981/9981 [00:00<00:00, 10803.18it/s]\n"
     ]
    },
    {
     "name": "stdout",
     "output_type": "stream",
     "text": [
      "Train: 0.8583| Val: 0.6600| Test: 0.6660| Eval Time: 0.9947s\n",
      "Epoch 05| Loss: 0.9864| Acc: 0.7667| Train Time: 0.1983s\n"
     ]
    },
    {
     "name": "stderr",
     "output_type": "stream",
     "text": [
      "Evaluating: 100%|██████████| 9981/9981 [00:01<00:00, 9801.51it/s] \n"
     ]
    },
    {
     "name": "stdout",
     "output_type": "stream",
     "text": [
      "Train: 0.9000| Val: 0.6700| Test: 0.6620| Eval Time: 1.0273s\n",
      "Epoch 06| Loss: 1.2858| Acc: 0.7750| Train Time: 0.2050s\n"
     ]
    },
    {
     "name": "stderr",
     "output_type": "stream",
     "text": [
      "Evaluating: 100%|██████████| 9981/9981 [00:01<00:00, 9776.51it/s] \n"
     ]
    },
    {
     "name": "stdout",
     "output_type": "stream",
     "text": [
      "Train: 0.9083| Val: 0.6800| Test: 0.6700| Eval Time: 1.0869s\n",
      "Epoch 07| Loss: 1.1552| Acc: 0.8333| Train Time: 0.2093s\n"
     ]
    },
    {
     "name": "stderr",
     "output_type": "stream",
     "text": [
      "Evaluating: 100%|██████████| 9981/9981 [00:01<00:00, 9227.75it/s] \n"
     ]
    },
    {
     "name": "stdout",
     "output_type": "stream",
     "text": [
      "Train: 0.9250| Val: 0.6860| Test: 0.6720| Eval Time: 1.0889s\n",
      "Epoch 08| Loss: 0.9642| Acc: 0.8167| Train Time: 0.2078s\n"
     ]
    },
    {
     "name": "stderr",
     "output_type": "stream",
     "text": [
      "Evaluating: 100%|██████████| 9981/9981 [00:01<00:00, 9220.92it/s] \n"
     ]
    },
    {
     "name": "stdout",
     "output_type": "stream",
     "text": [
      "Train: 0.9417| Val: 0.6840| Test: 0.6720| Eval Time: 1.0917s\n",
      "Epoch 09| Loss: 0.9382| Acc: 0.8417| Train Time: 0.1959s\n"
     ]
    },
    {
     "name": "stderr",
     "output_type": "stream",
     "text": [
      "Evaluating: 100%|██████████| 9981/9981 [00:01<00:00, 9099.70it/s] \n"
     ]
    },
    {
     "name": "stdout",
     "output_type": "stream",
     "text": [
      "Train: 0.9250| Val: 0.6760| Test: 0.6720| Eval Time: 1.1027s\n",
      "Epoch 10| Loss: 0.6542| Acc: 0.8667| Train Time: 0.2031s\n"
     ]
    },
    {
     "name": "stderr",
     "output_type": "stream",
     "text": [
      "Evaluating: 100%|██████████| 9981/9981 [00:01<00:00, 9057.93it/s] \n"
     ]
    },
    {
     "name": "stdout",
     "output_type": "stream",
     "text": [
      "Train: 0.9250| Val: 0.6720| Test: 0.6690| Eval Time: 1.1744s\n",
      "Epoch 11| Loss: 0.9846| Acc: 0.8417| Train Time: 0.1950s\n"
     ]
    },
    {
     "name": "stderr",
     "output_type": "stream",
     "text": [
      "Evaluating: 100%|██████████| 9981/9981 [00:01<00:00, 9063.55it/s] \n"
     ]
    },
    {
     "name": "stdout",
     "output_type": "stream",
     "text": [
      "Train: 0.9333| Val: 0.6740| Test: 0.6650| Eval Time: 1.1100s\n",
      "Epoch 12| Loss: 0.6599| Acc: 0.8833| Train Time: 0.1983s\n"
     ]
    },
    {
     "name": "stderr",
     "output_type": "stream",
     "text": [
      "Evaluating: 100%|██████████| 9981/9981 [00:01<00:00, 9796.43it/s] \n"
     ]
    },
    {
     "name": "stdout",
     "output_type": "stream",
     "text": [
      "Train: 0.9583| Val: 0.6720| Test: 0.6630| Eval Time: 1.0263s\n",
      "Epoch 13| Loss: 0.7910| Acc: 0.9000| Train Time: 0.1954s\n"
     ]
    },
    {
     "name": "stderr",
     "output_type": "stream",
     "text": [
      "Evaluating: 100%|██████████| 9981/9981 [00:01<00:00, 8794.68it/s] \n"
     ]
    },
    {
     "name": "stdout",
     "output_type": "stream",
     "text": [
      "Train: 0.9583| Val: 0.6700| Test: 0.6650| Eval Time: 1.2057s\n",
      "Epoch 14| Loss: 0.8231| Acc: 0.9500| Train Time: 0.2675s\n"
     ]
    },
    {
     "name": "stderr",
     "output_type": "stream",
     "text": [
      "Evaluating: 100%|██████████| 9981/9981 [00:00<00:00, 10869.62it/s]\n"
     ]
    },
    {
     "name": "stdout",
     "output_type": "stream",
     "text": [
      "Train: 0.9583| Val: 0.6700| Test: 0.6640| Eval Time: 0.9264s\n",
      "Epoch 15| Loss: 1.4322| Acc: 0.8833| Train Time: 0.2671s\n"
     ]
    },
    {
     "name": "stderr",
     "output_type": "stream",
     "text": [
      "Evaluating: 100%|██████████| 9981/9981 [00:01<00:00, 8828.68it/s] \n"
     ]
    },
    {
     "name": "stdout",
     "output_type": "stream",
     "text": [
      "Train: 0.9500| Val: 0.6720| Test: 0.6620| Eval Time: 1.1372s\n",
      "Epoch 16| Loss: 0.4496| Acc: 0.8917| Train Time: 0.2116s\n"
     ]
    },
    {
     "name": "stderr",
     "output_type": "stream",
     "text": [
      "Evaluating: 100%|██████████| 9981/9981 [00:01<00:00, 9920.40it/s] \n"
     ]
    },
    {
     "name": "stdout",
     "output_type": "stream",
     "text": [
      "Train: 0.9583| Val: 0.6780| Test: 0.6710| Eval Time: 1.0148s\n",
      "Epoch 17| Loss: 0.7761| Acc: 0.9417| Train Time: 0.1885s\n"
     ]
    },
    {
     "name": "stderr",
     "output_type": "stream",
     "text": [
      "Evaluating: 100%|██████████| 9981/9981 [00:01<00:00, 8396.90it/s] \n"
     ]
    },
    {
     "name": "stdout",
     "output_type": "stream",
     "text": [
      "Train: 0.9500| Val: 0.6780| Test: 0.6750| Eval Time: 1.1975s\n",
      "Epoch 18| Loss: 0.2437| Acc: 0.9583| Train Time: 0.2001s\n"
     ]
    },
    {
     "name": "stderr",
     "output_type": "stream",
     "text": [
      "Evaluating: 100%|██████████| 9981/9981 [00:01<00:00, 8302.39it/s] \n"
     ]
    },
    {
     "name": "stdout",
     "output_type": "stream",
     "text": [
      "Train: 0.9500| Val: 0.6780| Test: 0.6780| Eval Time: 1.2097s\n",
      "Epoch 19| Loss: 0.5582| Acc: 0.9583| Train Time: 0.1947s\n"
     ]
    },
    {
     "name": "stderr",
     "output_type": "stream",
     "text": [
      "Evaluating: 100%|██████████| 9981/9981 [00:01<00:00, 8346.50it/s] \n"
     ]
    },
    {
     "name": "stdout",
     "output_type": "stream",
     "text": [
      "Train: 0.9333| Val: 0.6780| Test: 0.6740| Eval Time: 1.2041s\n",
      "Epoch 20| Loss: 0.3214| Acc: 0.9667| Train Time: 0.1885s\n"
     ]
    },
    {
     "name": "stderr",
     "output_type": "stream",
     "text": [
      "Evaluating: 100%|██████████| 9981/9981 [00:01<00:00, 9973.90it/s] \n"
     ]
    },
    {
     "name": "stdout",
     "output_type": "stream",
     "text": [
      "Train: 0.9417| Val: 0.6720| Test: 0.6760| Eval Time: 1.0087s\n",
      "Epoch 21| Loss: 0.0852| Acc: 0.9917| Train Time: 0.1903s\n"
     ]
    },
    {
     "name": "stderr",
     "output_type": "stream",
     "text": [
      "Evaluating: 100%|██████████| 9981/9981 [00:01<00:00, 9224.70it/s] \n"
     ]
    },
    {
     "name": "stdout",
     "output_type": "stream",
     "text": [
      "Train: 0.9500| Val: 0.6760| Test: 0.6790| Eval Time: 1.0962s\n",
      "Epoch 22| Loss: 0.3387| Acc: 0.9417| Train Time: 0.1920s\n"
     ]
    },
    {
     "name": "stderr",
     "output_type": "stream",
     "text": [
      "Evaluating: 100%|██████████| 9981/9981 [00:01<00:00, 9847.96it/s] \n"
     ]
    },
    {
     "name": "stdout",
     "output_type": "stream",
     "text": [
      "Train: 0.9500| Val: 0.6740| Test: 0.6760| Eval Time: 1.0218s\n",
      "Epoch 23| Loss: 0.6849| Acc: 0.9333| Train Time: 0.1983s\n"
     ]
    },
    {
     "name": "stderr",
     "output_type": "stream",
     "text": [
      "Evaluating: 100%|██████████| 9981/9981 [00:00<00:00, 10160.58it/s]\n"
     ]
    },
    {
     "name": "stdout",
     "output_type": "stream",
     "text": [
      "Train: 0.9500| Val: 0.6740| Test: 0.6720| Eval Time: 0.9907s\n",
      "Epoch 24| Loss: 0.5584| Acc: 0.9500| Train Time: 0.2020s\n"
     ]
    },
    {
     "name": "stderr",
     "output_type": "stream",
     "text": [
      "Evaluating: 100%|██████████| 9981/9981 [00:01<00:00, 9012.86it/s] \n"
     ]
    },
    {
     "name": "stdout",
     "output_type": "stream",
     "text": [
      "Train: 0.9500| Val: 0.6740| Test: 0.6720| Eval Time: 1.1146s\n",
      "Epoch 25| Loss: 0.5172| Acc: 0.9250| Train Time: 0.1253s\n"
     ]
    },
    {
     "name": "stderr",
     "output_type": "stream",
     "text": [
      "Evaluating: 100%|██████████| 9981/9981 [00:01<00:00, 9064.71it/s] \n"
     ]
    },
    {
     "name": "stdout",
     "output_type": "stream",
     "text": [
      "Train: 0.9583| Val: 0.6800| Test: 0.6750| Eval Time: 1.1068s\n",
      "Epoch 26| Loss: 1.9876| Acc: 0.9417| Train Time: 0.1959s\n"
     ]
    },
    {
     "name": "stderr",
     "output_type": "stream",
     "text": [
      "Evaluating: 100%|██████████| 9981/9981 [00:00<00:00, 11462.55it/s]\n"
     ]
    },
    {
     "name": "stdout",
     "output_type": "stream",
     "text": [
      "Train: 0.9667| Val: 0.6820| Test: 0.6770| Eval Time: 0.8764s\n",
      "Epoch 27| Loss: 0.1273| Acc: 0.9833| Train Time: 0.1239s\n"
     ]
    },
    {
     "name": "stderr",
     "output_type": "stream",
     "text": [
      "Evaluating: 100%|██████████| 9981/9981 [00:01<00:00, 8376.88it/s] \n"
     ]
    },
    {
     "name": "stdout",
     "output_type": "stream",
     "text": [
      "Train: 0.9667| Val: 0.6840| Test: 0.6750| Eval Time: 1.1986s\n",
      "Epoch 28| Loss: 0.5165| Acc: 0.9667| Train Time: 0.2120s\n"
     ]
    },
    {
     "name": "stderr",
     "output_type": "stream",
     "text": [
      "Evaluating: 100%|██████████| 9981/9981 [00:00<00:00, 10163.49it/s]\n"
     ]
    },
    {
     "name": "stdout",
     "output_type": "stream",
     "text": [
      "Train: 0.9667| Val: 0.6820| Test: 0.6730| Eval Time: 0.9883s\n",
      "Epoch 29| Loss: 0.1186| Acc: 0.9750| Train Time: 0.2108s\n"
     ]
    },
    {
     "name": "stderr",
     "output_type": "stream",
     "text": [
      "Evaluating: 100%|██████████| 9981/9981 [00:01<00:00, 9428.96it/s] \n"
     ]
    },
    {
     "name": "stdout",
     "output_type": "stream",
     "text": [
      "Train: 0.9583| Val: 0.6860| Test: 0.6740| Eval Time: 1.0697s\n",
      "Epoch 30| Loss: 0.3287| Acc: 0.9500| Train Time: 0.1939s\n"
     ]
    },
    {
     "name": "stderr",
     "output_type": "stream",
     "text": [
      "Evaluating: 100%|██████████| 9981/9981 [00:01<00:00, 9000.40it/s] \n"
     ]
    },
    {
     "name": "stdout",
     "output_type": "stream",
     "text": [
      "Train: 0.9667| Val: 0.6860| Test: 0.6710| Eval Time: 1.1185s\n",
      "Epoch 31| Loss: 0.0899| Acc: 0.9750| Train Time: 0.1933s\n"
     ]
    },
    {
     "name": "stderr",
     "output_type": "stream",
     "text": [
      "Evaluating: 100%|██████████| 9981/9981 [00:01<00:00, 8976.66it/s] \n"
     ]
    },
    {
     "name": "stdout",
     "output_type": "stream",
     "text": [
      "Train: 0.9750| Val: 0.6920| Test: 0.6760| Eval Time: 1.1174s\n",
      "Epoch 32| Loss: 0.4283| Acc: 0.9333| Train Time: 0.2005s\n"
     ]
    },
    {
     "name": "stderr",
     "output_type": "stream",
     "text": [
      "Evaluating: 100%|██████████| 9981/9981 [00:01<00:00, 8918.38it/s] \n"
     ]
    },
    {
     "name": "stdout",
     "output_type": "stream",
     "text": [
      "Train: 0.9750| Val: 0.6900| Test: 0.6760| Eval Time: 1.1888s\n",
      "Epoch 33| Loss: 1.3688| Acc: 0.9417| Train Time: 0.1980s\n"
     ]
    },
    {
     "name": "stderr",
     "output_type": "stream",
     "text": [
      "Evaluating: 100%|██████████| 9981/9981 [00:00<00:00, 10123.31it/s]\n"
     ]
    },
    {
     "name": "stdout",
     "output_type": "stream",
     "text": [
      "Train: 0.9750| Val: 0.6900| Test: 0.6750| Eval Time: 0.9918s\n",
      "Epoch 34| Loss: 0.0970| Acc: 0.9667| Train Time: 0.1976s\n"
     ]
    },
    {
     "name": "stderr",
     "output_type": "stream",
     "text": [
      "Evaluating: 100%|██████████| 9981/9981 [00:00<00:00, 10118.43it/s]\n"
     ]
    },
    {
     "name": "stdout",
     "output_type": "stream",
     "text": [
      "Train: 0.9667| Val: 0.6880| Test: 0.6770| Eval Time: 0.9994s\n",
      "Epoch 35| Loss: 0.1515| Acc: 0.9667| Train Time: 0.1889s\n"
     ]
    },
    {
     "name": "stderr",
     "output_type": "stream",
     "text": [
      "Evaluating: 100%|██████████| 9981/9981 [00:01<00:00, 9063.67it/s] \n"
     ]
    },
    {
     "name": "stdout",
     "output_type": "stream",
     "text": [
      "Train: 0.9583| Val: 0.6860| Test: 0.6790| Eval Time: 1.1137s\n",
      "Epoch 36| Loss: 0.7603| Acc: 0.9583| Train Time: 0.1952s\n"
     ]
    },
    {
     "name": "stderr",
     "output_type": "stream",
     "text": [
      "Evaluating: 100%|██████████| 9981/9981 [00:01<00:00, 9084.42it/s] \n"
     ]
    },
    {
     "name": "stdout",
     "output_type": "stream",
     "text": [
      "Train: 0.9500| Val: 0.6880| Test: 0.6770| Eval Time: 1.1074s\n",
      "Epoch 37| Loss: 1.2267| Acc: 0.9583| Train Time: 0.1963s\n"
     ]
    },
    {
     "name": "stderr",
     "output_type": "stream",
     "text": [
      "Evaluating: 100%|██████████| 9981/9981 [00:01<00:00, 9032.22it/s] \n"
     ]
    },
    {
     "name": "stdout",
     "output_type": "stream",
     "text": [
      "Train: 0.9500| Val: 0.6880| Test: 0.6770| Eval Time: 1.1118s\n",
      "Epoch 38| Loss: 0.0438| Acc: 0.9750| Train Time: 0.2643s\n"
     ]
    },
    {
     "name": "stderr",
     "output_type": "stream",
     "text": [
      "Evaluating: 100%|██████████| 9981/9981 [00:01<00:00, 8867.56it/s] \n"
     ]
    },
    {
     "name": "stdout",
     "output_type": "stream",
     "text": [
      "Train: 0.9500| Val: 0.6840| Test: 0.6780| Eval Time: 1.1328s\n",
      "Epoch 39| Loss: 0.4898| Acc: 0.9667| Train Time: 0.1983s\n"
     ]
    },
    {
     "name": "stderr",
     "output_type": "stream",
     "text": [
      "Evaluating: 100%|██████████| 9981/9981 [00:00<00:00, 10720.24it/s]\n"
     ]
    },
    {
     "name": "stdout",
     "output_type": "stream",
     "text": [
      "Train: 0.9500| Val: 0.6740| Test: 0.6730| Eval Time: 1.0734s\n",
      "Epoch 40| Loss: 0.0387| Acc: 0.9750| Train Time: 0.1924s\n"
     ]
    },
    {
     "name": "stderr",
     "output_type": "stream",
     "text": [
      "Evaluating: 100%|██████████| 9981/9981 [00:01<00:00, 9755.43it/s] \n"
     ]
    },
    {
     "name": "stdout",
     "output_type": "stream",
     "text": [
      "Train: 0.9667| Val: 0.6640| Test: 0.6690| Eval Time: 1.0325s\n",
      "Epoch 41| Loss: 0.2942| Acc: 0.9833| Train Time: 0.1997s\n"
     ]
    },
    {
     "name": "stderr",
     "output_type": "stream",
     "text": [
      "Evaluating: 100%|██████████| 9981/9981 [00:01<00:00, 9181.32it/s] \n"
     ]
    },
    {
     "name": "stdout",
     "output_type": "stream",
     "text": [
      "Train: 0.9667| Val: 0.6660| Test: 0.6650| Eval Time: 1.0936s\n",
      "Epoch 42| Loss: 0.3368| Acc: 0.9667| Train Time: 0.1976s\n"
     ]
    },
    {
     "name": "stderr",
     "output_type": "stream",
     "text": [
      "Evaluating: 100%|██████████| 9981/9981 [00:01<00:00, 9052.05it/s] \n"
     ]
    },
    {
     "name": "stdout",
     "output_type": "stream",
     "text": [
      "Train: 0.9333| Val: 0.6660| Test: 0.6660| Eval Time: 1.1739s\n",
      "Epoch 43| Loss: 0.1617| Acc: 0.9667| Train Time: 0.2052s\n"
     ]
    },
    {
     "name": "stderr",
     "output_type": "stream",
     "text": [
      "Evaluating: 100%|██████████| 9981/9981 [00:01<00:00, 9730.24it/s] \n"
     ]
    },
    {
     "name": "stdout",
     "output_type": "stream",
     "text": [
      "Train: 0.9417| Val: 0.6660| Test: 0.6610| Eval Time: 1.1012s\n",
      "Epoch 44| Loss: 0.5589| Acc: 0.9750| Train Time: 0.2011s\n"
     ]
    },
    {
     "name": "stderr",
     "output_type": "stream",
     "text": [
      "Evaluating: 100%|██████████| 9981/9981 [00:01<00:00, 8962.64it/s] \n"
     ]
    },
    {
     "name": "stdout",
     "output_type": "stream",
     "text": [
      "Train: 0.9667| Val: 0.6640| Test: 0.6580| Eval Time: 1.1230s\n",
      "Epoch 45| Loss: 0.3622| Acc: 0.9750| Train Time: 0.2644s\n"
     ]
    },
    {
     "name": "stderr",
     "output_type": "stream",
     "text": [
      "Evaluating: 100%|██████████| 9981/9981 [00:01<00:00, 8891.14it/s] \n"
     ]
    },
    {
     "name": "stdout",
     "output_type": "stream",
     "text": [
      "Train: 0.9750| Val: 0.6660| Test: 0.6600| Eval Time: 1.1292s\n",
      "Epoch 46| Loss: 0.3513| Acc: 0.9750| Train Time: 0.2012s\n"
     ]
    },
    {
     "name": "stderr",
     "output_type": "stream",
     "text": [
      "Evaluating: 100%|██████████| 9981/9981 [00:01<00:00, 8381.06it/s] \n"
     ]
    },
    {
     "name": "stdout",
     "output_type": "stream",
     "text": [
      "Train: 0.9750| Val: 0.6680| Test: 0.6580| Eval Time: 1.1972s\n",
      "Epoch 47| Loss: 0.1330| Acc: 0.9833| Train Time: 0.1870s\n"
     ]
    },
    {
     "name": "stderr",
     "output_type": "stream",
     "text": [
      "Evaluating: 100%|██████████| 9981/9981 [00:01<00:00, 9053.83it/s] \n"
     ]
    },
    {
     "name": "stdout",
     "output_type": "stream",
     "text": [
      "Train: 0.9833| Val: 0.6720| Test: 0.6600| Eval Time: 1.1102s\n",
      "Epoch 48| Loss: 0.0514| Acc: 0.9833| Train Time: 0.2074s\n"
     ]
    },
    {
     "name": "stderr",
     "output_type": "stream",
     "text": [
      "Evaluating: 100%|██████████| 9981/9981 [00:01<00:00, 8258.30it/s] \n"
     ]
    },
    {
     "name": "stdout",
     "output_type": "stream",
     "text": [
      "Train: 0.9750| Val: 0.6720| Test: 0.6610| Eval Time: 1.2792s\n",
      "Epoch 49| Loss: 0.0221| Acc: 0.9833| Train Time: 0.1866s\n"
     ]
    },
    {
     "name": "stderr",
     "output_type": "stream",
     "text": [
      "Evaluating: 100%|██████████| 9981/9981 [00:00<00:00, 12154.38it/s]\n"
     ]
    },
    {
     "name": "stdout",
     "output_type": "stream",
     "text": [
      "Train: 0.9750| Val: 0.6740| Test: 0.6610| Eval Time: 0.8324s\n",
      "Epoch 50| Loss: 0.2490| Acc: 0.9667| Train Time: 0.2638s\n"
     ]
    },
    {
     "name": "stderr",
     "output_type": "stream",
     "text": [
      "Evaluating: 100%|██████████| 9981/9981 [00:00<00:00, 12041.91it/s]\n"
     ]
    },
    {
     "name": "stdout",
     "output_type": "stream",
     "text": [
      "Train: 0.9667| Val: 0.6620| Test: 0.6660| Eval Time: 0.8987s\n",
      "Epoch 51| Loss: 0.1506| Acc: 0.9750| Train Time: 0.1285s\n"
     ]
    },
    {
     "name": "stderr",
     "output_type": "stream",
     "text": [
      "Evaluating: 100%|██████████| 9981/9981 [00:01<00:00, 9907.82it/s] \n"
     ]
    },
    {
     "name": "stdout",
     "output_type": "stream",
     "text": [
      "Train: 0.9500| Val: 0.6640| Test: 0.6630| Eval Time: 1.0781s\n",
      "Epoch 52| Loss: 0.1085| Acc: 0.9750| Train Time: 0.1980s\n"
     ]
    },
    {
     "name": "stderr",
     "output_type": "stream",
     "text": [
      "Evaluating: 100%|██████████| 9981/9981 [00:01<00:00, 9196.60it/s] \n"
     ]
    },
    {
     "name": "stdout",
     "output_type": "stream",
     "text": [
      "Train: 0.9667| Val: 0.6600| Test: 0.6620| Eval Time: 1.1009s\n",
      "Epoch 53| Loss: 1.3592| Acc: 0.9667| Train Time: 0.1913s\n"
     ]
    },
    {
     "name": "stderr",
     "output_type": "stream",
     "text": [
      "Evaluating: 100%|██████████| 9981/9981 [00:01<00:00, 8854.79it/s] \n"
     ]
    },
    {
     "name": "stdout",
     "output_type": "stream",
     "text": [
      "Train: 0.9667| Val: 0.6620| Test: 0.6630| Eval Time: 1.2006s\n",
      "Epoch 54| Loss: 0.1468| Acc: 0.9750| Train Time: 0.1317s\n"
     ]
    },
    {
     "name": "stderr",
     "output_type": "stream",
     "text": [
      "Evaluating: 100%|██████████| 9981/9981 [00:01<00:00, 8346.26it/s] \n"
     ]
    },
    {
     "name": "stdout",
     "output_type": "stream",
     "text": [
      "Train: 0.9667| Val: 0.6480| Test: 0.6500| Eval Time: 1.2745s\n",
      "Epoch 55| Loss: 0.3596| Acc: 0.9750| Train Time: 0.1899s\n"
     ]
    },
    {
     "name": "stderr",
     "output_type": "stream",
     "text": [
      "Evaluating: 100%|██████████| 9981/9981 [00:01<00:00, 8279.68it/s] \n"
     ]
    },
    {
     "name": "stdout",
     "output_type": "stream",
     "text": [
      "Train: 0.9667| Val: 0.6360| Test: 0.6440| Eval Time: 1.2180s\n",
      "Epoch 56| Loss: 0.2614| Acc: 0.9750| Train Time: 0.1975s\n"
     ]
    },
    {
     "name": "stderr",
     "output_type": "stream",
     "text": [
      "Evaluating: 100%|██████████| 9981/9981 [00:01<00:00, 9832.80it/s] \n"
     ]
    },
    {
     "name": "stdout",
     "output_type": "stream",
     "text": [
      "Train: 0.9667| Val: 0.6400| Test: 0.6410| Eval Time: 1.0864s\n",
      "Epoch 57| Loss: 0.1439| Acc: 0.9833| Train Time: 0.1353s\n"
     ]
    },
    {
     "name": "stderr",
     "output_type": "stream",
     "text": [
      "Evaluating: 100%|██████████| 9981/9981 [00:01<00:00, 9108.11it/s] \n"
     ]
    },
    {
     "name": "stdout",
     "output_type": "stream",
     "text": [
      "Train: 0.9583| Val: 0.6460| Test: 0.6410| Eval Time: 1.1651s\n",
      "Epoch 58| Loss: 0.3357| Acc: 0.9667| Train Time: 0.1944s\n"
     ]
    },
    {
     "name": "stderr",
     "output_type": "stream",
     "text": [
      "Evaluating: 100%|██████████| 9981/9981 [00:01<00:00, 9660.99it/s] \n"
     ]
    },
    {
     "name": "stdout",
     "output_type": "stream",
     "text": [
      "Train: 0.9583| Val: 0.6440| Test: 0.6440| Eval Time: 1.1031s\n",
      "Epoch 59| Loss: 0.0513| Acc: 0.9833| Train Time: 0.1290s\n"
     ]
    },
    {
     "name": "stderr",
     "output_type": "stream",
     "text": [
      "Evaluating: 100%|██████████| 9981/9981 [00:01<00:00, 9015.07it/s] \n"
     ]
    },
    {
     "name": "stdout",
     "output_type": "stream",
     "text": [
      "Train: 0.9667| Val: 0.6500| Test: 0.6480| Eval Time: 1.1817s\n",
      "Epoch 60| Loss: 0.3332| Acc: 0.9750| Train Time: 0.2068s\n"
     ]
    },
    {
     "name": "stderr",
     "output_type": "stream",
     "text": [
      "Evaluating: 100%|██████████| 9981/9981 [00:01<00:00, 9898.37it/s] \n"
     ]
    },
    {
     "name": "stdout",
     "output_type": "stream",
     "text": [
      "Train: 0.9750| Val: 0.6560| Test: 0.6530| Eval Time: 1.0135s\n",
      "Epoch 61| Loss: 0.3300| Acc: 0.9750| Train Time: 0.2669s\n"
     ]
    },
    {
     "name": "stderr",
     "output_type": "stream",
     "text": [
      "Evaluating: 100%|██████████| 9981/9981 [00:01<00:00, 8309.21it/s] \n"
     ]
    },
    {
     "name": "stdout",
     "output_type": "stream",
     "text": [
      "Train: 0.9750| Val: 0.6620| Test: 0.6610| Eval Time: 1.2095s\n",
      "\n",
      "Result of  4. run| Train: 0.9750| Val: 0.6920| Test: 0.6760\n",
      "\n",
      "Run 05 for GatV1_K5_D3_s and CiteSeer:\n"
     ]
    },
    {
     "name": "stderr",
     "output_type": "stream",
     "text": [
      "Epoch 01: 100%|██████████| 120/120 [00:00<00:00, 598.64it/s]\n"
     ]
    },
    {
     "name": "stdout",
     "output_type": "stream",
     "text": [
      "Epoch 01| Loss: 2.4366| Acc: 0.1000| Train Time: 0.2051s\n"
     ]
    },
    {
     "name": "stderr",
     "output_type": "stream",
     "text": [
      "Evaluating: 100%|██████████| 9981/9981 [00:01<00:00, 9878.14it/s] \n"
     ]
    },
    {
     "name": "stdout",
     "output_type": "stream",
     "text": [
      "Train: 0.7167| Val: 0.6220| Test: 0.6070| Eval Time: 1.0870s\n",
      "Epoch 02| Loss: 1.7181| Acc: 0.5917| Train Time: 0.1950s\n"
     ]
    },
    {
     "name": "stderr",
     "output_type": "stream",
     "text": [
      "Evaluating: 100%|██████████| 9981/9981 [00:01<00:00, 8901.59it/s] \n"
     ]
    },
    {
     "name": "stdout",
     "output_type": "stream",
     "text": [
      "Train: 0.7917| Val: 0.6820| Test: 0.6770| Eval Time: 1.1298s\n",
      "Epoch 03| Loss: 2.1262| Acc: 0.6583| Train Time: 0.2644s\n"
     ]
    },
    {
     "name": "stderr",
     "output_type": "stream",
     "text": [
      "Evaluating: 100%|██████████| 9981/9981 [00:00<00:00, 9999.89it/s] \n"
     ]
    },
    {
     "name": "stdout",
     "output_type": "stream",
     "text": [
      "Train: 0.8667| Val: 0.6540| Test: 0.6400| Eval Time: 1.0118s\n",
      "Epoch 04| Loss: 1.3758| Acc: 0.7083| Train Time: 0.1997s\n"
     ]
    },
    {
     "name": "stderr",
     "output_type": "stream",
     "text": [
      "Evaluating: 100%|██████████| 9981/9981 [00:00<00:00, 11005.42it/s]\n"
     ]
    },
    {
     "name": "stdout",
     "output_type": "stream",
     "text": [
      "Train: 0.8750| Val: 0.6480| Test: 0.6340| Eval Time: 0.9127s\n",
      "Epoch 05| Loss: 1.3548| Acc: 0.7083| Train Time: 0.2020s\n"
     ]
    },
    {
     "name": "stderr",
     "output_type": "stream",
     "text": [
      "Evaluating: 100%|██████████| 9981/9981 [00:01<00:00, 9071.20it/s] \n"
     ]
    },
    {
     "name": "stdout",
     "output_type": "stream",
     "text": [
      "Train: 0.8917| Val: 0.6540| Test: 0.6470| Eval Time: 1.1677s\n",
      "Epoch 06| Loss: 1.2468| Acc: 0.7250| Train Time: 0.1353s\n"
     ]
    },
    {
     "name": "stderr",
     "output_type": "stream",
     "text": [
      "Evaluating: 100%|██████████| 9981/9981 [00:01<00:00, 8923.49it/s] \n"
     ]
    },
    {
     "name": "stdout",
     "output_type": "stream",
     "text": [
      "Train: 0.8917| Val: 0.6780| Test: 0.6490| Eval Time: 1.1858s\n",
      "Epoch 07| Loss: 0.8644| Acc: 0.8250| Train Time: 0.1958s\n"
     ]
    },
    {
     "name": "stderr",
     "output_type": "stream",
     "text": [
      "Evaluating: 100%|██████████| 9981/9981 [00:01<00:00, 8276.58it/s] \n"
     ]
    },
    {
     "name": "stdout",
     "output_type": "stream",
     "text": [
      "Train: 0.9083| Val: 0.6640| Test: 0.6710| Eval Time: 1.2120s\n",
      "Epoch 08| Loss: 0.7096| Acc: 0.8667| Train Time: 0.2041s\n"
     ]
    },
    {
     "name": "stderr",
     "output_type": "stream",
     "text": [
      "Evaluating: 100%|██████████| 9981/9981 [00:01<00:00, 9042.09it/s] \n"
     ]
    },
    {
     "name": "stdout",
     "output_type": "stream",
     "text": [
      "Train: 0.9083| Val: 0.6420| Test: 0.6610| Eval Time: 1.1738s\n",
      "Epoch 09| Loss: 0.5295| Acc: 0.8667| Train Time: 0.1966s\n"
     ]
    },
    {
     "name": "stderr",
     "output_type": "stream",
     "text": [
      "Evaluating: 100%|██████████| 9981/9981 [00:01<00:00, 8295.75it/s] \n"
     ]
    },
    {
     "name": "stdout",
     "output_type": "stream",
     "text": [
      "Train: 0.9000| Val: 0.6480| Test: 0.6470| Eval Time: 1.2126s\n",
      "Epoch 10| Loss: 1.0306| Acc: 0.8500| Train Time: 0.1996s\n"
     ]
    },
    {
     "name": "stderr",
     "output_type": "stream",
     "text": [
      "Evaluating: 100%|██████████| 9981/9981 [00:01<00:00, 8992.05it/s] \n"
     ]
    },
    {
     "name": "stdout",
     "output_type": "stream",
     "text": [
      "Train: 0.8917| Val: 0.6380| Test: 0.6520| Eval Time: 1.1164s\n",
      "Epoch 11| Loss: 0.5494| Acc: 0.8917| Train Time: 0.2615s\n"
     ]
    },
    {
     "name": "stderr",
     "output_type": "stream",
     "text": [
      "Evaluating: 100%|██████████| 9981/9981 [00:01<00:00, 8833.96it/s] \n"
     ]
    },
    {
     "name": "stdout",
     "output_type": "stream",
     "text": [
      "Train: 0.9167| Val: 0.6480| Test: 0.6550| Eval Time: 1.2036s\n",
      "Epoch 12| Loss: 0.5631| Acc: 0.9083| Train Time: 0.2098s\n"
     ]
    },
    {
     "name": "stderr",
     "output_type": "stream",
     "text": [
      "Evaluating: 100%|██████████| 9981/9981 [00:01<00:00, 9177.08it/s] \n"
     ]
    },
    {
     "name": "stdout",
     "output_type": "stream",
     "text": [
      "Train: 0.9083| Val: 0.6640| Test: 0.6660| Eval Time: 1.0987s\n",
      "Epoch 13| Loss: 0.6659| Acc: 0.9000| Train Time: 0.2091s\n"
     ]
    },
    {
     "name": "stderr",
     "output_type": "stream",
     "text": [
      "Evaluating: 100%|██████████| 9981/9981 [00:00<00:00, 10102.38it/s]\n"
     ]
    },
    {
     "name": "stdout",
     "output_type": "stream",
     "text": [
      "Train: 0.9167| Val: 0.6720| Test: 0.6700| Eval Time: 0.9968s\n",
      "Epoch 14| Loss: 0.3726| Acc: 0.9500| Train Time: 0.2033s\n"
     ]
    },
    {
     "name": "stderr",
     "output_type": "stream",
     "text": [
      "Evaluating: 100%|██████████| 9981/9981 [00:00<00:00, 11172.02it/s]\n"
     ]
    },
    {
     "name": "stdout",
     "output_type": "stream",
     "text": [
      "Train: 0.9167| Val: 0.6700| Test: 0.6720| Eval Time: 0.9017s\n",
      "Epoch 15| Loss: 0.2080| Acc: 0.9417| Train Time: 0.1927s\n"
     ]
    },
    {
     "name": "stderr",
     "output_type": "stream",
     "text": [
      "Evaluating: 100%|██████████| 9981/9981 [00:01<00:00, 9849.21it/s] \n"
     ]
    },
    {
     "name": "stdout",
     "output_type": "stream",
     "text": [
      "Train: 0.9167| Val: 0.6680| Test: 0.6740| Eval Time: 1.0870s\n",
      "Epoch 16| Loss: 0.2417| Acc: 0.9333| Train Time: 0.1903s\n"
     ]
    },
    {
     "name": "stderr",
     "output_type": "stream",
     "text": [
      "Evaluating: 100%|██████████| 9981/9981 [00:01<00:00, 8243.92it/s] \n"
     ]
    },
    {
     "name": "stdout",
     "output_type": "stream",
     "text": [
      "Train: 0.9250| Val: 0.6720| Test: 0.6770| Eval Time: 1.2222s\n",
      "Epoch 17| Loss: 0.4027| Acc: 0.9500| Train Time: 0.2055s\n"
     ]
    },
    {
     "name": "stderr",
     "output_type": "stream",
     "text": [
      "Evaluating: 100%|██████████| 9981/9981 [00:01<00:00, 9169.63it/s] \n"
     ]
    },
    {
     "name": "stdout",
     "output_type": "stream",
     "text": [
      "Train: 0.9250| Val: 0.6800| Test: 0.6800| Eval Time: 1.0951s\n",
      "Epoch 18| Loss: 0.3995| Acc: 0.9667| Train Time: 0.1905s\n"
     ]
    },
    {
     "name": "stderr",
     "output_type": "stream",
     "text": [
      "Evaluating: 100%|██████████| 9981/9981 [00:01<00:00, 9175.88it/s] \n"
     ]
    },
    {
     "name": "stdout",
     "output_type": "stream",
     "text": [
      "Train: 0.9333| Val: 0.6800| Test: 0.6770| Eval Time: 1.0943s\n",
      "Epoch 19| Loss: 0.4203| Acc: 0.9667| Train Time: 0.1241s\n"
     ]
    },
    {
     "name": "stderr",
     "output_type": "stream",
     "text": [
      "Evaluating: 100%|██████████| 9981/9981 [00:01<00:00, 8955.14it/s] \n"
     ]
    },
    {
     "name": "stdout",
     "output_type": "stream",
     "text": [
      "Train: 0.9417| Val: 0.6940| Test: 0.6740| Eval Time: 1.1831s\n",
      "Epoch 20| Loss: 0.6789| Acc: 0.9333| Train Time: 0.1768s\n"
     ]
    },
    {
     "name": "stderr",
     "output_type": "stream",
     "text": [
      "Evaluating: 100%|██████████| 9981/9981 [00:01<00:00, 9714.39it/s] \n"
     ]
    },
    {
     "name": "stdout",
     "output_type": "stream",
     "text": [
      "Train: 0.9583| Val: 0.6860| Test: 0.6710| Eval Time: 1.0331s\n",
      "Epoch 21| Loss: 0.2817| Acc: 0.9500| Train Time: 0.2725s\n"
     ]
    },
    {
     "name": "stderr",
     "output_type": "stream",
     "text": [
      "Evaluating: 100%|██████████| 9981/9981 [00:01<00:00, 9753.64it/s] \n"
     ]
    },
    {
     "name": "stdout",
     "output_type": "stream",
     "text": [
      "Train: 0.9667| Val: 0.6900| Test: 0.6720| Eval Time: 1.0988s\n",
      "Epoch 22| Loss: 0.1048| Acc: 0.9667| Train Time: 0.1984s\n"
     ]
    },
    {
     "name": "stderr",
     "output_type": "stream",
     "text": [
      "Evaluating: 100%|██████████| 9981/9981 [00:01<00:00, 9016.18it/s] \n"
     ]
    },
    {
     "name": "stdout",
     "output_type": "stream",
     "text": [
      "Train: 0.9833| Val: 0.6840| Test: 0.6700| Eval Time: 1.1181s\n",
      "Epoch 23| Loss: 0.2141| Acc: 0.9667| Train Time: 0.1910s\n"
     ]
    },
    {
     "name": "stderr",
     "output_type": "stream",
     "text": [
      "Evaluating: 100%|██████████| 9981/9981 [00:01<00:00, 9056.19it/s] \n"
     ]
    },
    {
     "name": "stdout",
     "output_type": "stream",
     "text": [
      "Train: 0.9750| Val: 0.6760| Test: 0.6690| Eval Time: 1.1091s\n",
      "Epoch 24| Loss: 0.0599| Acc: 0.9750| Train Time: 0.1840s\n"
     ]
    },
    {
     "name": "stderr",
     "output_type": "stream",
     "text": [
      "Evaluating: 100%|██████████| 9981/9981 [00:01<00:00, 9770.67it/s] \n"
     ]
    },
    {
     "name": "stdout",
     "output_type": "stream",
     "text": [
      "Train: 0.9583| Val: 0.6780| Test: 0.6730| Eval Time: 1.0980s\n",
      "Epoch 25| Loss: 0.0890| Acc: 0.9750| Train Time: 0.1955s\n"
     ]
    },
    {
     "name": "stderr",
     "output_type": "stream",
     "text": [
      "Evaluating: 100%|██████████| 9981/9981 [00:01<00:00, 9029.96it/s] \n"
     ]
    },
    {
     "name": "stdout",
     "output_type": "stream",
     "text": [
      "Train: 0.9667| Val: 0.6760| Test: 0.6690| Eval Time: 1.1149s\n",
      "Epoch 26| Loss: 0.1040| Acc: 0.9833| Train Time: 0.1912s\n"
     ]
    },
    {
     "name": "stderr",
     "output_type": "stream",
     "text": [
      "Evaluating: 100%|██████████| 9981/9981 [00:01<00:00, 9238.46it/s] \n"
     ]
    },
    {
     "name": "stdout",
     "output_type": "stream",
     "text": [
      "Train: 0.9667| Val: 0.6740| Test: 0.6670| Eval Time: 1.0902s\n",
      "Epoch 27| Loss: 0.2228| Acc: 0.9500| Train Time: 0.1943s\n"
     ]
    },
    {
     "name": "stderr",
     "output_type": "stream",
     "text": [
      "Evaluating: 100%|██████████| 9981/9981 [00:01<00:00, 8928.35it/s] \n"
     ]
    },
    {
     "name": "stdout",
     "output_type": "stream",
     "text": [
      "Train: 0.9667| Val: 0.6800| Test: 0.6690| Eval Time: 1.1278s\n",
      "Epoch 28| Loss: 0.1939| Acc: 0.9583| Train Time: 0.2102s\n"
     ]
    },
    {
     "name": "stderr",
     "output_type": "stream",
     "text": [
      "Evaluating: 100%|██████████| 9981/9981 [00:01<00:00, 9247.72it/s] \n"
     ]
    },
    {
     "name": "stdout",
     "output_type": "stream",
     "text": [
      "Train: 0.9833| Val: 0.6740| Test: 0.6730| Eval Time: 1.0858s\n",
      "Epoch 29| Loss: 0.2953| Acc: 0.9500| Train Time: 0.2077s\n"
     ]
    },
    {
     "name": "stderr",
     "output_type": "stream",
     "text": [
      "Evaluating: 100%|██████████| 9981/9981 [00:00<00:00, 11132.16it/s]\n"
     ]
    },
    {
     "name": "stdout",
     "output_type": "stream",
     "text": [
      "Train: 0.9583| Val: 0.6760| Test: 0.6740| Eval Time: 0.9017s\n",
      "Epoch 30| Loss: 0.0729| Acc: 0.9750| Train Time: 0.2000s\n"
     ]
    },
    {
     "name": "stderr",
     "output_type": "stream",
     "text": [
      "Evaluating: 100%|██████████| 9981/9981 [00:01<00:00, 9709.74it/s] \n"
     ]
    },
    {
     "name": "stdout",
     "output_type": "stream",
     "text": [
      "Train: 0.9583| Val: 0.6740| Test: 0.6760| Eval Time: 1.1040s\n",
      "Epoch 31| Loss: 0.3659| Acc: 0.9583| Train Time: 0.2002s\n"
     ]
    },
    {
     "name": "stderr",
     "output_type": "stream",
     "text": [
      "Evaluating: 100%|██████████| 9981/9981 [00:01<00:00, 9766.72it/s] \n"
     ]
    },
    {
     "name": "stdout",
     "output_type": "stream",
     "text": [
      "Train: 0.9417| Val: 0.6740| Test: 0.6750| Eval Time: 1.0914s\n",
      "Epoch 32| Loss: 0.1303| Acc: 0.9750| Train Time: 0.1223s\n"
     ]
    },
    {
     "name": "stderr",
     "output_type": "stream",
     "text": [
      "Evaluating: 100%|██████████| 9981/9981 [00:01<00:00, 7790.91it/s] \n"
     ]
    },
    {
     "name": "stdout",
     "output_type": "stream",
     "text": [
      "Train: 0.9250| Val: 0.6760| Test: 0.6740| Eval Time: 1.2948s\n",
      "Epoch 33| Loss: 0.2326| Acc: 0.9750| Train Time: 0.1883s\n"
     ]
    },
    {
     "name": "stderr",
     "output_type": "stream",
     "text": [
      "Evaluating: 100%|██████████| 9981/9981 [00:01<00:00, 8954.61it/s] \n"
     ]
    },
    {
     "name": "stdout",
     "output_type": "stream",
     "text": [
      "Train: 0.9250| Val: 0.6740| Test: 0.6750| Eval Time: 1.1229s\n",
      "Epoch 34| Loss: 0.1614| Acc: 0.9583| Train Time: 0.2685s\n"
     ]
    },
    {
     "name": "stderr",
     "output_type": "stream",
     "text": [
      "Evaluating: 100%|██████████| 9981/9981 [00:01<00:00, 9625.31it/s] \n"
     ]
    },
    {
     "name": "stdout",
     "output_type": "stream",
     "text": [
      "Train: 0.9250| Val: 0.6720| Test: 0.6740| Eval Time: 1.1181s\n",
      "Epoch 35| Loss: 0.2742| Acc: 0.9583| Train Time: 0.1820s\n"
     ]
    },
    {
     "name": "stderr",
     "output_type": "stream",
     "text": [
      "Evaluating: 100%|██████████| 9981/9981 [00:00<00:00, 10750.88it/s]\n"
     ]
    },
    {
     "name": "stdout",
     "output_type": "stream",
     "text": [
      "Train: 0.9167| Val: 0.6740| Test: 0.6720| Eval Time: 0.9352s\n",
      "Epoch 36| Loss: 0.5566| Acc: 0.9583| Train Time: 0.1850s\n"
     ]
    },
    {
     "name": "stderr",
     "output_type": "stream",
     "text": [
      "Evaluating: 100%|██████████| 9981/9981 [00:01<00:00, 8258.68it/s] \n"
     ]
    },
    {
     "name": "stdout",
     "output_type": "stream",
     "text": [
      "Train: 0.9333| Val: 0.6720| Test: 0.6700| Eval Time: 1.2800s\n",
      "Epoch 37| Loss: 0.2288| Acc: 0.9667| Train Time: 0.2113s\n"
     ]
    },
    {
     "name": "stderr",
     "output_type": "stream",
     "text": [
      "Evaluating: 100%|██████████| 9981/9981 [00:00<00:00, 9991.67it/s] \n"
     ]
    },
    {
     "name": "stdout",
     "output_type": "stream",
     "text": [
      "Train: 0.9417| Val: 0.6720| Test: 0.6680| Eval Time: 1.0073s\n",
      "Epoch 38| Loss: 0.2417| Acc: 0.9750| Train Time: 0.1929s\n"
     ]
    },
    {
     "name": "stderr",
     "output_type": "stream",
     "text": [
      "Evaluating: 100%|██████████| 9981/9981 [00:01<00:00, 8446.65it/s] \n"
     ]
    },
    {
     "name": "stdout",
     "output_type": "stream",
     "text": [
      "Train: 0.9500| Val: 0.6740| Test: 0.6680| Eval Time: 1.1938s\n",
      "Epoch 39| Loss: 0.0292| Acc: 0.9833| Train Time: 0.2064s\n"
     ]
    },
    {
     "name": "stderr",
     "output_type": "stream",
     "text": [
      "Evaluating: 100%|██████████| 9981/9981 [00:01<00:00, 8959.30it/s] \n"
     ]
    },
    {
     "name": "stdout",
     "output_type": "stream",
     "text": [
      "Train: 0.9417| Val: 0.6680| Test: 0.6640| Eval Time: 1.1874s\n",
      "Epoch 40| Loss: 0.0239| Acc: 0.9833| Train Time: 0.1946s\n"
     ]
    },
    {
     "name": "stderr",
     "output_type": "stream",
     "text": [
      "Evaluating: 100%|██████████| 9981/9981 [00:01<00:00, 8911.22it/s] \n"
     ]
    },
    {
     "name": "stdout",
     "output_type": "stream",
     "text": [
      "Train: 0.9417| Val: 0.6740| Test: 0.6480| Eval Time: 1.1275s\n",
      "Epoch 41| Loss: 0.4663| Acc: 0.9417| Train Time: 0.2074s\n"
     ]
    },
    {
     "name": "stderr",
     "output_type": "stream",
     "text": [
      "Evaluating: 100%|██████████| 9981/9981 [00:01<00:00, 9204.24it/s] \n"
     ]
    },
    {
     "name": "stdout",
     "output_type": "stream",
     "text": [
      "Train: 0.9417| Val: 0.6680| Test: 0.6470| Eval Time: 1.0917s\n",
      "Epoch 42| Loss: 0.0619| Acc: 0.9833| Train Time: 0.1919s\n"
     ]
    },
    {
     "name": "stderr",
     "output_type": "stream",
     "text": [
      "Evaluating: 100%|██████████| 9981/9981 [00:01<00:00, 9935.21it/s] \n"
     ]
    },
    {
     "name": "stdout",
     "output_type": "stream",
     "text": [
      "Train: 0.9250| Val: 0.6660| Test: 0.6480| Eval Time: 1.0110s\n",
      "Epoch 43| Loss: 0.5690| Acc: 0.9750| Train Time: 0.2716s\n"
     ]
    },
    {
     "name": "stderr",
     "output_type": "stream",
     "text": [
      "Evaluating: 100%|██████████| 9981/9981 [00:01<00:00, 9903.32it/s] \n"
     ]
    },
    {
     "name": "stdout",
     "output_type": "stream",
     "text": [
      "Train: 0.9333| Val: 0.6680| Test: 0.6490| Eval Time: 1.0192s\n",
      "Epoch 44| Loss: 0.3476| Acc: 0.9500| Train Time: 0.2018s\n"
     ]
    },
    {
     "name": "stderr",
     "output_type": "stream",
     "text": [
      "Evaluating: 100%|██████████| 9981/9981 [00:01<00:00, 9164.76it/s] \n"
     ]
    },
    {
     "name": "stdout",
     "output_type": "stream",
     "text": [
      "Train: 0.9417| Val: 0.6720| Test: 0.6480| Eval Time: 1.0955s\n",
      "Epoch 45| Loss: 0.0304| Acc: 0.9917| Train Time: 0.1916s\n"
     ]
    },
    {
     "name": "stderr",
     "output_type": "stream",
     "text": [
      "Evaluating: 100%|██████████| 9981/9981 [00:01<00:00, 8948.28it/s] \n"
     ]
    },
    {
     "name": "stdout",
     "output_type": "stream",
     "text": [
      "Train: 0.9417| Val: 0.6680| Test: 0.6530| Eval Time: 1.1224s\n",
      "Epoch 46| Loss: 0.0535| Acc: 0.9917| Train Time: 0.2012s\n"
     ]
    },
    {
     "name": "stderr",
     "output_type": "stream",
     "text": [
      "Evaluating: 100%|██████████| 9981/9981 [00:01<00:00, 8854.08it/s] \n"
     ]
    },
    {
     "name": "stdout",
     "output_type": "stream",
     "text": [
      "Train: 0.9500| Val: 0.6600| Test: 0.6590| Eval Time: 1.1353s\n",
      "Epoch 47| Loss: 0.0563| Acc: 0.9667| Train Time: 0.1355s\n"
     ]
    },
    {
     "name": "stderr",
     "output_type": "stream",
     "text": [
      "Evaluating: 100%|██████████| 9981/9981 [00:01<00:00, 9691.79it/s] \n"
     ]
    },
    {
     "name": "stdout",
     "output_type": "stream",
     "text": [
      "Train: 0.9500| Val: 0.6580| Test: 0.6590| Eval Time: 1.1037s\n",
      "Epoch 48| Loss: 0.2368| Acc: 0.9750| Train Time: 0.2597s\n"
     ]
    },
    {
     "name": "stderr",
     "output_type": "stream",
     "text": [
      "Evaluating: 100%|██████████| 9981/9981 [00:01<00:00, 9010.18it/s] \n"
     ]
    },
    {
     "name": "stdout",
     "output_type": "stream",
     "text": [
      "Train: 0.9500| Val: 0.6520| Test: 0.6590| Eval Time: 1.1186s\n",
      "Epoch 49| Loss: 0.3527| Acc: 0.9833| Train Time: 0.1952s\n"
     ]
    },
    {
     "name": "stderr",
     "output_type": "stream",
     "text": [
      "Evaluating: 100%|██████████| 9981/9981 [00:01<00:00, 9045.02it/s] \n"
     ]
    },
    {
     "name": "stdout",
     "output_type": "stream",
     "text": [
      "Train: 0.9583| Val: 0.6500| Test: 0.6610| Eval Time: 1.1116s\n",
      "\n",
      "Result of  5. run| Train: 0.9417| Val: 0.6940| Test: 0.6740\n",
      "\n",
      "Run 06 for GatV1_K5_D3_s and CiteSeer:\n"
     ]
    },
    {
     "name": "stderr",
     "output_type": "stream",
     "text": [
      "Epoch 01: 100%|██████████| 120/120 [00:00<00:00, 578.69it/s]\n"
     ]
    },
    {
     "name": "stdout",
     "output_type": "stream",
     "text": [
      "Epoch 01| Loss: 2.7149| Acc: 0.1167| Train Time: 0.2102s\n"
     ]
    },
    {
     "name": "stderr",
     "output_type": "stream",
     "text": [
      "Evaluating: 100%|██████████| 9981/9981 [00:01<00:00, 8346.51it/s] \n"
     ]
    },
    {
     "name": "stdout",
     "output_type": "stream",
     "text": [
      "Train: 0.8000| Val: 0.6000| Test: 0.5860| Eval Time: 1.2619s\n",
      "Epoch 02| Loss: 1.6544| Acc: 0.6167| Train Time: 0.1964s\n"
     ]
    },
    {
     "name": "stderr",
     "output_type": "stream",
     "text": [
      "Evaluating: 100%|██████████| 9981/9981 [00:00<00:00, 9998.18it/s] \n"
     ]
    },
    {
     "name": "stdout",
     "output_type": "stream",
     "text": [
      "Train: 0.8333| Val: 0.6200| Test: 0.6370| Eval Time: 1.0169s\n",
      "Epoch 03| Loss: 1.6274| Acc: 0.6417| Train Time: 0.1927s\n"
     ]
    },
    {
     "name": "stderr",
     "output_type": "stream",
     "text": [
      "Evaluating: 100%|██████████| 9981/9981 [00:00<00:00, 10829.12it/s]\n"
     ]
    },
    {
     "name": "stdout",
     "output_type": "stream",
     "text": [
      "Train: 0.8667| Val: 0.6480| Test: 0.6300| Eval Time: 0.9956s\n",
      "Epoch 04| Loss: 1.6531| Acc: 0.6917| Train Time: 0.1908s\n"
     ]
    },
    {
     "name": "stderr",
     "output_type": "stream",
     "text": [
      "Evaluating: 100%|██████████| 9981/9981 [00:01<00:00, 9707.15it/s] \n"
     ]
    },
    {
     "name": "stdout",
     "output_type": "stream",
     "text": [
      "Train: 0.8750| Val: 0.6720| Test: 0.6500| Eval Time: 1.0372s\n",
      "Epoch 05| Loss: 1.0132| Acc: 0.7833| Train Time: 0.2000s\n"
     ]
    },
    {
     "name": "stderr",
     "output_type": "stream",
     "text": [
      "Evaluating: 100%|██████████| 9981/9981 [00:00<00:00, 10798.21it/s]\n"
     ]
    },
    {
     "name": "stdout",
     "output_type": "stream",
     "text": [
      "Train: 0.9000| Val: 0.6780| Test: 0.6640| Eval Time: 0.9313s\n",
      "Epoch 06| Loss: 0.7087| Acc: 0.8000| Train Time: 0.1823s\n"
     ]
    },
    {
     "name": "stderr",
     "output_type": "stream",
     "text": [
      "Evaluating: 100%|██████████| 9981/9981 [00:00<00:00, 12287.80it/s]\n"
     ]
    },
    {
     "name": "stdout",
     "output_type": "stream",
     "text": [
      "Train: 0.9167| Val: 0.6640| Test: 0.6640| Eval Time: 0.8203s\n",
      "Epoch 07| Loss: 0.5505| Acc: 0.8500| Train Time: 0.1852s\n"
     ]
    },
    {
     "name": "stderr",
     "output_type": "stream",
     "text": [
      "Evaluating: 100%|██████████| 9981/9981 [00:01<00:00, 8980.24it/s] \n"
     ]
    },
    {
     "name": "stdout",
     "output_type": "stream",
     "text": [
      "Train: 0.8917| Val: 0.6520| Test: 0.6700| Eval Time: 1.1169s\n",
      "Epoch 08| Loss: 0.6952| Acc: 0.8750| Train Time: 0.2033s\n"
     ]
    },
    {
     "name": "stderr",
     "output_type": "stream",
     "text": [
      "Evaluating: 100%|██████████| 9981/9981 [00:01<00:00, 8895.45it/s] \n"
     ]
    },
    {
     "name": "stdout",
     "output_type": "stream",
     "text": [
      "Train: 0.8917| Val: 0.6520| Test: 0.6730| Eval Time: 1.1307s\n",
      "Epoch 09| Loss: 1.2534| Acc: 0.8583| Train Time: 0.2025s\n"
     ]
    },
    {
     "name": "stderr",
     "output_type": "stream",
     "text": [
      "Evaluating: 100%|██████████| 9981/9981 [00:01<00:00, 9728.70it/s] \n"
     ]
    },
    {
     "name": "stdout",
     "output_type": "stream",
     "text": [
      "Train: 0.9000| Val: 0.6460| Test: 0.6700| Eval Time: 1.0942s\n",
      "Epoch 10| Loss: 1.0661| Acc: 0.8417| Train Time: 0.2028s\n"
     ]
    },
    {
     "name": "stderr",
     "output_type": "stream",
     "text": [
      "Evaluating: 100%|██████████| 9981/9981 [00:01<00:00, 8341.62it/s] \n"
     ]
    },
    {
     "name": "stdout",
     "output_type": "stream",
     "text": [
      "Train: 0.9000| Val: 0.6560| Test: 0.6640| Eval Time: 1.2724s\n",
      "Epoch 11| Loss: 1.7352| Acc: 0.8917| Train Time: 0.2057s\n"
     ]
    },
    {
     "name": "stderr",
     "output_type": "stream",
     "text": [
      "Evaluating: 100%|██████████| 9981/9981 [00:01<00:00, 8311.44it/s] \n"
     ]
    },
    {
     "name": "stdout",
     "output_type": "stream",
     "text": [
      "Train: 0.9083| Val: 0.6520| Test: 0.6630| Eval Time: 1.2069s\n",
      "Epoch 12| Loss: 0.9429| Acc: 0.8500| Train Time: 0.1919s\n"
     ]
    },
    {
     "name": "stderr",
     "output_type": "stream",
     "text": [
      "Evaluating: 100%|██████████| 9981/9981 [00:01<00:00, 9908.84it/s] \n"
     ]
    },
    {
     "name": "stdout",
     "output_type": "stream",
     "text": [
      "Train: 0.9083| Val: 0.6440| Test: 0.6540| Eval Time: 1.0148s\n",
      "Epoch 13| Loss: 0.4092| Acc: 0.8917| Train Time: 0.1911s\n"
     ]
    },
    {
     "name": "stderr",
     "output_type": "stream",
     "text": [
      "Evaluating: 100%|██████████| 9981/9981 [00:00<00:00, 10015.79it/s]\n"
     ]
    },
    {
     "name": "stdout",
     "output_type": "stream",
     "text": [
      "Train: 0.9167| Val: 0.6380| Test: 0.6500| Eval Time: 1.0044s\n",
      "Epoch 14| Loss: 0.3406| Acc: 0.9500| Train Time: 0.1910s\n"
     ]
    },
    {
     "name": "stderr",
     "output_type": "stream",
     "text": [
      "Evaluating: 100%|██████████| 9981/9981 [00:01<00:00, 9075.33it/s] \n"
     ]
    },
    {
     "name": "stdout",
     "output_type": "stream",
     "text": [
      "Train: 0.9333| Val: 0.6300| Test: 0.6450| Eval Time: 1.1086s\n",
      "Epoch 15| Loss: 0.5554| Acc: 0.9083| Train Time: 0.1872s\n"
     ]
    },
    {
     "name": "stderr",
     "output_type": "stream",
     "text": [
      "Evaluating: 100%|██████████| 9981/9981 [00:00<00:00, 10191.27it/s]\n"
     ]
    },
    {
     "name": "stdout",
     "output_type": "stream",
     "text": [
      "Train: 0.9333| Val: 0.6260| Test: 0.6400| Eval Time: 0.9951s\n",
      "Epoch 16| Loss: 0.1253| Acc: 0.9750| Train Time: 0.1887s\n"
     ]
    },
    {
     "name": "stderr",
     "output_type": "stream",
     "text": [
      "Evaluating: 100%|██████████| 9981/9981 [00:01<00:00, 9012.31it/s] \n"
     ]
    },
    {
     "name": "stdout",
     "output_type": "stream",
     "text": [
      "Train: 0.9167| Val: 0.6100| Test: 0.6360| Eval Time: 1.1152s\n",
      "Epoch 17| Loss: 0.3626| Acc: 0.9500| Train Time: 0.1947s\n"
     ]
    },
    {
     "name": "stderr",
     "output_type": "stream",
     "text": [
      "Evaluating: 100%|██████████| 9981/9981 [00:01<00:00, 9793.82it/s] \n"
     ]
    },
    {
     "name": "stdout",
     "output_type": "stream",
     "text": [
      "Train: 0.9167| Val: 0.6140| Test: 0.6300| Eval Time: 1.0257s\n",
      "Epoch 18| Loss: 0.4433| Acc: 0.9417| Train Time: 0.2688s\n"
     ]
    },
    {
     "name": "stderr",
     "output_type": "stream",
     "text": [
      "Evaluating: 100%|██████████| 9981/9981 [00:01<00:00, 9169.41it/s] \n"
     ]
    },
    {
     "name": "stdout",
     "output_type": "stream",
     "text": [
      "Train: 0.9083| Val: 0.6080| Test: 0.6270| Eval Time: 1.0968s\n",
      "Epoch 19| Loss: 0.5753| Acc: 0.9417| Train Time: 0.2045s\n"
     ]
    },
    {
     "name": "stderr",
     "output_type": "stream",
     "text": [
      "Evaluating: 100%|██████████| 9981/9981 [00:01<00:00, 8362.23it/s] \n"
     ]
    },
    {
     "name": "stdout",
     "output_type": "stream",
     "text": [
      "Train: 0.9167| Val: 0.6220| Test: 0.6280| Eval Time: 1.2061s\n",
      "Epoch 20| Loss: 0.2300| Acc: 0.9333| Train Time: 0.1873s\n"
     ]
    },
    {
     "name": "stderr",
     "output_type": "stream",
     "text": [
      "Evaluating: 100%|██████████| 9981/9981 [00:01<00:00, 9760.48it/s] \n"
     ]
    },
    {
     "name": "stdout",
     "output_type": "stream",
     "text": [
      "Train: 0.9333| Val: 0.6120| Test: 0.6270| Eval Time: 1.0963s\n",
      "Epoch 21| Loss: 0.3674| Acc: 0.9417| Train Time: 0.1310s\n"
     ]
    },
    {
     "name": "stderr",
     "output_type": "stream",
     "text": [
      "Evaluating: 100%|██████████| 9981/9981 [00:01<00:00, 8991.02it/s] \n"
     ]
    },
    {
     "name": "stdout",
     "output_type": "stream",
     "text": [
      "Train: 0.9250| Val: 0.6120| Test: 0.6240| Eval Time: 1.1845s\n",
      "Epoch 22| Loss: 0.4801| Acc: 0.9667| Train Time: 0.1884s\n"
     ]
    },
    {
     "name": "stderr",
     "output_type": "stream",
     "text": [
      "Evaluating: 100%|██████████| 9981/9981 [00:00<00:00, 10126.36it/s]\n"
     ]
    },
    {
     "name": "stdout",
     "output_type": "stream",
     "text": [
      "Train: 0.9083| Val: 0.6180| Test: 0.6280| Eval Time: 0.9953s\n",
      "Epoch 23| Loss: 0.7168| Acc: 0.9333| Train Time: 0.1317s\n"
     ]
    },
    {
     "name": "stderr",
     "output_type": "stream",
     "text": [
      "Evaluating: 100%|██████████| 9981/9981 [00:01<00:00, 9660.10it/s] \n"
     ]
    },
    {
     "name": "stdout",
     "output_type": "stream",
     "text": [
      "Train: 0.9000| Val: 0.6220| Test: 0.6330| Eval Time: 1.1644s\n",
      "Epoch 24| Loss: 0.1781| Acc: 0.9417| Train Time: 0.1974s\n"
     ]
    },
    {
     "name": "stderr",
     "output_type": "stream",
     "text": [
      "Evaluating: 100%|██████████| 9981/9981 [00:01<00:00, 9696.37it/s] \n"
     ]
    },
    {
     "name": "stdout",
     "output_type": "stream",
     "text": [
      "Train: 0.9000| Val: 0.6180| Test: 0.6360| Eval Time: 1.0354s\n",
      "Epoch 25| Loss: 0.1643| Acc: 0.9667| Train Time: 0.2005s\n"
     ]
    },
    {
     "name": "stderr",
     "output_type": "stream",
     "text": [
      "Evaluating: 100%|██████████| 9981/9981 [00:01<00:00, 9832.91it/s] \n"
     ]
    },
    {
     "name": "stdout",
     "output_type": "stream",
     "text": [
      "Train: 0.8917| Val: 0.6160| Test: 0.6350| Eval Time: 1.0283s\n",
      "Epoch 26| Loss: 0.7080| Acc: 0.9583| Train Time: 0.1910s\n"
     ]
    },
    {
     "name": "stderr",
     "output_type": "stream",
     "text": [
      "Evaluating: 100%|██████████| 9981/9981 [00:01<00:00, 9032.66it/s] \n"
     ]
    },
    {
     "name": "stdout",
     "output_type": "stream",
     "text": [
      "Train: 0.8917| Val: 0.6220| Test: 0.6380| Eval Time: 1.1148s\n",
      "Epoch 27| Loss: 0.3546| Acc: 0.9417| Train Time: 0.2683s\n"
     ]
    },
    {
     "name": "stderr",
     "output_type": "stream",
     "text": [
      "Evaluating: 100%|██████████| 9981/9981 [00:00<00:00, 10738.39it/s]\n"
     ]
    },
    {
     "name": "stdout",
     "output_type": "stream",
     "text": [
      "Train: 0.9000| Val: 0.6220| Test: 0.6380| Eval Time: 0.9359s\n",
      "Epoch 28| Loss: 0.4999| Acc: 0.9417| Train Time: 0.2591s\n"
     ]
    },
    {
     "name": "stderr",
     "output_type": "stream",
     "text": [
      "Evaluating: 100%|██████████| 9981/9981 [00:01<00:00, 9060.74it/s] \n"
     ]
    },
    {
     "name": "stdout",
     "output_type": "stream",
     "text": [
      "Train: 0.9000| Val: 0.6200| Test: 0.6340| Eval Time: 1.1126s\n",
      "Epoch 29| Loss: 0.0596| Acc: 0.9917| Train Time: 0.1246s\n"
     ]
    },
    {
     "name": "stderr",
     "output_type": "stream",
     "text": [
      "Evaluating: 100%|██████████| 9981/9981 [00:01<00:00, 9764.72it/s] \n"
     ]
    },
    {
     "name": "stdout",
     "output_type": "stream",
     "text": [
      "Train: 0.9000| Val: 0.6220| Test: 0.6340| Eval Time: 1.0900s\n",
      "Epoch 30| Loss: 0.5314| Acc: 0.9500| Train Time: 0.2053s\n"
     ]
    },
    {
     "name": "stderr",
     "output_type": "stream",
     "text": [
      "Evaluating: 100%|██████████| 9981/9981 [00:01<00:00, 9134.79it/s] \n"
     ]
    },
    {
     "name": "stdout",
     "output_type": "stream",
     "text": [
      "Train: 0.9000| Val: 0.6300| Test: 0.6360| Eval Time: 1.0984s\n",
      "Epoch 31| Loss: 0.2556| Acc: 0.9500| Train Time: 0.2043s\n"
     ]
    },
    {
     "name": "stderr",
     "output_type": "stream",
     "text": [
      "Evaluating: 100%|██████████| 9981/9981 [00:01<00:00, 9068.02it/s] \n"
     ]
    },
    {
     "name": "stdout",
     "output_type": "stream",
     "text": [
      "Train: 0.9167| Val: 0.6260| Test: 0.6390| Eval Time: 1.1735s\n",
      "Epoch 32| Loss: 0.6618| Acc: 0.9417| Train Time: 0.1860s\n"
     ]
    },
    {
     "name": "stderr",
     "output_type": "stream",
     "text": [
      "Evaluating: 100%|██████████| 9981/9981 [00:01<00:00, 9740.47it/s] \n"
     ]
    },
    {
     "name": "stdout",
     "output_type": "stream",
     "text": [
      "Train: 0.9083| Val: 0.6260| Test: 0.6370| Eval Time: 1.0343s\n",
      "Epoch 33| Loss: 0.2281| Acc: 0.9750| Train Time: 0.2647s\n"
     ]
    },
    {
     "name": "stderr",
     "output_type": "stream",
     "text": [
      "Evaluating: 100%|██████████| 9981/9981 [00:01<00:00, 8925.15it/s] \n"
     ]
    },
    {
     "name": "stdout",
     "output_type": "stream",
     "text": [
      "Train: 0.9083| Val: 0.6320| Test: 0.6390| Eval Time: 1.1261s\n",
      "Epoch 34| Loss: 0.7277| Acc: 0.9417| Train Time: 0.2059s\n"
     ]
    },
    {
     "name": "stderr",
     "output_type": "stream",
     "text": [
      "Evaluating: 100%|██████████| 9981/9981 [00:01<00:00, 9271.02it/s] \n"
     ]
    },
    {
     "name": "stdout",
     "output_type": "stream",
     "text": [
      "Train: 0.9250| Val: 0.6420| Test: 0.6460| Eval Time: 1.0824s\n",
      "Epoch 35| Loss: 0.2950| Acc: 0.9667| Train Time: 0.2056s\n"
     ]
    },
    {
     "name": "stderr",
     "output_type": "stream",
     "text": [
      "Evaluating: 100%|██████████| 9981/9981 [00:01<00:00, 9244.73it/s] \n"
     ]
    },
    {
     "name": "stdout",
     "output_type": "stream",
     "text": [
      "Train: 0.9250| Val: 0.6480| Test: 0.6490| Eval Time: 1.0905s\n",
      "\n",
      "Result of  6. run| Train: 0.9000| Val: 0.6780| Test: 0.6640\n",
      "\n",
      "Run 07 for GatV1_K5_D3_s and CiteSeer:\n"
     ]
    },
    {
     "name": "stderr",
     "output_type": "stream",
     "text": [
      "Epoch 01: 100%|██████████| 120/120 [00:00<00:00, 665.84it/s]\n"
     ]
    },
    {
     "name": "stdout",
     "output_type": "stream",
     "text": [
      "Epoch 01| Loss: 2.3603| Acc: 0.1333| Train Time: 0.1834s\n"
     ]
    },
    {
     "name": "stderr",
     "output_type": "stream",
     "text": [
      "Evaluating: 100%|██████████| 9981/9981 [00:01<00:00, 9853.07it/s] \n"
     ]
    },
    {
     "name": "stdout",
     "output_type": "stream",
     "text": [
      "Train: 0.7167| Val: 0.5380| Test: 0.5120| Eval Time: 1.0209s\n",
      "Epoch 02| Loss: 1.7375| Acc: 0.5000| Train Time: 0.1950s\n"
     ]
    },
    {
     "name": "stderr",
     "output_type": "stream",
     "text": [
      "Evaluating: 100%|██████████| 9981/9981 [00:01<00:00, 9209.96it/s] \n"
     ]
    },
    {
     "name": "stdout",
     "output_type": "stream",
     "text": [
      "Train: 0.8250| Val: 0.6840| Test: 0.6730| Eval Time: 1.0945s\n",
      "Epoch 03| Loss: 1.4278| Acc: 0.7083| Train Time: 0.1862s\n"
     ]
    },
    {
     "name": "stderr",
     "output_type": "stream",
     "text": [
      "Evaluating: 100%|██████████| 9981/9981 [00:01<00:00, 9129.91it/s] \n"
     ]
    },
    {
     "name": "stdout",
     "output_type": "stream",
     "text": [
      "Train: 0.8250| Val: 0.6820| Test: 0.6860| Eval Time: 1.1016s\n",
      "Epoch 04| Loss: 0.9482| Acc: 0.7333| Train Time: 0.1999s\n"
     ]
    },
    {
     "name": "stderr",
     "output_type": "stream",
     "text": [
      "Evaluating: 100%|██████████| 9981/9981 [00:01<00:00, 9737.19it/s] \n"
     ]
    },
    {
     "name": "stdout",
     "output_type": "stream",
     "text": [
      "Train: 0.8583| Val: 0.7000| Test: 0.7010| Eval Time: 1.1026s\n",
      "Epoch 05| Loss: 1.0101| Acc: 0.7417| Train Time: 0.1916s\n"
     ]
    },
    {
     "name": "stderr",
     "output_type": "stream",
     "text": [
      "Evaluating: 100%|██████████| 9981/9981 [00:00<00:00, 12264.31it/s]\n"
     ]
    },
    {
     "name": "stdout",
     "output_type": "stream",
     "text": [
      "Train: 0.8917| Val: 0.7180| Test: 0.6980| Eval Time: 0.8312s\n",
      "Epoch 06| Loss: 1.0365| Acc: 0.7667| Train Time: 0.2674s\n"
     ]
    },
    {
     "name": "stderr",
     "output_type": "stream",
     "text": [
      "Evaluating: 100%|██████████| 9981/9981 [00:01<00:00, 8851.24it/s] \n"
     ]
    },
    {
     "name": "stdout",
     "output_type": "stream",
     "text": [
      "Train: 0.8917| Val: 0.6840| Test: 0.6680| Eval Time: 1.1357s\n",
      "Epoch 07| Loss: 1.3606| Acc: 0.8000| Train Time: 0.2665s\n"
     ]
    },
    {
     "name": "stderr",
     "output_type": "stream",
     "text": [
      "Evaluating: 100%|██████████| 9981/9981 [00:01<00:00, 9095.42it/s] \n"
     ]
    },
    {
     "name": "stdout",
     "output_type": "stream",
     "text": [
      "Train: 0.8917| Val: 0.6600| Test: 0.6480| Eval Time: 1.1136s\n",
      "Epoch 08| Loss: 0.7587| Acc: 0.8667| Train Time: 0.1891s\n"
     ]
    },
    {
     "name": "stderr",
     "output_type": "stream",
     "text": [
      "Evaluating: 100%|██████████| 9981/9981 [00:01<00:00, 9013.63it/s] \n"
     ]
    },
    {
     "name": "stdout",
     "output_type": "stream",
     "text": [
      "Train: 0.8917| Val: 0.6280| Test: 0.6320| Eval Time: 1.1166s\n",
      "Epoch 09| Loss: 1.0131| Acc: 0.8583| Train Time: 0.1889s\n"
     ]
    },
    {
     "name": "stderr",
     "output_type": "stream",
     "text": [
      "Evaluating: 100%|██████████| 9981/9981 [00:01<00:00, 8996.50it/s] \n"
     ]
    },
    {
     "name": "stdout",
     "output_type": "stream",
     "text": [
      "Train: 0.9000| Val: 0.6080| Test: 0.6150| Eval Time: 1.1157s\n",
      "Epoch 10| Loss: 0.6646| Acc: 0.9000| Train Time: 0.2671s\n"
     ]
    },
    {
     "name": "stderr",
     "output_type": "stream",
     "text": [
      "Evaluating: 100%|██████████| 9981/9981 [00:01<00:00, 8927.71it/s] \n"
     ]
    },
    {
     "name": "stdout",
     "output_type": "stream",
     "text": [
      "Train: 0.9167| Val: 0.6260| Test: 0.6340| Eval Time: 1.1251s\n",
      "Epoch 11| Loss: 0.7492| Acc: 0.8750| Train Time: 0.2015s\n"
     ]
    },
    {
     "name": "stderr",
     "output_type": "stream",
     "text": [
      "Evaluating: 100%|██████████| 9981/9981 [00:01<00:00, 9132.14it/s] \n"
     ]
    },
    {
     "name": "stdout",
     "output_type": "stream",
     "text": [
      "Train: 0.9167| Val: 0.6280| Test: 0.6500| Eval Time: 1.1009s\n",
      "Epoch 12| Loss: 0.7362| Acc: 0.9167| Train Time: 0.1979s\n"
     ]
    },
    {
     "name": "stderr",
     "output_type": "stream",
     "text": [
      "Evaluating: 100%|██████████| 9981/9981 [00:01<00:00, 9218.54it/s] \n"
     ]
    },
    {
     "name": "stdout",
     "output_type": "stream",
     "text": [
      "Train: 0.9333| Val: 0.6620| Test: 0.6560| Eval Time: 1.0898s\n",
      "Epoch 13| Loss: 1.1037| Acc: 0.9000| Train Time: 0.1826s\n"
     ]
    },
    {
     "name": "stderr",
     "output_type": "stream",
     "text": [
      "Evaluating: 100%|██████████| 9981/9981 [00:01<00:00, 9701.06it/s] \n"
     ]
    },
    {
     "name": "stdout",
     "output_type": "stream",
     "text": [
      "Train: 0.9500| Val: 0.6740| Test: 0.6620| Eval Time: 1.1007s\n",
      "Epoch 14| Loss: 0.7738| Acc: 0.9083| Train Time: 0.1975s\n"
     ]
    },
    {
     "name": "stderr",
     "output_type": "stream",
     "text": [
      "Evaluating: 100%|██████████| 9981/9981 [00:01<00:00, 9095.74it/s] \n"
     ]
    },
    {
     "name": "stdout",
     "output_type": "stream",
     "text": [
      "Train: 0.9417| Val: 0.6880| Test: 0.6670| Eval Time: 1.1097s\n",
      "Epoch 15| Loss: 0.5550| Acc: 0.9083| Train Time: 0.2032s\n"
     ]
    },
    {
     "name": "stderr",
     "output_type": "stream",
     "text": [
      "Evaluating: 100%|██████████| 9981/9981 [00:01<00:00, 9024.86it/s] \n"
     ]
    },
    {
     "name": "stdout",
     "output_type": "stream",
     "text": [
      "Train: 0.9417| Val: 0.6940| Test: 0.6740| Eval Time: 1.1121s\n",
      "Epoch 16| Loss: 0.4065| Acc: 0.9667| Train Time: 0.2004s\n"
     ]
    },
    {
     "name": "stderr",
     "output_type": "stream",
     "text": [
      "Evaluating: 100%|██████████| 9981/9981 [00:01<00:00, 8386.19it/s] \n"
     ]
    },
    {
     "name": "stdout",
     "output_type": "stream",
     "text": [
      "Train: 0.9417| Val: 0.6920| Test: 0.6770| Eval Time: 1.1965s\n",
      "Epoch 17| Loss: 0.0696| Acc: 0.9750| Train Time: 0.2031s\n"
     ]
    },
    {
     "name": "stderr",
     "output_type": "stream",
     "text": [
      "Evaluating: 100%|██████████| 9981/9981 [00:01<00:00, 9188.32it/s] \n"
     ]
    },
    {
     "name": "stdout",
     "output_type": "stream",
     "text": [
      "Train: 0.9500| Val: 0.6880| Test: 0.6780| Eval Time: 1.0933s\n",
      "Epoch 18| Loss: 0.1763| Acc: 0.9750| Train Time: 0.1998s\n"
     ]
    },
    {
     "name": "stderr",
     "output_type": "stream",
     "text": [
      "Evaluating: 100%|██████████| 9981/9981 [00:01<00:00, 9049.48it/s] \n"
     ]
    },
    {
     "name": "stdout",
     "output_type": "stream",
     "text": [
      "Train: 0.9417| Val: 0.6740| Test: 0.6780| Eval Time: 1.1093s\n",
      "Epoch 19| Loss: 0.7807| Acc: 0.9500| Train Time: 0.1983s\n"
     ]
    },
    {
     "name": "stderr",
     "output_type": "stream",
     "text": [
      "Evaluating: 100%|██████████| 9981/9981 [00:01<00:00, 7851.80it/s] \n"
     ]
    },
    {
     "name": "stdout",
     "output_type": "stream",
     "text": [
      "Train: 0.9417| Val: 0.6700| Test: 0.6750| Eval Time: 1.2826s\n",
      "Epoch 20| Loss: 0.4756| Acc: 0.9500| Train Time: 0.2060s\n"
     ]
    },
    {
     "name": "stderr",
     "output_type": "stream",
     "text": [
      "Evaluating: 100%|██████████| 9981/9981 [00:00<00:00, 10174.95it/s]\n"
     ]
    },
    {
     "name": "stdout",
     "output_type": "stream",
     "text": [
      "Train: 0.9417| Val: 0.6700| Test: 0.6720| Eval Time: 0.9922s\n",
      "Epoch 21| Loss: 0.3565| Acc: 0.9583| Train Time: 0.2026s\n"
     ]
    },
    {
     "name": "stderr",
     "output_type": "stream",
     "text": [
      "Evaluating: 100%|██████████| 9981/9981 [00:00<00:00, 11124.10it/s]\n"
     ]
    },
    {
     "name": "stdout",
     "output_type": "stream",
     "text": [
      "Train: 0.9500| Val: 0.6740| Test: 0.6740| Eval Time: 0.9054s\n",
      "Epoch 22| Loss: 0.2873| Acc: 0.9583| Train Time: 0.2035s\n"
     ]
    },
    {
     "name": "stderr",
     "output_type": "stream",
     "text": [
      "Evaluating: 100%|██████████| 9981/9981 [00:00<00:00, 12851.52it/s]\n"
     ]
    },
    {
     "name": "stdout",
     "output_type": "stream",
     "text": [
      "Train: 0.9583| Val: 0.6740| Test: 0.6700| Eval Time: 0.7824s\n",
      "Epoch 23| Loss: 0.3580| Acc: 0.9417| Train Time: 0.1303s\n"
     ]
    },
    {
     "name": "stderr",
     "output_type": "stream",
     "text": [
      "Evaluating: 100%|██████████| 9981/9981 [00:01<00:00, 8339.92it/s] \n"
     ]
    },
    {
     "name": "stdout",
     "output_type": "stream",
     "text": [
      "Train: 0.9417| Val: 0.6700| Test: 0.6660| Eval Time: 1.2612s\n",
      "Epoch 24| Loss: 0.4282| Acc: 0.9500| Train Time: 0.1328s\n"
     ]
    },
    {
     "name": "stderr",
     "output_type": "stream",
     "text": [
      "Evaluating: 100%|██████████| 9981/9981 [00:01<00:00, 8816.31it/s] \n"
     ]
    },
    {
     "name": "stdout",
     "output_type": "stream",
     "text": [
      "Train: 0.9417| Val: 0.6720| Test: 0.6640| Eval Time: 1.2709s\n",
      "Epoch 25| Loss: 0.1912| Acc: 0.9333| Train Time: 0.2071s\n"
     ]
    },
    {
     "name": "stderr",
     "output_type": "stream",
     "text": [
      "Evaluating: 100%|██████████| 9981/9981 [00:01<00:00, 9007.13it/s] \n"
     ]
    },
    {
     "name": "stdout",
     "output_type": "stream",
     "text": [
      "Train: 0.9500| Val: 0.6700| Test: 0.6640| Eval Time: 1.1152s\n",
      "Epoch 26| Loss: 0.3529| Acc: 0.9500| Train Time: 0.1945s\n"
     ]
    },
    {
     "name": "stderr",
     "output_type": "stream",
     "text": [
      "Evaluating: 100%|██████████| 9981/9981 [00:01<00:00, 7743.05it/s] \n"
     ]
    },
    {
     "name": "stdout",
     "output_type": "stream",
     "text": [
      "Train: 0.9500| Val: 0.6720| Test: 0.6690| Eval Time: 1.2961s\n",
      "Epoch 27| Loss: 0.0618| Acc: 0.9917| Train Time: 0.2028s\n"
     ]
    },
    {
     "name": "stderr",
     "output_type": "stream",
     "text": [
      "Evaluating: 100%|██████████| 9981/9981 [00:00<00:00, 10020.82it/s]\n"
     ]
    },
    {
     "name": "stdout",
     "output_type": "stream",
     "text": [
      "Train: 0.9417| Val: 0.6760| Test: 0.6750| Eval Time: 1.0022s\n",
      "Epoch 28| Loss: 0.2100| Acc: 0.9667| Train Time: 0.1895s\n"
     ]
    },
    {
     "name": "stderr",
     "output_type": "stream",
     "text": [
      "Evaluating: 100%|██████████| 9981/9981 [00:01<00:00, 9140.80it/s] \n"
     ]
    },
    {
     "name": "stdout",
     "output_type": "stream",
     "text": [
      "Train: 0.9417| Val: 0.6740| Test: 0.6730| Eval Time: 1.1006s\n",
      "Epoch 29| Loss: 1.2316| Acc: 0.9583| Train Time: 0.1963s\n"
     ]
    },
    {
     "name": "stderr",
     "output_type": "stream",
     "text": [
      "Evaluating: 100%|██████████| 9981/9981 [00:01<00:00, 9919.15it/s] \n"
     ]
    },
    {
     "name": "stdout",
     "output_type": "stream",
     "text": [
      "Train: 0.9333| Val: 0.6800| Test: 0.6760| Eval Time: 1.0120s\n",
      "Epoch 30| Loss: 0.6338| Acc: 0.9583| Train Time: 0.2077s\n"
     ]
    },
    {
     "name": "stderr",
     "output_type": "stream",
     "text": [
      "Evaluating: 100%|██████████| 9981/9981 [00:01<00:00, 9767.72it/s] \n"
     ]
    },
    {
     "name": "stdout",
     "output_type": "stream",
     "text": [
      "Train: 0.9333| Val: 0.6760| Test: 0.6840| Eval Time: 1.0297s\n",
      "Epoch 31| Loss: 0.2117| Acc: 0.9833| Train Time: 0.2023s\n"
     ]
    },
    {
     "name": "stderr",
     "output_type": "stream",
     "text": [
      "Evaluating: 100%|██████████| 9981/9981 [00:01<00:00, 9714.02it/s] \n"
     ]
    },
    {
     "name": "stdout",
     "output_type": "stream",
     "text": [
      "Train: 0.9333| Val: 0.6740| Test: 0.6820| Eval Time: 1.0363s\n",
      "Epoch 32| Loss: 0.3063| Acc: 0.9833| Train Time: 0.2622s\n"
     ]
    },
    {
     "name": "stderr",
     "output_type": "stream",
     "text": [
      "Evaluating: 100%|██████████| 9981/9981 [00:01<00:00, 9104.49it/s] \n"
     ]
    },
    {
     "name": "stdout",
     "output_type": "stream",
     "text": [
      "Train: 0.9333| Val: 0.6760| Test: 0.6830| Eval Time: 1.1099s\n",
      "Epoch 33| Loss: 0.0453| Acc: 0.9833| Train Time: 0.2026s\n"
     ]
    },
    {
     "name": "stderr",
     "output_type": "stream",
     "text": [
      "Evaluating: 100%|██████████| 9981/9981 [00:01<00:00, 9892.13it/s] \n"
     ]
    },
    {
     "name": "stdout",
     "output_type": "stream",
     "text": [
      "Train: 0.9417| Val: 0.6760| Test: 0.6820| Eval Time: 1.0156s\n",
      "Epoch 34| Loss: 0.4708| Acc: 0.9500| Train Time: 0.2654s\n"
     ]
    },
    {
     "name": "stderr",
     "output_type": "stream",
     "text": [
      "Evaluating: 100%|██████████| 9981/9981 [00:01<00:00, 9710.48it/s] \n"
     ]
    },
    {
     "name": "stdout",
     "output_type": "stream",
     "text": [
      "Train: 0.9417| Val: 0.6720| Test: 0.6800| Eval Time: 1.0360s\n",
      "Epoch 35| Loss: 0.0753| Acc: 0.9833| Train Time: 0.1975s\n"
     ]
    },
    {
     "name": "stderr",
     "output_type": "stream",
     "text": [
      "Evaluating: 100%|██████████| 9981/9981 [00:01<00:00, 9693.19it/s] \n"
     ]
    },
    {
     "name": "stdout",
     "output_type": "stream",
     "text": [
      "Train: 0.9500| Val: 0.6720| Test: 0.6810| Eval Time: 1.0989s\n",
      "\n",
      "Result of  7. run| Train: 0.8917| Val: 0.7180| Test: 0.6980\n",
      "\n",
      "Run 08 for GatV1_K5_D3_s and CiteSeer:\n"
     ]
    },
    {
     "name": "stderr",
     "output_type": "stream",
     "text": [
      "Epoch 01: 100%|██████████| 120/120 [00:00<00:00, 452.74it/s]\n"
     ]
    },
    {
     "name": "stdout",
     "output_type": "stream",
     "text": [
      "Epoch 01| Loss: 2.1358| Acc: 0.2333| Train Time: 0.2689s\n"
     ]
    },
    {
     "name": "stderr",
     "output_type": "stream",
     "text": [
      "Evaluating: 100%|██████████| 9981/9981 [00:00<00:00, 10829.98it/s]\n"
     ]
    },
    {
     "name": "stdout",
     "output_type": "stream",
     "text": [
      "Train: 0.7333| Val: 0.5640| Test: 0.5820| Eval Time: 0.9300s\n",
      "Epoch 02| Loss: 1.5162| Acc: 0.5833| Train Time: 0.1263s\n"
     ]
    },
    {
     "name": "stderr",
     "output_type": "stream",
     "text": [
      "Evaluating: 100%|██████████| 9981/9981 [00:01<00:00, 9904.44it/s] \n"
     ]
    },
    {
     "name": "stdout",
     "output_type": "stream",
     "text": [
      "Train: 0.8083| Val: 0.6740| Test: 0.6690| Eval Time: 1.0825s\n",
      "Epoch 03| Loss: 1.5728| Acc: 0.6750| Train Time: 0.1995s\n"
     ]
    },
    {
     "name": "stderr",
     "output_type": "stream",
     "text": [
      "Evaluating: 100%|██████████| 9981/9981 [00:01<00:00, 9781.24it/s] \n"
     ]
    },
    {
     "name": "stdout",
     "output_type": "stream",
     "text": [
      "Train: 0.8500| Val: 0.6940| Test: 0.6880| Eval Time: 1.0943s\n",
      "Epoch 04| Loss: 1.6582| Acc: 0.6667| Train Time: 0.2044s\n"
     ]
    },
    {
     "name": "stderr",
     "output_type": "stream",
     "text": [
      "Evaluating: 100%|██████████| 9981/9981 [00:00<00:00, 11155.85it/s]\n"
     ]
    },
    {
     "name": "stdout",
     "output_type": "stream",
     "text": [
      "Train: 0.8667| Val: 0.6960| Test: 0.6890| Eval Time: 0.9001s\n",
      "Epoch 05| Loss: 1.1216| Acc: 0.8083| Train Time: 0.1207s\n"
     ]
    },
    {
     "name": "stderr",
     "output_type": "stream",
     "text": [
      "Evaluating: 100%|██████████| 9981/9981 [00:01<00:00, 9084.17it/s] \n"
     ]
    },
    {
     "name": "stdout",
     "output_type": "stream",
     "text": [
      "Train: 0.8667| Val: 0.6960| Test: 0.6790| Eval Time: 1.1040s\n",
      "Epoch 06| Loss: 0.8833| Acc: 0.8250| Train Time: 0.2624s\n"
     ]
    },
    {
     "name": "stderr",
     "output_type": "stream",
     "text": [
      "Evaluating: 100%|██████████| 9981/9981 [00:01<00:00, 9795.44it/s] \n"
     ]
    },
    {
     "name": "stdout",
     "output_type": "stream",
     "text": [
      "Train: 0.8833| Val: 0.7020| Test: 0.6800| Eval Time: 1.0284s\n",
      "Epoch 07| Loss: 1.2368| Acc: 0.8000| Train Time: 0.2065s\n"
     ]
    },
    {
     "name": "stderr",
     "output_type": "stream",
     "text": [
      "Evaluating: 100%|██████████| 9981/9981 [00:01<00:00, 9101.34it/s] \n"
     ]
    },
    {
     "name": "stdout",
     "output_type": "stream",
     "text": [
      "Train: 0.8750| Val: 0.6980| Test: 0.6800| Eval Time: 1.1661s\n",
      "Epoch 08| Loss: 0.9203| Acc: 0.8333| Train Time: 0.2084s\n"
     ]
    },
    {
     "name": "stderr",
     "output_type": "stream",
     "text": [
      "Evaluating: 100%|██████████| 9981/9981 [00:01<00:00, 9029.51it/s] \n"
     ]
    },
    {
     "name": "stdout",
     "output_type": "stream",
     "text": [
      "Train: 0.8833| Val: 0.6820| Test: 0.6730| Eval Time: 1.1128s\n",
      "Epoch 09| Loss: 0.7061| Acc: 0.8833| Train Time: 0.1997s\n"
     ]
    },
    {
     "name": "stderr",
     "output_type": "stream",
     "text": [
      "Evaluating: 100%|██████████| 9981/9981 [00:00<00:00, 11150.10it/s]\n"
     ]
    },
    {
     "name": "stdout",
     "output_type": "stream",
     "text": [
      "Train: 0.9000| Val: 0.6740| Test: 0.6720| Eval Time: 0.9007s\n",
      "Epoch 10| Loss: 0.3780| Acc: 0.8833| Train Time: 0.2705s\n"
     ]
    },
    {
     "name": "stderr",
     "output_type": "stream",
     "text": [
      "Evaluating: 100%|██████████| 9981/9981 [00:01<00:00, 8937.20it/s] \n"
     ]
    },
    {
     "name": "stdout",
     "output_type": "stream",
     "text": [
      "Train: 0.9083| Val: 0.6640| Test: 0.6720| Eval Time: 1.1262s\n",
      "Epoch 11| Loss: 0.2801| Acc: 0.9083| Train Time: 0.1970s\n"
     ]
    },
    {
     "name": "stderr",
     "output_type": "stream",
     "text": [
      "Evaluating: 100%|██████████| 9981/9981 [00:01<00:00, 9079.49it/s] \n"
     ]
    },
    {
     "name": "stdout",
     "output_type": "stream",
     "text": [
      "Train: 0.9000| Val: 0.6620| Test: 0.6740| Eval Time: 1.1065s\n",
      "Epoch 12| Loss: 0.9672| Acc: 0.9250| Train Time: 0.2679s\n"
     ]
    },
    {
     "name": "stderr",
     "output_type": "stream",
     "text": [
      "Evaluating: 100%|██████████| 9981/9981 [00:01<00:00, 9881.91it/s] \n"
     ]
    },
    {
     "name": "stdout",
     "output_type": "stream",
     "text": [
      "Train: 0.9083| Val: 0.6660| Test: 0.6760| Eval Time: 1.0199s\n",
      "Epoch 13| Loss: 0.8011| Acc: 0.9167| Train Time: 0.1878s\n"
     ]
    },
    {
     "name": "stderr",
     "output_type": "stream",
     "text": [
      "Evaluating: 100%|██████████| 9981/9981 [00:01<00:00, 9057.15it/s] \n"
     ]
    },
    {
     "name": "stdout",
     "output_type": "stream",
     "text": [
      "Train: 0.9167| Val: 0.6740| Test: 0.6770| Eval Time: 1.1117s\n",
      "Epoch 14| Loss: 0.7664| Acc: 0.9417| Train Time: 0.1892s\n"
     ]
    },
    {
     "name": "stderr",
     "output_type": "stream",
     "text": [
      "Evaluating: 100%|██████████| 9981/9981 [00:01<00:00, 9094.82it/s] \n"
     ]
    },
    {
     "name": "stdout",
     "output_type": "stream",
     "text": [
      "Train: 0.9083| Val: 0.6780| Test: 0.6790| Eval Time: 1.1029s\n",
      "Epoch 15| Loss: 0.6228| Acc: 0.9333| Train Time: 0.1854s\n"
     ]
    },
    {
     "name": "stderr",
     "output_type": "stream",
     "text": [
      "Evaluating: 100%|██████████| 9981/9981 [00:01<00:00, 9632.67it/s] \n"
     ]
    },
    {
     "name": "stdout",
     "output_type": "stream",
     "text": [
      "Train: 0.9167| Val: 0.6820| Test: 0.6830| Eval Time: 1.0413s\n",
      "Epoch 16| Loss: 0.7367| Acc: 0.9417| Train Time: 0.1965s\n"
     ]
    },
    {
     "name": "stderr",
     "output_type": "stream",
     "text": [
      "Evaluating: 100%|██████████| 9981/9981 [00:01<00:00, 9029.04it/s] \n"
     ]
    },
    {
     "name": "stdout",
     "output_type": "stream",
     "text": [
      "Train: 0.9250| Val: 0.6880| Test: 0.6930| Eval Time: 1.1776s\n",
      "Epoch 17| Loss: 0.7998| Acc: 0.9333| Train Time: 0.1931s\n"
     ]
    },
    {
     "name": "stderr",
     "output_type": "stream",
     "text": [
      "Evaluating: 100%|██████████| 9981/9981 [00:01<00:00, 9037.76it/s] \n"
     ]
    },
    {
     "name": "stdout",
     "output_type": "stream",
     "text": [
      "Train: 0.9417| Val: 0.6840| Test: 0.6890| Eval Time: 1.1118s\n",
      "Epoch 18| Loss: 0.5987| Acc: 0.9333| Train Time: 0.1836s\n"
     ]
    },
    {
     "name": "stderr",
     "output_type": "stream",
     "text": [
      "Evaluating: 100%|██████████| 9981/9981 [00:01<00:00, 9945.02it/s] \n"
     ]
    },
    {
     "name": "stdout",
     "output_type": "stream",
     "text": [
      "Train: 0.9167| Val: 0.6820| Test: 0.6880| Eval Time: 1.0115s\n",
      "Epoch 19| Loss: 0.2944| Acc: 0.9583| Train Time: 0.1975s\n"
     ]
    },
    {
     "name": "stderr",
     "output_type": "stream",
     "text": [
      "Evaluating: 100%|██████████| 9981/9981 [00:01<00:00, 9176.16it/s] \n"
     ]
    },
    {
     "name": "stdout",
     "output_type": "stream",
     "text": [
      "Train: 0.9167| Val: 0.6820| Test: 0.6900| Eval Time: 1.0979s\n",
      "Epoch 20| Loss: 0.4168| Acc: 0.9333| Train Time: 0.1910s\n"
     ]
    },
    {
     "name": "stderr",
     "output_type": "stream",
     "text": [
      "Evaluating: 100%|██████████| 9981/9981 [00:01<00:00, 9088.70it/s] \n"
     ]
    },
    {
     "name": "stdout",
     "output_type": "stream",
     "text": [
      "Train: 0.9167| Val: 0.6800| Test: 0.6910| Eval Time: 1.1083s\n",
      "Epoch 21| Loss: 0.3990| Acc: 0.9583| Train Time: 0.1863s\n"
     ]
    },
    {
     "name": "stderr",
     "output_type": "stream",
     "text": [
      "Evaluating: 100%|██████████| 9981/9981 [00:01<00:00, 8913.51it/s] \n"
     ]
    },
    {
     "name": "stdout",
     "output_type": "stream",
     "text": [
      "Train: 0.9333| Val: 0.6800| Test: 0.6930| Eval Time: 1.1284s\n",
      "Epoch 22| Loss: 0.2281| Acc: 0.9583| Train Time: 0.2649s\n"
     ]
    },
    {
     "name": "stderr",
     "output_type": "stream",
     "text": [
      "Evaluating: 100%|██████████| 9981/9981 [00:01<00:00, 8219.38it/s] \n"
     ]
    },
    {
     "name": "stdout",
     "output_type": "stream",
     "text": [
      "Train: 0.9417| Val: 0.6820| Test: 0.6890| Eval Time: 1.2212s\n",
      "Epoch 23| Loss: 0.1639| Acc: 0.9500| Train Time: 0.1983s\n"
     ]
    },
    {
     "name": "stderr",
     "output_type": "stream",
     "text": [
      "Evaluating: 100%|██████████| 9981/9981 [00:00<00:00, 11240.07it/s]\n"
     ]
    },
    {
     "name": "stdout",
     "output_type": "stream",
     "text": [
      "Train: 0.9417| Val: 0.6820| Test: 0.6850| Eval Time: 0.8951s\n",
      "Epoch 24| Loss: 0.1571| Acc: 0.9750| Train Time: 0.2118s\n"
     ]
    },
    {
     "name": "stderr",
     "output_type": "stream",
     "text": [
      "Evaluating: 100%|██████████| 9981/9981 [00:01<00:00, 9937.53it/s] \n"
     ]
    },
    {
     "name": "stdout",
     "output_type": "stream",
     "text": [
      "Train: 0.9417| Val: 0.6760| Test: 0.6790| Eval Time: 1.0105s\n",
      "Epoch 25| Loss: 0.4675| Acc: 0.9250| Train Time: 0.1376s\n"
     ]
    },
    {
     "name": "stderr",
     "output_type": "stream",
     "text": [
      "Evaluating: 100%|██████████| 9981/9981 [00:00<00:00, 10689.53it/s]\n"
     ]
    },
    {
     "name": "stdout",
     "output_type": "stream",
     "text": [
      "Train: 0.9333| Val: 0.6760| Test: 0.6750| Eval Time: 1.0658s\n",
      "Epoch 26| Loss: 0.0854| Acc: 0.9667| Train Time: 0.2067s\n"
     ]
    },
    {
     "name": "stderr",
     "output_type": "stream",
     "text": [
      "Evaluating: 100%|██████████| 9981/9981 [00:01<00:00, 9017.58it/s] \n"
     ]
    },
    {
     "name": "stdout",
     "output_type": "stream",
     "text": [
      "Train: 0.9333| Val: 0.6760| Test: 0.6740| Eval Time: 1.1139s\n",
      "Epoch 27| Loss: 0.2357| Acc: 0.9833| Train Time: 0.2027s\n"
     ]
    },
    {
     "name": "stderr",
     "output_type": "stream",
     "text": [
      "Evaluating: 100%|██████████| 9981/9981 [00:00<00:00, 10173.66it/s]\n"
     ]
    },
    {
     "name": "stdout",
     "output_type": "stream",
     "text": [
      "Train: 0.9333| Val: 0.6760| Test: 0.6780| Eval Time: 0.9878s\n",
      "Epoch 28| Loss: 0.1609| Acc: 0.9833| Train Time: 0.1978s\n"
     ]
    },
    {
     "name": "stderr",
     "output_type": "stream",
     "text": [
      "Evaluating: 100%|██████████| 9981/9981 [00:01<00:00, 8360.71it/s] \n"
     ]
    },
    {
     "name": "stdout",
     "output_type": "stream",
     "text": [
      "Train: 0.9417| Val: 0.6760| Test: 0.6800| Eval Time: 1.2000s\n",
      "Epoch 29| Loss: 0.3317| Acc: 0.9417| Train Time: 0.1828s\n"
     ]
    },
    {
     "name": "stderr",
     "output_type": "stream",
     "text": [
      "Evaluating: 100%|██████████| 9981/9981 [00:01<00:00, 9687.18it/s] \n"
     ]
    },
    {
     "name": "stdout",
     "output_type": "stream",
     "text": [
      "Train: 0.9333| Val: 0.6740| Test: 0.6790| Eval Time: 1.0396s\n",
      "Epoch 30| Loss: 0.2839| Acc: 0.9667| Train Time: 0.1933s\n"
     ]
    },
    {
     "name": "stderr",
     "output_type": "stream",
     "text": [
      "Evaluating: 100%|██████████| 9981/9981 [00:01<00:00, 8496.50it/s] \n"
     ]
    },
    {
     "name": "stdout",
     "output_type": "stream",
     "text": [
      "Train: 0.9333| Val: 0.6740| Test: 0.6760| Eval Time: 1.1817s\n",
      "Epoch 31| Loss: 0.4724| Acc: 0.9667| Train Time: 0.1969s\n"
     ]
    },
    {
     "name": "stderr",
     "output_type": "stream",
     "text": [
      "Evaluating: 100%|██████████| 9981/9981 [00:01<00:00, 9812.31it/s] \n"
     ]
    },
    {
     "name": "stdout",
     "output_type": "stream",
     "text": [
      "Train: 0.9417| Val: 0.6760| Test: 0.6700| Eval Time: 1.0234s\n",
      "Epoch 32| Loss: 0.1858| Acc: 0.9667| Train Time: 0.2728s\n"
     ]
    },
    {
     "name": "stderr",
     "output_type": "stream",
     "text": [
      "Evaluating: 100%|██████████| 9981/9981 [00:00<00:00, 10869.73it/s]\n"
     ]
    },
    {
     "name": "stdout",
     "output_type": "stream",
     "text": [
      "Train: 0.9417| Val: 0.6820| Test: 0.6670| Eval Time: 0.9264s\n",
      "Epoch 33| Loss: 0.2941| Acc: 0.9333| Train Time: 0.1380s\n"
     ]
    },
    {
     "name": "stderr",
     "output_type": "stream",
     "text": [
      "Evaluating: 100%|██████████| 9981/9981 [00:01<00:00, 8864.99it/s] \n"
     ]
    },
    {
     "name": "stdout",
     "output_type": "stream",
     "text": [
      "Train: 0.9500| Val: 0.6820| Test: 0.6660| Eval Time: 1.1918s\n",
      "Epoch 34| Loss: 0.0518| Acc: 0.9917| Train Time: 0.2044s\n"
     ]
    },
    {
     "name": "stderr",
     "output_type": "stream",
     "text": [
      "Evaluating: 100%|██████████| 9981/9981 [00:01<00:00, 9112.25it/s] \n"
     ]
    },
    {
     "name": "stdout",
     "output_type": "stream",
     "text": [
      "Train: 0.9500| Val: 0.6820| Test: 0.6670| Eval Time: 1.1005s\n",
      "Epoch 35| Loss: 0.2816| Acc: 0.9750| Train Time: 0.1974s\n"
     ]
    },
    {
     "name": "stderr",
     "output_type": "stream",
     "text": [
      "Evaluating: 100%|██████████| 9981/9981 [00:01<00:00, 8425.93it/s] \n"
     ]
    },
    {
     "name": "stdout",
     "output_type": "stream",
     "text": [
      "Train: 0.9500| Val: 0.6800| Test: 0.6700| Eval Time: 1.1910s\n",
      "Epoch 36| Loss: 0.2498| Acc: 0.9667| Train Time: 0.1932s\n"
     ]
    },
    {
     "name": "stderr",
     "output_type": "stream",
     "text": [
      "Evaluating: 100%|██████████| 9981/9981 [00:01<00:00, 9844.59it/s] \n"
     ]
    },
    {
     "name": "stdout",
     "output_type": "stream",
     "text": [
      "Train: 0.9500| Val: 0.6800| Test: 0.6680| Eval Time: 1.0897s\n",
      "\n",
      "Result of  8. run| Train: 0.8833| Val: 0.7020| Test: 0.6800\n",
      "\n",
      "Run 09 for GatV1_K5_D3_s and CiteSeer:\n"
     ]
    },
    {
     "name": "stderr",
     "output_type": "stream",
     "text": [
      "Epoch 01: 100%|██████████| 120/120 [00:00<00:00, 648.41it/s]\n"
     ]
    },
    {
     "name": "stdout",
     "output_type": "stream",
     "text": [
      "Epoch 01| Loss: 2.1491| Acc: 0.2083| Train Time: 0.1921s\n"
     ]
    },
    {
     "name": "stderr",
     "output_type": "stream",
     "text": [
      "Evaluating: 100%|██████████| 9981/9981 [00:01<00:00, 9776.63it/s] \n"
     ]
    },
    {
     "name": "stdout",
     "output_type": "stream",
     "text": [
      "Train: 0.7750| Val: 0.6220| Test: 0.6100| Eval Time: 1.0930s\n",
      "Epoch 02| Loss: 1.6197| Acc: 0.5250| Train Time: 0.2170s\n"
     ]
    },
    {
     "name": "stderr",
     "output_type": "stream",
     "text": [
      "Evaluating: 100%|██████████| 9981/9981 [00:00<00:00, 10091.84it/s]\n"
     ]
    },
    {
     "name": "stdout",
     "output_type": "stream",
     "text": [
      "Train: 0.8250| Val: 0.6320| Test: 0.6390| Eval Time: 0.9998s\n",
      "Epoch 03| Loss: 1.0495| Acc: 0.7167| Train Time: 0.1827s\n"
     ]
    },
    {
     "name": "stderr",
     "output_type": "stream",
     "text": [
      "Evaluating: 100%|██████████| 9981/9981 [00:01<00:00, 9901.45it/s] \n"
     ]
    },
    {
     "name": "stdout",
     "output_type": "stream",
     "text": [
      "Train: 0.8667| Val: 0.6660| Test: 0.6650| Eval Time: 1.0267s\n",
      "Epoch 04| Loss: 1.1209| Acc: 0.6917| Train Time: 0.2691s\n"
     ]
    },
    {
     "name": "stderr",
     "output_type": "stream",
     "text": [
      "Evaluating: 100%|██████████| 9981/9981 [00:01<00:00, 9901.08it/s] \n"
     ]
    },
    {
     "name": "stdout",
     "output_type": "stream",
     "text": [
      "Train: 0.8667| Val: 0.6660| Test: 0.6670| Eval Time: 1.0189s\n",
      "Epoch 05| Loss: 1.0983| Acc: 0.7833| Train Time: 0.1892s\n"
     ]
    },
    {
     "name": "stderr",
     "output_type": "stream",
     "text": [
      "Evaluating: 100%|██████████| 9981/9981 [00:01<00:00, 8915.88it/s] \n"
     ]
    },
    {
     "name": "stdout",
     "output_type": "stream",
     "text": [
      "Train: 0.8917| Val: 0.6520| Test: 0.6730| Eval Time: 1.1979s\n",
      "Epoch 06| Loss: 0.8940| Acc: 0.8000| Train Time: 0.1991s\n"
     ]
    },
    {
     "name": "stderr",
     "output_type": "stream",
     "text": [
      "Evaluating: 100%|██████████| 9981/9981 [00:01<00:00, 8888.59it/s] \n"
     ]
    },
    {
     "name": "stdout",
     "output_type": "stream",
     "text": [
      "Train: 0.8750| Val: 0.6240| Test: 0.6590| Eval Time: 1.1970s\n",
      "Epoch 07| Loss: 0.7062| Acc: 0.8750| Train Time: 0.2004s\n"
     ]
    },
    {
     "name": "stderr",
     "output_type": "stream",
     "text": [
      "Evaluating: 100%|██████████| 9981/9981 [00:01<00:00, 8405.52it/s] \n"
     ]
    },
    {
     "name": "stdout",
     "output_type": "stream",
     "text": [
      "Train: 0.8500| Val: 0.6140| Test: 0.6480| Eval Time: 1.1962s\n",
      "Epoch 08| Loss: 1.3514| Acc: 0.8833| Train Time: 0.2000s\n"
     ]
    },
    {
     "name": "stderr",
     "output_type": "stream",
     "text": [
      "Evaluating: 100%|██████████| 9981/9981 [00:01<00:00, 8408.28it/s] \n"
     ]
    },
    {
     "name": "stdout",
     "output_type": "stream",
     "text": [
      "Train: 0.8500| Val: 0.6000| Test: 0.6410| Eval Time: 1.1998s\n",
      "Epoch 09| Loss: 1.4616| Acc: 0.8417| Train Time: 0.2068s\n"
     ]
    },
    {
     "name": "stderr",
     "output_type": "stream",
     "text": [
      "Evaluating: 100%|██████████| 9981/9981 [00:01<00:00, 9006.56it/s] \n"
     ]
    },
    {
     "name": "stdout",
     "output_type": "stream",
     "text": [
      "Train: 0.8750| Val: 0.6040| Test: 0.6470| Eval Time: 1.1137s\n",
      "Epoch 10| Loss: 1.0843| Acc: 0.8333| Train Time: 0.2033s\n"
     ]
    },
    {
     "name": "stderr",
     "output_type": "stream",
     "text": [
      "Evaluating: 100%|██████████| 9981/9981 [00:01<00:00, 9773.76it/s] \n"
     ]
    },
    {
     "name": "stdout",
     "output_type": "stream",
     "text": [
      "Train: 0.8917| Val: 0.6180| Test: 0.6520| Eval Time: 1.0883s\n",
      "Epoch 11| Loss: 0.7744| Acc: 0.9000| Train Time: 0.1919s\n"
     ]
    },
    {
     "name": "stderr",
     "output_type": "stream",
     "text": [
      "Evaluating: 100%|██████████| 9981/9981 [00:01<00:00, 9249.04it/s] \n"
     ]
    },
    {
     "name": "stdout",
     "output_type": "stream",
     "text": [
      "Train: 0.9167| Val: 0.6340| Test: 0.6520| Eval Time: 1.0959s\n",
      "Epoch 12| Loss: 0.7045| Acc: 0.9000| Train Time: 0.1855s\n"
     ]
    },
    {
     "name": "stderr",
     "output_type": "stream",
     "text": [
      "Evaluating: 100%|██████████| 9981/9981 [00:01<00:00, 9127.28it/s] \n"
     ]
    },
    {
     "name": "stdout",
     "output_type": "stream",
     "text": [
      "Train: 0.9250| Val: 0.6500| Test: 0.6600| Eval Time: 1.1092s\n",
      "Epoch 13| Loss: 0.9193| Acc: 0.9000| Train Time: 0.1998s\n"
     ]
    },
    {
     "name": "stderr",
     "output_type": "stream",
     "text": [
      "Evaluating: 100%|██████████| 9981/9981 [00:00<00:00, 10002.27it/s]\n"
     ]
    },
    {
     "name": "stdout",
     "output_type": "stream",
     "text": [
      "Train: 0.9250| Val: 0.6420| Test: 0.6600| Eval Time: 1.0059s\n",
      "Epoch 14| Loss: 0.2553| Acc: 0.9250| Train Time: 0.1940s\n"
     ]
    },
    {
     "name": "stderr",
     "output_type": "stream",
     "text": [
      "Evaluating: 100%|██████████| 9981/9981 [00:00<00:00, 10852.13it/s]\n"
     ]
    },
    {
     "name": "stdout",
     "output_type": "stream",
     "text": [
      "Train: 0.9167| Val: 0.6380| Test: 0.6600| Eval Time: 0.9919s\n",
      "Epoch 15| Loss: 0.3759| Acc: 0.9333| Train Time: 0.1921s\n"
     ]
    },
    {
     "name": "stderr",
     "output_type": "stream",
     "text": [
      "Evaluating: 100%|██████████| 9981/9981 [00:01<00:00, 8304.38it/s] \n"
     ]
    },
    {
     "name": "stdout",
     "output_type": "stream",
     "text": [
      "Train: 0.9167| Val: 0.6400| Test: 0.6600| Eval Time: 1.2186s\n",
      "Epoch 16| Loss: 0.7074| Acc: 0.9500| Train Time: 0.1979s\n"
     ]
    },
    {
     "name": "stderr",
     "output_type": "stream",
     "text": [
      "Evaluating: 100%|██████████| 9981/9981 [00:01<00:00, 9971.03it/s] \n"
     ]
    },
    {
     "name": "stdout",
     "output_type": "stream",
     "text": [
      "Train: 0.9250| Val: 0.6520| Test: 0.6640| Eval Time: 1.0090s\n",
      "Epoch 17| Loss: 0.3183| Acc: 0.9250| Train Time: 0.1900s\n"
     ]
    },
    {
     "name": "stderr",
     "output_type": "stream",
     "text": [
      "Evaluating: 100%|██████████| 9981/9981 [00:01<00:00, 9090.14it/s] \n"
     ]
    },
    {
     "name": "stdout",
     "output_type": "stream",
     "text": [
      "Train: 0.9333| Val: 0.6520| Test: 0.6670| Eval Time: 1.1066s\n",
      "Epoch 18| Loss: 0.3621| Acc: 0.9500| Train Time: 0.2088s\n"
     ]
    },
    {
     "name": "stderr",
     "output_type": "stream",
     "text": [
      "Evaluating: 100%|██████████| 9981/9981 [00:01<00:00, 9360.20it/s] \n"
     ]
    },
    {
     "name": "stdout",
     "output_type": "stream",
     "text": [
      "Train: 0.9250| Val: 0.6520| Test: 0.6700| Eval Time: 1.0781s\n",
      "Epoch 19| Loss: 0.5281| Acc: 0.9667| Train Time: 0.2041s\n"
     ]
    },
    {
     "name": "stderr",
     "output_type": "stream",
     "text": [
      "Evaluating: 100%|██████████| 9981/9981 [00:01<00:00, 9209.58it/s] \n"
     ]
    },
    {
     "name": "stdout",
     "output_type": "stream",
     "text": [
      "Train: 0.9417| Val: 0.6480| Test: 0.6640| Eval Time: 1.0954s\n",
      "Epoch 20| Loss: 0.8512| Acc: 0.9083| Train Time: 0.1853s\n"
     ]
    },
    {
     "name": "stderr",
     "output_type": "stream",
     "text": [
      "Evaluating: 100%|██████████| 9981/9981 [00:01<00:00, 9713.27it/s] \n"
     ]
    },
    {
     "name": "stdout",
     "output_type": "stream",
     "text": [
      "Train: 0.9417| Val: 0.6420| Test: 0.6580| Eval Time: 1.0352s\n",
      "Epoch 21| Loss: 0.0648| Acc: 0.9750| Train Time: 0.2608s\n"
     ]
    },
    {
     "name": "stderr",
     "output_type": "stream",
     "text": [
      "Evaluating: 100%|██████████| 9981/9981 [00:01<00:00, 8877.86it/s] \n"
     ]
    },
    {
     "name": "stdout",
     "output_type": "stream",
     "text": [
      "Train: 0.9417| Val: 0.6380| Test: 0.6510| Eval Time: 1.1318s\n",
      "Epoch 22| Loss: 0.9105| Acc: 0.9250| Train Time: 0.2646s\n"
     ]
    },
    {
     "name": "stderr",
     "output_type": "stream",
     "text": [
      "Evaluating: 100%|██████████| 9981/9981 [00:01<00:00, 9929.82it/s] \n"
     ]
    },
    {
     "name": "stdout",
     "output_type": "stream",
     "text": [
      "Train: 0.9417| Val: 0.6460| Test: 0.6570| Eval Time: 1.0173s\n",
      "Epoch 23| Loss: 1.0793| Acc: 0.9583| Train Time: 0.2055s\n"
     ]
    },
    {
     "name": "stderr",
     "output_type": "stream",
     "text": [
      "Evaluating: 100%|██████████| 9981/9981 [00:01<00:00, 9887.29it/s] \n"
     ]
    },
    {
     "name": "stdout",
     "output_type": "stream",
     "text": [
      "Train: 0.9333| Val: 0.6400| Test: 0.6560| Eval Time: 1.0791s\n",
      "Epoch 24| Loss: 0.2499| Acc: 0.9750| Train Time: 0.2049s\n"
     ]
    },
    {
     "name": "stderr",
     "output_type": "stream",
     "text": [
      "Evaluating: 100%|██████████| 9981/9981 [00:01<00:00, 9177.54it/s] \n"
     ]
    },
    {
     "name": "stdout",
     "output_type": "stream",
     "text": [
      "Train: 0.9250| Val: 0.6440| Test: 0.6590| Eval Time: 1.0940s\n",
      "Epoch 25| Loss: 0.2299| Acc: 0.9667| Train Time: 0.1257s\n"
     ]
    },
    {
     "name": "stderr",
     "output_type": "stream",
     "text": [
      "Evaluating: 100%|██████████| 9981/9981 [00:01<00:00, 9095.65it/s] \n"
     ]
    },
    {
     "name": "stdout",
     "output_type": "stream",
     "text": [
      "Train: 0.9500| Val: 0.6420| Test: 0.6580| Eval Time: 1.1032s\n",
      "Epoch 26| Loss: 0.2103| Acc: 0.9667| Train Time: 0.2643s\n"
     ]
    },
    {
     "name": "stderr",
     "output_type": "stream",
     "text": [
      "Evaluating: 100%|██████████| 9981/9981 [00:01<00:00, 9664.02it/s] \n"
     ]
    },
    {
     "name": "stdout",
     "output_type": "stream",
     "text": [
      "Train: 0.9583| Val: 0.6440| Test: 0.6590| Eval Time: 1.0389s\n",
      "Epoch 27| Loss: 0.6617| Acc: 0.9333| Train Time: 0.2014s\n"
     ]
    },
    {
     "name": "stderr",
     "output_type": "stream",
     "text": [
      "Evaluating: 100%|██████████| 9981/9981 [00:01<00:00, 8301.57it/s] \n"
     ]
    },
    {
     "name": "stdout",
     "output_type": "stream",
     "text": [
      "Train: 0.9583| Val: 0.6420| Test: 0.6570| Eval Time: 1.2136s\n",
      "Epoch 28| Loss: 0.4215| Acc: 0.9583| Train Time: 0.1845s\n"
     ]
    },
    {
     "name": "stderr",
     "output_type": "stream",
     "text": [
      "Evaluating: 100%|██████████| 9981/9981 [00:01<00:00, 9711.14it/s] \n"
     ]
    },
    {
     "name": "stdout",
     "output_type": "stream",
     "text": [
      "Train: 0.9750| Val: 0.6460| Test: 0.6650| Eval Time: 1.0374s\n",
      "Epoch 29| Loss: 0.0565| Acc: 0.9750| Train Time: 0.2686s\n"
     ]
    },
    {
     "name": "stderr",
     "output_type": "stream",
     "text": [
      "Evaluating: 100%|██████████| 9981/9981 [00:01<00:00, 8237.16it/s] \n"
     ]
    },
    {
     "name": "stdout",
     "output_type": "stream",
     "text": [
      "Train: 0.9667| Val: 0.6460| Test: 0.6620| Eval Time: 1.2199s\n",
      "Epoch 30| Loss: 0.1782| Acc: 0.9667| Train Time: 0.1944s\n"
     ]
    },
    {
     "name": "stderr",
     "output_type": "stream",
     "text": [
      "Evaluating: 100%|██████████| 9981/9981 [00:00<00:00, 10018.59it/s]\n"
     ]
    },
    {
     "name": "stdout",
     "output_type": "stream",
     "text": [
      "Train: 0.9833| Val: 0.6460| Test: 0.6640| Eval Time: 1.0039s\n",
      "Epoch 31| Loss: 0.2163| Acc: 0.9667| Train Time: 0.1969s\n"
     ]
    },
    {
     "name": "stderr",
     "output_type": "stream",
     "text": [
      "Evaluating: 100%|██████████| 9981/9981 [00:01<00:00, 9224.17it/s] \n"
     ]
    },
    {
     "name": "stdout",
     "output_type": "stream",
     "text": [
      "Train: 0.9750| Val: 0.6440| Test: 0.6600| Eval Time: 1.0887s\n",
      "Epoch 32| Loss: 0.3972| Acc: 0.9750| Train Time: 0.1251s\n"
     ]
    },
    {
     "name": "stderr",
     "output_type": "stream",
     "text": [
      "Evaluating: 100%|██████████| 9981/9981 [00:01<00:00, 8926.45it/s] \n"
     ]
    },
    {
     "name": "stdout",
     "output_type": "stream",
     "text": [
      "Train: 0.9667| Val: 0.6400| Test: 0.6580| Eval Time: 1.1851s\n",
      "Epoch 33| Loss: 0.2308| Acc: 0.9750| Train Time: 0.1895s\n"
     ]
    },
    {
     "name": "stderr",
     "output_type": "stream",
     "text": [
      "Evaluating: 100%|██████████| 9981/9981 [00:01<00:00, 9014.72it/s] \n"
     ]
    },
    {
     "name": "stdout",
     "output_type": "stream",
     "text": [
      "Train: 0.9667| Val: 0.6360| Test: 0.6540| Eval Time: 1.1197s\n",
      "\n",
      "Result of  9. run| Train: 0.8667| Val: 0.6660| Test: 0.6650\n",
      "\n",
      "Run 10 for GatV1_K5_D3_s and CiteSeer:\n"
     ]
    },
    {
     "name": "stderr",
     "output_type": "stream",
     "text": [
      "Epoch 01: 100%|██████████| 120/120 [00:00<00:00, 552.85it/s]\n"
     ]
    },
    {
     "name": "stdout",
     "output_type": "stream",
     "text": [
      "Epoch 01| Loss: 1.9896| Acc: 0.1583| Train Time: 0.2836s\n"
     ]
    },
    {
     "name": "stderr",
     "output_type": "stream",
     "text": [
      "Evaluating: 100%|██████████| 9981/9981 [00:01<00:00, 8944.20it/s] \n"
     ]
    },
    {
     "name": "stdout",
     "output_type": "stream",
     "text": [
      "Train: 0.7500| Val: 0.6080| Test: 0.6060| Eval Time: 1.1850s\n",
      "Epoch 02| Loss: 1.4577| Acc: 0.6000| Train Time: 0.1966s\n"
     ]
    },
    {
     "name": "stderr",
     "output_type": "stream",
     "text": [
      "Evaluating: 100%|██████████| 9981/9981 [00:01<00:00, 9734.58it/s] \n"
     ]
    },
    {
     "name": "stdout",
     "output_type": "stream",
     "text": [
      "Train: 0.8333| Val: 0.6620| Test: 0.6630| Eval Time: 1.0957s\n",
      "Epoch 03| Loss: 1.3401| Acc: 0.7000| Train Time: 0.1268s\n"
     ]
    },
    {
     "name": "stderr",
     "output_type": "stream",
     "text": [
      "Evaluating: 100%|██████████| 9981/9981 [00:01<00:00, 9144.68it/s] \n"
     ]
    },
    {
     "name": "stdout",
     "output_type": "stream",
     "text": [
      "Train: 0.8417| Val: 0.6620| Test: 0.6670| Eval Time: 1.0994s\n",
      "Epoch 04| Loss: 1.4122| Acc: 0.7083| Train Time: 0.2022s\n"
     ]
    },
    {
     "name": "stderr",
     "output_type": "stream",
     "text": [
      "Evaluating: 100%|██████████| 9981/9981 [00:00<00:00, 10011.34it/s]\n"
     ]
    },
    {
     "name": "stdout",
     "output_type": "stream",
     "text": [
      "Train: 0.8750| Val: 0.6600| Test: 0.6760| Eval Time: 1.0024s\n",
      "Epoch 05| Loss: 1.2441| Acc: 0.8167| Train Time: 0.2027s\n"
     ]
    },
    {
     "name": "stderr",
     "output_type": "stream",
     "text": [
      "Evaluating: 100%|██████████| 9981/9981 [00:01<00:00, 9670.57it/s] \n"
     ]
    },
    {
     "name": "stdout",
     "output_type": "stream",
     "text": [
      "Train: 0.8833| Val: 0.6580| Test: 0.6780| Eval Time: 1.1007s\n",
      "Epoch 06| Loss: 0.9825| Acc: 0.8000| Train Time: 0.2607s\n"
     ]
    },
    {
     "name": "stderr",
     "output_type": "stream",
     "text": [
      "Evaluating: 100%|██████████| 9981/9981 [00:00<00:00, 10911.60it/s]\n"
     ]
    },
    {
     "name": "stdout",
     "output_type": "stream",
     "text": [
      "Train: 0.8833| Val: 0.6600| Test: 0.6730| Eval Time: 0.9230s\n",
      "Epoch 07| Loss: 1.2904| Acc: 0.8417| Train Time: 0.2010s\n"
     ]
    },
    {
     "name": "stderr",
     "output_type": "stream",
     "text": [
      "Evaluating: 100%|██████████| 9981/9981 [00:01<00:00, 9280.76it/s] \n"
     ]
    },
    {
     "name": "stdout",
     "output_type": "stream",
     "text": [
      "Train: 0.8833| Val: 0.6480| Test: 0.6620| Eval Time: 1.0876s\n",
      "Epoch 08| Loss: 0.8011| Acc: 0.8917| Train Time: 0.1988s\n"
     ]
    },
    {
     "name": "stderr",
     "output_type": "stream",
     "text": [
      "Evaluating: 100%|██████████| 9981/9981 [00:01<00:00, 9024.40it/s] \n"
     ]
    },
    {
     "name": "stdout",
     "output_type": "stream",
     "text": [
      "Train: 0.8917| Val: 0.6400| Test: 0.6470| Eval Time: 1.1132s\n",
      "Epoch 09| Loss: 0.8152| Acc: 0.8833| Train Time: 0.1908s\n"
     ]
    },
    {
     "name": "stderr",
     "output_type": "stream",
     "text": [
      "Evaluating: 100%|██████████| 9981/9981 [00:01<00:00, 9892.88it/s] \n"
     ]
    },
    {
     "name": "stdout",
     "output_type": "stream",
     "text": [
      "Train: 0.8833| Val: 0.6380| Test: 0.6470| Eval Time: 1.1016s\n",
      "Epoch 10| Loss: 0.6078| Acc: 0.8417| Train Time: 0.1785s\n"
     ]
    },
    {
     "name": "stderr",
     "output_type": "stream",
     "text": [
      "Evaluating: 100%|██████████| 9981/9981 [00:01<00:00, 8914.49it/s] \n"
     ]
    },
    {
     "name": "stdout",
     "output_type": "stream",
     "text": [
      "Train: 0.9083| Val: 0.6440| Test: 0.6520| Eval Time: 1.1277s\n",
      "Epoch 11| Loss: 0.7451| Acc: 0.8833| Train Time: 0.1995s\n"
     ]
    },
    {
     "name": "stderr",
     "output_type": "stream",
     "text": [
      "Evaluating: 100%|██████████| 9981/9981 [00:01<00:00, 9066.13it/s] \n"
     ]
    },
    {
     "name": "stdout",
     "output_type": "stream",
     "text": [
      "Train: 0.9250| Val: 0.6460| Test: 0.6520| Eval Time: 1.1721s\n",
      "Epoch 12| Loss: 0.5291| Acc: 0.8917| Train Time: 0.2160s\n"
     ]
    },
    {
     "name": "stderr",
     "output_type": "stream",
     "text": [
      "Evaluating: 100%|██████████| 9981/9981 [00:01<00:00, 9254.85it/s] \n"
     ]
    },
    {
     "name": "stdout",
     "output_type": "stream",
     "text": [
      "Train: 0.9417| Val: 0.6420| Test: 0.6550| Eval Time: 1.0911s\n",
      "Epoch 13| Loss: 0.9270| Acc: 0.9167| Train Time: 0.2064s\n"
     ]
    },
    {
     "name": "stderr",
     "output_type": "stream",
     "text": [
      "Evaluating: 100%|██████████| 9981/9981 [00:01<00:00, 9232.09it/s] \n"
     ]
    },
    {
     "name": "stdout",
     "output_type": "stream",
     "text": [
      "Train: 0.9500| Val: 0.6460| Test: 0.6510| Eval Time: 1.1011s\n",
      "Epoch 14| Loss: 0.2115| Acc: 0.9667| Train Time: 0.2038s\n"
     ]
    },
    {
     "name": "stderr",
     "output_type": "stream",
     "text": [
      "Evaluating: 100%|██████████| 9981/9981 [00:00<00:00, 10143.35it/s]\n"
     ]
    },
    {
     "name": "stdout",
     "output_type": "stream",
     "text": [
      "Train: 0.9417| Val: 0.6440| Test: 0.6420| Eval Time: 0.9913s\n",
      "Epoch 15| Loss: 0.8207| Acc: 0.9250| Train Time: 0.1951s\n"
     ]
    },
    {
     "name": "stderr",
     "output_type": "stream",
     "text": [
      "Evaluating: 100%|██████████| 9981/9981 [00:01<00:00, 9010.71it/s] \n"
     ]
    },
    {
     "name": "stdout",
     "output_type": "stream",
     "text": [
      "Train: 0.9500| Val: 0.6460| Test: 0.6420| Eval Time: 1.1138s\n",
      "Epoch 16| Loss: 0.3061| Acc: 0.9167| Train Time: 0.1845s\n"
     ]
    },
    {
     "name": "stderr",
     "output_type": "stream",
     "text": [
      "Evaluating: 100%|██████████| 9981/9981 [00:01<00:00, 9040.99it/s] \n"
     ]
    },
    {
     "name": "stdout",
     "output_type": "stream",
     "text": [
      "Train: 0.9500| Val: 0.6420| Test: 0.6420| Eval Time: 1.1118s\n",
      "Epoch 17| Loss: 0.2176| Acc: 0.9500| Train Time: 0.1919s\n"
     ]
    },
    {
     "name": "stderr",
     "output_type": "stream",
     "text": [
      "Evaluating: 100%|██████████| 9981/9981 [00:01<00:00, 9016.18it/s] \n"
     ]
    },
    {
     "name": "stdout",
     "output_type": "stream",
     "text": [
      "Train: 0.9583| Val: 0.6380| Test: 0.6430| Eval Time: 1.1170s\n",
      "Epoch 18| Loss: 0.7900| Acc: 0.9333| Train Time: 0.2689s\n"
     ]
    },
    {
     "name": "stderr",
     "output_type": "stream",
     "text": [
      "Evaluating: 100%|██████████| 9981/9981 [00:01<00:00, 8919.66it/s] \n"
     ]
    },
    {
     "name": "stdout",
     "output_type": "stream",
     "text": [
      "Train: 0.9417| Val: 0.6480| Test: 0.6480| Eval Time: 1.1265s\n",
      "Epoch 19| Loss: 0.2866| Acc: 0.9417| Train Time: 0.1920s\n"
     ]
    },
    {
     "name": "stderr",
     "output_type": "stream",
     "text": [
      "Evaluating: 100%|██████████| 9981/9981 [00:01<00:00, 9034.65it/s] \n"
     ]
    },
    {
     "name": "stdout",
     "output_type": "stream",
     "text": [
      "Train: 0.9500| Val: 0.6500| Test: 0.6480| Eval Time: 1.1122s\n",
      "Epoch 20| Loss: 0.3146| Acc: 0.9500| Train Time: 0.2085s\n"
     ]
    },
    {
     "name": "stderr",
     "output_type": "stream",
     "text": [
      "Evaluating: 100%|██████████| 9981/9981 [00:01<00:00, 9896.92it/s] \n"
     ]
    },
    {
     "name": "stdout",
     "output_type": "stream",
     "text": [
      "Train: 0.9417| Val: 0.6460| Test: 0.6500| Eval Time: 1.0182s\n",
      "Epoch 21| Loss: 0.2085| Acc: 0.9583| Train Time: 0.2083s\n"
     ]
    },
    {
     "name": "stderr",
     "output_type": "stream",
     "text": [
      "Evaluating: 100%|██████████| 9981/9981 [00:01<00:00, 8385.22it/s] \n"
     ]
    },
    {
     "name": "stdout",
     "output_type": "stream",
     "text": [
      "Train: 0.9417| Val: 0.6580| Test: 0.6560| Eval Time: 1.1964s\n",
      "Epoch 22| Loss: 0.0261| Acc: 0.9833| Train Time: 0.2770s\n"
     ]
    },
    {
     "name": "stderr",
     "output_type": "stream",
     "text": [
      "Evaluating: 100%|██████████| 9981/9981 [00:01<00:00, 9019.60it/s] \n"
     ]
    },
    {
     "name": "stdout",
     "output_type": "stream",
     "text": [
      "Train: 0.9333| Val: 0.6680| Test: 0.6580| Eval Time: 1.1144s\n",
      "Epoch 23| Loss: 0.1908| Acc: 0.9917| Train Time: 0.2072s\n"
     ]
    },
    {
     "name": "stderr",
     "output_type": "stream",
     "text": [
      "Evaluating: 100%|██████████| 9981/9981 [00:01<00:00, 8338.82it/s] \n"
     ]
    },
    {
     "name": "stdout",
     "output_type": "stream",
     "text": [
      "Train: 0.9417| Val: 0.6660| Test: 0.6620| Eval Time: 1.2027s\n",
      "Epoch 24| Loss: 0.1775| Acc: 0.9417| Train Time: 0.1989s\n"
     ]
    },
    {
     "name": "stderr",
     "output_type": "stream",
     "text": [
      "Evaluating: 100%|██████████| 9981/9981 [00:01<00:00, 8176.15it/s] \n"
     ]
    },
    {
     "name": "stdout",
     "output_type": "stream",
     "text": [
      "Train: 0.9333| Val: 0.6680| Test: 0.6630| Eval Time: 1.2909s\n",
      "Epoch 25| Loss: 0.3190| Acc: 0.9583| Train Time: 0.1959s\n"
     ]
    },
    {
     "name": "stderr",
     "output_type": "stream",
     "text": [
      "Evaluating: 100%|██████████| 9981/9981 [00:01<00:00, 9243.74it/s] \n"
     ]
    },
    {
     "name": "stdout",
     "output_type": "stream",
     "text": [
      "Train: 0.9333| Val: 0.6780| Test: 0.6670| Eval Time: 1.0894s\n",
      "Epoch 26| Loss: 0.0239| Acc: 0.9917| Train Time: 0.1887s\n"
     ]
    },
    {
     "name": "stderr",
     "output_type": "stream",
     "text": [
      "Evaluating: 100%|██████████| 9981/9981 [00:01<00:00, 9071.72it/s] \n"
     ]
    },
    {
     "name": "stdout",
     "output_type": "stream",
     "text": [
      "Train: 0.9333| Val: 0.6880| Test: 0.6710| Eval Time: 1.1063s\n",
      "Epoch 27| Loss: 0.0601| Acc: 0.9917| Train Time: 0.1928s\n"
     ]
    },
    {
     "name": "stderr",
     "output_type": "stream",
     "text": [
      "Evaluating: 100%|██████████| 9981/9981 [00:01<00:00, 8935.89it/s] \n"
     ]
    },
    {
     "name": "stdout",
     "output_type": "stream",
     "text": [
      "Train: 0.9417| Val: 0.6880| Test: 0.6700| Eval Time: 1.1237s\n",
      "Epoch 28| Loss: 0.7231| Acc: 0.9583| Train Time: 0.1920s\n"
     ]
    },
    {
     "name": "stderr",
     "output_type": "stream",
     "text": [
      "Evaluating: 100%|██████████| 9981/9981 [00:01<00:00, 9227.20it/s] \n"
     ]
    },
    {
     "name": "stdout",
     "output_type": "stream",
     "text": [
      "Train: 0.9417| Val: 0.6940| Test: 0.6690| Eval Time: 1.0944s\n",
      "Epoch 29| Loss: 0.5152| Acc: 0.9500| Train Time: 0.1226s\n"
     ]
    },
    {
     "name": "stderr",
     "output_type": "stream",
     "text": [
      "Evaluating: 100%|██████████| 9981/9981 [00:00<00:00, 10647.67it/s]\n"
     ]
    },
    {
     "name": "stdout",
     "output_type": "stream",
     "text": [
      "Train: 0.9417| Val: 0.6940| Test: 0.6690| Eval Time: 1.0683s\n",
      "Epoch 30| Loss: 0.2342| Acc: 0.9500| Train Time: 0.1903s\n"
     ]
    },
    {
     "name": "stderr",
     "output_type": "stream",
     "text": [
      "Evaluating: 100%|██████████| 9981/9981 [00:01<00:00, 9735.08it/s] \n"
     ]
    },
    {
     "name": "stdout",
     "output_type": "stream",
     "text": [
      "Train: 0.9500| Val: 0.6900| Test: 0.6690| Eval Time: 1.0344s\n",
      "Epoch 31| Loss: 0.2022| Acc: 0.9667| Train Time: 0.1973s\n"
     ]
    },
    {
     "name": "stderr",
     "output_type": "stream",
     "text": [
      "Evaluating: 100%|██████████| 9981/9981 [00:01<00:00, 7845.41it/s] \n"
     ]
    },
    {
     "name": "stdout",
     "output_type": "stream",
     "text": [
      "Train: 0.9500| Val: 0.6860| Test: 0.6670| Eval Time: 1.2823s\n",
      "Epoch 32| Loss: 0.0406| Acc: 0.9917| Train Time: 0.1896s\n"
     ]
    },
    {
     "name": "stderr",
     "output_type": "stream",
     "text": [
      "Evaluating: 100%|██████████| 9981/9981 [00:01<00:00, 8956.16it/s] \n"
     ]
    },
    {
     "name": "stdout",
     "output_type": "stream",
     "text": [
      "Train: 0.9750| Val: 0.6800| Test: 0.6650| Eval Time: 1.1232s\n",
      "Epoch 33| Loss: 0.1430| Acc: 0.9833| Train Time: 0.2054s\n"
     ]
    },
    {
     "name": "stderr",
     "output_type": "stream",
     "text": [
      "Evaluating: 100%|██████████| 9981/9981 [00:01<00:00, 8195.50it/s] \n"
     ]
    },
    {
     "name": "stdout",
     "output_type": "stream",
     "text": [
      "Train: 0.9833| Val: 0.6760| Test: 0.6600| Eval Time: 1.2860s\n",
      "Epoch 34| Loss: 1.0190| Acc: 0.9583| Train Time: 0.2030s\n"
     ]
    },
    {
     "name": "stderr",
     "output_type": "stream",
     "text": [
      "Evaluating: 100%|██████████| 9981/9981 [00:01<00:00, 8503.08it/s] \n"
     ]
    },
    {
     "name": "stdout",
     "output_type": "stream",
     "text": [
      "Train: 0.9833| Val: 0.6660| Test: 0.6560| Eval Time: 1.1846s\n",
      "Epoch 35| Loss: 0.1153| Acc: 0.9833| Train Time: 0.1951s\n"
     ]
    },
    {
     "name": "stderr",
     "output_type": "stream",
     "text": [
      "Evaluating: 100%|██████████| 9981/9981 [00:01<00:00, 9924.10it/s] \n"
     ]
    },
    {
     "name": "stdout",
     "output_type": "stream",
     "text": [
      "Train: 0.9833| Val: 0.6580| Test: 0.6520| Eval Time: 1.0134s\n",
      "Epoch 36| Loss: 0.0051| Acc: 1.0000| Train Time: 0.1900s\n"
     ]
    },
    {
     "name": "stderr",
     "output_type": "stream",
     "text": [
      "Evaluating: 100%|██████████| 9981/9981 [00:01<00:00, 9820.46it/s] \n"
     ]
    },
    {
     "name": "stdout",
     "output_type": "stream",
     "text": [
      "Train: 0.9750| Val: 0.6500| Test: 0.6510| Eval Time: 1.0929s\n",
      "Epoch 37| Loss: 0.0900| Acc: 0.9750| Train Time: 0.2021s\n"
     ]
    },
    {
     "name": "stderr",
     "output_type": "stream",
     "text": [
      "Evaluating: 100%|██████████| 9981/9981 [00:01<00:00, 9843.75it/s] \n"
     ]
    },
    {
     "name": "stdout",
     "output_type": "stream",
     "text": [
      "Train: 0.9750| Val: 0.6440| Test: 0.6470| Eval Time: 1.0212s\n",
      "Epoch 38| Loss: 0.0275| Acc: 0.9833| Train Time: 0.2636s\n"
     ]
    },
    {
     "name": "stderr",
     "output_type": "stream",
     "text": [
      "Evaluating: 100%|██████████| 9981/9981 [00:01<00:00, 9790.56it/s] \n"
     ]
    },
    {
     "name": "stdout",
     "output_type": "stream",
     "text": [
      "Train: 0.9833| Val: 0.6420| Test: 0.6430| Eval Time: 1.0281s\n",
      "Epoch 39| Loss: 0.0711| Acc: 0.9750| Train Time: 0.2068s\n"
     ]
    },
    {
     "name": "stderr",
     "output_type": "stream",
     "text": [
      "Evaluating: 100%|██████████| 9981/9981 [00:01<00:00, 9130.29it/s] \n"
     ]
    },
    {
     "name": "stdout",
     "output_type": "stream",
     "text": [
      "Train: 0.9833| Val: 0.6460| Test: 0.6420| Eval Time: 1.0980s\n",
      "Epoch 40| Loss: 0.0629| Acc: 0.9917| Train Time: 0.2008s\n"
     ]
    },
    {
     "name": "stderr",
     "output_type": "stream",
     "text": [
      "Evaluating: 100%|██████████| 9981/9981 [00:01<00:00, 9652.82it/s] \n"
     ]
    },
    {
     "name": "stdout",
     "output_type": "stream",
     "text": [
      "Train: 0.9833| Val: 0.6600| Test: 0.6440| Eval Time: 1.1624s\n",
      "Epoch 41| Loss: 0.6335| Acc: 0.9583| Train Time: 0.1995s\n"
     ]
    },
    {
     "name": "stderr",
     "output_type": "stream",
     "text": [
      "Evaluating: 100%|██████████| 9981/9981 [00:01<00:00, 8855.03it/s] \n"
     ]
    },
    {
     "name": "stdout",
     "output_type": "stream",
     "text": [
      "Train: 0.9833| Val: 0.6640| Test: 0.6480| Eval Time: 1.1379s\n",
      "Epoch 42| Loss: 0.0486| Acc: 0.9750| Train Time: 0.2625s\n"
     ]
    },
    {
     "name": "stderr",
     "output_type": "stream",
     "text": [
      "Evaluating: 100%|██████████| 9981/9981 [00:01<00:00, 8241.49it/s] \n"
     ]
    },
    {
     "name": "stdout",
     "output_type": "stream",
     "text": [
      "Train: 0.9833| Val: 0.6600| Test: 0.6530| Eval Time: 1.2213s\n",
      "Epoch 43| Loss: 0.2414| Acc: 0.9667| Train Time: 0.2005s\n"
     ]
    },
    {
     "name": "stderr",
     "output_type": "stream",
     "text": [
      "Evaluating: 100%|██████████| 9981/9981 [00:01<00:00, 9244.63it/s] \n"
     ]
    },
    {
     "name": "stdout",
     "output_type": "stream",
     "text": [
      "Train: 0.9583| Val: 0.6580| Test: 0.6610| Eval Time: 1.0895s\n",
      "Epoch 44| Loss: 0.2664| Acc: 0.9750| Train Time: 0.1865s\n"
     ]
    },
    {
     "name": "stderr",
     "output_type": "stream",
     "text": [
      "Evaluating: 100%|██████████| 9981/9981 [00:01<00:00, 8852.49it/s] \n"
     ]
    },
    {
     "name": "stdout",
     "output_type": "stream",
     "text": [
      "Train: 0.9583| Val: 0.6600| Test: 0.6610| Eval Time: 1.1342s\n",
      "Epoch 45| Loss: 0.0530| Acc: 0.9833| Train Time: 0.1295s\n"
     ]
    },
    {
     "name": "stderr",
     "output_type": "stream",
     "text": [
      "Evaluating: 100%|██████████| 9981/9981 [00:01<00:00, 8261.92it/s] \n"
     ]
    },
    {
     "name": "stdout",
     "output_type": "stream",
     "text": [
      "Train: 0.9583| Val: 0.6560| Test: 0.6610| Eval Time: 1.2788s\n",
      "Epoch 46| Loss: 0.0719| Acc: 0.9750| Train Time: 0.2105s\n"
     ]
    },
    {
     "name": "stderr",
     "output_type": "stream",
     "text": [
      "Evaluating: 100%|██████████| 9981/9981 [00:01<00:00, 8963.96it/s] \n"
     ]
    },
    {
     "name": "stdout",
     "output_type": "stream",
     "text": [
      "Train: 0.9583| Val: 0.6580| Test: 0.6620| Eval Time: 1.1817s\n",
      "Epoch 47| Loss: 0.2581| Acc: 0.9750| Train Time: 0.1227s\n"
     ]
    },
    {
     "name": "stderr",
     "output_type": "stream",
     "text": [
      "Evaluating: 100%|██████████| 9981/9981 [00:01<00:00, 9043.98it/s] \n"
     ]
    },
    {
     "name": "stdout",
     "output_type": "stream",
     "text": [
      "Train: 0.9583| Val: 0.6580| Test: 0.6610| Eval Time: 1.1099s\n",
      "Epoch 48| Loss: 1.0602| Acc: 0.9750| Train Time: 0.1961s\n"
     ]
    },
    {
     "name": "stderr",
     "output_type": "stream",
     "text": [
      "Evaluating: 100%|██████████| 9981/9981 [00:01<00:00, 8548.06it/s] \n"
     ]
    },
    {
     "name": "stdout",
     "output_type": "stream",
     "text": [
      "Train: 0.9667| Val: 0.6540| Test: 0.6610| Eval Time: 1.1799s\n",
      "Epoch 49| Loss: 0.0072| Acc: 1.0000| Train Time: 0.2116s\n"
     ]
    },
    {
     "name": "stderr",
     "output_type": "stream",
     "text": [
      "Evaluating: 100%|██████████| 9981/9981 [00:01<00:00, 9258.80it/s] \n"
     ]
    },
    {
     "name": "stdout",
     "output_type": "stream",
     "text": [
      "Train: 0.9750| Val: 0.6560| Test: 0.6590| Eval Time: 1.0891s\n",
      "Epoch 50| Loss: 0.2999| Acc: 0.9667| Train Time: 0.1907s\n"
     ]
    },
    {
     "name": "stderr",
     "output_type": "stream",
     "text": [
      "Evaluating: 100%|██████████| 9981/9981 [00:01<00:00, 8894.24it/s] \n"
     ]
    },
    {
     "name": "stdout",
     "output_type": "stream",
     "text": [
      "Train: 0.9833| Val: 0.6640| Test: 0.6590| Eval Time: 1.1293s\n",
      "Epoch 51| Loss: 0.0533| Acc: 0.9750| Train Time: 0.1968s\n"
     ]
    },
    {
     "name": "stderr",
     "output_type": "stream",
     "text": [
      "Evaluating: 100%|██████████| 9981/9981 [00:01<00:00, 9014.79it/s] \n"
     ]
    },
    {
     "name": "stdout",
     "output_type": "stream",
     "text": [
      "Train: 0.9750| Val: 0.6620| Test: 0.6540| Eval Time: 1.1789s\n",
      "Epoch 52| Loss: 0.1084| Acc: 0.9833| Train Time: 0.2045s\n"
     ]
    },
    {
     "name": "stderr",
     "output_type": "stream",
     "text": [
      "Evaluating: 100%|██████████| 9981/9981 [00:00<00:00, 10167.19it/s]\n"
     ]
    },
    {
     "name": "stdout",
     "output_type": "stream",
     "text": [
      "Train: 0.9750| Val: 0.6680| Test: 0.6560| Eval Time: 0.9891s\n",
      "Epoch 53| Loss: 0.4153| Acc: 0.9667| Train Time: 0.1892s\n"
     ]
    },
    {
     "name": "stderr",
     "output_type": "stream",
     "text": [
      "Evaluating: 100%|██████████| 9981/9981 [00:01<00:00, 9765.72it/s] \n"
     ]
    },
    {
     "name": "stdout",
     "output_type": "stream",
     "text": [
      "Train: 0.9750| Val: 0.6720| Test: 0.6530| Eval Time: 1.0293s\n",
      "Epoch 54| Loss: 0.0745| Acc: 0.9917| Train Time: 0.1880s\n"
     ]
    },
    {
     "name": "stderr",
     "output_type": "stream",
     "text": [
      "Evaluating: 100%|██████████| 9981/9981 [00:01<00:00, 9899.76it/s] \n"
     ]
    },
    {
     "name": "stdout",
     "output_type": "stream",
     "text": [
      "Train: 0.9667| Val: 0.6700| Test: 0.6570| Eval Time: 1.0145s\n",
      "Epoch 55| Loss: 0.1099| Acc: 0.9750| Train Time: 0.1948s\n"
     ]
    },
    {
     "name": "stderr",
     "output_type": "stream",
     "text": [
      "Evaluating: 100%|██████████| 9981/9981 [00:01<00:00, 8486.55it/s] \n"
     ]
    },
    {
     "name": "stdout",
     "output_type": "stream",
     "text": [
      "Train: 0.9667| Val: 0.6640| Test: 0.6600| Eval Time: 1.1823s\n",
      "Epoch 56| Loss: 0.1082| Acc: 0.9833| Train Time: 0.1270s\n"
     ]
    },
    {
     "name": "stderr",
     "output_type": "stream",
     "text": [
      "Evaluating: 100%|██████████| 9981/9981 [00:01<00:00, 9798.92it/s] \n"
     ]
    },
    {
     "name": "stdout",
     "output_type": "stream",
     "text": [
      "Train: 0.9583| Val: 0.6620| Test: 0.6710| Eval Time: 1.0870s\n",
      "Epoch 57| Loss: 0.1791| Acc: 0.9750| Train Time: 0.1897s\n"
     ]
    },
    {
     "name": "stderr",
     "output_type": "stream",
     "text": [
      "Evaluating: 100%|██████████| 9981/9981 [00:01<00:00, 9949.05it/s] \n"
     ]
    },
    {
     "name": "stdout",
     "output_type": "stream",
     "text": [
      "Train: 0.9417| Val: 0.6500| Test: 0.6630| Eval Time: 1.0100s\n",
      "Epoch 58| Loss: 0.0912| Acc: 0.9917| Train Time: 0.1937s\n"
     ]
    },
    {
     "name": "stderr",
     "output_type": "stream",
     "text": [
      "Evaluating: 100%|██████████| 9981/9981 [00:00<00:00, 10931.18it/s]\n"
     ]
    },
    {
     "name": "stdout",
     "output_type": "stream",
     "text": [
      "Train: 0.9250| Val: 0.6460| Test: 0.6540| Eval Time: 0.9881s\n",
      "\n",
      "Result of 10. run| Train: 0.9417| Val: 0.6940| Test: 0.6690\n",
      "\n",
      "Run 01 for GatV1_K6_D3_s and CiteSeer:\n"
     ]
    },
    {
     "name": "stderr",
     "output_type": "stream",
     "text": [
      "Epoch 01: 100%|██████████| 120/120 [00:01<00:00, 101.48it/s]\n"
     ]
    },
    {
     "name": "stdout",
     "output_type": "stream",
     "text": [
      "Epoch 01| Loss: 2.3863| Acc: 0.2167| Train Time: 1.1859s\n"
     ]
    },
    {
     "name": "stderr",
     "output_type": "stream",
     "text": [
      "Evaluating: 100%|██████████| 9981/9981 [00:01<00:00, 5915.71it/s] \n"
     ]
    },
    {
     "name": "stdout",
     "output_type": "stream",
     "text": [
      "Train: 0.6750| Val: 0.5420| Test: 0.5300| Eval Time: 1.6970s\n",
      "Epoch 02| Loss: 1.7833| Acc: 0.5083| Train Time: 1.1568s\n"
     ]
    },
    {
     "name": "stderr",
     "output_type": "stream",
     "text": [
      "Evaluating: 100%|██████████| 9981/9981 [00:01<00:00, 7847.33it/s] \n"
     ]
    },
    {
     "name": "stdout",
     "output_type": "stream",
     "text": [
      "Train: 0.8250| Val: 0.6720| Test: 0.6470| Eval Time: 1.2778s\n",
      "Epoch 03| Loss: 1.4161| Acc: 0.6750| Train Time: 0.2672s\n"
     ]
    },
    {
     "name": "stderr",
     "output_type": "stream",
     "text": [
      "Evaluating: 100%|██████████| 9981/9981 [00:01<00:00, 8222.19it/s] \n"
     ]
    },
    {
     "name": "stdout",
     "output_type": "stream",
     "text": [
      "Train: 0.8250| Val: 0.6820| Test: 0.6560| Eval Time: 1.2221s\n",
      "Epoch 04| Loss: 1.6317| Acc: 0.7333| Train Time: 0.2093s\n"
     ]
    },
    {
     "name": "stderr",
     "output_type": "stream",
     "text": [
      "Evaluating: 100%|██████████| 9981/9981 [00:01<00:00, 7739.65it/s] \n"
     ]
    },
    {
     "name": "stdout",
     "output_type": "stream",
     "text": [
      "Train: 0.8250| Val: 0.6800| Test: 0.6630| Eval Time: 1.2949s\n",
      "Epoch 05| Loss: 1.3393| Acc: 0.6917| Train Time: 0.2802s\n"
     ]
    },
    {
     "name": "stderr",
     "output_type": "stream",
     "text": [
      "Evaluating: 100%|██████████| 9981/9981 [00:01<00:00, 8338.14it/s] \n"
     ]
    },
    {
     "name": "stdout",
     "output_type": "stream",
     "text": [
      "Train: 0.8500| Val: 0.6880| Test: 0.6700| Eval Time: 1.2061s\n",
      "Epoch 06| Loss: 1.3393| Acc: 0.7750| Train Time: 0.2102s\n"
     ]
    },
    {
     "name": "stderr",
     "output_type": "stream",
     "text": [
      "Evaluating: 100%|██████████| 9981/9981 [00:01<00:00, 8362.66it/s] \n"
     ]
    },
    {
     "name": "stdout",
     "output_type": "stream",
     "text": [
      "Train: 0.8500| Val: 0.6680| Test: 0.6800| Eval Time: 1.1994s\n",
      "Epoch 07| Loss: 1.8417| Acc: 0.8083| Train Time: 0.2842s\n"
     ]
    },
    {
     "name": "stderr",
     "output_type": "stream",
     "text": [
      "Evaluating: 100%|██████████| 9981/9981 [00:01<00:00, 8487.77it/s] \n"
     ]
    },
    {
     "name": "stdout",
     "output_type": "stream",
     "text": [
      "Train: 0.8500| Val: 0.6600| Test: 0.6700| Eval Time: 1.1858s\n",
      "Epoch 08| Loss: 0.9784| Acc: 0.8167| Train Time: 0.1976s\n"
     ]
    },
    {
     "name": "stderr",
     "output_type": "stream",
     "text": [
      "Evaluating: 100%|██████████| 9981/9981 [00:01<00:00, 8197.74it/s] \n"
     ]
    },
    {
     "name": "stdout",
     "output_type": "stream",
     "text": [
      "Train: 0.8583| Val: 0.6500| Test: 0.6750| Eval Time: 1.2243s\n",
      "Epoch 09| Loss: 1.0348| Acc: 0.8500| Train Time: 0.2144s\n"
     ]
    },
    {
     "name": "stderr",
     "output_type": "stream",
     "text": [
      "Evaluating: 100%|██████████| 9981/9981 [00:01<00:00, 8567.80it/s] \n"
     ]
    },
    {
     "name": "stdout",
     "output_type": "stream",
     "text": [
      "Train: 0.8500| Val: 0.6360| Test: 0.6760| Eval Time: 1.1708s\n",
      "Epoch 10| Loss: 0.6286| Acc: 0.8750| Train Time: 0.2202s\n"
     ]
    },
    {
     "name": "stderr",
     "output_type": "stream",
     "text": [
      "Evaluating: 100%|██████████| 9981/9981 [00:01<00:00, 7165.09it/s] \n"
     ]
    },
    {
     "name": "stdout",
     "output_type": "stream",
     "text": [
      "Train: 0.9083| Val: 0.6440| Test: 0.6760| Eval Time: 1.3997s\n",
      "Epoch 11| Loss: 1.0350| Acc: 0.8583| Train Time: 0.2225s\n"
     ]
    },
    {
     "name": "stderr",
     "output_type": "stream",
     "text": [
      "Evaluating: 100%|██████████| 9981/9981 [00:01<00:00, 8251.85it/s] \n"
     ]
    },
    {
     "name": "stdout",
     "output_type": "stream",
     "text": [
      "Train: 0.9000| Val: 0.6560| Test: 0.6710| Eval Time: 1.3030s\n",
      "Epoch 12| Loss: 0.5972| Acc: 0.8833| Train Time: 0.2155s\n"
     ]
    },
    {
     "name": "stderr",
     "output_type": "stream",
     "text": [
      "Evaluating: 100%|██████████| 9981/9981 [00:01<00:00, 7806.18it/s] \n"
     ]
    },
    {
     "name": "stdout",
     "output_type": "stream",
     "text": [
      "Train: 0.9167| Val: 0.6560| Test: 0.6690| Eval Time: 1.2846s\n",
      "Epoch 13| Loss: 1.1572| Acc: 0.8583| Train Time: 0.2104s\n"
     ]
    },
    {
     "name": "stderr",
     "output_type": "stream",
     "text": [
      "Evaluating: 100%|██████████| 9981/9981 [00:00<00:00, 10074.19it/s]\n"
     ]
    },
    {
     "name": "stdout",
     "output_type": "stream",
     "text": [
      "Train: 0.9083| Val: 0.6500| Test: 0.6700| Eval Time: 0.9962s\n",
      "Epoch 14| Loss: 0.8977| Acc: 0.9000| Train Time: 0.2774s\n"
     ]
    },
    {
     "name": "stderr",
     "output_type": "stream",
     "text": [
      "Evaluating: 100%|██████████| 9981/9981 [00:01<00:00, 7778.16it/s] \n"
     ]
    },
    {
     "name": "stdout",
     "output_type": "stream",
     "text": [
      "Train: 0.9000| Val: 0.6480| Test: 0.6690| Eval Time: 1.2936s\n",
      "Epoch 15| Loss: 0.5502| Acc: 0.8833| Train Time: 0.2220s\n"
     ]
    },
    {
     "name": "stderr",
     "output_type": "stream",
     "text": [
      "Evaluating: 100%|██████████| 9981/9981 [00:01<00:00, 8271.08it/s] \n"
     ]
    },
    {
     "name": "stdout",
     "output_type": "stream",
     "text": [
      "Train: 0.9000| Val: 0.6520| Test: 0.6630| Eval Time: 1.2765s\n",
      "Epoch 16| Loss: 0.4306| Acc: 0.8917| Train Time: 0.2138s\n"
     ]
    },
    {
     "name": "stderr",
     "output_type": "stream",
     "text": [
      "Evaluating: 100%|██████████| 9981/9981 [00:01<00:00, 8452.98it/s] \n"
     ]
    },
    {
     "name": "stdout",
     "output_type": "stream",
     "text": [
      "Train: 0.9083| Val: 0.6540| Test: 0.6630| Eval Time: 1.1882s\n",
      "Epoch 17| Loss: 0.8977| Acc: 0.9250| Train Time: 0.1901s\n"
     ]
    },
    {
     "name": "stderr",
     "output_type": "stream",
     "text": [
      "Evaluating: 100%|██████████| 9981/9981 [00:01<00:00, 8373.66it/s] \n"
     ]
    },
    {
     "name": "stdout",
     "output_type": "stream",
     "text": [
      "Train: 0.9083| Val: 0.6520| Test: 0.6670| Eval Time: 1.2019s\n",
      "Epoch 18| Loss: 0.2965| Acc: 0.9583| Train Time: 0.2097s\n"
     ]
    },
    {
     "name": "stderr",
     "output_type": "stream",
     "text": [
      "Evaluating: 100%|██████████| 9981/9981 [00:01<00:00, 9024.34it/s] \n"
     ]
    },
    {
     "name": "stdout",
     "output_type": "stream",
     "text": [
      "Train: 0.9083| Val: 0.6500| Test: 0.6690| Eval Time: 1.1126s\n",
      "Epoch 19| Loss: 0.8054| Acc: 0.9083| Train Time: 0.1943s\n"
     ]
    },
    {
     "name": "stderr",
     "output_type": "stream",
     "text": [
      "Evaluating: 100%|██████████| 9981/9981 [00:01<00:00, 7678.46it/s] \n"
     ]
    },
    {
     "name": "stdout",
     "output_type": "stream",
     "text": [
      "Train: 0.9083| Val: 0.6540| Test: 0.6620| Eval Time: 1.3070s\n",
      "Epoch 20| Loss: 0.6586| Acc: 0.9167| Train Time: 0.2189s\n"
     ]
    },
    {
     "name": "stderr",
     "output_type": "stream",
     "text": [
      "Evaluating: 100%|██████████| 9981/9981 [00:01<00:00, 7353.98it/s] \n"
     ]
    },
    {
     "name": "stdout",
     "output_type": "stream",
     "text": [
      "Train: 0.9167| Val: 0.6500| Test: 0.6610| Eval Time: 1.3649s\n",
      "Epoch 21| Loss: 0.4566| Acc: 0.9417| Train Time: 0.2161s\n"
     ]
    },
    {
     "name": "stderr",
     "output_type": "stream",
     "text": [
      "Evaluating: 100%|██████████| 9981/9981 [00:01<00:00, 8300.11it/s] \n"
     ]
    },
    {
     "name": "stdout",
     "output_type": "stream",
     "text": [
      "Train: 0.9250| Val: 0.6480| Test: 0.6590| Eval Time: 1.2817s\n",
      "Epoch 22| Loss: 0.3936| Acc: 0.9167| Train Time: 0.2039s\n"
     ]
    },
    {
     "name": "stderr",
     "output_type": "stream",
     "text": [
      "Evaluating: 100%|██████████| 9981/9981 [00:01<00:00, 8245.76it/s] \n"
     ]
    },
    {
     "name": "stdout",
     "output_type": "stream",
     "text": [
      "Train: 0.9250| Val: 0.6460| Test: 0.6570| Eval Time: 1.2166s\n",
      "Epoch 23| Loss: 0.8947| Acc: 0.9417| Train Time: 0.2862s\n"
     ]
    },
    {
     "name": "stderr",
     "output_type": "stream",
     "text": [
      "Evaluating: 100%|██████████| 9981/9981 [00:01<00:00, 7679.28it/s] \n"
     ]
    },
    {
     "name": "stdout",
     "output_type": "stream",
     "text": [
      "Train: 0.9083| Val: 0.6440| Test: 0.6530| Eval Time: 1.3077s\n",
      "Epoch 24| Loss: 0.1984| Acc: 0.9500| Train Time: 0.2151s\n"
     ]
    },
    {
     "name": "stderr",
     "output_type": "stream",
     "text": [
      "Evaluating: 100%|██████████| 9981/9981 [00:01<00:00, 7788.93it/s] \n"
     ]
    },
    {
     "name": "stdout",
     "output_type": "stream",
     "text": [
      "Train: 0.8917| Val: 0.6460| Test: 0.6570| Eval Time: 1.2866s\n",
      "Epoch 25| Loss: 0.1539| Acc: 0.9667| Train Time: 0.2834s\n"
     ]
    },
    {
     "name": "stderr",
     "output_type": "stream",
     "text": [
      "Evaluating: 100%|██████████| 9981/9981 [00:01<00:00, 8280.82it/s] \n"
     ]
    },
    {
     "name": "stdout",
     "output_type": "stream",
     "text": [
      "Train: 0.8917| Val: 0.6460| Test: 0.6600| Eval Time: 1.2114s\n",
      "Epoch 26| Loss: 0.3742| Acc: 0.9750| Train Time: 0.2086s\n"
     ]
    },
    {
     "name": "stderr",
     "output_type": "stream",
     "text": [
      "Evaluating: 100%|██████████| 9981/9981 [00:01<00:00, 7192.84it/s] \n"
     ]
    },
    {
     "name": "stdout",
     "output_type": "stream",
     "text": [
      "Train: 0.8917| Val: 0.6480| Test: 0.6600| Eval Time: 1.3925s\n",
      "Epoch 27| Loss: 0.5077| Acc: 0.9500| Train Time: 0.2072s\n"
     ]
    },
    {
     "name": "stderr",
     "output_type": "stream",
     "text": [
      "Evaluating: 100%|██████████| 9981/9981 [00:01<00:00, 7746.92it/s] \n"
     ]
    },
    {
     "name": "stdout",
     "output_type": "stream",
     "text": [
      "Train: 0.8917| Val: 0.6500| Test: 0.6570| Eval Time: 1.2939s\n",
      "Epoch 28| Loss: 0.5145| Acc: 0.9667| Train Time: 0.2077s\n"
     ]
    },
    {
     "name": "stderr",
     "output_type": "stream",
     "text": [
      "Evaluating: 100%|██████████| 9981/9981 [00:01<00:00, 6802.50it/s] \n"
     ]
    },
    {
     "name": "stdout",
     "output_type": "stream",
     "text": [
      "Train: 0.8917| Val: 0.6440| Test: 0.6590| Eval Time: 1.4761s\n",
      "Epoch 29| Loss: 0.1150| Acc: 0.9667| Train Time: 0.2194s\n"
     ]
    },
    {
     "name": "stderr",
     "output_type": "stream",
     "text": [
      "Evaluating: 100%|██████████| 9981/9981 [00:01<00:00, 8570.96it/s] \n"
     ]
    },
    {
     "name": "stdout",
     "output_type": "stream",
     "text": [
      "Train: 0.9000| Val: 0.6440| Test: 0.6610| Eval Time: 1.1722s\n",
      "Epoch 30| Loss: 0.5876| Acc: 0.9500| Train Time: 0.2064s\n"
     ]
    },
    {
     "name": "stderr",
     "output_type": "stream",
     "text": [
      "Evaluating: 100%|██████████| 9981/9981 [00:01<00:00, 8188.26it/s] \n"
     ]
    },
    {
     "name": "stdout",
     "output_type": "stream",
     "text": [
      "Train: 0.9000| Val: 0.6440| Test: 0.6620| Eval Time: 1.2918s\n",
      "Epoch 31| Loss: 0.5684| Acc: 0.9417| Train Time: 0.2075s\n"
     ]
    },
    {
     "name": "stderr",
     "output_type": "stream",
     "text": [
      "Evaluating: 100%|██████████| 9981/9981 [00:01<00:00, 7755.63it/s] \n"
     ]
    },
    {
     "name": "stdout",
     "output_type": "stream",
     "text": [
      "Train: 0.9000| Val: 0.6520| Test: 0.6630| Eval Time: 1.2968s\n",
      "Epoch 32| Loss: 0.0363| Acc: 0.9750| Train Time: 0.2035s\n"
     ]
    },
    {
     "name": "stderr",
     "output_type": "stream",
     "text": [
      "Evaluating: 100%|██████████| 9981/9981 [00:01<00:00, 8447.90it/s] \n"
     ]
    },
    {
     "name": "stdout",
     "output_type": "stream",
     "text": [
      "Train: 0.9000| Val: 0.6560| Test: 0.6720| Eval Time: 1.1924s\n",
      "Epoch 33| Loss: 0.2478| Acc: 0.9833| Train Time: 0.2045s\n"
     ]
    },
    {
     "name": "stderr",
     "output_type": "stream",
     "text": [
      "Evaluating: 100%|██████████| 9981/9981 [00:01<00:00, 8307.20it/s] \n"
     ]
    },
    {
     "name": "stdout",
     "output_type": "stream",
     "text": [
      "Train: 0.9167| Val: 0.6600| Test: 0.6830| Eval Time: 1.2090s\n",
      "Epoch 34| Loss: 0.0299| Acc: 0.9833| Train Time: 0.2192s\n"
     ]
    },
    {
     "name": "stderr",
     "output_type": "stream",
     "text": [
      "Evaluating: 100%|██████████| 9981/9981 [00:01<00:00, 8568.31it/s] \n"
     ]
    },
    {
     "name": "stdout",
     "output_type": "stream",
     "text": [
      "Train: 0.9167| Val: 0.6580| Test: 0.6780| Eval Time: 1.1735s\n",
      "Epoch 35| Loss: 0.1088| Acc: 0.9667| Train Time: 0.2168s\n"
     ]
    },
    {
     "name": "stderr",
     "output_type": "stream",
     "text": [
      "Evaluating: 100%|██████████| 9981/9981 [00:01<00:00, 8548.87it/s] \n"
     ]
    },
    {
     "name": "stdout",
     "output_type": "stream",
     "text": [
      "Train: 0.9167| Val: 0.6600| Test: 0.6740| Eval Time: 1.1738s\n",
      "\n",
      "Result of  1. run| Train: 0.8500| Val: 0.6880| Test: 0.6700\n",
      "\n",
      "Run 02 for GatV1_K6_D3_s and CiteSeer:\n"
     ]
    },
    {
     "name": "stderr",
     "output_type": "stream",
     "text": [
      "Epoch 01: 100%|██████████| 120/120 [00:00<00:00, 595.61it/s]\n"
     ]
    },
    {
     "name": "stdout",
     "output_type": "stream",
     "text": [
      "Epoch 01| Loss: 2.5794| Acc: 0.1333| Train Time: 0.2054s\n"
     ]
    },
    {
     "name": "stderr",
     "output_type": "stream",
     "text": [
      "Evaluating: 100%|██████████| 9981/9981 [00:01<00:00, 8356.58it/s] \n"
     ]
    },
    {
     "name": "stdout",
     "output_type": "stream",
     "text": [
      "Train: 0.6417| Val: 0.5180| Test: 0.5040| Eval Time: 1.1998s\n",
      "Epoch 02| Loss: 2.0581| Acc: 0.5500| Train Time: 0.2015s\n"
     ]
    },
    {
     "name": "stderr",
     "output_type": "stream",
     "text": [
      "Evaluating: 100%|██████████| 9981/9981 [00:01<00:00, 8320.13it/s] \n"
     ]
    },
    {
     "name": "stdout",
     "output_type": "stream",
     "text": [
      "Train: 0.8167| Val: 0.6540| Test: 0.6220| Eval Time: 1.2057s\n",
      "Epoch 03| Loss: 1.9077| Acc: 0.6417| Train Time: 0.2203s\n"
     ]
    },
    {
     "name": "stderr",
     "output_type": "stream",
     "text": [
      "Evaluating: 100%|██████████| 9981/9981 [00:01<00:00, 7322.87it/s] \n"
     ]
    },
    {
     "name": "stdout",
     "output_type": "stream",
     "text": [
      "Train: 0.8417| Val: 0.6800| Test: 0.6470| Eval Time: 1.3714s\n",
      "Epoch 04| Loss: 1.8617| Acc: 0.6750| Train Time: 0.2222s\n"
     ]
    },
    {
     "name": "stderr",
     "output_type": "stream",
     "text": [
      "Evaluating: 100%|██████████| 9981/9981 [00:01<00:00, 7323.83it/s] \n"
     ]
    },
    {
     "name": "stdout",
     "output_type": "stream",
     "text": [
      "Train: 0.8750| Val: 0.6700| Test: 0.6530| Eval Time: 1.3733s\n",
      "Epoch 05| Loss: 1.2928| Acc: 0.7583| Train Time: 0.2088s\n"
     ]
    },
    {
     "name": "stderr",
     "output_type": "stream",
     "text": [
      "Evaluating: 100%|██████████| 9981/9981 [00:01<00:00, 7835.93it/s] \n"
     ]
    },
    {
     "name": "stdout",
     "output_type": "stream",
     "text": [
      "Train: 0.8833| Val: 0.6500| Test: 0.6490| Eval Time: 1.2838s\n",
      "Epoch 06| Loss: 1.3054| Acc: 0.7917| Train Time: 0.2100s\n"
     ]
    },
    {
     "name": "stderr",
     "output_type": "stream",
     "text": [
      "Evaluating: 100%|██████████| 9981/9981 [00:01<00:00, 8966.67it/s] \n"
     ]
    },
    {
     "name": "stdout",
     "output_type": "stream",
     "text": [
      "Train: 0.8667| Val: 0.6300| Test: 0.6380| Eval Time: 1.1830s\n",
      "Epoch 07| Loss: 1.0365| Acc: 0.8000| Train Time: 0.2272s\n"
     ]
    },
    {
     "name": "stderr",
     "output_type": "stream",
     "text": [
      "Evaluating: 100%|██████████| 9981/9981 [00:01<00:00, 7744.71it/s] \n"
     ]
    },
    {
     "name": "stdout",
     "output_type": "stream",
     "text": [
      "Train: 0.8667| Val: 0.6220| Test: 0.6270| Eval Time: 1.2953s\n",
      "Epoch 08| Loss: 0.7601| Acc: 0.8667| Train Time: 0.2227s\n"
     ]
    },
    {
     "name": "stderr",
     "output_type": "stream",
     "text": [
      "Evaluating: 100%|██████████| 9981/9981 [00:01<00:00, 8013.72it/s] \n"
     ]
    },
    {
     "name": "stdout",
     "output_type": "stream",
     "text": [
      "Train: 0.8667| Val: 0.6200| Test: 0.6320| Eval Time: 1.2535s\n",
      "Epoch 09| Loss: 0.6085| Acc: 0.8417| Train Time: 0.2007s\n"
     ]
    },
    {
     "name": "stderr",
     "output_type": "stream",
     "text": [
      "Evaluating: 100%|██████████| 9981/9981 [00:01<00:00, 7547.81it/s] \n"
     ]
    },
    {
     "name": "stdout",
     "output_type": "stream",
     "text": [
      "Train: 0.8750| Val: 0.6260| Test: 0.6470| Eval Time: 1.3964s\n",
      "Epoch 10| Loss: 1.1040| Acc: 0.8917| Train Time: 0.2176s\n"
     ]
    },
    {
     "name": "stderr",
     "output_type": "stream",
     "text": [
      "Evaluating: 100%|██████████| 9981/9981 [00:01<00:00, 8483.03it/s] \n"
     ]
    },
    {
     "name": "stdout",
     "output_type": "stream",
     "text": [
      "Train: 0.8833| Val: 0.6300| Test: 0.6490| Eval Time: 1.1877s\n",
      "Epoch 11| Loss: 0.7473| Acc: 0.8667| Train Time: 0.2192s\n"
     ]
    },
    {
     "name": "stderr",
     "output_type": "stream",
     "text": [
      "Evaluating: 100%|██████████| 9981/9981 [00:01<00:00, 8381.71it/s] \n"
     ]
    },
    {
     "name": "stdout",
     "output_type": "stream",
     "text": [
      "Train: 0.8917| Val: 0.6320| Test: 0.6520| Eval Time: 1.1968s\n",
      "Epoch 12| Loss: 0.9260| Acc: 0.8417| Train Time: 0.2156s\n"
     ]
    },
    {
     "name": "stderr",
     "output_type": "stream",
     "text": [
      "Evaluating: 100%|██████████| 9981/9981 [00:01<00:00, 7842.11it/s] \n"
     ]
    },
    {
     "name": "stdout",
     "output_type": "stream",
     "text": [
      "Train: 0.9000| Val: 0.6380| Test: 0.6530| Eval Time: 1.2819s\n",
      "Epoch 13| Loss: 0.7454| Acc: 0.9083| Train Time: 0.2184s\n"
     ]
    },
    {
     "name": "stderr",
     "output_type": "stream",
     "text": [
      "Evaluating: 100%|██████████| 9981/9981 [00:01<00:00, 8414.53it/s] \n"
     ]
    },
    {
     "name": "stdout",
     "output_type": "stream",
     "text": [
      "Train: 0.9083| Val: 0.6380| Test: 0.6550| Eval Time: 1.1915s\n",
      "Epoch 14| Loss: 0.3257| Acc: 0.9333| Train Time: 0.2691s\n"
     ]
    },
    {
     "name": "stderr",
     "output_type": "stream",
     "text": [
      "Evaluating: 100%|██████████| 9981/9981 [00:01<00:00, 8372.82it/s] \n"
     ]
    },
    {
     "name": "stdout",
     "output_type": "stream",
     "text": [
      "Train: 0.9167| Val: 0.6400| Test: 0.6500| Eval Time: 1.2046s\n",
      "Epoch 15| Loss: 1.0326| Acc: 0.9333| Train Time: 0.2118s\n"
     ]
    },
    {
     "name": "stderr",
     "output_type": "stream",
     "text": [
      "Evaluating: 100%|██████████| 9981/9981 [00:01<00:00, 7130.38it/s] \n"
     ]
    },
    {
     "name": "stdout",
     "output_type": "stream",
     "text": [
      "Train: 0.9083| Val: 0.6380| Test: 0.6580| Eval Time: 1.4071s\n",
      "Epoch 16| Loss: 1.0332| Acc: 0.9083| Train Time: 0.2654s\n"
     ]
    },
    {
     "name": "stderr",
     "output_type": "stream",
     "text": [
      "Evaluating: 100%|██████████| 9981/9981 [00:01<00:00, 8121.98it/s] \n"
     ]
    },
    {
     "name": "stdout",
     "output_type": "stream",
     "text": [
      "Train: 0.9250| Val: 0.6360| Test: 0.6540| Eval Time: 1.2356s\n",
      "Epoch 17| Loss: 0.2801| Acc: 0.9333| Train Time: 0.2917s\n"
     ]
    },
    {
     "name": "stderr",
     "output_type": "stream",
     "text": [
      "Evaluating: 100%|██████████| 9981/9981 [00:01<00:00, 7796.29it/s] \n"
     ]
    },
    {
     "name": "stdout",
     "output_type": "stream",
     "text": [
      "Train: 0.9417| Val: 0.6280| Test: 0.6480| Eval Time: 1.2891s\n",
      "Epoch 18| Loss: 0.3912| Acc: 0.9333| Train Time: 0.2033s\n"
     ]
    },
    {
     "name": "stderr",
     "output_type": "stream",
     "text": [
      "Evaluating: 100%|██████████| 9981/9981 [00:01<00:00, 7637.84it/s] \n"
     ]
    },
    {
     "name": "stdout",
     "output_type": "stream",
     "text": [
      "Train: 0.9333| Val: 0.6180| Test: 0.6420| Eval Time: 1.3132s\n",
      "Epoch 19| Loss: 1.0219| Acc: 0.9583| Train Time: 0.2816s\n"
     ]
    },
    {
     "name": "stderr",
     "output_type": "stream",
     "text": [
      "Evaluating: 100%|██████████| 9981/9981 [00:01<00:00, 9852.54it/s] \n"
     ]
    },
    {
     "name": "stdout",
     "output_type": "stream",
     "text": [
      "Train: 0.9417| Val: 0.6180| Test: 0.6370| Eval Time: 1.0199s\n",
      "Epoch 20| Loss: 0.1833| Acc: 0.9667| Train Time: 0.1962s\n"
     ]
    },
    {
     "name": "stderr",
     "output_type": "stream",
     "text": [
      "Evaluating: 100%|██████████| 9981/9981 [00:01<00:00, 7523.99it/s] \n"
     ]
    },
    {
     "name": "stdout",
     "output_type": "stream",
     "text": [
      "Train: 0.9417| Val: 0.6180| Test: 0.6360| Eval Time: 1.3957s\n",
      "Epoch 21| Loss: 0.1813| Acc: 0.9333| Train Time: 0.2887s\n"
     ]
    },
    {
     "name": "stderr",
     "output_type": "stream",
     "text": [
      "Evaluating: 100%|██████████| 9981/9981 [00:01<00:00, 7817.17it/s] \n"
     ]
    },
    {
     "name": "stdout",
     "output_type": "stream",
     "text": [
      "Train: 0.9417| Val: 0.6140| Test: 0.6350| Eval Time: 1.2907s\n",
      "Epoch 22| Loss: 0.2726| Acc: 0.9500| Train Time: 0.2221s\n"
     ]
    },
    {
     "name": "stderr",
     "output_type": "stream",
     "text": [
      "Evaluating: 100%|██████████| 9981/9981 [00:01<00:00, 7840.11it/s] \n"
     ]
    },
    {
     "name": "stdout",
     "output_type": "stream",
     "text": [
      "Train: 0.9250| Val: 0.6200| Test: 0.6340| Eval Time: 1.2834s\n",
      "Epoch 23| Loss: 0.2781| Acc: 0.9667| Train Time: 0.2220s\n"
     ]
    },
    {
     "name": "stderr",
     "output_type": "stream",
     "text": [
      "Evaluating: 100%|██████████| 9981/9981 [00:01<00:00, 7333.65it/s] \n"
     ]
    },
    {
     "name": "stdout",
     "output_type": "stream",
     "text": [
      "Train: 0.9250| Val: 0.6300| Test: 0.6370| Eval Time: 1.3720s\n",
      "Epoch 24| Loss: 0.4974| Acc: 0.9583| Train Time: 0.2203s\n"
     ]
    },
    {
     "name": "stderr",
     "output_type": "stream",
     "text": [
      "Evaluating: 100%|██████████| 9981/9981 [00:01<00:00, 7802.87it/s] \n"
     ]
    },
    {
     "name": "stdout",
     "output_type": "stream",
     "text": [
      "Train: 0.9333| Val: 0.6320| Test: 0.6430| Eval Time: 1.2853s\n",
      "Epoch 25| Loss: 1.4534| Acc: 0.9417| Train Time: 0.2329s\n"
     ]
    },
    {
     "name": "stderr",
     "output_type": "stream",
     "text": [
      "Evaluating: 100%|██████████| 9981/9981 [00:01<00:00, 7931.08it/s] \n"
     ]
    },
    {
     "name": "stdout",
     "output_type": "stream",
     "text": [
      "Train: 0.9250| Val: 0.6340| Test: 0.6450| Eval Time: 1.2656s\n",
      "Epoch 26| Loss: 0.3028| Acc: 0.9333| Train Time: 0.2098s\n"
     ]
    },
    {
     "name": "stderr",
     "output_type": "stream",
     "text": [
      "Evaluating: 100%|██████████| 9981/9981 [00:01<00:00, 7731.85it/s] \n"
     ]
    },
    {
     "name": "stdout",
     "output_type": "stream",
     "text": [
      "Train: 0.9250| Val: 0.6440| Test: 0.6490| Eval Time: 1.2980s\n",
      "Epoch 27| Loss: 0.3261| Acc: 0.9583| Train Time: 0.2197s\n"
     ]
    },
    {
     "name": "stderr",
     "output_type": "stream",
     "text": [
      "Evaluating: 100%|██████████| 9981/9981 [00:01<00:00, 7259.29it/s] \n"
     ]
    },
    {
     "name": "stdout",
     "output_type": "stream",
     "text": [
      "Train: 0.9417| Val: 0.6580| Test: 0.6540| Eval Time: 1.3818s\n",
      "Epoch 28| Loss: 0.2480| Acc: 0.9250| Train Time: 0.2130s\n"
     ]
    },
    {
     "name": "stderr",
     "output_type": "stream",
     "text": [
      "Evaluating: 100%|██████████| 9981/9981 [00:01<00:00, 7827.21it/s] \n"
     ]
    },
    {
     "name": "stdout",
     "output_type": "stream",
     "text": [
      "Train: 0.9333| Val: 0.6600| Test: 0.6580| Eval Time: 1.2847s\n",
      "Epoch 29| Loss: 0.3679| Acc: 0.9667| Train Time: 0.2135s\n"
     ]
    },
    {
     "name": "stderr",
     "output_type": "stream",
     "text": [
      "Evaluating: 100%|██████████| 9981/9981 [00:01<00:00, 8424.10it/s] \n"
     ]
    },
    {
     "name": "stdout",
     "output_type": "stream",
     "text": [
      "Train: 0.9333| Val: 0.6620| Test: 0.6600| Eval Time: 1.1902s\n",
      "Epoch 30| Loss: 0.5164| Acc: 0.9750| Train Time: 0.2775s\n"
     ]
    },
    {
     "name": "stderr",
     "output_type": "stream",
     "text": [
      "Evaluating: 100%|██████████| 9981/9981 [00:01<00:00, 7768.19it/s] \n"
     ]
    },
    {
     "name": "stdout",
     "output_type": "stream",
     "text": [
      "Train: 0.9250| Val: 0.6600| Test: 0.6640| Eval Time: 1.2982s\n",
      "Epoch 31| Loss: 1.1915| Acc: 0.9583| Train Time: 0.2227s\n"
     ]
    },
    {
     "name": "stderr",
     "output_type": "stream",
     "text": [
      "Evaluating: 100%|██████████| 9981/9981 [00:01<00:00, 7212.62it/s] \n"
     ]
    },
    {
     "name": "stdout",
     "output_type": "stream",
     "text": [
      "Train: 0.9333| Val: 0.6620| Test: 0.6630| Eval Time: 1.3904s\n",
      "Epoch 32| Loss: 0.5052| Acc: 0.9583| Train Time: 0.2163s\n"
     ]
    },
    {
     "name": "stderr",
     "output_type": "stream",
     "text": [
      "Evaluating: 100%|██████████| 9981/9981 [00:01<00:00, 7690.49it/s] \n"
     ]
    },
    {
     "name": "stdout",
     "output_type": "stream",
     "text": [
      "Train: 0.9250| Val: 0.6620| Test: 0.6670| Eval Time: 1.3658s\n",
      "Epoch 33| Loss: 0.1519| Acc: 0.9417| Train Time: 0.2035s\n"
     ]
    },
    {
     "name": "stderr",
     "output_type": "stream",
     "text": [
      "Evaluating: 100%|██████████| 9981/9981 [00:01<00:00, 8403.97it/s] \n"
     ]
    },
    {
     "name": "stdout",
     "output_type": "stream",
     "text": [
      "Train: 0.9250| Val: 0.6620| Test: 0.6660| Eval Time: 1.1994s\n",
      "\n",
      "Result of  2. run| Train: 0.8417| Val: 0.6800| Test: 0.6470\n",
      "\n",
      "Run 03 for GatV1_K6_D3_s and CiteSeer:\n"
     ]
    },
    {
     "name": "stderr",
     "output_type": "stream",
     "text": [
      "Epoch 01: 100%|██████████| 120/120 [00:00<00:00, 549.22it/s]\n"
     ]
    },
    {
     "name": "stdout",
     "output_type": "stream",
     "text": [
      "Epoch 01| Loss: 2.6290| Acc: 0.1583| Train Time: 0.2220s\n"
     ]
    },
    {
     "name": "stderr",
     "output_type": "stream",
     "text": [
      "Evaluating: 100%|██████████| 9981/9981 [00:01<00:00, 7766.02it/s] \n"
     ]
    },
    {
     "name": "stdout",
     "output_type": "stream",
     "text": [
      "Train: 0.7667| Val: 0.6400| Test: 0.6160| Eval Time: 1.2910s\n",
      "Epoch 02| Loss: 2.0949| Acc: 0.5333| Train Time: 0.2041s\n"
     ]
    },
    {
     "name": "stderr",
     "output_type": "stream",
     "text": [
      "Evaluating: 100%|██████████| 9981/9981 [00:01<00:00, 7729.26it/s] \n"
     ]
    },
    {
     "name": "stdout",
     "output_type": "stream",
     "text": [
      "Train: 0.7583| Val: 0.6400| Test: 0.6600| Eval Time: 1.2968s\n",
      "Epoch 03| Loss: 1.4507| Acc: 0.5917| Train Time: 0.2004s\n"
     ]
    },
    {
     "name": "stderr",
     "output_type": "stream",
     "text": [
      "Evaluating: 100%|██████████| 9981/9981 [00:01<00:00, 7699.03it/s] \n"
     ]
    },
    {
     "name": "stdout",
     "output_type": "stream",
     "text": [
      "Train: 0.7833| Val: 0.6560| Test: 0.6590| Eval Time: 1.3015s\n",
      "Epoch 04| Loss: 1.2094| Acc: 0.7667| Train Time: 0.2088s\n"
     ]
    },
    {
     "name": "stderr",
     "output_type": "stream",
     "text": [
      "Evaluating: 100%|██████████| 9981/9981 [00:01<00:00, 7714.59it/s] \n"
     ]
    },
    {
     "name": "stdout",
     "output_type": "stream",
     "text": [
      "Train: 0.8083| Val: 0.6740| Test: 0.6730| Eval Time: 1.3050s\n",
      "Epoch 05| Loss: 1.2003| Acc: 0.7833| Train Time: 0.2217s\n"
     ]
    },
    {
     "name": "stderr",
     "output_type": "stream",
     "text": [
      "Evaluating: 100%|██████████| 9981/9981 [00:01<00:00, 9077.40it/s] \n"
     ]
    },
    {
     "name": "stdout",
     "output_type": "stream",
     "text": [
      "Train: 0.8583| Val: 0.6920| Test: 0.6790| Eval Time: 1.1713s\n",
      "Epoch 06| Loss: 0.8144| Acc: 0.8333| Train Time: 0.1923s\n"
     ]
    },
    {
     "name": "stderr",
     "output_type": "stream",
     "text": [
      "Evaluating: 100%|██████████| 9981/9981 [00:01<00:00, 9061.56it/s] \n"
     ]
    },
    {
     "name": "stdout",
     "output_type": "stream",
     "text": [
      "Train: 0.8583| Val: 0.7000| Test: 0.6850| Eval Time: 1.1207s\n",
      "Epoch 07| Loss: 1.1073| Acc: 0.8083| Train Time: 0.2112s\n"
     ]
    },
    {
     "name": "stderr",
     "output_type": "stream",
     "text": [
      "Evaluating: 100%|██████████| 9981/9981 [00:01<00:00, 7874.53it/s] \n"
     ]
    },
    {
     "name": "stdout",
     "output_type": "stream",
     "text": [
      "Train: 0.8750| Val: 0.7000| Test: 0.6840| Eval Time: 1.2785s\n",
      "Epoch 08| Loss: 1.1889| Acc: 0.8333| Train Time: 0.2140s\n"
     ]
    },
    {
     "name": "stderr",
     "output_type": "stream",
     "text": [
      "Evaluating: 100%|██████████| 9981/9981 [00:01<00:00, 8312.82it/s] \n"
     ]
    },
    {
     "name": "stdout",
     "output_type": "stream",
     "text": [
      "Train: 0.8833| Val: 0.6940| Test: 0.6840| Eval Time: 1.2070s\n",
      "Epoch 09| Loss: 0.8143| Acc: 0.8417| Train Time: 0.2185s\n"
     ]
    },
    {
     "name": "stderr",
     "output_type": "stream",
     "text": [
      "Evaluating: 100%|██████████| 9981/9981 [00:01<00:00, 8430.92it/s] \n"
     ]
    },
    {
     "name": "stdout",
     "output_type": "stream",
     "text": [
      "Train: 0.9000| Val: 0.6920| Test: 0.6840| Eval Time: 1.2560s\n",
      "Epoch 10| Loss: 1.1689| Acc: 0.8833| Train Time: 0.2173s\n"
     ]
    },
    {
     "name": "stderr",
     "output_type": "stream",
     "text": [
      "Evaluating: 100%|██████████| 9981/9981 [00:01<00:00, 7869.64it/s] \n"
     ]
    },
    {
     "name": "stdout",
     "output_type": "stream",
     "text": [
      "Train: 0.8833| Val: 0.6760| Test: 0.6810| Eval Time: 1.2801s\n",
      "Epoch 11| Loss: 1.2383| Acc: 0.8917| Train Time: 0.2126s\n"
     ]
    },
    {
     "name": "stderr",
     "output_type": "stream",
     "text": [
      "Evaluating: 100%|██████████| 9981/9981 [00:01<00:00, 8500.96it/s] \n"
     ]
    },
    {
     "name": "stdout",
     "output_type": "stream",
     "text": [
      "Train: 0.9167| Val: 0.6640| Test: 0.6690| Eval Time: 1.1806s\n",
      "Epoch 12| Loss: 0.5677| Acc: 0.9250| Train Time: 0.1947s\n"
     ]
    },
    {
     "name": "stderr",
     "output_type": "stream",
     "text": [
      "Evaluating: 100%|██████████| 9981/9981 [00:01<00:00, 8304.95it/s] \n"
     ]
    },
    {
     "name": "stdout",
     "output_type": "stream",
     "text": [
      "Train: 0.9083| Val: 0.6520| Test: 0.6620| Eval Time: 1.2091s\n",
      "Epoch 13| Loss: 0.7315| Acc: 0.9750| Train Time: 0.1907s\n"
     ]
    },
    {
     "name": "stderr",
     "output_type": "stream",
     "text": [
      "Evaluating: 100%|██████████| 9981/9981 [00:00<00:00, 10754.52it/s]\n"
     ]
    },
    {
     "name": "stdout",
     "output_type": "stream",
     "text": [
      "Train: 0.9000| Val: 0.6340| Test: 0.6460| Eval Time: 0.9337s\n",
      "Epoch 14| Loss: 1.2468| Acc: 0.8833| Train Time: 0.1920s\n"
     ]
    },
    {
     "name": "stderr",
     "output_type": "stream",
     "text": [
      "Evaluating: 100%|██████████| 9981/9981 [00:01<00:00, 8523.39it/s] \n"
     ]
    },
    {
     "name": "stdout",
     "output_type": "stream",
     "text": [
      "Train: 0.9250| Val: 0.6420| Test: 0.6420| Eval Time: 1.1760s\n",
      "Epoch 15| Loss: 1.4035| Acc: 0.9250| Train Time: 0.1958s\n"
     ]
    },
    {
     "name": "stderr",
     "output_type": "stream",
     "text": [
      "Evaluating: 100%|██████████| 9981/9981 [00:01<00:00, 8148.85it/s] \n"
     ]
    },
    {
     "name": "stdout",
     "output_type": "stream",
     "text": [
      "Train: 0.9167| Val: 0.6440| Test: 0.6410| Eval Time: 1.2311s\n",
      "Epoch 16| Loss: 0.2828| Acc: 0.9500| Train Time: 0.2854s\n"
     ]
    },
    {
     "name": "stderr",
     "output_type": "stream",
     "text": [
      "Evaluating: 100%|██████████| 9981/9981 [00:01<00:00, 9045.83it/s] \n"
     ]
    },
    {
     "name": "stdout",
     "output_type": "stream",
     "text": [
      "Train: 0.9167| Val: 0.6520| Test: 0.6490| Eval Time: 1.1124s\n",
      "Epoch 17| Loss: 0.4727| Acc: 0.9167| Train Time: 0.1999s\n"
     ]
    },
    {
     "name": "stderr",
     "output_type": "stream",
     "text": [
      "Evaluating: 100%|██████████| 9981/9981 [00:01<00:00, 8317.78it/s] \n"
     ]
    },
    {
     "name": "stdout",
     "output_type": "stream",
     "text": [
      "Train: 0.9250| Val: 0.6580| Test: 0.6590| Eval Time: 1.2050s\n",
      "Epoch 18| Loss: 0.6183| Acc: 0.9333| Train Time: 0.2799s\n"
     ]
    },
    {
     "name": "stderr",
     "output_type": "stream",
     "text": [
      "Evaluating: 100%|██████████| 9981/9981 [00:01<00:00, 9021.57it/s] \n"
     ]
    },
    {
     "name": "stdout",
     "output_type": "stream",
     "text": [
      "Train: 0.9167| Val: 0.6620| Test: 0.6580| Eval Time: 1.1127s\n",
      "Epoch 19| Loss: 0.2797| Acc: 0.9500| Train Time: 0.2072s\n"
     ]
    },
    {
     "name": "stderr",
     "output_type": "stream",
     "text": [
      "Evaluating: 100%|██████████| 9981/9981 [00:01<00:00, 8408.07it/s] \n"
     ]
    },
    {
     "name": "stdout",
     "output_type": "stream",
     "text": [
      "Train: 0.9250| Val: 0.6620| Test: 0.6600| Eval Time: 1.1927s\n",
      "Epoch 20| Loss: 0.3927| Acc: 0.9833| Train Time: 0.1944s\n"
     ]
    },
    {
     "name": "stderr",
     "output_type": "stream",
     "text": [
      "Evaluating: 100%|██████████| 9981/9981 [00:01<00:00, 8242.32it/s] \n"
     ]
    },
    {
     "name": "stdout",
     "output_type": "stream",
     "text": [
      "Train: 0.9333| Val: 0.6740| Test: 0.6670| Eval Time: 1.2825s\n",
      "Epoch 21| Loss: 0.3327| Acc: 0.9417| Train Time: 0.2050s\n"
     ]
    },
    {
     "name": "stderr",
     "output_type": "stream",
     "text": [
      "Evaluating: 100%|██████████| 9981/9981 [00:01<00:00, 8241.53it/s] \n"
     ]
    },
    {
     "name": "stdout",
     "output_type": "stream",
     "text": [
      "Train: 0.9417| Val: 0.6760| Test: 0.6730| Eval Time: 1.2193s\n",
      "Epoch 22| Loss: 0.2949| Acc: 0.9333| Train Time: 0.2661s\n"
     ]
    },
    {
     "name": "stderr",
     "output_type": "stream",
     "text": [
      "Evaluating: 100%|██████████| 9981/9981 [00:01<00:00, 8177.57it/s] \n"
     ]
    },
    {
     "name": "stdout",
     "output_type": "stream",
     "text": [
      "Train: 0.9250| Val: 0.6700| Test: 0.6630| Eval Time: 1.2279s\n",
      "Epoch 23| Loss: 0.1455| Acc: 0.9583| Train Time: 0.2067s\n"
     ]
    },
    {
     "name": "stderr",
     "output_type": "stream",
     "text": [
      "Evaluating: 100%|██████████| 9981/9981 [00:01<00:00, 7737.11it/s] \n"
     ]
    },
    {
     "name": "stdout",
     "output_type": "stream",
     "text": [
      "Train: 0.9333| Val: 0.6560| Test: 0.6560| Eval Time: 1.3625s\n",
      "Epoch 24| Loss: 0.5311| Acc: 0.9500| Train Time: 0.2213s\n"
     ]
    },
    {
     "name": "stderr",
     "output_type": "stream",
     "text": [
      "Evaluating: 100%|██████████| 9981/9981 [00:01<00:00, 7657.08it/s] \n"
     ]
    },
    {
     "name": "stdout",
     "output_type": "stream",
     "text": [
      "Train: 0.9417| Val: 0.6540| Test: 0.6480| Eval Time: 1.3102s\n",
      "Epoch 25| Loss: 0.1238| Acc: 0.9667| Train Time: 0.2932s\n"
     ]
    },
    {
     "name": "stderr",
     "output_type": "stream",
     "text": [
      "Evaluating: 100%|██████████| 9981/9981 [00:01<00:00, 7264.56it/s] \n"
     ]
    },
    {
     "name": "stdout",
     "output_type": "stream",
     "text": [
      "Train: 0.9583| Val: 0.6560| Test: 0.6490| Eval Time: 1.3867s\n",
      "Epoch 26| Loss: 0.8660| Acc: 0.9250| Train Time: 0.2189s\n"
     ]
    },
    {
     "name": "stderr",
     "output_type": "stream",
     "text": [
      "Evaluating: 100%|██████████| 9981/9981 [00:01<00:00, 7829.63it/s] \n"
     ]
    },
    {
     "name": "stdout",
     "output_type": "stream",
     "text": [
      "Train: 0.9500| Val: 0.6620| Test: 0.6540| Eval Time: 1.2825s\n",
      "Epoch 27| Loss: 0.1081| Acc: 0.9583| Train Time: 0.2114s\n"
     ]
    },
    {
     "name": "stderr",
     "output_type": "stream",
     "text": [
      "Evaluating: 100%|██████████| 9981/9981 [00:01<00:00, 8539.35it/s] \n"
     ]
    },
    {
     "name": "stdout",
     "output_type": "stream",
     "text": [
      "Train: 0.9417| Val: 0.6640| Test: 0.6570| Eval Time: 1.1779s\n",
      "Epoch 28| Loss: 0.1366| Acc: 0.9667| Train Time: 0.2234s\n"
     ]
    },
    {
     "name": "stderr",
     "output_type": "stream",
     "text": [
      "Evaluating: 100%|██████████| 9981/9981 [00:01<00:00, 7813.13it/s] \n"
     ]
    },
    {
     "name": "stdout",
     "output_type": "stream",
     "text": [
      "Train: 0.9500| Val: 0.6760| Test: 0.6620| Eval Time: 1.2845s\n",
      "Epoch 29| Loss: 0.2982| Acc: 0.9500| Train Time: 0.2183s\n"
     ]
    },
    {
     "name": "stderr",
     "output_type": "stream",
     "text": [
      "Evaluating: 100%|██████████| 9981/9981 [00:01<00:00, 8328.40it/s] \n"
     ]
    },
    {
     "name": "stdout",
     "output_type": "stream",
     "text": [
      "Train: 0.9417| Val: 0.6720| Test: 0.6620| Eval Time: 1.2677s\n",
      "Epoch 30| Loss: 0.2126| Acc: 0.9750| Train Time: 0.2053s\n"
     ]
    },
    {
     "name": "stderr",
     "output_type": "stream",
     "text": [
      "Evaluating: 100%|██████████| 9981/9981 [00:01<00:00, 7184.33it/s] \n"
     ]
    },
    {
     "name": "stdout",
     "output_type": "stream",
     "text": [
      "Train: 0.9417| Val: 0.6720| Test: 0.6610| Eval Time: 1.4025s\n",
      "Epoch 31| Loss: 0.5532| Acc: 0.9500| Train Time: 0.2256s\n"
     ]
    },
    {
     "name": "stderr",
     "output_type": "stream",
     "text": [
      "Evaluating: 100%|██████████| 9981/9981 [00:01<00:00, 7307.89it/s] \n"
     ]
    },
    {
     "name": "stdout",
     "output_type": "stream",
     "text": [
      "Train: 0.9417| Val: 0.6760| Test: 0.6640| Eval Time: 1.3722s\n",
      "Epoch 32| Loss: 0.2800| Acc: 0.9583| Train Time: 0.1986s\n"
     ]
    },
    {
     "name": "stderr",
     "output_type": "stream",
     "text": [
      "Evaluating: 100%|██████████| 9981/9981 [00:01<00:00, 7561.65it/s] \n"
     ]
    },
    {
     "name": "stdout",
     "output_type": "stream",
     "text": [
      "Train: 0.9417| Val: 0.6720| Test: 0.6620| Eval Time: 1.3271s\n",
      "Epoch 33| Loss: 0.1284| Acc: 0.9750| Train Time: 0.2182s\n"
     ]
    },
    {
     "name": "stderr",
     "output_type": "stream",
     "text": [
      "Evaluating: 100%|██████████| 9981/9981 [00:01<00:00, 8244.82it/s] \n"
     ]
    },
    {
     "name": "stdout",
     "output_type": "stream",
     "text": [
      "Train: 0.9500| Val: 0.6640| Test: 0.6500| Eval Time: 1.2177s\n",
      "Epoch 34| Loss: 0.7949| Acc: 0.9583| Train Time: 0.2630s\n"
     ]
    },
    {
     "name": "stderr",
     "output_type": "stream",
     "text": [
      "Evaluating: 100%|██████████| 9981/9981 [00:01<00:00, 8107.15it/s] \n"
     ]
    },
    {
     "name": "stdout",
     "output_type": "stream",
     "text": [
      "Train: 0.9500| Val: 0.6560| Test: 0.6470| Eval Time: 1.2399s\n",
      "Epoch 35| Loss: 0.2004| Acc: 0.9833| Train Time: 0.2657s\n"
     ]
    },
    {
     "name": "stderr",
     "output_type": "stream",
     "text": [
      "Evaluating: 100%|██████████| 9981/9981 [00:01<00:00, 7695.75it/s] \n"
     ]
    },
    {
     "name": "stdout",
     "output_type": "stream",
     "text": [
      "Train: 0.9333| Val: 0.6500| Test: 0.6480| Eval Time: 1.3068s\n",
      "Epoch 36| Loss: 0.0134| Acc: 1.0000| Train Time: 0.2148s\n"
     ]
    },
    {
     "name": "stderr",
     "output_type": "stream",
     "text": [
      "Evaluating: 100%|██████████| 9981/9981 [00:01<00:00, 8323.45it/s] \n"
     ]
    },
    {
     "name": "stdout",
     "output_type": "stream",
     "text": [
      "Train: 0.9250| Val: 0.6460| Test: 0.6430| Eval Time: 1.2050s\n",
      "\n",
      "Result of  3. run| Train: 0.8583| Val: 0.7000| Test: 0.6850\n",
      "\n",
      "Run 04 for GatV1_K6_D3_s and CiteSeer:\n"
     ]
    },
    {
     "name": "stderr",
     "output_type": "stream",
     "text": [
      "Epoch 01: 100%|██████████| 120/120 [00:00<00:00, 545.50it/s]\n"
     ]
    },
    {
     "name": "stdout",
     "output_type": "stream",
     "text": [
      "Epoch 01| Loss: 2.5236| Acc: 0.1417| Train Time: 0.2850s\n"
     ]
    },
    {
     "name": "stderr",
     "output_type": "stream",
     "text": [
      "Evaluating: 100%|██████████| 9981/9981 [00:01<00:00, 7833.62it/s] \n"
     ]
    },
    {
     "name": "stdout",
     "output_type": "stream",
     "text": [
      "Train: 0.7083| Val: 0.6220| Test: 0.6050| Eval Time: 1.2865s\n",
      "Epoch 02| Loss: 1.9289| Acc: 0.5250| Train Time: 0.2034s\n"
     ]
    },
    {
     "name": "stderr",
     "output_type": "stream",
     "text": [
      "Evaluating: 100%|██████████| 9981/9981 [00:01<00:00, 8279.52it/s] \n"
     ]
    },
    {
     "name": "stdout",
     "output_type": "stream",
     "text": [
      "Train: 0.7833| Val: 0.6840| Test: 0.6540| Eval Time: 1.2129s\n",
      "Epoch 03| Loss: 1.7171| Acc: 0.6583| Train Time: 0.2137s\n"
     ]
    },
    {
     "name": "stderr",
     "output_type": "stream",
     "text": [
      "Evaluating: 100%|██████████| 9981/9981 [00:01<00:00, 7815.44it/s] \n"
     ]
    },
    {
     "name": "stdout",
     "output_type": "stream",
     "text": [
      "Train: 0.7917| Val: 0.6780| Test: 0.6680| Eval Time: 1.2841s\n",
      "Epoch 04| Loss: 2.0036| Acc: 0.7000| Train Time: 0.2153s\n"
     ]
    },
    {
     "name": "stderr",
     "output_type": "stream",
     "text": [
      "Evaluating: 100%|██████████| 9981/9981 [00:01<00:00, 7741.19it/s] \n"
     ]
    },
    {
     "name": "stdout",
     "output_type": "stream",
     "text": [
      "Train: 0.8083| Val: 0.6920| Test: 0.6770| Eval Time: 1.2948s\n",
      "Epoch 05| Loss: 0.9864| Acc: 0.7500| Train Time: 0.2774s\n"
     ]
    },
    {
     "name": "stderr",
     "output_type": "stream",
     "text": [
      "Evaluating: 100%|██████████| 9981/9981 [00:01<00:00, 8357.43it/s] \n"
     ]
    },
    {
     "name": "stdout",
     "output_type": "stream",
     "text": [
      "Train: 0.8167| Val: 0.6840| Test: 0.6760| Eval Time: 1.2037s\n",
      "Epoch 06| Loss: 1.3961| Acc: 0.7917| Train Time: 0.2244s\n"
     ]
    },
    {
     "name": "stderr",
     "output_type": "stream",
     "text": [
      "Evaluating: 100%|██████████| 9981/9981 [00:01<00:00, 7978.83it/s] \n"
     ]
    },
    {
     "name": "stdout",
     "output_type": "stream",
     "text": [
      "Train: 0.8583| Val: 0.6920| Test: 0.6760| Eval Time: 1.2630s\n",
      "Epoch 07| Loss: 0.8355| Acc: 0.8167| Train Time: 0.2156s\n"
     ]
    },
    {
     "name": "stderr",
     "output_type": "stream",
     "text": [
      "Evaluating: 100%|██████████| 9981/9981 [00:01<00:00, 8516.13it/s] \n"
     ]
    },
    {
     "name": "stdout",
     "output_type": "stream",
     "text": [
      "Train: 0.8750| Val: 0.6940| Test: 0.6760| Eval Time: 1.1788s\n",
      "Epoch 08| Loss: 1.2789| Acc: 0.8250| Train Time: 0.1934s\n"
     ]
    },
    {
     "name": "stderr",
     "output_type": "stream",
     "text": [
      "Evaluating: 100%|██████████| 9981/9981 [00:01<00:00, 7645.93it/s] \n"
     ]
    },
    {
     "name": "stdout",
     "output_type": "stream",
     "text": [
      "Train: 0.8750| Val: 0.6840| Test: 0.6680| Eval Time: 1.3165s\n",
      "Epoch 09| Loss: 1.1275| Acc: 0.8167| Train Time: 0.2052s\n"
     ]
    },
    {
     "name": "stderr",
     "output_type": "stream",
     "text": [
      "Evaluating: 100%|██████████| 9981/9981 [00:01<00:00, 8975.95it/s] \n"
     ]
    },
    {
     "name": "stdout",
     "output_type": "stream",
     "text": [
      "Train: 0.8583| Val: 0.6800| Test: 0.6650| Eval Time: 1.1844s\n",
      "Epoch 10| Loss: 1.8375| Acc: 0.8167| Train Time: 0.2124s\n"
     ]
    },
    {
     "name": "stderr",
     "output_type": "stream",
     "text": [
      "Evaluating: 100%|██████████| 9981/9981 [00:01<00:00, 8980.72it/s] \n"
     ]
    },
    {
     "name": "stdout",
     "output_type": "stream",
     "text": [
      "Train: 0.8583| Val: 0.6700| Test: 0.6620| Eval Time: 1.1825s\n",
      "Epoch 11| Loss: 1.0897| Acc: 0.8833| Train Time: 0.2132s\n"
     ]
    },
    {
     "name": "stderr",
     "output_type": "stream",
     "text": [
      "Evaluating: 100%|██████████| 9981/9981 [00:01<00:00, 7797.88it/s] \n"
     ]
    },
    {
     "name": "stdout",
     "output_type": "stream",
     "text": [
      "Train: 0.8667| Val: 0.6680| Test: 0.6690| Eval Time: 1.2918s\n",
      "Epoch 12| Loss: 1.1093| Acc: 0.8667| Train Time: 0.2166s\n"
     ]
    },
    {
     "name": "stderr",
     "output_type": "stream",
     "text": [
      "Evaluating: 100%|██████████| 9981/9981 [00:01<00:00, 7674.78it/s] \n"
     ]
    },
    {
     "name": "stdout",
     "output_type": "stream",
     "text": [
      "Train: 0.8667| Val: 0.6640| Test: 0.6670| Eval Time: 1.3094s\n",
      "Epoch 13| Loss: 0.5690| Acc: 0.8917| Train Time: 0.2797s\n"
     ]
    },
    {
     "name": "stderr",
     "output_type": "stream",
     "text": [
      "Evaluating: 100%|██████████| 9981/9981 [00:01<00:00, 8442.58it/s] \n"
     ]
    },
    {
     "name": "stdout",
     "output_type": "stream",
     "text": [
      "Train: 0.8917| Val: 0.6620| Test: 0.6680| Eval Time: 1.1921s\n",
      "Epoch 14| Loss: 0.4879| Acc: 0.9333| Train Time: 0.2021s\n"
     ]
    },
    {
     "name": "stderr",
     "output_type": "stream",
     "text": [
      "Evaluating: 100%|██████████| 9981/9981 [00:01<00:00, 8415.61it/s] \n"
     ]
    },
    {
     "name": "stdout",
     "output_type": "stream",
     "text": [
      "Train: 0.8917| Val: 0.6640| Test: 0.6590| Eval Time: 1.1926s\n",
      "Epoch 15| Loss: 1.1174| Acc: 0.9333| Train Time: 0.2226s\n"
     ]
    },
    {
     "name": "stderr",
     "output_type": "stream",
     "text": [
      "Evaluating: 100%|██████████| 9981/9981 [00:01<00:00, 8274.21it/s] \n"
     ]
    },
    {
     "name": "stdout",
     "output_type": "stream",
     "text": [
      "Train: 0.8917| Val: 0.6640| Test: 0.6580| Eval Time: 1.2125s\n",
      "Epoch 16| Loss: 0.6840| Acc: 0.9083| Train Time: 0.2721s\n"
     ]
    },
    {
     "name": "stderr",
     "output_type": "stream",
     "text": [
      "Evaluating: 100%|██████████| 9981/9981 [00:01<00:00, 8279.70it/s] \n"
     ]
    },
    {
     "name": "stdout",
     "output_type": "stream",
     "text": [
      "Train: 0.9167| Val: 0.6640| Test: 0.6560| Eval Time: 1.2121s\n",
      "Epoch 17| Loss: 0.5815| Acc: 0.9083| Train Time: 0.2220s\n"
     ]
    },
    {
     "name": "stderr",
     "output_type": "stream",
     "text": [
      "Evaluating: 100%|██████████| 9981/9981 [00:01<00:00, 7763.67it/s] \n"
     ]
    },
    {
     "name": "stdout",
     "output_type": "stream",
     "text": [
      "Train: 0.9000| Val: 0.6600| Test: 0.6530| Eval Time: 1.2910s\n",
      "Epoch 18| Loss: 1.1046| Acc: 0.9417| Train Time: 0.2728s\n"
     ]
    },
    {
     "name": "stderr",
     "output_type": "stream",
     "text": [
      "Evaluating: 100%|██████████| 9981/9981 [00:01<00:00, 8260.68it/s] \n"
     ]
    },
    {
     "name": "stdout",
     "output_type": "stream",
     "text": [
      "Train: 0.9000| Val: 0.6640| Test: 0.6530| Eval Time: 1.2211s\n",
      "Epoch 19| Loss: 0.7168| Acc: 0.9083| Train Time: 0.2842s\n"
     ]
    },
    {
     "name": "stderr",
     "output_type": "stream",
     "text": [
      "Evaluating: 100%|██████████| 9981/9981 [00:01<00:00, 8293.20it/s] \n"
     ]
    },
    {
     "name": "stdout",
     "output_type": "stream",
     "text": [
      "Train: 0.9000| Val: 0.6680| Test: 0.6510| Eval Time: 1.2102s\n",
      "Epoch 20| Loss: 1.5482| Acc: 0.9000| Train Time: 0.2193s\n"
     ]
    },
    {
     "name": "stderr",
     "output_type": "stream",
     "text": [
      "Evaluating: 100%|██████████| 9981/9981 [00:01<00:00, 9278.17it/s] \n"
     ]
    },
    {
     "name": "stdout",
     "output_type": "stream",
     "text": [
      "Train: 0.9083| Val: 0.6680| Test: 0.6520| Eval Time: 1.0815s\n",
      "Epoch 21| Loss: 0.6655| Acc: 0.9333| Train Time: 0.2068s\n"
     ]
    },
    {
     "name": "stderr",
     "output_type": "stream",
     "text": [
      "Evaluating: 100%|██████████| 9981/9981 [00:01<00:00, 7812.38it/s] \n"
     ]
    },
    {
     "name": "stdout",
     "output_type": "stream",
     "text": [
      "Train: 0.9083| Val: 0.6600| Test: 0.6540| Eval Time: 1.2845s\n",
      "Epoch 22| Loss: 0.3141| Acc: 0.9583| Train Time: 0.1993s\n"
     ]
    },
    {
     "name": "stderr",
     "output_type": "stream",
     "text": [
      "Evaluating: 100%|██████████| 9981/9981 [00:01<00:00, 7657.08it/s] \n"
     ]
    },
    {
     "name": "stdout",
     "output_type": "stream",
     "text": [
      "Train: 0.9083| Val: 0.6620| Test: 0.6630| Eval Time: 1.3092s\n",
      "Epoch 23| Loss: 0.1823| Acc: 0.9583| Train Time: 0.2843s\n"
     ]
    },
    {
     "name": "stderr",
     "output_type": "stream",
     "text": [
      "Evaluating: 100%|██████████| 9981/9981 [00:01<00:00, 8991.73it/s] \n"
     ]
    },
    {
     "name": "stdout",
     "output_type": "stream",
     "text": [
      "Train: 0.9083| Val: 0.6620| Test: 0.6660| Eval Time: 1.1160s\n",
      "Epoch 24| Loss: 0.5552| Acc: 0.9167| Train Time: 0.2738s\n"
     ]
    },
    {
     "name": "stderr",
     "output_type": "stream",
     "text": [
      "Evaluating: 100%|██████████| 9981/9981 [00:01<00:00, 8267.68it/s] \n"
     ]
    },
    {
     "name": "stdout",
     "output_type": "stream",
     "text": [
      "Train: 0.9083| Val: 0.6620| Test: 0.6720| Eval Time: 1.2152s\n",
      "Epoch 25| Loss: 0.4570| Acc: 0.9583| Train Time: 0.2150s\n"
     ]
    },
    {
     "name": "stderr",
     "output_type": "stream",
     "text": [
      "Evaluating: 100%|██████████| 9981/9981 [00:01<00:00, 8383.34it/s] \n"
     ]
    },
    {
     "name": "stdout",
     "output_type": "stream",
     "text": [
      "Train: 0.9167| Val: 0.6640| Test: 0.6770| Eval Time: 1.1958s\n",
      "Epoch 26| Loss: 0.4017| Acc: 0.9333| Train Time: 0.2838s\n"
     ]
    },
    {
     "name": "stderr",
     "output_type": "stream",
     "text": [
      "Evaluating: 100%|██████████| 9981/9981 [00:01<00:00, 7713.68it/s] \n"
     ]
    },
    {
     "name": "stdout",
     "output_type": "stream",
     "text": [
      "Train: 0.9167| Val: 0.6700| Test: 0.6750| Eval Time: 1.3013s\n",
      "Epoch 27| Loss: 0.6063| Acc: 0.9417| Train Time: 0.2071s\n"
     ]
    },
    {
     "name": "stderr",
     "output_type": "stream",
     "text": [
      "Evaluating: 100%|██████████| 9981/9981 [00:01<00:00, 8365.95it/s] \n"
     ]
    },
    {
     "name": "stdout",
     "output_type": "stream",
     "text": [
      "Train: 0.9167| Val: 0.6680| Test: 0.6710| Eval Time: 1.1986s\n",
      "Epoch 28| Loss: 0.7583| Acc: 0.9333| Train Time: 0.2209s\n"
     ]
    },
    {
     "name": "stderr",
     "output_type": "stream",
     "text": [
      "Evaluating: 100%|██████████| 9981/9981 [00:01<00:00, 7859.62it/s] \n"
     ]
    },
    {
     "name": "stdout",
     "output_type": "stream",
     "text": [
      "Train: 0.9167| Val: 0.6640| Test: 0.6730| Eval Time: 1.2775s\n",
      "Epoch 29| Loss: 0.1905| Acc: 0.9750| Train Time: 0.2110s\n"
     ]
    },
    {
     "name": "stderr",
     "output_type": "stream",
     "text": [
      "Evaluating: 100%|██████████| 9981/9981 [00:01<00:00, 7765.64it/s] \n"
     ]
    },
    {
     "name": "stdout",
     "output_type": "stream",
     "text": [
      "Train: 0.9167| Val: 0.6740| Test: 0.6770| Eval Time: 1.2904s\n",
      "Epoch 30| Loss: 0.3152| Acc: 0.9750| Train Time: 0.2681s\n"
     ]
    },
    {
     "name": "stderr",
     "output_type": "stream",
     "text": [
      "Evaluating: 100%|██████████| 9981/9981 [00:01<00:00, 9942.05it/s] \n"
     ]
    },
    {
     "name": "stdout",
     "output_type": "stream",
     "text": [
      "Train: 0.9250| Val: 0.6680| Test: 0.6790| Eval Time: 1.0159s\n",
      "Epoch 31| Loss: 0.9007| Acc: 0.9333| Train Time: 0.2125s\n"
     ]
    },
    {
     "name": "stderr",
     "output_type": "stream",
     "text": [
      "Evaluating: 100%|██████████| 9981/9981 [00:01<00:00, 7679.37it/s] \n"
     ]
    },
    {
     "name": "stdout",
     "output_type": "stream",
     "text": [
      "Train: 0.9250| Val: 0.6700| Test: 0.6760| Eval Time: 1.3059s\n",
      "Epoch 32| Loss: 0.4159| Acc: 0.9583| Train Time: 0.2656s\n"
     ]
    },
    {
     "name": "stderr",
     "output_type": "stream",
     "text": [
      "Evaluating: 100%|██████████| 9981/9981 [00:01<00:00, 8084.38it/s] \n"
     ]
    },
    {
     "name": "stdout",
     "output_type": "stream",
     "text": [
      "Train: 0.9333| Val: 0.6780| Test: 0.6800| Eval Time: 1.3061s\n",
      "Epoch 33| Loss: 0.0900| Acc: 0.9833| Train Time: 0.2092s\n"
     ]
    },
    {
     "name": "stderr",
     "output_type": "stream",
     "text": [
      "Evaluating: 100%|██████████| 9981/9981 [00:01<00:00, 8293.10it/s] \n"
     ]
    },
    {
     "name": "stdout",
     "output_type": "stream",
     "text": [
      "Train: 0.9333| Val: 0.6820| Test: 0.6810| Eval Time: 1.2101s\n",
      "Epoch 34| Loss: 0.7380| Acc: 0.9583| Train Time: 0.2179s\n"
     ]
    },
    {
     "name": "stderr",
     "output_type": "stream",
     "text": [
      "Evaluating: 100%|██████████| 9981/9981 [00:01<00:00, 7828.09it/s] \n"
     ]
    },
    {
     "name": "stdout",
     "output_type": "stream",
     "text": [
      "Train: 0.9333| Val: 0.6840| Test: 0.6830| Eval Time: 1.2813s\n",
      "Epoch 35| Loss: 0.7394| Acc: 0.9667| Train Time: 0.2129s\n"
     ]
    },
    {
     "name": "stderr",
     "output_type": "stream",
     "text": [
      "Evaluating: 100%|██████████| 9981/9981 [00:01<00:00, 7949.14it/s] \n"
     ]
    },
    {
     "name": "stdout",
     "output_type": "stream",
     "text": [
      "Train: 0.9250| Val: 0.6860| Test: 0.6880| Eval Time: 1.2666s\n",
      "Epoch 36| Loss: 0.7917| Acc: 0.9750| Train Time: 0.2179s\n"
     ]
    },
    {
     "name": "stderr",
     "output_type": "stream",
     "text": [
      "Evaluating: 100%|██████████| 9981/9981 [00:01<00:00, 8372.13it/s] \n"
     ]
    },
    {
     "name": "stdout",
     "output_type": "stream",
     "text": [
      "Train: 0.9250| Val: 0.6860| Test: 0.6900| Eval Time: 1.1996s\n",
      "Epoch 37| Loss: 0.2593| Acc: 0.9667| Train Time: 0.2884s\n"
     ]
    },
    {
     "name": "stderr",
     "output_type": "stream",
     "text": [
      "Evaluating: 100%|██████████| 9981/9981 [00:01<00:00, 7775.30it/s] \n"
     ]
    },
    {
     "name": "stdout",
     "output_type": "stream",
     "text": [
      "Train: 0.9333| Val: 0.6960| Test: 0.6900| Eval Time: 1.2971s\n",
      "Epoch 38| Loss: 0.1824| Acc: 0.9583| Train Time: 0.2068s\n"
     ]
    },
    {
     "name": "stderr",
     "output_type": "stream",
     "text": [
      "Evaluating: 100%|██████████| 9981/9981 [00:01<00:00, 7832.19it/s] \n"
     ]
    },
    {
     "name": "stdout",
     "output_type": "stream",
     "text": [
      "Train: 0.9333| Val: 0.6980| Test: 0.6910| Eval Time: 1.2798s\n",
      "Epoch 39| Loss: 0.0757| Acc: 0.9750| Train Time: 0.2136s\n"
     ]
    },
    {
     "name": "stderr",
     "output_type": "stream",
     "text": [
      "Evaluating: 100%|██████████| 9981/9981 [00:01<00:00, 8262.80it/s] \n"
     ]
    },
    {
     "name": "stdout",
     "output_type": "stream",
     "text": [
      "Train: 0.9333| Val: 0.6940| Test: 0.6920| Eval Time: 1.2149s\n",
      "Epoch 40| Loss: 0.1984| Acc: 0.9667| Train Time: 0.2817s\n"
     ]
    },
    {
     "name": "stderr",
     "output_type": "stream",
     "text": [
      "Evaluating: 100%|██████████| 9981/9981 [00:01<00:00, 8129.13it/s] \n"
     ]
    },
    {
     "name": "stdout",
     "output_type": "stream",
     "text": [
      "Train: 0.9333| Val: 0.6960| Test: 0.6940| Eval Time: 1.2921s\n",
      "Epoch 41| Loss: 0.1427| Acc: 0.9583| Train Time: 0.2196s\n"
     ]
    },
    {
     "name": "stderr",
     "output_type": "stream",
     "text": [
      "Evaluating: 100%|██████████| 9981/9981 [00:01<00:00, 8501.39it/s] \n"
     ]
    },
    {
     "name": "stdout",
     "output_type": "stream",
     "text": [
      "Train: 0.9333| Val: 0.6980| Test: 0.6920| Eval Time: 1.1797s\n",
      "Epoch 42| Loss: 0.0711| Acc: 0.9583| Train Time: 0.2140s\n"
     ]
    },
    {
     "name": "stderr",
     "output_type": "stream",
     "text": [
      "Evaluating: 100%|██████████| 9981/9981 [00:01<00:00, 7854.95it/s] \n"
     ]
    },
    {
     "name": "stdout",
     "output_type": "stream",
     "text": [
      "Train: 0.9167| Val: 0.6980| Test: 0.6920| Eval Time: 1.2796s\n",
      "Epoch 43| Loss: 0.3007| Acc: 0.9333| Train Time: 0.2218s\n"
     ]
    },
    {
     "name": "stderr",
     "output_type": "stream",
     "text": [
      "Evaluating: 100%|██████████| 9981/9981 [00:01<00:00, 8354.36it/s] \n"
     ]
    },
    {
     "name": "stdout",
     "output_type": "stream",
     "text": [
      "Train: 0.9167| Val: 0.6940| Test: 0.6900| Eval Time: 1.2021s\n",
      "Epoch 44| Loss: 0.4133| Acc: 0.9583| Train Time: 0.2154s\n"
     ]
    },
    {
     "name": "stderr",
     "output_type": "stream",
     "text": [
      "Evaluating: 100%|██████████| 9981/9981 [00:01<00:00, 8607.85it/s] \n"
     ]
    },
    {
     "name": "stdout",
     "output_type": "stream",
     "text": [
      "Train: 0.9167| Val: 0.6940| Test: 0.6870| Eval Time: 1.1682s\n",
      "Epoch 45| Loss: 0.3056| Acc: 0.9500| Train Time: 0.2110s\n"
     ]
    },
    {
     "name": "stderr",
     "output_type": "stream",
     "text": [
      "Evaluating: 100%|██████████| 9981/9981 [00:01<00:00, 7877.00it/s] \n"
     ]
    },
    {
     "name": "stdout",
     "output_type": "stream",
     "text": [
      "Train: 0.9250| Val: 0.6860| Test: 0.6890| Eval Time: 1.2798s\n",
      "Epoch 46| Loss: 0.9009| Acc: 0.9833| Train Time: 0.1930s\n"
     ]
    },
    {
     "name": "stderr",
     "output_type": "stream",
     "text": [
      "Evaluating: 100%|██████████| 9981/9981 [00:01<00:00, 8281.35it/s] \n"
     ]
    },
    {
     "name": "stdout",
     "output_type": "stream",
     "text": [
      "Train: 0.9333| Val: 0.6760| Test: 0.6780| Eval Time: 1.2139s\n",
      "Epoch 47| Loss: 0.0263| Acc: 0.9833| Train Time: 0.2204s\n"
     ]
    },
    {
     "name": "stderr",
     "output_type": "stream",
     "text": [
      "Evaluating: 100%|██████████| 9981/9981 [00:01<00:00, 7741.49it/s] \n"
     ]
    },
    {
     "name": "stdout",
     "output_type": "stream",
     "text": [
      "Train: 0.9167| Val: 0.6560| Test: 0.6670| Eval Time: 1.3547s\n",
      "Epoch 48| Loss: 0.4617| Acc: 0.9583| Train Time: 0.2134s\n"
     ]
    },
    {
     "name": "stderr",
     "output_type": "stream",
     "text": [
      "Evaluating: 100%|██████████| 9981/9981 [00:01<00:00, 8387.96it/s] \n"
     ]
    },
    {
     "name": "stdout",
     "output_type": "stream",
     "text": [
      "Train: 0.9000| Val: 0.6180| Test: 0.6420| Eval Time: 1.2021s\n",
      "Epoch 49| Loss: 0.8850| Acc: 0.9667| Train Time: 0.2159s\n"
     ]
    },
    {
     "name": "stderr",
     "output_type": "stream",
     "text": [
      "Evaluating: 100%|██████████| 9981/9981 [00:01<00:00, 8301.84it/s] \n"
     ]
    },
    {
     "name": "stdout",
     "output_type": "stream",
     "text": [
      "Train: 0.8917| Val: 0.6140| Test: 0.6250| Eval Time: 1.2705s\n",
      "Epoch 50| Loss: 0.1739| Acc: 0.9750| Train Time: 0.2035s\n"
     ]
    },
    {
     "name": "stderr",
     "output_type": "stream",
     "text": [
      "Evaluating: 100%|██████████| 9981/9981 [00:01<00:00, 8874.43it/s] \n"
     ]
    },
    {
     "name": "stdout",
     "output_type": "stream",
     "text": [
      "Train: 0.8917| Val: 0.6020| Test: 0.6210| Eval Time: 1.1989s\n",
      "Epoch 51| Loss: 0.5407| Acc: 0.9667| Train Time: 0.2295s\n"
     ]
    },
    {
     "name": "stderr",
     "output_type": "stream",
     "text": [
      "Evaluating: 100%|██████████| 9981/9981 [00:01<00:00, 7811.21it/s] \n"
     ]
    },
    {
     "name": "stdout",
     "output_type": "stream",
     "text": [
      "Train: 0.9000| Val: 0.6060| Test: 0.6210| Eval Time: 1.2856s\n",
      "Epoch 52| Loss: 0.0772| Acc: 0.9750| Train Time: 0.2037s\n"
     ]
    },
    {
     "name": "stderr",
     "output_type": "stream",
     "text": [
      "Evaluating: 100%|██████████| 9981/9981 [00:01<00:00, 8427.01it/s] \n"
     ]
    },
    {
     "name": "stdout",
     "output_type": "stream",
     "text": [
      "Train: 0.9083| Val: 0.6080| Test: 0.6270| Eval Time: 1.1920s\n",
      "Epoch 53| Loss: 0.4329| Acc: 0.9417| Train Time: 0.2021s\n"
     ]
    },
    {
     "name": "stderr",
     "output_type": "stream",
     "text": [
      "Evaluating: 100%|██████████| 9981/9981 [00:01<00:00, 7800.67it/s] \n"
     ]
    },
    {
     "name": "stdout",
     "output_type": "stream",
     "text": [
      "Train: 0.9083| Val: 0.6120| Test: 0.6370| Eval Time: 1.2859s\n",
      "Epoch 54| Loss: 0.4819| Acc: 0.9750| Train Time: 0.1924s\n"
     ]
    },
    {
     "name": "stderr",
     "output_type": "stream",
     "text": [
      "Evaluating: 100%|██████████| 9981/9981 [00:01<00:00, 8378.75it/s] \n"
     ]
    },
    {
     "name": "stdout",
     "output_type": "stream",
     "text": [
      "Train: 0.9250| Val: 0.6140| Test: 0.6440| Eval Time: 1.2061s\n",
      "Epoch 55| Loss: 0.0147| Acc: 0.9917| Train Time: 0.2041s\n"
     ]
    },
    {
     "name": "stderr",
     "output_type": "stream",
     "text": [
      "Evaluating: 100%|██████████| 9981/9981 [00:01<00:00, 9193.68it/s] \n"
     ]
    },
    {
     "name": "stdout",
     "output_type": "stream",
     "text": [
      "Train: 0.9417| Val: 0.6320| Test: 0.6440| Eval Time: 1.0957s\n",
      "Epoch 56| Loss: 0.0378| Acc: 0.9667| Train Time: 0.2127s\n"
     ]
    },
    {
     "name": "stderr",
     "output_type": "stream",
     "text": [
      "Evaluating: 100%|██████████| 9981/9981 [00:01<00:00, 8235.64it/s] \n"
     ]
    },
    {
     "name": "stdout",
     "output_type": "stream",
     "text": [
      "Train: 0.9500| Val: 0.6380| Test: 0.6470| Eval Time: 1.2832s\n",
      "Epoch 57| Loss: 0.3107| Acc: 0.9583| Train Time: 0.2148s\n"
     ]
    },
    {
     "name": "stderr",
     "output_type": "stream",
     "text": [
      "Evaluating: 100%|██████████| 9981/9981 [00:01<00:00, 9056.76it/s] \n"
     ]
    },
    {
     "name": "stdout",
     "output_type": "stream",
     "text": [
      "Train: 0.9417| Val: 0.6460| Test: 0.6480| Eval Time: 1.1089s\n",
      "Epoch 58| Loss: 0.2049| Acc: 0.9833| Train Time: 0.2157s\n"
     ]
    },
    {
     "name": "stderr",
     "output_type": "stream",
     "text": [
      "Evaluating: 100%|██████████| 9981/9981 [00:01<00:00, 8658.00it/s] \n"
     ]
    },
    {
     "name": "stdout",
     "output_type": "stream",
     "text": [
      "Train: 0.9500| Val: 0.6520| Test: 0.6480| Eval Time: 1.1642s\n",
      "Epoch 59| Loss: 0.2024| Acc: 0.9667| Train Time: 0.2182s\n"
     ]
    },
    {
     "name": "stderr",
     "output_type": "stream",
     "text": [
      "Evaluating: 100%|██████████| 9981/9981 [00:01<00:00, 7145.41it/s] \n"
     ]
    },
    {
     "name": "stdout",
     "output_type": "stream",
     "text": [
      "Train: 0.9500| Val: 0.6560| Test: 0.6430| Eval Time: 1.4027s\n",
      "Epoch 60| Loss: 0.3265| Acc: 0.9750| Train Time: 0.2858s\n"
     ]
    },
    {
     "name": "stderr",
     "output_type": "stream",
     "text": [
      "Evaluating: 100%|██████████| 9981/9981 [00:01<00:00, 7632.62it/s] \n"
     ]
    },
    {
     "name": "stdout",
     "output_type": "stream",
     "text": [
      "Train: 0.9583| Val: 0.6600| Test: 0.6480| Eval Time: 1.3143s\n",
      "Epoch 61| Loss: 1.1836| Acc: 0.9583| Train Time: 0.2152s\n"
     ]
    },
    {
     "name": "stderr",
     "output_type": "stream",
     "text": [
      "Evaluating: 100%|██████████| 9981/9981 [00:01<00:00, 8955.84it/s] \n"
     ]
    },
    {
     "name": "stdout",
     "output_type": "stream",
     "text": [
      "Train: 0.9583| Val: 0.6640| Test: 0.6440| Eval Time: 1.1882s\n",
      "Epoch 62| Loss: 0.1309| Acc: 0.9750| Train Time: 0.2320s\n"
     ]
    },
    {
     "name": "stderr",
     "output_type": "stream",
     "text": [
      "Evaluating: 100%|██████████| 9981/9981 [00:01<00:00, 7276.94it/s] \n"
     ]
    },
    {
     "name": "stdout",
     "output_type": "stream",
     "text": [
      "Train: 0.9583| Val: 0.6700| Test: 0.6500| Eval Time: 1.3809s\n",
      "Epoch 63| Loss: 0.1902| Acc: 0.9917| Train Time: 0.1958s\n"
     ]
    },
    {
     "name": "stderr",
     "output_type": "stream",
     "text": [
      "Evaluating: 100%|██████████| 9981/9981 [00:01<00:00, 7653.05it/s] \n"
     ]
    },
    {
     "name": "stdout",
     "output_type": "stream",
     "text": [
      "Train: 0.9583| Val: 0.6720| Test: 0.6550| Eval Time: 1.3117s\n",
      "Epoch 64| Loss: 0.1002| Acc: 0.9917| Train Time: 0.2100s\n"
     ]
    },
    {
     "name": "stderr",
     "output_type": "stream",
     "text": [
      "Evaluating: 100%|██████████| 9981/9981 [00:01<00:00, 8392.39it/s] \n"
     ]
    },
    {
     "name": "stdout",
     "output_type": "stream",
     "text": [
      "Train: 0.9750| Val: 0.6680| Test: 0.6540| Eval Time: 1.1942s\n",
      "Epoch 65| Loss: 1.3737| Acc: 0.9333| Train Time: 0.2211s\n"
     ]
    },
    {
     "name": "stderr",
     "output_type": "stream",
     "text": [
      "Evaluating: 100%|██████████| 9981/9981 [00:01<00:00, 7980.62it/s] \n"
     ]
    },
    {
     "name": "stdout",
     "output_type": "stream",
     "text": [
      "Train: 0.9667| Val: 0.6720| Test: 0.6600| Eval Time: 1.2609s\n",
      "Epoch 66| Loss: 0.8111| Acc: 0.9833| Train Time: 0.2125s\n"
     ]
    },
    {
     "name": "stderr",
     "output_type": "stream",
     "text": [
      "Evaluating: 100%|██████████| 9981/9981 [00:01<00:00, 8520.14it/s] \n"
     ]
    },
    {
     "name": "stdout",
     "output_type": "stream",
     "text": [
      "Train: 0.9583| Val: 0.6780| Test: 0.6630| Eval Time: 1.1776s\n",
      "Epoch 67| Loss: 0.0195| Acc: 0.9833| Train Time: 0.2121s\n"
     ]
    },
    {
     "name": "stderr",
     "output_type": "stream",
     "text": [
      "Evaluating: 100%|██████████| 9981/9981 [00:01<00:00, 8959.94it/s] \n"
     ]
    },
    {
     "name": "stdout",
     "output_type": "stream",
     "text": [
      "Train: 0.9500| Val: 0.6880| Test: 0.6620| Eval Time: 1.1872s\n",
      "Epoch 68| Loss: 0.4304| Acc: 0.9667| Train Time: 0.2230s\n"
     ]
    },
    {
     "name": "stderr",
     "output_type": "stream",
     "text": [
      "Evaluating: 100%|██████████| 9981/9981 [00:01<00:00, 7711.76it/s] \n"
     ]
    },
    {
     "name": "stdout",
     "output_type": "stream",
     "text": [
      "Train: 0.9500| Val: 0.6860| Test: 0.6600| Eval Time: 1.3015s\n",
      "\n",
      "Result of  4. run| Train: 0.9333| Val: 0.6980| Test: 0.6910\n",
      "\n",
      "Run 05 for GatV1_K6_D3_s and CiteSeer:\n"
     ]
    },
    {
     "name": "stderr",
     "output_type": "stream",
     "text": [
      "Epoch 01: 100%|██████████| 120/120 [00:00<00:00, 505.94it/s]\n"
     ]
    },
    {
     "name": "stdout",
     "output_type": "stream",
     "text": [
      "Epoch 01| Loss: 2.6771| Acc: 0.1750| Train Time: 0.3073s\n"
     ]
    },
    {
     "name": "stderr",
     "output_type": "stream",
     "text": [
      "Evaluating: 100%|██████████| 9981/9981 [00:01<00:00, 7329.82it/s] \n"
     ]
    },
    {
     "name": "stdout",
     "output_type": "stream",
     "text": [
      "Train: 0.7333| Val: 0.6020| Test: 0.5790| Eval Time: 1.3727s\n",
      "Epoch 02| Loss: 1.8459| Acc: 0.5583| Train Time: 0.2057s\n"
     ]
    },
    {
     "name": "stderr",
     "output_type": "stream",
     "text": [
      "Evaluating: 100%|██████████| 9981/9981 [00:01<00:00, 7814.17it/s] \n"
     ]
    },
    {
     "name": "stdout",
     "output_type": "stream",
     "text": [
      "Train: 0.7833| Val: 0.6640| Test: 0.6400| Eval Time: 1.2870s\n",
      "Epoch 03| Loss: 2.1573| Acc: 0.6750| Train Time: 0.2088s\n"
     ]
    },
    {
     "name": "stderr",
     "output_type": "stream",
     "text": [
      "Evaluating: 100%|██████████| 9981/9981 [00:01<00:00, 7798.29it/s] \n"
     ]
    },
    {
     "name": "stdout",
     "output_type": "stream",
     "text": [
      "Train: 0.8667| Val: 0.6720| Test: 0.6530| Eval Time: 1.2923s\n",
      "Epoch 04| Loss: 1.1698| Acc: 0.7167| Train Time: 0.2284s\n"
     ]
    },
    {
     "name": "stderr",
     "output_type": "stream",
     "text": [
      "Evaluating: 100%|██████████| 9981/9981 [00:01<00:00, 9202.12it/s] \n"
     ]
    },
    {
     "name": "stdout",
     "output_type": "stream",
     "text": [
      "Train: 0.8750| Val: 0.6940| Test: 0.6730| Eval Time: 1.0907s\n",
      "Epoch 05| Loss: 1.1131| Acc: 0.7583| Train Time: 0.1940s\n"
     ]
    },
    {
     "name": "stderr",
     "output_type": "stream",
     "text": [
      "Evaluating: 100%|██████████| 9981/9981 [00:01<00:00, 7193.40it/s] \n"
     ]
    },
    {
     "name": "stdout",
     "output_type": "stream",
     "text": [
      "Train: 0.8833| Val: 0.6960| Test: 0.6700| Eval Time: 1.3934s\n",
      "Epoch 06| Loss: 1.3678| Acc: 0.8000| Train Time: 0.2237s\n"
     ]
    },
    {
     "name": "stderr",
     "output_type": "stream",
     "text": [
      "Evaluating: 100%|██████████| 9981/9981 [00:01<00:00, 7755.66it/s] \n"
     ]
    },
    {
     "name": "stdout",
     "output_type": "stream",
     "text": [
      "Train: 0.8750| Val: 0.6860| Test: 0.6800| Eval Time: 1.2930s\n",
      "Epoch 07| Loss: 0.8695| Acc: 0.8250| Train Time: 0.2822s\n"
     ]
    },
    {
     "name": "stderr",
     "output_type": "stream",
     "text": [
      "Evaluating: 100%|██████████| 9981/9981 [00:01<00:00, 9000.41it/s] \n"
     ]
    },
    {
     "name": "stdout",
     "output_type": "stream",
     "text": [
      "Train: 0.8917| Val: 0.6660| Test: 0.6760| Eval Time: 1.1158s\n",
      "Epoch 08| Loss: 1.0193| Acc: 0.8167| Train Time: 0.2870s\n"
     ]
    },
    {
     "name": "stderr",
     "output_type": "stream",
     "text": [
      "Evaluating: 100%|██████████| 9981/9981 [00:01<00:00, 7606.79it/s] \n"
     ]
    },
    {
     "name": "stdout",
     "output_type": "stream",
     "text": [
      "Train: 0.9083| Val: 0.6500| Test: 0.6660| Eval Time: 1.3857s\n",
      "Epoch 09| Loss: 1.3620| Acc: 0.8083| Train Time: 0.2335s\n"
     ]
    },
    {
     "name": "stderr",
     "output_type": "stream",
     "text": [
      "Evaluating: 100%|██████████| 9981/9981 [00:01<00:00, 7840.07it/s] \n"
     ]
    },
    {
     "name": "stdout",
     "output_type": "stream",
     "text": [
      "Train: 0.8833| Val: 0.6280| Test: 0.6560| Eval Time: 1.2805s\n",
      "Epoch 10| Loss: 1.7802| Acc: 0.8333| Train Time: 0.2164s\n"
     ]
    },
    {
     "name": "stderr",
     "output_type": "stream",
     "text": [
      "Evaluating: 100%|██████████| 9981/9981 [00:01<00:00, 7787.22it/s] \n"
     ]
    },
    {
     "name": "stdout",
     "output_type": "stream",
     "text": [
      "Train: 0.8833| Val: 0.6360| Test: 0.6560| Eval Time: 1.2873s\n",
      "Epoch 11| Loss: 0.5286| Acc: 0.8917| Train Time: 0.2219s\n"
     ]
    },
    {
     "name": "stderr",
     "output_type": "stream",
     "text": [
      "Evaluating: 100%|██████████| 9981/9981 [00:01<00:00, 7339.36it/s] \n"
     ]
    },
    {
     "name": "stdout",
     "output_type": "stream",
     "text": [
      "Train: 0.9000| Val: 0.6520| Test: 0.6530| Eval Time: 1.3661s\n",
      "Epoch 12| Loss: 0.4374| Acc: 0.8833| Train Time: 0.2139s\n"
     ]
    },
    {
     "name": "stderr",
     "output_type": "stream",
     "text": [
      "Evaluating: 100%|██████████| 9981/9981 [00:01<00:00, 7720.02it/s] \n"
     ]
    },
    {
     "name": "stdout",
     "output_type": "stream",
     "text": [
      "Train: 0.9250| Val: 0.6720| Test: 0.6520| Eval Time: 1.2992s\n",
      "Epoch 13| Loss: 1.2421| Acc: 0.8833| Train Time: 0.2899s\n"
     ]
    },
    {
     "name": "stderr",
     "output_type": "stream",
     "text": [
      "Evaluating: 100%|██████████| 9981/9981 [00:01<00:00, 7689.46it/s] \n"
     ]
    },
    {
     "name": "stdout",
     "output_type": "stream",
     "text": [
      "Train: 0.9333| Val: 0.6800| Test: 0.6550| Eval Time: 1.3063s\n",
      "Epoch 14| Loss: 0.6132| Acc: 0.8917| Train Time: 0.2862s\n"
     ]
    },
    {
     "name": "stderr",
     "output_type": "stream",
     "text": [
      "Evaluating: 100%|██████████| 9981/9981 [00:01<00:00, 7736.67it/s] \n"
     ]
    },
    {
     "name": "stdout",
     "output_type": "stream",
     "text": [
      "Train: 0.9333| Val: 0.6740| Test: 0.6510| Eval Time: 1.3018s\n",
      "Epoch 15| Loss: 1.0963| Acc: 0.9083| Train Time: 0.2102s\n"
     ]
    },
    {
     "name": "stderr",
     "output_type": "stream",
     "text": [
      "Evaluating: 100%|██████████| 9981/9981 [00:01<00:00, 7720.27it/s] \n"
     ]
    },
    {
     "name": "stdout",
     "output_type": "stream",
     "text": [
      "Train: 0.9333| Val: 0.6860| Test: 0.6590| Eval Time: 1.2980s\n",
      "Epoch 16| Loss: 0.4178| Acc: 0.9083| Train Time: 0.2190s\n"
     ]
    },
    {
     "name": "stderr",
     "output_type": "stream",
     "text": [
      "Evaluating: 100%|██████████| 9981/9981 [00:01<00:00, 7987.62it/s] \n"
     ]
    },
    {
     "name": "stdout",
     "output_type": "stream",
     "text": [
      "Train: 0.9333| Val: 0.6840| Test: 0.6620| Eval Time: 1.2564s\n",
      "Epoch 17| Loss: 0.9020| Acc: 0.9083| Train Time: 0.2058s\n"
     ]
    },
    {
     "name": "stderr",
     "output_type": "stream",
     "text": [
      "Evaluating: 100%|██████████| 9981/9981 [00:01<00:00, 8280.67it/s] \n"
     ]
    },
    {
     "name": "stdout",
     "output_type": "stream",
     "text": [
      "Train: 0.9333| Val: 0.6780| Test: 0.6580| Eval Time: 1.2145s\n",
      "Epoch 18| Loss: 1.4603| Acc: 0.9167| Train Time: 0.2211s\n"
     ]
    },
    {
     "name": "stderr",
     "output_type": "stream",
     "text": [
      "Evaluating: 100%|██████████| 9981/9981 [00:01<00:00, 7238.51it/s] \n"
     ]
    },
    {
     "name": "stdout",
     "output_type": "stream",
     "text": [
      "Train: 0.9417| Val: 0.6780| Test: 0.6510| Eval Time: 1.3851s\n",
      "Epoch 19| Loss: 0.9133| Acc: 0.9500| Train Time: 0.2856s\n"
     ]
    },
    {
     "name": "stderr",
     "output_type": "stream",
     "text": [
      "Evaluating: 100%|██████████| 9981/9981 [00:01<00:00, 9063.34it/s] \n"
     ]
    },
    {
     "name": "stdout",
     "output_type": "stream",
     "text": [
      "Train: 0.9167| Val: 0.6740| Test: 0.6540| Eval Time: 1.1083s\n",
      "Epoch 20| Loss: 0.4158| Acc: 0.9167| Train Time: 0.2248s\n"
     ]
    },
    {
     "name": "stderr",
     "output_type": "stream",
     "text": [
      "Evaluating: 100%|██████████| 9981/9981 [00:01<00:00, 7795.98it/s] \n"
     ]
    },
    {
     "name": "stdout",
     "output_type": "stream",
     "text": [
      "Train: 0.9167| Val: 0.6660| Test: 0.6610| Eval Time: 1.3526s\n",
      "Epoch 21| Loss: 0.2584| Acc: 0.9250| Train Time: 0.2019s\n"
     ]
    },
    {
     "name": "stderr",
     "output_type": "stream",
     "text": [
      "Evaluating: 100%|██████████| 9981/9981 [00:01<00:00, 8994.50it/s] \n"
     ]
    },
    {
     "name": "stdout",
     "output_type": "stream",
     "text": [
      "Train: 0.9250| Val: 0.6600| Test: 0.6610| Eval Time: 1.1169s\n",
      "Epoch 22| Loss: 0.7413| Acc: 0.9250| Train Time: 0.1986s\n"
     ]
    },
    {
     "name": "stderr",
     "output_type": "stream",
     "text": [
      "Evaluating: 100%|██████████| 9981/9981 [00:01<00:00, 8253.38it/s] \n"
     ]
    },
    {
     "name": "stdout",
     "output_type": "stream",
     "text": [
      "Train: 0.9333| Val: 0.6600| Test: 0.6560| Eval Time: 1.2799s\n",
      "Epoch 23| Loss: 0.8557| Acc: 0.9583| Train Time: 0.2150s\n"
     ]
    },
    {
     "name": "stderr",
     "output_type": "stream",
     "text": [
      "Evaluating: 100%|██████████| 9981/9981 [00:01<00:00, 7779.35it/s] \n"
     ]
    },
    {
     "name": "stdout",
     "output_type": "stream",
     "text": [
      "Train: 0.9417| Val: 0.6620| Test: 0.6460| Eval Time: 1.2940s\n",
      "Epoch 24| Loss: 0.5728| Acc: 0.9500| Train Time: 0.2195s\n"
     ]
    },
    {
     "name": "stderr",
     "output_type": "stream",
     "text": [
      "Evaluating: 100%|██████████| 9981/9981 [00:01<00:00, 8438.98it/s] \n"
     ]
    },
    {
     "name": "stdout",
     "output_type": "stream",
     "text": [
      "Train: 0.9250| Val: 0.6560| Test: 0.6440| Eval Time: 1.1894s\n",
      "Epoch 25| Loss: 0.1516| Acc: 0.9667| Train Time: 0.2780s\n"
     ]
    },
    {
     "name": "stderr",
     "output_type": "stream",
     "text": [
      "Evaluating: 100%|██████████| 9981/9981 [00:01<00:00, 8882.61it/s] \n"
     ]
    },
    {
     "name": "stdout",
     "output_type": "stream",
     "text": [
      "Train: 0.9333| Val: 0.6540| Test: 0.6440| Eval Time: 1.1301s\n",
      "Epoch 26| Loss: 0.7305| Acc: 0.9500| Train Time: 0.2790s\n"
     ]
    },
    {
     "name": "stderr",
     "output_type": "stream",
     "text": [
      "Evaluating: 100%|██████████| 9981/9981 [00:01<00:00, 7722.48it/s] \n"
     ]
    },
    {
     "name": "stdout",
     "output_type": "stream",
     "text": [
      "Train: 0.9333| Val: 0.6600| Test: 0.6440| Eval Time: 1.3030s\n",
      "Epoch 27| Loss: 1.2665| Acc: 0.9250| Train Time: 0.2038s\n"
     ]
    },
    {
     "name": "stderr",
     "output_type": "stream",
     "text": [
      "Evaluating: 100%|██████████| 9981/9981 [00:01<00:00, 9034.10it/s] \n"
     ]
    },
    {
     "name": "stdout",
     "output_type": "stream",
     "text": [
      "Train: 0.9250| Val: 0.6700| Test: 0.6470| Eval Time: 1.1098s\n",
      "Epoch 28| Loss: 0.2599| Acc: 0.9750| Train Time: 0.2818s\n"
     ]
    },
    {
     "name": "stderr",
     "output_type": "stream",
     "text": [
      "Evaluating: 100%|██████████| 9981/9981 [00:01<00:00, 9001.51it/s] \n"
     ]
    },
    {
     "name": "stdout",
     "output_type": "stream",
     "text": [
      "Train: 0.9333| Val: 0.6760| Test: 0.6540| Eval Time: 1.1166s\n",
      "Epoch 29| Loss: 0.0426| Acc: 0.9833| Train Time: 0.2748s\n"
     ]
    },
    {
     "name": "stderr",
     "output_type": "stream",
     "text": [
      "Evaluating: 100%|██████████| 9981/9981 [00:01<00:00, 7702.82it/s] \n"
     ]
    },
    {
     "name": "stdout",
     "output_type": "stream",
     "text": [
      "Train: 0.9333| Val: 0.6820| Test: 0.6590| Eval Time: 1.3050s\n",
      "Epoch 30| Loss: 0.5265| Acc: 0.9500| Train Time: 0.1963s\n"
     ]
    },
    {
     "name": "stderr",
     "output_type": "stream",
     "text": [
      "Evaluating: 100%|██████████| 9981/9981 [00:01<00:00, 8967.15it/s] \n"
     ]
    },
    {
     "name": "stdout",
     "output_type": "stream",
     "text": [
      "Train: 0.9417| Val: 0.6820| Test: 0.6620| Eval Time: 1.1193s\n",
      "Epoch 31| Loss: 0.4649| Acc: 0.9417| Train Time: 0.2051s\n"
     ]
    },
    {
     "name": "stderr",
     "output_type": "stream",
     "text": [
      "Evaluating: 100%|██████████| 9981/9981 [00:01<00:00, 9064.30it/s] \n"
     ]
    },
    {
     "name": "stdout",
     "output_type": "stream",
     "text": [
      "Train: 0.9417| Val: 0.6880| Test: 0.6650| Eval Time: 1.1660s\n",
      "Epoch 32| Loss: 0.4017| Acc: 0.9583| Train Time: 0.2032s\n"
     ]
    },
    {
     "name": "stderr",
     "output_type": "stream",
     "text": [
      "Evaluating: 100%|██████████| 9981/9981 [00:01<00:00, 8191.97it/s] \n"
     ]
    },
    {
     "name": "stdout",
     "output_type": "stream",
     "text": [
      "Train: 0.9417| Val: 0.6920| Test: 0.6720| Eval Time: 1.2250s\n",
      "Epoch 33| Loss: 0.1509| Acc: 0.9583| Train Time: 0.2853s\n"
     ]
    },
    {
     "name": "stderr",
     "output_type": "stream",
     "text": [
      "Evaluating: 100%|██████████| 9981/9981 [00:01<00:00, 8265.95it/s] \n"
     ]
    },
    {
     "name": "stdout",
     "output_type": "stream",
     "text": [
      "Train: 0.9417| Val: 0.6940| Test: 0.6730| Eval Time: 1.2154s\n",
      "Epoch 34| Loss: 0.9277| Acc: 0.9667| Train Time: 0.2691s\n"
     ]
    },
    {
     "name": "stderr",
     "output_type": "stream",
     "text": [
      "Evaluating: 100%|██████████| 9981/9981 [00:01<00:00, 8297.76it/s] \n"
     ]
    },
    {
     "name": "stdout",
     "output_type": "stream",
     "text": [
      "Train: 0.9417| Val: 0.6940| Test: 0.6750| Eval Time: 1.2109s\n",
      "Epoch 35| Loss: 0.2819| Acc: 0.9750| Train Time: 0.2182s\n"
     ]
    },
    {
     "name": "stderr",
     "output_type": "stream",
     "text": [
      "Evaluating: 100%|██████████| 9981/9981 [00:01<00:00, 8539.62it/s] \n"
     ]
    },
    {
     "name": "stdout",
     "output_type": "stream",
     "text": [
      "Train: 0.9417| Val: 0.6960| Test: 0.6750| Eval Time: 1.1793s\n",
      "\n",
      "Result of  5. run| Train: 0.8833| Val: 0.6960| Test: 0.6700\n",
      "\n",
      "Run 06 for GatV1_K6_D3_s and CiteSeer:\n"
     ]
    },
    {
     "name": "stderr",
     "output_type": "stream",
     "text": [
      "Epoch 01: 100%|██████████| 120/120 [00:00<00:00, 539.38it/s]\n"
     ]
    },
    {
     "name": "stdout",
     "output_type": "stream",
     "text": [
      "Epoch 01| Loss: 2.2917| Acc: 0.1500| Train Time: 0.2271s\n"
     ]
    },
    {
     "name": "stderr",
     "output_type": "stream",
     "text": [
      "Evaluating: 100%|██████████| 9981/9981 [00:01<00:00, 7740.49it/s] \n"
     ]
    },
    {
     "name": "stdout",
     "output_type": "stream",
     "text": [
      "Train: 0.6333| Val: 0.5320| Test: 0.5670| Eval Time: 1.3592s\n",
      "Epoch 02| Loss: 1.6721| Acc: 0.5333| Train Time: 0.1981s\n"
     ]
    },
    {
     "name": "stderr",
     "output_type": "stream",
     "text": [
      "Evaluating: 100%|██████████| 9981/9981 [00:01<00:00, 8197.50it/s] \n"
     ]
    },
    {
     "name": "stdout",
     "output_type": "stream",
     "text": [
      "Train: 0.7667| Val: 0.6800| Test: 0.6560| Eval Time: 1.2249s\n",
      "Epoch 03| Loss: 1.8534| Acc: 0.7000| Train Time: 0.2952s\n"
     ]
    },
    {
     "name": "stderr",
     "output_type": "stream",
     "text": [
      "Evaluating: 100%|██████████| 9981/9981 [00:01<00:00, 7813.81it/s] \n"
     ]
    },
    {
     "name": "stdout",
     "output_type": "stream",
     "text": [
      "Train: 0.8583| Val: 0.6980| Test: 0.6770| Eval Time: 1.2888s\n",
      "Epoch 04| Loss: 1.6284| Acc: 0.6917| Train Time: 0.2218s\n"
     ]
    },
    {
     "name": "stderr",
     "output_type": "stream",
     "text": [
      "Evaluating: 100%|██████████| 9981/9981 [00:01<00:00, 8336.10it/s] \n"
     ]
    },
    {
     "name": "stdout",
     "output_type": "stream",
     "text": [
      "Train: 0.8667| Val: 0.7080| Test: 0.6840| Eval Time: 1.2674s\n",
      "Epoch 05| Loss: 0.9765| Acc: 0.7417| Train Time: 0.2197s\n"
     ]
    },
    {
     "name": "stderr",
     "output_type": "stream",
     "text": [
      "Evaluating: 100%|██████████| 9981/9981 [00:01<00:00, 8263.37it/s] \n"
     ]
    },
    {
     "name": "stdout",
     "output_type": "stream",
     "text": [
      "Train: 0.8833| Val: 0.6960| Test: 0.6630| Eval Time: 1.2809s\n",
      "Epoch 06| Loss: 1.6760| Acc: 0.7417| Train Time: 0.2092s\n"
     ]
    },
    {
     "name": "stderr",
     "output_type": "stream",
     "text": [
      "Evaluating: 100%|██████████| 9981/9981 [00:01<00:00, 8402.85it/s] \n"
     ]
    },
    {
     "name": "stdout",
     "output_type": "stream",
     "text": [
      "Train: 0.8500| Val: 0.6540| Test: 0.6560| Eval Time: 1.1968s\n",
      "Epoch 07| Loss: 1.9710| Acc: 0.8000| Train Time: 0.2136s\n"
     ]
    },
    {
     "name": "stderr",
     "output_type": "stream",
     "text": [
      "Evaluating: 100%|██████████| 9981/9981 [00:01<00:00, 8373.77it/s] \n"
     ]
    },
    {
     "name": "stdout",
     "output_type": "stream",
     "text": [
      "Train: 0.8250| Val: 0.6560| Test: 0.6580| Eval Time: 1.1982s\n",
      "Epoch 08| Loss: 0.8386| Acc: 0.8667| Train Time: 0.2827s\n"
     ]
    },
    {
     "name": "stderr",
     "output_type": "stream",
     "text": [
      "Evaluating: 100%|██████████| 9981/9981 [00:01<00:00, 8448.59it/s] \n"
     ]
    },
    {
     "name": "stdout",
     "output_type": "stream",
     "text": [
      "Train: 0.8667| Val: 0.6540| Test: 0.6760| Eval Time: 1.1979s\n",
      "Epoch 09| Loss: 1.3355| Acc: 0.8333| Train Time: 0.2203s\n"
     ]
    },
    {
     "name": "stderr",
     "output_type": "stream",
     "text": [
      "Evaluating: 100%|██████████| 9981/9981 [00:01<00:00, 7839.36it/s] \n"
     ]
    },
    {
     "name": "stdout",
     "output_type": "stream",
     "text": [
      "Train: 0.8833| Val: 0.6660| Test: 0.6830| Eval Time: 1.2849s\n",
      "Epoch 10| Loss: 0.9177| Acc: 0.8500| Train Time: 0.2133s\n"
     ]
    },
    {
     "name": "stderr",
     "output_type": "stream",
     "text": [
      "Evaluating: 100%|██████████| 9981/9981 [00:01<00:00, 8290.78it/s] \n"
     ]
    },
    {
     "name": "stdout",
     "output_type": "stream",
     "text": [
      "Train: 0.9000| Val: 0.6720| Test: 0.6850| Eval Time: 1.2748s\n",
      "Epoch 11| Loss: 1.2649| Acc: 0.8667| Train Time: 0.2089s\n"
     ]
    },
    {
     "name": "stderr",
     "output_type": "stream",
     "text": [
      "Evaluating: 100%|██████████| 9981/9981 [00:01<00:00, 8304.06it/s] \n"
     ]
    },
    {
     "name": "stdout",
     "output_type": "stream",
     "text": [
      "Train: 0.9000| Val: 0.6760| Test: 0.6800| Eval Time: 1.2085s\n",
      "Epoch 12| Loss: 0.9062| Acc: 0.8750| Train Time: 0.2128s\n"
     ]
    },
    {
     "name": "stderr",
     "output_type": "stream",
     "text": [
      "Evaluating: 100%|██████████| 9981/9981 [00:01<00:00, 7889.75it/s] \n"
     ]
    },
    {
     "name": "stdout",
     "output_type": "stream",
     "text": [
      "Train: 0.9000| Val: 0.6720| Test: 0.6730| Eval Time: 1.2752s\n",
      "Epoch 13| Loss: 0.9850| Acc: 0.8833| Train Time: 0.2133s\n"
     ]
    },
    {
     "name": "stderr",
     "output_type": "stream",
     "text": [
      "Evaluating: 100%|██████████| 9981/9981 [00:01<00:00, 8308.13it/s] \n"
     ]
    },
    {
     "name": "stdout",
     "output_type": "stream",
     "text": [
      "Train: 0.9000| Val: 0.6660| Test: 0.6670| Eval Time: 1.2076s\n",
      "Epoch 14| Loss: 1.6350| Acc: 0.9000| Train Time: 0.2900s\n"
     ]
    },
    {
     "name": "stderr",
     "output_type": "stream",
     "text": [
      "Evaluating: 100%|██████████| 9981/9981 [00:01<00:00, 7710.92it/s] \n"
     ]
    },
    {
     "name": "stdout",
     "output_type": "stream",
     "text": [
      "Train: 0.9000| Val: 0.6660| Test: 0.6620| Eval Time: 1.3016s\n",
      "Epoch 15| Loss: 0.4976| Acc: 0.9167| Train Time: 0.2207s\n"
     ]
    },
    {
     "name": "stderr",
     "output_type": "stream",
     "text": [
      "Evaluating: 100%|██████████| 9981/9981 [00:01<00:00, 7282.44it/s] \n"
     ]
    },
    {
     "name": "stdout",
     "output_type": "stream",
     "text": [
      "Train: 0.9083| Val: 0.6580| Test: 0.6590| Eval Time: 1.3762s\n",
      "Epoch 16| Loss: 1.5184| Acc: 0.8917| Train Time: 0.2167s\n"
     ]
    },
    {
     "name": "stderr",
     "output_type": "stream",
     "text": [
      "Evaluating: 100%|██████████| 9981/9981 [00:01<00:00, 8481.63it/s] \n"
     ]
    },
    {
     "name": "stdout",
     "output_type": "stream",
     "text": [
      "Train: 0.9083| Val: 0.6580| Test: 0.6600| Eval Time: 1.1831s\n",
      "Epoch 17| Loss: 0.8629| Acc: 0.8833| Train Time: 0.2163s\n"
     ]
    },
    {
     "name": "stderr",
     "output_type": "stream",
     "text": [
      "Evaluating: 100%|██████████| 9981/9981 [00:01<00:00, 7374.15it/s] \n"
     ]
    },
    {
     "name": "stdout",
     "output_type": "stream",
     "text": [
      "Train: 0.9167| Val: 0.6560| Test: 0.6570| Eval Time: 1.3606s\n",
      "Epoch 18| Loss: 0.4440| Acc: 0.9333| Train Time: 0.2056s\n"
     ]
    },
    {
     "name": "stderr",
     "output_type": "stream",
     "text": [
      "Evaluating: 100%|██████████| 9981/9981 [00:01<00:00, 7758.54it/s] \n"
     ]
    },
    {
     "name": "stdout",
     "output_type": "stream",
     "text": [
      "Train: 0.9167| Val: 0.6520| Test: 0.6580| Eval Time: 1.2984s\n",
      "Epoch 19| Loss: 1.0530| Acc: 0.9000| Train Time: 0.2202s\n"
     ]
    },
    {
     "name": "stderr",
     "output_type": "stream",
     "text": [
      "Evaluating: 100%|██████████| 9981/9981 [00:01<00:00, 7198.77it/s] \n"
     ]
    },
    {
     "name": "stdout",
     "output_type": "stream",
     "text": [
      "Train: 0.9167| Val: 0.6600| Test: 0.6580| Eval Time: 1.3924s\n",
      "Epoch 20| Loss: 0.3160| Acc: 0.9417| Train Time: 0.2077s\n"
     ]
    },
    {
     "name": "stderr",
     "output_type": "stream",
     "text": [
      "Evaluating: 100%|██████████| 9981/9981 [00:01<00:00, 8402.58it/s] \n"
     ]
    },
    {
     "name": "stdout",
     "output_type": "stream",
     "text": [
      "Train: 0.9083| Val: 0.6660| Test: 0.6530| Eval Time: 1.1935s\n",
      "Epoch 21| Loss: 0.2713| Acc: 0.9500| Train Time: 0.2114s\n"
     ]
    },
    {
     "name": "stderr",
     "output_type": "stream",
     "text": [
      "Evaluating: 100%|██████████| 9981/9981 [00:01<00:00, 7854.58it/s] \n"
     ]
    },
    {
     "name": "stdout",
     "output_type": "stream",
     "text": [
      "Train: 0.9167| Val: 0.6700| Test: 0.6610| Eval Time: 1.2759s\n",
      "Epoch 22| Loss: 0.6998| Acc: 0.9083| Train Time: 0.1993s\n"
     ]
    },
    {
     "name": "stderr",
     "output_type": "stream",
     "text": [
      "Evaluating: 100%|██████████| 9981/9981 [00:01<00:00, 8926.28it/s] \n"
     ]
    },
    {
     "name": "stdout",
     "output_type": "stream",
     "text": [
      "Train: 0.9333| Val: 0.6600| Test: 0.6510| Eval Time: 1.1896s\n",
      "Epoch 23| Loss: 0.4631| Acc: 0.9333| Train Time: 0.1972s\n"
     ]
    },
    {
     "name": "stderr",
     "output_type": "stream",
     "text": [
      "Evaluating: 100%|██████████| 9981/9981 [00:01<00:00, 8157.35it/s] \n"
     ]
    },
    {
     "name": "stdout",
     "output_type": "stream",
     "text": [
      "Train: 0.9333| Val: 0.6620| Test: 0.6540| Eval Time: 1.2309s\n",
      "Epoch 24| Loss: 0.4214| Acc: 0.9417| Train Time: 0.2853s\n"
     ]
    },
    {
     "name": "stderr",
     "output_type": "stream",
     "text": [
      "Evaluating: 100%|██████████| 9981/9981 [00:01<00:00, 7668.41it/s] \n"
     ]
    },
    {
     "name": "stdout",
     "output_type": "stream",
     "text": [
      "Train: 0.9250| Val: 0.6640| Test: 0.6590| Eval Time: 1.3094s\n",
      "Epoch 25| Loss: 0.1357| Acc: 0.9417| Train Time: 0.2690s\n"
     ]
    },
    {
     "name": "stderr",
     "output_type": "stream",
     "text": [
      "Evaluating: 100%|██████████| 9981/9981 [00:01<00:00, 9713.55it/s] \n"
     ]
    },
    {
     "name": "stdout",
     "output_type": "stream",
     "text": [
      "Train: 0.9333| Val: 0.6740| Test: 0.6600| Eval Time: 1.0341s\n",
      "Epoch 26| Loss: 0.8132| Acc: 0.9333| Train Time: 0.2032s\n"
     ]
    },
    {
     "name": "stderr",
     "output_type": "stream",
     "text": [
      "Evaluating: 100%|██████████| 9981/9981 [00:01<00:00, 7205.46it/s] \n"
     ]
    },
    {
     "name": "stdout",
     "output_type": "stream",
     "text": [
      "Train: 0.9250| Val: 0.6740| Test: 0.6690| Eval Time: 1.3916s\n",
      "Epoch 27| Loss: 0.1024| Acc: 0.9833| Train Time: 0.2177s\n"
     ]
    },
    {
     "name": "stderr",
     "output_type": "stream",
     "text": [
      "Evaluating: 100%|██████████| 9981/9981 [00:01<00:00, 7777.17it/s] \n"
     ]
    },
    {
     "name": "stdout",
     "output_type": "stream",
     "text": [
      "Train: 0.9250| Val: 0.6760| Test: 0.6740| Eval Time: 1.2882s\n",
      "Epoch 28| Loss: 1.0177| Acc: 0.9667| Train Time: 0.2736s\n"
     ]
    },
    {
     "name": "stderr",
     "output_type": "stream",
     "text": [
      "Evaluating: 100%|██████████| 9981/9981 [00:01<00:00, 8159.08it/s] \n"
     ]
    },
    {
     "name": "stdout",
     "output_type": "stream",
     "text": [
      "Train: 0.9250| Val: 0.6780| Test: 0.6790| Eval Time: 1.2973s\n",
      "Epoch 29| Loss: 0.4682| Acc: 0.9333| Train Time: 0.2157s\n"
     ]
    },
    {
     "name": "stderr",
     "output_type": "stream",
     "text": [
      "Evaluating: 100%|██████████| 9981/9981 [00:01<00:00, 8221.41it/s] \n"
     ]
    },
    {
     "name": "stdout",
     "output_type": "stream",
     "text": [
      "Train: 0.9083| Val: 0.6680| Test: 0.6710| Eval Time: 1.2838s\n",
      "Epoch 30| Loss: 0.2771| Acc: 0.9417| Train Time: 0.2117s\n"
     ]
    },
    {
     "name": "stderr",
     "output_type": "stream",
     "text": [
      "Evaluating: 100%|██████████| 9981/9981 [00:01<00:00, 9289.11it/s] \n"
     ]
    },
    {
     "name": "stdout",
     "output_type": "stream",
     "text": [
      "Train: 0.9083| Val: 0.6640| Test: 0.6570| Eval Time: 1.0867s\n",
      "Epoch 31| Loss: 0.3322| Acc: 0.9583| Train Time: 0.2133s\n"
     ]
    },
    {
     "name": "stderr",
     "output_type": "stream",
     "text": [
      "Evaluating: 100%|██████████| 9981/9981 [00:01<00:00, 7693.71it/s] \n"
     ]
    },
    {
     "name": "stdout",
     "output_type": "stream",
     "text": [
      "Train: 0.9250| Val: 0.6640| Test: 0.6510| Eval Time: 1.3040s\n",
      "Epoch 32| Loss: 0.4880| Acc: 0.9583| Train Time: 0.2058s\n"
     ]
    },
    {
     "name": "stderr",
     "output_type": "stream",
     "text": [
      "Evaluating: 100%|██████████| 9981/9981 [00:01<00:00, 8294.19it/s] \n"
     ]
    },
    {
     "name": "stdout",
     "output_type": "stream",
     "text": [
      "Train: 0.9333| Val: 0.6540| Test: 0.6460| Eval Time: 1.2750s\n",
      "Epoch 33| Loss: 0.4413| Acc: 0.9583| Train Time: 0.2198s\n"
     ]
    },
    {
     "name": "stderr",
     "output_type": "stream",
     "text": [
      "Evaluating: 100%|██████████| 9981/9981 [00:01<00:00, 7669.36it/s] \n"
     ]
    },
    {
     "name": "stdout",
     "output_type": "stream",
     "text": [
      "Train: 0.9333| Val: 0.6500| Test: 0.6490| Eval Time: 1.3081s\n",
      "Epoch 34| Loss: 0.4063| Acc: 0.9667| Train Time: 0.2784s\n"
     ]
    },
    {
     "name": "stderr",
     "output_type": "stream",
     "text": [
      "Evaluating: 100%|██████████| 9981/9981 [00:01<00:00, 7633.14it/s] \n"
     ]
    },
    {
     "name": "stdout",
     "output_type": "stream",
     "text": [
      "Train: 0.9333| Val: 0.6540| Test: 0.6490| Eval Time: 1.3157s\n",
      "\n",
      "Result of  6. run| Train: 0.8667| Val: 0.7080| Test: 0.6840\n",
      "\n",
      "Run 07 for GatV1_K6_D3_s and CiteSeer:\n"
     ]
    },
    {
     "name": "stderr",
     "output_type": "stream",
     "text": [
      "Epoch 01: 100%|██████████| 120/120 [00:00<00:00, 546.93it/s]\n"
     ]
    },
    {
     "name": "stdout",
     "output_type": "stream",
     "text": [
      "Epoch 01| Loss: 2.5415| Acc: 0.1417| Train Time: 0.2276s\n"
     ]
    },
    {
     "name": "stderr",
     "output_type": "stream",
     "text": [
      "Evaluating: 100%|██████████| 9981/9981 [00:01<00:00, 8973.65it/s] \n"
     ]
    },
    {
     "name": "stdout",
     "output_type": "stream",
     "text": [
      "Train: 0.7167| Val: 0.5820| Test: 0.5900| Eval Time: 1.1762s\n",
      "Epoch 02| Loss: 1.7768| Acc: 0.6000| Train Time: 0.2201s\n"
     ]
    },
    {
     "name": "stderr",
     "output_type": "stream",
     "text": [
      "Evaluating: 100%|██████████| 9981/9981 [00:01<00:00, 9176.02it/s] \n"
     ]
    },
    {
     "name": "stdout",
     "output_type": "stream",
     "text": [
      "Train: 0.7500| Val: 0.6480| Test: 0.6530| Eval Time: 1.0958s\n",
      "Epoch 03| Loss: 1.8506| Acc: 0.6417| Train Time: 0.2093s\n"
     ]
    },
    {
     "name": "stderr",
     "output_type": "stream",
     "text": [
      "Evaluating: 100%|██████████| 9981/9981 [00:01<00:00, 8496.81it/s] \n"
     ]
    },
    {
     "name": "stdout",
     "output_type": "stream",
     "text": [
      "Train: 0.8250| Val: 0.6660| Test: 0.6500| Eval Time: 1.1863s\n",
      "Epoch 04| Loss: 1.5343| Acc: 0.6667| Train Time: 0.2169s\n"
     ]
    },
    {
     "name": "stderr",
     "output_type": "stream",
     "text": [
      "Evaluating: 100%|██████████| 9981/9981 [00:01<00:00, 9161.88it/s] \n"
     ]
    },
    {
     "name": "stdout",
     "output_type": "stream",
     "text": [
      "Train: 0.8583| Val: 0.6760| Test: 0.6620| Eval Time: 1.0953s\n",
      "Epoch 05| Loss: 1.5953| Acc: 0.7500| Train Time: 0.2087s\n"
     ]
    },
    {
     "name": "stderr",
     "output_type": "stream",
     "text": [
      "Evaluating: 100%|██████████| 9981/9981 [00:01<00:00, 7922.85it/s] \n"
     ]
    },
    {
     "name": "stdout",
     "output_type": "stream",
     "text": [
      "Train: 0.8833| Val: 0.6760| Test: 0.6460| Eval Time: 1.2669s\n",
      "Epoch 06| Loss: 1.6668| Acc: 0.7417| Train Time: 0.2103s\n"
     ]
    },
    {
     "name": "stderr",
     "output_type": "stream",
     "text": [
      "Evaluating: 100%|██████████| 9981/9981 [00:01<00:00, 8185.99it/s] \n"
     ]
    },
    {
     "name": "stdout",
     "output_type": "stream",
     "text": [
      "Train: 0.8833| Val: 0.6740| Test: 0.6370| Eval Time: 1.2861s\n",
      "Epoch 07| Loss: 1.2171| Acc: 0.7833| Train Time: 0.1383s\n"
     ]
    },
    {
     "name": "stderr",
     "output_type": "stream",
     "text": [
      "Evaluating: 100%|██████████| 9981/9981 [00:01<00:00, 7061.11it/s] \n"
     ]
    },
    {
     "name": "stdout",
     "output_type": "stream",
     "text": [
      "Train: 0.8750| Val: 0.6620| Test: 0.6410| Eval Time: 1.4260s\n",
      "Epoch 08| Loss: 0.8815| Acc: 0.8167| Train Time: 0.2208s\n"
     ]
    },
    {
     "name": "stderr",
     "output_type": "stream",
     "text": [
      "Evaluating: 100%|██████████| 9981/9981 [00:01<00:00, 7284.26it/s] \n"
     ]
    },
    {
     "name": "stdout",
     "output_type": "stream",
     "text": [
      "Train: 0.8667| Val: 0.6680| Test: 0.6460| Eval Time: 1.3762s\n",
      "Epoch 09| Loss: 1.6232| Acc: 0.7917| Train Time: 0.2218s\n"
     ]
    },
    {
     "name": "stderr",
     "output_type": "stream",
     "text": [
      "Evaluating: 100%|██████████| 9981/9981 [00:01<00:00, 7782.76it/s] \n"
     ]
    },
    {
     "name": "stdout",
     "output_type": "stream",
     "text": [
      "Train: 0.8917| Val: 0.6620| Test: 0.6590| Eval Time: 1.3522s\n",
      "Epoch 10| Loss: 1.1013| Acc: 0.8167| Train Time: 0.2181s\n"
     ]
    },
    {
     "name": "stderr",
     "output_type": "stream",
     "text": [
      "Evaluating: 100%|██████████| 9981/9981 [00:01<00:00, 7694.74it/s] \n"
     ]
    },
    {
     "name": "stdout",
     "output_type": "stream",
     "text": [
      "Train: 0.9000| Val: 0.6640| Test: 0.6590| Eval Time: 1.3049s\n",
      "Epoch 11| Loss: 1.2692| Acc: 0.8667| Train Time: 0.2181s\n"
     ]
    },
    {
     "name": "stderr",
     "output_type": "stream",
     "text": [
      "Evaluating: 100%|██████████| 9981/9981 [00:01<00:00, 7785.56it/s] \n"
     ]
    },
    {
     "name": "stdout",
     "output_type": "stream",
     "text": [
      "Train: 0.9083| Val: 0.6440| Test: 0.6520| Eval Time: 1.2882s\n",
      "Epoch 12| Loss: 1.4039| Acc: 0.8667| Train Time: 0.2016s\n"
     ]
    },
    {
     "name": "stderr",
     "output_type": "stream",
     "text": [
      "Evaluating: 100%|██████████| 9981/9981 [00:01<00:00, 7690.84it/s] \n"
     ]
    },
    {
     "name": "stdout",
     "output_type": "stream",
     "text": [
      "Train: 0.9167| Val: 0.6400| Test: 0.6470| Eval Time: 1.3032s\n",
      "Epoch 13| Loss: 1.7534| Acc: 0.8333| Train Time: 0.2212s\n"
     ]
    },
    {
     "name": "stderr",
     "output_type": "stream",
     "text": [
      "Evaluating: 100%|██████████| 9981/9981 [00:01<00:00, 8433.84it/s] \n"
     ]
    },
    {
     "name": "stdout",
     "output_type": "stream",
     "text": [
      "Train: 0.9250| Val: 0.6360| Test: 0.6390| Eval Time: 1.1909s\n",
      "Epoch 14| Loss: 1.1930| Acc: 0.8917| Train Time: 0.1867s\n"
     ]
    },
    {
     "name": "stderr",
     "output_type": "stream",
     "text": [
      "Evaluating: 100%|██████████| 9981/9981 [00:01<00:00, 8118.12it/s] \n"
     ]
    },
    {
     "name": "stdout",
     "output_type": "stream",
     "text": [
      "Train: 0.9417| Val: 0.6440| Test: 0.6450| Eval Time: 1.2352s\n",
      "Epoch 15| Loss: 0.3677| Acc: 0.9333| Train Time: 0.2725s\n"
     ]
    },
    {
     "name": "stderr",
     "output_type": "stream",
     "text": [
      "Evaluating: 100%|██████████| 9981/9981 [00:01<00:00, 8369.34it/s] \n"
     ]
    },
    {
     "name": "stdout",
     "output_type": "stream",
     "text": [
      "Train: 0.9333| Val: 0.6440| Test: 0.6450| Eval Time: 1.2094s\n",
      "Epoch 16| Loss: 1.0162| Acc: 0.8833| Train Time: 0.2124s\n"
     ]
    },
    {
     "name": "stderr",
     "output_type": "stream",
     "text": [
      "Evaluating: 100%|██████████| 9981/9981 [00:01<00:00, 7859.02it/s] \n"
     ]
    },
    {
     "name": "stdout",
     "output_type": "stream",
     "text": [
      "Train: 0.9417| Val: 0.6480| Test: 0.6420| Eval Time: 1.2800s\n",
      "Epoch 17| Loss: 1.3336| Acc: 0.9167| Train Time: 0.2224s\n"
     ]
    },
    {
     "name": "stderr",
     "output_type": "stream",
     "text": [
      "Evaluating: 100%|██████████| 9981/9981 [00:01<00:00, 7778.31it/s] \n"
     ]
    },
    {
     "name": "stdout",
     "output_type": "stream",
     "text": [
      "Train: 0.9417| Val: 0.6540| Test: 0.6420| Eval Time: 1.2917s\n",
      "Epoch 18| Loss: 0.9161| Acc: 0.9333| Train Time: 0.2138s\n"
     ]
    },
    {
     "name": "stderr",
     "output_type": "stream",
     "text": [
      "Evaluating: 100%|██████████| 9981/9981 [00:01<00:00, 7927.20it/s] \n"
     ]
    },
    {
     "name": "stdout",
     "output_type": "stream",
     "text": [
      "Train: 0.9333| Val: 0.6560| Test: 0.6440| Eval Time: 1.2700s\n",
      "Epoch 19| Loss: 1.1907| Acc: 0.9000| Train Time: 0.2162s\n"
     ]
    },
    {
     "name": "stderr",
     "output_type": "stream",
     "text": [
      "Evaluating: 100%|██████████| 9981/9981 [00:01<00:00, 7690.88it/s] \n"
     ]
    },
    {
     "name": "stdout",
     "output_type": "stream",
     "text": [
      "Train: 0.9417| Val: 0.6560| Test: 0.6470| Eval Time: 1.3036s\n",
      "Epoch 20| Loss: 1.1235| Acc: 0.9083| Train Time: 0.2731s\n"
     ]
    },
    {
     "name": "stderr",
     "output_type": "stream",
     "text": [
      "Evaluating: 100%|██████████| 9981/9981 [00:01<00:00, 8242.10it/s] \n"
     ]
    },
    {
     "name": "stdout",
     "output_type": "stream",
     "text": [
      "Train: 0.9500| Val: 0.6580| Test: 0.6540| Eval Time: 1.2172s\n",
      "Epoch 21| Loss: 1.0782| Acc: 0.9333| Train Time: 0.2113s\n"
     ]
    },
    {
     "name": "stderr",
     "output_type": "stream",
     "text": [
      "Evaluating: 100%|██████████| 9981/9981 [00:01<00:00, 7903.47it/s] \n"
     ]
    },
    {
     "name": "stdout",
     "output_type": "stream",
     "text": [
      "Train: 0.9500| Val: 0.6580| Test: 0.6620| Eval Time: 1.2678s\n",
      "Epoch 22| Loss: 0.8578| Acc: 0.9250| Train Time: 0.2142s\n"
     ]
    },
    {
     "name": "stderr",
     "output_type": "stream",
     "text": [
      "Evaluating: 100%|██████████| 9981/9981 [00:01<00:00, 7731.53it/s] \n"
     ]
    },
    {
     "name": "stdout",
     "output_type": "stream",
     "text": [
      "Train: 0.9500| Val: 0.6660| Test: 0.6600| Eval Time: 1.3013s\n",
      "Epoch 23| Loss: 0.5829| Acc: 0.9333| Train Time: 0.2207s\n"
     ]
    },
    {
     "name": "stderr",
     "output_type": "stream",
     "text": [
      "Evaluating: 100%|██████████| 9981/9981 [00:01<00:00, 7950.17it/s] \n"
     ]
    },
    {
     "name": "stdout",
     "output_type": "stream",
     "text": [
      "Train: 0.9417| Val: 0.6680| Test: 0.6630| Eval Time: 1.2677s\n",
      "Epoch 24| Loss: 0.4023| Acc: 0.9000| Train Time: 0.1888s\n"
     ]
    },
    {
     "name": "stderr",
     "output_type": "stream",
     "text": [
      "Evaluating: 100%|██████████| 9981/9981 [00:01<00:00, 8164.72it/s] \n"
     ]
    },
    {
     "name": "stdout",
     "output_type": "stream",
     "text": [
      "Train: 0.9500| Val: 0.6700| Test: 0.6680| Eval Time: 1.2320s\n",
      "Epoch 25| Loss: 0.8606| Acc: 0.9167| Train Time: 0.2834s\n"
     ]
    },
    {
     "name": "stderr",
     "output_type": "stream",
     "text": [
      "Evaluating: 100%|██████████| 9981/9981 [00:01<00:00, 7641.12it/s] \n"
     ]
    },
    {
     "name": "stdout",
     "output_type": "stream",
     "text": [
      "Train: 0.9500| Val: 0.6740| Test: 0.6670| Eval Time: 1.3136s\n",
      "Epoch 26| Loss: 0.7977| Acc: 0.9417| Train Time: 0.2254s\n"
     ]
    },
    {
     "name": "stderr",
     "output_type": "stream",
     "text": [
      "Evaluating: 100%|██████████| 9981/9981 [00:01<00:00, 8144.91it/s] \n"
     ]
    },
    {
     "name": "stdout",
     "output_type": "stream",
     "text": [
      "Train: 0.9417| Val: 0.6760| Test: 0.6730| Eval Time: 1.2725s\n",
      "Epoch 27| Loss: 1.7399| Acc: 0.8833| Train Time: 0.2141s\n"
     ]
    },
    {
     "name": "stderr",
     "output_type": "stream",
     "text": [
      "Evaluating: 100%|██████████| 9981/9981 [00:01<00:00, 8483.98it/s] \n"
     ]
    },
    {
     "name": "stdout",
     "output_type": "stream",
     "text": [
      "Train: 0.9250| Val: 0.6780| Test: 0.6650| Eval Time: 1.1830s\n",
      "Epoch 28| Loss: 0.5346| Acc: 0.9667| Train Time: 0.2173s\n"
     ]
    },
    {
     "name": "stderr",
     "output_type": "stream",
     "text": [
      "Evaluating: 100%|██████████| 9981/9981 [00:01<00:00, 8448.16it/s] \n"
     ]
    },
    {
     "name": "stdout",
     "output_type": "stream",
     "text": [
      "Train: 0.9333| Val: 0.6780| Test: 0.6630| Eval Time: 1.1880s\n",
      "Epoch 29| Loss: 2.0531| Acc: 0.9167| Train Time: 0.2784s\n"
     ]
    },
    {
     "name": "stderr",
     "output_type": "stream",
     "text": [
      "Evaluating: 100%|██████████| 9981/9981 [00:01<00:00, 8284.40it/s] \n"
     ]
    },
    {
     "name": "stdout",
     "output_type": "stream",
     "text": [
      "Train: 0.9333| Val: 0.6760| Test: 0.6730| Eval Time: 1.2139s\n",
      "Epoch 30| Loss: 0.1883| Acc: 0.9500| Train Time: 0.2129s\n"
     ]
    },
    {
     "name": "stderr",
     "output_type": "stream",
     "text": [
      "Evaluating: 100%|██████████| 9981/9981 [00:01<00:00, 7807.21it/s] \n"
     ]
    },
    {
     "name": "stdout",
     "output_type": "stream",
     "text": [
      "Train: 0.9250| Val: 0.6760| Test: 0.6750| Eval Time: 1.2851s\n",
      "Epoch 31| Loss: 0.6452| Acc: 0.9417| Train Time: 0.2179s\n"
     ]
    },
    {
     "name": "stderr",
     "output_type": "stream",
     "text": [
      "Evaluating: 100%|██████████| 9981/9981 [00:01<00:00, 7808.02it/s] \n"
     ]
    },
    {
     "name": "stdout",
     "output_type": "stream",
     "text": [
      "Train: 0.9250| Val: 0.6800| Test: 0.6750| Eval Time: 1.2843s\n",
      "Epoch 32| Loss: 0.2456| Acc: 0.9583| Train Time: 0.2199s\n"
     ]
    },
    {
     "name": "stderr",
     "output_type": "stream",
     "text": [
      "Evaluating: 100%|██████████| 9981/9981 [00:01<00:00, 7208.31it/s] \n"
     ]
    },
    {
     "name": "stdout",
     "output_type": "stream",
     "text": [
      "Train: 0.9250| Val: 0.6820| Test: 0.6790| Eval Time: 1.4553s\n",
      "Epoch 33| Loss: 0.0757| Acc: 0.9833| Train Time: 0.2094s\n"
     ]
    },
    {
     "name": "stderr",
     "output_type": "stream",
     "text": [
      "Evaluating: 100%|██████████| 9981/9981 [00:01<00:00, 8378.57it/s] \n"
     ]
    },
    {
     "name": "stdout",
     "output_type": "stream",
     "text": [
      "Train: 0.9167| Val: 0.6780| Test: 0.6790| Eval Time: 1.1974s\n",
      "Epoch 34| Loss: 0.1462| Acc: 0.9667| Train Time: 0.2027s\n"
     ]
    },
    {
     "name": "stderr",
     "output_type": "stream",
     "text": [
      "Evaluating: 100%|██████████| 9981/9981 [00:01<00:00, 7625.36it/s] \n"
     ]
    },
    {
     "name": "stdout",
     "output_type": "stream",
     "text": [
      "Train: 0.9250| Val: 0.6800| Test: 0.6790| Eval Time: 1.3153s\n",
      "Epoch 35| Loss: 0.9598| Acc: 0.9500| Train Time: 0.2187s\n"
     ]
    },
    {
     "name": "stderr",
     "output_type": "stream",
     "text": [
      "Evaluating: 100%|██████████| 9981/9981 [00:01<00:00, 7796.66it/s] \n"
     ]
    },
    {
     "name": "stdout",
     "output_type": "stream",
     "text": [
      "Train: 0.9333| Val: 0.6800| Test: 0.6740| Eval Time: 1.2928s\n",
      "Epoch 36| Loss: 0.5271| Acc: 0.9500| Train Time: 0.2171s\n"
     ]
    },
    {
     "name": "stderr",
     "output_type": "stream",
     "text": [
      "Evaluating: 100%|██████████| 9981/9981 [00:01<00:00, 9303.08it/s] \n"
     ]
    },
    {
     "name": "stdout",
     "output_type": "stream",
     "text": [
      "Train: 0.9417| Val: 0.6840| Test: 0.6800| Eval Time: 1.0836s\n",
      "Epoch 37| Loss: 0.1365| Acc: 0.9750| Train Time: 0.2080s\n"
     ]
    },
    {
     "name": "stderr",
     "output_type": "stream",
     "text": [
      "Evaluating: 100%|██████████| 9981/9981 [00:01<00:00, 9053.60it/s] \n"
     ]
    },
    {
     "name": "stdout",
     "output_type": "stream",
     "text": [
      "Train: 0.9417| Val: 0.6860| Test: 0.6760| Eval Time: 1.1083s\n",
      "Epoch 38| Loss: 0.5918| Acc: 0.9500| Train Time: 0.1895s\n"
     ]
    },
    {
     "name": "stderr",
     "output_type": "stream",
     "text": [
      "Evaluating: 100%|██████████| 9981/9981 [00:01<00:00, 8292.60it/s] \n"
     ]
    },
    {
     "name": "stdout",
     "output_type": "stream",
     "text": [
      "Train: 0.9417| Val: 0.6880| Test: 0.6740| Eval Time: 1.2101s\n",
      "Epoch 39| Loss: 0.3266| Acc: 0.9750| Train Time: 0.2726s\n"
     ]
    },
    {
     "name": "stderr",
     "output_type": "stream",
     "text": [
      "Evaluating: 100%|██████████| 9981/9981 [00:01<00:00, 8213.18it/s] \n"
     ]
    },
    {
     "name": "stdout",
     "output_type": "stream",
     "text": [
      "Train: 0.9333| Val: 0.6920| Test: 0.6750| Eval Time: 1.2242s\n",
      "Epoch 40| Loss: 0.3321| Acc: 0.9583| Train Time: 0.2240s\n"
     ]
    },
    {
     "name": "stderr",
     "output_type": "stream",
     "text": [
      "Evaluating: 100%|██████████| 9981/9981 [00:01<00:00, 8460.33it/s] \n"
     ]
    },
    {
     "name": "stdout",
     "output_type": "stream",
     "text": [
      "Train: 0.9417| Val: 0.6900| Test: 0.6700| Eval Time: 1.2461s\n",
      "Epoch 41| Loss: 1.1622| Acc: 0.9500| Train Time: 0.2219s\n"
     ]
    },
    {
     "name": "stderr",
     "output_type": "stream",
     "text": [
      "Evaluating: 100%|██████████| 9981/9981 [00:01<00:00, 8325.49it/s] \n"
     ]
    },
    {
     "name": "stdout",
     "output_type": "stream",
     "text": [
      "Train: 0.9417| Val: 0.6900| Test: 0.6680| Eval Time: 1.2057s\n",
      "Epoch 42| Loss: 0.3184| Acc: 0.9667| Train Time: 0.2122s\n"
     ]
    },
    {
     "name": "stderr",
     "output_type": "stream",
     "text": [
      "Evaluating: 100%|██████████| 9981/9981 [00:01<00:00, 7937.27it/s] \n"
     ]
    },
    {
     "name": "stdout",
     "output_type": "stream",
     "text": [
      "Train: 0.9333| Val: 0.6860| Test: 0.6690| Eval Time: 1.2630s\n",
      "Epoch 43| Loss: 0.1155| Acc: 0.9833| Train Time: 0.1311s\n"
     ]
    },
    {
     "name": "stderr",
     "output_type": "stream",
     "text": [
      "Evaluating: 100%|██████████| 9981/9981 [00:01<00:00, 8137.27it/s] \n"
     ]
    },
    {
     "name": "stdout",
     "output_type": "stream",
     "text": [
      "Train: 0.9333| Val: 0.6860| Test: 0.6670| Eval Time: 1.2930s\n",
      "Epoch 44| Loss: 0.1478| Acc: 0.9833| Train Time: 0.2929s\n"
     ]
    },
    {
     "name": "stderr",
     "output_type": "stream",
     "text": [
      "Evaluating: 100%|██████████| 9981/9981 [00:01<00:00, 8338.39it/s] \n"
     ]
    },
    {
     "name": "stdout",
     "output_type": "stream",
     "text": [
      "Train: 0.9417| Val: 0.6840| Test: 0.6650| Eval Time: 1.2057s\n",
      "Epoch 45| Loss: 0.2621| Acc: 0.9667| Train Time: 0.2206s\n"
     ]
    },
    {
     "name": "stderr",
     "output_type": "stream",
     "text": [
      "Evaluating: 100%|██████████| 9981/9981 [00:01<00:00, 7405.59it/s] \n"
     ]
    },
    {
     "name": "stdout",
     "output_type": "stream",
     "text": [
      "Train: 0.9417| Val: 0.6840| Test: 0.6630| Eval Time: 1.3594s\n",
      "Epoch 46| Loss: 0.6277| Acc: 0.9417| Train Time: 0.2040s\n"
     ]
    },
    {
     "name": "stderr",
     "output_type": "stream",
     "text": [
      "Evaluating: 100%|██████████| 9981/9981 [00:01<00:00, 8998.28it/s] \n"
     ]
    },
    {
     "name": "stdout",
     "output_type": "stream",
     "text": [
      "Train: 0.9417| Val: 0.6800| Test: 0.6610| Eval Time: 1.1153s\n",
      "Epoch 47| Loss: 0.0399| Acc: 0.9833| Train Time: 0.2850s\n"
     ]
    },
    {
     "name": "stderr",
     "output_type": "stream",
     "text": [
      "Evaluating: 100%|██████████| 9981/9981 [00:01<00:00, 8324.91it/s] \n"
     ]
    },
    {
     "name": "stdout",
     "output_type": "stream",
     "text": [
      "Train: 0.9333| Val: 0.6740| Test: 0.6600| Eval Time: 1.2074s\n",
      "Epoch 48| Loss: 0.3168| Acc: 0.9750| Train Time: 0.2040s\n"
     ]
    },
    {
     "name": "stderr",
     "output_type": "stream",
     "text": [
      "Evaluating: 100%|██████████| 9981/9981 [00:01<00:00, 8298.97it/s] \n"
     ]
    },
    {
     "name": "stdout",
     "output_type": "stream",
     "text": [
      "Train: 0.9333| Val: 0.6760| Test: 0.6610| Eval Time: 1.2784s\n",
      "Epoch 49| Loss: 0.6647| Acc: 0.9583| Train Time: 0.2074s\n"
     ]
    },
    {
     "name": "stderr",
     "output_type": "stream",
     "text": [
      "Evaluating: 100%|██████████| 9981/9981 [00:01<00:00, 9026.56it/s] \n"
     ]
    },
    {
     "name": "stdout",
     "output_type": "stream",
     "text": [
      "Train: 0.9417| Val: 0.6740| Test: 0.6670| Eval Time: 1.1125s\n",
      "Epoch 50| Loss: 0.7716| Acc: 0.9667| Train Time: 0.2155s\n"
     ]
    },
    {
     "name": "stderr",
     "output_type": "stream",
     "text": [
      "Evaluating: 100%|██████████| 9981/9981 [00:01<00:00, 7374.08it/s] \n"
     ]
    },
    {
     "name": "stdout",
     "output_type": "stream",
     "text": [
      "Train: 0.9333| Val: 0.6740| Test: 0.6690| Eval Time: 1.3644s\n",
      "Epoch 51| Loss: 0.0605| Acc: 0.9833| Train Time: 0.2109s\n"
     ]
    },
    {
     "name": "stderr",
     "output_type": "stream",
     "text": [
      "Evaluating: 100%|██████████| 9981/9981 [00:01<00:00, 7772.28it/s] \n"
     ]
    },
    {
     "name": "stdout",
     "output_type": "stream",
     "text": [
      "Train: 0.9250| Val: 0.6720| Test: 0.6700| Eval Time: 1.2938s\n",
      "Epoch 52| Loss: 1.0904| Acc: 0.9500| Train Time: 0.2170s\n"
     ]
    },
    {
     "name": "stderr",
     "output_type": "stream",
     "text": [
      "Evaluating: 100%|██████████| 9981/9981 [00:01<00:00, 7711.24it/s] \n"
     ]
    },
    {
     "name": "stdout",
     "output_type": "stream",
     "text": [
      "Train: 0.9250| Val: 0.6680| Test: 0.6690| Eval Time: 1.3003s\n",
      "Epoch 53| Loss: 0.4912| Acc: 0.9250| Train Time: 0.2667s\n"
     ]
    },
    {
     "name": "stderr",
     "output_type": "stream",
     "text": [
      "Evaluating: 100%|██████████| 9981/9981 [00:01<00:00, 9131.62it/s] \n"
     ]
    },
    {
     "name": "stdout",
     "output_type": "stream",
     "text": [
      "Train: 0.9333| Val: 0.6680| Test: 0.6710| Eval Time: 1.1060s\n",
      "Epoch 54| Loss: 0.2727| Acc: 0.9667| Train Time: 0.2086s\n"
     ]
    },
    {
     "name": "stderr",
     "output_type": "stream",
     "text": [
      "Evaluating: 100%|██████████| 9981/9981 [00:01<00:00, 8977.06it/s] \n"
     ]
    },
    {
     "name": "stdout",
     "output_type": "stream",
     "text": [
      "Train: 0.9333| Val: 0.6700| Test: 0.6650| Eval Time: 1.1819s\n",
      "Epoch 55| Loss: 0.0483| Acc: 0.9750| Train Time: 0.2129s\n"
     ]
    },
    {
     "name": "stderr",
     "output_type": "stream",
     "text": [
      "Evaluating: 100%|██████████| 9981/9981 [00:01<00:00, 7784.29it/s] \n"
     ]
    },
    {
     "name": "stdout",
     "output_type": "stream",
     "text": [
      "Train: 0.9500| Val: 0.6660| Test: 0.6640| Eval Time: 1.2890s\n",
      "Epoch 56| Loss: 0.0446| Acc: 0.9833| Train Time: 0.2142s\n"
     ]
    },
    {
     "name": "stderr",
     "output_type": "stream",
     "text": [
      "Evaluating: 100%|██████████| 9981/9981 [00:01<00:00, 8443.50it/s] \n"
     ]
    },
    {
     "name": "stdout",
     "output_type": "stream",
     "text": [
      "Train: 0.9417| Val: 0.6660| Test: 0.6670| Eval Time: 1.1904s\n",
      "Epoch 57| Loss: 0.3423| Acc: 0.9750| Train Time: 0.2119s\n"
     ]
    },
    {
     "name": "stderr",
     "output_type": "stream",
     "text": [
      "Evaluating: 100%|██████████| 9981/9981 [00:01<00:00, 8450.62it/s] \n"
     ]
    },
    {
     "name": "stdout",
     "output_type": "stream",
     "text": [
      "Train: 0.9417| Val: 0.6720| Test: 0.6710| Eval Time: 1.1910s\n",
      "Epoch 58| Loss: 0.1273| Acc: 0.9833| Train Time: 0.2149s\n"
     ]
    },
    {
     "name": "stderr",
     "output_type": "stream",
     "text": [
      "Evaluating: 100%|██████████| 9981/9981 [00:01<00:00, 8420.77it/s] \n"
     ]
    },
    {
     "name": "stdout",
     "output_type": "stream",
     "text": [
      "Train: 0.9500| Val: 0.6740| Test: 0.6720| Eval Time: 1.1935s\n",
      "Epoch 59| Loss: 0.8203| Acc: 0.9583| Train Time: 0.2203s\n"
     ]
    },
    {
     "name": "stderr",
     "output_type": "stream",
     "text": [
      "Evaluating: 100%|██████████| 9981/9981 [00:01<00:00, 9207.19it/s] \n"
     ]
    },
    {
     "name": "stdout",
     "output_type": "stream",
     "text": [
      "Train: 0.9250| Val: 0.6700| Test: 0.6690| Eval Time: 1.0896s\n",
      "Epoch 60| Loss: 1.0826| Acc: 0.9500| Train Time: 0.2826s\n"
     ]
    },
    {
     "name": "stderr",
     "output_type": "stream",
     "text": [
      "Evaluating: 100%|██████████| 9981/9981 [00:01<00:00, 8226.30it/s] \n"
     ]
    },
    {
     "name": "stdout",
     "output_type": "stream",
     "text": [
      "Train: 0.9250| Val: 0.6580| Test: 0.6700| Eval Time: 1.2200s\n",
      "Epoch 61| Loss: 0.1117| Acc: 0.9667| Train Time: 0.2789s\n"
     ]
    },
    {
     "name": "stderr",
     "output_type": "stream",
     "text": [
      "Evaluating: 100%|██████████| 9981/9981 [00:01<00:00, 7647.13it/s] \n"
     ]
    },
    {
     "name": "stdout",
     "output_type": "stream",
     "text": [
      "Train: 0.9167| Val: 0.6480| Test: 0.6690| Eval Time: 1.3132s\n",
      "Epoch 62| Loss: 0.1744| Acc: 0.9583| Train Time: 0.2106s\n"
     ]
    },
    {
     "name": "stderr",
     "output_type": "stream",
     "text": [
      "Evaluating: 100%|██████████| 9981/9981 [00:01<00:00, 7763.11it/s] \n"
     ]
    },
    {
     "name": "stdout",
     "output_type": "stream",
     "text": [
      "Train: 0.9083| Val: 0.6460| Test: 0.6650| Eval Time: 1.2933s\n",
      "Epoch 63| Loss: 0.0369| Acc: 0.9833| Train Time: 0.2826s\n"
     ]
    },
    {
     "name": "stderr",
     "output_type": "stream",
     "text": [
      "Evaluating: 100%|██████████| 9981/9981 [00:01<00:00, 8231.19it/s] \n"
     ]
    },
    {
     "name": "stdout",
     "output_type": "stream",
     "text": [
      "Train: 0.9083| Val: 0.6440| Test: 0.6590| Eval Time: 1.2198s\n",
      "Epoch 64| Loss: 0.0124| Acc: 0.9917| Train Time: 0.2628s\n"
     ]
    },
    {
     "name": "stderr",
     "output_type": "stream",
     "text": [
      "Evaluating: 100%|██████████| 9981/9981 [00:01<00:00, 8187.26it/s] \n"
     ]
    },
    {
     "name": "stdout",
     "output_type": "stream",
     "text": [
      "Train: 0.9000| Val: 0.6440| Test: 0.6590| Eval Time: 1.2277s\n",
      "Epoch 65| Loss: 0.2066| Acc: 0.9583| Train Time: 0.2258s\n"
     ]
    },
    {
     "name": "stderr",
     "output_type": "stream",
     "text": [
      "Evaluating: 100%|██████████| 9981/9981 [00:01<00:00, 7862.07it/s] \n"
     ]
    },
    {
     "name": "stdout",
     "output_type": "stream",
     "text": [
      "Train: 0.9000| Val: 0.6500| Test: 0.6560| Eval Time: 1.2760s\n",
      "Epoch 66| Loss: 0.2734| Acc: 0.9750| Train Time: 0.2677s\n"
     ]
    },
    {
     "name": "stderr",
     "output_type": "stream",
     "text": [
      "Evaluating: 100%|██████████| 9981/9981 [00:01<00:00, 8342.62it/s] \n"
     ]
    },
    {
     "name": "stdout",
     "output_type": "stream",
     "text": [
      "Train: 0.9000| Val: 0.6560| Test: 0.6530| Eval Time: 1.2091s\n",
      "Epoch 67| Loss: 0.0843| Acc: 0.9833| Train Time: 0.2257s\n"
     ]
    },
    {
     "name": "stderr",
     "output_type": "stream",
     "text": [
      "Evaluating: 100%|██████████| 9981/9981 [00:01<00:00, 7744.54it/s] \n"
     ]
    },
    {
     "name": "stdout",
     "output_type": "stream",
     "text": [
      "Train: 0.9000| Val: 0.6540| Test: 0.6500| Eval Time: 1.2950s\n",
      "Epoch 68| Loss: 0.1352| Acc: 0.9750| Train Time: 0.2868s\n"
     ]
    },
    {
     "name": "stderr",
     "output_type": "stream",
     "text": [
      "Evaluating: 100%|██████████| 9981/9981 [00:01<00:00, 8483.00it/s] \n"
     ]
    },
    {
     "name": "stdout",
     "output_type": "stream",
     "text": [
      "Train: 0.9000| Val: 0.6500| Test: 0.6500| Eval Time: 1.1883s\n",
      "Epoch 69| Loss: 0.5162| Acc: 0.9583| Train Time: 0.2079s\n"
     ]
    },
    {
     "name": "stderr",
     "output_type": "stream",
     "text": [
      "Evaluating: 100%|██████████| 9981/9981 [00:01<00:00, 8457.84it/s] \n"
     ]
    },
    {
     "name": "stdout",
     "output_type": "stream",
     "text": [
      "Train: 0.9083| Val: 0.6560| Test: 0.6540| Eval Time: 1.1927s\n",
      "\n",
      "Result of  7. run| Train: 0.9333| Val: 0.6920| Test: 0.6750\n",
      "\n",
      "Run 08 for GatV1_K6_D3_s and CiteSeer:\n"
     ]
    },
    {
     "name": "stderr",
     "output_type": "stream",
     "text": [
      "Epoch 01: 100%|██████████| 120/120 [00:00<00:00, 559.59it/s]\n"
     ]
    },
    {
     "name": "stdout",
     "output_type": "stream",
     "text": [
      "Epoch 01| Loss: 2.5970| Acc: 0.1417| Train Time: 0.2191s\n"
     ]
    },
    {
     "name": "stderr",
     "output_type": "stream",
     "text": [
      "Evaluating: 100%|██████████| 9981/9981 [00:01<00:00, 7778.26it/s] \n"
     ]
    },
    {
     "name": "stdout",
     "output_type": "stream",
     "text": [
      "Train: 0.7167| Val: 0.5480| Test: 0.5630| Eval Time: 1.2912s\n",
      "Epoch 02| Loss: 2.3454| Acc: 0.4833| Train Time: 0.2179s\n"
     ]
    },
    {
     "name": "stderr",
     "output_type": "stream",
     "text": [
      "Evaluating: 100%|██████████| 9981/9981 [00:01<00:00, 7818.50it/s] \n"
     ]
    },
    {
     "name": "stdout",
     "output_type": "stream",
     "text": [
      "Train: 0.8500| Val: 0.6500| Test: 0.6300| Eval Time: 1.2840s\n",
      "Epoch 03| Loss: 1.7024| Acc: 0.5750| Train Time: 0.2142s\n"
     ]
    },
    {
     "name": "stderr",
     "output_type": "stream",
     "text": [
      "Evaluating: 100%|██████████| 9981/9981 [00:01<00:00, 8366.55it/s] \n"
     ]
    },
    {
     "name": "stdout",
     "output_type": "stream",
     "text": [
      "Train: 0.8333| Val: 0.6860| Test: 0.6760| Eval Time: 1.1977s\n",
      "Epoch 04| Loss: 1.5799| Acc: 0.6917| Train Time: 0.2587s\n"
     ]
    },
    {
     "name": "stderr",
     "output_type": "stream",
     "text": [
      "Evaluating: 100%|██████████| 9981/9981 [00:01<00:00, 8226.64it/s] \n"
     ]
    },
    {
     "name": "stdout",
     "output_type": "stream",
     "text": [
      "Train: 0.8417| Val: 0.6940| Test: 0.6930| Eval Time: 1.2220s\n",
      "Epoch 05| Loss: 1.3520| Acc: 0.7333| Train Time: 0.2131s\n"
     ]
    },
    {
     "name": "stderr",
     "output_type": "stream",
     "text": [
      "Evaluating: 100%|██████████| 9981/9981 [00:01<00:00, 8432.76it/s] \n"
     ]
    },
    {
     "name": "stdout",
     "output_type": "stream",
     "text": [
      "Train: 0.8583| Val: 0.6800| Test: 0.6870| Eval Time: 1.1963s\n",
      "Epoch 06| Loss: 0.9808| Acc: 0.7917| Train Time: 0.2042s\n"
     ]
    },
    {
     "name": "stderr",
     "output_type": "stream",
     "text": [
      "Evaluating: 100%|██████████| 9981/9981 [00:01<00:00, 7786.51it/s] \n"
     ]
    },
    {
     "name": "stdout",
     "output_type": "stream",
     "text": [
      "Train: 0.8583| Val: 0.6720| Test: 0.6840| Eval Time: 1.2904s\n",
      "Epoch 07| Loss: 0.7147| Acc: 0.8500| Train Time: 0.2240s\n"
     ]
    },
    {
     "name": "stderr",
     "output_type": "stream",
     "text": [
      "Evaluating: 100%|██████████| 9981/9981 [00:01<00:00, 7303.20it/s] \n"
     ]
    },
    {
     "name": "stdout",
     "output_type": "stream",
     "text": [
      "Train: 0.8667| Val: 0.6620| Test: 0.6780| Eval Time: 1.3728s\n",
      "Epoch 08| Loss: 1.7635| Acc: 0.7833| Train Time: 0.2145s\n"
     ]
    },
    {
     "name": "stderr",
     "output_type": "stream",
     "text": [
      "Evaluating: 100%|██████████| 9981/9981 [00:01<00:00, 7844.72it/s] \n"
     ]
    },
    {
     "name": "stdout",
     "output_type": "stream",
     "text": [
      "Train: 0.8917| Val: 0.6580| Test: 0.6860| Eval Time: 1.2784s\n",
      "Epoch 09| Loss: 0.9231| Acc: 0.8167| Train Time: 0.2114s\n"
     ]
    },
    {
     "name": "stderr",
     "output_type": "stream",
     "text": [
      "Evaluating: 100%|██████████| 9981/9981 [00:01<00:00, 8358.03it/s] \n"
     ]
    },
    {
     "name": "stdout",
     "output_type": "stream",
     "text": [
      "Train: 0.9083| Val: 0.6600| Test: 0.6860| Eval Time: 1.2001s\n",
      "Epoch 10| Loss: 0.6863| Acc: 0.8917| Train Time: 0.2955s\n"
     ]
    },
    {
     "name": "stderr",
     "output_type": "stream",
     "text": [
      "Evaluating: 100%|██████████| 9981/9981 [00:01<00:00, 7643.84it/s] \n"
     ]
    },
    {
     "name": "stdout",
     "output_type": "stream",
     "text": [
      "Train: 0.9083| Val: 0.6560| Test: 0.6760| Eval Time: 1.3796s\n",
      "Epoch 11| Loss: 0.7729| Acc: 0.9250| Train Time: 0.2265s\n"
     ]
    },
    {
     "name": "stderr",
     "output_type": "stream",
     "text": [
      "Evaluating: 100%|██████████| 9981/9981 [00:01<00:00, 8347.99it/s] \n"
     ]
    },
    {
     "name": "stdout",
     "output_type": "stream",
     "text": [
      "Train: 0.9000| Val: 0.6600| Test: 0.6750| Eval Time: 1.2684s\n",
      "Epoch 12| Loss: 0.6650| Acc: 0.8917| Train Time: 0.2178s\n"
     ]
    },
    {
     "name": "stderr",
     "output_type": "stream",
     "text": [
      "Evaluating: 100%|██████████| 9981/9981 [00:01<00:00, 8341.69it/s] \n"
     ]
    },
    {
     "name": "stdout",
     "output_type": "stream",
     "text": [
      "Train: 0.8917| Val: 0.6700| Test: 0.6770| Eval Time: 1.2035s\n",
      "Epoch 13| Loss: 2.4747| Acc: 0.8667| Train Time: 0.2252s\n"
     ]
    },
    {
     "name": "stderr",
     "output_type": "stream",
     "text": [
      "Evaluating: 100%|██████████| 9981/9981 [00:01<00:00, 7813.57it/s] \n"
     ]
    },
    {
     "name": "stdout",
     "output_type": "stream",
     "text": [
      "Train: 0.8917| Val: 0.6660| Test: 0.6790| Eval Time: 1.2836s\n",
      "Epoch 14| Loss: 0.4886| Acc: 0.9333| Train Time: 0.2265s\n"
     ]
    },
    {
     "name": "stderr",
     "output_type": "stream",
     "text": [
      "Evaluating: 100%|██████████| 9981/9981 [00:01<00:00, 8336.94it/s] \n"
     ]
    },
    {
     "name": "stdout",
     "output_type": "stream",
     "text": [
      "Train: 0.8917| Val: 0.6580| Test: 0.6690| Eval Time: 1.2046s\n",
      "Epoch 15| Loss: 0.6756| Acc: 0.9167| Train Time: 0.2896s\n"
     ]
    },
    {
     "name": "stderr",
     "output_type": "stream",
     "text": [
      "Evaluating: 100%|██████████| 9981/9981 [00:01<00:00, 8237.36it/s] \n"
     ]
    },
    {
     "name": "stdout",
     "output_type": "stream",
     "text": [
      "Train: 0.9000| Val: 0.6540| Test: 0.6660| Eval Time: 1.2879s\n",
      "Epoch 16| Loss: 0.4206| Acc: 0.9333| Train Time: 0.2255s\n"
     ]
    },
    {
     "name": "stderr",
     "output_type": "stream",
     "text": [
      "Evaluating: 100%|██████████| 9981/9981 [00:01<00:00, 7720.04it/s] \n"
     ]
    },
    {
     "name": "stdout",
     "output_type": "stream",
     "text": [
      "Train: 0.9083| Val: 0.6540| Test: 0.6640| Eval Time: 1.2997s\n",
      "Epoch 17| Loss: 0.6311| Acc: 0.9250| Train Time: 0.2141s\n"
     ]
    },
    {
     "name": "stderr",
     "output_type": "stream",
     "text": [
      "Evaluating: 100%|██████████| 9981/9981 [00:01<00:00, 8228.68it/s] \n"
     ]
    },
    {
     "name": "stdout",
     "output_type": "stream",
     "text": [
      "Train: 0.9417| Val: 0.6580| Test: 0.6650| Eval Time: 1.2188s\n",
      "Epoch 18| Loss: 0.8667| Acc: 0.9333| Train Time: 0.2947s\n"
     ]
    },
    {
     "name": "stderr",
     "output_type": "stream",
     "text": [
      "Evaluating: 100%|██████████| 9981/9981 [00:01<00:00, 7838.56it/s] \n"
     ]
    },
    {
     "name": "stdout",
     "output_type": "stream",
     "text": [
      "Train: 0.9083| Val: 0.6520| Test: 0.6630| Eval Time: 1.2834s\n",
      "Epoch 19| Loss: 0.9142| Acc: 0.9500| Train Time: 0.2048s\n"
     ]
    },
    {
     "name": "stderr",
     "output_type": "stream",
     "text": [
      "Evaluating: 100%|██████████| 9981/9981 [00:01<00:00, 9009.59it/s] \n"
     ]
    },
    {
     "name": "stdout",
     "output_type": "stream",
     "text": [
      "Train: 0.9167| Val: 0.6480| Test: 0.6540| Eval Time: 1.1145s\n",
      "Epoch 20| Loss: 1.3106| Acc: 0.9000| Train Time: 0.2789s\n"
     ]
    },
    {
     "name": "stderr",
     "output_type": "stream",
     "text": [
      "Evaluating: 100%|██████████| 9981/9981 [00:01<00:00, 7614.16it/s] \n"
     ]
    },
    {
     "name": "stdout",
     "output_type": "stream",
     "text": [
      "Train: 0.9250| Val: 0.6340| Test: 0.6420| Eval Time: 1.3178s\n",
      "Epoch 21| Loss: 0.7756| Acc: 0.9417| Train Time: 0.2209s\n"
     ]
    },
    {
     "name": "stderr",
     "output_type": "stream",
     "text": [
      "Evaluating: 100%|██████████| 9981/9981 [00:01<00:00, 7792.15it/s] \n"
     ]
    },
    {
     "name": "stdout",
     "output_type": "stream",
     "text": [
      "Train: 0.8833| Val: 0.6240| Test: 0.6380| Eval Time: 1.2863s\n",
      "Epoch 22| Loss: 0.4808| Acc: 0.9500| Train Time: 0.2917s\n"
     ]
    },
    {
     "name": "stderr",
     "output_type": "stream",
     "text": [
      "Evaluating: 100%|██████████| 9981/9981 [00:01<00:00, 8356.49it/s] \n"
     ]
    },
    {
     "name": "stdout",
     "output_type": "stream",
     "text": [
      "Train: 0.8833| Val: 0.6200| Test: 0.6380| Eval Time: 1.2035s\n",
      "Epoch 23| Loss: 1.0525| Acc: 0.9333| Train Time: 0.2188s\n"
     ]
    },
    {
     "name": "stderr",
     "output_type": "stream",
     "text": [
      "Evaluating: 100%|██████████| 9981/9981 [00:01<00:00, 7093.16it/s] \n"
     ]
    },
    {
     "name": "stdout",
     "output_type": "stream",
     "text": [
      "Train: 0.8750| Val: 0.6140| Test: 0.6300| Eval Time: 1.4151s\n",
      "Epoch 24| Loss: 0.1010| Acc: 0.9583| Train Time: 0.2249s\n"
     ]
    },
    {
     "name": "stderr",
     "output_type": "stream",
     "text": [
      "Evaluating: 100%|██████████| 9981/9981 [00:01<00:00, 7669.11it/s] \n"
     ]
    },
    {
     "name": "stdout",
     "output_type": "stream",
     "text": [
      "Train: 0.8833| Val: 0.6040| Test: 0.6300| Eval Time: 1.3082s\n",
      "Epoch 25| Loss: 0.6615| Acc: 0.9500| Train Time: 0.2079s\n"
     ]
    },
    {
     "name": "stderr",
     "output_type": "stream",
     "text": [
      "Evaluating: 100%|██████████| 9981/9981 [00:01<00:00, 8263.39it/s] \n"
     ]
    },
    {
     "name": "stdout",
     "output_type": "stream",
     "text": [
      "Train: 0.8917| Val: 0.6080| Test: 0.6350| Eval Time: 1.2766s\n",
      "Epoch 26| Loss: 0.6063| Acc: 0.9417| Train Time: 0.2203s\n"
     ]
    },
    {
     "name": "stderr",
     "output_type": "stream",
     "text": [
      "Evaluating: 100%|██████████| 9981/9981 [00:01<00:00, 7754.75it/s] \n"
     ]
    },
    {
     "name": "stdout",
     "output_type": "stream",
     "text": [
      "Train: 0.8917| Val: 0.6200| Test: 0.6370| Eval Time: 1.2939s\n",
      "Epoch 27| Loss: 0.4588| Acc: 0.9250| Train Time: 0.2825s\n"
     ]
    },
    {
     "name": "stderr",
     "output_type": "stream",
     "text": [
      "Evaluating: 100%|██████████| 9981/9981 [00:01<00:00, 8279.91it/s] \n"
     ]
    },
    {
     "name": "stdout",
     "output_type": "stream",
     "text": [
      "Train: 0.9167| Val: 0.6360| Test: 0.6520| Eval Time: 1.2135s\n",
      "Epoch 28| Loss: 0.0730| Acc: 0.9833| Train Time: 0.2145s\n"
     ]
    },
    {
     "name": "stderr",
     "output_type": "stream",
     "text": [
      "Evaluating: 100%|██████████| 9981/9981 [00:01<00:00, 7813.05it/s] \n"
     ]
    },
    {
     "name": "stdout",
     "output_type": "stream",
     "text": [
      "Train: 0.9333| Val: 0.6580| Test: 0.6590| Eval Time: 1.2826s\n",
      "Epoch 29| Loss: 1.0191| Acc: 0.9417| Train Time: 0.2215s\n"
     ]
    },
    {
     "name": "stderr",
     "output_type": "stream",
     "text": [
      "Evaluating: 100%|██████████| 9981/9981 [00:01<00:00, 7855.23it/s] \n"
     ]
    },
    {
     "name": "stdout",
     "output_type": "stream",
     "text": [
      "Train: 0.9333| Val: 0.6580| Test: 0.6580| Eval Time: 1.2768s\n",
      "Epoch 30| Loss: 0.4492| Acc: 0.9500| Train Time: 0.2074s\n"
     ]
    },
    {
     "name": "stderr",
     "output_type": "stream",
     "text": [
      "Evaluating: 100%|██████████| 9981/9981 [00:01<00:00, 9108.06it/s] \n"
     ]
    },
    {
     "name": "stdout",
     "output_type": "stream",
     "text": [
      "Train: 0.9083| Val: 0.6700| Test: 0.6670| Eval Time: 1.1666s\n",
      "Epoch 31| Loss: 0.3800| Acc: 0.9667| Train Time: 0.2148s\n"
     ]
    },
    {
     "name": "stderr",
     "output_type": "stream",
     "text": [
      "Evaluating: 100%|██████████| 9981/9981 [00:01<00:00, 8250.99it/s] \n"
     ]
    },
    {
     "name": "stdout",
     "output_type": "stream",
     "text": [
      "Train: 0.9167| Val: 0.6760| Test: 0.6690| Eval Time: 1.2173s\n",
      "Epoch 32| Loss: 0.9626| Acc: 0.9583| Train Time: 0.2620s\n"
     ]
    },
    {
     "name": "stderr",
     "output_type": "stream",
     "text": [
      "Evaluating: 100%|██████████| 9981/9981 [00:01<00:00, 8299.04it/s] \n"
     ]
    },
    {
     "name": "stdout",
     "output_type": "stream",
     "text": [
      "Train: 0.9250| Val: 0.6760| Test: 0.6700| Eval Time: 1.2103s\n",
      "Epoch 33| Loss: 0.4028| Acc: 0.9667| Train Time: 0.1888s\n"
     ]
    },
    {
     "name": "stderr",
     "output_type": "stream",
     "text": [
      "Evaluating: 100%|██████████| 9981/9981 [00:01<00:00, 8912.96it/s] \n"
     ]
    },
    {
     "name": "stdout",
     "output_type": "stream",
     "text": [
      "Train: 0.9250| Val: 0.6740| Test: 0.6690| Eval Time: 1.1268s\n",
      "Epoch 34| Loss: 0.1705| Acc: 0.9750| Train Time: 0.2238s\n"
     ]
    },
    {
     "name": "stderr",
     "output_type": "stream",
     "text": [
      "Evaluating: 100%|██████████| 9981/9981 [00:01<00:00, 8424.99it/s] \n"
     ]
    },
    {
     "name": "stdout",
     "output_type": "stream",
     "text": [
      "Train: 0.9250| Val: 0.6740| Test: 0.6670| Eval Time: 1.2499s\n",
      "\n",
      "Result of  8. run| Train: 0.8417| Val: 0.6940| Test: 0.6930\n",
      "\n",
      "Run 09 for GatV1_K6_D3_s and CiteSeer:\n"
     ]
    },
    {
     "name": "stderr",
     "output_type": "stream",
     "text": [
      "Epoch 01: 100%|██████████| 120/120 [00:00<00:00, 559.17it/s]\n"
     ]
    },
    {
     "name": "stdout",
     "output_type": "stream",
     "text": [
      "Epoch 01| Loss: 2.7635| Acc: 0.1750| Train Time: 0.2179s\n"
     ]
    },
    {
     "name": "stderr",
     "output_type": "stream",
     "text": [
      "Evaluating: 100%|██████████| 9981/9981 [00:01<00:00, 9830.09it/s] \n"
     ]
    },
    {
     "name": "stdout",
     "output_type": "stream",
     "text": [
      "Train: 0.6250| Val: 0.5620| Test: 0.5820| Eval Time: 1.0842s\n",
      "Epoch 02| Loss: 1.8200| Acc: 0.5833| Train Time: 0.2085s\n"
     ]
    },
    {
     "name": "stderr",
     "output_type": "stream",
     "text": [
      "Evaluating: 100%|██████████| 9981/9981 [00:01<00:00, 8956.06it/s] \n"
     ]
    },
    {
     "name": "stdout",
     "output_type": "stream",
     "text": [
      "Train: 0.7750| Val: 0.6740| Test: 0.6590| Eval Time: 1.1842s\n",
      "Epoch 03| Loss: 1.6249| Acc: 0.6833| Train Time: 0.1374s\n"
     ]
    },
    {
     "name": "stderr",
     "output_type": "stream",
     "text": [
      "Evaluating: 100%|██████████| 9981/9981 [00:01<00:00, 8112.11it/s] \n"
     ]
    },
    {
     "name": "stdout",
     "output_type": "stream",
     "text": [
      "Train: 0.8167| Val: 0.6940| Test: 0.6930| Eval Time: 1.3609s\n",
      "Epoch 04| Loss: 2.0662| Acc: 0.6750| Train Time: 0.2134s\n"
     ]
    },
    {
     "name": "stderr",
     "output_type": "stream",
     "text": [
      "Evaluating: 100%|██████████| 9981/9981 [00:01<00:00, 7785.79it/s] \n"
     ]
    },
    {
     "name": "stdout",
     "output_type": "stream",
     "text": [
      "Train: 0.8500| Val: 0.6800| Test: 0.6770| Eval Time: 1.2890s\n",
      "Epoch 05| Loss: 1.4501| Acc: 0.6917| Train Time: 0.2036s\n"
     ]
    },
    {
     "name": "stderr",
     "output_type": "stream",
     "text": [
      "Evaluating: 100%|██████████| 9981/9981 [00:01<00:00, 8218.40it/s] \n"
     ]
    },
    {
     "name": "stdout",
     "output_type": "stream",
     "text": [
      "Train: 0.8750| Val: 0.6980| Test: 0.6670| Eval Time: 1.2220s\n",
      "Epoch 06| Loss: 1.9000| Acc: 0.7333| Train Time: 0.2895s\n"
     ]
    },
    {
     "name": "stderr",
     "output_type": "stream",
     "text": [
      "Evaluating: 100%|██████████| 9981/9981 [00:01<00:00, 8219.53it/s] \n"
     ]
    },
    {
     "name": "stdout",
     "output_type": "stream",
     "text": [
      "Train: 0.8667| Val: 0.6820| Test: 0.6650| Eval Time: 1.2838s\n",
      "Epoch 07| Loss: 0.9729| Acc: 0.7500| Train Time: 0.2338s\n"
     ]
    },
    {
     "name": "stderr",
     "output_type": "stream",
     "text": [
      "Evaluating: 100%|██████████| 9981/9981 [00:01<00:00, 7913.20it/s] \n"
     ]
    },
    {
     "name": "stdout",
     "output_type": "stream",
     "text": [
      "Train: 0.8583| Val: 0.6300| Test: 0.6500| Eval Time: 1.2668s\n",
      "Epoch 08| Loss: 1.4868| Acc: 0.7833| Train Time: 0.1992s\n"
     ]
    },
    {
     "name": "stderr",
     "output_type": "stream",
     "text": [
      "Evaluating: 100%|██████████| 9981/9981 [00:01<00:00, 8135.28it/s] \n"
     ]
    },
    {
     "name": "stdout",
     "output_type": "stream",
     "text": [
      "Train: 0.8667| Val: 0.6100| Test: 0.6220| Eval Time: 1.3021s\n",
      "Epoch 09| Loss: 0.8900| Acc: 0.8250| Train Time: 0.2106s\n"
     ]
    },
    {
     "name": "stderr",
     "output_type": "stream",
     "text": [
      "Evaluating: 100%|██████████| 9981/9981 [00:01<00:00, 9952.09it/s] \n"
     ]
    },
    {
     "name": "stdout",
     "output_type": "stream",
     "text": [
      "Train: 0.8750| Val: 0.6140| Test: 0.6210| Eval Time: 1.0094s\n",
      "Epoch 10| Loss: 2.3605| Acc: 0.8083| Train Time: 0.1938s\n"
     ]
    },
    {
     "name": "stderr",
     "output_type": "stream",
     "text": [
      "Evaluating: 100%|██████████| 9981/9981 [00:01<00:00, 8290.34it/s] \n"
     ]
    },
    {
     "name": "stdout",
     "output_type": "stream",
     "text": [
      "Train: 0.8750| Val: 0.6100| Test: 0.6310| Eval Time: 1.2092s\n",
      "Epoch 11| Loss: 1.5321| Acc: 0.8333| Train Time: 0.2657s\n"
     ]
    },
    {
     "name": "stderr",
     "output_type": "stream",
     "text": [
      "Evaluating: 100%|██████████| 9981/9981 [00:01<00:00, 8089.78it/s] \n"
     ]
    },
    {
     "name": "stdout",
     "output_type": "stream",
     "text": [
      "Train: 0.8917| Val: 0.6240| Test: 0.6370| Eval Time: 1.3089s\n",
      "Epoch 12| Loss: 0.4823| Acc: 0.9000| Train Time: 0.2049s\n"
     ]
    },
    {
     "name": "stderr",
     "output_type": "stream",
     "text": [
      "Evaluating: 100%|██████████| 9981/9981 [00:01<00:00, 7726.19it/s] \n"
     ]
    },
    {
     "name": "stdout",
     "output_type": "stream",
     "text": [
      "Train: 0.8917| Val: 0.6460| Test: 0.6530| Eval Time: 1.3011s\n",
      "Epoch 13| Loss: 0.4353| Acc: 0.9250| Train Time: 0.2034s\n"
     ]
    },
    {
     "name": "stderr",
     "output_type": "stream",
     "text": [
      "Evaluating: 100%|██████████| 9981/9981 [00:01<00:00, 8486.24it/s] \n"
     ]
    },
    {
     "name": "stdout",
     "output_type": "stream",
     "text": [
      "Train: 0.8833| Val: 0.6660| Test: 0.6550| Eval Time: 1.1876s\n",
      "Epoch 14| Loss: 1.7609| Acc: 0.8583| Train Time: 0.2185s\n"
     ]
    },
    {
     "name": "stderr",
     "output_type": "stream",
     "text": [
      "Evaluating: 100%|██████████| 9981/9981 [00:01<00:00, 7718.15it/s] \n"
     ]
    },
    {
     "name": "stdout",
     "output_type": "stream",
     "text": [
      "Train: 0.8750| Val: 0.6700| Test: 0.6480| Eval Time: 1.2989s\n",
      "Epoch 15| Loss: 1.0937| Acc: 0.8667| Train Time: 0.2125s\n"
     ]
    },
    {
     "name": "stderr",
     "output_type": "stream",
     "text": [
      "Evaluating: 100%|██████████| 9981/9981 [00:01<00:00, 7180.87it/s] \n"
     ]
    },
    {
     "name": "stdout",
     "output_type": "stream",
     "text": [
      "Train: 0.8917| Val: 0.6640| Test: 0.6420| Eval Time: 1.3951s\n",
      "Epoch 16| Loss: 0.9155| Acc: 0.9167| Train Time: 0.2878s\n"
     ]
    },
    {
     "name": "stderr",
     "output_type": "stream",
     "text": [
      "Evaluating: 100%|██████████| 9981/9981 [00:01<00:00, 7686.38it/s] \n"
     ]
    },
    {
     "name": "stdout",
     "output_type": "stream",
     "text": [
      "Train: 0.8917| Val: 0.6520| Test: 0.6410| Eval Time: 1.3071s\n",
      "Epoch 17| Loss: 0.3684| Acc: 0.9167| Train Time: 0.2813s\n"
     ]
    },
    {
     "name": "stderr",
     "output_type": "stream",
     "text": [
      "Evaluating: 100%|██████████| 9981/9981 [00:01<00:00, 8270.13it/s] \n"
     ]
    },
    {
     "name": "stdout",
     "output_type": "stream",
     "text": [
      "Train: 0.9167| Val: 0.6620| Test: 0.6440| Eval Time: 1.2144s\n",
      "Epoch 18| Loss: 0.6541| Acc: 0.9583| Train Time: 0.2193s\n"
     ]
    },
    {
     "name": "stderr",
     "output_type": "stream",
     "text": [
      "Evaluating: 100%|██████████| 9981/9981 [00:01<00:00, 7390.43it/s] \n"
     ]
    },
    {
     "name": "stdout",
     "output_type": "stream",
     "text": [
      "Train: 0.9167| Val: 0.6620| Test: 0.6400| Eval Time: 1.3615s\n",
      "Epoch 19| Loss: 0.4730| Acc: 0.9167| Train Time: 0.2056s\n"
     ]
    },
    {
     "name": "stderr",
     "output_type": "stream",
     "text": [
      "Evaluating: 100%|██████████| 9981/9981 [00:01<00:00, 8972.63it/s] \n"
     ]
    },
    {
     "name": "stdout",
     "output_type": "stream",
     "text": [
      "Train: 0.9333| Val: 0.6520| Test: 0.6430| Eval Time: 1.1189s\n",
      "Epoch 20| Loss: 0.2081| Acc: 0.9750| Train Time: 0.2773s\n"
     ]
    },
    {
     "name": "stderr",
     "output_type": "stream",
     "text": [
      "Evaluating: 100%|██████████| 9981/9981 [00:01<00:00, 6298.23it/s] \n"
     ]
    },
    {
     "name": "stdout",
     "output_type": "stream",
     "text": [
      "Train: 0.9167| Val: 0.6420| Test: 0.6400| Eval Time: 1.5971s\n",
      "Epoch 21| Loss: 0.8661| Acc: 0.9667| Train Time: 0.2055s\n"
     ]
    },
    {
     "name": "stderr",
     "output_type": "stream",
     "text": [
      "Evaluating: 100%|██████████| 9981/9981 [00:01<00:00, 8216.70it/s] \n"
     ]
    },
    {
     "name": "stdout",
     "output_type": "stream",
     "text": [
      "Train: 0.9250| Val: 0.6420| Test: 0.6400| Eval Time: 1.2813s\n",
      "Epoch 22| Loss: 0.4869| Acc: 0.9167| Train Time: 0.2127s\n"
     ]
    },
    {
     "name": "stderr",
     "output_type": "stream",
     "text": [
      "Evaluating: 100%|██████████| 9981/9981 [00:01<00:00, 8418.18it/s] \n"
     ]
    },
    {
     "name": "stdout",
     "output_type": "stream",
     "text": [
      "Train: 0.9250| Val: 0.6300| Test: 0.6350| Eval Time: 1.1975s\n",
      "Epoch 23| Loss: 0.1891| Acc: 0.9583| Train Time: 0.2032s\n"
     ]
    },
    {
     "name": "stderr",
     "output_type": "stream",
     "text": [
      "Evaluating: 100%|██████████| 9981/9981 [00:01<00:00, 9005.83it/s] \n"
     ]
    },
    {
     "name": "stdout",
     "output_type": "stream",
     "text": [
      "Train: 0.9250| Val: 0.6220| Test: 0.6330| Eval Time: 1.1143s\n",
      "Epoch 24| Loss: 0.6209| Acc: 0.9750| Train Time: 0.2198s\n"
     ]
    },
    {
     "name": "stderr",
     "output_type": "stream",
     "text": [
      "Evaluating: 100%|██████████| 9981/9981 [00:01<00:00, 8453.09it/s] \n"
     ]
    },
    {
     "name": "stdout",
     "output_type": "stream",
     "text": [
      "Train: 0.9250| Val: 0.6240| Test: 0.6250| Eval Time: 1.2548s\n",
      "Epoch 25| Loss: 0.9261| Acc: 0.9167| Train Time: 0.2101s\n"
     ]
    },
    {
     "name": "stderr",
     "output_type": "stream",
     "text": [
      "Evaluating: 100%|██████████| 9981/9981 [00:01<00:00, 8289.36it/s] \n"
     ]
    },
    {
     "name": "stdout",
     "output_type": "stream",
     "text": [
      "Train: 0.9333| Val: 0.6220| Test: 0.6210| Eval Time: 1.2115s\n",
      "Epoch 26| Loss: 0.6189| Acc: 0.9417| Train Time: 0.2122s\n"
     ]
    },
    {
     "name": "stderr",
     "output_type": "stream",
     "text": [
      "Evaluating: 100%|██████████| 9981/9981 [00:01<00:00, 7706.97it/s] \n"
     ]
    },
    {
     "name": "stdout",
     "output_type": "stream",
     "text": [
      "Train: 0.9417| Val: 0.6200| Test: 0.6180| Eval Time: 1.3666s\n",
      "Epoch 27| Loss: 0.7494| Acc: 0.9333| Train Time: 0.2081s\n"
     ]
    },
    {
     "name": "stderr",
     "output_type": "stream",
     "text": [
      "Evaluating: 100%|██████████| 9981/9981 [00:01<00:00, 7684.66it/s] \n"
     ]
    },
    {
     "name": "stdout",
     "output_type": "stream",
     "text": [
      "Train: 0.9333| Val: 0.6180| Test: 0.6130| Eval Time: 1.3062s\n",
      "Epoch 28| Loss: 0.4845| Acc: 0.9250| Train Time: 0.2131s\n"
     ]
    },
    {
     "name": "stderr",
     "output_type": "stream",
     "text": [
      "Evaluating: 100%|██████████| 9981/9981 [00:01<00:00, 7747.25it/s] \n"
     ]
    },
    {
     "name": "stdout",
     "output_type": "stream",
     "text": [
      "Train: 0.9333| Val: 0.6160| Test: 0.6110| Eval Time: 1.2939s\n",
      "Epoch 29| Loss: 0.3134| Acc: 0.9417| Train Time: 0.2901s\n"
     ]
    },
    {
     "name": "stderr",
     "output_type": "stream",
     "text": [
      "Evaluating: 100%|██████████| 9981/9981 [00:01<00:00, 7657.86it/s] \n"
     ]
    },
    {
     "name": "stdout",
     "output_type": "stream",
     "text": [
      "Train: 0.9333| Val: 0.6180| Test: 0.6170| Eval Time: 1.3121s\n",
      "Epoch 30| Loss: 0.9998| Acc: 0.9167| Train Time: 0.2706s\n"
     ]
    },
    {
     "name": "stderr",
     "output_type": "stream",
     "text": [
      "Evaluating: 100%|██████████| 9981/9981 [00:01<00:00, 8841.32it/s] \n"
     ]
    },
    {
     "name": "stdout",
     "output_type": "stream",
     "text": [
      "Train: 0.9417| Val: 0.6240| Test: 0.6180| Eval Time: 1.2007s\n",
      "Epoch 31| Loss: 0.1971| Acc: 0.9583| Train Time: 0.2075s\n"
     ]
    },
    {
     "name": "stderr",
     "output_type": "stream",
     "text": [
      "Evaluating: 100%|██████████| 9981/9981 [00:01<00:00, 9238.43it/s] \n"
     ]
    },
    {
     "name": "stdout",
     "output_type": "stream",
     "text": [
      "Train: 0.9333| Val: 0.6260| Test: 0.6320| Eval Time: 1.0977s\n",
      "Epoch 32| Loss: 0.2119| Acc: 0.9583| Train Time: 0.2192s\n"
     ]
    },
    {
     "name": "stderr",
     "output_type": "stream",
     "text": [
      "Evaluating: 100%|██████████| 9981/9981 [00:01<00:00, 7791.84it/s] \n"
     ]
    },
    {
     "name": "stdout",
     "output_type": "stream",
     "text": [
      "Train: 0.9417| Val: 0.6420| Test: 0.6440| Eval Time: 1.2866s\n",
      "Epoch 33| Loss: 0.7961| Acc: 0.9500| Train Time: 0.2016s\n"
     ]
    },
    {
     "name": "stderr",
     "output_type": "stream",
     "text": [
      "Evaluating: 100%|██████████| 9981/9981 [00:01<00:00, 7753.83it/s] \n"
     ]
    },
    {
     "name": "stdout",
     "output_type": "stream",
     "text": [
      "Train: 0.9250| Val: 0.6540| Test: 0.6490| Eval Time: 1.2929s\n",
      "Epoch 34| Loss: 0.4818| Acc: 0.9333| Train Time: 0.1988s\n"
     ]
    },
    {
     "name": "stderr",
     "output_type": "stream",
     "text": [
      "Evaluating: 100%|██████████| 9981/9981 [00:01<00:00, 9095.32it/s] \n"
     ]
    },
    {
     "name": "stdout",
     "output_type": "stream",
     "text": [
      "Train: 0.9083| Val: 0.6500| Test: 0.6570| Eval Time: 1.1035s\n",
      "Epoch 35| Loss: 1.0661| Acc: 0.9250| Train Time: 0.2137s\n"
     ]
    },
    {
     "name": "stderr",
     "output_type": "stream",
     "text": [
      "Evaluating: 100%|██████████| 9981/9981 [00:01<00:00, 8577.21it/s] \n"
     ]
    },
    {
     "name": "stdout",
     "output_type": "stream",
     "text": [
      "Train: 0.9167| Val: 0.6600| Test: 0.6610| Eval Time: 1.1718s\n",
      "\n",
      "Result of  9. run| Train: 0.8750| Val: 0.6980| Test: 0.6670\n",
      "\n",
      "Run 10 for GatV1_K6_D3_s and CiteSeer:\n"
     ]
    },
    {
     "name": "stderr",
     "output_type": "stream",
     "text": [
      "Epoch 01: 100%|██████████| 120/120 [00:00<00:00, 565.77it/s]\n"
     ]
    },
    {
     "name": "stdout",
     "output_type": "stream",
     "text": [
      "Epoch 01| Loss: 2.5609| Acc: 0.1917| Train Time: 0.2167s\n"
     ]
    },
    {
     "name": "stderr",
     "output_type": "stream",
     "text": [
      "Evaluating: 100%|██████████| 9981/9981 [00:01<00:00, 7870.14it/s] \n"
     ]
    },
    {
     "name": "stdout",
     "output_type": "stream",
     "text": [
      "Train: 0.6500| Val: 0.4820| Test: 0.4590| Eval Time: 1.2800s\n",
      "Epoch 02| Loss: 2.6608| Acc: 0.5000| Train Time: 0.2110s\n"
     ]
    },
    {
     "name": "stderr",
     "output_type": "stream",
     "text": [
      "Evaluating: 100%|██████████| 9981/9981 [00:01<00:00, 8953.24it/s] \n"
     ]
    },
    {
     "name": "stdout",
     "output_type": "stream",
     "text": [
      "Train: 0.7750| Val: 0.6420| Test: 0.6140| Eval Time: 1.1862s\n",
      "Epoch 03| Loss: 1.6386| Acc: 0.6583| Train Time: 0.2164s\n"
     ]
    },
    {
     "name": "stderr",
     "output_type": "stream",
     "text": [
      "Evaluating: 100%|██████████| 9981/9981 [00:01<00:00, 7808.11it/s] \n"
     ]
    },
    {
     "name": "stdout",
     "output_type": "stream",
     "text": [
      "Train: 0.8250| Val: 0.6680| Test: 0.6670| Eval Time: 1.2901s\n",
      "Epoch 04| Loss: 1.5182| Acc: 0.6667| Train Time: 0.2056s\n"
     ]
    },
    {
     "name": "stderr",
     "output_type": "stream",
     "text": [
      "Evaluating: 100%|██████████| 9981/9981 [00:01<00:00, 8483.70it/s] \n"
     ]
    },
    {
     "name": "stdout",
     "output_type": "stream",
     "text": [
      "Train: 0.8583| Val: 0.6760| Test: 0.6760| Eval Time: 1.1942s\n",
      "Epoch 05| Loss: 0.8399| Acc: 0.8000| Train Time: 0.2243s\n"
     ]
    },
    {
     "name": "stderr",
     "output_type": "stream",
     "text": [
      "Evaluating: 100%|██████████| 9981/9981 [00:01<00:00, 8549.18it/s] \n"
     ]
    },
    {
     "name": "stdout",
     "output_type": "stream",
     "text": [
      "Train: 0.8917| Val: 0.6660| Test: 0.6580| Eval Time: 1.1770s\n",
      "Epoch 06| Loss: 1.4265| Acc: 0.7417| Train Time: 0.2021s\n"
     ]
    },
    {
     "name": "stderr",
     "output_type": "stream",
     "text": [
      "Evaluating: 100%|██████████| 9981/9981 [00:01<00:00, 8254.28it/s] \n"
     ]
    },
    {
     "name": "stdout",
     "output_type": "stream",
     "text": [
      "Train: 0.8667| Val: 0.6540| Test: 0.6530| Eval Time: 1.2151s\n",
      "Epoch 07| Loss: 1.5317| Acc: 0.7500| Train Time: 0.2624s\n"
     ]
    },
    {
     "name": "stderr",
     "output_type": "stream",
     "text": [
      "Evaluating: 100%|██████████| 9981/9981 [00:01<00:00, 9042.54it/s] \n"
     ]
    },
    {
     "name": "stdout",
     "output_type": "stream",
     "text": [
      "Train: 0.8417| Val: 0.6540| Test: 0.6430| Eval Time: 1.1140s\n",
      "Epoch 08| Loss: 1.5753| Acc: 0.8000| Train Time: 0.1959s\n"
     ]
    },
    {
     "name": "stderr",
     "output_type": "stream",
     "text": [
      "Evaluating: 100%|██████████| 9981/9981 [00:01<00:00, 9094.75it/s] \n"
     ]
    },
    {
     "name": "stdout",
     "output_type": "stream",
     "text": [
      "Train: 0.8500| Val: 0.6400| Test: 0.6490| Eval Time: 1.1045s\n",
      "Epoch 09| Loss: 0.9398| Acc: 0.7917| Train Time: 0.1974s\n"
     ]
    },
    {
     "name": "stderr",
     "output_type": "stream",
     "text": [
      "Evaluating: 100%|██████████| 9981/9981 [00:01<00:00, 9085.74it/s] \n"
     ]
    },
    {
     "name": "stdout",
     "output_type": "stream",
     "text": [
      "Train: 0.8500| Val: 0.6360| Test: 0.6520| Eval Time: 1.1082s\n",
      "Epoch 10| Loss: 0.9190| Acc: 0.8083| Train Time: 0.2096s\n"
     ]
    },
    {
     "name": "stderr",
     "output_type": "stream",
     "text": [
      "Evaluating: 100%|██████████| 9981/9981 [00:01<00:00, 7861.41it/s] \n"
     ]
    },
    {
     "name": "stdout",
     "output_type": "stream",
     "text": [
      "Train: 0.8583| Val: 0.6440| Test: 0.6580| Eval Time: 1.2802s\n",
      "Epoch 11| Loss: 0.9996| Acc: 0.9167| Train Time: 0.2221s\n"
     ]
    },
    {
     "name": "stderr",
     "output_type": "stream",
     "text": [
      "Evaluating: 100%|██████████| 9981/9981 [00:01<00:00, 7217.64it/s] \n"
     ]
    },
    {
     "name": "stdout",
     "output_type": "stream",
     "text": [
      "Train: 0.8750| Val: 0.6480| Test: 0.6560| Eval Time: 1.3890s\n",
      "Epoch 12| Loss: 0.9405| Acc: 0.9000| Train Time: 0.2183s\n"
     ]
    },
    {
     "name": "stderr",
     "output_type": "stream",
     "text": [
      "Evaluating: 100%|██████████| 9981/9981 [00:01<00:00, 7348.56it/s] \n"
     ]
    },
    {
     "name": "stdout",
     "output_type": "stream",
     "text": [
      "Train: 0.8833| Val: 0.6400| Test: 0.6570| Eval Time: 1.3682s\n",
      "Epoch 13| Loss: 0.9635| Acc: 0.8667| Train Time: 0.2103s\n"
     ]
    },
    {
     "name": "stderr",
     "output_type": "stream",
     "text": [
      "Evaluating: 100%|██████████| 9981/9981 [00:01<00:00, 7705.63it/s] \n"
     ]
    },
    {
     "name": "stdout",
     "output_type": "stream",
     "text": [
      "Train: 0.9000| Val: 0.6540| Test: 0.6640| Eval Time: 1.3020s\n",
      "Epoch 14| Loss: 0.9356| Acc: 0.9083| Train Time: 0.2165s\n"
     ]
    },
    {
     "name": "stderr",
     "output_type": "stream",
     "text": [
      "Evaluating: 100%|██████████| 9981/9981 [00:01<00:00, 7257.43it/s] \n"
     ]
    },
    {
     "name": "stdout",
     "output_type": "stream",
     "text": [
      "Train: 0.9167| Val: 0.6640| Test: 0.6740| Eval Time: 1.3824s\n",
      "Epoch 15| Loss: 0.7410| Acc: 0.9083| Train Time: 0.2187s\n"
     ]
    },
    {
     "name": "stderr",
     "output_type": "stream",
     "text": [
      "Evaluating: 100%|██████████| 9981/9981 [00:01<00:00, 8486.35it/s] \n"
     ]
    },
    {
     "name": "stdout",
     "output_type": "stream",
     "text": [
      "Train: 0.9333| Val: 0.6620| Test: 0.6820| Eval Time: 1.1814s\n",
      "Epoch 16| Loss: 0.9252| Acc: 0.8583| Train Time: 0.2004s\n"
     ]
    },
    {
     "name": "stderr",
     "output_type": "stream",
     "text": [
      "Evaluating: 100%|██████████| 9981/9981 [00:01<00:00, 9249.32it/s] \n"
     ]
    },
    {
     "name": "stdout",
     "output_type": "stream",
     "text": [
      "Train: 0.9250| Val: 0.6660| Test: 0.6740| Eval Time: 1.0874s\n",
      "Epoch 17| Loss: 0.4967| Acc: 0.9250| Train Time: 0.2136s\n"
     ]
    },
    {
     "name": "stderr",
     "output_type": "stream",
     "text": [
      "Evaluating: 100%|██████████| 9981/9981 [00:01<00:00, 7226.82it/s] \n"
     ]
    },
    {
     "name": "stdout",
     "output_type": "stream",
     "text": [
      "Train: 0.9250| Val: 0.6560| Test: 0.6600| Eval Time: 1.3888s\n",
      "Epoch 18| Loss: 0.5080| Acc: 0.9000| Train Time: 0.2088s\n"
     ]
    },
    {
     "name": "stderr",
     "output_type": "stream",
     "text": [
      "Evaluating: 100%|██████████| 9981/9981 [00:01<00:00, 7890.75it/s] \n"
     ]
    },
    {
     "name": "stdout",
     "output_type": "stream",
     "text": [
      "Train: 0.9333| Val: 0.6520| Test: 0.6530| Eval Time: 1.2765s\n",
      "Epoch 19| Loss: 0.7978| Acc: 0.9500| Train Time: 0.2132s\n"
     ]
    },
    {
     "name": "stderr",
     "output_type": "stream",
     "text": [
      "Evaluating: 100%|██████████| 9981/9981 [00:01<00:00, 8315.56it/s] \n"
     ]
    },
    {
     "name": "stdout",
     "output_type": "stream",
     "text": [
      "Train: 0.9333| Val: 0.6420| Test: 0.6460| Eval Time: 1.2057s\n",
      "Epoch 20| Loss: 0.1680| Acc: 0.9583| Train Time: 0.2065s\n"
     ]
    },
    {
     "name": "stderr",
     "output_type": "stream",
     "text": [
      "Evaluating: 100%|██████████| 9981/9981 [00:01<00:00, 7762.87it/s] \n"
     ]
    },
    {
     "name": "stdout",
     "output_type": "stream",
     "text": [
      "Train: 0.9333| Val: 0.6420| Test: 0.6520| Eval Time: 1.2924s\n",
      "Epoch 21| Loss: 0.6766| Acc: 0.9250| Train Time: 0.2199s\n"
     ]
    },
    {
     "name": "stderr",
     "output_type": "stream",
     "text": [
      "Evaluating: 100%|██████████| 9981/9981 [00:01<00:00, 7889.53it/s] \n"
     ]
    },
    {
     "name": "stdout",
     "output_type": "stream",
     "text": [
      "Train: 0.9250| Val: 0.6500| Test: 0.6550| Eval Time: 1.2742s\n",
      "Epoch 22| Loss: 0.4913| Acc: 0.9667| Train Time: 0.2166s\n"
     ]
    },
    {
     "name": "stderr",
     "output_type": "stream",
     "text": [
      "Evaluating: 100%|██████████| 9981/9981 [00:01<00:00, 7706.39it/s] \n"
     ]
    },
    {
     "name": "stdout",
     "output_type": "stream",
     "text": [
      "Train: 0.9167| Val: 0.6480| Test: 0.6600| Eval Time: 1.3678s\n",
      "Epoch 23| Loss: 0.2520| Acc: 0.9500| Train Time: 0.2095s\n"
     ]
    },
    {
     "name": "stderr",
     "output_type": "stream",
     "text": [
      "Evaluating: 100%|██████████| 9981/9981 [00:01<00:00, 8476.36it/s] \n"
     ]
    },
    {
     "name": "stdout",
     "output_type": "stream",
     "text": [
      "Train: 0.9083| Val: 0.6480| Test: 0.6580| Eval Time: 1.1887s\n",
      "Epoch 24| Loss: 0.2076| Acc: 0.9583| Train Time: 0.2114s\n"
     ]
    },
    {
     "name": "stderr",
     "output_type": "stream",
     "text": [
      "Evaluating: 100%|██████████| 9981/9981 [00:01<00:00, 7832.79it/s] \n"
     ]
    },
    {
     "name": "stdout",
     "output_type": "stream",
     "text": [
      "Train: 0.9000| Val: 0.6420| Test: 0.6500| Eval Time: 1.2865s\n",
      "Epoch 25| Loss: 0.4358| Acc: 0.9750| Train Time: 0.2093s\n"
     ]
    },
    {
     "name": "stderr",
     "output_type": "stream",
     "text": [
      "Evaluating: 100%|██████████| 9981/9981 [00:01<00:00, 8279.06it/s] \n"
     ]
    },
    {
     "name": "stdout",
     "output_type": "stream",
     "text": [
      "Train: 0.9083| Val: 0.6420| Test: 0.6430| Eval Time: 1.2122s\n",
      "Epoch 26| Loss: 0.4944| Acc: 0.9500| Train Time: 0.2853s\n"
     ]
    },
    {
     "name": "stderr",
     "output_type": "stream",
     "text": [
      "Evaluating: 100%|██████████| 9981/9981 [00:01<00:00, 8939.09it/s] \n"
     ]
    },
    {
     "name": "stdout",
     "output_type": "stream",
     "text": [
      "Train: 0.9083| Val: 0.6360| Test: 0.6400| Eval Time: 1.1906s\n",
      "Epoch 27| Loss: 0.5929| Acc: 0.9417| Train Time: 0.2123s\n"
     ]
    },
    {
     "name": "stderr",
     "output_type": "stream",
     "text": [
      "Evaluating: 100%|██████████| 9981/9981 [00:01<00:00, 7667.32it/s] \n"
     ]
    },
    {
     "name": "stdout",
     "output_type": "stream",
     "text": [
      "Train: 0.9000| Val: 0.6400| Test: 0.6410| Eval Time: 1.3085s\n",
      "Epoch 28| Loss: 0.2275| Acc: 0.9500| Train Time: 0.2855s\n"
     ]
    },
    {
     "name": "stderr",
     "output_type": "stream",
     "text": [
      "Evaluating: 100%|██████████| 9981/9981 [00:01<00:00, 8288.60it/s] \n"
     ]
    },
    {
     "name": "stdout",
     "output_type": "stream",
     "text": [
      "Train: 0.9083| Val: 0.6440| Test: 0.6440| Eval Time: 1.2121s\n",
      "Epoch 29| Loss: 0.7875| Acc: 0.9667| Train Time: 0.2729s\n"
     ]
    },
    {
     "name": "stderr",
     "output_type": "stream",
     "text": [
      "Evaluating: 100%|██████████| 9981/9981 [00:01<00:00, 8944.39it/s] \n"
     ]
    },
    {
     "name": "stdout",
     "output_type": "stream",
     "text": [
      "Train: 0.9167| Val: 0.6520| Test: 0.6460| Eval Time: 1.1234s\n",
      "Epoch 30| Loss: 0.2457| Acc: 0.9667| Train Time: 0.2071s\n"
     ]
    },
    {
     "name": "stderr",
     "output_type": "stream",
     "text": [
      "Evaluating: 100%|██████████| 9981/9981 [00:00<00:00, 9995.80it/s] \n"
     ]
    },
    {
     "name": "stdout",
     "output_type": "stream",
     "text": [
      "Train: 0.9333| Val: 0.6520| Test: 0.6470| Eval Time: 1.0658s\n",
      "Epoch 31| Loss: 0.5554| Acc: 0.9500| Train Time: 0.1351s\n"
     ]
    },
    {
     "name": "stderr",
     "output_type": "stream",
     "text": [
      "Evaluating: 100%|██████████| 9981/9981 [00:01<00:00, 7564.61it/s] \n"
     ]
    },
    {
     "name": "stdout",
     "output_type": "stream",
     "text": [
      "Train: 0.9333| Val: 0.6500| Test: 0.6510| Eval Time: 1.3905s\n",
      "Epoch 32| Loss: 0.1663| Acc: 0.9667| Train Time: 0.2220s\n"
     ]
    },
    {
     "name": "stderr",
     "output_type": "stream",
     "text": [
      "Evaluating: 100%|██████████| 9981/9981 [00:01<00:00, 7396.09it/s] \n"
     ]
    },
    {
     "name": "stdout",
     "output_type": "stream",
     "text": [
      "Train: 0.9250| Val: 0.6500| Test: 0.6540| Eval Time: 1.3592s\n",
      "Epoch 33| Loss: 1.1442| Acc: 0.9583| Train Time: 0.2116s\n"
     ]
    },
    {
     "name": "stderr",
     "output_type": "stream",
     "text": [
      "Evaluating: 100%|██████████| 9981/9981 [00:01<00:00, 8337.88it/s] \n"
     ]
    },
    {
     "name": "stdout",
     "output_type": "stream",
     "text": [
      "Train: 0.9167| Val: 0.6480| Test: 0.6590| Eval Time: 1.2038s\n",
      "Epoch 34| Loss: 0.1156| Acc: 0.9750| Train Time: 0.2234s\n"
     ]
    },
    {
     "name": "stderr",
     "output_type": "stream",
     "text": [
      "Evaluating: 100%|██████████| 9981/9981 [00:01<00:00, 8485.57it/s] \n"
     ]
    },
    {
     "name": "stdout",
     "output_type": "stream",
     "text": [
      "Train: 0.9167| Val: 0.6500| Test: 0.6620| Eval Time: 1.1818s\n",
      "\n",
      "Result of 10. run| Train: 0.8583| Val: 0.6760| Test: 0.6760\n",
      "\n",
      "Run 01 for GatV1_K7_D3_s and CiteSeer:\n"
     ]
    },
    {
     "name": "stderr",
     "output_type": "stream",
     "text": [
      "Epoch 01: 100%|██████████| 120/120 [00:01<00:00, 102.28it/s]\n"
     ]
    },
    {
     "name": "stdout",
     "output_type": "stream",
     "text": [
      "Epoch 01| Loss: 2.4181| Acc: 0.1917| Train Time: 1.1799s\n"
     ]
    },
    {
     "name": "stderr",
     "output_type": "stream",
     "text": [
      "Evaluating: 100%|██████████| 9981/9981 [00:01<00:00, 5451.42it/s] \n"
     ]
    },
    {
     "name": "stdout",
     "output_type": "stream",
     "text": [
      "Train: 0.7000| Val: 0.5740| Test: 0.5620| Eval Time: 1.8398s\n",
      "Epoch 02| Loss: 1.8548| Acc: 0.5667| Train Time: 1.1507s\n"
     ]
    },
    {
     "name": "stderr",
     "output_type": "stream",
     "text": [
      "Evaluating: 100%|██████████| 9981/9981 [00:01<00:00, 7447.62it/s] \n"
     ]
    },
    {
     "name": "stdout",
     "output_type": "stream",
     "text": [
      "Train: 0.8083| Val: 0.6520| Test: 0.6500| Eval Time: 1.3531s\n",
      "Epoch 03| Loss: 1.4245| Acc: 0.7083| Train Time: 0.2973s\n"
     ]
    },
    {
     "name": "stderr",
     "output_type": "stream",
     "text": [
      "Evaluating: 100%|██████████| 9981/9981 [00:01<00:00, 7179.86it/s] \n"
     ]
    },
    {
     "name": "stdout",
     "output_type": "stream",
     "text": [
      "Train: 0.8417| Val: 0.6640| Test: 0.6640| Eval Time: 1.3974s\n",
      "Epoch 04| Loss: 1.8580| Acc: 0.7083| Train Time: 0.2203s\n"
     ]
    },
    {
     "name": "stderr",
     "output_type": "stream",
     "text": [
      "Evaluating: 100%|██████████| 9981/9981 [00:01<00:00, 6878.13it/s] \n"
     ]
    },
    {
     "name": "stdout",
     "output_type": "stream",
     "text": [
      "Train: 0.8583| Val: 0.6620| Test: 0.6500| Eval Time: 1.4616s\n",
      "Epoch 05| Loss: 1.5524| Acc: 0.7500| Train Time: 0.2381s\n"
     ]
    },
    {
     "name": "stderr",
     "output_type": "stream",
     "text": [
      "Evaluating: 100%|██████████| 9981/9981 [00:01<00:00, 6762.50it/s] \n"
     ]
    },
    {
     "name": "stdout",
     "output_type": "stream",
     "text": [
      "Train: 0.8500| Val: 0.6580| Test: 0.6490| Eval Time: 1.5480s\n",
      "Epoch 06| Loss: 1.7949| Acc: 0.7417| Train Time: 0.2404s\n"
     ]
    },
    {
     "name": "stderr",
     "output_type": "stream",
     "text": [
      "Evaluating: 100%|██████████| 9981/9981 [00:01<00:00, 7765.48it/s] \n"
     ]
    },
    {
     "name": "stdout",
     "output_type": "stream",
     "text": [
      "Train: 0.8500| Val: 0.6540| Test: 0.6490| Eval Time: 1.2932s\n",
      "Epoch 07| Loss: 1.4437| Acc: 0.8000| Train Time: 0.2823s\n"
     ]
    },
    {
     "name": "stderr",
     "output_type": "stream",
     "text": [
      "Evaluating: 100%|██████████| 9981/9981 [00:01<00:00, 6760.43it/s] \n"
     ]
    },
    {
     "name": "stdout",
     "output_type": "stream",
     "text": [
      "Train: 0.8500| Val: 0.6420| Test: 0.6330| Eval Time: 1.4887s\n",
      "Epoch 08| Loss: 1.8843| Acc: 0.7833| Train Time: 0.2398s\n"
     ]
    },
    {
     "name": "stderr",
     "output_type": "stream",
     "text": [
      "Evaluating: 100%|██████████| 9981/9981 [00:01<00:00, 7336.08it/s] \n"
     ]
    },
    {
     "name": "stdout",
     "output_type": "stream",
     "text": [
      "Train: 0.8750| Val: 0.6340| Test: 0.6390| Eval Time: 1.3700s\n",
      "Epoch 09| Loss: 1.4337| Acc: 0.8417| Train Time: 0.2301s\n"
     ]
    },
    {
     "name": "stderr",
     "output_type": "stream",
     "text": [
      "Evaluating: 100%|██████████| 9981/9981 [00:01<00:00, 7382.35it/s] \n"
     ]
    },
    {
     "name": "stdout",
     "output_type": "stream",
     "text": [
      "Train: 0.8750| Val: 0.6260| Test: 0.6420| Eval Time: 1.3628s\n",
      "Epoch 10| Loss: 1.4375| Acc: 0.8167| Train Time: 0.2234s\n"
     ]
    },
    {
     "name": "stderr",
     "output_type": "stream",
     "text": [
      "Evaluating: 100%|██████████| 9981/9981 [00:01<00:00, 6830.88it/s] \n"
     ]
    },
    {
     "name": "stdout",
     "output_type": "stream",
     "text": [
      "Train: 0.8833| Val: 0.6360| Test: 0.6320| Eval Time: 1.4736s\n",
      "Epoch 11| Loss: 1.3516| Acc: 0.8583| Train Time: 0.2245s\n"
     ]
    },
    {
     "name": "stderr",
     "output_type": "stream",
     "text": [
      "Evaluating: 100%|██████████| 9981/9981 [00:01<00:00, 6782.89it/s] \n"
     ]
    },
    {
     "name": "stdout",
     "output_type": "stream",
     "text": [
      "Train: 0.9000| Val: 0.6400| Test: 0.6250| Eval Time: 1.4806s\n",
      "Epoch 12| Loss: 1.8956| Acc: 0.8250| Train Time: 0.2217s\n"
     ]
    },
    {
     "name": "stderr",
     "output_type": "stream",
     "text": [
      "Evaluating: 100%|██████████| 9981/9981 [00:01<00:00, 7156.74it/s] \n"
     ]
    },
    {
     "name": "stdout",
     "output_type": "stream",
     "text": [
      "Train: 0.9000| Val: 0.6300| Test: 0.6220| Eval Time: 1.3995s\n",
      "Epoch 13| Loss: 0.8478| Acc: 0.8250| Train Time: 0.2868s\n"
     ]
    },
    {
     "name": "stderr",
     "output_type": "stream",
     "text": [
      "Evaluating: 100%|██████████| 9981/9981 [00:01<00:00, 6782.22it/s] \n"
     ]
    },
    {
     "name": "stdout",
     "output_type": "stream",
     "text": [
      "Train: 0.8833| Val: 0.6340| Test: 0.6270| Eval Time: 1.4848s\n",
      "Epoch 14| Loss: 1.1302| Acc: 0.8750| Train Time: 0.2337s\n"
     ]
    },
    {
     "name": "stderr",
     "output_type": "stream",
     "text": [
      "Evaluating: 100%|██████████| 9981/9981 [00:01<00:00, 6871.15it/s] \n"
     ]
    },
    {
     "name": "stdout",
     "output_type": "stream",
     "text": [
      "Train: 0.8917| Val: 0.6340| Test: 0.6350| Eval Time: 1.4637s\n",
      "Epoch 15| Loss: 0.6676| Acc: 0.8750| Train Time: 0.2190s\n"
     ]
    },
    {
     "name": "stderr",
     "output_type": "stream",
     "text": [
      "Evaluating: 100%|██████████| 9981/9981 [00:01<00:00, 7238.88it/s] \n"
     ]
    },
    {
     "name": "stdout",
     "output_type": "stream",
     "text": [
      "Train: 0.9000| Val: 0.6380| Test: 0.6320| Eval Time: 1.3888s\n",
      "Epoch 16| Loss: 1.3012| Acc: 0.8917| Train Time: 0.2274s\n"
     ]
    },
    {
     "name": "stderr",
     "output_type": "stream",
     "text": [
      "Evaluating: 100%|██████████| 9981/9981 [00:01<00:00, 6437.38it/s] \n"
     ]
    },
    {
     "name": "stdout",
     "output_type": "stream",
     "text": [
      "Train: 0.9000| Val: 0.6420| Test: 0.6360| Eval Time: 1.5628s\n",
      "Epoch 17| Loss: 0.7042| Acc: 0.9167| Train Time: 0.2366s\n"
     ]
    },
    {
     "name": "stderr",
     "output_type": "stream",
     "text": [
      "Evaluating: 100%|██████████| 9981/9981 [00:01<00:00, 7212.26it/s] \n"
     ]
    },
    {
     "name": "stdout",
     "output_type": "stream",
     "text": [
      "Train: 0.8917| Val: 0.6420| Test: 0.6440| Eval Time: 1.4592s\n",
      "Epoch 18| Loss: 1.3970| Acc: 0.8583| Train Time: 0.2361s\n"
     ]
    },
    {
     "name": "stderr",
     "output_type": "stream",
     "text": [
      "Evaluating: 100%|██████████| 9981/9981 [00:01<00:00, 6424.25it/s] \n"
     ]
    },
    {
     "name": "stdout",
     "output_type": "stream",
     "text": [
      "Train: 0.9000| Val: 0.6440| Test: 0.6460| Eval Time: 1.5612s\n",
      "Epoch 19| Loss: 1.4227| Acc: 0.9083| Train Time: 0.2235s\n"
     ]
    },
    {
     "name": "stderr",
     "output_type": "stream",
     "text": [
      "Evaluating: 100%|██████████| 9981/9981 [00:01<00:00, 6689.61it/s] \n"
     ]
    },
    {
     "name": "stdout",
     "output_type": "stream",
     "text": [
      "Train: 0.9000| Val: 0.6380| Test: 0.6560| Eval Time: 1.4994s\n",
      "Epoch 20| Loss: 1.0720| Acc: 0.9333| Train Time: 0.3020s\n"
     ]
    },
    {
     "name": "stderr",
     "output_type": "stream",
     "text": [
      "Evaluating: 100%|██████████| 9981/9981 [00:01<00:00, 9077.27it/s] \n"
     ]
    },
    {
     "name": "stdout",
     "output_type": "stream",
     "text": [
      "Train: 0.9167| Val: 0.6380| Test: 0.6600| Eval Time: 1.1693s\n",
      "Epoch 21| Loss: 1.4548| Acc: 0.9000| Train Time: 0.2254s\n"
     ]
    },
    {
     "name": "stderr",
     "output_type": "stream",
     "text": [
      "Evaluating: 100%|██████████| 9981/9981 [00:01<00:00, 7182.67it/s] \n"
     ]
    },
    {
     "name": "stdout",
     "output_type": "stream",
     "text": [
      "Train: 0.9250| Val: 0.6380| Test: 0.6640| Eval Time: 1.3973s\n",
      "Epoch 22| Loss: 0.6917| Acc: 0.9167| Train Time: 0.2124s\n"
     ]
    },
    {
     "name": "stderr",
     "output_type": "stream",
     "text": [
      "Evaluating: 100%|██████████| 9981/9981 [00:01<00:00, 6782.64it/s] \n"
     ]
    },
    {
     "name": "stdout",
     "output_type": "stream",
     "text": [
      "Train: 0.9333| Val: 0.6420| Test: 0.6620| Eval Time: 1.4795s\n",
      "Epoch 23| Loss: 0.8581| Acc: 0.9250| Train Time: 0.2239s\n"
     ]
    },
    {
     "name": "stderr",
     "output_type": "stream",
     "text": [
      "Evaluating: 100%|██████████| 9981/9981 [00:01<00:00, 7192.23it/s] \n"
     ]
    },
    {
     "name": "stdout",
     "output_type": "stream",
     "text": [
      "Train: 0.9333| Val: 0.6420| Test: 0.6620| Eval Time: 1.3932s\n",
      "Epoch 24| Loss: 1.9109| Acc: 0.9083| Train Time: 0.2959s\n"
     ]
    },
    {
     "name": "stderr",
     "output_type": "stream",
     "text": [
      "Evaluating: 100%|██████████| 9981/9981 [00:01<00:00, 7176.19it/s] \n"
     ]
    },
    {
     "name": "stdout",
     "output_type": "stream",
     "text": [
      "Train: 0.9417| Val: 0.6320| Test: 0.6540| Eval Time: 1.3986s\n",
      "Epoch 25| Loss: 0.7130| Acc: 0.9000| Train Time: 0.2933s\n"
     ]
    },
    {
     "name": "stderr",
     "output_type": "stream",
     "text": [
      "Evaluating: 100%|██████████| 9981/9981 [00:01<00:00, 6673.97it/s] \n"
     ]
    },
    {
     "name": "stdout",
     "output_type": "stream",
     "text": [
      "Train: 0.9417| Val: 0.6240| Test: 0.6570| Eval Time: 1.5024s\n",
      "Epoch 26| Loss: 0.9248| Acc: 0.8750| Train Time: 0.2257s\n"
     ]
    },
    {
     "name": "stderr",
     "output_type": "stream",
     "text": [
      "Evaluating: 100%|██████████| 9981/9981 [00:01<00:00, 8484.13it/s] \n"
     ]
    },
    {
     "name": "stdout",
     "output_type": "stream",
     "text": [
      "Train: 0.9333| Val: 0.6280| Test: 0.6580| Eval Time: 1.1820s\n",
      "Epoch 27| Loss: 1.9622| Acc: 0.8917| Train Time: 0.2801s\n"
     ]
    },
    {
     "name": "stderr",
     "output_type": "stream",
     "text": [
      "Evaluating: 100%|██████████| 9981/9981 [00:01<00:00, 7204.49it/s] \n"
     ]
    },
    {
     "name": "stdout",
     "output_type": "stream",
     "text": [
      "Train: 0.9250| Val: 0.6400| Test: 0.6590| Eval Time: 1.3974s\n",
      "Epoch 28| Loss: 0.4784| Acc: 0.9417| Train Time: 0.2400s\n"
     ]
    },
    {
     "name": "stderr",
     "output_type": "stream",
     "text": [
      "Evaluating: 100%|██████████| 9981/9981 [00:01<00:00, 6373.55it/s] \n"
     ]
    },
    {
     "name": "stdout",
     "output_type": "stream",
     "text": [
      "Train: 0.9167| Val: 0.6500| Test: 0.6660| Eval Time: 1.5731s\n",
      "Epoch 29| Loss: 0.3844| Acc: 0.9583| Train Time: 0.2918s\n"
     ]
    },
    {
     "name": "stderr",
     "output_type": "stream",
     "text": [
      "Evaluating: 100%|██████████| 9981/9981 [00:01<00:00, 6697.54it/s] \n"
     ]
    },
    {
     "name": "stdout",
     "output_type": "stream",
     "text": [
      "Train: 0.9250| Val: 0.6560| Test: 0.6720| Eval Time: 1.4984s\n",
      "Epoch 30| Loss: 1.1384| Acc: 0.9333| Train Time: 0.2265s\n"
     ]
    },
    {
     "name": "stderr",
     "output_type": "stream",
     "text": [
      "Evaluating: 100%|██████████| 9981/9981 [00:01<00:00, 6449.02it/s] \n"
     ]
    },
    {
     "name": "stdout",
     "output_type": "stream",
     "text": [
      "Train: 0.9250| Val: 0.6620| Test: 0.6710| Eval Time: 1.5601s\n",
      "Epoch 31| Loss: 0.2621| Acc: 0.9583| Train Time: 0.2342s\n"
     ]
    },
    {
     "name": "stderr",
     "output_type": "stream",
     "text": [
      "Evaluating: 100%|██████████| 9981/9981 [00:01<00:00, 7208.89it/s] \n"
     ]
    },
    {
     "name": "stdout",
     "output_type": "stream",
     "text": [
      "Train: 0.9167| Val: 0.6620| Test: 0.6720| Eval Time: 1.3907s\n",
      "Epoch 32| Loss: 0.5894| Acc: 0.9583| Train Time: 0.2824s\n"
     ]
    },
    {
     "name": "stderr",
     "output_type": "stream",
     "text": [
      "Evaluating: 100%|██████████| 9981/9981 [00:01<00:00, 6696.65it/s] \n"
     ]
    },
    {
     "name": "stdout",
     "output_type": "stream",
     "text": [
      "Train: 0.9167| Val: 0.6620| Test: 0.6710| Eval Time: 1.4989s\n",
      "Epoch 33| Loss: 0.8775| Acc: 0.9417| Train Time: 0.2302s\n"
     ]
    },
    {
     "name": "stderr",
     "output_type": "stream",
     "text": [
      "Evaluating: 100%|██████████| 9981/9981 [00:01<00:00, 6403.15it/s] \n"
     ]
    },
    {
     "name": "stdout",
     "output_type": "stream",
     "text": [
      "Train: 0.9250| Val: 0.6640| Test: 0.6700| Eval Time: 1.5682s\n",
      "\n",
      "Result of  1. run| Train: 0.8417| Val: 0.6640| Test: 0.6640\n",
      "\n",
      "Run 02 for GatV1_K7_D3_s and CiteSeer:\n"
     ]
    },
    {
     "name": "stderr",
     "output_type": "stream",
     "text": [
      "Epoch 01: 100%|██████████| 120/120 [00:00<00:00, 516.89it/s]\n"
     ]
    },
    {
     "name": "stdout",
     "output_type": "stream",
     "text": [
      "Epoch 01| Loss: 3.0003| Acc: 0.1500| Train Time: 0.2365s\n"
     ]
    },
    {
     "name": "stderr",
     "output_type": "stream",
     "text": [
      "Evaluating: 100%|██████████| 9981/9981 [00:01<00:00, 6793.97it/s] \n"
     ]
    },
    {
     "name": "stdout",
     "output_type": "stream",
     "text": [
      "Train: 0.6333| Val: 0.5420| Test: 0.5020| Eval Time: 1.4751s\n",
      "Epoch 02| Loss: 2.2102| Acc: 0.4417| Train Time: 0.2997s\n"
     ]
    },
    {
     "name": "stderr",
     "output_type": "stream",
     "text": [
      "Evaluating: 100%|██████████| 9981/9981 [00:01<00:00, 6390.44it/s] \n"
     ]
    },
    {
     "name": "stdout",
     "output_type": "stream",
     "text": [
      "Train: 0.7583| Val: 0.6840| Test: 0.6490| Eval Time: 1.5761s\n",
      "Epoch 03| Loss: 2.2006| Acc: 0.6083| Train Time: 0.2296s\n"
     ]
    },
    {
     "name": "stderr",
     "output_type": "stream",
     "text": [
      "Evaluating: 100%|██████████| 9981/9981 [00:01<00:00, 6705.54it/s] \n"
     ]
    },
    {
     "name": "stdout",
     "output_type": "stream",
     "text": [
      "Train: 0.7917| Val: 0.6940| Test: 0.6300| Eval Time: 1.4951s\n",
      "Epoch 04| Loss: 1.7953| Acc: 0.6333| Train Time: 0.2253s\n"
     ]
    },
    {
     "name": "stderr",
     "output_type": "stream",
     "text": [
      "Evaluating: 100%|██████████| 9981/9981 [00:01<00:00, 7278.57it/s] \n"
     ]
    },
    {
     "name": "stdout",
     "output_type": "stream",
     "text": [
      "Train: 0.8250| Val: 0.6860| Test: 0.6300| Eval Time: 1.3848s\n",
      "Epoch 05| Loss: 2.3629| Acc: 0.6583| Train Time: 0.2310s\n"
     ]
    },
    {
     "name": "stderr",
     "output_type": "stream",
     "text": [
      "Evaluating: 100%|██████████| 9981/9981 [00:01<00:00, 6763.12it/s] \n"
     ]
    },
    {
     "name": "stdout",
     "output_type": "stream",
     "text": [
      "Train: 0.8417| Val: 0.6900| Test: 0.6440| Eval Time: 1.4828s\n",
      "Epoch 06| Loss: 2.0387| Acc: 0.7000| Train Time: 0.2305s\n"
     ]
    },
    {
     "name": "stderr",
     "output_type": "stream",
     "text": [
      "Evaluating: 100%|██████████| 9981/9981 [00:01<00:00, 7263.98it/s] \n"
     ]
    },
    {
     "name": "stdout",
     "output_type": "stream",
     "text": [
      "Train: 0.8500| Val: 0.6760| Test: 0.6510| Eval Time: 1.4469s\n",
      "Epoch 07| Loss: 2.0978| Acc: 0.7667| Train Time: 0.2238s\n"
     ]
    },
    {
     "name": "stderr",
     "output_type": "stream",
     "text": [
      "Evaluating: 100%|██████████| 9981/9981 [00:01<00:00, 7142.54it/s] \n"
     ]
    },
    {
     "name": "stdout",
     "output_type": "stream",
     "text": [
      "Train: 0.8500| Val: 0.6820| Test: 0.6510| Eval Time: 1.4042s\n",
      "Epoch 08| Loss: 1.5030| Acc: 0.8333| Train Time: 0.3047s\n"
     ]
    },
    {
     "name": "stderr",
     "output_type": "stream",
     "text": [
      "Evaluating: 100%|██████████| 9981/9981 [00:01<00:00, 7225.61it/s] \n"
     ]
    },
    {
     "name": "stdout",
     "output_type": "stream",
     "text": [
      "Train: 0.8583| Val: 0.6780| Test: 0.6510| Eval Time: 1.3885s\n",
      "Epoch 09| Loss: 2.2261| Acc: 0.7833| Train Time: 0.2303s\n"
     ]
    },
    {
     "name": "stderr",
     "output_type": "stream",
     "text": [
      "Evaluating: 100%|██████████| 9981/9981 [00:01<00:00, 7324.57it/s] \n"
     ]
    },
    {
     "name": "stdout",
     "output_type": "stream",
     "text": [
      "Train: 0.8500| Val: 0.6800| Test: 0.6600| Eval Time: 1.3687s\n",
      "Epoch 10| Loss: 1.1840| Acc: 0.8167| Train Time: 0.2164s\n"
     ]
    },
    {
     "name": "stderr",
     "output_type": "stream",
     "text": [
      "Evaluating: 100%|██████████| 9981/9981 [00:01<00:00, 6741.81it/s] \n"
     ]
    },
    {
     "name": "stdout",
     "output_type": "stream",
     "text": [
      "Train: 0.8667| Val: 0.6760| Test: 0.6650| Eval Time: 1.4870s\n",
      "Epoch 11| Loss: 1.3421| Acc: 0.8500| Train Time: 0.3111s\n"
     ]
    },
    {
     "name": "stderr",
     "output_type": "stream",
     "text": [
      "Evaluating: 100%|██████████| 9981/9981 [00:01<00:00, 6875.54it/s] \n"
     ]
    },
    {
     "name": "stdout",
     "output_type": "stream",
     "text": [
      "Train: 0.8583| Val: 0.6680| Test: 0.6710| Eval Time: 1.4651s\n",
      "Epoch 12| Loss: 2.2327| Acc: 0.8250| Train Time: 0.2290s\n"
     ]
    },
    {
     "name": "stderr",
     "output_type": "stream",
     "text": [
      "Evaluating: 100%|██████████| 9981/9981 [00:01<00:00, 6762.21it/s] \n"
     ]
    },
    {
     "name": "stdout",
     "output_type": "stream",
     "text": [
      "Train: 0.8667| Val: 0.6640| Test: 0.6710| Eval Time: 1.4841s\n",
      "Epoch 13| Loss: 0.9337| Acc: 0.8583| Train Time: 0.2210s\n"
     ]
    },
    {
     "name": "stderr",
     "output_type": "stream",
     "text": [
      "Evaluating: 100%|██████████| 9981/9981 [00:01<00:00, 7231.61it/s] \n"
     ]
    },
    {
     "name": "stdout",
     "output_type": "stream",
     "text": [
      "Train: 0.9000| Val: 0.6640| Test: 0.6730| Eval Time: 1.3865s\n",
      "Epoch 14| Loss: 1.9480| Acc: 0.8417| Train Time: 0.2984s\n"
     ]
    },
    {
     "name": "stderr",
     "output_type": "stream",
     "text": [
      "Evaluating: 100%|██████████| 9981/9981 [00:01<00:00, 6809.72it/s] \n"
     ]
    },
    {
     "name": "stdout",
     "output_type": "stream",
     "text": [
      "Train: 0.9000| Val: 0.6600| Test: 0.6670| Eval Time: 1.4744s\n",
      "Epoch 15| Loss: 1.8536| Acc: 0.8667| Train Time: 0.2352s\n"
     ]
    },
    {
     "name": "stderr",
     "output_type": "stream",
     "text": [
      "Evaluating: 100%|██████████| 9981/9981 [00:01<00:00, 6829.76it/s] \n"
     ]
    },
    {
     "name": "stdout",
     "output_type": "stream",
     "text": [
      "Train: 0.9000| Val: 0.6620| Test: 0.6660| Eval Time: 1.4730s\n",
      "Epoch 16| Loss: 1.4416| Acc: 0.9167| Train Time: 0.2371s\n"
     ]
    },
    {
     "name": "stderr",
     "output_type": "stream",
     "text": [
      "Evaluating: 100%|██████████| 9981/9981 [00:01<00:00, 6816.02it/s] \n"
     ]
    },
    {
     "name": "stdout",
     "output_type": "stream",
     "text": [
      "Train: 0.8833| Val: 0.6660| Test: 0.6570| Eval Time: 1.4726s\n",
      "Epoch 17| Loss: 0.8542| Acc: 0.9083| Train Time: 0.2304s\n"
     ]
    },
    {
     "name": "stderr",
     "output_type": "stream",
     "text": [
      "Evaluating: 100%|██████████| 9981/9981 [00:01<00:00, 7364.25it/s] \n"
     ]
    },
    {
     "name": "stdout",
     "output_type": "stream",
     "text": [
      "Train: 0.8833| Val: 0.6640| Test: 0.6560| Eval Time: 1.3631s\n",
      "Epoch 18| Loss: 1.1681| Acc: 0.9250| Train Time: 0.2273s\n"
     ]
    },
    {
     "name": "stderr",
     "output_type": "stream",
     "text": [
      "Evaluating: 100%|██████████| 9981/9981 [00:01<00:00, 6753.69it/s] \n"
     ]
    },
    {
     "name": "stdout",
     "output_type": "stream",
     "text": [
      "Train: 0.8917| Val: 0.6640| Test: 0.6590| Eval Time: 1.4844s\n",
      "Epoch 19| Loss: 1.5381| Acc: 0.9083| Train Time: 0.2010s\n"
     ]
    },
    {
     "name": "stderr",
     "output_type": "stream",
     "text": [
      "Evaluating: 100%|██████████| 9981/9981 [00:01<00:00, 9700.96it/s] \n"
     ]
    },
    {
     "name": "stdout",
     "output_type": "stream",
     "text": [
      "Train: 0.8833| Val: 0.6580| Test: 0.6560| Eval Time: 1.0366s\n",
      "Epoch 20| Loss: 0.4096| Acc: 0.9583| Train Time: 0.2755s\n"
     ]
    },
    {
     "name": "stderr",
     "output_type": "stream",
     "text": [
      "Evaluating: 100%|██████████| 9981/9981 [00:01<00:00, 7117.38it/s] \n"
     ]
    },
    {
     "name": "stdout",
     "output_type": "stream",
     "text": [
      "Train: 0.8917| Val: 0.6660| Test: 0.6550| Eval Time: 1.4109s\n",
      "Epoch 21| Loss: 1.4551| Acc: 0.9083| Train Time: 0.2284s\n"
     ]
    },
    {
     "name": "stderr",
     "output_type": "stream",
     "text": [
      "Evaluating: 100%|██████████| 9981/9981 [00:01<00:00, 8498.58it/s] \n"
     ]
    },
    {
     "name": "stdout",
     "output_type": "stream",
     "text": [
      "Train: 0.8917| Val: 0.6620| Test: 0.6500| Eval Time: 1.1803s\n",
      "Epoch 22| Loss: 1.0177| Acc: 0.8917| Train Time: 0.2654s\n"
     ]
    },
    {
     "name": "stderr",
     "output_type": "stream",
     "text": [
      "Evaluating: 100%|██████████| 9981/9981 [00:01<00:00, 7027.32it/s] \n"
     ]
    },
    {
     "name": "stdout",
     "output_type": "stream",
     "text": [
      "Train: 0.8917| Val: 0.6580| Test: 0.6510| Eval Time: 1.4277s\n",
      "Epoch 23| Loss: 0.6947| Acc: 0.9417| Train Time: 0.2285s\n"
     ]
    },
    {
     "name": "stderr",
     "output_type": "stream",
     "text": [
      "Evaluating: 100%|██████████| 9981/9981 [00:01<00:00, 6463.94it/s] \n"
     ]
    },
    {
     "name": "stdout",
     "output_type": "stream",
     "text": [
      "Train: 0.8917| Val: 0.6600| Test: 0.6520| Eval Time: 1.5549s\n",
      "Epoch 24| Loss: 1.1554| Acc: 0.9250| Train Time: 0.2261s\n"
     ]
    },
    {
     "name": "stderr",
     "output_type": "stream",
     "text": [
      "Evaluating: 100%|██████████| 9981/9981 [00:01<00:00, 7760.57it/s] \n"
     ]
    },
    {
     "name": "stdout",
     "output_type": "stream",
     "text": [
      "Train: 0.8917| Val: 0.6640| Test: 0.6560| Eval Time: 1.2922s\n",
      "Epoch 25| Loss: 0.9126| Acc: 0.9167| Train Time: 0.2213s\n"
     ]
    },
    {
     "name": "stderr",
     "output_type": "stream",
     "text": [
      "Evaluating: 100%|██████████| 9981/9981 [00:01<00:00, 6885.37it/s] \n"
     ]
    },
    {
     "name": "stdout",
     "output_type": "stream",
     "text": [
      "Train: 0.9083| Val: 0.6620| Test: 0.6640| Eval Time: 1.4594s\n",
      "Epoch 26| Loss: 0.7442| Acc: 0.9417| Train Time: 0.2293s\n"
     ]
    },
    {
     "name": "stderr",
     "output_type": "stream",
     "text": [
      "Evaluating: 100%|██████████| 9981/9981 [00:01<00:00, 6749.39it/s] \n"
     ]
    },
    {
     "name": "stdout",
     "output_type": "stream",
     "text": [
      "Train: 0.9167| Val: 0.6620| Test: 0.6680| Eval Time: 1.4851s\n",
      "Epoch 27| Loss: 1.0992| Acc: 0.9583| Train Time: 0.2201s\n"
     ]
    },
    {
     "name": "stderr",
     "output_type": "stream",
     "text": [
      "Evaluating: 100%|██████████| 9981/9981 [00:01<00:00, 7960.12it/s] \n"
     ]
    },
    {
     "name": "stdout",
     "output_type": "stream",
     "text": [
      "Train: 0.9167| Val: 0.6580| Test: 0.6660| Eval Time: 1.2636s\n",
      "Epoch 28| Loss: 1.0239| Acc: 0.9500| Train Time: 0.2253s\n"
     ]
    },
    {
     "name": "stderr",
     "output_type": "stream",
     "text": [
      "Evaluating: 100%|██████████| 9981/9981 [00:01<00:00, 6798.40it/s] \n"
     ]
    },
    {
     "name": "stdout",
     "output_type": "stream",
     "text": [
      "Train: 0.9083| Val: 0.6480| Test: 0.6630| Eval Time: 1.4774s\n",
      "Epoch 29| Loss: 1.3662| Acc: 0.9417| Train Time: 0.2143s\n"
     ]
    },
    {
     "name": "stderr",
     "output_type": "stream",
     "text": [
      "Evaluating: 100%|██████████| 9981/9981 [00:01<00:00, 7137.75it/s] \n"
     ]
    },
    {
     "name": "stdout",
     "output_type": "stream",
     "text": [
      "Train: 0.9000| Val: 0.6460| Test: 0.6620| Eval Time: 1.4673s\n",
      "Epoch 30| Loss: 1.8284| Acc: 0.9500| Train Time: 0.2161s\n"
     ]
    },
    {
     "name": "stderr",
     "output_type": "stream",
     "text": [
      "Evaluating: 100%|██████████| 9981/9981 [00:01<00:00, 6674.84it/s] \n"
     ]
    },
    {
     "name": "stdout",
     "output_type": "stream",
     "text": [
      "Train: 0.8833| Val: 0.6420| Test: 0.6660| Eval Time: 1.5035s\n",
      "Epoch 31| Loss: 0.3875| Acc: 0.9750| Train Time: 0.2276s\n"
     ]
    },
    {
     "name": "stderr",
     "output_type": "stream",
     "text": [
      "Evaluating: 100%|██████████| 9981/9981 [00:01<00:00, 6851.47it/s] \n"
     ]
    },
    {
     "name": "stdout",
     "output_type": "stream",
     "text": [
      "Train: 0.8917| Val: 0.6440| Test: 0.6650| Eval Time: 1.4679s\n",
      "Epoch 32| Loss: 0.0709| Acc: 0.9667| Train Time: 0.2323s\n"
     ]
    },
    {
     "name": "stderr",
     "output_type": "stream",
     "text": [
      "Evaluating: 100%|██████████| 9981/9981 [00:01<00:00, 6743.42it/s] \n"
     ]
    },
    {
     "name": "stdout",
     "output_type": "stream",
     "text": [
      "Train: 0.8917| Val: 0.6420| Test: 0.6670| Eval Time: 1.4863s\n",
      "Epoch 33| Loss: 0.3676| Acc: 0.9500| Train Time: 0.2772s\n"
     ]
    },
    {
     "name": "stderr",
     "output_type": "stream",
     "text": [
      "Evaluating: 100%|██████████| 9981/9981 [00:01<00:00, 6744.88it/s] \n"
     ]
    },
    {
     "name": "stdout",
     "output_type": "stream",
     "text": [
      "Train: 0.8917| Val: 0.6500| Test: 0.6660| Eval Time: 1.4945s\n",
      "\n",
      "Result of  2. run| Train: 0.7917| Val: 0.6940| Test: 0.6300\n",
      "\n",
      "Run 03 for GatV1_K7_D3_s and CiteSeer:\n"
     ]
    },
    {
     "name": "stderr",
     "output_type": "stream",
     "text": [
      "Epoch 01: 100%|██████████| 120/120 [00:00<00:00, 516.53it/s]\n"
     ]
    },
    {
     "name": "stdout",
     "output_type": "stream",
     "text": [
      "Epoch 01| Loss: 2.3677| Acc: 0.2083| Train Time: 0.2372s\n"
     ]
    },
    {
     "name": "stderr",
     "output_type": "stream",
     "text": [
      "Evaluating: 100%|██████████| 9981/9981 [00:01<00:00, 7246.52it/s] \n"
     ]
    },
    {
     "name": "stdout",
     "output_type": "stream",
     "text": [
      "Train: 0.6750| Val: 0.5900| Test: 0.5780| Eval Time: 1.3823s\n",
      "Epoch 02| Loss: 1.9844| Acc: 0.5417| Train Time: 0.2859s\n"
     ]
    },
    {
     "name": "stderr",
     "output_type": "stream",
     "text": [
      "Evaluating: 100%|██████████| 9981/9981 [00:01<00:00, 7150.58it/s] \n"
     ]
    },
    {
     "name": "stdout",
     "output_type": "stream",
     "text": [
      "Train: 0.7417| Val: 0.6720| Test: 0.6440| Eval Time: 1.4045s\n",
      "Epoch 03| Loss: 1.7148| Acc: 0.6750| Train Time: 0.3003s\n"
     ]
    },
    {
     "name": "stderr",
     "output_type": "stream",
     "text": [
      "Evaluating: 100%|██████████| 9981/9981 [00:01<00:00, 7202.48it/s] \n"
     ]
    },
    {
     "name": "stdout",
     "output_type": "stream",
     "text": [
      "Train: 0.8083| Val: 0.6920| Test: 0.6730| Eval Time: 1.3958s\n",
      "Epoch 04| Loss: 1.4991| Acc: 0.6833| Train Time: 0.2261s\n"
     ]
    },
    {
     "name": "stderr",
     "output_type": "stream",
     "text": [
      "Evaluating: 100%|██████████| 9981/9981 [00:01<00:00, 7369.56it/s] \n"
     ]
    },
    {
     "name": "stdout",
     "output_type": "stream",
     "text": [
      "Train: 0.8417| Val: 0.6920| Test: 0.6620| Eval Time: 1.3648s\n",
      "Epoch 05| Loss: 2.4518| Acc: 0.6250| Train Time: 0.2219s\n"
     ]
    },
    {
     "name": "stderr",
     "output_type": "stream",
     "text": [
      "Evaluating: 100%|██████████| 9981/9981 [00:01<00:00, 6650.33it/s] \n"
     ]
    },
    {
     "name": "stdout",
     "output_type": "stream",
     "text": [
      "Train: 0.8583| Val: 0.6900| Test: 0.6490| Eval Time: 1.5724s\n",
      "Epoch 06| Loss: 2.9296| Acc: 0.6833| Train Time: 0.2400s\n"
     ]
    },
    {
     "name": "stderr",
     "output_type": "stream",
     "text": [
      "Evaluating: 100%|██████████| 9981/9981 [00:01<00:00, 7322.10it/s] \n"
     ]
    },
    {
     "name": "stdout",
     "output_type": "stream",
     "text": [
      "Train: 0.8750| Val: 0.6960| Test: 0.6440| Eval Time: 1.3695s\n",
      "Epoch 07| Loss: 2.0172| Acc: 0.7583| Train Time: 0.2275s\n"
     ]
    },
    {
     "name": "stderr",
     "output_type": "stream",
     "text": [
      "Evaluating: 100%|██████████| 9981/9981 [00:01<00:00, 9133.35it/s] \n"
     ]
    },
    {
     "name": "stdout",
     "output_type": "stream",
     "text": [
      "Train: 0.8583| Val: 0.6660| Test: 0.6460| Eval Time: 1.1613s\n",
      "Epoch 08| Loss: 2.1539| Acc: 0.7750| Train Time: 0.2422s\n"
     ]
    },
    {
     "name": "stderr",
     "output_type": "stream",
     "text": [
      "Evaluating: 100%|██████████| 9981/9981 [00:01<00:00, 7412.03it/s] \n"
     ]
    },
    {
     "name": "stdout",
     "output_type": "stream",
     "text": [
      "Train: 0.8667| Val: 0.6540| Test: 0.6450| Eval Time: 1.3590s\n",
      "Epoch 09| Loss: 1.2037| Acc: 0.8500| Train Time: 0.2309s\n"
     ]
    },
    {
     "name": "stderr",
     "output_type": "stream",
     "text": [
      "Evaluating: 100%|██████████| 9981/9981 [00:01<00:00, 6734.72it/s] \n"
     ]
    },
    {
     "name": "stdout",
     "output_type": "stream",
     "text": [
      "Train: 0.8667| Val: 0.6460| Test: 0.6440| Eval Time: 1.4879s\n",
      "Epoch 10| Loss: 1.0051| Acc: 0.8750| Train Time: 0.2731s\n"
     ]
    },
    {
     "name": "stderr",
     "output_type": "stream",
     "text": [
      "Evaluating: 100%|██████████| 9981/9981 [00:01<00:00, 6989.39it/s] \n"
     ]
    },
    {
     "name": "stdout",
     "output_type": "stream",
     "text": [
      "Train: 0.8667| Val: 0.6460| Test: 0.6540| Eval Time: 1.4973s\n",
      "Epoch 11| Loss: 0.8353| Acc: 0.8750| Train Time: 0.2193s\n"
     ]
    },
    {
     "name": "stderr",
     "output_type": "stream",
     "text": [
      "Evaluating: 100%|██████████| 9981/9981 [00:01<00:00, 6337.65it/s] \n"
     ]
    },
    {
     "name": "stdout",
     "output_type": "stream",
     "text": [
      "Train: 0.8750| Val: 0.6420| Test: 0.6520| Eval Time: 1.5877s\n",
      "Epoch 12| Loss: 1.1833| Acc: 0.8750| Train Time: 0.2318s\n"
     ]
    },
    {
     "name": "stderr",
     "output_type": "stream",
     "text": [
      "Evaluating: 100%|██████████| 9981/9981 [00:01<00:00, 6322.65it/s] \n"
     ]
    },
    {
     "name": "stdout",
     "output_type": "stream",
     "text": [
      "Train: 0.8917| Val: 0.6360| Test: 0.6470| Eval Time: 1.5851s\n",
      "Epoch 13| Loss: 1.9201| Acc: 0.8417| Train Time: 0.2322s\n"
     ]
    },
    {
     "name": "stderr",
     "output_type": "stream",
     "text": [
      "Evaluating: 100%|██████████| 9981/9981 [00:01<00:00, 7991.04it/s] \n"
     ]
    },
    {
     "name": "stdout",
     "output_type": "stream",
     "text": [
      "Train: 0.9000| Val: 0.6420| Test: 0.6520| Eval Time: 1.2575s\n",
      "Epoch 14| Loss: 1.0013| Acc: 0.8833| Train Time: 0.2252s\n"
     ]
    },
    {
     "name": "stderr",
     "output_type": "stream",
     "text": [
      "Evaluating: 100%|██████████| 9981/9981 [00:01<00:00, 6719.91it/s] \n"
     ]
    },
    {
     "name": "stdout",
     "output_type": "stream",
     "text": [
      "Train: 0.9167| Val: 0.6420| Test: 0.6470| Eval Time: 1.4910s\n",
      "Epoch 15| Loss: 1.3144| Acc: 0.8667| Train Time: 0.2870s\n"
     ]
    },
    {
     "name": "stderr",
     "output_type": "stream",
     "text": [
      "Evaluating: 100%|██████████| 9981/9981 [00:01<00:00, 7080.28it/s] \n"
     ]
    },
    {
     "name": "stdout",
     "output_type": "stream",
     "text": [
      "Train: 0.9167| Val: 0.6520| Test: 0.6490| Eval Time: 1.4821s\n",
      "Epoch 16| Loss: 0.5741| Acc: 0.9083| Train Time: 0.2411s\n"
     ]
    },
    {
     "name": "stderr",
     "output_type": "stream",
     "text": [
      "Evaluating: 100%|██████████| 9981/9981 [00:01<00:00, 7238.84it/s] \n"
     ]
    },
    {
     "name": "stdout",
     "output_type": "stream",
     "text": [
      "Train: 0.9083| Val: 0.6580| Test: 0.6560| Eval Time: 1.3857s\n",
      "Epoch 17| Loss: 1.7161| Acc: 0.8917| Train Time: 0.2903s\n"
     ]
    },
    {
     "name": "stderr",
     "output_type": "stream",
     "text": [
      "Evaluating: 100%|██████████| 9981/9981 [00:01<00:00, 6776.99it/s] \n"
     ]
    },
    {
     "name": "stdout",
     "output_type": "stream",
     "text": [
      "Train: 0.9000| Val: 0.6620| Test: 0.6540| Eval Time: 1.4790s\n",
      "Epoch 18| Loss: 1.0761| Acc: 0.8917| Train Time: 0.2244s\n"
     ]
    },
    {
     "name": "stderr",
     "output_type": "stream",
     "text": [
      "Evaluating: 100%|██████████| 9981/9981 [00:01<00:00, 6648.82it/s] \n"
     ]
    },
    {
     "name": "stdout",
     "output_type": "stream",
     "text": [
      "Train: 0.9000| Val: 0.6620| Test: 0.6530| Eval Time: 1.5076s\n",
      "Epoch 19| Loss: 0.9237| Acc: 0.8917| Train Time: 0.2179s\n"
     ]
    },
    {
     "name": "stderr",
     "output_type": "stream",
     "text": [
      "Evaluating: 100%|██████████| 9981/9981 [00:01<00:00, 7043.03it/s] \n"
     ]
    },
    {
     "name": "stdout",
     "output_type": "stream",
     "text": [
      "Train: 0.9000| Val: 0.6440| Test: 0.6510| Eval Time: 1.4962s\n",
      "Epoch 20| Loss: 0.5041| Acc: 0.9000| Train Time: 0.2335s\n"
     ]
    },
    {
     "name": "stderr",
     "output_type": "stream",
     "text": [
      "Evaluating: 100%|██████████| 9981/9981 [00:01<00:00, 6361.51it/s] \n"
     ]
    },
    {
     "name": "stdout",
     "output_type": "stream",
     "text": [
      "Train: 0.9167| Val: 0.6340| Test: 0.6520| Eval Time: 1.5773s\n",
      "Epoch 21| Loss: 0.6485| Acc: 0.9417| Train Time: 0.2306s\n"
     ]
    },
    {
     "name": "stderr",
     "output_type": "stream",
     "text": [
      "Evaluating: 100%|██████████| 9981/9981 [00:01<00:00, 8654.94it/s] \n"
     ]
    },
    {
     "name": "stdout",
     "output_type": "stream",
     "text": [
      "Train: 0.9333| Val: 0.6380| Test: 0.6510| Eval Time: 1.1599s\n",
      "Epoch 22| Loss: 0.8128| Acc: 0.9250| Train Time: 0.2177s\n"
     ]
    },
    {
     "name": "stderr",
     "output_type": "stream",
     "text": [
      "Evaluating: 100%|██████████| 9981/9981 [00:01<00:00, 6778.80it/s] \n"
     ]
    },
    {
     "name": "stdout",
     "output_type": "stream",
     "text": [
      "Train: 0.9250| Val: 0.6420| Test: 0.6580| Eval Time: 1.4783s\n",
      "Epoch 23| Loss: 0.7815| Acc: 0.9000| Train Time: 0.2310s\n"
     ]
    },
    {
     "name": "stderr",
     "output_type": "stream",
     "text": [
      "Evaluating: 100%|██████████| 9981/9981 [00:01<00:00, 6737.87it/s] \n"
     ]
    },
    {
     "name": "stdout",
     "output_type": "stream",
     "text": [
      "Train: 0.9250| Val: 0.6500| Test: 0.6650| Eval Time: 1.4888s\n",
      "Epoch 24| Loss: 0.5272| Acc: 0.9167| Train Time: 0.2900s\n"
     ]
    },
    {
     "name": "stderr",
     "output_type": "stream",
     "text": [
      "Evaluating: 100%|██████████| 9981/9981 [00:01<00:00, 6253.60it/s] \n"
     ]
    },
    {
     "name": "stdout",
     "output_type": "stream",
     "text": [
      "Train: 0.9333| Val: 0.6600| Test: 0.6750| Eval Time: 1.6045s\n",
      "Epoch 25| Loss: 0.9959| Acc: 0.9417| Train Time: 0.2259s\n"
     ]
    },
    {
     "name": "stderr",
     "output_type": "stream",
     "text": [
      "Evaluating: 100%|██████████| 9981/9981 [00:01<00:00, 6904.48it/s] \n"
     ]
    },
    {
     "name": "stdout",
     "output_type": "stream",
     "text": [
      "Train: 0.9250| Val: 0.6720| Test: 0.6800| Eval Time: 1.4510s\n",
      "Epoch 26| Loss: 1.1412| Acc: 0.8833| Train Time: 0.2158s\n"
     ]
    },
    {
     "name": "stderr",
     "output_type": "stream",
     "text": [
      "Evaluating: 100%|██████████| 9981/9981 [00:01<00:00, 7096.21it/s] \n"
     ]
    },
    {
     "name": "stdout",
     "output_type": "stream",
     "text": [
      "Train: 0.9333| Val: 0.6760| Test: 0.6790| Eval Time: 1.4119s\n",
      "Epoch 27| Loss: 0.5241| Acc: 0.9500| Train Time: 0.2981s\n"
     ]
    },
    {
     "name": "stderr",
     "output_type": "stream",
     "text": [
      "Evaluating: 100%|██████████| 9981/9981 [00:01<00:00, 9183.81it/s] \n"
     ]
    },
    {
     "name": "stdout",
     "output_type": "stream",
     "text": [
      "Train: 0.9250| Val: 0.6780| Test: 0.6750| Eval Time: 1.0939s\n",
      "Epoch 28| Loss: 0.4911| Acc: 0.9333| Train Time: 0.2294s\n"
     ]
    },
    {
     "name": "stderr",
     "output_type": "stream",
     "text": [
      "Evaluating: 100%|██████████| 9981/9981 [00:01<00:00, 6854.45it/s] \n"
     ]
    },
    {
     "name": "stdout",
     "output_type": "stream",
     "text": [
      "Train: 0.9167| Val: 0.6740| Test: 0.6690| Eval Time: 1.4641s\n",
      "Epoch 29| Loss: 0.3257| Acc: 0.9500| Train Time: 0.2269s\n"
     ]
    },
    {
     "name": "stderr",
     "output_type": "stream",
     "text": [
      "Evaluating: 100%|██████████| 9981/9981 [00:01<00:00, 6762.77it/s] \n"
     ]
    },
    {
     "name": "stdout",
     "output_type": "stream",
     "text": [
      "Train: 0.9167| Val: 0.6680| Test: 0.6600| Eval Time: 1.4824s\n",
      "Epoch 30| Loss: 0.4665| Acc: 0.9667| Train Time: 0.3044s\n"
     ]
    },
    {
     "name": "stderr",
     "output_type": "stream",
     "text": [
      "Evaluating: 100%|██████████| 9981/9981 [00:01<00:00, 6849.11it/s] \n"
     ]
    },
    {
     "name": "stdout",
     "output_type": "stream",
     "text": [
      "Train: 0.9167| Val: 0.6700| Test: 0.6520| Eval Time: 1.4708s\n",
      "Epoch 31| Loss: 0.2551| Acc: 0.9500| Train Time: 0.2396s\n"
     ]
    },
    {
     "name": "stderr",
     "output_type": "stream",
     "text": [
      "Evaluating: 100%|██████████| 9981/9981 [00:01<00:00, 6811.55it/s] \n"
     ]
    },
    {
     "name": "stdout",
     "output_type": "stream",
     "text": [
      "Train: 0.9167| Val: 0.6540| Test: 0.6490| Eval Time: 1.4734s\n",
      "Epoch 32| Loss: 0.4807| Acc: 0.9667| Train Time: 0.2226s\n"
     ]
    },
    {
     "name": "stderr",
     "output_type": "stream",
     "text": [
      "Evaluating: 100%|██████████| 9981/9981 [00:01<00:00, 7341.23it/s] \n"
     ]
    },
    {
     "name": "stdout",
     "output_type": "stream",
     "text": [
      "Train: 0.9167| Val: 0.6540| Test: 0.6480| Eval Time: 1.3692s\n",
      "Epoch 33| Loss: 1.0418| Acc: 0.9583| Train Time: 0.2356s\n"
     ]
    },
    {
     "name": "stderr",
     "output_type": "stream",
     "text": [
      "Evaluating: 100%|██████████| 9981/9981 [00:01<00:00, 7250.34it/s] \n"
     ]
    },
    {
     "name": "stdout",
     "output_type": "stream",
     "text": [
      "Train: 0.9250| Val: 0.6580| Test: 0.6490| Eval Time: 1.3822s\n",
      "Epoch 34| Loss: 0.2268| Acc: 0.9500| Train Time: 0.2888s\n"
     ]
    },
    {
     "name": "stderr",
     "output_type": "stream",
     "text": [
      "Evaluating: 100%|██████████| 9981/9981 [00:01<00:00, 7118.80it/s] \n"
     ]
    },
    {
     "name": "stdout",
     "output_type": "stream",
     "text": [
      "Train: 0.9250| Val: 0.6520| Test: 0.6500| Eval Time: 1.4080s\n",
      "Epoch 35| Loss: 0.5764| Acc: 0.9500| Train Time: 0.2952s\n"
     ]
    },
    {
     "name": "stderr",
     "output_type": "stream",
     "text": [
      "Evaluating: 100%|██████████| 9981/9981 [00:01<00:00, 7192.92it/s] \n"
     ]
    },
    {
     "name": "stdout",
     "output_type": "stream",
     "text": [
      "Train: 0.9167| Val: 0.6520| Test: 0.6490| Eval Time: 1.3956s\n",
      "Epoch 36| Loss: 0.9237| Acc: 0.9417| Train Time: 0.2304s\n"
     ]
    },
    {
     "name": "stderr",
     "output_type": "stream",
     "text": [
      "Evaluating: 100%|██████████| 9981/9981 [00:01<00:00, 6848.21it/s] \n"
     ]
    },
    {
     "name": "stdout",
     "output_type": "stream",
     "text": [
      "Train: 0.9083| Val: 0.6440| Test: 0.6430| Eval Time: 1.4640s\n",
      "\n",
      "Result of  3. run| Train: 0.8750| Val: 0.6960| Test: 0.6440\n",
      "\n",
      "Run 04 for GatV1_K7_D3_s and CiteSeer:\n"
     ]
    },
    {
     "name": "stderr",
     "output_type": "stream",
     "text": [
      "Epoch 01: 100%|██████████| 120/120 [00:00<00:00, 520.61it/s]\n"
     ]
    },
    {
     "name": "stdout",
     "output_type": "stream",
     "text": [
      "Epoch 01| Loss: 2.9711| Acc: 0.1250| Train Time: 0.2340s\n"
     ]
    },
    {
     "name": "stderr",
     "output_type": "stream",
     "text": [
      "Evaluating: 100%|██████████| 9981/9981 [00:01<00:00, 6789.70it/s] \n"
     ]
    },
    {
     "name": "stdout",
     "output_type": "stream",
     "text": [
      "Train: 0.7000| Val: 0.4220| Test: 0.4250| Eval Time: 1.4769s\n",
      "Epoch 02| Loss: 1.8513| Acc: 0.5583| Train Time: 0.2980s\n"
     ]
    },
    {
     "name": "stderr",
     "output_type": "stream",
     "text": [
      "Evaluating: 100%|██████████| 9981/9981 [00:01<00:00, 6817.59it/s] \n"
     ]
    },
    {
     "name": "stdout",
     "output_type": "stream",
     "text": [
      "Train: 0.8417| Val: 0.6620| Test: 0.6420| Eval Time: 1.4764s\n",
      "Epoch 03| Loss: 1.6800| Acc: 0.6333| Train Time: 0.2374s\n"
     ]
    },
    {
     "name": "stderr",
     "output_type": "stream",
     "text": [
      "Evaluating: 100%|██████████| 9981/9981 [00:01<00:00, 6883.23it/s] \n"
     ]
    },
    {
     "name": "stdout",
     "output_type": "stream",
     "text": [
      "Train: 0.8500| Val: 0.6540| Test: 0.6600| Eval Time: 1.4625s\n",
      "Epoch 04| Loss: 1.9519| Acc: 0.6750| Train Time: 0.2293s\n"
     ]
    },
    {
     "name": "stderr",
     "output_type": "stream",
     "text": [
      "Evaluating: 100%|██████████| 9981/9981 [00:01<00:00, 6748.64it/s] \n"
     ]
    },
    {
     "name": "stdout",
     "output_type": "stream",
     "text": [
      "Train: 0.8583| Val: 0.6800| Test: 0.6750| Eval Time: 1.4851s\n",
      "Epoch 05| Loss: 1.5944| Acc: 0.7083| Train Time: 0.2214s\n"
     ]
    },
    {
     "name": "stderr",
     "output_type": "stream",
     "text": [
      "Evaluating: 100%|██████████| 9981/9981 [00:01<00:00, 7259.75it/s] \n"
     ]
    },
    {
     "name": "stdout",
     "output_type": "stream",
     "text": [
      "Train: 0.8667| Val: 0.6880| Test: 0.6840| Eval Time: 1.3808s\n",
      "Epoch 06| Loss: 1.4073| Acc: 0.7250| Train Time: 0.2278s\n"
     ]
    },
    {
     "name": "stderr",
     "output_type": "stream",
     "text": [
      "Evaluating: 100%|██████████| 9981/9981 [00:01<00:00, 6787.06it/s] \n"
     ]
    },
    {
     "name": "stdout",
     "output_type": "stream",
     "text": [
      "Train: 0.8667| Val: 0.6560| Test: 0.6700| Eval Time: 1.4760s\n",
      "Epoch 07| Loss: 1.9769| Acc: 0.7500| Train Time: 0.2892s\n"
     ]
    },
    {
     "name": "stderr",
     "output_type": "stream",
     "text": [
      "Evaluating: 100%|██████████| 9981/9981 [00:01<00:00, 7250.45it/s] \n"
     ]
    },
    {
     "name": "stdout",
     "output_type": "stream",
     "text": [
      "Train: 0.8583| Val: 0.6500| Test: 0.6650| Eval Time: 1.3891s\n",
      "Epoch 08| Loss: 0.7753| Acc: 0.8250| Train Time: 0.2285s\n"
     ]
    },
    {
     "name": "stderr",
     "output_type": "stream",
     "text": [
      "Evaluating: 100%|██████████| 9981/9981 [00:01<00:00, 6727.05it/s] \n"
     ]
    },
    {
     "name": "stdout",
     "output_type": "stream",
     "text": [
      "Train: 0.8750| Val: 0.6420| Test: 0.6520| Eval Time: 1.4893s\n",
      "Epoch 09| Loss: 1.2210| Acc: 0.8333| Train Time: 0.3131s\n"
     ]
    },
    {
     "name": "stderr",
     "output_type": "stream",
     "text": [
      "Evaluating: 100%|██████████| 9981/9981 [00:01<00:00, 7243.97it/s] \n"
     ]
    },
    {
     "name": "stdout",
     "output_type": "stream",
     "text": [
      "Train: 0.8583| Val: 0.6520| Test: 0.6510| Eval Time: 1.3848s\n",
      "Epoch 10| Loss: 1.1706| Acc: 0.8333| Train Time: 0.2315s\n"
     ]
    },
    {
     "name": "stderr",
     "output_type": "stream",
     "text": [
      "Evaluating: 100%|██████████| 9981/9981 [00:01<00:00, 6905.94it/s] \n"
     ]
    },
    {
     "name": "stdout",
     "output_type": "stream",
     "text": [
      "Train: 0.8667| Val: 0.6560| Test: 0.6530| Eval Time: 1.4553s\n",
      "Epoch 11| Loss: 1.6970| Acc: 0.8167| Train Time: 0.2330s\n"
     ]
    },
    {
     "name": "stderr",
     "output_type": "stream",
     "text": [
      "Evaluating: 100%|██████████| 9981/9981 [00:01<00:00, 7918.33it/s] \n"
     ]
    },
    {
     "name": "stdout",
     "output_type": "stream",
     "text": [
      "Train: 0.8667| Val: 0.6540| Test: 0.6490| Eval Time: 1.2671s\n",
      "Epoch 12| Loss: 0.9128| Acc: 0.8833| Train Time: 0.2142s\n"
     ]
    },
    {
     "name": "stderr",
     "output_type": "stream",
     "text": [
      "Evaluating: 100%|██████████| 9981/9981 [00:01<00:00, 7263.19it/s] \n"
     ]
    },
    {
     "name": "stdout",
     "output_type": "stream",
     "text": [
      "Train: 0.8667| Val: 0.6520| Test: 0.6410| Eval Time: 1.3839s\n",
      "Epoch 13| Loss: 1.4831| Acc: 0.8667| Train Time: 0.2276s\n"
     ]
    },
    {
     "name": "stderr",
     "output_type": "stream",
     "text": [
      "Evaluating: 100%|██████████| 9981/9981 [00:01<00:00, 6732.81it/s] \n"
     ]
    },
    {
     "name": "stdout",
     "output_type": "stream",
     "text": [
      "Train: 0.8917| Val: 0.6480| Test: 0.6320| Eval Time: 1.4882s\n",
      "Epoch 14| Loss: 0.9754| Acc: 0.8833| Train Time: 0.2893s\n"
     ]
    },
    {
     "name": "stderr",
     "output_type": "stream",
     "text": [
      "Evaluating: 100%|██████████| 9981/9981 [00:01<00:00, 7159.45it/s] \n"
     ]
    },
    {
     "name": "stdout",
     "output_type": "stream",
     "text": [
      "Train: 0.8833| Val: 0.6360| Test: 0.6310| Eval Time: 1.4031s\n",
      "Epoch 15| Loss: 1.5365| Acc: 0.8500| Train Time: 0.2208s\n"
     ]
    },
    {
     "name": "stderr",
     "output_type": "stream",
     "text": [
      "Evaluating: 100%|██████████| 9981/9981 [00:01<00:00, 6345.33it/s] \n"
     ]
    },
    {
     "name": "stdout",
     "output_type": "stream",
     "text": [
      "Train: 0.9083| Val: 0.6360| Test: 0.6330| Eval Time: 1.5791s\n",
      "Epoch 16| Loss: 0.6486| Acc: 0.8917| Train Time: 0.2261s\n"
     ]
    },
    {
     "name": "stderr",
     "output_type": "stream",
     "text": [
      "Evaluating: 100%|██████████| 9981/9981 [00:01<00:00, 6387.08it/s] \n"
     ]
    },
    {
     "name": "stdout",
     "output_type": "stream",
     "text": [
      "Train: 0.9000| Val: 0.6360| Test: 0.6400| Eval Time: 1.5695s\n",
      "Epoch 17| Loss: 0.8040| Acc: 0.8750| Train Time: 0.2222s\n"
     ]
    },
    {
     "name": "stderr",
     "output_type": "stream",
     "text": [
      "Evaluating: 100%|██████████| 9981/9981 [00:01<00:00, 7789.87it/s] \n"
     ]
    },
    {
     "name": "stdout",
     "output_type": "stream",
     "text": [
      "Train: 0.9083| Val: 0.6380| Test: 0.6460| Eval Time: 1.2865s\n",
      "Epoch 18| Loss: 0.6794| Acc: 0.9083| Train Time: 0.3010s\n"
     ]
    },
    {
     "name": "stderr",
     "output_type": "stream",
     "text": [
      "Evaluating: 100%|██████████| 9981/9981 [00:01<00:00, 7320.46it/s] \n"
     ]
    },
    {
     "name": "stdout",
     "output_type": "stream",
     "text": [
      "Train: 0.9083| Val: 0.6400| Test: 0.6500| Eval Time: 1.3733s\n",
      "Epoch 19| Loss: 1.7643| Acc: 0.9083| Train Time: 0.2212s\n"
     ]
    },
    {
     "name": "stderr",
     "output_type": "stream",
     "text": [
      "Evaluating: 100%|██████████| 9981/9981 [00:01<00:00, 7318.24it/s] \n"
     ]
    },
    {
     "name": "stdout",
     "output_type": "stream",
     "text": [
      "Train: 0.9000| Val: 0.6540| Test: 0.6600| Eval Time: 1.3768s\n",
      "Epoch 20| Loss: 1.2127| Acc: 0.8583| Train Time: 0.2250s\n"
     ]
    },
    {
     "name": "stderr",
     "output_type": "stream",
     "text": [
      "Evaluating: 100%|██████████| 9981/9981 [00:01<00:00, 6825.41it/s] \n"
     ]
    },
    {
     "name": "stdout",
     "output_type": "stream",
     "text": [
      "Train: 0.8917| Val: 0.6500| Test: 0.6590| Eval Time: 1.4784s\n",
      "Epoch 21| Loss: 1.3399| Acc: 0.9000| Train Time: 0.2264s\n"
     ]
    },
    {
     "name": "stderr",
     "output_type": "stream",
     "text": [
      "Evaluating: 100%|██████████| 9981/9981 [00:01<00:00, 6815.32it/s] \n"
     ]
    },
    {
     "name": "stdout",
     "output_type": "stream",
     "text": [
      "Train: 0.9083| Val: 0.6500| Test: 0.6510| Eval Time: 1.4784s\n",
      "Epoch 22| Loss: 0.8174| Acc: 0.9417| Train Time: 0.2334s\n"
     ]
    },
    {
     "name": "stderr",
     "output_type": "stream",
     "text": [
      "Evaluating: 100%|██████████| 9981/9981 [00:01<00:00, 7292.87it/s] \n"
     ]
    },
    {
     "name": "stdout",
     "output_type": "stream",
     "text": [
      "Train: 0.9167| Val: 0.6520| Test: 0.6420| Eval Time: 1.3755s\n",
      "Epoch 23| Loss: 0.9350| Acc: 0.8833| Train Time: 0.2213s\n"
     ]
    },
    {
     "name": "stderr",
     "output_type": "stream",
     "text": [
      "Evaluating: 100%|██████████| 9981/9981 [00:01<00:00, 7300.44it/s] \n"
     ]
    },
    {
     "name": "stdout",
     "output_type": "stream",
     "text": [
      "Train: 0.9167| Val: 0.6400| Test: 0.6390| Eval Time: 1.3735s\n",
      "Epoch 24| Loss: 0.6408| Acc: 0.9250| Train Time: 0.2235s\n"
     ]
    },
    {
     "name": "stderr",
     "output_type": "stream",
     "text": [
      "Evaluating: 100%|██████████| 9981/9981 [00:01<00:00, 7320.13it/s] \n"
     ]
    },
    {
     "name": "stdout",
     "output_type": "stream",
     "text": [
      "Train: 0.9167| Val: 0.6400| Test: 0.6370| Eval Time: 1.3693s\n",
      "Epoch 25| Loss: 0.7401| Acc: 0.9333| Train Time: 0.2198s\n"
     ]
    },
    {
     "name": "stderr",
     "output_type": "stream",
     "text": [
      "Evaluating: 100%|██████████| 9981/9981 [00:01<00:00, 6823.29it/s] \n"
     ]
    },
    {
     "name": "stdout",
     "output_type": "stream",
     "text": [
      "Train: 0.8917| Val: 0.6400| Test: 0.6430| Eval Time: 1.4733s\n",
      "Epoch 26| Loss: 0.5699| Acc: 0.9583| Train Time: 0.2254s\n"
     ]
    },
    {
     "name": "stderr",
     "output_type": "stream",
     "text": [
      "Evaluating: 100%|██████████| 9981/9981 [00:01<00:00, 6822.06it/s] \n"
     ]
    },
    {
     "name": "stdout",
     "output_type": "stream",
     "text": [
      "Train: 0.9000| Val: 0.6360| Test: 0.6420| Eval Time: 1.4748s\n",
      "Epoch 27| Loss: 1.0866| Acc: 0.9250| Train Time: 0.2382s\n"
     ]
    },
    {
     "name": "stderr",
     "output_type": "stream",
     "text": [
      "Evaluating: 100%|██████████| 9981/9981 [00:01<00:00, 6918.91it/s] \n"
     ]
    },
    {
     "name": "stdout",
     "output_type": "stream",
     "text": [
      "Train: 0.9000| Val: 0.6380| Test: 0.6380| Eval Time: 1.4554s\n",
      "Epoch 28| Loss: 0.5703| Acc: 0.9417| Train Time: 0.2364s\n"
     ]
    },
    {
     "name": "stderr",
     "output_type": "stream",
     "text": [
      "Evaluating: 100%|██████████| 9981/9981 [00:01<00:00, 7248.71it/s] \n"
     ]
    },
    {
     "name": "stdout",
     "output_type": "stream",
     "text": [
      "Train: 0.9000| Val: 0.6380| Test: 0.6390| Eval Time: 1.3837s\n",
      "Epoch 29| Loss: 0.9742| Acc: 0.9417| Train Time: 0.3088s\n"
     ]
    },
    {
     "name": "stderr",
     "output_type": "stream",
     "text": [
      "Evaluating: 100%|██████████| 9981/9981 [00:01<00:00, 7766.67it/s] \n"
     ]
    },
    {
     "name": "stdout",
     "output_type": "stream",
     "text": [
      "Train: 0.9000| Val: 0.6380| Test: 0.6410| Eval Time: 1.2920s\n",
      "Epoch 30| Loss: 0.7099| Acc: 0.9417| Train Time: 0.3085s\n"
     ]
    },
    {
     "name": "stderr",
     "output_type": "stream",
     "text": [
      "Evaluating: 100%|██████████| 9981/9981 [00:01<00:00, 6866.28it/s] \n"
     ]
    },
    {
     "name": "stdout",
     "output_type": "stream",
     "text": [
      "Train: 0.9083| Val: 0.6360| Test: 0.6450| Eval Time: 1.4664s\n",
      "Epoch 31| Loss: 1.2579| Acc: 0.9333| Train Time: 0.2315s\n"
     ]
    },
    {
     "name": "stderr",
     "output_type": "stream",
     "text": [
      "Evaluating: 100%|██████████| 9981/9981 [00:01<00:00, 6726.30it/s] \n"
     ]
    },
    {
     "name": "stdout",
     "output_type": "stream",
     "text": [
      "Train: 0.9167| Val: 0.6300| Test: 0.6420| Eval Time: 1.4902s\n",
      "Epoch 32| Loss: 0.9814| Acc: 0.9667| Train Time: 0.2908s\n"
     ]
    },
    {
     "name": "stderr",
     "output_type": "stream",
     "text": [
      "Evaluating: 100%|██████████| 9981/9981 [00:01<00:00, 7085.87it/s] \n"
     ]
    },
    {
     "name": "stdout",
     "output_type": "stream",
     "text": [
      "Train: 0.9250| Val: 0.6160| Test: 0.6390| Eval Time: 1.4756s\n",
      "Epoch 33| Loss: 0.5478| Acc: 0.9500| Train Time: 0.2379s\n"
     ]
    },
    {
     "name": "stderr",
     "output_type": "stream",
     "text": [
      "Evaluating: 100%|██████████| 9981/9981 [00:01<00:00, 6715.24it/s] \n"
     ]
    },
    {
     "name": "stdout",
     "output_type": "stream",
     "text": [
      "Train: 0.9250| Val: 0.6300| Test: 0.6460| Eval Time: 1.4940s\n",
      "Epoch 34| Loss: 0.2535| Acc: 0.9583| Train Time: 0.2879s\n"
     ]
    },
    {
     "name": "stderr",
     "output_type": "stream",
     "text": [
      "Evaluating: 100%|██████████| 9981/9981 [00:01<00:00, 7097.59it/s] \n"
     ]
    },
    {
     "name": "stdout",
     "output_type": "stream",
     "text": [
      "Train: 0.9333| Val: 0.6320| Test: 0.6440| Eval Time: 1.4144s\n",
      "Epoch 35| Loss: 0.6141| Acc: 0.9667| Train Time: 0.2828s\n"
     ]
    },
    {
     "name": "stderr",
     "output_type": "stream",
     "text": [
      "Evaluating: 100%|██████████| 9981/9981 [00:01<00:00, 6630.10it/s] \n"
     ]
    },
    {
     "name": "stdout",
     "output_type": "stream",
     "text": [
      "Train: 0.9250| Val: 0.6340| Test: 0.6400| Eval Time: 1.5134s\n",
      "\n",
      "Result of  4. run| Train: 0.8667| Val: 0.6880| Test: 0.6840\n",
      "\n",
      "Run 05 for GatV1_K7_D3_s and CiteSeer:\n"
     ]
    },
    {
     "name": "stderr",
     "output_type": "stream",
     "text": [
      "Epoch 01: 100%|██████████| 120/120 [00:00<00:00, 493.29it/s]\n"
     ]
    },
    {
     "name": "stdout",
     "output_type": "stream",
     "text": [
      "Epoch 01| Loss: 2.6884| Acc: 0.1833| Train Time: 0.3132s\n"
     ]
    },
    {
     "name": "stderr",
     "output_type": "stream",
     "text": [
      "Evaluating: 100%|██████████| 9981/9981 [00:01<00:00, 7248.82it/s] \n"
     ]
    },
    {
     "name": "stdout",
     "output_type": "stream",
     "text": [
      "Train: 0.7250| Val: 0.5700| Test: 0.5590| Eval Time: 1.4501s\n",
      "Epoch 02| Loss: 1.9034| Acc: 0.5500| Train Time: 0.2264s\n"
     ]
    },
    {
     "name": "stderr",
     "output_type": "stream",
     "text": [
      "Evaluating: 100%|██████████| 9981/9981 [00:01<00:00, 6339.19it/s] \n"
     ]
    },
    {
     "name": "stdout",
     "output_type": "stream",
     "text": [
      "Train: 0.7917| Val: 0.6820| Test: 0.6680| Eval Time: 1.5842s\n",
      "Epoch 03| Loss: 2.2413| Acc: 0.6583| Train Time: 0.2256s\n"
     ]
    },
    {
     "name": "stderr",
     "output_type": "stream",
     "text": [
      "Evaluating: 100%|██████████| 9981/9981 [00:01<00:00, 6723.58it/s] \n"
     ]
    },
    {
     "name": "stdout",
     "output_type": "stream",
     "text": [
      "Train: 0.8167| Val: 0.6920| Test: 0.6790| Eval Time: 1.4900s\n",
      "Epoch 04| Loss: 1.9938| Acc: 0.6667| Train Time: 0.3044s\n"
     ]
    },
    {
     "name": "stderr",
     "output_type": "stream",
     "text": [
      "Evaluating: 100%|██████████| 9981/9981 [00:01<00:00, 7123.03it/s] \n"
     ]
    },
    {
     "name": "stdout",
     "output_type": "stream",
     "text": [
      "Train: 0.8167| Val: 0.6860| Test: 0.6780| Eval Time: 1.4677s\n",
      "Epoch 05| Loss: 2.1837| Acc: 0.6500| Train Time: 0.2287s\n"
     ]
    },
    {
     "name": "stderr",
     "output_type": "stream",
     "text": [
      "Evaluating: 100%|██████████| 9981/9981 [00:01<00:00, 6804.53it/s] \n"
     ]
    },
    {
     "name": "stdout",
     "output_type": "stream",
     "text": [
      "Train: 0.8083| Val: 0.6900| Test: 0.6790| Eval Time: 1.4792s\n",
      "Epoch 06| Loss: 2.3904| Acc: 0.7583| Train Time: 0.2307s\n"
     ]
    },
    {
     "name": "stderr",
     "output_type": "stream",
     "text": [
      "Evaluating: 100%|██████████| 9981/9981 [00:01<00:00, 6781.40it/s] \n"
     ]
    },
    {
     "name": "stdout",
     "output_type": "stream",
     "text": [
      "Train: 0.8250| Val: 0.6420| Test: 0.6690| Eval Time: 1.4824s\n",
      "Epoch 07| Loss: 1.7573| Acc: 0.7583| Train Time: 0.2318s\n"
     ]
    },
    {
     "name": "stderr",
     "output_type": "stream",
     "text": [
      "Evaluating: 100%|██████████| 9981/9981 [00:01<00:00, 7340.03it/s] \n"
     ]
    },
    {
     "name": "stdout",
     "output_type": "stream",
     "text": [
      "Train: 0.8500| Val: 0.6540| Test: 0.6580| Eval Time: 1.3659s\n",
      "Epoch 08| Loss: 2.2549| Acc: 0.8250| Train Time: 0.2322s\n"
     ]
    },
    {
     "name": "stderr",
     "output_type": "stream",
     "text": [
      "Evaluating: 100%|██████████| 9981/9981 [00:01<00:00, 6753.09it/s] \n"
     ]
    },
    {
     "name": "stdout",
     "output_type": "stream",
     "text": [
      "Train: 0.8750| Val: 0.6520| Test: 0.6530| Eval Time: 1.5440s\n",
      "Epoch 09| Loss: 1.9252| Acc: 0.7750| Train Time: 0.1981s\n"
     ]
    },
    {
     "name": "stderr",
     "output_type": "stream",
     "text": [
      "Evaluating: 100%|██████████| 9981/9981 [00:01<00:00, 7047.38it/s] \n"
     ]
    },
    {
     "name": "stdout",
     "output_type": "stream",
     "text": [
      "Train: 0.8750| Val: 0.6600| Test: 0.6600| Eval Time: 1.4238s\n",
      "Epoch 10| Loss: 1.3969| Acc: 0.8500| Train Time: 0.2243s\n"
     ]
    },
    {
     "name": "stderr",
     "output_type": "stream",
     "text": [
      "Evaluating: 100%|██████████| 9981/9981 [00:01<00:00, 6745.01it/s] \n"
     ]
    },
    {
     "name": "stdout",
     "output_type": "stream",
     "text": [
      "Train: 0.8750| Val: 0.6620| Test: 0.6640| Eval Time: 1.4850s\n",
      "Epoch 11| Loss: 1.7801| Acc: 0.8750| Train Time: 0.2862s\n"
     ]
    },
    {
     "name": "stderr",
     "output_type": "stream",
     "text": [
      "Evaluating: 100%|██████████| 9981/9981 [00:01<00:00, 7266.66it/s] \n"
     ]
    },
    {
     "name": "stdout",
     "output_type": "stream",
     "text": [
      "Train: 0.9000| Val: 0.6580| Test: 0.6610| Eval Time: 1.3866s\n",
      "Epoch 12| Loss: 0.4237| Acc: 0.8917| Train Time: 0.2254s\n"
     ]
    },
    {
     "name": "stderr",
     "output_type": "stream",
     "text": [
      "Evaluating: 100%|██████████| 9981/9981 [00:01<00:00, 6269.48it/s] \n"
     ]
    },
    {
     "name": "stdout",
     "output_type": "stream",
     "text": [
      "Train: 0.9083| Val: 0.6680| Test: 0.6610| Eval Time: 1.5987s\n",
      "Epoch 13| Loss: 0.8884| Acc: 0.9333| Train Time: 0.2399s\n"
     ]
    },
    {
     "name": "stderr",
     "output_type": "stream",
     "text": [
      "Evaluating: 100%|██████████| 9981/9981 [00:01<00:00, 6777.74it/s] \n"
     ]
    },
    {
     "name": "stdout",
     "output_type": "stream",
     "text": [
      "Train: 0.9000| Val: 0.6580| Test: 0.6560| Eval Time: 1.4813s\n",
      "Epoch 14| Loss: 0.9939| Acc: 0.8917| Train Time: 0.2339s\n"
     ]
    },
    {
     "name": "stderr",
     "output_type": "stream",
     "text": [
      "Evaluating: 100%|██████████| 9981/9981 [00:01<00:00, 6857.48it/s] \n"
     ]
    },
    {
     "name": "stdout",
     "output_type": "stream",
     "text": [
      "Train: 0.8833| Val: 0.6500| Test: 0.6540| Eval Time: 1.4641s\n",
      "Epoch 15| Loss: 1.3619| Acc: 0.8667| Train Time: 0.2235s\n"
     ]
    },
    {
     "name": "stderr",
     "output_type": "stream",
     "text": [
      "Evaluating: 100%|██████████| 9981/9981 [00:01<00:00, 7172.63it/s] \n"
     ]
    },
    {
     "name": "stdout",
     "output_type": "stream",
     "text": [
      "Train: 0.8833| Val: 0.6380| Test: 0.6540| Eval Time: 1.4609s\n",
      "Epoch 16| Loss: 1.6983| Acc: 0.8750| Train Time: 0.2353s\n"
     ]
    },
    {
     "name": "stderr",
     "output_type": "stream",
     "text": [
      "Evaluating: 100%|██████████| 9981/9981 [00:01<00:00, 7379.84it/s] \n"
     ]
    },
    {
     "name": "stdout",
     "output_type": "stream",
     "text": [
      "Train: 0.9000| Val: 0.6460| Test: 0.6560| Eval Time: 1.3590s\n",
      "Epoch 17| Loss: 1.3192| Acc: 0.9000| Train Time: 0.2271s\n"
     ]
    },
    {
     "name": "stderr",
     "output_type": "stream",
     "text": [
      "Evaluating: 100%|██████████| 9981/9981 [00:01<00:00, 6355.92it/s] \n"
     ]
    },
    {
     "name": "stdout",
     "output_type": "stream",
     "text": [
      "Train: 0.8917| Val: 0.6380| Test: 0.6550| Eval Time: 1.5808s\n",
      "Epoch 18| Loss: 2.0026| Acc: 0.8583| Train Time: 0.2298s\n"
     ]
    },
    {
     "name": "stderr",
     "output_type": "stream",
     "text": [
      "Evaluating: 100%|██████████| 9981/9981 [00:01<00:00, 6324.94it/s] \n"
     ]
    },
    {
     "name": "stdout",
     "output_type": "stream",
     "text": [
      "Train: 0.9083| Val: 0.6480| Test: 0.6580| Eval Time: 1.5845s\n",
      "Epoch 19| Loss: 1.4209| Acc: 0.8583| Train Time: 0.2259s\n"
     ]
    },
    {
     "name": "stderr",
     "output_type": "stream",
     "text": [
      "Evaluating: 100%|██████████| 9981/9981 [00:01<00:00, 6782.82it/s] \n"
     ]
    },
    {
     "name": "stdout",
     "output_type": "stream",
     "text": [
      "Train: 0.9167| Val: 0.6640| Test: 0.6710| Eval Time: 1.4788s\n",
      "Epoch 20| Loss: 1.0261| Acc: 0.8583| Train Time: 0.2913s\n"
     ]
    },
    {
     "name": "stderr",
     "output_type": "stream",
     "text": [
      "Evaluating: 100%|██████████| 9981/9981 [00:01<00:00, 8413.81it/s] \n"
     ]
    },
    {
     "name": "stdout",
     "output_type": "stream",
     "text": [
      "Train: 0.9167| Val: 0.6700| Test: 0.6790| Eval Time: 1.1945s\n",
      "Epoch 21| Loss: 0.5573| Acc: 0.9500| Train Time: 0.2192s\n"
     ]
    },
    {
     "name": "stderr",
     "output_type": "stream",
     "text": [
      "Evaluating: 100%|██████████| 9981/9981 [00:01<00:00, 7339.60it/s] \n"
     ]
    },
    {
     "name": "stdout",
     "output_type": "stream",
     "text": [
      "Train: 0.9083| Val: 0.6680| Test: 0.6820| Eval Time: 1.3712s\n",
      "Epoch 22| Loss: 0.4330| Acc: 0.9417| Train Time: 0.2339s\n"
     ]
    },
    {
     "name": "stderr",
     "output_type": "stream",
     "text": [
      "Evaluating: 100%|██████████| 9981/9981 [00:01<00:00, 7269.66it/s] \n"
     ]
    },
    {
     "name": "stdout",
     "output_type": "stream",
     "text": [
      "Train: 0.9083| Val: 0.6700| Test: 0.6870| Eval Time: 1.3798s\n",
      "Epoch 23| Loss: 0.4576| Acc: 0.9167| Train Time: 0.2250s\n"
     ]
    },
    {
     "name": "stderr",
     "output_type": "stream",
     "text": [
      "Evaluating: 100%|██████████| 9981/9981 [00:01<00:00, 7229.79it/s] \n"
     ]
    },
    {
     "name": "stdout",
     "output_type": "stream",
     "text": [
      "Train: 0.9083| Val: 0.6680| Test: 0.6860| Eval Time: 1.4526s\n",
      "Epoch 24| Loss: 0.7702| Acc: 0.9250| Train Time: 0.2336s\n"
     ]
    },
    {
     "name": "stderr",
     "output_type": "stream",
     "text": [
      "Evaluating: 100%|██████████| 9981/9981 [00:01<00:00, 7177.17it/s] \n"
     ]
    },
    {
     "name": "stdout",
     "output_type": "stream",
     "text": [
      "Train: 0.9083| Val: 0.6600| Test: 0.6780| Eval Time: 1.3974s\n",
      "Epoch 25| Loss: 0.4684| Acc: 0.8833| Train Time: 0.2944s\n"
     ]
    },
    {
     "name": "stderr",
     "output_type": "stream",
     "text": [
      "Evaluating: 100%|██████████| 9981/9981 [00:01<00:00, 6723.91it/s] \n"
     ]
    },
    {
     "name": "stdout",
     "output_type": "stream",
     "text": [
      "Train: 0.9167| Val: 0.6540| Test: 0.6760| Eval Time: 1.4932s\n",
      "Epoch 26| Loss: 0.4363| Acc: 0.9167| Train Time: 0.2277s\n"
     ]
    },
    {
     "name": "stderr",
     "output_type": "stream",
     "text": [
      "Evaluating: 100%|██████████| 9981/9981 [00:01<00:00, 7301.56it/s] \n"
     ]
    },
    {
     "name": "stdout",
     "output_type": "stream",
     "text": [
      "Train: 0.9167| Val: 0.6520| Test: 0.6690| Eval Time: 1.3735s\n",
      "Epoch 27| Loss: 0.7717| Acc: 0.9333| Train Time: 0.2265s\n"
     ]
    },
    {
     "name": "stderr",
     "output_type": "stream",
     "text": [
      "Evaluating: 100%|██████████| 9981/9981 [00:01<00:00, 6836.55it/s] \n"
     ]
    },
    {
     "name": "stdout",
     "output_type": "stream",
     "text": [
      "Train: 0.9250| Val: 0.6520| Test: 0.6690| Eval Time: 1.4675s\n",
      "Epoch 28| Loss: 0.1706| Acc: 0.9750| Train Time: 0.2268s\n"
     ]
    },
    {
     "name": "stderr",
     "output_type": "stream",
     "text": [
      "Evaluating: 100%|██████████| 9981/9981 [00:01<00:00, 6745.34it/s] \n"
     ]
    },
    {
     "name": "stdout",
     "output_type": "stream",
     "text": [
      "Train: 0.9250| Val: 0.6520| Test: 0.6680| Eval Time: 1.4857s\n",
      "Epoch 29| Loss: 1.1045| Acc: 0.9500| Train Time: 0.2271s\n"
     ]
    },
    {
     "name": "stderr",
     "output_type": "stream",
     "text": [
      "Evaluating: 100%|██████████| 9981/9981 [00:01<00:00, 6718.37it/s] \n"
     ]
    },
    {
     "name": "stdout",
     "output_type": "stream",
     "text": [
      "Train: 0.9417| Val: 0.6500| Test: 0.6700| Eval Time: 1.4924s\n",
      "Epoch 30| Loss: 0.9966| Acc: 0.8917| Train Time: 0.2238s\n"
     ]
    },
    {
     "name": "stderr",
     "output_type": "stream",
     "text": [
      "Evaluating: 100%|██████████| 9981/9981 [00:01<00:00, 6854.33it/s] \n"
     ]
    },
    {
     "name": "stdout",
     "output_type": "stream",
     "text": [
      "Train: 0.9500| Val: 0.6480| Test: 0.6680| Eval Time: 1.4729s\n",
      "Epoch 31| Loss: 0.6778| Acc: 0.9500| Train Time: 0.2262s\n"
     ]
    },
    {
     "name": "stderr",
     "output_type": "stream",
     "text": [
      "Evaluating: 100%|██████████| 9981/9981 [00:01<00:00, 6768.43it/s] \n"
     ]
    },
    {
     "name": "stdout",
     "output_type": "stream",
     "text": [
      "Train: 0.9500| Val: 0.6440| Test: 0.6630| Eval Time: 1.4836s\n",
      "Epoch 32| Loss: 0.3601| Acc: 0.9667| Train Time: 0.2322s\n"
     ]
    },
    {
     "name": "stderr",
     "output_type": "stream",
     "text": [
      "Evaluating: 100%|██████████| 9981/9981 [00:01<00:00, 6819.85it/s] \n"
     ]
    },
    {
     "name": "stdout",
     "output_type": "stream",
     "text": [
      "Train: 0.9333| Val: 0.6460| Test: 0.6580| Eval Time: 1.4695s\n",
      "Epoch 33| Loss: 0.4511| Acc: 0.9500| Train Time: 0.2115s\n"
     ]
    },
    {
     "name": "stderr",
     "output_type": "stream",
     "text": [
      "Evaluating: 100%|██████████| 9981/9981 [00:01<00:00, 6697.98it/s] \n"
     ]
    },
    {
     "name": "stdout",
     "output_type": "stream",
     "text": [
      "Train: 0.9417| Val: 0.6460| Test: 0.6560| Eval Time: 1.5606s\n",
      "\n",
      "Result of  5. run| Train: 0.8167| Val: 0.6920| Test: 0.6790\n",
      "\n",
      "Run 06 for GatV1_K7_D3_s and CiteSeer:\n"
     ]
    },
    {
     "name": "stderr",
     "output_type": "stream",
     "text": [
      "Epoch 01: 100%|██████████| 120/120 [00:00<00:00, 537.68it/s]\n"
     ]
    },
    {
     "name": "stdout",
     "output_type": "stream",
     "text": [
      "Epoch 01| Loss: 2.3060| Acc: 0.2500| Train Time: 0.2285s\n"
     ]
    },
    {
     "name": "stderr",
     "output_type": "stream",
     "text": [
      "Evaluating: 100%|██████████| 9981/9981 [00:01<00:00, 7160.24it/s] \n"
     ]
    },
    {
     "name": "stdout",
     "output_type": "stream",
     "text": [
      "Train: 0.6750| Val: 0.5720| Test: 0.5780| Eval Time: 1.4010s\n",
      "Epoch 02| Loss: 1.8289| Acc: 0.5917| Train Time: 0.2299s\n"
     ]
    },
    {
     "name": "stderr",
     "output_type": "stream",
     "text": [
      "Evaluating: 100%|██████████| 9981/9981 [00:01<00:00, 7152.23it/s] \n"
     ]
    },
    {
     "name": "stdout",
     "output_type": "stream",
     "text": [
      "Train: 0.7500| Val: 0.6520| Test: 0.6280| Eval Time: 1.4030s\n",
      "Epoch 03| Loss: 2.1837| Acc: 0.5917| Train Time: 0.2814s\n"
     ]
    },
    {
     "name": "stderr",
     "output_type": "stream",
     "text": [
      "Evaluating: 100%|██████████| 9981/9981 [00:01<00:00, 6658.14it/s] \n"
     ]
    },
    {
     "name": "stdout",
     "output_type": "stream",
     "text": [
      "Train: 0.8167| Val: 0.6340| Test: 0.6270| Eval Time: 1.5064s\n",
      "Epoch 04| Loss: 1.5688| Acc: 0.6917| Train Time: 0.2147s\n"
     ]
    },
    {
     "name": "stderr",
     "output_type": "stream",
     "text": [
      "Evaluating: 100%|██████████| 9981/9981 [00:01<00:00, 6379.80it/s] \n"
     ]
    },
    {
     "name": "stdout",
     "output_type": "stream",
     "text": [
      "Train: 0.8333| Val: 0.6380| Test: 0.6250| Eval Time: 1.5699s\n",
      "Epoch 05| Loss: 2.0287| Acc: 0.6917| Train Time: 0.2307s\n"
     ]
    },
    {
     "name": "stderr",
     "output_type": "stream",
     "text": [
      "Evaluating: 100%|██████████| 9981/9981 [00:01<00:00, 6710.92it/s] \n"
     ]
    },
    {
     "name": "stdout",
     "output_type": "stream",
     "text": [
      "Train: 0.8167| Val: 0.6500| Test: 0.6200| Eval Time: 1.4955s\n",
      "Epoch 06| Loss: 1.9527| Acc: 0.6750| Train Time: 0.2204s\n"
     ]
    },
    {
     "name": "stderr",
     "output_type": "stream",
     "text": [
      "Evaluating: 100%|██████████| 9981/9981 [00:01<00:00, 6753.49it/s] \n"
     ]
    },
    {
     "name": "stdout",
     "output_type": "stream",
     "text": [
      "Train: 0.8417| Val: 0.6500| Test: 0.6210| Eval Time: 1.4897s\n",
      "Epoch 07| Loss: 1.8613| Acc: 0.7750| Train Time: 0.2307s\n"
     ]
    },
    {
     "name": "stderr",
     "output_type": "stream",
     "text": [
      "Evaluating: 100%|██████████| 9981/9981 [00:01<00:00, 6838.69it/s] \n"
     ]
    },
    {
     "name": "stdout",
     "output_type": "stream",
     "text": [
      "Train: 0.8500| Val: 0.6300| Test: 0.6310| Eval Time: 1.4670s\n",
      "Epoch 08| Loss: 1.6073| Acc: 0.7833| Train Time: 0.2098s\n"
     ]
    },
    {
     "name": "stderr",
     "output_type": "stream",
     "text": [
      "Evaluating: 100%|██████████| 9981/9981 [00:01<00:00, 6698.95it/s] \n"
     ]
    },
    {
     "name": "stdout",
     "output_type": "stream",
     "text": [
      "Train: 0.8500| Val: 0.6260| Test: 0.6440| Eval Time: 1.4963s\n",
      "Epoch 09| Loss: 1.6125| Acc: 0.8083| Train Time: 0.2239s\n"
     ]
    },
    {
     "name": "stderr",
     "output_type": "stream",
     "text": [
      "Evaluating: 100%|██████████| 9981/9981 [00:01<00:00, 6395.65it/s] \n"
     ]
    },
    {
     "name": "stdout",
     "output_type": "stream",
     "text": [
      "Train: 0.8667| Val: 0.6240| Test: 0.6370| Eval Time: 1.5721s\n",
      "Epoch 10| Loss: 2.9623| Acc: 0.8000| Train Time: 0.2257s\n"
     ]
    },
    {
     "name": "stderr",
     "output_type": "stream",
     "text": [
      "Evaluating: 100%|██████████| 9981/9981 [00:01<00:00, 7151.85it/s] \n"
     ]
    },
    {
     "name": "stdout",
     "output_type": "stream",
     "text": [
      "Train: 0.8750| Val: 0.6280| Test: 0.6490| Eval Time: 1.4724s\n",
      "Epoch 11| Loss: 1.9785| Acc: 0.8000| Train Time: 0.2300s\n"
     ]
    },
    {
     "name": "stderr",
     "output_type": "stream",
     "text": [
      "Evaluating: 100%|██████████| 9981/9981 [00:01<00:00, 6744.74it/s] \n"
     ]
    },
    {
     "name": "stdout",
     "output_type": "stream",
     "text": [
      "Train: 0.8667| Val: 0.6200| Test: 0.6510| Eval Time: 1.4875s\n",
      "Epoch 12| Loss: 1.3217| Acc: 0.8333| Train Time: 0.3006s\n"
     ]
    },
    {
     "name": "stderr",
     "output_type": "stream",
     "text": [
      "Evaluating: 100%|██████████| 9981/9981 [00:01<00:00, 7722.40it/s] \n"
     ]
    },
    {
     "name": "stdout",
     "output_type": "stream",
     "text": [
      "Train: 0.8583| Val: 0.6320| Test: 0.6570| Eval Time: 1.3006s\n",
      "Epoch 13| Loss: 1.3819| Acc: 0.8583| Train Time: 0.2980s\n"
     ]
    },
    {
     "name": "stderr",
     "output_type": "stream",
     "text": [
      "Evaluating: 100%|██████████| 9981/9981 [00:01<00:00, 6680.97it/s] \n"
     ]
    },
    {
     "name": "stdout",
     "output_type": "stream",
     "text": [
      "Train: 0.8750| Val: 0.6460| Test: 0.6620| Eval Time: 1.5000s\n",
      "Epoch 14| Loss: 2.6695| Acc: 0.8500| Train Time: 0.2993s\n"
     ]
    },
    {
     "name": "stderr",
     "output_type": "stream",
     "text": [
      "Evaluating: 100%|██████████| 9981/9981 [00:01<00:00, 6715.74it/s] \n"
     ]
    },
    {
     "name": "stdout",
     "output_type": "stream",
     "text": [
      "Train: 0.8667| Val: 0.6580| Test: 0.6590| Eval Time: 1.4951s\n",
      "Epoch 15| Loss: 1.4177| Acc: 0.8833| Train Time: 0.2211s\n"
     ]
    },
    {
     "name": "stderr",
     "output_type": "stream",
     "text": [
      "Evaluating: 100%|██████████| 9981/9981 [00:01<00:00, 6410.06it/s] \n"
     ]
    },
    {
     "name": "stdout",
     "output_type": "stream",
     "text": [
      "Train: 0.8750| Val: 0.6580| Test: 0.6560| Eval Time: 1.5666s\n",
      "Epoch 16| Loss: 1.1790| Acc: 0.8750| Train Time: 0.2321s\n"
     ]
    },
    {
     "name": "stderr",
     "output_type": "stream",
     "text": [
      "Evaluating: 100%|██████████| 9981/9981 [00:01<00:00, 6424.43it/s] \n"
     ]
    },
    {
     "name": "stdout",
     "output_type": "stream",
     "text": [
      "Train: 0.8833| Val: 0.6560| Test: 0.6470| Eval Time: 1.5646s\n",
      "Epoch 17| Loss: 1.9135| Acc: 0.8500| Train Time: 0.2323s\n"
     ]
    },
    {
     "name": "stderr",
     "output_type": "stream",
     "text": [
      "Evaluating: 100%|██████████| 9981/9981 [00:01<00:00, 6358.87it/s] \n"
     ]
    },
    {
     "name": "stdout",
     "output_type": "stream",
     "text": [
      "Train: 0.8917| Val: 0.6520| Test: 0.6430| Eval Time: 1.5784s\n",
      "Epoch 18| Loss: 2.3526| Acc: 0.8833| Train Time: 0.2323s\n"
     ]
    },
    {
     "name": "stderr",
     "output_type": "stream",
     "text": [
      "Evaluating: 100%|██████████| 9981/9981 [00:01<00:00, 6351.84it/s] \n"
     ]
    },
    {
     "name": "stdout",
     "output_type": "stream",
     "text": [
      "Train: 0.9167| Val: 0.6520| Test: 0.6490| Eval Time: 1.6470s\n",
      "Epoch 19| Loss: 2.5437| Acc: 0.8833| Train Time: 0.2442s\n"
     ]
    },
    {
     "name": "stderr",
     "output_type": "stream",
     "text": [
      "Evaluating: 100%|██████████| 9981/9981 [00:01<00:00, 6836.84it/s] \n"
     ]
    },
    {
     "name": "stdout",
     "output_type": "stream",
     "text": [
      "Train: 0.9250| Val: 0.6600| Test: 0.6470| Eval Time: 1.4685s\n",
      "Epoch 20| Loss: 1.8828| Acc: 0.8750| Train Time: 0.2260s\n"
     ]
    },
    {
     "name": "stderr",
     "output_type": "stream",
     "text": [
      "Evaluating: 100%|██████████| 9981/9981 [00:01<00:00, 7217.89it/s] \n"
     ]
    },
    {
     "name": "stdout",
     "output_type": "stream",
     "text": [
      "Train: 0.9250| Val: 0.6480| Test: 0.6480| Eval Time: 1.3882s\n",
      "Epoch 21| Loss: 0.5253| Acc: 0.9417| Train Time: 0.2911s\n"
     ]
    },
    {
     "name": "stderr",
     "output_type": "stream",
     "text": [
      "Evaluating: 100%|██████████| 9981/9981 [00:01<00:00, 6805.85it/s] \n"
     ]
    },
    {
     "name": "stdout",
     "output_type": "stream",
     "text": [
      "Train: 0.9250| Val: 0.6500| Test: 0.6530| Eval Time: 1.4804s\n",
      "Epoch 22| Loss: 1.3644| Acc: 0.9083| Train Time: 0.2256s\n"
     ]
    },
    {
     "name": "stderr",
     "output_type": "stream",
     "text": [
      "Evaluating: 100%|██████████| 9981/9981 [00:01<00:00, 6748.65it/s] \n"
     ]
    },
    {
     "name": "stdout",
     "output_type": "stream",
     "text": [
      "Train: 0.9000| Val: 0.6460| Test: 0.6400| Eval Time: 1.4875s\n",
      "Epoch 23| Loss: 0.4778| Acc: 0.9500| Train Time: 0.2267s\n"
     ]
    },
    {
     "name": "stderr",
     "output_type": "stream",
     "text": [
      "Evaluating: 100%|██████████| 9981/9981 [00:01<00:00, 6779.70it/s] \n"
     ]
    },
    {
     "name": "stdout",
     "output_type": "stream",
     "text": [
      "Train: 0.8917| Val: 0.6400| Test: 0.6380| Eval Time: 1.4782s\n",
      "Epoch 24| Loss: 0.7245| Acc: 0.9500| Train Time: 0.2230s\n"
     ]
    },
    {
     "name": "stderr",
     "output_type": "stream",
     "text": [
      "Evaluating: 100%|██████████| 9981/9981 [00:01<00:00, 7281.57it/s] \n"
     ]
    },
    {
     "name": "stdout",
     "output_type": "stream",
     "text": [
      "Train: 0.8833| Val: 0.6300| Test: 0.6380| Eval Time: 1.3761s\n",
      "Epoch 25| Loss: 2.6258| Acc: 0.8917| Train Time: 0.2246s\n"
     ]
    },
    {
     "name": "stderr",
     "output_type": "stream",
     "text": [
      "Evaluating: 100%|██████████| 9981/9981 [00:01<00:00, 6912.85it/s] \n"
     ]
    },
    {
     "name": "stdout",
     "output_type": "stream",
     "text": [
      "Train: 0.9083| Val: 0.6260| Test: 0.6430| Eval Time: 1.4611s\n",
      "Epoch 26| Loss: 2.0219| Acc: 0.9250| Train Time: 0.2425s\n"
     ]
    },
    {
     "name": "stderr",
     "output_type": "stream",
     "text": [
      "Evaluating: 100%|██████████| 9981/9981 [00:01<00:00, 7312.77it/s] \n"
     ]
    },
    {
     "name": "stdout",
     "output_type": "stream",
     "text": [
      "Train: 0.9083| Val: 0.6300| Test: 0.6450| Eval Time: 1.3716s\n",
      "Epoch 27| Loss: 0.6266| Acc: 0.9417| Train Time: 0.2166s\n"
     ]
    },
    {
     "name": "stderr",
     "output_type": "stream",
     "text": [
      "Evaluating: 100%|██████████| 9981/9981 [00:01<00:00, 6794.06it/s] \n"
     ]
    },
    {
     "name": "stdout",
     "output_type": "stream",
     "text": [
      "Train: 0.9083| Val: 0.6300| Test: 0.6420| Eval Time: 1.4752s\n",
      "Epoch 28| Loss: 0.5147| Acc: 0.9083| Train Time: 0.2324s\n"
     ]
    },
    {
     "name": "stderr",
     "output_type": "stream",
     "text": [
      "Evaluating: 100%|██████████| 9981/9981 [00:01<00:00, 7257.96it/s] \n"
     ]
    },
    {
     "name": "stdout",
     "output_type": "stream",
     "text": [
      "Train: 0.9167| Val: 0.6380| Test: 0.6470| Eval Time: 1.4465s\n",
      "Epoch 29| Loss: 0.8739| Acc: 0.9333| Train Time: 0.2322s\n"
     ]
    },
    {
     "name": "stderr",
     "output_type": "stream",
     "text": [
      "Evaluating: 100%|██████████| 9981/9981 [00:01<00:00, 7157.92it/s] \n"
     ]
    },
    {
     "name": "stdout",
     "output_type": "stream",
     "text": [
      "Train: 0.9083| Val: 0.6300| Test: 0.6420| Eval Time: 1.4011s\n",
      "Epoch 30| Loss: 0.0478| Acc: 0.9833| Train Time: 0.2913s\n"
     ]
    },
    {
     "name": "stderr",
     "output_type": "stream",
     "text": [
      "Evaluating: 100%|██████████| 9981/9981 [00:01<00:00, 6732.58it/s] \n"
     ]
    },
    {
     "name": "stdout",
     "output_type": "stream",
     "text": [
      "Train: 0.9083| Val: 0.6260| Test: 0.6350| Eval Time: 1.4916s\n",
      "Epoch 31| Loss: 0.8108| Acc: 0.9667| Train Time: 0.2112s\n"
     ]
    },
    {
     "name": "stderr",
     "output_type": "stream",
     "text": [
      "Evaluating: 100%|██████████| 9981/9981 [00:01<00:00, 6740.31it/s] \n"
     ]
    },
    {
     "name": "stdout",
     "output_type": "stream",
     "text": [
      "Train: 0.9083| Val: 0.6360| Test: 0.6400| Eval Time: 1.4882s\n",
      "Epoch 32| Loss: 0.7333| Acc: 0.9250| Train Time: 0.2297s\n"
     ]
    },
    {
     "name": "stderr",
     "output_type": "stream",
     "text": [
      "Evaluating: 100%|██████████| 9981/9981 [00:01<00:00, 7794.04it/s] \n"
     ]
    },
    {
     "name": "stdout",
     "output_type": "stream",
     "text": [
      "Train: 0.9083| Val: 0.6400| Test: 0.6390| Eval Time: 1.2860s\n",
      "Epoch 33| Loss: 0.5220| Acc: 0.9583| Train Time: 0.2212s\n"
     ]
    },
    {
     "name": "stderr",
     "output_type": "stream",
     "text": [
      "Evaluating: 100%|██████████| 9981/9981 [00:01<00:00, 7100.35it/s] \n"
     ]
    },
    {
     "name": "stdout",
     "output_type": "stream",
     "text": [
      "Train: 0.9083| Val: 0.6440| Test: 0.6370| Eval Time: 1.4123s\n",
      "Epoch 34| Loss: 0.1990| Acc: 0.9833| Train Time: 0.2715s\n"
     ]
    },
    {
     "name": "stderr",
     "output_type": "stream",
     "text": [
      "Evaluating: 100%|██████████| 9981/9981 [00:01<00:00, 7159.32it/s] \n"
     ]
    },
    {
     "name": "stdout",
     "output_type": "stream",
     "text": [
      "Train: 0.9250| Val: 0.6560| Test: 0.6410| Eval Time: 1.4087s\n",
      "Epoch 35| Loss: 0.4305| Acc: 0.9583| Train Time: 0.2333s\n"
     ]
    },
    {
     "name": "stderr",
     "output_type": "stream",
     "text": [
      "Evaluating: 100%|██████████| 9981/9981 [00:01<00:00, 6756.89it/s] \n"
     ]
    },
    {
     "name": "stdout",
     "output_type": "stream",
     "text": [
      "Train: 0.9167| Val: 0.6580| Test: 0.6460| Eval Time: 1.4833s\n",
      "Epoch 36| Loss: 0.1863| Acc: 0.9750| Train Time: 0.2962s\n"
     ]
    },
    {
     "name": "stderr",
     "output_type": "stream",
     "text": [
      "Evaluating: 100%|██████████| 9981/9981 [00:01<00:00, 6787.05it/s] \n"
     ]
    },
    {
     "name": "stdout",
     "output_type": "stream",
     "text": [
      "Train: 0.9083| Val: 0.6540| Test: 0.6500| Eval Time: 1.4820s\n",
      "Epoch 37| Loss: 0.1379| Acc: 0.9667| Train Time: 0.2274s\n"
     ]
    },
    {
     "name": "stderr",
     "output_type": "stream",
     "text": [
      "Evaluating: 100%|██████████| 9981/9981 [00:01<00:00, 7290.76it/s] \n"
     ]
    },
    {
     "name": "stdout",
     "output_type": "stream",
     "text": [
      "Train: 0.9083| Val: 0.6640| Test: 0.6510| Eval Time: 1.3779s\n",
      "Epoch 38| Loss: 0.4670| Acc: 0.9583| Train Time: 0.2184s\n"
     ]
    },
    {
     "name": "stderr",
     "output_type": "stream",
     "text": [
      "Evaluating: 100%|██████████| 9981/9981 [00:01<00:00, 7154.93it/s] \n"
     ]
    },
    {
     "name": "stdout",
     "output_type": "stream",
     "text": [
      "Train: 0.9000| Val: 0.6640| Test: 0.6490| Eval Time: 1.4710s\n",
      "Epoch 39| Loss: 0.1303| Acc: 0.9750| Train Time: 0.2377s\n"
     ]
    },
    {
     "name": "stderr",
     "output_type": "stream",
     "text": [
      "Evaluating: 100%|██████████| 9981/9981 [00:01<00:00, 6773.82it/s] \n"
     ]
    },
    {
     "name": "stdout",
     "output_type": "stream",
     "text": [
      "Train: 0.9250| Val: 0.6700| Test: 0.6500| Eval Time: 1.4806s\n",
      "Epoch 40| Loss: 0.0853| Acc: 0.9750| Train Time: 0.2130s\n"
     ]
    },
    {
     "name": "stderr",
     "output_type": "stream",
     "text": [
      "Evaluating: 100%|██████████| 9981/9981 [00:01<00:00, 6705.76it/s] \n"
     ]
    },
    {
     "name": "stdout",
     "output_type": "stream",
     "text": [
      "Train: 0.9333| Val: 0.6680| Test: 0.6490| Eval Time: 1.4955s\n",
      "Epoch 41| Loss: 0.7517| Acc: 0.9583| Train Time: 0.2932s\n"
     ]
    },
    {
     "name": "stderr",
     "output_type": "stream",
     "text": [
      "Evaluating: 100%|██████████| 9981/9981 [00:01<00:00, 7307.78it/s] \n"
     ]
    },
    {
     "name": "stdout",
     "output_type": "stream",
     "text": [
      "Train: 0.9417| Val: 0.6700| Test: 0.6520| Eval Time: 1.3798s\n",
      "Epoch 42| Loss: 0.3714| Acc: 0.9750| Train Time: 0.2323s\n"
     ]
    },
    {
     "name": "stderr",
     "output_type": "stream",
     "text": [
      "Evaluating: 100%|██████████| 9981/9981 [00:01<00:00, 7184.38it/s] \n"
     ]
    },
    {
     "name": "stdout",
     "output_type": "stream",
     "text": [
      "Train: 0.9417| Val: 0.6680| Test: 0.6540| Eval Time: 1.4638s\n",
      "Epoch 43| Loss: 0.1091| Acc: 0.9750| Train Time: 0.2390s\n"
     ]
    },
    {
     "name": "stderr",
     "output_type": "stream",
     "text": [
      "Evaluating: 100%|██████████| 9981/9981 [00:01<00:00, 7220.99it/s] \n"
     ]
    },
    {
     "name": "stdout",
     "output_type": "stream",
     "text": [
      "Train: 0.9333| Val: 0.6660| Test: 0.6560| Eval Time: 1.3883s\n",
      "Epoch 44| Loss: 0.2141| Acc: 0.9583| Train Time: 0.2664s\n"
     ]
    },
    {
     "name": "stderr",
     "output_type": "stream",
     "text": [
      "Evaluating: 100%|██████████| 9981/9981 [00:01<00:00, 8169.88it/s] \n"
     ]
    },
    {
     "name": "stdout",
     "output_type": "stream",
     "text": [
      "Train: 0.9333| Val: 0.6700| Test: 0.6610| Eval Time: 1.2282s\n",
      "Epoch 45| Loss: 0.2654| Acc: 0.9750| Train Time: 0.2997s\n"
     ]
    },
    {
     "name": "stderr",
     "output_type": "stream",
     "text": [
      "Evaluating: 100%|██████████| 9981/9981 [00:01<00:00, 7219.19it/s] \n"
     ]
    },
    {
     "name": "stdout",
     "output_type": "stream",
     "text": [
      "Train: 0.9500| Val: 0.6660| Test: 0.6590| Eval Time: 1.3912s\n",
      "Epoch 46| Loss: 0.4810| Acc: 0.9667| Train Time: 0.2194s\n"
     ]
    },
    {
     "name": "stderr",
     "output_type": "stream",
     "text": [
      "Evaluating: 100%|██████████| 9981/9981 [00:01<00:00, 6744.04it/s] \n"
     ]
    },
    {
     "name": "stdout",
     "output_type": "stream",
     "text": [
      "Train: 0.9583| Val: 0.6600| Test: 0.6550| Eval Time: 1.4855s\n",
      "Epoch 47| Loss: 0.1823| Acc: 0.9750| Train Time: 0.2245s\n"
     ]
    },
    {
     "name": "stderr",
     "output_type": "stream",
     "text": [
      "Evaluating: 100%|██████████| 9981/9981 [00:01<00:00, 6869.19it/s] \n"
     ]
    },
    {
     "name": "stdout",
     "output_type": "stream",
     "text": [
      "Train: 0.9500| Val: 0.6540| Test: 0.6500| Eval Time: 1.4610s\n",
      "Epoch 48| Loss: 0.0999| Acc: 0.9833| Train Time: 0.2118s\n"
     ]
    },
    {
     "name": "stderr",
     "output_type": "stream",
     "text": [
      "Evaluating: 100%|██████████| 9981/9981 [00:01<00:00, 7303.37it/s] \n"
     ]
    },
    {
     "name": "stdout",
     "output_type": "stream",
     "text": [
      "Train: 0.9417| Val: 0.6560| Test: 0.6450| Eval Time: 1.3779s\n",
      "Epoch 49| Loss: 0.1927| Acc: 0.9750| Train Time: 0.2257s\n"
     ]
    },
    {
     "name": "stderr",
     "output_type": "stream",
     "text": [
      "Evaluating: 100%|██████████| 9981/9981 [00:01<00:00, 7250.34it/s] \n"
     ]
    },
    {
     "name": "stdout",
     "output_type": "stream",
     "text": [
      "Train: 0.9417| Val: 0.6520| Test: 0.6440| Eval Time: 1.3834s\n",
      "Epoch 50| Loss: 0.8465| Acc: 0.9667| Train Time: 0.2263s\n"
     ]
    },
    {
     "name": "stderr",
     "output_type": "stream",
     "text": [
      "Evaluating: 100%|██████████| 9981/9981 [00:01<00:00, 6701.32it/s] \n"
     ]
    },
    {
     "name": "stdout",
     "output_type": "stream",
     "text": [
      "Train: 0.9333| Val: 0.6440| Test: 0.6350| Eval Time: 1.5618s\n",
      "Epoch 51| Loss: 0.4924| Acc: 0.9583| Train Time: 0.2414s\n"
     ]
    },
    {
     "name": "stderr",
     "output_type": "stream",
     "text": [
      "Evaluating: 100%|██████████| 9981/9981 [00:01<00:00, 6786.57it/s] \n"
     ]
    },
    {
     "name": "stdout",
     "output_type": "stream",
     "text": [
      "Train: 0.9333| Val: 0.6380| Test: 0.6280| Eval Time: 1.4777s\n",
      "Epoch 52| Loss: 0.2057| Acc: 0.9667| Train Time: 0.2291s\n"
     ]
    },
    {
     "name": "stderr",
     "output_type": "stream",
     "text": [
      "Evaluating: 100%|██████████| 9981/9981 [00:01<00:00, 6892.28it/s] \n"
     ]
    },
    {
     "name": "stdout",
     "output_type": "stream",
     "text": [
      "Train: 0.9417| Val: 0.6240| Test: 0.6260| Eval Time: 1.4577s\n",
      "Epoch 53| Loss: 0.4531| Acc: 0.9833| Train Time: 0.2332s\n"
     ]
    },
    {
     "name": "stderr",
     "output_type": "stream",
     "text": [
      "Evaluating: 100%|██████████| 9981/9981 [00:01<00:00, 7367.39it/s] \n"
     ]
    },
    {
     "name": "stdout",
     "output_type": "stream",
     "text": [
      "Train: 0.9417| Val: 0.6200| Test: 0.6210| Eval Time: 1.3673s\n",
      "Epoch 54| Loss: 0.4724| Acc: 0.9583| Train Time: 0.2367s\n"
     ]
    },
    {
     "name": "stderr",
     "output_type": "stream",
     "text": [
      "Evaluating: 100%|██████████| 9981/9981 [00:01<00:00, 6766.00it/s] \n"
     ]
    },
    {
     "name": "stdout",
     "output_type": "stream",
     "text": [
      "Train: 0.9333| Val: 0.6100| Test: 0.6150| Eval Time: 1.4812s\n",
      "Epoch 55| Loss: 0.0246| Acc: 0.9833| Train Time: 0.2871s\n"
     ]
    },
    {
     "name": "stderr",
     "output_type": "stream",
     "text": [
      "Evaluating: 100%|██████████| 9981/9981 [00:01<00:00, 6693.66it/s] \n"
     ]
    },
    {
     "name": "stdout",
     "output_type": "stream",
     "text": [
      "Train: 0.9250| Val: 0.6120| Test: 0.6110| Eval Time: 1.4990s\n",
      "Epoch 56| Loss: 0.0425| Acc: 0.9917| Train Time: 0.2310s\n"
     ]
    },
    {
     "name": "stderr",
     "output_type": "stream",
     "text": [
      "Evaluating: 100%|██████████| 9981/9981 [00:01<00:00, 6799.26it/s] \n"
     ]
    },
    {
     "name": "stdout",
     "output_type": "stream",
     "text": [
      "Train: 0.9167| Val: 0.6140| Test: 0.6070| Eval Time: 1.4742s\n",
      "Epoch 57| Loss: 0.0966| Acc: 0.9667| Train Time: 0.3026s\n"
     ]
    },
    {
     "name": "stderr",
     "output_type": "stream",
     "text": [
      "Evaluating: 100%|██████████| 9981/9981 [00:01<00:00, 8305.88it/s] \n"
     ]
    },
    {
     "name": "stdout",
     "output_type": "stream",
     "text": [
      "Train: 0.9167| Val: 0.6160| Test: 0.6100| Eval Time: 1.2670s\n",
      "Epoch 58| Loss: 0.0075| Acc: 1.0000| Train Time: 0.2138s\n"
     ]
    },
    {
     "name": "stderr",
     "output_type": "stream",
     "text": [
      "Evaluating: 100%|██████████| 9981/9981 [00:01<00:00, 6720.32it/s] \n"
     ]
    },
    {
     "name": "stdout",
     "output_type": "stream",
     "text": [
      "Train: 0.9167| Val: 0.6200| Test: 0.6110| Eval Time: 1.4971s\n",
      "Epoch 59| Loss: 0.8197| Acc: 0.9667| Train Time: 0.2326s\n"
     ]
    },
    {
     "name": "stderr",
     "output_type": "stream",
     "text": [
      "Evaluating: 100%|██████████| 9981/9981 [00:01<00:00, 6423.59it/s] \n"
     ]
    },
    {
     "name": "stdout",
     "output_type": "stream",
     "text": [
      "Train: 0.9167| Val: 0.6200| Test: 0.6100| Eval Time: 1.5603s\n",
      "Epoch 60| Loss: 0.0287| Acc: 0.9833| Train Time: 0.2379s\n"
     ]
    },
    {
     "name": "stderr",
     "output_type": "stream",
     "text": [
      "Evaluating: 100%|██████████| 9981/9981 [00:01<00:00, 6743.06it/s] \n"
     ]
    },
    {
     "name": "stdout",
     "output_type": "stream",
     "text": [
      "Train: 0.9417| Val: 0.6220| Test: 0.6130| Eval Time: 1.4861s\n",
      "Epoch 61| Loss: 0.3847| Acc: 0.9833| Train Time: 0.2173s\n"
     ]
    },
    {
     "name": "stderr",
     "output_type": "stream",
     "text": [
      "Evaluating: 100%|██████████| 9981/9981 [00:01<00:00, 6414.44it/s] \n"
     ]
    },
    {
     "name": "stdout",
     "output_type": "stream",
     "text": [
      "Train: 0.9417| Val: 0.6200| Test: 0.6170| Eval Time: 1.5671s\n",
      "Epoch 62| Loss: 0.1434| Acc: 0.9833| Train Time: 0.2345s\n"
     ]
    },
    {
     "name": "stderr",
     "output_type": "stream",
     "text": [
      "Evaluating: 100%|██████████| 9981/9981 [00:01<00:00, 6790.52it/s] \n"
     ]
    },
    {
     "name": "stdout",
     "output_type": "stream",
     "text": [
      "Train: 0.9417| Val: 0.6280| Test: 0.6180| Eval Time: 1.4775s\n",
      "Epoch 63| Loss: 0.1951| Acc: 0.9750| Train Time: 0.2276s\n"
     ]
    },
    {
     "name": "stderr",
     "output_type": "stream",
     "text": [
      "Evaluating: 100%|██████████| 9981/9981 [00:01<00:00, 6892.77it/s] \n"
     ]
    },
    {
     "name": "stdout",
     "output_type": "stream",
     "text": [
      "Train: 0.9333| Val: 0.6260| Test: 0.6210| Eval Time: 1.4592s\n",
      "Epoch 64| Loss: 0.6303| Acc: 0.9333| Train Time: 0.2233s\n"
     ]
    },
    {
     "name": "stderr",
     "output_type": "stream",
     "text": [
      "Evaluating: 100%|██████████| 9981/9981 [00:01<00:00, 6701.40it/s] \n"
     ]
    },
    {
     "name": "stdout",
     "output_type": "stream",
     "text": [
      "Train: 0.9500| Val: 0.6240| Test: 0.6260| Eval Time: 1.4953s\n",
      "Epoch 65| Loss: 0.1031| Acc: 0.9833| Train Time: 0.2902s\n"
     ]
    },
    {
     "name": "stderr",
     "output_type": "stream",
     "text": [
      "Evaluating: 100%|██████████| 9981/9981 [00:01<00:00, 6790.64it/s] \n"
     ]
    },
    {
     "name": "stdout",
     "output_type": "stream",
     "text": [
      "Train: 0.9333| Val: 0.6260| Test: 0.6240| Eval Time: 1.4830s\n",
      "Epoch 66| Loss: 0.0024| Acc: 1.0000| Train Time: 0.2293s\n"
     ]
    },
    {
     "name": "stderr",
     "output_type": "stream",
     "text": [
      "Evaluating: 100%|██████████| 9981/9981 [00:01<00:00, 7330.90it/s] \n"
     ]
    },
    {
     "name": "stdout",
     "output_type": "stream",
     "text": [
      "Train: 0.9250| Val: 0.6240| Test: 0.6300| Eval Time: 1.3728s\n",
      "Epoch 67| Loss: 0.0141| Acc: 0.9917| Train Time: 0.2274s\n"
     ]
    },
    {
     "name": "stderr",
     "output_type": "stream",
     "text": [
      "Evaluating: 100%|██████████| 9981/9981 [00:01<00:00, 7302.60it/s] \n"
     ]
    },
    {
     "name": "stdout",
     "output_type": "stream",
     "text": [
      "Train: 0.9167| Val: 0.6340| Test: 0.6340| Eval Time: 1.3730s\n",
      "Epoch 68| Loss: 0.2447| Acc: 0.9583| Train Time: 0.2302s\n"
     ]
    },
    {
     "name": "stderr",
     "output_type": "stream",
     "text": [
      "Evaluating: 100%|██████████| 9981/9981 [00:01<00:00, 7745.20it/s] \n"
     ]
    },
    {
     "name": "stdout",
     "output_type": "stream",
     "text": [
      "Train: 0.9167| Val: 0.6220| Test: 0.6310| Eval Time: 1.3572s\n",
      "Epoch 69| Loss: 0.2989| Acc: 0.9750| Train Time: 0.2333s\n"
     ]
    },
    {
     "name": "stderr",
     "output_type": "stream",
     "text": [
      "Evaluating: 100%|██████████| 9981/9981 [00:01<00:00, 6715.35it/s] \n"
     ]
    },
    {
     "name": "stdout",
     "output_type": "stream",
     "text": [
      "Train: 0.9250| Val: 0.6120| Test: 0.6260| Eval Time: 1.4935s\n",
      "\n",
      "Result of  6. run| Train: 0.9250| Val: 0.6700| Test: 0.6500\n",
      "\n",
      "Run 07 for GatV1_K7_D3_s and CiteSeer:\n"
     ]
    },
    {
     "name": "stderr",
     "output_type": "stream",
     "text": [
      "Epoch 01: 100%|██████████| 120/120 [00:00<00:00, 490.81it/s]\n"
     ]
    },
    {
     "name": "stdout",
     "output_type": "stream",
     "text": [
      "Epoch 01| Loss: 2.4915| Acc: 0.1417| Train Time: 0.3145s\n"
     ]
    },
    {
     "name": "stderr",
     "output_type": "stream",
     "text": [
      "Evaluating: 100%|██████████| 9981/9981 [00:01<00:00, 7277.40it/s] \n"
     ]
    },
    {
     "name": "stdout",
     "output_type": "stream",
     "text": [
      "Train: 0.7083| Val: 0.5740| Test: 0.5470| Eval Time: 1.3781s\n",
      "Epoch 02| Loss: 2.4747| Acc: 0.5250| Train Time: 0.2266s\n"
     ]
    },
    {
     "name": "stderr",
     "output_type": "stream",
     "text": [
      "Evaluating: 100%|██████████| 9981/9981 [00:01<00:00, 6467.89it/s] \n"
     ]
    },
    {
     "name": "stdout",
     "output_type": "stream",
     "text": [
      "Train: 0.8333| Val: 0.6420| Test: 0.6190| Eval Time: 1.5489s\n",
      "Epoch 03| Loss: 2.4019| Acc: 0.5583| Train Time: 0.2198s\n"
     ]
    },
    {
     "name": "stderr",
     "output_type": "stream",
     "text": [
      "Evaluating: 100%|██████████| 9981/9981 [00:01<00:00, 8359.34it/s] \n"
     ]
    },
    {
     "name": "stdout",
     "output_type": "stream",
     "text": [
      "Train: 0.8333| Val: 0.6600| Test: 0.6450| Eval Time: 1.1999s\n",
      "Epoch 04| Loss: 2.0509| Acc: 0.6167| Train Time: 0.2235s\n"
     ]
    },
    {
     "name": "stderr",
     "output_type": "stream",
     "text": [
      "Evaluating: 100%|██████████| 9981/9981 [00:01<00:00, 6768.43it/s] \n"
     ]
    },
    {
     "name": "stdout",
     "output_type": "stream",
     "text": [
      "Train: 0.8333| Val: 0.6560| Test: 0.6610| Eval Time: 1.4841s\n",
      "Epoch 05| Loss: 2.4493| Acc: 0.6250| Train Time: 0.2897s\n"
     ]
    },
    {
     "name": "stderr",
     "output_type": "stream",
     "text": [
      "Evaluating: 100%|██████████| 9981/9981 [00:01<00:00, 6637.86it/s] \n"
     ]
    },
    {
     "name": "stdout",
     "output_type": "stream",
     "text": [
      "Train: 0.8667| Val: 0.6660| Test: 0.6610| Eval Time: 1.5103s\n",
      "Epoch 06| Loss: 1.6304| Acc: 0.7167| Train Time: 0.2934s\n"
     ]
    },
    {
     "name": "stderr",
     "output_type": "stream",
     "text": [
      "Evaluating: 100%|██████████| 9981/9981 [00:01<00:00, 7753.14it/s] \n"
     ]
    },
    {
     "name": "stdout",
     "output_type": "stream",
     "text": [
      "Train: 0.8833| Val: 0.6700| Test: 0.6540| Eval Time: 1.2940s\n",
      "Epoch 07| Loss: 2.2802| Acc: 0.8083| Train Time: 0.2253s\n"
     ]
    },
    {
     "name": "stderr",
     "output_type": "stream",
     "text": [
      "Evaluating: 100%|██████████| 9981/9981 [00:01<00:00, 7239.18it/s] \n"
     ]
    },
    {
     "name": "stdout",
     "output_type": "stream",
     "text": [
      "Train: 0.8917| Val: 0.6740| Test: 0.6510| Eval Time: 1.3842s\n",
      "Epoch 08| Loss: 0.8248| Acc: 0.8167| Train Time: 0.2813s\n"
     ]
    },
    {
     "name": "stderr",
     "output_type": "stream",
     "text": [
      "Evaluating: 100%|██████████| 9981/9981 [00:01<00:00, 6721.92it/s] \n"
     ]
    },
    {
     "name": "stdout",
     "output_type": "stream",
     "text": [
      "Train: 0.9000| Val: 0.6560| Test: 0.6500| Eval Time: 1.4992s\n",
      "Epoch 09| Loss: 2.1804| Acc: 0.7917| Train Time: 0.2289s\n"
     ]
    },
    {
     "name": "stderr",
     "output_type": "stream",
     "text": [
      "Evaluating: 100%|██████████| 9981/9981 [00:01<00:00, 6861.86it/s] \n"
     ]
    },
    {
     "name": "stdout",
     "output_type": "stream",
     "text": [
      "Train: 0.9083| Val: 0.6600| Test: 0.6420| Eval Time: 1.4651s\n",
      "Epoch 10| Loss: 1.7039| Acc: 0.8333| Train Time: 0.2234s\n"
     ]
    },
    {
     "name": "stderr",
     "output_type": "stream",
     "text": [
      "Evaluating: 100%|██████████| 9981/9981 [00:01<00:00, 7223.34it/s] \n"
     ]
    },
    {
     "name": "stdout",
     "output_type": "stream",
     "text": [
      "Train: 0.9167| Val: 0.6420| Test: 0.6400| Eval Time: 1.3888s\n",
      "Epoch 11| Loss: 1.9837| Acc: 0.8000| Train Time: 0.2325s\n"
     ]
    },
    {
     "name": "stderr",
     "output_type": "stream",
     "text": [
      "Evaluating: 100%|██████████| 9981/9981 [00:01<00:00, 7826.05it/s] \n"
     ]
    },
    {
     "name": "stdout",
     "output_type": "stream",
     "text": [
      "Train: 0.9000| Val: 0.6400| Test: 0.6360| Eval Time: 1.2818s\n",
      "Epoch 12| Loss: 1.2135| Acc: 0.8250| Train Time: 0.2948s\n"
     ]
    },
    {
     "name": "stderr",
     "output_type": "stream",
     "text": [
      "Evaluating: 100%|██████████| 9981/9981 [00:01<00:00, 7911.29it/s] \n"
     ]
    },
    {
     "name": "stdout",
     "output_type": "stream",
     "text": [
      "Train: 0.8917| Val: 0.6520| Test: 0.6320| Eval Time: 1.2703s\n",
      "Epoch 13| Loss: 1.2039| Acc: 0.8667| Train Time: 0.2089s\n"
     ]
    },
    {
     "name": "stderr",
     "output_type": "stream",
     "text": [
      "Evaluating: 100%|██████████| 9981/9981 [00:01<00:00, 6625.15it/s] \n"
     ]
    },
    {
     "name": "stdout",
     "output_type": "stream",
     "text": [
      "Train: 0.8917| Val: 0.6480| Test: 0.6260| Eval Time: 1.5151s\n",
      "Epoch 14| Loss: 1.0098| Acc: 0.8333| Train Time: 0.2270s\n"
     ]
    },
    {
     "name": "stderr",
     "output_type": "stream",
     "text": [
      "Evaluating: 100%|██████████| 9981/9981 [00:01<00:00, 6762.01it/s] \n"
     ]
    },
    {
     "name": "stdout",
     "output_type": "stream",
     "text": [
      "Train: 0.8833| Val: 0.6460| Test: 0.6270| Eval Time: 1.5418s\n",
      "Epoch 15| Loss: 0.5945| Acc: 0.8917| Train Time: 0.2307s\n"
     ]
    },
    {
     "name": "stderr",
     "output_type": "stream",
     "text": [
      "Evaluating: 100%|██████████| 9981/9981 [00:01<00:00, 6323.46it/s] \n"
     ]
    },
    {
     "name": "stdout",
     "output_type": "stream",
     "text": [
      "Train: 0.9000| Val: 0.6600| Test: 0.6350| Eval Time: 1.5874s\n",
      "Epoch 16| Loss: 0.6239| Acc: 0.8833| Train Time: 0.2340s\n"
     ]
    },
    {
     "name": "stderr",
     "output_type": "stream",
     "text": [
      "Evaluating: 100%|██████████| 9981/9981 [00:01<00:00, 6895.57it/s] \n"
     ]
    },
    {
     "name": "stdout",
     "output_type": "stream",
     "text": [
      "Train: 0.9083| Val: 0.6680| Test: 0.6350| Eval Time: 1.4609s\n",
      "Epoch 17| Loss: 0.4170| Acc: 0.9083| Train Time: 0.2298s\n"
     ]
    },
    {
     "name": "stderr",
     "output_type": "stream",
     "text": [
      "Evaluating: 100%|██████████| 9981/9981 [00:01<00:00, 6435.59it/s] \n"
     ]
    },
    {
     "name": "stdout",
     "output_type": "stream",
     "text": [
      "Train: 0.9083| Val: 0.6700| Test: 0.6400| Eval Time: 1.5630s\n",
      "Epoch 18| Loss: 1.2832| Acc: 0.9083| Train Time: 0.2253s\n"
     ]
    },
    {
     "name": "stderr",
     "output_type": "stream",
     "text": [
      "Evaluating: 100%|██████████| 9981/9981 [00:01<00:00, 6333.90it/s] \n"
     ]
    },
    {
     "name": "stdout",
     "output_type": "stream",
     "text": [
      "Train: 0.9167| Val: 0.6720| Test: 0.6470| Eval Time: 1.5852s\n",
      "Epoch 19| Loss: 2.1031| Acc: 0.8833| Train Time: 0.2278s\n"
     ]
    },
    {
     "name": "stderr",
     "output_type": "stream",
     "text": [
      "Evaluating: 100%|██████████| 9981/9981 [00:01<00:00, 7396.88it/s] \n"
     ]
    },
    {
     "name": "stdout",
     "output_type": "stream",
     "text": [
      "Train: 0.9167| Val: 0.6780| Test: 0.6520| Eval Time: 1.3575s\n",
      "Epoch 20| Loss: 0.5109| Acc: 0.9083| Train Time: 0.2335s\n"
     ]
    },
    {
     "name": "stderr",
     "output_type": "stream",
     "text": [
      "Evaluating: 100%|██████████| 9981/9981 [00:01<00:00, 6853.20it/s] \n"
     ]
    },
    {
     "name": "stdout",
     "output_type": "stream",
     "text": [
      "Train: 0.9083| Val: 0.6820| Test: 0.6550| Eval Time: 1.4689s\n",
      "Epoch 21| Loss: 1.5577| Acc: 0.9083| Train Time: 0.2344s\n"
     ]
    },
    {
     "name": "stderr",
     "output_type": "stream",
     "text": [
      "Evaluating: 100%|██████████| 9981/9981 [00:01<00:00, 7237.71it/s] \n"
     ]
    },
    {
     "name": "stdout",
     "output_type": "stream",
     "text": [
      "Train: 0.8917| Val: 0.6840| Test: 0.6590| Eval Time: 1.3846s\n",
      "Epoch 22| Loss: 0.6249| Acc: 0.9167| Train Time: 0.3009s\n"
     ]
    },
    {
     "name": "stderr",
     "output_type": "stream",
     "text": [
      "Evaluating: 100%|██████████| 9981/9981 [00:01<00:00, 6756.18it/s] \n"
     ]
    },
    {
     "name": "stdout",
     "output_type": "stream",
     "text": [
      "Train: 0.8833| Val: 0.6880| Test: 0.6580| Eval Time: 1.4858s\n",
      "Epoch 23| Loss: 0.6184| Acc: 0.9333| Train Time: 0.2249s\n"
     ]
    },
    {
     "name": "stderr",
     "output_type": "stream",
     "text": [
      "Evaluating: 100%|██████████| 9981/9981 [00:01<00:00, 6741.70it/s] \n"
     ]
    },
    {
     "name": "stdout",
     "output_type": "stream",
     "text": [
      "Train: 0.8833| Val: 0.6920| Test: 0.6580| Eval Time: 1.4864s\n",
      "Epoch 24| Loss: 0.8460| Acc: 0.9250| Train Time: 0.2971s\n"
     ]
    },
    {
     "name": "stderr",
     "output_type": "stream",
     "text": [
      "Evaluating: 100%|██████████| 9981/9981 [00:01<00:00, 6265.09it/s] \n"
     ]
    },
    {
     "name": "stdout",
     "output_type": "stream",
     "text": [
      "Train: 0.8833| Val: 0.6900| Test: 0.6610| Eval Time: 1.5998s\n",
      "Epoch 25| Loss: 0.9798| Acc: 0.9333| Train Time: 0.2242s\n"
     ]
    },
    {
     "name": "stderr",
     "output_type": "stream",
     "text": [
      "Evaluating: 100%|██████████| 9981/9981 [00:01<00:00, 6738.78it/s] \n"
     ]
    },
    {
     "name": "stdout",
     "output_type": "stream",
     "text": [
      "Train: 0.8917| Val: 0.6860| Test: 0.6590| Eval Time: 1.5531s\n",
      "Epoch 26| Loss: 1.9585| Acc: 0.9167| Train Time: 0.2469s\n"
     ]
    },
    {
     "name": "stderr",
     "output_type": "stream",
     "text": [
      "Evaluating: 100%|██████████| 9981/9981 [00:01<00:00, 6477.21it/s] \n"
     ]
    },
    {
     "name": "stdout",
     "output_type": "stream",
     "text": [
      "Train: 0.9000| Val: 0.6820| Test: 0.6600| Eval Time: 1.5538s\n",
      "Epoch 27| Loss: 1.0476| Acc: 0.9583| Train Time: 0.2281s\n"
     ]
    },
    {
     "name": "stderr",
     "output_type": "stream",
     "text": [
      "Evaluating: 100%|██████████| 9981/9981 [00:01<00:00, 6757.39it/s] \n"
     ]
    },
    {
     "name": "stdout",
     "output_type": "stream",
     "text": [
      "Train: 0.9250| Val: 0.6740| Test: 0.6640| Eval Time: 1.4851s\n",
      "Epoch 28| Loss: 0.2757| Acc: 0.9417| Train Time: 0.2211s\n"
     ]
    },
    {
     "name": "stderr",
     "output_type": "stream",
     "text": [
      "Evaluating: 100%|██████████| 9981/9981 [00:01<00:00, 6743.09it/s] \n"
     ]
    },
    {
     "name": "stdout",
     "output_type": "stream",
     "text": [
      "Train: 0.9250| Val: 0.6760| Test: 0.6610| Eval Time: 1.4862s\n",
      "Epoch 29| Loss: 0.7901| Acc: 0.9167| Train Time: 0.2898s\n"
     ]
    },
    {
     "name": "stderr",
     "output_type": "stream",
     "text": [
      "Evaluating: 100%|██████████| 9981/9981 [00:01<00:00, 6773.71it/s] \n"
     ]
    },
    {
     "name": "stdout",
     "output_type": "stream",
     "text": [
      "Train: 0.9333| Val: 0.6720| Test: 0.6610| Eval Time: 1.4847s\n",
      "Epoch 30| Loss: 0.1910| Acc: 0.9417| Train Time: 0.2269s\n"
     ]
    },
    {
     "name": "stderr",
     "output_type": "stream",
     "text": [
      "Evaluating: 100%|██████████| 9981/9981 [00:01<00:00, 8423.87it/s] \n"
     ]
    },
    {
     "name": "stdout",
     "output_type": "stream",
     "text": [
      "Train: 0.9333| Val: 0.6680| Test: 0.6590| Eval Time: 1.1912s\n",
      "Epoch 31| Loss: 0.1169| Acc: 0.9667| Train Time: 0.2217s\n"
     ]
    },
    {
     "name": "stderr",
     "output_type": "stream",
     "text": [
      "Evaluating: 100%|██████████| 9981/9981 [00:01<00:00, 7236.21it/s] \n"
     ]
    },
    {
     "name": "stdout",
     "output_type": "stream",
     "text": [
      "Train: 0.9333| Val: 0.6640| Test: 0.6590| Eval Time: 1.3847s\n",
      "Epoch 32| Loss: 0.6115| Acc: 0.9500| Train Time: 0.2656s\n"
     ]
    },
    {
     "name": "stderr",
     "output_type": "stream",
     "text": [
      "Evaluating: 100%|██████████| 9981/9981 [00:01<00:00, 7548.45it/s] \n"
     ]
    },
    {
     "name": "stdout",
     "output_type": "stream",
     "text": [
      "Train: 0.9333| Val: 0.6640| Test: 0.6490| Eval Time: 1.3293s\n",
      "Epoch 33| Loss: 0.7556| Acc: 0.9417| Train Time: 0.2283s\n"
     ]
    },
    {
     "name": "stderr",
     "output_type": "stream",
     "text": [
      "Evaluating: 100%|██████████| 9981/9981 [00:01<00:00, 7303.68it/s] \n"
     ]
    },
    {
     "name": "stdout",
     "output_type": "stream",
     "text": [
      "Train: 0.9333| Val: 0.6660| Test: 0.6500| Eval Time: 1.3727s\n",
      "Epoch 34| Loss: 0.7820| Acc: 0.9500| Train Time: 0.2859s\n"
     ]
    },
    {
     "name": "stderr",
     "output_type": "stream",
     "text": [
      "Evaluating: 100%|██████████| 9981/9981 [00:01<00:00, 7093.19it/s] \n"
     ]
    },
    {
     "name": "stdout",
     "output_type": "stream",
     "text": [
      "Train: 0.9333| Val: 0.6640| Test: 0.6450| Eval Time: 1.4142s\n",
      "Epoch 35| Loss: 0.3473| Acc: 0.9583| Train Time: 0.2935s\n"
     ]
    },
    {
     "name": "stderr",
     "output_type": "stream",
     "text": [
      "Evaluating: 100%|██████████| 9981/9981 [00:01<00:00, 7108.72it/s] \n"
     ]
    },
    {
     "name": "stdout",
     "output_type": "stream",
     "text": [
      "Train: 0.9250| Val: 0.6640| Test: 0.6480| Eval Time: 1.4796s\n",
      "Epoch 36| Loss: 0.6366| Acc: 0.9583| Train Time: 0.2372s\n"
     ]
    },
    {
     "name": "stderr",
     "output_type": "stream",
     "text": [
      "Evaluating: 100%|██████████| 9981/9981 [00:01<00:00, 6729.95it/s] \n"
     ]
    },
    {
     "name": "stdout",
     "output_type": "stream",
     "text": [
      "Train: 0.9250| Val: 0.6580| Test: 0.6470| Eval Time: 1.4899s\n",
      "Epoch 37| Loss: 0.1303| Acc: 0.9750| Train Time: 0.2907s\n"
     ]
    },
    {
     "name": "stderr",
     "output_type": "stream",
     "text": [
      "Evaluating: 100%|██████████| 9981/9981 [00:01<00:00, 7726.88it/s] \n"
     ]
    },
    {
     "name": "stdout",
     "output_type": "stream",
     "text": [
      "Train: 0.9417| Val: 0.6540| Test: 0.6470| Eval Time: 1.3003s\n",
      "Epoch 38| Loss: 0.0167| Acc: 0.9917| Train Time: 0.2301s\n"
     ]
    },
    {
     "name": "stderr",
     "output_type": "stream",
     "text": [
      "Evaluating: 100%|██████████| 9981/9981 [00:01<00:00, 6848.38it/s] \n"
     ]
    },
    {
     "name": "stdout",
     "output_type": "stream",
     "text": [
      "Train: 0.9417| Val: 0.6560| Test: 0.6440| Eval Time: 1.4633s\n",
      "Epoch 39| Loss: 0.6866| Acc: 0.9583| Train Time: 0.2246s\n"
     ]
    },
    {
     "name": "stderr",
     "output_type": "stream",
     "text": [
      "Evaluating: 100%|██████████| 9981/9981 [00:01<00:00, 6439.70it/s] \n"
     ]
    },
    {
     "name": "stdout",
     "output_type": "stream",
     "text": [
      "Train: 0.9333| Val: 0.6500| Test: 0.6410| Eval Time: 1.5616s\n",
      "Epoch 40| Loss: 1.1111| Acc: 0.9417| Train Time: 0.2337s\n"
     ]
    },
    {
     "name": "stderr",
     "output_type": "stream",
     "text": [
      "Evaluating: 100%|██████████| 9981/9981 [00:01<00:00, 7203.71it/s] \n"
     ]
    },
    {
     "name": "stdout",
     "output_type": "stream",
     "text": [
      "Train: 0.9417| Val: 0.6440| Test: 0.6390| Eval Time: 1.3941s\n",
      "Epoch 41| Loss: 0.6146| Acc: 0.9583| Train Time: 0.2895s\n"
     ]
    },
    {
     "name": "stderr",
     "output_type": "stream",
     "text": [
      "Evaluating: 100%|██████████| 9981/9981 [00:01<00:00, 7136.22it/s] \n"
     ]
    },
    {
     "name": "stdout",
     "output_type": "stream",
     "text": [
      "Train: 0.9333| Val: 0.6460| Test: 0.6370| Eval Time: 1.4060s\n",
      "Epoch 42| Loss: 0.8577| Acc: 0.9500| Train Time: 0.2941s\n"
     ]
    },
    {
     "name": "stderr",
     "output_type": "stream",
     "text": [
      "Evaluating: 100%|██████████| 9981/9981 [00:01<00:00, 7220.25it/s] \n"
     ]
    },
    {
     "name": "stdout",
     "output_type": "stream",
     "text": [
      "Train: 0.9333| Val: 0.6420| Test: 0.6310| Eval Time: 1.3904s\n",
      "Epoch 43| Loss: 0.3617| Acc: 0.9500| Train Time: 0.2327s\n"
     ]
    },
    {
     "name": "stderr",
     "output_type": "stream",
     "text": [
      "Evaluating: 100%|██████████| 9981/9981 [00:01<00:00, 7408.64it/s] \n"
     ]
    },
    {
     "name": "stdout",
     "output_type": "stream",
     "text": [
      "Train: 0.9250| Val: 0.6360| Test: 0.6280| Eval Time: 1.3615s\n",
      "Epoch 44| Loss: 0.3575| Acc: 0.9667| Train Time: 0.2349s\n"
     ]
    },
    {
     "name": "stderr",
     "output_type": "stream",
     "text": [
      "Evaluating: 100%|██████████| 9981/9981 [00:01<00:00, 6798.89it/s] \n"
     ]
    },
    {
     "name": "stdout",
     "output_type": "stream",
     "text": [
      "Train: 0.9333| Val: 0.6320| Test: 0.6220| Eval Time: 1.4762s\n",
      "Epoch 45| Loss: 0.2041| Acc: 0.9583| Train Time: 0.2233s\n"
     ]
    },
    {
     "name": "stderr",
     "output_type": "stream",
     "text": [
      "Evaluating: 100%|██████████| 9981/9981 [00:01<00:00, 7326.64it/s] \n"
     ]
    },
    {
     "name": "stdout",
     "output_type": "stream",
     "text": [
      "Train: 0.9500| Val: 0.6360| Test: 0.6170| Eval Time: 1.3681s\n",
      "Epoch 46| Loss: 0.3043| Acc: 0.9333| Train Time: 0.2316s\n"
     ]
    },
    {
     "name": "stderr",
     "output_type": "stream",
     "text": [
      "Evaluating: 100%|██████████| 9981/9981 [00:01<00:00, 6755.84it/s] \n"
     ]
    },
    {
     "name": "stdout",
     "output_type": "stream",
     "text": [
      "Train: 0.9500| Val: 0.6380| Test: 0.6160| Eval Time: 1.4834s\n",
      "Epoch 47| Loss: 0.5382| Acc: 0.9333| Train Time: 0.2889s\n"
     ]
    },
    {
     "name": "stderr",
     "output_type": "stream",
     "text": [
      "Evaluating: 100%|██████████| 9981/9981 [00:01<00:00, 6333.76it/s] \n"
     ]
    },
    {
     "name": "stdout",
     "output_type": "stream",
     "text": [
      "Train: 0.9417| Val: 0.6460| Test: 0.6120| Eval Time: 1.5882s\n",
      "Epoch 48| Loss: 0.6234| Acc: 0.9417| Train Time: 0.2313s\n"
     ]
    },
    {
     "name": "stderr",
     "output_type": "stream",
     "text": [
      "Evaluating: 100%|██████████| 9981/9981 [00:01<00:00, 6800.57it/s] \n"
     ]
    },
    {
     "name": "stdout",
     "output_type": "stream",
     "text": [
      "Train: 0.9417| Val: 0.6440| Test: 0.6130| Eval Time: 1.4755s\n",
      "Epoch 49| Loss: 0.2280| Acc: 0.9583| Train Time: 0.2200s\n"
     ]
    },
    {
     "name": "stderr",
     "output_type": "stream",
     "text": [
      "Evaluating: 100%|██████████| 9981/9981 [00:01<00:00, 6682.47it/s] \n"
     ]
    },
    {
     "name": "stdout",
     "output_type": "stream",
     "text": [
      "Train: 0.9417| Val: 0.6460| Test: 0.6100| Eval Time: 1.5643s\n",
      "Epoch 50| Loss: 0.0617| Acc: 0.9833| Train Time: 0.2311s\n"
     ]
    },
    {
     "name": "stderr",
     "output_type": "stream",
     "text": [
      "Evaluating: 100%|██████████| 9981/9981 [00:01<00:00, 6712.15it/s] \n"
     ]
    },
    {
     "name": "stdout",
     "output_type": "stream",
     "text": [
      "Train: 0.9417| Val: 0.6540| Test: 0.6060| Eval Time: 1.4937s\n",
      "Epoch 51| Loss: 0.3322| Acc: 0.9417| Train Time: 0.2957s\n"
     ]
    },
    {
     "name": "stderr",
     "output_type": "stream",
     "text": [
      "Evaluating: 100%|██████████| 9981/9981 [00:01<00:00, 6736.35it/s] \n"
     ]
    },
    {
     "name": "stdout",
     "output_type": "stream",
     "text": [
      "Train: 0.9417| Val: 0.6500| Test: 0.6020| Eval Time: 1.4897s\n",
      "Epoch 52| Loss: 0.6428| Acc: 0.9667| Train Time: 0.2368s\n"
     ]
    },
    {
     "name": "stderr",
     "output_type": "stream",
     "text": [
      "Evaluating: 100%|██████████| 9981/9981 [00:01<00:00, 7276.13it/s] \n"
     ]
    },
    {
     "name": "stdout",
     "output_type": "stream",
     "text": [
      "Train: 0.9417| Val: 0.6480| Test: 0.6010| Eval Time: 1.3776s\n",
      "Epoch 53| Loss: 0.4220| Acc: 0.9500| Train Time: 0.3006s\n"
     ]
    },
    {
     "name": "stderr",
     "output_type": "stream",
     "text": [
      "Evaluating: 100%|██████████| 9981/9981 [00:01<00:00, 7723.07it/s] \n"
     ]
    },
    {
     "name": "stdout",
     "output_type": "stream",
     "text": [
      "Train: 0.9417| Val: 0.6500| Test: 0.6030| Eval Time: 1.3005s\n",
      "\n",
      "Result of  7. run| Train: 0.8833| Val: 0.6920| Test: 0.6580\n",
      "\n",
      "Run 08 for GatV1_K7_D3_s and CiteSeer:\n"
     ]
    },
    {
     "name": "stderr",
     "output_type": "stream",
     "text": [
      "Epoch 01: 100%|██████████| 120/120 [00:00<00:00, 532.46it/s]\n"
     ]
    },
    {
     "name": "stdout",
     "output_type": "stream",
     "text": [
      "Epoch 01| Loss: 2.7541| Acc: 0.1917| Train Time: 0.2302s\n"
     ]
    },
    {
     "name": "stderr",
     "output_type": "stream",
     "text": [
      "Evaluating: 100%|██████████| 9981/9981 [00:01<00:00, 5911.28it/s] \n"
     ]
    },
    {
     "name": "stdout",
     "output_type": "stream",
     "text": [
      "Train: 0.6583| Val: 0.6060| Test: 0.6130| Eval Time: 1.6990s\n",
      "Epoch 02| Loss: 1.6874| Acc: 0.6000| Train Time: 0.2334s\n"
     ]
    },
    {
     "name": "stderr",
     "output_type": "stream",
     "text": [
      "Evaluating: 100%|██████████| 9981/9981 [00:01<00:00, 6825.29it/s] \n"
     ]
    },
    {
     "name": "stdout",
     "output_type": "stream",
     "text": [
      "Train: 0.8083| Val: 0.6500| Test: 0.6390| Eval Time: 1.4682s\n",
      "Epoch 03| Loss: 1.6269| Acc: 0.6583| Train Time: 0.2863s\n"
     ]
    },
    {
     "name": "stderr",
     "output_type": "stream",
     "text": [
      "Evaluating: 100%|██████████| 9981/9981 [00:01<00:00, 7096.67it/s] \n"
     ]
    },
    {
     "name": "stdout",
     "output_type": "stream",
     "text": [
      "Train: 0.8083| Val: 0.6740| Test: 0.6500| Eval Time: 1.4149s\n",
      "Epoch 04| Loss: 1.6322| Acc: 0.7250| Train Time: 0.3053s\n"
     ]
    },
    {
     "name": "stderr",
     "output_type": "stream",
     "text": [
      "Evaluating: 100%|██████████| 9981/9981 [00:01<00:00, 7332.26it/s] \n"
     ]
    },
    {
     "name": "stdout",
     "output_type": "stream",
     "text": [
      "Train: 0.8167| Val: 0.6640| Test: 0.6640| Eval Time: 1.3690s\n",
      "Epoch 05| Loss: 1.8326| Acc: 0.7000| Train Time: 0.2148s\n"
     ]
    },
    {
     "name": "stderr",
     "output_type": "stream",
     "text": [
      "Evaluating: 100%|██████████| 9981/9981 [00:01<00:00, 7193.47it/s] \n"
     ]
    },
    {
     "name": "stdout",
     "output_type": "stream",
     "text": [
      "Train: 0.8333| Val: 0.6440| Test: 0.6500| Eval Time: 1.3945s\n",
      "Epoch 06| Loss: 1.5428| Acc: 0.7417| Train Time: 0.2305s\n"
     ]
    },
    {
     "name": "stderr",
     "output_type": "stream",
     "text": [
      "Evaluating: 100%|██████████| 9981/9981 [00:01<00:00, 6401.36it/s] \n"
     ]
    },
    {
     "name": "stdout",
     "output_type": "stream",
     "text": [
      "Train: 0.8333| Val: 0.6380| Test: 0.6540| Eval Time: 1.5684s\n",
      "Epoch 07| Loss: 1.4299| Acc: 0.7333| Train Time: 0.2242s\n"
     ]
    },
    {
     "name": "stderr",
     "output_type": "stream",
     "text": [
      "Evaluating: 100%|██████████| 9981/9981 [00:01<00:00, 5679.05it/s] \n"
     ]
    },
    {
     "name": "stdout",
     "output_type": "stream",
     "text": [
      "Train: 0.8500| Val: 0.6480| Test: 0.6590| Eval Time: 1.7690s\n",
      "Epoch 08| Loss: 1.0995| Acc: 0.7750| Train Time: 0.2253s\n"
     ]
    },
    {
     "name": "stderr",
     "output_type": "stream",
     "text": [
      "Evaluating: 100%|██████████| 9981/9981 [00:01<00:00, 6738.27it/s] \n"
     ]
    },
    {
     "name": "stdout",
     "output_type": "stream",
     "text": [
      "Train: 0.8333| Val: 0.6620| Test: 0.6670| Eval Time: 1.4885s\n",
      "Epoch 09| Loss: 1.8662| Acc: 0.7667| Train Time: 0.3116s\n"
     ]
    },
    {
     "name": "stderr",
     "output_type": "stream",
     "text": [
      "Evaluating: 100%|██████████| 9981/9981 [00:01<00:00, 6734.88it/s] \n"
     ]
    },
    {
     "name": "stdout",
     "output_type": "stream",
     "text": [
      "Train: 0.8417| Val: 0.6700| Test: 0.6730| Eval Time: 1.4891s\n",
      "Epoch 10| Loss: 1.8766| Acc: 0.7833| Train Time: 0.2997s\n"
     ]
    },
    {
     "name": "stderr",
     "output_type": "stream",
     "text": [
      "Evaluating: 100%|██████████| 9981/9981 [00:01<00:00, 6379.85it/s] \n"
     ]
    },
    {
     "name": "stdout",
     "output_type": "stream",
     "text": [
      "Train: 0.8583| Val: 0.6700| Test: 0.6770| Eval Time: 1.5706s\n",
      "Epoch 11| Loss: 0.9250| Acc: 0.8917| Train Time: 0.2211s\n"
     ]
    },
    {
     "name": "stderr",
     "output_type": "stream",
     "text": [
      "Evaluating: 100%|██████████| 9981/9981 [00:01<00:00, 7067.07it/s] \n"
     ]
    },
    {
     "name": "stdout",
     "output_type": "stream",
     "text": [
      "Train: 0.8750| Val: 0.6560| Test: 0.6760| Eval Time: 1.4778s\n",
      "Epoch 12| Loss: 1.7926| Acc: 0.8250| Train Time: 0.2225s\n"
     ]
    },
    {
     "name": "stderr",
     "output_type": "stream",
     "text": [
      "Evaluating: 100%|██████████| 9981/9981 [00:01<00:00, 6339.96it/s] \n"
     ]
    },
    {
     "name": "stdout",
     "output_type": "stream",
     "text": [
      "Train: 0.8833| Val: 0.6620| Test: 0.6710| Eval Time: 1.5860s\n",
      "Epoch 13| Loss: 2.5275| Acc: 0.8667| Train Time: 0.2283s\n"
     ]
    },
    {
     "name": "stderr",
     "output_type": "stream",
     "text": [
      "Evaluating: 100%|██████████| 9981/9981 [00:01<00:00, 7228.84it/s] \n"
     ]
    },
    {
     "name": "stdout",
     "output_type": "stream",
     "text": [
      "Train: 0.8833| Val: 0.6620| Test: 0.6680| Eval Time: 1.3876s\n",
      "Epoch 14| Loss: 2.2614| Acc: 0.8333| Train Time: 0.3054s\n"
     ]
    },
    {
     "name": "stderr",
     "output_type": "stream",
     "text": [
      "Evaluating: 100%|██████████| 9981/9981 [00:01<00:00, 6675.70it/s] \n"
     ]
    },
    {
     "name": "stdout",
     "output_type": "stream",
     "text": [
      "Train: 0.9000| Val: 0.6500| Test: 0.6670| Eval Time: 1.5720s\n",
      "Epoch 15| Loss: 0.6974| Acc: 0.8250| Train Time: 0.2535s\n"
     ]
    },
    {
     "name": "stderr",
     "output_type": "stream",
     "text": [
      "Evaluating: 100%|██████████| 9981/9981 [00:01<00:00, 6846.09it/s] \n"
     ]
    },
    {
     "name": "stdout",
     "output_type": "stream",
     "text": [
      "Train: 0.8917| Val: 0.6440| Test: 0.6650| Eval Time: 1.4650s\n",
      "Epoch 16| Loss: 1.4695| Acc: 0.8750| Train Time: 0.2122s\n"
     ]
    },
    {
     "name": "stderr",
     "output_type": "stream",
     "text": [
      "Evaluating: 100%|██████████| 9981/9981 [00:01<00:00, 6699.72it/s] \n"
     ]
    },
    {
     "name": "stdout",
     "output_type": "stream",
     "text": [
      "Train: 0.9000| Val: 0.6500| Test: 0.6660| Eval Time: 1.4958s\n",
      "Epoch 17| Loss: 0.7061| Acc: 0.8917| Train Time: 0.2466s\n"
     ]
    },
    {
     "name": "stderr",
     "output_type": "stream",
     "text": [
      "Evaluating: 100%|██████████| 9981/9981 [00:01<00:00, 7234.59it/s] \n"
     ]
    },
    {
     "name": "stdout",
     "output_type": "stream",
     "text": [
      "Train: 0.8917| Val: 0.6460| Test: 0.6620| Eval Time: 1.3869s\n",
      "Epoch 18| Loss: 1.8110| Acc: 0.9167| Train Time: 0.2833s\n"
     ]
    },
    {
     "name": "stderr",
     "output_type": "stream",
     "text": [
      "Evaluating: 100%|██████████| 9981/9981 [00:01<00:00, 6651.17it/s] \n"
     ]
    },
    {
     "name": "stdout",
     "output_type": "stream",
     "text": [
      "Train: 0.8833| Val: 0.6400| Test: 0.6520| Eval Time: 1.5079s\n",
      "Epoch 19| Loss: 1.5581| Acc: 0.8667| Train Time: 0.2175s\n"
     ]
    },
    {
     "name": "stderr",
     "output_type": "stream",
     "text": [
      "Evaluating: 100%|██████████| 9981/9981 [00:01<00:00, 6781.54it/s] \n"
     ]
    },
    {
     "name": "stdout",
     "output_type": "stream",
     "text": [
      "Train: 0.8833| Val: 0.6440| Test: 0.6580| Eval Time: 1.4791s\n",
      "Epoch 20| Loss: 2.2561| Acc: 0.9000| Train Time: 0.2219s\n"
     ]
    },
    {
     "name": "stderr",
     "output_type": "stream",
     "text": [
      "Evaluating: 100%|██████████| 9981/9981 [00:01<00:00, 6736.72it/s] \n"
     ]
    },
    {
     "name": "stdout",
     "output_type": "stream",
     "text": [
      "Train: 0.8750| Val: 0.6440| Test: 0.6550| Eval Time: 1.4878s\n",
      "Epoch 21| Loss: 1.4835| Acc: 0.8833| Train Time: 0.2995s\n"
     ]
    },
    {
     "name": "stderr",
     "output_type": "stream",
     "text": [
      "Evaluating: 100%|██████████| 9981/9981 [00:01<00:00, 7150.71it/s] \n"
     ]
    },
    {
     "name": "stdout",
     "output_type": "stream",
     "text": [
      "Train: 0.8667| Val: 0.6400| Test: 0.6620| Eval Time: 1.4029s\n",
      "Epoch 22| Loss: 0.6546| Acc: 0.9083| Train Time: 0.2952s\n"
     ]
    },
    {
     "name": "stderr",
     "output_type": "stream",
     "text": [
      "Evaluating: 100%|██████████| 9981/9981 [00:01<00:00, 6824.71it/s] \n"
     ]
    },
    {
     "name": "stdout",
     "output_type": "stream",
     "text": [
      "Train: 0.8583| Val: 0.6460| Test: 0.6580| Eval Time: 1.4733s\n",
      "Epoch 23| Loss: 0.3550| Acc: 0.9333| Train Time: 0.2364s\n"
     ]
    },
    {
     "name": "stderr",
     "output_type": "stream",
     "text": [
      "Evaluating: 100%|██████████| 9981/9981 [00:01<00:00, 7229.00it/s] \n"
     ]
    },
    {
     "name": "stdout",
     "output_type": "stream",
     "text": [
      "Train: 0.8667| Val: 0.6420| Test: 0.6590| Eval Time: 1.3875s\n",
      "Epoch 24| Loss: 1.7937| Acc: 0.8833| Train Time: 0.2845s\n"
     ]
    },
    {
     "name": "stderr",
     "output_type": "stream",
     "text": [
      "Evaluating: 100%|██████████| 9981/9981 [00:01<00:00, 6712.10it/s] \n"
     ]
    },
    {
     "name": "stdout",
     "output_type": "stream",
     "text": [
      "Train: 0.8833| Val: 0.6520| Test: 0.6620| Eval Time: 1.4984s\n",
      "Epoch 25| Loss: 0.8058| Acc: 0.9333| Train Time: 0.2325s\n"
     ]
    },
    {
     "name": "stderr",
     "output_type": "stream",
     "text": [
      "Evaluating: 100%|██████████| 9981/9981 [00:01<00:00, 6396.07it/s] \n"
     ]
    },
    {
     "name": "stdout",
     "output_type": "stream",
     "text": [
      "Train: 0.8750| Val: 0.6560| Test: 0.6670| Eval Time: 1.5688s\n",
      "Epoch 26| Loss: 0.6626| Acc: 0.9333| Train Time: 0.2248s\n"
     ]
    },
    {
     "name": "stderr",
     "output_type": "stream",
     "text": [
      "Evaluating: 100%|██████████| 9981/9981 [00:01<00:00, 7306.19it/s] \n"
     ]
    },
    {
     "name": "stdout",
     "output_type": "stream",
     "text": [
      "Train: 0.8750| Val: 0.6600| Test: 0.6650| Eval Time: 1.3746s\n",
      "Epoch 27| Loss: 0.9449| Acc: 0.9250| Train Time: 0.2130s\n"
     ]
    },
    {
     "name": "stderr",
     "output_type": "stream",
     "text": [
      "Evaluating: 100%|██████████| 9981/9981 [00:01<00:00, 7171.77it/s] \n"
     ]
    },
    {
     "name": "stdout",
     "output_type": "stream",
     "text": [
      "Train: 0.8833| Val: 0.6660| Test: 0.6690| Eval Time: 1.3976s\n",
      "Epoch 28| Loss: 0.3197| Acc: 0.9417| Train Time: 0.2968s\n"
     ]
    },
    {
     "name": "stderr",
     "output_type": "stream",
     "text": [
      "Evaluating: 100%|██████████| 9981/9981 [00:01<00:00, 6798.33it/s] \n"
     ]
    },
    {
     "name": "stdout",
     "output_type": "stream",
     "text": [
      "Train: 0.8917| Val: 0.6660| Test: 0.6660| Eval Time: 1.4811s\n",
      "Epoch 29| Loss: 2.6068| Acc: 0.9333| Train Time: 0.2335s\n"
     ]
    },
    {
     "name": "stderr",
     "output_type": "stream",
     "text": [
      "Evaluating: 100%|██████████| 9981/9981 [00:01<00:00, 6733.28it/s] \n"
     ]
    },
    {
     "name": "stdout",
     "output_type": "stream",
     "text": [
      "Train: 0.9000| Val: 0.6660| Test: 0.6670| Eval Time: 1.4878s\n",
      "Epoch 30| Loss: 0.9055| Acc: 0.9417| Train Time: 0.2938s\n"
     ]
    },
    {
     "name": "stderr",
     "output_type": "stream",
     "text": [
      "Evaluating: 100%|██████████| 9981/9981 [00:01<00:00, 7679.57it/s] \n"
     ]
    },
    {
     "name": "stdout",
     "output_type": "stream",
     "text": [
      "Train: 0.9083| Val: 0.6640| Test: 0.6670| Eval Time: 1.3061s\n",
      "Epoch 31| Loss: 0.5457| Acc: 0.9333| Train Time: 0.2496s\n"
     ]
    },
    {
     "name": "stderr",
     "output_type": "stream",
     "text": [
      "Evaluating: 100%|██████████| 9981/9981 [00:01<00:00, 6443.10it/s] \n"
     ]
    },
    {
     "name": "stdout",
     "output_type": "stream",
     "text": [
      "Train: 0.9250| Val: 0.6660| Test: 0.6660| Eval Time: 1.5608s\n",
      "Epoch 32| Loss: 0.2852| Acc: 0.9333| Train Time: 0.2270s\n"
     ]
    },
    {
     "name": "stderr",
     "output_type": "stream",
     "text": [
      "Evaluating: 100%|██████████| 9981/9981 [00:01<00:00, 7187.26it/s] \n"
     ]
    },
    {
     "name": "stdout",
     "output_type": "stream",
     "text": [
      "Train: 0.9250| Val: 0.6640| Test: 0.6660| Eval Time: 1.3951s\n",
      "Epoch 33| Loss: 0.5446| Acc: 0.9583| Train Time: 0.2929s\n"
     ]
    },
    {
     "name": "stderr",
     "output_type": "stream",
     "text": [
      "Evaluating: 100%|██████████| 9981/9981 [00:01<00:00, 6797.09it/s] \n"
     ]
    },
    {
     "name": "stdout",
     "output_type": "stream",
     "text": [
      "Train: 0.9083| Val: 0.6680| Test: 0.6680| Eval Time: 1.4765s\n",
      "\n",
      "Result of  8. run| Train: 0.8083| Val: 0.6740| Test: 0.6500\n",
      "\n",
      "Run 09 for GatV1_K7_D3_s and CiteSeer:\n"
     ]
    },
    {
     "name": "stderr",
     "output_type": "stream",
     "text": [
      "Epoch 01: 100%|██████████| 120/120 [00:00<00:00, 597.51it/s]\n"
     ]
    },
    {
     "name": "stdout",
     "output_type": "stream",
     "text": [
      "Epoch 01| Loss: 2.9641| Acc: 0.1583| Train Time: 0.2066s\n"
     ]
    },
    {
     "name": "stderr",
     "output_type": "stream",
     "text": [
      "Evaluating: 100%|██████████| 9981/9981 [00:01<00:00, 7565.74it/s] \n"
     ]
    },
    {
     "name": "stdout",
     "output_type": "stream",
     "text": [
      "Train: 0.6167| Val: 0.5400| Test: 0.5210| Eval Time: 1.3252s\n",
      "Epoch 02| Loss: 2.2200| Acc: 0.5417| Train Time: 0.2900s\n"
     ]
    },
    {
     "name": "stderr",
     "output_type": "stream",
     "text": [
      "Evaluating: 100%|██████████| 9981/9981 [00:01<00:00, 6680.43it/s] \n"
     ]
    },
    {
     "name": "stdout",
     "output_type": "stream",
     "text": [
      "Train: 0.7917| Val: 0.6100| Test: 0.6200| Eval Time: 1.5022s\n",
      "Epoch 03| Loss: 1.7760| Acc: 0.6917| Train Time: 0.2820s\n"
     ]
    },
    {
     "name": "stderr",
     "output_type": "stream",
     "text": [
      "Evaluating: 100%|██████████| 9981/9981 [00:01<00:00, 7195.98it/s] \n"
     ]
    },
    {
     "name": "stdout",
     "output_type": "stream",
     "text": [
      "Train: 0.8500| Val: 0.6500| Test: 0.6410| Eval Time: 1.3984s\n",
      "Epoch 04| Loss: 3.0780| Acc: 0.6250| Train Time: 0.2325s\n"
     ]
    },
    {
     "name": "stderr",
     "output_type": "stream",
     "text": [
      "Evaluating: 100%|██████████| 9981/9981 [00:01<00:00, 6433.01it/s] \n"
     ]
    },
    {
     "name": "stdout",
     "output_type": "stream",
     "text": [
      "Train: 0.8667| Val: 0.6760| Test: 0.6630| Eval Time: 1.5655s\n",
      "Epoch 05| Loss: 2.2817| Acc: 0.7250| Train Time: 0.2234s\n"
     ]
    },
    {
     "name": "stderr",
     "output_type": "stream",
     "text": [
      "Evaluating: 100%|██████████| 9981/9981 [00:01<00:00, 6762.93it/s] \n"
     ]
    },
    {
     "name": "stdout",
     "output_type": "stream",
     "text": [
      "Train: 0.8750| Val: 0.6840| Test: 0.6580| Eval Time: 1.4853s\n",
      "Epoch 06| Loss: 1.5901| Acc: 0.7417| Train Time: 0.2287s\n"
     ]
    },
    {
     "name": "stderr",
     "output_type": "stream",
     "text": [
      "Evaluating: 100%|██████████| 9981/9981 [00:01<00:00, 6789.82it/s] \n"
     ]
    },
    {
     "name": "stdout",
     "output_type": "stream",
     "text": [
      "Train: 0.8667| Val: 0.6760| Test: 0.6480| Eval Time: 1.4761s\n",
      "Epoch 07| Loss: 1.1872| Acc: 0.7333| Train Time: 0.2206s\n"
     ]
    },
    {
     "name": "stderr",
     "output_type": "stream",
     "text": [
      "Evaluating: 100%|██████████| 9981/9981 [00:01<00:00, 7263.52it/s] \n"
     ]
    },
    {
     "name": "stdout",
     "output_type": "stream",
     "text": [
      "Train: 0.8833| Val: 0.6800| Test: 0.6620| Eval Time: 1.3803s\n",
      "Epoch 08| Loss: 1.5729| Acc: 0.8000| Train Time: 0.2284s\n"
     ]
    },
    {
     "name": "stderr",
     "output_type": "stream",
     "text": [
      "Evaluating: 100%|██████████| 9981/9981 [00:01<00:00, 6897.97it/s] \n"
     ]
    },
    {
     "name": "stdout",
     "output_type": "stream",
     "text": [
      "Train: 0.8833| Val: 0.6960| Test: 0.6670| Eval Time: 1.4541s\n",
      "Epoch 09| Loss: 1.2178| Acc: 0.8167| Train Time: 0.2160s\n"
     ]
    },
    {
     "name": "stderr",
     "output_type": "stream",
     "text": [
      "Evaluating: 100%|██████████| 9981/9981 [00:01<00:00, 6802.33it/s] \n"
     ]
    },
    {
     "name": "stdout",
     "output_type": "stream",
     "text": [
      "Train: 0.8917| Val: 0.6800| Test: 0.6660| Eval Time: 1.4738s\n",
      "Epoch 10| Loss: 2.0725| Acc: 0.7833| Train Time: 0.2187s\n"
     ]
    },
    {
     "name": "stderr",
     "output_type": "stream",
     "text": [
      "Evaluating: 100%|██████████| 9981/9981 [00:01<00:00, 7212.58it/s] \n"
     ]
    },
    {
     "name": "stdout",
     "output_type": "stream",
     "text": [
      "Train: 0.8917| Val: 0.6640| Test: 0.6620| Eval Time: 1.3958s\n",
      "Epoch 11| Loss: 1.4351| Acc: 0.8417| Train Time: 0.2194s\n"
     ]
    },
    {
     "name": "stderr",
     "output_type": "stream",
     "text": [
      "Evaluating: 100%|██████████| 9981/9981 [00:01<00:00, 7160.02it/s] \n"
     ]
    },
    {
     "name": "stdout",
     "output_type": "stream",
     "text": [
      "Train: 0.8917| Val: 0.6600| Test: 0.6710| Eval Time: 1.3996s\n",
      "Epoch 12| Loss: 0.7849| Acc: 0.8500| Train Time: 0.2437s\n"
     ]
    },
    {
     "name": "stderr",
     "output_type": "stream",
     "text": [
      "Evaluating: 100%|██████████| 9981/9981 [00:01<00:00, 6396.69it/s] \n"
     ]
    },
    {
     "name": "stdout",
     "output_type": "stream",
     "text": [
      "Train: 0.9083| Val: 0.6660| Test: 0.6750| Eval Time: 1.5707s\n",
      "Epoch 13| Loss: 1.9140| Acc: 0.8583| Train Time: 0.2285s\n"
     ]
    },
    {
     "name": "stderr",
     "output_type": "stream",
     "text": [
      "Evaluating: 100%|██████████| 9981/9981 [00:01<00:00, 6692.81it/s] \n"
     ]
    },
    {
     "name": "stdout",
     "output_type": "stream",
     "text": [
      "Train: 0.9333| Val: 0.6580| Test: 0.6650| Eval Time: 1.4968s\n",
      "Epoch 14| Loss: 1.1086| Acc: 0.8750| Train Time: 0.2848s\n"
     ]
    },
    {
     "name": "stderr",
     "output_type": "stream",
     "text": [
      "Evaluating: 100%|██████████| 9981/9981 [00:01<00:00, 6685.58it/s] \n"
     ]
    },
    {
     "name": "stdout",
     "output_type": "stream",
     "text": [
      "Train: 0.9417| Val: 0.6440| Test: 0.6620| Eval Time: 1.5016s\n",
      "Epoch 15| Loss: 0.9721| Acc: 0.8833| Train Time: 0.2286s\n"
     ]
    },
    {
     "name": "stderr",
     "output_type": "stream",
     "text": [
      "Evaluating: 100%|██████████| 9981/9981 [00:01<00:00, 7310.74it/s] \n"
     ]
    },
    {
     "name": "stdout",
     "output_type": "stream",
     "text": [
      "Train: 0.9250| Val: 0.6320| Test: 0.6450| Eval Time: 1.3712s\n",
      "Epoch 16| Loss: 0.8170| Acc: 0.9083| Train Time: 0.2241s\n"
     ]
    },
    {
     "name": "stderr",
     "output_type": "stream",
     "text": [
      "Evaluating: 100%|██████████| 9981/9981 [00:01<00:00, 6818.53it/s] \n"
     ]
    },
    {
     "name": "stdout",
     "output_type": "stream",
     "text": [
      "Train: 0.9167| Val: 0.6320| Test: 0.6350| Eval Time: 1.4712s\n",
      "Epoch 17| Loss: 0.6563| Acc: 0.8750| Train Time: 0.2262s\n"
     ]
    },
    {
     "name": "stderr",
     "output_type": "stream",
     "text": [
      "Evaluating: 100%|██████████| 9981/9981 [00:01<00:00, 6353.30it/s] \n"
     ]
    },
    {
     "name": "stdout",
     "output_type": "stream",
     "text": [
      "Train: 0.9167| Val: 0.6220| Test: 0.6220| Eval Time: 1.5771s\n",
      "Epoch 18| Loss: 0.7222| Acc: 0.9333| Train Time: 0.2218s\n"
     ]
    },
    {
     "name": "stderr",
     "output_type": "stream",
     "text": [
      "Evaluating: 100%|██████████| 9981/9981 [00:01<00:00, 6717.72it/s] \n"
     ]
    },
    {
     "name": "stdout",
     "output_type": "stream",
     "text": [
      "Train: 0.9167| Val: 0.6200| Test: 0.6070| Eval Time: 1.5583s\n",
      "Epoch 19| Loss: 1.1143| Acc: 0.8667| Train Time: 0.2388s\n"
     ]
    },
    {
     "name": "stderr",
     "output_type": "stream",
     "text": [
      "Evaluating: 100%|██████████| 9981/9981 [00:01<00:00, 6403.30it/s] \n"
     ]
    },
    {
     "name": "stdout",
     "output_type": "stream",
     "text": [
      "Train: 0.9167| Val: 0.6120| Test: 0.5990| Eval Time: 1.5694s\n",
      "Epoch 20| Loss: 0.6001| Acc: 0.9417| Train Time: 0.2356s\n"
     ]
    },
    {
     "name": "stderr",
     "output_type": "stream",
     "text": [
      "Evaluating: 100%|██████████| 9981/9981 [00:01<00:00, 6367.53it/s] \n"
     ]
    },
    {
     "name": "stdout",
     "output_type": "stream",
     "text": [
      "Train: 0.9250| Val: 0.6120| Test: 0.6020| Eval Time: 1.5741s\n",
      "Epoch 21| Loss: 0.4380| Acc: 0.9250| Train Time: 0.2229s\n"
     ]
    },
    {
     "name": "stderr",
     "output_type": "stream",
     "text": [
      "Evaluating: 100%|██████████| 9981/9981 [00:01<00:00, 7284.74it/s] \n"
     ]
    },
    {
     "name": "stdout",
     "output_type": "stream",
     "text": [
      "Train: 0.9250| Val: 0.6160| Test: 0.6030| Eval Time: 1.3762s\n",
      "Epoch 22| Loss: 1.0252| Acc: 0.9083| Train Time: 0.2166s\n"
     ]
    },
    {
     "name": "stderr",
     "output_type": "stream",
     "text": [
      "Evaluating: 100%|██████████| 9981/9981 [00:01<00:00, 6742.13it/s] \n"
     ]
    },
    {
     "name": "stdout",
     "output_type": "stream",
     "text": [
      "Train: 0.9250| Val: 0.6120| Test: 0.6120| Eval Time: 1.4863s\n",
      "Epoch 23| Loss: 0.4050| Acc: 0.9667| Train Time: 0.2833s\n"
     ]
    },
    {
     "name": "stderr",
     "output_type": "stream",
     "text": [
      "Evaluating: 100%|██████████| 9981/9981 [00:01<00:00, 7053.68it/s] \n"
     ]
    },
    {
     "name": "stdout",
     "output_type": "stream",
     "text": [
      "Train: 0.9250| Val: 0.6220| Test: 0.6220| Eval Time: 1.4837s\n",
      "Epoch 24| Loss: 0.2822| Acc: 0.9667| Train Time: 0.2106s\n"
     ]
    },
    {
     "name": "stderr",
     "output_type": "stream",
     "text": [
      "Evaluating: 100%|██████████| 9981/9981 [00:01<00:00, 7556.21it/s] \n"
     ]
    },
    {
     "name": "stdout",
     "output_type": "stream",
     "text": [
      "Train: 0.9333| Val: 0.6240| Test: 0.6320| Eval Time: 1.3950s\n",
      "Epoch 25| Loss: 0.3944| Acc: 0.9583| Train Time: 0.2364s\n"
     ]
    },
    {
     "name": "stderr",
     "output_type": "stream",
     "text": [
      "Evaluating: 100%|██████████| 9981/9981 [00:01<00:00, 7237.23it/s] \n"
     ]
    },
    {
     "name": "stdout",
     "output_type": "stream",
     "text": [
      "Train: 0.9500| Val: 0.6320| Test: 0.6410| Eval Time: 1.3875s\n",
      "Epoch 26| Loss: 0.3367| Acc: 0.9417| Train Time: 0.2958s\n"
     ]
    },
    {
     "name": "stderr",
     "output_type": "stream",
     "text": [
      "Evaluating: 100%|██████████| 9981/9981 [00:01<00:00, 7247.61it/s] \n"
     ]
    },
    {
     "name": "stdout",
     "output_type": "stream",
     "text": [
      "Train: 0.9333| Val: 0.6420| Test: 0.6470| Eval Time: 1.3873s\n",
      "Epoch 27| Loss: 0.2985| Acc: 0.9417| Train Time: 0.2280s\n"
     ]
    },
    {
     "name": "stderr",
     "output_type": "stream",
     "text": [
      "Evaluating: 100%|██████████| 9981/9981 [00:01<00:00, 7210.95it/s] \n"
     ]
    },
    {
     "name": "stdout",
     "output_type": "stream",
     "text": [
      "Train: 0.9333| Val: 0.6440| Test: 0.6590| Eval Time: 1.3908s\n",
      "Epoch 28| Loss: 0.3396| Acc: 0.9500| Train Time: 0.2774s\n"
     ]
    },
    {
     "name": "stderr",
     "output_type": "stream",
     "text": [
      "Evaluating: 100%|██████████| 9981/9981 [00:01<00:00, 7119.09it/s] \n"
     ]
    },
    {
     "name": "stdout",
     "output_type": "stream",
     "text": [
      "Train: 0.9333| Val: 0.6520| Test: 0.6600| Eval Time: 1.4088s\n",
      "Epoch 29| Loss: 1.1963| Acc: 0.9250| Train Time: 0.2285s\n"
     ]
    },
    {
     "name": "stderr",
     "output_type": "stream",
     "text": [
      "Evaluating: 100%|██████████| 9981/9981 [00:01<00:00, 7939.33it/s] \n"
     ]
    },
    {
     "name": "stdout",
     "output_type": "stream",
     "text": [
      "Train: 0.9250| Val: 0.6500| Test: 0.6590| Eval Time: 1.2652s\n",
      "Epoch 30| Loss: 0.2918| Acc: 0.9583| Train Time: 0.2254s\n"
     ]
    },
    {
     "name": "stderr",
     "output_type": "stream",
     "text": [
      "Evaluating: 100%|██████████| 9981/9981 [00:01<00:00, 7235.91it/s] \n"
     ]
    },
    {
     "name": "stdout",
     "output_type": "stream",
     "text": [
      "Train: 0.9250| Val: 0.6460| Test: 0.6570| Eval Time: 1.3854s\n",
      "Epoch 31| Loss: 0.3903| Acc: 0.9333| Train Time: 0.2953s\n"
     ]
    },
    {
     "name": "stderr",
     "output_type": "stream",
     "text": [
      "Evaluating: 100%|██████████| 9981/9981 [00:01<00:00, 6675.51it/s] \n"
     ]
    },
    {
     "name": "stdout",
     "output_type": "stream",
     "text": [
      "Train: 0.9333| Val: 0.6440| Test: 0.6540| Eval Time: 1.5018s\n",
      "Epoch 32| Loss: 0.2011| Acc: 0.9417| Train Time: 0.2265s\n"
     ]
    },
    {
     "name": "stderr",
     "output_type": "stream",
     "text": [
      "Evaluating: 100%|██████████| 9981/9981 [00:01<00:00, 6419.95it/s] \n"
     ]
    },
    {
     "name": "stdout",
     "output_type": "stream",
     "text": [
      "Train: 0.9333| Val: 0.6460| Test: 0.6490| Eval Time: 1.5631s\n",
      "Epoch 33| Loss: 0.1405| Acc: 0.9917| Train Time: 0.2302s\n"
     ]
    },
    {
     "name": "stderr",
     "output_type": "stream",
     "text": [
      "Evaluating: 100%|██████████| 9981/9981 [00:01<00:00, 6780.40it/s] \n"
     ]
    },
    {
     "name": "stdout",
     "output_type": "stream",
     "text": [
      "Train: 0.9250| Val: 0.6440| Test: 0.6470| Eval Time: 1.4782s\n",
      "Epoch 34| Loss: 0.0545| Acc: 0.9667| Train Time: 0.2262s\n"
     ]
    },
    {
     "name": "stderr",
     "output_type": "stream",
     "text": [
      "Evaluating: 100%|██████████| 9981/9981 [00:01<00:00, 6875.21it/s] \n"
     ]
    },
    {
     "name": "stdout",
     "output_type": "stream",
     "text": [
      "Train: 0.9167| Val: 0.6440| Test: 0.6470| Eval Time: 1.4606s\n",
      "Epoch 35| Loss: 0.0860| Acc: 0.9833| Train Time: 0.2393s\n"
     ]
    },
    {
     "name": "stderr",
     "output_type": "stream",
     "text": [
      "Evaluating: 100%|██████████| 9981/9981 [00:01<00:00, 7245.88it/s] \n"
     ]
    },
    {
     "name": "stdout",
     "output_type": "stream",
     "text": [
      "Train: 0.9167| Val: 0.6400| Test: 0.6500| Eval Time: 1.3844s\n",
      "Epoch 36| Loss: 0.5337| Acc: 0.9750| Train Time: 0.2893s\n"
     ]
    },
    {
     "name": "stderr",
     "output_type": "stream",
     "text": [
      "Evaluating: 100%|██████████| 9981/9981 [00:01<00:00, 6675.57it/s] \n"
     ]
    },
    {
     "name": "stdout",
     "output_type": "stream",
     "text": [
      "Train: 0.9167| Val: 0.6420| Test: 0.6510| Eval Time: 1.5031s\n",
      "Epoch 37| Loss: 0.1492| Acc: 0.9750| Train Time: 0.2688s\n"
     ]
    },
    {
     "name": "stderr",
     "output_type": "stream",
     "text": [
      "Evaluating: 100%|██████████| 9981/9981 [00:01<00:00, 7664.26it/s] \n"
     ]
    },
    {
     "name": "stdout",
     "output_type": "stream",
     "text": [
      "Train: 0.9167| Val: 0.6480| Test: 0.6550| Eval Time: 1.3139s\n",
      "Epoch 38| Loss: 0.8797| Acc: 0.9417| Train Time: 0.2216s\n"
     ]
    },
    {
     "name": "stderr",
     "output_type": "stream",
     "text": [
      "Evaluating: 100%|██████████| 9981/9981 [00:01<00:00, 7828.22it/s] \n"
     ]
    },
    {
     "name": "stdout",
     "output_type": "stream",
     "text": [
      "Train: 0.9083| Val: 0.6460| Test: 0.6630| Eval Time: 1.2797s\n",
      "\n",
      "Result of  9. run| Train: 0.8833| Val: 0.6960| Test: 0.6670\n",
      "\n",
      "Run 10 for GatV1_K7_D3_s and CiteSeer:\n"
     ]
    },
    {
     "name": "stderr",
     "output_type": "stream",
     "text": [
      "Epoch 01: 100%|██████████| 120/120 [00:00<00:00, 557.10it/s]\n"
     ]
    },
    {
     "name": "stdout",
     "output_type": "stream",
     "text": [
      "Epoch 01| Loss: 2.4891| Acc: 0.1083| Train Time: 0.2182s\n"
     ]
    },
    {
     "name": "stderr",
     "output_type": "stream",
     "text": [
      "Evaluating: 100%|██████████| 9981/9981 [00:01<00:00, 6728.08it/s] \n"
     ]
    },
    {
     "name": "stdout",
     "output_type": "stream",
     "text": [
      "Train: 0.7250| Val: 0.6280| Test: 0.6030| Eval Time: 1.4889s\n",
      "Epoch 02| Loss: 2.2664| Acc: 0.5500| Train Time: 0.2992s\n"
     ]
    },
    {
     "name": "stderr",
     "output_type": "stream",
     "text": [
      "Evaluating: 100%|██████████| 9981/9981 [00:01<00:00, 6265.01it/s] \n"
     ]
    },
    {
     "name": "stdout",
     "output_type": "stream",
     "text": [
      "Train: 0.7833| Val: 0.6780| Test: 0.6570| Eval Time: 1.6011s\n",
      "Epoch 03| Loss: 2.0196| Acc: 0.6333| Train Time: 0.2280s\n"
     ]
    },
    {
     "name": "stderr",
     "output_type": "stream",
     "text": [
      "Evaluating: 100%|██████████| 9981/9981 [00:01<00:00, 7284.75it/s] \n"
     ]
    },
    {
     "name": "stdout",
     "output_type": "stream",
     "text": [
      "Train: 0.8167| Val: 0.6780| Test: 0.6610| Eval Time: 1.4450s\n",
      "Epoch 04| Loss: 1.7903| Acc: 0.6750| Train Time: 0.2271s\n"
     ]
    },
    {
     "name": "stderr",
     "output_type": "stream",
     "text": [
      "Evaluating: 100%|██████████| 9981/9981 [00:01<00:00, 6381.33it/s] \n"
     ]
    },
    {
     "name": "stdout",
     "output_type": "stream",
     "text": [
      "Train: 0.8417| Val: 0.6380| Test: 0.6370| Eval Time: 1.5718s\n",
      "Epoch 05| Loss: 1.6009| Acc: 0.7667| Train Time: 0.2240s\n"
     ]
    },
    {
     "name": "stderr",
     "output_type": "stream",
     "text": [
      "Evaluating: 100%|██████████| 9981/9981 [00:01<00:00, 6284.28it/s] \n"
     ]
    },
    {
     "name": "stdout",
     "output_type": "stream",
     "text": [
      "Train: 0.8583| Val: 0.6300| Test: 0.6090| Eval Time: 1.5972s\n",
      "Epoch 06| Loss: 1.1180| Acc: 0.7417| Train Time: 0.2287s\n"
     ]
    },
    {
     "name": "stderr",
     "output_type": "stream",
     "text": [
      "Evaluating: 100%|██████████| 9981/9981 [00:01<00:00, 6816.83it/s] \n"
     ]
    },
    {
     "name": "stdout",
     "output_type": "stream",
     "text": [
      "Train: 0.8833| Val: 0.6340| Test: 0.6130| Eval Time: 1.4709s\n",
      "Epoch 07| Loss: 1.9263| Acc: 0.7417| Train Time: 0.2271s\n"
     ]
    },
    {
     "name": "stderr",
     "output_type": "stream",
     "text": [
      "Evaluating: 100%|██████████| 9981/9981 [00:01<00:00, 6938.64it/s] \n"
     ]
    },
    {
     "name": "stdout",
     "output_type": "stream",
     "text": [
      "Train: 0.8833| Val: 0.6260| Test: 0.6070| Eval Time: 1.4497s\n",
      "Epoch 08| Loss: 1.8291| Acc: 0.7917| Train Time: 0.2316s\n"
     ]
    },
    {
     "name": "stderr",
     "output_type": "stream",
     "text": [
      "Evaluating: 100%|██████████| 9981/9981 [00:01<00:00, 6719.29it/s] \n"
     ]
    },
    {
     "name": "stdout",
     "output_type": "stream",
     "text": [
      "Train: 0.8833| Val: 0.6260| Test: 0.6000| Eval Time: 1.4922s\n",
      "Epoch 09| Loss: 1.9620| Acc: 0.8000| Train Time: 0.3103s\n"
     ]
    },
    {
     "name": "stderr",
     "output_type": "stream",
     "text": [
      "Evaluating: 100%|██████████| 9981/9981 [00:01<00:00, 6690.15it/s] \n"
     ]
    },
    {
     "name": "stdout",
     "output_type": "stream",
     "text": [
      "Train: 0.8917| Val: 0.6100| Test: 0.5900| Eval Time: 1.4977s\n",
      "Epoch 10| Loss: 0.9262| Acc: 0.8917| Train Time: 0.2991s\n"
     ]
    },
    {
     "name": "stderr",
     "output_type": "stream",
     "text": [
      "Evaluating: 100%|██████████| 9981/9981 [00:01<00:00, 6847.38it/s] \n"
     ]
    },
    {
     "name": "stdout",
     "output_type": "stream",
     "text": [
      "Train: 0.8917| Val: 0.5900| Test: 0.5920| Eval Time: 1.4718s\n",
      "Epoch 11| Loss: 0.8110| Acc: 0.8667| Train Time: 0.2383s\n"
     ]
    },
    {
     "name": "stderr",
     "output_type": "stream",
     "text": [
      "Evaluating: 100%|██████████| 9981/9981 [00:01<00:00, 6761.88it/s] \n"
     ]
    },
    {
     "name": "stdout",
     "output_type": "stream",
     "text": [
      "Train: 0.8917| Val: 0.5920| Test: 0.5940| Eval Time: 1.4827s\n",
      "Epoch 12| Loss: 0.4356| Acc: 0.8833| Train Time: 0.2386s\n"
     ]
    },
    {
     "name": "stderr",
     "output_type": "stream",
     "text": [
      "Evaluating: 100%|██████████| 9981/9981 [00:01<00:00, 6783.59it/s] \n"
     ]
    },
    {
     "name": "stdout",
     "output_type": "stream",
     "text": [
      "Train: 0.9000| Val: 0.6020| Test: 0.6000| Eval Time: 1.4813s\n",
      "Epoch 13| Loss: 0.8817| Acc: 0.9167| Train Time: 0.2348s\n"
     ]
    },
    {
     "name": "stderr",
     "output_type": "stream",
     "text": [
      "Evaluating: 100%|██████████| 9981/9981 [00:01<00:00, 6772.28it/s] \n"
     ]
    },
    {
     "name": "stdout",
     "output_type": "stream",
     "text": [
      "Train: 0.9167| Val: 0.6020| Test: 0.6080| Eval Time: 1.4797s\n",
      "Epoch 14| Loss: 1.5130| Acc: 0.9000| Train Time: 0.2920s\n"
     ]
    },
    {
     "name": "stderr",
     "output_type": "stream",
     "text": [
      "Evaluating: 100%|██████████| 9981/9981 [00:01<00:00, 6674.03it/s] \n"
     ]
    },
    {
     "name": "stdout",
     "output_type": "stream",
     "text": [
      "Train: 0.9167| Val: 0.6080| Test: 0.6110| Eval Time: 1.5040s\n",
      "Epoch 15| Loss: 0.5617| Acc: 0.9167| Train Time: 0.2938s\n"
     ]
    },
    {
     "name": "stderr",
     "output_type": "stream",
     "text": [
      "Evaluating: 100%|██████████| 9981/9981 [00:01<00:00, 7122.26it/s] \n"
     ]
    },
    {
     "name": "stdout",
     "output_type": "stream",
     "text": [
      "Train: 0.9333| Val: 0.6180| Test: 0.6160| Eval Time: 1.4077s\n",
      "Epoch 16| Loss: 0.8698| Acc: 0.9083| Train Time: 0.2955s\n"
     ]
    },
    {
     "name": "stderr",
     "output_type": "stream",
     "text": [
      "Evaluating: 100%|██████████| 9981/9981 [00:01<00:00, 6674.95it/s] \n"
     ]
    },
    {
     "name": "stdout",
     "output_type": "stream",
     "text": [
      "Train: 0.9333| Val: 0.6260| Test: 0.6180| Eval Time: 1.5034s\n",
      "Epoch 17| Loss: 0.7429| Acc: 0.9417| Train Time: 0.2803s\n"
     ]
    },
    {
     "name": "stderr",
     "output_type": "stream",
     "text": [
      "Evaluating: 100%|██████████| 9981/9981 [00:01<00:00, 7660.41it/s] \n"
     ]
    },
    {
     "name": "stdout",
     "output_type": "stream",
     "text": [
      "Train: 0.9333| Val: 0.6280| Test: 0.6210| Eval Time: 1.3115s\n",
      "Epoch 18| Loss: 0.9736| Acc: 0.8833| Train Time: 0.2153s\n"
     ]
    },
    {
     "name": "stderr",
     "output_type": "stream",
     "text": [
      "Evaluating: 100%|██████████| 9981/9981 [00:01<00:00, 7197.78it/s] \n"
     ]
    },
    {
     "name": "stdout",
     "output_type": "stream",
     "text": [
      "Train: 0.9417| Val: 0.6400| Test: 0.6210| Eval Time: 1.3920s\n",
      "Epoch 19| Loss: 0.6453| Acc: 0.9167| Train Time: 0.2986s\n"
     ]
    },
    {
     "name": "stderr",
     "output_type": "stream",
     "text": [
      "Evaluating: 100%|██████████| 9981/9981 [00:01<00:00, 6373.18it/s] \n"
     ]
    },
    {
     "name": "stdout",
     "output_type": "stream",
     "text": [
      "Train: 0.9333| Val: 0.6560| Test: 0.6220| Eval Time: 1.5770s\n",
      "Epoch 20| Loss: 1.2264| Acc: 0.9333| Train Time: 0.2266s\n"
     ]
    },
    {
     "name": "stderr",
     "output_type": "stream",
     "text": [
      "Evaluating: 100%|██████████| 9981/9981 [00:01<00:00, 6721.73it/s] \n"
     ]
    },
    {
     "name": "stdout",
     "output_type": "stream",
     "text": [
      "Train: 0.9250| Val: 0.6580| Test: 0.6240| Eval Time: 1.4917s\n",
      "Epoch 21| Loss: 0.1588| Acc: 0.9500| Train Time: 0.3083s\n"
     ]
    },
    {
     "name": "stderr",
     "output_type": "stream",
     "text": [
      "Evaluating: 100%|██████████| 9981/9981 [00:01<00:00, 6847.46it/s] \n"
     ]
    },
    {
     "name": "stdout",
     "output_type": "stream",
     "text": [
      "Train: 0.9333| Val: 0.6560| Test: 0.6290| Eval Time: 1.4702s\n",
      "Epoch 22| Loss: 0.5778| Acc: 0.9083| Train Time: 0.2240s\n"
     ]
    },
    {
     "name": "stderr",
     "output_type": "stream",
     "text": [
      "Evaluating: 100%|██████████| 9981/9981 [00:01<00:00, 6746.45it/s] \n"
     ]
    },
    {
     "name": "stdout",
     "output_type": "stream",
     "text": [
      "Train: 0.9333| Val: 0.6580| Test: 0.6280| Eval Time: 1.4882s\n",
      "Epoch 23| Loss: 0.5377| Acc: 0.9083| Train Time: 0.2285s\n"
     ]
    },
    {
     "name": "stderr",
     "output_type": "stream",
     "text": [
      "Evaluating: 100%|██████████| 9981/9981 [00:01<00:00, 7192.93it/s] \n"
     ]
    },
    {
     "name": "stdout",
     "output_type": "stream",
     "text": [
      "Train: 0.9417| Val: 0.6460| Test: 0.6400| Eval Time: 1.4535s\n",
      "Epoch 24| Loss: 0.1047| Acc: 0.9667| Train Time: 0.2223s\n"
     ]
    },
    {
     "name": "stderr",
     "output_type": "stream",
     "text": [
      "Evaluating: 100%|██████████| 9981/9981 [00:01<00:00, 6629.29it/s] \n"
     ]
    },
    {
     "name": "stdout",
     "output_type": "stream",
     "text": [
      "Train: 0.9417| Val: 0.6480| Test: 0.6450| Eval Time: 1.5784s\n",
      "Epoch 25| Loss: 0.8485| Acc: 0.9417| Train Time: 0.2224s\n"
     ]
    },
    {
     "name": "stderr",
     "output_type": "stream",
     "text": [
      "Evaluating: 100%|██████████| 9981/9981 [00:01<00:00, 7719.28it/s] \n"
     ]
    },
    {
     "name": "stdout",
     "output_type": "stream",
     "text": [
      "Train: 0.9583| Val: 0.6540| Test: 0.6390| Eval Time: 1.2997s\n",
      "Epoch 26| Loss: 0.4946| Acc: 0.9250| Train Time: 0.3013s\n"
     ]
    },
    {
     "name": "stderr",
     "output_type": "stream",
     "text": [
      "Evaluating: 100%|██████████| 9981/9981 [00:01<00:00, 7168.08it/s] \n"
     ]
    },
    {
     "name": "stdout",
     "output_type": "stream",
     "text": [
      "Train: 0.9500| Val: 0.6560| Test: 0.6440| Eval Time: 1.4001s\n",
      "Epoch 27| Loss: 0.5006| Acc: 0.9500| Train Time: 0.2360s\n"
     ]
    },
    {
     "name": "stderr",
     "output_type": "stream",
     "text": [
      "Evaluating: 100%|██████████| 9981/9981 [00:01<00:00, 6774.53it/s] \n"
     ]
    },
    {
     "name": "stdout",
     "output_type": "stream",
     "text": [
      "Train: 0.9500| Val: 0.6540| Test: 0.6500| Eval Time: 1.4836s\n",
      "Epoch 28| Loss: 0.7460| Acc: 0.9083| Train Time: 0.2272s\n"
     ]
    },
    {
     "name": "stderr",
     "output_type": "stream",
     "text": [
      "Evaluating: 100%|██████████| 9981/9981 [00:01<00:00, 6048.30it/s] \n"
     ]
    },
    {
     "name": "stdout",
     "output_type": "stream",
     "text": [
      "Train: 0.9417| Val: 0.6580| Test: 0.6480| Eval Time: 1.6557s\n",
      "Epoch 29| Loss: 0.1919| Acc: 0.9667| Train Time: 0.2165s\n"
     ]
    },
    {
     "name": "stderr",
     "output_type": "stream",
     "text": [
      "Evaluating: 100%|██████████| 9981/9981 [00:01<00:00, 7076.77it/s] \n"
     ]
    },
    {
     "name": "stdout",
     "output_type": "stream",
     "text": [
      "Train: 0.9417| Val: 0.6540| Test: 0.6500| Eval Time: 1.4167s\n",
      "Epoch 30| Loss: 1.0987| Acc: 0.9333| Train Time: 0.2954s\n"
     ]
    },
    {
     "name": "stderr",
     "output_type": "stream",
     "text": [
      "Evaluating: 100%|██████████| 9981/9981 [00:01<00:00, 6767.13it/s] \n"
     ]
    },
    {
     "name": "stdout",
     "output_type": "stream",
     "text": [
      "Train: 0.9333| Val: 0.6600| Test: 0.6580| Eval Time: 1.4825s\n",
      "Epoch 31| Loss: 1.2534| Acc: 0.9500| Train Time: 0.2327s\n"
     ]
    },
    {
     "name": "stderr",
     "output_type": "stream",
     "text": [
      "Evaluating: 100%|██████████| 9981/9981 [00:01<00:00, 7249.68it/s] \n"
     ]
    },
    {
     "name": "stdout",
     "output_type": "stream",
     "text": [
      "Train: 0.9583| Val: 0.6640| Test: 0.6560| Eval Time: 1.3835s\n",
      "Epoch 32| Loss: 0.1475| Acc: 0.9833| Train Time: 0.2269s\n"
     ]
    },
    {
     "name": "stderr",
     "output_type": "stream",
     "text": [
      "Evaluating: 100%|██████████| 9981/9981 [00:01<00:00, 7238.50it/s] \n"
     ]
    },
    {
     "name": "stdout",
     "output_type": "stream",
     "text": [
      "Train: 0.9583| Val: 0.6680| Test: 0.6570| Eval Time: 1.4476s\n",
      "\n",
      "Result of 10. run| Train: 0.7833| Val: 0.6780| Test: 0.6570\n",
      "\n",
      "Run 01 for GatV1_K8_D3_s and CiteSeer:\n"
     ]
    },
    {
     "name": "stderr",
     "output_type": "stream",
     "text": [
      "Epoch 01: 100%|██████████| 120/120 [00:01<00:00, 87.51it/s]\n"
     ]
    },
    {
     "name": "stdout",
     "output_type": "stream",
     "text": [
      "Epoch 01| Loss: 3.0357| Acc: 0.2000| Train Time: 1.3771s\n"
     ]
    },
    {
     "name": "stderr",
     "output_type": "stream",
     "text": [
      "Evaluating: 100%|██████████| 9981/9981 [00:01<00:00, 7063.13it/s] \n"
     ]
    },
    {
     "name": "stdout",
     "output_type": "stream",
     "text": [
      "Train: 0.6750| Val: 0.4940| Test: 0.4600| Eval Time: 1.4209s\n",
      "Epoch 02| Loss: 1.9885| Acc: 0.5000| Train Time: 1.2331s\n"
     ]
    },
    {
     "name": "stderr",
     "output_type": "stream",
     "text": [
      "Evaluating: 100%|██████████| 9981/9981 [00:01<00:00, 6440.07it/s] \n"
     ]
    },
    {
     "name": "stdout",
     "output_type": "stream",
     "text": [
      "Train: 0.8250| Val: 0.6620| Test: 0.6660| Eval Time: 1.5713s\n",
      "Epoch 03| Loss: 2.1638| Acc: 0.6250| Train Time: 0.2479s\n"
     ]
    },
    {
     "name": "stderr",
     "output_type": "stream",
     "text": [
      "Evaluating: 100%|██████████| 9981/9981 [00:01<00:00, 6018.25it/s] \n"
     ]
    },
    {
     "name": "stdout",
     "output_type": "stream",
     "text": [
      "Train: 0.7917| Val: 0.6420| Test: 0.6490| Eval Time: 1.6666s\n",
      "Epoch 04| Loss: 2.1735| Acc: 0.6667| Train Time: 0.3068s\n"
     ]
    },
    {
     "name": "stderr",
     "output_type": "stream",
     "text": [
      "Evaluating: 100%|██████████| 9981/9981 [00:01<00:00, 6413.09it/s] \n"
     ]
    },
    {
     "name": "stdout",
     "output_type": "stream",
     "text": [
      "Train: 0.7917| Val: 0.6440| Test: 0.6460| Eval Time: 1.5639s\n",
      "Epoch 05| Loss: 1.5222| Acc: 0.6917| Train Time: 0.2512s\n"
     ]
    },
    {
     "name": "stderr",
     "output_type": "stream",
     "text": [
      "Evaluating: 100%|██████████| 9981/9981 [00:01<00:00, 6356.19it/s] \n"
     ]
    },
    {
     "name": "stdout",
     "output_type": "stream",
     "text": [
      "Train: 0.8000| Val: 0.6240| Test: 0.6280| Eval Time: 1.5773s\n",
      "Epoch 06| Loss: 2.4589| Acc: 0.7083| Train Time: 0.3171s\n"
     ]
    },
    {
     "name": "stderr",
     "output_type": "stream",
     "text": [
      "Evaluating: 100%|██████████| 9981/9981 [00:01<00:00, 5942.31it/s] \n"
     ]
    },
    {
     "name": "stdout",
     "output_type": "stream",
     "text": [
      "Train: 0.8667| Val: 0.6140| Test: 0.6240| Eval Time: 1.6868s\n",
      "Epoch 07| Loss: 1.5250| Acc: 0.8000| Train Time: 0.2335s\n"
     ]
    },
    {
     "name": "stderr",
     "output_type": "stream",
     "text": [
      "Evaluating: 100%|██████████| 9981/9981 [00:01<00:00, 5883.44it/s] \n"
     ]
    },
    {
     "name": "stdout",
     "output_type": "stream",
     "text": [
      "Train: 0.8833| Val: 0.6160| Test: 0.6240| Eval Time: 1.7033s\n",
      "Epoch 08| Loss: 1.8170| Acc: 0.7917| Train Time: 0.3001s\n"
     ]
    },
    {
     "name": "stderr",
     "output_type": "stream",
     "text": [
      "Evaluating: 100%|██████████| 9981/9981 [00:01<00:00, 5977.35it/s] \n"
     ]
    },
    {
     "name": "stdout",
     "output_type": "stream",
     "text": [
      "Train: 0.8750| Val: 0.6120| Test: 0.6150| Eval Time: 1.6809s\n",
      "Epoch 09| Loss: 1.2207| Acc: 0.8417| Train Time: 0.2449s\n"
     ]
    },
    {
     "name": "stderr",
     "output_type": "stream",
     "text": [
      "Evaluating: 100%|██████████| 9981/9981 [00:01<00:00, 6369.83it/s] \n"
     ]
    },
    {
     "name": "stdout",
     "output_type": "stream",
     "text": [
      "Train: 0.8583| Val: 0.6040| Test: 0.6000| Eval Time: 1.5736s\n",
      "Epoch 10| Loss: 1.3730| Acc: 0.8333| Train Time: 0.3130s\n"
     ]
    },
    {
     "name": "stderr",
     "output_type": "stream",
     "text": [
      "Evaluating: 100%|██████████| 9981/9981 [00:01<00:00, 6349.23it/s] \n"
     ]
    },
    {
     "name": "stdout",
     "output_type": "stream",
     "text": [
      "Train: 0.8583| Val: 0.5960| Test: 0.5940| Eval Time: 1.5785s\n",
      "Epoch 11| Loss: 1.2439| Acc: 0.8500| Train Time: 0.2320s\n"
     ]
    },
    {
     "name": "stderr",
     "output_type": "stream",
     "text": [
      "Evaluating: 100%|██████████| 9981/9981 [00:01<00:00, 8536.01it/s] \n"
     ]
    },
    {
     "name": "stdout",
     "output_type": "stream",
     "text": [
      "Train: 0.8583| Val: 0.5900| Test: 0.5970| Eval Time: 1.1741s\n",
      "Epoch 12| Loss: 2.1485| Acc: 0.8500| Train Time: 0.3312s\n"
     ]
    },
    {
     "name": "stderr",
     "output_type": "stream",
     "text": [
      "Evaluating: 100%|██████████| 9981/9981 [00:01<00:00, 6950.28it/s] \n"
     ]
    },
    {
     "name": "stdout",
     "output_type": "stream",
     "text": [
      "Train: 0.8750| Val: 0.5780| Test: 0.5890| Eval Time: 1.4443s\n",
      "Epoch 13| Loss: 1.5567| Acc: 0.8500| Train Time: 0.2273s\n"
     ]
    },
    {
     "name": "stderr",
     "output_type": "stream",
     "text": [
      "Evaluating: 100%|██████████| 9981/9981 [00:01<00:00, 6310.64it/s] \n"
     ]
    },
    {
     "name": "stdout",
     "output_type": "stream",
     "text": [
      "Train: 0.8833| Val: 0.5980| Test: 0.5980| Eval Time: 1.5873s\n",
      "Epoch 14| Loss: 0.6981| Acc: 0.9333| Train Time: 0.2386s\n"
     ]
    },
    {
     "name": "stderr",
     "output_type": "stream",
     "text": [
      "Evaluating: 100%|██████████| 9981/9981 [00:01<00:00, 6820.16it/s] \n"
     ]
    },
    {
     "name": "stdout",
     "output_type": "stream",
     "text": [
      "Train: 0.8750| Val: 0.6020| Test: 0.6090| Eval Time: 1.4694s\n",
      "Epoch 15| Loss: 1.0564| Acc: 0.8417| Train Time: 0.3122s\n"
     ]
    },
    {
     "name": "stderr",
     "output_type": "stream",
     "text": [
      "Evaluating: 100%|██████████| 9981/9981 [00:01<00:00, 6004.11it/s] \n"
     ]
    },
    {
     "name": "stdout",
     "output_type": "stream",
     "text": [
      "Train: 0.8833| Val: 0.6080| Test: 0.6090| Eval Time: 1.6715s\n",
      "Epoch 16| Loss: 0.5406| Acc: 0.9167| Train Time: 0.2487s\n"
     ]
    },
    {
     "name": "stderr",
     "output_type": "stream",
     "text": [
      "Evaluating: 100%|██████████| 9981/9981 [00:01<00:00, 6388.53it/s] \n"
     ]
    },
    {
     "name": "stdout",
     "output_type": "stream",
     "text": [
      "Train: 0.9000| Val: 0.6160| Test: 0.6150| Eval Time: 1.5695s\n",
      "Epoch 17| Loss: 1.0131| Acc: 0.8750| Train Time: 0.3039s\n"
     ]
    },
    {
     "name": "stderr",
     "output_type": "stream",
     "text": [
      "Evaluating: 100%|██████████| 9981/9981 [00:01<00:00, 5951.06it/s] \n"
     ]
    },
    {
     "name": "stdout",
     "output_type": "stream",
     "text": [
      "Train: 0.8833| Val: 0.6280| Test: 0.6270| Eval Time: 1.6842s\n",
      "Epoch 18| Loss: 1.2850| Acc: 0.9083| Train Time: 0.3031s\n"
     ]
    },
    {
     "name": "stderr",
     "output_type": "stream",
     "text": [
      "Evaluating: 100%|██████████| 9981/9981 [00:01<00:00, 6687.35it/s] \n"
     ]
    },
    {
     "name": "stdout",
     "output_type": "stream",
     "text": [
      "Train: 0.8833| Val: 0.6320| Test: 0.6370| Eval Time: 1.5000s\n",
      "Epoch 19| Loss: 1.1767| Acc: 0.8833| Train Time: 0.3045s\n"
     ]
    },
    {
     "name": "stderr",
     "output_type": "stream",
     "text": [
      "Evaluating: 100%|██████████| 9981/9981 [00:01<00:00, 6290.87it/s] \n"
     ]
    },
    {
     "name": "stdout",
     "output_type": "stream",
     "text": [
      "Train: 0.8917| Val: 0.6420| Test: 0.6440| Eval Time: 1.5932s\n",
      "Epoch 20| Loss: 0.6570| Acc: 0.9000| Train Time: 0.3127s\n"
     ]
    },
    {
     "name": "stderr",
     "output_type": "stream",
     "text": [
      "Evaluating: 100%|██████████| 9981/9981 [00:01<00:00, 6337.31it/s] \n"
     ]
    },
    {
     "name": "stdout",
     "output_type": "stream",
     "text": [
      "Train: 0.9000| Val: 0.6440| Test: 0.6590| Eval Time: 1.5834s\n",
      "Epoch 21| Loss: 1.3309| Acc: 0.9000| Train Time: 0.2386s\n"
     ]
    },
    {
     "name": "stderr",
     "output_type": "stream",
     "text": [
      "Evaluating: 100%|██████████| 9981/9981 [00:01<00:00, 6012.09it/s] \n"
     ]
    },
    {
     "name": "stdout",
     "output_type": "stream",
     "text": [
      "Train: 0.9167| Val: 0.6440| Test: 0.6650| Eval Time: 1.6658s\n",
      "Epoch 22| Loss: 0.2890| Acc: 0.9250| Train Time: 0.2561s\n"
     ]
    },
    {
     "name": "stderr",
     "output_type": "stream",
     "text": [
      "Evaluating: 100%|██████████| 9981/9981 [00:01<00:00, 6377.04it/s] \n"
     ]
    },
    {
     "name": "stdout",
     "output_type": "stream",
     "text": [
      "Train: 0.9167| Val: 0.6440| Test: 0.6580| Eval Time: 1.5731s\n",
      "Epoch 23| Loss: 1.5329| Acc: 0.8750| Train Time: 0.3183s\n"
     ]
    },
    {
     "name": "stderr",
     "output_type": "stream",
     "text": [
      "Evaluating: 100%|██████████| 9981/9981 [00:01<00:00, 5943.28it/s] \n"
     ]
    },
    {
     "name": "stdout",
     "output_type": "stream",
     "text": [
      "Train: 0.9250| Val: 0.6360| Test: 0.6530| Eval Time: 1.6859s\n",
      "Epoch 24| Loss: 0.5923| Acc: 0.9250| Train Time: 0.3050s\n"
     ]
    },
    {
     "name": "stderr",
     "output_type": "stream",
     "text": [
      "Evaluating: 100%|██████████| 9981/9981 [00:01<00:00, 6013.17it/s] \n"
     ]
    },
    {
     "name": "stdout",
     "output_type": "stream",
     "text": [
      "Train: 0.9333| Val: 0.6320| Test: 0.6580| Eval Time: 1.6718s\n",
      "Epoch 25| Loss: 0.5222| Acc: 0.9333| Train Time: 0.2442s\n"
     ]
    },
    {
     "name": "stderr",
     "output_type": "stream",
     "text": [
      "Evaluating: 100%|██████████| 9981/9981 [00:01<00:00, 6390.02it/s] \n"
     ]
    },
    {
     "name": "stdout",
     "output_type": "stream",
     "text": [
      "Train: 0.9417| Val: 0.6300| Test: 0.6580| Eval Time: 1.5690s\n",
      "Epoch 26| Loss: 0.2805| Acc: 0.9333| Train Time: 0.2344s\n"
     ]
    },
    {
     "name": "stderr",
     "output_type": "stream",
     "text": [
      "Evaluating: 100%|██████████| 9981/9981 [00:01<00:00, 6846.17it/s] \n"
     ]
    },
    {
     "name": "stdout",
     "output_type": "stream",
     "text": [
      "Train: 0.9167| Val: 0.6200| Test: 0.6550| Eval Time: 1.4647s\n",
      "Epoch 27| Loss: 1.5760| Acc: 0.9167| Train Time: 0.2385s\n"
     ]
    },
    {
     "name": "stderr",
     "output_type": "stream",
     "text": [
      "Evaluating: 100%|██████████| 9981/9981 [00:01<00:00, 7875.05it/s] \n"
     ]
    },
    {
     "name": "stdout",
     "output_type": "stream",
     "text": [
      "Train: 0.9083| Val: 0.6120| Test: 0.6610| Eval Time: 1.3341s\n",
      "Epoch 28| Loss: 1.1371| Acc: 0.9167| Train Time: 0.2251s\n"
     ]
    },
    {
     "name": "stderr",
     "output_type": "stream",
     "text": [
      "Evaluating: 100%|██████████| 9981/9981 [00:01<00:00, 5639.08it/s] \n"
     ]
    },
    {
     "name": "stdout",
     "output_type": "stream",
     "text": [
      "Train: 0.9000| Val: 0.6060| Test: 0.6610| Eval Time: 1.7829s\n",
      "Epoch 29| Loss: 1.1788| Acc: 0.9333| Train Time: 0.2454s\n"
     ]
    },
    {
     "name": "stderr",
     "output_type": "stream",
     "text": [
      "Evaluating: 100%|██████████| 9981/9981 [00:01<00:00, 6746.21it/s] \n"
     ]
    },
    {
     "name": "stdout",
     "output_type": "stream",
     "text": [
      "Train: 0.9083| Val: 0.6100| Test: 0.6440| Eval Time: 1.5510s\n",
      "Epoch 30| Loss: 1.0317| Acc: 0.9333| Train Time: 0.2307s\n"
     ]
    },
    {
     "name": "stderr",
     "output_type": "stream",
     "text": [
      "Evaluating: 100%|██████████| 9981/9981 [00:01<00:00, 6381.70it/s] \n"
     ]
    },
    {
     "name": "stdout",
     "output_type": "stream",
     "text": [
      "Train: 0.9083| Val: 0.6020| Test: 0.6320| Eval Time: 1.5739s\n",
      "Epoch 31| Loss: 0.7891| Acc: 0.9167| Train Time: 0.2495s\n"
     ]
    },
    {
     "name": "stderr",
     "output_type": "stream",
     "text": [
      "Evaluating: 100%|██████████| 9981/9981 [00:01<00:00, 6436.05it/s] \n"
     ]
    },
    {
     "name": "stdout",
     "output_type": "stream",
     "text": [
      "Train: 0.8917| Val: 0.5980| Test: 0.6330| Eval Time: 1.5593s\n",
      "Epoch 32| Loss: 0.4672| Acc: 0.9500| Train Time: 0.2424s\n"
     ]
    },
    {
     "name": "stderr",
     "output_type": "stream",
     "text": [
      "Evaluating: 100%|██████████| 9981/9981 [00:01<00:00, 6865.28it/s] \n"
     ]
    },
    {
     "name": "stdout",
     "output_type": "stream",
     "text": [
      "Train: 0.8917| Val: 0.5960| Test: 0.6340| Eval Time: 1.4603s\n",
      "\n",
      "Result of  1. run| Train: 0.8250| Val: 0.6620| Test: 0.6660\n",
      "\n",
      "Run 02 for GatV1_K8_D3_s and CiteSeer:\n"
     ]
    },
    {
     "name": "stderr",
     "output_type": "stream",
     "text": [
      "Epoch 01: 100%|██████████| 120/120 [00:00<00:00, 377.28it/s]\n"
     ]
    },
    {
     "name": "stdout",
     "output_type": "stream",
     "text": [
      "Epoch 01| Loss: 2.7851| Acc: 0.1750| Train Time: 0.3298s\n"
     ]
    },
    {
     "name": "stderr",
     "output_type": "stream",
     "text": [
      "Evaluating: 100%|██████████| 9981/9981 [00:01<00:00, 6812.10it/s] \n"
     ]
    },
    {
     "name": "stdout",
     "output_type": "stream",
     "text": [
      "Train: 0.6917| Val: 0.5400| Test: 0.5370| Eval Time: 1.4734s\n",
      "Epoch 02| Loss: 2.6843| Acc: 0.4667| Train Time: 0.3091s\n"
     ]
    },
    {
     "name": "stderr",
     "output_type": "stream",
     "text": [
      "Evaluating: 100%|██████████| 9981/9981 [00:01<00:00, 5636.64it/s] \n"
     ]
    },
    {
     "name": "stdout",
     "output_type": "stream",
     "text": [
      "Train: 0.7417| Val: 0.5940| Test: 0.5960| Eval Time: 1.7786s\n",
      "Epoch 03| Loss: 1.7245| Acc: 0.6583| Train Time: 0.2425s\n"
     ]
    },
    {
     "name": "stderr",
     "output_type": "stream",
     "text": [
      "Evaluating: 100%|██████████| 9981/9981 [00:01<00:00, 6073.32it/s] \n"
     ]
    },
    {
     "name": "stdout",
     "output_type": "stream",
     "text": [
      "Train: 0.7667| Val: 0.6180| Test: 0.6160| Eval Time: 1.6519s\n",
      "Epoch 04| Loss: 1.8003| Acc: 0.6333| Train Time: 0.2401s\n"
     ]
    },
    {
     "name": "stderr",
     "output_type": "stream",
     "text": [
      "Evaluating: 100%|██████████| 9981/9981 [00:01<00:00, 6849.76it/s] \n"
     ]
    },
    {
     "name": "stdout",
     "output_type": "stream",
     "text": [
      "Train: 0.8083| Val: 0.6620| Test: 0.6580| Eval Time: 1.4652s\n",
      "Epoch 05| Loss: 2.0267| Acc: 0.6667| Train Time: 0.2418s\n"
     ]
    },
    {
     "name": "stderr",
     "output_type": "stream",
     "text": [
      "Evaluating: 100%|██████████| 9981/9981 [00:01<00:00, 6362.61it/s] \n"
     ]
    },
    {
     "name": "stdout",
     "output_type": "stream",
     "text": [
      "Train: 0.8250| Val: 0.6580| Test: 0.6670| Eval Time: 1.6415s\n",
      "Epoch 06| Loss: 3.1471| Acc: 0.6583| Train Time: 0.2576s\n"
     ]
    },
    {
     "name": "stderr",
     "output_type": "stream",
     "text": [
      "Evaluating: 100%|██████████| 9981/9981 [00:01<00:00, 6473.88it/s] \n"
     ]
    },
    {
     "name": "stdout",
     "output_type": "stream",
     "text": [
      "Train: 0.8250| Val: 0.6520| Test: 0.6590| Eval Time: 1.5511s\n",
      "Epoch 07| Loss: 3.0507| Acc: 0.7583| Train Time: 0.2381s\n"
     ]
    },
    {
     "name": "stderr",
     "output_type": "stream",
     "text": [
      "Evaluating: 100%|██████████| 9981/9981 [00:01<00:00, 5992.41it/s] \n"
     ]
    },
    {
     "name": "stdout",
     "output_type": "stream",
     "text": [
      "Train: 0.8500| Val: 0.6440| Test: 0.6460| Eval Time: 1.6723s\n",
      "Epoch 08| Loss: 1.9138| Acc: 0.7833| Train Time: 0.2347s\n"
     ]
    },
    {
     "name": "stderr",
     "output_type": "stream",
     "text": [
      "Evaluating: 100%|██████████| 9981/9981 [00:01<00:00, 5996.59it/s] \n"
     ]
    },
    {
     "name": "stdout",
     "output_type": "stream",
     "text": [
      "Train: 0.8583| Val: 0.6360| Test: 0.6450| Eval Time: 1.7388s\n",
      "Epoch 09| Loss: 2.9686| Acc: 0.7750| Train Time: 0.2608s\n"
     ]
    },
    {
     "name": "stderr",
     "output_type": "stream",
     "text": [
      "Evaluating: 100%|██████████| 9981/9981 [00:01<00:00, 6387.22it/s] \n"
     ]
    },
    {
     "name": "stdout",
     "output_type": "stream",
     "text": [
      "Train: 0.8750| Val: 0.6240| Test: 0.6310| Eval Time: 1.5699s\n",
      "Epoch 10| Loss: 1.4749| Acc: 0.8417| Train Time: 0.3253s\n"
     ]
    },
    {
     "name": "stderr",
     "output_type": "stream",
     "text": [
      "Evaluating: 100%|██████████| 9981/9981 [00:01<00:00, 6467.48it/s] \n"
     ]
    },
    {
     "name": "stdout",
     "output_type": "stream",
     "text": [
      "Train: 0.8583| Val: 0.6060| Test: 0.6270| Eval Time: 1.5496s\n",
      "Epoch 11| Loss: 0.7317| Acc: 0.8917| Train Time: 0.2440s\n"
     ]
    },
    {
     "name": "stderr",
     "output_type": "stream",
     "text": [
      "Evaluating: 100%|██████████| 9981/9981 [00:01<00:00, 6404.20it/s] \n"
     ]
    },
    {
     "name": "stdout",
     "output_type": "stream",
     "text": [
      "Train: 0.8583| Val: 0.5980| Test: 0.6250| Eval Time: 1.5661s\n",
      "Epoch 12| Loss: 0.6319| Acc: 0.8833| Train Time: 0.2411s\n"
     ]
    },
    {
     "name": "stderr",
     "output_type": "stream",
     "text": [
      "Evaluating: 100%|██████████| 9981/9981 [00:01<00:00, 6477.63it/s] \n"
     ]
    },
    {
     "name": "stdout",
     "output_type": "stream",
     "text": [
      "Train: 0.8583| Val: 0.6020| Test: 0.6260| Eval Time: 1.5513s\n",
      "Epoch 13| Loss: 1.1766| Acc: 0.8583| Train Time: 0.2415s\n"
     ]
    },
    {
     "name": "stderr",
     "output_type": "stream",
     "text": [
      "Evaluating: 100%|██████████| 9981/9981 [00:01<00:00, 5983.77it/s] \n"
     ]
    },
    {
     "name": "stdout",
     "output_type": "stream",
     "text": [
      "Train: 0.8667| Val: 0.6020| Test: 0.6300| Eval Time: 1.6749s\n",
      "Epoch 14| Loss: 1.0332| Acc: 0.8917| Train Time: 0.3165s\n"
     ]
    },
    {
     "name": "stderr",
     "output_type": "stream",
     "text": [
      "Evaluating: 100%|██████████| 9981/9981 [00:01<00:00, 6332.41it/s] \n"
     ]
    },
    {
     "name": "stdout",
     "output_type": "stream",
     "text": [
      "Train: 0.8667| Val: 0.6020| Test: 0.6380| Eval Time: 1.5833s\n",
      "Epoch 15| Loss: 1.9583| Acc: 0.8583| Train Time: 0.3003s\n"
     ]
    },
    {
     "name": "stderr",
     "output_type": "stream",
     "text": [
      "Evaluating: 100%|██████████| 9981/9981 [00:01<00:00, 6374.19it/s] \n"
     ]
    },
    {
     "name": "stdout",
     "output_type": "stream",
     "text": [
      "Train: 0.8667| Val: 0.6180| Test: 0.6390| Eval Time: 1.5721s\n",
      "Epoch 16| Loss: 1.3491| Acc: 0.8667| Train Time: 0.2240s\n"
     ]
    },
    {
     "name": "stderr",
     "output_type": "stream",
     "text": [
      "Evaluating: 100%|██████████| 9981/9981 [00:01<00:00, 6262.91it/s] \n"
     ]
    },
    {
     "name": "stdout",
     "output_type": "stream",
     "text": [
      "Train: 0.8583| Val: 0.6160| Test: 0.6340| Eval Time: 1.5998s\n",
      "Epoch 17| Loss: 1.5041| Acc: 0.8833| Train Time: 0.3247s\n"
     ]
    },
    {
     "name": "stderr",
     "output_type": "stream",
     "text": [
      "Evaluating: 100%|██████████| 9981/9981 [00:01<00:00, 6786.17it/s] \n"
     ]
    },
    {
     "name": "stdout",
     "output_type": "stream",
     "text": [
      "Train: 0.8667| Val: 0.6240| Test: 0.6290| Eval Time: 1.4761s\n",
      "Epoch 18| Loss: 1.4963| Acc: 0.8750| Train Time: 0.3230s\n"
     ]
    },
    {
     "name": "stderr",
     "output_type": "stream",
     "text": [
      "Evaluating: 100%|██████████| 9981/9981 [00:01<00:00, 7891.66it/s] \n"
     ]
    },
    {
     "name": "stdout",
     "output_type": "stream",
     "text": [
      "Train: 0.8583| Val: 0.6240| Test: 0.6330| Eval Time: 1.2707s\n",
      "Epoch 19| Loss: 1.5452| Acc: 0.8833| Train Time: 0.2323s\n"
     ]
    },
    {
     "name": "stderr",
     "output_type": "stream",
     "text": [
      "Evaluating: 100%|██████████| 9981/9981 [00:01<00:00, 6371.14it/s] \n"
     ]
    },
    {
     "name": "stdout",
     "output_type": "stream",
     "text": [
      "Train: 0.8583| Val: 0.6320| Test: 0.6510| Eval Time: 1.5723s\n",
      "Epoch 20| Loss: 2.8303| Acc: 0.8667| Train Time: 0.3164s\n"
     ]
    },
    {
     "name": "stderr",
     "output_type": "stream",
     "text": [
      "Evaluating: 100%|██████████| 9981/9981 [00:01<00:00, 5652.69it/s] \n"
     ]
    },
    {
     "name": "stdout",
     "output_type": "stream",
     "text": [
      "Train: 0.8667| Val: 0.6620| Test: 0.6610| Eval Time: 1.7739s\n",
      "Epoch 21| Loss: 1.6350| Acc: 0.9000| Train Time: 0.2393s\n"
     ]
    },
    {
     "name": "stderr",
     "output_type": "stream",
     "text": [
      "Evaluating: 100%|██████████| 9981/9981 [00:01<00:00, 6454.87it/s] \n"
     ]
    },
    {
     "name": "stdout",
     "output_type": "stream",
     "text": [
      "Train: 0.8750| Val: 0.6660| Test: 0.6620| Eval Time: 1.5530s\n",
      "Epoch 22| Loss: 0.8886| Acc: 0.9417| Train Time: 0.2317s\n"
     ]
    },
    {
     "name": "stderr",
     "output_type": "stream",
     "text": [
      "Evaluating: 100%|██████████| 9981/9981 [00:01<00:00, 6790.46it/s] \n"
     ]
    },
    {
     "name": "stdout",
     "output_type": "stream",
     "text": [
      "Train: 0.8750| Val: 0.6700| Test: 0.6730| Eval Time: 1.4760s\n",
      "Epoch 23| Loss: 1.1264| Acc: 0.8917| Train Time: 0.2967s\n"
     ]
    },
    {
     "name": "stderr",
     "output_type": "stream",
     "text": [
      "Evaluating: 100%|██████████| 9981/9981 [00:01<00:00, 5984.01it/s] \n"
     ]
    },
    {
     "name": "stdout",
     "output_type": "stream",
     "text": [
      "Train: 0.8833| Val: 0.6700| Test: 0.6790| Eval Time: 1.6779s\n",
      "Epoch 24| Loss: 1.0446| Acc: 0.8750| Train Time: 0.2361s\n"
     ]
    },
    {
     "name": "stderr",
     "output_type": "stream",
     "text": [
      "Evaluating: 100%|██████████| 9981/9981 [00:01<00:00, 6317.89it/s] \n"
     ]
    },
    {
     "name": "stdout",
     "output_type": "stream",
     "text": [
      "Train: 0.8750| Val: 0.6760| Test: 0.6800| Eval Time: 1.5855s\n",
      "Epoch 25| Loss: 1.3790| Acc: 0.9167| Train Time: 0.2948s\n"
     ]
    },
    {
     "name": "stderr",
     "output_type": "stream",
     "text": [
      "Evaluating: 100%|██████████| 9981/9981 [00:01<00:00, 5600.18it/s] \n"
     ]
    },
    {
     "name": "stdout",
     "output_type": "stream",
     "text": [
      "Train: 0.8750| Val: 0.6740| Test: 0.6740| Eval Time: 1.7933s\n",
      "Epoch 26| Loss: 1.7671| Acc: 0.8917| Train Time: 0.2447s\n"
     ]
    },
    {
     "name": "stderr",
     "output_type": "stream",
     "text": [
      "Evaluating: 100%|██████████| 9981/9981 [00:01<00:00, 5745.08it/s] \n"
     ]
    },
    {
     "name": "stdout",
     "output_type": "stream",
     "text": [
      "Train: 0.8750| Val: 0.6540| Test: 0.6670| Eval Time: 1.7497s\n",
      "Epoch 27| Loss: 0.7067| Acc: 0.9250| Train Time: 0.2388s\n"
     ]
    },
    {
     "name": "stderr",
     "output_type": "stream",
     "text": [
      "Evaluating: 100%|██████████| 9981/9981 [00:01<00:00, 5943.06it/s] \n"
     ]
    },
    {
     "name": "stdout",
     "output_type": "stream",
     "text": [
      "Train: 0.8667| Val: 0.6360| Test: 0.6560| Eval Time: 1.7496s\n",
      "Epoch 28| Loss: 0.3838| Acc: 0.9417| Train Time: 0.2383s\n"
     ]
    },
    {
     "name": "stderr",
     "output_type": "stream",
     "text": [
      "Evaluating: 100%|██████████| 9981/9981 [00:01<00:00, 6429.09it/s] \n"
     ]
    },
    {
     "name": "stdout",
     "output_type": "stream",
     "text": [
      "Train: 0.8667| Val: 0.6180| Test: 0.6490| Eval Time: 1.5596s\n",
      "Epoch 29| Loss: 0.8595| Acc: 0.8917| Train Time: 0.2446s\n"
     ]
    },
    {
     "name": "stderr",
     "output_type": "stream",
     "text": [
      "Evaluating: 100%|██████████| 9981/9981 [00:01<00:00, 6321.14it/s] \n"
     ]
    },
    {
     "name": "stdout",
     "output_type": "stream",
     "text": [
      "Train: 0.8750| Val: 0.6100| Test: 0.6490| Eval Time: 1.6512s\n",
      "Epoch 30| Loss: 1.5140| Acc: 0.9417| Train Time: 0.2559s\n"
     ]
    },
    {
     "name": "stderr",
     "output_type": "stream",
     "text": [
      "Evaluating: 100%|██████████| 9981/9981 [00:01<00:00, 6798.61it/s] \n"
     ]
    },
    {
     "name": "stdout",
     "output_type": "stream",
     "text": [
      "Train: 0.8750| Val: 0.6020| Test: 0.6460| Eval Time: 1.4744s\n",
      "Epoch 31| Loss: 1.1373| Acc: 0.9250| Train Time: 0.2259s\n"
     ]
    },
    {
     "name": "stderr",
     "output_type": "stream",
     "text": [
      "Evaluating: 100%|██████████| 9981/9981 [00:01<00:00, 6481.11it/s] \n"
     ]
    },
    {
     "name": "stdout",
     "output_type": "stream",
     "text": [
      "Train: 0.8750| Val: 0.6020| Test: 0.6410| Eval Time: 1.5524s\n",
      "Epoch 32| Loss: 0.6483| Acc: 0.9500| Train Time: 0.2351s\n"
     ]
    },
    {
     "name": "stderr",
     "output_type": "stream",
     "text": [
      "Evaluating: 100%|██████████| 9981/9981 [00:01<00:00, 6350.14it/s] \n"
     ]
    },
    {
     "name": "stdout",
     "output_type": "stream",
     "text": [
      "Train: 0.8833| Val: 0.6020| Test: 0.6400| Eval Time: 1.5785s\n",
      "Epoch 33| Loss: 0.4673| Acc: 0.9500| Train Time: 0.2385s\n"
     ]
    },
    {
     "name": "stderr",
     "output_type": "stream",
     "text": [
      "Evaluating: 100%|██████████| 9981/9981 [00:01<00:00, 6836.56it/s] \n"
     ]
    },
    {
     "name": "stdout",
     "output_type": "stream",
     "text": [
      "Train: 0.8750| Val: 0.6040| Test: 0.6410| Eval Time: 1.4660s\n",
      "Epoch 34| Loss: 0.5197| Acc: 0.9417| Train Time: 0.3067s\n"
     ]
    },
    {
     "name": "stderr",
     "output_type": "stream",
     "text": [
      "Evaluating: 100%|██████████| 9981/9981 [00:01<00:00, 6779.89it/s] \n"
     ]
    },
    {
     "name": "stdout",
     "output_type": "stream",
     "text": [
      "Train: 0.8750| Val: 0.6140| Test: 0.6390| Eval Time: 1.4808s\n",
      "Epoch 35| Loss: 1.2083| Acc: 0.9583| Train Time: 0.2361s\n"
     ]
    },
    {
     "name": "stderr",
     "output_type": "stream",
     "text": [
      "Evaluating: 100%|██████████| 9981/9981 [00:01<00:00, 6800.04it/s] \n"
     ]
    },
    {
     "name": "stdout",
     "output_type": "stream",
     "text": [
      "Train: 0.8667| Val: 0.6220| Test: 0.6430| Eval Time: 1.4743s\n",
      "Epoch 36| Loss: 0.4104| Acc: 0.9250| Train Time: 0.2965s\n"
     ]
    },
    {
     "name": "stderr",
     "output_type": "stream",
     "text": [
      "Evaluating: 100%|██████████| 9981/9981 [00:01<00:00, 6660.05it/s] \n"
     ]
    },
    {
     "name": "stdout",
     "output_type": "stream",
     "text": [
      "Train: 0.8750| Val: 0.6320| Test: 0.6440| Eval Time: 1.5688s\n",
      "Epoch 37| Loss: 0.2439| Acc: 0.9417| Train Time: 0.2518s\n"
     ]
    },
    {
     "name": "stderr",
     "output_type": "stream",
     "text": [
      "Evaluating: 100%|██████████| 9981/9981 [00:01<00:00, 6322.50it/s] \n"
     ]
    },
    {
     "name": "stdout",
     "output_type": "stream",
     "text": [
      "Train: 0.8667| Val: 0.6340| Test: 0.6400| Eval Time: 1.5849s\n",
      "Epoch 38| Loss: 1.1225| Acc: 0.9250| Train Time: 0.2987s\n"
     ]
    },
    {
     "name": "stderr",
     "output_type": "stream",
     "text": [
      "Evaluating: 100%|██████████| 9981/9981 [00:01<00:00, 6011.26it/s] \n"
     ]
    },
    {
     "name": "stdout",
     "output_type": "stream",
     "text": [
      "Train: 0.8750| Val: 0.6400| Test: 0.6380| Eval Time: 1.6736s\n",
      "Epoch 39| Loss: 0.6672| Acc: 0.9833| Train Time: 0.2548s\n"
     ]
    },
    {
     "name": "stderr",
     "output_type": "stream",
     "text": [
      "Evaluating: 100%|██████████| 9981/9981 [00:01<00:00, 6488.67it/s] \n"
     ]
    },
    {
     "name": "stdout",
     "output_type": "stream",
     "text": [
      "Train: 0.8750| Val: 0.6400| Test: 0.6360| Eval Time: 1.5505s\n",
      "Epoch 40| Loss: 0.3693| Acc: 0.9667| Train Time: 0.2433s\n"
     ]
    },
    {
     "name": "stderr",
     "output_type": "stream",
     "text": [
      "Evaluating: 100%|██████████| 9981/9981 [00:01<00:00, 6024.36it/s] \n"
     ]
    },
    {
     "name": "stdout",
     "output_type": "stream",
     "text": [
      "Train: 0.8833| Val: 0.6400| Test: 0.6370| Eval Time: 1.6650s\n",
      "Epoch 41| Loss: 0.4220| Acc: 0.9667| Train Time: 0.2359s\n"
     ]
    },
    {
     "name": "stderr",
     "output_type": "stream",
     "text": [
      "Evaluating: 100%|██████████| 9981/9981 [00:01<00:00, 6007.59it/s] \n"
     ]
    },
    {
     "name": "stdout",
     "output_type": "stream",
     "text": [
      "Train: 0.8833| Val: 0.6360| Test: 0.6370| Eval Time: 1.6676s\n",
      "Epoch 42| Loss: 0.3898| Acc: 0.9417| Train Time: 0.3100s\n"
     ]
    },
    {
     "name": "stderr",
     "output_type": "stream",
     "text": [
      "Evaluating: 100%|██████████| 9981/9981 [00:01<00:00, 5925.64it/s] \n"
     ]
    },
    {
     "name": "stdout",
     "output_type": "stream",
     "text": [
      "Train: 0.8833| Val: 0.6320| Test: 0.6270| Eval Time: 1.6905s\n",
      "Epoch 43| Loss: 0.4603| Acc: 0.9417| Train Time: 0.3115s\n"
     ]
    },
    {
     "name": "stderr",
     "output_type": "stream",
     "text": [
      "Evaluating: 100%|██████████| 9981/9981 [00:01<00:00, 6357.83it/s] \n"
     ]
    },
    {
     "name": "stdout",
     "output_type": "stream",
     "text": [
      "Train: 0.8833| Val: 0.6220| Test: 0.6240| Eval Time: 1.5765s\n",
      "Epoch 44| Loss: 0.4622| Acc: 0.9417| Train Time: 0.2245s\n"
     ]
    },
    {
     "name": "stderr",
     "output_type": "stream",
     "text": [
      "Evaluating: 100%|██████████| 9981/9981 [00:01<00:00, 6046.31it/s] \n"
     ]
    },
    {
     "name": "stdout",
     "output_type": "stream",
     "text": [
      "Train: 0.8750| Val: 0.6100| Test: 0.6210| Eval Time: 1.6604s\n",
      "Epoch 45| Loss: 1.4199| Acc: 0.9583| Train Time: 0.2391s\n"
     ]
    },
    {
     "name": "stderr",
     "output_type": "stream",
     "text": [
      "Evaluating: 100%|██████████| 9981/9981 [00:01<00:00, 6367.59it/s] \n"
     ]
    },
    {
     "name": "stdout",
     "output_type": "stream",
     "text": [
      "Train: 0.8750| Val: 0.5960| Test: 0.6130| Eval Time: 1.5749s\n",
      "Epoch 46| Loss: 0.2361| Acc: 0.9583| Train Time: 0.2386s\n"
     ]
    },
    {
     "name": "stderr",
     "output_type": "stream",
     "text": [
      "Evaluating: 100%|██████████| 9981/9981 [00:01<00:00, 6373.02it/s] \n"
     ]
    },
    {
     "name": "stdout",
     "output_type": "stream",
     "text": [
      "Train: 0.8833| Val: 0.5940| Test: 0.6120| Eval Time: 1.5726s\n",
      "Epoch 47| Loss: 1.1498| Acc: 0.9500| Train Time: 0.2946s\n"
     ]
    },
    {
     "name": "stderr",
     "output_type": "stream",
     "text": [
      "Evaluating: 100%|██████████| 9981/9981 [00:01<00:00, 6260.56it/s] \n"
     ]
    },
    {
     "name": "stdout",
     "output_type": "stream",
     "text": [
      "Train: 0.8833| Val: 0.5940| Test: 0.6080| Eval Time: 1.6011s\n",
      "Epoch 48| Loss: 0.3801| Acc: 0.9667| Train Time: 0.3163s\n"
     ]
    },
    {
     "name": "stderr",
     "output_type": "stream",
     "text": [
      "Evaluating: 100%|██████████| 9981/9981 [00:01<00:00, 6311.98it/s] \n"
     ]
    },
    {
     "name": "stdout",
     "output_type": "stream",
     "text": [
      "Train: 0.8833| Val: 0.5960| Test: 0.6060| Eval Time: 1.5880s\n",
      "Epoch 49| Loss: 0.4206| Acc: 0.9500| Train Time: 0.3160s\n"
     ]
    },
    {
     "name": "stderr",
     "output_type": "stream",
     "text": [
      "Evaluating: 100%|██████████| 9981/9981 [00:01<00:00, 6756.34it/s] \n"
     ]
    },
    {
     "name": "stdout",
     "output_type": "stream",
     "text": [
      "Train: 0.8833| Val: 0.6020| Test: 0.6070| Eval Time: 1.4836s\n",
      "Epoch 50| Loss: 0.4311| Acc: 0.9750| Train Time: 0.2389s\n"
     ]
    },
    {
     "name": "stderr",
     "output_type": "stream",
     "text": [
      "Evaluating: 100%|██████████| 9981/9981 [00:01<00:00, 5890.53it/s] \n"
     ]
    },
    {
     "name": "stdout",
     "output_type": "stream",
     "text": [
      "Train: 0.8917| Val: 0.6140| Test: 0.6110| Eval Time: 1.7691s\n",
      "Epoch 51| Loss: 0.4602| Acc: 0.9667| Train Time: 0.2480s\n"
     ]
    },
    {
     "name": "stderr",
     "output_type": "stream",
     "text": [
      "Evaluating: 100%|██████████| 9981/9981 [00:01<00:00, 6444.91it/s] \n"
     ]
    },
    {
     "name": "stdout",
     "output_type": "stream",
     "text": [
      "Train: 0.9083| Val: 0.6240| Test: 0.6220| Eval Time: 1.5599s\n",
      "Epoch 52| Loss: 0.2898| Acc: 0.9667| Train Time: 0.2462s\n"
     ]
    },
    {
     "name": "stderr",
     "output_type": "stream",
     "text": [
      "Evaluating: 100%|██████████| 9981/9981 [00:01<00:00, 6506.78it/s] \n"
     ]
    },
    {
     "name": "stdout",
     "output_type": "stream",
     "text": [
      "Train: 0.9250| Val: 0.6340| Test: 0.6290| Eval Time: 1.5466s\n",
      "Epoch 53| Loss: 0.6758| Acc: 0.9500| Train Time: 0.2485s\n"
     ]
    },
    {
     "name": "stderr",
     "output_type": "stream",
     "text": [
      "Evaluating: 100%|██████████| 9981/9981 [00:01<00:00, 6460.30it/s] \n"
     ]
    },
    {
     "name": "stdout",
     "output_type": "stream",
     "text": [
      "Train: 0.9333| Val: 0.6340| Test: 0.6430| Eval Time: 1.5516s\n",
      "Epoch 54| Loss: 0.1976| Acc: 0.9750| Train Time: 0.2350s\n"
     ]
    },
    {
     "name": "stderr",
     "output_type": "stream",
     "text": [
      "Evaluating: 100%|██████████| 9981/9981 [00:01<00:00, 5992.27it/s] \n"
     ]
    },
    {
     "name": "stdout",
     "output_type": "stream",
     "text": [
      "Train: 0.9333| Val: 0.6320| Test: 0.6470| Eval Time: 1.6740s\n",
      "\n",
      "Result of  2. run| Train: 0.8750| Val: 0.6760| Test: 0.6800\n",
      "\n",
      "Run 03 for GatV1_K8_D3_s and CiteSeer:\n"
     ]
    },
    {
     "name": "stderr",
     "output_type": "stream",
     "text": [
      "Epoch 01: 100%|██████████| 120/120 [00:00<00:00, 499.37it/s]\n"
     ]
    },
    {
     "name": "stdout",
     "output_type": "stream",
     "text": [
      "Epoch 01| Loss: 2.6623| Acc: 0.0917| Train Time: 0.2445s\n"
     ]
    },
    {
     "name": "stderr",
     "output_type": "stream",
     "text": [
      "Evaluating: 100%|██████████| 9981/9981 [00:01<00:00, 6536.94it/s] \n"
     ]
    },
    {
     "name": "stdout",
     "output_type": "stream",
     "text": [
      "Train: 0.6667| Val: 0.4280| Test: 0.4130| Eval Time: 1.5417s\n",
      "Epoch 02| Loss: 2.3002| Acc: 0.5583| Train Time: 0.2363s\n"
     ]
    },
    {
     "name": "stderr",
     "output_type": "stream",
     "text": [
      "Evaluating: 100%|██████████| 9981/9981 [00:01<00:00, 6863.44it/s] \n"
     ]
    },
    {
     "name": "stdout",
     "output_type": "stream",
     "text": [
      "Train: 0.8000| Val: 0.6040| Test: 0.5760| Eval Time: 1.4660s\n",
      "Epoch 03| Loss: 1.5095| Acc: 0.6417| Train Time: 0.2340s\n"
     ]
    },
    {
     "name": "stderr",
     "output_type": "stream",
     "text": [
      "Evaluating: 100%|██████████| 9981/9981 [00:01<00:00, 6449.21it/s] \n"
     ]
    },
    {
     "name": "stdout",
     "output_type": "stream",
     "text": [
      "Train: 0.8417| Val: 0.6500| Test: 0.6310| Eval Time: 1.5583s\n",
      "Epoch 04| Loss: 1.9592| Acc: 0.6917| Train Time: 0.2526s\n"
     ]
    },
    {
     "name": "stderr",
     "output_type": "stream",
     "text": [
      "Evaluating: 100%|██████████| 9981/9981 [00:01<00:00, 6456.55it/s] \n"
     ]
    },
    {
     "name": "stdout",
     "output_type": "stream",
     "text": [
      "Train: 0.8417| Val: 0.6580| Test: 0.6390| Eval Time: 1.5564s\n",
      "Epoch 05| Loss: 1.4919| Acc: 0.7333| Train Time: 0.2423s\n"
     ]
    },
    {
     "name": "stderr",
     "output_type": "stream",
     "text": [
      "Evaluating: 100%|██████████| 9981/9981 [00:01<00:00, 7317.40it/s] \n"
     ]
    },
    {
     "name": "stdout",
     "output_type": "stream",
     "text": [
      "Train: 0.8500| Val: 0.6420| Test: 0.6420| Eval Time: 1.3699s\n",
      "Epoch 06| Loss: 2.0278| Acc: 0.7417| Train Time: 0.3001s\n"
     ]
    },
    {
     "name": "stderr",
     "output_type": "stream",
     "text": [
      "Evaluating: 100%|██████████| 9981/9981 [00:01<00:00, 5918.98it/s] \n"
     ]
    },
    {
     "name": "stdout",
     "output_type": "stream",
     "text": [
      "Train: 0.8333| Val: 0.6400| Test: 0.6370| Eval Time: 1.6939s\n",
      "Epoch 07| Loss: 2.0190| Acc: 0.7833| Train Time: 0.2425s\n"
     ]
    },
    {
     "name": "stderr",
     "output_type": "stream",
     "text": [
      "Evaluating: 100%|██████████| 9981/9981 [00:01<00:00, 6460.57it/s] \n"
     ]
    },
    {
     "name": "stdout",
     "output_type": "stream",
     "text": [
      "Train: 0.8417| Val: 0.6200| Test: 0.6260| Eval Time: 1.5540s\n",
      "Epoch 08| Loss: 1.1016| Acc: 0.8000| Train Time: 0.2423s\n"
     ]
    },
    {
     "name": "stderr",
     "output_type": "stream",
     "text": [
      "Evaluating: 100%|██████████| 9981/9981 [00:01<00:00, 6120.16it/s] \n"
     ]
    },
    {
     "name": "stdout",
     "output_type": "stream",
     "text": [
      "Train: 0.8667| Val: 0.6180| Test: 0.6240| Eval Time: 1.6365s\n",
      "Epoch 09| Loss: 2.0146| Acc: 0.8333| Train Time: 0.2155s\n"
     ]
    },
    {
     "name": "stderr",
     "output_type": "stream",
     "text": [
      "Evaluating: 100%|██████████| 9981/9981 [00:01<00:00, 6312.80it/s] \n"
     ]
    },
    {
     "name": "stdout",
     "output_type": "stream",
     "text": [
      "Train: 0.8750| Val: 0.6340| Test: 0.6440| Eval Time: 1.5924s\n",
      "Epoch 10| Loss: 0.9874| Acc: 0.8417| Train Time: 0.2360s\n"
     ]
    },
    {
     "name": "stderr",
     "output_type": "stream",
     "text": [
      "Evaluating: 100%|██████████| 9981/9981 [00:01<00:00, 5965.00it/s] \n"
     ]
    },
    {
     "name": "stdout",
     "output_type": "stream",
     "text": [
      "Train: 0.8667| Val: 0.6360| Test: 0.6490| Eval Time: 1.6795s\n",
      "Epoch 11| Loss: 1.1756| Acc: 0.8500| Train Time: 0.2389s\n"
     ]
    },
    {
     "name": "stderr",
     "output_type": "stream",
     "text": [
      "Evaluating: 100%|██████████| 9981/9981 [00:01<00:00, 6077.21it/s] \n"
     ]
    },
    {
     "name": "stdout",
     "output_type": "stream",
     "text": [
      "Train: 0.8750| Val: 0.6300| Test: 0.6390| Eval Time: 1.6498s\n",
      "Epoch 12| Loss: 0.5404| Acc: 0.8917| Train Time: 0.2385s\n"
     ]
    },
    {
     "name": "stderr",
     "output_type": "stream",
     "text": [
      "Evaluating: 100%|██████████| 9981/9981 [00:01<00:00, 6763.94it/s] \n"
     ]
    },
    {
     "name": "stdout",
     "output_type": "stream",
     "text": [
      "Train: 0.8833| Val: 0.6280| Test: 0.6290| Eval Time: 1.4812s\n",
      "Epoch 13| Loss: 1.2009| Acc: 0.8833| Train Time: 0.2899s\n"
     ]
    },
    {
     "name": "stderr",
     "output_type": "stream",
     "text": [
      "Evaluating: 100%|██████████| 9981/9981 [00:01<00:00, 6656.83it/s] \n"
     ]
    },
    {
     "name": "stdout",
     "output_type": "stream",
     "text": [
      "Train: 0.8833| Val: 0.6320| Test: 0.6250| Eval Time: 1.5058s\n",
      "Epoch 14| Loss: 0.8962| Acc: 0.8750| Train Time: 0.3002s\n"
     ]
    },
    {
     "name": "stderr",
     "output_type": "stream",
     "text": [
      "Evaluating: 100%|██████████| 9981/9981 [00:01<00:00, 6697.84it/s] \n"
     ]
    },
    {
     "name": "stdout",
     "output_type": "stream",
     "text": [
      "Train: 0.8917| Val: 0.6240| Test: 0.6140| Eval Time: 1.4983s\n",
      "Epoch 15| Loss: 1.8701| Acc: 0.8667| Train Time: 0.2974s\n"
     ]
    },
    {
     "name": "stderr",
     "output_type": "stream",
     "text": [
      "Evaluating: 100%|██████████| 9981/9981 [00:01<00:00, 6252.96it/s] \n"
     ]
    },
    {
     "name": "stdout",
     "output_type": "stream",
     "text": [
      "Train: 0.9000| Val: 0.6100| Test: 0.6260| Eval Time: 1.6665s\n",
      "Epoch 16| Loss: 0.4025| Acc: 0.9000| Train Time: 0.2588s\n"
     ]
    },
    {
     "name": "stderr",
     "output_type": "stream",
     "text": [
      "Evaluating: 100%|██████████| 9981/9981 [00:01<00:00, 6912.14it/s] \n"
     ]
    },
    {
     "name": "stdout",
     "output_type": "stream",
     "text": [
      "Train: 0.8833| Val: 0.6080| Test: 0.6250| Eval Time: 1.4507s\n",
      "Epoch 17| Loss: 0.7632| Acc: 0.8917| Train Time: 0.2339s\n"
     ]
    },
    {
     "name": "stderr",
     "output_type": "stream",
     "text": [
      "Evaluating: 100%|██████████| 9981/9981 [00:01<00:00, 6359.74it/s] \n"
     ]
    },
    {
     "name": "stdout",
     "output_type": "stream",
     "text": [
      "Train: 0.8917| Val: 0.5980| Test: 0.6280| Eval Time: 1.5782s\n",
      "Epoch 18| Loss: 0.8928| Acc: 0.9250| Train Time: 0.2458s\n"
     ]
    },
    {
     "name": "stderr",
     "output_type": "stream",
     "text": [
      "Evaluating: 100%|██████████| 9981/9981 [00:01<00:00, 6055.12it/s] \n"
     ]
    },
    {
     "name": "stdout",
     "output_type": "stream",
     "text": [
      "Train: 0.9000| Val: 0.5940| Test: 0.6230| Eval Time: 1.6567s\n",
      "Epoch 19| Loss: 0.3794| Acc: 0.9250| Train Time: 0.2360s\n"
     ]
    },
    {
     "name": "stderr",
     "output_type": "stream",
     "text": [
      "Evaluating: 100%|██████████| 9981/9981 [00:01<00:00, 6390.62it/s] \n"
     ]
    },
    {
     "name": "stdout",
     "output_type": "stream",
     "text": [
      "Train: 0.9000| Val: 0.5960| Test: 0.6220| Eval Time: 1.5680s\n",
      "Epoch 20| Loss: 0.3677| Acc: 0.9417| Train Time: 0.3054s\n"
     ]
    },
    {
     "name": "stderr",
     "output_type": "stream",
     "text": [
      "Evaluating: 100%|██████████| 9981/9981 [00:01<00:00, 6300.15it/s] \n"
     ]
    },
    {
     "name": "stdout",
     "output_type": "stream",
     "text": [
      "Train: 0.8917| Val: 0.6060| Test: 0.6190| Eval Time: 1.5904s\n",
      "Epoch 21| Loss: 1.0980| Acc: 0.9167| Train Time: 0.2307s\n"
     ]
    },
    {
     "name": "stderr",
     "output_type": "stream",
     "text": [
      "Evaluating: 100%|██████████| 9981/9981 [00:01<00:00, 6361.00it/s] \n"
     ]
    },
    {
     "name": "stdout",
     "output_type": "stream",
     "text": [
      "Train: 0.9000| Val: 0.6160| Test: 0.6300| Eval Time: 1.5748s\n",
      "Epoch 22| Loss: 0.3359| Acc: 0.9417| Train Time: 0.3017s\n"
     ]
    },
    {
     "name": "stderr",
     "output_type": "stream",
     "text": [
      "Evaluating: 100%|██████████| 9981/9981 [00:01<00:00, 6295.56it/s] \n"
     ]
    },
    {
     "name": "stdout",
     "output_type": "stream",
     "text": [
      "Train: 0.9000| Val: 0.6300| Test: 0.6390| Eval Time: 1.5931s\n",
      "Epoch 23| Loss: 0.8772| Acc: 0.9167| Train Time: 0.2362s\n"
     ]
    },
    {
     "name": "stderr",
     "output_type": "stream",
     "text": [
      "Evaluating: 100%|██████████| 9981/9981 [00:01<00:00, 7363.09it/s] \n"
     ]
    },
    {
     "name": "stdout",
     "output_type": "stream",
     "text": [
      "Train: 0.9250| Val: 0.6340| Test: 0.6480| Eval Time: 1.3606s\n",
      "Epoch 24| Loss: 0.3806| Acc: 0.9167| Train Time: 0.2712s\n"
     ]
    },
    {
     "name": "stderr",
     "output_type": "stream",
     "text": [
      "Evaluating: 100%|██████████| 9981/9981 [00:01<00:00, 7116.31it/s] \n"
     ]
    },
    {
     "name": "stdout",
     "output_type": "stream",
     "text": [
      "Train: 0.9333| Val: 0.6300| Test: 0.6470| Eval Time: 1.4131s\n",
      "Epoch 25| Loss: 0.2717| Acc: 0.9583| Train Time: 0.2470s\n"
     ]
    },
    {
     "name": "stderr",
     "output_type": "stream",
     "text": [
      "Evaluating: 100%|██████████| 9981/9981 [00:01<00:00, 6414.57it/s] \n"
     ]
    },
    {
     "name": "stdout",
     "output_type": "stream",
     "text": [
      "Train: 0.9417| Val: 0.6320| Test: 0.6510| Eval Time: 1.5633s\n",
      "Epoch 26| Loss: 0.7726| Acc: 0.9333| Train Time: 0.2379s\n"
     ]
    },
    {
     "name": "stderr",
     "output_type": "stream",
     "text": [
      "Evaluating: 100%|██████████| 9981/9981 [00:01<00:00, 6041.28it/s] \n"
     ]
    },
    {
     "name": "stdout",
     "output_type": "stream",
     "text": [
      "Train: 0.9500| Val: 0.6260| Test: 0.6540| Eval Time: 1.6598s\n",
      "Epoch 27| Loss: 0.2398| Acc: 0.9583| Train Time: 0.2405s\n"
     ]
    },
    {
     "name": "stderr",
     "output_type": "stream",
     "text": [
      "Evaluating: 100%|██████████| 9981/9981 [00:01<00:00, 6114.22it/s] \n"
     ]
    },
    {
     "name": "stdout",
     "output_type": "stream",
     "text": [
      "Train: 0.9333| Val: 0.6180| Test: 0.6530| Eval Time: 1.6436s\n",
      "Epoch 28| Loss: 0.4908| Acc: 0.9333| Train Time: 0.2515s\n"
     ]
    },
    {
     "name": "stderr",
     "output_type": "stream",
     "text": [
      "Evaluating: 100%|██████████| 9981/9981 [00:01<00:00, 6406.14it/s] \n"
     ]
    },
    {
     "name": "stdout",
     "output_type": "stream",
     "text": [
      "Train: 0.9333| Val: 0.6240| Test: 0.6480| Eval Time: 1.5664s\n",
      "Epoch 29| Loss: 0.3224| Acc: 0.9500| Train Time: 0.2257s\n"
     ]
    },
    {
     "name": "stderr",
     "output_type": "stream",
     "text": [
      "Evaluating: 100%|██████████| 9981/9981 [00:01<00:00, 7354.08it/s] \n"
     ]
    },
    {
     "name": "stdout",
     "output_type": "stream",
     "text": [
      "Train: 0.9417| Val: 0.6260| Test: 0.6400| Eval Time: 1.3653s\n",
      "Epoch 30| Loss: 0.0948| Acc: 0.9750| Train Time: 0.2403s\n"
     ]
    },
    {
     "name": "stderr",
     "output_type": "stream",
     "text": [
      "Evaluating: 100%|██████████| 9981/9981 [00:01<00:00, 6874.62it/s] \n"
     ]
    },
    {
     "name": "stdout",
     "output_type": "stream",
     "text": [
      "Train: 0.9250| Val: 0.6260| Test: 0.6340| Eval Time: 1.4579s\n",
      "Epoch 31| Loss: 0.7826| Acc: 0.9250| Train Time: 0.2388s\n"
     ]
    },
    {
     "name": "stderr",
     "output_type": "stream",
     "text": [
      "Evaluating: 100%|██████████| 9981/9981 [00:01<00:00, 6834.33it/s] \n"
     ]
    },
    {
     "name": "stdout",
     "output_type": "stream",
     "text": [
      "Train: 0.9167| Val: 0.6140| Test: 0.6320| Eval Time: 1.4669s\n",
      "Epoch 32| Loss: 1.0587| Acc: 0.9333| Train Time: 0.2405s\n"
     ]
    },
    {
     "name": "stderr",
     "output_type": "stream",
     "text": [
      "Evaluating: 100%|██████████| 9981/9981 [00:01<00:00, 6395.00it/s] \n"
     ]
    },
    {
     "name": "stdout",
     "output_type": "stream",
     "text": [
      "Train: 0.9083| Val: 0.6120| Test: 0.6290| Eval Time: 1.5673s\n",
      "Epoch 33| Loss: 0.7734| Acc: 0.9250| Train Time: 0.3154s\n"
     ]
    },
    {
     "name": "stderr",
     "output_type": "stream",
     "text": [
      "Evaluating: 100%|██████████| 9981/9981 [00:01<00:00, 6372.41it/s] \n"
     ]
    },
    {
     "name": "stdout",
     "output_type": "stream",
     "text": [
      "Train: 0.9083| Val: 0.6080| Test: 0.6280| Eval Time: 1.5745s\n",
      "Epoch 34| Loss: 0.3918| Acc: 0.9667| Train Time: 0.2361s\n"
     ]
    },
    {
     "name": "stderr",
     "output_type": "stream",
     "text": [
      "Evaluating: 100%|██████████| 9981/9981 [00:01<00:00, 6029.03it/s] \n"
     ]
    },
    {
     "name": "stdout",
     "output_type": "stream",
     "text": [
      "Train: 0.9250| Val: 0.5920| Test: 0.6350| Eval Time: 1.6613s\n",
      "\n",
      "Result of  3. run| Train: 0.8417| Val: 0.6580| Test: 0.6390\n",
      "\n",
      "Run 04 for GatV1_K8_D3_s and CiteSeer:\n"
     ]
    },
    {
     "name": "stderr",
     "output_type": "stream",
     "text": [
      "Epoch 01: 100%|██████████| 120/120 [00:00<00:00, 505.99it/s]\n"
     ]
    },
    {
     "name": "stdout",
     "output_type": "stream",
     "text": [
      "Epoch 01| Loss: 2.9931| Acc: 0.1333| Train Time: 0.2399s\n"
     ]
    },
    {
     "name": "stderr",
     "output_type": "stream",
     "text": [
      "Evaluating: 100%|██████████| 9981/9981 [00:01<00:00, 8587.32it/s] \n"
     ]
    },
    {
     "name": "stdout",
     "output_type": "stream",
     "text": [
      "Train: 0.6417| Val: 0.4720| Test: 0.4550| Eval Time: 1.1685s\n",
      "Epoch 02| Loss: 2.3483| Acc: 0.4500| Train Time: 0.2940s\n"
     ]
    },
    {
     "name": "stderr",
     "output_type": "stream",
     "text": [
      "Evaluating: 100%|██████████| 9981/9981 [00:01<00:00, 6785.86it/s] \n"
     ]
    },
    {
     "name": "stdout",
     "output_type": "stream",
     "text": [
      "Train: 0.8167| Val: 0.6280| Test: 0.5630| Eval Time: 1.4803s\n",
      "Epoch 03| Loss: 1.7868| Acc: 0.6417| Train Time: 0.2331s\n"
     ]
    },
    {
     "name": "stderr",
     "output_type": "stream",
     "text": [
      "Evaluating: 100%|██████████| 9981/9981 [00:01<00:00, 6734.96it/s] \n"
     ]
    },
    {
     "name": "stdout",
     "output_type": "stream",
     "text": [
      "Train: 0.8167| Val: 0.6340| Test: 0.5820| Eval Time: 1.4887s\n",
      "Epoch 04| Loss: 1.9420| Acc: 0.6250| Train Time: 0.3229s\n"
     ]
    },
    {
     "name": "stderr",
     "output_type": "stream",
     "text": [
      "Evaluating: 100%|██████████| 9981/9981 [00:01<00:00, 6362.15it/s] \n"
     ]
    },
    {
     "name": "stdout",
     "output_type": "stream",
     "text": [
      "Train: 0.8417| Val: 0.6560| Test: 0.6210| Eval Time: 1.5750s\n",
      "Epoch 05| Loss: 1.9185| Acc: 0.6750| Train Time: 0.2405s\n"
     ]
    },
    {
     "name": "stderr",
     "output_type": "stream",
     "text": [
      "Evaluating: 100%|██████████| 9981/9981 [00:01<00:00, 6419.57it/s] \n"
     ]
    },
    {
     "name": "stdout",
     "output_type": "stream",
     "text": [
      "Train: 0.8583| Val: 0.6600| Test: 0.6480| Eval Time: 1.5607s\n",
      "Epoch 06| Loss: 1.2518| Acc: 0.7167| Train Time: 0.3060s\n"
     ]
    },
    {
     "name": "stderr",
     "output_type": "stream",
     "text": [
      "Evaluating: 100%|██████████| 9981/9981 [00:01<00:00, 5966.47it/s] \n"
     ]
    },
    {
     "name": "stdout",
     "output_type": "stream",
     "text": [
      "Train: 0.8833| Val: 0.6580| Test: 0.6540| Eval Time: 1.6792s\n",
      "Epoch 07| Loss: 1.0027| Acc: 0.7833| Train Time: 0.2454s\n"
     ]
    },
    {
     "name": "stderr",
     "output_type": "stream",
     "text": [
      "Evaluating: 100%|██████████| 9981/9981 [00:01<00:00, 6836.11it/s] \n"
     ]
    },
    {
     "name": "stdout",
     "output_type": "stream",
     "text": [
      "Train: 0.8500| Val: 0.6400| Test: 0.6240| Eval Time: 1.4667s\n",
      "Epoch 08| Loss: 0.8144| Acc: 0.8583| Train Time: 0.2977s\n"
     ]
    },
    {
     "name": "stderr",
     "output_type": "stream",
     "text": [
      "Evaluating: 100%|██████████| 9981/9981 [00:01<00:00, 5881.17it/s] \n"
     ]
    },
    {
     "name": "stdout",
     "output_type": "stream",
     "text": [
      "Train: 0.8500| Val: 0.6340| Test: 0.6200| Eval Time: 1.7046s\n",
      "Epoch 09| Loss: 2.7818| Acc: 0.8583| Train Time: 0.2356s\n"
     ]
    },
    {
     "name": "stderr",
     "output_type": "stream",
     "text": [
      "Evaluating: 100%|██████████| 9981/9981 [00:01<00:00, 5652.31it/s] \n"
     ]
    },
    {
     "name": "stdout",
     "output_type": "stream",
     "text": [
      "Train: 0.8917| Val: 0.6460| Test: 0.6420| Eval Time: 1.7782s\n",
      "Epoch 10| Loss: 0.8388| Acc: 0.8417| Train Time: 0.2393s\n"
     ]
    },
    {
     "name": "stderr",
     "output_type": "stream",
     "text": [
      "Evaluating: 100%|██████████| 9981/9981 [00:01<00:00, 5955.01it/s] \n"
     ]
    },
    {
     "name": "stdout",
     "output_type": "stream",
     "text": [
      "Train: 0.8917| Val: 0.6360| Test: 0.6440| Eval Time: 1.6807s\n",
      "Epoch 11| Loss: 1.1771| Acc: 0.8583| Train Time: 0.3199s\n"
     ]
    },
    {
     "name": "stderr",
     "output_type": "stream",
     "text": [
      "Evaluating: 100%|██████████| 9981/9981 [00:01<00:00, 6374.26it/s] \n"
     ]
    },
    {
     "name": "stdout",
     "output_type": "stream",
     "text": [
      "Train: 0.8917| Val: 0.6580| Test: 0.6430| Eval Time: 1.5730s\n",
      "Epoch 12| Loss: 1.6040| Acc: 0.8833| Train Time: 0.2341s\n"
     ]
    },
    {
     "name": "stderr",
     "output_type": "stream",
     "text": [
      "Evaluating: 100%|██████████| 9981/9981 [00:01<00:00, 6422.66it/s] \n"
     ]
    },
    {
     "name": "stdout",
     "output_type": "stream",
     "text": [
      "Train: 0.9083| Val: 0.6620| Test: 0.6510| Eval Time: 1.5624s\n",
      "Epoch 13| Loss: 1.7080| Acc: 0.8583| Train Time: 0.2393s\n"
     ]
    },
    {
     "name": "stderr",
     "output_type": "stream",
     "text": [
      "Evaluating: 100%|██████████| 9981/9981 [00:01<00:00, 6077.71it/s] \n"
     ]
    },
    {
     "name": "stdout",
     "output_type": "stream",
     "text": [
      "Train: 0.9167| Val: 0.6760| Test: 0.6550| Eval Time: 1.6522s\n",
      "Epoch 14| Loss: 1.4626| Acc: 0.8417| Train Time: 0.2454s\n"
     ]
    },
    {
     "name": "stderr",
     "output_type": "stream",
     "text": [
      "Evaluating: 100%|██████████| 9981/9981 [00:01<00:00, 6360.44it/s] \n"
     ]
    },
    {
     "name": "stdout",
     "output_type": "stream",
     "text": [
      "Train: 0.9250| Val: 0.6780| Test: 0.6520| Eval Time: 1.5745s\n",
      "Epoch 15| Loss: 1.3937| Acc: 0.9000| Train Time: 0.2985s\n"
     ]
    },
    {
     "name": "stderr",
     "output_type": "stream",
     "text": [
      "Evaluating: 100%|██████████| 9981/9981 [00:01<00:00, 6267.93it/s] \n"
     ]
    },
    {
     "name": "stdout",
     "output_type": "stream",
     "text": [
      "Train: 0.9167| Val: 0.6800| Test: 0.6510| Eval Time: 1.6622s\n",
      "Epoch 16| Loss: 2.2868| Acc: 0.8833| Train Time: 0.2482s\n"
     ]
    },
    {
     "name": "stderr",
     "output_type": "stream",
     "text": [
      "Evaluating: 100%|██████████| 9981/9981 [00:01<00:00, 6403.29it/s] \n"
     ]
    },
    {
     "name": "stdout",
     "output_type": "stream",
     "text": [
      "Train: 0.9000| Val: 0.6700| Test: 0.6310| Eval Time: 1.5676s\n",
      "Epoch 17| Loss: 2.0978| Acc: 0.8750| Train Time: 0.2429s\n"
     ]
    },
    {
     "name": "stderr",
     "output_type": "stream",
     "text": [
      "Evaluating: 100%|██████████| 9981/9981 [00:01<00:00, 6362.32it/s] \n"
     ]
    },
    {
     "name": "stdout",
     "output_type": "stream",
     "text": [
      "Train: 0.9000| Val: 0.6600| Test: 0.6270| Eval Time: 1.5746s\n",
      "Epoch 18| Loss: 0.3797| Acc: 0.9250| Train Time: 0.3079s\n"
     ]
    },
    {
     "name": "stderr",
     "output_type": "stream",
     "text": [
      "Evaluating: 100%|██████████| 9981/9981 [00:01<00:00, 5953.57it/s] \n"
     ]
    },
    {
     "name": "stdout",
     "output_type": "stream",
     "text": [
      "Train: 0.9250| Val: 0.6520| Test: 0.6280| Eval Time: 1.6832s\n",
      "Epoch 19| Loss: 1.1114| Acc: 0.9167| Train Time: 0.2381s\n"
     ]
    },
    {
     "name": "stderr",
     "output_type": "stream",
     "text": [
      "Evaluating: 100%|██████████| 9981/9981 [00:01<00:00, 6019.57it/s] \n"
     ]
    },
    {
     "name": "stdout",
     "output_type": "stream",
     "text": [
      "Train: 0.9167| Val: 0.6440| Test: 0.6240| Eval Time: 1.6649s\n",
      "Epoch 20| Loss: 0.8768| Acc: 0.9083| Train Time: 0.3098s\n"
     ]
    },
    {
     "name": "stderr",
     "output_type": "stream",
     "text": [
      "Evaluating: 100%|██████████| 9981/9981 [00:01<00:00, 6690.55it/s] \n"
     ]
    },
    {
     "name": "stdout",
     "output_type": "stream",
     "text": [
      "Train: 0.9167| Val: 0.6380| Test: 0.6170| Eval Time: 1.4986s\n",
      "Epoch 21| Loss: 1.3889| Acc: 0.9250| Train Time: 0.2962s\n"
     ]
    },
    {
     "name": "stderr",
     "output_type": "stream",
     "text": [
      "Evaluating: 100%|██████████| 9981/9981 [00:01<00:00, 5665.63it/s] \n"
     ]
    },
    {
     "name": "stdout",
     "output_type": "stream",
     "text": [
      "Train: 0.9083| Val: 0.6220| Test: 0.6140| Eval Time: 1.7735s\n",
      "Epoch 22| Loss: 1.4356| Acc: 0.9167| Train Time: 0.2360s\n"
     ]
    },
    {
     "name": "stderr",
     "output_type": "stream",
     "text": [
      "Evaluating: 100%|██████████| 9981/9981 [00:01<00:00, 6327.58it/s] \n"
     ]
    },
    {
     "name": "stdout",
     "output_type": "stream",
     "text": [
      "Train: 0.9083| Val: 0.6140| Test: 0.6150| Eval Time: 1.5835s\n",
      "Epoch 23| Loss: 0.6392| Acc: 0.9250| Train Time: 0.3095s\n"
     ]
    },
    {
     "name": "stderr",
     "output_type": "stream",
     "text": [
      "Evaluating: 100%|██████████| 9981/9981 [00:01<00:00, 6708.66it/s] \n"
     ]
    },
    {
     "name": "stdout",
     "output_type": "stream",
     "text": [
      "Train: 0.9083| Val: 0.6080| Test: 0.6130| Eval Time: 1.4953s\n",
      "Epoch 24| Loss: 1.0133| Acc: 0.9333| Train Time: 0.3121s\n"
     ]
    },
    {
     "name": "stderr",
     "output_type": "stream",
     "text": [
      "Evaluating: 100%|██████████| 9981/9981 [00:01<00:00, 7266.84it/s] \n"
     ]
    },
    {
     "name": "stdout",
     "output_type": "stream",
     "text": [
      "Train: 0.9167| Val: 0.6020| Test: 0.6230| Eval Time: 1.3790s\n",
      "Epoch 25| Loss: 0.7057| Acc: 0.9417| Train Time: 0.2328s\n"
     ]
    },
    {
     "name": "stderr",
     "output_type": "stream",
     "text": [
      "Evaluating: 100%|██████████| 9981/9981 [00:01<00:00, 6354.54it/s] \n"
     ]
    },
    {
     "name": "stdout",
     "output_type": "stream",
     "text": [
      "Train: 0.9167| Val: 0.6080| Test: 0.6180| Eval Time: 1.5757s\n",
      "Epoch 26| Loss: 0.3717| Acc: 0.9500| Train Time: 0.3084s\n"
     ]
    },
    {
     "name": "stderr",
     "output_type": "stream",
     "text": [
      "Evaluating: 100%|██████████| 9981/9981 [00:01<00:00, 6735.07it/s] \n"
     ]
    },
    {
     "name": "stdout",
     "output_type": "stream",
     "text": [
      "Train: 0.9167| Val: 0.6200| Test: 0.6150| Eval Time: 1.5511s\n",
      "Epoch 27| Loss: 0.6840| Acc: 0.9417| Train Time: 0.2442s\n"
     ]
    },
    {
     "name": "stderr",
     "output_type": "stream",
     "text": [
      "Evaluating: 100%|██████████| 9981/9981 [00:01<00:00, 6419.03it/s] \n"
     ]
    },
    {
     "name": "stdout",
     "output_type": "stream",
     "text": [
      "Train: 0.9250| Val: 0.6240| Test: 0.6200| Eval Time: 1.5604s\n",
      "Epoch 28| Loss: 0.4134| Acc: 0.9583| Train Time: 0.2465s\n"
     ]
    },
    {
     "name": "stderr",
     "output_type": "stream",
     "text": [
      "Evaluating: 100%|██████████| 9981/9981 [00:01<00:00, 7968.93it/s] \n"
     ]
    },
    {
     "name": "stdout",
     "output_type": "stream",
     "text": [
      "Train: 0.9250| Val: 0.6360| Test: 0.6240| Eval Time: 1.2576s\n",
      "Epoch 29| Loss: 0.7499| Acc: 0.9333| Train Time: 0.2357s\n"
     ]
    },
    {
     "name": "stderr",
     "output_type": "stream",
     "text": [
      "Evaluating: 100%|██████████| 9981/9981 [00:01<00:00, 6033.79it/s] \n"
     ]
    },
    {
     "name": "stdout",
     "output_type": "stream",
     "text": [
      "Train: 0.9000| Val: 0.6500| Test: 0.6330| Eval Time: 1.6660s\n",
      "Epoch 30| Loss: 0.7221| Acc: 0.9167| Train Time: 0.2428s\n"
     ]
    },
    {
     "name": "stderr",
     "output_type": "stream",
     "text": [
      "Evaluating: 100%|██████████| 9981/9981 [00:01<00:00, 6308.08it/s] \n"
     ]
    },
    {
     "name": "stdout",
     "output_type": "stream",
     "text": [
      "Train: 0.9000| Val: 0.6580| Test: 0.6390| Eval Time: 1.6529s\n",
      "Epoch 31| Loss: 1.0767| Acc: 0.9417| Train Time: 0.2543s\n"
     ]
    },
    {
     "name": "stderr",
     "output_type": "stream",
     "text": [
      "Evaluating: 100%|██████████| 9981/9981 [00:01<00:00, 6007.60it/s] \n"
     ]
    },
    {
     "name": "stdout",
     "output_type": "stream",
     "text": [
      "Train: 0.9083| Val: 0.6640| Test: 0.6450| Eval Time: 1.6681s\n",
      "Epoch 32| Loss: 0.1874| Acc: 0.9667| Train Time: 0.2335s\n"
     ]
    },
    {
     "name": "stderr",
     "output_type": "stream",
     "text": [
      "Evaluating: 100%|██████████| 9981/9981 [00:01<00:00, 5721.42it/s] \n"
     ]
    },
    {
     "name": "stdout",
     "output_type": "stream",
     "text": [
      "Train: 0.9000| Val: 0.6600| Test: 0.6460| Eval Time: 1.7523s\n",
      "Epoch 33| Loss: 1.3743| Acc: 0.9083| Train Time: 0.2416s\n"
     ]
    },
    {
     "name": "stderr",
     "output_type": "stream",
     "text": [
      "Evaluating: 100%|██████████| 9981/9981 [00:01<00:00, 6490.00it/s] \n"
     ]
    },
    {
     "name": "stdout",
     "output_type": "stream",
     "text": [
      "Train: 0.9000| Val: 0.6560| Test: 0.6440| Eval Time: 1.5501s\n",
      "Epoch 34| Loss: 0.4571| Acc: 0.9750| Train Time: 0.2489s\n"
     ]
    },
    {
     "name": "stderr",
     "output_type": "stream",
     "text": [
      "Evaluating: 100%|██████████| 9981/9981 [00:01<00:00, 6465.13it/s] \n"
     ]
    },
    {
     "name": "stdout",
     "output_type": "stream",
     "text": [
      "Train: 0.9000| Val: 0.6600| Test: 0.6470| Eval Time: 1.5508s\n",
      "Epoch 35| Loss: 1.1257| Acc: 0.9417| Train Time: 0.2423s\n"
     ]
    },
    {
     "name": "stderr",
     "output_type": "stream",
     "text": [
      "Evaluating: 100%|██████████| 9981/9981 [00:01<00:00, 6356.88it/s] \n"
     ]
    },
    {
     "name": "stdout",
     "output_type": "stream",
     "text": [
      "Train: 0.9000| Val: 0.6580| Test: 0.6370| Eval Time: 1.5766s\n",
      "Epoch 36| Loss: 0.6052| Acc: 0.9250| Train Time: 0.3273s\n"
     ]
    },
    {
     "name": "stderr",
     "output_type": "stream",
     "text": [
      "Evaluating: 100%|██████████| 9981/9981 [00:01<00:00, 6382.31it/s] \n"
     ]
    },
    {
     "name": "stdout",
     "output_type": "stream",
     "text": [
      "Train: 0.9083| Val: 0.6600| Test: 0.6310| Eval Time: 1.5702s\n",
      "Epoch 37| Loss: 0.4277| Acc: 0.9333| Train Time: 0.2996s\n"
     ]
    },
    {
     "name": "stderr",
     "output_type": "stream",
     "text": [
      "Evaluating: 100%|██████████| 9981/9981 [00:01<00:00, 5901.96it/s] \n"
     ]
    },
    {
     "name": "stdout",
     "output_type": "stream",
     "text": [
      "Train: 0.9167| Val: 0.6580| Test: 0.6360| Eval Time: 1.6986s\n",
      "Epoch 38| Loss: 0.7835| Acc: 0.9417| Train Time: 0.2363s\n"
     ]
    },
    {
     "name": "stderr",
     "output_type": "stream",
     "text": [
      "Evaluating: 100%|██████████| 9981/9981 [00:01<00:00, 6833.07it/s] \n"
     ]
    },
    {
     "name": "stdout",
     "output_type": "stream",
     "text": [
      "Train: 0.9167| Val: 0.6600| Test: 0.6420| Eval Time: 1.4708s\n",
      "Epoch 39| Loss: 1.3472| Acc: 0.9167| Train Time: 0.3129s\n"
     ]
    },
    {
     "name": "stderr",
     "output_type": "stream",
     "text": [
      "Evaluating: 100%|██████████| 9981/9981 [00:01<00:00, 6430.88it/s] \n"
     ]
    },
    {
     "name": "stdout",
     "output_type": "stream",
     "text": [
      "Train: 0.9167| Val: 0.6660| Test: 0.6450| Eval Time: 1.5585s\n",
      "Epoch 40| Loss: 0.8816| Acc: 0.9167| Train Time: 0.2389s\n"
     ]
    },
    {
     "name": "stderr",
     "output_type": "stream",
     "text": [
      "Evaluating: 100%|██████████| 9981/9981 [00:01<00:00, 6358.12it/s] \n"
     ]
    },
    {
     "name": "stdout",
     "output_type": "stream",
     "text": [
      "Train: 0.9167| Val: 0.6500| Test: 0.6370| Eval Time: 1.5776s\n",
      "Epoch 41| Loss: 0.3990| Acc: 0.9333| Train Time: 0.2412s\n"
     ]
    },
    {
     "name": "stderr",
     "output_type": "stream",
     "text": [
      "Evaluating: 100%|██████████| 9981/9981 [00:01<00:00, 6403.77it/s] \n"
     ]
    },
    {
     "name": "stdout",
     "output_type": "stream",
     "text": [
      "Train: 0.9167| Val: 0.6440| Test: 0.6350| Eval Time: 1.5650s\n",
      "Epoch 42| Loss: 0.4577| Acc: 0.9583| Train Time: 0.2437s\n"
     ]
    },
    {
     "name": "stderr",
     "output_type": "stream",
     "text": [
      "Evaluating: 100%|██████████| 9981/9981 [00:01<00:00, 5939.62it/s] \n"
     ]
    },
    {
     "name": "stdout",
     "output_type": "stream",
     "text": [
      "Train: 0.9167| Val: 0.6460| Test: 0.6360| Eval Time: 1.6872s\n",
      "Epoch 43| Loss: 0.1735| Acc: 0.9667| Train Time: 0.3067s\n"
     ]
    },
    {
     "name": "stderr",
     "output_type": "stream",
     "text": [
      "Evaluating: 100%|██████████| 9981/9981 [00:01<00:00, 5962.62it/s] \n"
     ]
    },
    {
     "name": "stdout",
     "output_type": "stream",
     "text": [
      "Train: 0.9167| Val: 0.6480| Test: 0.6360| Eval Time: 1.6808s\n",
      "Epoch 44| Loss: 0.0336| Acc: 0.9917| Train Time: 0.2495s\n"
     ]
    },
    {
     "name": "stderr",
     "output_type": "stream",
     "text": [
      "Evaluating: 100%|██████████| 9981/9981 [00:01<00:00, 6030.25it/s] \n"
     ]
    },
    {
     "name": "stdout",
     "output_type": "stream",
     "text": [
      "Train: 0.9333| Val: 0.6480| Test: 0.6370| Eval Time: 1.6613s\n",
      "Epoch 45| Loss: 0.0093| Acc: 1.0000| Train Time: 0.3201s\n"
     ]
    },
    {
     "name": "stderr",
     "output_type": "stream",
     "text": [
      "Evaluating: 100%|██████████| 9981/9981 [00:01<00:00, 5974.68it/s] \n"
     ]
    },
    {
     "name": "stdout",
     "output_type": "stream",
     "text": [
      "Train: 0.9417| Val: 0.6500| Test: 0.6350| Eval Time: 1.6772s\n",
      "\n",
      "Result of  4. run| Train: 0.9167| Val: 0.6800| Test: 0.6510\n",
      "\n",
      "Run 05 for GatV1_K8_D3_s and CiteSeer:\n"
     ]
    },
    {
     "name": "stderr",
     "output_type": "stream",
     "text": [
      "Epoch 01: 100%|██████████| 120/120 [00:00<00:00, 391.29it/s]\n"
     ]
    },
    {
     "name": "stdout",
     "output_type": "stream",
     "text": [
      "Epoch 01| Loss: 3.0245| Acc: 0.1917| Train Time: 0.3100s\n"
     ]
    },
    {
     "name": "stderr",
     "output_type": "stream",
     "text": [
      "Evaluating: 100%|██████████| 9981/9981 [00:01<00:00, 7803.91it/s] \n"
     ]
    },
    {
     "name": "stdout",
     "output_type": "stream",
     "text": [
      "Train: 0.5833| Val: 0.4720| Test: 0.4750| Eval Time: 1.2867s\n",
      "Epoch 02| Loss: 2.0058| Acc: 0.5083| Train Time: 0.2275s\n"
     ]
    },
    {
     "name": "stderr",
     "output_type": "stream",
     "text": [
      "Evaluating: 100%|██████████| 9981/9981 [00:01<00:00, 6459.88it/s] \n"
     ]
    },
    {
     "name": "stdout",
     "output_type": "stream",
     "text": [
      "Train: 0.7250| Val: 0.6540| Test: 0.6330| Eval Time: 1.5571s\n",
      "Epoch 03| Loss: 1.7468| Acc: 0.6917| Train Time: 0.2540s\n"
     ]
    },
    {
     "name": "stderr",
     "output_type": "stream",
     "text": [
      "Evaluating: 100%|██████████| 9981/9981 [00:01<00:00, 6375.35it/s] \n"
     ]
    },
    {
     "name": "stdout",
     "output_type": "stream",
     "text": [
      "Train: 0.7750| Val: 0.7260| Test: 0.6790| Eval Time: 1.6390s\n",
      "Epoch 04| Loss: 2.3452| Acc: 0.6750| Train Time: 0.2490s\n"
     ]
    },
    {
     "name": "stderr",
     "output_type": "stream",
     "text": [
      "Evaluating: 100%|██████████| 9981/9981 [00:01<00:00, 6874.22it/s] \n"
     ]
    },
    {
     "name": "stdout",
     "output_type": "stream",
     "text": [
      "Train: 0.7833| Val: 0.7160| Test: 0.6630| Eval Time: 1.4601s\n",
      "Epoch 05| Loss: 1.8699| Acc: 0.7000| Train Time: 0.2324s\n"
     ]
    },
    {
     "name": "stderr",
     "output_type": "stream",
     "text": [
      "Evaluating: 100%|██████████| 9981/9981 [00:01<00:00, 5978.82it/s] \n"
     ]
    },
    {
     "name": "stdout",
     "output_type": "stream",
     "text": [
      "Train: 0.7917| Val: 0.6960| Test: 0.6580| Eval Time: 1.6760s\n",
      "Epoch 06| Loss: 2.4785| Acc: 0.7167| Train Time: 0.2365s\n"
     ]
    },
    {
     "name": "stderr",
     "output_type": "stream",
     "text": [
      "Evaluating: 100%|██████████| 9981/9981 [00:01<00:00, 6832.61it/s] \n"
     ]
    },
    {
     "name": "stdout",
     "output_type": "stream",
     "text": [
      "Train: 0.7833| Val: 0.6680| Test: 0.6340| Eval Time: 1.4672s\n",
      "Epoch 07| Loss: 1.7062| Acc: 0.7833| Train Time: 0.3074s\n"
     ]
    },
    {
     "name": "stderr",
     "output_type": "stream",
     "text": [
      "Evaluating: 100%|██████████| 9981/9981 [00:01<00:00, 6375.50it/s] \n"
     ]
    },
    {
     "name": "stdout",
     "output_type": "stream",
     "text": [
      "Train: 0.7917| Val: 0.6700| Test: 0.6260| Eval Time: 1.5734s\n",
      "Epoch 08| Loss: 1.4163| Acc: 0.7833| Train Time: 0.2429s\n"
     ]
    },
    {
     "name": "stderr",
     "output_type": "stream",
     "text": [
      "Evaluating: 100%|██████████| 9981/9981 [00:01<00:00, 6086.92it/s] \n"
     ]
    },
    {
     "name": "stdout",
     "output_type": "stream",
     "text": [
      "Train: 0.8083| Val: 0.6460| Test: 0.6280| Eval Time: 1.6512s\n",
      "Epoch 09| Loss: 1.5710| Acc: 0.8000| Train Time: 0.2497s\n"
     ]
    },
    {
     "name": "stderr",
     "output_type": "stream",
     "text": [
      "Evaluating: 100%|██████████| 9981/9981 [00:01<00:00, 6367.86it/s] \n"
     ]
    },
    {
     "name": "stdout",
     "output_type": "stream",
     "text": [
      "Train: 0.8000| Val: 0.6300| Test: 0.6230| Eval Time: 1.5739s\n",
      "Epoch 10| Loss: 2.5588| Acc: 0.7500| Train Time: 0.2880s\n"
     ]
    },
    {
     "name": "stderr",
     "output_type": "stream",
     "text": [
      "Evaluating: 100%|██████████| 9981/9981 [00:01<00:00, 6301.23it/s] \n"
     ]
    },
    {
     "name": "stdout",
     "output_type": "stream",
     "text": [
      "Train: 0.8083| Val: 0.6020| Test: 0.5990| Eval Time: 1.5939s\n",
      "Epoch 11| Loss: 1.6901| Acc: 0.7917| Train Time: 0.2459s\n"
     ]
    },
    {
     "name": "stderr",
     "output_type": "stream",
     "text": [
      "Evaluating: 100%|██████████| 9981/9981 [00:01<00:00, 6954.12it/s] \n"
     ]
    },
    {
     "name": "stdout",
     "output_type": "stream",
     "text": [
      "Train: 0.8333| Val: 0.5880| Test: 0.5980| Eval Time: 1.4455s\n",
      "Epoch 12| Loss: 2.0755| Acc: 0.8333| Train Time: 0.2486s\n"
     ]
    },
    {
     "name": "stderr",
     "output_type": "stream",
     "text": [
      "Evaluating: 100%|██████████| 9981/9981 [00:01<00:00, 6044.78it/s] \n"
     ]
    },
    {
     "name": "stdout",
     "output_type": "stream",
     "text": [
      "Train: 0.8333| Val: 0.6000| Test: 0.6090| Eval Time: 1.6581s\n",
      "Epoch 13| Loss: 2.9150| Acc: 0.8500| Train Time: 0.2377s\n"
     ]
    },
    {
     "name": "stderr",
     "output_type": "stream",
     "text": [
      "Evaluating: 100%|██████████| 9981/9981 [00:01<00:00, 6416.18it/s] \n"
     ]
    },
    {
     "name": "stdout",
     "output_type": "stream",
     "text": [
      "Train: 0.8583| Val: 0.6080| Test: 0.6180| Eval Time: 1.5651s\n",
      "Epoch 14| Loss: 3.2222| Acc: 0.8000| Train Time: 0.2453s\n"
     ]
    },
    {
     "name": "stderr",
     "output_type": "stream",
     "text": [
      "Evaluating: 100%|██████████| 9981/9981 [00:01<00:00, 6815.89it/s] \n"
     ]
    },
    {
     "name": "stdout",
     "output_type": "stream",
     "text": [
      "Train: 0.8833| Val: 0.6120| Test: 0.6300| Eval Time: 1.4701s\n",
      "Epoch 15| Loss: 2.5425| Acc: 0.8333| Train Time: 0.2988s\n"
     ]
    },
    {
     "name": "stderr",
     "output_type": "stream",
     "text": [
      "Evaluating: 100%|██████████| 9981/9981 [00:01<00:00, 6271.85it/s] \n"
     ]
    },
    {
     "name": "stdout",
     "output_type": "stream",
     "text": [
      "Train: 0.8917| Val: 0.6140| Test: 0.6380| Eval Time: 1.5971s\n",
      "Epoch 16| Loss: 0.9368| Acc: 0.8750| Train Time: 0.3076s\n"
     ]
    },
    {
     "name": "stderr",
     "output_type": "stream",
     "text": [
      "Evaluating: 100%|██████████| 9981/9981 [00:01<00:00, 6713.58it/s] \n"
     ]
    },
    {
     "name": "stdout",
     "output_type": "stream",
     "text": [
      "Train: 0.9000| Val: 0.6220| Test: 0.6440| Eval Time: 1.4944s\n",
      "Epoch 17| Loss: 1.4666| Acc: 0.8500| Train Time: 0.3007s\n"
     ]
    },
    {
     "name": "stderr",
     "output_type": "stream",
     "text": [
      "Evaluating: 100%|██████████| 9981/9981 [00:01<00:00, 5919.38it/s] \n"
     ]
    },
    {
     "name": "stdout",
     "output_type": "stream",
     "text": [
      "Train: 0.9000| Val: 0.6260| Test: 0.6480| Eval Time: 1.6921s\n",
      "Epoch 18| Loss: 2.8594| Acc: 0.8667| Train Time: 0.2296s\n"
     ]
    },
    {
     "name": "stderr",
     "output_type": "stream",
     "text": [
      "Evaluating: 100%|██████████| 9981/9981 [00:01<00:00, 6435.51it/s] \n"
     ]
    },
    {
     "name": "stdout",
     "output_type": "stream",
     "text": [
      "Train: 0.9000| Val: 0.6380| Test: 0.6510| Eval Time: 1.5579s\n",
      "Epoch 19| Loss: 1.2245| Acc: 0.8500| Train Time: 0.2317s\n"
     ]
    },
    {
     "name": "stderr",
     "output_type": "stream",
     "text": [
      "Evaluating: 100%|██████████| 9981/9981 [00:01<00:00, 5943.62it/s] \n"
     ]
    },
    {
     "name": "stdout",
     "output_type": "stream",
     "text": [
      "Train: 0.9000| Val: 0.6440| Test: 0.6530| Eval Time: 1.6855s\n",
      "Epoch 20| Loss: 1.0004| Acc: 0.8833| Train Time: 0.3149s\n"
     ]
    },
    {
     "name": "stderr",
     "output_type": "stream",
     "text": [
      "Evaluating: 100%|██████████| 9981/9981 [00:01<00:00, 6039.48it/s] \n"
     ]
    },
    {
     "name": "stdout",
     "output_type": "stream",
     "text": [
      "Train: 0.9000| Val: 0.6500| Test: 0.6580| Eval Time: 1.6640s\n",
      "Epoch 21| Loss: 1.8349| Acc: 0.8750| Train Time: 0.2385s\n"
     ]
    },
    {
     "name": "stderr",
     "output_type": "stream",
     "text": [
      "Evaluating: 100%|██████████| 9981/9981 [00:01<00:00, 6738.38it/s] \n"
     ]
    },
    {
     "name": "stdout",
     "output_type": "stream",
     "text": [
      "Train: 0.8833| Val: 0.6640| Test: 0.6550| Eval Time: 1.5490s\n",
      "Epoch 22| Loss: 1.6911| Acc: 0.8917| Train Time: 0.2423s\n"
     ]
    },
    {
     "name": "stderr",
     "output_type": "stream",
     "text": [
      "Evaluating: 100%|██████████| 9981/9981 [00:01<00:00, 5951.68it/s] \n"
     ]
    },
    {
     "name": "stdout",
     "output_type": "stream",
     "text": [
      "Train: 0.8917| Val: 0.6640| Test: 0.6590| Eval Time: 1.6835s\n",
      "Epoch 23| Loss: 2.5347| Acc: 0.8333| Train Time: 0.3123s\n"
     ]
    },
    {
     "name": "stderr",
     "output_type": "stream",
     "text": [
      "Evaluating: 100%|██████████| 9981/9981 [00:01<00:00, 6290.64it/s] \n"
     ]
    },
    {
     "name": "stdout",
     "output_type": "stream",
     "text": [
      "Train: 0.8917| Val: 0.6640| Test: 0.6630| Eval Time: 1.6637s\n",
      "Epoch 24| Loss: 1.2034| Acc: 0.9333| Train Time: 0.2413s\n"
     ]
    },
    {
     "name": "stderr",
     "output_type": "stream",
     "text": [
      "Evaluating: 100%|██████████| 9981/9981 [00:01<00:00, 6426.08it/s] \n"
     ]
    },
    {
     "name": "stdout",
     "output_type": "stream",
     "text": [
      "Train: 0.8917| Val: 0.6640| Test: 0.6640| Eval Time: 1.5641s\n",
      "Epoch 25| Loss: 0.4705| Acc: 0.9333| Train Time: 0.2466s\n"
     ]
    },
    {
     "name": "stderr",
     "output_type": "stream",
     "text": [
      "Evaluating: 100%|██████████| 9981/9981 [00:01<00:00, 6381.64it/s] \n"
     ]
    },
    {
     "name": "stdout",
     "output_type": "stream",
     "text": [
      "Train: 0.8917| Val: 0.6600| Test: 0.6630| Eval Time: 1.5707s\n",
      "Epoch 26| Loss: 1.8284| Acc: 0.8833| Train Time: 0.3193s\n"
     ]
    },
    {
     "name": "stderr",
     "output_type": "stream",
     "text": [
      "Evaluating: 100%|██████████| 9981/9981 [00:01<00:00, 6391.65it/s] \n"
     ]
    },
    {
     "name": "stdout",
     "output_type": "stream",
     "text": [
      "Train: 0.9000| Val: 0.6640| Test: 0.6660| Eval Time: 1.5695s\n",
      "Epoch 27| Loss: 3.2514| Acc: 0.8750| Train Time: 0.2413s\n"
     ]
    },
    {
     "name": "stderr",
     "output_type": "stream",
     "text": [
      "Evaluating: 100%|██████████| 9981/9981 [00:01<00:00, 6490.64it/s] \n"
     ]
    },
    {
     "name": "stdout",
     "output_type": "stream",
     "text": [
      "Train: 0.9000| Val: 0.6540| Test: 0.6550| Eval Time: 1.5484s\n",
      "Epoch 28| Loss: 2.3147| Acc: 0.9083| Train Time: 0.2341s\n"
     ]
    },
    {
     "name": "stderr",
     "output_type": "stream",
     "text": [
      "Evaluating: 100%|██████████| 9981/9981 [00:01<00:00, 6320.97it/s] \n"
     ]
    },
    {
     "name": "stdout",
     "output_type": "stream",
     "text": [
      "Train: 0.8917| Val: 0.6460| Test: 0.6490| Eval Time: 1.5854s\n",
      "Epoch 29| Loss: 1.9875| Acc: 0.8917| Train Time: 0.3059s\n"
     ]
    },
    {
     "name": "stderr",
     "output_type": "stream",
     "text": [
      "Evaluating: 100%|██████████| 9981/9981 [00:01<00:00, 6782.26it/s] \n"
     ]
    },
    {
     "name": "stdout",
     "output_type": "stream",
     "text": [
      "Train: 0.8750| Val: 0.6380| Test: 0.6430| Eval Time: 1.4783s\n",
      "Epoch 30| Loss: 1.7532| Acc: 0.8917| Train Time: 0.2286s\n"
     ]
    },
    {
     "name": "stderr",
     "output_type": "stream",
     "text": [
      "Evaluating: 100%|██████████| 9981/9981 [00:01<00:00, 6317.33it/s] \n"
     ]
    },
    {
     "name": "stdout",
     "output_type": "stream",
     "text": [
      "Train: 0.8667| Val: 0.6360| Test: 0.6400| Eval Time: 1.5859s\n",
      "Epoch 31| Loss: 3.5290| Acc: 0.9167| Train Time: 0.3208s\n"
     ]
    },
    {
     "name": "stderr",
     "output_type": "stream",
     "text": [
      "Evaluating: 100%|██████████| 9981/9981 [00:01<00:00, 6330.04it/s] \n"
     ]
    },
    {
     "name": "stdout",
     "output_type": "stream",
     "text": [
      "Train: 0.8750| Val: 0.6440| Test: 0.6480| Eval Time: 1.6447s\n",
      "Epoch 32| Loss: 3.0934| Acc: 0.8917| Train Time: 0.2230s\n"
     ]
    },
    {
     "name": "stderr",
     "output_type": "stream",
     "text": [
      "Evaluating: 100%|██████████| 9981/9981 [00:01<00:00, 6203.89it/s] \n"
     ]
    },
    {
     "name": "stdout",
     "output_type": "stream",
     "text": [
      "Train: 0.8833| Val: 0.6460| Test: 0.6500| Eval Time: 1.6766s\n",
      "Epoch 33| Loss: 0.5020| Acc: 0.9417| Train Time: 0.2392s\n"
     ]
    },
    {
     "name": "stderr",
     "output_type": "stream",
     "text": [
      "Evaluating: 100%|██████████| 9981/9981 [00:01<00:00, 5920.86it/s] \n"
     ]
    },
    {
     "name": "stdout",
     "output_type": "stream",
     "text": [
      "Train: 0.8833| Val: 0.6420| Test: 0.6480| Eval Time: 1.6919s\n",
      "\n",
      "Result of  5. run| Train: 0.7750| Val: 0.7260| Test: 0.6790\n",
      "\n",
      "Run 06 for GatV1_K8_D3_s and CiteSeer:\n"
     ]
    },
    {
     "name": "stderr",
     "output_type": "stream",
     "text": [
      "Epoch 01: 100%|██████████| 120/120 [00:00<00:00, 468.55it/s]\n"
     ]
    },
    {
     "name": "stdout",
     "output_type": "stream",
     "text": [
      "Epoch 01| Loss: 3.2560| Acc: 0.1500| Train Time: 0.3196s\n"
     ]
    },
    {
     "name": "stderr",
     "output_type": "stream",
     "text": [
      "Evaluating: 100%|██████████| 9981/9981 [00:01<00:00, 6025.44it/s] \n"
     ]
    },
    {
     "name": "stdout",
     "output_type": "stream",
     "text": [
      "Train: 0.5500| Val: 0.3460| Test: 0.3820| Eval Time: 1.6649s\n",
      "Epoch 02| Loss: 2.3894| Acc: 0.4000| Train Time: 0.2425s\n"
     ]
    },
    {
     "name": "stderr",
     "output_type": "stream",
     "text": [
      "Evaluating: 100%|██████████| 9981/9981 [00:01<00:00, 6047.32it/s] \n"
     ]
    },
    {
     "name": "stdout",
     "output_type": "stream",
     "text": [
      "Train: 0.7500| Val: 0.6260| Test: 0.5950| Eval Time: 1.6563s\n",
      "Epoch 03| Loss: 3.0819| Acc: 0.5750| Train Time: 0.2383s\n"
     ]
    },
    {
     "name": "stderr",
     "output_type": "stream",
     "text": [
      "Evaluating: 100%|██████████| 9981/9981 [00:01<00:00, 5971.24it/s] \n"
     ]
    },
    {
     "name": "stdout",
     "output_type": "stream",
     "text": [
      "Train: 0.8250| Val: 0.6700| Test: 0.6380| Eval Time: 1.6776s\n",
      "Epoch 04| Loss: 1.9219| Acc: 0.7083| Train Time: 0.3083s\n"
     ]
    },
    {
     "name": "stderr",
     "output_type": "stream",
     "text": [
      "Evaluating: 100%|██████████| 9981/9981 [00:01<00:00, 5958.44it/s] \n"
     ]
    },
    {
     "name": "stdout",
     "output_type": "stream",
     "text": [
      "Train: 0.8417| Val: 0.6920| Test: 0.6590| Eval Time: 1.6827s\n",
      "Epoch 05| Loss: 2.3525| Acc: 0.7000| Train Time: 0.2336s\n"
     ]
    },
    {
     "name": "stderr",
     "output_type": "stream",
     "text": [
      "Evaluating: 100%|██████████| 9981/9981 [00:01<00:00, 6898.76it/s] \n"
     ]
    },
    {
     "name": "stdout",
     "output_type": "stream",
     "text": [
      "Train: 0.8500| Val: 0.6680| Test: 0.6370| Eval Time: 1.4531s\n",
      "Epoch 06| Loss: 2.3986| Acc: 0.7250| Train Time: 0.2274s\n"
     ]
    },
    {
     "name": "stderr",
     "output_type": "stream",
     "text": [
      "Evaluating: 100%|██████████| 9981/9981 [00:01<00:00, 5944.73it/s] \n"
     ]
    },
    {
     "name": "stdout",
     "output_type": "stream",
     "text": [
      "Train: 0.8250| Val: 0.6380| Test: 0.6320| Eval Time: 1.6849s\n",
      "Epoch 07| Loss: 2.4233| Acc: 0.7583| Train Time: 0.3114s\n"
     ]
    },
    {
     "name": "stderr",
     "output_type": "stream",
     "text": [
      "Evaluating: 100%|██████████| 9981/9981 [00:01<00:00, 6717.80it/s] \n"
     ]
    },
    {
     "name": "stdout",
     "output_type": "stream",
     "text": [
      "Train: 0.8333| Val: 0.6420| Test: 0.6390| Eval Time: 1.5551s\n",
      "Epoch 08| Loss: 3.8119| Acc: 0.7500| Train Time: 0.2599s\n"
     ]
    },
    {
     "name": "stderr",
     "output_type": "stream",
     "text": [
      "Evaluating: 100%|██████████| 9981/9981 [00:01<00:00, 6483.46it/s] \n"
     ]
    },
    {
     "name": "stdout",
     "output_type": "stream",
     "text": [
      "Train: 0.8500| Val: 0.6700| Test: 0.6660| Eval Time: 1.5472s\n",
      "Epoch 09| Loss: 2.3440| Acc: 0.8083| Train Time: 0.2511s\n"
     ]
    },
    {
     "name": "stderr",
     "output_type": "stream",
     "text": [
      "Evaluating: 100%|██████████| 9981/9981 [00:01<00:00, 6371.17it/s] \n"
     ]
    },
    {
     "name": "stdout",
     "output_type": "stream",
     "text": [
      "Train: 0.8583| Val: 0.6780| Test: 0.6810| Eval Time: 1.5733s\n",
      "Epoch 10| Loss: 2.3722| Acc: 0.7667| Train Time: 0.2349s\n"
     ]
    },
    {
     "name": "stderr",
     "output_type": "stream",
     "text": [
      "Evaluating: 100%|██████████| 9981/9981 [00:01<00:00, 6405.50it/s] \n"
     ]
    },
    {
     "name": "stdout",
     "output_type": "stream",
     "text": [
      "Train: 0.8667| Val: 0.6920| Test: 0.6930| Eval Time: 1.5641s\n",
      "Epoch 11| Loss: 1.2745| Acc: 0.8583| Train Time: 0.3195s\n"
     ]
    },
    {
     "name": "stderr",
     "output_type": "stream",
     "text": [
      "Evaluating: 100%|██████████| 9981/9981 [00:01<00:00, 5710.38it/s] \n"
     ]
    },
    {
     "name": "stdout",
     "output_type": "stream",
     "text": [
      "Train: 0.8667| Val: 0.6900| Test: 0.6940| Eval Time: 1.7590s\n",
      "Epoch 12| Loss: 1.5908| Acc: 0.7667| Train Time: 0.2436s\n"
     ]
    },
    {
     "name": "stderr",
     "output_type": "stream",
     "text": [
      "Evaluating: 100%|██████████| 9981/9981 [00:01<00:00, 6367.45it/s] \n"
     ]
    },
    {
     "name": "stdout",
     "output_type": "stream",
     "text": [
      "Train: 0.8750| Val: 0.6860| Test: 0.6860| Eval Time: 1.5748s\n",
      "Epoch 13| Loss: 1.4806| Acc: 0.8500| Train Time: 0.2357s\n"
     ]
    },
    {
     "name": "stderr",
     "output_type": "stream",
     "text": [
      "Evaluating: 100%|██████████| 9981/9981 [00:01<00:00, 6403.25it/s] \n"
     ]
    },
    {
     "name": "stdout",
     "output_type": "stream",
     "text": [
      "Train: 0.8833| Val: 0.6760| Test: 0.6830| Eval Time: 1.5645s\n",
      "Epoch 14| Loss: 2.2884| Acc: 0.8333| Train Time: 0.3200s\n"
     ]
    },
    {
     "name": "stderr",
     "output_type": "stream",
     "text": [
      "Evaluating: 100%|██████████| 9981/9981 [00:01<00:00, 6799.15it/s] \n"
     ]
    },
    {
     "name": "stdout",
     "output_type": "stream",
     "text": [
      "Train: 0.8667| Val: 0.6720| Test: 0.6810| Eval Time: 1.4760s\n",
      "Epoch 15| Loss: 0.7875| Acc: 0.8833| Train Time: 0.2345s\n"
     ]
    },
    {
     "name": "stderr",
     "output_type": "stream",
     "text": [
      "Evaluating: 100%|██████████| 9981/9981 [00:01<00:00, 6070.44it/s] \n"
     ]
    },
    {
     "name": "stdout",
     "output_type": "stream",
     "text": [
      "Train: 0.8667| Val: 0.6620| Test: 0.6800| Eval Time: 1.6500s\n",
      "Epoch 16| Loss: 1.0050| Acc: 0.9000| Train Time: 0.2325s\n"
     ]
    },
    {
     "name": "stderr",
     "output_type": "stream",
     "text": [
      "Evaluating: 100%|██████████| 9981/9981 [00:01<00:00, 6315.61it/s] \n"
     ]
    },
    {
     "name": "stdout",
     "output_type": "stream",
     "text": [
      "Train: 0.8750| Val: 0.6460| Test: 0.6740| Eval Time: 1.5863s\n",
      "Epoch 17| Loss: 2.3439| Acc: 0.8667| Train Time: 0.3046s\n"
     ]
    },
    {
     "name": "stderr",
     "output_type": "stream",
     "text": [
      "Evaluating: 100%|██████████| 9981/9981 [00:01<00:00, 5631.64it/s] \n"
     ]
    },
    {
     "name": "stdout",
     "output_type": "stream",
     "text": [
      "Train: 0.8833| Val: 0.6460| Test: 0.6690| Eval Time: 1.7816s\n",
      "Epoch 18| Loss: 2.7871| Acc: 0.8750| Train Time: 0.2415s\n"
     ]
    },
    {
     "name": "stderr",
     "output_type": "stream",
     "text": [
      "Evaluating: 100%|██████████| 9981/9981 [00:01<00:00, 6113.21it/s] \n"
     ]
    },
    {
     "name": "stdout",
     "output_type": "stream",
     "text": [
      "Train: 0.8833| Val: 0.6500| Test: 0.6720| Eval Time: 1.6383s\n",
      "Epoch 19| Loss: 0.5188| Acc: 0.9250| Train Time: 0.2323s\n"
     ]
    },
    {
     "name": "stderr",
     "output_type": "stream",
     "text": [
      "Evaluating: 100%|██████████| 9981/9981 [00:01<00:00, 6818.51it/s] \n"
     ]
    },
    {
     "name": "stdout",
     "output_type": "stream",
     "text": [
      "Train: 0.8750| Val: 0.6480| Test: 0.6810| Eval Time: 1.4750s\n",
      "Epoch 20| Loss: 2.9020| Acc: 0.8583| Train Time: 0.2387s\n"
     ]
    },
    {
     "name": "stderr",
     "output_type": "stream",
     "text": [
      "Evaluating: 100%|██████████| 9981/9981 [00:01<00:00, 6358.40it/s] \n"
     ]
    },
    {
     "name": "stdout",
     "output_type": "stream",
     "text": [
      "Train: 0.8667| Val: 0.6560| Test: 0.6790| Eval Time: 1.5765s\n",
      "Epoch 21| Loss: 0.9368| Acc: 0.9333| Train Time: 0.2386s\n"
     ]
    },
    {
     "name": "stderr",
     "output_type": "stream",
     "text": [
      "Evaluating: 100%|██████████| 9981/9981 [00:01<00:00, 6418.80it/s] \n"
     ]
    },
    {
     "name": "stdout",
     "output_type": "stream",
     "text": [
      "Train: 0.8917| Val: 0.6580| Test: 0.6760| Eval Time: 1.5623s\n",
      "Epoch 22| Loss: 0.6557| Acc: 0.9000| Train Time: 0.3130s\n"
     ]
    },
    {
     "name": "stderr",
     "output_type": "stream",
     "text": [
      "Evaluating: 100%|██████████| 9981/9981 [00:01<00:00, 5958.85it/s] \n"
     ]
    },
    {
     "name": "stdout",
     "output_type": "stream",
     "text": [
      "Train: 0.9000| Val: 0.6580| Test: 0.6720| Eval Time: 1.6836s\n",
      "Epoch 23| Loss: 1.0528| Acc: 0.8833| Train Time: 0.2451s\n"
     ]
    },
    {
     "name": "stderr",
     "output_type": "stream",
     "text": [
      "Evaluating: 100%|██████████| 9981/9981 [00:01<00:00, 6427.95it/s] \n"
     ]
    },
    {
     "name": "stdout",
     "output_type": "stream",
     "text": [
      "Train: 0.9000| Val: 0.6580| Test: 0.6690| Eval Time: 1.5596s\n",
      "Epoch 24| Loss: 1.5849| Acc: 0.9167| Train Time: 0.2987s\n"
     ]
    },
    {
     "name": "stderr",
     "output_type": "stream",
     "text": [
      "Evaluating: 100%|██████████| 9981/9981 [00:01<00:00, 5921.03it/s] \n"
     ]
    },
    {
     "name": "stdout",
     "output_type": "stream",
     "text": [
      "Train: 0.9083| Val: 0.6580| Test: 0.6690| Eval Time: 1.6948s\n",
      "Epoch 25| Loss: 1.3287| Acc: 0.9250| Train Time: 0.3137s\n"
     ]
    },
    {
     "name": "stderr",
     "output_type": "stream",
     "text": [
      "Evaluating: 100%|██████████| 9981/9981 [00:01<00:00, 6303.29it/s] \n"
     ]
    },
    {
     "name": "stdout",
     "output_type": "stream",
     "text": [
      "Train: 0.9167| Val: 0.6620| Test: 0.6730| Eval Time: 1.5901s\n",
      "Epoch 26| Loss: 0.9785| Acc: 0.9250| Train Time: 0.3089s\n"
     ]
    },
    {
     "name": "stderr",
     "output_type": "stream",
     "text": [
      "Evaluating: 100%|██████████| 9981/9981 [00:01<00:00, 6371.86it/s] \n"
     ]
    },
    {
     "name": "stdout",
     "output_type": "stream",
     "text": [
      "Train: 0.9083| Val: 0.6640| Test: 0.6750| Eval Time: 1.5767s\n",
      "Epoch 27| Loss: 0.1875| Acc: 0.9583| Train Time: 0.2442s\n"
     ]
    },
    {
     "name": "stderr",
     "output_type": "stream",
     "text": [
      "Evaluating: 100%|██████████| 9981/9981 [00:01<00:00, 6442.29it/s] \n"
     ]
    },
    {
     "name": "stdout",
     "output_type": "stream",
     "text": [
      "Train: 0.9083| Val: 0.6700| Test: 0.6750| Eval Time: 1.5600s\n",
      "Epoch 28| Loss: 1.1875| Acc: 0.9167| Train Time: 0.2412s\n"
     ]
    },
    {
     "name": "stderr",
     "output_type": "stream",
     "text": [
      "Evaluating: 100%|██████████| 9981/9981 [00:01<00:00, 6408.86it/s] \n"
     ]
    },
    {
     "name": "stdout",
     "output_type": "stream",
     "text": [
      "Train: 0.9083| Val: 0.6720| Test: 0.6730| Eval Time: 1.5634s\n",
      "Epoch 29| Loss: 0.6449| Acc: 0.9083| Train Time: 0.2993s\n"
     ]
    },
    {
     "name": "stderr",
     "output_type": "stream",
     "text": [
      "Evaluating: 100%|██████████| 9981/9981 [00:01<00:00, 5935.02it/s] \n"
     ]
    },
    {
     "name": "stdout",
     "output_type": "stream",
     "text": [
      "Train: 0.9083| Val: 0.6740| Test: 0.6670| Eval Time: 1.6903s\n",
      "Epoch 30| Loss: 0.7578| Acc: 0.9417| Train Time: 0.2428s\n"
     ]
    },
    {
     "name": "stderr",
     "output_type": "stream",
     "text": [
      "Evaluating: 100%|██████████| 9981/9981 [00:01<00:00, 6010.78it/s] \n"
     ]
    },
    {
     "name": "stdout",
     "output_type": "stream",
     "text": [
      "Train: 0.9000| Val: 0.6740| Test: 0.6680| Eval Time: 1.6662s\n",
      "Epoch 31| Loss: 0.6909| Acc: 0.9500| Train Time: 0.3160s\n"
     ]
    },
    {
     "name": "stderr",
     "output_type": "stream",
     "text": [
      "Evaluating: 100%|██████████| 9981/9981 [00:01<00:00, 6028.49it/s] \n"
     ]
    },
    {
     "name": "stdout",
     "output_type": "stream",
     "text": [
      "Train: 0.9083| Val: 0.6720| Test: 0.6670| Eval Time: 1.6665s\n",
      "Epoch 32| Loss: 1.0061| Acc: 0.8917| Train Time: 0.2482s\n"
     ]
    },
    {
     "name": "stderr",
     "output_type": "stream",
     "text": [
      "Evaluating: 100%|██████████| 9981/9981 [00:01<00:00, 6106.38it/s] \n"
     ]
    },
    {
     "name": "stdout",
     "output_type": "stream",
     "text": [
      "Train: 0.9167| Val: 0.6740| Test: 0.6680| Eval Time: 1.6472s\n",
      "Epoch 33| Loss: 0.1553| Acc: 0.9667| Train Time: 0.2492s\n"
     ]
    },
    {
     "name": "stderr",
     "output_type": "stream",
     "text": [
      "Evaluating: 100%|██████████| 9981/9981 [00:01<00:00, 6110.85it/s] \n"
     ]
    },
    {
     "name": "stdout",
     "output_type": "stream",
     "text": [
      "Train: 0.9167| Val: 0.6760| Test: 0.6750| Eval Time: 1.6458s\n",
      "Epoch 34| Loss: 0.9991| Acc: 0.9250| Train Time: 0.2414s\n"
     ]
    },
    {
     "name": "stderr",
     "output_type": "stream",
     "text": [
      "Evaluating: 100%|██████████| 9981/9981 [00:01<00:00, 6040.57it/s] \n"
     ]
    },
    {
     "name": "stdout",
     "output_type": "stream",
     "text": [
      "Train: 0.9083| Val: 0.6820| Test: 0.6760| Eval Time: 1.6626s\n",
      "\n",
      "Result of  6. run| Train: 0.8417| Val: 0.6920| Test: 0.6590\n",
      "\n",
      "Run 07 for GatV1_K8_D3_s and CiteSeer:\n"
     ]
    },
    {
     "name": "stderr",
     "output_type": "stream",
     "text": [
      "Epoch 01: 100%|██████████| 120/120 [00:00<00:00, 501.99it/s]\n"
     ]
    },
    {
     "name": "stdout",
     "output_type": "stream",
     "text": [
      "Epoch 01| Loss: 2.7983| Acc: 0.2083| Train Time: 0.2430s\n"
     ]
    },
    {
     "name": "stderr",
     "output_type": "stream",
     "text": [
      "Evaluating: 100%|██████████| 9981/9981 [00:01<00:00, 6803.97it/s] \n"
     ]
    },
    {
     "name": "stdout",
     "output_type": "stream",
     "text": [
      "Train: 0.6500| Val: 0.5160| Test: 0.5080| Eval Time: 1.4729s\n",
      "Epoch 02| Loss: 2.2199| Acc: 0.5583| Train Time: 0.3100s\n"
     ]
    },
    {
     "name": "stderr",
     "output_type": "stream",
     "text": [
      "Evaluating: 100%|██████████| 9981/9981 [00:01<00:00, 6391.65it/s] \n"
     ]
    },
    {
     "name": "stdout",
     "output_type": "stream",
     "text": [
      "Train: 0.7417| Val: 0.6760| Test: 0.6680| Eval Time: 1.5714s\n",
      "Epoch 03| Loss: 2.6893| Acc: 0.6250| Train Time: 0.2466s\n"
     ]
    },
    {
     "name": "stderr",
     "output_type": "stream",
     "text": [
      "Evaluating: 100%|██████████| 9981/9981 [00:01<00:00, 6062.13it/s] \n"
     ]
    },
    {
     "name": "stdout",
     "output_type": "stream",
     "text": [
      "Train: 0.8167| Val: 0.6820| Test: 0.6770| Eval Time: 1.6530s\n",
      "Epoch 04| Loss: 1.6721| Acc: 0.6917| Train Time: 0.2453s\n"
     ]
    },
    {
     "name": "stderr",
     "output_type": "stream",
     "text": [
      "Evaluating: 100%|██████████| 9981/9981 [00:01<00:00, 6822.24it/s] \n"
     ]
    },
    {
     "name": "stdout",
     "output_type": "stream",
     "text": [
      "Train: 0.8667| Val: 0.6800| Test: 0.6670| Eval Time: 1.4691s\n",
      "Epoch 05| Loss: 1.5620| Acc: 0.7583| Train Time: 0.3024s\n"
     ]
    },
    {
     "name": "stderr",
     "output_type": "stream",
     "text": [
      "Evaluating: 100%|██████████| 9981/9981 [00:01<00:00, 6297.71it/s] \n"
     ]
    },
    {
     "name": "stdout",
     "output_type": "stream",
     "text": [
      "Train: 0.8500| Val: 0.6680| Test: 0.6710| Eval Time: 1.5942s\n",
      "Epoch 06| Loss: 2.2452| Acc: 0.6667| Train Time: 0.2365s\n"
     ]
    },
    {
     "name": "stderr",
     "output_type": "stream",
     "text": [
      "Evaluating: 100%|██████████| 9981/9981 [00:01<00:00, 6018.68it/s] \n"
     ]
    },
    {
     "name": "stdout",
     "output_type": "stream",
     "text": [
      "Train: 0.8667| Val: 0.6680| Test: 0.6740| Eval Time: 1.6647s\n",
      "Epoch 07| Loss: 1.1212| Acc: 0.7500| Train Time: 0.3171s\n"
     ]
    },
    {
     "name": "stderr",
     "output_type": "stream",
     "text": [
      "Evaluating: 100%|██████████| 9981/9981 [00:01<00:00, 6326.88it/s] \n"
     ]
    },
    {
     "name": "stdout",
     "output_type": "stream",
     "text": [
      "Train: 0.8417| Val: 0.6540| Test: 0.6810| Eval Time: 1.5845s\n",
      "Epoch 08| Loss: 1.2164| Acc: 0.8000| Train Time: 0.3109s\n"
     ]
    },
    {
     "name": "stderr",
     "output_type": "stream",
     "text": [
      "Evaluating: 100%|██████████| 9981/9981 [00:01<00:00, 6711.38it/s] \n"
     ]
    },
    {
     "name": "stdout",
     "output_type": "stream",
     "text": [
      "Train: 0.8583| Val: 0.6700| Test: 0.6840| Eval Time: 1.5618s\n",
      "Epoch 09| Loss: 1.0593| Acc: 0.8250| Train Time: 0.2483s\n"
     ]
    },
    {
     "name": "stderr",
     "output_type": "stream",
     "text": [
      "Evaluating: 100%|██████████| 9981/9981 [00:01<00:00, 6392.89it/s] \n"
     ]
    },
    {
     "name": "stdout",
     "output_type": "stream",
     "text": [
      "Train: 0.8500| Val: 0.6780| Test: 0.6870| Eval Time: 1.5683s\n",
      "Epoch 10| Loss: 2.0893| Acc: 0.7833| Train Time: 0.2378s\n"
     ]
    },
    {
     "name": "stderr",
     "output_type": "stream",
     "text": [
      "Evaluating: 100%|██████████| 9981/9981 [00:01<00:00, 6971.54it/s] \n"
     ]
    },
    {
     "name": "stdout",
     "output_type": "stream",
     "text": [
      "Train: 0.8583| Val: 0.6820| Test: 0.6910| Eval Time: 1.4444s\n",
      "Epoch 11| Loss: 1.3721| Acc: 0.8250| Train Time: 0.2332s\n"
     ]
    },
    {
     "name": "stderr",
     "output_type": "stream",
     "text": [
      "Evaluating: 100%|██████████| 9981/9981 [00:01<00:00, 6840.58it/s] \n"
     ]
    },
    {
     "name": "stdout",
     "output_type": "stream",
     "text": [
      "Train: 0.8500| Val: 0.6740| Test: 0.6910| Eval Time: 1.4690s\n",
      "Epoch 12| Loss: 1.5177| Acc: 0.8167| Train Time: 0.2535s\n"
     ]
    },
    {
     "name": "stderr",
     "output_type": "stream",
     "text": [
      "Evaluating: 100%|██████████| 9981/9981 [00:01<00:00, 6826.34it/s] \n"
     ]
    },
    {
     "name": "stdout",
     "output_type": "stream",
     "text": [
      "Train: 0.8583| Val: 0.6660| Test: 0.6850| Eval Time: 1.4680s\n",
      "Epoch 13| Loss: 1.2301| Acc: 0.8750| Train Time: 0.2901s\n"
     ]
    },
    {
     "name": "stderr",
     "output_type": "stream",
     "text": [
      "Evaluating: 100%|██████████| 9981/9981 [00:01<00:00, 6205.65it/s] \n"
     ]
    },
    {
     "name": "stdout",
     "output_type": "stream",
     "text": [
      "Train: 0.8500| Val: 0.6580| Test: 0.6790| Eval Time: 1.6811s\n",
      "Epoch 14| Loss: 1.1359| Acc: 0.8917| Train Time: 0.2518s\n"
     ]
    },
    {
     "name": "stderr",
     "output_type": "stream",
     "text": [
      "Evaluating: 100%|██████████| 9981/9981 [00:01<00:00, 6043.82it/s] \n"
     ]
    },
    {
     "name": "stdout",
     "output_type": "stream",
     "text": [
      "Train: 0.8583| Val: 0.6600| Test: 0.6800| Eval Time: 1.6596s\n",
      "Epoch 15| Loss: 0.4407| Acc: 0.9000| Train Time: 0.2427s\n"
     ]
    },
    {
     "name": "stderr",
     "output_type": "stream",
     "text": [
      "Evaluating: 100%|██████████| 9981/9981 [00:01<00:00, 6383.03it/s] \n"
     ]
    },
    {
     "name": "stdout",
     "output_type": "stream",
     "text": [
      "Train: 0.8500| Val: 0.6620| Test: 0.6800| Eval Time: 1.5698s\n",
      "Epoch 16| Loss: 1.2663| Acc: 0.9250| Train Time: 0.3030s\n"
     ]
    },
    {
     "name": "stderr",
     "output_type": "stream",
     "text": [
      "Evaluating: 100%|██████████| 9981/9981 [00:01<00:00, 5948.24it/s] \n"
     ]
    },
    {
     "name": "stdout",
     "output_type": "stream",
     "text": [
      "Train: 0.8667| Val: 0.6700| Test: 0.6820| Eval Time: 1.6863s\n",
      "Epoch 17| Loss: 0.9736| Acc: 0.9000| Train Time: 0.2318s\n"
     ]
    },
    {
     "name": "stderr",
     "output_type": "stream",
     "text": [
      "Evaluating: 100%|██████████| 9981/9981 [00:01<00:00, 6420.07it/s] \n"
     ]
    },
    {
     "name": "stdout",
     "output_type": "stream",
     "text": [
      "Train: 0.8917| Val: 0.6940| Test: 0.6860| Eval Time: 1.5608s\n",
      "Epoch 18| Loss: 0.9150| Acc: 0.9083| Train Time: 0.2342s\n"
     ]
    },
    {
     "name": "stderr",
     "output_type": "stream",
     "text": [
      "Evaluating: 100%|██████████| 9981/9981 [00:01<00:00, 6336.56it/s] \n"
     ]
    },
    {
     "name": "stdout",
     "output_type": "stream",
     "text": [
      "Train: 0.8917| Val: 0.6920| Test: 0.6870| Eval Time: 1.5820s\n",
      "Epoch 19| Loss: 0.7515| Acc: 0.9083| Train Time: 0.3070s\n"
     ]
    },
    {
     "name": "stderr",
     "output_type": "stream",
     "text": [
      "Evaluating: 100%|██████████| 9981/9981 [00:01<00:00, 6316.45it/s] \n"
     ]
    },
    {
     "name": "stdout",
     "output_type": "stream",
     "text": [
      "Train: 0.9000| Val: 0.6940| Test: 0.6840| Eval Time: 1.5873s\n",
      "Epoch 20| Loss: 0.7159| Acc: 0.9083| Train Time: 0.2355s\n"
     ]
    },
    {
     "name": "stderr",
     "output_type": "stream",
     "text": [
      "Evaluating: 100%|██████████| 9981/9981 [00:01<00:00, 6121.69it/s] \n"
     ]
    },
    {
     "name": "stdout",
     "output_type": "stream",
     "text": [
      "Train: 0.9000| Val: 0.6940| Test: 0.6830| Eval Time: 1.6420s\n",
      "Epoch 21| Loss: 0.7373| Acc: 0.9083| Train Time: 0.2406s\n"
     ]
    },
    {
     "name": "stderr",
     "output_type": "stream",
     "text": [
      "Evaluating: 100%|██████████| 9981/9981 [00:01<00:00, 6753.46it/s] \n"
     ]
    },
    {
     "name": "stdout",
     "output_type": "stream",
     "text": [
      "Train: 0.9083| Val: 0.6960| Test: 0.6830| Eval Time: 1.4847s\n",
      "Epoch 22| Loss: 0.5284| Acc: 0.9500| Train Time: 0.3086s\n"
     ]
    },
    {
     "name": "stderr",
     "output_type": "stream",
     "text": [
      "Evaluating: 100%|██████████| 9981/9981 [00:01<00:00, 6025.49it/s] \n"
     ]
    },
    {
     "name": "stdout",
     "output_type": "stream",
     "text": [
      "Train: 0.9083| Val: 0.7000| Test: 0.6890| Eval Time: 1.6696s\n",
      "Epoch 23| Loss: 1.0408| Acc: 0.9417| Train Time: 0.2486s\n"
     ]
    },
    {
     "name": "stderr",
     "output_type": "stream",
     "text": [
      "Evaluating:  56%|█████▋    | 5631/9981 [00:00<00:00, 9098.75it/s] "
     ]
    }
   ],
   "source": [
    "models     = [ModelType.GATV1]\r\n",
    "datasets   = [Dataset.CITESEER, Dataset.CORA, Dataset.PUBMED]\r\n",
    "degrees    = [5,6,7,8,9,10]\r\n",
    "num_layers = [3]\r\n",
    "sparse     = [True]\r\n",
    "adj_modes  = [AdjacencyMode.OneStep]\r\n",
    "aggr_modes = [AggrMode.NONE]\r\n",
    "\r\n",
    "runExperiments(models, datasets, degrees, sparse, num_layers, adj_modes, aggr_modes)"
   ]
  },
  {
   "cell_type": "code",
   "execution_count": null,
   "metadata": {},
   "outputs": [],
   "source": []
  }
 ],
 "metadata": {
  "interpreter": {
   "hash": "b8be38cac5e07419459cc1d2fe0e04c6cbe36991c6a4efd3c9a636608bfd9cde"
  },
  "kernelspec": {
   "display_name": "Python [conda env:.conda-PSN]",
   "language": "python",
   "name": "conda-env-.conda-PSN-py"
  },
  "language_info": {
   "codemirror_mode": {
    "name": "ipython",
    "version": 3
   },
   "file_extension": ".py",
   "mimetype": "text/x-python",
   "name": "python",
   "nbconvert_exporter": "python",
   "pygments_lexer": "ipython3",
   "version": "3.8.10"
  }
 },
 "nbformat": 4,
 "nbformat_minor": 4
}
