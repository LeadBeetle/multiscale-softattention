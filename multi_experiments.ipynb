{
 "cells": [
  {
   "cell_type": "code",
   "execution_count": 1,
   "metadata": {},
   "outputs": [],
   "source": [
    "from utils.constants import *\r\n",
    "from utils.experimentorUtils import * "
   ]
  },
  {
   "cell_type": "code",
   "execution_count": null,
   "metadata": {},
   "outputs": [
    {
     "name": "stdout",
     "output_type": "stream",
     "text": [
      "Run 01 for GatV1_K2_D2_s_AggrMode.MAX and ogbn-products:\n"
     ]
    },
    {
     "name": "stderr",
     "output_type": "stream",
     "text": [
      "Epoch 01: 100%|██████████| 196615/196615 [04:40<00:00, 701.80it/s]\n"
     ]
    },
    {
     "name": "stdout",
     "output_type": "stream",
     "text": [
      "Epoch 01| Loss: 1.0896| Acc: 0.7456| Train Time: 280.1670s\n",
      "Epoch 02| Loss: 0.7106| Acc: 0.8210| Train Time: 240.0014s\n",
      "Epoch 03| Loss: 0.6462| Acc: 0.8344| Train Time: 241.0869s\n",
      "Epoch 04| Loss: 0.5997| Acc: 0.8442| Train Time: 234.8066s\n",
      "Epoch 05| Loss: 0.5890| Acc: 0.8485| Train Time: 234.7023s\n"
     ]
    }
   ],
   "source": [
    "models     = [ModelType.GATV1, ModelType.GATV2, ModelType.TRANS]\r\n",
    "datasets   = [Dataset.OGBN_PRODUCTS]\r\n",
    "degrees    = [2,3,4]\r\n",
    "num_layers = [2]\r\n",
    "sparse     = [True]\r\n",
    "adj_modes  = [AdjacencyMode.Partial]\r\n",
    "aggr_modes = [AggrMode.MAX, AggrMode.MEAN]\r\n",
    "\r\n",
    "runExperiments(models, datasets, degrees, sparse, num_layers, adj_modes, aggr_modes)"
   ]
  }
 ],
 "metadata": {
  "interpreter": {
   "hash": "b8be38cac5e07419459cc1d2fe0e04c6cbe36991c6a4efd3c9a636608bfd9cde"
  },
  "kernelspec": {
   "display_name": "Python [conda env:.conda-PSN]",
   "language": "python",
   "name": "conda-env-.conda-PSN-py"
  },
  "language_info": {
   "codemirror_mode": {
    "name": "ipython",
    "version": 3
   },
   "file_extension": ".py",
   "mimetype": "text/x-python",
   "name": "python",
   "nbconvert_exporter": "python",
   "pygments_lexer": "ipython3",
   "version": "3.8.10"
  }
 },
 "nbformat": 4,
 "nbformat_minor": 4
}
