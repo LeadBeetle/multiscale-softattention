{
 "cells": [
  {
   "cell_type": "code",
   "execution_count": 1,
   "source": [
    "from utils.constants import *\r\n",
    "from utils.experimentorUtils import * "
   ],
   "outputs": [],
   "metadata": {}
  },
  {
   "cell_type": "code",
   "execution_count": 2,
   "source": [
    "models   = [ModelType.GATV1]\r\n",
    "datasets = [Dataset.CORA]\r\n",
    "degrees  = [1]\r\n",
    "num_layers = [2,3,4]\r\n",
    "sparse = [True]\r\n",
    "\r\n",
    "runExperiments(models, datasets, degrees, sparse, num_layers)"
   ],
   "outputs": [
    {
     "output_type": "stream",
     "name": "stdout",
     "text": [
      "Run 01 for GatV1_K1_D2_s and Cora:\n"
     ]
    },
    {
     "output_type": "stream",
     "name": "stderr",
     "text": [
      "Epoch 01: 100%|██████████| 140/140 [00:00<00:00, 748.67it/s]\n"
     ]
    },
    {
     "output_type": "stream",
     "name": "stdout",
     "text": [
      "Epoch 01| Loss: 1.9477| Acc: 0.1857| Train Time: 0.1910s\n"
     ]
    },
    {
     "output_type": "stream",
     "name": "stderr",
     "text": [
      "Evaluating: 100%|██████████| 5416/5416 [00:00<00:00, 36844.24it/s]\n"
     ]
    },
    {
     "output_type": "stream",
     "name": "stdout",
     "text": [
      "Train: 0.9929| Val: 0.7080| Test: 0.7210| Eval Time: 0.1500s\n",
      "Epoch 02| Loss: 1.4864| Acc: 0.8857| Train Time: 0.0882s\n"
     ]
    },
    {
     "output_type": "stream",
     "name": "stderr",
     "text": [
      "Evaluating: 100%|██████████| 5416/5416 [00:00<00:00, 36348.89it/s]\n"
     ]
    },
    {
     "output_type": "stream",
     "name": "stdout",
     "text": [
      "Train: 1.0000| Val: 0.7540| Test: 0.7810| Eval Time: 0.1530s\n",
      "Epoch 03| Loss: 1.0598| Acc: 0.9786| Train Time: 0.0740s\n"
     ]
    },
    {
     "output_type": "stream",
     "name": "stderr",
     "text": [
      "Evaluating: 100%|██████████| 5416/5416 [00:00<00:00, 30087.20it/s]\n"
     ]
    },
    {
     "output_type": "stream",
     "name": "stdout",
     "text": [
      "Train: 1.0000| Val: 0.7720| Test: 0.7840| Eval Time: 0.1850s\n",
      "Epoch 04| Loss: 0.7167| Acc: 0.9786| Train Time: 0.0633s\n"
     ]
    },
    {
     "output_type": "stream",
     "name": "stderr",
     "text": [
      "Evaluating: 100%|██████████| 5416/5416 [00:00<00:00, 32824.63it/s]"
     ]
    },
    {
     "output_type": "stream",
     "name": "stdout",
     "text": [
      "Train: 1.0000| Val: 0.7660| Test: 0.7900| Eval Time: 0.1700s\n"
     ]
    },
    {
     "output_type": "stream",
     "name": "stderr",
     "text": [
      "\n"
     ]
    },
    {
     "output_type": "stream",
     "name": "stdout",
     "text": [
      "Epoch 05| Loss: 0.4487| Acc: 0.9929| Train Time: 0.0620s\n"
     ]
    },
    {
     "output_type": "stream",
     "name": "stderr",
     "text": [
      "Evaluating: 100%|██████████| 5416/5416 [00:00<00:00, 33640.15it/s]\n"
     ]
    },
    {
     "output_type": "stream",
     "name": "stdout",
     "text": [
      "Train: 1.0000| Val: 0.7660| Test: 0.8030| Eval Time: 0.1660s\n",
      "Epoch 06| Loss: 0.2529| Acc: 0.9857| Train Time: 0.0700s\n"
     ]
    },
    {
     "output_type": "stream",
     "name": "stderr",
     "text": [
      "Evaluating: 100%|██████████| 5416/5416 [00:00<00:00, 34497.06it/s]"
     ]
    },
    {
     "output_type": "stream",
     "name": "stdout",
     "text": [
      "Train: 1.0000| Val: 0.7740| Test: 0.8050| Eval Time: 0.1620s\n"
     ]
    },
    {
     "output_type": "stream",
     "name": "stderr",
     "text": [
      "\n"
     ]
    },
    {
     "output_type": "stream",
     "name": "stdout",
     "text": [
      "Epoch 07| Loss: 0.1462| Acc: 0.9929| Train Time: 0.0620s\n"
     ]
    },
    {
     "output_type": "stream",
     "name": "stderr",
     "text": [
      "Evaluating: 100%|██████████| 5416/5416 [00:00<00:00, 33227.80it/s]\n"
     ]
    },
    {
     "output_type": "stream",
     "name": "stdout",
     "text": [
      "Train: 1.0000| Val: 0.7720| Test: 0.8070| Eval Time: 0.1670s\n",
      "Epoch 08| Loss: 0.0961| Acc: 1.0000| Train Time: 0.0570s\n"
     ]
    },
    {
     "output_type": "stream",
     "name": "stderr",
     "text": [
      "Evaluating: 100%|██████████| 5416/5416 [00:00<00:00, 39822.65it/s]\n"
     ]
    },
    {
     "output_type": "stream",
     "name": "stdout",
     "text": [
      "Train: 1.0000| Val: 0.7680| Test: 0.8090| Eval Time: 0.1400s\n",
      "Epoch 09| Loss: 0.0469| Acc: 1.0000| Train Time: 0.0590s\n"
     ]
    },
    {
     "output_type": "stream",
     "name": "stderr",
     "text": [
      "Evaluating: 100%|██████████| 5416/5416 [00:00<00:00, 37088.04it/s]\n"
     ]
    },
    {
     "output_type": "stream",
     "name": "stdout",
     "text": [
      "Train: 1.0000| Val: 0.7620| Test: 0.8120| Eval Time: 0.1510s\n",
      "Epoch 10| Loss: 0.0341| Acc: 1.0000| Train Time: 0.0630s\n"
     ]
    },
    {
     "output_type": "stream",
     "name": "stderr",
     "text": [
      "Evaluating: 100%|██████████| 5416/5416 [00:00<00:00, 38686.01it/s]\n"
     ]
    },
    {
     "output_type": "stream",
     "name": "stdout",
     "text": [
      "Train: 1.0000| Val: 0.7660| Test: 0.8090| Eval Time: 0.1460s\n",
      "Epoch 11| Loss: 0.0140| Acc: 1.0000| Train Time: 0.0660s\n"
     ]
    },
    {
     "output_type": "stream",
     "name": "stderr",
     "text": [
      "Evaluating: 100%|██████████| 5416/5416 [00:00<00:00, 34063.52it/s]\n"
     ]
    },
    {
     "output_type": "stream",
     "name": "stdout",
     "text": [
      "Train: 1.0000| Val: 0.7680| Test: 0.8130| Eval Time: 0.1630s\n",
      "Epoch 12| Loss: 0.0130| Acc: 1.0000| Train Time: 0.0610s\n"
     ]
    },
    {
     "output_type": "stream",
     "name": "stderr",
     "text": [
      "Evaluating: 100%|██████████| 5416/5416 [00:00<00:00, 34063.32it/s]\n"
     ]
    },
    {
     "output_type": "stream",
     "name": "stdout",
     "text": [
      "Train: 1.0000| Val: 0.7680| Test: 0.8130| Eval Time: 0.1620s\n",
      "Epoch 13| Loss: 0.0084| Acc: 1.0000| Train Time: 0.0675s\n"
     ]
    },
    {
     "output_type": "stream",
     "name": "stderr",
     "text": [
      "Evaluating: 100%|██████████| 5416/5416 [00:00<00:00, 38139.90it/s]\n"
     ]
    },
    {
     "output_type": "stream",
     "name": "stdout",
     "text": [
      "Train: 1.0000| Val: 0.7700| Test: 0.8140| Eval Time: 0.1450s\n",
      "Epoch 14| Loss: 0.0141| Acc: 1.0000| Train Time: 0.0560s\n"
     ]
    },
    {
     "output_type": "stream",
     "name": "stderr",
     "text": [
      "Evaluating: 100%|██████████| 5416/5416 [00:00<00:00, 42644.44it/s]\n"
     ]
    },
    {
     "output_type": "stream",
     "name": "stdout",
     "text": [
      "Train: 1.0000| Val: 0.7740| Test: 0.8150| Eval Time: 0.1320s\n",
      "Epoch 15| Loss: 0.0021| Acc: 1.0000| Train Time: 0.0680s\n"
     ]
    },
    {
     "output_type": "stream",
     "name": "stderr",
     "text": [
      "Evaluating: 100%|██████████| 5416/5416 [00:00<00:00, 39824.04it/s]\n"
     ]
    },
    {
     "output_type": "stream",
     "name": "stdout",
     "text": [
      "Train: 1.0000| Val: 0.7780| Test: 0.8130| Eval Time: 0.1400s\n",
      "Epoch 16| Loss: 0.0039| Acc: 1.0000| Train Time: 0.0770s\n"
     ]
    },
    {
     "output_type": "stream",
     "name": "stderr",
     "text": [
      "Evaluating: 100%|██████████| 5416/5416 [00:00<00:00, 35510.22it/s]\n"
     ]
    },
    {
     "output_type": "stream",
     "name": "stdout",
     "text": [
      "Train: 1.0000| Val: 0.7760| Test: 0.8100| Eval Time: 0.1565s\n",
      "Epoch 17| Loss: 0.0013| Acc: 1.0000| Train Time: 0.0650s\n"
     ]
    },
    {
     "output_type": "stream",
     "name": "stderr",
     "text": [
      "Evaluating: 100%|██████████| 5416/5416 [00:00<00:00, 30772.04it/s]\n"
     ]
    },
    {
     "output_type": "stream",
     "name": "stdout",
     "text": [
      "Train: 1.0000| Val: 0.7780| Test: 0.8060| Eval Time: 0.1800s\n",
      "Epoch 18| Loss: 0.0024| Acc: 1.0000| Train Time: 0.0770s\n"
     ]
    },
    {
     "output_type": "stream",
     "name": "stderr",
     "text": [
      "Evaluating: 100%|██████████| 5416/5416 [00:00<00:00, 26680.08it/s]\n"
     ]
    },
    {
     "output_type": "stream",
     "name": "stdout",
     "text": [
      "Train: 1.0000| Val: 0.7780| Test: 0.8060| Eval Time: 0.2080s\n",
      "Epoch 19| Loss: 0.0016| Acc: 1.0000| Train Time: 0.0750s\n"
     ]
    },
    {
     "output_type": "stream",
     "name": "stderr",
     "text": [
      "Evaluating: 100%|██████████| 5416/5416 [00:00<00:00, 30252.16it/s]\n"
     ]
    },
    {
     "output_type": "stream",
     "name": "stdout",
     "text": [
      "Train: 1.0000| Val: 0.7780| Test: 0.8060| Eval Time: 0.1860s\n",
      "Epoch 20| Loss: 0.0014| Acc: 1.0000| Train Time: 0.0860s\n"
     ]
    },
    {
     "output_type": "stream",
     "name": "stderr",
     "text": [
      "Evaluating: 100%|██████████| 5416/5416 [00:00<00:00, 30089.08it/s]\n"
     ]
    },
    {
     "output_type": "stream",
     "name": "stdout",
     "text": [
      "Train: 1.0000| Val: 0.7760| Test: 0.8090| Eval Time: 0.1850s\n",
      "Epoch 21| Loss: 0.0008| Acc: 1.0000| Train Time: 0.0770s\n"
     ]
    },
    {
     "output_type": "stream",
     "name": "stderr",
     "text": [
      "Evaluating: 100%|██████████| 5416/5416 [00:00<00:00, 29758.02it/s]\n"
     ]
    },
    {
     "output_type": "stream",
     "name": "stdout",
     "text": [
      "Train: 1.0000| Val: 0.7780| Test: 0.8090| Eval Time: 0.1870s\n",
      "Epoch 22| Loss: 0.0014| Acc: 1.0000| Train Time: 0.0840s\n"
     ]
    },
    {
     "output_type": "stream",
     "name": "stderr",
     "text": [
      "Evaluating: 100%|██████████| 5416/5416 [00:00<00:00, 31488.47it/s]\n"
     ]
    },
    {
     "output_type": "stream",
     "name": "stdout",
     "text": [
      "Train: 1.0000| Val: 0.7780| Test: 0.8110| Eval Time: 0.1780s\n",
      "Epoch 23| Loss: 0.0020| Acc: 1.0000| Train Time: 0.0760s\n"
     ]
    },
    {
     "output_type": "stream",
     "name": "stderr",
     "text": [
      "Evaluating: 100%|██████████| 5416/5416 [00:00<00:00, 31481.80it/s]\n"
     ]
    },
    {
     "output_type": "stream",
     "name": "stdout",
     "text": [
      "Train: 1.0000| Val: 0.7780| Test: 0.8110| Eval Time: 0.1760s\n",
      "Epoch 24| Loss: 0.0010| Acc: 1.0000| Train Time: 0.0650s\n"
     ]
    },
    {
     "output_type": "stream",
     "name": "stderr",
     "text": [
      "Evaluating: 100%|██████████| 5416/5416 [00:00<00:00, 34497.01it/s]\n"
     ]
    },
    {
     "output_type": "stream",
     "name": "stdout",
     "text": [
      "Train: 1.0000| Val: 0.7780| Test: 0.8100| Eval Time: 0.1610s\n",
      "Epoch 25| Loss: 0.0003| Acc: 1.0000| Train Time: 0.0650s\n"
     ]
    },
    {
     "output_type": "stream",
     "name": "stderr",
     "text": [
      "Evaluating: 100%|██████████| 5416/5416 [00:00<00:00, 36348.66it/s]\n"
     ]
    },
    {
     "output_type": "stream",
     "name": "stdout",
     "text": [
      "Train: 1.0000| Val: 0.7780| Test: 0.8100| Eval Time: 0.1540s\n",
      "Epoch 26| Loss: 0.0017| Acc: 1.0000| Train Time: 0.0870s\n"
     ]
    },
    {
     "output_type": "stream",
     "name": "stderr",
     "text": [
      "Evaluating: 100%|██████████| 5416/5416 [00:00<00:00, 35867.32it/s]\n"
     ]
    },
    {
     "output_type": "stream",
     "name": "stdout",
     "text": [
      "Train: 1.0000| Val: 0.7780| Test: 0.8100| Eval Time: 0.1550s\n",
      "Epoch 27| Loss: 0.0003| Acc: 1.0000| Train Time: 0.0730s\n"
     ]
    },
    {
     "output_type": "stream",
     "name": "stderr",
     "text": [
      "Evaluating: 100%|██████████| 5416/5416 [00:00<00:00, 35967.38it/s]\n"
     ]
    },
    {
     "output_type": "stream",
     "name": "stdout",
     "text": [
      "Train: 1.0000| Val: 0.7780| Test: 0.8090| Eval Time: 0.1546s\n",
      "Epoch 28| Loss: 0.0012| Acc: 1.0000| Train Time: 0.0570s\n"
     ]
    },
    {
     "output_type": "stream",
     "name": "stderr",
     "text": [
      "Evaluating: 100%|██████████| 5416/5416 [00:00<00:00, 34488.68it/s]\n"
     ]
    },
    {
     "output_type": "stream",
     "name": "stdout",
     "text": [
      "Train: 1.0000| Val: 0.7780| Test: 0.8090| Eval Time: 0.1620s\n",
      "Epoch 29| Loss: 0.0007| Acc: 1.0000| Train Time: 0.0680s\n"
     ]
    },
    {
     "output_type": "stream",
     "name": "stderr",
     "text": [
      "Evaluating: 100%|██████████| 5416/5416 [00:00<00:00, 30089.04it/s]\n"
     ]
    },
    {
     "output_type": "stream",
     "name": "stdout",
     "text": [
      "Train: 1.0000| Val: 0.7780| Test: 0.8080| Eval Time: 0.1840s\n",
      "Epoch 30| Loss: 0.0002| Acc: 1.0000| Train Time: 0.0990s\n"
     ]
    },
    {
     "output_type": "stream",
     "name": "stderr",
     "text": [
      "Evaluating: 100%|██████████| 5416/5416 [00:00<00:00, 27080.12it/s]\n"
     ]
    },
    {
     "output_type": "stream",
     "name": "stdout",
     "text": [
      "Train: 1.0000| Val: 0.7780| Test: 0.8080| Eval Time: 0.2070s\n",
      "Epoch 31| Loss: 0.0001| Acc: 1.0000| Train Time: 0.0860s\n"
     ]
    },
    {
     "output_type": "stream",
     "name": "stderr",
     "text": [
      "Evaluating: 100%|██████████| 5416/5416 [00:00<00:00, 27492.15it/s]\n"
     ]
    },
    {
     "output_type": "stream",
     "name": "stdout",
     "text": [
      "Train: 1.0000| Val: 0.7780| Test: 0.8090| Eval Time: 0.2010s\n",
      "Epoch 32| Loss: 0.0003| Acc: 1.0000| Train Time: 0.0870s\n"
     ]
    },
    {
     "output_type": "stream",
     "name": "stderr",
     "text": [
      "Evaluating: 100%|██████████| 5416/5416 [00:00<00:00, 32364.96it/s]\n"
     ]
    },
    {
     "output_type": "stream",
     "name": "stdout",
     "text": [
      "Train: 1.0000| Val: 0.7800| Test: 0.8090| Eval Time: 0.1713s\n",
      "Epoch 33| Loss: 0.0003| Acc: 1.0000| Train Time: 0.0680s\n"
     ]
    },
    {
     "output_type": "stream",
     "name": "stderr",
     "text": [
      "Evaluating: 100%|██████████| 5416/5416 [00:00<00:00, 37351.36it/s]\n"
     ]
    },
    {
     "output_type": "stream",
     "name": "stdout",
     "text": [
      "Train: 1.0000| Val: 0.7800| Test: 0.8090| Eval Time: 0.1500s\n",
      "Epoch 34| Loss: 0.0006| Acc: 1.0000| Train Time: 0.0640s\n"
     ]
    },
    {
     "output_type": "stream",
     "name": "stderr",
     "text": [
      "Evaluating: 100%|██████████| 5416/5416 [00:00<00:00, 35868.17it/s]\n"
     ]
    },
    {
     "output_type": "stream",
     "name": "stdout",
     "text": [
      "Train: 1.0000| Val: 0.7800| Test: 0.8090| Eval Time: 0.1540s\n",
      "Epoch 35| Loss: 0.0001| Acc: 1.0000| Train Time: 0.0610s\n"
     ]
    },
    {
     "output_type": "stream",
     "name": "stderr",
     "text": [
      "Evaluating: 100%|██████████| 5416/5416 [00:00<00:00, 35398.83it/s]\n"
     ]
    },
    {
     "output_type": "stream",
     "name": "stdout",
     "text": [
      "Train: 1.0000| Val: 0.7800| Test: 0.8080| Eval Time: 0.1570s\n",
      "Epoch 36| Loss: 0.0004| Acc: 1.0000| Train Time: 0.0780s\n"
     ]
    },
    {
     "output_type": "stream",
     "name": "stderr",
     "text": [
      "Evaluating: 100%|██████████| 5416/5416 [00:00<00:00, 35867.43it/s]\n"
     ]
    },
    {
     "output_type": "stream",
     "name": "stdout",
     "text": [
      "Train: 1.0000| Val: 0.7800| Test: 0.8090| Eval Time: 0.1550s\n",
      "Epoch 37| Loss: 0.0001| Acc: 1.0000| Train Time: 0.0610s\n"
     ]
    },
    {
     "output_type": "stream",
     "name": "stderr",
     "text": [
      "Evaluating: 100%|██████████| 5416/5416 [00:00<00:00, 36593.65it/s]\n"
     ]
    },
    {
     "output_type": "stream",
     "name": "stdout",
     "text": [
      "Train: 1.0000| Val: 0.7800| Test: 0.8080| Eval Time: 0.1520s\n",
      "Epoch 38| Loss: 0.0001| Acc: 1.0000| Train Time: 0.0580s\n"
     ]
    },
    {
     "output_type": "stream",
     "name": "stderr",
     "text": [
      "Evaluating: 100%|██████████| 5416/5416 [00:00<00:00, 33503.85it/s]\n"
     ]
    },
    {
     "output_type": "stream",
     "name": "stdout",
     "text": [
      "Train: 1.0000| Val: 0.7800| Test: 0.8080| Eval Time: 0.1657s\n",
      "Epoch 39| Loss: 0.0001| Acc: 1.0000| Train Time: 0.0650s\n"
     ]
    },
    {
     "output_type": "stream",
     "name": "stderr",
     "text": [
      "Evaluating: 100%|██████████| 5416/5416 [00:00<00:00, 35169.47it/s]\n"
     ]
    },
    {
     "output_type": "stream",
     "name": "stdout",
     "text": [
      "Train: 1.0000| Val: 0.7780| Test: 0.8080| Eval Time: 0.1580s\n",
      "Epoch 40| Loss: 0.0045| Acc: 1.0000| Train Time: 0.0830s\n"
     ]
    },
    {
     "output_type": "stream",
     "name": "stderr",
     "text": [
      "Evaluating: 100%|██████████| 5416/5416 [00:00<00:00, 28808.52it/s]\n"
     ]
    },
    {
     "output_type": "stream",
     "name": "stdout",
     "text": [
      "Train: 1.0000| Val: 0.7780| Test: 0.8090| Eval Time: 0.1930s\n",
      "Epoch 41| Loss: 0.0001| Acc: 1.0000| Train Time: 0.0860s\n"
     ]
    },
    {
     "output_type": "stream",
     "name": "stderr",
     "text": [
      "Evaluating: 100%|██████████| 5416/5416 [00:00<00:00, 28656.57it/s]\n"
     ]
    },
    {
     "output_type": "stream",
     "name": "stdout",
     "text": [
      "Train: 1.0000| Val: 0.7780| Test: 0.8090| Eval Time: 0.1940s\n",
      "Epoch 42| Loss: 0.0004| Acc: 1.0000| Train Time: 0.0780s\n"
     ]
    },
    {
     "output_type": "stream",
     "name": "stderr",
     "text": [
      "Evaluating: 100%|██████████| 5416/5416 [00:00<00:00, 24958.31it/s]\n"
     ]
    },
    {
     "output_type": "stream",
     "name": "stdout",
     "text": [
      "Train: 1.0000| Val: 0.7780| Test: 0.8080| Eval Time: 0.2210s\n",
      "Epoch 43| Loss: 0.0003| Acc: 1.0000| Train Time: 0.0965s\n"
     ]
    },
    {
     "output_type": "stream",
     "name": "stderr",
     "text": [
      "Evaluating: 100%|██████████| 5416/5416 [00:00<00:00, 21751.06it/s]\n"
     ]
    },
    {
     "output_type": "stream",
     "name": "stdout",
     "text": [
      "Train: 1.0000| Val: 0.7780| Test: 0.8080| Eval Time: 0.2540s\n",
      "Epoch 44| Loss: 0.0000| Acc: 1.0000| Train Time: 0.0775s\n"
     ]
    },
    {
     "output_type": "stream",
     "name": "stderr",
     "text": [
      "Evaluating: 100%|██████████| 5416/5416 [00:00<00:00, 28808.88it/s]\n"
     ]
    },
    {
     "output_type": "stream",
     "name": "stdout",
     "text": [
      "Train: 1.0000| Val: 0.7780| Test: 0.8090| Eval Time: 0.1925s\n",
      "Epoch 45| Loss: 0.0001| Acc: 1.0000| Train Time: 0.1140s\n"
     ]
    },
    {
     "output_type": "stream",
     "name": "stderr",
     "text": [
      "Evaluating: 100%|██████████| 5416/5416 [00:00<00:00, 28208.07it/s]\n"
     ]
    },
    {
     "output_type": "stream",
     "name": "stdout",
     "text": [
      "Train: 1.0000| Val: 0.7760| Test: 0.8090| Eval Time: 0.1960s\n",
      "Epoch 46| Loss: 0.0001| Acc: 1.0000| Train Time: 0.0690s\n"
     ]
    },
    {
     "output_type": "stream",
     "name": "stderr",
     "text": [
      "Evaluating: 100%|██████████| 5416/5416 [00:00<00:00, 29758.33it/s]\n"
     ]
    },
    {
     "output_type": "stream",
     "name": "stdout",
     "text": [
      "Train: 1.0000| Val: 0.7760| Test: 0.8070| Eval Time: 0.1870s\n",
      "Epoch 47| Loss: 0.0001| Acc: 1.0000| Train Time: 0.0830s\n"
     ]
    },
    {
     "output_type": "stream",
     "name": "stderr",
     "text": [
      "Evaluating: 100%|██████████| 5416/5416 [00:00<00:00, 25073.79it/s]\n"
     ]
    },
    {
     "output_type": "stream",
     "name": "stdout",
     "text": [
      "Train: 1.0000| Val: 0.7740| Test: 0.8080| Eval Time: 0.2210s\n",
      "Epoch 48| Loss: 0.0002| Acc: 1.0000| Train Time: 0.0770s\n"
     ]
    },
    {
     "output_type": "stream",
     "name": "stderr",
     "text": [
      "Evaluating: 100%|██████████| 5416/5416 [00:00<00:00, 25547.84it/s]\n"
     ]
    },
    {
     "output_type": "stream",
     "name": "stdout",
     "text": [
      "Train: 1.0000| Val: 0.7740| Test: 0.8070| Eval Time: 0.2160s\n",
      "Epoch 49| Loss: 0.0000| Acc: 1.0000| Train Time: 0.0680s\n"
     ]
    },
    {
     "output_type": "stream",
     "name": "stderr",
     "text": [
      "Evaluating: 100%|██████████| 5416/5416 [00:00<00:00, 31858.59it/s]\n"
     ]
    },
    {
     "output_type": "stream",
     "name": "stdout",
     "text": [
      "Train: 1.0000| Val: 0.7740| Test: 0.8060| Eval Time: 0.1740s\n",
      "Epoch 50| Loss: 0.0008| Acc: 1.0000| Train Time: 0.0810s\n"
     ]
    },
    {
     "output_type": "stream",
     "name": "stderr",
     "text": [
      "Evaluating: 100%|██████████| 5416/5416 [00:00<00:00, 34941.51it/s]\n"
     ]
    },
    {
     "output_type": "stream",
     "name": "stdout",
     "text": [
      "Train: 1.0000| Val: 0.7740| Test: 0.8080| Eval Time: 0.1590s\n",
      "Epoch 51| Loss: 0.0003| Acc: 1.0000| Train Time: 0.0780s\n"
     ]
    },
    {
     "output_type": "stream",
     "name": "stderr",
     "text": [
      "Evaluating: 100%|██████████| 5416/5416 [00:00<00:00, 27080.15it/s]\n"
     ]
    },
    {
     "output_type": "stream",
     "name": "stdout",
     "text": [
      "Train: 1.0000| Val: 0.7740| Test: 0.8080| Eval Time: 0.2040s\n",
      "Epoch 52| Loss: 0.0000| Acc: 1.0000| Train Time: 0.0670s\n"
     ]
    },
    {
     "output_type": "stream",
     "name": "stderr",
     "text": [
      "Evaluating: 100%|██████████| 5416/5416 [00:00<00:00, 33431.82it/s]\n"
     ]
    },
    {
     "output_type": "stream",
     "name": "stdout",
     "text": [
      "Train: 1.0000| Val: 0.7740| Test: 0.8080| Eval Time: 0.1660s\n",
      "Epoch 53| Loss: 0.0000| Acc: 1.0000| Train Time: 0.0670s\n"
     ]
    },
    {
     "output_type": "stream",
     "name": "stderr",
     "text": [
      "Evaluating: 100%|██████████| 5416/5416 [00:00<00:00, 28640.75it/s]\n"
     ]
    },
    {
     "output_type": "stream",
     "name": "stdout",
     "text": [
      "Train: 1.0000| Val: 0.7740| Test: 0.8090| Eval Time: 0.1921s\n",
      "Epoch 54| Loss: 0.0001| Acc: 1.0000| Train Time: 0.0750s\n"
     ]
    },
    {
     "output_type": "stream",
     "name": "stderr",
     "text": [
      "Evaluating: 100%|██████████| 5416/5416 [00:00<00:00, 32818.32it/s]\n"
     ]
    },
    {
     "output_type": "stream",
     "name": "stdout",
     "text": [
      "Train: 1.0000| Val: 0.7740| Test: 0.8090| Eval Time: 0.1690s\n",
      "Epoch 55| Loss: 0.0001| Acc: 1.0000| Train Time: 0.0700s\n"
     ]
    },
    {
     "output_type": "stream",
     "name": "stderr",
     "text": [
      "Evaluating: 100%|██████████| 5416/5416 [00:00<00:00, 26945.31it/s]\n"
     ]
    },
    {
     "output_type": "stream",
     "name": "stdout",
     "text": [
      "Train: 1.0000| Val: 0.7740| Test: 0.8090| Eval Time: 0.2050s\n",
      "Epoch 56| Loss: 0.0000| Acc: 1.0000| Train Time: 0.0750s\n"
     ]
    },
    {
     "output_type": "stream",
     "name": "stderr",
     "text": [
      "Evaluating: 100%|██████████| 5416/5416 [00:00<00:00, 32047.31it/s]\n"
     ]
    },
    {
     "output_type": "stream",
     "name": "stdout",
     "text": [
      "Train: 1.0000| Val: 0.7740| Test: 0.8090| Eval Time: 0.1750s\n",
      "Epoch 57| Loss: 0.0001| Acc: 1.0000| Train Time: 0.0670s\n"
     ]
    },
    {
     "output_type": "stream",
     "name": "stderr",
     "text": [
      "Evaluating: 100%|██████████| 5416/5416 [00:00<00:00, 32430.57it/s]\n"
     ]
    },
    {
     "output_type": "stream",
     "name": "stdout",
     "text": [
      "Train: 1.0000| Val: 0.7720| Test: 0.8090| Eval Time: 0.1720s\n",
      "Epoch 58| Loss: 0.0000| Acc: 1.0000| Train Time: 0.0850s\n"
     ]
    },
    {
     "output_type": "stream",
     "name": "stderr",
     "text": [
      "Evaluating: 100%|██████████| 5416/5416 [00:00<00:00, 29914.10it/s]\n"
     ]
    },
    {
     "output_type": "stream",
     "name": "stdout",
     "text": [
      "Train: 1.0000| Val: 0.7720| Test: 0.8090| Eval Time: 0.1850s\n",
      "Epoch 59| Loss: 0.0002| Acc: 1.0000| Train Time: 0.0740s\n"
     ]
    },
    {
     "output_type": "stream",
     "name": "stderr",
     "text": [
      "Evaluating: 100%|██████████| 5416/5416 [00:00<00:00, 31126.05it/s]\n"
     ]
    },
    {
     "output_type": "stream",
     "name": "stdout",
     "text": [
      "Train: 1.0000| Val: 0.7720| Test: 0.8090| Eval Time: 0.1780s\n",
      "Epoch 60| Loss: 0.0000| Acc: 1.0000| Train Time: 0.0640s\n"
     ]
    },
    {
     "output_type": "stream",
     "name": "stderr",
     "text": [
      "Evaluating: 100%|██████████| 5416/5416 [00:00<00:00, 33640.40it/s]\n"
     ]
    },
    {
     "output_type": "stream",
     "name": "stdout",
     "text": [
      "Train: 1.0000| Val: 0.7720| Test: 0.8090| Eval Time: 0.1650s\n",
      "Epoch 61| Loss: 0.0011| Acc: 1.0000| Train Time: 0.0620s\n"
     ]
    },
    {
     "output_type": "stream",
     "name": "stderr",
     "text": [
      "Evaluating: 100%|██████████| 5416/5416 [00:00<00:00, 29118.49it/s]\n"
     ]
    },
    {
     "output_type": "stream",
     "name": "stdout",
     "text": [
      "Train: 1.0000| Val: 0.7720| Test: 0.8090| Eval Time: 0.1900s\n",
      "Epoch 62| Loss: 0.0001| Acc: 1.0000| Train Time: 0.0880s\n"
     ]
    },
    {
     "output_type": "stream",
     "name": "stderr",
     "text": [
      "Evaluating: 100%|██████████| 5416/5416 [00:00<00:00, 30426.69it/s]\n"
     ]
    },
    {
     "output_type": "stream",
     "name": "stdout",
     "text": [
      "Train: 1.0000| Val: 0.7720| Test: 0.8090| Eval Time: 0.1840s\n",
      "\n",
      "Result of  1. run| Train: 1.0000| Val: 0.7800| Test: 0.8090\n",
      "\n",
      "Run 01 for GatV1_K1_D3_s and Cora:\n"
     ]
    },
    {
     "output_type": "stream",
     "name": "stderr",
     "text": [
      "Epoch 01: 100%|██████████| 140/140 [00:00<00:00, 614.04it/s]\n"
     ]
    },
    {
     "output_type": "stream",
     "name": "stdout",
     "text": [
      "Epoch 01| Loss: 2.0031| Acc: 0.1357| Train Time: 0.2320s\n"
     ]
    },
    {
     "output_type": "stream",
     "name": "stderr",
     "text": [
      "Evaluating: 100%|██████████| 8124/8124 [00:00<00:00, 25627.92it/s]\n"
     ]
    },
    {
     "output_type": "stream",
     "name": "stdout",
     "text": [
      "Train: 0.8857| Val: 0.6100| Test: 0.5920| Eval Time: 0.3240s\n",
      "Epoch 02| Loss: 1.6007| Acc: 0.6000| Train Time: 0.2260s\n"
     ]
    },
    {
     "output_type": "stream",
     "name": "stderr",
     "text": [
      "Evaluating: 100%|██████████| 8124/8124 [00:00<00:00, 24996.81it/s]\n"
     ]
    },
    {
     "output_type": "stream",
     "name": "stdout",
     "text": [
      "Train: 0.9429| Val: 0.7100| Test: 0.7230| Eval Time: 0.3310s\n",
      "Epoch 03| Loss: 1.1901| Acc: 0.8071| Train Time: 0.2430s\n"
     ]
    },
    {
     "output_type": "stream",
     "name": "stderr",
     "text": [
      "Evaluating: 100%|██████████| 8124/8124 [00:00<00:00, 24762.44it/s]\n"
     ]
    },
    {
     "output_type": "stream",
     "name": "stdout",
     "text": [
      "Train: 0.9857| Val: 0.7660| Test: 0.7840| Eval Time: 0.3321s\n",
      "Epoch 04| Loss: 0.7568| Acc: 0.8714| Train Time: 0.3690s\n"
     ]
    },
    {
     "output_type": "stream",
     "name": "stderr",
     "text": [
      "Evaluating: 100%|██████████| 8124/8124 [00:00<00:00, 25467.18it/s]\n"
     ]
    },
    {
     "output_type": "stream",
     "name": "stdout",
     "text": [
      "Train: 0.9857| Val: 0.7720| Test: 0.8100| Eval Time: 0.3240s\n",
      "Epoch 05| Loss: 0.4207| Acc: 0.9214| Train Time: 0.2600s\n"
     ]
    },
    {
     "output_type": "stream",
     "name": "stderr",
     "text": [
      "Evaluating: 100%|██████████| 8124/8124 [00:00<00:00, 24692.97it/s]\n"
     ]
    },
    {
     "output_type": "stream",
     "name": "stdout",
     "text": [
      "Train: 0.9857| Val: 0.7760| Test: 0.8080| Eval Time: 0.3370s\n",
      "Epoch 06| Loss: 0.2309| Acc: 0.9714| Train Time: 0.2385s\n"
     ]
    },
    {
     "output_type": "stream",
     "name": "stderr",
     "text": [
      "Evaluating: 100%|██████████| 8124/8124 [00:00<00:00, 24618.42it/s]\n"
     ]
    },
    {
     "output_type": "stream",
     "name": "stdout",
     "text": [
      "Train: 0.9929| Val: 0.7760| Test: 0.8090| Eval Time: 0.3360s\n",
      "Epoch 07| Loss: 0.1150| Acc: 0.9857| Train Time: 0.2430s\n"
     ]
    },
    {
     "output_type": "stream",
     "name": "stderr",
     "text": [
      "Evaluating: 100%|██████████| 8124/8124 [00:00<00:00, 24285.19it/s]\n"
     ]
    },
    {
     "output_type": "stream",
     "name": "stdout",
     "text": [
      "Train: 0.9929| Val: 0.7720| Test: 0.8090| Eval Time: 0.3385s\n",
      "Epoch 08| Loss: 0.0657| Acc: 0.9857| Train Time: 0.2370s\n"
     ]
    },
    {
     "output_type": "stream",
     "name": "stderr",
     "text": [
      "Evaluating: 100%|██████████| 8124/8124 [00:00<00:00, 27619.94it/s]\n"
     ]
    },
    {
     "output_type": "stream",
     "name": "stdout",
     "text": [
      "Train: 1.0000| Val: 0.7740| Test: 0.8050| Eval Time: 0.2990s\n",
      "Epoch 09| Loss: 0.0313| Acc: 1.0000| Train Time: 0.2520s\n"
     ]
    },
    {
     "output_type": "stream",
     "name": "stderr",
     "text": [
      "Evaluating: 100%|██████████| 8124/8124 [00:00<00:00, 24844.33it/s]\n"
     ]
    },
    {
     "output_type": "stream",
     "name": "stdout",
     "text": [
      "Train: 1.0000| Val: 0.7760| Test: 0.8020| Eval Time: 0.3340s\n",
      "Epoch 10| Loss: 0.0270| Acc: 0.9929| Train Time: 0.2220s\n"
     ]
    },
    {
     "output_type": "stream",
     "name": "stderr",
     "text": [
      "Evaluating: 100%|██████████| 8124/8124 [00:00<00:00, 29014.12it/s]\n"
     ]
    },
    {
     "output_type": "stream",
     "name": "stdout",
     "text": [
      "Train: 1.0000| Val: 0.7760| Test: 0.7980| Eval Time: 0.2840s\n",
      "Epoch 11| Loss: 0.0357| Acc: 0.9857| Train Time: 0.2590s\n"
     ]
    },
    {
     "output_type": "stream",
     "name": "stderr",
     "text": [
      "Evaluating: 100%|██████████| 8124/8124 [00:00<00:00, 29863.95it/s]\n"
     ]
    },
    {
     "output_type": "stream",
     "name": "stdout",
     "text": [
      "Train: 1.0000| Val: 0.7720| Test: 0.7980| Eval Time: 0.2760s\n",
      "Epoch 12| Loss: 0.0035| Acc: 1.0000| Train Time: 0.1820s\n"
     ]
    },
    {
     "output_type": "stream",
     "name": "stderr",
     "text": [
      "Evaluating: 100%|██████████| 8124/8124 [00:00<00:00, 33233.71it/s]\n"
     ]
    },
    {
     "output_type": "stream",
     "name": "stdout",
     "text": [
      "Train: 1.0000| Val: 0.7600| Test: 0.7960| Eval Time: 0.2494s\n",
      "Epoch 13| Loss: 0.0069| Acc: 0.9929| Train Time: 0.1966s\n"
     ]
    },
    {
     "output_type": "stream",
     "name": "stderr",
     "text": [
      "Evaluating: 100%|██████████| 8124/8124 [00:00<00:00, 32622.78it/s]\n"
     ]
    },
    {
     "output_type": "stream",
     "name": "stdout",
     "text": [
      "Train: 1.0000| Val: 0.7580| Test: 0.8000| Eval Time: 0.2550s\n",
      "Epoch 14| Loss: 0.0011| Acc: 1.0000| Train Time: 0.1990s\n"
     ]
    },
    {
     "output_type": "stream",
     "name": "stderr",
     "text": [
      "Evaluating: 100%|██████████| 8124/8124 [00:00<00:00, 35168.73it/s]\n"
     ]
    },
    {
     "output_type": "stream",
     "name": "stdout",
     "text": [
      "Train: 1.0000| Val: 0.7600| Test: 0.7980| Eval Time: 0.2350s\n",
      "Epoch 15| Loss: 0.0007| Acc: 1.0000| Train Time: 0.1980s\n"
     ]
    },
    {
     "output_type": "stream",
     "name": "stderr",
     "text": [
      "Evaluating: 100%|██████████| 8124/8124 [00:00<00:00, 20619.71it/s]\n"
     ]
    },
    {
     "output_type": "stream",
     "name": "stdout",
     "text": [
      "Train: 1.0000| Val: 0.7600| Test: 0.8010| Eval Time: 0.4000s\n",
      "Epoch 16| Loss: 0.0081| Acc: 0.9929| Train Time: 0.2340s\n"
     ]
    },
    {
     "output_type": "stream",
     "name": "stderr",
     "text": [
      "Evaluating: 100%|██████████| 8124/8124 [00:00<00:00, 30412.17it/s]\n"
     ]
    },
    {
     "output_type": "stream",
     "name": "stdout",
     "text": [
      "Train: 1.0000| Val: 0.7520| Test: 0.7990| Eval Time: 0.2731s\n",
      "Epoch 17| Loss: 0.0011| Acc: 1.0000| Train Time: 0.1890s\n"
     ]
    },
    {
     "output_type": "stream",
     "name": "stderr",
     "text": [
      "Evaluating: 100%|██████████| 8124/8124 [00:00<00:00, 33432.03it/s]\n"
     ]
    },
    {
     "output_type": "stream",
     "name": "stdout",
     "text": [
      "Train: 1.0000| Val: 0.7480| Test: 0.7980| Eval Time: 0.2470s\n",
      "Epoch 18| Loss: 0.0007| Acc: 1.0000| Train Time: 0.1800s\n"
     ]
    },
    {
     "output_type": "stream",
     "name": "stderr",
     "text": [
      "Evaluating: 100%|██████████| 8124/8124 [00:00<00:00, 34717.81it/s]\n"
     ]
    },
    {
     "output_type": "stream",
     "name": "stdout",
     "text": [
      "Train: 1.0000| Val: 0.7560| Test: 0.7970| Eval Time: 0.2380s\n",
      "Epoch 19| Loss: 0.0028| Acc: 1.0000| Train Time: 0.1770s\n"
     ]
    },
    {
     "output_type": "stream",
     "name": "stderr",
     "text": [
      "Evaluating: 100%|██████████| 8124/8124 [00:00<00:00, 35788.40it/s]\n"
     ]
    },
    {
     "output_type": "stream",
     "name": "stdout",
     "text": [
      "Train: 1.0000| Val: 0.7620| Test: 0.7960| Eval Time: 0.2320s\n",
      "Epoch 20| Loss: 0.0022| Acc: 1.0000| Train Time: 0.2061s\n"
     ]
    },
    {
     "output_type": "stream",
     "name": "stderr",
     "text": [
      "Evaluating: 100%|██████████| 8124/8124 [00:00<00:00, 37962.20it/s]\n"
     ]
    },
    {
     "output_type": "stream",
     "name": "stdout",
     "text": [
      "Train: 1.0000| Val: 0.7580| Test: 0.7940| Eval Time: 0.2180s\n",
      "Epoch 21| Loss: 0.0419| Acc: 0.9857| Train Time: 0.1810s\n"
     ]
    },
    {
     "output_type": "stream",
     "name": "stderr",
     "text": [
      "Evaluating: 100%|██████████| 8124/8124 [00:00<00:00, 32758.01it/s]\n"
     ]
    },
    {
     "output_type": "stream",
     "name": "stdout",
     "text": [
      "Train: 1.0000| Val: 0.7520| Test: 0.7940| Eval Time: 0.2530s\n",
      "Epoch 22| Loss: 0.0069| Acc: 1.0000| Train Time: 0.2053s\n"
     ]
    },
    {
     "output_type": "stream",
     "name": "stderr",
     "text": [
      "Evaluating: 100%|██████████| 8124/8124 [00:00<00:00, 32238.33it/s]\n"
     ]
    },
    {
     "output_type": "stream",
     "name": "stdout",
     "text": [
      "Train: 1.0000| Val: 0.7540| Test: 0.7980| Eval Time: 0.2570s\n",
      "Epoch 23| Loss: 0.0009| Acc: 1.0000| Train Time: 0.1900s\n"
     ]
    },
    {
     "output_type": "stream",
     "name": "stderr",
     "text": [
      "Evaluating: 100%|██████████| 8124/8124 [00:00<00:00, 40218.22it/s]\n"
     ]
    },
    {
     "output_type": "stream",
     "name": "stdout",
     "text": [
      "Train: 1.0000| Val: 0.7660| Test: 0.7990| Eval Time: 0.2060s\n",
      "Epoch 24| Loss: 0.0014| Acc: 1.0000| Train Time: 0.1720s\n"
     ]
    },
    {
     "output_type": "stream",
     "name": "stderr",
     "text": [
      "Evaluating: 100%|██████████| 8124/8124 [00:00<00:00, 31985.10it/s]\n"
     ]
    },
    {
     "output_type": "stream",
     "name": "stdout",
     "text": [
      "Train: 1.0000| Val: 0.7640| Test: 0.8040| Eval Time: 0.2590s\n",
      "Epoch 25| Loss: 0.0001| Acc: 1.0000| Train Time: 0.2220s\n"
     ]
    },
    {
     "output_type": "stream",
     "name": "stderr",
     "text": [
      "Evaluating: 100%|██████████| 8124/8124 [00:00<00:00, 33638.80it/s]\n"
     ]
    },
    {
     "output_type": "stream",
     "name": "stdout",
     "text": [
      "Train: 1.0000| Val: 0.7720| Test: 0.8030| Eval Time: 0.2465s\n",
      "Epoch 26| Loss: 0.0003| Acc: 1.0000| Train Time: 0.1850s\n"
     ]
    },
    {
     "output_type": "stream",
     "name": "stderr",
     "text": [
      "Evaluating: 100%|██████████| 8124/8124 [00:00<00:00, 32238.33it/s]\n"
     ]
    },
    {
     "output_type": "stream",
     "name": "stdout",
     "text": [
      "Train: 1.0000| Val: 0.7760| Test: 0.8010| Eval Time: 0.2570s\n",
      "Epoch 27| Loss: 0.0076| Acc: 1.0000| Train Time: 0.2140s\n"
     ]
    },
    {
     "output_type": "stream",
     "name": "stderr",
     "text": [
      "Evaluating: 100%|██████████| 8124/8124 [00:00<00:00, 36600.75it/s]\n"
     ]
    },
    {
     "output_type": "stream",
     "name": "stdout",
     "text": [
      "Train: 1.0000| Val: 0.7700| Test: 0.7960| Eval Time: 0.2270s\n",
      "Epoch 28| Loss: 0.0567| Acc: 0.9929| Train Time: 0.2100s\n"
     ]
    },
    {
     "output_type": "stream",
     "name": "stderr",
     "text": [
      "Evaluating: 100%|██████████| 8124/8124 [00:00<00:00, 32031.28it/s]\n"
     ]
    },
    {
     "output_type": "stream",
     "name": "stdout",
     "text": [
      "Train: 1.0000| Val: 0.7660| Test: 0.7940| Eval Time: 0.2586s\n",
      "Epoch 29| Loss: 0.0534| Acc: 0.9929| Train Time: 0.2200s\n"
     ]
    },
    {
     "output_type": "stream",
     "name": "stderr",
     "text": [
      "Evaluating: 100%|██████████| 8124/8124 [00:00<00:00, 28605.23it/s]\n"
     ]
    },
    {
     "output_type": "stream",
     "name": "stdout",
     "text": [
      "Train: 1.0000| Val: 0.7540| Test: 0.7920| Eval Time: 0.2890s\n",
      "Epoch 30| Loss: 0.0005| Acc: 1.0000| Train Time: 0.2200s\n"
     ]
    },
    {
     "output_type": "stream",
     "name": "stderr",
     "text": [
      "Evaluating: 100%|██████████| 8124/8124 [00:00<00:00, 29757.93it/s]\n"
     ]
    },
    {
     "output_type": "stream",
     "name": "stdout",
     "text": [
      "Train: 1.0000| Val: 0.7440| Test: 0.7850| Eval Time: 0.2800s\n",
      "Epoch 31| Loss: 0.0001| Acc: 1.0000| Train Time: 0.2632s\n"
     ]
    },
    {
     "output_type": "stream",
     "name": "stderr",
     "text": [
      "Evaluating: 100%|██████████| 8124/8124 [00:00<00:00, 30366.37it/s]\n"
     ]
    },
    {
     "output_type": "stream",
     "name": "stdout",
     "text": [
      "Train: 1.0000| Val: 0.7320| Test: 0.7720| Eval Time: 0.2725s\n",
      "Epoch 32| Loss: 0.0000| Acc: 1.0000| Train Time: 0.2186s\n"
     ]
    },
    {
     "output_type": "stream",
     "name": "stderr",
     "text": [
      "Evaluating: 100%|██████████| 8124/8124 [00:00<00:00, 30408.78it/s]\n"
     ]
    }
   ],
   "metadata": {}
  }
 ],
 "metadata": {
  "orig_nbformat": 4,
  "kernelspec": {
   "name": "python3",
   "display_name": "Python 3.8.10 64-bit ('PSN': conda)"
  },
  "interpreter": {
   "hash": "b8be38cac5e07419459cc1d2fe0e04c6cbe36991c6a4efd3c9a636608bfd9cde"
  },
  "language_info": {
   "name": "python",
   "version": "3.8.10",
   "mimetype": "text/x-python",
   "codemirror_mode": {
    "name": "ipython",
    "version": 3
   },
   "pygments_lexer": "ipython3",
   "nbconvert_exporter": "python",
   "file_extension": ".py"
  }
 },
 "nbformat": 4,
 "nbformat_minor": 2
}