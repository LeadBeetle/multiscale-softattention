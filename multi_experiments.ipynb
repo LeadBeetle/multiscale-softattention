{
 "cells": [
  {
   "cell_type": "code",
   "execution_count": 1,
   "source": [
    "from utils.constants import *\r\n",
    "from utils.experimentorUtils import * "
   ],
   "outputs": [],
   "metadata": {}
  },
  {
   "cell_type": "code",
   "execution_count": 2,
   "source": [
    "models   = [ModelType.GATV1]\r\n",
    "datasets = [Dataset.CORA]\r\n",
    "degrees  = [1]\r\n",
    "num_layers = [2,3,4]\r\n",
    "sparse = [True]\r\n",
    "\r\n",
    "runExperiments(models, datasets, degrees, sparse, num_layers)"
   ],
   "outputs": [
    {
     "output_type": "stream",
     "name": "stdout",
     "text": [
      "Run 01 for GatV1_K1_D2_s and Cora:\n"
     ]
    },
    {
     "output_type": "stream",
     "name": "stderr",
     "text": [
      "Epoch 01: 100%|██████████| 140/140 [00:00<00:00, 721.65it/s]\n"
     ]
    },
    {
     "output_type": "stream",
     "name": "stdout",
     "text": [
      "Epoch 01| Loss: 1.9477| Acc: 0.1857| Train Time: 0.1980s\n"
     ]
    },
    {
     "output_type": "stream",
     "name": "stderr",
     "text": [
      "Evaluating: 100%|██████████| 5416/5416 [00:00<00:00, 30856.64it/s]\n"
     ]
    },
    {
     "output_type": "stream",
     "name": "stdout",
     "text": [
      "Train: 0.9929| Val: 0.7080| Test: 0.7210| Eval Time: 0.1805s\n",
      "Epoch 02| Loss: 1.4864| Acc: 0.8857| Train Time: 0.0930s\n"
     ]
    },
    {
     "output_type": "stream",
     "name": "stderr",
     "text": [
      "Evaluating: 100%|██████████| 5416/5416 [00:00<00:00, 31126.52it/s]\n"
     ]
    },
    {
     "output_type": "stream",
     "name": "stdout",
     "text": [
      "Train: 1.0000| Val: 0.7540| Test: 0.7810| Eval Time: 0.1780s\n",
      "Epoch 03| Loss: 1.0598| Acc: 0.9786| Train Time: 0.0670s\n"
     ]
    },
    {
     "output_type": "stream",
     "name": "stderr",
     "text": [
      "Evaluating: 100%|██████████| 5416/5416 [00:00<00:00, 30507.59it/s]\n"
     ]
    },
    {
     "output_type": "stream",
     "name": "stdout",
     "text": [
      "Train: 1.0000| Val: 0.7720| Test: 0.7840| Eval Time: 0.1815s\n",
      "Epoch 04| Loss: 0.7167| Acc: 0.9786| Train Time: 0.0700s\n"
     ]
    },
    {
     "output_type": "stream",
     "name": "stderr",
     "text": [
      "Evaluating: 100%|██████████| 5416/5416 [00:00<00:00, 33431.91it/s]\n"
     ]
    },
    {
     "output_type": "stream",
     "name": "stdout",
     "text": [
      "Train: 1.0000| Val: 0.7660| Test: 0.7900| Eval Time: 0.1670s\n",
      "Epoch 05| Loss: 0.4487| Acc: 0.9929| Train Time: 0.0650s\n"
     ]
    },
    {
     "output_type": "stream",
     "name": "stderr",
     "text": [
      "Evaluating: 100%|██████████| 5416/5416 [00:00<00:00, 27216.10it/s]\n"
     ]
    },
    {
     "output_type": "stream",
     "name": "stdout",
     "text": [
      "Train: 1.0000| Val: 0.7660| Test: 0.8030| Eval Time: 0.2050s\n",
      "Epoch 06| Loss: 0.2529| Acc: 0.9857| Train Time: 0.0850s\n"
     ]
    },
    {
     "output_type": "stream",
     "name": "stderr",
     "text": [
      "Evaluating: 100%|██████████| 5416/5416 [00:00<00:00, 25427.48it/s]\n"
     ]
    },
    {
     "output_type": "stream",
     "name": "stdout",
     "text": [
      "Train: 1.0000| Val: 0.7740| Test: 0.8050| Eval Time: 0.2180s\n",
      "Epoch 07| Loss: 0.1462| Acc: 0.9929| Train Time: 0.0780s\n"
     ]
    },
    {
     "output_type": "stream",
     "name": "stderr",
     "text": [
      "Evaluating: 100%|██████████| 5416/5416 [00:00<00:00, 32047.44it/s]\n"
     ]
    },
    {
     "output_type": "stream",
     "name": "stdout",
     "text": [
      "Train: 1.0000| Val: 0.7720| Test: 0.8070| Eval Time: 0.1730s\n",
      "Epoch 08| Loss: 0.0961| Acc: 1.0000| Train Time: 0.0730s\n"
     ]
    },
    {
     "output_type": "stream",
     "name": "stderr",
     "text": [
      "Evaluating: 100%|██████████| 5416/5416 [00:00<00:00, 27492.61it/s]\n"
     ]
    },
    {
     "output_type": "stream",
     "name": "stdout",
     "text": [
      "Train: 1.0000| Val: 0.7680| Test: 0.8090| Eval Time: 0.2020s\n",
      "Epoch 09| Loss: 0.0469| Acc: 1.0000| Train Time: 0.0640s\n"
     ]
    },
    {
     "output_type": "stream",
     "name": "stderr",
     "text": [
      "Evaluating: 100%|██████████| 5416/5416 [00:00<00:00, 33225.56it/s]\n"
     ]
    },
    {
     "output_type": "stream",
     "name": "stdout",
     "text": [
      "Train: 1.0000| Val: 0.7620| Test: 0.8120| Eval Time: 0.1690s\n",
      "Epoch 10| Loss: 0.0341| Acc: 1.0000| Train Time: 0.1020s\n"
     ]
    },
    {
     "output_type": "stream",
     "name": "stderr",
     "text": [
      "Evaluating: 100%|██████████| 5416/5416 [00:00<00:00, 32815.53it/s]\n"
     ]
    },
    {
     "output_type": "stream",
     "name": "stdout",
     "text": [
      "Train: 1.0000| Val: 0.7660| Test: 0.8090| Eval Time: 0.1700s\n",
      "Epoch 11| Loss: 0.0140| Acc: 1.0000| Train Time: 0.0710s\n"
     ]
    },
    {
     "output_type": "stream",
     "name": "stderr",
     "text": [
      "Evaluating: 100%|██████████| 5416/5416 [00:00<00:00, 34271.24it/s]\n"
     ]
    },
    {
     "output_type": "stream",
     "name": "stdout",
     "text": [
      "Train: 1.0000| Val: 0.7680| Test: 0.8130| Eval Time: 0.1630s\n",
      "Epoch 12| Loss: 0.0130| Acc: 1.0000| Train Time: 0.0710s\n"
     ]
    },
    {
     "output_type": "stream",
     "name": "stderr",
     "text": [
      "Evaluating: 100%|██████████| 5416/5416 [00:00<00:00, 30256.88it/s]\n"
     ]
    },
    {
     "output_type": "stream",
     "name": "stdout",
     "text": [
      "Train: 1.0000| Val: 0.7680| Test: 0.8130| Eval Time: 0.1840s\n",
      "Epoch 13| Loss: 0.0084| Acc: 1.0000| Train Time: 0.0830s\n"
     ]
    },
    {
     "output_type": "stream",
     "name": "stderr",
     "text": [
      "Evaluating: 100%|██████████| 5416/5416 [00:00<00:00, 26874.76it/s]\n"
     ]
    },
    {
     "output_type": "stream",
     "name": "stdout",
     "text": [
      "Train: 1.0000| Val: 0.7700| Test: 0.8140| Eval Time: 0.2065s\n",
      "Epoch 14| Loss: 0.0141| Acc: 1.0000| Train Time: 0.1015s\n"
     ]
    },
    {
     "output_type": "stream",
     "name": "stderr",
     "text": [
      "Evaluating: 100%|██████████| 5416/5416 [00:00<00:00, 32626.62it/s]\n"
     ]
    },
    {
     "output_type": "stream",
     "name": "stdout",
     "text": [
      "Train: 1.0000| Val: 0.7740| Test: 0.8150| Eval Time: 0.1720s\n",
      "Epoch 15| Loss: 0.0021| Acc: 1.0000| Train Time: 0.0830s\n"
     ]
    },
    {
     "output_type": "stream",
     "name": "stderr",
     "text": [
      "Evaluating: 100%|██████████| 5416/5416 [00:00<00:00, 31126.09it/s]\n"
     ]
    },
    {
     "output_type": "stream",
     "name": "stdout",
     "text": [
      "Train: 1.0000| Val: 0.7780| Test: 0.8130| Eval Time: 0.1810s\n",
      "Epoch 16| Loss: 0.0039| Acc: 1.0000| Train Time: 0.0850s\n"
     ]
    },
    {
     "output_type": "stream",
     "name": "stderr",
     "text": [
      "Evaluating: 100%|██████████| 5416/5416 [00:00<00:00, 27917.59it/s]\n"
     ]
    },
    {
     "output_type": "stream",
     "name": "stdout",
     "text": [
      "Train: 1.0000| Val: 0.7760| Test: 0.8100| Eval Time: 0.1970s\n",
      "Epoch 17| Loss: 0.0013| Acc: 1.0000| Train Time: 0.0690s\n"
     ]
    },
    {
     "output_type": "stream",
     "name": "stderr",
     "text": [
      "Evaluating: 100%|██████████| 5416/5416 [00:00<00:00, 30425.18it/s]\n"
     ]
    },
    {
     "output_type": "stream",
     "name": "stdout",
     "text": [
      "Train: 1.0000| Val: 0.7780| Test: 0.8060| Eval Time: 0.1850s\n",
      "Epoch 18| Loss: 0.0024| Acc: 1.0000| Train Time: 0.0830s\n"
     ]
    },
    {
     "output_type": "stream",
     "name": "stderr",
     "text": [
      "Evaluating: 100%|██████████| 5416/5416 [00:00<00:00, 33428.96it/s]\n"
     ]
    },
    {
     "output_type": "stream",
     "name": "stdout",
     "text": [
      "Train: 1.0000| Val: 0.7780| Test: 0.8060| Eval Time: 0.1680s\n",
      "Epoch 19| Loss: 0.0016| Acc: 1.0000| Train Time: 0.0710s\n"
     ]
    },
    {
     "output_type": "stream",
     "name": "stderr",
     "text": [
      "Evaluating: 100%|██████████| 5416/5416 [00:00<00:00, 29569.69it/s]\n"
     ]
    },
    {
     "output_type": "stream",
     "name": "stdout",
     "text": [
      "Train: 1.0000| Val: 0.7780| Test: 0.8060| Eval Time: 0.1872s\n",
      "Epoch 20| Loss: 0.0014| Acc: 1.0000| Train Time: 0.0620s\n"
     ]
    },
    {
     "output_type": "stream",
     "name": "stderr",
     "text": [
      "Evaluating: 100%|██████████| 5416/5416 [00:00<00:00, 32232.11it/s]\n"
     ]
    },
    {
     "output_type": "stream",
     "name": "stdout",
     "text": [
      "Train: 1.0000| Val: 0.7760| Test: 0.8090| Eval Time: 0.1720s\n",
      "Epoch 21| Loss: 0.0008| Acc: 1.0000| Train Time: 0.0710s\n"
     ]
    },
    {
     "output_type": "stream",
     "name": "stderr",
     "text": [
      "Evaluating: 100%|██████████| 5416/5416 [00:00<00:00, 26164.37it/s]\n"
     ]
    },
    {
     "output_type": "stream",
     "name": "stdout",
     "text": [
      "Train: 1.0000| Val: 0.7780| Test: 0.8090| Eval Time: 0.2120s\n",
      "Epoch 22| Loss: 0.0014| Acc: 1.0000| Train Time: 0.0650s\n"
     ]
    },
    {
     "output_type": "stream",
     "name": "stderr",
     "text": [
      "Evaluating: 100%|██████████| 5416/5416 [00:00<00:00, 36594.65it/s]\n"
     ]
    },
    {
     "output_type": "stream",
     "name": "stdout",
     "text": [
      "Train: 1.0000| Val: 0.7780| Test: 0.8110| Eval Time: 0.1530s\n",
      "Epoch 23| Loss: 0.0020| Acc: 1.0000| Train Time: 0.0850s\n"
     ]
    },
    {
     "output_type": "stream",
     "name": "stderr",
     "text": [
      "Evaluating: 100%|██████████| 5416/5416 [00:00<00:00, 27081.32it/s]\n"
     ]
    },
    {
     "output_type": "stream",
     "name": "stdout",
     "text": [
      "Train: 1.0000| Val: 0.7780| Test: 0.8110| Eval Time: 0.2050s\n",
      "Epoch 24| Loss: 0.0010| Acc: 1.0000| Train Time: 0.0770s\n"
     ]
    },
    {
     "output_type": "stream",
     "name": "stderr",
     "text": [
      "Evaluating: 100%|██████████| 5416/5416 [00:00<00:00, 35264.25it/s]\n"
     ]
    },
    {
     "output_type": "stream",
     "name": "stdout",
     "text": [
      "Train: 1.0000| Val: 0.7780| Test: 0.8100| Eval Time: 0.1576s\n",
      "Epoch 25| Loss: 0.0003| Acc: 1.0000| Train Time: 0.0780s\n"
     ]
    },
    {
     "output_type": "stream",
     "name": "stderr",
     "text": [
      "Evaluating: 100%|██████████| 5416/5416 [00:00<00:00, 36351.28it/s]\n"
     ]
    },
    {
     "output_type": "stream",
     "name": "stdout",
     "text": [
      "Train: 1.0000| Val: 0.7780| Test: 0.8100| Eval Time: 0.1540s\n",
      "Epoch 26| Loss: 0.0017| Acc: 1.0000| Train Time: 0.0810s\n"
     ]
    },
    {
     "output_type": "stream",
     "name": "stderr",
     "text": [
      "Evaluating: 100%|██████████| 5416/5416 [00:00<00:00, 31127.03it/s]\n"
     ]
    },
    {
     "output_type": "stream",
     "name": "stdout",
     "text": [
      "Train: 1.0000| Val: 0.7780| Test: 0.8100| Eval Time: 0.1790s\n",
      "Epoch 27| Loss: 0.0003| Acc: 1.0000| Train Time: 0.0740s\n"
     ]
    },
    {
     "output_type": "stream",
     "name": "stderr",
     "text": [
      "Evaluating: 100%|██████████| 5416/5416 [00:00<00:00, 34718.66it/s]\n"
     ]
    },
    {
     "output_type": "stream",
     "name": "stdout",
     "text": [
      "Train: 1.0000| Val: 0.7780| Test: 0.8090| Eval Time: 0.1600s\n",
      "Epoch 28| Loss: 0.0012| Acc: 1.0000| Train Time: 0.0640s\n"
     ]
    },
    {
     "output_type": "stream",
     "name": "stderr",
     "text": [
      "Evaluating: 100%|██████████| 5416/5416 [00:00<00:00, 33637.76it/s]\n"
     ]
    },
    {
     "output_type": "stream",
     "name": "stdout",
     "text": [
      "Train: 1.0000| Val: 0.7780| Test: 0.8090| Eval Time: 0.1670s\n",
      "Epoch 29| Loss: 0.0007| Acc: 1.0000| Train Time: 0.0900s\n"
     ]
    },
    {
     "output_type": "stream",
     "name": "stderr",
     "text": [
      "Evaluating: 100%|██████████| 5416/5416 [00:00<00:00, 28349.62it/s]\n"
     ]
    },
    {
     "output_type": "stream",
     "name": "stdout",
     "text": [
      "Train: 1.0000| Val: 0.7780| Test: 0.8080| Eval Time: 0.1960s\n",
      "Epoch 30| Loss: 0.0002| Acc: 1.0000| Train Time: 0.0964s\n"
     ]
    },
    {
     "output_type": "stream",
     "name": "stderr",
     "text": [
      "Evaluating: 100%|██████████| 5416/5416 [00:00<00:00, 36844.06it/s]\n"
     ]
    },
    {
     "output_type": "stream",
     "name": "stdout",
     "text": [
      "Train: 1.0000| Val: 0.7780| Test: 0.8080| Eval Time: 0.1530s\n",
      "Epoch 31| Loss: 0.0001| Acc: 1.0000| Train Time: 0.0810s\n"
     ]
    },
    {
     "output_type": "stream",
     "name": "stderr",
     "text": [
      "Evaluating: 100%|██████████| 5416/5416 [00:00<00:00, 28208.28it/s]\n"
     ]
    },
    {
     "output_type": "stream",
     "name": "stdout",
     "text": [
      "Train: 1.0000| Val: 0.7780| Test: 0.8090| Eval Time: 0.1960s\n",
      "Epoch 32| Loss: 0.0003| Acc: 1.0000| Train Time: 0.0780s\n"
     ]
    },
    {
     "output_type": "stream",
     "name": "stderr",
     "text": [
      "Evaluating: 100%|██████████| 5416/5416 [00:00<00:00, 30598.61it/s]\n"
     ]
    },
    {
     "output_type": "stream",
     "name": "stdout",
     "text": [
      "Train: 1.0000| Val: 0.7800| Test: 0.8090| Eval Time: 0.1820s\n",
      "Epoch 33| Loss: 0.0003| Acc: 1.0000| Train Time: 0.0710s\n"
     ]
    },
    {
     "output_type": "stream",
     "name": "stderr",
     "text": [
      "Evaluating: 100%|██████████| 5416/5416 [00:00<00:00, 32424.04it/s]\n"
     ]
    },
    {
     "output_type": "stream",
     "name": "stdout",
     "text": [
      "Train: 1.0000| Val: 0.7800| Test: 0.8090| Eval Time: 0.1700s\n",
      "Epoch 34| Loss: 0.0006| Acc: 1.0000| Train Time: 0.0750s\n"
     ]
    },
    {
     "output_type": "stream",
     "name": "stderr",
     "text": [
      "Evaluating: 100%|██████████| 5416/5416 [00:00<00:00, 28203.06it/s]\n"
     ]
    },
    {
     "output_type": "stream",
     "name": "stdout",
     "text": [
      "Train: 1.0000| Val: 0.7800| Test: 0.8090| Eval Time: 0.1970s\n",
      "Epoch 35| Loss: 0.0001| Acc: 1.0000| Train Time: 0.0620s\n"
     ]
    },
    {
     "output_type": "stream",
     "name": "stderr",
     "text": [
      "Evaluating: 100%|██████████| 5416/5416 [00:00<00:00, 36092.76it/s]\n"
     ]
    },
    {
     "output_type": "stream",
     "name": "stdout",
     "text": [
      "Train: 1.0000| Val: 0.7800| Test: 0.8080| Eval Time: 0.1540s\n",
      "Epoch 36| Loss: 0.0004| Acc: 1.0000| Train Time: 0.0820s\n"
     ]
    },
    {
     "output_type": "stream",
     "name": "stderr",
     "text": [
      "Evaluating: 100%|██████████| 5416/5416 [00:00<00:00, 28062.23it/s]\n"
     ]
    },
    {
     "output_type": "stream",
     "name": "stdout",
     "text": [
      "Train: 1.0000| Val: 0.7800| Test: 0.8090| Eval Time: 0.1960s\n",
      "Epoch 37| Loss: 0.0001| Acc: 1.0000| Train Time: 0.0710s\n"
     ]
    },
    {
     "output_type": "stream",
     "name": "stderr",
     "text": [
      "Evaluating: 100%|██████████| 5416/5416 [00:00<00:00, 34061.99it/s]\n"
     ]
    },
    {
     "output_type": "stream",
     "name": "stdout",
     "text": [
      "Train: 1.0000| Val: 0.7800| Test: 0.8080| Eval Time: 0.1630s\n",
      "Epoch 38| Loss: 0.0001| Acc: 1.0000| Train Time: 0.0870s\n"
     ]
    },
    {
     "output_type": "stream",
     "name": "stderr",
     "text": [
      "Evaluating: 100%|██████████| 5416/5416 [00:00<00:00, 33027.26it/s]\n"
     ]
    },
    {
     "output_type": "stream",
     "name": "stdout",
     "text": [
      "Train: 1.0000| Val: 0.7800| Test: 0.8080| Eval Time: 0.1700s\n",
      "Epoch 39| Loss: 0.0001| Acc: 1.0000| Train Time: 0.0710s\n"
     ]
    },
    {
     "output_type": "stream",
     "name": "stderr",
     "text": [
      "Evaluating: 100%|██████████| 5416/5416 [00:00<00:00, 31127.03it/s]\n"
     ]
    },
    {
     "output_type": "stream",
     "name": "stdout",
     "text": [
      "Train: 1.0000| Val: 0.7780| Test: 0.8080| Eval Time: 0.1800s\n",
      "Epoch 40| Loss: 0.0045| Acc: 1.0000| Train Time: 0.0910s\n"
     ]
    },
    {
     "output_type": "stream",
     "name": "stderr",
     "text": [
      "Evaluating: 100%|██████████| 5416/5416 [00:00<00:00, 29512.87it/s]\n"
     ]
    },
    {
     "output_type": "stream",
     "name": "stdout",
     "text": [
      "Train: 1.0000| Val: 0.7780| Test: 0.8090| Eval Time: 0.1865s\n",
      "Epoch 41| Loss: 0.0001| Acc: 1.0000| Train Time: 0.0590s\n"
     ]
    },
    {
     "output_type": "stream",
     "name": "stderr",
     "text": [
      "Evaluating: 100%|██████████| 5416/5416 [00:00<00:00, 30089.12it/s]\n"
     ]
    },
    {
     "output_type": "stream",
     "name": "stdout",
     "text": [
      "Train: 1.0000| Val: 0.7780| Test: 0.8090| Eval Time: 0.1875s\n",
      "Epoch 42| Loss: 0.0004| Acc: 1.0000| Train Time: 0.0805s\n"
     ]
    },
    {
     "output_type": "stream",
     "name": "stderr",
     "text": [
      "Evaluating: 100%|██████████| 5416/5416 [00:00<00:00, 36348.78it/s]\n"
     ]
    },
    {
     "output_type": "stream",
     "name": "stdout",
     "text": [
      "Train: 1.0000| Val: 0.7780| Test: 0.8080| Eval Time: 0.1530s\n",
      "Epoch 43| Loss: 0.0003| Acc: 1.0000| Train Time: 0.0660s\n"
     ]
    },
    {
     "output_type": "stream",
     "name": "stderr",
     "text": [
      "Evaluating: 100%|██████████| 5416/5416 [00:00<00:00, 27632.77it/s]\n"
     ]
    },
    {
     "output_type": "stream",
     "name": "stdout",
     "text": [
      "Train: 1.0000| Val: 0.7780| Test: 0.8080| Eval Time: 0.2000s\n",
      "Epoch 44| Loss: 0.0000| Acc: 1.0000| Train Time: 0.0800s\n"
     ]
    },
    {
     "output_type": "stream",
     "name": "stderr",
     "text": [
      "Evaluating: 100%|██████████| 5416/5416 [00:00<00:00, 30256.80it/s]\n"
     ]
    },
    {
     "output_type": "stream",
     "name": "stdout",
     "text": [
      "Train: 1.0000| Val: 0.7780| Test: 0.8090| Eval Time: 0.1850s\n",
      "Epoch 45| Loss: 0.0001| Acc: 1.0000| Train Time: 0.0690s\n"
     ]
    },
    {
     "output_type": "stream",
     "name": "stderr",
     "text": [
      "Evaluating: 100%|██████████| 5416/5416 [00:00<00:00, 30948.41it/s]\n"
     ]
    },
    {
     "output_type": "stream",
     "name": "stdout",
     "text": [
      "Train: 1.0000| Val: 0.7760| Test: 0.8090| Eval Time: 0.1790s\n",
      "Epoch 46| Loss: 0.0001| Acc: 1.0000| Train Time: 0.0800s\n"
     ]
    },
    {
     "output_type": "stream",
     "name": "stderr",
     "text": [
      "Evaluating: 100%|██████████| 5416/5416 [00:00<00:00, 30506.73it/s]\n"
     ]
    },
    {
     "output_type": "stream",
     "name": "stdout",
     "text": [
      "Train: 1.0000| Val: 0.7760| Test: 0.8070| Eval Time: 0.1815s\n",
      "Epoch 47| Loss: 0.0001| Acc: 1.0000| Train Time: 0.0710s\n"
     ]
    },
    {
     "output_type": "stream",
     "name": "stderr",
     "text": [
      "Evaluating: 100%|██████████| 5416/5416 [00:00<00:00, 29758.25it/s]\n"
     ]
    },
    {
     "output_type": "stream",
     "name": "stdout",
     "text": [
      "Train: 1.0000| Val: 0.7740| Test: 0.8080| Eval Time: 0.1850s\n",
      "Epoch 48| Loss: 0.0002| Acc: 1.0000| Train Time: 0.0780s\n"
     ]
    },
    {
     "output_type": "stream",
     "name": "stderr",
     "text": [
      "Evaluating: 100%|██████████| 5416/5416 [00:00<00:00, 27352.98it/s]\n"
     ]
    },
    {
     "output_type": "stream",
     "name": "stdout",
     "text": [
      "Train: 1.0000| Val: 0.7740| Test: 0.8070| Eval Time: 0.2030s\n",
      "Epoch 49| Loss: 0.0000| Acc: 1.0000| Train Time: 0.0750s\n"
     ]
    },
    {
     "output_type": "stream",
     "name": "stderr",
     "text": [
      "Evaluating: 100%|██████████| 5416/5416 [00:00<00:00, 28208.10it/s]\n"
     ]
    },
    {
     "output_type": "stream",
     "name": "stdout",
     "text": [
      "Train: 1.0000| Val: 0.7740| Test: 0.8060| Eval Time: 0.1970s\n",
      "Epoch 50| Loss: 0.0008| Acc: 1.0000| Train Time: 0.0770s\n"
     ]
    },
    {
     "output_type": "stream",
     "name": "stderr",
     "text": [
      "Evaluating: 100%|██████████| 5416/5416 [00:00<00:00, 29571.38it/s]\n"
     ]
    },
    {
     "output_type": "stream",
     "name": "stdout",
     "text": [
      "Train: 1.0000| Val: 0.7740| Test: 0.8080| Eval Time: 0.1872s\n",
      "Epoch 51| Loss: 0.0003| Acc: 1.0000| Train Time: 0.0710s\n"
     ]
    },
    {
     "output_type": "stream",
     "name": "stderr",
     "text": [
      "Evaluating: 100%|██████████| 5416/5416 [00:00<00:00, 30258.93it/s]\n"
     ]
    },
    {
     "output_type": "stream",
     "name": "stdout",
     "text": [
      "Train: 1.0000| Val: 0.7740| Test: 0.8080| Eval Time: 0.1830s\n",
      "Epoch 52| Loss: 0.0000| Acc: 1.0000| Train Time: 0.0720s\n"
     ]
    },
    {
     "output_type": "stream",
     "name": "stderr",
     "text": [
      "Evaluating: 100%|██████████| 5416/5416 [00:00<00:00, 28356.20it/s]\n"
     ]
    },
    {
     "output_type": "stream",
     "name": "stdout",
     "text": [
      "Train: 1.0000| Val: 0.7740| Test: 0.8080| Eval Time: 0.1950s\n",
      "Epoch 53| Loss: 0.0000| Acc: 1.0000| Train Time: 0.0700s\n"
     ]
    },
    {
     "output_type": "stream",
     "name": "stderr",
     "text": [
      "Evaluating: 100%|██████████| 5416/5416 [00:00<00:00, 30948.54it/s]\n"
     ]
    },
    {
     "output_type": "stream",
     "name": "stdout",
     "text": [
      "Train: 1.0000| Val: 0.7740| Test: 0.8090| Eval Time: 0.1810s\n",
      "Epoch 54| Loss: 0.0001| Acc: 1.0000| Train Time: 0.0720s\n"
     ]
    },
    {
     "output_type": "stream",
     "name": "stderr",
     "text": [
      "Evaluating: 100%|██████████| 5416/5416 [00:00<00:00, 30598.24it/s]\n"
     ]
    },
    {
     "output_type": "stream",
     "name": "stdout",
     "text": [
      "Train: 1.0000| Val: 0.7740| Test: 0.8090| Eval Time: 0.1810s\n",
      "Epoch 55| Loss: 0.0001| Acc: 1.0000| Train Time: 0.0910s\n"
     ]
    },
    {
     "output_type": "stream",
     "name": "stderr",
     "text": [
      "Evaluating: 100%|██████████| 5416/5416 [00:00<00:00, 29112.85it/s]\n"
     ]
    },
    {
     "output_type": "stream",
     "name": "stdout",
     "text": [
      "Train: 1.0000| Val: 0.7740| Test: 0.8090| Eval Time: 0.1900s\n",
      "Epoch 56| Loss: 0.0000| Acc: 1.0000| Train Time: 0.0740s\n"
     ]
    },
    {
     "output_type": "stream",
     "name": "stderr",
     "text": [
      "Evaluating: 100%|██████████| 5416/5416 [00:00<00:00, 27009.35it/s]\n"
     ]
    },
    {
     "output_type": "stream",
     "name": "stdout",
     "text": [
      "Train: 1.0000| Val: 0.7740| Test: 0.8090| Eval Time: 0.2055s\n",
      "Epoch 57| Loss: 0.0001| Acc: 1.0000| Train Time: 0.0820s\n"
     ]
    },
    {
     "output_type": "stream",
     "name": "stderr",
     "text": [
      "Evaluating: 100%|██████████| 5416/5416 [00:00<00:00, 27917.52it/s]\n"
     ]
    },
    {
     "output_type": "stream",
     "name": "stdout",
     "text": [
      "Train: 1.0000| Val: 0.7720| Test: 0.8090| Eval Time: 0.1980s\n",
      "Epoch 58| Loss: 0.0000| Acc: 1.0000| Train Time: 0.0740s\n"
     ]
    },
    {
     "output_type": "stream",
     "name": "stderr",
     "text": [
      "Evaluating: 100%|██████████| 5416/5416 [00:00<00:00, 31308.89it/s]\n"
     ]
    },
    {
     "output_type": "stream",
     "name": "stdout",
     "text": [
      "Train: 1.0000| Val: 0.7720| Test: 0.8090| Eval Time: 0.1780s\n",
      "Epoch 59| Loss: 0.0002| Acc: 1.0000| Train Time: 0.0700s\n"
     ]
    },
    {
     "output_type": "stream",
     "name": "stderr",
     "text": [
      "Evaluating: 100%|██████████| 5416/5416 [00:00<00:00, 30288.99it/s]\n"
     ]
    },
    {
     "output_type": "stream",
     "name": "stdout",
     "text": [
      "Train: 1.0000| Val: 0.7720| Test: 0.8090| Eval Time: 0.1818s\n",
      "Epoch 60| Loss: 0.0000| Acc: 1.0000| Train Time: 0.0770s\n"
     ]
    },
    {
     "output_type": "stream",
     "name": "stderr",
     "text": [
      "Evaluating: 100%|██████████| 5416/5416 [00:00<00:00, 29118.56it/s]\n"
     ]
    },
    {
     "output_type": "stream",
     "name": "stdout",
     "text": [
      "Train: 1.0000| Val: 0.7720| Test: 0.8090| Eval Time: 0.1910s\n",
      "Epoch 61| Loss: 0.0011| Acc: 1.0000| Train Time: 0.0750s\n"
     ]
    },
    {
     "output_type": "stream",
     "name": "stderr",
     "text": [
      "Evaluating: 100%|██████████| 5416/5416 [00:00<00:00, 31032.76it/s]\n"
     ]
    },
    {
     "output_type": "stream",
     "name": "stdout",
     "text": [
      "Train: 1.0000| Val: 0.7720| Test: 0.8090| Eval Time: 0.1796s\n",
      "Epoch 62| Loss: 0.0001| Acc: 1.0000| Train Time: 0.0850s\n"
     ]
    },
    {
     "output_type": "stream",
     "name": "stderr",
     "text": [
      "Evaluating: 100%|██████████| 5416/5416 [00:00<00:00, 26548.93it/s]\n"
     ]
    },
    {
     "output_type": "stream",
     "name": "stdout",
     "text": [
      "Train: 1.0000| Val: 0.7720| Test: 0.8090| Eval Time: 0.2070s\n",
      "\n",
      "Result of  1. run| Train: 1.0000| Val: 0.7800| Test: 0.8090\n",
      "\n",
      "Run 01 for GatV1_K1_D3_s and Cora:\n"
     ]
    },
    {
     "output_type": "stream",
     "name": "stderr",
     "text": [
      "Epoch 01: 100%|██████████| 140/140 [00:00<00:00, 600.85it/s]\n"
     ]
    },
    {
     "output_type": "stream",
     "name": "stdout",
     "text": [
      "Epoch 01| Loss: 2.0031| Acc: 0.1357| Train Time: 0.2350s\n"
     ]
    },
    {
     "output_type": "stream",
     "name": "stderr",
     "text": [
      "Evaluating: 100%|██████████| 8124/8124 [00:00<00:00, 31734.52it/s]\n"
     ]
    },
    {
     "output_type": "stream",
     "name": "stdout",
     "text": [
      "Train: 0.8857| Val: 0.6100| Test: 0.5920| Eval Time: 0.2610s\n",
      "Epoch 02| Loss: 1.6007| Acc: 0.6000| Train Time: 0.2190s\n"
     ]
    },
    {
     "output_type": "stream",
     "name": "stderr",
     "text": [
      "Evaluating: 100%|██████████| 8124/8124 [00:00<00:00, 31121.50it/s]\n"
     ]
    },
    {
     "output_type": "stream",
     "name": "stdout",
     "text": [
      "Train: 0.9429| Val: 0.7100| Test: 0.7230| Eval Time: 0.2660s\n",
      "Epoch 03| Loss: 1.1901| Acc: 0.8071| Train Time: 0.2760s\n"
     ]
    },
    {
     "output_type": "stream",
     "name": "stderr",
     "text": [
      "Evaluating: 100%|██████████| 8124/8124 [00:00<00:00, 28910.90it/s]\n"
     ]
    },
    {
     "output_type": "stream",
     "name": "stdout",
     "text": [
      "Train: 0.9857| Val: 0.7660| Test: 0.7840| Eval Time: 0.2880s\n",
      "Epoch 04| Loss: 0.7568| Acc: 0.8714| Train Time: 0.2590s\n"
     ]
    },
    {
     "output_type": "stream",
     "name": "stderr",
     "text": [
      "Evaluating: 100%|██████████| 8124/8124 [00:00<00:00, 27261.87it/s]\n"
     ]
    },
    {
     "output_type": "stream",
     "name": "stdout",
     "text": [
      "Train: 0.9857| Val: 0.7720| Test: 0.8100| Eval Time: 0.3040s\n",
      "Epoch 05| Loss: 0.4207| Acc: 0.9214| Train Time: 0.2210s\n"
     ]
    },
    {
     "output_type": "stream",
     "name": "stderr",
     "text": [
      "Evaluating: 100%|██████████| 8124/8124 [00:00<00:00, 22538.25it/s]\n"
     ]
    },
    {
     "output_type": "stream",
     "name": "stdout",
     "text": [
      "Train: 0.9857| Val: 0.7760| Test: 0.8080| Eval Time: 0.3645s\n",
      "Epoch 06| Loss: 0.2309| Acc: 0.9714| Train Time: 0.2720s\n"
     ]
    },
    {
     "output_type": "stream",
     "name": "stderr",
     "text": [
      "Evaluating: 100%|██████████| 8124/8124 [00:00<00:00, 29649.62it/s]\n"
     ]
    },
    {
     "output_type": "stream",
     "name": "stdout",
     "text": [
      "Train: 0.9929| Val: 0.7760| Test: 0.8090| Eval Time: 0.2780s\n",
      "Epoch 07| Loss: 0.1150| Acc: 0.9857| Train Time: 0.2220s\n"
     ]
    },
    {
     "output_type": "stream",
     "name": "stderr",
     "text": [
      "Evaluating: 100%|██████████| 8124/8124 [00:00<00:00, 31441.92it/s]\n"
     ]
    },
    {
     "output_type": "stream",
     "name": "stdout",
     "text": [
      "Train: 0.9929| Val: 0.7720| Test: 0.8090| Eval Time: 0.2634s\n",
      "Epoch 08| Loss: 0.0657| Acc: 0.9857| Train Time: 0.2060s\n"
     ]
    },
    {
     "output_type": "stream",
     "name": "stderr",
     "text": [
      "Evaluating: 100%|██████████| 8124/8124 [00:00<00:00, 27080.07it/s]\n"
     ]
    },
    {
     "output_type": "stream",
     "name": "stdout",
     "text": [
      "Train: 1.0000| Val: 0.7740| Test: 0.8050| Eval Time: 0.3040s\n",
      "Epoch 09| Loss: 0.0313| Acc: 1.0000| Train Time: 0.1780s\n"
     ]
    },
    {
     "output_type": "stream",
     "name": "stderr",
     "text": [
      "Evaluating: 100%|██████████| 8124/8124 [00:00<00:00, 27628.83it/s]\n"
     ]
    },
    {
     "output_type": "stream",
     "name": "stdout",
     "text": [
      "Train: 1.0000| Val: 0.7760| Test: 0.8020| Eval Time: 0.2990s\n",
      "Epoch 10| Loss: 0.0270| Acc: 0.9929| Train Time: 0.2310s\n"
     ]
    },
    {
     "output_type": "stream",
     "name": "stderr",
     "text": [
      "Evaluating: 100%|██████████| 8124/8124 [00:00<00:00, 32549.95it/s]\n"
     ]
    },
    {
     "output_type": "stream",
     "name": "stdout",
     "text": [
      "Train: 1.0000| Val: 0.7760| Test: 0.7980| Eval Time: 0.2536s\n",
      "Epoch 11| Loss: 0.0357| Acc: 0.9857| Train Time: 0.1910s\n"
     ]
    },
    {
     "output_type": "stream",
     "name": "stderr",
     "text": [
      "Evaluating: 100%|██████████| 8124/8124 [00:00<00:00, 29867.98it/s]\n"
     ]
    },
    {
     "output_type": "stream",
     "name": "stdout",
     "text": [
      "Train: 1.0000| Val: 0.7720| Test: 0.7980| Eval Time: 0.2770s\n",
      "Epoch 12| Loss: 0.0035| Acc: 1.0000| Train Time: 0.1810s\n"
     ]
    },
    {
     "output_type": "stream",
     "name": "stderr",
     "text": [
      "Evaluating: 100%|██████████| 8124/8124 [00:00<00:00, 32758.17it/s]\n"
     ]
    },
    {
     "output_type": "stream",
     "name": "stdout",
     "text": [
      "Train: 1.0000| Val: 0.7600| Test: 0.7960| Eval Time: 0.2530s\n",
      "Epoch 13| Loss: 0.0069| Acc: 0.9929| Train Time: 0.2180s\n"
     ]
    },
    {
     "output_type": "stream",
     "name": "stderr",
     "text": [
      "Evaluating: 100%|██████████| 8124/8124 [00:00<00:00, 34293.08it/s]\n"
     ]
    },
    {
     "output_type": "stream",
     "name": "stdout",
     "text": [
      "Train: 1.0000| Val: 0.7580| Test: 0.8000| Eval Time: 0.2419s\n",
      "Epoch 14| Loss: 0.0011| Acc: 1.0000| Train Time: 0.1890s\n"
     ]
    },
    {
     "output_type": "stream",
     "name": "stderr",
     "text": [
      "Evaluating: 100%|██████████| 8124/8124 [00:00<00:00, 35946.55it/s]\n"
     ]
    },
    {
     "output_type": "stream",
     "name": "stdout",
     "text": [
      "Train: 1.0000| Val: 0.7600| Test: 0.7980| Eval Time: 0.2300s\n",
      "Epoch 15| Loss: 0.0007| Acc: 1.0000| Train Time: 0.2070s\n"
     ]
    },
    {
     "output_type": "stream",
     "name": "stderr",
     "text": [
      "Evaluating: 100%|██████████| 8124/8124 [00:00<00:00, 33778.09it/s]\n"
     ]
    },
    {
     "output_type": "stream",
     "name": "stdout",
     "text": [
      "Train: 1.0000| Val: 0.7600| Test: 0.8010| Eval Time: 0.2485s\n",
      "Epoch 16| Loss: 0.0081| Acc: 0.9929| Train Time: 0.1960s\n"
     ]
    },
    {
     "output_type": "stream",
     "name": "stderr",
     "text": [
      "Evaluating: 100%|██████████| 8124/8124 [00:00<00:00, 34867.27it/s]\n"
     ]
    },
    {
     "output_type": "stream",
     "name": "stdout",
     "text": [
      "Train: 1.0000| Val: 0.7520| Test: 0.7990| Eval Time: 0.2380s\n",
      "Epoch 17| Loss: 0.0011| Acc: 1.0000| Train Time: 0.2380s\n"
     ]
    },
    {
     "output_type": "stream",
     "name": "stderr",
     "text": [
      "Evaluating: 100%|██████████| 8124/8124 [00:00<00:00, 31488.12it/s]\n"
     ]
    },
    {
     "output_type": "stream",
     "name": "stdout",
     "text": [
      "Train: 1.0000| Val: 0.7480| Test: 0.7980| Eval Time: 0.2630s\n",
      "Epoch 18| Loss: 0.0007| Acc: 1.0000| Train Time: 0.1800s\n"
     ]
    },
    {
     "output_type": "stream",
     "name": "stderr",
     "text": [
      "Evaluating: 100%|██████████| 8124/8124 [00:00<00:00, 29328.63it/s]\n"
     ]
    },
    {
     "output_type": "stream",
     "name": "stdout",
     "text": [
      "Train: 1.0000| Val: 0.7560| Test: 0.7970| Eval Time: 0.2830s\n",
      "Epoch 19| Loss: 0.0028| Acc: 1.0000| Train Time: 0.1961s\n"
     ]
    },
    {
     "output_type": "stream",
     "name": "stderr",
     "text": [
      "Evaluating: 100%|██████████| 8124/8124 [00:00<00:00, 28545.44it/s]\n"
     ]
    },
    {
     "output_type": "stream",
     "name": "stdout",
     "text": [
      "Train: 1.0000| Val: 0.7620| Test: 0.7960| Eval Time: 0.2896s\n",
      "Epoch 20| Loss: 0.0022| Acc: 1.0000| Train Time: 0.1810s\n"
     ]
    },
    {
     "output_type": "stream",
     "name": "stderr",
     "text": [
      "Evaluating: 100%|██████████| 8124/8124 [00:00<00:00, 29977.87it/s]\n"
     ]
    },
    {
     "output_type": "stream",
     "name": "stdout",
     "text": [
      "Train: 1.0000| Val: 0.7580| Test: 0.7940| Eval Time: 0.2750s\n",
      "Epoch 21| Loss: 0.0419| Acc: 0.9857| Train Time: 0.2330s\n"
     ]
    },
    {
     "output_type": "stream",
     "name": "stderr",
     "text": [
      "Evaluating: 100%|██████████| 8124/8124 [00:00<00:00, 29223.11it/s]\n"
     ]
    },
    {
     "output_type": "stream",
     "name": "stdout",
     "text": [
      "Train: 1.0000| Val: 0.7520| Test: 0.7940| Eval Time: 0.2820s\n",
      "Epoch 22| Loss: 0.0069| Acc: 1.0000| Train Time: 0.2022s\n"
     ]
    },
    {
     "output_type": "stream",
     "name": "stderr",
     "text": [
      "Evaluating: 100%|██████████| 8124/8124 [00:00<00:00, 32626.59it/s]\n"
     ]
    },
    {
     "output_type": "stream",
     "name": "stdout",
     "text": [
      "Train: 1.0000| Val: 0.7540| Test: 0.7980| Eval Time: 0.2570s\n",
      "Epoch 23| Loss: 0.0009| Acc: 1.0000| Train Time: 0.1740s\n"
     ]
    },
    {
     "output_type": "stream",
     "name": "stderr",
     "text": [
      "Evaluating: 100%|██████████| 8124/8124 [00:00<00:00, 28505.71it/s]\n"
     ]
    },
    {
     "output_type": "stream",
     "name": "stdout",
     "text": [
      "Train: 1.0000| Val: 0.7660| Test: 0.7990| Eval Time: 0.2930s\n",
      "Epoch 24| Loss: 0.0014| Acc: 1.0000| Train Time: 0.1920s\n"
     ]
    },
    {
     "output_type": "stream",
     "name": "stderr",
     "text": [
      "Evaluating: 100%|██████████| 8124/8124 [00:00<00:00, 34424.28it/s]\n"
     ]
    },
    {
     "output_type": "stream",
     "name": "stdout",
     "text": [
      "Train: 1.0000| Val: 0.7640| Test: 0.8040| Eval Time: 0.2410s\n",
      "Epoch 25| Loss: 0.0001| Acc: 1.0000| Train Time: 0.1946s\n"
     ]
    },
    {
     "output_type": "stream",
     "name": "stderr",
     "text": [
      "Evaluating: 100%|██████████| 8124/8124 [00:00<00:00, 31859.02it/s]\n"
     ]
    },
    {
     "output_type": "stream",
     "name": "stdout",
     "text": [
      "Train: 1.0000| Val: 0.7720| Test: 0.8030| Eval Time: 0.2605s\n",
      "Epoch 26| Loss: 0.0003| Acc: 1.0000| Train Time: 0.2000s\n"
     ]
    },
    {
     "output_type": "stream",
     "name": "stderr",
     "text": [
      "Evaluating: 100%|██████████| 8124/8124 [00:00<00:00, 26990.00it/s]\n"
     ]
    },
    {
     "output_type": "stream",
     "name": "stdout",
     "text": [
      "Train: 1.0000| Val: 0.7760| Test: 0.8010| Eval Time: 0.3080s\n",
      "Epoch 27| Loss: 0.0076| Acc: 1.0000| Train Time: 0.2960s\n"
     ]
    },
    {
     "output_type": "stream",
     "name": "stderr",
     "text": [
      "Evaluating: 100%|██████████| 8124/8124 [00:00<00:00, 19160.34it/s]\n"
     ]
    },
    {
     "output_type": "stream",
     "name": "stdout",
     "text": [
      "Train: 1.0000| Val: 0.7700| Test: 0.7960| Eval Time: 0.4330s\n",
      "Epoch 28| Loss: 0.0567| Acc: 0.9929| Train Time: 0.3161s\n"
     ]
    },
    {
     "output_type": "stream",
     "name": "stderr",
     "text": [
      "Evaluating: 100%|██████████| 8124/8124 [00:00<00:00, 22472.03it/s]\n"
     ]
    },
    {
     "output_type": "stream",
     "name": "stdout",
     "text": [
      "Train: 1.0000| Val: 0.7660| Test: 0.7940| Eval Time: 0.3695s\n",
      "Epoch 29| Loss: 0.0534| Acc: 0.9929| Train Time: 0.3180s\n"
     ]
    },
    {
     "output_type": "stream",
     "name": "stderr",
     "text": [
      "Evaluating:  36%|███▋      | 2964/8124 [00:00<00:00, 12423.02it/s]"
     ]
    }
   ],
   "metadata": {}
  }
 ],
 "metadata": {
  "orig_nbformat": 4,
  "kernelspec": {
   "name": "python3",
   "display_name": "Python 3.8.10 64-bit ('PSN': conda)"
  },
  "interpreter": {
   "hash": "b8be38cac5e07419459cc1d2fe0e04c6cbe36991c6a4efd3c9a636608bfd9cde"
  },
  "language_info": {
   "name": "python",
   "version": "3.8.10",
   "mimetype": "text/x-python",
   "codemirror_mode": {
    "name": "ipython",
    "version": 3
   },
   "pygments_lexer": "ipython3",
   "nbconvert_exporter": "python",
   "file_extension": ".py"
  }
 },
 "nbformat": 4,
 "nbformat_minor": 2
}