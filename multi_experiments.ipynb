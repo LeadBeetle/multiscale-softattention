{
 "cells": [
  {
   "cell_type": "code",
   "execution_count": 1,
   "source": [
    "from utils.constants import *\r\n",
    "from utils.experimentorUtils import * "
   ],
   "outputs": [],
   "metadata": {}
  },
  {
   "cell_type": "code",
   "execution_count": 2,
   "source": [
    "models   = [ModelType.GATV1]\r\n",
    "datasets = [Dataset.OGBN_PRODUCTS]\r\n",
    "degrees  = [2]\r\n",
    "sparse = [True]\r\n",
    "\r\n",
    "runExperiments(models, datasets, degrees, sparse)"
   ],
   "outputs": [
    {
     "output_type": "stream",
     "name": "stdout",
     "text": [
      "Run 01 for GatV1_K2_s and Cora:\n"
     ]
    },
    {
     "output_type": "stream",
     "name": "stderr",
     "text": [
      "Epoch 01: 100%|██████████| 140/140 [00:00<00:00, 156.75it/s]\n"
     ]
    },
    {
     "output_type": "stream",
     "name": "stdout",
     "text": [
      "Epoch 01| Loss: 1.9999| Acc: 0.1571| Train Time: 0.8955s\n"
     ]
    },
    {
     "output_type": "stream",
     "name": "stderr",
     "text": [
      "Evaluating: 100%|██████████| 5416/5416 [00:04<00:00, 1252.30it/s]\n"
     ]
    },
    {
     "output_type": "stream",
     "name": "stdout",
     "text": [
      "Train: 0.8429| Val: 0.6080| Test: 0.6310| Eval Time: 4.3340s\n",
      "Epoch 02| Loss: 1.4413| Acc: 0.6929| Train Time: 0.8262s\n"
     ]
    },
    {
     "output_type": "stream",
     "name": "stderr",
     "text": [
      "Evaluating: 100%|██████████| 5416/5416 [00:00<00:00, 19195.04it/s]\n"
     ]
    },
    {
     "output_type": "stream",
     "name": "stdout",
     "text": [
      "Train: 0.9643| Val: 0.7320| Test: 0.7580| Eval Time: 0.2871s\n",
      "Epoch 03| Loss: 1.0460| Acc: 0.8357| Train Time: 0.8796s\n"
     ]
    },
    {
     "output_type": "stream",
     "name": "stderr",
     "text": [
      "Evaluating: 100%|██████████| 5416/5416 [00:00<00:00, 17530.81it/s]\n"
     ]
    },
    {
     "output_type": "stream",
     "name": "stdout",
     "text": [
      "Train: 0.9786| Val: 0.7500| Test: 0.7920| Eval Time: 0.3159s\n",
      "Epoch 04| Loss: 0.7621| Acc: 0.9286| Train Time: 0.0420s\n"
     ]
    },
    {
     "output_type": "stream",
     "name": "stderr",
     "text": [
      "Evaluating: 100%|██████████| 5416/5416 [00:00<00:00, 17327.88it/s]\n"
     ]
    },
    {
     "output_type": "stream",
     "name": "stdout",
     "text": [
      "Train: 0.9786| Val: 0.7520| Test: 0.7950| Eval Time: 0.3176s\n",
      "Epoch 05| Loss: 0.6030| Acc: 0.9286| Train Time: 0.0445s\n"
     ]
    },
    {
     "output_type": "stream",
     "name": "stderr",
     "text": [
      "Evaluating: 100%|██████████| 5416/5416 [00:00<00:00, 16271.09it/s]\n"
     ]
    },
    {
     "output_type": "stream",
     "name": "stdout",
     "text": [
      "Train: 0.9857| Val: 0.7640| Test: 0.7930| Eval Time: 0.3378s\n",
      "Epoch 06| Loss: 0.5368| Acc: 0.9500| Train Time: 0.0490s\n"
     ]
    },
    {
     "output_type": "stream",
     "name": "stderr",
     "text": [
      "Evaluating: 100%|██████████| 5416/5416 [00:00<00:00, 15563.10it/s]\n"
     ]
    },
    {
     "output_type": "stream",
     "name": "stdout",
     "text": [
      "Train: 1.0000| Val: 0.7500| Test: 0.7870| Eval Time: 0.3530s\n",
      "Epoch 07| Loss: 0.4125| Acc: 0.9571| Train Time: 0.0436s\n"
     ]
    },
    {
     "output_type": "stream",
     "name": "stderr",
     "text": [
      "Evaluating: 100%|██████████| 5416/5416 [00:00<00:00, 15976.42it/s]\n"
     ]
    },
    {
     "output_type": "stream",
     "name": "stdout",
     "text": [
      "Train: 1.0000| Val: 0.7600| Test: 0.7910| Eval Time: 0.3460s\n",
      "Epoch 08| Loss: 0.3322| Acc: 0.9929| Train Time: 0.0490s\n"
     ]
    },
    {
     "output_type": "stream",
     "name": "stderr",
     "text": [
      "Evaluating: 100%|██████████| 5416/5416 [00:00<00:00, 17641.93it/s]\n"
     ]
    },
    {
     "output_type": "stream",
     "name": "stdout",
     "text": [
      "Train: 1.0000| Val: 0.7520| Test: 0.7870| Eval Time: 0.3160s\n",
      "Epoch 09| Loss: 0.2633| Acc: 0.9929| Train Time: 0.0420s\n"
     ]
    },
    {
     "output_type": "stream",
     "name": "stderr",
     "text": [
      "Evaluating: 100%|██████████| 5416/5416 [00:00<00:00, 17815.87it/s]\n"
     ]
    },
    {
     "output_type": "stream",
     "name": "stdout",
     "text": [
      "Train: 1.0000| Val: 0.7480| Test: 0.7810| Eval Time: 0.3090s\n",
      "Epoch 10| Loss: 0.1721| Acc: 1.0000| Train Time: 0.0440s\n"
     ]
    },
    {
     "output_type": "stream",
     "name": "stderr",
     "text": [
      "Evaluating: 100%|██████████| 5416/5416 [00:00<00:00, 17386.05it/s]\n"
     ]
    },
    {
     "output_type": "stream",
     "name": "stdout",
     "text": [
      "Train: 1.0000| Val: 0.7460| Test: 0.7830| Eval Time: 0.3205s\n",
      "Epoch 11| Loss: 0.2362| Acc: 0.9929| Train Time: 0.0420s\n"
     ]
    },
    {
     "output_type": "stream",
     "name": "stderr",
     "text": [
      "Evaluating: 100%|██████████| 5416/5416 [00:00<00:00, 17301.88it/s]\n"
     ]
    },
    {
     "output_type": "stream",
     "name": "stdout",
     "text": [
      "Train: 1.0000| Val: 0.7440| Test: 0.7770| Eval Time: 0.3190s\n",
      "Epoch 12| Loss: 0.1662| Acc: 1.0000| Train Time: 0.0470s\n"
     ]
    },
    {
     "output_type": "stream",
     "name": "stderr",
     "text": [
      "Evaluating: 100%|██████████| 5416/5416 [00:00<00:00, 17159.76it/s]\n"
     ]
    },
    {
     "output_type": "stream",
     "name": "stdout",
     "text": [
      "Train: 1.0000| Val: 0.7440| Test: 0.7800| Eval Time: 0.3206s\n",
      "Epoch 13| Loss: 0.1432| Acc: 0.9929| Train Time: 0.0380s\n"
     ]
    },
    {
     "output_type": "stream",
     "name": "stderr",
     "text": [
      "Evaluating: 100%|██████████| 5416/5416 [00:00<00:00, 17022.02it/s]\n"
     ]
    },
    {
     "output_type": "stream",
     "name": "stdout",
     "text": [
      "Train: 1.0000| Val: 0.7480| Test: 0.7830| Eval Time: 0.3232s\n",
      "Epoch 14| Loss: 0.1306| Acc: 1.0000| Train Time: 0.0430s\n"
     ]
    },
    {
     "output_type": "stream",
     "name": "stderr",
     "text": [
      "Evaluating: 100%|██████████| 5416/5416 [00:00<00:00, 17745.93it/s]\n"
     ]
    },
    {
     "output_type": "stream",
     "name": "stdout",
     "text": [
      "Train: 1.0000| Val: 0.7440| Test: 0.7820| Eval Time: 0.3102s\n",
      "Epoch 15| Loss: 0.0777| Acc: 1.0000| Train Time: 0.0410s\n"
     ]
    },
    {
     "output_type": "stream",
     "name": "stderr",
     "text": [
      "Evaluating: 100%|██████████| 5416/5416 [00:00<00:00, 17727.11it/s]\n"
     ]
    },
    {
     "output_type": "stream",
     "name": "stdout",
     "text": [
      "Train: 1.0000| Val: 0.7460| Test: 0.7840| Eval Time: 0.3115s\n",
      "Epoch 16| Loss: 0.0842| Acc: 0.9929| Train Time: 0.0420s\n"
     ]
    },
    {
     "output_type": "stream",
     "name": "stderr",
     "text": [
      "Evaluating: 100%|██████████| 5416/5416 [00:00<00:00, 18359.51it/s]\n"
     ]
    },
    {
     "output_type": "stream",
     "name": "stdout",
     "text": [
      "Train: 1.0000| Val: 0.7500| Test: 0.7820| Eval Time: 0.2990s\n",
      "Epoch 17| Loss: 0.0798| Acc: 1.0000| Train Time: 0.0420s\n"
     ]
    },
    {
     "output_type": "stream",
     "name": "stderr",
     "text": [
      "Evaluating: 100%|██████████| 5416/5416 [00:00<00:00, 17611.91it/s]\n"
     ]
    },
    {
     "output_type": "stream",
     "name": "stdout",
     "text": [
      "Train: 1.0000| Val: 0.7580| Test: 0.7810| Eval Time: 0.3135s\n",
      "Epoch 18| Loss: 0.0453| Acc: 1.0000| Train Time: 0.0380s\n"
     ]
    },
    {
     "output_type": "stream",
     "name": "stderr",
     "text": [
      "Evaluating: 100%|██████████| 5416/5416 [00:00<00:00, 17359.04it/s]\n"
     ]
    },
    {
     "output_type": "stream",
     "name": "stdout",
     "text": [
      "Train: 1.0000| Val: 0.7600| Test: 0.7810| Eval Time: 0.3190s\n",
      "Epoch 19| Loss: 0.0657| Acc: 1.0000| Train Time: 0.0390s\n"
     ]
    },
    {
     "output_type": "stream",
     "name": "stderr",
     "text": [
      "Evaluating: 100%|██████████| 5416/5416 [00:00<00:00, 16762.27it/s]\n"
     ]
    },
    {
     "output_type": "stream",
     "name": "stdout",
     "text": [
      "Train: 1.0000| Val: 0.7640| Test: 0.7810| Eval Time: 0.3281s\n",
      "Epoch 20| Loss: 0.0443| Acc: 1.0000| Train Time: 0.0450s\n"
     ]
    },
    {
     "output_type": "stream",
     "name": "stderr",
     "text": [
      "Evaluating: 100%|██████████| 5416/5416 [00:00<00:00, 15808.14it/s]\n"
     ]
    },
    {
     "output_type": "stream",
     "name": "stdout",
     "text": [
      "Train: 1.0000| Val: 0.7620| Test: 0.7810| Eval Time: 0.3486s\n",
      "Epoch 21| Loss: 0.0271| Acc: 1.0000| Train Time: 0.0520s\n"
     ]
    },
    {
     "output_type": "stream",
     "name": "stderr",
     "text": [
      "Evaluating: 100%|██████████| 5416/5416 [00:00<00:00, 17248.31it/s]\n"
     ]
    },
    {
     "output_type": "stream",
     "name": "stdout",
     "text": [
      "Train: 1.0000| Val: 0.7620| Test: 0.7840| Eval Time: 0.3200s\n",
      "Epoch 22| Loss: 0.0283| Acc: 1.0000| Train Time: 0.0421s\n"
     ]
    },
    {
     "output_type": "stream",
     "name": "stderr",
     "text": [
      "Evaluating: 100%|██████████| 5416/5416 [00:00<00:00, 16119.08it/s]\n"
     ]
    },
    {
     "output_type": "stream",
     "name": "stdout",
     "text": [
      "Train: 1.0000| Val: 0.7620| Test: 0.7810| Eval Time: 0.3420s\n",
      "Epoch 23| Loss: 0.0153| Acc: 1.0000| Train Time: 0.0440s\n"
     ]
    },
    {
     "output_type": "stream",
     "name": "stderr",
     "text": [
      "Evaluating: 100%|██████████| 5416/5416 [00:00<00:00, 16398.57it/s]\n"
     ]
    },
    {
     "output_type": "stream",
     "name": "stdout",
     "text": [
      "Train: 1.0000| Val: 0.7600| Test: 0.7820| Eval Time: 0.3363s\n",
      "Epoch 24| Loss: 0.0268| Acc: 1.0000| Train Time: 0.0430s\n"
     ]
    },
    {
     "output_type": "stream",
     "name": "stderr",
     "text": [
      "Evaluating: 100%|██████████| 5416/5416 [00:00<00:00, 13726.58it/s]\n"
     ]
    },
    {
     "output_type": "stream",
     "name": "stdout",
     "text": [
      "Train: 1.0000| Val: 0.7600| Test: 0.7830| Eval Time: 0.4016s\n",
      "Epoch 25| Loss: 0.0226| Acc: 1.0000| Train Time: 0.0550s\n"
     ]
    },
    {
     "output_type": "stream",
     "name": "stderr",
     "text": [
      "Evaluating: 100%|██████████| 5416/5416 [00:00<00:00, 16977.98it/s]\n"
     ]
    },
    {
     "output_type": "stream",
     "name": "stdout",
     "text": [
      "Train: 1.0000| Val: 0.7600| Test: 0.7820| Eval Time: 0.3240s\n",
      "Epoch 26| Loss: 0.0400| Acc: 1.0000| Train Time: 0.0390s\n"
     ]
    },
    {
     "output_type": "stream",
     "name": "stderr",
     "text": [
      "Evaluating: 100%|██████████| 5416/5416 [00:00<00:00, 16997.09it/s]\n"
     ]
    },
    {
     "output_type": "stream",
     "name": "stdout",
     "text": [
      "Train: 1.0000| Val: 0.7600| Test: 0.7830| Eval Time: 0.3256s\n",
      "Epoch 27| Loss: 0.0306| Acc: 1.0000| Train Time: 0.0390s\n"
     ]
    },
    {
     "output_type": "stream",
     "name": "stderr",
     "text": [
      "Evaluating: 100%|██████████| 5416/5416 [00:00<00:00, 16831.05it/s]\n"
     ]
    },
    {
     "output_type": "stream",
     "name": "stdout",
     "text": [
      "Train: 1.0000| Val: 0.7600| Test: 0.7840| Eval Time: 0.3288s\n",
      "Epoch 28| Loss: 0.0136| Acc: 1.0000| Train Time: 0.0460s\n"
     ]
    },
    {
     "output_type": "stream",
     "name": "stderr",
     "text": [
      "Evaluating: 100%|██████████| 5416/5416 [00:00<00:00, 17085.09it/s]\n"
     ]
    },
    {
     "output_type": "stream",
     "name": "stdout",
     "text": [
      "Train: 1.0000| Val: 0.7580| Test: 0.7850| Eval Time: 0.3240s\n",
      "Epoch 29| Loss: 0.0134| Acc: 1.0000| Train Time: 0.0460s\n"
     ]
    },
    {
     "output_type": "stream",
     "name": "stderr",
     "text": [
      "Evaluating: 100%|██████████| 5416/5416 [00:00<00:00, 16925.13it/s]\n"
     ]
    },
    {
     "output_type": "stream",
     "name": "stdout",
     "text": [
      "Train: 1.0000| Val: 0.7600| Test: 0.7850| Eval Time: 0.3250s\n",
      "Epoch 30| Loss: 0.0153| Acc: 1.0000| Train Time: 0.0410s\n"
     ]
    },
    {
     "output_type": "stream",
     "name": "stderr",
     "text": [
      "Evaluating: 100%|██████████| 5416/5416 [00:00<00:00, 17754.96it/s]\n"
     ]
    },
    {
     "output_type": "stream",
     "name": "stdout",
     "text": [
      "Train: 1.0000| Val: 0.7580| Test: 0.7830| Eval Time: 0.3110s\n",
      "Epoch 31| Loss: 0.0194| Acc: 1.0000| Train Time: 0.0500s\n"
     ]
    },
    {
     "output_type": "stream",
     "name": "stderr",
     "text": [
      "Evaluating: 100%|██████████| 5416/5416 [00:00<00:00, 16745.33it/s]\n"
     ]
    },
    {
     "output_type": "stream",
     "name": "stdout",
     "text": [
      "Train: 1.0000| Val: 0.7580| Test: 0.7830| Eval Time: 0.3294s\n",
      "Epoch 32| Loss: 0.0084| Acc: 1.0000| Train Time: 0.0410s\n"
     ]
    },
    {
     "output_type": "stream",
     "name": "stderr",
     "text": [
      "Evaluating: 100%|██████████| 5416/5416 [00:00<00:00, 16954.65it/s]\n"
     ]
    },
    {
     "output_type": "stream",
     "name": "stdout",
     "text": [
      "Train: 1.0000| Val: 0.7580| Test: 0.7820| Eval Time: 0.3264s\n",
      "Epoch 33| Loss: 0.0144| Acc: 1.0000| Train Time: 0.0380s\n"
     ]
    },
    {
     "output_type": "stream",
     "name": "stderr",
     "text": [
      "Evaluating: 100%|██████████| 5416/5416 [00:00<00:00, 16872.29it/s]\n"
     ]
    },
    {
     "output_type": "stream",
     "name": "stdout",
     "text": [
      "Train: 1.0000| Val: 0.7580| Test: 0.7830| Eval Time: 0.3250s\n",
      "Epoch 34| Loss: 0.0101| Acc: 1.0000| Train Time: 0.0410s\n"
     ]
    },
    {
     "output_type": "stream",
     "name": "stderr",
     "text": [
      "Evaluating: 100%|██████████| 5416/5416 [00:00<00:00, 17813.90it/s]\n"
     ]
    },
    {
     "output_type": "stream",
     "name": "stdout",
     "text": [
      "Train: 1.0000| Val: 0.7600| Test: 0.7830| Eval Time: 0.3100s\n",
      "Epoch 35| Loss: 0.0134| Acc: 1.0000| Train Time: 0.0380s\n"
     ]
    },
    {
     "output_type": "stream",
     "name": "stderr",
     "text": [
      "Evaluating: 100%|██████████| 5416/5416 [00:00<00:00, 16767.53it/s]\n"
     ]
    },
    {
     "output_type": "stream",
     "name": "stdout",
     "text": [
      "Train: 1.0000| Val: 0.7600| Test: 0.7830| Eval Time: 0.3280s\n",
      "Epoch 36| Loss: 0.0094| Acc: 1.0000| Train Time: 0.0370s\n"
     ]
    },
    {
     "output_type": "stream",
     "name": "stderr",
     "text": [
      "Evaluating: 100%|██████████| 5416/5416 [00:00<00:00, 18006.17it/s]\n"
     ]
    },
    {
     "output_type": "stream",
     "name": "stdout",
     "text": [
      "Train: 1.0000| Val: 0.7580| Test: 0.7840| Eval Time: 0.3068s\n",
      "Epoch 37| Loss: 0.0065| Acc: 1.0000| Train Time: 0.0410s\n"
     ]
    },
    {
     "output_type": "stream",
     "name": "stderr",
     "text": [
      "Evaluating: 100%|██████████| 5416/5416 [00:00<00:00, 16880.37it/s]\n"
     ]
    },
    {
     "output_type": "stream",
     "name": "stdout",
     "text": [
      "Train: 1.0000| Val: 0.7580| Test: 0.7840| Eval Time: 0.3259s\n",
      "Epoch 38| Loss: 0.0131| Acc: 1.0000| Train Time: 0.0430s\n"
     ]
    },
    {
     "output_type": "stream",
     "name": "stderr",
     "text": [
      "Evaluating: 100%|██████████| 5416/5416 [00:00<00:00, 17554.81it/s]\n"
     ]
    },
    {
     "output_type": "stream",
     "name": "stdout",
     "text": [
      "Train: 1.0000| Val: 0.7580| Test: 0.7850| Eval Time: 0.3145s\n",
      "Epoch 39| Loss: 0.0038| Acc: 1.0000| Train Time: 0.0460s\n"
     ]
    },
    {
     "output_type": "stream",
     "name": "stderr",
     "text": [
      "Evaluating: 100%|██████████| 5416/5416 [00:00<00:00, 16978.09it/s]\n"
     ]
    },
    {
     "output_type": "stream",
     "name": "stdout",
     "text": [
      "Train: 1.0000| Val: 0.7560| Test: 0.7840| Eval Time: 0.3250s\n",
      "Epoch 40| Loss: 0.0069| Acc: 1.0000| Train Time: 0.0420s\n"
     ]
    },
    {
     "output_type": "stream",
     "name": "stderr",
     "text": [
      "Evaluating: 100%|██████████| 5416/5416 [00:00<00:00, 16529.31it/s]\n"
     ]
    },
    {
     "output_type": "stream",
     "name": "stdout",
     "text": [
      "Train: 1.0000| Val: 0.7560| Test: 0.7830| Eval Time: 0.3337s\n",
      "Epoch 41| Loss: 0.0082| Acc: 1.0000| Train Time: 0.0450s\n"
     ]
    },
    {
     "output_type": "stream",
     "name": "stderr",
     "text": [
      "Evaluating: 100%|██████████| 5416/5416 [00:00<00:00, 16895.40it/s]\n"
     ]
    },
    {
     "output_type": "stream",
     "name": "stdout",
     "text": [
      "Train: 1.0000| Val: 0.7540| Test: 0.7830| Eval Time: 0.3276s\n",
      "Epoch 42| Loss: 0.0100| Acc: 1.0000| Train Time: 0.0425s\n"
     ]
    },
    {
     "output_type": "stream",
     "name": "stderr",
     "text": [
      "Evaluating: 100%|██████████| 5416/5416 [00:00<00:00, 17245.62it/s]\n"
     ]
    },
    {
     "output_type": "stream",
     "name": "stdout",
     "text": [
      "Train: 1.0000| Val: 0.7520| Test: 0.7830| Eval Time: 0.3180s\n",
      "Epoch 43| Loss: 0.0025| Acc: 1.0000| Train Time: 0.0460s\n"
     ]
    },
    {
     "output_type": "stream",
     "name": "stderr",
     "text": [
      "Evaluating: 100%|██████████| 5416/5416 [00:00<00:00, 16693.29it/s]\n"
     ]
    },
    {
     "output_type": "stream",
     "name": "stdout",
     "text": [
      "Train: 1.0000| Val: 0.7500| Test: 0.7840| Eval Time: 0.3284s\n",
      "Epoch 44| Loss: 0.0146| Acc: 1.0000| Train Time: 0.0530s\n"
     ]
    },
    {
     "output_type": "stream",
     "name": "stderr",
     "text": [
      "Evaluating: 100%|██████████| 5416/5416 [00:00<00:00, 17756.29it/s]\n"
     ]
    },
    {
     "output_type": "stream",
     "name": "stdout",
     "text": [
      "Train: 1.0000| Val: 0.7500| Test: 0.7840| Eval Time: 0.3100s\n",
      "Epoch 45| Loss: 0.0084| Acc: 1.0000| Train Time: 0.0450s\n"
     ]
    },
    {
     "output_type": "stream",
     "name": "stderr",
     "text": [
      "Evaluating: 100%|██████████| 5416/5416 [00:00<00:00, 16811.90it/s]\n"
     ]
    },
    {
     "output_type": "stream",
     "name": "stdout",
     "text": [
      "Train: 1.0000| Val: 0.7500| Test: 0.7840| Eval Time: 0.3282s\n",
      "Epoch 46| Loss: 0.0051| Acc: 1.0000| Train Time: 0.0480s\n"
     ]
    },
    {
     "output_type": "stream",
     "name": "stderr",
     "text": [
      "Evaluating: 100%|██████████| 5416/5416 [00:00<00:00, 17165.53it/s]\n"
     ]
    },
    {
     "output_type": "stream",
     "name": "stdout",
     "text": [
      "Train: 1.0000| Val: 0.7520| Test: 0.7840| Eval Time: 0.3215s\n",
      "Epoch 47| Loss: 0.0128| Acc: 1.0000| Train Time: 0.0390s\n"
     ]
    },
    {
     "output_type": "stream",
     "name": "stderr",
     "text": [
      "Evaluating: 100%|██████████| 5416/5416 [00:00<00:00, 17873.34it/s]\n"
     ]
    },
    {
     "output_type": "stream",
     "name": "stdout",
     "text": [
      "Train: 1.0000| Val: 0.7520| Test: 0.7830| Eval Time: 0.3110s\n",
      "Epoch 48| Loss: 0.0020| Acc: 1.0000| Train Time: 0.0420s\n"
     ]
    },
    {
     "output_type": "stream",
     "name": "stderr",
     "text": [
      "Evaluating: 100%|██████████| 5416/5416 [00:00<00:00, 17028.74it/s]\n"
     ]
    },
    {
     "output_type": "stream",
     "name": "stdout",
     "text": [
      "Train: 1.0000| Val: 0.7520| Test: 0.7830| Eval Time: 0.3241s\n",
      "Epoch 49| Loss: 0.0081| Acc: 1.0000| Train Time: 0.0500s\n"
     ]
    },
    {
     "output_type": "stream",
     "name": "stderr",
     "text": [
      "Evaluating: 100%|██████████| 5416/5416 [00:00<00:00, 16680.34it/s]\n"
     ]
    },
    {
     "output_type": "stream",
     "name": "stdout",
     "text": [
      "Train: 1.0000| Val: 0.7520| Test: 0.7820| Eval Time: 0.3297s\n",
      "Epoch 50| Loss: 0.0033| Acc: 1.0000| Train Time: 0.0450s\n"
     ]
    },
    {
     "output_type": "stream",
     "name": "stderr",
     "text": [
      "Evaluating: 100%|██████████| 5416/5416 [00:00<00:00, 17670.02it/s]\n"
     ]
    },
    {
     "output_type": "stream",
     "name": "stdout",
     "text": [
      "Train: 1.0000| Val: 0.7520| Test: 0.7820| Eval Time: 0.3125s\n",
      "Epoch 51| Loss: 0.0052| Acc: 1.0000| Train Time: 0.0445s\n"
     ]
    },
    {
     "output_type": "stream",
     "name": "stderr",
     "text": [
      "Evaluating: 100%|██████████| 5416/5416 [00:00<00:00, 16609.47it/s]\n"
     ]
    },
    {
     "output_type": "stream",
     "name": "stdout",
     "text": [
      "Train: 1.0000| Val: 0.7520| Test: 0.7820| Eval Time: 0.3301s\n",
      "Epoch 52| Loss: 0.0047| Acc: 1.0000| Train Time: 0.0460s\n"
     ]
    },
    {
     "output_type": "stream",
     "name": "stderr",
     "text": [
      "Evaluating: 100%|██████████| 5416/5416 [00:00<00:00, 16262.94it/s]\n"
     ]
    },
    {
     "output_type": "stream",
     "name": "stdout",
     "text": [
      "Train: 1.0000| Val: 0.7520| Test: 0.7820| Eval Time: 0.3380s\n",
      "Epoch 53| Loss: 0.0024| Acc: 1.0000| Train Time: 0.0501s\n"
     ]
    },
    {
     "output_type": "stream",
     "name": "stderr",
     "text": [
      "Evaluating: 100%|██████████| 5416/5416 [00:00<00:00, 16926.06it/s]\n"
     ]
    },
    {
     "output_type": "stream",
     "name": "stdout",
     "text": [
      "Train: 1.0000| Val: 0.7520| Test: 0.7820| Eval Time: 0.3290s\n",
      "Epoch 54| Loss: 0.0033| Acc: 1.0000| Train Time: 0.0440s\n"
     ]
    },
    {
     "output_type": "stream",
     "name": "stderr",
     "text": [
      "Evaluating: 100%|██████████| 5416/5416 [00:00<00:00, 16777.17it/s]\n"
     ]
    },
    {
     "output_type": "stream",
     "name": "stdout",
     "text": [
      "Train: 1.0000| Val: 0.7520| Test: 0.7820| Eval Time: 0.3268s\n",
      "Epoch 55| Loss: 0.0038| Acc: 1.0000| Train Time: 0.0470s\n"
     ]
    },
    {
     "output_type": "stream",
     "name": "stderr",
     "text": [
      "Evaluating: 100%|██████████| 5416/5416 [00:00<00:00, 17303.27it/s]\n"
     ]
    },
    {
     "output_type": "stream",
     "name": "stdout",
     "text": [
      "Train: 1.0000| Val: 0.7520| Test: 0.7820| Eval Time: 0.3180s\n",
      "\n",
      "Result of  1. run| Train: 0.9857| Val: 0.7640| Test: 0.7930\n",
      "\n",
      "Run 02 for GatV1_K2_s and Cora:\n"
     ]
    },
    {
     "output_type": "stream",
     "name": "stderr",
     "text": [
      "Epoch 01: 100%|██████████| 140/140 [00:00<00:00, 2559.31it/s]\n"
     ]
    },
    {
     "output_type": "stream",
     "name": "stdout",
     "text": [
      "Epoch 01| Loss: 2.0379| Acc: 0.1357| Train Time: 0.0597s\n"
     ]
    },
    {
     "output_type": "stream",
     "name": "stderr",
     "text": [
      "Evaluating: 100%|██████████| 5416/5416 [00:00<00:00, 17031.47it/s]\n"
     ]
    },
    {
     "output_type": "stream",
     "name": "stdout",
     "text": [
      "Train: 0.8786| Val: 0.6640| Test: 0.6750| Eval Time: 0.3220s\n",
      "Epoch 02| Loss: 1.3885| Acc: 0.7214| Train Time: 0.0420s\n"
     ]
    },
    {
     "output_type": "stream",
     "name": "stderr",
     "text": [
      "Evaluating: 100%|██████████| 5416/5416 [00:00<00:00, 16336.87it/s]\n"
     ]
    },
    {
     "output_type": "stream",
     "name": "stdout",
     "text": [
      "Train: 0.9500| Val: 0.7320| Test: 0.7330| Eval Time: 0.3365s\n",
      "Epoch 03| Loss: 1.0777| Acc: 0.8500| Train Time: 0.0420s\n"
     ]
    },
    {
     "output_type": "stream",
     "name": "stderr",
     "text": [
      "Evaluating: 100%|██████████| 5416/5416 [00:00<00:00, 17185.77it/s]\n"
     ]
    },
    {
     "output_type": "stream",
     "name": "stdout",
     "text": [
      "Train: 0.9500| Val: 0.7220| Test: 0.7330| Eval Time: 0.3201s\n",
      "Epoch 04| Loss: 0.8642| Acc: 0.8857| Train Time: 0.0445s\n"
     ]
    },
    {
     "output_type": "stream",
     "name": "stderr",
     "text": [
      "Evaluating: 100%|██████████| 5416/5416 [00:00<00:00, 13091.27it/s]\n"
     ]
    },
    {
     "output_type": "stream",
     "name": "stdout",
     "text": [
      "Train: 0.9857| Val: 0.7380| Test: 0.7480| Eval Time: 0.4207s\n",
      "Epoch 05| Loss: 0.6392| Acc: 0.9571| Train Time: 0.0460s\n"
     ]
    },
    {
     "output_type": "stream",
     "name": "stderr",
     "text": [
      "Evaluating: 100%|██████████| 5416/5416 [00:00<00:00, 14879.13it/s]\n"
     ]
    },
    {
     "output_type": "stream",
     "name": "stdout",
     "text": [
      "Train: 0.9857| Val: 0.7540| Test: 0.7680| Eval Time: 0.3690s\n",
      "Epoch 06| Loss: 0.5458| Acc: 0.9714| Train Time: 0.0460s\n"
     ]
    },
    {
     "output_type": "stream",
     "name": "stderr",
     "text": [
      "Evaluating: 100%|██████████| 5416/5416 [00:00<00:00, 12247.50it/s]\n"
     ]
    },
    {
     "output_type": "stream",
     "name": "stdout",
     "text": [
      "Train: 0.9929| Val: 0.7740| Test: 0.7650| Eval Time: 0.4522s\n",
      "Epoch 07| Loss: 0.4877| Acc: 0.9643| Train Time: 0.0550s\n"
     ]
    },
    {
     "output_type": "stream",
     "name": "stderr",
     "text": [
      "Evaluating: 100%|██████████| 5416/5416 [00:00<00:00, 15549.60it/s]\n"
     ]
    },
    {
     "output_type": "stream",
     "name": "stdout",
     "text": [
      "Train: 1.0000| Val: 0.7800| Test: 0.7680| Eval Time: 0.3533s\n",
      "Epoch 08| Loss: 0.3403| Acc: 0.9714| Train Time: 0.0440s\n"
     ]
    },
    {
     "output_type": "stream",
     "name": "stderr",
     "text": [
      "Evaluating: 100%|██████████| 5416/5416 [00:00<00:00, 16574.12it/s]\n"
     ]
    },
    {
     "output_type": "stream",
     "name": "stdout",
     "text": [
      "Train: 1.0000| Val: 0.7760| Test: 0.7750| Eval Time: 0.3338s\n",
      "Epoch 09| Loss: 0.2694| Acc: 0.9857| Train Time: 0.0450s\n"
     ]
    },
    {
     "output_type": "stream",
     "name": "stderr",
     "text": [
      "Evaluating: 100%|██████████| 5416/5416 [00:00<00:00, 17102.76it/s]\n"
     ]
    },
    {
     "output_type": "stream",
     "name": "stdout",
     "text": [
      "Train: 1.0000| Val: 0.7740| Test: 0.7760| Eval Time: 0.3227s\n",
      "Epoch 10| Loss: 0.2235| Acc: 0.9786| Train Time: 0.0450s\n"
     ]
    },
    {
     "output_type": "stream",
     "name": "stderr",
     "text": [
      "Evaluating: 100%|██████████| 5416/5416 [00:00<00:00, 17933.28it/s]\n"
     ]
    },
    {
     "output_type": "stream",
     "name": "stdout",
     "text": [
      "Train: 1.0000| Val: 0.7740| Test: 0.7780| Eval Time: 0.3066s\n",
      "Epoch 11| Loss: 0.2125| Acc: 0.9929| Train Time: 0.0420s\n"
     ]
    },
    {
     "output_type": "stream",
     "name": "stderr",
     "text": [
      "Evaluating: 100%|██████████| 5416/5416 [00:00<00:00, 17055.84it/s]\n"
     ]
    },
    {
     "output_type": "stream",
     "name": "stdout",
     "text": [
      "Train: 1.0000| Val: 0.7740| Test: 0.7810| Eval Time: 0.3245s\n",
      "Epoch 12| Loss: 0.2029| Acc: 0.9714| Train Time: 0.0400s\n"
     ]
    },
    {
     "output_type": "stream",
     "name": "stderr",
     "text": [
      "Evaluating: 100%|██████████| 5416/5416 [00:00<00:00, 16484.67it/s]\n"
     ]
    },
    {
     "output_type": "stream",
     "name": "stdout",
     "text": [
      "Train: 1.0000| Val: 0.7620| Test: 0.7780| Eval Time: 0.3325s\n",
      "Epoch 13| Loss: 0.1306| Acc: 0.9929| Train Time: 0.0450s\n"
     ]
    },
    {
     "output_type": "stream",
     "name": "stderr",
     "text": [
      "Evaluating: 100%|██████████| 5416/5416 [00:00<00:00, 16885.99it/s]\n"
     ]
    },
    {
     "output_type": "stream",
     "name": "stdout",
     "text": [
      "Train: 1.0000| Val: 0.7640| Test: 0.7680| Eval Time: 0.3277s\n",
      "Epoch 14| Loss: 0.1230| Acc: 0.9929| Train Time: 0.0440s\n"
     ]
    },
    {
     "output_type": "stream",
     "name": "stderr",
     "text": [
      "Evaluating: 100%|██████████| 5416/5416 [00:00<00:00, 16767.80it/s]\n"
     ]
    },
    {
     "output_type": "stream",
     "name": "stdout",
     "text": [
      "Train: 1.0000| Val: 0.7600| Test: 0.7670| Eval Time: 0.3300s\n",
      "Epoch 15| Loss: 0.1224| Acc: 0.9929| Train Time: 0.0440s\n"
     ]
    },
    {
     "output_type": "stream",
     "name": "stderr",
     "text": [
      "Evaluating: 100%|██████████| 5416/5416 [00:00<00:00, 17440.34it/s]\n"
     ]
    },
    {
     "output_type": "stream",
     "name": "stdout",
     "text": [
      "Train: 1.0000| Val: 0.7660| Test: 0.7650| Eval Time: 0.3185s\n",
      "Epoch 16| Loss: 0.0851| Acc: 0.9929| Train Time: 0.0440s\n"
     ]
    },
    {
     "output_type": "stream",
     "name": "stderr",
     "text": [
      "Evaluating: 100%|██████████| 5416/5416 [00:00<00:00, 17162.51it/s]\n"
     ]
    },
    {
     "output_type": "stream",
     "name": "stdout",
     "text": [
      "Train: 1.0000| Val: 0.7600| Test: 0.7630| Eval Time: 0.3226s\n",
      "Epoch 17| Loss: 0.0666| Acc: 0.9929| Train Time: 0.0400s\n"
     ]
    },
    {
     "output_type": "stream",
     "name": "stderr",
     "text": [
      "Evaluating: 100%|██████████| 5416/5416 [00:00<00:00, 16772.34it/s]\n"
     ]
    },
    {
     "output_type": "stream",
     "name": "stdout",
     "text": [
      "Train: 1.0000| Val: 0.7540| Test: 0.7620| Eval Time: 0.3289s\n",
      "Epoch 18| Loss: 0.0562| Acc: 0.9929| Train Time: 0.0380s\n"
     ]
    },
    {
     "output_type": "stream",
     "name": "stderr",
     "text": [
      "Evaluating: 100%|██████████| 5416/5416 [00:00<00:00, 15583.64it/s]\n"
     ]
    },
    {
     "output_type": "stream",
     "name": "stdout",
     "text": [
      "Train: 1.0000| Val: 0.7500| Test: 0.7550| Eval Time: 0.3556s\n",
      "Epoch 19| Loss: 0.0569| Acc: 1.0000| Train Time: 0.0400s\n"
     ]
    },
    {
     "output_type": "stream",
     "name": "stderr",
     "text": [
      "Evaluating: 100%|██████████| 5416/5416 [00:00<00:00, 16870.78it/s]\n"
     ]
    },
    {
     "output_type": "stream",
     "name": "stdout",
     "text": [
      "Train: 1.0000| Val: 0.7500| Test: 0.7500| Eval Time: 0.3270s\n",
      "Epoch 20| Loss: 0.0656| Acc: 1.0000| Train Time: 0.0460s\n"
     ]
    },
    {
     "output_type": "stream",
     "name": "stderr",
     "text": [
      "Evaluating: 100%|██████████| 5416/5416 [00:00<00:00, 16780.09it/s]\n"
     ]
    },
    {
     "output_type": "stream",
     "name": "stdout",
     "text": [
      "Train: 1.0000| Val: 0.7480| Test: 0.7500| Eval Time: 0.3278s\n",
      "Epoch 21| Loss: 0.0338| Acc: 1.0000| Train Time: 0.0440s\n"
     ]
    },
    {
     "output_type": "stream",
     "name": "stderr",
     "text": [
      "Evaluating: 100%|██████████| 5416/5416 [00:00<00:00, 16996.56it/s]\n"
     ]
    },
    {
     "output_type": "stream",
     "name": "stdout",
     "text": [
      "Train: 1.0000| Val: 0.7420| Test: 0.7530| Eval Time: 0.3237s\n",
      "Epoch 22| Loss: 0.0319| Acc: 1.0000| Train Time: 0.0421s\n"
     ]
    },
    {
     "output_type": "stream",
     "name": "stderr",
     "text": [
      "Evaluating: 100%|██████████| 5416/5416 [00:00<00:00, 16767.41it/s]\n"
     ]
    },
    {
     "output_type": "stream",
     "name": "stdout",
     "text": [
      "Train: 1.0000| Val: 0.7420| Test: 0.7560| Eval Time: 0.3280s\n",
      "Epoch 23| Loss: 0.0259| Acc: 1.0000| Train Time: 0.0400s\n"
     ]
    },
    {
     "output_type": "stream",
     "name": "stderr",
     "text": [
      "Evaluating: 100%|██████████| 5416/5416 [00:00<00:00, 16321.35it/s]\n"
     ]
    },
    {
     "output_type": "stream",
     "name": "stdout",
     "text": [
      "Train: 1.0000| Val: 0.7380| Test: 0.7580| Eval Time: 0.3378s\n",
      "Epoch 24| Loss: 0.0356| Acc: 1.0000| Train Time: 0.0480s\n"
     ]
    },
    {
     "output_type": "stream",
     "name": "stderr",
     "text": [
      "Evaluating: 100%|██████████| 5416/5416 [00:00<00:00, 16839.03it/s]\n"
     ]
    },
    {
     "output_type": "stream",
     "name": "stdout",
     "text": [
      "Train: 1.0000| Val: 0.7340| Test: 0.7580| Eval Time: 0.3266s\n",
      "Epoch 25| Loss: 0.0130| Acc: 1.0000| Train Time: 0.0470s\n"
     ]
    },
    {
     "output_type": "stream",
     "name": "stderr",
     "text": [
      "Evaluating: 100%|██████████| 5416/5416 [00:00<00:00, 16925.04it/s]\n"
     ]
    },
    {
     "output_type": "stream",
     "name": "stdout",
     "text": [
      "Train: 1.0000| Val: 0.7360| Test: 0.7590| Eval Time: 0.3270s\n",
      "Epoch 26| Loss: 0.0276| Acc: 1.0000| Train Time: 0.0450s\n"
     ]
    },
    {
     "output_type": "stream",
     "name": "stderr",
     "text": [
      "Evaluating: 100%|██████████| 5416/5416 [00:00<00:00, 16838.64it/s]\n"
     ]
    },
    {
     "output_type": "stream",
     "name": "stdout",
     "text": [
      "Train: 1.0000| Val: 0.7380| Test: 0.7590| Eval Time: 0.3266s\n",
      "Epoch 27| Loss: 0.0144| Acc: 1.0000| Train Time: 0.0430s\n"
     ]
    },
    {
     "output_type": "stream",
     "name": "stderr",
     "text": [
      "Evaluating: 100%|██████████| 5416/5416 [00:00<00:00, 17358.40it/s]\n"
     ]
    },
    {
     "output_type": "stream",
     "name": "stdout",
     "text": [
      "Train: 1.0000| Val: 0.7440| Test: 0.7620| Eval Time: 0.3190s\n",
      "Epoch 28| Loss: 0.0197| Acc: 1.0000| Train Time: 0.0420s\n"
     ]
    },
    {
     "output_type": "stream",
     "name": "stderr",
     "text": [
      "Evaluating: 100%|██████████| 5416/5416 [00:00<00:00, 17364.36it/s]\n"
     ]
    },
    {
     "output_type": "stream",
     "name": "stdout",
     "text": [
      "Train: 1.0000| Val: 0.7440| Test: 0.7650| Eval Time: 0.3169s\n",
      "Epoch 29| Loss: 0.0159| Acc: 1.0000| Train Time: 0.0400s\n"
     ]
    },
    {
     "output_type": "stream",
     "name": "stderr",
     "text": [
      "Evaluating: 100%|██████████| 5416/5416 [00:00<00:00, 16486.95it/s]\n"
     ]
    },
    {
     "output_type": "stream",
     "name": "stdout",
     "text": [
      "Train: 1.0000| Val: 0.7440| Test: 0.7670| Eval Time: 0.3365s\n",
      "Epoch 30| Loss: 0.0131| Acc: 1.0000| Train Time: 0.0410s\n"
     ]
    },
    {
     "output_type": "stream",
     "name": "stderr",
     "text": [
      "Evaluating: 100%|██████████| 5416/5416 [00:00<00:00, 17248.52it/s]\n"
     ]
    },
    {
     "output_type": "stream",
     "name": "stdout",
     "text": [
      "Train: 1.0000| Val: 0.7440| Test: 0.7660| Eval Time: 0.3210s\n",
      "Epoch 31| Loss: 0.0147| Acc: 1.0000| Train Time: 0.0410s\n"
     ]
    },
    {
     "output_type": "stream",
     "name": "stderr",
     "text": [
      "Evaluating: 100%|██████████| 5416/5416 [00:00<00:00, 16458.39it/s]\n"
     ]
    },
    {
     "output_type": "stream",
     "name": "stdout",
     "text": [
      "Train: 1.0000| Val: 0.7440| Test: 0.7670| Eval Time: 0.3351s\n",
      "Epoch 32| Loss: 0.0224| Acc: 1.0000| Train Time: 0.0490s\n"
     ]
    },
    {
     "output_type": "stream",
     "name": "stderr",
     "text": [
      "Evaluating: 100%|██████████| 5416/5416 [00:00<00:00, 17993.51it/s]\n"
     ]
    },
    {
     "output_type": "stream",
     "name": "stdout",
     "text": [
      "Train: 1.0000| Val: 0.7420| Test: 0.7660| Eval Time: 0.3060s\n",
      "Epoch 33| Loss: 0.0049| Acc: 1.0000| Train Time: 0.0480s\n"
     ]
    },
    {
     "output_type": "stream",
     "name": "stderr",
     "text": [
      "Evaluating: 100%|██████████| 5416/5416 [00:00<00:00, 17026.02it/s]\n"
     ]
    },
    {
     "output_type": "stream",
     "name": "stdout",
     "text": [
      "Train: 1.0000| Val: 0.7380| Test: 0.7650| Eval Time: 0.3230s\n",
      "Epoch 34| Loss: 0.0155| Acc: 1.0000| Train Time: 0.0465s\n"
     ]
    },
    {
     "output_type": "stream",
     "name": "stderr",
     "text": [
      "Evaluating: 100%|██████████| 5416/5416 [00:00<00:00, 17045.31it/s]\n"
     ]
    },
    {
     "output_type": "stream",
     "name": "stdout",
     "text": [
      "Train: 1.0000| Val: 0.7380| Test: 0.7650| Eval Time: 0.3227s\n",
      "Epoch 35| Loss: 0.0065| Acc: 1.0000| Train Time: 0.0375s\n"
     ]
    },
    {
     "output_type": "stream",
     "name": "stderr",
     "text": [
      "Evaluating: 100%|██████████| 5416/5416 [00:00<00:00, 16140.02it/s]\n"
     ]
    },
    {
     "output_type": "stream",
     "name": "stdout",
     "text": [
      "Train: 1.0000| Val: 0.7380| Test: 0.7660| Eval Time: 0.3406s\n",
      "Epoch 36| Loss: 0.0116| Acc: 1.0000| Train Time: 0.0470s\n"
     ]
    },
    {
     "output_type": "stream",
     "name": "stderr",
     "text": [
      "Evaluating: 100%|██████████| 5416/5416 [00:00<00:00, 17815.89it/s]\n"
     ]
    },
    {
     "output_type": "stream",
     "name": "stdout",
     "text": [
      "Train: 1.0000| Val: 0.7380| Test: 0.7660| Eval Time: 0.3100s\n",
      "Epoch 37| Loss: 0.0090| Acc: 1.0000| Train Time: 0.0430s\n"
     ]
    },
    {
     "output_type": "stream",
     "name": "stderr",
     "text": [
      "Evaluating: 100%|██████████| 5416/5416 [00:00<00:00, 17467.83it/s]\n"
     ]
    },
    {
     "output_type": "stream",
     "name": "stdout",
     "text": [
      "Train: 1.0000| Val: 0.7380| Test: 0.7650| Eval Time: 0.3151s\n",
      "Epoch 38| Loss: 0.0103| Acc: 1.0000| Train Time: 0.0400s\n"
     ]
    },
    {
     "output_type": "stream",
     "name": "stderr",
     "text": [
      "Evaluating: 100%|██████████| 5416/5416 [00:00<00:00, 17133.81it/s]\n"
     ]
    },
    {
     "output_type": "stream",
     "name": "stdout",
     "text": [
      "Train: 1.0000| Val: 0.7340| Test: 0.7630| Eval Time: 0.3211s\n",
      "Epoch 39| Loss: 0.0137| Acc: 1.0000| Train Time: 0.0480s\n"
     ]
    },
    {
     "output_type": "stream",
     "name": "stderr",
     "text": [
      "Evaluating: 100%|██████████| 5416/5416 [00:00<00:00, 17614.34it/s]\n"
     ]
    },
    {
     "output_type": "stream",
     "name": "stdout",
     "text": [
      "Train: 1.0000| Val: 0.7360| Test: 0.7620| Eval Time: 0.3125s\n",
      "Epoch 40| Loss: 0.0037| Acc: 1.0000| Train Time: 0.0410s\n"
     ]
    },
    {
     "output_type": "stream",
     "name": "stderr",
     "text": [
      "Evaluating: 100%|██████████| 5416/5416 [00:00<00:00, 16328.50it/s]\n"
     ]
    },
    {
     "output_type": "stream",
     "name": "stdout",
     "text": [
      "Train: 1.0000| Val: 0.7380| Test: 0.7620| Eval Time: 0.3387s\n",
      "Epoch 41| Loss: 0.0063| Acc: 1.0000| Train Time: 0.0440s\n"
     ]
    },
    {
     "output_type": "stream",
     "name": "stderr",
     "text": [
      "Evaluating: 100%|██████████| 5416/5416 [00:00<00:00, 16664.75it/s]\n"
     ]
    },
    {
     "output_type": "stream",
     "name": "stdout",
     "text": [
      "Train: 1.0000| Val: 0.7380| Test: 0.7610| Eval Time: 0.3300s\n",
      "Epoch 42| Loss: 0.0055| Acc: 1.0000| Train Time: 0.0410s\n"
     ]
    },
    {
     "output_type": "stream",
     "name": "stderr",
     "text": [
      "Evaluating: 100%|██████████| 5416/5416 [00:00<00:00, 17353.88it/s]\n"
     ]
    },
    {
     "output_type": "stream",
     "name": "stdout",
     "text": [
      "Train: 1.0000| Val: 0.7380| Test: 0.7610| Eval Time: 0.3171s\n",
      "Epoch 43| Loss: 0.0080| Acc: 1.0000| Train Time: 0.0516s\n"
     ]
    },
    {
     "output_type": "stream",
     "name": "stderr",
     "text": [
      "Evaluating: 100%|██████████| 5416/5416 [00:00<00:00, 17273.24it/s]\n"
     ]
    },
    {
     "output_type": "stream",
     "name": "stdout",
     "text": [
      "Train: 1.0000| Val: 0.7400| Test: 0.7620| Eval Time: 0.3206s\n",
      "Epoch 44| Loss: 0.0058| Acc: 1.0000| Train Time: 0.0420s\n"
     ]
    },
    {
     "output_type": "stream",
     "name": "stderr",
     "text": [
      "Evaluating: 100%|██████████| 5416/5416 [00:00<00:00, 17697.42it/s]\n"
     ]
    },
    {
     "output_type": "stream",
     "name": "stdout",
     "text": [
      "Train: 1.0000| Val: 0.7400| Test: 0.7620| Eval Time: 0.3110s\n",
      "Epoch 45| Loss: 0.0040| Acc: 1.0000| Train Time: 0.0440s\n"
     ]
    },
    {
     "output_type": "stream",
     "name": "stderr",
     "text": [
      "Evaluating: 100%|██████████| 5416/5416 [00:00<00:00, 16765.58it/s]\n"
     ]
    },
    {
     "output_type": "stream",
     "name": "stdout",
     "text": [
      "Train: 1.0000| Val: 0.7400| Test: 0.7620| Eval Time: 0.3290s\n",
      "Epoch 46| Loss: 0.0030| Acc: 1.0000| Train Time: 0.0430s\n"
     ]
    },
    {
     "output_type": "stream",
     "name": "stderr",
     "text": [
      "Evaluating: 100%|██████████| 5416/5416 [00:00<00:00, 17030.25it/s]\n"
     ]
    },
    {
     "output_type": "stream",
     "name": "stdout",
     "text": [
      "Train: 1.0000| Val: 0.7400| Test: 0.7600| Eval Time: 0.3230s\n",
      "Epoch 47| Loss: 0.0058| Acc: 1.0000| Train Time: 0.0400s\n"
     ]
    },
    {
     "output_type": "stream",
     "name": "stderr",
     "text": [
      "Evaluating: 100%|██████████| 5416/5416 [00:00<00:00, 16872.27it/s]\n"
     ]
    },
    {
     "output_type": "stream",
     "name": "stdout",
     "text": [
      "Train: 1.0000| Val: 0.7400| Test: 0.7600| Eval Time: 0.3260s\n",
      "Epoch 48| Loss: 0.0037| Acc: 1.0000| Train Time: 0.0470s\n"
     ]
    },
    {
     "output_type": "stream",
     "name": "stderr",
     "text": [
      "Evaluating: 100%|██████████| 5416/5416 [00:00<00:00, 16610.39it/s]\n"
     ]
    },
    {
     "output_type": "stream",
     "name": "stdout",
     "text": [
      "Train: 1.0000| Val: 0.7400| Test: 0.7600| Eval Time: 0.3311s\n",
      "Epoch 49| Loss: 0.0038| Acc: 1.0000| Train Time: 0.0455s\n"
     ]
    },
    {
     "output_type": "stream",
     "name": "stderr",
     "text": [
      "Evaluating: 100%|██████████| 5416/5416 [00:00<00:00, 17239.11it/s]\n"
     ]
    },
    {
     "output_type": "stream",
     "name": "stdout",
     "text": [
      "Train: 1.0000| Val: 0.7400| Test: 0.7600| Eval Time: 0.3192s\n",
      "Epoch 50| Loss: 0.0021| Acc: 1.0000| Train Time: 0.0390s\n"
     ]
    },
    {
     "output_type": "stream",
     "name": "stderr",
     "text": [
      "Evaluating: 100%|██████████| 5416/5416 [00:00<00:00, 16982.49it/s]\n"
     ]
    },
    {
     "output_type": "stream",
     "name": "stdout",
     "text": [
      "Train: 1.0000| Val: 0.7440| Test: 0.7620| Eval Time: 0.3269s\n",
      "Epoch 51| Loss: 0.0028| Acc: 1.0000| Train Time: 0.0390s\n"
     ]
    },
    {
     "output_type": "stream",
     "name": "stderr",
     "text": [
      "Evaluating: 100%|██████████| 5416/5416 [00:00<00:00, 17330.41it/s]\n"
     ]
    },
    {
     "output_type": "stream",
     "name": "stdout",
     "text": [
      "Train: 1.0000| Val: 0.7460| Test: 0.7630| Eval Time: 0.3185s\n",
      "Epoch 52| Loss: 0.0041| Acc: 1.0000| Train Time: 0.0420s\n"
     ]
    },
    {
     "output_type": "stream",
     "name": "stderr",
     "text": [
      "Evaluating: 100%|██████████| 5416/5416 [00:00<00:00, 16522.95it/s]\n"
     ]
    },
    {
     "output_type": "stream",
     "name": "stdout",
     "text": [
      "Train: 1.0000| Val: 0.7460| Test: 0.7630| Eval Time: 0.3328s\n",
      "Epoch 53| Loss: 0.0037| Acc: 1.0000| Train Time: 0.0400s\n"
     ]
    },
    {
     "output_type": "stream",
     "name": "stderr",
     "text": [
      "Evaluating: 100%|██████████| 5416/5416 [00:00<00:00, 16118.63it/s]\n"
     ]
    },
    {
     "output_type": "stream",
     "name": "stdout",
     "text": [
      "Train: 1.0000| Val: 0.7460| Test: 0.7640| Eval Time: 0.3410s\n",
      "Epoch 54| Loss: 0.0051| Acc: 1.0000| Train Time: 0.0460s\n"
     ]
    },
    {
     "output_type": "stream",
     "name": "stderr",
     "text": [
      "Evaluating: 100%|██████████| 5416/5416 [00:00<00:00, 17140.48it/s]\n"
     ]
    },
    {
     "output_type": "stream",
     "name": "stdout",
     "text": [
      "Train: 1.0000| Val: 0.7460| Test: 0.7650| Eval Time: 0.3205s\n",
      "Epoch 55| Loss: 0.0049| Acc: 1.0000| Train Time: 0.0441s\n"
     ]
    },
    {
     "output_type": "stream",
     "name": "stderr",
     "text": [
      "Evaluating: 100%|██████████| 5416/5416 [00:00<00:00, 16231.96it/s]\n"
     ]
    },
    {
     "output_type": "stream",
     "name": "stdout",
     "text": [
      "Train: 1.0000| Val: 0.7460| Test: 0.7660| Eval Time: 0.3383s\n",
      "Epoch 56| Loss: 0.0038| Acc: 1.0000| Train Time: 0.0480s\n"
     ]
    },
    {
     "output_type": "stream",
     "name": "stderr",
     "text": [
      "Evaluating: 100%|██████████| 5416/5416 [00:00<00:00, 15756.87it/s]\n"
     ]
    },
    {
     "output_type": "stream",
     "name": "stdout",
     "text": [
      "Train: 1.0000| Val: 0.7460| Test: 0.7670| Eval Time: 0.3487s\n",
      "Epoch 57| Loss: 0.0025| Acc: 1.0000| Train Time: 0.0480s\n"
     ]
    },
    {
     "output_type": "stream",
     "name": "stderr",
     "text": [
      "Evaluating: 100%|██████████| 5416/5416 [00:00<00:00, 17414.78it/s]\n"
     ]
    },
    {
     "output_type": "stream",
     "name": "stdout",
     "text": [
      "Train: 1.0000| Val: 0.7440| Test: 0.7670| Eval Time: 0.3160s\n",
      "\n",
      "Result of  2. run| Train: 1.0000| Val: 0.7800| Test: 0.7680\n",
      "\n",
      "Run 03 for GatV1_K2_s and Cora:\n"
     ]
    },
    {
     "output_type": "stream",
     "name": "stderr",
     "text": [
      "Epoch 01: 100%|██████████| 140/140 [00:00<00:00, 2978.76it/s]\n"
     ]
    },
    {
     "output_type": "stream",
     "name": "stdout",
     "text": [
      "Epoch 01| Loss: 1.9680| Acc: 0.1714| Train Time: 0.0500s\n"
     ]
    },
    {
     "output_type": "stream",
     "name": "stderr",
     "text": [
      "Evaluating: 100%|██████████| 5416/5416 [00:00<00:00, 16382.68it/s]\n"
     ]
    },
    {
     "output_type": "stream",
     "name": "stdout",
     "text": [
      "Train: 0.8714| Val: 0.6380| Test: 0.6600| Eval Time: 0.3356s\n",
      "Epoch 02| Loss: 1.4440| Acc: 0.7357| Train Time: 0.0440s\n"
     ]
    },
    {
     "output_type": "stream",
     "name": "stderr",
     "text": [
      "Evaluating: 100%|██████████| 5416/5416 [00:00<00:00, 17665.06it/s]\n"
     ]
    },
    {
     "output_type": "stream",
     "name": "stdout",
     "text": [
      "Train: 0.9214| Val: 0.7260| Test: 0.7430| Eval Time: 0.3116s\n",
      "Epoch 03| Loss: 1.0307| Acc: 0.8571| Train Time: 0.0460s\n"
     ]
    },
    {
     "output_type": "stream",
     "name": "stderr",
     "text": [
      "Evaluating: 100%|██████████| 5416/5416 [00:00<00:00, 17303.52it/s]\n"
     ]
    },
    {
     "output_type": "stream",
     "name": "stdout",
     "text": [
      "Train: 0.9357| Val: 0.7720| Test: 0.7860| Eval Time: 0.3180s\n",
      "Epoch 04| Loss: 0.7844| Acc: 0.8857| Train Time: 0.0380s\n"
     ]
    },
    {
     "output_type": "stream",
     "name": "stderr",
     "text": [
      "Evaluating: 100%|██████████| 5416/5416 [00:00<00:00, 16758.30it/s]\n"
     ]
    },
    {
     "output_type": "stream",
     "name": "stdout",
     "text": [
      "Train: 0.9714| Val: 0.7700| Test: 0.7900| Eval Time: 0.3292s\n",
      "Epoch 05| Loss: 0.5517| Acc: 0.9643| Train Time: 0.0430s\n"
     ]
    },
    {
     "output_type": "stream",
     "name": "stderr",
     "text": [
      "Evaluating: 100%|██████████| 5416/5416 [00:00<00:00, 17220.73it/s]\n"
     ]
    },
    {
     "output_type": "stream",
     "name": "stdout",
     "text": [
      "Train: 0.9929| Val: 0.7820| Test: 0.8070| Eval Time: 0.3205s\n",
      "Epoch 06| Loss: 0.4516| Acc: 0.9714| Train Time: 0.0440s\n"
     ]
    },
    {
     "output_type": "stream",
     "name": "stderr",
     "text": [
      "Evaluating: 100%|██████████| 5416/5416 [00:00<00:00, 17163.48it/s]\n"
     ]
    },
    {
     "output_type": "stream",
     "name": "stdout",
     "text": [
      "Train: 0.9929| Val: 0.7820| Test: 0.8140| Eval Time: 0.3216s\n",
      "Epoch 07| Loss: 0.3624| Acc: 0.9643| Train Time: 0.0420s\n"
     ]
    },
    {
     "output_type": "stream",
     "name": "stderr",
     "text": [
      "Evaluating: 100%|██████████| 5416/5416 [00:00<00:00, 17470.74it/s]\n"
     ]
    },
    {
     "output_type": "stream",
     "name": "stdout",
     "text": [
      "Train: 0.9929| Val: 0.7940| Test: 0.8150| Eval Time: 0.3160s\n",
      "Epoch 08| Loss: 0.2867| Acc: 0.9929| Train Time: 0.0490s\n"
     ]
    },
    {
     "output_type": "stream",
     "name": "stderr",
     "text": [
      "Evaluating: 100%|██████████| 5416/5416 [00:00<00:00, 17695.31it/s]\n"
     ]
    },
    {
     "output_type": "stream",
     "name": "stdout",
     "text": [
      "Train: 0.9929| Val: 0.7880| Test: 0.8160| Eval Time: 0.3111s\n",
      "Epoch 09| Loss: 0.2608| Acc: 0.9929| Train Time: 0.0460s\n"
     ]
    },
    {
     "output_type": "stream",
     "name": "stderr",
     "text": [
      "Evaluating: 100%|██████████| 5416/5416 [00:00<00:00, 16987.51it/s]\n"
     ]
    },
    {
     "output_type": "stream",
     "name": "stdout",
     "text": [
      "Train: 1.0000| Val: 0.7940| Test: 0.8120| Eval Time: 0.3268s\n",
      "Epoch 10| Loss: 0.2481| Acc: 0.9857| Train Time: 0.0440s\n"
     ]
    },
    {
     "output_type": "stream",
     "name": "stderr",
     "text": [
      "Evaluating: 100%|██████████| 5416/5416 [00:00<00:00, 17104.09it/s]\n"
     ]
    },
    {
     "output_type": "stream",
     "name": "stdout",
     "text": [
      "Train: 1.0000| Val: 0.7920| Test: 0.8090| Eval Time: 0.3217s\n",
      "Epoch 11| Loss: 0.2509| Acc: 0.9786| Train Time: 0.0461s\n"
     ]
    },
    {
     "output_type": "stream",
     "name": "stderr",
     "text": [
      "Evaluating: 100%|██████████| 5416/5416 [00:00<00:00, 17031.35it/s]\n"
     ]
    },
    {
     "output_type": "stream",
     "name": "stdout",
     "text": [
      "Train: 1.0000| Val: 0.7980| Test: 0.8100| Eval Time: 0.3240s\n",
      "Epoch 12| Loss: 0.1493| Acc: 0.9929| Train Time: 0.0430s\n"
     ]
    },
    {
     "output_type": "stream",
     "name": "stderr",
     "text": [
      "Evaluating: 100%|██████████| 5416/5416 [00:00<00:00, 16662.74it/s]\n"
     ]
    },
    {
     "output_type": "stream",
     "name": "stdout",
     "text": [
      "Train: 1.0000| Val: 0.7960| Test: 0.8030| Eval Time: 0.3330s\n",
      "Epoch 13| Loss: 0.1490| Acc: 1.0000| Train Time: 0.1020s\n"
     ]
    },
    {
     "output_type": "stream",
     "name": "stderr",
     "text": [
      "Evaluating: 100%|██████████| 5416/5416 [00:00<00:00, 15608.21it/s]\n"
     ]
    },
    {
     "output_type": "stream",
     "name": "stdout",
     "text": [
      "Train: 1.0000| Val: 0.7940| Test: 0.8000| Eval Time: 0.3520s\n",
      "Epoch 14| Loss: 0.1272| Acc: 1.0000| Train Time: 0.0460s\n"
     ]
    },
    {
     "output_type": "stream",
     "name": "stderr",
     "text": [
      "Evaluating: 100%|██████████| 5416/5416 [00:00<00:00, 16891.85it/s]\n"
     ]
    },
    {
     "output_type": "stream",
     "name": "stdout",
     "text": [
      "Train: 1.0000| Val: 0.7880| Test: 0.7970| Eval Time: 0.3266s\n",
      "Epoch 15| Loss: 0.0875| Acc: 0.9929| Train Time: 0.0425s\n"
     ]
    },
    {
     "output_type": "stream",
     "name": "stderr",
     "text": [
      "Evaluating: 100%|██████████| 5416/5416 [00:00<00:00, 16978.17it/s]\n"
     ]
    },
    {
     "output_type": "stream",
     "name": "stdout",
     "text": [
      "Train: 1.0000| Val: 0.7900| Test: 0.7920| Eval Time: 0.3270s\n",
      "Epoch 16| Loss: 0.0708| Acc: 1.0000| Train Time: 0.0450s\n"
     ]
    },
    {
     "output_type": "stream",
     "name": "stderr",
     "text": [
      "Evaluating: 100%|██████████| 5416/5416 [00:00<00:00, 16408.52it/s]\n"
     ]
    },
    {
     "output_type": "stream",
     "name": "stdout",
     "text": [
      "Train: 1.0000| Val: 0.7860| Test: 0.7910| Eval Time: 0.3381s\n",
      "Epoch 17| Loss: 0.0629| Acc: 1.0000| Train Time: 0.0430s\n"
     ]
    },
    {
     "output_type": "stream",
     "name": "stderr",
     "text": [
      "Evaluating: 100%|██████████| 5416/5416 [00:00<00:00, 17603.13it/s]\n"
     ]
    },
    {
     "output_type": "stream",
     "name": "stdout",
     "text": [
      "Train: 1.0000| Val: 0.7860| Test: 0.7890| Eval Time: 0.3127s\n",
      "Epoch 18| Loss: 0.0509| Acc: 0.9929| Train Time: 0.0452s\n"
     ]
    },
    {
     "output_type": "stream",
     "name": "stderr",
     "text": [
      "Evaluating: 100%|██████████| 5416/5416 [00:00<00:00, 17303.33it/s]\n"
     ]
    },
    {
     "output_type": "stream",
     "name": "stdout",
     "text": [
      "Train: 1.0000| Val: 0.7860| Test: 0.7930| Eval Time: 0.3186s\n",
      "Epoch 19| Loss: 0.0861| Acc: 0.9929| Train Time: 0.0410s\n"
     ]
    },
    {
     "output_type": "stream",
     "name": "stderr",
     "text": [
      "Evaluating: 100%|██████████| 5416/5416 [00:00<00:00, 17053.09it/s]\n"
     ]
    },
    {
     "output_type": "stream",
     "name": "stdout",
     "text": [
      "Train: 1.0000| Val: 0.7880| Test: 0.7960| Eval Time: 0.3226s\n",
      "Epoch 20| Loss: 0.0427| Acc: 1.0000| Train Time: 0.0470s\n"
     ]
    },
    {
     "output_type": "stream",
     "name": "stderr",
     "text": [
      "Evaluating: 100%|██████████| 5416/5416 [00:00<00:00, 17358.81it/s]\n"
     ]
    },
    {
     "output_type": "stream",
     "name": "stdout",
     "text": [
      "Train: 1.0000| Val: 0.7880| Test: 0.7930| Eval Time: 0.3190s\n",
      "Epoch 21| Loss: 0.0426| Acc: 1.0000| Train Time: 0.0465s\n"
     ]
    },
    {
     "output_type": "stream",
     "name": "stderr",
     "text": [
      "Evaluating: 100%|██████████| 5416/5416 [00:00<00:00, 17610.09it/s]\n"
     ]
    },
    {
     "output_type": "stream",
     "name": "stdout",
     "text": [
      "Train: 1.0000| Val: 0.7860| Test: 0.7950| Eval Time: 0.3126s\n",
      "Epoch 22| Loss: 0.0456| Acc: 0.9929| Train Time: 0.0410s\n"
     ]
    },
    {
     "output_type": "stream",
     "name": "stderr",
     "text": [
      "Evaluating: 100%|██████████| 5416/5416 [00:00<00:00, 17106.20it/s]\n"
     ]
    },
    {
     "output_type": "stream",
     "name": "stdout",
     "text": [
      "Train: 1.0000| Val: 0.7860| Test: 0.7980| Eval Time: 0.3216s\n",
      "Epoch 23| Loss: 0.0385| Acc: 1.0000| Train Time: 0.0470s\n"
     ]
    },
    {
     "output_type": "stream",
     "name": "stderr",
     "text": [
      "Evaluating: 100%|██████████| 5416/5416 [00:00<00:00, 16963.59it/s]\n"
     ]
    },
    {
     "output_type": "stream",
     "name": "stdout",
     "text": [
      "Train: 1.0000| Val: 0.7900| Test: 0.7980| Eval Time: 0.3253s\n",
      "Epoch 24| Loss: 0.0299| Acc: 1.0000| Train Time: 0.0440s\n"
     ]
    },
    {
     "output_type": "stream",
     "name": "stderr",
     "text": [
      "Evaluating: 100%|██████████| 5416/5416 [00:00<00:00, 17432.16it/s]\n"
     ]
    },
    {
     "output_type": "stream",
     "name": "stdout",
     "text": [
      "Train: 1.0000| Val: 0.7920| Test: 0.7970| Eval Time: 0.3217s\n",
      "Epoch 25| Loss: 0.0555| Acc: 0.9929| Train Time: 0.0453s\n"
     ]
    },
    {
     "output_type": "stream",
     "name": "stderr",
     "text": [
      "Evaluating: 100%|██████████| 5416/5416 [00:00<00:00, 17139.19it/s]\n"
     ]
    },
    {
     "output_type": "stream",
     "name": "stdout",
     "text": [
      "Train: 1.0000| Val: 0.7900| Test: 0.8000| Eval Time: 0.3210s\n",
      "Epoch 26| Loss: 0.0121| Acc: 1.0000| Train Time: 0.0440s\n"
     ]
    },
    {
     "output_type": "stream",
     "name": "stderr",
     "text": [
      "Evaluating: 100%|██████████| 5416/5416 [00:00<00:00, 16843.45it/s]\n"
     ]
    },
    {
     "output_type": "stream",
     "name": "stdout",
     "text": [
      "Train: 1.0000| Val: 0.7900| Test: 0.8040| Eval Time: 0.3266s\n",
      "Epoch 27| Loss: 0.0246| Acc: 1.0000| Train Time: 0.0420s\n"
     ]
    },
    {
     "output_type": "stream",
     "name": "stderr",
     "text": [
      "Evaluating: 100%|██████████| 5416/5416 [00:00<00:00, 15386.46it/s]\n"
     ]
    },
    {
     "output_type": "stream",
     "name": "stdout",
     "text": [
      "Train: 1.0000| Val: 0.7920| Test: 0.8040| Eval Time: 0.3570s\n",
      "Epoch 28| Loss: 0.0106| Acc: 1.0000| Train Time: 0.0440s\n"
     ]
    },
    {
     "output_type": "stream",
     "name": "stderr",
     "text": [
      "Evaluating: 100%|██████████| 5416/5416 [00:00<00:00, 16976.15it/s]\n"
     ]
    },
    {
     "output_type": "stream",
     "name": "stdout",
     "text": [
      "Train: 1.0000| Val: 0.7940| Test: 0.8060| Eval Time: 0.3250s\n",
      "Epoch 29| Loss: 0.0139| Acc: 1.0000| Train Time: 0.0420s\n"
     ]
    },
    {
     "output_type": "stream",
     "name": "stderr",
     "text": [
      "Evaluating: 100%|██████████| 5416/5416 [00:00<00:00, 16118.08it/s]\n"
     ]
    },
    {
     "output_type": "stream",
     "name": "stdout",
     "text": [
      "Train: 1.0000| Val: 0.7980| Test: 0.8070| Eval Time: 0.3410s\n",
      "Epoch 30| Loss: 0.0151| Acc: 1.0000| Train Time: 0.0446s\n"
     ]
    },
    {
     "output_type": "stream",
     "name": "stderr",
     "text": [
      "Evaluating: 100%|██████████| 5416/5416 [00:00<00:00, 16499.98it/s]\n"
     ]
    },
    {
     "output_type": "stream",
     "name": "stdout",
     "text": [
      "Train: 1.0000| Val: 0.7960| Test: 0.8070| Eval Time: 0.3352s\n",
      "Epoch 31| Loss: 0.0246| Acc: 1.0000| Train Time: 0.0470s\n"
     ]
    },
    {
     "output_type": "stream",
     "name": "stderr",
     "text": [
      "Evaluating: 100%|██████████| 5416/5416 [00:00<00:00, 17405.99it/s]\n"
     ]
    },
    {
     "output_type": "stream",
     "name": "stdout",
     "text": [
      "Train: 1.0000| Val: 0.7960| Test: 0.8080| Eval Time: 0.3151s\n",
      "Epoch 32| Loss: 0.0092| Acc: 1.0000| Train Time: 0.0460s\n"
     ]
    },
    {
     "output_type": "stream",
     "name": "stderr",
     "text": [
      "Evaluating: 100%|██████████| 5416/5416 [00:00<00:00, 16973.57it/s]\n"
     ]
    },
    {
     "output_type": "stream",
     "name": "stdout",
     "text": [
      "Train: 1.0000| Val: 0.7960| Test: 0.8080| Eval Time: 0.3231s\n",
      "Epoch 33| Loss: 0.0099| Acc: 1.0000| Train Time: 0.0400s\n"
     ]
    },
    {
     "output_type": "stream",
     "name": "stderr",
     "text": [
      "Evaluating: 100%|██████████| 5416/5416 [00:00<00:00, 17303.45it/s]\n"
     ]
    },
    {
     "output_type": "stream",
     "name": "stdout",
     "text": [
      "Train: 1.0000| Val: 0.7960| Test: 0.8080| Eval Time: 0.3190s\n",
      "Epoch 34| Loss: 0.0109| Acc: 1.0000| Train Time: 0.0450s\n"
     ]
    },
    {
     "output_type": "stream",
     "name": "stderr",
     "text": [
      "Evaluating: 100%|██████████| 5416/5416 [00:00<00:00, 16814.12it/s]\n"
     ]
    },
    {
     "output_type": "stream",
     "name": "stdout",
     "text": [
      "Train: 1.0000| Val: 0.7960| Test: 0.8090| Eval Time: 0.3271s\n",
      "Epoch 35| Loss: 0.0096| Acc: 1.0000| Train Time: 0.0430s\n"
     ]
    },
    {
     "output_type": "stream",
     "name": "stderr",
     "text": [
      "Evaluating: 100%|██████████| 5416/5416 [00:00<00:00, 16789.28it/s]\n"
     ]
    },
    {
     "output_type": "stream",
     "name": "stdout",
     "text": [
      "Train: 1.0000| Val: 0.7960| Test: 0.8110| Eval Time: 0.3276s\n",
      "Epoch 36| Loss: 0.0125| Acc: 1.0000| Train Time: 0.0430s\n"
     ]
    },
    {
     "output_type": "stream",
     "name": "stderr",
     "text": [
      "Evaluating: 100%|██████████| 5416/5416 [00:00<00:00, 17105.60it/s]\n"
     ]
    },
    {
     "output_type": "stream",
     "name": "stdout",
     "text": [
      "Train: 1.0000| Val: 0.8020| Test: 0.8110| Eval Time: 0.3236s\n",
      "Epoch 37| Loss: 0.0082| Acc: 1.0000| Train Time: 0.0411s\n"
     ]
    },
    {
     "output_type": "stream",
     "name": "stderr",
     "text": [
      "Evaluating: 100%|██████████| 5416/5416 [00:00<00:00, 17193.73it/s]\n"
     ]
    },
    {
     "output_type": "stream",
     "name": "stdout",
     "text": [
      "Train: 1.0000| Val: 0.8020| Test: 0.8120| Eval Time: 0.3210s\n",
      "Epoch 38| Loss: 0.0150| Acc: 1.0000| Train Time: 0.0440s\n"
     ]
    },
    {
     "output_type": "stream",
     "name": "stderr",
     "text": [
      "Evaluating: 100%|██████████| 5416/5416 [00:00<00:00, 16585.44it/s]\n"
     ]
    },
    {
     "output_type": "stream",
     "name": "stdout",
     "text": [
      "Train: 1.0000| Val: 0.8020| Test: 0.8130| Eval Time: 0.3326s\n",
      "Epoch 39| Loss: 0.0086| Acc: 1.0000| Train Time: 0.0430s\n"
     ]
    },
    {
     "output_type": "stream",
     "name": "stderr",
     "text": [
      "Evaluating: 100%|██████████| 5416/5416 [00:00<00:00, 16976.84it/s]\n"
     ]
    },
    {
     "output_type": "stream",
     "name": "stdout",
     "text": [
      "Train: 1.0000| Val: 0.8020| Test: 0.8150| Eval Time: 0.3260s\n",
      "Epoch 40| Loss: 0.0014| Acc: 1.0000| Train Time: 0.0420s\n"
     ]
    },
    {
     "output_type": "stream",
     "name": "stderr",
     "text": [
      "Evaluating: 100%|██████████| 5416/5416 [00:00<00:00, 16925.07it/s]\n"
     ]
    },
    {
     "output_type": "stream",
     "name": "stdout",
     "text": [
      "Train: 1.0000| Val: 0.7980| Test: 0.8150| Eval Time: 0.3260s\n",
      "Epoch 41| Loss: 0.0049| Acc: 1.0000| Train Time: 0.0485s\n"
     ]
    },
    {
     "output_type": "stream",
     "name": "stderr",
     "text": [
      "Evaluating: 100%|██████████| 5416/5416 [00:00<00:00, 16689.95it/s]\n"
     ]
    },
    {
     "output_type": "stream",
     "name": "stdout",
     "text": [
      "Train: 1.0000| Val: 0.7980| Test: 0.8140| Eval Time: 0.3315s\n",
      "Epoch 42| Loss: 0.0054| Acc: 1.0000| Train Time: 0.0400s\n"
     ]
    },
    {
     "output_type": "stream",
     "name": "stderr",
     "text": [
      "Evaluating: 100%|██████████| 5416/5416 [00:00<00:00, 16611.86it/s]\n"
     ]
    },
    {
     "output_type": "stream",
     "name": "stdout",
     "text": [
      "Train: 1.0000| Val: 0.7980| Test: 0.8140| Eval Time: 0.3330s\n",
      "Epoch 43| Loss: 0.0061| Acc: 1.0000| Train Time: 0.0420s\n"
     ]
    },
    {
     "output_type": "stream",
     "name": "stderr",
     "text": [
      "Evaluating: 100%|██████████| 5416/5416 [00:00<00:00, 17090.86it/s]\n"
     ]
    },
    {
     "output_type": "stream",
     "name": "stdout",
     "text": [
      "Train: 1.0000| Val: 0.7980| Test: 0.8130| Eval Time: 0.3269s\n",
      "Epoch 44| Loss: 0.0083| Acc: 1.0000| Train Time: 0.0430s\n"
     ]
    },
    {
     "output_type": "stream",
     "name": "stderr",
     "text": [
      "Evaluating: 100%|██████████| 5416/5416 [00:00<00:00, 16938.53it/s]\n"
     ]
    },
    {
     "output_type": "stream",
     "name": "stdout",
     "text": [
      "Train: 1.0000| Val: 0.7980| Test: 0.8120| Eval Time: 0.3247s\n",
      "Epoch 45| Loss: 0.0028| Acc: 1.0000| Train Time: 0.0495s\n"
     ]
    },
    {
     "output_type": "stream",
     "name": "stderr",
     "text": [
      "Evaluating: 100%|██████████| 5416/5416 [00:00<00:00, 17264.89it/s]\n"
     ]
    },
    {
     "output_type": "stream",
     "name": "stdout",
     "text": [
      "Train: 1.0000| Val: 0.7960| Test: 0.8120| Eval Time: 0.3187s\n",
      "Epoch 46| Loss: 0.0058| Acc: 1.0000| Train Time: 0.0420s\n"
     ]
    },
    {
     "output_type": "stream",
     "name": "stderr",
     "text": [
      "Evaluating: 100%|██████████| 5416/5416 [00:00<00:00, 16238.87it/s]\n"
     ]
    },
    {
     "output_type": "stream",
     "name": "stdout",
     "text": [
      "Train: 1.0000| Val: 0.7960| Test: 0.8120| Eval Time: 0.3395s\n",
      "Epoch 47| Loss: 0.0056| Acc: 1.0000| Train Time: 0.0450s\n"
     ]
    },
    {
     "output_type": "stream",
     "name": "stderr",
     "text": [
      "Evaluating: 100%|██████████| 5416/5416 [00:00<00:00, 14717.36it/s]\n"
     ]
    },
    {
     "output_type": "stream",
     "name": "stdout",
     "text": [
      "Train: 1.0000| Val: 0.7960| Test: 0.8120| Eval Time: 0.3730s\n",
      "Epoch 48| Loss: 0.0063| Acc: 1.0000| Train Time: 0.0480s\n"
     ]
    },
    {
     "output_type": "stream",
     "name": "stderr",
     "text": [
      "Evaluating: 100%|██████████| 5416/5416 [00:00<00:00, 14656.87it/s]\n"
     ]
    },
    {
     "output_type": "stream",
     "name": "stdout",
     "text": [
      "Train: 1.0000| Val: 0.7960| Test: 0.8130| Eval Time: 0.3765s\n",
      "Epoch 49| Loss: 0.0045| Acc: 1.0000| Train Time: 0.0520s\n"
     ]
    },
    {
     "output_type": "stream",
     "name": "stderr",
     "text": [
      "Evaluating: 100%|██████████| 5416/5416 [00:00<00:00, 14578.05it/s]\n"
     ]
    },
    {
     "output_type": "stream",
     "name": "stdout",
     "text": [
      "Train: 1.0000| Val: 0.7960| Test: 0.8140| Eval Time: 0.3795s\n",
      "Epoch 50| Loss: 0.0047| Acc: 1.0000| Train Time: 0.0505s\n"
     ]
    },
    {
     "output_type": "stream",
     "name": "stderr",
     "text": [
      "Evaluating: 100%|██████████| 5416/5416 [00:00<00:00, 14252.65it/s]\n"
     ]
    },
    {
     "output_type": "stream",
     "name": "stdout",
     "text": [
      "Train: 1.0000| Val: 0.7960| Test: 0.8140| Eval Time: 0.3860s\n",
      "Epoch 51| Loss: 0.0065| Acc: 1.0000| Train Time: 0.0490s\n"
     ]
    },
    {
     "output_type": "stream",
     "name": "stderr",
     "text": [
      "Evaluating: 100%|██████████| 5416/5416 [00:00<00:00, 14727.81it/s]\n"
     ]
    },
    {
     "output_type": "stream",
     "name": "stdout",
     "text": [
      "Train: 1.0000| Val: 0.7960| Test: 0.8140| Eval Time: 0.3727s\n",
      "Epoch 52| Loss: 0.0027| Acc: 1.0000| Train Time: 0.0530s\n"
     ]
    },
    {
     "output_type": "stream",
     "name": "stderr",
     "text": [
      "Evaluating: 100%|██████████| 5416/5416 [00:00<00:00, 17358.84it/s]\n"
     ]
    },
    {
     "output_type": "stream",
     "name": "stdout",
     "text": [
      "Train: 1.0000| Val: 0.7960| Test: 0.8130| Eval Time: 0.3180s\n",
      "Epoch 53| Loss: 0.0156| Acc: 1.0000| Train Time: 0.0380s\n"
     ]
    },
    {
     "output_type": "stream",
     "name": "stderr",
     "text": [
      "Evaluating: 100%|██████████| 5416/5416 [00:00<00:00, 16923.19it/s]\n"
     ]
    },
    {
     "output_type": "stream",
     "name": "stdout",
     "text": [
      "Train: 1.0000| Val: 0.7960| Test: 0.8130| Eval Time: 0.3260s\n",
      "Epoch 54| Loss: 0.0010| Acc: 1.0000| Train Time: 0.0435s\n"
     ]
    },
    {
     "output_type": "stream",
     "name": "stderr",
     "text": [
      "Evaluating: 100%|██████████| 5416/5416 [00:00<00:00, 17217.69it/s]\n"
     ]
    },
    {
     "output_type": "stream",
     "name": "stdout",
     "text": [
      "Train: 1.0000| Val: 0.7940| Test: 0.8140| Eval Time: 0.3196s\n",
      "Epoch 55| Loss: 0.0075| Acc: 1.0000| Train Time: 0.0460s\n"
     ]
    },
    {
     "output_type": "stream",
     "name": "stderr",
     "text": [
      "Evaluating: 100%|██████████| 5416/5416 [00:00<00:00, 16730.30it/s]\n"
     ]
    },
    {
     "output_type": "stream",
     "name": "stdout",
     "text": [
      "Train: 1.0000| Val: 0.7940| Test: 0.8140| Eval Time: 0.3303s\n",
      "Epoch 56| Loss: 0.0009| Acc: 1.0000| Train Time: 0.0445s\n"
     ]
    },
    {
     "output_type": "stream",
     "name": "stderr",
     "text": [
      "Evaluating: 100%|██████████| 5416/5416 [00:00<00:00, 16664.63it/s]\n"
     ]
    },
    {
     "output_type": "stream",
     "name": "stdout",
     "text": [
      "Train: 1.0000| Val: 0.7940| Test: 0.8140| Eval Time: 0.3320s\n",
      "Epoch 57| Loss: 0.0032| Acc: 1.0000| Train Time: 0.0415s\n"
     ]
    },
    {
     "output_type": "stream",
     "name": "stderr",
     "text": [
      "Evaluating: 100%|██████████| 5416/5416 [00:00<00:00, 17188.21it/s]\n"
     ]
    },
    {
     "output_type": "stream",
     "name": "stdout",
     "text": [
      "Train: 1.0000| Val: 0.7920| Test: 0.8140| Eval Time: 0.3211s\n",
      "Epoch 58| Loss: 0.0025| Acc: 1.0000| Train Time: 0.0380s\n"
     ]
    },
    {
     "output_type": "stream",
     "name": "stderr",
     "text": [
      "Evaluating: 100%|██████████| 5416/5416 [00:00<00:00, 16843.52it/s]\n"
     ]
    },
    {
     "output_type": "stream",
     "name": "stdout",
     "text": [
      "Train: 1.0000| Val: 0.7900| Test: 0.8150| Eval Time: 0.3276s\n",
      "Epoch 59| Loss: 0.0046| Acc: 1.0000| Train Time: 0.0420s\n"
     ]
    },
    {
     "output_type": "stream",
     "name": "stderr",
     "text": [
      "Evaluating: 100%|██████████| 5416/5416 [00:00<00:00, 17355.35it/s]\n"
     ]
    },
    {
     "output_type": "stream",
     "name": "stdout",
     "text": [
      "Train: 1.0000| Val: 0.7900| Test: 0.8160| Eval Time: 0.3170s\n",
      "Epoch 60| Loss: 0.0028| Acc: 1.0000| Train Time: 0.0430s\n"
     ]
    },
    {
     "output_type": "stream",
     "name": "stderr",
     "text": [
      "Evaluating: 100%|██████████| 5416/5416 [00:00<00:00, 17356.57it/s]\n"
     ]
    },
    {
     "output_type": "stream",
     "name": "stdout",
     "text": [
      "Train: 1.0000| Val: 0.7880| Test: 0.8160| Eval Time: 0.3170s\n",
      "Epoch 61| Loss: 0.0020| Acc: 1.0000| Train Time: 0.0420s\n"
     ]
    },
    {
     "output_type": "stream",
     "name": "stderr",
     "text": [
      "Evaluating: 100%|██████████| 5416/5416 [00:00<00:00, 17415.29it/s]\n"
     ]
    },
    {
     "output_type": "stream",
     "name": "stdout",
     "text": [
      "Train: 1.0000| Val: 0.7880| Test: 0.8160| Eval Time: 0.3190s\n",
      "Epoch 62| Loss: 0.0011| Acc: 1.0000| Train Time: 0.0370s\n"
     ]
    },
    {
     "output_type": "stream",
     "name": "stderr",
     "text": [
      "Evaluating: 100%|██████████| 5416/5416 [00:00<00:00, 16750.67it/s]\n"
     ]
    },
    {
     "output_type": "stream",
     "name": "stdout",
     "text": [
      "Train: 1.0000| Val: 0.7860| Test: 0.8160| Eval Time: 0.3303s\n",
      "Epoch 63| Loss: 0.0012| Acc: 1.0000| Train Time: 0.0440s\n"
     ]
    },
    {
     "output_type": "stream",
     "name": "stderr",
     "text": [
      "Evaluating: 100%|██████████| 5416/5416 [00:00<00:00, 17381.99it/s]\n"
     ]
    },
    {
     "output_type": "stream",
     "name": "stdout",
     "text": [
      "Train: 1.0000| Val: 0.7860| Test: 0.8160| Eval Time: 0.3176s\n",
      "Epoch 64| Loss: 0.0057| Acc: 1.0000| Train Time: 0.0420s\n"
     ]
    },
    {
     "output_type": "stream",
     "name": "stderr",
     "text": [
      "Evaluating: 100%|██████████| 5416/5416 [00:00<00:00, 16551.52it/s]\n"
     ]
    },
    {
     "output_type": "stream",
     "name": "stdout",
     "text": [
      "Train: 1.0000| Val: 0.7840| Test: 0.8160| Eval Time: 0.3332s\n",
      "Epoch 65| Loss: 0.0069| Acc: 1.0000| Train Time: 0.0390s\n"
     ]
    },
    {
     "output_type": "stream",
     "name": "stderr",
     "text": [
      "Evaluating: 100%|██████████| 5416/5416 [00:00<00:00, 17303.75it/s]\n"
     ]
    },
    {
     "output_type": "stream",
     "name": "stdout",
     "text": [
      "Train: 1.0000| Val: 0.7840| Test: 0.8160| Eval Time: 0.3180s\n",
      "Epoch 66| Loss: 0.0050| Acc: 1.0000| Train Time: 0.0410s\n"
     ]
    },
    {
     "output_type": "stream",
     "name": "stderr",
     "text": [
      "Evaluating: 100%|██████████| 5416/5416 [00:00<00:00, 16934.54it/s]\n"
     ]
    },
    {
     "output_type": "stream",
     "name": "stdout",
     "text": [
      "Train: 1.0000| Val: 0.7860| Test: 0.8160| Eval Time: 0.3248s\n",
      "Epoch 67| Loss: 0.0099| Acc: 1.0000| Train Time: 0.0440s\n"
     ]
    },
    {
     "output_type": "stream",
     "name": "stderr",
     "text": [
      "Evaluating: 100%|██████████| 5416/5416 [00:00<00:00, 17581.72it/s]\n"
     ]
    },
    {
     "output_type": "stream",
     "name": "stdout",
     "text": [
      "Train: 1.0000| Val: 0.7860| Test: 0.8160| Eval Time: 0.3140s\n",
      "Epoch 68| Loss: 0.0026| Acc: 1.0000| Train Time: 0.0500s\n"
     ]
    },
    {
     "output_type": "stream",
     "name": "stderr",
     "text": [
      "Evaluating: 100%|██████████| 5416/5416 [00:00<00:00, 16713.19it/s]\n"
     ]
    },
    {
     "output_type": "stream",
     "name": "stdout",
     "text": [
      "Train: 1.0000| Val: 0.7860| Test: 0.8160| Eval Time: 0.3301s\n",
      "Epoch 69| Loss: 0.0021| Acc: 1.0000| Train Time: 0.0465s\n"
     ]
    },
    {
     "output_type": "stream",
     "name": "stderr",
     "text": [
      "Evaluating: 100%|██████████| 5416/5416 [00:00<00:00, 16560.97it/s]\n"
     ]
    },
    {
     "output_type": "stream",
     "name": "stdout",
     "text": [
      "Train: 1.0000| Val: 0.7860| Test: 0.8140| Eval Time: 0.3330s\n",
      "Epoch 70| Loss: 0.0009| Acc: 1.0000| Train Time: 0.0435s\n"
     ]
    },
    {
     "output_type": "stream",
     "name": "stderr",
     "text": [
      "Evaluating: 100%|██████████| 5416/5416 [00:00<00:00, 16763.91it/s]\n"
     ]
    },
    {
     "output_type": "stream",
     "name": "stdout",
     "text": [
      "Train: 1.0000| Val: 0.7840| Test: 0.8130| Eval Time: 0.3281s\n",
      "Epoch 71| Loss: 0.0042| Acc: 1.0000| Train Time: 0.0400s\n"
     ]
    },
    {
     "output_type": "stream",
     "name": "stderr",
     "text": [
      "Evaluating: 100%|██████████| 5416/5416 [00:00<00:00, 16718.37it/s]\n"
     ]
    },
    {
     "output_type": "stream",
     "name": "stdout",
     "text": [
      "Train: 1.0000| Val: 0.7840| Test: 0.8130| Eval Time: 0.3315s\n",
      "Epoch 72| Loss: 0.0106| Acc: 1.0000| Train Time: 0.0460s\n"
     ]
    },
    {
     "output_type": "stream",
     "name": "stderr",
     "text": [
      "Evaluating: 100%|██████████| 5416/5416 [00:00<00:00, 16648.93it/s]\n"
     ]
    },
    {
     "output_type": "stream",
     "name": "stdout",
     "text": [
      "Train: 1.0000| Val: 0.7840| Test: 0.8120| Eval Time: 0.3323s\n",
      "Epoch 73| Loss: 0.0016| Acc: 1.0000| Train Time: 0.0490s\n"
     ]
    },
    {
     "output_type": "stream",
     "name": "stderr",
     "text": [
      "Evaluating: 100%|██████████| 5416/5416 [00:00<00:00, 16585.66it/s]\n"
     ]
    },
    {
     "output_type": "stream",
     "name": "stdout",
     "text": [
      "Train: 1.0000| Val: 0.7840| Test: 0.8120| Eval Time: 0.3315s\n",
      "Epoch 74| Loss: 0.0036| Acc: 1.0000| Train Time: 0.0450s\n"
     ]
    },
    {
     "output_type": "stream",
     "name": "stderr",
     "text": [
      "Evaluating: 100%|██████████| 5416/5416 [00:00<00:00, 16485.74it/s]\n"
     ]
    },
    {
     "output_type": "stream",
     "name": "stdout",
     "text": [
      "Train: 1.0000| Val: 0.7840| Test: 0.8120| Eval Time: 0.3345s\n",
      "Epoch 75| Loss: 0.0054| Acc: 1.0000| Train Time: 0.0460s\n"
     ]
    },
    {
     "output_type": "stream",
     "name": "stderr",
     "text": [
      "Evaluating: 100%|██████████| 5416/5416 [00:00<00:00, 17029.34it/s]\n"
     ]
    },
    {
     "output_type": "stream",
     "name": "stdout",
     "text": [
      "Train: 1.0000| Val: 0.7840| Test: 0.8110| Eval Time: 0.3230s\n",
      "Epoch 76| Loss: 0.0018| Acc: 1.0000| Train Time: 0.0430s\n"
     ]
    },
    {
     "output_type": "stream",
     "name": "stderr",
     "text": [
      "Evaluating: 100%|██████████| 5416/5416 [00:00<00:00, 17641.71it/s]\n"
     ]
    },
    {
     "output_type": "stream",
     "name": "stdout",
     "text": [
      "Train: 1.0000| Val: 0.7840| Test: 0.8100| Eval Time: 0.3130s\n",
      "Epoch 77| Loss: 0.0016| Acc: 1.0000| Train Time: 0.0419s\n"
     ]
    },
    {
     "output_type": "stream",
     "name": "stderr",
     "text": [
      "Evaluating: 100%|██████████| 5416/5416 [00:00<00:00, 16313.21it/s]\n"
     ]
    },
    {
     "output_type": "stream",
     "name": "stdout",
     "text": [
      "Train: 1.0000| Val: 0.7840| Test: 0.8100| Eval Time: 0.3360s\n",
      "Epoch 78| Loss: 0.0011| Acc: 1.0000| Train Time: 0.0410s\n"
     ]
    },
    {
     "output_type": "stream",
     "name": "stderr",
     "text": [
      "Evaluating: 100%|██████████| 5416/5416 [00:00<00:00, 17031.37it/s]\n"
     ]
    },
    {
     "output_type": "stream",
     "name": "stdout",
     "text": [
      "Train: 1.0000| Val: 0.7840| Test: 0.8100| Eval Time: 0.3240s\n",
      "Epoch 79| Loss: 0.0020| Acc: 1.0000| Train Time: 0.0490s\n"
     ]
    },
    {
     "output_type": "stream",
     "name": "stderr",
     "text": [
      "Evaluating: 100%|██████████| 5416/5416 [00:00<00:00, 17551.63it/s]\n"
     ]
    },
    {
     "output_type": "stream",
     "name": "stdout",
     "text": [
      "Train: 1.0000| Val: 0.7840| Test: 0.8100| Eval Time: 0.3136s\n",
      "Epoch 80| Loss: 0.0039| Acc: 1.0000| Train Time: 0.0430s\n"
     ]
    },
    {
     "output_type": "stream",
     "name": "stderr",
     "text": [
      "Evaluating: 100%|██████████| 5416/5416 [00:00<00:00, 16612.43it/s]\n"
     ]
    },
    {
     "output_type": "stream",
     "name": "stdout",
     "text": [
      "Train: 1.0000| Val: 0.7840| Test: 0.8100| Eval Time: 0.3320s\n",
      "Epoch 81| Loss: 0.0006| Acc: 1.0000| Train Time: 0.0420s\n"
     ]
    },
    {
     "output_type": "stream",
     "name": "stderr",
     "text": [
      "Evaluating: 100%|██████████| 5416/5416 [00:00<00:00, 16584.09it/s]\n"
     ]
    },
    {
     "output_type": "stream",
     "name": "stdout",
     "text": [
      "Train: 1.0000| Val: 0.7840| Test: 0.8100| Eval Time: 0.3326s\n",
      "Epoch 82| Loss: 0.0047| Acc: 1.0000| Train Time: 0.0460s\n"
     ]
    },
    {
     "output_type": "stream",
     "name": "stderr",
     "text": [
      "Evaluating: 100%|██████████| 5416/5416 [00:00<00:00, 17408.91it/s]\n"
     ]
    },
    {
     "output_type": "stream",
     "name": "stdout",
     "text": [
      "Train: 1.0000| Val: 0.7840| Test: 0.8100| Eval Time: 0.3161s\n",
      "Epoch 83| Loss: 0.0015| Acc: 1.0000| Train Time: 0.0400s\n"
     ]
    },
    {
     "output_type": "stream",
     "name": "stderr",
     "text": [
      "Evaluating: 100%|██████████| 5416/5416 [00:00<00:00, 15972.82it/s]\n"
     ]
    },
    {
     "output_type": "stream",
     "name": "stdout",
     "text": [
      "Train: 1.0000| Val: 0.7840| Test: 0.8090| Eval Time: 0.3431s\n",
      "Epoch 84| Loss: 0.0017| Acc: 1.0000| Train Time: 0.0420s\n"
     ]
    },
    {
     "output_type": "stream",
     "name": "stderr",
     "text": [
      "Evaluating: 100%|██████████| 5416/5416 [00:00<00:00, 17248.53it/s]\n"
     ]
    },
    {
     "output_type": "stream",
     "name": "stdout",
     "text": [
      "Train: 1.0000| Val: 0.7840| Test: 0.8090| Eval Time: 0.3200s\n",
      "Epoch 85| Loss: 0.0025| Acc: 1.0000| Train Time: 0.0410s\n"
     ]
    },
    {
     "output_type": "stream",
     "name": "stderr",
     "text": [
      "Evaluating: 100%|██████████| 5416/5416 [00:00<00:00, 16819.92it/s]\n"
     ]
    },
    {
     "output_type": "stream",
     "name": "stdout",
     "text": [
      "Train: 1.0000| Val: 0.7840| Test: 0.8090| Eval Time: 0.3270s\n",
      "Epoch 86| Loss: 0.0023| Acc: 1.0000| Train Time: 0.0460s\n"
     ]
    },
    {
     "output_type": "stream",
     "name": "stderr",
     "text": [
      "Evaluating: 100%|██████████| 5416/5416 [00:00<00:00, 16736.94it/s]\n"
     ]
    },
    {
     "output_type": "stream",
     "name": "stdout",
     "text": [
      "Train: 1.0000| Val: 0.7840| Test: 0.8090| Eval Time: 0.3316s\n",
      "\n",
      "Result of  3. run| Train: 1.0000| Val: 0.8020| Test: 0.8110\n",
      "\n",
      "Run 04 for GatV1_K2_s and Cora:\n"
     ]
    },
    {
     "output_type": "stream",
     "name": "stderr",
     "text": [
      "Epoch 01: 100%|██████████| 140/140 [00:00<00:00, 3110.55it/s]\n"
     ]
    },
    {
     "output_type": "stream",
     "name": "stdout",
     "text": [
      "Epoch 01| Loss: 2.0259| Acc: 0.1571| Train Time: 0.0500s\n"
     ]
    },
    {
     "output_type": "stream",
     "name": "stderr",
     "text": [
      "Evaluating: 100%|██████████| 5416/5416 [00:00<00:00, 16534.03it/s]\n"
     ]
    },
    {
     "output_type": "stream",
     "name": "stdout",
     "text": [
      "Train: 0.8786| Val: 0.5820| Test: 0.6060| Eval Time: 0.3346s\n",
      "Epoch 02| Loss: 1.3643| Acc: 0.7214| Train Time: 0.0450s\n"
     ]
    },
    {
     "output_type": "stream",
     "name": "stderr",
     "text": [
      "Evaluating: 100%|██████████| 5416/5416 [00:00<00:00, 16972.80it/s]\n"
     ]
    },
    {
     "output_type": "stream",
     "name": "stdout",
     "text": [
      "Train: 0.9643| Val: 0.7300| Test: 0.7500| Eval Time: 0.3241s\n",
      "Epoch 03| Loss: 1.0547| Acc: 0.8857| Train Time: 0.0440s\n"
     ]
    },
    {
     "output_type": "stream",
     "name": "stderr",
     "text": [
      "Evaluating: 100%|██████████| 5416/5416 [00:00<00:00, 16720.13it/s]\n"
     ]
    },
    {
     "output_type": "stream",
     "name": "stdout",
     "text": [
      "Train: 0.9643| Val: 0.7460| Test: 0.7590| Eval Time: 0.3299s\n",
      "Epoch 04| Loss: 0.6873| Acc: 0.9357| Train Time: 0.0400s\n"
     ]
    },
    {
     "output_type": "stream",
     "name": "stderr",
     "text": [
      "Evaluating: 100%|██████████| 5416/5416 [00:00<00:00, 16816.45it/s]\n"
     ]
    },
    {
     "output_type": "stream",
     "name": "stdout",
     "text": [
      "Train: 0.9714| Val: 0.7720| Test: 0.7870| Eval Time: 0.3296s\n",
      "Epoch 05| Loss: 0.6086| Acc: 0.9500| Train Time: 0.0410s\n"
     ]
    },
    {
     "output_type": "stream",
     "name": "stderr",
     "text": [
      "Evaluating: 100%|██████████| 5416/5416 [00:00<00:00, 16664.75it/s]\n"
     ]
    },
    {
     "output_type": "stream",
     "name": "stdout",
     "text": [
      "Train: 0.9786| Val: 0.7780| Test: 0.8020| Eval Time: 0.3310s\n",
      "Epoch 06| Loss: 0.4526| Acc: 0.9643| Train Time: 0.0490s\n"
     ]
    },
    {
     "output_type": "stream",
     "name": "stderr",
     "text": [
      "Evaluating: 100%|██████████| 5416/5416 [00:00<00:00, 17139.23it/s]\n"
     ]
    },
    {
     "output_type": "stream",
     "name": "stdout",
     "text": [
      "Train: 0.9929| Val: 0.7780| Test: 0.8100| Eval Time: 0.3200s\n",
      "Epoch 07| Loss: 0.3513| Acc: 0.9857| Train Time: 0.0430s\n"
     ]
    },
    {
     "output_type": "stream",
     "name": "stderr",
     "text": [
      "Evaluating: 100%|██████████| 5416/5416 [00:00<00:00, 16741.21it/s]\n"
     ]
    },
    {
     "output_type": "stream",
     "name": "stdout",
     "text": [
      "Train: 1.0000| Val: 0.7760| Test: 0.8110| Eval Time: 0.3295s\n",
      "Epoch 08| Loss: 0.3012| Acc: 0.9786| Train Time: 0.0390s\n"
     ]
    },
    {
     "output_type": "stream",
     "name": "stderr",
     "text": [
      "Evaluating: 100%|██████████| 5416/5416 [00:00<00:00, 16870.69it/s]\n"
     ]
    },
    {
     "output_type": "stream",
     "name": "stdout",
     "text": [
      "Train: 1.0000| Val: 0.7800| Test: 0.8090| Eval Time: 0.3270s\n",
      "Epoch 09| Loss: 0.2067| Acc: 0.9714| Train Time: 0.0430s\n"
     ]
    },
    {
     "output_type": "stream",
     "name": "stderr",
     "text": [
      "Evaluating: 100%|██████████| 5416/5416 [00:00<00:00, 17302.90it/s]\n"
     ]
    },
    {
     "output_type": "stream",
     "name": "stdout",
     "text": [
      "Train: 1.0000| Val: 0.7800| Test: 0.8100| Eval Time: 0.3190s\n",
      "Epoch 10| Loss: 0.2253| Acc: 1.0000| Train Time: 0.0440s\n"
     ]
    },
    {
     "output_type": "stream",
     "name": "stderr",
     "text": [
      "Evaluating: 100%|██████████| 5416/5416 [00:00<00:00, 16657.56it/s]\n"
     ]
    },
    {
     "output_type": "stream",
     "name": "stdout",
     "text": [
      "Train: 1.0000| Val: 0.7740| Test: 0.8070| Eval Time: 0.3322s\n",
      "Epoch 11| Loss: 0.1566| Acc: 1.0000| Train Time: 0.0410s\n"
     ]
    },
    {
     "output_type": "stream",
     "name": "stderr",
     "text": [
      "Evaluating: 100%|██████████| 5416/5416 [00:00<00:00, 16461.40it/s]\n"
     ]
    },
    {
     "output_type": "stream",
     "name": "stdout",
     "text": [
      "Train: 1.0000| Val: 0.7720| Test: 0.8030| Eval Time: 0.3350s\n",
      "Epoch 12| Loss: 0.1223| Acc: 1.0000| Train Time: 0.0450s\n"
     ]
    },
    {
     "output_type": "stream",
     "name": "stderr",
     "text": [
      "Evaluating: 100%|██████████| 5416/5416 [00:00<00:00, 17248.39it/s]\n"
     ]
    },
    {
     "output_type": "stream",
     "name": "stdout",
     "text": [
      "Train: 1.0000| Val: 0.7700| Test: 0.8010| Eval Time: 0.3210s\n",
      "Epoch 13| Loss: 0.1281| Acc: 1.0000| Train Time: 0.0455s\n"
     ]
    },
    {
     "output_type": "stream",
     "name": "stderr",
     "text": [
      "Evaluating: 100%|██████████| 5416/5416 [00:00<00:00, 17085.36it/s]\n"
     ]
    },
    {
     "output_type": "stream",
     "name": "stdout",
     "text": [
      "Train: 1.0000| Val: 0.7720| Test: 0.7960| Eval Time: 0.3230s\n",
      "Epoch 14| Loss: 0.0835| Acc: 0.9929| Train Time: 0.0450s\n"
     ]
    },
    {
     "output_type": "stream",
     "name": "stderr",
     "text": [
      "Evaluating: 100%|██████████| 5416/5416 [00:00<00:00, 16022.09it/s]\n"
     ]
    },
    {
     "output_type": "stream",
     "name": "stdout",
     "text": [
      "Train: 1.0000| Val: 0.7660| Test: 0.7880| Eval Time: 0.3450s\n",
      "Epoch 15| Loss: 0.0815| Acc: 1.0000| Train Time: 0.0435s\n"
     ]
    },
    {
     "output_type": "stream",
     "name": "stderr",
     "text": [
      "Evaluating: 100%|██████████| 5416/5416 [00:00<00:00, 16764.36it/s]\n"
     ]
    },
    {
     "output_type": "stream",
     "name": "stdout",
     "text": [
      "Train: 1.0000| Val: 0.7620| Test: 0.7870| Eval Time: 0.3301s\n",
      "Epoch 16| Loss: 0.0711| Acc: 1.0000| Train Time: 0.0450s\n"
     ]
    },
    {
     "output_type": "stream",
     "name": "stderr",
     "text": [
      "Evaluating: 100%|██████████| 5416/5416 [00:00<00:00, 16412.23it/s]\n"
     ]
    },
    {
     "output_type": "stream",
     "name": "stdout",
     "text": [
      "Train: 1.0000| Val: 0.7620| Test: 0.7860| Eval Time: 0.3370s\n",
      "Epoch 17| Loss: 0.0651| Acc: 1.0000| Train Time: 0.0460s\n"
     ]
    },
    {
     "output_type": "stream",
     "name": "stderr",
     "text": [
      "Evaluating: 100%|██████████| 5416/5416 [00:00<00:00, 16362.63it/s]\n"
     ]
    },
    {
     "output_type": "stream",
     "name": "stdout",
     "text": [
      "Train: 1.0000| Val: 0.7580| Test: 0.7860| Eval Time: 0.3370s\n",
      "Epoch 18| Loss: 0.0437| Acc: 1.0000| Train Time: 0.0450s\n"
     ]
    },
    {
     "output_type": "stream",
     "name": "stderr",
     "text": [
      "Evaluating: 100%|██████████| 5416/5416 [00:00<00:00, 16815.44it/s]\n"
     ]
    },
    {
     "output_type": "stream",
     "name": "stdout",
     "text": [
      "Train: 1.0000| Val: 0.7520| Test: 0.7860| Eval Time: 0.3271s\n",
      "Epoch 19| Loss: 0.0229| Acc: 1.0000| Train Time: 0.0400s\n"
     ]
    },
    {
     "output_type": "stream",
     "name": "stderr",
     "text": [
      "Evaluating: 100%|██████████| 5416/5416 [00:00<00:00, 17411.29it/s]\n"
     ]
    },
    {
     "output_type": "stream",
     "name": "stdout",
     "text": [
      "Train: 1.0000| Val: 0.7480| Test: 0.7820| Eval Time: 0.3175s\n",
      "Epoch 20| Loss: 0.0166| Acc: 1.0000| Train Time: 0.0410s\n"
     ]
    },
    {
     "output_type": "stream",
     "name": "stderr",
     "text": [
      "Evaluating: 100%|██████████| 5416/5416 [00:00<00:00, 17055.65it/s]\n"
     ]
    },
    {
     "output_type": "stream",
     "name": "stdout",
     "text": [
      "Train: 1.0000| Val: 0.7480| Test: 0.7810| Eval Time: 0.3235s\n",
      "Epoch 21| Loss: 0.0317| Acc: 1.0000| Train Time: 0.0465s\n"
     ]
    },
    {
     "output_type": "stream",
     "name": "stderr",
     "text": [
      "Evaluating: 100%|██████████| 5416/5416 [00:00<00:00, 17469.39it/s]\n"
     ]
    },
    {
     "output_type": "stream",
     "name": "stdout",
     "text": [
      "Train: 1.0000| Val: 0.7500| Test: 0.7800| Eval Time: 0.3160s\n",
      "Epoch 22| Loss: 0.0406| Acc: 1.0000| Train Time: 0.0400s\n"
     ]
    },
    {
     "output_type": "stream",
     "name": "stderr",
     "text": [
      "Evaluating: 100%|██████████| 5416/5416 [00:00<00:00, 17162.98it/s]\n"
     ]
    },
    {
     "output_type": "stream",
     "name": "stdout",
     "text": [
      "Train: 1.0000| Val: 0.7520| Test: 0.7810| Eval Time: 0.3206s\n",
      "Epoch 23| Loss: 0.0192| Acc: 1.0000| Train Time: 0.0395s\n"
     ]
    },
    {
     "output_type": "stream",
     "name": "stderr",
     "text": [
      "Evaluating: 100%|██████████| 5416/5416 [00:00<00:00, 16660.90it/s]\n"
     ]
    },
    {
     "output_type": "stream",
     "name": "stdout",
     "text": [
      "Train: 1.0000| Val: 0.7520| Test: 0.7820| Eval Time: 0.3301s\n",
      "Epoch 24| Loss: 0.0287| Acc: 1.0000| Train Time: 0.0415s\n"
     ]
    },
    {
     "output_type": "stream",
     "name": "stderr",
     "text": [
      "Evaluating: 100%|██████████| 5416/5416 [00:00<00:00, 16507.80it/s]\n"
     ]
    },
    {
     "output_type": "stream",
     "name": "stdout",
     "text": [
      "Train: 1.0000| Val: 0.7520| Test: 0.7830| Eval Time: 0.3341s\n",
      "Epoch 25| Loss: 0.0120| Acc: 1.0000| Train Time: 0.0431s\n"
     ]
    },
    {
     "output_type": "stream",
     "name": "stderr",
     "text": [
      "Evaluating: 100%|██████████| 5416/5416 [00:00<00:00, 13682.85it/s]\n"
     ]
    },
    {
     "output_type": "stream",
     "name": "stdout",
     "text": [
      "Train: 1.0000| Val: 0.7520| Test: 0.7800| Eval Time: 0.4018s\n",
      "Epoch 26| Loss: 0.0192| Acc: 1.0000| Train Time: 0.0480s\n"
     ]
    },
    {
     "output_type": "stream",
     "name": "stderr",
     "text": [
      "Evaluating: 100%|██████████| 5416/5416 [00:00<00:00, 14754.85it/s]\n"
     ]
    },
    {
     "output_type": "stream",
     "name": "stdout",
     "text": [
      "Train: 1.0000| Val: 0.7520| Test: 0.7780| Eval Time: 0.3721s\n",
      "Epoch 27| Loss: 0.0178| Acc: 1.0000| Train Time: 0.0500s\n"
     ]
    },
    {
     "output_type": "stream",
     "name": "stderr",
     "text": [
      "Evaluating: 100%|██████████| 5416/5416 [00:00<00:00, 15761.61it/s]\n"
     ]
    },
    {
     "output_type": "stream",
     "name": "stdout",
     "text": [
      "Train: 1.0000| Val: 0.7480| Test: 0.7770| Eval Time: 0.3496s\n",
      "Epoch 28| Loss: 0.0142| Acc: 1.0000| Train Time: 0.0530s\n"
     ]
    },
    {
     "output_type": "stream",
     "name": "stderr",
     "text": [
      "Evaluating: 100%|██████████| 5416/5416 [00:00<00:00, 17165.29it/s]\n"
     ]
    },
    {
     "output_type": "stream",
     "name": "stdout",
     "text": [
      "Train: 1.0000| Val: 0.7480| Test: 0.7770| Eval Time: 0.3215s\n",
      "Epoch 29| Loss: 0.0076| Acc: 1.0000| Train Time: 0.0440s\n"
     ]
    },
    {
     "output_type": "stream",
     "name": "stderr",
     "text": [
      "Evaluating: 100%|██████████| 5416/5416 [00:00<00:00, 16460.77it/s]\n"
     ]
    },
    {
     "output_type": "stream",
     "name": "stdout",
     "text": [
      "Train: 1.0000| Val: 0.7480| Test: 0.7760| Eval Time: 0.3360s\n",
      "Epoch 30| Loss: 0.0158| Acc: 1.0000| Train Time: 0.0390s\n"
     ]
    },
    {
     "output_type": "stream",
     "name": "stderr",
     "text": [
      "Evaluating: 100%|██████████| 5416/5416 [00:00<00:00, 17084.45it/s]\n"
     ]
    },
    {
     "output_type": "stream",
     "name": "stdout",
     "text": [
      "Train: 1.0000| Val: 0.7500| Test: 0.7760| Eval Time: 0.3230s\n",
      "Epoch 31| Loss: 0.0156| Acc: 1.0000| Train Time: 0.0440s\n"
     ]
    },
    {
     "output_type": "stream",
     "name": "stderr",
     "text": [
      "Evaluating: 100%|██████████| 5416/5416 [00:00<00:00, 17901.93it/s]\n"
     ]
    },
    {
     "output_type": "stream",
     "name": "stdout",
     "text": [
      "Train: 1.0000| Val: 0.7500| Test: 0.7790| Eval Time: 0.3085s\n",
      "Epoch 32| Loss: 0.0075| Acc: 1.0000| Train Time: 0.0480s\n"
     ]
    },
    {
     "output_type": "stream",
     "name": "stderr",
     "text": [
      "Evaluating: 100%|██████████| 5416/5416 [00:00<00:00, 17139.40it/s]\n"
     ]
    },
    {
     "output_type": "stream",
     "name": "stdout",
     "text": [
      "Train: 1.0000| Val: 0.7500| Test: 0.7780| Eval Time: 0.3230s\n",
      "Epoch 33| Loss: 0.0048| Acc: 1.0000| Train Time: 0.0440s\n"
     ]
    },
    {
     "output_type": "stream",
     "name": "stderr",
     "text": [
      "Evaluating: 100%|██████████| 5416/5416 [00:00<00:00, 17078.11it/s]\n"
     ]
    },
    {
     "output_type": "stream",
     "name": "stdout",
     "text": [
      "Train: 1.0000| Val: 0.7500| Test: 0.7780| Eval Time: 0.3241s\n",
      "Epoch 34| Loss: 0.0083| Acc: 1.0000| Train Time: 0.0460s\n"
     ]
    },
    {
     "output_type": "stream",
     "name": "stderr",
     "text": [
      "Evaluating: 100%|██████████| 5416/5416 [00:00<00:00, 17248.56it/s]\n"
     ]
    },
    {
     "output_type": "stream",
     "name": "stdout",
     "text": [
      "Train: 1.0000| Val: 0.7520| Test: 0.7780| Eval Time: 0.3190s\n",
      "Epoch 35| Loss: 0.0073| Acc: 1.0000| Train Time: 0.0430s\n"
     ]
    },
    {
     "output_type": "stream",
     "name": "stderr",
     "text": [
      "Evaluating: 100%|██████████| 5416/5416 [00:00<00:00, 17046.55it/s]\n"
     ]
    },
    {
     "output_type": "stream",
     "name": "stdout",
     "text": [
      "Train: 1.0000| Val: 0.7520| Test: 0.7760| Eval Time: 0.3237s\n",
      "Epoch 36| Loss: 0.0043| Acc: 1.0000| Train Time: 0.0400s\n"
     ]
    },
    {
     "output_type": "stream",
     "name": "stderr",
     "text": [
      "Evaluating: 100%|██████████| 5416/5416 [00:00<00:00, 16314.14it/s]\n"
     ]
    },
    {
     "output_type": "stream",
     "name": "stdout",
     "text": [
      "Train: 1.0000| Val: 0.7520| Test: 0.7760| Eval Time: 0.3390s\n",
      "Epoch 37| Loss: 0.0034| Acc: 1.0000| Train Time: 0.0450s\n"
     ]
    },
    {
     "output_type": "stream",
     "name": "stderr",
     "text": [
      "Evaluating: 100%|██████████| 5416/5416 [00:00<00:00, 17085.36it/s]\n"
     ]
    },
    {
     "output_type": "stream",
     "name": "stdout",
     "text": [
      "Train: 1.0000| Val: 0.7520| Test: 0.7760| Eval Time: 0.3230s\n",
      "Epoch 38| Loss: 0.0127| Acc: 1.0000| Train Time: 0.0461s\n"
     ]
    },
    {
     "output_type": "stream",
     "name": "stderr",
     "text": [
      "Evaluating: 100%|██████████| 5416/5416 [00:00<00:00, 16870.23it/s]\n"
     ]
    },
    {
     "output_type": "stream",
     "name": "stdout",
     "text": [
      "Train: 1.0000| Val: 0.7520| Test: 0.7760| Eval Time: 0.3270s\n",
      "Epoch 39| Loss: 0.0035| Acc: 1.0000| Train Time: 0.0450s\n"
     ]
    },
    {
     "output_type": "stream",
     "name": "stderr",
     "text": [
      "Evaluating: 100%|██████████| 5416/5416 [00:00<00:00, 17780.95it/s]\n"
     ]
    },
    {
     "output_type": "stream",
     "name": "stdout",
     "text": [
      "Train: 1.0000| Val: 0.7520| Test: 0.7750| Eval Time: 0.3116s\n",
      "Epoch 40| Loss: 0.0035| Acc: 1.0000| Train Time: 0.0460s\n"
     ]
    },
    {
     "output_type": "stream",
     "name": "stderr",
     "text": [
      "Evaluating: 100%|██████████| 5416/5416 [00:00<00:00, 16382.24it/s]\n"
     ]
    },
    {
     "output_type": "stream",
     "name": "stdout",
     "text": [
      "Train: 1.0000| Val: 0.7520| Test: 0.7740| Eval Time: 0.3386s\n",
      "Epoch 41| Loss: 0.0032| Acc: 1.0000| Train Time: 0.0410s\n"
     ]
    },
    {
     "output_type": "stream",
     "name": "stderr",
     "text": [
      "Evaluating: 100%|██████████| 5416/5416 [00:00<00:00, 16313.18it/s]\n"
     ]
    },
    {
     "output_type": "stream",
     "name": "stdout",
     "text": [
      "Train: 1.0000| Val: 0.7520| Test: 0.7740| Eval Time: 0.3370s\n",
      "Epoch 42| Loss: 0.0078| Acc: 1.0000| Train Time: 0.0420s\n"
     ]
    },
    {
     "output_type": "stream",
     "name": "stderr",
     "text": [
      "Evaluating: 100%|██████████| 5416/5416 [00:00<00:00, 17248.44it/s]\n"
     ]
    },
    {
     "output_type": "stream",
     "name": "stdout",
     "text": [
      "Train: 1.0000| Val: 0.7520| Test: 0.7750| Eval Time: 0.3210s\n",
      "Epoch 43| Loss: 0.0049| Acc: 1.0000| Train Time: 0.0540s\n"
     ]
    },
    {
     "output_type": "stream",
     "name": "stderr",
     "text": [
      "Evaluating: 100%|██████████| 5416/5416 [00:00<00:00, 17527.75it/s]\n"
     ]
    },
    {
     "output_type": "stream",
     "name": "stdout",
     "text": [
      "Train: 1.0000| Val: 0.7520| Test: 0.7750| Eval Time: 0.3150s\n",
      "Epoch 44| Loss: 0.0047| Acc: 1.0000| Train Time: 0.0445s\n"
     ]
    },
    {
     "output_type": "stream",
     "name": "stderr",
     "text": [
      "Evaluating: 100%|██████████| 5416/5416 [00:00<00:00, 16924.98it/s]\n"
     ]
    },
    {
     "output_type": "stream",
     "name": "stdout",
     "text": [
      "Train: 1.0000| Val: 0.7520| Test: 0.7740| Eval Time: 0.3255s\n",
      "Epoch 45| Loss: 0.0025| Acc: 1.0000| Train Time: 0.0400s\n"
     ]
    },
    {
     "output_type": "stream",
     "name": "stderr",
     "text": [
      "Evaluating: 100%|██████████| 5416/5416 [00:00<00:00, 15945.10it/s]\n"
     ]
    },
    {
     "output_type": "stream",
     "name": "stdout",
     "text": [
      "Train: 1.0000| Val: 0.7520| Test: 0.7740| Eval Time: 0.3447s\n",
      "Epoch 46| Loss: 0.0026| Acc: 1.0000| Train Time: 0.0410s\n"
     ]
    },
    {
     "output_type": "stream",
     "name": "stderr",
     "text": [
      "Evaluating: 100%|██████████| 5416/5416 [00:00<00:00, 16486.44it/s]\n"
     ]
    },
    {
     "output_type": "stream",
     "name": "stdout",
     "text": [
      "Train: 1.0000| Val: 0.7520| Test: 0.7720| Eval Time: 0.3345s\n",
      "Epoch 47| Loss: 0.0060| Acc: 1.0000| Train Time: 0.0420s\n"
     ]
    },
    {
     "output_type": "stream",
     "name": "stderr",
     "text": [
      "Evaluating: 100%|██████████| 5416/5416 [00:00<00:00, 17164.91it/s]\n"
     ]
    },
    {
     "output_type": "stream",
     "name": "stdout",
     "text": [
      "Train: 1.0000| Val: 0.7500| Test: 0.7730| Eval Time: 0.3225s\n",
      "Epoch 48| Loss: 0.0022| Acc: 1.0000| Train Time: 0.0470s\n"
     ]
    },
    {
     "output_type": "stream",
     "name": "stderr",
     "text": [
      "Evaluating: 100%|██████████| 5416/5416 [00:00<00:00, 16978.22it/s]\n"
     ]
    },
    {
     "output_type": "stream",
     "name": "stdout",
     "text": [
      "Train: 1.0000| Val: 0.7500| Test: 0.7710| Eval Time: 0.3270s\n",
      "Epoch 49| Loss: 0.0014| Acc: 1.0000| Train Time: 0.0440s\n"
     ]
    },
    {
     "output_type": "stream",
     "name": "stderr",
     "text": [
      "Evaluating: 100%|██████████| 5416/5416 [00:00<00:00, 17757.43it/s]\n"
     ]
    },
    {
     "output_type": "stream",
     "name": "stdout",
     "text": [
      "Train: 1.0000| Val: 0.7500| Test: 0.7710| Eval Time: 0.3120s\n",
      "Epoch 50| Loss: 0.0037| Acc: 1.0000| Train Time: 0.0430s\n"
     ]
    },
    {
     "output_type": "stream",
     "name": "stderr",
     "text": [
      "Evaluating: 100%|██████████| 5416/5416 [00:00<00:00, 17303.65it/s]\n"
     ]
    },
    {
     "output_type": "stream",
     "name": "stdout",
     "text": [
      "Train: 1.0000| Val: 0.7500| Test: 0.7720| Eval Time: 0.3200s\n",
      "Epoch 51| Loss: 0.0068| Acc: 1.0000| Train Time: 0.0410s\n"
     ]
    },
    {
     "output_type": "stream",
     "name": "stderr",
     "text": [
      "Evaluating: 100%|██████████| 5416/5416 [00:00<00:00, 17870.02it/s]\n"
     ]
    },
    {
     "output_type": "stream",
     "name": "stdout",
     "text": [
      "Train: 1.0000| Val: 0.7500| Test: 0.7720| Eval Time: 0.3091s\n",
      "Epoch 52| Loss: 0.0050| Acc: 1.0000| Train Time: 0.0460s\n"
     ]
    },
    {
     "output_type": "stream",
     "name": "stderr",
     "text": [
      "Evaluating: 100%|██████████| 5416/5416 [00:00<00:00, 17839.64it/s]\n"
     ]
    },
    {
     "output_type": "stream",
     "name": "stdout",
     "text": [
      "Train: 1.0000| Val: 0.7480| Test: 0.7720| Eval Time: 0.3076s\n",
      "Epoch 53| Loss: 0.0060| Acc: 1.0000| Train Time: 0.0400s\n"
     ]
    },
    {
     "output_type": "stream",
     "name": "stderr",
     "text": [
      "Evaluating: 100%|██████████| 5416/5416 [00:00<00:00, 17634.23it/s]\n"
     ]
    },
    {
     "output_type": "stream",
     "name": "stdout",
     "text": [
      "Train: 1.0000| Val: 0.7480| Test: 0.7720| Eval Time: 0.3121s\n",
      "Epoch 54| Loss: 0.0060| Acc: 1.0000| Train Time: 0.0450s\n"
     ]
    },
    {
     "output_type": "stream",
     "name": "stderr",
     "text": [
      "Evaluating: 100%|██████████| 5416/5416 [00:00<00:00, 17728.15it/s]\n"
     ]
    },
    {
     "output_type": "stream",
     "name": "stdout",
     "text": [
      "Train: 1.0000| Val: 0.7480| Test: 0.7720| Eval Time: 0.3115s\n",
      "Epoch 55| Loss: 0.0020| Acc: 1.0000| Train Time: 0.0441s\n"
     ]
    },
    {
     "output_type": "stream",
     "name": "stderr",
     "text": [
      "Evaluating: 100%|██████████| 5416/5416 [00:00<00:00, 18326.78it/s]\n"
     ]
    },
    {
     "output_type": "stream",
     "name": "stdout",
     "text": [
      "Train: 1.0000| Val: 0.7460| Test: 0.7720| Eval Time: 0.3036s\n",
      "Epoch 56| Loss: 0.0088| Acc: 1.0000| Train Time: 0.0450s\n"
     ]
    },
    {
     "output_type": "stream",
     "name": "stderr",
     "text": [
      "Evaluating: 100%|██████████| 5416/5416 [00:00<00:00, 17946.10it/s]\n"
     ]
    },
    {
     "output_type": "stream",
     "name": "stdout",
     "text": [
      "Train: 1.0000| Val: 0.7500| Test: 0.7720| Eval Time: 0.3078s\n",
      "Epoch 57| Loss: 0.0040| Acc: 1.0000| Train Time: 0.0440s\n"
     ]
    },
    {
     "output_type": "stream",
     "name": "stderr",
     "text": [
      "Evaluating: 100%|██████████| 5416/5416 [00:00<00:00, 16894.89it/s]\n"
     ]
    },
    {
     "output_type": "stream",
     "name": "stdout",
     "text": [
      "Train: 1.0000| Val: 0.7520| Test: 0.7720| Eval Time: 0.3256s\n",
      "Epoch 58| Loss: 0.0067| Acc: 1.0000| Train Time: 0.0420s\n"
     ]
    },
    {
     "output_type": "stream",
     "name": "stderr",
     "text": [
      "Evaluating: 100%|██████████| 5416/5416 [00:00<00:00, 17727.45it/s]\n"
     ]
    },
    {
     "output_type": "stream",
     "name": "stdout",
     "text": [
      "Train: 1.0000| Val: 0.7520| Test: 0.7730| Eval Time: 0.3125s\n",
      "\n",
      "Result of  4. run| Train: 1.0000| Val: 0.7800| Test: 0.8090\n",
      "\n",
      "Run 05 for GatV1_K2_s and Cora:\n"
     ]
    },
    {
     "output_type": "stream",
     "name": "stderr",
     "text": [
      "Epoch 01: 100%|██████████| 140/140 [00:00<00:00, 2857.22it/s]\n"
     ]
    },
    {
     "output_type": "stream",
     "name": "stdout",
     "text": [
      "Epoch 01| Loss: 2.0861| Acc: 0.0857| Train Time: 0.0510s\n"
     ]
    },
    {
     "output_type": "stream",
     "name": "stderr",
     "text": [
      "Evaluating: 100%|██████████| 5416/5416 [00:00<00:00, 18171.19it/s]\n"
     ]
    },
    {
     "output_type": "stream",
     "name": "stdout",
     "text": [
      "Train: 0.8286| Val: 0.5640| Test: 0.6080| Eval Time: 0.3036s\n",
      "Epoch 02| Loss: 1.3840| Acc: 0.7214| Train Time: 0.0410s\n"
     ]
    },
    {
     "output_type": "stream",
     "name": "stderr",
     "text": [
      "Evaluating: 100%|██████████| 5416/5416 [00:00<00:00, 17699.33it/s]\n"
     ]
    },
    {
     "output_type": "stream",
     "name": "stdout",
     "text": [
      "Train: 0.9143| Val: 0.7320| Test: 0.7760| Eval Time: 0.3110s\n",
      "Epoch 03| Loss: 1.0621| Acc: 0.8571| Train Time: 0.0410s\n"
     ]
    },
    {
     "output_type": "stream",
     "name": "stderr",
     "text": [
      "Evaluating: 100%|██████████| 5416/5416 [00:00<00:00, 18113.71it/s]\n"
     ]
    },
    {
     "output_type": "stream",
     "name": "stdout",
     "text": [
      "Train: 0.9571| Val: 0.7580| Test: 0.8130| Eval Time: 0.3030s\n",
      "Epoch 04| Loss: 0.8622| Acc: 0.9071| Train Time: 0.0400s\n"
     ]
    },
    {
     "output_type": "stream",
     "name": "stderr",
     "text": [
      "Evaluating: 100%|██████████| 5416/5416 [00:00<00:00, 17874.59it/s]\n"
     ]
    },
    {
     "output_type": "stream",
     "name": "stdout",
     "text": [
      "Train: 0.9714| Val: 0.7680| Test: 0.8120| Eval Time: 0.3090s\n",
      "Epoch 05| Loss: 0.5934| Acc: 0.9214| Train Time: 0.0415s\n"
     ]
    },
    {
     "output_type": "stream",
     "name": "stderr",
     "text": [
      "Evaluating: 100%|██████████| 5416/5416 [00:00<00:00, 17874.76it/s]\n"
     ]
    },
    {
     "output_type": "stream",
     "name": "stdout",
     "text": [
      "Train: 0.9929| Val: 0.7680| Test: 0.7990| Eval Time: 0.3080s\n",
      "Epoch 06| Loss: 0.5707| Acc: 0.9214| Train Time: 0.0400s\n"
     ]
    },
    {
     "output_type": "stream",
     "name": "stderr",
     "text": [
      "Evaluating: 100%|██████████| 5416/5416 [00:00<00:00, 17641.73it/s]\n"
     ]
    },
    {
     "output_type": "stream",
     "name": "stdout",
     "text": [
      "Train: 0.9929| Val: 0.7740| Test: 0.7870| Eval Time: 0.3130s\n",
      "Epoch 07| Loss: 0.4442| Acc: 0.9214| Train Time: 0.0460s\n"
     ]
    },
    {
     "output_type": "stream",
     "name": "stderr",
     "text": [
      "Evaluating: 100%|██████████| 5416/5416 [00:00<00:00, 17539.31it/s]\n"
     ]
    },
    {
     "output_type": "stream",
     "name": "stdout",
     "text": [
      "Train: 0.9929| Val: 0.7580| Test: 0.7840| Eval Time: 0.3138s\n",
      "Epoch 08| Loss: 0.3412| Acc: 0.9857| Train Time: 0.0420s\n"
     ]
    },
    {
     "output_type": "stream",
     "name": "stderr",
     "text": [
      "Evaluating: 100%|██████████| 5416/5416 [00:00<00:00, 17085.38it/s]\n"
     ]
    },
    {
     "output_type": "stream",
     "name": "stdout",
     "text": [
      "Train: 0.9929| Val: 0.7600| Test: 0.7850| Eval Time: 0.3220s\n",
      "Epoch 09| Loss: 0.3468| Acc: 0.9857| Train Time: 0.0410s\n"
     ]
    },
    {
     "output_type": "stream",
     "name": "stderr",
     "text": [
      "Evaluating: 100%|██████████| 5416/5416 [00:00<00:00, 17650.38it/s]\n"
     ]
    },
    {
     "output_type": "stream",
     "name": "stdout",
     "text": [
      "Train: 0.9929| Val: 0.7640| Test: 0.7820| Eval Time: 0.3118s\n",
      "Epoch 10| Loss: 0.2638| Acc: 0.9929| Train Time: 0.0420s\n"
     ]
    },
    {
     "output_type": "stream",
     "name": "stderr",
     "text": [
      "Evaluating: 100%|██████████| 5416/5416 [00:00<00:00, 17107.10it/s]\n"
     ]
    },
    {
     "output_type": "stream",
     "name": "stdout",
     "text": [
      "Train: 1.0000| Val: 0.7680| Test: 0.7820| Eval Time: 0.3216s\n",
      "Epoch 11| Loss: 0.1535| Acc: 1.0000| Train Time: 0.0390s\n"
     ]
    },
    {
     "output_type": "stream",
     "name": "stderr",
     "text": [
      "Evaluating: 100%|██████████| 5416/5416 [00:00<00:00, 17641.55it/s]\n"
     ]
    },
    {
     "output_type": "stream",
     "name": "stdout",
     "text": [
      "Train: 1.0000| Val: 0.7760| Test: 0.7800| Eval Time: 0.3130s\n",
      "Epoch 12| Loss: 0.1511| Acc: 0.9929| Train Time: 0.0390s\n"
     ]
    },
    {
     "output_type": "stream",
     "name": "stderr",
     "text": [
      "Evaluating: 100%|██████████| 5416/5416 [00:00<00:00, 17785.82it/s]\n"
     ]
    },
    {
     "output_type": "stream",
     "name": "stdout",
     "text": [
      "Train: 1.0000| Val: 0.7720| Test: 0.7820| Eval Time: 0.3105s\n",
      "Epoch 13| Loss: 0.1396| Acc: 0.9929| Train Time: 0.0430s\n"
     ]
    },
    {
     "output_type": "stream",
     "name": "stderr",
     "text": [
      "Evaluating: 100%|██████████| 5416/5416 [00:00<00:00, 18123.41it/s]\n"
     ]
    },
    {
     "output_type": "stream",
     "name": "stdout",
     "text": [
      "Train: 1.0000| Val: 0.7740| Test: 0.7850| Eval Time: 0.3038s\n",
      "Epoch 14| Loss: 0.1034| Acc: 1.0000| Train Time: 0.0410s\n"
     ]
    },
    {
     "output_type": "stream",
     "name": "stderr",
     "text": [
      "Evaluating: 100%|██████████| 5416/5416 [00:00<00:00, 18234.61it/s]\n"
     ]
    },
    {
     "output_type": "stream",
     "name": "stdout",
     "text": [
      "Train: 1.0000| Val: 0.7720| Test: 0.7900| Eval Time: 0.3030s\n",
      "Epoch 15| Loss: 0.0665| Acc: 1.0000| Train Time: 0.0450s\n"
     ]
    },
    {
     "output_type": "stream",
     "name": "stderr",
     "text": [
      "Evaluating: 100%|██████████| 5416/5416 [00:00<00:00, 18344.15it/s]\n"
     ]
    },
    {
     "output_type": "stream",
     "name": "stdout",
     "text": [
      "Train: 1.0000| Val: 0.7760| Test: 0.7930| Eval Time: 0.3002s\n",
      "Epoch 16| Loss: 0.1204| Acc: 0.9929| Train Time: 0.0410s\n"
     ]
    },
    {
     "output_type": "stream",
     "name": "stderr",
     "text": [
      "Evaluating: 100%|██████████| 5416/5416 [00:00<00:00, 18164.62it/s]\n"
     ]
    },
    {
     "output_type": "stream",
     "name": "stdout",
     "text": [
      "Train: 1.0000| Val: 0.7740| Test: 0.7970| Eval Time: 0.3032s\n",
      "Epoch 17| Loss: 0.0809| Acc: 1.0000| Train Time: 0.0410s\n"
     ]
    },
    {
     "output_type": "stream",
     "name": "stderr",
     "text": [
      "Evaluating: 100%|██████████| 5416/5416 [00:00<00:00, 17579.02it/s]\n"
     ]
    },
    {
     "output_type": "stream",
     "name": "stdout",
     "text": [
      "Train: 1.0000| Val: 0.7760| Test: 0.7980| Eval Time: 0.3141s\n",
      "Epoch 18| Loss: 0.0442| Acc: 0.9929| Train Time: 0.0380s\n"
     ]
    },
    {
     "output_type": "stream",
     "name": "stderr",
     "text": [
      "Evaluating: 100%|██████████| 5416/5416 [00:00<00:00, 17471.04it/s]\n"
     ]
    },
    {
     "output_type": "stream",
     "name": "stdout",
     "text": [
      "Train: 1.0000| Val: 0.7820| Test: 0.8070| Eval Time: 0.3140s\n",
      "Epoch 19| Loss: 0.0506| Acc: 0.9929| Train Time: 0.0410s\n"
     ]
    },
    {
     "output_type": "stream",
     "name": "stderr",
     "text": [
      "Evaluating: 100%|██████████| 5416/5416 [00:00<00:00, 17829.13it/s]\n"
     ]
    },
    {
     "output_type": "stream",
     "name": "stdout",
     "text": [
      "Train: 1.0000| Val: 0.7780| Test: 0.8120| Eval Time: 0.3098s\n",
      "Epoch 20| Loss: 0.0425| Acc: 1.0000| Train Time: 0.0435s\n"
     ]
    },
    {
     "output_type": "stream",
     "name": "stderr",
     "text": [
      "Evaluating: 100%|██████████| 5416/5416 [00:00<00:00, 17873.84it/s]\n"
     ]
    },
    {
     "output_type": "stream",
     "name": "stdout",
     "text": [
      "Train: 1.0000| Val: 0.7760| Test: 0.8140| Eval Time: 0.3080s\n",
      "Epoch 21| Loss: 0.0413| Acc: 1.0000| Train Time: 0.0380s\n"
     ]
    },
    {
     "output_type": "stream",
     "name": "stderr",
     "text": [
      "Evaluating: 100%|██████████| 5416/5416 [00:00<00:00, 17653.79it/s]\n"
     ]
    },
    {
     "output_type": "stream",
     "name": "stdout",
     "text": [
      "Train: 1.0000| Val: 0.7820| Test: 0.8110| Eval Time: 0.3118s\n",
      "Epoch 22| Loss: 0.0285| Acc: 1.0000| Train Time: 0.0440s\n"
     ]
    },
    {
     "output_type": "stream",
     "name": "stderr",
     "text": [
      "Evaluating: 100%|██████████| 5416/5416 [00:00<00:00, 17453.78it/s]\n"
     ]
    },
    {
     "output_type": "stream",
     "name": "stdout",
     "text": [
      "Train: 1.0000| Val: 0.7760| Test: 0.8090| Eval Time: 0.3163s\n",
      "Epoch 23| Loss: 0.0257| Acc: 1.0000| Train Time: 0.0440s\n"
     ]
    },
    {
     "output_type": "stream",
     "name": "stderr",
     "text": [
      "Evaluating: 100%|██████████| 5416/5416 [00:00<00:00, 18229.37it/s]\n"
     ]
    },
    {
     "output_type": "stream",
     "name": "stdout",
     "text": [
      "Train: 1.0000| Val: 0.7780| Test: 0.8090| Eval Time: 0.3021s\n",
      "Epoch 24| Loss: 0.0176| Acc: 1.0000| Train Time: 0.0400s\n"
     ]
    },
    {
     "output_type": "stream",
     "name": "stderr",
     "text": [
      "Evaluating: 100%|██████████| 5416/5416 [00:00<00:00, 17247.09it/s]\n"
     ]
    },
    {
     "output_type": "stream",
     "name": "stdout",
     "text": [
      "Train: 1.0000| Val: 0.7760| Test: 0.8050| Eval Time: 0.3200s\n",
      "Epoch 25| Loss: 0.0145| Acc: 1.0000| Train Time: 0.0435s\n"
     ]
    },
    {
     "output_type": "stream",
     "name": "stderr",
     "text": [
      "Evaluating: 100%|██████████| 5416/5416 [00:00<00:00, 18547.00it/s]\n"
     ]
    },
    {
     "output_type": "stream",
     "name": "stdout",
     "text": [
      "Train: 1.0000| Val: 0.7760| Test: 0.8060| Eval Time: 0.2980s\n",
      "Epoch 26| Loss: 0.0398| Acc: 1.0000| Train Time: 0.0420s\n"
     ]
    },
    {
     "output_type": "stream",
     "name": "stderr",
     "text": [
      "Evaluating: 100%|██████████| 5416/5416 [00:00<00:00, 18646.88it/s]\n"
     ]
    },
    {
     "output_type": "stream",
     "name": "stdout",
     "text": [
      "Train: 1.0000| Val: 0.7740| Test: 0.8040| Eval Time: 0.2965s\n",
      "Epoch 27| Loss: 0.0258| Acc: 1.0000| Train Time: 0.0480s\n"
     ]
    },
    {
     "output_type": "stream",
     "name": "stderr",
     "text": [
      "Evaluating: 100%|██████████| 5416/5416 [00:00<00:00, 17386.86it/s]\n"
     ]
    },
    {
     "output_type": "stream",
     "name": "stdout",
     "text": [
      "Train: 1.0000| Val: 0.7740| Test: 0.8060| Eval Time: 0.3175s\n",
      "Epoch 28| Loss: 0.0157| Acc: 1.0000| Train Time: 0.0450s\n"
     ]
    },
    {
     "output_type": "stream",
     "name": "stderr",
     "text": [
      "Evaluating: 100%|██████████| 5416/5416 [00:00<00:00, 17874.70it/s]\n"
     ]
    },
    {
     "output_type": "stream",
     "name": "stdout",
     "text": [
      "Train: 1.0000| Val: 0.7740| Test: 0.8070| Eval Time: 0.3110s\n",
      "Epoch 29| Loss: 0.0156| Acc: 1.0000| Train Time: 0.0420s\n"
     ]
    },
    {
     "output_type": "stream",
     "name": "stderr",
     "text": [
      "Evaluating: 100%|██████████| 5416/5416 [00:00<00:00, 17270.93it/s]\n"
     ]
    },
    {
     "output_type": "stream",
     "name": "stdout",
     "text": [
      "Train: 1.0000| Val: 0.7740| Test: 0.8060| Eval Time: 0.3186s\n",
      "Epoch 30| Loss: 0.0135| Acc: 1.0000| Train Time: 0.0480s\n"
     ]
    },
    {
     "output_type": "stream",
     "name": "stderr",
     "text": [
      "Evaluating: 100%|██████████| 5416/5416 [00:00<00:00, 17759.25it/s]\n"
     ]
    },
    {
     "output_type": "stream",
     "name": "stdout",
     "text": [
      "Train: 1.0000| Val: 0.7740| Test: 0.8060| Eval Time: 0.3130s\n",
      "Epoch 31| Loss: 0.0087| Acc: 1.0000| Train Time: 0.0420s\n"
     ]
    },
    {
     "output_type": "stream",
     "name": "stderr",
     "text": [
      "Evaluating: 100%|██████████| 5416/5416 [00:00<00:00, 18051.03it/s]\n"
     ]
    },
    {
     "output_type": "stream",
     "name": "stdout",
     "text": [
      "Train: 1.0000| Val: 0.7720| Test: 0.8080| Eval Time: 0.3050s\n",
      "Epoch 32| Loss: 0.0062| Acc: 1.0000| Train Time: 0.0446s\n"
     ]
    },
    {
     "output_type": "stream",
     "name": "stderr",
     "text": [
      "Evaluating: 100%|██████████| 5416/5416 [00:00<00:00, 17844.46it/s]\n"
     ]
    },
    {
     "output_type": "stream",
     "name": "stdout",
     "text": [
      "Train: 1.0000| Val: 0.7740| Test: 0.8050| Eval Time: 0.3095s\n",
      "Epoch 33| Loss: 0.0171| Acc: 1.0000| Train Time: 0.0426s\n"
     ]
    },
    {
     "output_type": "stream",
     "name": "stderr",
     "text": [
      "Evaluating: 100%|██████████| 5416/5416 [00:00<00:00, 17527.63it/s]\n"
     ]
    },
    {
     "output_type": "stream",
     "name": "stdout",
     "text": [
      "Train: 1.0000| Val: 0.7740| Test: 0.8030| Eval Time: 0.3140s\n",
      "Epoch 34| Loss: 0.0145| Acc: 1.0000| Train Time: 0.0430s\n"
     ]
    },
    {
     "output_type": "stream",
     "name": "stderr",
     "text": [
      "Evaluating: 100%|██████████| 5416/5416 [00:00<00:00, 17218.41it/s]\n"
     ]
    },
    {
     "output_type": "stream",
     "name": "stdout",
     "text": [
      "Train: 1.0000| Val: 0.7740| Test: 0.8020| Eval Time: 0.3216s\n",
      "Epoch 35| Loss: 0.0175| Acc: 1.0000| Train Time: 0.0410s\n"
     ]
    },
    {
     "output_type": "stream",
     "name": "stderr",
     "text": [
      "Evaluating: 100%|██████████| 5416/5416 [00:00<00:00, 17720.94it/s]\n"
     ]
    },
    {
     "output_type": "stream",
     "name": "stdout",
     "text": [
      "Train: 1.0000| Val: 0.7740| Test: 0.8020| Eval Time: 0.3116s\n",
      "Epoch 36| Loss: 0.0140| Acc: 1.0000| Train Time: 0.0445s\n"
     ]
    },
    {
     "output_type": "stream",
     "name": "stderr",
     "text": [
      "Evaluating: 100%|██████████| 5416/5416 [00:00<00:00, 17812.21it/s]\n"
     ]
    },
    {
     "output_type": "stream",
     "name": "stdout",
     "text": [
      "Train: 1.0000| Val: 0.7720| Test: 0.8030| Eval Time: 0.3091s\n",
      "Epoch 37| Loss: 0.0132| Acc: 1.0000| Train Time: 0.0415s\n"
     ]
    },
    {
     "output_type": "stream",
     "name": "stderr",
     "text": [
      "Evaluating: 100%|██████████| 5416/5416 [00:00<00:00, 18019.81it/s]\n"
     ]
    },
    {
     "output_type": "stream",
     "name": "stdout",
     "text": [
      "Train: 1.0000| Val: 0.7720| Test: 0.8030| Eval Time: 0.3056s\n",
      "Epoch 38| Loss: 0.0111| Acc: 1.0000| Train Time: 0.0480s\n"
     ]
    },
    {
     "output_type": "stream",
     "name": "stderr",
     "text": [
      "Evaluating: 100%|██████████| 5416/5416 [00:00<00:00, 18053.32it/s]\n"
     ]
    },
    {
     "output_type": "stream",
     "name": "stdout",
     "text": [
      "Train: 1.0000| Val: 0.7720| Test: 0.8030| Eval Time: 0.3050s\n",
      "Epoch 39| Loss: 0.0037| Acc: 1.0000| Train Time: 0.0400s\n"
     ]
    },
    {
     "output_type": "stream",
     "name": "stderr",
     "text": [
      "Evaluating: 100%|██████████| 5416/5416 [00:00<00:00, 18112.47it/s]\n"
     ]
    },
    {
     "output_type": "stream",
     "name": "stdout",
     "text": [
      "Train: 1.0000| Val: 0.7720| Test: 0.8030| Eval Time: 0.3070s\n",
      "Epoch 40| Loss: 0.0082| Acc: 1.0000| Train Time: 0.0420s\n"
     ]
    },
    {
     "output_type": "stream",
     "name": "stderr",
     "text": [
      "Evaluating: 100%|██████████| 5416/5416 [00:00<00:00, 17933.89it/s]\n"
     ]
    },
    {
     "output_type": "stream",
     "name": "stdout",
     "text": [
      "Train: 1.0000| Val: 0.7720| Test: 0.8020| Eval Time: 0.3070s\n",
      "Epoch 41| Loss: 0.0121| Acc: 1.0000| Train Time: 0.0390s\n"
     ]
    },
    {
     "output_type": "stream",
     "name": "stderr",
     "text": [
      "Evaluating: 100%|██████████| 5416/5416 [00:00<00:00, 16716.08it/s]\n"
     ]
    },
    {
     "output_type": "stream",
     "name": "stdout",
     "text": [
      "Train: 1.0000| Val: 0.7720| Test: 0.8010| Eval Time: 0.3310s\n",
      "Epoch 42| Loss: 0.0119| Acc: 1.0000| Train Time: 0.0400s\n"
     ]
    },
    {
     "output_type": "stream",
     "name": "stderr",
     "text": [
      "Evaluating: 100%|██████████| 5416/5416 [00:00<00:00, 17669.17it/s]\n"
     ]
    },
    {
     "output_type": "stream",
     "name": "stdout",
     "text": [
      "Train: 1.0000| Val: 0.7660| Test: 0.8010| Eval Time: 0.3125s\n",
      "Epoch 43| Loss: 0.0050| Acc: 1.0000| Train Time: 0.0490s\n"
     ]
    },
    {
     "output_type": "stream",
     "name": "stderr",
     "text": [
      "Evaluating: 100%|██████████| 5416/5416 [00:00<00:00, 17755.47it/s]\n"
     ]
    },
    {
     "output_type": "stream",
     "name": "stdout",
     "text": [
      "Train: 1.0000| Val: 0.7640| Test: 0.8010| Eval Time: 0.3090s\n",
      "Epoch 44| Loss: 0.0092| Acc: 1.0000| Train Time: 0.0400s\n"
     ]
    },
    {
     "output_type": "stream",
     "name": "stderr",
     "text": [
      "Evaluating: 100%|██████████| 5416/5416 [00:00<00:00, 17757.55it/s]\n"
     ]
    },
    {
     "output_type": "stream",
     "name": "stdout",
     "text": [
      "Train: 1.0000| Val: 0.7640| Test: 0.8000| Eval Time: 0.3110s\n",
      "Epoch 45| Loss: 0.0048| Acc: 1.0000| Train Time: 0.0420s\n"
     ]
    },
    {
     "output_type": "stream",
     "name": "stderr",
     "text": [
      "Evaluating: 100%|██████████| 5416/5416 [00:00<00:00, 17757.30it/s]\n"
     ]
    },
    {
     "output_type": "stream",
     "name": "stdout",
     "text": [
      "Train: 1.0000| Val: 0.7640| Test: 0.8000| Eval Time: 0.3110s\n",
      "Epoch 46| Loss: 0.0075| Acc: 1.0000| Train Time: 0.0400s\n"
     ]
    },
    {
     "output_type": "stream",
     "name": "stderr",
     "text": [
      "Evaluating: 100%|██████████| 5416/5416 [00:00<00:00, 17373.11it/s]\n"
     ]
    },
    {
     "output_type": "stream",
     "name": "stdout",
     "text": [
      "Train: 1.0000| Val: 0.7620| Test: 0.8010| Eval Time: 0.3177s\n",
      "Epoch 47| Loss: 0.0033| Acc: 1.0000| Train Time: 0.0445s\n"
     ]
    },
    {
     "output_type": "stream",
     "name": "stderr",
     "text": [
      "Evaluating: 100%|██████████| 5416/5416 [00:00<00:00, 17869.68it/s]\n"
     ]
    },
    {
     "output_type": "stream",
     "name": "stdout",
     "text": [
      "Train: 1.0000| Val: 0.7620| Test: 0.8000| Eval Time: 0.3101s\n",
      "Epoch 48| Loss: 0.0029| Acc: 1.0000| Train Time: 0.0410s\n"
     ]
    },
    {
     "output_type": "stream",
     "name": "stderr",
     "text": [
      "Evaluating: 100%|██████████| 5416/5416 [00:00<00:00, 18113.73it/s]\n"
     ]
    },
    {
     "output_type": "stream",
     "name": "stdout",
     "text": [
      "Train: 1.0000| Val: 0.7620| Test: 0.7990| Eval Time: 0.3040s\n",
      "Epoch 49| Loss: 0.0053| Acc: 1.0000| Train Time: 0.0470s\n"
     ]
    },
    {
     "output_type": "stream",
     "name": "stderr",
     "text": [
      "Evaluating: 100%|██████████| 5416/5416 [00:00<00:00, 17699.46it/s]\n"
     ]
    },
    {
     "output_type": "stream",
     "name": "stdout",
     "text": [
      "Train: 1.0000| Val: 0.7620| Test: 0.7970| Eval Time: 0.3120s\n",
      "Epoch 50| Loss: 0.0103| Acc: 1.0000| Train Time: 0.0430s\n"
     ]
    },
    {
     "output_type": "stream",
     "name": "stderr",
     "text": [
      "Evaluating: 100%|██████████| 5416/5416 [00:00<00:00, 18113.99it/s]\n"
     ]
    },
    {
     "output_type": "stream",
     "name": "stdout",
     "text": [
      "Train: 1.0000| Val: 0.7600| Test: 0.7950| Eval Time: 0.3040s\n",
      "Epoch 51| Loss: 0.0062| Acc: 1.0000| Train Time: 0.0430s\n"
     ]
    },
    {
     "output_type": "stream",
     "name": "stderr",
     "text": [
      "Evaluating: 100%|██████████| 5416/5416 [00:00<00:00, 17567.17it/s]\n"
     ]
    },
    {
     "output_type": "stream",
     "name": "stdout",
     "text": [
      "Train: 1.0000| Val: 0.7600| Test: 0.7950| Eval Time: 0.3133s\n",
      "Epoch 52| Loss: 0.0085| Acc: 1.0000| Train Time: 0.0430s\n"
     ]
    },
    {
     "output_type": "stream",
     "name": "stderr",
     "text": [
      "Evaluating: 100%|██████████| 5416/5416 [00:00<00:00, 18421.92it/s]\n"
     ]
    },
    {
     "output_type": "stream",
     "name": "stdout",
     "text": [
      "Train: 1.0000| Val: 0.7600| Test: 0.7940| Eval Time: 0.3000s\n",
      "Epoch 53| Loss: 0.0037| Acc: 1.0000| Train Time: 0.0440s\n"
     ]
    },
    {
     "output_type": "stream",
     "name": "stderr",
     "text": [
      "Evaluating: 100%|██████████| 5416/5416 [00:00<00:00, 17334.93it/s]\n"
     ]
    },
    {
     "output_type": "stream",
     "name": "stdout",
     "text": [
      "Train: 1.0000| Val: 0.7600| Test: 0.7940| Eval Time: 0.3185s\n",
      "Epoch 54| Loss: 0.0068| Acc: 1.0000| Train Time: 0.0441s\n"
     ]
    },
    {
     "output_type": "stream",
     "name": "stderr",
     "text": [
      "Evaluating: 100%|██████████| 5416/5416 [00:00<00:00, 18211.18it/s]\n"
     ]
    },
    {
     "output_type": "stream",
     "name": "stdout",
     "text": [
      "Train: 1.0000| Val: 0.7600| Test: 0.7930| Eval Time: 0.3025s\n",
      "Epoch 55| Loss: 0.0053| Acc: 1.0000| Train Time: 0.0406s\n"
     ]
    },
    {
     "output_type": "stream",
     "name": "stderr",
     "text": [
      "Evaluating: 100%|██████████| 5416/5416 [00:00<00:00, 17637.55it/s]\n"
     ]
    },
    {
     "output_type": "stream",
     "name": "stdout",
     "text": [
      "Train: 1.0000| Val: 0.7620| Test: 0.7930| Eval Time: 0.3126s\n",
      "Epoch 56| Loss: 0.0089| Acc: 1.0000| Train Time: 0.0420s\n"
     ]
    },
    {
     "output_type": "stream",
     "name": "stderr",
     "text": [
      "Evaluating: 100%|██████████| 5416/5416 [00:00<00:00, 17814.80it/s]\n"
     ]
    },
    {
     "output_type": "stream",
     "name": "stdout",
     "text": [
      "Train: 1.0000| Val: 0.7620| Test: 0.7930| Eval Time: 0.3110s\n",
      "Epoch 57| Loss: 0.0033| Acc: 1.0000| Train Time: 0.0450s\n"
     ]
    },
    {
     "output_type": "stream",
     "name": "stderr",
     "text": [
      "Evaluating: 100%|██████████| 5416/5416 [00:00<00:00, 18164.39it/s]\n"
     ]
    },
    {
     "output_type": "stream",
     "name": "stdout",
     "text": [
      "Train: 1.0000| Val: 0.7620| Test: 0.7920| Eval Time: 0.3032s\n",
      "Epoch 58| Loss: 0.0065| Acc: 1.0000| Train Time: 0.0486s\n"
     ]
    },
    {
     "output_type": "stream",
     "name": "stderr",
     "text": [
      "Evaluating: 100%|██████████| 5416/5416 [00:00<00:00, 16876.54it/s]\n"
     ]
    },
    {
     "output_type": "stream",
     "name": "stdout",
     "text": [
      "Train: 1.0000| Val: 0.7600| Test: 0.7920| Eval Time: 0.3269s\n",
      "Epoch 59| Loss: 0.0017| Acc: 1.0000| Train Time: 0.0396s\n"
     ]
    },
    {
     "output_type": "stream",
     "name": "stderr",
     "text": [
      "Evaluating: 100%|██████████| 5416/5416 [00:00<00:00, 17267.95it/s]\n"
     ]
    },
    {
     "output_type": "stream",
     "name": "stdout",
     "text": [
      "Train: 1.0000| Val: 0.7600| Test: 0.7910| Eval Time: 0.3196s\n",
      "Epoch 60| Loss: 0.0050| Acc: 1.0000| Train Time: 0.0435s\n"
     ]
    },
    {
     "output_type": "stream",
     "name": "stderr",
     "text": [
      "Evaluating: 100%|██████████| 5416/5416 [00:00<00:00, 18421.91it/s]\n"
     ]
    },
    {
     "output_type": "stream",
     "name": "stdout",
     "text": [
      "Train: 1.0000| Val: 0.7600| Test: 0.7910| Eval Time: 0.2990s\n",
      "Epoch 61| Loss: 0.0051| Acc: 1.0000| Train Time: 0.0392s\n"
     ]
    },
    {
     "output_type": "stream",
     "name": "stderr",
     "text": [
      "Evaluating: 100%|██████████| 5416/5416 [00:00<00:00, 16875.92it/s]\n"
     ]
    },
    {
     "output_type": "stream",
     "name": "stdout",
     "text": [
      "Train: 1.0000| Val: 0.7600| Test: 0.7890| Eval Time: 0.3269s\n",
      "Epoch 62| Loss: 0.0037| Acc: 1.0000| Train Time: 0.0410s\n"
     ]
    },
    {
     "output_type": "stream",
     "name": "stderr",
     "text": [
      "Evaluating: 100%|██████████| 5416/5416 [00:00<00:00, 14343.09it/s]\n"
     ]
    },
    {
     "output_type": "stream",
     "name": "stdout",
     "text": [
      "Train: 1.0000| Val: 0.7600| Test: 0.7910| Eval Time: 0.3816s\n",
      "Epoch 63| Loss: 0.0018| Acc: 1.0000| Train Time: 0.0430s\n"
     ]
    },
    {
     "output_type": "stream",
     "name": "stderr",
     "text": [
      "Evaluating: 100%|██████████| 5416/5416 [00:00<00:00, 17874.65it/s]\n"
     ]
    },
    {
     "output_type": "stream",
     "name": "stdout",
     "text": [
      "Train: 1.0000| Val: 0.7600| Test: 0.7910| Eval Time: 0.3080s\n",
      "Epoch 64| Loss: 0.0013| Acc: 1.0000| Train Time: 0.0410s\n"
     ]
    },
    {
     "output_type": "stream",
     "name": "stderr",
     "text": [
      "Evaluating: 100%|██████████| 5416/5416 [00:00<00:00, 18113.90it/s]\n"
     ]
    },
    {
     "output_type": "stream",
     "name": "stdout",
     "text": [
      "Train: 1.0000| Val: 0.7580| Test: 0.7900| Eval Time: 0.3060s\n",
      "Epoch 65| Loss: 0.0032| Acc: 1.0000| Train Time: 0.0450s\n"
     ]
    },
    {
     "output_type": "stream",
     "name": "stderr",
     "text": [
      "Evaluating: 100%|██████████| 5416/5416 [00:00<00:00, 17045.40it/s]\n"
     ]
    },
    {
     "output_type": "stream",
     "name": "stdout",
     "text": [
      "Train: 1.0000| Val: 0.7580| Test: 0.7910| Eval Time: 0.3237s\n",
      "Epoch 66| Loss: 0.0028| Acc: 1.0000| Train Time: 0.0450s\n"
     ]
    },
    {
     "output_type": "stream",
     "name": "stderr",
     "text": [
      "Evaluating: 100%|██████████| 5416/5416 [00:00<00:00, 17765.86it/s]\n"
     ]
    },
    {
     "output_type": "stream",
     "name": "stdout",
     "text": [
      "Train: 1.0000| Val: 0.7600| Test: 0.7910| Eval Time: 0.3109s\n",
      "Epoch 67| Loss: 0.0058| Acc: 1.0000| Train Time: 0.0380s\n"
     ]
    },
    {
     "output_type": "stream",
     "name": "stderr",
     "text": [
      "Evaluating: 100%|██████████| 5416/5416 [00:00<00:00, 17641.71it/s]\n"
     ]
    },
    {
     "output_type": "stream",
     "name": "stdout",
     "text": [
      "Train: 1.0000| Val: 0.7580| Test: 0.7910| Eval Time: 0.3110s\n",
      "Epoch 68| Loss: 0.0020| Acc: 1.0000| Train Time: 0.0470s\n"
     ]
    },
    {
     "output_type": "stream",
     "name": "stderr",
     "text": [
      "Evaluating: 100%|██████████| 5416/5416 [00:00<00:00, 17671.73it/s]\n"
     ]
    },
    {
     "output_type": "stream",
     "name": "stdout",
     "text": [
      "Train: 1.0000| Val: 0.7580| Test: 0.7910| Eval Time: 0.3115s\n",
      "\n",
      "Result of  5. run| Train: 1.0000| Val: 0.7820| Test: 0.8070\n",
      "\n",
      "Run 06 for GatV1_K2_s and Cora:\n"
     ]
    },
    {
     "output_type": "stream",
     "name": "stderr",
     "text": [
      "Epoch 01: 100%|██████████| 140/140 [00:00<00:00, 3414.78it/s]\n"
     ]
    },
    {
     "output_type": "stream",
     "name": "stdout",
     "text": [
      "Epoch 01| Loss: 2.0361| Acc: 0.0857| Train Time: 0.0440s\n"
     ]
    },
    {
     "output_type": "stream",
     "name": "stderr",
     "text": [
      "Evaluating: 100%|██████████| 5416/5416 [00:00<00:00, 17993.35it/s]\n"
     ]
    },
    {
     "output_type": "stream",
     "name": "stdout",
     "text": [
      "Train: 0.8071| Val: 0.6340| Test: 0.6410| Eval Time: 0.3070s\n",
      "Epoch 02| Loss: 1.5280| Acc: 0.6071| Train Time: 0.0470s\n"
     ]
    },
    {
     "output_type": "stream",
     "name": "stderr",
     "text": [
      "Evaluating: 100%|██████████| 5416/5416 [00:00<00:00, 18169.40it/s]\n"
     ]
    },
    {
     "output_type": "stream",
     "name": "stdout",
     "text": [
      "Train: 0.9429| Val: 0.7660| Test: 0.7740| Eval Time: 0.3051s\n",
      "Epoch 03| Loss: 1.0212| Acc: 0.8643| Train Time: 0.0409s\n"
     ]
    },
    {
     "output_type": "stream",
     "name": "stderr",
     "text": [
      "Evaluating: 100%|██████████| 5416/5416 [00:00<00:00, 17815.75it/s]\n"
     ]
    },
    {
     "output_type": "stream",
     "name": "stdout",
     "text": [
      "Train: 0.9571| Val: 0.7840| Test: 0.8060| Eval Time: 0.3090s\n",
      "Epoch 04| Loss: 0.8270| Acc: 0.8857| Train Time: 0.0440s\n"
     ]
    },
    {
     "output_type": "stream",
     "name": "stderr",
     "text": [
      "Evaluating: 100%|██████████| 5416/5416 [00:00<00:00, 17780.42it/s]\n"
     ]
    },
    {
     "output_type": "stream",
     "name": "stdout",
     "text": [
      "Train: 0.9714| Val: 0.7780| Test: 0.8000| Eval Time: 0.3126s\n",
      "Epoch 05| Loss: 0.6883| Acc: 0.9071| Train Time: 0.0450s\n"
     ]
    },
    {
     "output_type": "stream",
     "name": "stderr",
     "text": [
      "Evaluating: 100%|██████████| 5416/5416 [00:00<00:00, 18167.66it/s]\n"
     ]
    },
    {
     "output_type": "stream",
     "name": "stdout",
     "text": [
      "Train: 0.9857| Val: 0.7720| Test: 0.8000| Eval Time: 0.3031s\n",
      "Epoch 06| Loss: 0.5499| Acc: 0.9500| Train Time: 0.0391s\n"
     ]
    },
    {
     "output_type": "stream",
     "name": "stderr",
     "text": [
      "Evaluating: 100%|██████████| 5416/5416 [00:00<00:00, 17578.70it/s]\n"
     ]
    },
    {
     "output_type": "stream",
     "name": "stdout",
     "text": [
      "Train: 0.9857| Val: 0.7680| Test: 0.8010| Eval Time: 0.3131s\n",
      "Epoch 07| Loss: 0.4267| Acc: 0.9643| Train Time: 0.0460s\n"
     ]
    },
    {
     "output_type": "stream",
     "name": "stderr",
     "text": [
      "Evaluating: 100%|██████████| 5416/5416 [00:00<00:00, 17993.11it/s]\n"
     ]
    },
    {
     "output_type": "stream",
     "name": "stdout",
     "text": [
      "Train: 0.9857| Val: 0.7620| Test: 0.7980| Eval Time: 0.3067s\n",
      "Epoch 08| Loss: 0.3213| Acc: 0.9929| Train Time: 0.0420s\n"
     ]
    },
    {
     "output_type": "stream",
     "name": "stderr",
     "text": [
      "Evaluating: 100%|██████████| 5416/5416 [00:00<00:00, 17689.82it/s]\n"
     ]
    },
    {
     "output_type": "stream",
     "name": "stdout",
     "text": [
      "Train: 0.9929| Val: 0.7600| Test: 0.7960| Eval Time: 0.3132s\n",
      "Epoch 09| Loss: 0.2997| Acc: 0.9714| Train Time: 0.0450s\n"
     ]
    },
    {
     "output_type": "stream",
     "name": "stderr",
     "text": [
      "Evaluating: 100%|██████████| 5416/5416 [00:00<00:00, 17655.70it/s]\n"
     ]
    },
    {
     "output_type": "stream",
     "name": "stdout",
     "text": [
      "Train: 0.9929| Val: 0.7540| Test: 0.7920| Eval Time: 0.3118s\n",
      "Epoch 10| Loss: 0.2684| Acc: 0.9857| Train Time: 0.0425s\n"
     ]
    },
    {
     "output_type": "stream",
     "name": "stderr",
     "text": [
      "Evaluating: 100%|██████████| 5416/5416 [00:00<00:00, 17896.80it/s]\n"
     ]
    },
    {
     "output_type": "stream",
     "name": "stdout",
     "text": [
      "Train: 1.0000| Val: 0.7580| Test: 0.7890| Eval Time: 0.3076s\n",
      "Epoch 11| Loss: 0.2539| Acc: 0.9643| Train Time: 0.0420s\n"
     ]
    },
    {
     "output_type": "stream",
     "name": "stderr",
     "text": [
      "Evaluating: 100%|██████████| 5416/5416 [00:00<00:00, 17695.87it/s]\n"
     ]
    },
    {
     "output_type": "stream",
     "name": "stdout",
     "text": [
      "Train: 1.0000| Val: 0.7560| Test: 0.7840| Eval Time: 0.3111s\n",
      "Epoch 12| Loss: 0.1666| Acc: 0.9929| Train Time: 0.0390s\n"
     ]
    },
    {
     "output_type": "stream",
     "name": "stderr",
     "text": [
      "Evaluating: 100%|██████████| 5416/5416 [00:00<00:00, 18387.75it/s]\n"
     ]
    },
    {
     "output_type": "stream",
     "name": "stdout",
     "text": [
      "Train: 1.0000| Val: 0.7580| Test: 0.7900| Eval Time: 0.3046s\n",
      "Epoch 13| Loss: 0.2002| Acc: 0.9857| Train Time: 0.0440s\n"
     ]
    },
    {
     "output_type": "stream",
     "name": "stderr",
     "text": [
      "Evaluating: 100%|██████████| 5416/5416 [00:00<00:00, 17526.45it/s]\n"
     ]
    },
    {
     "output_type": "stream",
     "name": "stdout",
     "text": [
      "Train: 1.0000| Val: 0.7620| Test: 0.7900| Eval Time: 0.3140s\n",
      "Epoch 14| Loss: 0.1334| Acc: 1.0000| Train Time: 0.0450s\n"
     ]
    },
    {
     "output_type": "stream",
     "name": "stderr",
     "text": [
      "Evaluating: 100%|██████████| 5416/5416 [00:00<00:00, 17637.44it/s]\n"
     ]
    },
    {
     "output_type": "stream",
     "name": "stdout",
     "text": [
      "Train: 1.0000| Val: 0.7640| Test: 0.7930| Eval Time: 0.3121s\n",
      "Epoch 15| Loss: 0.0947| Acc: 1.0000| Train Time: 0.0405s\n"
     ]
    },
    {
     "output_type": "stream",
     "name": "stderr",
     "text": [
      "Evaluating: 100%|██████████| 5416/5416 [00:00<00:00, 17473.85it/s]\n"
     ]
    },
    {
     "output_type": "stream",
     "name": "stdout",
     "text": [
      "Train: 1.0000| Val: 0.7720| Test: 0.7910| Eval Time: 0.3150s\n",
      "Epoch 16| Loss: 0.1076| Acc: 1.0000| Train Time: 0.0470s\n"
     ]
    },
    {
     "output_type": "stream",
     "name": "stderr",
     "text": [
      "Evaluating: 100%|██████████| 5416/5416 [00:00<00:00, 18174.43it/s]\n"
     ]
    },
    {
     "output_type": "stream",
     "name": "stdout",
     "text": [
      "Train: 1.0000| Val: 0.7720| Test: 0.7900| Eval Time: 0.3030s\n",
      "Epoch 17| Loss: 0.0633| Acc: 0.9929| Train Time: 0.0470s\n"
     ]
    },
    {
     "output_type": "stream",
     "name": "stderr",
     "text": [
      "Evaluating: 100%|██████████| 5416/5416 [00:00<00:00, 17194.00it/s]\n"
     ]
    },
    {
     "output_type": "stream",
     "name": "stdout",
     "text": [
      "Train: 1.0000| Val: 0.7740| Test: 0.7920| Eval Time: 0.3230s\n",
      "Epoch 18| Loss: 0.0981| Acc: 1.0000| Train Time: 0.0430s\n"
     ]
    },
    {
     "output_type": "stream",
     "name": "stderr",
     "text": [
      "Evaluating: 100%|██████████| 5416/5416 [00:00<00:00, 17875.15it/s]\n"
     ]
    },
    {
     "output_type": "stream",
     "name": "stdout",
     "text": [
      "Train: 1.0000| Val: 0.7740| Test: 0.7950| Eval Time: 0.3090s\n",
      "Epoch 19| Loss: 0.0526| Acc: 1.0000| Train Time: 0.0390s\n"
     ]
    },
    {
     "output_type": "stream",
     "name": "stderr",
     "text": [
      "Evaluating: 100%|██████████| 5416/5416 [00:00<00:00, 17814.79it/s]\n"
     ]
    },
    {
     "output_type": "stream",
     "name": "stdout",
     "text": [
      "Train: 1.0000| Val: 0.7740| Test: 0.7980| Eval Time: 0.3090s\n",
      "Epoch 20| Loss: 0.0679| Acc: 0.9929| Train Time: 0.0390s\n"
     ]
    },
    {
     "output_type": "stream",
     "name": "stderr",
     "text": [
      "Evaluating: 100%|██████████| 5416/5416 [00:00<00:00, 18190.76it/s]\n"
     ]
    },
    {
     "output_type": "stream",
     "name": "stdout",
     "text": [
      "Train: 1.0000| Val: 0.7740| Test: 0.7960| Eval Time: 0.3027s\n",
      "Epoch 21| Loss: 0.0335| Acc: 1.0000| Train Time: 0.0400s\n"
     ]
    },
    {
     "output_type": "stream",
     "name": "stderr",
     "text": [
      "Evaluating: 100%|██████████| 5416/5416 [00:00<00:00, 17984.03it/s]\n"
     ]
    },
    {
     "output_type": "stream",
     "name": "stdout",
     "text": [
      "Train: 1.0000| Val: 0.7760| Test: 0.8000| Eval Time: 0.3062s\n",
      "Epoch 22| Loss: 0.0292| Acc: 1.0000| Train Time: 0.0480s\n"
     ]
    },
    {
     "output_type": "stream",
     "name": "stderr",
     "text": [
      "Evaluating: 100%|██████████| 5416/5416 [00:00<00:00, 17993.53it/s]\n"
     ]
    },
    {
     "output_type": "stream",
     "name": "stdout",
     "text": [
      "Train: 1.0000| Val: 0.7760| Test: 0.8010| Eval Time: 0.3060s\n",
      "Epoch 23| Loss: 0.0245| Acc: 1.0000| Train Time: 0.0430s\n"
     ]
    },
    {
     "output_type": "stream",
     "name": "stderr",
     "text": [
      "Evaluating: 100%|██████████| 5416/5416 [00:00<00:00, 17085.04it/s]\n"
     ]
    },
    {
     "output_type": "stream",
     "name": "stdout",
     "text": [
      "Train: 1.0000| Val: 0.7760| Test: 0.8010| Eval Time: 0.3240s\n",
      "Epoch 24| Loss: 0.0314| Acc: 1.0000| Train Time: 0.0410s\n"
     ]
    },
    {
     "output_type": "stream",
     "name": "stderr",
     "text": [
      "Evaluating: 100%|██████████| 5416/5416 [00:00<00:00, 17900.52it/s]\n"
     ]
    },
    {
     "output_type": "stream",
     "name": "stdout",
     "text": [
      "Train: 1.0000| Val: 0.7840| Test: 0.7990| Eval Time: 0.3066s\n",
      "Epoch 25| Loss: 0.0180| Acc: 1.0000| Train Time: 0.0470s\n"
     ]
    },
    {
     "output_type": "stream",
     "name": "stderr",
     "text": [
      "Evaluating: 100%|██████████| 5416/5416 [00:00<00:00, 18082.98it/s]\n"
     ]
    },
    {
     "output_type": "stream",
     "name": "stdout",
     "text": [
      "Train: 1.0000| Val: 0.7840| Test: 0.7990| Eval Time: 0.3055s\n",
      "Epoch 26| Loss: 0.0248| Acc: 1.0000| Train Time: 0.0380s\n"
     ]
    },
    {
     "output_type": "stream",
     "name": "stderr",
     "text": [
      "Evaluating: 100%|██████████| 5416/5416 [00:00<00:00, 18053.36it/s]\n"
     ]
    },
    {
     "output_type": "stream",
     "name": "stdout",
     "text": [
      "Train: 1.0000| Val: 0.7820| Test: 0.8000| Eval Time: 0.3050s\n",
      "Epoch 27| Loss: 0.0221| Acc: 1.0000| Train Time: 0.0420s\n"
     ]
    },
    {
     "output_type": "stream",
     "name": "stderr",
     "text": [
      "Evaluating: 100%|██████████| 5416/5416 [00:00<00:00, 17414.69it/s]\n"
     ]
    },
    {
     "output_type": "stream",
     "name": "stdout",
     "text": [
      "Train: 1.0000| Val: 0.7800| Test: 0.8000| Eval Time: 0.3160s\n",
      "Epoch 28| Loss: 0.0124| Acc: 1.0000| Train Time: 0.0380s\n"
     ]
    },
    {
     "output_type": "stream",
     "name": "stderr",
     "text": [
      "Evaluating: 100%|██████████| 5416/5416 [00:00<00:00, 17757.36it/s]\n"
     ]
    },
    {
     "output_type": "stream",
     "name": "stdout",
     "text": [
      "Train: 1.0000| Val: 0.7760| Test: 0.7990| Eval Time: 0.3090s\n",
      "Epoch 29| Loss: 0.0201| Acc: 1.0000| Train Time: 0.0460s\n"
     ]
    },
    {
     "output_type": "stream",
     "name": "stderr",
     "text": [
      "Evaluating: 100%|██████████| 5416/5416 [00:00<00:00, 17068.12it/s]\n"
     ]
    },
    {
     "output_type": "stream",
     "name": "stdout",
     "text": [
      "Train: 1.0000| Val: 0.7780| Test: 0.7980| Eval Time: 0.3233s\n",
      "Epoch 30| Loss: 0.0152| Acc: 1.0000| Train Time: 0.0410s\n"
     ]
    },
    {
     "output_type": "stream",
     "name": "stderr",
     "text": [
      "Evaluating: 100%|██████████| 5416/5416 [00:00<00:00, 17641.57it/s]\n"
     ]
    },
    {
     "output_type": "stream",
     "name": "stdout",
     "text": [
      "Train: 1.0000| Val: 0.7760| Test: 0.7990| Eval Time: 0.3130s\n",
      "Epoch 31| Loss: 0.0278| Acc: 0.9929| Train Time: 0.0450s\n"
     ]
    },
    {
     "output_type": "stream",
     "name": "stderr",
     "text": [
      "Evaluating: 100%|██████████| 5416/5416 [00:00<00:00, 18577.20it/s]\n"
     ]
    },
    {
     "output_type": "stream",
     "name": "stdout",
     "text": [
      "Train: 1.0000| Val: 0.7760| Test: 0.7970| Eval Time: 0.2986s\n",
      "Epoch 32| Loss: 0.0089| Acc: 1.0000| Train Time: 0.0430s\n"
     ]
    },
    {
     "output_type": "stream",
     "name": "stderr",
     "text": [
      "Evaluating: 100%|██████████| 5416/5416 [00:00<00:00, 17534.23it/s]\n"
     ]
    },
    {
     "output_type": "stream",
     "name": "stdout",
     "text": [
      "Train: 1.0000| Val: 0.7760| Test: 0.7960| Eval Time: 0.3139s\n",
      "Epoch 33| Loss: 0.0076| Acc: 1.0000| Train Time: 0.0430s\n"
     ]
    },
    {
     "output_type": "stream",
     "name": "stderr",
     "text": [
      "Evaluating: 100%|██████████| 5416/5416 [00:00<00:00, 18013.84it/s]\n"
     ]
    },
    {
     "output_type": "stream",
     "name": "stdout",
     "text": [
      "Train: 1.0000| Val: 0.7760| Test: 0.7960| Eval Time: 0.3057s\n",
      "Epoch 34| Loss: 0.0189| Acc: 1.0000| Train Time: 0.0400s\n"
     ]
    },
    {
     "output_type": "stream",
     "name": "stderr",
     "text": [
      "Evaluating: 100%|██████████| 5416/5416 [00:00<00:00, 17139.40it/s]\n"
     ]
    },
    {
     "output_type": "stream",
     "name": "stdout",
     "text": [
      "Train: 1.0000| Val: 0.7760| Test: 0.7960| Eval Time: 0.3240s\n",
      "Epoch 35| Loss: 0.0097| Acc: 1.0000| Train Time: 0.0480s\n"
     ]
    },
    {
     "output_type": "stream",
     "name": "stderr",
     "text": [
      "Evaluating: 100%|██████████| 5416/5416 [00:00<00:00, 17383.43it/s]\n"
     ]
    },
    {
     "output_type": "stream",
     "name": "stdout",
     "text": [
      "Train: 1.0000| Val: 0.7780| Test: 0.7960| Eval Time: 0.3196s\n",
      "Epoch 36| Loss: 0.0080| Acc: 1.0000| Train Time: 0.0449s\n"
     ]
    },
    {
     "output_type": "stream",
     "name": "stderr",
     "text": [
      "Evaluating: 100%|██████████| 5416/5416 [00:00<00:00, 16408.11it/s]\n"
     ]
    },
    {
     "output_type": "stream",
     "name": "stdout",
     "text": [
      "Train: 1.0000| Val: 0.7800| Test: 0.7960| Eval Time: 0.3351s\n",
      "Epoch 37| Loss: 0.0080| Acc: 1.0000| Train Time: 0.0490s\n"
     ]
    },
    {
     "output_type": "stream",
     "name": "stderr",
     "text": [
      "Evaluating: 100%|██████████| 5416/5416 [00:00<00:00, 17414.62it/s]\n"
     ]
    },
    {
     "output_type": "stream",
     "name": "stdout",
     "text": [
      "Train: 1.0000| Val: 0.7780| Test: 0.7960| Eval Time: 0.3190s\n",
      "Epoch 38| Loss: 0.0077| Acc: 1.0000| Train Time: 0.0420s\n"
     ]
    },
    {
     "output_type": "stream",
     "name": "stderr",
     "text": [
      "Evaluating: 100%|██████████| 5416/5416 [00:00<00:00, 17303.45it/s]\n"
     ]
    },
    {
     "output_type": "stream",
     "name": "stdout",
     "text": [
      "Train: 1.0000| Val: 0.7780| Test: 0.7960| Eval Time: 0.3170s\n",
      "Epoch 39| Loss: 0.0107| Acc: 1.0000| Train Time: 0.0450s\n"
     ]
    },
    {
     "output_type": "stream",
     "name": "stderr",
     "text": [
      "Evaluating: 100%|██████████| 5416/5416 [00:00<00:00, 18110.27it/s]\n"
     ]
    },
    {
     "output_type": "stream",
     "name": "stdout",
     "text": [
      "Train: 1.0000| Val: 0.7780| Test: 0.7960| Eval Time: 0.3051s\n",
      "Epoch 40| Loss: 0.0029| Acc: 1.0000| Train Time: 0.0430s\n"
     ]
    },
    {
     "output_type": "stream",
     "name": "stderr",
     "text": [
      "Evaluating: 100%|██████████| 5416/5416 [00:00<00:00, 17523.76it/s]\n"
     ]
    },
    {
     "output_type": "stream",
     "name": "stdout",
     "text": [
      "Train: 1.0000| Val: 0.7780| Test: 0.7960| Eval Time: 0.3171s\n",
      "Epoch 41| Loss: 0.0043| Acc: 1.0000| Train Time: 0.0380s\n"
     ]
    },
    {
     "output_type": "stream",
     "name": "stderr",
     "text": [
      "Evaluating: 100%|██████████| 5416/5416 [00:00<00:00, 17378.59it/s]\n"
     ]
    },
    {
     "output_type": "stream",
     "name": "stdout",
     "text": [
      "Train: 1.0000| Val: 0.7780| Test: 0.7950| Eval Time: 0.3177s\n",
      "Epoch 42| Loss: 0.0103| Acc: 1.0000| Train Time: 0.0430s\n"
     ]
    },
    {
     "output_type": "stream",
     "name": "stderr",
     "text": [
      "Evaluating: 100%|██████████| 5416/5416 [00:00<00:00, 17633.65it/s]\n"
     ]
    },
    {
     "output_type": "stream",
     "name": "stdout",
     "text": [
      "Train: 1.0000| Val: 0.7800| Test: 0.7940| Eval Time: 0.3132s\n",
      "Epoch 43| Loss: 0.0035| Acc: 1.0000| Train Time: 0.0460s\n"
     ]
    },
    {
     "output_type": "stream",
     "name": "stderr",
     "text": [
      "Evaluating: 100%|██████████| 5416/5416 [00:00<00:00, 17359.13it/s]\n"
     ]
    },
    {
     "output_type": "stream",
     "name": "stdout",
     "text": [
      "Train: 1.0000| Val: 0.7800| Test: 0.7950| Eval Time: 0.3180s\n",
      "Epoch 44| Loss: 0.0064| Acc: 1.0000| Train Time: 0.0480s\n"
     ]
    },
    {
     "output_type": "stream",
     "name": "stderr",
     "text": [
      "Evaluating: 100%|██████████| 5416/5416 [00:00<00:00, 17359.77it/s]\n"
     ]
    },
    {
     "output_type": "stream",
     "name": "stdout",
     "text": [
      "Train: 1.0000| Val: 0.7780| Test: 0.7960| Eval Time: 0.3170s\n",
      "Epoch 45| Loss: 0.0044| Acc: 1.0000| Train Time: 0.0440s\n"
     ]
    },
    {
     "output_type": "stream",
     "name": "stderr",
     "text": [
      "Evaluating: 100%|██████████| 5416/5416 [00:00<00:00, 18167.88it/s]\n"
     ]
    },
    {
     "output_type": "stream",
     "name": "stdout",
     "text": [
      "Train: 1.0000| Val: 0.7780| Test: 0.7960| Eval Time: 0.3041s\n",
      "Epoch 46| Loss: 0.0063| Acc: 1.0000| Train Time: 0.0475s\n"
     ]
    },
    {
     "output_type": "stream",
     "name": "stderr",
     "text": [
      "Evaluating: 100%|██████████| 5416/5416 [00:00<00:00, 17933.96it/s]\n"
     ]
    },
    {
     "output_type": "stream",
     "name": "stdout",
     "text": [
      "Train: 1.0000| Val: 0.7780| Test: 0.7960| Eval Time: 0.3080s\n",
      "Epoch 47| Loss: 0.0041| Acc: 1.0000| Train Time: 0.0430s\n"
     ]
    },
    {
     "output_type": "stream",
     "name": "stderr",
     "text": [
      "Evaluating: 100%|██████████| 5416/5416 [00:00<00:00, 18235.88it/s]\n"
     ]
    },
    {
     "output_type": "stream",
     "name": "stdout",
     "text": [
      "Train: 1.0000| Val: 0.7800| Test: 0.7990| Eval Time: 0.3030s\n",
      "Epoch 48| Loss: 0.0060| Acc: 1.0000| Train Time: 0.0460s\n"
     ]
    },
    {
     "output_type": "stream",
     "name": "stderr",
     "text": [
      "Evaluating: 100%|██████████| 5416/5416 [00:00<00:00, 17894.30it/s]\n"
     ]
    },
    {
     "output_type": "stream",
     "name": "stdout",
     "text": [
      "Train: 1.0000| Val: 0.7800| Test: 0.7990| Eval Time: 0.3077s\n",
      "Epoch 49| Loss: 0.0096| Acc: 0.9929| Train Time: 0.0410s\n"
     ]
    },
    {
     "output_type": "stream",
     "name": "stderr",
     "text": [
      "Evaluating: 100%|██████████| 5416/5416 [00:00<00:00, 17720.37it/s]\n"
     ]
    },
    {
     "output_type": "stream",
     "name": "stdout",
     "text": [
      "Train: 1.0000| Val: 0.7800| Test: 0.8020| Eval Time: 0.3136s\n",
      "Epoch 50| Loss: 0.0058| Acc: 1.0000| Train Time: 0.0440s\n"
     ]
    },
    {
     "output_type": "stream",
     "name": "stderr",
     "text": [
      "Evaluating: 100%|██████████| 5416/5416 [00:00<00:00, 17371.88it/s]\n"
     ]
    },
    {
     "output_type": "stream",
     "name": "stdout",
     "text": [
      "Train: 1.0000| Val: 0.7740| Test: 0.8020| Eval Time: 0.3168s\n",
      "Epoch 51| Loss: 0.0041| Acc: 1.0000| Train Time: 0.0420s\n"
     ]
    },
    {
     "output_type": "stream",
     "name": "stderr",
     "text": [
      "Evaluating: 100%|██████████| 5416/5416 [00:00<00:00, 17756.80it/s]\n"
     ]
    },
    {
     "output_type": "stream",
     "name": "stdout",
     "text": [
      "Train: 1.0000| Val: 0.7740| Test: 0.8000| Eval Time: 0.3110s\n",
      "Epoch 52| Loss: 0.0023| Acc: 1.0000| Train Time: 0.0444s\n"
     ]
    },
    {
     "output_type": "stream",
     "name": "stderr",
     "text": [
      "Evaluating: 100%|██████████| 5416/5416 [00:00<00:00, 17272.69it/s]\n"
     ]
    },
    {
     "output_type": "stream",
     "name": "stdout",
     "text": [
      "Train: 1.0000| Val: 0.7740| Test: 0.8010| Eval Time: 0.3206s\n",
      "Epoch 53| Loss: 0.0044| Acc: 1.0000| Train Time: 0.0415s\n"
     ]
    },
    {
     "output_type": "stream",
     "name": "stderr",
     "text": [
      "Evaluating: 100%|██████████| 5416/5416 [00:00<00:00, 17594.84it/s]\n"
     ]
    },
    {
     "output_type": "stream",
     "name": "stdout",
     "text": [
      "Train: 1.0000| Val: 0.7740| Test: 0.8000| Eval Time: 0.3138s\n",
      "\n",
      "Result of  6. run| Train: 0.9571| Val: 0.7840| Test: 0.8060\n",
      "\n",
      "Run 07 for GatV1_K2_s and Cora:\n"
     ]
    },
    {
     "output_type": "stream",
     "name": "stderr",
     "text": [
      "Epoch 01: 100%|██████████| 140/140 [00:00<00:00, 3256.01it/s]\n"
     ]
    },
    {
     "output_type": "stream",
     "name": "stdout",
     "text": [
      "Epoch 01| Loss: 1.9581| Acc: 0.1500| Train Time: 0.0460s\n"
     ]
    },
    {
     "output_type": "stream",
     "name": "stderr",
     "text": [
      "Evaluating: 100%|██████████| 5416/5416 [00:00<00:00, 17291.31it/s]\n"
     ]
    },
    {
     "output_type": "stream",
     "name": "stdout",
     "text": [
      "Train: 0.7500| Val: 0.5620| Test: 0.5730| Eval Time: 0.3212s\n",
      "Epoch 02| Loss: 1.4885| Acc: 0.6071| Train Time: 0.0410s\n"
     ]
    },
    {
     "output_type": "stream",
     "name": "stderr",
     "text": [
      "Evaluating: 100%|██████████| 5416/5416 [00:00<00:00, 17359.42it/s]\n"
     ]
    },
    {
     "output_type": "stream",
     "name": "stdout",
     "text": [
      "Train: 0.9571| Val: 0.7700| Test: 0.7540| Eval Time: 0.3170s\n",
      "Epoch 03| Loss: 1.0041| Acc: 0.8500| Train Time: 0.0410s\n"
     ]
    },
    {
     "output_type": "stream",
     "name": "stderr",
     "text": [
      "Evaluating: 100%|██████████| 5416/5416 [00:00<00:00, 14074.23it/s]\n"
     ]
    },
    {
     "output_type": "stream",
     "name": "stdout",
     "text": [
      "Train: 0.9643| Val: 0.7800| Test: 0.7890| Eval Time: 0.3898s\n",
      "Epoch 04| Loss: 0.8310| Acc: 0.9071| Train Time: 0.0440s\n"
     ]
    },
    {
     "output_type": "stream",
     "name": "stderr",
     "text": [
      "Evaluating: 100%|██████████| 5416/5416 [00:00<00:00, 16957.78it/s]\n"
     ]
    },
    {
     "output_type": "stream",
     "name": "stdout",
     "text": [
      "Train: 0.9643| Val: 0.7800| Test: 0.7840| Eval Time: 0.3264s\n",
      "Epoch 05| Loss: 0.5962| Acc: 0.9143| Train Time: 0.0426s\n"
     ]
    },
    {
     "output_type": "stream",
     "name": "stderr",
     "text": [
      "Evaluating: 100%|██████████| 5416/5416 [00:00<00:00, 17303.81it/s]\n"
     ]
    },
    {
     "output_type": "stream",
     "name": "stdout",
     "text": [
      "Train: 0.9643| Val: 0.7660| Test: 0.7840| Eval Time: 0.3170s\n",
      "Epoch 06| Loss: 0.5047| Acc: 0.9357| Train Time: 0.0430s\n"
     ]
    },
    {
     "output_type": "stream",
     "name": "stderr",
     "text": [
      "Evaluating: 100%|██████████| 5416/5416 [00:00<00:00, 17755.89it/s]\n"
     ]
    },
    {
     "output_type": "stream",
     "name": "stdout",
     "text": [
      "Train: 0.9714| Val: 0.7640| Test: 0.7750| Eval Time: 0.3100s\n",
      "Epoch 07| Loss: 0.4005| Acc: 0.9571| Train Time: 0.0460s\n"
     ]
    },
    {
     "output_type": "stream",
     "name": "stderr",
     "text": [
      "Evaluating: 100%|██████████| 5416/5416 [00:00<00:00, 17903.20it/s]\n"
     ]
    },
    {
     "output_type": "stream",
     "name": "stdout",
     "text": [
      "Train: 0.9786| Val: 0.7640| Test: 0.7740| Eval Time: 0.3075s\n",
      "Epoch 08| Loss: 0.3780| Acc: 0.9786| Train Time: 0.0410s\n"
     ]
    },
    {
     "output_type": "stream",
     "name": "stderr",
     "text": [
      "Evaluating: 100%|██████████| 5416/5416 [00:00<00:00, 17031.54it/s]\n"
     ]
    },
    {
     "output_type": "stream",
     "name": "stdout",
     "text": [
      "Train: 0.9857| Val: 0.7620| Test: 0.7780| Eval Time: 0.3240s\n",
      "Epoch 09| Loss: 0.2397| Acc: 0.9929| Train Time: 0.0450s\n"
     ]
    },
    {
     "output_type": "stream",
     "name": "stderr",
     "text": [
      "Evaluating: 100%|██████████| 5416/5416 [00:00<00:00, 17584.64it/s]\n"
     ]
    },
    {
     "output_type": "stream",
     "name": "stdout",
     "text": [
      "Train: 0.9929| Val: 0.7660| Test: 0.7810| Eval Time: 0.3150s\n",
      "Epoch 10| Loss: 0.2121| Acc: 0.9857| Train Time: 0.0455s\n"
     ]
    },
    {
     "output_type": "stream",
     "name": "stderr",
     "text": [
      "Evaluating: 100%|██████████| 5416/5416 [00:00<00:00, 17639.21it/s]\n"
     ]
    },
    {
     "output_type": "stream",
     "name": "stdout",
     "text": [
      "Train: 1.0000| Val: 0.7760| Test: 0.7830| Eval Time: 0.3130s\n",
      "Epoch 11| Loss: 0.1934| Acc: 0.9857| Train Time: 0.0422s\n"
     ]
    },
    {
     "output_type": "stream",
     "name": "stderr",
     "text": [
      "Evaluating: 100%|██████████| 5416/5416 [00:00<00:00, 17475.11it/s]\n"
     ]
    },
    {
     "output_type": "stream",
     "name": "stdout",
     "text": [
      "Train: 1.0000| Val: 0.7760| Test: 0.7870| Eval Time: 0.3159s\n",
      "Epoch 12| Loss: 0.2088| Acc: 0.9786| Train Time: 0.0360s\n"
     ]
    },
    {
     "output_type": "stream",
     "name": "stderr",
     "text": [
      "Evaluating: 100%|██████████| 5416/5416 [00:00<00:00, 17301.68it/s]\n"
     ]
    },
    {
     "output_type": "stream",
     "name": "stdout",
     "text": [
      "Train: 1.0000| Val: 0.7720| Test: 0.7980| Eval Time: 0.3180s\n",
      "Epoch 13| Loss: 0.1820| Acc: 0.9857| Train Time: 0.0420s\n"
     ]
    },
    {
     "output_type": "stream",
     "name": "stderr",
     "text": [
      "Evaluating: 100%|██████████| 5416/5416 [00:00<00:00, 16975.67it/s]\n"
     ]
    },
    {
     "output_type": "stream",
     "name": "stdout",
     "text": [
      "Train: 1.0000| Val: 0.7740| Test: 0.7960| Eval Time: 0.3251s\n",
      "Epoch 14| Loss: 0.1535| Acc: 0.9857| Train Time: 0.0406s\n"
     ]
    },
    {
     "output_type": "stream",
     "name": "stderr",
     "text": [
      "Evaluating: 100%|██████████| 5416/5416 [00:00<00:00, 17468.73it/s]\n"
     ]
    },
    {
     "output_type": "stream",
     "name": "stdout",
     "text": [
      "Train: 1.0000| Val: 0.7680| Test: 0.7980| Eval Time: 0.3160s\n",
      "Epoch 15| Loss: 0.0654| Acc: 1.0000| Train Time: 0.0450s\n"
     ]
    },
    {
     "output_type": "stream",
     "name": "stderr",
     "text": [
      "Evaluating: 100%|██████████| 5416/5416 [00:00<00:00, 17699.36it/s]\n"
     ]
    },
    {
     "output_type": "stream",
     "name": "stdout",
     "text": [
      "Train: 1.0000| Val: 0.7680| Test: 0.7950| Eval Time: 0.3120s\n",
      "Epoch 16| Loss: 0.0812| Acc: 1.0000| Train Time: 0.0420s\n"
     ]
    },
    {
     "output_type": "stream",
     "name": "stderr",
     "text": [
      "Evaluating: 100%|██████████| 5416/5416 [00:00<00:00, 14940.21it/s]\n"
     ]
    },
    {
     "output_type": "stream",
     "name": "stdout",
     "text": [
      "Train: 1.0000| Val: 0.7620| Test: 0.7940| Eval Time: 0.3685s\n",
      "Epoch 17| Loss: 0.0877| Acc: 1.0000| Train Time: 0.0375s\n"
     ]
    },
    {
     "output_type": "stream",
     "name": "stderr",
     "text": [
      "Evaluating: 100%|██████████| 5416/5416 [00:00<00:00, 18175.93it/s]\n"
     ]
    },
    {
     "output_type": "stream",
     "name": "stdout",
     "text": [
      "Train: 1.0000| Val: 0.7600| Test: 0.7900| Eval Time: 0.3030s\n",
      "Epoch 18| Loss: 0.0666| Acc: 1.0000| Train Time: 0.0445s\n"
     ]
    },
    {
     "output_type": "stream",
     "name": "stderr",
     "text": [
      "Evaluating: 100%|██████████| 5416/5416 [00:00<00:00, 17556.65it/s]\n"
     ]
    },
    {
     "output_type": "stream",
     "name": "stdout",
     "text": [
      "Train: 1.0000| Val: 0.7580| Test: 0.7860| Eval Time: 0.3149s\n",
      "Epoch 19| Loss: 0.0574| Acc: 0.9929| Train Time: 0.0438s\n"
     ]
    },
    {
     "output_type": "stream",
     "name": "stderr",
     "text": [
      "Evaluating: 100%|██████████| 5416/5416 [00:00<00:00, 17415.39it/s]\n"
     ]
    },
    {
     "output_type": "stream",
     "name": "stdout",
     "text": [
      "Train: 1.0000| Val: 0.7560| Test: 0.7810| Eval Time: 0.3166s\n",
      "Epoch 20| Loss: 0.0585| Acc: 0.9929| Train Time: 0.0410s\n"
     ]
    },
    {
     "output_type": "stream",
     "name": "stderr",
     "text": [
      "Evaluating: 100%|██████████| 5416/5416 [00:00<00:00, 18514.23it/s]\n"
     ]
    },
    {
     "output_type": "stream",
     "name": "stdout",
     "text": [
      "Train: 1.0000| Val: 0.7580| Test: 0.7800| Eval Time: 0.2985s\n",
      "Epoch 21| Loss: 0.0354| Acc: 0.9929| Train Time: 0.0470s\n"
     ]
    },
    {
     "output_type": "stream",
     "name": "stderr",
     "text": [
      "Evaluating: 100%|██████████| 5416/5416 [00:00<00:00, 18142.73it/s]\n"
     ]
    },
    {
     "output_type": "stream",
     "name": "stdout",
     "text": [
      "Train: 1.0000| Val: 0.7540| Test: 0.7810| Eval Time: 0.3035s\n",
      "Epoch 22| Loss: 0.0294| Acc: 1.0000| Train Time: 0.0440s\n"
     ]
    },
    {
     "output_type": "stream",
     "name": "stderr",
     "text": [
      "Evaluating: 100%|██████████| 5416/5416 [00:00<00:00, 17993.36it/s]\n"
     ]
    },
    {
     "output_type": "stream",
     "name": "stdout",
     "text": [
      "Train: 1.0000| Val: 0.7500| Test: 0.7830| Eval Time: 0.3070s\n",
      "Epoch 23| Loss: 0.0259| Acc: 1.0000| Train Time: 0.0440s\n"
     ]
    },
    {
     "output_type": "stream",
     "name": "stderr",
     "text": [
      "Evaluating: 100%|██████████| 5416/5416 [00:00<00:00, 17699.02it/s]\n"
     ]
    },
    {
     "output_type": "stream",
     "name": "stdout",
     "text": [
      "Train: 1.0000| Val: 0.7540| Test: 0.7840| Eval Time: 0.3130s\n",
      "Epoch 24| Loss: 0.0108| Acc: 1.0000| Train Time: 0.0460s\n"
     ]
    },
    {
     "output_type": "stream",
     "name": "stderr",
     "text": [
      "Evaluating: 100%|██████████| 5416/5416 [00:00<00:00, 17303.65it/s]\n"
     ]
    },
    {
     "output_type": "stream",
     "name": "stdout",
     "text": [
      "Train: 1.0000| Val: 0.7520| Test: 0.7830| Eval Time: 0.3170s\n",
      "Epoch 25| Loss: 0.0379| Acc: 1.0000| Train Time: 0.0460s\n"
     ]
    },
    {
     "output_type": "stream",
     "name": "stderr",
     "text": [
      "Evaluating: 100%|██████████| 5416/5416 [00:00<00:00, 18235.59it/s]\n"
     ]
    },
    {
     "output_type": "stream",
     "name": "stdout",
     "text": [
      "Train: 1.0000| Val: 0.7520| Test: 0.7830| Eval Time: 0.3020s\n",
      "Epoch 26| Loss: 0.0205| Acc: 1.0000| Train Time: 0.0420s\n"
     ]
    },
    {
     "output_type": "stream",
     "name": "stderr",
     "text": [
      "Evaluating: 100%|██████████| 5416/5416 [00:00<00:00, 17622.59it/s]\n"
     ]
    },
    {
     "output_type": "stream",
     "name": "stdout",
     "text": [
      "Train: 1.0000| Val: 0.7520| Test: 0.7840| Eval Time: 0.3169s\n",
      "Epoch 27| Loss: 0.0167| Acc: 1.0000| Train Time: 0.0430s\n"
     ]
    },
    {
     "output_type": "stream",
     "name": "stderr",
     "text": [
      "Evaluating: 100%|██████████| 5416/5416 [00:00<00:00, 18325.68it/s]\n"
     ]
    },
    {
     "output_type": "stream",
     "name": "stdout",
     "text": [
      "Train: 1.0000| Val: 0.7500| Test: 0.7830| Eval Time: 0.3005s\n",
      "Epoch 28| Loss: 0.0196| Acc: 1.0000| Train Time: 0.0393s\n"
     ]
    },
    {
     "output_type": "stream",
     "name": "stderr",
     "text": [
      "Evaluating: 100%|██████████| 5416/5416 [00:00<00:00, 17808.31it/s]\n"
     ]
    },
    {
     "output_type": "stream",
     "name": "stdout",
     "text": [
      "Train: 1.0000| Val: 0.7500| Test: 0.7810| Eval Time: 0.3101s\n",
      "Epoch 29| Loss: 0.0172| Acc: 1.0000| Train Time: 0.0400s\n"
     ]
    },
    {
     "output_type": "stream",
     "name": "stderr",
     "text": [
      "Evaluating: 100%|██████████| 5416/5416 [00:00<00:00, 18856.99it/s]\n"
     ]
    },
    {
     "output_type": "stream",
     "name": "stdout",
     "text": [
      "Train: 1.0000| Val: 0.7500| Test: 0.7780| Eval Time: 0.2922s\n",
      "Epoch 30| Loss: 0.0125| Acc: 1.0000| Train Time: 0.0450s\n"
     ]
    },
    {
     "output_type": "stream",
     "name": "stderr",
     "text": [
      "Evaluating: 100%|██████████| 5416/5416 [00:00<00:00, 14493.43it/s]\n"
     ]
    },
    {
     "output_type": "stream",
     "name": "stdout",
     "text": [
      "Train: 1.0000| Val: 0.7460| Test: 0.7740| Eval Time: 0.3797s\n",
      "Epoch 31| Loss: 0.0113| Acc: 1.0000| Train Time: 0.0420s\n"
     ]
    },
    {
     "output_type": "stream",
     "name": "stderr",
     "text": [
      "Evaluating: 100%|██████████| 5416/5416 [00:00<00:00, 18045.42it/s]\n"
     ]
    },
    {
     "output_type": "stream",
     "name": "stdout",
     "text": [
      "Train: 1.0000| Val: 0.7460| Test: 0.7730| Eval Time: 0.3071s\n",
      "Epoch 32| Loss: 0.0180| Acc: 1.0000| Train Time: 0.0410s\n"
     ]
    },
    {
     "output_type": "stream",
     "name": "stderr",
     "text": [
      "Evaluating: 100%|██████████| 5416/5416 [00:00<00:00, 17991.81it/s]\n"
     ]
    },
    {
     "output_type": "stream",
     "name": "stdout",
     "text": [
      "Train: 1.0000| Val: 0.7460| Test: 0.7730| Eval Time: 0.3060s\n",
      "Epoch 33| Loss: 0.0244| Acc: 0.9929| Train Time: 0.0380s\n"
     ]
    },
    {
     "output_type": "stream",
     "name": "stderr",
     "text": [
      "Evaluating: 100%|██████████| 5416/5416 [00:00<00:00, 17555.32it/s]\n"
     ]
    },
    {
     "output_type": "stream",
     "name": "stdout",
     "text": [
      "Train: 1.0000| Val: 0.7460| Test: 0.7740| Eval Time: 0.3145s\n",
      "Epoch 34| Loss: 0.0125| Acc: 1.0000| Train Time: 0.0457s\n"
     ]
    },
    {
     "output_type": "stream",
     "name": "stderr",
     "text": [
      "Evaluating: 100%|██████████| 5416/5416 [00:00<00:00, 17706.11it/s]\n"
     ]
    },
    {
     "output_type": "stream",
     "name": "stdout",
     "text": [
      "Train: 1.0000| Val: 0.7480| Test: 0.7740| Eval Time: 0.3119s\n",
      "Epoch 35| Loss: 0.0130| Acc: 1.0000| Train Time: 0.0410s\n"
     ]
    },
    {
     "output_type": "stream",
     "name": "stderr",
     "text": [
      "Evaluating: 100%|██████████| 5416/5416 [00:00<00:00, 17330.20it/s]\n"
     ]
    },
    {
     "output_type": "stream",
     "name": "stdout",
     "text": [
      "Train: 1.0000| Val: 0.7460| Test: 0.7710| Eval Time: 0.3175s\n",
      "Epoch 36| Loss: 0.0046| Acc: 1.0000| Train Time: 0.0410s\n"
     ]
    },
    {
     "output_type": "stream",
     "name": "stderr",
     "text": [
      "Evaluating: 100%|██████████| 5416/5416 [00:00<00:00, 17661.78it/s]\n"
     ]
    },
    {
     "output_type": "stream",
     "name": "stdout",
     "text": [
      "Train: 1.0000| Val: 0.7460| Test: 0.7710| Eval Time: 0.3127s\n",
      "Epoch 37| Loss: 0.0174| Acc: 1.0000| Train Time: 0.0459s\n"
     ]
    },
    {
     "output_type": "stream",
     "name": "stderr",
     "text": [
      "Evaluating: 100%|██████████| 5416/5416 [00:00<00:00, 18231.20it/s]\n"
     ]
    },
    {
     "output_type": "stream",
     "name": "stdout",
     "text": [
      "Train: 1.0000| Val: 0.7460| Test: 0.7720| Eval Time: 0.3020s\n",
      "Epoch 38| Loss: 0.0062| Acc: 1.0000| Train Time: 0.0400s\n"
     ]
    },
    {
     "output_type": "stream",
     "name": "stderr",
     "text": [
      "Evaluating: 100%|██████████| 5416/5416 [00:00<00:00, 17986.13it/s]\n"
     ]
    },
    {
     "output_type": "stream",
     "name": "stdout",
     "text": [
      "Train: 1.0000| Val: 0.7440| Test: 0.7700| Eval Time: 0.3061s\n",
      "Epoch 39| Loss: 0.0113| Acc: 1.0000| Train Time: 0.0400s\n"
     ]
    },
    {
     "output_type": "stream",
     "name": "stderr",
     "text": [
      "Evaluating: 100%|██████████| 5416/5416 [00:00<00:00, 17699.88it/s]\n"
     ]
    },
    {
     "output_type": "stream",
     "name": "stdout",
     "text": [
      "Train: 1.0000| Val: 0.7460| Test: 0.7700| Eval Time: 0.3120s\n",
      "Epoch 40| Loss: 0.0067| Acc: 1.0000| Train Time: 0.0420s\n"
     ]
    },
    {
     "output_type": "stream",
     "name": "stderr",
     "text": [
      "Evaluating: 100%|██████████| 5416/5416 [00:00<00:00, 17901.63it/s]\n"
     ]
    },
    {
     "output_type": "stream",
     "name": "stdout",
     "text": [
      "Train: 1.0000| Val: 0.7440| Test: 0.7720| Eval Time: 0.3065s\n",
      "Epoch 41| Loss: 0.0029| Acc: 1.0000| Train Time: 0.0430s\n"
     ]
    },
    {
     "output_type": "stream",
     "name": "stderr",
     "text": [
      "Evaluating: 100%|██████████| 5416/5416 [00:00<00:00, 17758.01it/s]\n"
     ]
    },
    {
     "output_type": "stream",
     "name": "stdout",
     "text": [
      "Train: 1.0000| Val: 0.7440| Test: 0.7720| Eval Time: 0.3120s\n",
      "Epoch 42| Loss: 0.0044| Acc: 1.0000| Train Time: 0.0420s\n"
     ]
    },
    {
     "output_type": "stream",
     "name": "stderr",
     "text": [
      "Evaluating: 100%|██████████| 5416/5416 [00:00<00:00, 17693.17it/s]\n"
     ]
    },
    {
     "output_type": "stream",
     "name": "stdout",
     "text": [
      "Train: 1.0000| Val: 0.7440| Test: 0.7740| Eval Time: 0.3121s\n",
      "Epoch 43| Loss: 0.0022| Acc: 1.0000| Train Time: 0.0420s\n"
     ]
    },
    {
     "output_type": "stream",
     "name": "stderr",
     "text": [
      "Evaluating: 100%|██████████| 5416/5416 [00:00<00:00, 18320.89it/s]\n"
     ]
    },
    {
     "output_type": "stream",
     "name": "stdout",
     "text": [
      "Train: 1.0000| Val: 0.7440| Test: 0.7740| Eval Time: 0.3046s\n",
      "Epoch 44| Loss: 0.0060| Acc: 1.0000| Train Time: 0.0424s\n"
     ]
    },
    {
     "output_type": "stream",
     "name": "stderr",
     "text": [
      "Evaluating: 100%|██████████| 5416/5416 [00:00<00:00, 17749.94it/s]\n"
     ]
    },
    {
     "output_type": "stream",
     "name": "stdout",
     "text": [
      "Train: 1.0000| Val: 0.7440| Test: 0.7750| Eval Time: 0.3101s\n",
      "Epoch 45| Loss: 0.0045| Acc: 1.0000| Train Time: 0.0420s\n"
     ]
    },
    {
     "output_type": "stream",
     "name": "stderr",
     "text": [
      "Evaluating: 100%|██████████| 5416/5416 [00:00<00:00, 17656.38it/s]\n"
     ]
    },
    {
     "output_type": "stream",
     "name": "stdout",
     "text": [
      "Train: 1.0000| Val: 0.7440| Test: 0.7750| Eval Time: 0.3128s\n",
      "Epoch 46| Loss: 0.0076| Acc: 1.0000| Train Time: 0.0400s\n"
     ]
    },
    {
     "output_type": "stream",
     "name": "stderr",
     "text": [
      "Evaluating: 100%|██████████| 5416/5416 [00:00<00:00, 17193.00it/s]\n"
     ]
    },
    {
     "output_type": "stream",
     "name": "stdout",
     "text": [
      "Train: 1.0000| Val: 0.7420| Test: 0.7750| Eval Time: 0.3210s\n",
      "Epoch 47| Loss: 0.0107| Acc: 1.0000| Train Time: 0.0450s\n"
     ]
    },
    {
     "output_type": "stream",
     "name": "stderr",
     "text": [
      "Evaluating: 100%|██████████| 5416/5416 [00:00<00:00, 17812.18it/s]\n"
     ]
    },
    {
     "output_type": "stream",
     "name": "stdout",
     "text": [
      "Train: 1.0000| Val: 0.7420| Test: 0.7760| Eval Time: 0.3081s\n",
      "Epoch 48| Loss: 0.0031| Acc: 1.0000| Train Time: 0.0410s\n"
     ]
    },
    {
     "output_type": "stream",
     "name": "stderr",
     "text": [
      "Evaluating: 100%|██████████| 5416/5416 [00:00<00:00, 17246.25it/s]\n"
     ]
    },
    {
     "output_type": "stream",
     "name": "stdout",
     "text": [
      "Train: 1.0000| Val: 0.7420| Test: 0.7770| Eval Time: 0.3180s\n",
      "Epoch 49| Loss: 0.0118| Acc: 1.0000| Train Time: 0.0385s\n"
     ]
    },
    {
     "output_type": "stream",
     "name": "stderr",
     "text": [
      "Evaluating: 100%|██████████| 5416/5416 [00:00<00:00, 18011.21it/s]\n"
     ]
    },
    {
     "output_type": "stream",
     "name": "stdout",
     "text": [
      "Train: 1.0000| Val: 0.7420| Test: 0.7780| Eval Time: 0.3057s\n",
      "Epoch 50| Loss: 0.0041| Acc: 1.0000| Train Time: 0.0400s\n"
     ]
    },
    {
     "output_type": "stream",
     "name": "stderr",
     "text": [
      "Evaluating: 100%|██████████| 5416/5416 [00:00<00:00, 18514.85it/s]\n"
     ]
    },
    {
     "output_type": "stream",
     "name": "stdout",
     "text": [
      "Train: 1.0000| Val: 0.7420| Test: 0.7800| Eval Time: 0.2985s\n",
      "Epoch 51| Loss: 0.0011| Acc: 1.0000| Train Time: 0.0460s\n"
     ]
    },
    {
     "output_type": "stream",
     "name": "stderr",
     "text": [
      "Evaluating: 100%|██████████| 5416/5416 [00:00<00:00, 18112.04it/s]\n"
     ]
    },
    {
     "output_type": "stream",
     "name": "stdout",
     "text": [
      "Train: 1.0000| Val: 0.7440| Test: 0.7800| Eval Time: 0.3030s\n",
      "Epoch 52| Loss: 0.0015| Acc: 1.0000| Train Time: 0.0410s\n"
     ]
    },
    {
     "output_type": "stream",
     "name": "stderr",
     "text": [
      "Evaluating: 100%|██████████| 5416/5416 [00:00<00:00, 18159.11it/s]\n"
     ]
    },
    {
     "output_type": "stream",
     "name": "stdout",
     "text": [
      "Train: 1.0000| Val: 0.7440| Test: 0.7800| Eval Time: 0.3053s\n",
      "Epoch 53| Loss: 0.0040| Acc: 1.0000| Train Time: 0.0420s\n"
     ]
    },
    {
     "output_type": "stream",
     "name": "stderr",
     "text": [
      "Evaluating: 100%|██████████| 5416/5416 [00:00<00:00, 17140.72it/s]\n"
     ]
    },
    {
     "output_type": "stream",
     "name": "stdout",
     "text": [
      "Train: 1.0000| Val: 0.7460| Test: 0.7800| Eval Time: 0.3210s\n",
      "\n",
      "Result of  7. run| Train: 0.9643| Val: 0.7800| Test: 0.7890\n",
      "\n",
      "Run 08 for GatV1_K2_s and Cora:\n"
     ]
    },
    {
     "output_type": "stream",
     "name": "stderr",
     "text": [
      "Epoch 01: 100%|██████████| 140/140 [00:00<00:00, 3043.57it/s]\n"
     ]
    },
    {
     "output_type": "stream",
     "name": "stdout",
     "text": [
      "Epoch 01| Loss: 2.0756| Acc: 0.1143| Train Time: 0.0510s\n"
     ]
    },
    {
     "output_type": "stream",
     "name": "stderr",
     "text": [
      "Evaluating: 100%|██████████| 5416/5416 [00:00<00:00, 14404.22it/s]\n"
     ]
    },
    {
     "output_type": "stream",
     "name": "stdout",
     "text": [
      "Train: 0.7500| Val: 0.5660| Test: 0.5750| Eval Time: 0.3850s\n",
      "Epoch 02| Loss: 1.4430| Acc: 0.6286| Train Time: 0.0510s\n"
     ]
    },
    {
     "output_type": "stream",
     "name": "stderr",
     "text": [
      "Evaluating: 100%|██████████| 5416/5416 [00:00<00:00, 17408.53it/s]\n"
     ]
    },
    {
     "output_type": "stream",
     "name": "stdout",
     "text": [
      "Train: 0.9143| Val: 0.7640| Test: 0.7730| Eval Time: 0.3161s\n",
      "Epoch 03| Loss: 1.0194| Acc: 0.8643| Train Time: 0.0450s\n"
     ]
    },
    {
     "output_type": "stream",
     "name": "stderr",
     "text": [
      "Evaluating: 100%|██████████| 5416/5416 [00:00<00:00, 17812.86it/s]\n"
     ]
    },
    {
     "output_type": "stream",
     "name": "stdout",
     "text": [
      "Train: 0.9643| Val: 0.7580| Test: 0.7770| Eval Time: 0.3110s\n",
      "Epoch 04| Loss: 0.8466| Acc: 0.9214| Train Time: 0.0410s\n"
     ]
    },
    {
     "output_type": "stream",
     "name": "stderr",
     "text": [
      "Evaluating: 100%|██████████| 5416/5416 [00:00<00:00, 17582.18it/s]\n"
     ]
    },
    {
     "output_type": "stream",
     "name": "stdout",
     "text": [
      "Train: 0.9929| Val: 0.7600| Test: 0.7810| Eval Time: 0.3130s\n",
      "Epoch 05| Loss: 0.6824| Acc: 0.9571| Train Time: 0.0460s\n"
     ]
    },
    {
     "output_type": "stream",
     "name": "stderr",
     "text": [
      "Evaluating: 100%|██████████| 5416/5416 [00:00<00:00, 16810.03it/s]\n"
     ]
    },
    {
     "output_type": "stream",
     "name": "stdout",
     "text": [
      "Train: 1.0000| Val: 0.7700| Test: 0.7900| Eval Time: 0.3272s\n",
      "Epoch 06| Loss: 0.4453| Acc: 0.9643| Train Time: 0.0410s\n"
     ]
    },
    {
     "output_type": "stream",
     "name": "stderr",
     "text": [
      "Evaluating: 100%|██████████| 5416/5416 [00:00<00:00, 16993.46it/s]\n"
     ]
    },
    {
     "output_type": "stream",
     "name": "stdout",
     "text": [
      "Train: 1.0000| Val: 0.7800| Test: 0.7970| Eval Time: 0.3257s\n",
      "Epoch 07| Loss: 0.3931| Acc: 0.9714| Train Time: 0.0460s\n"
     ]
    },
    {
     "output_type": "stream",
     "name": "stderr",
     "text": [
      "Evaluating: 100%|██████████| 5416/5416 [00:00<00:00, 18297.44it/s]\n"
     ]
    },
    {
     "output_type": "stream",
     "name": "stdout",
     "text": [
      "Train: 1.0000| Val: 0.7840| Test: 0.8010| Eval Time: 0.3020s\n",
      "Epoch 08| Loss: 0.3115| Acc: 0.9857| Train Time: 0.0400s\n"
     ]
    },
    {
     "output_type": "stream",
     "name": "stderr",
     "text": [
      "Evaluating: 100%|██████████| 5416/5416 [00:00<00:00, 18180.83it/s]\n"
     ]
    },
    {
     "output_type": "stream",
     "name": "stdout",
     "text": [
      "Train: 1.0000| Val: 0.7860| Test: 0.8010| Eval Time: 0.3059s\n",
      "Epoch 09| Loss: 0.3170| Acc: 0.9714| Train Time: 0.0400s\n"
     ]
    },
    {
     "output_type": "stream",
     "name": "stderr",
     "text": [
      "Evaluating: 100%|██████████| 5416/5416 [00:00<00:00, 17560.04it/s]\n"
     ]
    },
    {
     "output_type": "stream",
     "name": "stdout",
     "text": [
      "Train: 1.0000| Val: 0.7940| Test: 0.7990| Eval Time: 0.3144s\n",
      "Epoch 10| Loss: 0.2204| Acc: 0.9714| Train Time: 0.0420s\n"
     ]
    },
    {
     "output_type": "stream",
     "name": "stderr",
     "text": [
      "Evaluating: 100%|██████████| 5416/5416 [00:00<00:00, 17669.50it/s]\n"
     ]
    },
    {
     "output_type": "stream",
     "name": "stdout",
     "text": [
      "Train: 1.0000| Val: 0.7920| Test: 0.7960| Eval Time: 0.3125s\n",
      "Epoch 11| Loss: 0.1957| Acc: 0.9929| Train Time: 0.0440s\n"
     ]
    },
    {
     "output_type": "stream",
     "name": "stderr",
     "text": [
      "Evaluating: 100%|██████████| 5416/5416 [00:00<00:00, 17240.70it/s]\n"
     ]
    },
    {
     "output_type": "stream",
     "name": "stdout",
     "text": [
      "Train: 1.0000| Val: 0.7920| Test: 0.7960| Eval Time: 0.3191s\n",
      "Epoch 12| Loss: 0.1508| Acc: 0.9929| Train Time: 0.0447s\n"
     ]
    },
    {
     "output_type": "stream",
     "name": "stderr",
     "text": [
      "Evaluating: 100%|██████████| 5416/5416 [00:00<00:00, 17632.33it/s]\n"
     ]
    },
    {
     "output_type": "stream",
     "name": "stdout",
     "text": [
      "Train: 1.0000| Val: 0.7900| Test: 0.7960| Eval Time: 0.3132s\n",
      "Epoch 13| Loss: 0.1112| Acc: 0.9929| Train Time: 0.0420s\n"
     ]
    },
    {
     "output_type": "stream",
     "name": "stderr",
     "text": [
      "Evaluating: 100%|██████████| 5416/5416 [00:00<00:00, 14696.09it/s]\n"
     ]
    },
    {
     "output_type": "stream",
     "name": "stdout",
     "text": [
      "Train: 1.0000| Val: 0.7880| Test: 0.7980| Eval Time: 0.3745s\n",
      "Epoch 14| Loss: 0.0929| Acc: 1.0000| Train Time: 0.0445s\n"
     ]
    },
    {
     "output_type": "stream",
     "name": "stderr",
     "text": [
      "Evaluating: 100%|██████████| 5416/5416 [00:00<00:00, 18871.23it/s]\n"
     ]
    },
    {
     "output_type": "stream",
     "name": "stdout",
     "text": [
      "Train: 1.0000| Val: 0.7840| Test: 0.7990| Eval Time: 0.2920s\n",
      "Epoch 15| Loss: 0.0951| Acc: 0.9929| Train Time: 0.0450s\n"
     ]
    },
    {
     "output_type": "stream",
     "name": "stderr",
     "text": [
      "Evaluating: 100%|██████████| 5416/5416 [00:00<00:00, 17837.97it/s]\n"
     ]
    },
    {
     "output_type": "stream",
     "name": "stdout",
     "text": [
      "Train: 1.0000| Val: 0.7820| Test: 0.8010| Eval Time: 0.3082s\n",
      "Epoch 16| Loss: 0.0650| Acc: 1.0000| Train Time: 0.0420s\n"
     ]
    },
    {
     "output_type": "stream",
     "name": "stderr",
     "text": [
      "Evaluating: 100%|██████████| 5416/5416 [00:00<00:00, 17987.12it/s]\n"
     ]
    },
    {
     "output_type": "stream",
     "name": "stdout",
     "text": [
      "Train: 1.0000| Val: 0.7860| Test: 0.8050| Eval Time: 0.3061s\n",
      "Epoch 17| Loss: 0.0569| Acc: 1.0000| Train Time: 0.0430s\n"
     ]
    },
    {
     "output_type": "stream",
     "name": "stderr",
     "text": [
      "Evaluating: 100%|██████████| 5416/5416 [00:00<00:00, 17951.63it/s]\n"
     ]
    },
    {
     "output_type": "stream",
     "name": "stdout",
     "text": [
      "Train: 1.0000| Val: 0.7820| Test: 0.8070| Eval Time: 0.3067s\n",
      "Epoch 18| Loss: 0.0665| Acc: 1.0000| Train Time: 0.0420s\n"
     ]
    },
    {
     "output_type": "stream",
     "name": "stderr",
     "text": [
      "Evaluating: 100%|██████████| 5416/5416 [00:00<00:00, 17755.14it/s]\n"
     ]
    },
    {
     "output_type": "stream",
     "name": "stdout",
     "text": [
      "Train: 1.0000| Val: 0.7820| Test: 0.8050| Eval Time: 0.3100s\n",
      "Epoch 19| Loss: 0.0373| Acc: 1.0000| Train Time: 0.0430s\n"
     ]
    },
    {
     "output_type": "stream",
     "name": "stderr",
     "text": [
      "Evaluating: 100%|██████████| 5416/5416 [00:00<00:00, 17308.97it/s]\n"
     ]
    },
    {
     "output_type": "stream",
     "name": "stdout",
     "text": [
      "Train: 1.0000| Val: 0.7840| Test: 0.8050| Eval Time: 0.3179s\n",
      "Epoch 20| Loss: 0.0360| Acc: 1.0000| Train Time: 0.0410s\n"
     ]
    },
    {
     "output_type": "stream",
     "name": "stderr",
     "text": [
      "Evaluating: 100%|██████████| 5416/5416 [00:00<00:00, 17582.44it/s]\n"
     ]
    },
    {
     "output_type": "stream",
     "name": "stdout",
     "text": [
      "Train: 1.0000| Val: 0.7840| Test: 0.8050| Eval Time: 0.3146s\n",
      "Epoch 21| Loss: 0.0530| Acc: 0.9929| Train Time: 0.0395s\n"
     ]
    },
    {
     "output_type": "stream",
     "name": "stderr",
     "text": [
      "Evaluating: 100%|██████████| 5416/5416 [00:00<00:00, 17583.21it/s]\n"
     ]
    },
    {
     "output_type": "stream",
     "name": "stdout",
     "text": [
      "Train: 1.0000| Val: 0.7820| Test: 0.8050| Eval Time: 0.3140s\n",
      "Epoch 22| Loss: 0.0352| Acc: 1.0000| Train Time: 0.0430s\n"
     ]
    },
    {
     "output_type": "stream",
     "name": "stderr",
     "text": [
      "Evaluating: 100%|██████████| 5416/5416 [00:00<00:00, 17172.79it/s]\n"
     ]
    },
    {
     "output_type": "stream",
     "name": "stdout",
     "text": [
      "Train: 1.0000| Val: 0.7840| Test: 0.8090| Eval Time: 0.3214s\n",
      "Epoch 23| Loss: 0.0354| Acc: 1.0000| Train Time: 0.0400s\n"
     ]
    },
    {
     "output_type": "stream",
     "name": "stderr",
     "text": [
      "Evaluating: 100%|██████████| 5416/5416 [00:00<00:00, 17933.77it/s]\n"
     ]
    },
    {
     "output_type": "stream",
     "name": "stdout",
     "text": [
      "Train: 1.0000| Val: 0.7840| Test: 0.8110| Eval Time: 0.3070s\n",
      "Epoch 24| Loss: 0.0157| Acc: 1.0000| Train Time: 0.0410s\n"
     ]
    },
    {
     "output_type": "stream",
     "name": "stderr",
     "text": [
      "Evaluating: 100%|██████████| 5416/5416 [00:00<00:00, 17663.70it/s]\n"
     ]
    },
    {
     "output_type": "stream",
     "name": "stdout",
     "text": [
      "Train: 1.0000| Val: 0.7820| Test: 0.8110| Eval Time: 0.3116s\n",
      "Epoch 25| Loss: 0.0283| Acc: 1.0000| Train Time: 0.0390s\n"
     ]
    },
    {
     "output_type": "stream",
     "name": "stderr",
     "text": [
      "Evaluating: 100%|██████████| 5416/5416 [00:00<00:00, 14815.84it/s]\n"
     ]
    },
    {
     "output_type": "stream",
     "name": "stdout",
     "text": [
      "Train: 1.0000| Val: 0.7840| Test: 0.8120| Eval Time: 0.3706s\n",
      "Epoch 26| Loss: 0.0225| Acc: 1.0000| Train Time: 0.0410s\n"
     ]
    },
    {
     "output_type": "stream",
     "name": "stderr",
     "text": [
      "Evaluating: 100%|██████████| 5416/5416 [00:00<00:00, 17584.70it/s]\n"
     ]
    },
    {
     "output_type": "stream",
     "name": "stdout",
     "text": [
      "Train: 1.0000| Val: 0.7840| Test: 0.8130| Eval Time: 0.3150s\n",
      "Epoch 27| Loss: 0.0235| Acc: 1.0000| Train Time: 0.0410s\n"
     ]
    },
    {
     "output_type": "stream",
     "name": "stderr",
     "text": [
      "Evaluating: 100%|██████████| 5416/5416 [00:00<00:00, 17723.15it/s]\n"
     ]
    },
    {
     "output_type": "stream",
     "name": "stdout",
     "text": [
      "Train: 1.0000| Val: 0.7860| Test: 0.8140| Eval Time: 0.3096s\n",
      "Epoch 28| Loss: 0.0208| Acc: 1.0000| Train Time: 0.0420s\n"
     ]
    },
    {
     "output_type": "stream",
     "name": "stderr",
     "text": [
      "Evaluating: 100%|██████████| 5416/5416 [00:00<00:00, 17414.53it/s]\n"
     ]
    },
    {
     "output_type": "stream",
     "name": "stdout",
     "text": [
      "Train: 1.0000| Val: 0.7880| Test: 0.8150| Eval Time: 0.3150s\n",
      "Epoch 29| Loss: 0.0144| Acc: 1.0000| Train Time: 0.0410s\n"
     ]
    },
    {
     "output_type": "stream",
     "name": "stderr",
     "text": [
      "Evaluating: 100%|██████████| 5416/5416 [00:00<00:00, 17373.18it/s]\n"
     ]
    },
    {
     "output_type": "stream",
     "name": "stdout",
     "text": [
      "Train: 1.0000| Val: 0.7860| Test: 0.8150| Eval Time: 0.3177s\n",
      "Epoch 30| Loss: 0.0230| Acc: 1.0000| Train Time: 0.0409s\n"
     ]
    },
    {
     "output_type": "stream",
     "name": "stderr",
     "text": [
      "Evaluating: 100%|██████████| 5416/5416 [00:00<00:00, 17996.91it/s]\n"
     ]
    },
    {
     "output_type": "stream",
     "name": "stdout",
     "text": [
      "Train: 1.0000| Val: 0.7860| Test: 0.8140| Eval Time: 0.3079s\n",
      "Epoch 31| Loss: 0.0383| Acc: 0.9929| Train Time: 0.0400s\n"
     ]
    },
    {
     "output_type": "stream",
     "name": "stderr",
     "text": [
      "Evaluating: 100%|██████████| 5416/5416 [00:00<00:00, 17869.91it/s]\n"
     ]
    },
    {
     "output_type": "stream",
     "name": "stdout",
     "text": [
      "Train: 1.0000| Val: 0.7840| Test: 0.8110| Eval Time: 0.3081s\n",
      "Epoch 32| Loss: 0.0177| Acc: 1.0000| Train Time: 0.0420s\n"
     ]
    },
    {
     "output_type": "stream",
     "name": "stderr",
     "text": [
      "Evaluating: 100%|██████████| 5416/5416 [00:00<00:00, 17386.59it/s]\n"
     ]
    },
    {
     "output_type": "stream",
     "name": "stdout",
     "text": [
      "Train: 1.0000| Val: 0.7840| Test: 0.8120| Eval Time: 0.3175s\n",
      "Epoch 33| Loss: 0.0066| Acc: 1.0000| Train Time: 0.0436s\n"
     ]
    },
    {
     "output_type": "stream",
     "name": "stderr",
     "text": [
      "Evaluating: 100%|██████████| 5416/5416 [00:00<00:00, 17595.80it/s]\n"
     ]
    },
    {
     "output_type": "stream",
     "name": "stdout",
     "text": [
      "Train: 1.0000| Val: 0.7820| Test: 0.8120| Eval Time: 0.3138s\n",
      "Epoch 34| Loss: 0.0079| Acc: 1.0000| Train Time: 0.0435s\n"
     ]
    },
    {
     "output_type": "stream",
     "name": "stderr",
     "text": [
      "Evaluating: 100%|██████████| 5416/5416 [00:00<00:00, 18506.21it/s]\n"
     ]
    },
    {
     "output_type": "stream",
     "name": "stdout",
     "text": [
      "Train: 1.0000| Val: 0.7820| Test: 0.8130| Eval Time: 0.2977s\n",
      "Epoch 35| Loss: 0.0117| Acc: 1.0000| Train Time: 0.0394s\n"
     ]
    },
    {
     "output_type": "stream",
     "name": "stderr",
     "text": [
      "Evaluating: 100%|██████████| 5416/5416 [00:00<00:00, 18170.87it/s]\n"
     ]
    },
    {
     "output_type": "stream",
     "name": "stdout",
     "text": [
      "Train: 1.0000| Val: 0.7840| Test: 0.8130| Eval Time: 0.3036s\n",
      "Epoch 36| Loss: 0.0179| Acc: 1.0000| Train Time: 0.0420s\n"
     ]
    },
    {
     "output_type": "stream",
     "name": "stderr",
     "text": [
      "Evaluating: 100%|██████████| 5416/5416 [00:00<00:00, 17498.48it/s]\n"
     ]
    },
    {
     "output_type": "stream",
     "name": "stdout",
     "text": [
      "Train: 1.0000| Val: 0.7800| Test: 0.8110| Eval Time: 0.3145s\n",
      "Epoch 37| Loss: 0.0073| Acc: 1.0000| Train Time: 0.0375s\n"
     ]
    },
    {
     "output_type": "stream",
     "name": "stderr",
     "text": [
      "Evaluating: 100%|██████████| 5416/5416 [00:00<00:00, 14073.83it/s]\n"
     ]
    },
    {
     "output_type": "stream",
     "name": "stdout",
     "text": [
      "Train: 1.0000| Val: 0.7760| Test: 0.8100| Eval Time: 0.3908s\n",
      "Epoch 38| Loss: 0.0063| Acc: 1.0000| Train Time: 0.0420s\n"
     ]
    },
    {
     "output_type": "stream",
     "name": "stderr",
     "text": [
      "Evaluating: 100%|██████████| 5416/5416 [00:00<00:00, 16820.06it/s]\n"
     ]
    },
    {
     "output_type": "stream",
     "name": "stdout",
     "text": [
      "Train: 1.0000| Val: 0.7780| Test: 0.8080| Eval Time: 0.3280s\n",
      "Epoch 39| Loss: 0.0083| Acc: 1.0000| Train Time: 0.0410s\n"
     ]
    },
    {
     "output_type": "stream",
     "name": "stderr",
     "text": [
      "Evaluating: 100%|██████████| 5416/5416 [00:00<00:00, 18202.38it/s]\n"
     ]
    },
    {
     "output_type": "stream",
     "name": "stdout",
     "text": [
      "Train: 1.0000| Val: 0.7760| Test: 0.8070| Eval Time: 0.3025s\n",
      "Epoch 40| Loss: 0.0047| Acc: 1.0000| Train Time: 0.0445s\n"
     ]
    },
    {
     "output_type": "stream",
     "name": "stderr",
     "text": [
      "Evaluating: 100%|██████████| 5416/5416 [00:00<00:00, 17899.50it/s]\n"
     ]
    },
    {
     "output_type": "stream",
     "name": "stdout",
     "text": [
      "Train: 1.0000| Val: 0.7720| Test: 0.8090| Eval Time: 0.3066s\n",
      "Epoch 41| Loss: 0.0101| Acc: 1.0000| Train Time: 0.0400s\n"
     ]
    },
    {
     "output_type": "stream",
     "name": "stderr",
     "text": [
      "Evaluating: 100%|██████████| 5416/5416 [00:00<00:00, 17698.13it/s]\n"
     ]
    },
    {
     "output_type": "stream",
     "name": "stdout",
     "text": [
      "Train: 1.0000| Val: 0.7740| Test: 0.8060| Eval Time: 0.3100s\n",
      "Epoch 42| Loss: 0.0068| Acc: 1.0000| Train Time: 0.0470s\n"
     ]
    },
    {
     "output_type": "stream",
     "name": "stderr",
     "text": [
      "Evaluating: 100%|██████████| 5416/5416 [00:00<00:00, 18355.86it/s]\n"
     ]
    },
    {
     "output_type": "stream",
     "name": "stdout",
     "text": [
      "Train: 1.0000| Val: 0.7720| Test: 0.8060| Eval Time: 0.3011s\n",
      "Epoch 43| Loss: 0.0044| Acc: 1.0000| Train Time: 0.0465s\n"
     ]
    },
    {
     "output_type": "stream",
     "name": "stderr",
     "text": [
      "Evaluating: 100%|██████████| 5416/5416 [00:00<00:00, 18051.73it/s]\n"
     ]
    },
    {
     "output_type": "stream",
     "name": "stdout",
     "text": [
      "Train: 1.0000| Val: 0.7720| Test: 0.8050| Eval Time: 0.3060s\n",
      "Epoch 44| Loss: 0.0082| Acc: 1.0000| Train Time: 0.0450s\n"
     ]
    },
    {
     "output_type": "stream",
     "name": "stderr",
     "text": [
      "Evaluating: 100%|██████████| 5416/5416 [00:00<00:00, 17382.90it/s]\n"
     ]
    },
    {
     "output_type": "stream",
     "name": "stdout",
     "text": [
      "Train: 1.0000| Val: 0.7700| Test: 0.8050| Eval Time: 0.3186s\n",
      "Epoch 45| Loss: 0.0087| Acc: 1.0000| Train Time: 0.0415s\n"
     ]
    },
    {
     "output_type": "stream",
     "name": "stderr",
     "text": [
      "Evaluating: 100%|██████████| 5416/5416 [00:00<00:00, 17901.11it/s]\n"
     ]
    },
    {
     "output_type": "stream",
     "name": "stdout",
     "text": [
      "Train: 1.0000| Val: 0.7680| Test: 0.8050| Eval Time: 0.3071s\n",
      "Epoch 46| Loss: 0.0066| Acc: 1.0000| Train Time: 0.0410s\n"
     ]
    },
    {
     "output_type": "stream",
     "name": "stderr",
     "text": [
      "Evaluating: 100%|██████████| 5416/5416 [00:00<00:00, 17782.30it/s]\n"
     ]
    },
    {
     "output_type": "stream",
     "name": "stdout",
     "text": [
      "Train: 1.0000| Val: 0.7680| Test: 0.8040| Eval Time: 0.3106s\n",
      "Epoch 47| Loss: 0.0073| Acc: 1.0000| Train Time: 0.0410s\n"
     ]
    },
    {
     "output_type": "stream",
     "name": "stderr",
     "text": [
      "Evaluating: 100%|██████████| 5416/5416 [00:00<00:00, 17641.88it/s]\n"
     ]
    },
    {
     "output_type": "stream",
     "name": "stdout",
     "text": [
      "Train: 1.0000| Val: 0.7640| Test: 0.8030| Eval Time: 0.3140s\n",
      "Epoch 48| Loss: 0.0038| Acc: 1.0000| Train Time: 0.0410s\n"
     ]
    },
    {
     "output_type": "stream",
     "name": "stderr",
     "text": [
      "Evaluating: 100%|██████████| 5416/5416 [00:00<00:00, 16869.02it/s]\n"
     ]
    },
    {
     "output_type": "stream",
     "name": "stdout",
     "text": [
      "Train: 1.0000| Val: 0.7640| Test: 0.8040| Eval Time: 0.3271s\n",
      "Epoch 49| Loss: 0.0109| Acc: 1.0000| Train Time: 0.0449s\n"
     ]
    },
    {
     "output_type": "stream",
     "name": "stderr",
     "text": [
      "Evaluating: 100%|██████████| 5416/5416 [00:00<00:00, 14578.79it/s]\n"
     ]
    },
    {
     "output_type": "stream",
     "name": "stdout",
     "text": [
      "Train: 1.0000| Val: 0.7660| Test: 0.8040| Eval Time: 0.3785s\n",
      "Epoch 50| Loss: 0.0051| Acc: 1.0000| Train Time: 0.0430s\n"
     ]
    },
    {
     "output_type": "stream",
     "name": "stderr",
     "text": [
      "Evaluating: 100%|██████████| 5416/5416 [00:00<00:00, 18170.62it/s]\n"
     ]
    },
    {
     "output_type": "stream",
     "name": "stdout",
     "text": [
      "Train: 1.0000| Val: 0.7680| Test: 0.8050| Eval Time: 0.3041s\n",
      "Epoch 51| Loss: 0.0046| Acc: 1.0000| Train Time: 0.0435s\n"
     ]
    },
    {
     "output_type": "stream",
     "name": "stderr",
     "text": [
      "Evaluating: 100%|██████████| 5416/5416 [00:00<00:00, 17699.18it/s]\n"
     ]
    },
    {
     "output_type": "stream",
     "name": "stdout",
     "text": [
      "Train: 1.0000| Val: 0.7680| Test: 0.8050| Eval Time: 0.3110s\n",
      "Epoch 52| Loss: 0.0034| Acc: 1.0000| Train Time: 0.0425s\n"
     ]
    },
    {
     "output_type": "stream",
     "name": "stderr",
     "text": [
      "Evaluating: 100%|██████████| 5416/5416 [00:00<00:00, 17829.82it/s]\n"
     ]
    },
    {
     "output_type": "stream",
     "name": "stdout",
     "text": [
      "Train: 1.0000| Val: 0.7680| Test: 0.8050| Eval Time: 0.3098s\n",
      "Epoch 53| Loss: 0.0100| Acc: 1.0000| Train Time: 0.0399s\n"
     ]
    },
    {
     "output_type": "stream",
     "name": "stderr",
     "text": [
      "Evaluating: 100%|██████████| 5416/5416 [00:00<00:00, 17472.10it/s]\n"
     ]
    },
    {
     "output_type": "stream",
     "name": "stdout",
     "text": [
      "Train: 1.0000| Val: 0.7680| Test: 0.8050| Eval Time: 0.3170s\n",
      "Epoch 54| Loss: 0.0074| Acc: 1.0000| Train Time: 0.0410s\n"
     ]
    },
    {
     "output_type": "stream",
     "name": "stderr",
     "text": [
      "Evaluating: 100%|██████████| 5416/5416 [00:00<00:00, 17139.14it/s]\n"
     ]
    },
    {
     "output_type": "stream",
     "name": "stdout",
     "text": [
      "Train: 1.0000| Val: 0.7680| Test: 0.8060| Eval Time: 0.3200s\n",
      "Epoch 55| Loss: 0.0034| Acc: 1.0000| Train Time: 0.0460s\n"
     ]
    },
    {
     "output_type": "stream",
     "name": "stderr",
     "text": [
      "Evaluating: 100%|██████████| 5416/5416 [00:00<00:00, 17669.99it/s]\n"
     ]
    },
    {
     "output_type": "stream",
     "name": "stdout",
     "text": [
      "Train: 1.0000| Val: 0.7680| Test: 0.8060| Eval Time: 0.3125s\n",
      "Epoch 56| Loss: 0.0038| Acc: 1.0000| Train Time: 0.0440s\n"
     ]
    },
    {
     "output_type": "stream",
     "name": "stderr",
     "text": [
      "Evaluating: 100%|██████████| 5416/5416 [00:00<00:00, 17029.87it/s]\n"
     ]
    },
    {
     "output_type": "stream",
     "name": "stdout",
     "text": [
      "Train: 1.0000| Val: 0.7700| Test: 0.8060| Eval Time: 0.3240s\n",
      "Epoch 57| Loss: 0.0043| Acc: 1.0000| Train Time: 0.0490s\n"
     ]
    },
    {
     "output_type": "stream",
     "name": "stderr",
     "text": [
      "Evaluating: 100%|██████████| 5416/5416 [00:00<00:00, 17359.00it/s]\n"
     ]
    },
    {
     "output_type": "stream",
     "name": "stdout",
     "text": [
      "Train: 1.0000| Val: 0.7720| Test: 0.8060| Eval Time: 0.3170s\n",
      "Epoch 58| Loss: 0.0022| Acc: 1.0000| Train Time: 0.0460s\n"
     ]
    },
    {
     "output_type": "stream",
     "name": "stderr",
     "text": [
      "Evaluating: 100%|██████████| 5416/5416 [00:00<00:00, 17699.46it/s]\n"
     ]
    },
    {
     "output_type": "stream",
     "name": "stdout",
     "text": [
      "Train: 1.0000| Val: 0.7720| Test: 0.8050| Eval Time: 0.3130s\n",
      "Epoch 59| Loss: 0.0021| Acc: 1.0000| Train Time: 0.0410s\n"
     ]
    },
    {
     "output_type": "stream",
     "name": "stderr",
     "text": [
      "Evaluating: 100%|██████████| 5416/5416 [00:00<00:00, 17469.56it/s]\n"
     ]
    },
    {
     "output_type": "stream",
     "name": "stdout",
     "text": [
      "Train: 1.0000| Val: 0.7720| Test: 0.8050| Eval Time: 0.3140s\n",
      "\n",
      "Result of  8. run| Train: 1.0000| Val: 0.7940| Test: 0.7990\n",
      "\n",
      "Run 09 for GatV1_K2_s and Cora:\n"
     ]
    },
    {
     "output_type": "stream",
     "name": "stderr",
     "text": [
      "Epoch 01: 100%|██████████| 140/140 [00:00<00:00, 2857.32it/s]\n"
     ]
    },
    {
     "output_type": "stream",
     "name": "stdout",
     "text": [
      "Epoch 01| Loss: 1.9983| Acc: 0.1786| Train Time: 0.0520s\n"
     ]
    },
    {
     "output_type": "stream",
     "name": "stderr",
     "text": [
      "Evaluating: 100%|██████████| 5416/5416 [00:00<00:00, 17641.75it/s]\n"
     ]
    },
    {
     "output_type": "stream",
     "name": "stdout",
     "text": [
      "Train: 0.6929| Val: 0.4680| Test: 0.4730| Eval Time: 0.3120s\n",
      "Epoch 02| Loss: 1.3795| Acc: 0.6500| Train Time: 0.0410s\n"
     ]
    },
    {
     "output_type": "stream",
     "name": "stderr",
     "text": [
      "Evaluating: 100%|██████████| 5416/5416 [00:00<00:00, 14299.20it/s]\n"
     ]
    },
    {
     "output_type": "stream",
     "name": "stdout",
     "text": [
      "Train: 0.8857| Val: 0.6560| Test: 0.6600| Eval Time: 0.3847s\n",
      "Epoch 03| Loss: 1.0812| Acc: 0.8143| Train Time: 0.0430s\n"
     ]
    },
    {
     "output_type": "stream",
     "name": "stderr",
     "text": [
      "Evaluating: 100%|██████████| 5416/5416 [00:00<00:00, 17429.64it/s]\n"
     ]
    },
    {
     "output_type": "stream",
     "name": "stdout",
     "text": [
      "Train: 0.9643| Val: 0.7420| Test: 0.7530| Eval Time: 0.3167s\n",
      "Epoch 04| Loss: 0.8303| Acc: 0.8857| Train Time: 0.0430s\n"
     ]
    },
    {
     "output_type": "stream",
     "name": "stderr",
     "text": [
      "Evaluating: 100%|██████████| 5416/5416 [00:00<00:00, 17575.58it/s]\n"
     ]
    },
    {
     "output_type": "stream",
     "name": "stdout",
     "text": [
      "Train: 0.9786| Val: 0.7840| Test: 0.7980| Eval Time: 0.3132s\n",
      "Epoch 05| Loss: 0.5596| Acc: 0.9500| Train Time: 0.0440s\n"
     ]
    },
    {
     "output_type": "stream",
     "name": "stderr",
     "text": [
      "Evaluating: 100%|██████████| 5416/5416 [00:00<00:00, 18261.47it/s]\n"
     ]
    },
    {
     "output_type": "stream",
     "name": "stdout",
     "text": [
      "Train: 0.9929| Val: 0.8000| Test: 0.8020| Eval Time: 0.3026s\n",
      "Epoch 06| Loss: 0.5743| Acc: 0.9500| Train Time: 0.0410s\n"
     ]
    },
    {
     "output_type": "stream",
     "name": "stderr",
     "text": [
      "Evaluating: 100%|██████████| 5416/5416 [00:00<00:00, 17350.39it/s]\n"
     ]
    },
    {
     "output_type": "stream",
     "name": "stdout",
     "text": [
      "Train: 0.9929| Val: 0.8060| Test: 0.8030| Eval Time: 0.3172s\n",
      "Epoch 07| Loss: 0.4146| Acc: 0.9714| Train Time: 0.0461s\n"
     ]
    },
    {
     "output_type": "stream",
     "name": "stderr",
     "text": [
      "Evaluating: 100%|██████████| 5416/5416 [00:00<00:00, 17644.66it/s]\n"
     ]
    },
    {
     "output_type": "stream",
     "name": "stdout",
     "text": [
      "Train: 0.9929| Val: 0.8020| Test: 0.7980| Eval Time: 0.3120s\n",
      "Epoch 08| Loss: 0.2864| Acc: 0.9714| Train Time: 0.0415s\n"
     ]
    },
    {
     "output_type": "stream",
     "name": "stderr",
     "text": [
      "Evaluating: 100%|██████████| 5416/5416 [00:00<00:00, 16872.47it/s]\n"
     ]
    },
    {
     "output_type": "stream",
     "name": "stdout",
     "text": [
      "Train: 1.0000| Val: 0.7980| Test: 0.8100| Eval Time: 0.3260s\n",
      "Epoch 09| Loss: 0.2537| Acc: 0.9786| Train Time: 0.0420s\n"
     ]
    },
    {
     "output_type": "stream",
     "name": "stderr",
     "text": [
      "Evaluating: 100%|██████████| 5416/5416 [00:00<00:00, 17359.20it/s]\n"
     ]
    },
    {
     "output_type": "stream",
     "name": "stdout",
     "text": [
      "Train: 1.0000| Val: 0.7940| Test: 0.8100| Eval Time: 0.3180s\n",
      "Epoch 10| Loss: 0.2346| Acc: 1.0000| Train Time: 0.0430s\n"
     ]
    },
    {
     "output_type": "stream",
     "name": "stderr",
     "text": [
      "Evaluating: 100%|██████████| 5416/5416 [00:00<00:00, 17358.96it/s]\n"
     ]
    },
    {
     "output_type": "stream",
     "name": "stdout",
     "text": [
      "Train: 1.0000| Val: 0.7880| Test: 0.8130| Eval Time: 0.3200s\n",
      "Epoch 11| Loss: 0.1790| Acc: 0.9929| Train Time: 0.0390s\n"
     ]
    },
    {
     "output_type": "stream",
     "name": "stderr",
     "text": [
      "Evaluating: 100%|██████████| 5416/5416 [00:00<00:00, 17752.16it/s]\n"
     ]
    },
    {
     "output_type": "stream",
     "name": "stdout",
     "text": [
      "Train: 1.0000| Val: 0.7840| Test: 0.8130| Eval Time: 0.3101s\n",
      "Epoch 12| Loss: 0.1444| Acc: 0.9929| Train Time: 0.0470s\n"
     ]
    },
    {
     "output_type": "stream",
     "name": "stderr",
     "text": [
      "Evaluating: 100%|██████████| 5416/5416 [00:00<00:00, 17520.69it/s]\n"
     ]
    },
    {
     "output_type": "stream",
     "name": "stdout",
     "text": [
      "Train: 0.9929| Val: 0.7800| Test: 0.8130| Eval Time: 0.3147s\n",
      "Epoch 13| Loss: 0.1485| Acc: 0.9857| Train Time: 0.0422s\n"
     ]
    },
    {
     "output_type": "stream",
     "name": "stderr",
     "text": [
      "Evaluating: 100%|██████████| 5416/5416 [00:00<00:00, 17228.46it/s]\n"
     ]
    },
    {
     "output_type": "stream",
     "name": "stdout",
     "text": [
      "Train: 1.0000| Val: 0.7780| Test: 0.8090| Eval Time: 0.3194s\n",
      "Epoch 14| Loss: 0.1065| Acc: 0.9929| Train Time: 0.0400s\n"
     ]
    },
    {
     "output_type": "stream",
     "name": "stderr",
     "text": [
      "Evaluating: 100%|██████████| 5416/5416 [00:00<00:00, 14798.33it/s]\n"
     ]
    },
    {
     "output_type": "stream",
     "name": "stdout",
     "text": [
      "Train: 1.0000| Val: 0.7720| Test: 0.8080| Eval Time: 0.3720s\n",
      "Epoch 15| Loss: 0.0733| Acc: 1.0000| Train Time: 0.0403s\n"
     ]
    },
    {
     "output_type": "stream",
     "name": "stderr",
     "text": [
      "Evaluating: 100%|██████████| 5416/5416 [00:00<00:00, 17487.85it/s]\n"
     ]
    },
    {
     "output_type": "stream",
     "name": "stdout",
     "text": [
      "Train: 1.0000| Val: 0.7700| Test: 0.8010| Eval Time: 0.3146s\n",
      "Epoch 16| Loss: 0.1273| Acc: 0.9929| Train Time: 0.0430s\n"
     ]
    },
    {
     "output_type": "stream",
     "name": "stderr",
     "text": [
      "Evaluating: 100%|██████████| 5416/5416 [00:00<00:00, 17951.26it/s]\n"
     ]
    },
    {
     "output_type": "stream",
     "name": "stdout",
     "text": [
      "Train: 1.0000| Val: 0.7740| Test: 0.8020| Eval Time: 0.3067s\n",
      "Epoch 17| Loss: 0.0840| Acc: 1.0000| Train Time: 0.0420s\n"
     ]
    },
    {
     "output_type": "stream",
     "name": "stderr",
     "text": [
      "Evaluating: 100%|██████████| 5416/5416 [00:00<00:00, 17933.94it/s]\n"
     ]
    },
    {
     "output_type": "stream",
     "name": "stdout",
     "text": [
      "Train: 1.0000| Val: 0.7740| Test: 0.8000| Eval Time: 0.3070s\n",
      "Epoch 18| Loss: 0.0667| Acc: 1.0000| Train Time: 0.0440s\n"
     ]
    },
    {
     "output_type": "stream",
     "name": "stderr",
     "text": [
      "Evaluating: 100%|██████████| 5416/5416 [00:00<00:00, 17496.51it/s]\n"
     ]
    },
    {
     "output_type": "stream",
     "name": "stdout",
     "text": [
      "Train: 1.0000| Val: 0.7720| Test: 0.7980| Eval Time: 0.3156s\n",
      "Epoch 19| Loss: 0.0738| Acc: 0.9929| Train Time: 0.0404s\n"
     ]
    },
    {
     "output_type": "stream",
     "name": "stderr",
     "text": [
      "Evaluating: 100%|██████████| 5416/5416 [00:00<00:00, 17834.02it/s]\n"
     ]
    },
    {
     "output_type": "stream",
     "name": "stdout",
     "text": [
      "Train: 1.0000| Val: 0.7720| Test: 0.7940| Eval Time: 0.3087s\n",
      "Epoch 20| Loss: 0.0465| Acc: 1.0000| Train Time: 0.0460s\n"
     ]
    },
    {
     "output_type": "stream",
     "name": "stderr",
     "text": [
      "Evaluating: 100%|██████████| 5416/5416 [00:00<00:00, 17699.42it/s]\n"
     ]
    },
    {
     "output_type": "stream",
     "name": "stdout",
     "text": [
      "Train: 1.0000| Val: 0.7760| Test: 0.7930| Eval Time: 0.3130s\n",
      "Epoch 21| Loss: 0.0545| Acc: 1.0000| Train Time: 0.0420s\n"
     ]
    },
    {
     "output_type": "stream",
     "name": "stderr",
     "text": [
      "Evaluating: 100%|██████████| 5416/5416 [00:00<00:00, 16977.46it/s]\n"
     ]
    },
    {
     "output_type": "stream",
     "name": "stdout",
     "text": [
      "Train: 1.0000| Val: 0.7720| Test: 0.7930| Eval Time: 0.3250s\n",
      "Epoch 22| Loss: 0.0245| Acc: 1.0000| Train Time: 0.0478s\n"
     ]
    },
    {
     "output_type": "stream",
     "name": "stderr",
     "text": [
      "Evaluating: 100%|██████████| 5416/5416 [00:00<00:00, 17699.54it/s]\n"
     ]
    },
    {
     "output_type": "stream",
     "name": "stdout",
     "text": [
      "Train: 1.0000| Val: 0.7660| Test: 0.7920| Eval Time: 0.3130s\n",
      "Epoch 23| Loss: 0.0248| Acc: 1.0000| Train Time: 0.0415s\n"
     ]
    },
    {
     "output_type": "stream",
     "name": "stderr",
     "text": [
      "Evaluating: 100%|██████████| 5416/5416 [00:00<00:00, 17139.34it/s]\n"
     ]
    },
    {
     "output_type": "stream",
     "name": "stdout",
     "text": [
      "Train: 1.0000| Val: 0.7660| Test: 0.7920| Eval Time: 0.3210s\n",
      "Epoch 24| Loss: 0.0204| Acc: 1.0000| Train Time: 0.0430s\n"
     ]
    },
    {
     "output_type": "stream",
     "name": "stderr",
     "text": [
      "Evaluating: 100%|██████████| 5416/5416 [00:00<00:00, 17471.08it/s]\n"
     ]
    },
    {
     "output_type": "stream",
     "name": "stdout",
     "text": [
      "Train: 1.0000| Val: 0.7680| Test: 0.7910| Eval Time: 0.3150s\n",
      "Epoch 25| Loss: 0.0309| Acc: 1.0000| Train Time: 0.0822s\n"
     ]
    },
    {
     "output_type": "stream",
     "name": "stderr",
     "text": [
      "Evaluating: 100%|██████████| 5416/5416 [00:00<00:00, 16412.23it/s]\n"
     ]
    },
    {
     "output_type": "stream",
     "name": "stdout",
     "text": [
      "Train: 1.0000| Val: 0.7660| Test: 0.7920| Eval Time: 0.3360s\n",
      "Epoch 26| Loss: 0.0349| Acc: 1.0000| Train Time: 0.0410s\n"
     ]
    },
    {
     "output_type": "stream",
     "name": "stderr",
     "text": [
      "Evaluating: 100%|██████████| 5416/5416 [00:00<00:00, 17399.63it/s]\n"
     ]
    },
    {
     "output_type": "stream",
     "name": "stdout",
     "text": [
      "Train: 1.0000| Val: 0.7660| Test: 0.7900| Eval Time: 0.3163s\n",
      "Epoch 27| Loss: 0.0219| Acc: 1.0000| Train Time: 0.0470s\n"
     ]
    },
    {
     "output_type": "stream",
     "name": "stderr",
     "text": [
      "Evaluating: 100%|██████████| 5416/5416 [00:00<00:00, 18281.19it/s]\n"
     ]
    },
    {
     "output_type": "stream",
     "name": "stdout",
     "text": [
      "Train: 1.0000| Val: 0.7680| Test: 0.7900| Eval Time: 0.3003s\n",
      "Epoch 28| Loss: 0.0250| Acc: 1.0000| Train Time: 0.0440s\n"
     ]
    },
    {
     "output_type": "stream",
     "name": "stderr",
     "text": [
      "Evaluating: 100%|██████████| 5416/5416 [00:00<00:00, 17943.05it/s]\n"
     ]
    },
    {
     "output_type": "stream",
     "name": "stdout",
     "text": [
      "Train: 1.0000| Val: 0.7660| Test: 0.7910| Eval Time: 0.3068s\n",
      "Epoch 29| Loss: 0.0218| Acc: 0.9929| Train Time: 0.0440s\n"
     ]
    },
    {
     "output_type": "stream",
     "name": "stderr",
     "text": [
      "Evaluating: 100%|██████████| 5416/5416 [00:00<00:00, 18231.82it/s]\n"
     ]
    },
    {
     "output_type": "stream",
     "name": "stdout",
     "text": [
      "Train: 1.0000| Val: 0.7640| Test: 0.7870| Eval Time: 0.3021s\n",
      "Epoch 30| Loss: 0.0251| Acc: 1.0000| Train Time: 0.0420s\n"
     ]
    },
    {
     "output_type": "stream",
     "name": "stderr",
     "text": [
      "Evaluating: 100%|██████████| 5416/5416 [00:00<00:00, 17659.24it/s]\n"
     ]
    },
    {
     "output_type": "stream",
     "name": "stdout",
     "text": [
      "Train: 1.0000| Val: 0.7600| Test: 0.7840| Eval Time: 0.3107s\n",
      "Epoch 31| Loss: 0.0086| Acc: 1.0000| Train Time: 0.0462s\n"
     ]
    },
    {
     "output_type": "stream",
     "name": "stderr",
     "text": [
      "Evaluating: 100%|██████████| 5416/5416 [00:00<00:00, 17238.34it/s]\n"
     ]
    },
    {
     "output_type": "stream",
     "name": "stdout",
     "text": [
      "Train: 1.0000| Val: 0.7560| Test: 0.7850| Eval Time: 0.3192s\n",
      "Epoch 32| Loss: 0.0167| Acc: 1.0000| Train Time: 0.0400s\n"
     ]
    },
    {
     "output_type": "stream",
     "name": "stderr",
     "text": [
      "Evaluating: 100%|██████████| 5416/5416 [00:00<00:00, 17641.92it/s]\n"
     ]
    },
    {
     "output_type": "stream",
     "name": "stdout",
     "text": [
      "Train: 1.0000| Val: 0.7600| Test: 0.7860| Eval Time: 0.3140s\n",
      "Epoch 33| Loss: 0.0141| Acc: 1.0000| Train Time: 0.0430s\n"
     ]
    },
    {
     "output_type": "stream",
     "name": "stderr",
     "text": [
      "Evaluating: 100%|██████████| 5416/5416 [00:00<00:00, 17879.58it/s]\n"
     ]
    },
    {
     "output_type": "stream",
     "name": "stdout",
     "text": [
      "Train: 1.0000| Val: 0.7560| Test: 0.7860| Eval Time: 0.3079s\n",
      "Epoch 34| Loss: 0.0051| Acc: 1.0000| Train Time: 0.0425s\n"
     ]
    },
    {
     "output_type": "stream",
     "name": "stderr",
     "text": [
      "Evaluating: 100%|██████████| 5416/5416 [00:00<00:00, 17640.70it/s]\n"
     ]
    },
    {
     "output_type": "stream",
     "name": "stdout",
     "text": [
      "Train: 1.0000| Val: 0.7560| Test: 0.7840| Eval Time: 0.3130s\n",
      "Epoch 35| Loss: 0.0065| Acc: 1.0000| Train Time: 0.0400s\n"
     ]
    },
    {
     "output_type": "stream",
     "name": "stderr",
     "text": [
      "Evaluating: 100%|██████████| 5416/5416 [00:00<00:00, 18043.90it/s]\n"
     ]
    },
    {
     "output_type": "stream",
     "name": "stdout",
     "text": [
      "Train: 1.0000| Val: 0.7540| Test: 0.7850| Eval Time: 0.3062s\n",
      "Epoch 36| Loss: 0.0090| Acc: 1.0000| Train Time: 0.0420s\n"
     ]
    },
    {
     "output_type": "stream",
     "name": "stderr",
     "text": [
      "Evaluating: 100%|██████████| 5416/5416 [00:00<00:00, 14664.05it/s]\n"
     ]
    },
    {
     "output_type": "stream",
     "name": "stdout",
     "text": [
      "Train: 1.0000| Val: 0.7560| Test: 0.7880| Eval Time: 0.3743s\n",
      "Epoch 37| Loss: 0.0054| Acc: 1.0000| Train Time: 0.0440s\n"
     ]
    },
    {
     "output_type": "stream",
     "name": "stderr",
     "text": [
      "Evaluating: 100%|██████████| 5416/5416 [00:00<00:00, 17710.61it/s]\n"
     ]
    },
    {
     "output_type": "stream",
     "name": "stdout",
     "text": [
      "Train: 1.0000| Val: 0.7560| Test: 0.7900| Eval Time: 0.3118s\n",
      "Epoch 38| Loss: 0.0072| Acc: 1.0000| Train Time: 0.0480s\n"
     ]
    },
    {
     "output_type": "stream",
     "name": "stderr",
     "text": [
      "Evaluating: 100%|██████████| 5416/5416 [00:00<00:00, 18078.46it/s]\n"
     ]
    },
    {
     "output_type": "stream",
     "name": "stdout",
     "text": [
      "Train: 1.0000| Val: 0.7620| Test: 0.7880| Eval Time: 0.3056s\n",
      "Epoch 39| Loss: 0.0093| Acc: 1.0000| Train Time: 0.0420s\n"
     ]
    },
    {
     "output_type": "stream",
     "name": "stderr",
     "text": [
      "Evaluating: 100%|██████████| 5416/5416 [00:00<00:00, 17661.90it/s]\n"
     ]
    },
    {
     "output_type": "stream",
     "name": "stdout",
     "text": [
      "Train: 1.0000| Val: 0.7640| Test: 0.7880| Eval Time: 0.3126s\n",
      "Epoch 40| Loss: 0.0073| Acc: 1.0000| Train Time: 0.0420s\n"
     ]
    },
    {
     "output_type": "stream",
     "name": "stderr",
     "text": [
      "Evaluating: 100%|██████████| 5416/5416 [00:00<00:00, 17776.49it/s]\n"
     ]
    },
    {
     "output_type": "stream",
     "name": "stdout",
     "text": [
      "Train: 1.0000| Val: 0.7640| Test: 0.7870| Eval Time: 0.3127s\n",
      "Epoch 41| Loss: 0.0021| Acc: 1.0000| Train Time: 0.0460s\n"
     ]
    },
    {
     "output_type": "stream",
     "name": "stderr",
     "text": [
      "Evaluating: 100%|██████████| 5416/5416 [00:00<00:00, 17877.97it/s]\n"
     ]
    },
    {
     "output_type": "stream",
     "name": "stdout",
     "text": [
      "Train: 1.0000| Val: 0.7640| Test: 0.7890| Eval Time: 0.3079s\n",
      "Epoch 42| Loss: 0.0097| Acc: 1.0000| Train Time: 0.0420s\n"
     ]
    },
    {
     "output_type": "stream",
     "name": "stderr",
     "text": [
      "Evaluating: 100%|██████████| 5416/5416 [00:00<00:00, 18544.25it/s]\n"
     ]
    },
    {
     "output_type": "stream",
     "name": "stdout",
     "text": [
      "Train: 1.0000| Val: 0.7640| Test: 0.7890| Eval Time: 0.2970s\n",
      "Epoch 43| Loss: 0.0050| Acc: 1.0000| Train Time: 0.0460s\n"
     ]
    },
    {
     "output_type": "stream",
     "name": "stderr",
     "text": [
      "Evaluating: 100%|██████████| 5416/5416 [00:00<00:00, 17874.77it/s]\n"
     ]
    },
    {
     "output_type": "stream",
     "name": "stdout",
     "text": [
      "Train: 1.0000| Val: 0.7640| Test: 0.7890| Eval Time: 0.3070s\n",
      "Epoch 44| Loss: 0.0085| Acc: 1.0000| Train Time: 0.0440s\n"
     ]
    },
    {
     "output_type": "stream",
     "name": "stderr",
     "text": [
      "Evaluating: 100%|██████████| 5416/5416 [00:00<00:00, 18082.28it/s]\n"
     ]
    },
    {
     "output_type": "stream",
     "name": "stdout",
     "text": [
      "Train: 1.0000| Val: 0.7640| Test: 0.7890| Eval Time: 0.3045s\n",
      "Epoch 45| Loss: 0.0112| Acc: 1.0000| Train Time: 0.0470s\n"
     ]
    },
    {
     "output_type": "stream",
     "name": "stderr",
     "text": [
      "Evaluating: 100%|██████████| 5416/5416 [00:00<00:00, 17815.75it/s]\n"
     ]
    },
    {
     "output_type": "stream",
     "name": "stdout",
     "text": [
      "Train: 1.0000| Val: 0.7640| Test: 0.7890| Eval Time: 0.3100s\n",
      "Epoch 46| Loss: 0.0063| Acc: 1.0000| Train Time: 0.0460s\n"
     ]
    },
    {
     "output_type": "stream",
     "name": "stderr",
     "text": [
      "Evaluating: 100%|██████████| 5416/5416 [00:00<00:00, 17085.72it/s]\n"
     ]
    },
    {
     "output_type": "stream",
     "name": "stdout",
     "text": [
      "Train: 1.0000| Val: 0.7600| Test: 0.7890| Eval Time: 0.3230s\n",
      "Epoch 47| Loss: 0.0077| Acc: 1.0000| Train Time: 0.0415s\n"
     ]
    },
    {
     "output_type": "stream",
     "name": "stderr",
     "text": [
      "Evaluating: 100%|██████████| 5416/5416 [00:00<00:00, 17305.90it/s]\n"
     ]
    },
    {
     "output_type": "stream",
     "name": "stdout",
     "text": [
      "Train: 1.0000| Val: 0.7600| Test: 0.7900| Eval Time: 0.3200s\n",
      "Epoch 48| Loss: 0.0068| Acc: 1.0000| Train Time: 0.0430s\n"
     ]
    },
    {
     "output_type": "stream",
     "name": "stderr",
     "text": [
      "Evaluating: 100%|██████████| 5416/5416 [00:00<00:00, 14797.98it/s]\n"
     ]
    },
    {
     "output_type": "stream",
     "name": "stdout",
     "text": [
      "Train: 1.0000| Val: 0.7620| Test: 0.7900| Eval Time: 0.3720s\n",
      "Epoch 49| Loss: 0.0029| Acc: 1.0000| Train Time: 0.0450s\n"
     ]
    },
    {
     "output_type": "stream",
     "name": "stderr",
     "text": [
      "Evaluating: 100%|██████████| 5416/5416 [00:00<00:00, 18051.60it/s]\n"
     ]
    },
    {
     "output_type": "stream",
     "name": "stdout",
     "text": [
      "Train: 1.0000| Val: 0.7620| Test: 0.7910| Eval Time: 0.3050s\n",
      "Epoch 50| Loss: 0.0054| Acc: 1.0000| Train Time: 0.0390s\n"
     ]
    },
    {
     "output_type": "stream",
     "name": "stderr",
     "text": [
      "Evaluating: 100%|██████████| 5416/5416 [00:00<00:00, 17163.57it/s]\n"
     ]
    },
    {
     "output_type": "stream",
     "name": "stdout",
     "text": [
      "Train: 1.0000| Val: 0.7620| Test: 0.7900| Eval Time: 0.3245s\n",
      "Epoch 51| Loss: 0.0027| Acc: 1.0000| Train Time: 0.0390s\n"
     ]
    },
    {
     "output_type": "stream",
     "name": "stderr",
     "text": [
      "Evaluating: 100%|██████████| 5416/5416 [00:00<00:00, 17727.44it/s]\n"
     ]
    },
    {
     "output_type": "stream",
     "name": "stdout",
     "text": [
      "Train: 1.0000| Val: 0.7620| Test: 0.7910| Eval Time: 0.3125s\n",
      "Epoch 52| Loss: 0.0062| Acc: 1.0000| Train Time: 0.0460s\n"
     ]
    },
    {
     "output_type": "stream",
     "name": "stderr",
     "text": [
      "Evaluating: 100%|██████████| 5416/5416 [00:00<00:00, 17991.65it/s]\n"
     ]
    },
    {
     "output_type": "stream",
     "name": "stdout",
     "text": [
      "Train: 1.0000| Val: 0.7640| Test: 0.7920| Eval Time: 0.3070s\n",
      "Epoch 53| Loss: 0.0080| Acc: 1.0000| Train Time: 0.0440s\n"
     ]
    },
    {
     "output_type": "stream",
     "name": "stderr",
     "text": [
      "Evaluating: 100%|██████████| 5416/5416 [00:00<00:00, 18039.34it/s]\n"
     ]
    },
    {
     "output_type": "stream",
     "name": "stdout",
     "text": [
      "Train: 1.0000| Val: 0.7640| Test: 0.7910| Eval Time: 0.3064s\n",
      "Epoch 54| Loss: 0.0089| Acc: 1.0000| Train Time: 0.0455s\n"
     ]
    },
    {
     "output_type": "stream",
     "name": "stderr",
     "text": [
      "Evaluating: 100%|██████████| 5416/5416 [00:00<00:00, 17697.14it/s]\n"
     ]
    },
    {
     "output_type": "stream",
     "name": "stdout",
     "text": [
      "Train: 1.0000| Val: 0.7620| Test: 0.7920| Eval Time: 0.3120s\n",
      "Epoch 55| Loss: 0.0032| Acc: 1.0000| Train Time: 0.0420s\n"
     ]
    },
    {
     "output_type": "stream",
     "name": "stderr",
     "text": [
      "Evaluating: 100%|██████████| 5416/5416 [00:00<00:00, 17667.34it/s]\n"
     ]
    },
    {
     "output_type": "stream",
     "name": "stdout",
     "text": [
      "Train: 1.0000| Val: 0.7600| Test: 0.7920| Eval Time: 0.3136s\n",
      "Epoch 56| Loss: 0.0037| Acc: 1.0000| Train Time: 0.0480s\n"
     ]
    },
    {
     "output_type": "stream",
     "name": "stderr",
     "text": [
      "Evaluating: 100%|██████████| 5416/5416 [00:00<00:00, 17153.34it/s]\n"
     ]
    },
    {
     "output_type": "stream",
     "name": "stdout",
     "text": [
      "Train: 1.0000| Val: 0.7580| Test: 0.7910| Eval Time: 0.3207s\n",
      "\n",
      "Result of  9. run| Train: 0.9929| Val: 0.8060| Test: 0.8030\n",
      "\n",
      "Run 10 for GatV1_K2_s and Cora:\n"
     ]
    },
    {
     "output_type": "stream",
     "name": "stderr",
     "text": [
      "Epoch 01: 100%|██████████| 140/140 [00:00<00:00, 3308.84it/s]\n"
     ]
    },
    {
     "output_type": "stream",
     "name": "stdout",
     "text": [
      "Epoch 01| Loss: 1.9567| Acc: 0.1643| Train Time: 0.0453s\n"
     ]
    },
    {
     "output_type": "stream",
     "name": "stderr",
     "text": [
      "Evaluating: 100%|██████████| 5416/5416 [00:00<00:00, 17164.43it/s]\n"
     ]
    },
    {
     "output_type": "stream",
     "name": "stdout",
     "text": [
      "Train: 0.8286| Val: 0.5900| Test: 0.6410| Eval Time: 0.3215s\n",
      "Epoch 02| Loss: 1.4083| Acc: 0.6643| Train Time: 0.0420s\n"
     ]
    },
    {
     "output_type": "stream",
     "name": "stderr",
     "text": [
      "Evaluating: 100%|██████████| 5416/5416 [00:00<00:00, 17471.11it/s]\n"
     ]
    },
    {
     "output_type": "stream",
     "name": "stdout",
     "text": [
      "Train: 0.9286| Val: 0.6780| Test: 0.7340| Eval Time: 0.3170s\n",
      "Epoch 03| Loss: 1.1061| Acc: 0.8500| Train Time: 0.0420s\n"
     ]
    },
    {
     "output_type": "stream",
     "name": "stderr",
     "text": [
      "Evaluating: 100%|██████████| 5416/5416 [00:00<00:00, 14794.63it/s]\n"
     ]
    },
    {
     "output_type": "stream",
     "name": "stdout",
     "text": [
      "Train: 0.9786| Val: 0.7100| Test: 0.7680| Eval Time: 0.3721s\n",
      "Epoch 04| Loss: 0.8071| Acc: 0.9000| Train Time: 0.0471s\n"
     ]
    },
    {
     "output_type": "stream",
     "name": "stderr",
     "text": [
      "Evaluating: 100%|██████████| 5416/5416 [00:00<00:00, 18196.95it/s]\n"
     ]
    },
    {
     "output_type": "stream",
     "name": "stdout",
     "text": [
      "Train: 0.9857| Val: 0.7500| Test: 0.7760| Eval Time: 0.3036s\n",
      "Epoch 05| Loss: 0.7042| Acc: 0.9214| Train Time: 0.0450s\n"
     ]
    },
    {
     "output_type": "stream",
     "name": "stderr",
     "text": [
      "Evaluating: 100%|██████████| 5416/5416 [00:00<00:00, 17514.44it/s]\n"
     ]
    },
    {
     "output_type": "stream",
     "name": "stdout",
     "text": [
      "Train: 0.9857| Val: 0.7480| Test: 0.7680| Eval Time: 0.3142s\n",
      "Epoch 06| Loss: 0.4363| Acc: 0.9643| Train Time: 0.0440s\n"
     ]
    },
    {
     "output_type": "stream",
     "name": "stderr",
     "text": [
      "Evaluating: 100%|██████████| 5416/5416 [00:00<00:00, 17253.09it/s]\n"
     ]
    },
    {
     "output_type": "stream",
     "name": "stdout",
     "text": [
      "Train: 0.9929| Val: 0.7440| Test: 0.7660| Eval Time: 0.3199s\n",
      "Epoch 07| Loss: 0.4050| Acc: 0.9714| Train Time: 0.0400s\n"
     ]
    },
    {
     "output_type": "stream",
     "name": "stderr",
     "text": [
      "Evaluating: 100%|██████████| 5416/5416 [00:00<00:00, 17963.45it/s]\n"
     ]
    },
    {
     "output_type": "stream",
     "name": "stdout",
     "text": [
      "Train: 0.9929| Val: 0.7440| Test: 0.7740| Eval Time: 0.3095s\n",
      "Epoch 08| Loss: 0.2712| Acc: 0.9786| Train Time: 0.0410s\n"
     ]
    },
    {
     "output_type": "stream",
     "name": "stderr",
     "text": [
      "Evaluating: 100%|██████████| 5416/5416 [00:00<00:00, 17622.14it/s]\n"
     ]
    },
    {
     "output_type": "stream",
     "name": "stdout",
     "text": [
      "Train: 1.0000| Val: 0.7380| Test: 0.7680| Eval Time: 0.3113s\n",
      "Epoch 09| Loss: 0.2944| Acc: 0.9786| Train Time: 0.0460s\n"
     ]
    },
    {
     "output_type": "stream",
     "name": "stderr",
     "text": [
      "Evaluating: 100%|██████████| 5416/5416 [00:00<00:00, 16512.16it/s]\n"
     ]
    },
    {
     "output_type": "stream",
     "name": "stdout",
     "text": [
      "Train: 1.0000| Val: 0.7400| Test: 0.7760| Eval Time: 0.3340s\n",
      "Epoch 10| Loss: 0.2047| Acc: 0.9929| Train Time: 0.0450s\n"
     ]
    },
    {
     "output_type": "stream",
     "name": "stderr",
     "text": [
      "Evaluating: 100%|██████████| 5416/5416 [00:00<00:00, 17641.73it/s]\n"
     ]
    },
    {
     "output_type": "stream",
     "name": "stdout",
     "text": [
      "Train: 1.0000| Val: 0.7440| Test: 0.7840| Eval Time: 0.3150s\n",
      "Epoch 11| Loss: 0.2467| Acc: 0.9857| Train Time: 0.0440s\n"
     ]
    },
    {
     "output_type": "stream",
     "name": "stderr",
     "text": [
      "Evaluating: 100%|██████████| 5416/5416 [00:00<00:00, 17698.67it/s]\n"
     ]
    },
    {
     "output_type": "stream",
     "name": "stdout",
     "text": [
      "Train: 1.0000| Val: 0.7480| Test: 0.7910| Eval Time: 0.3120s\n",
      "Epoch 12| Loss: 0.1754| Acc: 0.9929| Train Time: 0.0430s\n"
     ]
    },
    {
     "output_type": "stream",
     "name": "stderr",
     "text": [
      "Evaluating: 100%|██████████| 5416/5416 [00:00<00:00, 17414.96it/s]\n"
     ]
    },
    {
     "output_type": "stream",
     "name": "stdout",
     "text": [
      "Train: 1.0000| Val: 0.7500| Test: 0.7970| Eval Time: 0.3160s\n",
      "Epoch 13| Loss: 0.1192| Acc: 0.9929| Train Time: 0.0430s\n"
     ]
    },
    {
     "output_type": "stream",
     "name": "stderr",
     "text": [
      "Evaluating: 100%|██████████| 5416/5416 [00:00<00:00, 17724.23it/s]\n"
     ]
    },
    {
     "output_type": "stream",
     "name": "stdout",
     "text": [
      "Train: 1.0000| Val: 0.7520| Test: 0.8040| Eval Time: 0.3116s\n",
      "Epoch 14| Loss: 0.0970| Acc: 1.0000| Train Time: 0.0485s\n"
     ]
    },
    {
     "output_type": "stream",
     "name": "stderr",
     "text": [
      "Evaluating: 100%|██████████| 5416/5416 [00:00<00:00, 14288.76it/s]\n"
     ]
    },
    {
     "output_type": "stream",
     "name": "stdout",
     "text": [
      "Train: 1.0000| Val: 0.7520| Test: 0.8000| Eval Time: 0.3840s\n",
      "Epoch 15| Loss: 0.0802| Acc: 0.9929| Train Time: 0.0390s\n"
     ]
    },
    {
     "output_type": "stream",
     "name": "stderr",
     "text": [
      "Evaluating: 100%|██████████| 5416/5416 [00:00<00:00, 18126.88it/s]\n"
     ]
    },
    {
     "output_type": "stream",
     "name": "stdout",
     "text": [
      "Train: 1.0000| Val: 0.7520| Test: 0.8030| Eval Time: 0.3028s\n",
      "Epoch 16| Loss: 0.1000| Acc: 1.0000| Train Time: 0.0435s\n"
     ]
    },
    {
     "output_type": "stream",
     "name": "stderr",
     "text": [
      "Evaluating: 100%|██████████| 5416/5416 [00:00<00:00, 16951.74it/s]\n"
     ]
    },
    {
     "output_type": "stream",
     "name": "stdout",
     "text": [
      "Train: 1.0000| Val: 0.7560| Test: 0.8080| Eval Time: 0.3245s\n",
      "Epoch 17| Loss: 0.0559| Acc: 1.0000| Train Time: 0.0380s\n"
     ]
    },
    {
     "output_type": "stream",
     "name": "stderr",
     "text": [
      "Evaluating: 100%|██████████| 5416/5416 [00:00<00:00, 17815.24it/s]\n"
     ]
    },
    {
     "output_type": "stream",
     "name": "stdout",
     "text": [
      "Train: 1.0000| Val: 0.7580| Test: 0.8130| Eval Time: 0.3110s\n",
      "Epoch 18| Loss: 0.0552| Acc: 1.0000| Train Time: 0.0480s\n"
     ]
    },
    {
     "output_type": "stream",
     "name": "stderr",
     "text": [
      "Evaluating: 100%|██████████| 5416/5416 [00:00<00:00, 17975.32it/s]\n"
     ]
    },
    {
     "output_type": "stream",
     "name": "stdout",
     "text": [
      "Train: 1.0000| Val: 0.7600| Test: 0.8090| Eval Time: 0.3063s\n",
      "Epoch 19| Loss: 0.0620| Acc: 0.9857| Train Time: 0.0435s\n"
     ]
    },
    {
     "output_type": "stream",
     "name": "stderr",
     "text": [
      "Evaluating: 100%|██████████| 5416/5416 [00:00<00:00, 16750.75it/s]\n"
     ]
    },
    {
     "output_type": "stream",
     "name": "stdout",
     "text": [
      "Train: 1.0000| Val: 0.7600| Test: 0.8050| Eval Time: 0.3304s\n",
      "Epoch 20| Loss: 0.0329| Acc: 1.0000| Train Time: 0.0430s\n"
     ]
    },
    {
     "output_type": "stream",
     "name": "stderr",
     "text": [
      "Evaluating: 100%|██████████| 5416/5416 [00:00<00:00, 16662.86it/s]\n"
     ]
    },
    {
     "output_type": "stream",
     "name": "stdout",
     "text": [
      "Train: 1.0000| Val: 0.7580| Test: 0.8030| Eval Time: 0.3310s\n",
      "Epoch 21| Loss: 0.0427| Acc: 1.0000| Train Time: 0.0470s\n"
     ]
    },
    {
     "output_type": "stream",
     "name": "stderr",
     "text": [
      "Evaluating: 100%|██████████| 5416/5416 [00:00<00:00, 15653.18it/s]\n"
     ]
    },
    {
     "output_type": "stream",
     "name": "stdout",
     "text": [
      "Train: 1.0000| Val: 0.7580| Test: 0.8020| Eval Time: 0.3520s\n",
      "Epoch 22| Loss: 0.0486| Acc: 1.0000| Train Time: 0.0540s\n"
     ]
    },
    {
     "output_type": "stream",
     "name": "stderr",
     "text": [
      "Evaluating: 100%|██████████| 5416/5416 [00:00<00:00, 14857.89it/s]\n"
     ]
    },
    {
     "output_type": "stream",
     "name": "stdout",
     "text": [
      "Train: 1.0000| Val: 0.7560| Test: 0.8020| Eval Time: 0.3765s\n",
      "Epoch 23| Loss: 0.0250| Acc: 1.0000| Train Time: 0.0505s\n"
     ]
    },
    {
     "output_type": "stream",
     "name": "stderr",
     "text": [
      "Evaluating: 100%|██████████| 5416/5416 [00:00<00:00, 14120.47it/s]\n"
     ]
    },
    {
     "output_type": "stream",
     "name": "stdout",
     "text": [
      "Train: 1.0000| Val: 0.7620| Test: 0.7990| Eval Time: 0.3896s\n",
      "Epoch 24| Loss: 0.0337| Acc: 1.0000| Train Time: 0.0520s\n"
     ]
    },
    {
     "output_type": "stream",
     "name": "stderr",
     "text": [
      "Evaluating: 100%|██████████| 5416/5416 [00:00<00:00, 12988.02it/s]\n"
     ]
    },
    {
     "output_type": "stream",
     "name": "stdout",
     "text": [
      "Train: 1.0000| Val: 0.7640| Test: 0.7990| Eval Time: 0.4220s\n",
      "Epoch 25| Loss: 0.0284| Acc: 1.0000| Train Time: 0.0490s\n"
     ]
    },
    {
     "output_type": "stream",
     "name": "stderr",
     "text": [
      "Evaluating: 100%|██████████| 5416/5416 [00:00<00:00, 16309.68it/s]\n"
     ]
    },
    {
     "output_type": "stream",
     "name": "stdout",
     "text": [
      "Train: 1.0000| Val: 0.7620| Test: 0.7960| Eval Time: 0.3371s\n",
      "Epoch 26| Loss: 0.0234| Acc: 1.0000| Train Time: 0.0450s\n"
     ]
    },
    {
     "output_type": "stream",
     "name": "stderr",
     "text": [
      "Evaluating: 100%|██████████| 5416/5416 [00:00<00:00, 15616.48it/s]\n"
     ]
    },
    {
     "output_type": "stream",
     "name": "stdout",
     "text": [
      "Train: 1.0000| Val: 0.7620| Test: 0.7930| Eval Time: 0.3528s\n",
      "Epoch 27| Loss: 0.0233| Acc: 1.0000| Train Time: 0.0540s\n"
     ]
    },
    {
     "output_type": "stream",
     "name": "stderr",
     "text": [
      "Evaluating: 100%|██████████| 5416/5416 [00:00<00:00, 15652.13it/s]\n"
     ]
    },
    {
     "output_type": "stream",
     "name": "stdout",
     "text": [
      "Train: 1.0000| Val: 0.7620| Test: 0.7920| Eval Time: 0.3531s\n",
      "Epoch 28| Loss: 0.0165| Acc: 1.0000| Train Time: 0.0671s\n"
     ]
    },
    {
     "output_type": "stream",
     "name": "stderr",
     "text": [
      "Evaluating: 100%|██████████| 5416/5416 [00:00<00:00, 15296.21it/s]\n"
     ]
    },
    {
     "output_type": "stream",
     "name": "stdout",
     "text": [
      "Train: 1.0000| Val: 0.7620| Test: 0.7910| Eval Time: 0.3631s\n",
      "Epoch 29| Loss: 0.0162| Acc: 1.0000| Train Time: 0.0490s\n"
     ]
    },
    {
     "output_type": "stream",
     "name": "stderr",
     "text": [
      "Evaluating: 100%|██████████| 5416/5416 [00:00<00:00, 14377.83it/s]\n"
     ]
    },
    {
     "output_type": "stream",
     "name": "stdout",
     "text": [
      "Train: 1.0000| Val: 0.7620| Test: 0.7910| Eval Time: 0.3867s\n",
      "Epoch 30| Loss: 0.0060| Acc: 1.0000| Train Time: 0.0420s\n"
     ]
    },
    {
     "output_type": "stream",
     "name": "stderr",
     "text": [
      "Evaluating: 100%|██████████| 5416/5416 [00:00<00:00, 19234.26it/s]\n"
     ]
    },
    {
     "output_type": "stream",
     "name": "stdout",
     "text": [
      "Train: 1.0000| Val: 0.7620| Test: 0.7910| Eval Time: 0.2886s\n",
      "Epoch 31| Loss: 0.0070| Acc: 1.0000| Train Time: 0.0430s\n"
     ]
    },
    {
     "output_type": "stream",
     "name": "stderr",
     "text": [
      "Evaluating: 100%|██████████| 5416/5416 [00:00<00:00, 18052.91it/s]\n"
     ]
    },
    {
     "output_type": "stream",
     "name": "stdout",
     "text": [
      "Train: 1.0000| Val: 0.7580| Test: 0.7920| Eval Time: 0.3060s\n",
      "Epoch 32| Loss: 0.0128| Acc: 0.9929| Train Time: 0.0386s\n"
     ]
    },
    {
     "output_type": "stream",
     "name": "stderr",
     "text": [
      "Evaluating: 100%|██████████| 5416/5416 [00:00<00:00, 17552.77it/s]\n"
     ]
    },
    {
     "output_type": "stream",
     "name": "stdout",
     "text": [
      "Train: 1.0000| Val: 0.7520| Test: 0.7930| Eval Time: 0.3126s\n",
      "Epoch 33| Loss: 0.0122| Acc: 1.0000| Train Time: 0.0440s\n"
     ]
    },
    {
     "output_type": "stream",
     "name": "stderr",
     "text": [
      "Evaluating: 100%|██████████| 5416/5416 [00:00<00:00, 16791.03it/s]\n"
     ]
    },
    {
     "output_type": "stream",
     "name": "stdout",
     "text": [
      "Train: 1.0000| Val: 0.7540| Test: 0.7940| Eval Time: 0.3273s\n",
      "Epoch 34| Loss: 0.0090| Acc: 1.0000| Train Time: 0.0389s\n"
     ]
    },
    {
     "output_type": "stream",
     "name": "stderr",
     "text": [
      "Evaluating: 100%|██████████| 5416/5416 [00:00<00:00, 16042.85it/s]\n"
     ]
    },
    {
     "output_type": "stream",
     "name": "stdout",
     "text": [
      "Train: 1.0000| Val: 0.7540| Test: 0.7910| Eval Time: 0.3446s\n",
      "Epoch 35| Loss: 0.0131| Acc: 1.0000| Train Time: 0.0490s\n"
     ]
    },
    {
     "output_type": "stream",
     "name": "stderr",
     "text": [
      "Evaluating: 100%|██████████| 5416/5416 [00:00<00:00, 17411.93it/s]\n"
     ]
    },
    {
     "output_type": "stream",
     "name": "stdout",
     "text": [
      "Train: 1.0000| Val: 0.7480| Test: 0.7920| Eval Time: 0.3181s\n",
      "Epoch 36| Loss: 0.0124| Acc: 1.0000| Train Time: 0.0430s\n"
     ]
    },
    {
     "output_type": "stream",
     "name": "stderr",
     "text": [
      "Evaluating: 100%|██████████| 5416/5416 [00:00<00:00, 18094.41it/s]\n"
     ]
    },
    {
     "output_type": "stream",
     "name": "stdout",
     "text": [
      "Train: 1.0000| Val: 0.7440| Test: 0.7910| Eval Time: 0.3043s\n",
      "Epoch 37| Loss: 0.0060| Acc: 1.0000| Train Time: 0.0401s\n"
     ]
    },
    {
     "output_type": "stream",
     "name": "stderr",
     "text": [
      "Evaluating: 100%|██████████| 5416/5416 [00:00<00:00, 18261.35it/s]\n"
     ]
    },
    {
     "output_type": "stream",
     "name": "stdout",
     "text": [
      "Train: 1.0000| Val: 0.7420| Test: 0.7930| Eval Time: 0.3016s\n",
      "Epoch 38| Loss: 0.0055| Acc: 1.0000| Train Time: 0.0380s\n"
     ]
    },
    {
     "output_type": "stream",
     "name": "stderr",
     "text": [
      "Evaluating: 100%|██████████| 5416/5416 [00:00<00:00, 17757.37it/s]\n"
     ]
    },
    {
     "output_type": "stream",
     "name": "stdout",
     "text": [
      "Train: 1.0000| Val: 0.7400| Test: 0.7920| Eval Time: 0.3100s\n",
      "Epoch 39| Loss: 0.0094| Acc: 1.0000| Train Time: 0.0410s\n"
     ]
    },
    {
     "output_type": "stream",
     "name": "stderr",
     "text": [
      "Evaluating: 100%|██████████| 5416/5416 [00:00<00:00, 18082.18it/s]\n"
     ]
    },
    {
     "output_type": "stream",
     "name": "stdout",
     "text": [
      "Train: 1.0000| Val: 0.7420| Test: 0.7900| Eval Time: 0.3035s\n",
      "Epoch 40| Loss: 0.0068| Acc: 1.0000| Train Time: 0.0430s\n"
     ]
    },
    {
     "output_type": "stream",
     "name": "stderr",
     "text": [
      "Evaluating: 100%|██████████| 5416/5416 [00:00<00:00, 17676.80it/s]\n"
     ]
    },
    {
     "output_type": "stream",
     "name": "stdout",
     "text": [
      "Train: 1.0000| Val: 0.7380| Test: 0.7910| Eval Time: 0.3134s\n",
      "Epoch 41| Loss: 0.0061| Acc: 1.0000| Train Time: 0.0390s\n"
     ]
    },
    {
     "output_type": "stream",
     "name": "stderr",
     "text": [
      "Evaluating: 100%|██████████| 5416/5416 [00:00<00:00, 17441.70it/s]\n"
     ]
    },
    {
     "output_type": "stream",
     "name": "stdout",
     "text": [
      "Train: 1.0000| Val: 0.7360| Test: 0.7900| Eval Time: 0.3165s\n",
      "Epoch 42| Loss: 0.0048| Acc: 1.0000| Train Time: 0.0575s\n"
     ]
    },
    {
     "output_type": "stream",
     "name": "stderr",
     "text": [
      "Evaluating: 100%|██████████| 5416/5416 [00:00<00:00, 17665.87it/s]\n"
     ]
    },
    {
     "output_type": "stream",
     "name": "stdout",
     "text": [
      "Train: 1.0000| Val: 0.7360| Test: 0.7910| Eval Time: 0.3116s\n",
      "Epoch 43| Loss: 0.0100| Acc: 1.0000| Train Time: 0.0460s\n"
     ]
    },
    {
     "output_type": "stream",
     "name": "stderr",
     "text": [
      "Evaluating: 100%|██████████| 5416/5416 [00:00<00:00, 18416.50it/s]\n"
     ]
    },
    {
     "output_type": "stream",
     "name": "stdout",
     "text": [
      "Train: 1.0000| Val: 0.7360| Test: 0.7910| Eval Time: 0.3001s\n",
      "Epoch 44| Loss: 0.0062| Acc: 1.0000| Train Time: 0.0440s\n"
     ]
    },
    {
     "output_type": "stream",
     "name": "stderr",
     "text": [
      "Evaluating: 100%|██████████| 5416/5416 [00:00<00:00, 18106.62it/s]\n"
     ]
    },
    {
     "output_type": "stream",
     "name": "stdout",
     "text": [
      "Train: 1.0000| Val: 0.7360| Test: 0.7900| Eval Time: 0.3041s\n",
      "Epoch 45| Loss: 0.0078| Acc: 1.0000| Train Time: 0.0390s\n"
     ]
    },
    {
     "output_type": "stream",
     "name": "stderr",
     "text": [
      "Evaluating: 100%|██████████| 5416/5416 [00:00<00:00, 14213.17it/s]\n"
     ]
    },
    {
     "output_type": "stream",
     "name": "stdout",
     "text": [
      "Train: 1.0000| Val: 0.7360| Test: 0.7900| Eval Time: 0.3871s\n",
      "Epoch 46| Loss: 0.0079| Acc: 1.0000| Train Time: 0.0455s\n"
     ]
    },
    {
     "output_type": "stream",
     "name": "stderr",
     "text": [
      "Evaluating: 100%|██████████| 5416/5416 [00:00<00:00, 16889.59it/s]\n"
     ]
    },
    {
     "output_type": "stream",
     "name": "stdout",
     "text": [
      "Train: 1.0000| Val: 0.7360| Test: 0.7880| Eval Time: 0.3257s\n",
      "Epoch 47| Loss: 0.0093| Acc: 1.0000| Train Time: 0.0380s\n"
     ]
    },
    {
     "output_type": "stream",
     "name": "stderr",
     "text": [
      "Evaluating: 100%|██████████| 5416/5416 [00:00<00:00, 16408.82it/s]\n"
     ]
    },
    {
     "output_type": "stream",
     "name": "stdout",
     "text": [
      "Train: 1.0000| Val: 0.7360| Test: 0.7880| Eval Time: 0.3351s\n",
      "Epoch 48| Loss: 0.0052| Acc: 1.0000| Train Time: 0.0380s\n"
     ]
    },
    {
     "output_type": "stream",
     "name": "stderr",
     "text": [
      "Evaluating: 100%|██████████| 5416/5416 [00:00<00:00, 17639.62it/s]\n"
     ]
    },
    {
     "output_type": "stream",
     "name": "stdout",
     "text": [
      "Train: 1.0000| Val: 0.7380| Test: 0.7890| Eval Time: 0.3130s\n",
      "Epoch 49| Loss: 0.0054| Acc: 1.0000| Train Time: 0.0370s\n"
     ]
    },
    {
     "output_type": "stream",
     "name": "stderr",
     "text": [
      "Evaluating: 100%|██████████| 5416/5416 [00:00<00:00, 19138.00it/s]\n"
     ]
    },
    {
     "output_type": "stream",
     "name": "stdout",
     "text": [
      "Train: 1.0000| Val: 0.7360| Test: 0.7890| Eval Time: 0.2880s\n",
      "Epoch 50| Loss: 0.0065| Acc: 1.0000| Train Time: 0.0460s\n"
     ]
    },
    {
     "output_type": "stream",
     "name": "stderr",
     "text": [
      "Evaluating: 100%|██████████| 5416/5416 [00:00<00:00, 17385.36it/s]\n"
     ]
    },
    {
     "output_type": "stream",
     "name": "stdout",
     "text": [
      "Train: 1.0000| Val: 0.7340| Test: 0.7890| Eval Time: 0.3155s\n",
      "Epoch 51| Loss: 0.0159| Acc: 1.0000| Train Time: 0.0490s\n"
     ]
    },
    {
     "output_type": "stream",
     "name": "stderr",
     "text": [
      "Evaluating: 100%|██████████| 5416/5416 [00:00<00:00, 18751.76it/s]\n"
     ]
    },
    {
     "output_type": "stream",
     "name": "stdout",
     "text": [
      "Train: 1.0000| Val: 0.7340| Test: 0.7870| Eval Time: 0.2943s\n",
      "Epoch 52| Loss: 0.0057| Acc: 1.0000| Train Time: 0.0440s\n"
     ]
    },
    {
     "output_type": "stream",
     "name": "stderr",
     "text": [
      "Evaluating: 100%|██████████| 5416/5416 [00:00<00:00, 17341.60it/s]\n"
     ]
    },
    {
     "output_type": "stream",
     "name": "stdout",
     "text": [
      "Train: 1.0000| Val: 0.7340| Test: 0.7880| Eval Time: 0.3163s\n",
      "Epoch 53| Loss: 0.0058| Acc: 1.0000| Train Time: 0.0370s\n"
     ]
    },
    {
     "output_type": "stream",
     "name": "stderr",
     "text": [
      "Evaluating: 100%|██████████| 5416/5416 [00:00<00:00, 19205.80it/s]\n"
     ]
    },
    {
     "output_type": "stream",
     "name": "stdout",
     "text": [
      "Train: 1.0000| Val: 0.7320| Test: 0.7860| Eval Time: 0.2870s\n",
      "Epoch 54| Loss: 0.0071| Acc: 1.0000| Train Time: 0.0420s\n"
     ]
    },
    {
     "output_type": "stream",
     "name": "stderr",
     "text": [
      "Evaluating: 100%|██████████| 5416/5416 [00:00<00:00, 17940.10it/s]\n"
     ]
    },
    {
     "output_type": "stream",
     "name": "stdout",
     "text": [
      "Train: 1.0000| Val: 0.7360| Test: 0.7850| Eval Time: 0.3069s\n",
      "Epoch 55| Loss: 0.0057| Acc: 1.0000| Train Time: 0.0410s\n"
     ]
    },
    {
     "output_type": "stream",
     "name": "stderr",
     "text": [
      "Evaluating: 100%|██████████| 5416/5416 [00:00<00:00, 18103.98it/s]\n"
     ]
    },
    {
     "output_type": "stream",
     "name": "stdout",
     "text": [
      "Train: 1.0000| Val: 0.7360| Test: 0.7830| Eval Time: 0.3051s\n",
      "Epoch 56| Loss: 0.0094| Acc: 1.0000| Train Time: 0.0400s\n"
     ]
    },
    {
     "output_type": "stream",
     "name": "stderr",
     "text": [
      "Evaluating: 100%|██████████| 5416/5416 [00:00<00:00, 19035.38it/s]\n"
     ]
    },
    {
     "output_type": "stream",
     "name": "stdout",
     "text": [
      "Train: 1.0000| Val: 0.7380| Test: 0.7830| Eval Time: 0.2915s\n",
      "Epoch 57| Loss: 0.0079| Acc: 1.0000| Train Time: 0.0690s\n"
     ]
    },
    {
     "output_type": "stream",
     "name": "stderr",
     "text": [
      "Evaluating: 100%|██████████| 5416/5416 [00:00<00:00, 11948.88it/s]\n"
     ]
    },
    {
     "output_type": "stream",
     "name": "stdout",
     "text": [
      "Train: 1.0000| Val: 0.7380| Test: 0.7810| Eval Time: 0.4593s\n",
      "Epoch 58| Loss: 0.0044| Acc: 1.0000| Train Time: 0.0440s\n"
     ]
    },
    {
     "output_type": "stream",
     "name": "stderr",
     "text": [
      "Evaluating: 100%|██████████| 5416/5416 [00:00<00:00, 17463.05it/s]\n"
     ]
    },
    {
     "output_type": "stream",
     "name": "stdout",
     "text": [
      "Train: 1.0000| Val: 0.7380| Test: 0.7800| Eval Time: 0.3151s\n",
      "Epoch 59| Loss: 0.0038| Acc: 1.0000| Train Time: 0.0500s\n"
     ]
    },
    {
     "output_type": "stream",
     "name": "stderr",
     "text": [
      "Evaluating: 100%|██████████| 5416/5416 [00:00<00:00, 17935.10it/s]\n"
     ]
    },
    {
     "output_type": "stream",
     "name": "stdout",
     "text": [
      "Train: 1.0000| Val: 0.7380| Test: 0.7800| Eval Time: 0.3090s\n",
      "Epoch 60| Loss: 0.0071| Acc: 1.0000| Train Time: 0.0490s\n"
     ]
    },
    {
     "output_type": "stream",
     "name": "stderr",
     "text": [
      "Evaluating: 100%|██████████| 5416/5416 [00:00<00:00, 16465.99it/s]\n"
     ]
    },
    {
     "output_type": "stream",
     "name": "stdout",
     "text": [
      "Train: 1.0000| Val: 0.7380| Test: 0.7780| Eval Time: 0.3349s\n",
      "Epoch 61| Loss: 0.0033| Acc: 1.0000| Train Time: 0.0440s\n"
     ]
    },
    {
     "output_type": "stream",
     "name": "stderr",
     "text": [
      "Evaluating: 100%|██████████| 5416/5416 [00:00<00:00, 17693.82it/s]\n"
     ]
    },
    {
     "output_type": "stream",
     "name": "stdout",
     "text": [
      "Train: 1.0000| Val: 0.7380| Test: 0.7790| Eval Time: 0.3110s\n",
      "Epoch 62| Loss: 0.0086| Acc: 1.0000| Train Time: 0.0390s\n"
     ]
    },
    {
     "output_type": "stream",
     "name": "stderr",
     "text": [
      "Evaluating: 100%|██████████| 5416/5416 [00:00<00:00, 18113.81it/s]\n"
     ]
    },
    {
     "output_type": "stream",
     "name": "stdout",
     "text": [
      "Train: 1.0000| Val: 0.7380| Test: 0.7790| Eval Time: 0.3050s\n",
      "Epoch 63| Loss: 0.0054| Acc: 1.0000| Train Time: 0.0460s\n"
     ]
    },
    {
     "output_type": "stream",
     "name": "stderr",
     "text": [
      "Evaluating: 100%|██████████| 5416/5416 [00:00<00:00, 16834.91it/s]\n"
     ]
    },
    {
     "output_type": "stream",
     "name": "stdout",
     "text": [
      "Train: 1.0000| Val: 0.7400| Test: 0.7780| Eval Time: 0.3287s\n",
      "Epoch 64| Loss: 0.0026| Acc: 1.0000| Train Time: 0.0400s\n"
     ]
    },
    {
     "output_type": "stream",
     "name": "stderr",
     "text": [
      "Evaluating: 100%|██████████| 5416/5416 [00:00<00:00, 16362.55it/s]\n"
     ]
    },
    {
     "output_type": "stream",
     "name": "stdout",
     "text": [
      "Train: 1.0000| Val: 0.7420| Test: 0.7770| Eval Time: 0.3370s\n",
      "Epoch 65| Loss: 0.0014| Acc: 1.0000| Train Time: 0.0420s\n"
     ]
    },
    {
     "output_type": "stream",
     "name": "stderr",
     "text": [
      "Evaluating: 100%|██████████| 5416/5416 [00:00<00:00, 17891.92it/s]\n"
     ]
    },
    {
     "output_type": "stream",
     "name": "stdout",
     "text": [
      "Train: 1.0000| Val: 0.7420| Test: 0.7770| Eval Time: 0.3077s\n",
      "Epoch 66| Loss: 0.0026| Acc: 1.0000| Train Time: 0.0460s\n"
     ]
    },
    {
     "output_type": "stream",
     "name": "stderr",
     "text": [
      "Evaluating: 100%|██████████| 5416/5416 [00:00<00:00, 17353.07it/s]\n"
     ]
    },
    {
     "output_type": "stream",
     "name": "stdout",
     "text": [
      "Train: 1.0000| Val: 0.7420| Test: 0.7770| Eval Time: 0.3186s\n",
      "Epoch 67| Loss: 0.0049| Acc: 1.0000| Train Time: 0.0405s\n"
     ]
    },
    {
     "output_type": "stream",
     "name": "stderr",
     "text": [
      "Evaluating: 100%|██████████| 5416/5416 [00:00<00:00, 17414.97it/s]\n"
     ]
    },
    {
     "output_type": "stream",
     "name": "stdout",
     "text": [
      "Train: 1.0000| Val: 0.7440| Test: 0.7770| Eval Time: 0.3170s\n",
      "Epoch 68| Loss: 0.0020| Acc: 1.0000| Train Time: 0.0430s\n"
     ]
    },
    {
     "output_type": "stream",
     "name": "stderr",
     "text": [
      "Evaluating: 100%|██████████| 5416/5416 [00:00<00:00, 17193.71it/s]\n"
     ]
    },
    {
     "output_type": "stream",
     "name": "stdout",
     "text": [
      "Train: 1.0000| Val: 0.7460| Test: 0.7770| Eval Time: 0.3200s\n",
      "Epoch 69| Loss: 0.0018| Acc: 1.0000| Train Time: 0.0440s\n"
     ]
    },
    {
     "output_type": "stream",
     "name": "stderr",
     "text": [
      "Evaluating: 100%|██████████| 5416/5416 [00:00<00:00, 16733.65it/s]\n"
     ]
    },
    {
     "output_type": "stream",
     "name": "stdout",
     "text": [
      "Train: 1.0000| Val: 0.7480| Test: 0.7780| Eval Time: 0.3297s\n",
      "Epoch 70| Loss: 0.0025| Acc: 1.0000| Train Time: 0.0410s\n"
     ]
    },
    {
     "output_type": "stream",
     "name": "stderr",
     "text": [
      "Evaluating: 100%|██████████| 5416/5416 [00:00<00:00, 14413.12it/s]\n"
     ]
    },
    {
     "output_type": "stream",
     "name": "stdout",
     "text": [
      "Train: 1.0000| Val: 0.7460| Test: 0.7780| Eval Time: 0.3808s\n",
      "Epoch 71| Loss: 0.0059| Acc: 1.0000| Train Time: 0.0511s\n"
     ]
    },
    {
     "output_type": "stream",
     "name": "stderr",
     "text": [
      "Evaluating: 100%|██████████| 5416/5416 [00:00<00:00, 14151.25it/s]\n"
     ]
    },
    {
     "output_type": "stream",
     "name": "stdout",
     "text": [
      "Train: 1.0000| Val: 0.7460| Test: 0.7790| Eval Time: 0.3887s\n",
      "Epoch 72| Loss: 0.0024| Acc: 1.0000| Train Time: 0.0510s\n"
     ]
    },
    {
     "output_type": "stream",
     "name": "stderr",
     "text": [
      "Evaluating: 100%|██████████| 5416/5416 [00:00<00:00, 15111.12it/s]\n"
     ]
    },
    {
     "output_type": "stream",
     "name": "stdout",
     "text": [
      "Train: 1.0000| Val: 0.7460| Test: 0.7780| Eval Time: 0.3644s\n",
      "Epoch 73| Loss: 0.0021| Acc: 1.0000| Train Time: 0.0450s\n"
     ]
    },
    {
     "output_type": "stream",
     "name": "stderr",
     "text": [
      "Evaluating: 100%|██████████| 5416/5416 [00:00<00:00, 15328.18it/s]\n"
     ]
    },
    {
     "output_type": "stream",
     "name": "stdout",
     "text": [
      "Train: 1.0000| Val: 0.7460| Test: 0.7780| Eval Time: 0.3593s\n",
      "Epoch 74| Loss: 0.0007| Acc: 1.0000| Train Time: 0.0470s\n"
     ]
    },
    {
     "output_type": "stream",
     "name": "stderr",
     "text": [
      "Evaluating: 100%|██████████| 5416/5416 [00:00<00:00, 15956.90it/s]"
     ]
    },
    {
     "output_type": "stream",
     "name": "stdout",
     "text": [
      "Train: 1.0000| Val: 0.7460| Test: 0.7770| Eval Time: 0.3454s\n",
      "\n",
      "Result of 10. run| Train: 1.0000| Val: 0.7640| Test: 0.7990\n",
      "\n"
     ]
    },
    {
     "output_type": "stream",
     "name": "stderr",
     "text": [
      "\n"
     ]
    }
   ],
   "metadata": {}
  }
 ],
 "metadata": {
  "orig_nbformat": 4,
  "kernelspec": {
   "name": "python3",
   "display_name": "Python 3.8.10 64-bit ('PSN': conda)"
  },
  "interpreter": {
   "hash": "b8be38cac5e07419459cc1d2fe0e04c6cbe36991c6a4efd3c9a636608bfd9cde"
  },
  "language_info": {
   "name": "python",
   "version": "3.8.10",
   "mimetype": "text/x-python",
   "codemirror_mode": {
    "name": "ipython",
    "version": 3
   },
   "pygments_lexer": "ipython3",
   "nbconvert_exporter": "python",
   "file_extension": ".py"
  }
 },
 "nbformat": 4,
 "nbformat_minor": 2
}