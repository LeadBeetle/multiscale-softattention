{
 "cells": [
  {
   "cell_type": "code",
   "execution_count": 1,
   "metadata": {},
   "outputs": [],
   "source": [
    "from utils.constants import *\r\n",
    "from utils.experimentorUtils import * "
   ]
  },
  {
   "cell_type": "code",
   "execution_count": null,
   "metadata": {},
   "outputs": [
    {
     "name": "stdout",
     "output_type": "stream",
     "text": [
      "Run 01 for GatV2_K1_D3_s and CiteSeer:\n"
     ]
    },
    {
     "name": "stderr",
     "output_type": "stream",
     "text": [
      "Epoch 01: 100%|██████████| 120/120 [00:02<00:00, 59.64it/s]\n"
     ]
    },
    {
     "name": "stdout",
     "output_type": "stream",
     "text": [
      "Epoch 01| Loss: 1.8851| Acc: 0.0917| Train Time: 2.0213s\n"
     ]
    },
    {
     "name": "stderr",
     "output_type": "stream",
     "text": [
      "Evaluating: 100%|██████████| 9981/9981 [00:06<00:00, 1593.56it/s]\n"
     ]
    },
    {
     "name": "stdout",
     "output_type": "stream",
     "text": [
      "Train: 0.8917| Val: 0.5920| Test: 0.5570| Eval Time: 6.2774s\n",
      "Epoch 02| Loss: 1.4043| Acc: 0.5083| Train Time: 1.0649s\n"
     ]
    },
    {
     "name": "stderr",
     "output_type": "stream",
     "text": [
      "Evaluating: 100%|██████████| 9981/9981 [00:00<00:00, 29066.20it/s]\n"
     ]
    },
    {
     "name": "stdout",
     "output_type": "stream",
     "text": [
      "Train: 0.9333| Val: 0.6640| Test: 0.6680| Eval Time: 0.3522s\n",
      "Epoch 03| Loss: 0.9681| Acc: 0.7833| Train Time: 1.1485s\n"
     ]
    },
    {
     "name": "stderr",
     "output_type": "stream",
     "text": [
      "Evaluating: 100%|██████████| 9981/9981 [00:00<00:00, 23950.50it/s]\n"
     ]
    },
    {
     "name": "stdout",
     "output_type": "stream",
     "text": [
      "Train: 0.9667| Val: 0.6980| Test: 0.7030| Eval Time: 0.4302s\n",
      "Epoch 04| Loss: 0.6554| Acc: 0.8500| Train Time: 0.0274s\n"
     ]
    },
    {
     "name": "stderr",
     "output_type": "stream",
     "text": [
      "Evaluating: 100%|██████████| 9981/9981 [00:00<00:00, 20050.54it/s]\n"
     ]
    },
    {
     "name": "stdout",
     "output_type": "stream",
     "text": [
      "Train: 0.9750| Val: 0.6980| Test: 0.6950| Eval Time: 0.5704s\n",
      "Epoch 05| Loss: 0.4063| Acc: 0.9000| Train Time: 0.1024s\n"
     ]
    },
    {
     "name": "stderr",
     "output_type": "stream",
     "text": [
      "Evaluating: 100%|██████████| 9981/9981 [00:00<00:00, 20130.07it/s]\n"
     ]
    },
    {
     "name": "stdout",
     "output_type": "stream",
     "text": [
      "Train: 0.9750| Val: 0.6960| Test: 0.6900| Eval Time: 0.5063s\n",
      "Epoch 06| Loss: 0.1802| Acc: 0.9750| Train Time: 0.0916s\n"
     ]
    },
    {
     "name": "stderr",
     "output_type": "stream",
     "text": [
      "Evaluating: 100%|██████████| 9981/9981 [00:00<00:00, 19768.23it/s]\n"
     ]
    },
    {
     "name": "stdout",
     "output_type": "stream",
     "text": [
      "Train: 0.9917| Val: 0.6980| Test: 0.6820| Eval Time: 0.5155s\n",
      "Epoch 07| Loss: 0.1150| Acc: 0.9667| Train Time: 0.1103s\n"
     ]
    },
    {
     "name": "stderr",
     "output_type": "stream",
     "text": [
      "Evaluating: 100%|██████████| 9981/9981 [00:00<00:00, 19395.76it/s]\n"
     ]
    },
    {
     "name": "stdout",
     "output_type": "stream",
     "text": [
      "Train: 1.0000| Val: 0.6880| Test: 0.6860| Eval Time: 0.5850s\n",
      "Epoch 08| Loss: 0.1007| Acc: 0.9667| Train Time: 0.0990s\n"
     ]
    },
    {
     "name": "stderr",
     "output_type": "stream",
     "text": [
      "Evaluating: 100%|██████████| 9981/9981 [00:00<00:00, 19698.29it/s]\n"
     ]
    },
    {
     "name": "stdout",
     "output_type": "stream",
     "text": [
      "Train: 1.0000| Val: 0.6900| Test: 0.6850| Eval Time: 0.5801s\n",
      "Epoch 09| Loss: 0.0234| Acc: 1.0000| Train Time: 0.0301s\n"
     ]
    },
    {
     "name": "stderr",
     "output_type": "stream",
     "text": [
      "Evaluating: 100%|██████████| 9981/9981 [00:00<00:00, 19948.41it/s]\n"
     ]
    },
    {
     "name": "stdout",
     "output_type": "stream",
     "text": [
      "Train: 1.0000| Val: 0.6880| Test: 0.6790| Eval Time: 0.5738s\n",
      "Epoch 10| Loss: 0.0238| Acc: 0.9917| Train Time: 0.0255s\n"
     ]
    },
    {
     "name": "stderr",
     "output_type": "stream",
     "text": [
      "Evaluating: 100%|██████████| 9981/9981 [00:00<00:00, 19391.01it/s]\n"
     ]
    },
    {
     "name": "stdout",
     "output_type": "stream",
     "text": [
      "Train: 0.9917| Val: 0.6840| Test: 0.6760| Eval Time: 0.5882s\n",
      "Epoch 11| Loss: 0.0387| Acc: 0.9833| Train Time: 0.1051s\n"
     ]
    },
    {
     "name": "stderr",
     "output_type": "stream",
     "text": [
      "Evaluating: 100%|██████████| 9981/9981 [00:00<00:00, 19208.35it/s]\n"
     ]
    },
    {
     "name": "stdout",
     "output_type": "stream",
     "text": [
      "Train: 1.0000| Val: 0.6760| Test: 0.6740| Eval Time: 0.5955s\n",
      "Epoch 12| Loss: 0.0793| Acc: 0.9750| Train Time: 0.0928s\n"
     ]
    },
    {
     "name": "stderr",
     "output_type": "stream",
     "text": [
      "Evaluating: 100%|██████████| 9981/9981 [00:00<00:00, 16693.68it/s]\n"
     ]
    },
    {
     "name": "stdout",
     "output_type": "stream",
     "text": [
      "Train: 1.0000| Val: 0.6760| Test: 0.6750| Eval Time: 0.6072s\n",
      "Epoch 13| Loss: 0.0304| Acc: 0.9833| Train Time: 0.0951s\n"
     ]
    },
    {
     "name": "stderr",
     "output_type": "stream",
     "text": [
      "Evaluating: 100%|██████████| 9981/9981 [00:00<00:00, 16839.38it/s]\n"
     ]
    },
    {
     "name": "stdout",
     "output_type": "stream",
     "text": [
      "Train: 1.0000| Val: 0.6800| Test: 0.6820| Eval Time: 0.6008s\n",
      "Epoch 14| Loss: 0.0030| Acc: 1.0000| Train Time: 0.0969s\n"
     ]
    },
    {
     "name": "stderr",
     "output_type": "stream",
     "text": [
      "Evaluating: 100%|██████████| 9981/9981 [00:00<00:00, 17027.62it/s]\n"
     ]
    },
    {
     "name": "stdout",
     "output_type": "stream",
     "text": [
      "Train: 1.0000| Val: 0.6900| Test: 0.6860| Eval Time: 0.5946s\n",
      "Epoch 15| Loss: 0.0358| Acc: 0.9917| Train Time: 0.0995s\n"
     ]
    },
    {
     "name": "stderr",
     "output_type": "stream",
     "text": [
      "Evaluating: 100%|██████████| 9981/9981 [00:00<00:00, 16798.34it/s]\n"
     ]
    },
    {
     "name": "stdout",
     "output_type": "stream",
     "text": [
      "Train: 1.0000| Val: 0.6740| Test: 0.6840| Eval Time: 0.6036s\n",
      "Epoch 16| Loss: 0.0087| Acc: 1.0000| Train Time: 0.0906s\n"
     ]
    },
    {
     "name": "stderr",
     "output_type": "stream",
     "text": [
      "Evaluating: 100%|██████████| 9981/9981 [00:00<00:00, 16846.94it/s]\n"
     ]
    },
    {
     "name": "stdout",
     "output_type": "stream",
     "text": [
      "Train: 1.0000| Val: 0.6760| Test: 0.6790| Eval Time: 0.6020s\n",
      "Epoch 17| Loss: 0.0434| Acc: 0.9917| Train Time: 0.0226s\n"
     ]
    },
    {
     "name": "stderr",
     "output_type": "stream",
     "text": [
      "Evaluating: 100%|██████████| 9981/9981 [00:00<00:00, 16481.50it/s]\n"
     ]
    },
    {
     "name": "stdout",
     "output_type": "stream",
     "text": [
      "Train: 1.0000| Val: 0.6780| Test: 0.6740| Eval Time: 0.6793s\n",
      "Epoch 18| Loss: 0.0023| Acc: 1.0000| Train Time: 0.0912s\n"
     ]
    },
    {
     "name": "stderr",
     "output_type": "stream",
     "text": [
      "Evaluating: 100%|██████████| 9981/9981 [00:00<00:00, 16618.61it/s]\n"
     ]
    },
    {
     "name": "stdout",
     "output_type": "stream",
     "text": [
      "Train: 1.0000| Val: 0.6780| Test: 0.6650| Eval Time: 0.6110s\n",
      "Epoch 19| Loss: 0.0053| Acc: 1.0000| Train Time: 0.0904s\n"
     ]
    },
    {
     "name": "stderr",
     "output_type": "stream",
     "text": [
      "Evaluating: 100%|██████████| 9981/9981 [00:00<00:00, 16564.19it/s]\n"
     ]
    },
    {
     "name": "stdout",
     "output_type": "stream",
     "text": [
      "Train: 1.0000| Val: 0.6760| Test: 0.6650| Eval Time: 0.6162s\n",
      "Epoch 20| Loss: 0.0004| Acc: 1.0000| Train Time: 0.0925s\n"
     ]
    },
    {
     "name": "stderr",
     "output_type": "stream",
     "text": [
      "Evaluating: 100%|██████████| 9981/9981 [00:00<00:00, 16572.22it/s]\n"
     ]
    },
    {
     "name": "stdout",
     "output_type": "stream",
     "text": [
      "Train: 1.0000| Val: 0.6740| Test: 0.6630| Eval Time: 0.6114s\n",
      "Epoch 21| Loss: 0.0632| Acc: 0.9917| Train Time: 0.0999s\n"
     ]
    },
    {
     "name": "stderr",
     "output_type": "stream",
     "text": [
      "Evaluating: 100%|██████████| 9981/9981 [00:00<00:00, 16799.49it/s]\n"
     ]
    },
    {
     "name": "stdout",
     "output_type": "stream",
     "text": [
      "Train: 1.0000| Val: 0.6700| Test: 0.6630| Eval Time: 0.6016s\n",
      "Epoch 22| Loss: 0.0206| Acc: 0.9917| Train Time: 0.0348s\n"
     ]
    },
    {
     "name": "stderr",
     "output_type": "stream",
     "text": [
      "Evaluating: 100%|██████████| 9981/9981 [00:00<00:00, 19990.80it/s]\n"
     ]
    },
    {
     "name": "stdout",
     "output_type": "stream",
     "text": [
      "Train: 1.0000| Val: 0.6700| Test: 0.6600| Eval Time: 0.5772s\n",
      "Epoch 23| Loss: 0.0623| Acc: 0.9917| Train Time: 0.0964s\n"
     ]
    },
    {
     "name": "stderr",
     "output_type": "stream",
     "text": [
      "Evaluating: 100%|██████████| 9981/9981 [00:00<00:00, 19337.21it/s]\n"
     ]
    },
    {
     "name": "stdout",
     "output_type": "stream",
     "text": [
      "Train: 1.0000| Val: 0.6720| Test: 0.6620| Eval Time: 0.5231s\n",
      "Epoch 24| Loss: 0.0808| Acc: 0.9750| Train Time: 0.0963s\n"
     ]
    },
    {
     "name": "stderr",
     "output_type": "stream",
     "text": [
      "Evaluating: 100%|██████████| 9981/9981 [00:00<00:00, 17008.96it/s]\n"
     ]
    },
    {
     "name": "stdout",
     "output_type": "stream",
     "text": [
      "Train: 1.0000| Val: 0.6760| Test: 0.6750| Eval Time: 0.5941s\n",
      "Epoch 25| Loss: 0.0026| Acc: 1.0000| Train Time: 0.0958s\n"
     ]
    },
    {
     "name": "stderr",
     "output_type": "stream",
     "text": [
      "Evaluating: 100%|██████████| 9981/9981 [00:00<00:00, 16937.62it/s]\n"
     ]
    },
    {
     "name": "stdout",
     "output_type": "stream",
     "text": [
      "Train: 1.0000| Val: 0.6820| Test: 0.6850| Eval Time: 0.5980s\n",
      "Epoch 26| Loss: 0.0111| Acc: 0.9917| Train Time: 0.0903s\n"
     ]
    },
    {
     "name": "stderr",
     "output_type": "stream",
     "text": [
      "Evaluating: 100%|██████████| 9981/9981 [00:00<00:00, 16331.93it/s]\n"
     ]
    },
    {
     "name": "stdout",
     "output_type": "stream",
     "text": [
      "Train: 1.0000| Val: 0.6780| Test: 0.6820| Eval Time: 0.6200s\n",
      "Epoch 27| Loss: 0.0832| Acc: 0.9917| Train Time: 0.0965s\n"
     ]
    },
    {
     "name": "stderr",
     "output_type": "stream",
     "text": [
      "Evaluating: 100%|██████████| 9981/9981 [00:00<00:00, 17068.09it/s]\n"
     ]
    },
    {
     "name": "stdout",
     "output_type": "stream",
     "text": [
      "Train: 1.0000| Val: 0.6860| Test: 0.6840| Eval Time: 0.5932s\n",
      "Epoch 28| Loss: 0.0988| Acc: 0.9917| Train Time: 0.0926s\n"
     ]
    },
    {
     "name": "stderr",
     "output_type": "stream",
     "text": [
      "Evaluating: 100%|██████████| 9981/9981 [00:00<00:00, 16407.10it/s]\n"
     ]
    },
    {
     "name": "stdout",
     "output_type": "stream",
     "text": [
      "Train: 1.0000| Val: 0.6880| Test: 0.6940| Eval Time: 0.6165s\n",
      "Epoch 29| Loss: 0.0003| Acc: 1.0000| Train Time: 0.0988s\n"
     ]
    },
    {
     "name": "stderr",
     "output_type": "stream",
     "text": [
      "Evaluating: 100%|██████████| 9981/9981 [00:00<00:00, 17041.58it/s]\n"
     ]
    },
    {
     "name": "stdout",
     "output_type": "stream",
     "text": [
      "Train: 0.9917| Val: 0.6880| Test: 0.6950| Eval Time: 0.5929s\n",
      "Epoch 30| Loss: 0.0052| Acc: 1.0000| Train Time: 0.1005s\n"
     ]
    },
    {
     "name": "stderr",
     "output_type": "stream",
     "text": [
      "Evaluating: 100%|██████████| 9981/9981 [00:00<00:00, 17252.15it/s]\n"
     ]
    },
    {
     "name": "stdout",
     "output_type": "stream",
     "text": [
      "Train: 0.9917| Val: 0.6900| Test: 0.6970| Eval Time: 0.5894s\n",
      "Epoch 31| Loss: 0.0851| Acc: 0.9833| Train Time: 0.1030s\n"
     ]
    },
    {
     "name": "stderr",
     "output_type": "stream",
     "text": [
      "Evaluating: 100%|██████████| 9981/9981 [00:00<00:00, 19939.57it/s]\n"
     ]
    },
    {
     "name": "stdout",
     "output_type": "stream",
     "text": [
      "Train: 1.0000| Val: 0.6940| Test: 0.6960| Eval Time: 0.5087s\n",
      "Epoch 32| Loss: 0.1002| Acc: 0.9750| Train Time: 0.0955s\n"
     ]
    },
    {
     "name": "stderr",
     "output_type": "stream",
     "text": [
      "Evaluating: 100%|██████████| 9981/9981 [00:00<00:00, 16880.35it/s]\n"
     ]
    },
    {
     "name": "stdout",
     "output_type": "stream",
     "text": [
      "Train: 1.0000| Val: 0.6920| Test: 0.6930| Eval Time: 0.6003s\n",
      "Epoch 33| Loss: 0.0013| Acc: 1.0000| Train Time: 0.0943s\n"
     ]
    },
    {
     "name": "stderr",
     "output_type": "stream",
     "text": [
      "Evaluating: 100%|██████████| 9981/9981 [00:00<00:00, 16582.26it/s]\n"
     ]
    },
    {
     "name": "stdout",
     "output_type": "stream",
     "text": [
      "Train: 1.0000| Val: 0.6800| Test: 0.6930| Eval Time: 0.6095s\n",
      "\n",
      "Result of  1. run| Train: 0.9667| Val: 0.6980| Test: 0.7030\n",
      "\n",
      "Run 02 for GatV2_K1_D3_s and CiteSeer:\n"
     ]
    },
    {
     "name": "stderr",
     "output_type": "stream",
     "text": [
      "Epoch 01: 100%|██████████| 120/120 [00:00<00:00, 733.22it/s]\n"
     ]
    },
    {
     "name": "stdout",
     "output_type": "stream",
     "text": [
      "Epoch 01| Loss: 1.8090| Acc: 0.1750| Train Time: 0.1676s\n"
     ]
    },
    {
     "name": "stderr",
     "output_type": "stream",
     "text": [
      "Evaluating: 100%|██████████| 9981/9981 [00:00<00:00, 19055.72it/s]\n"
     ]
    },
    {
     "name": "stdout",
     "output_type": "stream",
     "text": [
      "Train: 0.9083| Val: 0.6800| Test: 0.6600| Eval Time: 0.5321s\n",
      "Epoch 02| Loss: 1.4064| Acc: 0.5417| Train Time: 0.0990s\n"
     ]
    },
    {
     "name": "stderr",
     "output_type": "stream",
     "text": [
      "Evaluating: 100%|██████████| 9981/9981 [00:00<00:00, 19583.66it/s]\n"
     ]
    },
    {
     "name": "stdout",
     "output_type": "stream",
     "text": [
      "Train: 0.9500| Val: 0.6520| Test: 0.6250| Eval Time: 0.5839s\n",
      "Epoch 03| Loss: 1.0762| Acc: 0.7000| Train Time: 0.0914s\n"
     ]
    },
    {
     "name": "stderr",
     "output_type": "stream",
     "text": [
      "Evaluating: 100%|██████████| 9981/9981 [00:00<00:00, 19377.02it/s]\n"
     ]
    },
    {
     "name": "stdout",
     "output_type": "stream",
     "text": [
      "Train: 0.9583| Val: 0.6880| Test: 0.6380| Eval Time: 0.5228s\n",
      "Epoch 04| Loss: 0.6816| Acc: 0.8333| Train Time: 0.1003s\n"
     ]
    },
    {
     "name": "stderr",
     "output_type": "stream",
     "text": [
      "Evaluating: 100%|██████████| 9981/9981 [00:00<00:00, 23025.98it/s]\n"
     ]
    },
    {
     "name": "stdout",
     "output_type": "stream",
     "text": [
      "Train: 1.0000| Val: 0.7020| Test: 0.6880| Eval Time: 0.5672s\n",
      "Epoch 05| Loss: 0.3067| Acc: 0.9750| Train Time: 0.0982s\n"
     ]
    },
    {
     "name": "stderr",
     "output_type": "stream",
     "text": [
      "Evaluating: 100%|██████████| 9981/9981 [00:00<00:00, 19480.90it/s]\n"
     ]
    },
    {
     "name": "stdout",
     "output_type": "stream",
     "text": [
      "Train: 1.0000| Val: 0.6760| Test: 0.6920| Eval Time: 0.5224s\n",
      "Epoch 06| Loss: 0.1873| Acc: 0.9583| Train Time: 0.1014s\n"
     ]
    },
    {
     "name": "stderr",
     "output_type": "stream",
     "text": [
      "Evaluating: 100%|██████████| 9981/9981 [00:00<00:00, 17135.64it/s]\n"
     ]
    },
    {
     "name": "stdout",
     "output_type": "stream",
     "text": [
      "Train: 1.0000| Val: 0.6760| Test: 0.6840| Eval Time: 0.5921s\n",
      "Epoch 07| Loss: 0.1119| Acc: 0.9833| Train Time: 0.1018s\n"
     ]
    },
    {
     "name": "stderr",
     "output_type": "stream",
     "text": [
      "Evaluating: 100%|██████████| 9981/9981 [00:00<00:00, 19881.20it/s]\n"
     ]
    },
    {
     "name": "stdout",
     "output_type": "stream",
     "text": [
      "Train: 0.9917| Val: 0.6760| Test: 0.6800| Eval Time: 0.5110s\n",
      "Epoch 08| Loss: 0.0609| Acc: 0.9750| Train Time: 0.1038s\n"
     ]
    },
    {
     "name": "stderr",
     "output_type": "stream",
     "text": [
      "Evaluating: 100%|██████████| 9981/9981 [00:00<00:00, 19217.60it/s]\n"
     ]
    },
    {
     "name": "stdout",
     "output_type": "stream",
     "text": [
      "Train: 1.0000| Val: 0.6880| Test: 0.6840| Eval Time: 0.5888s\n",
      "Epoch 09| Loss: 0.0845| Acc: 0.9667| Train Time: 0.0947s\n"
     ]
    },
    {
     "name": "stderr",
     "output_type": "stream",
     "text": [
      "Evaluating: 100%|██████████| 9981/9981 [00:00<00:00, 16820.41it/s]\n"
     ]
    },
    {
     "name": "stdout",
     "output_type": "stream",
     "text": [
      "Train: 0.9917| Val: 0.6800| Test: 0.6740| Eval Time: 0.6014s\n",
      "Epoch 10| Loss: 0.0633| Acc: 0.9833| Train Time: 0.0970s\n"
     ]
    },
    {
     "name": "stderr",
     "output_type": "stream",
     "text": [
      "Evaluating: 100%|██████████| 9981/9981 [00:00<00:00, 16687.31it/s]\n"
     ]
    },
    {
     "name": "stdout",
     "output_type": "stream",
     "text": [
      "Train: 0.9917| Val: 0.6720| Test: 0.6680| Eval Time: 0.6058s\n",
      "Epoch 11| Loss: 0.0107| Acc: 1.0000| Train Time: 0.0944s\n"
     ]
    },
    {
     "name": "stderr",
     "output_type": "stream",
     "text": [
      "Evaluating: 100%|██████████| 9981/9981 [00:00<00:00, 17243.01it/s]\n"
     ]
    },
    {
     "name": "stdout",
     "output_type": "stream",
     "text": [
      "Train: 1.0000| Val: 0.6720| Test: 0.6590| Eval Time: 0.5913s\n",
      "Epoch 12| Loss: 0.0269| Acc: 0.9917| Train Time: 0.0996s\n"
     ]
    },
    {
     "name": "stderr",
     "output_type": "stream",
     "text": [
      "Evaluating: 100%|██████████| 9981/9981 [00:00<00:00, 19384.21it/s]\n"
     ]
    },
    {
     "name": "stdout",
     "output_type": "stream",
     "text": [
      "Train: 1.0000| Val: 0.6680| Test: 0.6560| Eval Time: 0.5853s\n",
      "Epoch 13| Loss: 0.0415| Acc: 0.9833| Train Time: 0.0334s\n"
     ]
    },
    {
     "name": "stderr",
     "output_type": "stream",
     "text": [
      "Evaluating: 100%|██████████| 9981/9981 [00:00<00:00, 19820.07it/s]\n"
     ]
    },
    {
     "name": "stdout",
     "output_type": "stream",
     "text": [
      "Train: 1.0000| Val: 0.6680| Test: 0.6580| Eval Time: 0.5782s\n",
      "Epoch 14| Loss: 0.0126| Acc: 0.9917| Train Time: 0.1014s\n"
     ]
    },
    {
     "name": "stderr",
     "output_type": "stream",
     "text": [
      "Evaluating: 100%|██████████| 9981/9981 [00:00<00:00, 19615.60it/s]\n"
     ]
    },
    {
     "name": "stdout",
     "output_type": "stream",
     "text": [
      "Train: 1.0000| Val: 0.6680| Test: 0.6590| Eval Time: 0.5159s\n",
      "Epoch 15| Loss: 0.0032| Acc: 1.0000| Train Time: 0.0971s\n"
     ]
    },
    {
     "name": "stderr",
     "output_type": "stream",
     "text": [
      "Evaluating: 100%|██████████| 9981/9981 [00:00<00:00, 19938.38it/s]\n"
     ]
    },
    {
     "name": "stdout",
     "output_type": "stream",
     "text": [
      "Train: 1.0000| Val: 0.6620| Test: 0.6600| Eval Time: 0.5712s\n",
      "Epoch 16| Loss: 0.0041| Acc: 1.0000| Train Time: 0.0984s\n"
     ]
    },
    {
     "name": "stderr",
     "output_type": "stream",
     "text": [
      "Evaluating: 100%|██████████| 9981/9981 [00:00<00:00, 19471.83it/s]\n"
     ]
    },
    {
     "name": "stdout",
     "output_type": "stream",
     "text": [
      "Train: 1.0000| Val: 0.6620| Test: 0.6610| Eval Time: 0.5216s\n",
      "Epoch 17| Loss: 0.0033| Acc: 1.0000| Train Time: 0.0981s\n"
     ]
    },
    {
     "name": "stderr",
     "output_type": "stream",
     "text": [
      "Evaluating: 100%|██████████| 9981/9981 [00:00<00:00, 20057.32it/s]\n"
     ]
    },
    {
     "name": "stdout",
     "output_type": "stream",
     "text": [
      "Train: 1.0000| Val: 0.6580| Test: 0.6620| Eval Time: 0.5049s\n",
      "Epoch 18| Loss: 0.0348| Acc: 0.9917| Train Time: 0.0944s\n"
     ]
    },
    {
     "name": "stderr",
     "output_type": "stream",
     "text": [
      "Evaluating: 100%|██████████| 9981/9981 [00:00<00:00, 16658.40it/s]\n"
     ]
    },
    {
     "name": "stdout",
     "output_type": "stream",
     "text": [
      "Train: 1.0000| Val: 0.6540| Test: 0.6620| Eval Time: 0.6095s\n",
      "Epoch 19| Loss: 0.0854| Acc: 0.9917| Train Time: 0.1004s\n"
     ]
    },
    {
     "name": "stderr",
     "output_type": "stream",
     "text": [
      "Evaluating: 100%|██████████| 9981/9981 [00:00<00:00, 23220.30it/s]\n"
     ]
    },
    {
     "name": "stdout",
     "output_type": "stream",
     "text": [
      "Train: 1.0000| Val: 0.6520| Test: 0.6530| Eval Time: 0.4999s\n",
      "Epoch 20| Loss: 0.0011| Acc: 1.0000| Train Time: 0.0998s\n"
     ]
    },
    {
     "name": "stderr",
     "output_type": "stream",
     "text": [
      "Evaluating: 100%|██████████| 9981/9981 [00:00<00:00, 19562.32it/s]\n"
     ]
    },
    {
     "name": "stdout",
     "output_type": "stream",
     "text": [
      "Train: 1.0000| Val: 0.6520| Test: 0.6460| Eval Time: 0.5836s\n",
      "Epoch 21| Loss: 0.0031| Acc: 1.0000| Train Time: 0.0922s\n"
     ]
    },
    {
     "name": "stderr",
     "output_type": "stream",
     "text": [
      "Evaluating: 100%|██████████| 9981/9981 [00:00<00:00, 19221.12it/s]\n"
     ]
    },
    {
     "name": "stdout",
     "output_type": "stream",
     "text": [
      "Train: 1.0000| Val: 0.6480| Test: 0.6410| Eval Time: 0.5920s\n",
      "Epoch 22| Loss: 0.0685| Acc: 0.9833| Train Time: 0.0975s\n"
     ]
    },
    {
     "name": "stderr",
     "output_type": "stream",
     "text": [
      "Evaluating: 100%|██████████| 9981/9981 [00:00<00:00, 19823.39it/s]\n"
     ]
    },
    {
     "name": "stdout",
     "output_type": "stream",
     "text": [
      "Train: 1.0000| Val: 0.6520| Test: 0.6420| Eval Time: 0.5143s\n",
      "Epoch 23| Loss: 0.0081| Acc: 0.9917| Train Time: 0.0971s\n"
     ]
    },
    {
     "name": "stderr",
     "output_type": "stream",
     "text": [
      "Evaluating: 100%|██████████| 9981/9981 [00:00<00:00, 19420.24it/s]\n"
     ]
    },
    {
     "name": "stdout",
     "output_type": "stream",
     "text": [
      "Train: 1.0000| Val: 0.6540| Test: 0.6400| Eval Time: 0.5908s\n",
      "Epoch 24| Loss: 0.0001| Acc: 1.0000| Train Time: 0.1016s\n"
     ]
    },
    {
     "name": "stderr",
     "output_type": "stream",
     "text": [
      "Evaluating: 100%|██████████| 9981/9981 [00:00<00:00, 19824.44it/s]\n"
     ]
    },
    {
     "name": "stdout",
     "output_type": "stream",
     "text": [
      "Train: 1.0000| Val: 0.6540| Test: 0.6370| Eval Time: 0.5130s\n",
      "Epoch 25| Loss: 0.1243| Acc: 0.9917| Train Time: 0.1006s\n"
     ]
    },
    {
     "name": "stderr",
     "output_type": "stream",
     "text": [
      "Evaluating: 100%|██████████| 9981/9981 [00:00<00:00, 17101.63it/s]\n"
     ]
    },
    {
     "name": "stdout",
     "output_type": "stream",
     "text": [
      "Train: 1.0000| Val: 0.6560| Test: 0.6400| Eval Time: 0.5936s\n",
      "Epoch 26| Loss: 0.0000| Acc: 1.0000| Train Time: 0.0982s\n"
     ]
    },
    {
     "name": "stderr",
     "output_type": "stream",
     "text": [
      "Evaluating: 100%|██████████| 9981/9981 [00:00<00:00, 19427.85it/s]\n"
     ]
    },
    {
     "name": "stdout",
     "output_type": "stream",
     "text": [
      "Train: 1.0000| Val: 0.6500| Test: 0.6410| Eval Time: 0.5855s\n",
      "Epoch 27| Loss: 0.0337| Acc: 0.9833| Train Time: 0.0975s\n"
     ]
    },
    {
     "name": "stderr",
     "output_type": "stream",
     "text": [
      "Evaluating: 100%|██████████| 9981/9981 [00:00<00:00, 18927.98it/s]\n"
     ]
    },
    {
     "name": "stdout",
     "output_type": "stream",
     "text": [
      "Train: 1.0000| Val: 0.6480| Test: 0.6470| Eval Time: 0.6023s\n",
      "Epoch 28| Loss: 0.0588| Acc: 0.9917| Train Time: 0.0956s\n"
     ]
    },
    {
     "name": "stderr",
     "output_type": "stream",
     "text": [
      "Evaluating: 100%|██████████| 9981/9981 [00:00<00:00, 19339.47it/s]\n"
     ]
    },
    {
     "name": "stdout",
     "output_type": "stream",
     "text": [
      "Train: 1.0000| Val: 0.6540| Test: 0.6560| Eval Time: 0.5251s\n",
      "Epoch 29| Loss: 0.0186| Acc: 0.9917| Train Time: 0.0941s\n"
     ]
    },
    {
     "name": "stderr",
     "output_type": "stream",
     "text": [
      "Evaluating: 100%|██████████| 9981/9981 [00:00<00:00, 17099.65it/s]\n"
     ]
    },
    {
     "name": "stdout",
     "output_type": "stream",
     "text": [
      "Train: 1.0000| Val: 0.6620| Test: 0.6630| Eval Time: 0.5938s\n",
      "Epoch 30| Loss: 0.0200| Acc: 0.9917| Train Time: 0.0998s\n"
     ]
    },
    {
     "name": "stderr",
     "output_type": "stream",
     "text": [
      "Evaluating: 100%|██████████| 9981/9981 [00:00<00:00, 19625.56it/s]\n"
     ]
    },
    {
     "name": "stdout",
     "output_type": "stream",
     "text": [
      "Train: 1.0000| Val: 0.6580| Test: 0.6550| Eval Time: 0.5158s\n",
      "Epoch 31| Loss: 0.0025| Acc: 1.0000| Train Time: 0.0956s\n"
     ]
    },
    {
     "name": "stderr",
     "output_type": "stream",
     "text": [
      "Evaluating: 100%|██████████| 9981/9981 [00:00<00:00, 20472.68it/s]\n"
     ]
    },
    {
     "name": "stdout",
     "output_type": "stream",
     "text": [
      "Train: 1.0000| Val: 0.6600| Test: 0.6630| Eval Time: 0.4949s\n",
      "Epoch 32| Loss: 0.0185| Acc: 0.9917| Train Time: 0.1048s\n"
     ]
    },
    {
     "name": "stderr",
     "output_type": "stream",
     "text": [
      "Evaluating: 100%|██████████| 9981/9981 [00:00<00:00, 19488.11it/s]\n"
     ]
    },
    {
     "name": "stdout",
     "output_type": "stream",
     "text": [
      "Train: 1.0000| Val: 0.6480| Test: 0.6590| Eval Time: 0.5885s\n",
      "Epoch 33| Loss: 0.0010| Acc: 1.0000| Train Time: 0.1034s\n"
     ]
    },
    {
     "name": "stderr",
     "output_type": "stream",
     "text": [
      "Evaluating: 100%|██████████| 9981/9981 [00:00<00:00, 20013.82it/s]\n"
     ]
    },
    {
     "name": "stdout",
     "output_type": "stream",
     "text": [
      "Train: 1.0000| Val: 0.6400| Test: 0.6550| Eval Time: 0.5051s\n",
      "Epoch 34| Loss: 0.0115| Acc: 0.9917| Train Time: 0.0955s\n"
     ]
    },
    {
     "name": "stderr",
     "output_type": "stream",
     "text": [
      "Evaluating: 100%|██████████| 9981/9981 [00:00<00:00, 19739.50it/s]\n"
     ]
    },
    {
     "name": "stdout",
     "output_type": "stream",
     "text": [
      "Train: 1.0000| Val: 0.6400| Test: 0.6490| Eval Time: 0.5765s\n",
      "\n",
      "Result of  2. run| Train: 1.0000| Val: 0.7020| Test: 0.6880\n",
      "\n",
      "Run 03 for GatV2_K1_D3_s and CiteSeer:\n"
     ]
    },
    {
     "name": "stderr",
     "output_type": "stream",
     "text": [
      "Epoch 01: 100%|██████████| 120/120 [00:00<00:00, 1073.43it/s]\n"
     ]
    },
    {
     "name": "stdout",
     "output_type": "stream",
     "text": [
      "Epoch 01| Loss: 1.8092| Acc: 0.1667| Train Time: 0.1166s\n"
     ]
    },
    {
     "name": "stderr",
     "output_type": "stream",
     "text": [
      "Evaluating: 100%|██████████| 9981/9981 [00:00<00:00, 19829.32it/s]\n"
     ]
    },
    {
     "name": "stdout",
     "output_type": "stream",
     "text": [
      "Train: 0.8250| Val: 0.4860| Test: 0.4630| Eval Time: 0.5093s\n",
      "Epoch 02| Loss: 1.4933| Acc: 0.5250| Train Time: 0.0912s\n"
     ]
    },
    {
     "name": "stderr",
     "output_type": "stream",
     "text": [
      "Evaluating: 100%|██████████| 9981/9981 [00:00<00:00, 17107.79it/s]\n"
     ]
    },
    {
     "name": "stdout",
     "output_type": "stream",
     "text": [
      "Train: 0.9167| Val: 0.6480| Test: 0.6370| Eval Time: 0.5935s\n",
      "Epoch 03| Loss: 0.9675| Acc: 0.7500| Train Time: 0.1026s\n"
     ]
    },
    {
     "name": "stderr",
     "output_type": "stream",
     "text": [
      "Evaluating: 100%|██████████| 9981/9981 [00:00<00:00, 17234.91it/s]\n"
     ]
    },
    {
     "name": "stdout",
     "output_type": "stream",
     "text": [
      "Train: 0.9667| Val: 0.6860| Test: 0.6860| Eval Time: 0.5892s\n",
      "Epoch 04| Loss: 0.6182| Acc: 0.8417| Train Time: 0.0947s\n"
     ]
    },
    {
     "name": "stderr",
     "output_type": "stream",
     "text": [
      "Evaluating: 100%|██████████| 9981/9981 [00:00<00:00, 19517.69it/s]\n"
     ]
    },
    {
     "name": "stdout",
     "output_type": "stream",
     "text": [
      "Train: 0.9833| Val: 0.6880| Test: 0.6980| Eval Time: 0.5214s\n",
      "Epoch 05| Loss: 0.4003| Acc: 0.9000| Train Time: 0.0996s\n"
     ]
    },
    {
     "name": "stderr",
     "output_type": "stream",
     "text": [
      "Evaluating: 100%|██████████| 9981/9981 [00:00<00:00, 19277.32it/s]\n"
     ]
    },
    {
     "name": "stdout",
     "output_type": "stream",
     "text": [
      "Train: 0.9750| Val: 0.6860| Test: 0.6890| Eval Time: 0.5931s\n",
      "Epoch 06| Loss: 0.2460| Acc: 0.9333| Train Time: 0.0946s\n"
     ]
    },
    {
     "name": "stderr",
     "output_type": "stream",
     "text": [
      "Evaluating: 100%|██████████| 9981/9981 [00:00<00:00, 16975.68it/s]\n"
     ]
    },
    {
     "name": "stdout",
     "output_type": "stream",
     "text": [
      "Train: 0.9833| Val: 0.6800| Test: 0.6740| Eval Time: 0.5948s\n",
      "Epoch 07| Loss: 0.1117| Acc: 0.9583| Train Time: 0.0955s\n"
     ]
    },
    {
     "name": "stderr",
     "output_type": "stream",
     "text": [
      "Evaluating: 100%|██████████| 9981/9981 [00:00<00:00, 16582.55it/s]\n"
     ]
    },
    {
     "name": "stdout",
     "output_type": "stream",
     "text": [
      "Train: 0.9917| Val: 0.6700| Test: 0.6600| Eval Time: 0.6111s\n",
      "Epoch 08| Loss: 0.0946| Acc: 0.9750| Train Time: 0.0995s\n"
     ]
    },
    {
     "name": "stderr",
     "output_type": "stream",
     "text": [
      "Evaluating: 100%|██████████| 9981/9981 [00:00<00:00, 17154.22it/s]\n"
     ]
    },
    {
     "name": "stdout",
     "output_type": "stream",
     "text": [
      "Train: 1.0000| Val: 0.6680| Test: 0.6580| Eval Time: 0.5891s\n",
      "Epoch 09| Loss: 0.0333| Acc: 0.9833| Train Time: 0.0236s\n"
     ]
    },
    {
     "name": "stderr",
     "output_type": "stream",
     "text": [
      "Evaluating: 100%|██████████| 9981/9981 [00:00<00:00, 18758.71it/s]\n"
     ]
    },
    {
     "name": "stdout",
     "output_type": "stream",
     "text": [
      "Train: 1.0000| Val: 0.6780| Test: 0.6600| Eval Time: 0.6676s\n",
      "Epoch 10| Loss: 0.0664| Acc: 0.9833| Train Time: 0.0346s\n"
     ]
    },
    {
     "name": "stderr",
     "output_type": "stream",
     "text": [
      "Evaluating: 100%|██████████| 9981/9981 [00:00<00:00, 18877.30it/s]\n"
     ]
    },
    {
     "name": "stdout",
     "output_type": "stream",
     "text": [
      "Train: 1.0000| Val: 0.6720| Test: 0.6580| Eval Time: 0.5923s\n",
      "Epoch 11| Loss: 0.0324| Acc: 0.9917| Train Time: 0.0985s\n"
     ]
    },
    {
     "name": "stderr",
     "output_type": "stream",
     "text": [
      "Evaluating: 100%|██████████| 9981/9981 [00:00<00:00, 19037.92it/s]\n"
     ]
    },
    {
     "name": "stdout",
     "output_type": "stream",
     "text": [
      "Train: 1.0000| Val: 0.6760| Test: 0.6570| Eval Time: 0.5947s\n",
      "Epoch 12| Loss: 0.0293| Acc: 0.9917| Train Time: 0.0970s\n"
     ]
    },
    {
     "name": "stderr",
     "output_type": "stream",
     "text": [
      "Evaluating: 100%|██████████| 9981/9981 [00:00<00:00, 17123.84it/s]\n"
     ]
    },
    {
     "name": "stdout",
     "output_type": "stream",
     "text": [
      "Train: 1.0000| Val: 0.6760| Test: 0.6570| Eval Time: 0.5904s\n",
      "Epoch 13| Loss: 0.0069| Acc: 1.0000| Train Time: 0.0964s\n"
     ]
    },
    {
     "name": "stderr",
     "output_type": "stream",
     "text": [
      "Evaluating: 100%|██████████| 9981/9981 [00:00<00:00, 16487.96it/s]\n"
     ]
    },
    {
     "name": "stdout",
     "output_type": "stream",
     "text": [
      "Train: 1.0000| Val: 0.6680| Test: 0.6520| Eval Time: 0.6134s\n",
      "Epoch 14| Loss: 0.0065| Acc: 1.0000| Train Time: 0.0925s\n"
     ]
    },
    {
     "name": "stderr",
     "output_type": "stream",
     "text": [
      "Evaluating: 100%|██████████| 9981/9981 [00:00<00:00, 16975.33it/s]\n"
     ]
    },
    {
     "name": "stdout",
     "output_type": "stream",
     "text": [
      "Train: 1.0000| Val: 0.6760| Test: 0.6520| Eval Time: 0.5983s\n",
      "Epoch 15| Loss: 0.0020| Acc: 1.0000| Train Time: 0.0916s\n"
     ]
    },
    {
     "name": "stderr",
     "output_type": "stream",
     "text": [
      "Evaluating: 100%|██████████| 9981/9981 [00:00<00:00, 19507.77it/s]\n"
     ]
    },
    {
     "name": "stdout",
     "output_type": "stream",
     "text": [
      "Train: 1.0000| Val: 0.6760| Test: 0.6520| Eval Time: 0.5196s\n",
      "Epoch 16| Loss: 0.0503| Acc: 0.9917| Train Time: 0.0986s\n"
     ]
    },
    {
     "name": "stderr",
     "output_type": "stream",
     "text": [
      "Evaluating: 100%|██████████| 9981/9981 [00:00<00:00, 17519.52it/s]\n"
     ]
    },
    {
     "name": "stdout",
     "output_type": "stream",
     "text": [
      "Train: 1.0000| Val: 0.6820| Test: 0.6530| Eval Time: 0.5815s\n",
      "Epoch 17| Loss: 0.0071| Acc: 0.9917| Train Time: 0.0953s\n"
     ]
    },
    {
     "name": "stderr",
     "output_type": "stream",
     "text": [
      "Evaluating: 100%|██████████| 9981/9981 [00:00<00:00, 19757.06it/s]\n"
     ]
    },
    {
     "name": "stdout",
     "output_type": "stream",
     "text": [
      "Train: 1.0000| Val: 0.6820| Test: 0.6550| Eval Time: 0.5137s\n",
      "Epoch 18| Loss: 0.0208| Acc: 0.9917| Train Time: 0.0976s\n"
     ]
    },
    {
     "name": "stderr",
     "output_type": "stream",
     "text": [
      "Evaluating: 100%|██████████| 9981/9981 [00:00<00:00, 19840.12it/s]\n"
     ]
    },
    {
     "name": "stdout",
     "output_type": "stream",
     "text": [
      "Train: 1.0000| Val: 0.6760| Test: 0.6580| Eval Time: 0.5115s\n",
      "Epoch 19| Loss: 0.0738| Acc: 0.9917| Train Time: 0.1700s\n"
     ]
    },
    {
     "name": "stderr",
     "output_type": "stream",
     "text": [
      "Evaluating: 100%|██████████| 9981/9981 [00:00<00:00, 19901.98it/s]\n"
     ]
    },
    {
     "name": "stdout",
     "output_type": "stream",
     "text": [
      "Train: 1.0000| Val: 0.6780| Test: 0.6740| Eval Time: 0.5134s\n",
      "Epoch 20| Loss: 0.0090| Acc: 0.9917| Train Time: 0.0924s\n"
     ]
    },
    {
     "name": "stderr",
     "output_type": "stream",
     "text": [
      "Evaluating: 100%|██████████| 9981/9981 [00:00<00:00, 19278.73it/s]\n"
     ]
    },
    {
     "name": "stdout",
     "output_type": "stream",
     "text": [
      "Train: 1.0000| Val: 0.6840| Test: 0.6750| Eval Time: 0.5921s\n",
      "Epoch 21| Loss: 0.0542| Acc: 0.9833| Train Time: 0.0344s\n"
     ]
    },
    {
     "name": "stderr",
     "output_type": "stream",
     "text": [
      "Evaluating: 100%|██████████| 9981/9981 [00:00<00:00, 19380.48it/s]\n"
     ]
    },
    {
     "name": "stdout",
     "output_type": "stream",
     "text": [
      "Train: 1.0000| Val: 0.6820| Test: 0.6770| Eval Time: 0.5856s\n",
      "Epoch 22| Loss: 0.0278| Acc: 0.9917| Train Time: 0.1004s\n"
     ]
    },
    {
     "name": "stderr",
     "output_type": "stream",
     "text": [
      "Evaluating: 100%|██████████| 9981/9981 [00:00<00:00, 16978.86it/s]\n"
     ]
    },
    {
     "name": "stdout",
     "output_type": "stream",
     "text": [
      "Train: 1.0000| Val: 0.6860| Test: 0.6760| Eval Time: 0.5980s\n",
      "Epoch 23| Loss: 0.0297| Acc: 0.9917| Train Time: 0.0996s\n"
     ]
    },
    {
     "name": "stderr",
     "output_type": "stream",
     "text": [
      "Evaluating: 100%|██████████| 9981/9981 [00:00<00:00, 14668.44it/s]\n"
     ]
    },
    {
     "name": "stdout",
     "output_type": "stream",
     "text": [
      "Train: 1.0000| Val: 0.6860| Test: 0.6780| Eval Time: 0.6906s\n",
      "Epoch 24| Loss: 0.0090| Acc: 0.9917| Train Time: 0.0970s\n"
     ]
    },
    {
     "name": "stderr",
     "output_type": "stream",
     "text": [
      "Evaluating: 100%|██████████| 9981/9981 [00:00<00:00, 19634.98it/s]\n"
     ]
    },
    {
     "name": "stdout",
     "output_type": "stream",
     "text": [
      "Train: 1.0000| Val: 0.6880| Test: 0.6790| Eval Time: 0.5179s\n",
      "Epoch 25| Loss: 0.0010| Acc: 1.0000| Train Time: 0.0949s\n"
     ]
    },
    {
     "name": "stderr",
     "output_type": "stream",
     "text": [
      "Evaluating: 100%|██████████| 9981/9981 [00:00<00:00, 17387.65it/s]\n"
     ]
    },
    {
     "name": "stdout",
     "output_type": "stream",
     "text": [
      "Train: 1.0000| Val: 0.6920| Test: 0.6790| Eval Time: 0.5845s\n",
      "Epoch 26| Loss: 0.0237| Acc: 0.9917| Train Time: 0.0301s\n"
     ]
    },
    {
     "name": "stderr",
     "output_type": "stream",
     "text": [
      "Evaluating: 100%|██████████| 9981/9981 [00:00<00:00, 16431.77it/s]\n"
     ]
    },
    {
     "name": "stdout",
     "output_type": "stream",
     "text": [
      "Train: 1.0000| Val: 0.6880| Test: 0.6760| Eval Time: 0.6707s\n",
      "Epoch 27| Loss: 0.0021| Acc: 1.0000| Train Time: 0.0904s\n"
     ]
    },
    {
     "name": "stderr",
     "output_type": "stream",
     "text": [
      "Evaluating: 100%|██████████| 9981/9981 [00:00<00:00, 16662.28it/s]\n"
     ]
    },
    {
     "name": "stdout",
     "output_type": "stream",
     "text": [
      "Train: 1.0000| Val: 0.6860| Test: 0.6760| Eval Time: 0.6115s\n",
      "Epoch 28| Loss: 0.1068| Acc: 0.9833| Train Time: 0.0925s\n"
     ]
    },
    {
     "name": "stderr",
     "output_type": "stream",
     "text": [
      "Evaluating: 100%|██████████| 9981/9981 [00:00<00:00, 16540.80it/s]\n"
     ]
    },
    {
     "name": "stdout",
     "output_type": "stream",
     "text": [
      "Train: 1.0000| Val: 0.6820| Test: 0.6730| Eval Time: 0.6120s\n",
      "Epoch 29| Loss: 0.0920| Acc: 0.9833| Train Time: 0.0954s\n"
     ]
    },
    {
     "name": "stderr",
     "output_type": "stream",
     "text": [
      "Evaluating: 100%|██████████| 9981/9981 [00:00<00:00, 16863.94it/s]\n"
     ]
    },
    {
     "name": "stdout",
     "output_type": "stream",
     "text": [
      "Train: 1.0000| Val: 0.6760| Test: 0.6600| Eval Time: 0.6011s\n",
      "Epoch 30| Loss: 0.0070| Acc: 0.9917| Train Time: 0.0966s\n"
     ]
    },
    {
     "name": "stderr",
     "output_type": "stream",
     "text": [
      "Evaluating: 100%|██████████| 9981/9981 [00:00<00:00, 16345.50it/s]\n"
     ]
    },
    {
     "name": "stdout",
     "output_type": "stream",
     "text": [
      "Train: 1.0000| Val: 0.6680| Test: 0.6580| Eval Time: 0.6175s\n",
      "Epoch 31| Loss: 0.0114| Acc: 0.9917| Train Time: 0.1075s\n"
     ]
    },
    {
     "name": "stderr",
     "output_type": "stream",
     "text": [
      "Evaluating: 100%|██████████| 9981/9981 [00:00<00:00, 19803.71it/s]\n"
     ]
    },
    {
     "name": "stdout",
     "output_type": "stream",
     "text": [
      "Train: 1.0000| Val: 0.6640| Test: 0.6490| Eval Time: 0.5143s\n",
      "Epoch 32| Loss: 0.0231| Acc: 0.9917| Train Time: 0.0972s\n"
     ]
    },
    {
     "name": "stderr",
     "output_type": "stream",
     "text": [
      "Evaluating: 100%|██████████| 9981/9981 [00:00<00:00, 16760.60it/s]\n"
     ]
    },
    {
     "name": "stdout",
     "output_type": "stream",
     "text": [
      "Train: 1.0000| Val: 0.6560| Test: 0.6440| Eval Time: 0.6048s\n",
      "Epoch 33| Loss: 0.0682| Acc: 0.9917| Train Time: 0.1024s\n"
     ]
    },
    {
     "name": "stderr",
     "output_type": "stream",
     "text": [
      "Evaluating: 100%|██████████| 9981/9981 [00:00<00:00, 16871.96it/s]\n"
     ]
    },
    {
     "name": "stdout",
     "output_type": "stream",
     "text": [
      "Train: 1.0000| Val: 0.6560| Test: 0.6410| Eval Time: 0.5986s\n",
      "Epoch 34| Loss: 0.0005| Acc: 1.0000| Train Time: 0.0933s\n"
     ]
    },
    {
     "name": "stderr",
     "output_type": "stream",
     "text": [
      "Evaluating: 100%|██████████| 9981/9981 [00:00<00:00, 16783.28it/s]\n"
     ]
    },
    {
     "name": "stdout",
     "output_type": "stream",
     "text": [
      "Train: 1.0000| Val: 0.6480| Test: 0.6470| Eval Time: 0.6022s\n",
      "Epoch 35| Loss: 0.1229| Acc: 0.9917| Train Time: 0.0984s\n"
     ]
    },
    {
     "name": "stderr",
     "output_type": "stream",
     "text": [
      "Evaluating: 100%|██████████| 9981/9981 [00:00<00:00, 16780.72it/s]\n"
     ]
    },
    {
     "name": "stdout",
     "output_type": "stream",
     "text": [
      "Train: 1.0000| Val: 0.6520| Test: 0.6540| Eval Time: 0.6022s\n",
      "Epoch 36| Loss: 0.1241| Acc: 0.9833| Train Time: 0.0960s\n"
     ]
    },
    {
     "name": "stderr",
     "output_type": "stream",
     "text": [
      "Evaluating: 100%|██████████| 9981/9981 [00:00<00:00, 14597.56it/s]\n"
     ]
    },
    {
     "name": "stdout",
     "output_type": "stream",
     "text": [
      "Train: 1.0000| Val: 0.6500| Test: 0.6650| Eval Time: 0.6950s\n",
      "Epoch 37| Loss: 0.0012| Acc: 1.0000| Train Time: 0.0999s\n"
     ]
    },
    {
     "name": "stderr",
     "output_type": "stream",
     "text": [
      "Evaluating: 100%|██████████| 9981/9981 [00:00<00:00, 16700.53it/s]\n"
     ]
    },
    {
     "name": "stdout",
     "output_type": "stream",
     "text": [
      "Train: 1.0000| Val: 0.6540| Test: 0.6650| Eval Time: 0.6057s\n",
      "Epoch 38| Loss: 0.1002| Acc: 0.9917| Train Time: 0.1046s\n"
     ]
    },
    {
     "name": "stderr",
     "output_type": "stream",
     "text": [
      "Evaluating: 100%|██████████| 9981/9981 [00:00<00:00, 16713.71it/s]\n"
     ]
    },
    {
     "name": "stdout",
     "output_type": "stream",
     "text": [
      "Train: 1.0000| Val: 0.6500| Test: 0.6700| Eval Time: 0.6038s\n",
      "Epoch 39| Loss: 0.0065| Acc: 0.9917| Train Time: 0.1745s\n"
     ]
    },
    {
     "name": "stderr",
     "output_type": "stream",
     "text": [
      "Evaluating: 100%|██████████| 9981/9981 [00:00<00:00, 19458.78it/s]\n"
     ]
    },
    {
     "name": "stdout",
     "output_type": "stream",
     "text": [
      "Train: 1.0000| Val: 0.6520| Test: 0.6680| Eval Time: 0.5229s\n",
      "Epoch 40| Loss: 0.0001| Acc: 1.0000| Train Time: 0.0979s\n"
     ]
    },
    {
     "name": "stderr",
     "output_type": "stream",
     "text": [
      "Evaluating: 100%|██████████| 9981/9981 [00:00<00:00, 19419.88it/s]\n"
     ]
    },
    {
     "name": "stdout",
     "output_type": "stream",
     "text": [
      "Train: 1.0000| Val: 0.6460| Test: 0.6590| Eval Time: 0.5876s\n",
      "Epoch 41| Loss: 0.2202| Acc: 0.9833| Train Time: 0.0944s\n"
     ]
    },
    {
     "name": "stderr",
     "output_type": "stream",
     "text": [
      "Evaluating: 100%|██████████| 9981/9981 [00:00<00:00, 19278.24it/s]\n"
     ]
    },
    {
     "name": "stdout",
     "output_type": "stream",
     "text": [
      "Train: 1.0000| Val: 0.6500| Test: 0.6550| Eval Time: 0.5917s\n",
      "Epoch 42| Loss: 0.2929| Acc: 0.9667| Train Time: 0.1041s\n"
     ]
    },
    {
     "name": "stderr",
     "output_type": "stream",
     "text": [
      "Evaluating: 100%|██████████| 9981/9981 [00:00<00:00, 17136.68it/s]\n"
     ]
    },
    {
     "name": "stdout",
     "output_type": "stream",
     "text": [
      "Train: 1.0000| Val: 0.6440| Test: 0.6560| Eval Time: 0.5977s\n",
      "Epoch 43| Loss: 0.1136| Acc: 0.9833| Train Time: 0.1041s\n"
     ]
    },
    {
     "name": "stderr",
     "output_type": "stream",
     "text": [
      "Evaluating: 100%|██████████| 9981/9981 [00:00<00:00, 16741.40it/s]\n"
     ]
    },
    {
     "name": "stdout",
     "output_type": "stream",
     "text": [
      "Train: 1.0000| Val: 0.6480| Test: 0.6580| Eval Time: 0.6065s\n",
      "Epoch 44| Loss: 0.0303| Acc: 0.9917| Train Time: 0.1048s\n"
     ]
    },
    {
     "name": "stderr",
     "output_type": "stream",
     "text": [
      "Evaluating: 100%|██████████| 9981/9981 [00:00<00:00, 16749.37it/s]\n"
     ]
    },
    {
     "name": "stdout",
     "output_type": "stream",
     "text": [
      "Train: 1.0000| Val: 0.6500| Test: 0.6570| Eval Time: 0.6026s\n",
      "Epoch 45| Loss: 0.0010| Acc: 1.0000| Train Time: 0.1015s\n"
     ]
    },
    {
     "name": "stderr",
     "output_type": "stream",
     "text": [
      "Evaluating: 100%|██████████| 9981/9981 [00:00<00:00, 16837.73it/s]\n"
     ]
    },
    {
     "name": "stdout",
     "output_type": "stream",
     "text": [
      "Train: 1.0000| Val: 0.6460| Test: 0.6490| Eval Time: 0.5986s\n",
      "Epoch 46| Loss: 0.0053| Acc: 1.0000| Train Time: 0.0997s\n"
     ]
    },
    {
     "name": "stderr",
     "output_type": "stream",
     "text": [
      "Evaluating: 100%|██████████| 9981/9981 [00:00<00:00, 17162.81it/s]\n"
     ]
    },
    {
     "name": "stdout",
     "output_type": "stream",
     "text": [
      "Train: 1.0000| Val: 0.6440| Test: 0.6400| Eval Time: 0.5879s\n",
      "Epoch 47| Loss: 0.0455| Acc: 0.9917| Train Time: 0.0957s\n"
     ]
    },
    {
     "name": "stderr",
     "output_type": "stream",
     "text": [
      "Evaluating: 100%|██████████| 9981/9981 [00:00<00:00, 16805.82it/s]\n"
     ]
    },
    {
     "name": "stdout",
     "output_type": "stream",
     "text": [
      "Train: 1.0000| Val: 0.6420| Test: 0.6340| Eval Time: 0.6041s\n",
      "Epoch 48| Loss: 0.0221| Acc: 0.9833| Train Time: 0.0949s\n"
     ]
    },
    {
     "name": "stderr",
     "output_type": "stream",
     "text": [
      "Evaluating: 100%|██████████| 9981/9981 [00:00<00:00, 16652.84it/s]\n"
     ]
    },
    {
     "name": "stdout",
     "output_type": "stream",
     "text": [
      "Train: 1.0000| Val: 0.6320| Test: 0.6250| Eval Time: 0.6065s\n",
      "Epoch 49| Loss: 0.0402| Acc: 0.9917| Train Time: 0.0959s\n"
     ]
    },
    {
     "name": "stderr",
     "output_type": "stream",
     "text": [
      "Evaluating: 100%|██████████| 9981/9981 [00:00<00:00, 16875.88it/s]\n"
     ]
    },
    {
     "name": "stdout",
     "output_type": "stream",
     "text": [
      "Train: 0.9917| Val: 0.6180| Test: 0.6180| Eval Time: 0.6001s\n",
      "Epoch 50| Loss: 0.0647| Acc: 0.9833| Train Time: 0.0897s\n"
     ]
    },
    {
     "name": "stderr",
     "output_type": "stream",
     "text": [
      "Evaluating: 100%|██████████| 9981/9981 [00:00<00:00, 16953.47it/s]\n"
     ]
    },
    {
     "name": "stdout",
     "output_type": "stream",
     "text": [
      "Train: 1.0000| Val: 0.6200| Test: 0.6190| Eval Time: 0.6014s\n",
      "Epoch 51| Loss: 0.0647| Acc: 0.9833| Train Time: 0.0990s\n"
     ]
    },
    {
     "name": "stderr",
     "output_type": "stream",
     "text": [
      "Evaluating: 100%|██████████| 9981/9981 [00:00<00:00, 16703.37it/s]\n"
     ]
    },
    {
     "name": "stdout",
     "output_type": "stream",
     "text": [
      "Train: 1.0000| Val: 0.6160| Test: 0.6220| Eval Time: 0.6070s\n",
      "Epoch 52| Loss: 0.2653| Acc: 0.9833| Train Time: 0.0946s\n"
     ]
    },
    {
     "name": "stderr",
     "output_type": "stream",
     "text": [
      "Evaluating: 100%|██████████| 9981/9981 [00:00<00:00, 16744.85it/s]\n"
     ]
    },
    {
     "name": "stdout",
     "output_type": "stream",
     "text": [
      "Train: 1.0000| Val: 0.6260| Test: 0.6230| Eval Time: 0.6049s\n",
      "Epoch 53| Loss: 0.0570| Acc: 0.9833| Train Time: 0.0981s\n"
     ]
    },
    {
     "name": "stderr",
     "output_type": "stream",
     "text": [
      "Evaluating: 100%|██████████| 9981/9981 [00:00<00:00, 16808.12it/s]\n"
     ]
    },
    {
     "name": "stdout",
     "output_type": "stream",
     "text": [
      "Train: 1.0000| Val: 0.6200| Test: 0.6320| Eval Time: 0.6017s\n",
      "Epoch 54| Loss: 0.0017| Acc: 1.0000| Train Time: 0.0976s\n"
     ]
    },
    {
     "name": "stderr",
     "output_type": "stream",
     "text": [
      "Evaluating: 100%|██████████| 9981/9981 [00:00<00:00, 16743.15it/s]\n"
     ]
    },
    {
     "name": "stdout",
     "output_type": "stream",
     "text": [
      "Train: 1.0000| Val: 0.6300| Test: 0.6300| Eval Time: 0.6050s\n",
      "Epoch 55| Loss: 0.0240| Acc: 0.9833| Train Time: 0.0927s\n"
     ]
    },
    {
     "name": "stderr",
     "output_type": "stream",
     "text": [
      "Evaluating: 100%|██████████| 9981/9981 [00:00<00:00, 17070.33it/s]\n"
     ]
    },
    {
     "name": "stdout",
     "output_type": "stream",
     "text": [
      "Train: 1.0000| Val: 0.6280| Test: 0.6290| Eval Time: 0.5954s\n",
      "\n",
      "Result of  3. run| Train: 1.0000| Val: 0.6920| Test: 0.6790\n",
      "\n",
      "Run 04 for GatV2_K1_D3_s and CiteSeer:\n"
     ]
    },
    {
     "name": "stderr",
     "output_type": "stream",
     "text": [
      "Epoch 01: 100%|██████████| 120/120 [00:00<00:00, 1172.60it/s]\n"
     ]
    },
    {
     "name": "stdout",
     "output_type": "stream",
     "text": [
      "Epoch 01| Loss: 1.7891| Acc: 0.2167| Train Time: 0.1053s\n"
     ]
    },
    {
     "name": "stderr",
     "output_type": "stream",
     "text": [
      "Evaluating: 100%|██████████| 9981/9981 [00:00<00:00, 16643.88it/s]\n"
     ]
    },
    {
     "name": "stdout",
     "output_type": "stream",
     "text": [
      "Train: 0.9333| Val: 0.5860| Test: 0.5550| Eval Time: 0.6058s\n",
      "Epoch 02| Loss: 1.4659| Acc: 0.5167| Train Time: 0.1027s\n"
     ]
    },
    {
     "name": "stderr",
     "output_type": "stream",
     "text": [
      "Evaluating: 100%|██████████| 9981/9981 [00:00<00:00, 19948.78it/s]\n"
     ]
    },
    {
     "name": "stdout",
     "output_type": "stream",
     "text": [
      "Train: 0.9417| Val: 0.6880| Test: 0.6680| Eval Time: 0.5765s\n",
      "Epoch 03| Loss: 0.9980| Acc: 0.7583| Train Time: 0.1010s\n"
     ]
    },
    {
     "name": "stderr",
     "output_type": "stream",
     "text": [
      "Evaluating: 100%|██████████| 9981/9981 [00:00<00:00, 16953.40it/s]\n"
     ]
    },
    {
     "name": "stdout",
     "output_type": "stream",
     "text": [
      "Train: 0.9500| Val: 0.7040| Test: 0.6940| Eval Time: 0.5975s\n",
      "Epoch 04| Loss: 0.6263| Acc: 0.9167| Train Time: 0.0286s\n"
     ]
    },
    {
     "name": "stderr",
     "output_type": "stream",
     "text": [
      "Evaluating: 100%|██████████| 9981/9981 [00:00<00:00, 16475.94it/s]\n"
     ]
    },
    {
     "name": "stdout",
     "output_type": "stream",
     "text": [
      "Train: 0.9917| Val: 0.7020| Test: 0.6960| Eval Time: 0.6730s\n",
      "Epoch 05| Loss: 0.3650| Acc: 0.9333| Train Time: 0.0971s\n"
     ]
    },
    {
     "name": "stderr",
     "output_type": "stream",
     "text": [
      "Evaluating: 100%|██████████| 9981/9981 [00:00<00:00, 16942.49it/s]\n"
     ]
    },
    {
     "name": "stdout",
     "output_type": "stream",
     "text": [
      "Train: 0.9917| Val: 0.6820| Test: 0.6930| Eval Time: 0.6018s\n",
      "Epoch 06| Loss: 0.1514| Acc: 0.9917| Train Time: 0.1001s\n"
     ]
    },
    {
     "name": "stderr",
     "output_type": "stream",
     "text": [
      "Evaluating: 100%|██████████| 9981/9981 [00:00<00:00, 17018.35it/s]\n"
     ]
    },
    {
     "name": "stdout",
     "output_type": "stream",
     "text": [
      "Train: 0.9833| Val: 0.6740| Test: 0.6940| Eval Time: 0.5972s\n",
      "Epoch 07| Loss: 0.1312| Acc: 0.9667| Train Time: 0.0987s\n"
     ]
    },
    {
     "name": "stderr",
     "output_type": "stream",
     "text": [
      "Evaluating: 100%|██████████| 9981/9981 [00:00<00:00, 19230.55it/s]\n"
     ]
    },
    {
     "name": "stdout",
     "output_type": "stream",
     "text": [
      "Train: 0.9750| Val: 0.6740| Test: 0.6890| Eval Time: 0.5254s\n",
      "Epoch 08| Loss: 0.0883| Acc: 0.9583| Train Time: 0.1649s\n"
     ]
    },
    {
     "name": "stderr",
     "output_type": "stream",
     "text": [
      "Evaluating: 100%|██████████| 9981/9981 [00:00<00:00, 20011.39it/s]\n"
     ]
    },
    {
     "name": "stdout",
     "output_type": "stream",
     "text": [
      "Train: 1.0000| Val: 0.6720| Test: 0.6810| Eval Time: 0.5081s\n",
      "Epoch 09| Loss: 0.0362| Acc: 0.9917| Train Time: 0.0869s\n"
     ]
    },
    {
     "name": "stderr",
     "output_type": "stream",
     "text": [
      "Evaluating: 100%|██████████| 9981/9981 [00:00<00:00, 19709.15it/s]\n"
     ]
    },
    {
     "name": "stdout",
     "output_type": "stream",
     "text": [
      "Train: 1.0000| Val: 0.6620| Test: 0.6710| Eval Time: 0.5184s\n",
      "Epoch 10| Loss: 0.0361| Acc: 0.9917| Train Time: 0.0939s\n"
     ]
    },
    {
     "name": "stderr",
     "output_type": "stream",
     "text": [
      "Evaluating: 100%|██████████| 9981/9981 [00:00<00:00, 19523.51it/s]\n"
     ]
    },
    {
     "name": "stdout",
     "output_type": "stream",
     "text": [
      "Train: 0.9917| Val: 0.6560| Test: 0.6540| Eval Time: 0.5176s\n",
      "Epoch 11| Loss: 0.0612| Acc: 0.9833| Train Time: 0.1670s\n"
     ]
    },
    {
     "name": "stderr",
     "output_type": "stream",
     "text": [
      "Evaluating: 100%|██████████| 9981/9981 [00:00<00:00, 19321.05it/s]\n"
     ]
    },
    {
     "name": "stdout",
     "output_type": "stream",
     "text": [
      "Train: 1.0000| Val: 0.6600| Test: 0.6550| Eval Time: 0.5243s\n",
      "Epoch 12| Loss: 0.0550| Acc: 0.9833| Train Time: 0.0951s\n"
     ]
    },
    {
     "name": "stderr",
     "output_type": "stream",
     "text": [
      "Evaluating: 100%|██████████| 9981/9981 [00:00<00:00, 19885.67it/s]\n"
     ]
    },
    {
     "name": "stdout",
     "output_type": "stream",
     "text": [
      "Train: 1.0000| Val: 0.6580| Test: 0.6510| Eval Time: 0.5076s\n",
      "Epoch 13| Loss: 0.0666| Acc: 0.9833| Train Time: 0.0919s\n"
     ]
    },
    {
     "name": "stderr",
     "output_type": "stream",
     "text": [
      "Evaluating: 100%|██████████| 9981/9981 [00:00<00:00, 16730.98it/s]\n"
     ]
    },
    {
     "name": "stdout",
     "output_type": "stream",
     "text": [
      "Train: 1.0000| Val: 0.6620| Test: 0.6660| Eval Time: 0.6054s\n",
      "Epoch 14| Loss: 0.0182| Acc: 1.0000| Train Time: 0.0909s\n"
     ]
    },
    {
     "name": "stderr",
     "output_type": "stream",
     "text": [
      "Evaluating: 100%|██████████| 9981/9981 [00:00<00:00, 16700.18it/s]\n"
     ]
    },
    {
     "name": "stdout",
     "output_type": "stream",
     "text": [
      "Train: 1.0000| Val: 0.6760| Test: 0.6750| Eval Time: 0.6056s\n",
      "Epoch 15| Loss: 0.0213| Acc: 0.9917| Train Time: 0.1017s\n"
     ]
    },
    {
     "name": "stderr",
     "output_type": "stream",
     "text": [
      "Evaluating: 100%|██████████| 9981/9981 [00:00<00:00, 17049.61it/s]\n"
     ]
    },
    {
     "name": "stdout",
     "output_type": "stream",
     "text": [
      "Train: 0.9917| Val: 0.6760| Test: 0.6800| Eval Time: 0.5940s\n",
      "Epoch 16| Loss: 0.0036| Acc: 1.0000| Train Time: 0.0949s\n"
     ]
    },
    {
     "name": "stderr",
     "output_type": "stream",
     "text": [
      "Evaluating: 100%|██████████| 9981/9981 [00:00<00:00, 19810.65it/s]\n"
     ]
    },
    {
     "name": "stdout",
     "output_type": "stream",
     "text": [
      "Train: 0.9917| Val: 0.6800| Test: 0.6810| Eval Time: 0.5115s\n",
      "Epoch 17| Loss: 0.0255| Acc: 0.9833| Train Time: 0.0937s\n"
     ]
    },
    {
     "name": "stderr",
     "output_type": "stream",
     "text": [
      "Evaluating: 100%|██████████| 9981/9981 [00:00<00:00, 17240.75it/s]\n"
     ]
    },
    {
     "name": "stdout",
     "output_type": "stream",
     "text": [
      "Train: 0.9917| Val: 0.6840| Test: 0.6860| Eval Time: 0.5878s\n",
      "Epoch 18| Loss: 0.0109| Acc: 1.0000| Train Time: 0.0279s\n"
     ]
    },
    {
     "name": "stderr",
     "output_type": "stream",
     "text": [
      "Evaluating: 100%|██████████| 9981/9981 [00:00<00:00, 16616.01it/s]\n"
     ]
    },
    {
     "name": "stdout",
     "output_type": "stream",
     "text": [
      "Train: 0.9917| Val: 0.6880| Test: 0.6860| Eval Time: 0.6142s\n",
      "Epoch 19| Loss: 0.0005| Acc: 1.0000| Train Time: 0.0999s\n"
     ]
    },
    {
     "name": "stderr",
     "output_type": "stream",
     "text": [
      "Evaluating: 100%|██████████| 9981/9981 [00:00<00:00, 19335.08it/s]\n"
     ]
    },
    {
     "name": "stdout",
     "output_type": "stream",
     "text": [
      "Train: 0.9917| Val: 0.6820| Test: 0.6860| Eval Time: 0.5231s\n",
      "Epoch 20| Loss: 0.0493| Acc: 0.9833| Train Time: 0.0954s\n"
     ]
    },
    {
     "name": "stderr",
     "output_type": "stream",
     "text": [
      "Evaluating: 100%|██████████| 9981/9981 [00:00<00:00, 17110.16it/s]\n"
     ]
    },
    {
     "name": "stdout",
     "output_type": "stream",
     "text": [
      "Train: 1.0000| Val: 0.6800| Test: 0.6810| Eval Time: 0.5894s\n",
      "Epoch 21| Loss: 0.0511| Acc: 0.9917| Train Time: 0.0998s\n"
     ]
    },
    {
     "name": "stderr",
     "output_type": "stream",
     "text": [
      "Evaluating: 100%|██████████| 9981/9981 [00:00<00:00, 17268.25it/s]\n"
     ]
    },
    {
     "name": "stdout",
     "output_type": "stream",
     "text": [
      "Train: 1.0000| Val: 0.6800| Test: 0.6790| Eval Time: 0.5868s\n",
      "Epoch 22| Loss: 0.0102| Acc: 0.9917| Train Time: 0.0994s\n"
     ]
    },
    {
     "name": "stderr",
     "output_type": "stream",
     "text": [
      "Evaluating: 100%|██████████| 9981/9981 [00:00<00:00, 19384.15it/s]\n"
     ]
    },
    {
     "name": "stdout",
     "output_type": "stream",
     "text": [
      "Train: 1.0000| Val: 0.6860| Test: 0.6770| Eval Time: 0.5209s\n",
      "Epoch 23| Loss: 0.0046| Acc: 1.0000| Train Time: 0.1018s\n"
     ]
    },
    {
     "name": "stderr",
     "output_type": "stream",
     "text": [
      "Evaluating: 100%|██████████| 9981/9981 [00:00<00:00, 20024.37it/s]\n"
     ]
    },
    {
     "name": "stdout",
     "output_type": "stream",
     "text": [
      "Train: 1.0000| Val: 0.6900| Test: 0.6850| Eval Time: 0.5748s\n",
      "Epoch 24| Loss: 0.0062| Acc: 1.0000| Train Time: 0.1025s\n"
     ]
    },
    {
     "name": "stderr",
     "output_type": "stream",
     "text": [
      "Evaluating: 100%|██████████| 9981/9981 [00:00<00:00, 19290.87it/s]\n"
     ]
    },
    {
     "name": "stdout",
     "output_type": "stream",
     "text": [
      "Train: 1.0000| Val: 0.6880| Test: 0.6850| Eval Time: 0.5237s\n",
      "Epoch 25| Loss: 0.0452| Acc: 0.9917| Train Time: 0.0970s\n"
     ]
    },
    {
     "name": "stderr",
     "output_type": "stream",
     "text": [
      "Evaluating: 100%|██████████| 9981/9981 [00:00<00:00, 16535.90it/s]\n"
     ]
    },
    {
     "name": "stdout",
     "output_type": "stream",
     "text": [
      "Train: 1.0000| Val: 0.6860| Test: 0.6810| Eval Time: 0.6793s\n",
      "Epoch 26| Loss: 0.0034| Acc: 1.0000| Train Time: 0.1002s\n"
     ]
    },
    {
     "name": "stderr",
     "output_type": "stream",
     "text": [
      "Evaluating: 100%|██████████| 9981/9981 [00:00<00:00, 16767.46it/s]\n"
     ]
    },
    {
     "name": "stdout",
     "output_type": "stream",
     "text": [
      "Train: 1.0000| Val: 0.6820| Test: 0.6820| Eval Time: 0.6053s\n",
      "Epoch 27| Loss: 0.0091| Acc: 0.9917| Train Time: 0.0959s\n"
     ]
    },
    {
     "name": "stderr",
     "output_type": "stream",
     "text": [
      "Evaluating: 100%|██████████| 9981/9981 [00:00<00:00, 16715.55it/s]\n"
     ]
    },
    {
     "name": "stdout",
     "output_type": "stream",
     "text": [
      "Train: 1.0000| Val: 0.6800| Test: 0.6810| Eval Time: 0.6070s\n",
      "Epoch 28| Loss: 0.0022| Acc: 1.0000| Train Time: 0.1000s\n"
     ]
    },
    {
     "name": "stderr",
     "output_type": "stream",
     "text": [
      "Evaluating: 100%|██████████| 9981/9981 [00:00<00:00, 17364.92it/s]\n"
     ]
    },
    {
     "name": "stdout",
     "output_type": "stream",
     "text": [
      "Train: 1.0000| Val: 0.6780| Test: 0.6790| Eval Time: 0.5850s\n",
      "Epoch 29| Loss: 0.0032| Acc: 1.0000| Train Time: 0.0926s\n"
     ]
    },
    {
     "name": "stderr",
     "output_type": "stream",
     "text": [
      "Evaluating: 100%|██████████| 9981/9981 [00:00<00:00, 19582.10it/s]\n"
     ]
    },
    {
     "name": "stdout",
     "output_type": "stream",
     "text": [
      "Train: 1.0000| Val: 0.6800| Test: 0.6820| Eval Time: 0.5183s\n",
      "Epoch 30| Loss: 0.0002| Acc: 1.0000| Train Time: 0.0964s\n"
     ]
    },
    {
     "name": "stderr",
     "output_type": "stream",
     "text": [
      "Evaluating: 100%|██████████| 9981/9981 [00:00<00:00, 16902.22it/s]\n"
     ]
    },
    {
     "name": "stdout",
     "output_type": "stream",
     "text": [
      "Train: 1.0000| Val: 0.6780| Test: 0.6770| Eval Time: 0.5998s\n",
      "Epoch 31| Loss: 0.0002| Acc: 1.0000| Train Time: 0.1033s\n"
     ]
    },
    {
     "name": "stderr",
     "output_type": "stream",
     "text": [
      "Evaluating: 100%|██████████| 9981/9981 [00:00<00:00, 16981.49it/s]\n"
     ]
    },
    {
     "name": "stdout",
     "output_type": "stream",
     "text": [
      "Train: 1.0000| Val: 0.6760| Test: 0.6730| Eval Time: 0.5967s\n",
      "Epoch 32| Loss: 0.0002| Acc: 1.0000| Train Time: 0.0925s\n"
     ]
    },
    {
     "name": "stderr",
     "output_type": "stream",
     "text": [
      "Evaluating: 100%|██████████| 9981/9981 [00:00<00:00, 19435.66it/s]\n"
     ]
    },
    {
     "name": "stdout",
     "output_type": "stream",
     "text": [
      "Train: 1.0000| Val: 0.6740| Test: 0.6690| Eval Time: 0.5203s\n",
      "Epoch 33| Loss: 0.0003| Acc: 1.0000| Train Time: 0.0341s\n"
     ]
    },
    {
     "name": "stderr",
     "output_type": "stream",
     "text": [
      "Evaluating: 100%|██████████| 9981/9981 [00:00<00:00, 19105.91it/s]\n"
     ]
    },
    {
     "name": "stdout",
     "output_type": "stream",
     "text": [
      "Train: 1.0000| Val: 0.6740| Test: 0.6680| Eval Time: 0.5943s\n",
      "\n",
      "Result of  4. run| Train: 0.9500| Val: 0.7040| Test: 0.6940\n",
      "\n",
      "Run 05 for GatV2_K1_D3_s and CiteSeer:\n"
     ]
    },
    {
     "name": "stderr",
     "output_type": "stream",
     "text": [
      "Epoch 01: 100%|██████████| 120/120 [00:00<00:00, 1179.62it/s]\n"
     ]
    },
    {
     "name": "stdout",
     "output_type": "stream",
     "text": [
      "Epoch 01| Loss: 1.8400| Acc: 0.1750| Train Time: 0.1681s\n"
     ]
    },
    {
     "name": "stderr",
     "output_type": "stream",
     "text": [
      "Evaluating: 100%|██████████| 9981/9981 [00:00<00:00, 19331.04it/s]\n"
     ]
    },
    {
     "name": "stdout",
     "output_type": "stream",
     "text": [
      "Train: 0.7667| Val: 0.4780| Test: 0.4410| Eval Time: 0.5268s\n",
      "Epoch 02| Loss: 1.3870| Acc: 0.5750| Train Time: 0.0934s\n"
     ]
    },
    {
     "name": "stderr",
     "output_type": "stream",
     "text": [
      "Evaluating: 100%|██████████| 9981/9981 [00:00<00:00, 16784.58it/s]\n"
     ]
    },
    {
     "name": "stdout",
     "output_type": "stream",
     "text": [
      "Train: 0.9250| Val: 0.7000| Test: 0.7030| Eval Time: 0.6017s\n",
      "Epoch 03| Loss: 0.9761| Acc: 0.7583| Train Time: 0.0983s\n"
     ]
    },
    {
     "name": "stderr",
     "output_type": "stream",
     "text": [
      "Evaluating: 100%|██████████| 9981/9981 [00:00<00:00, 17191.62it/s]\n"
     ]
    },
    {
     "name": "stdout",
     "output_type": "stream",
     "text": [
      "Train: 0.9417| Val: 0.6800| Test: 0.6840| Eval Time: 0.5922s\n",
      "Epoch 04| Loss: 0.6171| Acc: 0.8500| Train Time: 0.1002s\n"
     ]
    },
    {
     "name": "stderr",
     "output_type": "stream",
     "text": [
      "Evaluating: 100%|██████████| 9981/9981 [00:00<00:00, 17095.11it/s]\n"
     ]
    },
    {
     "name": "stdout",
     "output_type": "stream",
     "text": [
      "Train: 0.9750| Val: 0.6780| Test: 0.6700| Eval Time: 0.5912s\n",
      "Epoch 05| Loss: 0.3172| Acc: 0.9417| Train Time: 0.0236s\n"
     ]
    },
    {
     "name": "stderr",
     "output_type": "stream",
     "text": [
      "Evaluating: 100%|██████████| 9981/9981 [00:00<00:00, 16901.71it/s]\n"
     ]
    },
    {
     "name": "stdout",
     "output_type": "stream",
     "text": [
      "Train: 0.9917| Val: 0.6720| Test: 0.6680| Eval Time: 0.5967s\n",
      "Epoch 06| Loss: 0.2089| Acc: 0.9417| Train Time: 0.1005s\n"
     ]
    },
    {
     "name": "stderr",
     "output_type": "stream",
     "text": [
      "Evaluating: 100%|██████████| 9981/9981 [00:00<00:00, 17227.72it/s]\n"
     ]
    },
    {
     "name": "stdout",
     "output_type": "stream",
     "text": [
      "Train: 1.0000| Val: 0.6640| Test: 0.6470| Eval Time: 0.5886s\n",
      "Epoch 07| Loss: 0.1242| Acc: 0.9750| Train Time: 0.0946s\n"
     ]
    },
    {
     "name": "stderr",
     "output_type": "stream",
     "text": [
      "Evaluating: 100%|██████████| 9981/9981 [00:00<00:00, 17054.68it/s]\n"
     ]
    },
    {
     "name": "stdout",
     "output_type": "stream",
     "text": [
      "Train: 0.9917| Val: 0.6460| Test: 0.6250| Eval Time: 0.5946s\n",
      "Epoch 08| Loss: 0.0483| Acc: 0.9917| Train Time: 0.0248s\n"
     ]
    },
    {
     "name": "stderr",
     "output_type": "stream",
     "text": [
      "Evaluating: 100%|██████████| 9981/9981 [00:00<00:00, 19511.92it/s]\n"
     ]
    },
    {
     "name": "stdout",
     "output_type": "stream",
     "text": [
      "Train: 0.9917| Val: 0.6520| Test: 0.6230| Eval Time: 0.5212s\n",
      "Epoch 09| Loss: 0.0494| Acc: 0.9750| Train Time: 0.0951s\n"
     ]
    },
    {
     "name": "stderr",
     "output_type": "stream",
     "text": [
      "Evaluating: 100%|██████████| 9981/9981 [00:00<00:00, 19544.88it/s]\n"
     ]
    },
    {
     "name": "stdout",
     "output_type": "stream",
     "text": [
      "Train: 1.0000| Val: 0.6560| Test: 0.6410| Eval Time: 0.5837s\n",
      "Epoch 10| Loss: 0.0342| Acc: 0.9833| Train Time: 0.0985s\n"
     ]
    },
    {
     "name": "stderr",
     "output_type": "stream",
     "text": [
      "Evaluating: 100%|██████████| 9981/9981 [00:00<00:00, 19540.38it/s]\n"
     ]
    },
    {
     "name": "stdout",
     "output_type": "stream",
     "text": [
      "Train: 1.0000| Val: 0.6540| Test: 0.6450| Eval Time: 0.5200s\n",
      "Epoch 11| Loss: 0.0368| Acc: 0.9917| Train Time: 0.0981s\n"
     ]
    },
    {
     "name": "stderr",
     "output_type": "stream",
     "text": [
      "Evaluating: 100%|██████████| 9981/9981 [00:00<00:00, 17225.95it/s]\n"
     ]
    },
    {
     "name": "stdout",
     "output_type": "stream",
     "text": [
      "Train: 1.0000| Val: 0.6660| Test: 0.6590| Eval Time: 0.5926s\n",
      "Epoch 12| Loss: 0.0537| Acc: 0.9917| Train Time: 0.1013s\n"
     ]
    },
    {
     "name": "stderr",
     "output_type": "stream",
     "text": [
      "Evaluating: 100%|██████████| 9981/9981 [00:00<00:00, 19874.52it/s]\n"
     ]
    },
    {
     "name": "stdout",
     "output_type": "stream",
     "text": [
      "Train: 1.0000| Val: 0.6640| Test: 0.6690| Eval Time: 0.5096s\n",
      "Epoch 13| Loss: 0.0481| Acc: 0.9833| Train Time: 0.0974s\n"
     ]
    },
    {
     "name": "stderr",
     "output_type": "stream",
     "text": [
      "Evaluating: 100%|██████████| 9981/9981 [00:00<00:00, 17264.74it/s]\n"
     ]
    },
    {
     "name": "stdout",
     "output_type": "stream",
     "text": [
      "Train: 1.0000| Val: 0.6640| Test: 0.6740| Eval Time: 0.5895s\n",
      "Epoch 14| Loss: 0.0718| Acc: 0.9917| Train Time: 0.0931s\n"
     ]
    },
    {
     "name": "stderr",
     "output_type": "stream",
     "text": [
      "Evaluating: 100%|██████████| 9981/9981 [00:00<00:00, 19315.16it/s]\n"
     ]
    },
    {
     "name": "stdout",
     "output_type": "stream",
     "text": [
      "Train: 1.0000| Val: 0.6740| Test: 0.6730| Eval Time: 0.5240s\n",
      "Epoch 15| Loss: 0.0459| Acc: 0.9833| Train Time: 0.0962s\n"
     ]
    },
    {
     "name": "stderr",
     "output_type": "stream",
     "text": [
      "Evaluating: 100%|██████████| 9981/9981 [00:00<00:00, 17172.17it/s]\n"
     ]
    },
    {
     "name": "stdout",
     "output_type": "stream",
     "text": [
      "Train: 1.0000| Val: 0.6800| Test: 0.6680| Eval Time: 0.5907s\n",
      "Epoch 16| Loss: 0.1093| Acc: 0.9750| Train Time: 0.0959s\n"
     ]
    },
    {
     "name": "stderr",
     "output_type": "stream",
     "text": [
      "Evaluating: 100%|██████████| 9981/9981 [00:00<00:00, 19805.17it/s]\n"
     ]
    },
    {
     "name": "stdout",
     "output_type": "stream",
     "text": [
      "Train: 1.0000| Val: 0.6780| Test: 0.6610| Eval Time: 0.5127s\n",
      "Epoch 17| Loss: 0.0466| Acc: 0.9833| Train Time: 0.0901s\n"
     ]
    },
    {
     "name": "stderr",
     "output_type": "stream",
     "text": [
      "Evaluating: 100%|██████████| 9981/9981 [00:00<00:00, 19509.15it/s]\n"
     ]
    },
    {
     "name": "stdout",
     "output_type": "stream",
     "text": [
      "Train: 1.0000| Val: 0.6620| Test: 0.6530| Eval Time: 0.5843s\n",
      "Epoch 18| Loss: 0.0186| Acc: 0.9917| Train Time: 0.0959s\n"
     ]
    },
    {
     "name": "stderr",
     "output_type": "stream",
     "text": [
      "Evaluating: 100%|██████████| 9981/9981 [00:00<00:00, 19579.86it/s]\n"
     ]
    },
    {
     "name": "stdout",
     "output_type": "stream",
     "text": [
      "Train: 1.0000| Val: 0.6640| Test: 0.6600| Eval Time: 0.5191s\n",
      "Epoch 19| Loss: 0.0316| Acc: 0.9917| Train Time: 0.0952s\n"
     ]
    },
    {
     "name": "stderr",
     "output_type": "stream",
     "text": [
      "Evaluating: 100%|██████████| 9981/9981 [00:00<00:00, 19540.03it/s]\n"
     ]
    },
    {
     "name": "stdout",
     "output_type": "stream",
     "text": [
      "Train: 1.0000| Val: 0.6700| Test: 0.6620| Eval Time: 0.5175s\n",
      "Epoch 20| Loss: 0.0174| Acc: 0.9917| Train Time: 0.1690s\n"
     ]
    },
    {
     "name": "stderr",
     "output_type": "stream",
     "text": [
      "Evaluating: 100%|██████████| 9981/9981 [00:00<00:00, 19241.77it/s]\n"
     ]
    },
    {
     "name": "stdout",
     "output_type": "stream",
     "text": [
      "Train: 1.0000| Val: 0.6600| Test: 0.6560| Eval Time: 0.5279s\n",
      "Epoch 21| Loss: 0.0739| Acc: 0.9833| Train Time: 0.1006s\n"
     ]
    },
    {
     "name": "stderr",
     "output_type": "stream",
     "text": [
      "Evaluating: 100%|██████████| 9981/9981 [00:00<00:00, 14858.36it/s]\n"
     ]
    },
    {
     "name": "stdout",
     "output_type": "stream",
     "text": [
      "Train: 1.0000| Val: 0.6440| Test: 0.6560| Eval Time: 0.6813s\n",
      "Epoch 22| Loss: 0.0356| Acc: 0.9833| Train Time: 0.0964s\n"
     ]
    },
    {
     "name": "stderr",
     "output_type": "stream",
     "text": [
      "Evaluating: 100%|██████████| 9981/9981 [00:00<00:00, 16953.56it/s]\n"
     ]
    },
    {
     "name": "stdout",
     "output_type": "stream",
     "text": [
      "Train: 1.0000| Val: 0.6460| Test: 0.6610| Eval Time: 0.6010s\n",
      "Epoch 23| Loss: 0.0002| Acc: 1.0000| Train Time: 0.0981s\n"
     ]
    },
    {
     "name": "stderr",
     "output_type": "stream",
     "text": [
      "Evaluating: 100%|██████████| 9981/9981 [00:00<00:00, 16705.79it/s]\n"
     ]
    },
    {
     "name": "stdout",
     "output_type": "stream",
     "text": [
      "Train: 1.0000| Val: 0.6520| Test: 0.6600| Eval Time: 0.6067s\n",
      "Epoch 24| Loss: 0.0043| Acc: 1.0000| Train Time: 0.0950s\n"
     ]
    },
    {
     "name": "stderr",
     "output_type": "stream",
     "text": [
      "Evaluating: 100%|██████████| 9981/9981 [00:00<00:00, 19469.58it/s]\n"
     ]
    },
    {
     "name": "stdout",
     "output_type": "stream",
     "text": [
      "Train: 1.0000| Val: 0.6580| Test: 0.6630| Eval Time: 0.5850s\n",
      "Epoch 25| Loss: 0.0018| Acc: 1.0000| Train Time: 0.0355s\n"
     ]
    },
    {
     "name": "stderr",
     "output_type": "stream",
     "text": [
      "Evaluating: 100%|██████████| 9981/9981 [00:00<00:00, 19071.76it/s]\n"
     ]
    },
    {
     "name": "stdout",
     "output_type": "stream",
     "text": [
      "Train: 1.0000| Val: 0.6520| Test: 0.6570| Eval Time: 0.5907s\n",
      "Epoch 26| Loss: 0.0039| Acc: 1.0000| Train Time: 0.0935s\n"
     ]
    },
    {
     "name": "stderr",
     "output_type": "stream",
     "text": [
      "Evaluating: 100%|██████████| 9981/9981 [00:00<00:00, 19701.82it/s]\n"
     ]
    },
    {
     "name": "stdout",
     "output_type": "stream",
     "text": [
      "Train: 1.0000| Val: 0.6520| Test: 0.6560| Eval Time: 0.5779s\n",
      "Epoch 27| Loss: 0.0046| Acc: 1.0000| Train Time: 0.0359s\n"
     ]
    },
    {
     "name": "stderr",
     "output_type": "stream",
     "text": [
      "Evaluating: 100%|██████████| 9981/9981 [00:00<00:00, 19281.97it/s]\n"
     ]
    },
    {
     "name": "stdout",
     "output_type": "stream",
     "text": [
      "Train: 1.0000| Val: 0.6460| Test: 0.6570| Eval Time: 0.5869s\n",
      "Epoch 28| Loss: 0.0200| Acc: 0.9833| Train Time: 0.0996s\n"
     ]
    },
    {
     "name": "stderr",
     "output_type": "stream",
     "text": [
      "Evaluating: 100%|██████████| 9981/9981 [00:00<00:00, 16849.13it/s]\n"
     ]
    },
    {
     "name": "stdout",
     "output_type": "stream",
     "text": [
      "Train: 1.0000| Val: 0.6480| Test: 0.6570| Eval Time: 0.5999s\n",
      "Epoch 29| Loss: 0.0005| Acc: 1.0000| Train Time: 0.0977s\n"
     ]
    },
    {
     "name": "stderr",
     "output_type": "stream",
     "text": [
      "Evaluating: 100%|██████████| 9981/9981 [00:00<00:00, 20126.03it/s]\n"
     ]
    },
    {
     "name": "stdout",
     "output_type": "stream",
     "text": [
      "Train: 1.0000| Val: 0.6440| Test: 0.6540| Eval Time: 0.5018s\n",
      "Epoch 30| Loss: 0.0489| Acc: 0.9917| Train Time: 0.0920s\n"
     ]
    },
    {
     "name": "stderr",
     "output_type": "stream",
     "text": [
      "Evaluating: 100%|██████████| 9981/9981 [00:00<00:00, 16673.91it/s]\n"
     ]
    },
    {
     "name": "stdout",
     "output_type": "stream",
     "text": [
      "Train: 1.0000| Val: 0.6540| Test: 0.6610| Eval Time: 0.6079s\n",
      "Epoch 31| Loss: 0.0921| Acc: 0.9917| Train Time: 0.0944s\n"
     ]
    },
    {
     "name": "stderr",
     "output_type": "stream",
     "text": [
      "Evaluating: 100%|██████████| 9981/9981 [00:00<00:00, 17213.59it/s]\n"
     ]
    },
    {
     "name": "stdout",
     "output_type": "stream",
     "text": [
      "Train: 1.0000| Val: 0.6520| Test: 0.6700| Eval Time: 0.5906s\n",
      "Epoch 32| Loss: 0.0003| Acc: 1.0000| Train Time: 0.0999s\n"
     ]
    },
    {
     "name": "stderr",
     "output_type": "stream",
     "text": [
      "Evaluating: 100%|██████████| 9981/9981 [00:00<00:00, 16607.98it/s]\n"
     ]
    },
    {
     "name": "stdout",
     "output_type": "stream",
     "text": [
      "Train: 1.0000| Val: 0.6520| Test: 0.6780| Eval Time: 0.6096s\n",
      "\n",
      "Result of  5. run| Train: 0.9250| Val: 0.7000| Test: 0.7030\n",
      "\n",
      "Run 06 for GatV2_K1_D3_s and CiteSeer:\n"
     ]
    },
    {
     "name": "stderr",
     "output_type": "stream",
     "text": [
      "Epoch 01: 100%|██████████| 120/120 [00:00<00:00, 1142.73it/s]\n"
     ]
    },
    {
     "name": "stdout",
     "output_type": "stream",
     "text": [
      "Epoch 01| Loss: 1.8818| Acc: 0.1000| Train Time: 0.1076s\n"
     ]
    },
    {
     "name": "stderr",
     "output_type": "stream",
     "text": [
      "Evaluating: 100%|██████████| 9981/9981 [00:00<00:00, 23471.41it/s]\n"
     ]
    },
    {
     "name": "stdout",
     "output_type": "stream",
     "text": [
      "Train: 0.9000| Val: 0.5900| Test: 0.6100| Eval Time: 0.4352s\n",
      "Epoch 02| Loss: 1.4599| Acc: 0.5917| Train Time: 0.1669s\n"
     ]
    },
    {
     "name": "stderr",
     "output_type": "stream",
     "text": [
      "Evaluating: 100%|██████████| 9981/9981 [00:00<00:00, 23369.07it/s]\n"
     ]
    },
    {
     "name": "stdout",
     "output_type": "stream",
     "text": [
      "Train: 0.9333| Val: 0.6060| Test: 0.6210| Eval Time: 0.5008s\n",
      "Epoch 03| Loss: 1.0564| Acc: 0.7333| Train Time: 0.0309s\n"
     ]
    },
    {
     "name": "stderr",
     "output_type": "stream",
     "text": [
      "Evaluating: 100%|██████████| 9981/9981 [00:00<00:00, 19079.42it/s]\n"
     ]
    },
    {
     "name": "stdout",
     "output_type": "stream",
     "text": [
      "Train: 0.9583| Val: 0.6960| Test: 0.7000| Eval Time: 0.5322s\n",
      "Epoch 04| Loss: 0.6906| Acc: 0.8083| Train Time: 0.0983s\n"
     ]
    },
    {
     "name": "stderr",
     "output_type": "stream",
     "text": [
      "Evaluating: 100%|██████████| 9981/9981 [00:00<00:00, 20244.45it/s]\n"
     ]
    },
    {
     "name": "stdout",
     "output_type": "stream",
     "text": [
      "Train: 0.9583| Val: 0.7040| Test: 0.6830| Eval Time: 0.5014s\n",
      "Epoch 05| Loss: 0.4077| Acc: 0.8833| Train Time: 0.0990s\n"
     ]
    },
    {
     "name": "stderr",
     "output_type": "stream",
     "text": [
      "Evaluating: 100%|██████████| 9981/9981 [00:00<00:00, 16920.93it/s]\n"
     ]
    },
    {
     "name": "stdout",
     "output_type": "stream",
     "text": [
      "Train: 1.0000| Val: 0.7060| Test: 0.6870| Eval Time: 0.5971s\n",
      "Epoch 06| Loss: 0.2514| Acc: 0.9250| Train Time: 0.0934s\n"
     ]
    },
    {
     "name": "stderr",
     "output_type": "stream",
     "text": [
      "Evaluating: 100%|██████████| 9981/9981 [00:00<00:00, 16962.22it/s]\n"
     ]
    },
    {
     "name": "stdout",
     "output_type": "stream",
     "text": [
      "Train: 1.0000| Val: 0.7020| Test: 0.6880| Eval Time: 0.5977s\n",
      "Epoch 07| Loss: 0.0970| Acc: 0.9833| Train Time: 0.0910s\n"
     ]
    },
    {
     "name": "stderr",
     "output_type": "stream",
     "text": [
      "Evaluating: 100%|██████████| 9981/9981 [00:00<00:00, 19515.59it/s]\n"
     ]
    },
    {
     "name": "stdout",
     "output_type": "stream",
     "text": [
      "Train: 1.0000| Val: 0.6980| Test: 0.6870| Eval Time: 0.5179s\n",
      "Epoch 08| Loss: 0.0451| Acc: 0.9917| Train Time: 0.0977s\n"
     ]
    },
    {
     "name": "stderr",
     "output_type": "stream",
     "text": [
      "Evaluating: 100%|██████████| 9981/9981 [00:00<00:00, 20121.45it/s]\n"
     ]
    },
    {
     "name": "stdout",
     "output_type": "stream",
     "text": [
      "Train: 0.9917| Val: 0.7040| Test: 0.6880| Eval Time: 0.5020s\n",
      "Epoch 09| Loss: 0.0780| Acc: 0.9833| Train Time: 0.0978s\n"
     ]
    },
    {
     "name": "stderr",
     "output_type": "stream",
     "text": [
      "Evaluating: 100%|██████████| 9981/9981 [00:00<00:00, 17430.76it/s]\n"
     ]
    },
    {
     "name": "stdout",
     "output_type": "stream",
     "text": [
      "Train: 0.9917| Val: 0.6860| Test: 0.6770| Eval Time: 0.5822s\n",
      "Epoch 10| Loss: 0.0615| Acc: 0.9750| Train Time: 0.1009s\n"
     ]
    },
    {
     "name": "stderr",
     "output_type": "stream",
     "text": [
      "Evaluating: 100%|██████████| 9981/9981 [00:00<00:00, 20074.71it/s]\n"
     ]
    },
    {
     "name": "stdout",
     "output_type": "stream",
     "text": [
      "Train: 0.9917| Val: 0.6700| Test: 0.6660| Eval Time: 0.5044s\n",
      "Epoch 11| Loss: 0.0157| Acc: 1.0000| Train Time: 0.0969s\n"
     ]
    },
    {
     "name": "stderr",
     "output_type": "stream",
     "text": [
      "Evaluating: 100%|██████████| 9981/9981 [00:00<00:00, 19367.60it/s]\n"
     ]
    },
    {
     "name": "stdout",
     "output_type": "stream",
     "text": [
      "Train: 0.9917| Val: 0.6600| Test: 0.6570| Eval Time: 0.5918s\n",
      "Epoch 12| Loss: 0.0128| Acc: 0.9917| Train Time: 0.1011s\n"
     ]
    },
    {
     "name": "stderr",
     "output_type": "stream",
     "text": [
      "Evaluating: 100%|██████████| 9981/9981 [00:00<00:00, 19731.87it/s]\n"
     ]
    },
    {
     "name": "stdout",
     "output_type": "stream",
     "text": [
      "Train: 0.9917| Val: 0.6460| Test: 0.6550| Eval Time: 0.5141s\n",
      "Epoch 13| Loss: 0.0459| Acc: 0.9750| Train Time: 0.1004s\n"
     ]
    },
    {
     "name": "stderr",
     "output_type": "stream",
     "text": [
      "Evaluating: 100%|██████████| 9981/9981 [00:00<00:00, 17300.80it/s]\n"
     ]
    },
    {
     "name": "stdout",
     "output_type": "stream",
     "text": [
      "Train: 1.0000| Val: 0.6620| Test: 0.6550| Eval Time: 0.5881s\n",
      "Epoch 14| Loss: 0.0404| Acc: 0.9750| Train Time: 0.0973s\n"
     ]
    },
    {
     "name": "stderr",
     "output_type": "stream",
     "text": [
      "Evaluating: 100%|██████████| 9981/9981 [00:00<00:00, 19272.75it/s]\n"
     ]
    },
    {
     "name": "stdout",
     "output_type": "stream",
     "text": [
      "Train: 1.0000| Val: 0.6600| Test: 0.6540| Eval Time: 0.5246s\n",
      "Epoch 15| Loss: 0.0053| Acc: 1.0000| Train Time: 0.1012s\n"
     ]
    },
    {
     "name": "stderr",
     "output_type": "stream",
     "text": [
      "Evaluating: 100%|██████████| 9981/9981 [00:00<00:00, 20081.09it/s]\n"
     ]
    },
    {
     "name": "stdout",
     "output_type": "stream",
     "text": [
      "Train: 1.0000| Val: 0.6760| Test: 0.6590| Eval Time: 0.5087s\n",
      "Epoch 16| Loss: 0.0119| Acc: 0.9917| Train Time: 0.0277s\n"
     ]
    },
    {
     "name": "stderr",
     "output_type": "stream",
     "text": [
      "Evaluating: 100%|██████████| 9981/9981 [00:00<00:00, 18981.29it/s]\n"
     ]
    },
    {
     "name": "stdout",
     "output_type": "stream",
     "text": [
      "Train: 1.0000| Val: 0.6820| Test: 0.6590| Eval Time: 0.5353s\n",
      "Epoch 17| Loss: 0.0086| Acc: 1.0000| Train Time: 0.1663s\n"
     ]
    },
    {
     "name": "stderr",
     "output_type": "stream",
     "text": [
      "Evaluating: 100%|██████████| 9981/9981 [00:00<00:00, 19615.59it/s]\n"
     ]
    },
    {
     "name": "stdout",
     "output_type": "stream",
     "text": [
      "Train: 1.0000| Val: 0.6820| Test: 0.6620| Eval Time: 0.5180s\n",
      "Epoch 18| Loss: 0.1033| Acc: 0.9917| Train Time: 0.0936s\n"
     ]
    },
    {
     "name": "stderr",
     "output_type": "stream",
     "text": [
      "Evaluating: 100%|██████████| 9981/9981 [00:00<00:00, 19708.16it/s]\n"
     ]
    },
    {
     "name": "stdout",
     "output_type": "stream",
     "text": [
      "Train: 1.0000| Val: 0.6780| Test: 0.6680| Eval Time: 0.5136s\n",
      "Epoch 19| Loss: 0.0041| Acc: 1.0000| Train Time: 0.0942s\n"
     ]
    },
    {
     "name": "stderr",
     "output_type": "stream",
     "text": [
      "Evaluating:  49%|████▊     | 4863/9981 [00:00<00:00, 24838.41it/s]"
     ]
    }
   ],
   "source": [
    "models     = [ModelType.GATV2, ModelType.TRANS]\r\n",
    "datasets   = [Dataset.CITESEER, Dataset.CORA, Dataset.PUBMED]\r\n",
    "degrees    = [1,2,3,4,5,6,7,8,9,10]\r\n",
    "num_layers = [3]\r\n",
    "sparse     = [True]\r\n",
    "adj_modes  = [AdjacencyMode.OneStep]\r\n",
    "aggr_modes = [AggrMode.NONE]\r\n",
    "\r\n",
    "runExperiments(models, datasets, degrees, sparse, num_layers, adj_modes, aggr_modes)"
   ]
  },
  {
   "cell_type": "code",
   "execution_count": null,
   "metadata": {},
   "outputs": [],
   "source": []
  }
 ],
 "metadata": {
  "interpreter": {
   "hash": "b8be38cac5e07419459cc1d2fe0e04c6cbe36991c6a4efd3c9a636608bfd9cde"
  },
  "kernelspec": {
   "display_name": "Python [conda env:.conda-PSN]",
   "language": "python",
   "name": "conda-env-.conda-PSN-py"
  },
  "language_info": {
   "codemirror_mode": {
    "name": "ipython",
    "version": 3
   },
   "file_extension": ".py",
   "mimetype": "text/x-python",
   "name": "python",
   "nbconvert_exporter": "python",
   "pygments_lexer": "ipython3",
   "version": "3.8.10"
  }
 },
 "nbformat": 4,
 "nbformat_minor": 4
}
