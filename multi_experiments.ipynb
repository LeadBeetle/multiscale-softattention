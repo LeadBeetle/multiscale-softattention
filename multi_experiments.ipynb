{
 "cells": [
  {
   "cell_type": "code",
   "execution_count": 1,
   "source": [
    "from utils.experimentorUtils import getExperimentor\r\n",
    "from utils.constants import *"
   ],
   "outputs": [],
   "metadata": {}
  },
  {
   "cell_type": "code",
   "execution_count": 2,
   "source": [
    "config = {\r\n",
    "    \"dataset_name\": Dataset.CORA,\r\n",
    "    \"model_type\": ModelType.GATV1,\r\n",
    "    'num_of_epochs': 500,\r\n",
    "    'num_of_runs': 5,\r\n",
    "    'patience_period': 50,\r\n",
    "    \r\n",
    "    'batch_size': 256,\r\n",
    "    'test_batch_size': 256,\r\n",
    "    'num_workers': 0,\r\n",
    "    'force_cpu': False,\r\n",
    "    'test_frequency': 1,\r\n",
    "    'console_log_freq': 1,\r\n",
    "    'do_train_tqdm_logging': False,\r\n",
    "    \r\n",
    "    'lr': 0.005,\r\n",
    "    'num_of_layers': 2, \r\n",
    "    'num_heads': 1,\r\n",
    "    'hidden_size': 128,\r\n",
    "    'dropout': 0.6,  \r\n",
    "    \"use_layer_norm\": False,\r\n",
    "    \"use_batch_norm\": False,\r\n",
    "    \r\n",
    "    'nbor_degree': 2,\r\n",
    "    'adj_mode': AdjacencyMode.OneStep,\r\n",
    "    'sparse': True\r\n",
    "}\r\n",
    "#experimentor = getExperimentor(config[\"dataset_name\"])(config)\r\n",
    "#experimentor.run_wrapper()"
   ],
   "outputs": [],
   "metadata": {}
  },
  {
   "cell_type": "code",
   "execution_count": 3,
   "source": [
    "for dataset in [Dataset.CORA, Dataset.PUBMED, Dataset.CITESEER]:\r\n",
    "    config[\"dataset_name\"] = dataset\r\n",
    "    if dataset == Dataset.PUBMED:\r\n",
    "        config[\"lr\"] = 0.01\r\n",
    "        config[\"num_heads\"] = 8\r\n",
    "    else: \r\n",
    "        config[\"lr\"] = 0.005\r\n",
    "        config[\"num_heads\"] = 1\r\n",
    "        \r\n",
    "    for degree in [1, 2, 3, 4]:\r\n",
    "        config[\"nbor_degree\"] = degree\r\n",
    "        for isSparse in [False, True]:\r\n",
    "            config[\"sparse\"] = isSparse\r\n",
    "            experimentor = getExperimentor(config[\"dataset_name\"])(config)\r\n",
    "            experimentor.run_wrapper()"
   ],
   "outputs": [
    {
     "output_type": "stream",
     "name": "stdout",
     "text": [
      "Run 01:\n"
     ]
    },
    {
     "output_type": "stream",
     "name": "stderr",
     "text": [
      "Epoch 01: 100%|██████████| 140/140 [00:00<00:00, 201.56it/s]\n"
     ]
    },
    {
     "output_type": "stream",
     "name": "stdout",
     "text": [
      "Epoch 01| Loss: 1.9248| Acc: 0.1571| Train Time: 0.6996s\n"
     ]
    },
    {
     "output_type": "stream",
     "name": "stderr",
     "text": [
      "Evaluating: 100%|██████████| 5416/5416 [00:04<00:00, 1277.84it/s]\n"
     ]
    },
    {
     "output_type": "stream",
     "name": "stdout",
     "text": [
      "Train: 0.8357| Val: 0.5260| Test: 0.5100| Eval Time: 4.2444s\n",
      "Epoch 02| Loss: 1.4863| Acc: 0.6857| Train Time: 0.8872s\n"
     ]
    },
    {
     "output_type": "stream",
     "name": "stderr",
     "text": [
      "Evaluating: 100%|██████████| 5416/5416 [00:00<00:00, 52588.65it/s]"
     ]
    },
    {
     "output_type": "stream",
     "name": "stdout",
     "text": [
      "Train: 0.9571| Val: 0.6560| Test: 0.6560| Eval Time: 0.1100s\n"
     ]
    },
    {
     "output_type": "stream",
     "name": "stderr",
     "text": [
      "\n"
     ]
    },
    {
     "output_type": "stream",
     "name": "stdout",
     "text": [
      "Epoch 03| Loss: 1.1207| Acc: 0.8286| Train Time: 0.8530s\n"
     ]
    },
    {
     "output_type": "stream",
     "name": "stderr",
     "text": [
      "Evaluating: 100%|██████████| 5416/5416 [00:00<00:00, 87354.79it/s]\n"
     ]
    },
    {
     "output_type": "stream",
     "name": "stdout",
     "text": [
      "Train: 0.9786| Val: 0.7060| Test: 0.7170| Eval Time: 0.0680s\n",
      "Epoch 04| Loss: 0.8595| Acc: 0.9286| Train Time: 0.0160s\n"
     ]
    },
    {
     "output_type": "stream",
     "name": "stderr",
     "text": [
      "Evaluating: 100%|██████████| 5416/5416 [00:00<00:00, 61545.08it/s]"
     ]
    },
    {
     "output_type": "stream",
     "name": "stdout",
     "text": [
      "Train: 0.9929| Val: 0.7340| Test: 0.7480| Eval Time: 0.0930s\n",
      "Epoch 05| Loss: 0.6870| Acc: 0.9429| Train Time: 0.0120s\n"
     ]
    },
    {
     "output_type": "stream",
     "name": "stderr",
     "text": [
      "\n",
      "Evaluating: 100%|██████████| 5416/5416 [00:00<00:00, 55836.49it/s]\n"
     ]
    },
    {
     "output_type": "stream",
     "name": "stdout",
     "text": [
      "Train: 0.9929| Val: 0.7400| Test: 0.7620| Eval Time: 0.1020s\n",
      "Epoch 06| Loss: 0.5357| Acc: 0.9571| Train Time: 0.0100s\n"
     ]
    },
    {
     "output_type": "stream",
     "name": "stderr",
     "text": [
      "Evaluating: 100%|██████████| 5416/5416 [00:00<00:00, 77374.14it/s]\n"
     ]
    },
    {
     "output_type": "stream",
     "name": "stdout",
     "text": [
      "Train: 0.9929| Val: 0.7560| Test: 0.7720| Eval Time: 0.0760s\n",
      "Epoch 07| Loss: 0.4656| Acc: 0.9786| Train Time: 0.0110s\n"
     ]
    },
    {
     "output_type": "stream",
     "name": "stderr",
     "text": [
      "Evaluating: 100%|██████████| 5416/5416 [00:00<00:00, 74192.80it/s]\n"
     ]
    },
    {
     "output_type": "stream",
     "name": "stdout",
     "text": [
      "Train: 1.0000| Val: 0.7540| Test: 0.7840| Eval Time: 0.0780s\n",
      "Epoch 08| Loss: 0.3762| Acc: 0.9643| Train Time: 0.0160s\n"
     ]
    },
    {
     "output_type": "stream",
     "name": "stderr",
     "text": [
      "Evaluating: 100%|██████████| 5416/5416 [00:00<00:00, 78491.66it/s]\n"
     ]
    },
    {
     "output_type": "stream",
     "name": "stdout",
     "text": [
      "Train: 1.0000| Val: 0.7520| Test: 0.7800| Eval Time: 0.0750s\n",
      "Epoch 09| Loss: 0.2516| Acc: 0.9929| Train Time: 0.0150s\n"
     ]
    },
    {
     "output_type": "stream",
     "name": "stderr",
     "text": [
      "Evaluating: 100%|██████████| 5416/5416 [00:00<00:00, 74194.98it/s]\n"
     ]
    },
    {
     "output_type": "stream",
     "name": "stdout",
     "text": [
      "Train: 1.0000| Val: 0.7500| Test: 0.7760| Eval Time: 0.0780s\n",
      "Epoch 10| Loss: 0.2222| Acc: 0.9786| Train Time: 0.0140s\n"
     ]
    },
    {
     "output_type": "stream",
     "name": "stderr",
     "text": [
      "Evaluating: 100%|██████████| 5416/5416 [00:00<00:00, 67700.06it/s]\n"
     ]
    },
    {
     "output_type": "stream",
     "name": "stdout",
     "text": [
      "Train: 1.0000| Val: 0.7500| Test: 0.7800| Eval Time: 0.0860s\n",
      "Epoch 11| Loss: 0.1796| Acc: 1.0000| Train Time: 0.0130s\n"
     ]
    },
    {
     "output_type": "stream",
     "name": "stderr",
     "text": [
      "Evaluating: 100%|██████████| 5416/5416 [00:00<00:00, 76283.12it/s]\n"
     ]
    },
    {
     "output_type": "stream",
     "name": "stdout",
     "text": [
      "Train: 1.0000| Val: 0.7480| Test: 0.7810| Eval Time: 0.0760s\n",
      "Epoch 12| Loss: 0.1440| Acc: 1.0000| Train Time: 0.0130s\n"
     ]
    },
    {
     "output_type": "stream",
     "name": "stderr",
     "text": [
      "Evaluating: 100%|██████████| 5416/5416 [00:00<00:00, 88789.50it/s]"
     ]
    },
    {
     "output_type": "stream",
     "name": "stdout",
     "text": [
      "Train: 1.0000| Val: 0.7520| Test: 0.7800| Eval Time: 0.0670s\n",
      "Epoch 13| Loss: 0.1119| Acc: 1.0000| Train Time: 0.0110s\n"
     ]
    },
    {
     "output_type": "stream",
     "name": "stderr",
     "text": [
      "\n",
      "Evaluating: 100%|██████████| 5416/5416 [00:00<00:00, 75223.19it/s]\n"
     ]
    },
    {
     "output_type": "stream",
     "name": "stdout",
     "text": [
      "Train: 1.0000| Val: 0.7500| Test: 0.7770| Eval Time: 0.0770s\n",
      "Epoch 14| Loss: 0.0789| Acc: 1.0000| Train Time: 0.0120s\n"
     ]
    },
    {
     "output_type": "stream",
     "name": "stderr",
     "text": [
      "Evaluating: 100%|██████████| 5416/5416 [00:00<00:00, 65254.74it/s]\n"
     ]
    },
    {
     "output_type": "stream",
     "name": "stdout",
     "text": [
      "Train: 1.0000| Val: 0.7520| Test: 0.7760| Eval Time: 0.0890s\n",
      "Epoch 15| Loss: 0.0804| Acc: 0.9929| Train Time: 0.0130s\n"
     ]
    },
    {
     "output_type": "stream",
     "name": "stderr",
     "text": [
      "Evaluating: 100%|██████████| 5416/5416 [00:00<00:00, 77373.08it/s]\n"
     ]
    },
    {
     "output_type": "stream",
     "name": "stdout",
     "text": [
      "Train: 1.0000| Val: 0.7460| Test: 0.7760| Eval Time: 0.0750s\n",
      "Epoch 16| Loss: 0.0815| Acc: 1.0000| Train Time: 0.0150s\n"
     ]
    },
    {
     "output_type": "stream",
     "name": "stderr",
     "text": [
      "Evaluating: 100%|██████████| 5416/5416 [00:00<00:00, 75222.19it/s]\n"
     ]
    },
    {
     "output_type": "stream",
     "name": "stdout",
     "text": [
      "Train: 1.0000| Val: 0.7440| Test: 0.7710| Eval Time: 0.0770s\n",
      "Epoch 17| Loss: 0.0620| Acc: 1.0000| Train Time: 0.0120s\n"
     ]
    },
    {
     "output_type": "stream",
     "name": "stderr",
     "text": [
      "Evaluating: 100%|██████████| 5416/5416 [00:00<00:00, 68450.99it/s]\n"
     ]
    },
    {
     "output_type": "stream",
     "name": "stdout",
     "text": [
      "Train: 1.0000| Val: 0.7440| Test: 0.7720| Eval Time: 0.0851s\n",
      "Epoch 18| Loss: 0.0545| Acc: 0.9929| Train Time: 0.0180s\n"
     ]
    },
    {
     "output_type": "stream",
     "name": "stderr",
     "text": [
      "Evaluating: 100%|██████████| 5416/5416 [00:00<00:00, 63720.48it/s]\n"
     ]
    },
    {
     "output_type": "stream",
     "name": "stdout",
     "text": [
      "Train: 1.0000| Val: 0.7440| Test: 0.7710| Eval Time: 0.0900s\n",
      "Epoch 19| Loss: 0.0316| Acc: 1.0000| Train Time: 0.0150s\n"
     ]
    },
    {
     "output_type": "stream",
     "name": "stderr",
     "text": [
      "Evaluating: 100%|██████████| 5416/5416 [00:00<00:00, 71262.96it/s]\n"
     ]
    },
    {
     "output_type": "stream",
     "name": "stdout",
     "text": [
      "Train: 1.0000| Val: 0.7440| Test: 0.7720| Eval Time: 0.0820s\n",
      "Epoch 20| Loss: 0.0557| Acc: 1.0000| Train Time: 0.0130s\n"
     ]
    },
    {
     "output_type": "stream",
     "name": "stderr",
     "text": [
      "Evaluating: 100%|██████████| 5416/5416 [00:00<00:00, 66047.23it/s]\n"
     ]
    },
    {
     "output_type": "stream",
     "name": "stdout",
     "text": [
      "Train: 1.0000| Val: 0.7460| Test: 0.7700| Eval Time: 0.0870s\n",
      "Epoch 21| Loss: 0.0217| Acc: 1.0000| Train Time: 0.0160s\n"
     ]
    },
    {
     "output_type": "stream",
     "name": "stderr",
     "text": [
      "Evaluating: 100%|██████████| 5416/5416 [00:00<00:00, 74609.98it/s]\n"
     ]
    },
    {
     "output_type": "stream",
     "name": "stdout",
     "text": [
      "Train: 1.0000| Val: 0.7440| Test: 0.7700| Eval Time: 0.0776s\n",
      "Epoch 22| Loss: 0.0387| Acc: 1.0000| Train Time: 0.0130s\n"
     ]
    },
    {
     "output_type": "stream",
     "name": "stderr",
     "text": [
      "Evaluating: 100%|██████████| 5416/5416 [00:00<00:00, 62975.55it/s]\n"
     ]
    },
    {
     "output_type": "stream",
     "name": "stdout",
     "text": [
      "Train: 1.0000| Val: 0.7440| Test: 0.7700| Eval Time: 0.0920s\n",
      "Epoch 23| Loss: 0.0224| Acc: 1.0000| Train Time: 0.0140s\n"
     ]
    },
    {
     "output_type": "stream",
     "name": "stderr",
     "text": [
      "Evaluating: 100%|██████████| 5416/5416 [00:00<00:00, 69438.17it/s]\n"
     ]
    },
    {
     "output_type": "stream",
     "name": "stdout",
     "text": [
      "Train: 1.0000| Val: 0.7440| Test: 0.7700| Eval Time: 0.0830s\n",
      "Epoch 24| Loss: 0.0401| Acc: 1.0000| Train Time: 0.0140s\n"
     ]
    },
    {
     "output_type": "stream",
     "name": "stderr",
     "text": [
      "Evaluating: 100%|██████████| 5416/5416 [00:00<00:00, 68558.00it/s]\n"
     ]
    },
    {
     "output_type": "stream",
     "name": "stdout",
     "text": [
      "Train: 1.0000| Val: 0.7440| Test: 0.7690| Eval Time: 0.0850s\n",
      "Epoch 25| Loss: 0.0105| Acc: 1.0000| Train Time: 0.0160s\n"
     ]
    },
    {
     "output_type": "stream",
     "name": "stderr",
     "text": [
      "Evaluating: 100%|██████████| 5416/5416 [00:00<00:00, 66865.30it/s]\n"
     ]
    },
    {
     "output_type": "stream",
     "name": "stdout",
     "text": [
      "Train: 1.0000| Val: 0.7440| Test: 0.7680| Eval Time: 0.0880s\n",
      "Epoch 26| Loss: 0.0216| Acc: 1.0000| Train Time: 0.0160s\n"
     ]
    },
    {
     "output_type": "stream",
     "name": "stderr",
     "text": [
      "Evaluating: 100%|██████████| 5416/5416 [00:00<00:00, 68928.49it/s]\n"
     ]
    },
    {
     "output_type": "stream",
     "name": "stdout",
     "text": [
      "Train: 1.0000| Val: 0.7440| Test: 0.7700| Eval Time: 0.0836s\n",
      "Epoch 27| Loss: 0.0308| Acc: 1.0000| Train Time: 0.0130s\n"
     ]
    },
    {
     "output_type": "stream",
     "name": "stderr",
     "text": [
      "Evaluating: 100%|██████████| 5416/5416 [00:00<00:00, 66048.19it/s]\n"
     ]
    },
    {
     "output_type": "stream",
     "name": "stdout",
     "text": [
      "Train: 1.0000| Val: 0.7420| Test: 0.7680| Eval Time: 0.0880s\n",
      "Epoch 28| Loss: 0.0214| Acc: 0.9929| Train Time: 0.0150s\n"
     ]
    },
    {
     "output_type": "stream",
     "name": "stderr",
     "text": [
      "Evaluating: 100%|██████████| 5416/5416 [00:00<00:00, 64477.39it/s]\n"
     ]
    },
    {
     "output_type": "stream",
     "name": "stdout",
     "text": [
      "Train: 1.0000| Val: 0.7420| Test: 0.7640| Eval Time: 0.0890s\n",
      "Epoch 29| Loss: 0.0121| Acc: 1.0000| Train Time: 0.0150s\n"
     ]
    },
    {
     "output_type": "stream",
     "name": "stderr",
     "text": [
      "Evaluating: 100%|██████████| 5416/5416 [00:00<00:00, 71262.06it/s]\n"
     ]
    },
    {
     "output_type": "stream",
     "name": "stdout",
     "text": [
      "Train: 1.0000| Val: 0.7440| Test: 0.7620| Eval Time: 0.0810s\n",
      "Epoch 30| Loss: 0.0138| Acc: 1.0000| Train Time: 0.0120s\n"
     ]
    },
    {
     "output_type": "stream",
     "name": "stderr",
     "text": [
      "Evaluating: 100%|██████████| 5416/5416 [00:00<00:00, 74192.55it/s]\n"
     ]
    },
    {
     "output_type": "stream",
     "name": "stdout",
     "text": [
      "Train: 1.0000| Val: 0.7440| Test: 0.7620| Eval Time: 0.0770s\n",
      "Epoch 31| Loss: 0.0108| Acc: 1.0000| Train Time: 0.0140s\n"
     ]
    },
    {
     "output_type": "stream",
     "name": "stderr",
     "text": [
      "Evaluating: 100%|██████████| 5416/5416 [00:00<00:00, 73192.37it/s]"
     ]
    },
    {
     "output_type": "stream",
     "name": "stdout",
     "text": [
      "Train: 1.0000| Val: 0.7460| Test: 0.7610| Eval Time: 0.0780s\n",
      "Epoch 32| Loss: 0.0285| Acc: 1.0000| Train Time: 0.0150s\n"
     ]
    },
    {
     "output_type": "stream",
     "name": "stderr",
     "text": [
      "\n",
      "Evaluating: 100%|██████████| 5416/5416 [00:00<00:00, 78496.54it/s]\n"
     ]
    },
    {
     "output_type": "stream",
     "name": "stdout",
     "text": [
      "Train: 1.0000| Val: 0.7460| Test: 0.7580| Eval Time: 0.0740s\n",
      "Epoch 33| Loss: 0.0069| Acc: 1.0000| Train Time: 0.0160s\n"
     ]
    },
    {
     "output_type": "stream",
     "name": "stderr",
     "text": [
      "Evaluating: 100%|██████████| 5416/5416 [00:00<00:00, 67699.26it/s]\n"
     ]
    },
    {
     "output_type": "stream",
     "name": "stdout",
     "text": [
      "Train: 1.0000| Val: 0.7460| Test: 0.7570| Eval Time: 0.0860s\n",
      "Epoch 34| Loss: 0.0083| Acc: 1.0000| Train Time: 0.0140s\n"
     ]
    },
    {
     "output_type": "stream",
     "name": "stderr",
     "text": [
      "Evaluating: 100%|██████████| 5416/5416 [00:00<00:00, 73186.95it/s]\n"
     ]
    },
    {
     "output_type": "stream",
     "name": "stdout",
     "text": [
      "Train: 1.0000| Val: 0.7440| Test: 0.7560| Eval Time: 0.0780s\n",
      "Epoch 35| Loss: 0.0070| Acc: 1.0000| Train Time: 0.0120s\n"
     ]
    },
    {
     "output_type": "stream",
     "name": "stderr",
     "text": [
      "Evaluating: 100%|██████████| 5416/5416 [00:00<00:00, 72215.81it/s]\n"
     ]
    },
    {
     "output_type": "stream",
     "name": "stdout",
     "text": [
      "Train: 1.0000| Val: 0.7420| Test: 0.7560| Eval Time: 0.0810s\n",
      "Epoch 36| Loss: 0.0081| Acc: 1.0000| Train Time: 0.0150s\n"
     ]
    },
    {
     "output_type": "stream",
     "name": "stderr",
     "text": [
      "Evaluating: 100%|██████████| 5416/5416 [00:00<00:00, 70336.44it/s]\n"
     ]
    },
    {
     "output_type": "stream",
     "name": "stdout",
     "text": [
      "Train: 1.0000| Val: 0.7420| Test: 0.7560| Eval Time: 0.0830s\n",
      "Epoch 37| Loss: 0.0060| Acc: 1.0000| Train Time: 0.0150s\n"
     ]
    },
    {
     "output_type": "stream",
     "name": "stderr",
     "text": [
      "Evaluating: 100%|██████████| 5416/5416 [00:00<00:00, 75438.78it/s]\n"
     ]
    },
    {
     "output_type": "stream",
     "name": "stdout",
     "text": [
      "Train: 1.0000| Val: 0.7420| Test: 0.7570| Eval Time: 0.0778s\n",
      "Epoch 38| Loss: 0.0075| Acc: 1.0000| Train Time: 0.0170s\n"
     ]
    },
    {
     "output_type": "stream",
     "name": "stderr",
     "text": [
      "Evaluating: 100%|██████████| 5416/5416 [00:00<00:00, 62977.29it/s]\n"
     ]
    },
    {
     "output_type": "stream",
     "name": "stdout",
     "text": [
      "Train: 1.0000| Val: 0.7420| Test: 0.7560| Eval Time: 0.0920s\n",
      "Epoch 39| Loss: 0.0091| Acc: 1.0000| Train Time: 0.0130s\n"
     ]
    },
    {
     "output_type": "stream",
     "name": "stderr",
     "text": [
      "Evaluating: 100%|██████████| 5416/5416 [00:00<00:00, 75222.19it/s]\n"
     ]
    },
    {
     "output_type": "stream",
     "name": "stdout",
     "text": [
      "Train: 1.0000| Val: 0.7400| Test: 0.7560| Eval Time: 0.0770s\n",
      "Epoch 40| Loss: 0.0040| Acc: 1.0000| Train Time: 0.0140s\n"
     ]
    },
    {
     "output_type": "stream",
     "name": "stderr",
     "text": [
      "Evaluating: 100%|██████████| 5416/5416 [00:00<00:00, 88831.86it/s]\n"
     ]
    },
    {
     "output_type": "stream",
     "name": "stdout",
     "text": [
      "Train: 1.0000| Val: 0.7400| Test: 0.7560| Eval Time: 0.0670s\n",
      "Epoch 41| Loss: 0.0066| Acc: 1.0000| Train Time: 0.0160s\n"
     ]
    },
    {
     "output_type": "stream",
     "name": "stderr",
     "text": [
      "Evaluating: 100%|██████████| 5416/5416 [00:00<00:00, 88787.07it/s]\n"
     ]
    },
    {
     "output_type": "stream",
     "name": "stdout",
     "text": [
      "Train: 1.0000| Val: 0.7380| Test: 0.7570| Eval Time: 0.0650s\n",
      "Epoch 42| Loss: 0.0037| Acc: 1.0000| Train Time: 0.0100s\n"
     ]
    },
    {
     "output_type": "stream",
     "name": "stderr",
     "text": [
      "Evaluating: 100%|██████████| 5416/5416 [00:00<00:00, 71264.75it/s]\n"
     ]
    },
    {
     "output_type": "stream",
     "name": "stdout",
     "text": [
      "Train: 1.0000| Val: 0.7380| Test: 0.7580| Eval Time: 0.0800s\n",
      "Epoch 43| Loss: 0.0108| Acc: 1.0000| Train Time: 0.0120s\n"
     ]
    },
    {
     "output_type": "stream",
     "name": "stderr",
     "text": [
      "Evaluating: 100%|██████████| 5416/5416 [00:00<00:00, 72214.21it/s]\n"
     ]
    },
    {
     "output_type": "stream",
     "name": "stdout",
     "text": [
      "Train: 1.0000| Val: 0.7360| Test: 0.7570| Eval Time: 0.0800s\n",
      "Epoch 44| Loss: 0.0053| Acc: 1.0000| Train Time: 0.0140s\n"
     ]
    },
    {
     "output_type": "stream",
     "name": "stderr",
     "text": [
      "Evaluating: 100%|██████████| 5416/5416 [00:00<00:00, 78491.39it/s]\n"
     ]
    },
    {
     "output_type": "stream",
     "name": "stdout",
     "text": [
      "Train: 1.0000| Val: 0.7360| Test: 0.7570| Eval Time: 0.0730s\n",
      "Epoch 45| Loss: 0.0029| Acc: 1.0000| Train Time: 0.0120s\n"
     ]
    },
    {
     "output_type": "stream",
     "name": "stderr",
     "text": [
      "Evaluating: 100%|██████████| 5416/5416 [00:00<00:00, 73191.19it/s]\n"
     ]
    },
    {
     "output_type": "stream",
     "name": "stdout",
     "text": [
      "Train: 1.0000| Val: 0.7360| Test: 0.7570| Eval Time: 0.0790s\n",
      "Epoch 46| Loss: 0.0037| Acc: 1.0000| Train Time: 0.0150s\n"
     ]
    },
    {
     "output_type": "stream",
     "name": "stderr",
     "text": [
      "Evaluating: 100%|██████████| 5416/5416 [00:00<00:00, 67701.07it/s]\n"
     ]
    },
    {
     "output_type": "stream",
     "name": "stdout",
     "text": [
      "Train: 1.0000| Val: 0.7340| Test: 0.7560| Eval Time: 0.0860s\n",
      "Epoch 47| Loss: 0.0141| Acc: 1.0000| Train Time: 0.0120s\n"
     ]
    },
    {
     "output_type": "stream",
     "name": "stderr",
     "text": [
      "Evaluating: 100%|██████████| 5416/5416 [00:00<00:00, 76282.35it/s]\n"
     ]
    },
    {
     "output_type": "stream",
     "name": "stdout",
     "text": [
      "Train: 1.0000| Val: 0.7360| Test: 0.7560| Eval Time: 0.0760s\n",
      "Epoch 48| Loss: 0.0064| Acc: 1.0000| Train Time: 0.0130s\n"
     ]
    },
    {
     "output_type": "stream",
     "name": "stderr",
     "text": [
      "Evaluating: 100%|██████████| 5416/5416 [00:00<00:00, 61547.25it/s]\n"
     ]
    },
    {
     "output_type": "stream",
     "name": "stdout",
     "text": [
      "Train: 1.0000| Val: 0.7360| Test: 0.7560| Eval Time: 0.0930s\n",
      "Epoch 49| Loss: 0.0031| Acc: 1.0000| Train Time: 0.0150s\n"
     ]
    },
    {
     "output_type": "stream",
     "name": "stderr",
     "text": [
      "Evaluating: 100%|██████████| 5416/5416 [00:00<00:00, 69436.69it/s]\n"
     ]
    },
    {
     "output_type": "stream",
     "name": "stdout",
     "text": [
      "Train: 1.0000| Val: 0.7360| Test: 0.7560| Eval Time: 0.0830s\n",
      "Epoch 50| Loss: 0.0024| Acc: 1.0000| Train Time: 0.0130s\n"
     ]
    },
    {
     "output_type": "stream",
     "name": "stderr",
     "text": [
      "Evaluating: 100%|██████████| 5416/5416 [00:00<00:00, 74198.61it/s]\n"
     ]
    },
    {
     "output_type": "stream",
     "name": "stdout",
     "text": [
      "Train: 1.0000| Val: 0.7360| Test: 0.7560| Eval Time: 0.0796s\n",
      "Epoch 51| Loss: 0.0091| Acc: 1.0000| Train Time: 0.0120s\n"
     ]
    },
    {
     "output_type": "stream",
     "name": "stderr",
     "text": [
      "Evaluating: 100%|██████████| 5416/5416 [00:00<00:00, 75224.19it/s]\n"
     ]
    },
    {
     "output_type": "stream",
     "name": "stdout",
     "text": [
      "Train: 1.0000| Val: 0.7360| Test: 0.7550| Eval Time: 0.0770s\n",
      "Epoch 52| Loss: 0.0056| Acc: 1.0000| Train Time: 0.0140s\n"
     ]
    },
    {
     "output_type": "stream",
     "name": "stderr",
     "text": [
      "Evaluating: 100%|██████████| 5416/5416 [00:00<00:00, 75726.97it/s]"
     ]
    },
    {
     "output_type": "stream",
     "name": "stdout",
     "text": [
      "Train: 1.0000| Val: 0.7340| Test: 0.7550| Eval Time: 0.0775s\n",
      "Epoch 53| Loss: 0.0014| Acc: 1.0000| Train Time: 0.0140s\n"
     ]
    },
    {
     "output_type": "stream",
     "name": "stderr",
     "text": [
      "\n",
      "Evaluating: 100%|██████████| 5416/5416 [00:00<00:00, 64474.46it/s]\n"
     ]
    },
    {
     "output_type": "stream",
     "name": "stdout",
     "text": [
      "Train: 1.0000| Val: 0.7340| Test: 0.7560| Eval Time: 0.0890s\n",
      "Epoch 54| Loss: 0.0028| Acc: 1.0000| Train Time: 0.0110s\n"
     ]
    },
    {
     "output_type": "stream",
     "name": "stderr",
     "text": [
      "Evaluating: 100%|██████████| 5416/5416 [00:00<00:00, 65253.81it/s]\n"
     ]
    },
    {
     "output_type": "stream",
     "name": "stdout",
     "text": [
      "Train: 1.0000| Val: 0.7340| Test: 0.7560| Eval Time: 0.0890s\n",
      "Epoch 55| Loss: 0.0135| Acc: 1.0000| Train Time: 0.0170s\n"
     ]
    },
    {
     "output_type": "stream",
     "name": "stderr",
     "text": [
      "Evaluating: 100%|██████████| 5416/5416 [00:00<00:00, 60854.92it/s]\n"
     ]
    },
    {
     "output_type": "stream",
     "name": "stdout",
     "text": [
      "Train: 1.0000| Val: 0.7340| Test: 0.7550| Eval Time: 0.0950s\n",
      "Epoch 56| Loss: 0.0061| Acc: 1.0000| Train Time: 0.0200s\n"
     ]
    },
    {
     "output_type": "stream",
     "name": "stderr",
     "text": [
      "Evaluating: 100%|██████████| 5416/5416 [00:00<00:00, 47929.24it/s]\n"
     ]
    },
    {
     "output_type": "stream",
     "name": "stdout",
     "text": [
      "Train: 1.0000| Val: 0.7320| Test: 0.7550| Eval Time: 0.1220s\n",
      "\n",
      "Result of  1. run| Train: 0.9929| Val: 0.7560| Test: 0.7720\n",
      "\n",
      "Run 02:\n"
     ]
    },
    {
     "output_type": "stream",
     "name": "stderr",
     "text": [
      "Epoch 01: 100%|██████████| 140/140 [00:00<00:00, 5833.58it/s]\n"
     ]
    },
    {
     "output_type": "stream",
     "name": "stdout",
     "text": [
      "Epoch 01| Loss: 1.9828| Acc: 0.1643| Train Time: 0.0270s\n"
     ]
    },
    {
     "output_type": "stream",
     "name": "stderr",
     "text": [
      "Evaluating: 100%|██████████| 5416/5416 [00:00<00:00, 60103.96it/s]\n"
     ]
    },
    {
     "output_type": "stream",
     "name": "stdout",
     "text": [
      "Train: 0.8643| Val: 0.5320| Test: 0.5220| Eval Time: 0.0981s\n",
      "Epoch 02| Loss: 1.5524| Acc: 0.6357| Train Time: 0.0140s\n"
     ]
    },
    {
     "output_type": "stream",
     "name": "stderr",
     "text": [
      "Evaluating: 100%|██████████| 5416/5416 [00:00<00:00, 60178.15it/s]\n"
     ]
    },
    {
     "output_type": "stream",
     "name": "stdout",
     "text": [
      "Train: 0.9214| Val: 0.6640| Test: 0.6840| Eval Time: 0.0960s\n",
      "Epoch 03| Loss: 1.1260| Acc: 0.8429| Train Time: 0.0150s\n"
     ]
    },
    {
     "output_type": "stream",
     "name": "stderr",
     "text": [
      "Evaluating: 100%|██████████| 5416/5416 [00:00<00:00, 53097.54it/s]\n"
     ]
    },
    {
     "output_type": "stream",
     "name": "stdout",
     "text": [
      "Train: 0.9643| Val: 0.7580| Test: 0.7440| Eval Time: 0.1080s\n",
      "Epoch 04| Loss: 0.8791| Acc: 0.9000| Train Time: 0.0170s\n"
     ]
    },
    {
     "output_type": "stream",
     "name": "stderr",
     "text": [
      "Evaluating: 100%|██████████| 5416/5416 [00:00<00:00, 59517.37it/s]\n"
     ]
    },
    {
     "output_type": "stream",
     "name": "stdout",
     "text": [
      "Train: 0.9857| Val: 0.7900| Test: 0.7660| Eval Time: 0.0970s\n",
      "Epoch 05| Loss: 0.6635| Acc: 0.9286| Train Time: 0.0180s\n"
     ]
    },
    {
     "output_type": "stream",
     "name": "stderr",
     "text": [
      "Evaluating: 100%|██████████| 5416/5416 [00:00<00:00, 60178.47it/s]\n"
     ]
    },
    {
     "output_type": "stream",
     "name": "stdout",
     "text": [
      "Train: 0.9929| Val: 0.7860| Test: 0.7770| Eval Time: 0.0970s\n",
      "Epoch 06| Loss: 0.5108| Acc: 0.9571| Train Time: 0.0160s\n"
     ]
    },
    {
     "output_type": "stream",
     "name": "stderr",
     "text": [
      "Evaluating: 100%|██████████| 5416/5416 [00:00<00:00, 52078.43it/s]\n"
     ]
    },
    {
     "output_type": "stream",
     "name": "stdout",
     "text": [
      "Train: 1.0000| Val: 0.7820| Test: 0.7770| Eval Time: 0.1110s\n",
      "Epoch 07| Loss: 0.3838| Acc: 0.9857| Train Time: 0.0170s\n"
     ]
    },
    {
     "output_type": "stream",
     "name": "stderr",
     "text": [
      "Evaluating: 100%|██████████| 5416/5416 [00:00<00:00, 70341.45it/s]\n"
     ]
    },
    {
     "output_type": "stream",
     "name": "stdout",
     "text": [
      "Train: 1.0000| Val: 0.7780| Test: 0.7700| Eval Time: 0.0840s\n",
      "Epoch 08| Loss: 0.3450| Acc: 0.9714| Train Time: 0.0150s\n"
     ]
    },
    {
     "output_type": "stream",
     "name": "stderr",
     "text": [
      "Evaluating: 100%|██████████| 5416/5416 [00:00<00:00, 85967.33it/s]"
     ]
    },
    {
     "output_type": "stream",
     "name": "stdout",
     "text": [
      "Train: 1.0000| Val: 0.7720| Test: 0.7710| Eval Time: 0.0685s\n",
      "Epoch 09| Loss: 0.2191| Acc: 1.0000| Train Time: 0.0140s\n"
     ]
    },
    {
     "output_type": "stream",
     "name": "stderr",
     "text": [
      "\n",
      "Evaluating: 100%|██████████| 5416/5416 [00:00<00:00, 79650.60it/s]\n"
     ]
    },
    {
     "output_type": "stream",
     "name": "stdout",
     "text": [
      "Train: 1.0000| Val: 0.7660| Test: 0.7740| Eval Time: 0.0740s\n",
      "Epoch 10| Loss: 0.2609| Acc: 0.9857| Train Time: 0.0140s\n"
     ]
    },
    {
     "output_type": "stream",
     "name": "stderr",
     "text": [
      "Evaluating: 100%|██████████| 5416/5416 [00:00<00:00, 73165.97it/s]\n"
     ]
    },
    {
     "output_type": "stream",
     "name": "stdout",
     "text": [
      "Train: 1.0000| Val: 0.7640| Test: 0.7740| Eval Time: 0.0800s\n",
      "Epoch 11| Loss: 0.1982| Acc: 0.9857| Train Time: 0.0130s\n"
     ]
    },
    {
     "output_type": "stream",
     "name": "stderr",
     "text": [
      "Evaluating: 100%|██████████| 5416/5416 [00:00<00:00, 71262.06it/s]\n"
     ]
    },
    {
     "output_type": "stream",
     "name": "stdout",
     "text": [
      "Train: 1.0000| Val: 0.7640| Test: 0.7750| Eval Time: 0.0820s\n",
      "Epoch 12| Loss: 0.1173| Acc: 1.0000| Train Time: 0.0150s\n"
     ]
    },
    {
     "output_type": "stream",
     "name": "stderr",
     "text": [
      "Evaluating: 100%|██████████| 5416/5416 [00:00<00:00, 71264.08it/s]\n"
     ]
    },
    {
     "output_type": "stream",
     "name": "stdout",
     "text": [
      "Train: 1.0000| Val: 0.7640| Test: 0.7800| Eval Time: 0.0810s\n",
      "Epoch 13| Loss: 0.1249| Acc: 1.0000| Train Time: 0.0110s\n"
     ]
    },
    {
     "output_type": "stream",
     "name": "stderr",
     "text": [
      "Evaluating: 100%|██████████| 5416/5416 [00:00<00:00, 77374.40it/s]\n"
     ]
    },
    {
     "output_type": "stream",
     "name": "stdout",
     "text": [
      "Train: 1.0000| Val: 0.7680| Test: 0.7800| Eval Time: 0.0760s\n",
      "Epoch 14| Loss: 0.1107| Acc: 1.0000| Train Time: 0.0150s\n"
     ]
    },
    {
     "output_type": "stream",
     "name": "stderr",
     "text": [
      "Evaluating: 100%|██████████| 5416/5416 [00:00<00:00, 58239.59it/s]\n"
     ]
    },
    {
     "output_type": "stream",
     "name": "stdout",
     "text": [
      "Train: 1.0000| Val: 0.7660| Test: 0.7810| Eval Time: 0.0990s\n",
      "Epoch 15| Loss: 0.0713| Acc: 1.0000| Train Time: 0.0170s\n"
     ]
    },
    {
     "output_type": "stream",
     "name": "stderr",
     "text": [
      "Evaluating: 100%|██████████| 5416/5416 [00:00<00:00, 59518.46it/s]\n"
     ]
    },
    {
     "output_type": "stream",
     "name": "stdout",
     "text": [
      "Train: 1.0000| Val: 0.7680| Test: 0.7810| Eval Time: 0.0960s\n",
      "Epoch 16| Loss: 0.0669| Acc: 1.0000| Train Time: 0.0160s\n"
     ]
    },
    {
     "output_type": "stream",
     "name": "stderr",
     "text": [
      "Evaluating: 100%|██████████| 5416/5416 [00:00<00:00, 77378.35it/s]\n"
     ]
    },
    {
     "output_type": "stream",
     "name": "stdout",
     "text": [
      "Train: 1.0000| Val: 0.7660| Test: 0.7820| Eval Time: 0.0760s\n",
      "Epoch 17| Loss: 0.0375| Acc: 1.0000| Train Time: 0.0110s\n"
     ]
    },
    {
     "output_type": "stream",
     "name": "stderr",
     "text": [
      "Evaluating: 100%|██████████| 5416/5416 [00:00<00:00, 65254.18it/s]\n"
     ]
    },
    {
     "output_type": "stream",
     "name": "stdout",
     "text": [
      "Train: 1.0000| Val: 0.7640| Test: 0.7800| Eval Time: 0.0870s\n",
      "Epoch 18| Loss: 0.0709| Acc: 1.0000| Train Time: 0.0140s\n"
     ]
    },
    {
     "output_type": "stream",
     "name": "stderr",
     "text": [
      "Evaluating: 100%|██████████| 5416/5416 [00:00<00:00, 67703.49it/s]\n"
     ]
    },
    {
     "output_type": "stream",
     "name": "stdout",
     "text": [
      "Train: 1.0000| Val: 0.7660| Test: 0.7790| Eval Time: 0.0850s\n",
      "Epoch 19| Loss: 0.0305| Acc: 1.0000| Train Time: 0.0120s\n"
     ]
    },
    {
     "output_type": "stream",
     "name": "stderr",
     "text": [
      "Evaluating: 100%|██████████| 5416/5416 [00:00<00:00, 80765.23it/s]\n"
     ]
    },
    {
     "output_type": "stream",
     "name": "stdout",
     "text": [
      "Train: 1.0000| Val: 0.7660| Test: 0.7770| Eval Time: 0.0710s\n",
      "Epoch 20| Loss: 0.0301| Acc: 1.0000| Train Time: 0.0130s\n"
     ]
    },
    {
     "output_type": "stream",
     "name": "stderr",
     "text": [
      "Evaluating: 100%|██████████| 5416/5416 [00:00<00:00, 62243.74it/s]\n"
     ]
    },
    {
     "output_type": "stream",
     "name": "stdout",
     "text": [
      "Train: 1.0000| Val: 0.7680| Test: 0.7800| Eval Time: 0.0930s\n",
      "Epoch 21| Loss: 0.0216| Acc: 1.0000| Train Time: 0.0150s\n"
     ]
    },
    {
     "output_type": "stream",
     "name": "stderr",
     "text": [
      "Evaluating: 100%|██████████| 5416/5416 [00:00<00:00, 58870.63it/s]\n"
     ]
    },
    {
     "output_type": "stream",
     "name": "stdout",
     "text": [
      "Train: 1.0000| Val: 0.7680| Test: 0.7820| Eval Time: 0.1000s\n",
      "Epoch 22| Loss: 0.0247| Acc: 1.0000| Train Time: 0.0185s\n"
     ]
    },
    {
     "output_type": "stream",
     "name": "stderr",
     "text": [
      "Evaluating: 100%|██████████| 5416/5416 [00:00<00:00, 58538.09it/s]\n"
     ]
    },
    {
     "output_type": "stream",
     "name": "stdout",
     "text": [
      "Train: 1.0000| Val: 0.7680| Test: 0.7810| Eval Time: 0.0985s\n",
      "Epoch 23| Loss: 0.0293| Acc: 1.0000| Train Time: 0.0140s\n"
     ]
    },
    {
     "output_type": "stream",
     "name": "stderr",
     "text": [
      "Evaluating: 100%|██████████| 5416/5416 [00:00<00:00, 59516.12it/s]\n"
     ]
    },
    {
     "output_type": "stream",
     "name": "stdout",
     "text": [
      "Train: 1.0000| Val: 0.7700| Test: 0.7800| Eval Time: 0.0970s\n",
      "Epoch 24| Loss: 0.0191| Acc: 1.0000| Train Time: 0.0130s\n"
     ]
    },
    {
     "output_type": "stream",
     "name": "stderr",
     "text": [
      "Evaluating: 100%|██████████| 5416/5416 [00:00<00:00, 70340.58it/s]\n"
     ]
    },
    {
     "output_type": "stream",
     "name": "stdout",
     "text": [
      "Train: 1.0000| Val: 0.7700| Test: 0.7800| Eval Time: 0.0840s\n",
      "Epoch 25| Loss: 0.0146| Acc: 1.0000| Train Time: 0.0180s\n"
     ]
    },
    {
     "output_type": "stream",
     "name": "stderr",
     "text": [
      "Evaluating: 100%|██████████| 5416/5416 [00:00<00:00, 62253.80it/s]\n"
     ]
    },
    {
     "output_type": "stream",
     "name": "stdout",
     "text": [
      "Train: 1.0000| Val: 0.7720| Test: 0.7810| Eval Time: 0.0940s\n",
      "Epoch 26| Loss: 0.0275| Acc: 1.0000| Train Time: 0.0170s\n"
     ]
    },
    {
     "output_type": "stream",
     "name": "stderr",
     "text": [
      "Evaluating: 100%|██████████| 5416/5416 [00:00<00:00, 64476.29it/s]\n"
     ]
    },
    {
     "output_type": "stream",
     "name": "stdout",
     "text": [
      "Train: 1.0000| Val: 0.7740| Test: 0.7800| Eval Time: 0.0910s\n",
      "Epoch 27| Loss: 0.0172| Acc: 1.0000| Train Time: 0.0140s\n"
     ]
    },
    {
     "output_type": "stream",
     "name": "stderr",
     "text": [
      "Evaluating: 100%|██████████| 5416/5416 [00:00<00:00, 64476.84it/s]\n"
     ]
    },
    {
     "output_type": "stream",
     "name": "stdout",
     "text": [
      "Train: 1.0000| Val: 0.7740| Test: 0.7800| Eval Time: 0.0900s\n",
      "Epoch 28| Loss: 0.0210| Acc: 1.0000| Train Time: 0.0140s\n"
     ]
    },
    {
     "output_type": "stream",
     "name": "stderr",
     "text": [
      "Evaluating: 100%|██████████| 5416/5416 [00:00<00:00, 64480.13it/s]\n"
     ]
    },
    {
     "output_type": "stream",
     "name": "stdout",
     "text": [
      "Train: 1.0000| Val: 0.7740| Test: 0.7810| Eval Time: 0.0890s\n",
      "Epoch 29| Loss: 0.0163| Acc: 1.0000| Train Time: 0.0180s\n"
     ]
    },
    {
     "output_type": "stream",
     "name": "stderr",
     "text": [
      "Evaluating: 100%|██████████| 5416/5416 [00:00<00:00, 59518.93it/s]\n"
     ]
    },
    {
     "output_type": "stream",
     "name": "stdout",
     "text": [
      "Train: 1.0000| Val: 0.7740| Test: 0.7810| Eval Time: 0.0990s\n",
      "Epoch 30| Loss: 0.0129| Acc: 1.0000| Train Time: 0.0190s\n"
     ]
    },
    {
     "output_type": "stream",
     "name": "stderr",
     "text": [
      "Evaluating: 100%|██████████| 5416/5416 [00:00<00:00, 56418.65it/s]\n"
     ]
    },
    {
     "output_type": "stream",
     "name": "stdout",
     "text": [
      "Train: 1.0000| Val: 0.7720| Test: 0.7800| Eval Time: 0.1020s\n",
      "Epoch 31| Loss: 0.0104| Acc: 1.0000| Train Time: 0.0170s\n"
     ]
    },
    {
     "output_type": "stream",
     "name": "stderr",
     "text": [
      "Evaluating: 100%|██████████| 5416/5416 [00:00<00:00, 58237.20it/s]\n"
     ]
    },
    {
     "output_type": "stream",
     "name": "stdout",
     "text": [
      "Train: 1.0000| Val: 0.7720| Test: 0.7800| Eval Time: 0.1010s\n",
      "Epoch 32| Loss: 0.0098| Acc: 1.0000| Train Time: 0.0160s\n"
     ]
    },
    {
     "output_type": "stream",
     "name": "stderr",
     "text": [
      "Evaluating: 100%|██████████| 5416/5416 [00:00<00:00, 61490.77it/s]\n"
     ]
    },
    {
     "output_type": "stream",
     "name": "stdout",
     "text": [
      "Train: 1.0000| Val: 0.7720| Test: 0.7800| Eval Time: 0.0931s\n",
      "Epoch 33| Loss: 0.0037| Acc: 1.0000| Train Time: 0.0180s\n"
     ]
    },
    {
     "output_type": "stream",
     "name": "stderr",
     "text": [
      "Evaluating: 100%|██████████| 5416/5416 [00:00<00:00, 49235.45it/s]\n"
     ]
    },
    {
     "output_type": "stream",
     "name": "stdout",
     "text": [
      "Train: 1.0000| Val: 0.7700| Test: 0.7810| Eval Time: 0.1190s\n",
      "Epoch 34| Loss: 0.0090| Acc: 1.0000| Train Time: 0.0190s\n"
     ]
    },
    {
     "output_type": "stream",
     "name": "stderr",
     "text": [
      "Evaluating: 100%|██████████| 5416/5416 [00:00<00:00, 49238.22it/s]\n"
     ]
    },
    {
     "output_type": "stream",
     "name": "stdout",
     "text": [
      "Train: 1.0000| Val: 0.7700| Test: 0.7810| Eval Time: 0.1180s\n",
      "Epoch 35| Loss: 0.0167| Acc: 1.0000| Train Time: 0.0200s\n"
     ]
    },
    {
     "output_type": "stream",
     "name": "stderr",
     "text": [
      "Evaluating: 100%|██████████| 5416/5416 [00:00<00:00, 51093.56it/s]\n"
     ]
    },
    {
     "output_type": "stream",
     "name": "stdout",
     "text": [
      "Train: 1.0000| Val: 0.7700| Test: 0.7800| Eval Time: 0.1150s\n",
      "Epoch 36| Loss: 0.0022| Acc: 1.0000| Train Time: 0.0180s\n"
     ]
    },
    {
     "output_type": "stream",
     "name": "stderr",
     "text": [
      "Evaluating: 100%|██████████| 5416/5416 [00:00<00:00, 60178.47it/s]\n"
     ]
    },
    {
     "output_type": "stream",
     "name": "stdout",
     "text": [
      "Train: 1.0000| Val: 0.7700| Test: 0.7780| Eval Time: 0.0960s\n",
      "Epoch 37| Loss: 0.0127| Acc: 1.0000| Train Time: 0.0120s\n"
     ]
    },
    {
     "output_type": "stream",
     "name": "stderr",
     "text": [
      "Evaluating: 100%|██████████| 5416/5416 [00:00<00:00, 87355.46it/s]\n"
     ]
    },
    {
     "output_type": "stream",
     "name": "stdout",
     "text": [
      "Train: 1.0000| Val: 0.7700| Test: 0.7780| Eval Time: 0.0680s\n",
      "Epoch 38| Loss: 0.0122| Acc: 1.0000| Train Time: 0.0130s\n"
     ]
    },
    {
     "output_type": "stream",
     "name": "stderr",
     "text": [
      "Evaluating: 100%|██████████| 5416/5416 [00:00<00:00, 80384.83it/s]\n"
     ]
    },
    {
     "output_type": "stream",
     "name": "stdout",
     "text": [
      "Train: 1.0000| Val: 0.7700| Test: 0.7780| Eval Time: 0.0734s\n",
      "Epoch 39| Loss: 0.0112| Acc: 1.0000| Train Time: 0.0150s\n"
     ]
    },
    {
     "output_type": "stream",
     "name": "stderr",
     "text": [
      "Evaluating: 100%|██████████| 5416/5416 [00:00<00:00, 61544.75it/s]\n"
     ]
    },
    {
     "output_type": "stream",
     "name": "stdout",
     "text": [
      "Train: 1.0000| Val: 0.7700| Test: 0.7780| Eval Time: 0.0940s\n",
      "Epoch 40| Loss: 0.0095| Acc: 1.0000| Train Time: 0.0150s\n"
     ]
    },
    {
     "output_type": "stream",
     "name": "stderr",
     "text": [
      "Evaluating: 100%|██████████| 5416/5416 [00:00<00:00, 79646.69it/s]\n"
     ]
    },
    {
     "output_type": "stream",
     "name": "stdout",
     "text": [
      "Train: 1.0000| Val: 0.7700| Test: 0.7760| Eval Time: 0.0740s\n",
      "Epoch 41| Loss: 0.0065| Acc: 1.0000| Train Time: 0.0140s\n"
     ]
    },
    {
     "output_type": "stream",
     "name": "stderr",
     "text": [
      "Evaluating: 100%|██████████| 5416/5416 [00:00<00:00, 75222.94it/s]\n"
     ]
    },
    {
     "output_type": "stream",
     "name": "stdout",
     "text": [
      "Train: 1.0000| Val: 0.7700| Test: 0.7760| Eval Time: 0.0780s\n",
      "Epoch 42| Loss: 0.0036| Acc: 1.0000| Train Time: 0.0140s\n"
     ]
    },
    {
     "output_type": "stream",
     "name": "stderr",
     "text": [
      "Evaluating: 100%|██████████| 5416/5416 [00:00<00:00, 71260.50it/s]\n"
     ]
    },
    {
     "output_type": "stream",
     "name": "stdout",
     "text": [
      "Train: 1.0000| Val: 0.7700| Test: 0.7740| Eval Time: 0.0830s\n",
      "Epoch 43| Loss: 0.0054| Acc: 1.0000| Train Time: 0.0150s\n"
     ]
    },
    {
     "output_type": "stream",
     "name": "stderr",
     "text": [
      "Evaluating: 100%|██████████| 5416/5416 [00:00<00:00, 69434.14it/s]\n"
     ]
    },
    {
     "output_type": "stream",
     "name": "stdout",
     "text": [
      "Train: 1.0000| Val: 0.7700| Test: 0.7740| Eval Time: 0.0830s\n",
      "Epoch 44| Loss: 0.0048| Acc: 1.0000| Train Time: 0.0150s\n"
     ]
    },
    {
     "output_type": "stream",
     "name": "stderr",
     "text": [
      "Evaluating: 100%|██████████| 5416/5416 [00:00<00:00, 65255.12it/s]\n"
     ]
    },
    {
     "output_type": "stream",
     "name": "stdout",
     "text": [
      "Train: 1.0000| Val: 0.7680| Test: 0.7760| Eval Time: 0.0900s\n",
      "Epoch 45| Loss: 0.0046| Acc: 1.0000| Train Time: 0.0155s\n"
     ]
    },
    {
     "output_type": "stream",
     "name": "stderr",
     "text": [
      "Evaluating: 100%|██████████| 5416/5416 [00:00<00:00, 70334.92it/s]\n"
     ]
    },
    {
     "output_type": "stream",
     "name": "stdout",
     "text": [
      "Train: 1.0000| Val: 0.7680| Test: 0.7760| Eval Time: 0.0820s\n",
      "Epoch 46| Loss: 0.0057| Acc: 1.0000| Train Time: 0.0130s\n"
     ]
    },
    {
     "output_type": "stream",
     "name": "stderr",
     "text": [
      "Evaluating: 100%|██████████| 5416/5416 [00:00<00:00, 70340.58it/s]\n"
     ]
    },
    {
     "output_type": "stream",
     "name": "stdout",
     "text": [
      "Train: 1.0000| Val: 0.7680| Test: 0.7770| Eval Time: 0.0830s\n",
      "Epoch 47| Loss: 0.0149| Acc: 1.0000| Train Time: 0.0140s\n"
     ]
    },
    {
     "output_type": "stream",
     "name": "stderr",
     "text": [
      "Evaluating: 100%|██████████| 5416/5416 [00:00<00:00, 70339.28it/s]\n"
     ]
    },
    {
     "output_type": "stream",
     "name": "stdout",
     "text": [
      "Train: 1.0000| Val: 0.7700| Test: 0.7770| Eval Time: 0.0830s\n",
      "Epoch 48| Loss: 0.0117| Acc: 1.0000| Train Time: 0.0221s\n"
     ]
    },
    {
     "output_type": "stream",
     "name": "stderr",
     "text": [
      "Evaluating: 100%|██████████| 5416/5416 [00:00<00:00, 59519.86it/s]\n"
     ]
    },
    {
     "output_type": "stream",
     "name": "stdout",
     "text": [
      "Train: 1.0000| Val: 0.7720| Test: 0.7770| Eval Time: 0.0980s\n",
      "Epoch 49| Loss: 0.0126| Acc: 1.0000| Train Time: 0.0170s\n"
     ]
    },
    {
     "output_type": "stream",
     "name": "stderr",
     "text": [
      "Evaluating: 100%|██████████| 5416/5416 [00:00<00:00, 62978.17it/s]\n"
     ]
    },
    {
     "output_type": "stream",
     "name": "stdout",
     "text": [
      "Train: 1.0000| Val: 0.7680| Test: 0.7770| Eval Time: 0.0920s\n",
      "Epoch 50| Loss: 0.0082| Acc: 1.0000| Train Time: 0.0150s\n"
     ]
    },
    {
     "output_type": "stream",
     "name": "stderr",
     "text": [
      "Evaluating: 100%|██████████| 5416/5416 [00:00<00:00, 71258.93it/s]\n"
     ]
    },
    {
     "output_type": "stream",
     "name": "stdout",
     "text": [
      "Train: 1.0000| Val: 0.7680| Test: 0.7770| Eval Time: 0.0830s\n",
      "Epoch 51| Loss: 0.0020| Acc: 1.0000| Train Time: 0.0150s\n"
     ]
    },
    {
     "output_type": "stream",
     "name": "stderr",
     "text": [
      "Evaluating: 100%|██████████| 5416/5416 [00:00<00:00, 58231.97it/s]\n"
     ]
    },
    {
     "output_type": "stream",
     "name": "stdout",
     "text": [
      "Train: 1.0000| Val: 0.7660| Test: 0.7770| Eval Time: 0.0980s\n",
      "Epoch 52| Loss: 0.0039| Acc: 1.0000| Train Time: 0.0140s\n"
     ]
    },
    {
     "output_type": "stream",
     "name": "stderr",
     "text": [
      "Evaluating: 100%|██████████| 5416/5416 [00:00<00:00, 62255.00it/s]\n"
     ]
    },
    {
     "output_type": "stream",
     "name": "stdout",
     "text": [
      "Train: 1.0000| Val: 0.7660| Test: 0.7750| Eval Time: 0.0930s\n",
      "Epoch 53| Loss: 0.0027| Acc: 1.0000| Train Time: 0.0140s\n"
     ]
    },
    {
     "output_type": "stream",
     "name": "stderr",
     "text": [
      "Evaluating: 100%|██████████| 5416/5416 [00:00<00:00, 63718.33it/s]\n"
     ]
    },
    {
     "output_type": "stream",
     "name": "stdout",
     "text": [
      "Train: 1.0000| Val: 0.7680| Test: 0.7750| Eval Time: 0.0910s\n",
      "Epoch 54| Loss: 0.0024| Acc: 1.0000| Train Time: 0.0130s\n"
     ]
    },
    {
     "output_type": "stream",
     "name": "stderr",
     "text": [
      "Evaluating: 100%|██████████| 5416/5416 [00:00<00:00, 71264.30it/s]\n"
     ]
    },
    {
     "output_type": "stream",
     "name": "stdout",
     "text": [
      "Train: 1.0000| Val: 0.7660| Test: 0.7750| Eval Time: 0.0800s\n",
      "\n",
      "Result of  2. run| Train: 0.9857| Val: 0.7900| Test: 0.7660\n",
      "\n",
      "Run 03:\n"
     ]
    },
    {
     "output_type": "stream",
     "name": "stderr",
     "text": [
      "Epoch 01: 100%|██████████| 140/140 [00:00<00:00, 10000.72it/s]\n"
     ]
    },
    {
     "output_type": "stream",
     "name": "stdout",
     "text": [
      "Epoch 01| Loss: 1.9618| Acc: 0.1286| Train Time: 0.0160s\n"
     ]
    },
    {
     "output_type": "stream",
     "name": "stderr",
     "text": [
      "Evaluating: 100%|██████████| 5416/5416 [00:00<00:00, 64475.92it/s]\n"
     ]
    },
    {
     "output_type": "stream",
     "name": "stdout",
     "text": [
      "Train: 0.8429| Val: 0.5260| Test: 0.5480| Eval Time: 0.0910s\n",
      "Epoch 02| Loss: 1.5915| Acc: 0.5714| Train Time: 0.0160s\n"
     ]
    },
    {
     "output_type": "stream",
     "name": "stderr",
     "text": [
      "Evaluating: 100%|██████████| 5416/5416 [00:00<00:00, 55835.80it/s]\n"
     ]
    },
    {
     "output_type": "stream",
     "name": "stdout",
     "text": [
      "Train: 0.9571| Val: 0.7120| Test: 0.7100| Eval Time: 0.1030s\n",
      "Epoch 03| Loss: 1.1728| Acc: 0.8214| Train Time: 0.0150s\n"
     ]
    },
    {
     "output_type": "stream",
     "name": "stderr",
     "text": [
      "Evaluating: 100%|██████████| 5416/5416 [00:00<00:00, 58446.22it/s]\n"
     ]
    },
    {
     "output_type": "stream",
     "name": "stdout",
     "text": [
      "Train: 0.9714| Val: 0.7260| Test: 0.7410| Eval Time: 0.0987s\n",
      "Epoch 04| Loss: 0.9001| Acc: 0.9000| Train Time: 0.0140s\n"
     ]
    },
    {
     "output_type": "stream",
     "name": "stderr",
     "text": [
      "Evaluating: 100%|██████████| 5416/5416 [00:00<00:00, 54708.40it/s]\n"
     ]
    },
    {
     "output_type": "stream",
     "name": "stdout",
     "text": [
      "Train: 0.9786| Val: 0.7340| Test: 0.7510| Eval Time: 0.1050s\n",
      "Epoch 05| Loss: 0.7134| Acc: 0.9143| Train Time: 0.0170s\n"
     ]
    },
    {
     "output_type": "stream",
     "name": "stderr",
     "text": [
      "Evaluating: 100%|██████████| 5416/5416 [00:00<00:00, 84624.83it/s]\n"
     ]
    },
    {
     "output_type": "stream",
     "name": "stdout",
     "text": [
      "Train: 0.9857| Val: 0.7520| Test: 0.7720| Eval Time: 0.0700s\n",
      "Epoch 06| Loss: 0.4592| Acc: 0.9643| Train Time: 0.0120s\n"
     ]
    },
    {
     "output_type": "stream",
     "name": "stderr",
     "text": [
      "Evaluating: 100%|██████████| 5416/5416 [00:00<00:00, 66863.93it/s]\n"
     ]
    },
    {
     "output_type": "stream",
     "name": "stdout",
     "text": [
      "Train: 0.9929| Val: 0.7640| Test: 0.7850| Eval Time: 0.0870s\n",
      "Epoch 07| Loss: 0.4064| Acc: 0.9714| Train Time: 0.0120s\n"
     ]
    },
    {
     "output_type": "stream",
     "name": "stderr",
     "text": [
      "Evaluating: 100%|██████████| 5416/5416 [00:00<00:00, 71264.08it/s]\n"
     ]
    },
    {
     "output_type": "stream",
     "name": "stdout",
     "text": [
      "Train: 0.9929| Val: 0.7660| Test: 0.7910| Eval Time: 0.0820s\n",
      "Epoch 08| Loss: 0.3121| Acc: 0.9857| Train Time: 0.0130s\n"
     ]
    },
    {
     "output_type": "stream",
     "name": "stderr",
     "text": [
      "Evaluating: 100%|██████████| 5416/5416 [00:00<00:00, 62254.66it/s]\n"
     ]
    },
    {
     "output_type": "stream",
     "name": "stdout",
     "text": [
      "Train: 1.0000| Val: 0.7640| Test: 0.7930| Eval Time: 0.0930s\n",
      "Epoch 09| Loss: 0.2724| Acc: 0.9786| Train Time: 0.0160s\n"
     ]
    },
    {
     "output_type": "stream",
     "name": "stderr",
     "text": [
      "Evaluating: 100%|██████████| 5416/5416 [00:00<00:00, 66866.29it/s]\n"
     ]
    },
    {
     "output_type": "stream",
     "name": "stdout",
     "text": [
      "Train: 1.0000| Val: 0.7660| Test: 0.7970| Eval Time: 0.0880s\n",
      "Epoch 10| Loss: 0.2437| Acc: 0.9857| Train Time: 0.0160s\n"
     ]
    },
    {
     "output_type": "stream",
     "name": "stderr",
     "text": [
      "Evaluating: 100%|██████████| 5416/5416 [00:00<00:00, 65256.24it/s]\n"
     ]
    },
    {
     "output_type": "stream",
     "name": "stdout",
     "text": [
      "Train: 1.0000| Val: 0.7700| Test: 0.7990| Eval Time: 0.0890s\n",
      "Epoch 11| Loss: 0.1786| Acc: 0.9929| Train Time: 0.0150s\n"
     ]
    },
    {
     "output_type": "stream",
     "name": "stderr",
     "text": [
      "Evaluating: 100%|██████████| 5416/5416 [00:00<00:00, 62946.23it/s]\n"
     ]
    },
    {
     "output_type": "stream",
     "name": "stdout",
     "text": [
      "Train: 1.0000| Val: 0.7740| Test: 0.8040| Eval Time: 0.0930s\n",
      "Epoch 12| Loss: 0.1564| Acc: 0.9929| Train Time: 0.0140s\n"
     ]
    },
    {
     "output_type": "stream",
     "name": "stderr",
     "text": [
      "Evaluating: 100%|██████████| 5416/5416 [00:00<00:00, 70740.78it/s]\n"
     ]
    },
    {
     "output_type": "stream",
     "name": "stdout",
     "text": [
      "Train: 1.0000| Val: 0.7760| Test: 0.8060| Eval Time: 0.0826s\n",
      "Epoch 13| Loss: 0.1199| Acc: 1.0000| Train Time: 0.0130s\n"
     ]
    },
    {
     "output_type": "stream",
     "name": "stderr",
     "text": [
      "Evaluating: 100%|██████████| 5416/5416 [00:00<00:00, 72213.06it/s]\n"
     ]
    },
    {
     "output_type": "stream",
     "name": "stdout",
     "text": [
      "Train: 1.0000| Val: 0.7740| Test: 0.8060| Eval Time: 0.0830s\n",
      "Epoch 14| Loss: 0.0813| Acc: 1.0000| Train Time: 0.0150s\n"
     ]
    },
    {
     "output_type": "stream",
     "name": "stderr",
     "text": [
      "Evaluating: 100%|██████████| 5416/5416 [00:00<00:00, 62254.31it/s]\n"
     ]
    },
    {
     "output_type": "stream",
     "name": "stdout",
     "text": [
      "Train: 1.0000| Val: 0.7680| Test: 0.8050| Eval Time: 0.0930s\n",
      "Epoch 15| Loss: 0.1087| Acc: 1.0000| Train Time: 0.0140s\n"
     ]
    },
    {
     "output_type": "stream",
     "name": "stderr",
     "text": [
      "Evaluating: 100%|██████████| 5416/5416 [00:00<00:00, 66862.55it/s]\n"
     ]
    },
    {
     "output_type": "stream",
     "name": "stdout",
     "text": [
      "Train: 1.0000| Val: 0.7640| Test: 0.8040| Eval Time: 0.0860s\n",
      "Epoch 16| Loss: 0.0721| Acc: 1.0000| Train Time: 0.0170s\n"
     ]
    },
    {
     "output_type": "stream",
     "name": "stderr",
     "text": [
      "Evaluating: 100%|██████████| 5416/5416 [00:00<00:00, 62976.07it/s]\n"
     ]
    },
    {
     "output_type": "stream",
     "name": "stdout",
     "text": [
      "Train: 1.0000| Val: 0.7620| Test: 0.8050| Eval Time: 0.0920s\n",
      "Epoch 17| Loss: 0.0928| Acc: 1.0000| Train Time: 0.0120s\n"
     ]
    },
    {
     "output_type": "stream",
     "name": "stderr",
     "text": [
      "Evaluating: 100%|██████████| 5416/5416 [00:00<00:00, 66050.11it/s]\n"
     ]
    },
    {
     "output_type": "stream",
     "name": "stdout",
     "text": [
      "Train: 1.0000| Val: 0.7620| Test: 0.8010| Eval Time: 0.0860s\n",
      "Epoch 18| Loss: 0.0675| Acc: 1.0000| Train Time: 0.0110s\n"
     ]
    },
    {
     "output_type": "stream",
     "name": "stderr",
     "text": [
      "Evaluating: 100%|██████████| 5416/5416 [00:00<00:00, 62252.61it/s]\n"
     ]
    },
    {
     "output_type": "stream",
     "name": "stdout",
     "text": [
      "Train: 1.0000| Val: 0.7620| Test: 0.8030| Eval Time: 0.0910s\n",
      "Epoch 19| Loss: 0.0616| Acc: 0.9929| Train Time: 0.0145s\n"
     ]
    },
    {
     "output_type": "stream",
     "name": "stderr",
     "text": [
      "Evaluating: 100%|██████████| 5416/5416 [00:00<00:00, 62255.51it/s]\n"
     ]
    },
    {
     "output_type": "stream",
     "name": "stdout",
     "text": [
      "Train: 1.0000| Val: 0.7640| Test: 0.8020| Eval Time: 0.0920s\n",
      "Epoch 20| Loss: 0.0365| Acc: 1.0000| Train Time: 0.0160s\n"
     ]
    },
    {
     "output_type": "stream",
     "name": "stderr",
     "text": [
      "Evaluating: 100%|██████████| 5416/5416 [00:00<00:00, 64477.94it/s]\n"
     ]
    },
    {
     "output_type": "stream",
     "name": "stdout",
     "text": [
      "Train: 1.0000| Val: 0.7660| Test: 0.8030| Eval Time: 0.0910s\n",
      "Epoch 21| Loss: 0.0264| Acc: 1.0000| Train Time: 0.0180s\n"
     ]
    },
    {
     "output_type": "stream",
     "name": "stderr",
     "text": [
      "Evaluating: 100%|██████████| 5416/5416 [00:00<00:00, 42985.05it/s]\n"
     ]
    },
    {
     "output_type": "stream",
     "name": "stdout",
     "text": [
      "Train: 1.0000| Val: 0.7680| Test: 0.8040| Eval Time: 0.1330s\n",
      "Epoch 22| Loss: 0.0553| Acc: 1.0000| Train Time: 0.0180s\n"
     ]
    },
    {
     "output_type": "stream",
     "name": "stderr",
     "text": [
      "Evaluating: 100%|██████████| 5416/5416 [00:00<00:00, 69207.79it/s]\n"
     ]
    },
    {
     "output_type": "stream",
     "name": "stdout",
     "text": [
      "Train: 1.0000| Val: 0.7700| Test: 0.8040| Eval Time: 0.0843s\n",
      "Epoch 23| Loss: 0.0298| Acc: 1.0000| Train Time: 0.0150s\n"
     ]
    },
    {
     "output_type": "stream",
     "name": "stderr",
     "text": [
      "Evaluating: 100%|██████████| 5416/5416 [00:00<00:00, 65255.68it/s]\n"
     ]
    },
    {
     "output_type": "stream",
     "name": "stdout",
     "text": [
      "Train: 1.0000| Val: 0.7680| Test: 0.8010| Eval Time: 0.0880s\n",
      "Epoch 24| Loss: 0.0267| Acc: 1.0000| Train Time: 0.0140s\n"
     ]
    },
    {
     "output_type": "stream",
     "name": "stderr",
     "text": [
      "Evaluating: 100%|██████████| 5416/5416 [00:00<00:00, 72210.76it/s]\n"
     ]
    },
    {
     "output_type": "stream",
     "name": "stdout",
     "text": [
      "Train: 1.0000| Val: 0.7700| Test: 0.8040| Eval Time: 0.0800s\n",
      "Epoch 25| Loss: 0.0285| Acc: 1.0000| Train Time: 0.0170s\n"
     ]
    },
    {
     "output_type": "stream",
     "name": "stderr",
     "text": [
      "Evaluating: 100%|██████████| 5416/5416 [00:00<00:00, 63718.15it/s]\n"
     ]
    },
    {
     "output_type": "stream",
     "name": "stdout",
     "text": [
      "Train: 1.0000| Val: 0.7640| Test: 0.8040| Eval Time: 0.0910s\n",
      "Epoch 26| Loss: 0.0089| Acc: 1.0000| Train Time: 0.0110s\n"
     ]
    },
    {
     "output_type": "stream",
     "name": "stderr",
     "text": [
      "Evaluating: 100%|██████████| 5416/5416 [00:00<00:00, 64477.94it/s]\n"
     ]
    },
    {
     "output_type": "stream",
     "name": "stdout",
     "text": [
      "Train: 1.0000| Val: 0.7640| Test: 0.8030| Eval Time: 0.0900s\n",
      "Epoch 27| Loss: 0.0276| Acc: 1.0000| Train Time: 0.0150s\n"
     ]
    },
    {
     "output_type": "stream",
     "name": "stderr",
     "text": [
      "Evaluating: 100%|██████████| 5416/5416 [00:00<00:00, 67702.89it/s]\n"
     ]
    },
    {
     "output_type": "stream",
     "name": "stdout",
     "text": [
      "Train: 1.0000| Val: 0.7640| Test: 0.8030| Eval Time: 0.0870s\n",
      "Epoch 28| Loss: 0.0133| Acc: 1.0000| Train Time: 0.0170s\n"
     ]
    },
    {
     "output_type": "stream",
     "name": "stderr",
     "text": [
      "Evaluating: 100%|██████████| 5416/5416 [00:00<00:00, 56417.67it/s]\n"
     ]
    },
    {
     "output_type": "stream",
     "name": "stdout",
     "text": [
      "Train: 1.0000| Val: 0.7640| Test: 0.8010| Eval Time: 0.1030s\n",
      "Epoch 29| Loss: 0.0139| Acc: 1.0000| Train Time: 0.0170s\n"
     ]
    },
    {
     "output_type": "stream",
     "name": "stderr",
     "text": [
      "Evaluating: 100%|██████████| 5416/5416 [00:00<00:00, 51581.41it/s]\n"
     ]
    },
    {
     "output_type": "stream",
     "name": "stdout",
     "text": [
      "Train: 1.0000| Val: 0.7660| Test: 0.8000| Eval Time: 0.1120s\n",
      "Epoch 30| Loss: 0.0039| Acc: 1.0000| Train Time: 0.0140s\n"
     ]
    },
    {
     "output_type": "stream",
     "name": "stderr",
     "text": [
      "Evaluating: 100%|██████████| 5416/5416 [00:00<00:00, 62254.83it/s]\n"
     ]
    },
    {
     "output_type": "stream",
     "name": "stdout",
     "text": [
      "Train: 1.0000| Val: 0.7660| Test: 0.8000| Eval Time: 0.0930s\n",
      "Epoch 31| Loss: 0.0252| Acc: 1.0000| Train Time: 0.0160s\n"
     ]
    },
    {
     "output_type": "stream",
     "name": "stderr",
     "text": [
      "Evaluating: 100%|██████████| 5416/5416 [00:00<00:00, 60179.11it/s]\n"
     ]
    },
    {
     "output_type": "stream",
     "name": "stdout",
     "text": [
      "Train: 1.0000| Val: 0.7660| Test: 0.7990| Eval Time: 0.0960s\n",
      "Epoch 32| Loss: 0.0195| Acc: 1.0000| Train Time: 0.0150s\n"
     ]
    },
    {
     "output_type": "stream",
     "name": "stderr",
     "text": [
      "Evaluating: 100%|██████████| 5416/5416 [00:00<00:00, 64475.74it/s]\n"
     ]
    },
    {
     "output_type": "stream",
     "name": "stdout",
     "text": [
      "Train: 1.0000| Val: 0.7660| Test: 0.7980| Eval Time: 0.0900s\n",
      "Epoch 33| Loss: 0.0275| Acc: 1.0000| Train Time: 0.0140s\n"
     ]
    },
    {
     "output_type": "stream",
     "name": "stderr",
     "text": [
      "Evaluating: 100%|██████████| 5416/5416 [00:00<00:00, 72211.22it/s]\n"
     ]
    },
    {
     "output_type": "stream",
     "name": "stdout",
     "text": [
      "Train: 1.0000| Val: 0.7640| Test: 0.8000| Eval Time: 0.0800s\n",
      "Epoch 34| Loss: 0.0125| Acc: 1.0000| Train Time: 0.0150s\n"
     ]
    },
    {
     "output_type": "stream",
     "name": "stderr",
     "text": [
      "Evaluating: 100%|██████████| 5416/5416 [00:00<00:00, 62252.44it/s]\n"
     ]
    },
    {
     "output_type": "stream",
     "name": "stdout",
     "text": [
      "Train: 1.0000| Val: 0.7640| Test: 0.8000| Eval Time: 0.0950s\n",
      "Epoch 35| Loss: 0.0169| Acc: 1.0000| Train Time: 0.0170s\n"
     ]
    },
    {
     "output_type": "stream",
     "name": "stderr",
     "text": [
      "Evaluating: 100%|██████████| 5416/5416 [00:00<00:00, 57617.25it/s]\n"
     ]
    },
    {
     "output_type": "stream",
     "name": "stdout",
     "text": [
      "Train: 1.0000| Val: 0.7640| Test: 0.8000| Eval Time: 0.1010s\n",
      "Epoch 36| Loss: 0.0038| Acc: 1.0000| Train Time: 0.0150s\n"
     ]
    },
    {
     "output_type": "stream",
     "name": "stderr",
     "text": [
      "Evaluating: 100%|██████████| 5416/5416 [00:00<00:00, 69438.38it/s]\n"
     ]
    },
    {
     "output_type": "stream",
     "name": "stdout",
     "text": [
      "Train: 1.0000| Val: 0.7640| Test: 0.8010| Eval Time: 0.0840s\n",
      "Epoch 37| Loss: 0.0099| Acc: 1.0000| Train Time: 0.0150s\n"
     ]
    },
    {
     "output_type": "stream",
     "name": "stderr",
     "text": [
      "Evaluating: 100%|██████████| 5416/5416 [00:00<00:00, 56415.43it/s]\n"
     ]
    },
    {
     "output_type": "stream",
     "name": "stdout",
     "text": [
      "Train: 1.0000| Val: 0.7620| Test: 0.8000| Eval Time: 0.1020s\n",
      "Epoch 38| Loss: 0.0135| Acc: 1.0000| Train Time: 0.0180s\n"
     ]
    },
    {
     "output_type": "stream",
     "name": "stderr",
     "text": [
      "Evaluating: 100%|██████████| 5416/5416 [00:00<00:00, 50616.77it/s]\n"
     ]
    },
    {
     "output_type": "stream",
     "name": "stdout",
     "text": [
      "Train: 1.0000| Val: 0.7620| Test: 0.7990| Eval Time: 0.1140s\n",
      "Epoch 39| Loss: 0.0091| Acc: 1.0000| Train Time: 0.0190s\n"
     ]
    },
    {
     "output_type": "stream",
     "name": "stderr",
     "text": [
      "Evaluating: 100%|██████████| 5416/5416 [00:00<00:00, 54706.29it/s]\n"
     ]
    },
    {
     "output_type": "stream",
     "name": "stdout",
     "text": [
      "Train: 1.0000| Val: 0.7620| Test: 0.7980| Eval Time: 0.1060s\n",
      "Epoch 40| Loss: 0.0087| Acc: 1.0000| Train Time: 0.0220s\n"
     ]
    },
    {
     "output_type": "stream",
     "name": "stderr",
     "text": [
      "Evaluating: 100%|██████████| 5416/5416 [00:00<00:00, 65191.07it/s]\n"
     ]
    },
    {
     "output_type": "stream",
     "name": "stdout",
     "text": [
      "Train: 1.0000| Val: 0.7620| Test: 0.7990| Eval Time: 0.0881s\n",
      "Epoch 41| Loss: 0.0084| Acc: 1.0000| Train Time: 0.0120s\n"
     ]
    },
    {
     "output_type": "stream",
     "name": "stderr",
     "text": [
      "Evaluating: 100%|██████████| 5416/5416 [00:00<00:00, 61545.75it/s]\n"
     ]
    },
    {
     "output_type": "stream",
     "name": "stdout",
     "text": [
      "Train: 1.0000| Val: 0.7580| Test: 0.7990| Eval Time: 0.0940s\n",
      "Epoch 42| Loss: 0.0035| Acc: 1.0000| Train Time: 0.0170s\n"
     ]
    },
    {
     "output_type": "stream",
     "name": "stderr",
     "text": [
      "Evaluating: 100%|██████████| 5416/5416 [00:00<00:00, 61546.41it/s]\n"
     ]
    },
    {
     "output_type": "stream",
     "name": "stdout",
     "text": [
      "Train: 1.0000| Val: 0.7620| Test: 0.7980| Eval Time: 0.0930s\n",
      "Epoch 43| Loss: 0.0109| Acc: 1.0000| Train Time: 0.0150s\n"
     ]
    },
    {
     "output_type": "stream",
     "name": "stderr",
     "text": [
      "Evaluating: 100%|██████████| 5416/5416 [00:00<00:00, 76283.38it/s]\n"
     ]
    },
    {
     "output_type": "stream",
     "name": "stdout",
     "text": [
      "Train: 1.0000| Val: 0.7620| Test: 0.7970| Eval Time: 0.0760s\n",
      "Epoch 44| Loss: 0.0082| Acc: 1.0000| Train Time: 0.0160s\n"
     ]
    },
    {
     "output_type": "stream",
     "name": "stderr",
     "text": [
      "Evaluating: 100%|██████████| 5416/5416 [00:00<00:00, 76282.35it/s]\n"
     ]
    },
    {
     "output_type": "stream",
     "name": "stdout",
     "text": [
      "Train: 1.0000| Val: 0.7600| Test: 0.7960| Eval Time: 0.0780s\n",
      "Epoch 45| Loss: 0.0047| Acc: 1.0000| Train Time: 0.0140s\n"
     ]
    },
    {
     "output_type": "stream",
     "name": "stderr",
     "text": [
      "Evaluating: 100%|██████████| 5416/5416 [00:00<00:00, 71262.06it/s]\n"
     ]
    },
    {
     "output_type": "stream",
     "name": "stdout",
     "text": [
      "Train: 1.0000| Val: 0.7620| Test: 0.7940| Eval Time: 0.0810s\n",
      "Epoch 46| Loss: 0.0030| Acc: 1.0000| Train Time: 0.0150s\n"
     ]
    },
    {
     "output_type": "stream",
     "name": "stderr",
     "text": [
      "Evaluating: 100%|██████████| 5416/5416 [00:00<00:00, 65251.18it/s]\n"
     ]
    },
    {
     "output_type": "stream",
     "name": "stdout",
     "text": [
      "Train: 1.0000| Val: 0.7600| Test: 0.7920| Eval Time: 0.0900s\n",
      "Epoch 47| Loss: 0.0093| Acc: 1.0000| Train Time: 0.0160s\n"
     ]
    },
    {
     "output_type": "stream",
     "name": "stderr",
     "text": [
      "Evaluating: 100%|██████████| 5416/5416 [00:00<00:00, 76284.15it/s]\n"
     ]
    },
    {
     "output_type": "stream",
     "name": "stdout",
     "text": [
      "Train: 1.0000| Val: 0.7600| Test: 0.7930| Eval Time: 0.0780s\n",
      "Epoch 48| Loss: 0.0085| Acc: 1.0000| Train Time: 0.0120s\n"
     ]
    },
    {
     "output_type": "stream",
     "name": "stderr",
     "text": [
      "Evaluating: 100%|██████████| 5416/5416 [00:00<00:00, 72217.19it/s]\n"
     ]
    },
    {
     "output_type": "stream",
     "name": "stdout",
     "text": [
      "Train: 1.0000| Val: 0.7600| Test: 0.7930| Eval Time: 0.0800s\n",
      "Epoch 49| Loss: 0.0049| Acc: 1.0000| Train Time: 0.0140s\n"
     ]
    },
    {
     "output_type": "stream",
     "name": "stderr",
     "text": [
      "Evaluating: 100%|██████████| 5416/5416 [00:00<00:00, 82061.22it/s]\n"
     ]
    },
    {
     "output_type": "stream",
     "name": "stdout",
     "text": [
      "Train: 1.0000| Val: 0.7600| Test: 0.7920| Eval Time: 0.0730s\n",
      "Epoch 50| Loss: 0.0043| Acc: 1.0000| Train Time: 0.0150s\n"
     ]
    },
    {
     "output_type": "stream",
     "name": "stderr",
     "text": [
      "Evaluating: 100%|██████████| 5416/5416 [00:00<00:00, 65254.74it/s]\n"
     ]
    },
    {
     "output_type": "stream",
     "name": "stdout",
     "text": [
      "Train: 1.0000| Val: 0.7600| Test: 0.7910| Eval Time: 0.0890s\n",
      "Epoch 51| Loss: 0.0027| Acc: 1.0000| Train Time: 0.0150s\n"
     ]
    },
    {
     "output_type": "stream",
     "name": "stderr",
     "text": [
      "Evaluating: 100%|██████████| 5416/5416 [00:00<00:00, 65253.62it/s]\n"
     ]
    },
    {
     "output_type": "stream",
     "name": "stdout",
     "text": [
      "Train: 1.0000| Val: 0.7600| Test: 0.7910| Eval Time: 0.0890s\n",
      "Epoch 52| Loss: 0.0026| Acc: 1.0000| Train Time: 0.0130s\n"
     ]
    },
    {
     "output_type": "stream",
     "name": "stderr",
     "text": [
      "Evaluating: 100%|██████████| 5416/5416 [00:00<00:00, 74196.19it/s]\n"
     ]
    },
    {
     "output_type": "stream",
     "name": "stdout",
     "text": [
      "Train: 1.0000| Val: 0.7600| Test: 0.7910| Eval Time: 0.0780s\n",
      "Epoch 53| Loss: 0.0015| Acc: 1.0000| Train Time: 0.0140s\n"
     ]
    },
    {
     "output_type": "stream",
     "name": "stderr",
     "text": [
      "Evaluating: 100%|██████████| 5416/5416 [00:00<00:00, 66864.32it/s]\n"
     ]
    },
    {
     "output_type": "stream",
     "name": "stdout",
     "text": [
      "Train: 1.0000| Val: 0.7600| Test: 0.7900| Eval Time: 0.0860s\n",
      "Epoch 54| Loss: 0.0057| Acc: 1.0000| Train Time: 0.0140s\n"
     ]
    },
    {
     "output_type": "stream",
     "name": "stderr",
     "text": [
      "Evaluating: 100%|██████████| 5416/5416 [00:00<00:00, 63717.26it/s]\n"
     ]
    },
    {
     "output_type": "stream",
     "name": "stdout",
     "text": [
      "Train: 1.0000| Val: 0.7580| Test: 0.7890| Eval Time: 0.0910s\n",
      "Epoch 55| Loss: 0.0045| Acc: 1.0000| Train Time: 0.0150s\n"
     ]
    },
    {
     "output_type": "stream",
     "name": "stderr",
     "text": [
      "Evaluating: 100%|██████████| 5416/5416 [00:00<00:00, 61545.41it/s]\n"
     ]
    },
    {
     "output_type": "stream",
     "name": "stdout",
     "text": [
      "Train: 1.0000| Val: 0.7580| Test: 0.7890| Eval Time: 0.0950s\n",
      "Epoch 56| Loss: 0.0028| Acc: 1.0000| Train Time: 0.0180s\n"
     ]
    },
    {
     "output_type": "stream",
     "name": "stderr",
     "text": [
      "Evaluating: 100%|██████████| 5416/5416 [00:00<00:00, 66863.53it/s]\n"
     ]
    },
    {
     "output_type": "stream",
     "name": "stdout",
     "text": [
      "Train: 1.0000| Val: 0.7580| Test: 0.7890| Eval Time: 0.0860s\n",
      "Epoch 57| Loss: 0.0039| Acc: 1.0000| Train Time: 0.0140s\n"
     ]
    },
    {
     "output_type": "stream",
     "name": "stderr",
     "text": [
      "Evaluating: 100%|██████████| 5416/5416 [00:00<00:00, 62814.82it/s]\n"
     ]
    },
    {
     "output_type": "stream",
     "name": "stdout",
     "text": [
      "Train: 1.0000| Val: 0.7580| Test: 0.7880| Eval Time: 0.0922s\n",
      "Epoch 58| Loss: 0.0028| Acc: 1.0000| Train Time: 0.0130s\n"
     ]
    },
    {
     "output_type": "stream",
     "name": "stderr",
     "text": [
      "Evaluating: 100%|██████████| 5416/5416 [00:00<00:00, 68557.79it/s]\n"
     ]
    },
    {
     "output_type": "stream",
     "name": "stdout",
     "text": [
      "Train: 1.0000| Val: 0.7580| Test: 0.7880| Eval Time: 0.0860s\n",
      "Epoch 59| Loss: 0.0034| Acc: 1.0000| Train Time: 0.0150s\n"
     ]
    },
    {
     "output_type": "stream",
     "name": "stderr",
     "text": [
      "Evaluating: 100%|██████████| 5416/5416 [00:00<00:00, 62473.29it/s]\n"
     ]
    },
    {
     "output_type": "stream",
     "name": "stdout",
     "text": [
      "Train: 1.0000| Val: 0.7580| Test: 0.7870| Eval Time: 0.0937s\n",
      "Epoch 60| Loss: 0.0009| Acc: 1.0000| Train Time: 0.0170s\n"
     ]
    },
    {
     "output_type": "stream",
     "name": "stderr",
     "text": [
      "Evaluating: 100%|██████████| 5416/5416 [00:00<00:00, 56462.13it/s]\n"
     ]
    },
    {
     "output_type": "stream",
     "name": "stdout",
     "text": [
      "Train: 1.0000| Val: 0.7580| Test: 0.7870| Eval Time: 0.1019s\n",
      "Epoch 61| Loss: 0.0093| Acc: 1.0000| Train Time: 0.0120s\n"
     ]
    },
    {
     "output_type": "stream",
     "name": "stderr",
     "text": [
      "Evaluating: 100%|██████████| 5416/5416 [00:00<00:00, 60853.62it/s]\n"
     ]
    },
    {
     "output_type": "stream",
     "name": "stdout",
     "text": [
      "Train: 1.0000| Val: 0.7560| Test: 0.7870| Eval Time: 0.0940s\n",
      "Epoch 62| Loss: 0.0034| Acc: 1.0000| Train Time: 0.0130s\n"
     ]
    },
    {
     "output_type": "stream",
     "name": "stderr",
     "text": [
      "Evaluating: 100%|██████████| 5416/5416 [00:00<00:00, 71266.98it/s]\n"
     ]
    },
    {
     "output_type": "stream",
     "name": "stdout",
     "text": [
      "Train: 1.0000| Val: 0.7580| Test: 0.7870| Eval Time: 0.0810s\n",
      "\n",
      "Result of  3. run| Train: 1.0000| Val: 0.7760| Test: 0.8060\n",
      "\n",
      "Run 04:\n"
     ]
    },
    {
     "output_type": "stream",
     "name": "stderr",
     "text": [
      "Epoch 01: 100%|██████████| 140/140 [00:00<00:00, 7777.62it/s]\n"
     ]
    },
    {
     "output_type": "stream",
     "name": "stdout",
     "text": [
      "Epoch 01| Loss: 1.9443| Acc: 0.2000| Train Time: 0.0210s\n"
     ]
    },
    {
     "output_type": "stream",
     "name": "stderr",
     "text": [
      "Evaluating: 100%|██████████| 5416/5416 [00:00<00:00, 53617.40it/s]\n"
     ]
    },
    {
     "output_type": "stream",
     "name": "stdout",
     "text": [
      "Train: 0.9000| Val: 0.5680| Test: 0.6070| Eval Time: 0.1070s\n",
      "Epoch 02| Loss: 1.4692| Acc: 0.6571| Train Time: 0.0150s\n"
     ]
    },
    {
     "output_type": "stream",
     "name": "stderr",
     "text": [
      "Evaluating: 100%|██████████| 5416/5416 [00:00<00:00, 59149.31it/s]\n"
     ]
    },
    {
     "output_type": "stream",
     "name": "stdout",
     "text": [
      "Train: 0.9786| Val: 0.6900| Test: 0.7100| Eval Time: 0.0986s\n",
      "Epoch 03| Loss: 1.0774| Acc: 0.8571| Train Time: 0.0160s\n"
     ]
    },
    {
     "output_type": "stream",
     "name": "stderr",
     "text": [
      "Evaluating: 100%|██████████| 5416/5416 [00:00<00:00, 56417.39it/s]\n"
     ]
    },
    {
     "output_type": "stream",
     "name": "stdout",
     "text": [
      "Train: 1.0000| Val: 0.7560| Test: 0.7500| Eval Time: 0.1030s\n",
      "Epoch 04| Loss: 0.8438| Acc: 0.9357| Train Time: 0.0170s\n"
     ]
    },
    {
     "output_type": "stream",
     "name": "stderr",
     "text": [
      "Evaluating: 100%|██████████| 5416/5416 [00:00<00:00, 67699.86it/s]\n"
     ]
    },
    {
     "output_type": "stream",
     "name": "stdout",
     "text": [
      "Train: 0.9929| Val: 0.7560| Test: 0.7670| Eval Time: 0.0860s\n",
      "Epoch 05| Loss: 0.7024| Acc: 0.9357| Train Time: 0.0170s\n"
     ]
    },
    {
     "output_type": "stream",
     "name": "stderr",
     "text": [
      "Evaluating: 100%|██████████| 5416/5416 [00:00<00:00, 54970.93it/s]\n"
     ]
    },
    {
     "output_type": "stream",
     "name": "stdout",
     "text": [
      "Train: 0.9929| Val: 0.7460| Test: 0.7750| Eval Time: 0.1035s\n",
      "Epoch 06| Loss: 0.4468| Acc: 0.9714| Train Time: 0.0140s\n"
     ]
    },
    {
     "output_type": "stream",
     "name": "stderr",
     "text": [
      "Evaluating: 100%|██████████| 5416/5416 [00:00<00:00, 66047.23it/s]\n"
     ]
    },
    {
     "output_type": "stream",
     "name": "stdout",
     "text": [
      "Train: 0.9929| Val: 0.7600| Test: 0.7760| Eval Time: 0.0880s\n",
      "Epoch 07| Loss: 0.4657| Acc: 0.9643| Train Time: 0.0140s\n"
     ]
    },
    {
     "output_type": "stream",
     "name": "stderr",
     "text": [
      "Evaluating: 100%|██████████| 5416/5416 [00:00<00:00, 55833.47it/s]\n"
     ]
    },
    {
     "output_type": "stream",
     "name": "stdout",
     "text": [
      "Train: 0.9929| Val: 0.7580| Test: 0.7820| Eval Time: 0.1040s\n",
      "Epoch 08| Loss: 0.3577| Acc: 0.9786| Train Time: 0.0180s\n"
     ]
    },
    {
     "output_type": "stream",
     "name": "stderr",
     "text": [
      "Evaluating: 100%|██████████| 5416/5416 [00:00<00:00, 48792.66it/s]\n"
     ]
    },
    {
     "output_type": "stream",
     "name": "stdout",
     "text": [
      "Train: 1.0000| Val: 0.7520| Test: 0.7870| Eval Time: 0.1190s\n",
      "Epoch 09| Loss: 0.2837| Acc: 1.0000| Train Time: 0.0250s\n"
     ]
    },
    {
     "output_type": "stream",
     "name": "stderr",
     "text": [
      "Evaluating: 100%|██████████| 5416/5416 [00:00<00:00, 46290.46it/s]\n"
     ]
    },
    {
     "output_type": "stream",
     "name": "stdout",
     "text": [
      "Train: 1.0000| Val: 0.7580| Test: 0.7870| Eval Time: 0.1240s\n",
      "Epoch 10| Loss: 0.2492| Acc: 0.9929| Train Time: 0.0190s\n"
     ]
    },
    {
     "output_type": "stream",
     "name": "stderr",
     "text": [
      "Evaluating: 100%|██████████| 5416/5416 [00:00<00:00, 48793.71it/s]\n"
     ]
    },
    {
     "output_type": "stream",
     "name": "stdout",
     "text": [
      "Train: 1.0000| Val: 0.7600| Test: 0.7870| Eval Time: 0.1180s\n",
      "Epoch 11| Loss: 0.1507| Acc: 0.9929| Train Time: 0.0200s\n"
     ]
    },
    {
     "output_type": "stream",
     "name": "stderr",
     "text": [
      "Evaluating: 100%|██████████| 5416/5416 [00:00<00:00, 54709.19it/s]\n"
     ]
    },
    {
     "output_type": "stream",
     "name": "stdout",
     "text": [
      "Train: 1.0000| Val: 0.7620| Test: 0.7920| Eval Time: 0.1050s\n",
      "Epoch 12| Loss: 0.1229| Acc: 1.0000| Train Time: 0.0150s\n"
     ]
    },
    {
     "output_type": "stream",
     "name": "stderr",
     "text": [
      "Evaluating: 100%|██████████| 5416/5416 [00:00<00:00, 47095.55it/s]\n"
     ]
    },
    {
     "output_type": "stream",
     "name": "stdout",
     "text": [
      "Train: 1.0000| Val: 0.7620| Test: 0.7940| Eval Time: 0.1200s\n",
      "Epoch 13| Loss: 0.1433| Acc: 0.9929| Train Time: 0.0160s\n"
     ]
    },
    {
     "output_type": "stream",
     "name": "stderr",
     "text": [
      "Evaluating: 100%|██████████| 5416/5416 [00:00<00:00, 64480.13it/s]\n"
     ]
    },
    {
     "output_type": "stream",
     "name": "stdout",
     "text": [
      "Train: 1.0000| Val: 0.7560| Test: 0.7940| Eval Time: 0.0910s\n",
      "Epoch 14| Loss: 0.0818| Acc: 0.9929| Train Time: 0.0150s\n"
     ]
    },
    {
     "output_type": "stream",
     "name": "stderr",
     "text": [
      "Evaluating: 100%|██████████| 5416/5416 [00:00<00:00, 57011.37it/s]\n"
     ]
    },
    {
     "output_type": "stream",
     "name": "stdout",
     "text": [
      "Train: 1.0000| Val: 0.7560| Test: 0.7970| Eval Time: 0.1010s\n",
      "Epoch 15| Loss: 0.1003| Acc: 0.9929| Train Time: 0.0170s\n"
     ]
    },
    {
     "output_type": "stream",
     "name": "stderr",
     "text": [
      "Evaluating: 100%|██████████| 5416/5416 [00:00<00:00, 55771.65it/s]\n"
     ]
    },
    {
     "output_type": "stream",
     "name": "stdout",
     "text": [
      "Train: 1.0000| Val: 0.7580| Test: 0.7920| Eval Time: 0.1051s\n",
      "Epoch 16| Loss: 0.0439| Acc: 1.0000| Train Time: 0.0200s\n"
     ]
    },
    {
     "output_type": "stream",
     "name": "stderr",
     "text": [
      "Evaluating: 100%|██████████| 5416/5416 [00:00<00:00, 61188.99it/s]\n"
     ]
    },
    {
     "output_type": "stream",
     "name": "stdout",
     "text": [
      "Train: 1.0000| Val: 0.7580| Test: 0.7940| Eval Time: 0.0945s\n",
      "Epoch 17| Loss: 0.0681| Acc: 1.0000| Train Time: 0.0170s\n"
     ]
    },
    {
     "output_type": "stream",
     "name": "stderr",
     "text": [
      "Evaluating: 100%|██████████| 5416/5416 [00:00<00:00, 54707.22it/s]\n"
     ]
    },
    {
     "output_type": "stream",
     "name": "stdout",
     "text": [
      "Train: 1.0000| Val: 0.7560| Test: 0.7940| Eval Time: 0.1070s\n",
      "Epoch 18| Loss: 0.0522| Acc: 0.9929| Train Time: 0.0180s\n"
     ]
    },
    {
     "output_type": "stream",
     "name": "stderr",
     "text": [
      "Evaluating: 100%|██████████| 5416/5416 [00:00<00:00, 68007.53it/s]\n"
     ]
    },
    {
     "output_type": "stream",
     "name": "stdout",
     "text": [
      "Train: 1.0000| Val: 0.7580| Test: 0.7920| Eval Time: 0.0866s\n",
      "Epoch 19| Loss: 0.0453| Acc: 1.0000| Train Time: 0.0130s\n"
     ]
    },
    {
     "output_type": "stream",
     "name": "stderr",
     "text": [
      "Evaluating: 100%|██████████| 5416/5416 [00:00<00:00, 72214.21it/s]\n"
     ]
    },
    {
     "output_type": "stream",
     "name": "stdout",
     "text": [
      "Train: 1.0000| Val: 0.7600| Test: 0.7920| Eval Time: 0.0810s\n",
      "Epoch 20| Loss: 0.0291| Acc: 1.0000| Train Time: 0.0140s\n"
     ]
    },
    {
     "output_type": "stream",
     "name": "stderr",
     "text": [
      "Evaluating: 100%|██████████| 5416/5416 [00:00<00:00, 72187.36it/s]\n"
     ]
    },
    {
     "output_type": "stream",
     "name": "stdout",
     "text": [
      "Train: 1.0000| Val: 0.7640| Test: 0.7930| Eval Time: 0.0790s\n",
      "Epoch 21| Loss: 0.0364| Acc: 1.0000| Train Time: 0.0140s\n"
     ]
    },
    {
     "output_type": "stream",
     "name": "stderr",
     "text": [
      "Evaluating: 100%|██████████| 5416/5416 [00:00<00:00, 66046.85it/s]\n"
     ]
    },
    {
     "output_type": "stream",
     "name": "stdout",
     "text": [
      "Train: 1.0000| Val: 0.7600| Test: 0.7880| Eval Time: 0.0870s\n",
      "Epoch 22| Loss: 0.0140| Acc: 1.0000| Train Time: 0.0140s\n"
     ]
    },
    {
     "output_type": "stream",
     "name": "stderr",
     "text": [
      "Evaluating: 100%|██████████| 5416/5416 [00:00<00:00, 62255.51it/s]\n"
     ]
    },
    {
     "output_type": "stream",
     "name": "stdout",
     "text": [
      "Train: 1.0000| Val: 0.7620| Test: 0.7890| Eval Time: 0.0930s\n",
      "Epoch 23| Loss: 0.0253| Acc: 1.0000| Train Time: 0.0110s\n"
     ]
    },
    {
     "output_type": "stream",
     "name": "stderr",
     "text": [
      "Evaluating: 100%|██████████| 5416/5416 [00:00<00:00, 66049.34it/s]\n"
     ]
    },
    {
     "output_type": "stream",
     "name": "stdout",
     "text": [
      "Train: 1.0000| Val: 0.7640| Test: 0.7880| Eval Time: 0.0880s\n",
      "Epoch 24| Loss: 0.0280| Acc: 1.0000| Train Time: 0.0130s\n"
     ]
    },
    {
     "output_type": "stream",
     "name": "stderr",
     "text": [
      "Evaluating: 100%|██████████| 5416/5416 [00:00<00:00, 74195.46it/s]\n"
     ]
    },
    {
     "output_type": "stream",
     "name": "stdout",
     "text": [
      "Train: 1.0000| Val: 0.7620| Test: 0.7880| Eval Time: 0.0780s\n",
      "Epoch 25| Loss: 0.0237| Acc: 1.0000| Train Time: 0.0140s\n"
     ]
    },
    {
     "output_type": "stream",
     "name": "stderr",
     "text": [
      "Evaluating: 100%|██████████| 5416/5416 [00:00<00:00, 83322.70it/s]\n"
     ]
    },
    {
     "output_type": "stream",
     "name": "stdout",
     "text": [
      "Train: 1.0000| Val: 0.7600| Test: 0.7860| Eval Time: 0.0700s\n",
      "Epoch 26| Loss: 0.0111| Acc: 1.0000| Train Time: 0.0120s\n"
     ]
    },
    {
     "output_type": "stream",
     "name": "stderr",
     "text": [
      "Evaluating: 100%|██████████| 5416/5416 [00:00<00:00, 66048.19it/s]\n"
     ]
    },
    {
     "output_type": "stream",
     "name": "stdout",
     "text": [
      "Train: 1.0000| Val: 0.7560| Test: 0.7860| Eval Time: 0.0880s\n",
      "Epoch 27| Loss: 0.0171| Acc: 1.0000| Train Time: 0.0171s\n"
     ]
    },
    {
     "output_type": "stream",
     "name": "stderr",
     "text": [
      "Evaluating: 100%|██████████| 5416/5416 [00:00<00:00, 60179.43it/s]\n"
     ]
    },
    {
     "output_type": "stream",
     "name": "stdout",
     "text": [
      "Train: 1.0000| Val: 0.7580| Test: 0.7850| Eval Time: 0.0970s\n",
      "Epoch 28| Loss: 0.0133| Acc: 1.0000| Train Time: 0.0180s\n"
     ]
    },
    {
     "output_type": "stream",
     "name": "stderr",
     "text": [
      "Evaluating: 100%|██████████| 5416/5416 [00:00<00:00, 55265.82it/s]\n"
     ]
    },
    {
     "output_type": "stream",
     "name": "stdout",
     "text": [
      "Train: 1.0000| Val: 0.7540| Test: 0.7850| Eval Time: 0.1030s\n",
      "Epoch 29| Loss: 0.0077| Acc: 1.0000| Train Time: 0.0150s\n"
     ]
    },
    {
     "output_type": "stream",
     "name": "stderr",
     "text": [
      "Evaluating: 100%|██████████| 5416/5416 [00:00<00:00, 61185.36it/s]\n"
     ]
    },
    {
     "output_type": "stream",
     "name": "stdout",
     "text": [
      "Train: 1.0000| Val: 0.7520| Test: 0.7860| Eval Time: 0.0945s\n",
      "Epoch 30| Loss: 0.0225| Acc: 1.0000| Train Time: 0.0160s\n"
     ]
    },
    {
     "output_type": "stream",
     "name": "stderr",
     "text": [
      "Evaluating: 100%|██████████| 5416/5416 [00:00<00:00, 57618.57it/s]\n"
     ]
    },
    {
     "output_type": "stream",
     "name": "stdout",
     "text": [
      "Train: 1.0000| Val: 0.7500| Test: 0.7860| Eval Time: 0.1020s\n",
      "Epoch 31| Loss: 0.0239| Acc: 1.0000| Train Time: 0.0170s\n"
     ]
    },
    {
     "output_type": "stream",
     "name": "stderr",
     "text": [
      "Evaluating: 100%|██████████| 5416/5416 [00:00<00:00, 66396.64it/s]\n"
     ]
    },
    {
     "output_type": "stream",
     "name": "stdout",
     "text": [
      "Train: 1.0000| Val: 0.7500| Test: 0.7860| Eval Time: 0.0866s\n",
      "Epoch 32| Loss: 0.0051| Acc: 1.0000| Train Time: 0.0120s\n"
     ]
    },
    {
     "output_type": "stream",
     "name": "stderr",
     "text": [
      "Evaluating: 100%|██████████| 5416/5416 [00:00<00:00, 64477.39it/s]\n"
     ]
    },
    {
     "output_type": "stream",
     "name": "stdout",
     "text": [
      "Train: 1.0000| Val: 0.7500| Test: 0.7850| Eval Time: 0.0900s\n",
      "Epoch 33| Loss: 0.0065| Acc: 1.0000| Train Time: 0.0140s\n"
     ]
    },
    {
     "output_type": "stream",
     "name": "stderr",
     "text": [
      "Evaluating: 100%|██████████| 5416/5416 [00:00<00:00, 70341.24it/s]\n"
     ]
    },
    {
     "output_type": "stream",
     "name": "stdout",
     "text": [
      "Train: 1.0000| Val: 0.7500| Test: 0.7850| Eval Time: 0.0830s\n",
      "Epoch 34| Loss: 0.0141| Acc: 1.0000| Train Time: 0.0149s\n"
     ]
    },
    {
     "output_type": "stream",
     "name": "stderr",
     "text": [
      "Evaluating: 100%|██████████| 5416/5416 [00:00<00:00, 60844.98it/s]\n"
     ]
    },
    {
     "output_type": "stream",
     "name": "stdout",
     "text": [
      "Train: 1.0000| Val: 0.7480| Test: 0.7850| Eval Time: 0.0951s\n",
      "Epoch 35| Loss: 0.0126| Acc: 1.0000| Train Time: 0.0150s\n"
     ]
    },
    {
     "output_type": "stream",
     "name": "stderr",
     "text": [
      "Evaluating: 100%|██████████| 5416/5416 [00:00<00:00, 66026.69it/s]\n"
     ]
    },
    {
     "output_type": "stream",
     "name": "stdout",
     "text": [
      "Train: 1.0000| Val: 0.7460| Test: 0.7830| Eval Time: 0.0870s\n",
      "Epoch 36| Loss: 0.0084| Acc: 1.0000| Train Time: 0.0130s\n"
     ]
    },
    {
     "output_type": "stream",
     "name": "stderr",
     "text": [
      "Evaluating: 100%|██████████| 5416/5416 [00:00<00:00, 55834.16it/s]\n"
     ]
    },
    {
     "output_type": "stream",
     "name": "stdout",
     "text": [
      "Train: 1.0000| Val: 0.7460| Test: 0.7820| Eval Time: 0.1040s\n",
      "Epoch 37| Loss: 0.0113| Acc: 1.0000| Train Time: 0.0150s\n"
     ]
    },
    {
     "output_type": "stream",
     "name": "stderr",
     "text": [
      "Evaluating: 100%|██████████| 5416/5416 [00:00<00:00, 55265.95it/s]\n"
     ]
    },
    {
     "output_type": "stream",
     "name": "stdout",
     "text": [
      "Train: 1.0000| Val: 0.7420| Test: 0.7800| Eval Time: 0.1050s\n",
      "Epoch 38| Loss: 0.0132| Acc: 0.9929| Train Time: 0.0180s\n"
     ]
    },
    {
     "output_type": "stream",
     "name": "stderr",
     "text": [
      "Evaluating: 100%|██████████| 5416/5416 [00:00<00:00, 51579.77it/s]\n"
     ]
    },
    {
     "output_type": "stream",
     "name": "stdout",
     "text": [
      "Train: 1.0000| Val: 0.7400| Test: 0.7790| Eval Time: 0.1110s\n",
      "Epoch 39| Loss: 0.0062| Acc: 1.0000| Train Time: 0.0200s\n"
     ]
    },
    {
     "output_type": "stream",
     "name": "stderr",
     "text": [
      "Evaluating: 100%|██████████| 5416/5416 [00:00<00:00, 54711.43it/s]\n"
     ]
    },
    {
     "output_type": "stream",
     "name": "stdout",
     "text": [
      "Train: 1.0000| Val: 0.7400| Test: 0.7780| Eval Time: 0.1040s\n",
      "Epoch 40| Loss: 0.0096| Acc: 1.0000| Train Time: 0.0150s\n"
     ]
    },
    {
     "output_type": "stream",
     "name": "stderr",
     "text": [
      "Evaluating: 100%|██████████| 5416/5416 [00:00<00:00, 65253.81it/s]\n"
     ]
    },
    {
     "output_type": "stream",
     "name": "stdout",
     "text": [
      "Train: 1.0000| Val: 0.7400| Test: 0.7800| Eval Time: 0.0900s\n",
      "Epoch 41| Loss: 0.0114| Acc: 1.0000| Train Time: 0.0150s\n"
     ]
    },
    {
     "output_type": "stream",
     "name": "stderr",
     "text": [
      "Evaluating: 100%|██████████| 5416/5416 [00:00<00:00, 64808.31it/s]\n"
     ]
    },
    {
     "output_type": "stream",
     "name": "stdout",
     "text": [
      "Train: 1.0000| Val: 0.7440| Test: 0.7770| Eval Time: 0.0886s\n",
      "Epoch 42| Loss: 0.0073| Acc: 1.0000| Train Time: 0.0120s\n"
     ]
    },
    {
     "output_type": "stream",
     "name": "stderr",
     "text": [
      "Evaluating: 100%|██████████| 5416/5416 [00:00<00:00, 60853.94it/s]\n"
     ]
    },
    {
     "output_type": "stream",
     "name": "stdout",
     "text": [
      "Train: 1.0000| Val: 0.7400| Test: 0.7780| Eval Time: 0.0940s\n",
      "Epoch 43| Loss: 0.0088| Acc: 1.0000| Train Time: 0.0150s\n"
     ]
    },
    {
     "output_type": "stream",
     "name": "stderr",
     "text": [
      "Evaluating: 100%|██████████| 5416/5416 [00:00<00:00, 67701.07it/s]\n"
     ]
    },
    {
     "output_type": "stream",
     "name": "stdout",
     "text": [
      "Train: 1.0000| Val: 0.7420| Test: 0.7770| Eval Time: 0.0870s\n",
      "Epoch 44| Loss: 0.0053| Acc: 1.0000| Train Time: 0.0120s\n"
     ]
    },
    {
     "output_type": "stream",
     "name": "stderr",
     "text": [
      "Evaluating: 100%|██████████| 5416/5416 [00:00<00:00, 66019.21it/s]\n"
     ]
    },
    {
     "output_type": "stream",
     "name": "stdout",
     "text": [
      "Train: 1.0000| Val: 0.7420| Test: 0.7740| Eval Time: 0.0880s\n",
      "Epoch 45| Loss: 0.0040| Acc: 1.0000| Train Time: 0.0150s\n"
     ]
    },
    {
     "output_type": "stream",
     "name": "stderr",
     "text": [
      "Evaluating: 100%|██████████| 5416/5416 [00:00<00:00, 66052.42it/s]\n"
     ]
    },
    {
     "output_type": "stream",
     "name": "stdout",
     "text": [
      "Train: 1.0000| Val: 0.7420| Test: 0.7750| Eval Time: 0.0890s\n",
      "Epoch 46| Loss: 0.0077| Acc: 1.0000| Train Time: 0.0160s\n"
     ]
    },
    {
     "output_type": "stream",
     "name": "stderr",
     "text": [
      "Evaluating: 100%|██████████| 5416/5416 [00:00<00:00, 67703.90it/s]\n"
     ]
    },
    {
     "output_type": "stream",
     "name": "stdout",
     "text": [
      "Train: 1.0000| Val: 0.7400| Test: 0.7750| Eval Time: 0.0860s\n",
      "Epoch 47| Loss: 0.0040| Acc: 1.0000| Train Time: 0.0160s\n"
     ]
    },
    {
     "output_type": "stream",
     "name": "stderr",
     "text": [
      "Evaluating: 100%|██████████| 5416/5416 [00:00<00:00, 63453.67it/s]\n"
     ]
    },
    {
     "output_type": "stream",
     "name": "stdout",
     "text": [
      "Train: 1.0000| Val: 0.7380| Test: 0.7760| Eval Time: 0.0924s\n",
      "Epoch 48| Loss: 0.0048| Acc: 1.0000| Train Time: 0.0120s\n"
     ]
    },
    {
     "output_type": "stream",
     "name": "stderr",
     "text": [
      "Evaluating: 100%|██████████| 5416/5416 [00:00<00:00, 68562.97it/s]\n"
     ]
    },
    {
     "output_type": "stream",
     "name": "stdout",
     "text": [
      "Train: 1.0000| Val: 0.7380| Test: 0.7760| Eval Time: 0.0850s\n",
      "Epoch 49| Loss: 0.0026| Acc: 1.0000| Train Time: 0.0140s\n"
     ]
    },
    {
     "output_type": "stream",
     "name": "stderr",
     "text": [
      "Evaluating: 100%|██████████| 5416/5416 [00:00<00:00, 71716.52it/s]\n"
     ]
    },
    {
     "output_type": "stream",
     "name": "stdout",
     "text": [
      "Train: 1.0000| Val: 0.7360| Test: 0.7750| Eval Time: 0.0805s\n",
      "Epoch 50| Loss: 0.0125| Acc: 1.0000| Train Time: 0.0150s\n"
     ]
    },
    {
     "output_type": "stream",
     "name": "stderr",
     "text": [
      "Evaluating: 100%|██████████| 5416/5416 [00:00<00:00, 75223.94it/s]\n"
     ]
    },
    {
     "output_type": "stream",
     "name": "stdout",
     "text": [
      "Train: 1.0000| Val: 0.7360| Test: 0.7750| Eval Time: 0.0790s\n",
      "Epoch 51| Loss: 0.0062| Acc: 1.0000| Train Time: 0.0140s\n"
     ]
    },
    {
     "output_type": "stream",
     "name": "stderr",
     "text": [
      "Evaluating: 100%|██████████| 5416/5416 [00:00<00:00, 77374.14it/s]\n"
     ]
    },
    {
     "output_type": "stream",
     "name": "stdout",
     "text": [
      "Train: 1.0000| Val: 0.7360| Test: 0.7750| Eval Time: 0.0760s\n",
      "Epoch 52| Loss: 0.0045| Acc: 1.0000| Train Time: 0.0120s\n"
     ]
    },
    {
     "output_type": "stream",
     "name": "stderr",
     "text": [
      "Evaluating: 100%|██████████| 5416/5416 [00:00<00:00, 72257.85it/s]\n"
     ]
    },
    {
     "output_type": "stream",
     "name": "stdout",
     "text": [
      "Train: 1.0000| Val: 0.7360| Test: 0.7740| Eval Time: 0.0818s\n",
      "Epoch 53| Loss: 0.0031| Acc: 1.0000| Train Time: 0.0151s\n"
     ]
    },
    {
     "output_type": "stream",
     "name": "stderr",
     "text": [
      "Evaluating: 100%|██████████| 5416/5416 [00:00<00:00, 66865.50it/s]\n"
     ]
    },
    {
     "output_type": "stream",
     "name": "stdout",
     "text": [
      "Train: 1.0000| Val: 0.7340| Test: 0.7740| Eval Time: 0.0860s\n",
      "Epoch 54| Loss: 0.0095| Acc: 0.9929| Train Time: 0.0130s\n"
     ]
    },
    {
     "output_type": "stream",
     "name": "stderr",
     "text": [
      "Evaluating: 100%|██████████| 5416/5416 [00:00<00:00, 66864.52it/s]\n"
     ]
    },
    {
     "output_type": "stream",
     "name": "stdout",
     "text": [
      "Train: 1.0000| Val: 0.7320| Test: 0.7750| Eval Time: 0.0860s\n",
      "Epoch 55| Loss: 0.0020| Acc: 1.0000| Train Time: 0.0160s\n"
     ]
    },
    {
     "output_type": "stream",
     "name": "stderr",
     "text": [
      "Evaluating: 100%|██████████| 5416/5416 [00:00<00:00, 66039.55it/s]\n"
     ]
    },
    {
     "output_type": "stream",
     "name": "stdout",
     "text": [
      "Train: 1.0000| Val: 0.7360| Test: 0.7750| Eval Time: 0.0880s\n",
      "Epoch 56| Loss: 0.0038| Acc: 1.0000| Train Time: 0.0150s\n"
     ]
    },
    {
     "output_type": "stream",
     "name": "stderr",
     "text": [
      "Evaluating: 100%|██████████| 5416/5416 [00:00<00:00, 66029.38it/s]\n"
     ]
    },
    {
     "output_type": "stream",
     "name": "stdout",
     "text": [
      "Train: 1.0000| Val: 0.7400| Test: 0.7760| Eval Time: 0.0880s\n",
      "Epoch 57| Loss: 0.0036| Acc: 1.0000| Train Time: 0.0120s\n"
     ]
    },
    {
     "output_type": "stream",
     "name": "stderr",
     "text": [
      "Evaluating: 100%|██████████| 5416/5416 [00:00<00:00, 73635.80it/s]\n"
     ]
    },
    {
     "output_type": "stream",
     "name": "stdout",
     "text": [
      "Train: 1.0000| Val: 0.7360| Test: 0.7770| Eval Time: 0.0806s\n",
      "Epoch 58| Loss: 0.0038| Acc: 1.0000| Train Time: 0.0150s\n"
     ]
    },
    {
     "output_type": "stream",
     "name": "stderr",
     "text": [
      "Evaluating: 100%|██████████| 5416/5416 [00:00<00:00, 73194.26it/s]\n"
     ]
    },
    {
     "output_type": "stream",
     "name": "stdout",
     "text": [
      "Train: 1.0000| Val: 0.7340| Test: 0.7780| Eval Time: 0.0790s\n",
      "Epoch 59| Loss: 0.0025| Acc: 1.0000| Train Time: 0.0140s\n"
     ]
    },
    {
     "output_type": "stream",
     "name": "stderr",
     "text": [
      "Evaluating: 100%|██████████| 5416/5416 [00:00<00:00, 66868.85it/s]\n"
     ]
    },
    {
     "output_type": "stream",
     "name": "stdout",
     "text": [
      "Train: 1.0000| Val: 0.7320| Test: 0.7750| Eval Time: 0.0860s\n",
      "Epoch 60| Loss: 0.0035| Acc: 1.0000| Train Time: 0.0130s\n"
     ]
    },
    {
     "output_type": "stream",
     "name": "stderr",
     "text": [
      "Evaluating: 100%|██████████| 5416/5416 [00:00<00:00, 64479.40it/s]\n"
     ]
    },
    {
     "output_type": "stream",
     "name": "stdout",
     "text": [
      "Train: 1.0000| Val: 0.7340| Test: 0.7770| Eval Time: 0.0890s\n",
      "Epoch 61| Loss: 0.0034| Acc: 1.0000| Train Time: 0.0130s\n"
     ]
    },
    {
     "output_type": "stream",
     "name": "stderr",
     "text": [
      "Evaluating: 100%|██████████| 5416/5416 [00:00<00:00, 65237.69it/s]\n"
     ]
    },
    {
     "output_type": "stream",
     "name": "stdout",
     "text": [
      "Train: 1.0000| Val: 0.7360| Test: 0.7780| Eval Time: 0.0870s\n",
      "Epoch 62| Loss: 0.0030| Acc: 1.0000| Train Time: 0.0150s\n"
     ]
    },
    {
     "output_type": "stream",
     "name": "stderr",
     "text": [
      "Evaluating: 100%|██████████| 5416/5416 [00:00<00:00, 68556.55it/s]\n"
     ]
    },
    {
     "output_type": "stream",
     "name": "stdout",
     "text": [
      "Train: 1.0000| Val: 0.7400| Test: 0.7780| Eval Time: 0.0860s\n",
      "Epoch 63| Loss: 0.0023| Acc: 1.0000| Train Time: 0.0140s\n"
     ]
    },
    {
     "output_type": "stream",
     "name": "stderr",
     "text": [
      "Evaluating: 100%|██████████| 5416/5416 [00:00<00:00, 41030.53it/s]\n"
     ]
    },
    {
     "output_type": "stream",
     "name": "stdout",
     "text": [
      "Train: 1.0000| Val: 0.7400| Test: 0.7750| Eval Time: 0.1380s\n",
      "Epoch 64| Loss: 0.0024| Acc: 1.0000| Train Time: 0.0190s\n"
     ]
    },
    {
     "output_type": "stream",
     "name": "stderr",
     "text": [
      "Evaluating: 100%|██████████| 5416/5416 [00:00<00:00, 57620.47it/s]\n"
     ]
    },
    {
     "output_type": "stream",
     "name": "stdout",
     "text": [
      "Train: 1.0000| Val: 0.7400| Test: 0.7750| Eval Time: 0.0990s\n",
      "Epoch 65| Loss: 0.0040| Acc: 1.0000| Train Time: 0.0160s\n"
     ]
    },
    {
     "output_type": "stream",
     "name": "stderr",
     "text": [
      "Evaluating: 100%|██████████| 5416/5416 [00:00<00:00, 70340.58it/s]\n"
     ]
    },
    {
     "output_type": "stream",
     "name": "stdout",
     "text": [
      "Train: 1.0000| Val: 0.7400| Test: 0.7750| Eval Time: 0.0820s\n",
      "Epoch 66| Loss: 0.0066| Acc: 1.0000| Train Time: 0.0180s\n"
     ]
    },
    {
     "output_type": "stream",
     "name": "stderr",
     "text": [
      "Evaluating: 100%|██████████| 5416/5416 [00:00<00:00, 73189.78it/s]\n"
     ]
    },
    {
     "output_type": "stream",
     "name": "stdout",
     "text": [
      "Train: 1.0000| Val: 0.7400| Test: 0.7750| Eval Time: 0.0780s\n",
      "Epoch 67| Loss: 0.0048| Acc: 1.0000| Train Time: 0.0140s\n"
     ]
    },
    {
     "output_type": "stream",
     "name": "stderr",
     "text": [
      "Evaluating: 100%|██████████| 5416/5416 [00:00<00:00, 64480.13it/s]\n"
     ]
    },
    {
     "output_type": "stream",
     "name": "stdout",
     "text": [
      "Train: 1.0000| Val: 0.7400| Test: 0.7750| Eval Time: 0.0900s\n",
      "Epoch 68| Loss: 0.0058| Acc: 1.0000| Train Time: 0.0135s\n"
     ]
    },
    {
     "output_type": "stream",
     "name": "stderr",
     "text": [
      "Evaluating: 100%|██████████| 5416/5416 [00:00<00:00, 63328.96it/s]\n"
     ]
    },
    {
     "output_type": "stream",
     "name": "stdout",
     "text": [
      "Train: 1.0000| Val: 0.7400| Test: 0.7750| Eval Time: 0.0905s\n",
      "Epoch 69| Loss: 0.0038| Acc: 1.0000| Train Time: 0.0140s\n"
     ]
    },
    {
     "output_type": "stream",
     "name": "stderr",
     "text": [
      "Evaluating: 100%|██████████| 5416/5416 [00:00<00:00, 57011.65it/s]\n"
     ]
    },
    {
     "output_type": "stream",
     "name": "stdout",
     "text": [
      "Train: 1.0000| Val: 0.7420| Test: 0.7760| Eval Time: 0.1000s\n",
      "Epoch 70| Loss: 0.0033| Acc: 1.0000| Train Time: 0.0140s\n"
     ]
    },
    {
     "output_type": "stream",
     "name": "stderr",
     "text": [
      "Evaluating: 100%|██████████| 5416/5416 [00:00<00:00, 59517.05it/s]\n"
     ]
    },
    {
     "output_type": "stream",
     "name": "stdout",
     "text": [
      "Train: 1.0000| Val: 0.7440| Test: 0.7780| Eval Time: 0.0970s\n",
      "\n",
      "Result of  4. run| Train: 1.0000| Val: 0.7640| Test: 0.7930\n",
      "\n",
      "Run 05:\n"
     ]
    },
    {
     "output_type": "stream",
     "name": "stderr",
     "text": [
      "Epoch 01: 100%|██████████| 140/140 [00:00<00:00, 7367.85it/s]\n"
     ]
    },
    {
     "output_type": "stream",
     "name": "stdout",
     "text": [
      "Epoch 01| Loss: 1.9935| Acc: 0.1071| Train Time: 0.0220s\n"
     ]
    },
    {
     "output_type": "stream",
     "name": "stderr",
     "text": [
      "Evaluating: 100%|██████████| 5416/5416 [00:00<00:00, 52364.87it/s]\n"
     ]
    },
    {
     "output_type": "stream",
     "name": "stdout",
     "text": [
      "Train: 0.8071| Val: 0.5120| Test: 0.5140| Eval Time: 0.1104s\n",
      "Epoch 02| Loss: 1.5256| Acc: 0.6143| Train Time: 0.0180s\n"
     ]
    },
    {
     "output_type": "stream",
     "name": "stderr",
     "text": [
      "Evaluating: 100%|██████████| 5416/5416 [00:00<00:00, 61364.53it/s]\n"
     ]
    },
    {
     "output_type": "stream",
     "name": "stdout",
     "text": [
      "Train: 0.9500| Val: 0.7280| Test: 0.7370| Eval Time: 0.0940s\n",
      "Epoch 03| Loss: 1.0991| Acc: 0.8714| Train Time: 0.0110s\n"
     ]
    },
    {
     "output_type": "stream",
     "name": "stderr",
     "text": [
      "Evaluating: 100%|██████████| 5416/5416 [00:00<00:00, 68558.00it/s]\n"
     ]
    },
    {
     "output_type": "stream",
     "name": "stdout",
     "text": [
      "Train: 0.9929| Val: 0.7740| Test: 0.7730| Eval Time: 0.0840s\n",
      "Epoch 04| Loss: 0.8866| Acc: 0.9143| Train Time: 0.0140s\n"
     ]
    },
    {
     "output_type": "stream",
     "name": "stderr",
     "text": [
      "Evaluating: 100%|██████████| 5416/5416 [00:00<00:00, 69438.38it/s]\n"
     ]
    },
    {
     "output_type": "stream",
     "name": "stdout",
     "text": [
      "Train: 0.9857| Val: 0.7800| Test: 0.7820| Eval Time: 0.0830s\n",
      "Epoch 05| Loss: 0.6932| Acc: 0.9786| Train Time: 0.0120s\n"
     ]
    },
    {
     "output_type": "stream",
     "name": "stderr",
     "text": [
      "Evaluating: 100%|██████████| 5416/5416 [00:00<00:00, 82062.70it/s]\n"
     ]
    },
    {
     "output_type": "stream",
     "name": "stdout",
     "text": [
      "Train: 0.9857| Val: 0.7780| Test: 0.7820| Eval Time: 0.0710s\n",
      "Epoch 06| Loss: 0.4423| Acc: 0.9857| Train Time: 0.0130s\n"
     ]
    },
    {
     "output_type": "stream",
     "name": "stderr",
     "text": [
      "Evaluating: 100%|██████████| 5416/5416 [00:00<00:00, 82057.96it/s]\n"
     ]
    },
    {
     "output_type": "stream",
     "name": "stdout",
     "text": [
      "Train: 0.9857| Val: 0.7740| Test: 0.7750| Eval Time: 0.0710s\n",
      "Epoch 07| Loss: 0.4145| Acc: 0.9929| Train Time: 0.0140s\n"
     ]
    },
    {
     "output_type": "stream",
     "name": "stderr",
     "text": [
      "Evaluating: 100%|██████████| 5416/5416 [00:00<00:00, 80832.19it/s]\n"
     ]
    },
    {
     "output_type": "stream",
     "name": "stdout",
     "text": [
      "Train: 0.9857| Val: 0.7760| Test: 0.7810| Eval Time: 0.0730s\n",
      "Epoch 08| Loss: 0.2930| Acc: 0.9857| Train Time: 0.0140s\n"
     ]
    },
    {
     "output_type": "stream",
     "name": "stderr",
     "text": [
      "Evaluating: 100%|██████████| 5416/5416 [00:00<00:00, 66867.08it/s]\n"
     ]
    },
    {
     "output_type": "stream",
     "name": "stdout",
     "text": [
      "Train: 1.0000| Val: 0.7700| Test: 0.7810| Eval Time: 0.0870s\n",
      "Epoch 09| Loss: 0.2486| Acc: 0.9857| Train Time: 0.0150s\n"
     ]
    },
    {
     "output_type": "stream",
     "name": "stderr",
     "text": [
      "Evaluating: 100%|██████████| 5416/5416 [00:00<00:00, 68523.26it/s]\n"
     ]
    },
    {
     "output_type": "stream",
     "name": "stdout",
     "text": [
      "Train: 1.0000| Val: 0.7700| Test: 0.7840| Eval Time: 0.0860s\n",
      "Epoch 10| Loss: 0.2043| Acc: 0.9929| Train Time: 0.0130s\n"
     ]
    },
    {
     "output_type": "stream",
     "name": "stderr",
     "text": [
      "Evaluating: 100%|██████████| 5416/5416 [00:00<00:00, 83320.25it/s]\n"
     ]
    },
    {
     "output_type": "stream",
     "name": "stdout",
     "text": [
      "Train: 1.0000| Val: 0.7680| Test: 0.7880| Eval Time: 0.0700s\n",
      "Epoch 11| Loss: 0.1503| Acc: 0.9786| Train Time: 0.0120s\n"
     ]
    },
    {
     "output_type": "stream",
     "name": "stderr",
     "text": [
      "Evaluating: 100%|██████████| 5416/5416 [00:00<00:00, 62254.31it/s]\n"
     ]
    },
    {
     "output_type": "stream",
     "name": "stdout",
     "text": [
      "Train: 1.0000| Val: 0.7740| Test: 0.7910| Eval Time: 0.0930s\n",
      "Epoch 12| Loss: 0.1315| Acc: 1.0000| Train Time: 0.0140s\n"
     ]
    },
    {
     "output_type": "stream",
     "name": "stderr",
     "text": [
      "Evaluating: 100%|██████████| 5416/5416 [00:00<00:00, 71262.29it/s]\n"
     ]
    },
    {
     "output_type": "stream",
     "name": "stdout",
     "text": [
      "Train: 1.0000| Val: 0.7720| Test: 0.7930| Eval Time: 0.0840s\n",
      "Epoch 13| Loss: 0.1173| Acc: 1.0000| Train Time: 0.0140s\n"
     ]
    },
    {
     "output_type": "stream",
     "name": "stderr",
     "text": [
      "Evaluating: 100%|██████████| 5416/5416 [00:00<00:00, 62254.66it/s]\n"
     ]
    },
    {
     "output_type": "stream",
     "name": "stdout",
     "text": [
      "Train: 1.0000| Val: 0.7700| Test: 0.7980| Eval Time: 0.0930s\n",
      "Epoch 14| Loss: 0.1187| Acc: 0.9857| Train Time: 0.0160s\n"
     ]
    },
    {
     "output_type": "stream",
     "name": "stderr",
     "text": [
      "Evaluating: 100%|██████████| 5416/5416 [00:00<00:00, 80837.08it/s]\n"
     ]
    },
    {
     "output_type": "stream",
     "name": "stdout",
     "text": [
      "Train: 1.0000| Val: 0.7700| Test: 0.7970| Eval Time: 0.0740s\n",
      "Epoch 15| Loss: 0.0925| Acc: 1.0000| Train Time: 0.0120s\n"
     ]
    },
    {
     "output_type": "stream",
     "name": "stderr",
     "text": [
      "Evaluating: 100%|██████████| 5416/5416 [00:00<00:00, 84633.03it/s]\n"
     ]
    },
    {
     "output_type": "stream",
     "name": "stdout",
     "text": [
      "Train: 1.0000| Val: 0.7720| Test: 0.8000| Eval Time: 0.0700s\n",
      "Epoch 16| Loss: 0.1002| Acc: 0.9929| Train Time: 0.0130s\n"
     ]
    },
    {
     "output_type": "stream",
     "name": "stderr",
     "text": [
      "Evaluating: 100%|██████████| 5416/5416 [00:00<00:00, 74176.32it/s]\n"
     ]
    },
    {
     "output_type": "stream",
     "name": "stdout",
     "text": [
      "Train: 1.0000| Val: 0.7680| Test: 0.8010| Eval Time: 0.0790s\n",
      "Epoch 17| Loss: 0.0723| Acc: 1.0000| Train Time: 0.0120s\n"
     ]
    },
    {
     "output_type": "stream",
     "name": "stderr",
     "text": [
      "Evaluating: 100%|██████████| 5416/5416 [00:00<00:00, 76274.67it/s]\n"
     ]
    },
    {
     "output_type": "stream",
     "name": "stdout",
     "text": [
      "Train: 1.0000| Val: 0.7700| Test: 0.7990| Eval Time: 0.0760s\n",
      "Epoch 18| Loss: 0.0409| Acc: 1.0000| Train Time: 0.0110s\n"
     ]
    },
    {
     "output_type": "stream",
     "name": "stderr",
     "text": [
      "Evaluating: 100%|██████████| 5416/5416 [00:00<00:00, 77373.08it/s]\n"
     ]
    },
    {
     "output_type": "stream",
     "name": "stdout",
     "text": [
      "Train: 1.0000| Val: 0.7740| Test: 0.7980| Eval Time: 0.0760s\n",
      "Epoch 19| Loss: 0.0312| Acc: 1.0000| Train Time: 0.0150s\n"
     ]
    },
    {
     "output_type": "stream",
     "name": "stderr",
     "text": [
      "Evaluating: 100%|██████████| 5416/5416 [00:00<00:00, 75222.94it/s]\n"
     ]
    },
    {
     "output_type": "stream",
     "name": "stdout",
     "text": [
      "Train: 1.0000| Val: 0.7740| Test: 0.7960| Eval Time: 0.0770s\n",
      "Epoch 20| Loss: 0.0376| Acc: 1.0000| Train Time: 0.0120s\n"
     ]
    },
    {
     "output_type": "stream",
     "name": "stderr",
     "text": [
      "Evaluating: 100%|██████████| 5416/5416 [00:00<00:00, 67713.38it/s]\n"
     ]
    },
    {
     "output_type": "stream",
     "name": "stdout",
     "text": [
      "Train: 1.0000| Val: 0.7700| Test: 0.7920| Eval Time: 0.0840s\n",
      "Epoch 21| Loss: 0.0354| Acc: 1.0000| Train Time: 0.0130s\n"
     ]
    },
    {
     "output_type": "stream",
     "name": "stderr",
     "text": [
      "Evaluating: 100%|██████████| 5416/5416 [00:00<00:00, 76851.14it/s]\n"
     ]
    },
    {
     "output_type": "stream",
     "name": "stdout",
     "text": [
      "Train: 1.0000| Val: 0.7720| Test: 0.7900| Eval Time: 0.0755s\n",
      "Epoch 22| Loss: 0.0336| Acc: 1.0000| Train Time: 0.0130s\n"
     ]
    },
    {
     "output_type": "stream",
     "name": "stderr",
     "text": [
      "Evaluating: 100%|██████████| 5416/5416 [00:00<00:00, 73942.60it/s]\n"
     ]
    },
    {
     "output_type": "stream",
     "name": "stdout",
     "text": [
      "Train: 1.0000| Val: 0.7700| Test: 0.7890| Eval Time: 0.0802s\n",
      "Epoch 23| Loss: 0.0232| Acc: 1.0000| Train Time: 0.0150s\n"
     ]
    },
    {
     "output_type": "stream",
     "name": "stderr",
     "text": [
      "Evaluating: 100%|██████████| 5416/5416 [00:00<00:00, 62975.90it/s]\n"
     ]
    },
    {
     "output_type": "stream",
     "name": "stdout",
     "text": [
      "Train: 1.0000| Val: 0.7660| Test: 0.7870| Eval Time: 0.0930s\n",
      "Epoch 24| Loss: 0.0301| Acc: 1.0000| Train Time: 0.0180s\n"
     ]
    },
    {
     "output_type": "stream",
     "name": "stderr",
     "text": [
      "Evaluating: 100%|██████████| 5416/5416 [00:00<00:00, 63719.76it/s]\n"
     ]
    },
    {
     "output_type": "stream",
     "name": "stdout",
     "text": [
      "Train: 1.0000| Val: 0.7640| Test: 0.7840| Eval Time: 0.0920s\n",
      "Epoch 25| Loss: 0.0261| Acc: 1.0000| Train Time: 0.0170s\n"
     ]
    },
    {
     "output_type": "stream",
     "name": "stderr",
     "text": [
      "Evaluating: 100%|██████████| 5416/5416 [00:00<00:00, 62977.64it/s]\n"
     ]
    },
    {
     "output_type": "stream",
     "name": "stdout",
     "text": [
      "Train: 1.0000| Val: 0.7640| Test: 0.7830| Eval Time: 0.0930s\n",
      "Epoch 26| Loss: 0.0272| Acc: 1.0000| Train Time: 0.0140s\n"
     ]
    },
    {
     "output_type": "stream",
     "name": "stderr",
     "text": [
      "Evaluating: 100%|██████████| 5416/5416 [00:00<00:00, 66048.00it/s]\n"
     ]
    },
    {
     "output_type": "stream",
     "name": "stdout",
     "text": [
      "Train: 1.0000| Val: 0.7640| Test: 0.7810| Eval Time: 0.0860s\n",
      "Epoch 27| Loss: 0.0321| Acc: 1.0000| Train Time: 0.0130s\n"
     ]
    },
    {
     "output_type": "stream",
     "name": "stderr",
     "text": [
      "Evaluating: 100%|██████████| 5416/5416 [00:00<00:00, 80760.92it/s]\n"
     ]
    },
    {
     "output_type": "stream",
     "name": "stdout",
     "text": [
      "Train: 1.0000| Val: 0.7600| Test: 0.7790| Eval Time: 0.0720s\n",
      "Epoch 28| Loss: 0.0204| Acc: 1.0000| Train Time: 0.0131s\n"
     ]
    },
    {
     "output_type": "stream",
     "name": "stderr",
     "text": [
      "Evaluating: 100%|██████████| 5416/5416 [00:00<00:00, 65251.93it/s]\n"
     ]
    },
    {
     "output_type": "stream",
     "name": "stdout",
     "text": [
      "Train: 1.0000| Val: 0.7580| Test: 0.7770| Eval Time: 0.0890s\n",
      "Epoch 29| Loss: 0.0268| Acc: 0.9929| Train Time: 0.0140s\n"
     ]
    },
    {
     "output_type": "stream",
     "name": "stderr",
     "text": [
      "Evaluating: 100%|██████████| 5416/5416 [00:00<00:00, 68557.79it/s]\n"
     ]
    },
    {
     "output_type": "stream",
     "name": "stdout",
     "text": [
      "Train: 1.0000| Val: 0.7580| Test: 0.7770| Eval Time: 0.0860s\n",
      "Epoch 30| Loss: 0.0565| Acc: 0.9929| Train Time: 0.0130s\n"
     ]
    },
    {
     "output_type": "stream",
     "name": "stderr",
     "text": [
      "Evaluating: 100%|██████████| 5416/5416 [00:00<00:00, 64495.88it/s]\n"
     ]
    },
    {
     "output_type": "stream",
     "name": "stdout",
     "text": [
      "Train: 1.0000| Val: 0.7520| Test: 0.7790| Eval Time: 0.0900s\n",
      "Epoch 31| Loss: 0.0050| Acc: 1.0000| Train Time: 0.0130s\n"
     ]
    },
    {
     "output_type": "stream",
     "name": "stderr",
     "text": [
      "Evaluating: 100%|██████████| 5416/5416 [00:00<00:00, 72216.27it/s]\n"
     ]
    },
    {
     "output_type": "stream",
     "name": "stdout",
     "text": [
      "Train: 1.0000| Val: 0.7520| Test: 0.7780| Eval Time: 0.0820s\n",
      "Epoch 32| Loss: 0.0107| Acc: 1.0000| Train Time: 0.0160s\n"
     ]
    },
    {
     "output_type": "stream",
     "name": "stderr",
     "text": [
      "Evaluating: 100%|██████████| 5416/5416 [00:00<00:00, 59515.50it/s]\n"
     ]
    },
    {
     "output_type": "stream",
     "name": "stdout",
     "text": [
      "Train: 1.0000| Val: 0.7500| Test: 0.7780| Eval Time: 0.0980s\n",
      "Epoch 33| Loss: 0.0189| Acc: 1.0000| Train Time: 0.0170s\n"
     ]
    },
    {
     "output_type": "stream",
     "name": "stderr",
     "text": [
      "Evaluating: 100%|██████████| 5416/5416 [00:00<00:00, 62251.76it/s]\n"
     ]
    },
    {
     "output_type": "stream",
     "name": "stdout",
     "text": [
      "Train: 1.0000| Val: 0.7500| Test: 0.7750| Eval Time: 0.0940s\n",
      "Epoch 34| Loss: 0.0116| Acc: 1.0000| Train Time: 0.0150s\n"
     ]
    },
    {
     "output_type": "stream",
     "name": "stderr",
     "text": [
      "Evaluating: 100%|██████████| 5416/5416 [00:00<00:00, 66864.12it/s]\n"
     ]
    },
    {
     "output_type": "stream",
     "name": "stdout",
     "text": [
      "Train: 1.0000| Val: 0.7420| Test: 0.7730| Eval Time: 0.0870s\n",
      "Epoch 35| Loss: 0.0065| Acc: 1.0000| Train Time: 0.0140s\n"
     ]
    },
    {
     "output_type": "stream",
     "name": "stderr",
     "text": [
      "Evaluating: 100%|██████████| 5416/5416 [00:00<00:00, 68554.48it/s]\n"
     ]
    },
    {
     "output_type": "stream",
     "name": "stdout",
     "text": [
      "Train: 1.0000| Val: 0.7400| Test: 0.7720| Eval Time: 0.0840s\n",
      "Epoch 36| Loss: 0.0037| Acc: 1.0000| Train Time: 0.0150s\n"
     ]
    },
    {
     "output_type": "stream",
     "name": "stderr",
     "text": [
      "Evaluating: 100%|██████████| 5416/5416 [00:00<00:00, 68556.55it/s]\n"
     ]
    },
    {
     "output_type": "stream",
     "name": "stdout",
     "text": [
      "Train: 1.0000| Val: 0.7400| Test: 0.7700| Eval Time: 0.0850s\n",
      "Epoch 37| Loss: 0.0069| Acc: 1.0000| Train Time: 0.0150s\n"
     ]
    },
    {
     "output_type": "stream",
     "name": "stderr",
     "text": [
      "Evaluating: 100%|██████████| 5416/5416 [00:00<00:00, 65251.74it/s]\n"
     ]
    },
    {
     "output_type": "stream",
     "name": "stdout",
     "text": [
      "Train: 1.0000| Val: 0.7420| Test: 0.7650| Eval Time: 0.0880s\n",
      "Epoch 38| Loss: 0.0087| Acc: 1.0000| Train Time: 0.0160s\n"
     ]
    },
    {
     "output_type": "stream",
     "name": "stderr",
     "text": [
      "Evaluating: 100%|██████████| 5416/5416 [00:00<00:00, 61545.75it/s]\n"
     ]
    },
    {
     "output_type": "stream",
     "name": "stdout",
     "text": [
      "Train: 1.0000| Val: 0.7420| Test: 0.7670| Eval Time: 0.0940s\n",
      "Epoch 39| Loss: 0.0055| Acc: 1.0000| Train Time: 0.0120s\n"
     ]
    },
    {
     "output_type": "stream",
     "name": "stderr",
     "text": [
      "Evaluating: 100%|██████████| 5416/5416 [00:00<00:00, 66050.50it/s]\n"
     ]
    },
    {
     "output_type": "stream",
     "name": "stdout",
     "text": [
      "Train: 1.0000| Val: 0.7420| Test: 0.7640| Eval Time: 0.0880s\n",
      "Epoch 40| Loss: 0.0073| Acc: 1.0000| Train Time: 0.0150s\n"
     ]
    },
    {
     "output_type": "stream",
     "name": "stderr",
     "text": [
      "Evaluating: 100%|██████████| 5416/5416 [00:00<00:00, 69436.05it/s]\n"
     ]
    },
    {
     "output_type": "stream",
     "name": "stdout",
     "text": [
      "Train: 1.0000| Val: 0.7420| Test: 0.7630| Eval Time: 0.0850s\n",
      "Epoch 41| Loss: 0.0064| Acc: 1.0000| Train Time: 0.0160s\n"
     ]
    },
    {
     "output_type": "stream",
     "name": "stderr",
     "text": [
      "Evaluating: 100%|██████████| 5416/5416 [00:00<00:00, 67699.46it/s]\n"
     ]
    },
    {
     "output_type": "stream",
     "name": "stdout",
     "text": [
      "Train: 1.0000| Val: 0.7440| Test: 0.7650| Eval Time: 0.0870s\n",
      "Epoch 42| Loss: 0.0040| Acc: 1.0000| Train Time: 0.0155s\n"
     ]
    },
    {
     "output_type": "stream",
     "name": "stderr",
     "text": [
      "Evaluating: 100%|██████████| 5416/5416 [00:00<00:00, 72095.03it/s]\n"
     ]
    },
    {
     "output_type": "stream",
     "name": "stdout",
     "text": [
      "Train: 1.0000| Val: 0.7440| Test: 0.7680| Eval Time: 0.0807s\n",
      "Epoch 43| Loss: 0.0031| Acc: 1.0000| Train Time: 0.0140s\n"
     ]
    },
    {
     "output_type": "stream",
     "name": "stderr",
     "text": [
      "Evaluating: 100%|██████████| 5416/5416 [00:00<00:00, 66052.99it/s]\n"
     ]
    },
    {
     "output_type": "stream",
     "name": "stdout",
     "text": [
      "Train: 1.0000| Val: 0.7440| Test: 0.7680| Eval Time: 0.0890s\n",
      "Epoch 44| Loss: 0.0077| Acc: 1.0000| Train Time: 0.0200s\n"
     ]
    },
    {
     "output_type": "stream",
     "name": "stderr",
     "text": [
      "Evaluating: 100%|██████████| 5416/5416 [00:00<00:00, 61546.08it/s]\n"
     ]
    },
    {
     "output_type": "stream",
     "name": "stdout",
     "text": [
      "Train: 1.0000| Val: 0.7420| Test: 0.7680| Eval Time: 0.0940s\n",
      "Epoch 45| Loss: 0.0022| Acc: 1.0000| Train Time: 0.0130s\n"
     ]
    },
    {
     "output_type": "stream",
     "name": "stderr",
     "text": [
      "Evaluating: 100%|██████████| 5416/5416 [00:00<00:00, 65254.37it/s]\n"
     ]
    },
    {
     "output_type": "stream",
     "name": "stdout",
     "text": [
      "Train: 1.0000| Val: 0.7420| Test: 0.7680| Eval Time: 0.0900s\n",
      "Epoch 46| Loss: 0.0057| Acc: 1.0000| Train Time: 0.0180s\n"
     ]
    },
    {
     "output_type": "stream",
     "name": "stderr",
     "text": [
      "Evaluating: 100%|██████████| 5416/5416 [00:00<00:00, 71266.31it/s]\n"
     ]
    },
    {
     "output_type": "stream",
     "name": "stdout",
     "text": [
      "Train: 1.0000| Val: 0.7420| Test: 0.7690| Eval Time: 0.0840s\n",
      "Epoch 47| Loss: 0.0075| Acc: 1.0000| Train Time: 0.0180s\n"
     ]
    },
    {
     "output_type": "stream",
     "name": "stderr",
     "text": [
      "Evaluating: 100%|██████████| 5416/5416 [00:00<00:00, 48358.07it/s]\n"
     ]
    },
    {
     "output_type": "stream",
     "name": "stdout",
     "text": [
      "Train: 1.0000| Val: 0.7420| Test: 0.7700| Eval Time: 0.1200s\n",
      "Epoch 48| Loss: 0.0033| Acc: 1.0000| Train Time: 0.0170s\n"
     ]
    },
    {
     "output_type": "stream",
     "name": "stderr",
     "text": [
      "Evaluating: 100%|██████████| 5416/5416 [00:00<00:00, 60856.22it/s]\n"
     ]
    },
    {
     "output_type": "stream",
     "name": "stdout",
     "text": [
      "Train: 1.0000| Val: 0.7440| Test: 0.7700| Eval Time: 0.0950s\n",
      "Epoch 49| Loss: 0.0030| Acc: 1.0000| Train Time: 0.0170s\n"
     ]
    },
    {
     "output_type": "stream",
     "name": "stderr",
     "text": [
      "Evaluating: 100%|██████████| 5416/5416 [00:00<00:00, 56673.99it/s]\n"
     ]
    },
    {
     "output_type": "stream",
     "name": "stdout",
     "text": [
      "Train: 1.0000| Val: 0.7440| Test: 0.7710| Eval Time: 0.1036s\n",
      "Epoch 50| Loss: 0.0049| Acc: 1.0000| Train Time: 0.0160s\n"
     ]
    },
    {
     "output_type": "stream",
     "name": "stderr",
     "text": [
      "Evaluating: 100%|██████████| 5416/5416 [00:00<00:00, 68562.55it/s]\n"
     ]
    },
    {
     "output_type": "stream",
     "name": "stdout",
     "text": [
      "Train: 1.0000| Val: 0.7440| Test: 0.7710| Eval Time: 0.0850s\n",
      "Epoch 51| Loss: 0.0037| Acc: 1.0000| Train Time: 0.0130s\n"
     ]
    },
    {
     "output_type": "stream",
     "name": "stderr",
     "text": [
      "Evaluating: 100%|██████████| 5416/5416 [00:00<00:00, 58870.48it/s]\n"
     ]
    },
    {
     "output_type": "stream",
     "name": "stdout",
     "text": [
      "Train: 1.0000| Val: 0.7440| Test: 0.7710| Eval Time: 0.0990s\n",
      "Epoch 52| Loss: 0.0039| Acc: 1.0000| Train Time: 0.0130s\n"
     ]
    },
    {
     "output_type": "stream",
     "name": "stderr",
     "text": [
      "Evaluating: 100%|██████████| 5416/5416 [00:00<00:00, 68557.59it/s]\n"
     ]
    },
    {
     "output_type": "stream",
     "name": "stdout",
     "text": [
      "Train: 1.0000| Val: 0.7440| Test: 0.7710| Eval Time: 0.0860s\n",
      "Epoch 53| Loss: 0.0060| Acc: 1.0000| Train Time: 0.0140s\n"
     ]
    },
    {
     "output_type": "stream",
     "name": "stderr",
     "text": [
      "Evaluating: 100%|██████████| 5416/5416 [00:00<00:00, 73188.36it/s]\n"
     ]
    },
    {
     "output_type": "stream",
     "name": "stdout",
     "text": [
      "Train: 1.0000| Val: 0.7440| Test: 0.7690| Eval Time: 0.0800s\n",
      "Epoch 54| Loss: 0.0029| Acc: 1.0000| Train Time: 0.0160s\n"
     ]
    },
    {
     "output_type": "stream",
     "name": "stderr",
     "text": [
      "Evaluating: 100%|██████████| 5416/5416 [00:00<00:00, 72217.88it/s]\n"
     ]
    },
    {
     "output_type": "stream",
     "name": "stdout",
     "text": [
      "Train: 1.0000| Val: 0.7420| Test: 0.7720| Eval Time: 0.0810s\n",
      "\n",
      "Result of  5. run| Train: 0.9857| Val: 0.7800| Test: 0.7820\n",
      "\n",
      "Run 01:\n"
     ]
    },
    {
     "output_type": "stream",
     "name": "stderr",
     "text": [
      "Epoch 01: 100%|██████████| 140/140 [00:00<00:00, 6087.08it/s]\n"
     ]
    },
    {
     "output_type": "stream",
     "name": "stdout",
     "text": [
      "Epoch 01| Loss: 2.0157| Acc: 0.1143| Train Time: 0.0270s\n"
     ]
    },
    {
     "output_type": "stream",
     "name": "stderr",
     "text": [
      "Evaluating: 100%|██████████| 5416/5416 [00:00<00:00, 48356.94it/s]\n"
     ]
    },
    {
     "output_type": "stream",
     "name": "stdout",
     "text": [
      "Train: 0.9214| Val: 0.6300| Test: 0.6250| Eval Time: 0.1180s\n",
      "Epoch 02| Loss: 1.5631| Acc: 0.5929| Train Time: 0.0180s\n"
     ]
    },
    {
     "output_type": "stream",
     "name": "stderr",
     "text": [
      "Evaluating: 100%|██████████| 5416/5416 [00:00<00:00, 44350.98it/s]\n"
     ]
    },
    {
     "output_type": "stream",
     "name": "stdout",
     "text": [
      "Train: 0.9643| Val: 0.7280| Test: 0.7690| Eval Time: 0.1281s\n",
      "Epoch 03| Loss: 1.1582| Acc: 0.8357| Train Time: 0.0160s\n"
     ]
    },
    {
     "output_type": "stream",
     "name": "stderr",
     "text": [
      "Evaluating: 100%|██████████| 5416/5416 [00:00<00:00, 42645.80it/s]\n"
     ]
    },
    {
     "output_type": "stream",
     "name": "stdout",
     "text": [
      "Train: 0.9714| Val: 0.7360| Test: 0.7820| Eval Time: 0.1330s\n",
      "Epoch 04| Loss: 0.8999| Acc: 0.9214| Train Time: 0.0190s\n"
     ]
    },
    {
     "output_type": "stream",
     "name": "stderr",
     "text": [
      "Evaluating: 100%|██████████| 5416/5416 [00:00<00:00, 38689.38it/s]"
     ]
    },
    {
     "output_type": "stream",
     "name": "stdout",
     "text": [
      "Train: 0.9786| Val: 0.7660| Test: 0.8010| Eval Time: 0.1460s\n",
      "Epoch 05| Loss: 0.7613| Acc: 0.9214| Train Time: 0.0180s\n"
     ]
    },
    {
     "output_type": "stream",
     "name": "stderr",
     "text": [
      "\n",
      "Evaluating: 100%|██████████| 5416/5416 [00:00<00:00, 40119.09it/s]\n"
     ]
    },
    {
     "output_type": "stream",
     "name": "stdout",
     "text": [
      "Train: 0.9929| Val: 0.7660| Test: 0.7960| Eval Time: 0.1420s\n",
      "Epoch 06| Loss: 0.5593| Acc: 0.9714| Train Time: 0.0180s\n"
     ]
    },
    {
     "output_type": "stream",
     "name": "stderr",
     "text": [
      "Evaluating: 100%|██████████| 5416/5416 [00:00<00:00, 46293.86it/s]\n"
     ]
    },
    {
     "output_type": "stream",
     "name": "stdout",
     "text": [
      "Train: 0.9929| Val: 0.7660| Test: 0.8020| Eval Time: 0.1210s\n",
      "Epoch 07| Loss: 0.4676| Acc: 0.9714| Train Time: 0.0160s\n"
     ]
    },
    {
     "output_type": "stream",
     "name": "stderr",
     "text": [
      "Evaluating: 100%|██████████| 5416/5416 [00:00<00:00, 49909.92it/s]\n"
     ]
    },
    {
     "output_type": "stream",
     "name": "stdout",
     "text": [
      "Train: 0.9929| Val: 0.7640| Test: 0.7990| Eval Time: 0.1136s\n",
      "Epoch 08| Loss: 0.3520| Acc: 0.9929| Train Time: 0.0220s\n"
     ]
    },
    {
     "output_type": "stream",
     "name": "stderr",
     "text": [
      "Evaluating: 100%|██████████| 5416/5416 [00:00<00:00, 37192.97it/s]\n"
     ]
    },
    {
     "output_type": "stream",
     "name": "stdout",
     "text": [
      "Train: 1.0000| Val: 0.7740| Test: 0.8030| Eval Time: 0.1516s\n",
      "Epoch 09| Loss: 0.3280| Acc: 0.9786| Train Time: 0.0230s\n"
     ]
    },
    {
     "output_type": "stream",
     "name": "stderr",
     "text": [
      "Evaluating: 100%|██████████| 5416/5416 [00:00<00:00, 33431.18it/s]\n"
     ]
    },
    {
     "output_type": "stream",
     "name": "stdout",
     "text": [
      "Train: 1.0000| Val: 0.7760| Test: 0.8050| Eval Time: 0.1690s\n",
      "Epoch 10| Loss: 0.2031| Acc: 1.0000| Train Time: 0.0270s\n"
     ]
    },
    {
     "output_type": "stream",
     "name": "stderr",
     "text": [
      "Evaluating: 100%|██████████| 5416/5416 [00:00<00:00, 36107.39it/s]\n"
     ]
    },
    {
     "output_type": "stream",
     "name": "stdout",
     "text": [
      "Train: 1.0000| Val: 0.7820| Test: 0.8100| Eval Time: 0.1570s\n",
      "Epoch 11| Loss: 0.2058| Acc: 1.0000| Train Time: 0.0200s\n"
     ]
    },
    {
     "output_type": "stream",
     "name": "stderr",
     "text": [
      "Evaluating: 100%|██████████| 5416/5416 [00:00<00:00, 47929.64it/s]\n"
     ]
    },
    {
     "output_type": "stream",
     "name": "stdout",
     "text": [
      "Train: 1.0000| Val: 0.7800| Test: 0.8130| Eval Time: 0.1170s\n",
      "Epoch 12| Loss: 0.1509| Acc: 1.0000| Train Time: 0.0200s\n"
     ]
    },
    {
     "output_type": "stream",
     "name": "stderr",
     "text": [
      "Evaluating: 100%|██████████| 5416/5416 [00:00<00:00, 41983.89it/s]\n"
     ]
    },
    {
     "output_type": "stream",
     "name": "stdout",
     "text": [
      "Train: 1.0000| Val: 0.7840| Test: 0.8160| Eval Time: 0.1340s\n",
      "Epoch 13| Loss: 0.1533| Acc: 0.9929| Train Time: 0.0220s\n"
     ]
    },
    {
     "output_type": "stream",
     "name": "stderr",
     "text": [
      "Evaluating: 100%|██████████| 5416/5416 [00:00<00:00, 45511.25it/s]\n"
     ]
    },
    {
     "output_type": "stream",
     "name": "stdout",
     "text": [
      "Train: 1.0000| Val: 0.7840| Test: 0.8190| Eval Time: 0.1240s\n",
      "Epoch 14| Loss: 0.1320| Acc: 0.9929| Train Time: 0.0175s\n"
     ]
    },
    {
     "output_type": "stream",
     "name": "stderr",
     "text": [
      "Evaluating: 100%|██████████| 5416/5416 [00:00<00:00, 46289.71it/s]\n"
     ]
    },
    {
     "output_type": "stream",
     "name": "stdout",
     "text": [
      "Train: 1.0000| Val: 0.7860| Test: 0.8220| Eval Time: 0.1240s\n",
      "Epoch 15| Loss: 0.1199| Acc: 0.9857| Train Time: 0.0200s\n"
     ]
    },
    {
     "output_type": "stream",
     "name": "stderr",
     "text": [
      "Evaluating: 100%|██████████| 5416/5416 [00:00<00:00, 41213.73it/s]\n"
     ]
    },
    {
     "output_type": "stream",
     "name": "stdout",
     "text": [
      "Train: 1.0000| Val: 0.7800| Test: 0.8210| Eval Time: 0.1384s\n",
      "Epoch 16| Loss: 0.0625| Acc: 1.0000| Train Time: 0.0170s\n"
     ]
    },
    {
     "output_type": "stream",
     "name": "stderr",
     "text": [
      "Evaluating: 100%|██████████| 5416/5416 [00:00<00:00, 42984.72it/s]\n"
     ]
    },
    {
     "output_type": "stream",
     "name": "stdout",
     "text": [
      "Train: 1.0000| Val: 0.7800| Test: 0.8230| Eval Time: 0.1320s\n",
      "Epoch 17| Loss: 0.0544| Acc: 1.0000| Train Time: 0.0230s\n"
     ]
    },
    {
     "output_type": "stream",
     "name": "stderr",
     "text": [
      "Evaluating: 100%|██████████| 5416/5416 [00:00<00:00, 51581.41it/s]\n"
     ]
    },
    {
     "output_type": "stream",
     "name": "stdout",
     "text": [
      "Train: 1.0000| Val: 0.7760| Test: 0.8230| Eval Time: 0.1120s\n",
      "Epoch 18| Loss: 0.0680| Acc: 1.0000| Train Time: 0.0140s\n"
     ]
    },
    {
     "output_type": "stream",
     "name": "stderr",
     "text": [
      "Evaluating: 100%|██████████| 5416/5416 [00:00<00:00, 45512.07it/s]\n"
     ]
    },
    {
     "output_type": "stream",
     "name": "stdout",
     "text": [
      "Train: 1.0000| Val: 0.7780| Test: 0.8250| Eval Time: 0.1230s\n",
      "Epoch 19| Loss: 0.0678| Acc: 0.9929| Train Time: 0.0210s\n"
     ]
    },
    {
     "output_type": "stream",
     "name": "stderr",
     "text": [
      "Evaluating: 100%|██████████| 5416/5416 [00:00<00:00, 44394.14it/s]\n"
     ]
    },
    {
     "output_type": "stream",
     "name": "stdout",
     "text": [
      "Train: 1.0000| Val: 0.7740| Test: 0.8250| Eval Time: 0.1270s\n",
      "Epoch 20| Loss: 0.1843| Acc: 0.9929| Train Time: 0.0220s\n"
     ]
    },
    {
     "output_type": "stream",
     "name": "stderr",
     "text": [
      "Evaluating: 100%|██████████| 5416/5416 [00:00<00:00, 42645.24it/s]\n"
     ]
    },
    {
     "output_type": "stream",
     "name": "stdout",
     "text": [
      "Train: 1.0000| Val: 0.7820| Test: 0.8250| Eval Time: 0.1340s\n",
      "Epoch 21| Loss: 0.1105| Acc: 0.9929| Train Time: 0.0220s\n"
     ]
    },
    {
     "output_type": "stream",
     "name": "stderr",
     "text": [
      "Evaluating: 100%|██████████| 5416/5416 [00:00<00:00, 47928.94it/s]\n"
     ]
    },
    {
     "output_type": "stream",
     "name": "stdout",
     "text": [
      "Train: 1.0000| Val: 0.7820| Test: 0.8220| Eval Time: 0.1180s\n",
      "Epoch 22| Loss: 0.0304| Acc: 1.0000| Train Time: 0.0170s\n"
     ]
    },
    {
     "output_type": "stream",
     "name": "stderr",
     "text": [
      "Evaluating: 100%|██████████| 5416/5416 [00:00<00:00, 48793.39it/s]\n"
     ]
    },
    {
     "output_type": "stream",
     "name": "stdout",
     "text": [
      "Train: 1.0000| Val: 0.7800| Test: 0.8190| Eval Time: 0.1160s\n",
      "Epoch 23| Loss: 0.0176| Acc: 1.0000| Train Time: 0.0200s\n"
     ]
    },
    {
     "output_type": "stream",
     "name": "stderr",
     "text": [
      "Evaluating: 100%|██████████| 5416/5416 [00:00<00:00, 53097.67it/s]\n"
     ]
    },
    {
     "output_type": "stream",
     "name": "stdout",
     "text": [
      "Train: 1.0000| Val: 0.7840| Test: 0.8180| Eval Time: 0.1090s\n",
      "Epoch 24| Loss: 0.0289| Acc: 1.0000| Train Time: 0.0170s\n"
     ]
    },
    {
     "output_type": "stream",
     "name": "stderr",
     "text": [
      "Evaluating: 100%|██████████| 5416/5416 [00:00<00:00, 36106.47it/s]\n"
     ]
    },
    {
     "output_type": "stream",
     "name": "stdout",
     "text": [
      "Train: 1.0000| Val: 0.7740| Test: 0.8180| Eval Time: 0.1550s\n",
      "Epoch 25| Loss: 0.0164| Acc: 1.0000| Train Time: 0.0160s\n"
     ]
    },
    {
     "output_type": "stream",
     "name": "stderr",
     "text": [
      "Evaluating: 100%|██████████| 5416/5416 [00:00<00:00, 47508.84it/s]\n"
     ]
    },
    {
     "output_type": "stream",
     "name": "stdout",
     "text": [
      "Train: 1.0000| Val: 0.7740| Test: 0.8180| Eval Time: 0.1190s\n",
      "Epoch 26| Loss: 0.0119| Acc: 1.0000| Train Time: 0.0180s\n"
     ]
    },
    {
     "output_type": "stream",
     "name": "stderr",
     "text": [
      "Evaluating: 100%|██████████| 5416/5416 [00:00<00:00, 47930.35it/s]\n"
     ]
    },
    {
     "output_type": "stream",
     "name": "stdout",
     "text": [
      "Train: 1.0000| Val: 0.7740| Test: 0.8190| Eval Time: 0.1200s\n",
      "Epoch 27| Loss: 0.0285| Acc: 1.0000| Train Time: 0.0170s\n"
     ]
    },
    {
     "output_type": "stream",
     "name": "stderr",
     "text": [
      "Evaluating: 100%|██████████| 5416/5416 [00:00<00:00, 45897.18it/s]\n"
     ]
    },
    {
     "output_type": "stream",
     "name": "stdout",
     "text": [
      "Train: 1.0000| Val: 0.7760| Test: 0.8200| Eval Time: 0.1240s\n",
      "Epoch 28| Loss: 0.0252| Acc: 0.9929| Train Time: 0.0190s\n"
     ]
    },
    {
     "output_type": "stream",
     "name": "stderr",
     "text": [
      "Evaluating: 100%|██████████| 5416/5416 [00:00<00:00, 43677.90it/s]\n"
     ]
    },
    {
     "output_type": "stream",
     "name": "stdout",
     "text": [
      "Train: 1.0000| Val: 0.7720| Test: 0.8180| Eval Time: 0.1290s\n",
      "Epoch 29| Loss: 0.0204| Acc: 1.0000| Train Time: 0.0200s\n"
     ]
    },
    {
     "output_type": "stream",
     "name": "stderr",
     "text": [
      "Evaluating: 100%|██████████| 5416/5416 [00:00<00:00, 42819.43it/s]\n"
     ]
    },
    {
     "output_type": "stream",
     "name": "stdout",
     "text": [
      "Train: 1.0000| Val: 0.7720| Test: 0.8160| Eval Time: 0.1325s\n",
      "Epoch 30| Loss: 0.0274| Acc: 0.9929| Train Time: 0.0210s\n"
     ]
    },
    {
     "output_type": "stream",
     "name": "stderr",
     "text": [
      "Evaluating: 100%|██████████| 5416/5416 [00:00<00:00, 56417.11it/s]\n"
     ]
    },
    {
     "output_type": "stream",
     "name": "stdout",
     "text": [
      "Train: 1.0000| Val: 0.7680| Test: 0.8160| Eval Time: 0.1010s\n",
      "Epoch 31| Loss: 0.0084| Acc: 1.0000| Train Time: 0.0180s\n"
     ]
    },
    {
     "output_type": "stream",
     "name": "stderr",
     "text": [
      "Evaluating: 100%|██████████| 5416/5416 [00:00<00:00, 49689.28it/s]\n"
     ]
    },
    {
     "output_type": "stream",
     "name": "stdout",
     "text": [
      "Train: 1.0000| Val: 0.7680| Test: 0.8220| Eval Time: 0.1140s\n",
      "Epoch 32| Loss: 0.0113| Acc: 1.0000| Train Time: 0.0180s\n"
     ]
    },
    {
     "output_type": "stream",
     "name": "stderr",
     "text": [
      "Evaluating: 100%|██████████| 5416/5416 [00:00<00:00, 47098.09it/s]\n"
     ]
    },
    {
     "output_type": "stream",
     "name": "stdout",
     "text": [
      "Train: 1.0000| Val: 0.7740| Test: 0.8220| Eval Time: 0.1200s\n",
      "Epoch 33| Loss: 0.0204| Acc: 1.0000| Train Time: 0.0220s\n"
     ]
    },
    {
     "output_type": "stream",
     "name": "stderr",
     "text": [
      "Evaluating: 100%|██████████| 5416/5416 [00:00<00:00, 44760.75it/s]\n"
     ]
    },
    {
     "output_type": "stream",
     "name": "stdout",
     "text": [
      "Train: 1.0000| Val: 0.7720| Test: 0.8210| Eval Time: 0.1270s\n",
      "Epoch 34| Loss: 0.0170| Acc: 1.0000| Train Time: 0.0170s\n"
     ]
    },
    {
     "output_type": "stream",
     "name": "stderr",
     "text": [
      "Evaluating: 100%|██████████| 5416/5416 [00:00<00:00, 44193.00it/s]\n"
     ]
    },
    {
     "output_type": "stream",
     "name": "stdout",
     "text": [
      "Train: 1.0000| Val: 0.7660| Test: 0.8190| Eval Time: 0.1296s\n",
      "Epoch 35| Loss: 0.0181| Acc: 0.9929| Train Time: 0.0200s\n"
     ]
    },
    {
     "output_type": "stream",
     "name": "stderr",
     "text": [
      "Evaluating: 100%|██████████| 5416/5416 [00:00<00:00, 44768.07it/s]\n"
     ]
    },
    {
     "output_type": "stream",
     "name": "stdout",
     "text": [
      "Train: 1.0000| Val: 0.7660| Test: 0.8170| Eval Time: 0.1300s\n",
      "Epoch 36| Loss: 0.0079| Acc: 1.0000| Train Time: 0.0210s\n"
     ]
    },
    {
     "output_type": "stream",
     "name": "stderr",
     "text": [
      "Evaluating: 100%|██████████| 5416/5416 [00:00<00:00, 47083.15it/s]\n"
     ]
    },
    {
     "output_type": "stream",
     "name": "stdout",
     "text": [
      "Train: 1.0000| Val: 0.7660| Test: 0.8180| Eval Time: 0.1210s\n",
      "Epoch 37| Loss: 0.0125| Acc: 1.0000| Train Time: 0.0150s\n"
     ]
    },
    {
     "output_type": "stream",
     "name": "stderr",
     "text": [
      "Evaluating: 100%|██████████| 5416/5416 [00:00<00:00, 42984.23it/s]\n"
     ]
    },
    {
     "output_type": "stream",
     "name": "stdout",
     "text": [
      "Train: 1.0000| Val: 0.7660| Test: 0.8150| Eval Time: 0.1320s\n",
      "Epoch 38| Loss: 0.0079| Acc: 1.0000| Train Time: 0.0210s\n"
     ]
    },
    {
     "output_type": "stream",
     "name": "stderr",
     "text": [
      "Evaluating: 100%|██████████| 5416/5416 [00:00<00:00, 41984.75it/s]\n"
     ]
    },
    {
     "output_type": "stream",
     "name": "stdout",
     "text": [
      "Train: 1.0000| Val: 0.7660| Test: 0.8160| Eval Time: 0.1350s\n",
      "Epoch 39| Loss: 0.0171| Acc: 0.9929| Train Time: 0.0200s\n"
     ]
    },
    {
     "output_type": "stream",
     "name": "stderr",
     "text": [
      "Evaluating: 100%|██████████| 5416/5416 [00:00<00:00, 39245.97it/s]\n"
     ]
    },
    {
     "output_type": "stream",
     "name": "stdout",
     "text": [
      "Train: 1.0000| Val: 0.7660| Test: 0.8160| Eval Time: 0.1450s\n",
      "Epoch 40| Loss: 0.0140| Acc: 1.0000| Train Time: 0.0150s\n"
     ]
    },
    {
     "output_type": "stream",
     "name": "stderr",
     "text": [
      "Evaluating: 100%|██████████| 5416/5416 [00:00<00:00, 45512.35it/s]\n"
     ]
    },
    {
     "output_type": "stream",
     "name": "stdout",
     "text": [
      "Train: 1.0000| Val: 0.7640| Test: 0.8150| Eval Time: 0.1250s\n",
      "Epoch 41| Loss: 0.0117| Acc: 1.0000| Train Time: 0.0190s\n"
     ]
    },
    {
     "output_type": "stream",
     "name": "stderr",
     "text": [
      "Evaluating: 100%|██████████| 5416/5416 [00:00<00:00, 49688.20it/s]\n"
     ]
    },
    {
     "output_type": "stream",
     "name": "stdout",
     "text": [
      "Train: 1.0000| Val: 0.7620| Test: 0.8130| Eval Time: 0.1150s\n",
      "Epoch 42| Loss: 0.0039| Acc: 1.0000| Train Time: 0.0190s\n"
     ]
    },
    {
     "output_type": "stream",
     "name": "stderr",
     "text": [
      "Evaluating: 100%|██████████| 5416/5416 [00:00<00:00, 45683.04it/s]\n"
     ]
    },
    {
     "output_type": "stream",
     "name": "stdout",
     "text": [
      "Train: 1.0000| Val: 0.7640| Test: 0.8110| Eval Time: 0.1256s\n",
      "Epoch 43| Loss: 0.0110| Acc: 1.0000| Train Time: 0.0160s\n"
     ]
    },
    {
     "output_type": "stream",
     "name": "stderr",
     "text": [
      "Evaluating: 100%|██████████| 5416/5416 [00:00<00:00, 42718.38it/s]\n"
     ]
    },
    {
     "output_type": "stream",
     "name": "stdout",
     "text": [
      "Train: 1.0000| Val: 0.7640| Test: 0.8080| Eval Time: 0.1338s\n",
      "Epoch 44| Loss: 0.0053| Acc: 1.0000| Train Time: 0.0190s\n"
     ]
    },
    {
     "output_type": "stream",
     "name": "stderr",
     "text": [
      "Evaluating: 100%|██████████| 5416/5416 [00:00<00:00, 50615.42it/s]\n"
     ]
    },
    {
     "output_type": "stream",
     "name": "stdout",
     "text": [
      "Train: 1.0000| Val: 0.7660| Test: 0.8070| Eval Time: 0.1120s\n",
      "Epoch 45| Loss: 0.0027| Acc: 1.0000| Train Time: 0.0200s\n"
     ]
    },
    {
     "output_type": "stream",
     "name": "stderr",
     "text": [
      "Evaluating: 100%|██████████| 5416/5416 [00:00<00:00, 41661.73it/s]\n"
     ]
    },
    {
     "output_type": "stream",
     "name": "stdout",
     "text": [
      "Train: 1.0000| Val: 0.7660| Test: 0.8080| Eval Time: 0.1360s\n",
      "Epoch 46| Loss: 0.0050| Acc: 1.0000| Train Time: 0.0170s\n"
     ]
    },
    {
     "output_type": "stream",
     "name": "stderr",
     "text": [
      "Evaluating: 100%|██████████| 5416/5416 [00:00<00:00, 44394.32it/s]\n"
     ]
    },
    {
     "output_type": "stream",
     "name": "stdout",
     "text": [
      "Train: 1.0000| Val: 0.7660| Test: 0.8080| Eval Time: 0.1280s\n",
      "Epoch 47| Loss: 0.0036| Acc: 1.0000| Train Time: 0.0200s\n"
     ]
    },
    {
     "output_type": "stream",
     "name": "stderr",
     "text": [
      "Evaluating: 100%|██████████| 5416/5416 [00:00<00:00, 52582.20it/s]\n"
     ]
    },
    {
     "output_type": "stream",
     "name": "stdout",
     "text": [
      "Train: 1.0000| Val: 0.7640| Test: 0.8080| Eval Time: 0.1100s\n",
      "Epoch 48| Loss: 0.0051| Acc: 1.0000| Train Time: 0.0170s\n"
     ]
    },
    {
     "output_type": "stream",
     "name": "stderr",
     "text": [
      "Evaluating: 100%|██████████| 5416/5416 [00:00<00:00, 52583.41it/s]\n"
     ]
    },
    {
     "output_type": "stream",
     "name": "stdout",
     "text": [
      "Train: 1.0000| Val: 0.7620| Test: 0.8110| Eval Time: 0.1090s\n",
      "Epoch 49| Loss: 0.0075| Acc: 1.0000| Train Time: 0.0180s\n"
     ]
    },
    {
     "output_type": "stream",
     "name": "stderr",
     "text": [
      "Evaluating: 100%|██████████| 5416/5416 [00:00<00:00, 48795.39it/s]\n"
     ]
    },
    {
     "output_type": "stream",
     "name": "stdout",
     "text": [
      "Train: 1.0000| Val: 0.7640| Test: 0.8090| Eval Time: 0.1160s\n",
      "Epoch 50| Loss: 0.0025| Acc: 1.0000| Train Time: 0.0230s\n"
     ]
    },
    {
     "output_type": "stream",
     "name": "stderr",
     "text": [
      "Evaluating: 100%|██████████| 5416/5416 [00:00<00:00, 34059.79it/s]\n"
     ]
    },
    {
     "output_type": "stream",
     "name": "stdout",
     "text": [
      "Train: 1.0000| Val: 0.7640| Test: 0.8100| Eval Time: 0.1660s\n",
      "Epoch 51| Loss: 0.0071| Acc: 1.0000| Train Time: 0.0210s\n"
     ]
    },
    {
     "output_type": "stream",
     "name": "stderr",
     "text": [
      "Evaluating: 100%|██████████| 5416/5416 [00:00<00:00, 34718.55it/s]\n"
     ]
    },
    {
     "output_type": "stream",
     "name": "stdout",
     "text": [
      "Train: 1.0000| Val: 0.7620| Test: 0.8110| Eval Time: 0.1630s\n",
      "Epoch 52| Loss: 0.0053| Acc: 1.0000| Train Time: 0.0220s\n"
     ]
    },
    {
     "output_type": "stream",
     "name": "stderr",
     "text": [
      "Evaluating: 100%|██████████| 5416/5416 [00:00<00:00, 47289.18it/s]\n"
     ]
    },
    {
     "output_type": "stream",
     "name": "stdout",
     "text": [
      "Train: 1.0000| Val: 0.7620| Test: 0.8110| Eval Time: 0.1195s\n",
      "Epoch 53| Loss: 0.0043| Acc: 1.0000| Train Time: 0.0170s\n"
     ]
    },
    {
     "output_type": "stream",
     "name": "stderr",
     "text": [
      "Evaluating: 100%|██████████| 5416/5416 [00:00<00:00, 45898.39it/s]\n"
     ]
    },
    {
     "output_type": "stream",
     "name": "stdout",
     "text": [
      "Train: 1.0000| Val: 0.7620| Test: 0.8100| Eval Time: 0.1250s\n",
      "Epoch 54| Loss: 0.0048| Acc: 1.0000| Train Time: 0.0190s\n"
     ]
    },
    {
     "output_type": "stream",
     "name": "stderr",
     "text": [
      "Evaluating: 100%|██████████| 5416/5416 [00:00<00:00, 45898.29it/s]\n"
     ]
    },
    {
     "output_type": "stream",
     "name": "stdout",
     "text": [
      "Train: 1.0000| Val: 0.7600| Test: 0.8090| Eval Time: 0.1240s\n",
      "Epoch 55| Loss: 0.0044| Acc: 1.0000| Train Time: 0.0180s\n"
     ]
    },
    {
     "output_type": "stream",
     "name": "stderr",
     "text": [
      "Evaluating: 100%|██████████| 5416/5416 [00:00<00:00, 47929.54it/s]\n"
     ]
    },
    {
     "output_type": "stream",
     "name": "stdout",
     "text": [
      "Train: 1.0000| Val: 0.7600| Test: 0.8080| Eval Time: 0.1180s\n",
      "Epoch 56| Loss: 0.0063| Acc: 1.0000| Train Time: 0.0170s\n"
     ]
    },
    {
     "output_type": "stream",
     "name": "stderr",
     "text": [
      "Evaluating: 100%|██████████| 5416/5416 [00:00<00:00, 52062.08it/s]\n"
     ]
    },
    {
     "output_type": "stream",
     "name": "stdout",
     "text": [
      "Train: 1.0000| Val: 0.7620| Test: 0.8080| Eval Time: 0.1100s\n",
      "Epoch 57| Loss: 0.0048| Acc: 1.0000| Train Time: 0.0181s\n"
     ]
    },
    {
     "output_type": "stream",
     "name": "stderr",
     "text": [
      "Evaluating: 100%|██████████| 5416/5416 [00:00<00:00, 41984.28it/s]\n"
     ]
    },
    {
     "output_type": "stream",
     "name": "stdout",
     "text": [
      "Train: 1.0000| Val: 0.7620| Test: 0.8080| Eval Time: 0.1350s\n",
      "Epoch 58| Loss: 0.0047| Acc: 1.0000| Train Time: 0.0190s\n"
     ]
    },
    {
     "output_type": "stream",
     "name": "stderr",
     "text": [
      "Evaluating: 100%|██████████| 5416/5416 [00:00<00:00, 40722.27it/s]\n"
     ]
    },
    {
     "output_type": "stream",
     "name": "stdout",
     "text": [
      "Train: 1.0000| Val: 0.7620| Test: 0.8080| Eval Time: 0.1390s\n",
      "Epoch 59| Loss: 0.0037| Acc: 1.0000| Train Time: 0.0200s\n"
     ]
    },
    {
     "output_type": "stream",
     "name": "stderr",
     "text": [
      "Evaluating: 100%|██████████| 5416/5416 [00:00<00:00, 42984.97it/s]\n"
     ]
    },
    {
     "output_type": "stream",
     "name": "stdout",
     "text": [
      "Train: 1.0000| Val: 0.7620| Test: 0.8070| Eval Time: 0.1320s\n",
      "Epoch 60| Loss: 0.0126| Acc: 1.0000| Train Time: 0.0180s\n"
     ]
    },
    {
     "output_type": "stream",
     "name": "stderr",
     "text": [
      "Evaluating: 100%|██████████| 5416/5416 [00:00<00:00, 42646.36it/s]\n"
     ]
    },
    {
     "output_type": "stream",
     "name": "stdout",
     "text": [
      "Train: 1.0000| Val: 0.7560| Test: 0.8060| Eval Time: 0.1330s\n",
      "Epoch 61| Loss: 0.0012| Acc: 1.0000| Train Time: 0.0190s\n"
     ]
    },
    {
     "output_type": "stream",
     "name": "stderr",
     "text": [
      "Evaluating: 100%|██████████| 5416/5416 [00:00<00:00, 54708.53it/s]\n"
     ]
    },
    {
     "output_type": "stream",
     "name": "stdout",
     "text": [
      "Train: 1.0000| Val: 0.7560| Test: 0.8050| Eval Time: 0.1040s\n",
      "Epoch 62| Loss: 0.0020| Acc: 1.0000| Train Time: 0.0150s\n"
     ]
    },
    {
     "output_type": "stream",
     "name": "stderr",
     "text": [
      "Evaluating: 100%|██████████| 5416/5416 [00:00<00:00, 48358.28it/s]\n"
     ]
    },
    {
     "output_type": "stream",
     "name": "stdout",
     "text": [
      "Train: 1.0000| Val: 0.7560| Test: 0.8070| Eval Time: 0.1160s\n",
      "Epoch 63| Loss: 0.0038| Acc: 1.0000| Train Time: 0.0160s\n"
     ]
    },
    {
     "output_type": "stream",
     "name": "stderr",
     "text": [
      "Evaluating: 100%|██████████| 5416/5416 [00:00<00:00, 38964.91it/s]\n"
     ]
    },
    {
     "output_type": "stream",
     "name": "stdout",
     "text": [
      "Train: 1.0000| Val: 0.7560| Test: 0.8050| Eval Time: 0.1450s\n",
      "Epoch 64| Loss: 0.0019| Acc: 1.0000| Train Time: 0.0190s\n"
     ]
    },
    {
     "output_type": "stream",
     "name": "stderr",
     "text": [
      "Evaluating: 100%|██████████| 5416/5416 [00:00<00:00, 49002.22it/s]\n"
     ]
    },
    {
     "output_type": "stream",
     "name": "stdout",
     "text": [
      "Train: 1.0000| Val: 0.7580| Test: 0.8050| Eval Time: 0.1165s\n",
      "\n",
      "Result of  1. run| Train: 1.0000| Val: 0.7860| Test: 0.8220\n",
      "\n",
      "Run 02:\n"
     ]
    },
    {
     "output_type": "stream",
     "name": "stderr",
     "text": [
      "Epoch 01: 100%|██████████| 140/140 [00:00<00:00, 6999.42it/s]\n"
     ]
    },
    {
     "output_type": "stream",
     "name": "stdout",
     "text": [
      "Epoch 01| Loss: 1.9588| Acc: 0.1571| Train Time: 0.0230s\n"
     ]
    },
    {
     "output_type": "stream",
     "name": "stderr",
     "text": [
      "Evaluating: 100%|██████████| 5416/5416 [00:00<00:00, 43326.68it/s]\n"
     ]
    },
    {
     "output_type": "stream",
     "name": "stdout",
     "text": [
      "Train: 0.7786| Val: 0.4420| Test: 0.4470| Eval Time: 0.1310s\n",
      "Epoch 02| Loss: 1.4985| Acc: 0.6071| Train Time: 0.0180s\n"
     ]
    },
    {
     "output_type": "stream",
     "name": "stderr",
     "text": [
      "Evaluating: 100%|██████████| 5416/5416 [00:00<00:00, 48793.60it/s]\n"
     ]
    },
    {
     "output_type": "stream",
     "name": "stdout",
     "text": [
      "Train: 0.9786| Val: 0.6780| Test: 0.7000| Eval Time: 0.1160s\n",
      "Epoch 03| Loss: 1.1302| Acc: 0.9000| Train Time: 0.0160s\n"
     ]
    },
    {
     "output_type": "stream",
     "name": "stderr",
     "text": [
      "Evaluating: 100%|██████████| 5416/5416 [00:00<00:00, 48358.49it/s]\n"
     ]
    },
    {
     "output_type": "stream",
     "name": "stdout",
     "text": [
      "Train: 0.9929| Val: 0.7540| Test: 0.7500| Eval Time: 0.1180s\n",
      "Epoch 04| Loss: 0.8921| Acc: 0.9071| Train Time: 0.0180s\n"
     ]
    },
    {
     "output_type": "stream",
     "name": "stderr",
     "text": [
      "Evaluating: 100%|██████████| 5416/5416 [00:00<00:00, 48357.66it/s]\n"
     ]
    },
    {
     "output_type": "stream",
     "name": "stdout",
     "text": [
      "Train: 0.9929| Val: 0.7880| Test: 0.7810| Eval Time: 0.1180s\n",
      "Epoch 05| Loss: 0.6728| Acc: 0.9357| Train Time: 0.0170s\n"
     ]
    },
    {
     "output_type": "stream",
     "name": "stderr",
     "text": [
      "Evaluating: 100%|██████████| 5416/5416 [00:00<00:00, 52077.35it/s]\n"
     ]
    },
    {
     "output_type": "stream",
     "name": "stdout",
     "text": [
      "Train: 1.0000| Val: 0.7920| Test: 0.7920| Eval Time: 0.1110s\n",
      "Epoch 06| Loss: 0.5578| Acc: 0.9786| Train Time: 0.0200s\n"
     ]
    },
    {
     "output_type": "stream",
     "name": "stderr",
     "text": [
      "Evaluating: 100%|██████████| 5416/5416 [00:00<00:00, 42948.07it/s]\n"
     ]
    },
    {
     "output_type": "stream",
     "name": "stdout",
     "text": [
      "Train: 1.0000| Val: 0.7920| Test: 0.7980| Eval Time: 0.1331s\n",
      "Epoch 07| Loss: 0.3852| Acc: 0.9857| Train Time: 0.0180s\n"
     ]
    },
    {
     "output_type": "stream",
     "name": "stderr",
     "text": [
      "Evaluating: 100%|██████████| 5416/5416 [00:00<00:00, 46281.50it/s]\n"
     ]
    },
    {
     "output_type": "stream",
     "name": "stdout",
     "text": [
      "Train: 1.0000| Val: 0.7920| Test: 0.8000| Eval Time: 0.1230s\n",
      "Epoch 08| Loss: 0.3202| Acc: 0.9857| Train Time: 0.0170s\n"
     ]
    },
    {
     "output_type": "stream",
     "name": "stderr",
     "text": [
      "Evaluating: 100%|██████████| 5416/5416 [00:00<00:00, 49234.70it/s]\n"
     ]
    },
    {
     "output_type": "stream",
     "name": "stdout",
     "text": [
      "Train: 1.0000| Val: 0.7860| Test: 0.7960| Eval Time: 0.1130s\n",
      "Epoch 09| Loss: 0.2450| Acc: 0.9786| Train Time: 0.0170s\n"
     ]
    },
    {
     "output_type": "stream",
     "name": "stderr",
     "text": [
      "Evaluating: 100%|██████████| 5416/5416 [00:00<00:00, 51581.53it/s]\n"
     ]
    },
    {
     "output_type": "stream",
     "name": "stdout",
     "text": [
      "Train: 1.0000| Val: 0.7800| Test: 0.7980| Eval Time: 0.1110s\n",
      "Epoch 10| Loss: 0.2152| Acc: 0.9786| Train Time: 0.0180s\n"
     ]
    },
    {
     "output_type": "stream",
     "name": "stderr",
     "text": [
      "Evaluating: 100%|██████████| 5416/5416 [00:00<00:00, 49689.28it/s]\n"
     ]
    },
    {
     "output_type": "stream",
     "name": "stdout",
     "text": [
      "Train: 1.0000| Val: 0.7700| Test: 0.7990| Eval Time: 0.1150s\n",
      "Epoch 11| Loss: 0.1778| Acc: 0.9929| Train Time: 0.0170s\n"
     ]
    },
    {
     "output_type": "stream",
     "name": "stderr",
     "text": [
      "Evaluating: 100%|██████████| 5416/5416 [00:00<00:00, 46289.80it/s]\n"
     ]
    },
    {
     "output_type": "stream",
     "name": "stdout",
     "text": [
      "Train: 1.0000| Val: 0.7680| Test: 0.7970| Eval Time: 0.1230s\n",
      "Epoch 12| Loss: 0.1918| Acc: 0.9929| Train Time: 0.0180s\n"
     ]
    },
    {
     "output_type": "stream",
     "name": "stderr",
     "text": [
      "Evaluating: 100%|██████████| 5416/5416 [00:00<00:00, 47508.54it/s]\n"
     ]
    },
    {
     "output_type": "stream",
     "name": "stdout",
     "text": [
      "Train: 1.0000| Val: 0.7740| Test: 0.7970| Eval Time: 0.1200s\n",
      "Epoch 13| Loss: 0.1362| Acc: 1.0000| Train Time: 0.0180s\n"
     ]
    },
    {
     "output_type": "stream",
     "name": "stderr",
     "text": [
      "Evaluating: 100%|██████████| 5416/5416 [00:00<00:00, 49245.27it/s]\n"
     ]
    },
    {
     "output_type": "stream",
     "name": "stdout",
     "text": [
      "Train: 1.0000| Val: 0.7700| Test: 0.7970| Eval Time: 0.1150s\n",
      "Epoch 14| Loss: 0.1209| Acc: 0.9929| Train Time: 0.0160s\n"
     ]
    },
    {
     "output_type": "stream",
     "name": "stderr",
     "text": [
      "Evaluating: 100%|██████████| 5416/5416 [00:00<00:00, 47084.32it/s]\n"
     ]
    },
    {
     "output_type": "stream",
     "name": "stdout",
     "text": [
      "Train: 1.0000| Val: 0.7740| Test: 0.7950| Eval Time: 0.1210s\n",
      "Epoch 15| Loss: 0.0763| Acc: 1.0000| Train Time: 0.0180s\n"
     ]
    },
    {
     "output_type": "stream",
     "name": "stderr",
     "text": [
      "Evaluating: 100%|██████████| 5416/5416 [00:00<00:00, 50149.79it/s]\n"
     ]
    },
    {
     "output_type": "stream",
     "name": "stdout",
     "text": [
      "Train: 1.0000| Val: 0.7820| Test: 0.7880| Eval Time: 0.1140s\n",
      "Epoch 16| Loss: 0.0906| Acc: 1.0000| Train Time: 0.0180s\n"
     ]
    },
    {
     "output_type": "stream",
     "name": "stderr",
     "text": [
      "Evaluating: 100%|██████████| 5416/5416 [00:00<00:00, 47095.84it/s]\n"
     ]
    },
    {
     "output_type": "stream",
     "name": "stdout",
     "text": [
      "Train: 1.0000| Val: 0.7820| Test: 0.7900| Eval Time: 0.1200s\n",
      "Epoch 17| Loss: 0.0698| Acc: 1.0000| Train Time: 0.0180s\n"
     ]
    },
    {
     "output_type": "stream",
     "name": "stderr",
     "text": [
      "Evaluating: 100%|██████████| 5416/5416 [00:00<00:00, 42313.04it/s]\n"
     ]
    },
    {
     "output_type": "stream",
     "name": "stdout",
     "text": [
      "Train: 1.0000| Val: 0.7760| Test: 0.7910| Eval Time: 0.1330s\n",
      "Epoch 18| Loss: 0.0425| Acc: 1.0000| Train Time: 0.0165s\n"
     ]
    },
    {
     "output_type": "stream",
     "name": "stderr",
     "text": [
      "Evaluating: 100%|██████████| 5416/5416 [00:00<00:00, 48793.81it/s]\n"
     ]
    },
    {
     "output_type": "stream",
     "name": "stdout",
     "text": [
      "Train: 1.0000| Val: 0.7780| Test: 0.7920| Eval Time: 0.1145s\n",
      "Epoch 19| Loss: 0.0526| Acc: 0.9929| Train Time: 0.0190s\n"
     ]
    },
    {
     "output_type": "stream",
     "name": "stderr",
     "text": [
      "Evaluating: 100%|██████████| 5416/5416 [00:00<00:00, 44394.23it/s]\n"
     ]
    },
    {
     "output_type": "stream",
     "name": "stdout",
     "text": [
      "Train: 1.0000| Val: 0.7700| Test: 0.7920| Eval Time: 0.1290s\n",
      "Epoch 20| Loss: 0.0356| Acc: 1.0000| Train Time: 0.0180s\n"
     ]
    },
    {
     "output_type": "stream",
     "name": "stderr",
     "text": [
      "Evaluating: 100%|██████████| 5416/5416 [00:00<00:00, 43327.67it/s]\n"
     ]
    },
    {
     "output_type": "stream",
     "name": "stdout",
     "text": [
      "Train: 1.0000| Val: 0.7700| Test: 0.7920| Eval Time: 0.1320s\n",
      "Epoch 21| Loss: 0.0377| Acc: 0.9929| Train Time: 0.0200s\n"
     ]
    },
    {
     "output_type": "stream",
     "name": "stderr",
     "text": [
      "Evaluating: 100%|██████████| 5416/5416 [00:00<00:00, 45003.46it/s]\n"
     ]
    },
    {
     "output_type": "stream",
     "name": "stdout",
     "text": [
      "Train: 1.0000| Val: 0.7700| Test: 0.7870| Eval Time: 0.1274s\n",
      "Epoch 22| Loss: 0.0352| Acc: 1.0000| Train Time: 0.0160s\n"
     ]
    },
    {
     "output_type": "stream",
     "name": "stderr",
     "text": [
      "Evaluating: 100%|██████████| 5416/5416 [00:00<00:00, 44760.93it/s]\n"
     ]
    },
    {
     "output_type": "stream",
     "name": "stdout",
     "text": [
      "Train: 1.0000| Val: 0.7700| Test: 0.7830| Eval Time: 0.1280s\n",
      "Epoch 23| Loss: 0.0187| Acc: 1.0000| Train Time: 0.0170s\n"
     ]
    },
    {
     "output_type": "stream",
     "name": "stderr",
     "text": [
      "Evaluating: 100%|██████████| 5416/5416 [00:00<00:00, 43847.69it/s]\n"
     ]
    },
    {
     "output_type": "stream",
     "name": "stdout",
     "text": [
      "Train: 1.0000| Val: 0.7680| Test: 0.7810| Eval Time: 0.1295s\n",
      "Epoch 24| Loss: 0.0243| Acc: 1.0000| Train Time: 0.0150s\n"
     ]
    },
    {
     "output_type": "stream",
     "name": "stderr",
     "text": [
      "Evaluating: 100%|██████████| 5416/5416 [00:00<00:00, 42143.80it/s]\n"
     ]
    },
    {
     "output_type": "stream",
     "name": "stdout",
     "text": [
      "Train: 1.0000| Val: 0.7680| Test: 0.7810| Eval Time: 0.1335s\n",
      "Epoch 25| Loss: 0.0256| Acc: 1.0000| Train Time: 0.0180s\n"
     ]
    },
    {
     "output_type": "stream",
     "name": "stderr",
     "text": [
      "Evaluating: 100%|██████████| 5416/5416 [00:00<00:00, 42984.64it/s]\n"
     ]
    },
    {
     "output_type": "stream",
     "name": "stdout",
     "text": [
      "Train: 1.0000| Val: 0.7660| Test: 0.7800| Eval Time: 0.1320s\n",
      "Epoch 26| Loss: 0.0152| Acc: 1.0000| Train Time: 0.0190s\n"
     ]
    },
    {
     "output_type": "stream",
     "name": "stderr",
     "text": [
      "Evaluating: 100%|██████████| 5416/5416 [00:00<00:00, 44033.15it/s]\n"
     ]
    },
    {
     "output_type": "stream",
     "name": "stdout",
     "text": [
      "Train: 1.0000| Val: 0.7640| Test: 0.7790| Eval Time: 0.1280s\n",
      "Epoch 27| Loss: 0.0174| Acc: 1.0000| Train Time: 0.0190s\n"
     ]
    },
    {
     "output_type": "stream",
     "name": "stderr",
     "text": [
      "Evaluating: 100%|██████████| 5416/5416 [00:00<00:00, 41645.84it/s]\n"
     ]
    },
    {
     "output_type": "stream",
     "name": "stdout",
     "text": [
      "Train: 1.0000| Val: 0.7620| Test: 0.7770| Eval Time: 0.1390s\n",
      "Epoch 28| Loss: 0.0142| Acc: 1.0000| Train Time: 0.0230s\n"
     ]
    },
    {
     "output_type": "stream",
     "name": "stderr",
     "text": [
      "Evaluating: 100%|██████████| 5416/5416 [00:00<00:00, 43676.81it/s]\n"
     ]
    },
    {
     "output_type": "stream",
     "name": "stdout",
     "text": [
      "Train: 1.0000| Val: 0.7620| Test: 0.7760| Eval Time: 0.1280s\n",
      "Epoch 29| Loss: 0.0108| Acc: 1.0000| Train Time: 0.0160s\n"
     ]
    },
    {
     "output_type": "stream",
     "name": "stderr",
     "text": [
      "Evaluating: 100%|██████████| 5416/5416 [00:00<00:00, 49237.05it/s]\n"
     ]
    },
    {
     "output_type": "stream",
     "name": "stdout",
     "text": [
      "Train: 1.0000| Val: 0.7580| Test: 0.7730| Eval Time: 0.1160s\n",
      "Epoch 30| Loss: 0.0219| Acc: 1.0000| Train Time: 0.0170s\n"
     ]
    },
    {
     "output_type": "stream",
     "name": "stderr",
     "text": [
      "Evaluating: 100%|██████████| 5416/5416 [00:00<00:00, 47927.92it/s]\n"
     ]
    },
    {
     "output_type": "stream",
     "name": "stdout",
     "text": [
      "Train: 1.0000| Val: 0.7560| Test: 0.7730| Eval Time: 0.1190s\n",
      "Epoch 31| Loss: 0.0219| Acc: 1.0000| Train Time: 0.0170s\n"
     ]
    },
    {
     "output_type": "stream",
     "name": "stderr",
     "text": [
      "Evaluating: 100%|██████████| 5416/5416 [00:00<00:00, 40418.97it/s]\n"
     ]
    },
    {
     "output_type": "stream",
     "name": "stdout",
     "text": [
      "Train: 1.0000| Val: 0.7520| Test: 0.7730| Eval Time: 0.1390s\n",
      "Epoch 32| Loss: 0.0082| Acc: 1.0000| Train Time: 0.0200s\n"
     ]
    },
    {
     "output_type": "stream",
     "name": "stderr",
     "text": [
      "Evaluating: 100%|██████████| 5416/5416 [00:00<00:00, 41984.44it/s]\n"
     ]
    },
    {
     "output_type": "stream",
     "name": "stdout",
     "text": [
      "Train: 1.0000| Val: 0.7520| Test: 0.7730| Eval Time: 0.1340s\n",
      "Epoch 33| Loss: 0.0075| Acc: 1.0000| Train Time: 0.0160s\n"
     ]
    },
    {
     "output_type": "stream",
     "name": "stderr",
     "text": [
      "Evaluating: 100%|██████████| 5416/5416 [00:00<00:00, 47096.23it/s]\n"
     ]
    },
    {
     "output_type": "stream",
     "name": "stdout",
     "text": [
      "Train: 1.0000| Val: 0.7520| Test: 0.7720| Eval Time: 0.1190s\n",
      "Epoch 34| Loss: 0.0100| Acc: 1.0000| Train Time: 0.0180s\n"
     ]
    },
    {
     "output_type": "stream",
     "name": "stderr",
     "text": [
      "Evaluating: 100%|██████████| 5416/5416 [00:00<00:00, 47095.45it/s]\n"
     ]
    },
    {
     "output_type": "stream",
     "name": "stdout",
     "text": [
      "Train: 1.0000| Val: 0.7500| Test: 0.7730| Eval Time: 0.1220s\n",
      "Epoch 35| Loss: 0.0148| Acc: 1.0000| Train Time: 0.0191s\n"
     ]
    },
    {
     "output_type": "stream",
     "name": "stderr",
     "text": [
      "Evaluating: 100%|██████████| 5416/5416 [00:00<00:00, 50148.79it/s]\n"
     ]
    },
    {
     "output_type": "stream",
     "name": "stdout",
     "text": [
      "Train: 1.0000| Val: 0.7460| Test: 0.7730| Eval Time: 0.1130s\n",
      "Epoch 36| Loss: 0.0106| Acc: 1.0000| Train Time: 0.0160s\n"
     ]
    },
    {
     "output_type": "stream",
     "name": "stderr",
     "text": [
      "Evaluating: 100%|██████████| 5416/5416 [00:00<00:00, 44285.44it/s]\n"
     ]
    },
    {
     "output_type": "stream",
     "name": "stdout",
     "text": [
      "Train: 1.0000| Val: 0.7460| Test: 0.7720| Eval Time: 0.1293s\n",
      "Epoch 37| Loss: 0.0043| Acc: 1.0000| Train Time: 0.0170s\n"
     ]
    },
    {
     "output_type": "stream",
     "name": "stderr",
     "text": [
      "Evaluating: 100%|██████████| 5416/5416 [00:00<00:00, 60177.52it/s]\n"
     ]
    },
    {
     "output_type": "stream",
     "name": "stdout",
     "text": [
      "Train: 1.0000| Val: 0.7460| Test: 0.7720| Eval Time: 0.0950s\n",
      "Epoch 38| Loss: 0.0076| Acc: 1.0000| Train Time: 0.0230s\n"
     ]
    },
    {
     "output_type": "stream",
     "name": "stderr",
     "text": [
      "Evaluating: 100%|██████████| 5416/5416 [00:00<00:00, 45514.08it/s]\n"
     ]
    },
    {
     "output_type": "stream",
     "name": "stdout",
     "text": [
      "Train: 1.0000| Val: 0.7480| Test: 0.7730| Eval Time: 0.1250s\n",
      "Epoch 39| Loss: 0.0115| Acc: 1.0000| Train Time: 0.0160s\n"
     ]
    },
    {
     "output_type": "stream",
     "name": "stderr",
     "text": [
      "Evaluating: 100%|██████████| 5416/5416 [00:00<00:00, 36349.42it/s]\n"
     ]
    },
    {
     "output_type": "stream",
     "name": "stdout",
     "text": [
      "Train: 1.0000| Val: 0.7480| Test: 0.7710| Eval Time: 0.1540s\n",
      "Epoch 40| Loss: 0.0198| Acc: 1.0000| Train Time: 0.0180s\n"
     ]
    },
    {
     "output_type": "stream",
     "name": "stderr",
     "text": [
      "Evaluating: 100%|██████████| 5416/5416 [00:00<00:00, 50616.99it/s]\n"
     ]
    },
    {
     "output_type": "stream",
     "name": "stdout",
     "text": [
      "Train: 1.0000| Val: 0.7460| Test: 0.7710| Eval Time: 0.1120s\n",
      "Epoch 41| Loss: 0.0089| Acc: 1.0000| Train Time: 0.0140s\n"
     ]
    },
    {
     "output_type": "stream",
     "name": "stderr",
     "text": [
      "Evaluating: 100%|██████████| 5416/5416 [00:00<00:00, 45134.00it/s]\n"
     ]
    },
    {
     "output_type": "stream",
     "name": "stdout",
     "text": [
      "Train: 1.0000| Val: 0.7460| Test: 0.7700| Eval Time: 0.1270s\n",
      "Epoch 42| Loss: 0.0076| Acc: 1.0000| Train Time: 0.0190s\n"
     ]
    },
    {
     "output_type": "stream",
     "name": "stderr",
     "text": [
      "Evaluating: 100%|██████████| 5416/5416 [00:00<00:00, 52319.40it/s]\n"
     ]
    },
    {
     "output_type": "stream",
     "name": "stdout",
     "text": [
      "Train: 1.0000| Val: 0.7460| Test: 0.7680| Eval Time: 0.1085s\n",
      "Epoch 43| Loss: 0.0052| Acc: 1.0000| Train Time: 0.0170s\n"
     ]
    },
    {
     "output_type": "stream",
     "name": "stderr",
     "text": [
      "Evaluating: 100%|██████████| 5416/5416 [00:00<00:00, 45513.44it/s]\n"
     ]
    },
    {
     "output_type": "stream",
     "name": "stdout",
     "text": [
      "Train: 1.0000| Val: 0.7440| Test: 0.7680| Eval Time: 0.1240s\n",
      "Epoch 44| Loss: 0.0022| Acc: 1.0000| Train Time: 0.0190s\n"
     ]
    },
    {
     "output_type": "stream",
     "name": "stderr",
     "text": [
      "Evaluating: 100%|██████████| 5416/5416 [00:00<00:00, 40723.15it/s]\n"
     ]
    },
    {
     "output_type": "stream",
     "name": "stdout",
     "text": [
      "Train: 1.0000| Val: 0.7420| Test: 0.7680| Eval Time: 0.1390s\n",
      "Epoch 45| Loss: 0.0045| Acc: 1.0000| Train Time: 0.0240s\n"
     ]
    },
    {
     "output_type": "stream",
     "name": "stderr",
     "text": [
      "Evaluating: 100%|██████████| 5416/5416 [00:00<00:00, 36594.89it/s]\n"
     ]
    },
    {
     "output_type": "stream",
     "name": "stdout",
     "text": [
      "Train: 1.0000| Val: 0.7420| Test: 0.7670| Eval Time: 0.1550s\n",
      "Epoch 46| Loss: 0.0109| Acc: 1.0000| Train Time: 0.0230s\n"
     ]
    },
    {
     "output_type": "stream",
     "name": "stderr",
     "text": [
      "Evaluating: 100%|██████████| 5416/5416 [00:00<00:00, 42312.97it/s]"
     ]
    },
    {
     "output_type": "stream",
     "name": "stdout",
     "text": [
      "Train: 1.0000| Val: 0.7400| Test: 0.7670| Eval Time: 0.1360s\n",
      "Epoch 47| Loss: 0.0070| Acc: 1.0000| Train Time: 0.0220s\n"
     ]
    },
    {
     "output_type": "stream",
     "name": "stderr",
     "text": [
      "\n",
      "Evaluating: 100%|██████████| 5416/5416 [00:00<00:00, 39651.79it/s]\n"
     ]
    },
    {
     "output_type": "stream",
     "name": "stdout",
     "text": [
      "Train: 1.0000| Val: 0.7400| Test: 0.7680| Eval Time: 0.1436s\n",
      "Epoch 48| Loss: 0.0095| Acc: 1.0000| Train Time: 0.0240s\n"
     ]
    },
    {
     "output_type": "stream",
     "name": "stderr",
     "text": [
      "Evaluating: 100%|██████████| 5416/5416 [00:00<00:00, 38149.63it/s]\n"
     ]
    },
    {
     "output_type": "stream",
     "name": "stdout",
     "text": [
      "Train: 1.0000| Val: 0.7400| Test: 0.7680| Eval Time: 0.1480s\n",
      "Epoch 49| Loss: 0.0039| Acc: 1.0000| Train Time: 0.0190s\n"
     ]
    },
    {
     "output_type": "stream",
     "name": "stderr",
     "text": [
      "Evaluating: 100%|██████████| 5416/5416 [00:00<00:00, 44759.87it/s]\n"
     ]
    },
    {
     "output_type": "stream",
     "name": "stdout",
     "text": [
      "Train: 1.0000| Val: 0.7400| Test: 0.7690| Eval Time: 0.1260s\n",
      "Epoch 50| Loss: 0.0100| Acc: 1.0000| Train Time: 0.0150s\n"
     ]
    },
    {
     "output_type": "stream",
     "name": "stderr",
     "text": [
      "Evaluating: 100%|██████████| 5416/5416 [00:00<00:00, 45133.29it/s]\n"
     ]
    },
    {
     "output_type": "stream",
     "name": "stdout",
     "text": [
      "Train: 1.0000| Val: 0.7400| Test: 0.7690| Eval Time: 0.1250s\n",
      "Epoch 51| Loss: 0.0046| Acc: 1.0000| Train Time: 0.0180s\n"
     ]
    },
    {
     "output_type": "stream",
     "name": "stderr",
     "text": [
      "Evaluating: 100%|██████████| 5416/5416 [00:00<00:00, 44393.88it/s]\n"
     ]
    },
    {
     "output_type": "stream",
     "name": "stdout",
     "text": [
      "Train: 1.0000| Val: 0.7400| Test: 0.7690| Eval Time: 0.1270s\n",
      "Epoch 52| Loss: 0.0092| Acc: 1.0000| Train Time: 0.0190s\n"
     ]
    },
    {
     "output_type": "stream",
     "name": "stderr",
     "text": [
      "Evaluating: 100%|██████████| 5416/5416 [00:00<00:00, 46289.99it/s]\n"
     ]
    },
    {
     "output_type": "stream",
     "name": "stdout",
     "text": [
      "Train: 1.0000| Val: 0.7400| Test: 0.7680| Eval Time: 0.1240s\n",
      "Epoch 53| Loss: 0.0012| Acc: 1.0000| Train Time: 0.0200s\n"
     ]
    },
    {
     "output_type": "stream",
     "name": "stderr",
     "text": [
      "Evaluating: 100%|██████████| 5416/5416 [00:00<00:00, 48794.97it/s]\n"
     ]
    },
    {
     "output_type": "stream",
     "name": "stdout",
     "text": [
      "Train: 1.0000| Val: 0.7400| Test: 0.7670| Eval Time: 0.1180s\n",
      "Epoch 54| Loss: 0.0080| Acc: 1.0000| Train Time: 0.0150s\n"
     ]
    },
    {
     "output_type": "stream",
     "name": "stderr",
     "text": [
      "Evaluating: 100%|██████████| 5416/5416 [00:00<00:00, 38964.38it/s]\n"
     ]
    },
    {
     "output_type": "stream",
     "name": "stdout",
     "text": [
      "Train: 1.0000| Val: 0.7420| Test: 0.7670| Eval Time: 0.1440s\n",
      "Epoch 55| Loss: 0.0021| Acc: 1.0000| Train Time: 0.0190s\n"
     ]
    },
    {
     "output_type": "stream",
     "name": "stderr",
     "text": [
      "Evaluating: 100%|██████████| 5416/5416 [00:00<00:00, 54172.32it/s]\n"
     ]
    },
    {
     "output_type": "stream",
     "name": "stdout",
     "text": [
      "Train: 1.0000| Val: 0.7400| Test: 0.7660| Eval Time: 0.1050s\n",
      "\n",
      "Result of  2. run| Train: 1.0000| Val: 0.7920| Test: 0.7920\n",
      "\n",
      "Run 03:\n"
     ]
    },
    {
     "output_type": "stream",
     "name": "stderr",
     "text": [
      "Epoch 01: 100%|██████████| 140/140 [00:00<00:00, 7000.34it/s]\n"
     ]
    },
    {
     "output_type": "stream",
     "name": "stdout",
     "text": [
      "Epoch 01| Loss: 1.9999| Acc: 0.1357| Train Time: 0.0240s\n"
     ]
    },
    {
     "output_type": "stream",
     "name": "stderr",
     "text": [
      "Evaluating: 100%|██████████| 5416/5416 [00:00<00:00, 45898.94it/s]\n"
     ]
    },
    {
     "output_type": "stream",
     "name": "stdout",
     "text": [
      "Train: 0.8714| Val: 0.5900| Test: 0.6090| Eval Time: 0.1230s\n",
      "Epoch 02| Loss: 1.5169| Acc: 0.7571| Train Time: 0.0190s\n"
     ]
    },
    {
     "output_type": "stream",
     "name": "stderr",
     "text": [
      "Evaluating: 100%|██████████| 5416/5416 [00:00<00:00, 46291.31it/s]\n"
     ]
    },
    {
     "output_type": "stream",
     "name": "stdout",
     "text": [
      "Train: 0.9643| Val: 0.7260| Test: 0.7520| Eval Time: 0.1230s\n",
      "Epoch 03| Loss: 1.2116| Acc: 0.8500| Train Time: 0.0170s\n"
     ]
    },
    {
     "output_type": "stream",
     "name": "stderr",
     "text": [
      "Evaluating: 100%|██████████| 5416/5416 [00:00<00:00, 38686.15it/s]\n"
     ]
    },
    {
     "output_type": "stream",
     "name": "stdout",
     "text": [
      "Train: 0.9714| Val: 0.7560| Test: 0.7760| Eval Time: 0.1470s\n",
      "Epoch 04| Loss: 0.8875| Acc: 0.9286| Train Time: 0.0200s\n"
     ]
    },
    {
     "output_type": "stream",
     "name": "stderr",
     "text": [
      "Evaluating: 100%|██████████| 5416/5416 [00:00<00:00, 43328.17it/s]\n"
     ]
    },
    {
     "output_type": "stream",
     "name": "stdout",
     "text": [
      "Train: 0.9786| Val: 0.7780| Test: 0.7830| Eval Time: 0.1340s\n",
      "Epoch 05| Loss: 0.7527| Acc: 0.9143| Train Time: 0.0200s\n"
     ]
    },
    {
     "output_type": "stream",
     "name": "stderr",
     "text": [
      "Evaluating: 100%|██████████| 5416/5416 [00:00<00:00, 52077.59it/s]\n"
     ]
    },
    {
     "output_type": "stream",
     "name": "stdout",
     "text": [
      "Train: 0.9857| Val: 0.7680| Test: 0.7890| Eval Time: 0.1090s\n",
      "Epoch 06| Loss: 0.6080| Acc: 0.9643| Train Time: 0.0140s\n"
     ]
    },
    {
     "output_type": "stream",
     "name": "stderr",
     "text": [
      "Evaluating: 100%|██████████| 5416/5416 [00:00<00:00, 44760.31it/s]\n"
     ]
    },
    {
     "output_type": "stream",
     "name": "stdout",
     "text": [
      "Train: 0.9857| Val: 0.7640| Test: 0.7800| Eval Time: 0.1270s\n",
      "Epoch 07| Loss: 0.4260| Acc: 0.9643| Train Time: 0.0216s\n"
     ]
    },
    {
     "output_type": "stream",
     "name": "stderr",
     "text": [
      "Evaluating: 100%|██████████| 5416/5416 [00:00<00:00, 41797.49it/s]\n"
     ]
    },
    {
     "output_type": "stream",
     "name": "stdout",
     "text": [
      "Train: 1.0000| Val: 0.7660| Test: 0.7820| Eval Time: 0.1346s\n",
      "Epoch 08| Loss: 0.4281| Acc: 0.9571| Train Time: 0.0170s\n"
     ]
    },
    {
     "output_type": "stream",
     "name": "stderr",
     "text": [
      "Evaluating: 100%|██████████| 5416/5416 [00:00<00:00, 54707.87it/s]\n"
     ]
    },
    {
     "output_type": "stream",
     "name": "stdout",
     "text": [
      "Train: 1.0000| Val: 0.7660| Test: 0.7860| Eval Time: 0.1040s\n",
      "Epoch 09| Loss: 0.3018| Acc: 0.9929| Train Time: 0.0150s\n"
     ]
    },
    {
     "output_type": "stream",
     "name": "stderr",
     "text": [
      "Evaluating: 100%|██████████| 5416/5416 [00:00<00:00, 57271.09it/s]\n"
     ]
    },
    {
     "output_type": "stream",
     "name": "stdout",
     "text": [
      "Train: 1.0000| Val: 0.7660| Test: 0.7860| Eval Time: 0.0986s\n",
      "Epoch 10| Loss: 0.2589| Acc: 1.0000| Train Time: 0.0200s\n"
     ]
    },
    {
     "output_type": "stream",
     "name": "stderr",
     "text": [
      "Evaluating: 100%|██████████| 5416/5416 [00:00<00:00, 44393.36it/s]\n"
     ]
    },
    {
     "output_type": "stream",
     "name": "stdout",
     "text": [
      "Train: 1.0000| Val: 0.7640| Test: 0.7910| Eval Time: 0.1280s\n",
      "Epoch 11| Loss: 0.1947| Acc: 1.0000| Train Time: 0.0190s\n"
     ]
    },
    {
     "output_type": "stream",
     "name": "stderr",
     "text": [
      "Evaluating: 100%|██████████| 5416/5416 [00:00<00:00, 45511.98it/s]\n"
     ]
    },
    {
     "output_type": "stream",
     "name": "stdout",
     "text": [
      "Train: 1.0000| Val: 0.7560| Test: 0.7940| Eval Time: 0.1250s\n",
      "Epoch 12| Loss: 0.1358| Acc: 1.0000| Train Time: 0.0160s\n"
     ]
    },
    {
     "output_type": "stream",
     "name": "stderr",
     "text": [
      "Evaluating: 100%|██████████| 5416/5416 [00:00<00:00, 42312.65it/s]\n"
     ]
    },
    {
     "output_type": "stream",
     "name": "stdout",
     "text": [
      "Train: 1.0000| Val: 0.7620| Test: 0.7970| Eval Time: 0.1350s\n",
      "Epoch 13| Loss: 0.1978| Acc: 0.9857| Train Time: 0.0180s\n"
     ]
    },
    {
     "output_type": "stream",
     "name": "stderr",
     "text": [
      "Evaluating: 100%|██████████| 5416/5416 [00:00<00:00, 41030.76it/s]\n"
     ]
    },
    {
     "output_type": "stream",
     "name": "stdout",
     "text": [
      "Train: 1.0000| Val: 0.7620| Test: 0.7960| Eval Time: 0.1380s\n",
      "Epoch 14| Loss: 0.1328| Acc: 0.9929| Train Time: 0.0160s\n"
     ]
    },
    {
     "output_type": "stream",
     "name": "stderr",
     "text": [
      "Evaluating: 100%|██████████| 5416/5416 [00:00<00:00, 44758.99it/s]\n"
     ]
    },
    {
     "output_type": "stream",
     "name": "stdout",
     "text": [
      "Train: 1.0000| Val: 0.7620| Test: 0.7960| Eval Time: 0.1270s\n",
      "Epoch 15| Loss: 0.0726| Acc: 1.0000| Train Time: 0.0191s\n"
     ]
    },
    {
     "output_type": "stream",
     "name": "stderr",
     "text": [
      "Evaluating: 100%|██████████| 5416/5416 [00:00<00:00, 47508.94it/s]\n"
     ]
    },
    {
     "output_type": "stream",
     "name": "stdout",
     "text": [
      "Train: 1.0000| Val: 0.7580| Test: 0.7930| Eval Time: 0.1199s\n",
      "Epoch 16| Loss: 0.0894| Acc: 0.9857| Train Time: 0.0210s\n"
     ]
    },
    {
     "output_type": "stream",
     "name": "stderr",
     "text": [
      "Evaluating: 100%|██████████| 5416/5416 [00:00<00:00, 46690.35it/s]\n"
     ]
    },
    {
     "output_type": "stream",
     "name": "stdout",
     "text": [
      "Train: 1.0000| Val: 0.7600| Test: 0.7940| Eval Time: 0.1230s\n",
      "Epoch 17| Loss: 0.0699| Acc: 1.0000| Train Time: 0.0170s\n"
     ]
    },
    {
     "output_type": "stream",
     "name": "stderr",
     "text": [
      "Evaluating: 100%|██████████| 5416/5416 [00:00<00:00, 51095.17it/s]\n"
     ]
    },
    {
     "output_type": "stream",
     "name": "stdout",
     "text": [
      "Train: 1.0000| Val: 0.7560| Test: 0.7930| Eval Time: 0.1110s\n",
      "Epoch 18| Loss: 0.0579| Acc: 1.0000| Train Time: 0.0140s\n"
     ]
    },
    {
     "output_type": "stream",
     "name": "stderr",
     "text": [
      "Evaluating: 100%|██████████| 5416/5416 [00:00<00:00, 48792.77it/s]\n"
     ]
    },
    {
     "output_type": "stream",
     "name": "stdout",
     "text": [
      "Train: 1.0000| Val: 0.7580| Test: 0.7920| Eval Time: 0.1170s\n",
      "Epoch 19| Loss: 0.0705| Acc: 1.0000| Train Time: 0.0160s\n"
     ]
    },
    {
     "output_type": "stream",
     "name": "stderr",
     "text": [
      "Evaluating: 100%|██████████| 5416/5416 [00:00<00:00, 45497.76it/s]\n"
     ]
    },
    {
     "output_type": "stream",
     "name": "stdout",
     "text": [
      "Train: 1.0000| Val: 0.7580| Test: 0.7920| Eval Time: 0.1250s\n",
      "Epoch 20| Loss: 0.0399| Acc: 1.0000| Train Time: 0.0200s\n"
     ]
    },
    {
     "output_type": "stream",
     "name": "stderr",
     "text": [
      "Evaluating: 100%|██████████| 5416/5416 [00:00<00:00, 52208.65it/s]\n"
     ]
    },
    {
     "output_type": "stream",
     "name": "stdout",
     "text": [
      "Train: 1.0000| Val: 0.7620| Test: 0.7920| Eval Time: 0.1097s\n",
      "Epoch 21| Loss: 0.0625| Acc: 0.9929| Train Time: 0.0150s\n"
     ]
    },
    {
     "output_type": "stream",
     "name": "stderr",
     "text": [
      "Evaluating: 100%|██████████| 5416/5416 [00:00<00:00, 53055.63it/s]\n"
     ]
    },
    {
     "output_type": "stream",
     "name": "stdout",
     "text": [
      "Train: 1.0000| Val: 0.7620| Test: 0.7940| Eval Time: 0.1071s\n",
      "Epoch 22| Loss: 0.0225| Acc: 1.0000| Train Time: 0.0160s\n"
     ]
    },
    {
     "output_type": "stream",
     "name": "stderr",
     "text": [
      "Evaluating: 100%|██████████| 5416/5416 [00:00<00:00, 39246.92it/s]\n"
     ]
    },
    {
     "output_type": "stream",
     "name": "stdout",
     "text": [
      "Train: 1.0000| Val: 0.7620| Test: 0.7960| Eval Time: 0.1430s\n",
      "Epoch 23| Loss: 0.0205| Acc: 1.0000| Train Time: 0.0190s\n"
     ]
    },
    {
     "output_type": "stream",
     "name": "stderr",
     "text": [
      "Evaluating: 100%|██████████| 5416/5416 [00:00<00:00, 45133.56it/s]\n"
     ]
    },
    {
     "output_type": "stream",
     "name": "stdout",
     "text": [
      "Train: 1.0000| Val: 0.7600| Test: 0.7990| Eval Time: 0.1270s\n",
      "Epoch 24| Loss: 0.0227| Acc: 1.0000| Train Time: 0.0160s\n"
     ]
    },
    {
     "output_type": "stream",
     "name": "stderr",
     "text": [
      "Evaluating: 100%|██████████| 5416/5416 [00:00<00:00, 46689.10it/s]\n"
     ]
    },
    {
     "output_type": "stream",
     "name": "stdout",
     "text": [
      "Train: 1.0000| Val: 0.7560| Test: 0.7970| Eval Time: 0.1200s\n",
      "Epoch 25| Loss: 0.0316| Acc: 1.0000| Train Time: 0.0160s\n"
     ]
    },
    {
     "output_type": "stream",
     "name": "stderr",
     "text": [
      "Evaluating: 100%|██████████| 5416/5416 [00:00<00:00, 47916.50it/s]\n"
     ]
    },
    {
     "output_type": "stream",
     "name": "stdout",
     "text": [
      "Train: 1.0000| Val: 0.7600| Test: 0.7940| Eval Time: 0.1180s\n",
      "Epoch 26| Loss: 0.0263| Acc: 1.0000| Train Time: 0.0170s\n"
     ]
    },
    {
     "output_type": "stream",
     "name": "stderr",
     "text": [
      "Evaluating: 100%|██████████| 5416/5416 [00:00<00:00, 42984.40it/s]\n"
     ]
    },
    {
     "output_type": "stream",
     "name": "stdout",
     "text": [
      "Train: 1.0000| Val: 0.7600| Test: 0.7930| Eval Time: 0.1310s\n",
      "Epoch 27| Loss: 0.0126| Acc: 1.0000| Train Time: 0.0200s\n"
     ]
    },
    {
     "output_type": "stream",
     "name": "stderr",
     "text": [
      "Evaluating: 100%|██████████| 5416/5416 [00:00<00:00, 48471.68it/s]\n"
     ]
    },
    {
     "output_type": "stream",
     "name": "stdout",
     "text": [
      "Train: 1.0000| Val: 0.7620| Test: 0.7930| Eval Time: 0.1167s\n",
      "Epoch 28| Loss: 0.0168| Acc: 1.0000| Train Time: 0.0160s\n"
     ]
    },
    {
     "output_type": "stream",
     "name": "stderr",
     "text": [
      "Evaluating: 100%|██████████| 5416/5416 [00:00<00:00, 46691.41it/s]\n"
     ]
    },
    {
     "output_type": "stream",
     "name": "stdout",
     "text": [
      "Train: 1.0000| Val: 0.7600| Test: 0.7920| Eval Time: 0.1221s\n",
      "Epoch 29| Loss: 0.0171| Acc: 1.0000| Train Time: 0.0165s\n"
     ]
    },
    {
     "output_type": "stream",
     "name": "stderr",
     "text": [
      "Evaluating: 100%|██████████| 5416/5416 [00:00<00:00, 47930.05it/s]\n"
     ]
    },
    {
     "output_type": "stream",
     "name": "stdout",
     "text": [
      "Train: 1.0000| Val: 0.7600| Test: 0.7910| Eval Time: 0.1190s\n",
      "Epoch 30| Loss: 0.0171| Acc: 1.0000| Train Time: 0.0180s\n"
     ]
    },
    {
     "output_type": "stream",
     "name": "stderr",
     "text": [
      "Evaluating: 100%|██████████| 5416/5416 [00:00<00:00, 45133.74it/s]\n"
     ]
    },
    {
     "output_type": "stream",
     "name": "stdout",
     "text": [
      "Train: 1.0000| Val: 0.7600| Test: 0.7880| Eval Time: 0.1250s\n",
      "Epoch 31| Loss: 0.0145| Acc: 1.0000| Train Time: 0.0140s\n"
     ]
    },
    {
     "output_type": "stream",
     "name": "stderr",
     "text": [
      "Evaluating: 100%|██████████| 5416/5416 [00:00<00:00, 47096.43it/s]\n"
     ]
    },
    {
     "output_type": "stream",
     "name": "stdout",
     "text": [
      "Train: 1.0000| Val: 0.7580| Test: 0.7840| Eval Time: 0.1190s\n",
      "Epoch 32| Loss: 0.0080| Acc: 1.0000| Train Time: 0.0190s\n"
     ]
    },
    {
     "output_type": "stream",
     "name": "stderr",
     "text": [
      "Evaluating: 100%|██████████| 5416/5416 [00:00<00:00, 51095.17it/s]\n"
     ]
    },
    {
     "output_type": "stream",
     "name": "stdout",
     "text": [
      "Train: 1.0000| Val: 0.7600| Test: 0.7830| Eval Time: 0.1130s\n",
      "Epoch 33| Loss: 0.0091| Acc: 1.0000| Train Time: 0.0170s\n"
     ]
    },
    {
     "output_type": "stream",
     "name": "stderr",
     "text": [
      "Evaluating: 100%|██████████| 5416/5416 [00:00<00:00, 47509.33it/s]\n"
     ]
    },
    {
     "output_type": "stream",
     "name": "stdout",
     "text": [
      "Train: 1.0000| Val: 0.7580| Test: 0.7830| Eval Time: 0.1210s\n",
      "Epoch 34| Loss: 0.0063| Acc: 1.0000| Train Time: 0.0180s\n"
     ]
    },
    {
     "output_type": "stream",
     "name": "stderr",
     "text": [
      "Evaluating: 100%|██████████| 5416/5416 [00:00<00:00, 49688.31it/s]\n"
     ]
    },
    {
     "output_type": "stream",
     "name": "stdout",
     "text": [
      "Train: 1.0000| Val: 0.7560| Test: 0.7820| Eval Time: 0.1150s\n",
      "Epoch 35| Loss: 0.0155| Acc: 1.0000| Train Time: 0.0170s\n"
     ]
    },
    {
     "output_type": "stream",
     "name": "stderr",
     "text": [
      "Evaluating: 100%|██████████| 5416/5416 [00:00<00:00, 38673.50it/s]\n"
     ]
    },
    {
     "output_type": "stream",
     "name": "stdout",
     "text": [
      "Train: 1.0000| Val: 0.7540| Test: 0.7820| Eval Time: 0.1453s\n",
      "Epoch 36| Loss: 0.0077| Acc: 1.0000| Train Time: 0.0200s\n"
     ]
    },
    {
     "output_type": "stream",
     "name": "stderr",
     "text": [
      "Evaluating: 100%|██████████| 5416/5416 [00:00<00:00, 45512.89it/s]\n"
     ]
    },
    {
     "output_type": "stream",
     "name": "stdout",
     "text": [
      "Train: 1.0000| Val: 0.7540| Test: 0.7790| Eval Time: 0.1250s\n",
      "Epoch 37| Loss: 0.0058| Acc: 1.0000| Train Time: 0.0180s\n"
     ]
    },
    {
     "output_type": "stream",
     "name": "stderr",
     "text": [
      "Evaluating: 100%|██████████| 5416/5416 [00:00<00:00, 43328.50it/s]\n"
     ]
    },
    {
     "output_type": "stream",
     "name": "stdout",
     "text": [
      "Train: 1.0000| Val: 0.7540| Test: 0.7800| Eval Time: 0.1290s\n",
      "Epoch 38| Loss: 0.0064| Acc: 1.0000| Train Time: 0.0200s\n"
     ]
    },
    {
     "output_type": "stream",
     "name": "stderr",
     "text": [
      "Evaluating: 100%|██████████| 5416/5416 [00:00<00:00, 47465.36it/s]\n"
     ]
    },
    {
     "output_type": "stream",
     "name": "stdout",
     "text": [
      "Train: 1.0000| Val: 0.7600| Test: 0.7810| Eval Time: 0.1201s\n",
      "Epoch 39| Loss: 0.0065| Acc: 1.0000| Train Time: 0.0170s\n"
     ]
    },
    {
     "output_type": "stream",
     "name": "stderr",
     "text": [
      "Evaluating: 100%|██████████| 5416/5416 [00:00<00:00, 50616.66it/s]\n"
     ]
    },
    {
     "output_type": "stream",
     "name": "stdout",
     "text": [
      "Train: 1.0000| Val: 0.7600| Test: 0.7800| Eval Time: 0.1130s\n",
      "Epoch 40| Loss: 0.0063| Acc: 1.0000| Train Time: 0.0150s\n"
     ]
    },
    {
     "output_type": "stream",
     "name": "stderr",
     "text": [
      "Evaluating: 100%|██████████| 5416/5416 [00:00<00:00, 49690.70it/s]\n"
     ]
    },
    {
     "output_type": "stream",
     "name": "stdout",
     "text": [
      "Train: 1.0000| Val: 0.7600| Test: 0.7790| Eval Time: 0.1160s\n",
      "Epoch 41| Loss: 0.0157| Acc: 1.0000| Train Time: 0.0160s\n"
     ]
    },
    {
     "output_type": "stream",
     "name": "stderr",
     "text": [
      "Evaluating: 100%|██████████| 5416/5416 [00:00<00:00, 56415.85it/s]\n"
     ]
    },
    {
     "output_type": "stream",
     "name": "stdout",
     "text": [
      "Train: 1.0000| Val: 0.7580| Test: 0.7780| Eval Time: 0.1010s\n",
      "Epoch 42| Loss: 0.0040| Acc: 1.0000| Train Time: 0.0160s\n"
     ]
    },
    {
     "output_type": "stream",
     "name": "stderr",
     "text": [
      "Evaluating: 100%|██████████| 5416/5416 [00:00<00:00, 46689.97it/s]\n"
     ]
    },
    {
     "output_type": "stream",
     "name": "stdout",
     "text": [
      "Train: 1.0000| Val: 0.7580| Test: 0.7760| Eval Time: 0.1220s\n",
      "Epoch 43| Loss: 0.0050| Acc: 1.0000| Train Time: 0.0190s\n"
     ]
    },
    {
     "output_type": "stream",
     "name": "stderr",
     "text": [
      "Evaluating: 100%|██████████| 5416/5416 [00:00<00:00, 48793.71it/s]\n"
     ]
    },
    {
     "output_type": "stream",
     "name": "stdout",
     "text": [
      "Train: 1.0000| Val: 0.7540| Test: 0.7760| Eval Time: 0.1160s\n",
      "Epoch 44| Loss: 0.0039| Acc: 1.0000| Train Time: 0.0160s\n"
     ]
    },
    {
     "output_type": "stream",
     "name": "stderr",
     "text": [
      "Evaluating: 100%|██████████| 5416/5416 [00:00<00:00, 47511.32it/s]\n"
     ]
    },
    {
     "output_type": "stream",
     "name": "stdout",
     "text": [
      "Train: 1.0000| Val: 0.7500| Test: 0.7770| Eval Time: 0.1190s\n",
      "Epoch 45| Loss: 0.0026| Acc: 1.0000| Train Time: 0.0160s\n"
     ]
    },
    {
     "output_type": "stream",
     "name": "stderr",
     "text": [
      "Evaluating: 100%|██████████| 5416/5416 [00:00<00:00, 55266.22it/s]\n"
     ]
    },
    {
     "output_type": "stream",
     "name": "stdout",
     "text": [
      "Train: 1.0000| Val: 0.7500| Test: 0.7770| Eval Time: 0.1040s\n",
      "Epoch 46| Loss: 0.0060| Acc: 1.0000| Train Time: 0.0200s\n"
     ]
    },
    {
     "output_type": "stream",
     "name": "stderr",
     "text": [
      "Evaluating: 100%|██████████| 5416/5416 [00:00<00:00, 48783.13it/s]\n"
     ]
    },
    {
     "output_type": "stream",
     "name": "stdout",
     "text": [
      "Train: 1.0000| Val: 0.7480| Test: 0.7780| Eval Time: 0.1170s\n",
      "Epoch 47| Loss: 0.0076| Acc: 1.0000| Train Time: 0.0140s\n"
     ]
    },
    {
     "output_type": "stream",
     "name": "stderr",
     "text": [
      "Evaluating: 100%|██████████| 5416/5416 [00:00<00:00, 45897.83it/s]\n"
     ]
    },
    {
     "output_type": "stream",
     "name": "stdout",
     "text": [
      "Train: 1.0000| Val: 0.7460| Test: 0.7780| Eval Time: 0.1220s\n",
      "Epoch 48| Loss: 0.0038| Acc: 1.0000| Train Time: 0.0180s\n"
     ]
    },
    {
     "output_type": "stream",
     "name": "stderr",
     "text": [
      "Evaluating: 100%|██████████| 5416/5416 [00:00<00:00, 44736.34it/s]\n"
     ]
    },
    {
     "output_type": "stream",
     "name": "stdout",
     "text": [
      "Train: 1.0000| Val: 0.7420| Test: 0.7790| Eval Time: 0.1251s\n",
      "Epoch 49| Loss: 0.0093| Acc: 1.0000| Train Time: 0.0170s\n"
     ]
    },
    {
     "output_type": "stream",
     "name": "stderr",
     "text": [
      "Evaluating: 100%|██████████| 5416/5416 [00:00<00:00, 49687.33it/s]\n"
     ]
    },
    {
     "output_type": "stream",
     "name": "stdout",
     "text": [
      "Train: 1.0000| Val: 0.7440| Test: 0.7790| Eval Time: 0.1130s\n",
      "Epoch 50| Loss: 0.0048| Acc: 1.0000| Train Time: 0.0180s\n"
     ]
    },
    {
     "output_type": "stream",
     "name": "stderr",
     "text": [
      "Evaluating: 100%|██████████| 5416/5416 [00:00<00:00, 44356.61it/s]\n"
     ]
    },
    {
     "output_type": "stream",
     "name": "stdout",
     "text": [
      "Train: 1.0000| Val: 0.7440| Test: 0.7780| Eval Time: 0.1281s\n",
      "Epoch 51| Loss: 0.0071| Acc: 1.0000| Train Time: 0.0200s\n"
     ]
    },
    {
     "output_type": "stream",
     "name": "stderr",
     "text": [
      "Evaluating: 100%|██████████| 5416/5416 [00:00<00:00, 47097.02it/s]\n"
     ]
    },
    {
     "output_type": "stream",
     "name": "stdout",
     "text": [
      "Train: 1.0000| Val: 0.7480| Test: 0.7780| Eval Time: 0.1210s\n",
      "Epoch 52| Loss: 0.0029| Acc: 1.0000| Train Time: 0.0160s\n"
     ]
    },
    {
     "output_type": "stream",
     "name": "stderr",
     "text": [
      "Evaluating: 100%|██████████| 5416/5416 [00:00<00:00, 42985.37it/s]\n"
     ]
    },
    {
     "output_type": "stream",
     "name": "stdout",
     "text": [
      "Train: 1.0000| Val: 0.7480| Test: 0.7790| Eval Time: 0.1320s\n",
      "Epoch 53| Loss: 0.0050| Acc: 1.0000| Train Time: 0.0220s\n"
     ]
    },
    {
     "output_type": "stream",
     "name": "stderr",
     "text": [
      "Evaluating: 100%|██████████| 5416/5416 [00:00<00:00, 46690.26it/s]\n"
     ]
    },
    {
     "output_type": "stream",
     "name": "stdout",
     "text": [
      "Train: 1.0000| Val: 0.7480| Test: 0.7760| Eval Time: 0.1230s\n",
      "Epoch 54| Loss: 0.0050| Acc: 1.0000| Train Time: 0.0160s\n"
     ]
    },
    {
     "output_type": "stream",
     "name": "stderr",
     "text": [
      "Evaluating: 100%|██████████| 5416/5416 [00:00<00:00, 52581.47it/s]\n"
     ]
    },
    {
     "output_type": "stream",
     "name": "stdout",
     "text": [
      "Train: 1.0000| Val: 0.7480| Test: 0.7750| Eval Time: 0.1100s\n",
      "\n",
      "Result of  3. run| Train: 0.9786| Val: 0.7780| Test: 0.7830\n",
      "\n",
      "Run 04:\n"
     ]
    },
    {
     "output_type": "stream",
     "name": "stderr",
     "text": [
      "Epoch 01: 100%|██████████| 140/140 [00:00<00:00, 6364.03it/s]\n"
     ]
    },
    {
     "output_type": "stream",
     "name": "stdout",
     "text": [
      "Epoch 01| Loss: 1.9644| Acc: 0.1571| Train Time: 0.0260s\n"
     ]
    },
    {
     "output_type": "stream",
     "name": "stderr",
     "text": [
      "Evaluating: 100%|██████████| 5416/5416 [00:00<00:00, 49687.11it/s]\n"
     ]
    },
    {
     "output_type": "stream",
     "name": "stdout",
     "text": [
      "Train: 0.8857| Val: 0.5980| Test: 0.6040| Eval Time: 0.1150s\n",
      "Epoch 02| Loss: 1.4633| Acc: 0.7071| Train Time: 0.0160s\n"
     ]
    },
    {
     "output_type": "stream",
     "name": "stderr",
     "text": [
      "Evaluating: 100%|██████████| 5416/5416 [00:00<00:00, 48794.34it/s]\n"
     ]
    },
    {
     "output_type": "stream",
     "name": "stdout",
     "text": [
      "Train: 0.9714| Val: 0.7200| Test: 0.7040| Eval Time: 0.1170s\n",
      "Epoch 03| Loss: 1.1275| Acc: 0.8786| Train Time: 0.0150s\n"
     ]
    },
    {
     "output_type": "stream",
     "name": "stderr",
     "text": [
      "Evaluating: 100%|██████████| 5416/5416 [00:00<00:00, 57010.94it/s]\n"
     ]
    },
    {
     "output_type": "stream",
     "name": "stdout",
     "text": [
      "Train: 0.9929| Val: 0.7360| Test: 0.7370| Eval Time: 0.0990s\n",
      "Epoch 04| Loss: 0.8647| Acc: 0.9214| Train Time: 0.0170s\n"
     ]
    },
    {
     "output_type": "stream",
     "name": "stderr",
     "text": [
      "Evaluating: 100%|██████████| 5416/5416 [00:00<00:00, 41818.80it/s]\n"
     ]
    },
    {
     "output_type": "stream",
     "name": "stdout",
     "text": [
      "Train: 0.9929| Val: 0.7520| Test: 0.7650| Eval Time: 0.1365s\n",
      "Epoch 05| Loss: 0.6689| Acc: 0.9429| Train Time: 0.0210s\n"
     ]
    },
    {
     "output_type": "stream",
     "name": "stderr",
     "text": [
      "Evaluating: 100%|██████████| 5416/5416 [00:00<00:00, 36350.00it/s]\n"
     ]
    },
    {
     "output_type": "stream",
     "name": "stdout",
     "text": [
      "Train: 0.9929| Val: 0.7740| Test: 0.7870| Eval Time: 0.1550s\n",
      "Epoch 06| Loss: 0.5675| Acc: 0.9429| Train Time: 0.0180s\n"
     ]
    },
    {
     "output_type": "stream",
     "name": "stderr",
     "text": [
      "Evaluating: 100%|██████████| 5416/5416 [00:00<00:00, 44761.19it/s]\n"
     ]
    },
    {
     "output_type": "stream",
     "name": "stdout",
     "text": [
      "Train: 0.9929| Val: 0.7820| Test: 0.8010| Eval Time: 0.1270s\n",
      "Epoch 07| Loss: 0.3991| Acc: 0.9714| Train Time: 0.0180s\n"
     ]
    },
    {
     "output_type": "stream",
     "name": "stderr",
     "text": [
      "Evaluating: 100%|██████████| 5416/5416 [00:00<00:00, 43678.32it/s]\n"
     ]
    },
    {
     "output_type": "stream",
     "name": "stdout",
     "text": [
      "Train: 0.9929| Val: 0.7900| Test: 0.8050| Eval Time: 0.1300s\n",
      "Epoch 08| Loss: 0.2953| Acc: 0.9857| Train Time: 0.0180s\n"
     ]
    },
    {
     "output_type": "stream",
     "name": "stderr",
     "text": [
      "Evaluating: 100%|██████████| 5416/5416 [00:00<00:00, 43678.40it/s]\n"
     ]
    },
    {
     "output_type": "stream",
     "name": "stdout",
     "text": [
      "Train: 1.0000| Val: 0.7980| Test: 0.8070| Eval Time: 0.1280s\n",
      "Epoch 09| Loss: 0.2349| Acc: 0.9929| Train Time: 0.0180s\n"
     ]
    },
    {
     "output_type": "stream",
     "name": "stderr",
     "text": [
      "Evaluating: 100%|██████████| 5416/5416 [00:00<00:00, 45293.02it/s]\n"
     ]
    },
    {
     "output_type": "stream",
     "name": "stdout",
     "text": [
      "Train: 1.0000| Val: 0.7940| Test: 0.8090| Eval Time: 0.1236s\n",
      "Epoch 10| Loss: 0.1845| Acc: 0.9857| Train Time: 0.0150s\n"
     ]
    },
    {
     "output_type": "stream",
     "name": "stderr",
     "text": [
      "Evaluating: 100%|██████████| 5416/5416 [00:00<00:00, 47369.55it/s]\n"
     ]
    },
    {
     "output_type": "stream",
     "name": "stdout",
     "text": [
      "Train: 1.0000| Val: 0.7860| Test: 0.8100| Eval Time: 0.1213s\n",
      "Epoch 11| Loss: 0.1666| Acc: 0.9929| Train Time: 0.0180s\n"
     ]
    },
    {
     "output_type": "stream",
     "name": "stderr",
     "text": [
      "Evaluating: 100%|██████████| 5416/5416 [00:00<00:00, 47095.55it/s]\n"
     ]
    },
    {
     "output_type": "stream",
     "name": "stdout",
     "text": [
      "Train: 1.0000| Val: 0.7880| Test: 0.8080| Eval Time: 0.1210s\n",
      "Epoch 12| Loss: 0.1536| Acc: 0.9929| Train Time: 0.0190s\n"
     ]
    },
    {
     "output_type": "stream",
     "name": "stderr",
     "text": [
      "Evaluating: 100%|██████████| 5416/5416 [00:00<00:00, 46688.24it/s]\n"
     ]
    },
    {
     "output_type": "stream",
     "name": "stdout",
     "text": [
      "Train: 1.0000| Val: 0.7880| Test: 0.8060| Eval Time: 0.1220s\n",
      "Epoch 13| Loss: 0.1055| Acc: 1.0000| Train Time: 0.0180s\n"
     ]
    },
    {
     "output_type": "stream",
     "name": "stderr",
     "text": [
      "Evaluating: 100%|██████████| 5416/5416 [00:00<00:00, 48794.13it/s]\n"
     ]
    },
    {
     "output_type": "stream",
     "name": "stdout",
     "text": [
      "Train: 1.0000| Val: 0.7920| Test: 0.8060| Eval Time: 0.1170s\n",
      "Epoch 14| Loss: 0.1230| Acc: 0.9857| Train Time: 0.0196s\n"
     ]
    },
    {
     "output_type": "stream",
     "name": "stderr",
     "text": [
      "Evaluating: 100%|██████████| 5416/5416 [00:00<00:00, 47928.73it/s]\n"
     ]
    },
    {
     "output_type": "stream",
     "name": "stdout",
     "text": [
      "Train: 1.0000| Val: 0.7940| Test: 0.8070| Eval Time: 0.1180s\n",
      "Epoch 15| Loss: 0.0787| Acc: 1.0000| Train Time: 0.0150s\n"
     ]
    },
    {
     "output_type": "stream",
     "name": "stderr",
     "text": [
      "Evaluating: 100%|██████████| 5416/5416 [00:00<00:00, 52584.02it/s]\n"
     ]
    },
    {
     "output_type": "stream",
     "name": "stdout",
     "text": [
      "Train: 1.0000| Val: 0.7920| Test: 0.8080| Eval Time: 0.1080s\n",
      "Epoch 16| Loss: 0.0650| Acc: 1.0000| Train Time: 0.0160s\n"
     ]
    },
    {
     "output_type": "stream",
     "name": "stderr",
     "text": [
      "Evaluating: 100%|██████████| 5416/5416 [00:00<00:00, 39813.71it/s]\n"
     ]
    },
    {
     "output_type": "stream",
     "name": "stdout",
     "text": [
      "Train: 1.0000| Val: 0.7880| Test: 0.8110| Eval Time: 0.1410s\n",
      "Epoch 17| Loss: 0.0394| Acc: 1.0000| Train Time: 0.0200s\n"
     ]
    },
    {
     "output_type": "stream",
     "name": "stderr",
     "text": [
      "Evaluating: 100%|██████████| 5416/5416 [00:00<00:00, 35169.75it/s]\n"
     ]
    },
    {
     "output_type": "stream",
     "name": "stdout",
     "text": [
      "Train: 1.0000| Val: 0.7880| Test: 0.8060| Eval Time: 0.1630s\n",
      "Epoch 18| Loss: 0.0354| Acc: 1.0000| Train Time: 0.0260s\n"
     ]
    },
    {
     "output_type": "stream",
     "name": "stderr",
     "text": [
      "Evaluating: 100%|██████████| 5416/5416 [00:00<00:00, 31488.69it/s]\n"
     ]
    },
    {
     "output_type": "stream",
     "name": "stdout",
     "text": [
      "Train: 1.0000| Val: 0.7880| Test: 0.8020| Eval Time: 0.1790s\n",
      "Epoch 19| Loss: 0.0348| Acc: 1.0000| Train Time: 0.0270s\n"
     ]
    },
    {
     "output_type": "stream",
     "name": "stderr",
     "text": [
      "Evaluating: 100%|██████████| 5416/5416 [00:00<00:00, 47096.33it/s]\n"
     ]
    },
    {
     "output_type": "stream",
     "name": "stdout",
     "text": [
      "Train: 1.0000| Val: 0.7820| Test: 0.8040| Eval Time: 0.1200s\n",
      "Epoch 20| Loss: 0.0428| Acc: 1.0000| Train Time: 0.0150s\n"
     ]
    },
    {
     "output_type": "stream",
     "name": "stderr",
     "text": [
      "Evaluating: 100%|██████████| 5416/5416 [00:00<00:00, 43677.73it/s]\n"
     ]
    },
    {
     "output_type": "stream",
     "name": "stdout",
     "text": [
      "Train: 1.0000| Val: 0.7780| Test: 0.8000| Eval Time: 0.1330s\n",
      "Epoch 21| Loss: 0.0331| Acc: 1.0000| Train Time: 0.0170s\n"
     ]
    },
    {
     "output_type": "stream",
     "name": "stderr",
     "text": [
      "Evaluating: 100%|██████████| 5416/5416 [00:00<00:00, 48793.19it/s]\n"
     ]
    },
    {
     "output_type": "stream",
     "name": "stdout",
     "text": [
      "Train: 1.0000| Val: 0.7800| Test: 0.7980| Eval Time: 0.1160s\n",
      "Epoch 22| Loss: 0.0238| Acc: 1.0000| Train Time: 0.0170s\n"
     ]
    },
    {
     "output_type": "stream",
     "name": "stderr",
     "text": [
      "Evaluating: 100%|██████████| 5416/5416 [00:00<00:00, 46676.63it/s]\n"
     ]
    },
    {
     "output_type": "stream",
     "name": "stdout",
     "text": [
      "Train: 1.0000| Val: 0.7760| Test: 0.7910| Eval Time: 0.1220s\n",
      "Epoch 23| Loss: 0.0189| Acc: 1.0000| Train Time: 0.0180s\n"
     ]
    },
    {
     "output_type": "stream",
     "name": "stderr",
     "text": [
      "Evaluating: 100%|██████████| 5416/5416 [00:00<00:00, 57010.37it/s]\n"
     ]
    },
    {
     "output_type": "stream",
     "name": "stdout",
     "text": [
      "Train: 1.0000| Val: 0.7740| Test: 0.7910| Eval Time: 0.1010s\n",
      "Epoch 24| Loss: 0.0195| Acc: 1.0000| Train Time: 0.0180s\n"
     ]
    },
    {
     "output_type": "stream",
     "name": "stderr",
     "text": [
      "Evaluating: 100%|██████████| 5416/5416 [00:00<00:00, 46250.31it/s]\n"
     ]
    },
    {
     "output_type": "stream",
     "name": "stdout",
     "text": [
      "Train: 1.0000| Val: 0.7740| Test: 0.7890| Eval Time: 0.1221s\n",
      "Epoch 25| Loss: 0.0153| Acc: 1.0000| Train Time: 0.0150s\n"
     ]
    },
    {
     "output_type": "stream",
     "name": "stderr",
     "text": [
      "Evaluating: 100%|██████████| 5416/5416 [00:00<00:00, 47928.63it/s]\n"
     ]
    },
    {
     "output_type": "stream",
     "name": "stdout",
     "text": [
      "Train: 1.0000| Val: 0.7700| Test: 0.7880| Eval Time: 0.1180s\n",
      "Epoch 26| Loss: 0.0214| Acc: 1.0000| Train Time: 0.0160s\n"
     ]
    },
    {
     "output_type": "stream",
     "name": "stderr",
     "text": [
      "Evaluating: 100%|██████████| 5416/5416 [00:00<00:00, 46296.12it/s]\n"
     ]
    },
    {
     "output_type": "stream",
     "name": "stdout",
     "text": [
      "Train: 1.0000| Val: 0.7720| Test: 0.7890| Eval Time: 0.1220s\n",
      "Epoch 27| Loss: 0.0184| Acc: 1.0000| Train Time: 0.0150s\n"
     ]
    },
    {
     "output_type": "stream",
     "name": "stderr",
     "text": [
      "Evaluating: 100%|██████████| 5416/5416 [00:00<00:00, 42645.56it/s]\n"
     ]
    },
    {
     "output_type": "stream",
     "name": "stdout",
     "text": [
      "Train: 1.0000| Val: 0.7720| Test: 0.7910| Eval Time: 0.1330s\n",
      "Epoch 28| Loss: 0.0061| Acc: 1.0000| Train Time: 0.0200s\n"
     ]
    },
    {
     "output_type": "stream",
     "name": "stderr",
     "text": [
      "Evaluating: 100%|██████████| 5416/5416 [00:00<00:00, 38964.98it/s]"
     ]
    },
    {
     "output_type": "stream",
     "name": "stdout",
     "text": [
      "Train: 1.0000| Val: 0.7720| Test: 0.7910| Eval Time: 0.1470s\n",
      "Epoch 29| Loss: 0.0110| Acc: 1.0000| Train Time: 0.0250s\n"
     ]
    },
    {
     "output_type": "stream",
     "name": "stderr",
     "text": [
      "\n",
      "Evaluating: 100%|██████████| 5416/5416 [00:00<00:00, 36107.05it/s]"
     ]
    },
    {
     "output_type": "stream",
     "name": "stdout",
     "text": [
      "Train: 1.0000| Val: 0.7760| Test: 0.7910| Eval Time: 0.1570s\n",
      "Epoch 30| Loss: 0.0206| Acc: 1.0000| Train Time: 0.0230s\n"
     ]
    },
    {
     "output_type": "stream",
     "name": "stderr",
     "text": [
      "\n",
      "Evaluating: 100%|██████████| 5416/5416 [00:00<00:00, 35868.28it/s]\n"
     ]
    },
    {
     "output_type": "stream",
     "name": "stdout",
     "text": [
      "Train: 1.0000| Val: 0.7760| Test: 0.7920| Eval Time: 0.1590s\n",
      "Epoch 31| Loss: 0.0149| Acc: 1.0000| Train Time: 0.0260s\n"
     ]
    },
    {
     "output_type": "stream",
     "name": "stderr",
     "text": [
      "Evaluating: 100%|██████████| 5416/5416 [00:00<00:00, 29595.81it/s]\n"
     ]
    },
    {
     "output_type": "stream",
     "name": "stdout",
     "text": [
      "Train: 1.0000| Val: 0.7780| Test: 0.7910| Eval Time: 0.1910s\n",
      "Epoch 32| Loss: 0.0057| Acc: 1.0000| Train Time: 0.0280s\n"
     ]
    },
    {
     "output_type": "stream",
     "name": "stderr",
     "text": [
      "Evaluating: 100%|██████████| 5416/5416 [00:00<00:00, 33850.23it/s]\n"
     ]
    },
    {
     "output_type": "stream",
     "name": "stdout",
     "text": [
      "Train: 1.0000| Val: 0.7800| Test: 0.7890| Eval Time: 0.1650s\n",
      "Epoch 33| Loss: 0.0099| Acc: 1.0000| Train Time: 0.0200s\n"
     ]
    },
    {
     "output_type": "stream",
     "name": "stderr",
     "text": [
      "Evaluating: 100%|██████████| 5416/5416 [00:00<00:00, 47932.17it/s]\n"
     ]
    },
    {
     "output_type": "stream",
     "name": "stdout",
     "text": [
      "Train: 1.0000| Val: 0.7800| Test: 0.7870| Eval Time: 0.1180s\n",
      "Epoch 34| Loss: 0.0079| Acc: 1.0000| Train Time: 0.0160s\n"
     ]
    },
    {
     "output_type": "stream",
     "name": "stderr",
     "text": [
      "Evaluating: 100%|██████████| 5416/5416 [00:00<00:00, 43677.73it/s]\n"
     ]
    },
    {
     "output_type": "stream",
     "name": "stdout",
     "text": [
      "Train: 1.0000| Val: 0.7800| Test: 0.7850| Eval Time: 0.1310s\n",
      "Epoch 35| Loss: 0.0100| Acc: 1.0000| Train Time: 0.0190s\n"
     ]
    },
    {
     "output_type": "stream",
     "name": "stderr",
     "text": [
      "Evaluating: 100%|██████████| 5416/5416 [00:00<00:00, 55266.49it/s]\n"
     ]
    },
    {
     "output_type": "stream",
     "name": "stdout",
     "text": [
      "Train: 1.0000| Val: 0.7800| Test: 0.7840| Eval Time: 0.1040s\n",
      "Epoch 36| Loss: 0.0044| Acc: 1.0000| Train Time: 0.0170s\n"
     ]
    },
    {
     "output_type": "stream",
     "name": "stderr",
     "text": [
      "Evaluating: 100%|██████████| 5416/5416 [00:00<00:00, 44215.28it/s]\n"
     ]
    },
    {
     "output_type": "stream",
     "name": "stdout",
     "text": [
      "Train: 1.0000| Val: 0.7820| Test: 0.7830| Eval Time: 0.1275s\n",
      "Epoch 37| Loss: 0.0047| Acc: 1.0000| Train Time: 0.0190s\n"
     ]
    },
    {
     "output_type": "stream",
     "name": "stderr",
     "text": [
      "Evaluating: 100%|██████████| 5416/5416 [00:00<00:00, 36594.83it/s]\n"
     ]
    },
    {
     "output_type": "stream",
     "name": "stdout",
     "text": [
      "Train: 1.0000| Val: 0.7840| Test: 0.7840| Eval Time: 0.1560s\n",
      "Epoch 38| Loss: 0.0070| Acc: 1.0000| Train Time: 0.0200s\n"
     ]
    },
    {
     "output_type": "stream",
     "name": "stderr",
     "text": [
      "Evaluating: 100%|██████████| 5416/5416 [00:00<00:00, 36106.99it/s]\n"
     ]
    },
    {
     "output_type": "stream",
     "name": "stdout",
     "text": [
      "Train: 1.0000| Val: 0.7840| Test: 0.7840| Eval Time: 0.1570s\n",
      "Epoch 39| Loss: 0.0099| Acc: 1.0000| Train Time: 0.0240s\n"
     ]
    },
    {
     "output_type": "stream",
     "name": "stderr",
     "text": [
      "Evaluating: 100%|██████████| 5416/5416 [00:00<00:00, 38411.86it/s]"
     ]
    },
    {
     "output_type": "stream",
     "name": "stdout",
     "text": [
      "Train: 1.0000| Val: 0.7840| Test: 0.7850| Eval Time: 0.1490s\n",
      "Epoch 40| Loss: 0.0098| Acc: 1.0000| Train Time: 0.0220s\n"
     ]
    },
    {
     "output_type": "stream",
     "name": "stderr",
     "text": [
      "\n",
      "Evaluating: 100%|██████████| 5416/5416 [00:00<00:00, 44393.80it/s]\n"
     ]
    },
    {
     "output_type": "stream",
     "name": "stdout",
     "text": [
      "Train: 1.0000| Val: 0.7840| Test: 0.7870| Eval Time: 0.1270s\n",
      "Epoch 41| Loss: 0.0092| Acc: 1.0000| Train Time: 0.0170s\n"
     ]
    },
    {
     "output_type": "stream",
     "name": "stderr",
     "text": [
      "Evaluating: 100%|██████████| 5416/5416 [00:00<00:00, 57615.64it/s]\n"
     ]
    },
    {
     "output_type": "stream",
     "name": "stdout",
     "text": [
      "Train: 1.0000| Val: 0.7780| Test: 0.7860| Eval Time: 0.0990s\n",
      "Epoch 42| Loss: 0.0172| Acc: 1.0000| Train Time: 0.0146s\n"
     ]
    },
    {
     "output_type": "stream",
     "name": "stderr",
     "text": [
      "Evaluating: 100%|██████████| 5416/5416 [00:00<00:00, 47095.84it/s]\n"
     ]
    },
    {
     "output_type": "stream",
     "name": "stdout",
     "text": [
      "Train: 1.0000| Val: 0.7760| Test: 0.7840| Eval Time: 0.1200s\n",
      "Epoch 43| Loss: 0.0065| Acc: 1.0000| Train Time: 0.0190s\n"
     ]
    },
    {
     "output_type": "stream",
     "name": "stderr",
     "text": [
      "Evaluating: 100%|██████████| 5416/5416 [00:00<00:00, 49236.84it/s]\n"
     ]
    },
    {
     "output_type": "stream",
     "name": "stdout",
     "text": [
      "Train: 1.0000| Val: 0.7780| Test: 0.7820| Eval Time: 0.1160s\n",
      "Epoch 44| Loss: 0.0038| Acc: 1.0000| Train Time: 0.0210s\n"
     ]
    },
    {
     "output_type": "stream",
     "name": "stderr",
     "text": [
      "Evaluating: 100%|██████████| 5416/5416 [00:00<00:00, 45102.28it/s]\n"
     ]
    },
    {
     "output_type": "stream",
     "name": "stdout",
     "text": [
      "Train: 1.0000| Val: 0.7780| Test: 0.7810| Eval Time: 0.1251s\n",
      "Epoch 45| Loss: 0.0174| Acc: 1.0000| Train Time: 0.0230s\n"
     ]
    },
    {
     "output_type": "stream",
     "name": "stderr",
     "text": [
      "Evaluating: 100%|██████████| 5416/5416 [00:00<00:00, 47508.84it/s]\n"
     ]
    },
    {
     "output_type": "stream",
     "name": "stdout",
     "text": [
      "Train: 1.0000| Val: 0.7800| Test: 0.7800| Eval Time: 0.1200s\n",
      "Epoch 46| Loss: 0.0121| Acc: 1.0000| Train Time: 0.0160s\n"
     ]
    },
    {
     "output_type": "stream",
     "name": "stderr",
     "text": [
      "Evaluating: 100%|██████████| 5416/5416 [00:00<00:00, 49671.47it/s]\n"
     ]
    },
    {
     "output_type": "stream",
     "name": "stdout",
     "text": [
      "Train: 1.0000| Val: 0.7800| Test: 0.7790| Eval Time: 0.1140s\n",
      "Epoch 47| Loss: 0.0037| Acc: 1.0000| Train Time: 0.0160s\n"
     ]
    },
    {
     "output_type": "stream",
     "name": "stderr",
     "text": [
      "Evaluating: 100%|██████████| 5416/5416 [00:00<00:00, 49688.74it/s]\n"
     ]
    },
    {
     "output_type": "stream",
     "name": "stdout",
     "text": [
      "Train: 1.0000| Val: 0.7780| Test: 0.7780| Eval Time: 0.1160s\n",
      "Epoch 48| Loss: 0.0064| Acc: 1.0000| Train Time: 0.0160s\n"
     ]
    },
    {
     "output_type": "stream",
     "name": "stderr",
     "text": [
      "Evaluating: 100%|██████████| 5416/5416 [00:00<00:00, 52071.27it/s]\n"
     ]
    },
    {
     "output_type": "stream",
     "name": "stdout",
     "text": [
      "Train: 1.0000| Val: 0.7760| Test: 0.7780| Eval Time: 0.1100s\n",
      "Epoch 49| Loss: 0.0075| Acc: 1.0000| Train Time: 0.0180s\n"
     ]
    },
    {
     "output_type": "stream",
     "name": "stderr",
     "text": [
      "Evaluating: 100%|██████████| 5416/5416 [00:00<00:00, 47928.43it/s]\n"
     ]
    },
    {
     "output_type": "stream",
     "name": "stdout",
     "text": [
      "Train: 1.0000| Val: 0.7760| Test: 0.7800| Eval Time: 0.1180s\n",
      "Epoch 50| Loss: 0.0032| Acc: 1.0000| Train Time: 0.0180s\n"
     ]
    },
    {
     "output_type": "stream",
     "name": "stderr",
     "text": [
      "Evaluating: 100%|██████████| 5416/5416 [00:00<00:00, 52846.30it/s]\n"
     ]
    },
    {
     "output_type": "stream",
     "name": "stdout",
     "text": [
      "Train: 1.0000| Val: 0.7760| Test: 0.7800| Eval Time: 0.1095s\n",
      "Epoch 51| Loss: 0.0027| Acc: 1.0000| Train Time: 0.0190s\n"
     ]
    },
    {
     "output_type": "stream",
     "name": "stderr",
     "text": [
      "Evaluating: 100%|██████████| 5416/5416 [00:00<00:00, 49686.13it/s]\n"
     ]
    },
    {
     "output_type": "stream",
     "name": "stdout",
     "text": [
      "Train: 1.0000| Val: 0.7780| Test: 0.7800| Eval Time: 0.1160s\n",
      "Epoch 52| Loss: 0.0024| Acc: 1.0000| Train Time: 0.0180s\n"
     ]
    },
    {
     "output_type": "stream",
     "name": "stderr",
     "text": [
      "Evaluating: 100%|██████████| 5416/5416 [00:00<00:00, 47097.99it/s]\n"
     ]
    },
    {
     "output_type": "stream",
     "name": "stdout",
     "text": [
      "Train: 1.0000| Val: 0.7780| Test: 0.7810| Eval Time: 0.1200s\n",
      "Epoch 53| Loss: 0.0065| Acc: 1.0000| Train Time: 0.0190s\n"
     ]
    },
    {
     "output_type": "stream",
     "name": "stderr",
     "text": [
      "Evaluating: 100%|██████████| 5416/5416 [00:00<00:00, 45512.17it/s]\n"
     ]
    },
    {
     "output_type": "stream",
     "name": "stdout",
     "text": [
      "Train: 1.0000| Val: 0.7740| Test: 0.7800| Eval Time: 0.1250s\n",
      "Epoch 54| Loss: 0.0054| Acc: 1.0000| Train Time: 0.0210s\n"
     ]
    },
    {
     "output_type": "stream",
     "name": "stderr",
     "text": [
      "Evaluating: 100%|██████████| 5416/5416 [00:00<00:00, 44393.80it/s]\n"
     ]
    },
    {
     "output_type": "stream",
     "name": "stdout",
     "text": [
      "Train: 1.0000| Val: 0.7740| Test: 0.7800| Eval Time: 0.1290s\n",
      "Epoch 55| Loss: 0.0025| Acc: 1.0000| Train Time: 0.0190s\n"
     ]
    },
    {
     "output_type": "stream",
     "name": "stderr",
     "text": [
      "Evaluating: 100%|██████████| 5416/5416 [00:00<00:00, 46290.65it/s]\n"
     ]
    },
    {
     "output_type": "stream",
     "name": "stdout",
     "text": [
      "Train: 1.0000| Val: 0.7760| Test: 0.7810| Eval Time: 0.1230s\n",
      "Epoch 56| Loss: 0.0043| Acc: 1.0000| Train Time: 0.0180s\n"
     ]
    },
    {
     "output_type": "stream",
     "name": "stderr",
     "text": [
      "Evaluating: 100%|██████████| 5416/5416 [00:00<00:00, 42645.64it/s]\n"
     ]
    },
    {
     "output_type": "stream",
     "name": "stdout",
     "text": [
      "Train: 1.0000| Val: 0.7760| Test: 0.7810| Eval Time: 0.1330s\n",
      "Epoch 57| Loss: 0.0015| Acc: 1.0000| Train Time: 0.0150s\n"
     ]
    },
    {
     "output_type": "stream",
     "name": "stderr",
     "text": [
      "Evaluating: 100%|██████████| 5416/5416 [00:00<00:00, 49687.65it/s]\n"
     ]
    },
    {
     "output_type": "stream",
     "name": "stdout",
     "text": [
      "Train: 1.0000| Val: 0.7760| Test: 0.7810| Eval Time: 0.1130s\n",
      "Epoch 58| Loss: 0.0030| Acc: 1.0000| Train Time: 0.0170s\n"
     ]
    },
    {
     "output_type": "stream",
     "name": "stderr",
     "text": [
      "Evaluating: 100%|██████████| 5416/5416 [00:00<00:00, 47930.96it/s]\n"
     ]
    },
    {
     "output_type": "stream",
     "name": "stdout",
     "text": [
      "Train: 1.0000| Val: 0.7780| Test: 0.7820| Eval Time: 0.1180s\n",
      "\n",
      "Result of  4. run| Train: 1.0000| Val: 0.7980| Test: 0.8070\n",
      "\n",
      "Run 05:\n"
     ]
    },
    {
     "output_type": "stream",
     "name": "stderr",
     "text": [
      "Epoch 01: 100%|██████████| 140/140 [00:00<00:00, 6362.79it/s]\n"
     ]
    },
    {
     "output_type": "stream",
     "name": "stdout",
     "text": [
      "Epoch 01| Loss: 1.9865| Acc: 0.1714| Train Time: 0.0250s\n"
     ]
    },
    {
     "output_type": "stream",
     "name": "stderr",
     "text": [
      "Evaluating: 100%|██████████| 5416/5416 [00:00<00:00, 47161.35it/s]\n"
     ]
    },
    {
     "output_type": "stream",
     "name": "stdout",
     "text": [
      "Train: 0.8857| Val: 0.6600| Test: 0.6850| Eval Time: 0.1198s\n",
      "Epoch 02| Loss: 1.4995| Acc: 0.7571| Train Time: 0.0150s\n"
     ]
    },
    {
     "output_type": "stream",
     "name": "stderr",
     "text": [
      "Evaluating: 100%|██████████| 5416/5416 [00:00<00:00, 49235.77it/s]\n"
     ]
    },
    {
     "output_type": "stream",
     "name": "stdout",
     "text": [
      "Train: 0.9786| Val: 0.7640| Test: 0.7660| Eval Time: 0.1150s\n",
      "Epoch 03| Loss: 1.1127| Acc: 0.8786| Train Time: 0.0160s\n"
     ]
    },
    {
     "output_type": "stream",
     "name": "stderr",
     "text": [
      "Evaluating: 100%|██████████| 5416/5416 [00:00<00:00, 46290.37it/s]\n"
     ]
    },
    {
     "output_type": "stream",
     "name": "stdout",
     "text": [
      "Train: 0.9857| Val: 0.7740| Test: 0.7870| Eval Time: 0.1240s\n",
      "Epoch 04| Loss: 0.9438| Acc: 0.8857| Train Time: 0.0160s\n"
     ]
    },
    {
     "output_type": "stream",
     "name": "stderr",
     "text": [
      "Evaluating: 100%|██████████| 5416/5416 [00:00<00:00, 47096.82it/s]\n"
     ]
    },
    {
     "output_type": "stream",
     "name": "stdout",
     "text": [
      "Train: 0.9929| Val: 0.7800| Test: 0.7960| Eval Time: 0.1200s\n",
      "Epoch 05| Loss: 0.6622| Acc: 0.9357| Train Time: 0.0170s\n"
     ]
    },
    {
     "output_type": "stream",
     "name": "stderr",
     "text": [
      "Evaluating: 100%|██████████| 5416/5416 [00:00<00:00, 49236.52it/s]\n"
     ]
    },
    {
     "output_type": "stream",
     "name": "stdout",
     "text": [
      "Train: 1.0000| Val: 0.7880| Test: 0.8020| Eval Time: 0.1160s\n",
      "Epoch 06| Loss: 0.5246| Acc: 0.9714| Train Time: 0.0190s\n"
     ]
    },
    {
     "output_type": "stream",
     "name": "stderr",
     "text": [
      "Evaluating: 100%|██████████| 5416/5416 [00:00<00:00, 45478.00it/s]\n"
     ]
    },
    {
     "output_type": "stream",
     "name": "stdout",
     "text": [
      "Train: 1.0000| Val: 0.7920| Test: 0.7990| Eval Time: 0.1241s\n",
      "Epoch 07| Loss: 0.4006| Acc: 0.9857| Train Time: 0.0170s\n"
     ]
    },
    {
     "output_type": "stream",
     "name": "stderr",
     "text": [
      "Evaluating: 100%|██████████| 5416/5416 [00:00<00:00, 56415.99it/s]\n"
     ]
    },
    {
     "output_type": "stream",
     "name": "stdout",
     "text": [
      "Train: 1.0000| Val: 0.7820| Test: 0.7950| Eval Time: 0.1020s\n",
      "Epoch 08| Loss: 0.4023| Acc: 0.9643| Train Time: 0.0150s\n"
     ]
    },
    {
     "output_type": "stream",
     "name": "stderr",
     "text": [
      "Evaluating: 100%|██████████| 5416/5416 [00:00<00:00, 39246.64it/s]\n"
     ]
    },
    {
     "output_type": "stream",
     "name": "stdout",
     "text": [
      "Train: 1.0000| Val: 0.7720| Test: 0.7890| Eval Time: 0.1440s\n",
      "Epoch 09| Loss: 0.2717| Acc: 0.9929| Train Time: 0.0160s\n"
     ]
    },
    {
     "output_type": "stream",
     "name": "stderr",
     "text": [
      "Evaluating: 100%|██████████| 5416/5416 [00:00<00:00, 47095.75it/s]\n"
     ]
    },
    {
     "output_type": "stream",
     "name": "stdout",
     "text": [
      "Train: 1.0000| Val: 0.7680| Test: 0.7860| Eval Time: 0.1200s\n",
      "Epoch 10| Loss: 0.2771| Acc: 0.9929| Train Time: 0.0150s\n"
     ]
    },
    {
     "output_type": "stream",
     "name": "stderr",
     "text": [
      "Evaluating: 100%|██████████| 5416/5416 [00:00<00:00, 52077.83it/s]\n"
     ]
    },
    {
     "output_type": "stream",
     "name": "stdout",
     "text": [
      "Train: 1.0000| Val: 0.7580| Test: 0.7870| Eval Time: 0.1100s\n",
      "Epoch 11| Loss: 0.1659| Acc: 1.0000| Train Time: 0.0160s\n"
     ]
    },
    {
     "output_type": "stream",
     "name": "stderr",
     "text": [
      "Evaluating: 100%|██████████| 5416/5416 [00:00<00:00, 46686.99it/s]\n"
     ]
    },
    {
     "output_type": "stream",
     "name": "stdout",
     "text": [
      "Train: 1.0000| Val: 0.7580| Test: 0.7870| Eval Time: 0.1220s\n",
      "Epoch 12| Loss: 0.1472| Acc: 0.9929| Train Time: 0.0160s\n"
     ]
    },
    {
     "output_type": "stream",
     "name": "stderr",
     "text": [
      "Evaluating: 100%|██████████| 5416/5416 [00:00<00:00, 50664.30it/s]\n"
     ]
    },
    {
     "output_type": "stream",
     "name": "stdout",
     "text": [
      "Train: 1.0000| Val: 0.7520| Test: 0.7810| Eval Time: 0.1109s\n",
      "Epoch 13| Loss: 0.1184| Acc: 0.9929| Train Time: 0.0180s\n"
     ]
    },
    {
     "output_type": "stream",
     "name": "stderr",
     "text": [
      "Evaluating: 100%|██████████| 5416/5416 [00:00<00:00, 51093.10it/s]\n"
     ]
    },
    {
     "output_type": "stream",
     "name": "stdout",
     "text": [
      "Train: 1.0000| Val: 0.7520| Test: 0.7810| Eval Time: 0.1110s\n",
      "Epoch 14| Loss: 0.1456| Acc: 0.9929| Train Time: 0.0170s\n"
     ]
    },
    {
     "output_type": "stream",
     "name": "stderr",
     "text": [
      "Evaluating: 100%|██████████| 5416/5416 [00:00<00:00, 43677.81it/s]\n"
     ]
    },
    {
     "output_type": "stream",
     "name": "stdout",
     "text": [
      "Train: 1.0000| Val: 0.7560| Test: 0.7790| Eval Time: 0.1290s\n",
      "Epoch 15| Loss: 0.1037| Acc: 0.9929| Train Time: 0.0170s\n"
     ]
    },
    {
     "output_type": "stream",
     "name": "stderr",
     "text": [
      "Evaluating: 100%|██████████| 5416/5416 [00:00<00:00, 48358.18it/s]\n"
     ]
    },
    {
     "output_type": "stream",
     "name": "stdout",
     "text": [
      "Train: 1.0000| Val: 0.7580| Test: 0.7800| Eval Time: 0.1160s\n",
      "Epoch 16| Loss: 0.0836| Acc: 1.0000| Train Time: 0.0180s\n"
     ]
    },
    {
     "output_type": "stream",
     "name": "stderr",
     "text": [
      "Evaluating: 100%|██████████| 5416/5416 [00:00<00:00, 56994.92it/s]\n"
     ]
    },
    {
     "output_type": "stream",
     "name": "stdout",
     "text": [
      "Train: 1.0000| Val: 0.7560| Test: 0.7820| Eval Time: 0.1010s\n",
      "Epoch 17| Loss: 0.0647| Acc: 1.0000| Train Time: 0.0230s\n"
     ]
    },
    {
     "output_type": "stream",
     "name": "stderr",
     "text": [
      "Evaluating: 100%|██████████| 5416/5416 [00:00<00:00, 42313.52it/s]\n"
     ]
    },
    {
     "output_type": "stream",
     "name": "stdout",
     "text": [
      "Train: 1.0000| Val: 0.7620| Test: 0.7840| Eval Time: 0.1350s\n",
      "Epoch 18| Loss: 0.0498| Acc: 1.0000| Train Time: 0.0190s\n"
     ]
    },
    {
     "output_type": "stream",
     "name": "stderr",
     "text": [
      "Evaluating: 100%|██████████| 5416/5416 [00:00<00:00, 31672.29it/s]\n"
     ]
    },
    {
     "output_type": "stream",
     "name": "stdout",
     "text": [
      "Train: 1.0000| Val: 0.7680| Test: 0.7850| Eval Time: 0.1820s\n",
      "Epoch 19| Loss: 0.0533| Acc: 1.0000| Train Time: 0.0310s\n"
     ]
    },
    {
     "output_type": "stream",
     "name": "stderr",
     "text": [
      "Evaluating: 100%|██████████| 5416/5416 [00:00<00:00, 39080.15it/s]"
     ]
    },
    {
     "output_type": "stream",
     "name": "stdout",
     "text": [
      "Train: 1.0000| Val: 0.7700| Test: 0.7840| Eval Time: 0.1446s\n"
     ]
    },
    {
     "output_type": "stream",
     "name": "stderr",
     "text": [
      "\n"
     ]
    },
    {
     "output_type": "stream",
     "name": "stdout",
     "text": [
      "Epoch 20| Loss: 0.0488| Acc: 0.9929| Train Time: 0.0220s\n"
     ]
    },
    {
     "output_type": "stream",
     "name": "stderr",
     "text": [
      "Evaluating: 100%|██████████| 5416/5416 [00:00<00:00, 46684.88it/s]\n"
     ]
    },
    {
     "output_type": "stream",
     "name": "stdout",
     "text": [
      "Train: 1.0000| Val: 0.7720| Test: 0.7860| Eval Time: 0.1210s\n",
      "Epoch 21| Loss: 0.0410| Acc: 1.0000| Train Time: 0.0170s\n"
     ]
    },
    {
     "output_type": "stream",
     "name": "stderr",
     "text": [
      "Evaluating: 100%|██████████| 5416/5416 [00:00<00:00, 43676.39it/s]\n"
     ]
    },
    {
     "output_type": "stream",
     "name": "stdout",
     "text": [
      "Train: 1.0000| Val: 0.7740| Test: 0.7880| Eval Time: 0.1320s\n",
      "Epoch 22| Loss: 0.0273| Acc: 1.0000| Train Time: 0.0240s\n"
     ]
    },
    {
     "output_type": "stream",
     "name": "stderr",
     "text": [
      "Evaluating: 100%|██████████| 5416/5416 [00:00<00:00, 41344.63it/s]\n"
     ]
    },
    {
     "output_type": "stream",
     "name": "stdout",
     "text": [
      "Train: 1.0000| Val: 0.7700| Test: 0.7880| Eval Time: 0.1370s\n",
      "Epoch 23| Loss: 0.0369| Acc: 1.0000| Train Time: 0.0190s\n"
     ]
    },
    {
     "output_type": "stream",
     "name": "stderr",
     "text": [
      "Evaluating: 100%|██████████| 5416/5416 [00:00<00:00, 39245.97it/s]\n"
     ]
    },
    {
     "output_type": "stream",
     "name": "stdout",
     "text": [
      "Train: 1.0000| Val: 0.7760| Test: 0.7830| Eval Time: 0.1430s\n",
      "Epoch 24| Loss: 0.0256| Acc: 1.0000| Train Time: 0.0200s\n"
     ]
    },
    {
     "output_type": "stream",
     "name": "stderr",
     "text": [
      "Evaluating: 100%|██████████| 5416/5416 [00:00<00:00, 37611.47it/s]\n"
     ]
    },
    {
     "output_type": "stream",
     "name": "stdout",
     "text": [
      "Train: 1.0000| Val: 0.7740| Test: 0.7860| Eval Time: 0.1510s\n",
      "Epoch 25| Loss: 0.0189| Acc: 1.0000| Train Time: 0.0210s\n"
     ]
    },
    {
     "output_type": "stream",
     "name": "stderr",
     "text": [
      "Evaluating: 100%|██████████| 5416/5416 [00:00<00:00, 38141.62it/s]\n"
     ]
    },
    {
     "output_type": "stream",
     "name": "stdout",
     "text": [
      "Train: 1.0000| Val: 0.7740| Test: 0.7900| Eval Time: 0.1470s\n",
      "Epoch 26| Loss: 0.0429| Acc: 0.9929| Train Time: 0.0230s\n"
     ]
    },
    {
     "output_type": "stream",
     "name": "stderr",
     "text": [
      "Evaluating: 100%|██████████| 5416/5416 [00:00<00:00, 37874.47it/s]\n"
     ]
    },
    {
     "output_type": "stream",
     "name": "stdout",
     "text": [
      "Train: 1.0000| Val: 0.7740| Test: 0.7900| Eval Time: 0.1520s\n",
      "Epoch 27| Loss: 0.0166| Acc: 1.0000| Train Time: 0.0240s\n"
     ]
    },
    {
     "output_type": "stream",
     "name": "stderr",
     "text": [
      "Evaluating: 100%|██████████| 5416/5416 [00:00<00:00, 45512.17it/s]\n"
     ]
    },
    {
     "output_type": "stream",
     "name": "stdout",
     "text": [
      "Train: 1.0000| Val: 0.7760| Test: 0.7890| Eval Time: 0.1250s\n",
      "Epoch 28| Loss: 0.0142| Acc: 1.0000| Train Time: 0.0170s\n"
     ]
    },
    {
     "output_type": "stream",
     "name": "stderr",
     "text": [
      "Evaluating: 100%|██████████| 5416/5416 [00:00<00:00, 49236.52it/s]\n"
     ]
    },
    {
     "output_type": "stream",
     "name": "stdout",
     "text": [
      "Train: 1.0000| Val: 0.7740| Test: 0.7870| Eval Time: 0.1160s\n",
      "Epoch 29| Loss: 0.0304| Acc: 1.0000| Train Time: 0.0140s\n"
     ]
    },
    {
     "output_type": "stream",
     "name": "stderr",
     "text": [
      "Evaluating: 100%|██████████| 5416/5416 [00:00<00:00, 48780.72it/s]\n"
     ]
    },
    {
     "output_type": "stream",
     "name": "stdout",
     "text": [
      "Train: 1.0000| Val: 0.7720| Test: 0.7880| Eval Time: 0.1160s\n",
      "Epoch 30| Loss: 0.0187| Acc: 1.0000| Train Time: 0.0190s\n"
     ]
    },
    {
     "output_type": "stream",
     "name": "stderr",
     "text": [
      "Evaluating: 100%|██████████| 5416/5416 [00:00<00:00, 45896.16it/s]\n"
     ]
    },
    {
     "output_type": "stream",
     "name": "stdout",
     "text": [
      "Train: 1.0000| Val: 0.7740| Test: 0.7870| Eval Time: 0.1240s\n",
      "Epoch 31| Loss: 0.0090| Acc: 1.0000| Train Time: 0.0160s\n"
     ]
    },
    {
     "output_type": "stream",
     "name": "stderr",
     "text": [
      "Evaluating: 100%|██████████| 5416/5416 [00:00<00:00, 47096.14it/s]\n"
     ]
    },
    {
     "output_type": "stream",
     "name": "stdout",
     "text": [
      "Train: 1.0000| Val: 0.7760| Test: 0.7880| Eval Time: 0.1200s\n",
      "Epoch 32| Loss: 0.0657| Acc: 0.9929| Train Time: 0.0160s\n"
     ]
    },
    {
     "output_type": "stream",
     "name": "stderr",
     "text": [
      "Evaluating: 100%|██████████| 5416/5416 [00:00<00:00, 51094.60it/s]\n"
     ]
    },
    {
     "output_type": "stream",
     "name": "stdout",
     "text": [
      "Train: 1.0000| Val: 0.7720| Test: 0.7810| Eval Time: 0.1120s\n",
      "Epoch 33| Loss: 0.0089| Acc: 1.0000| Train Time: 0.0170s\n"
     ]
    },
    {
     "output_type": "stream",
     "name": "stderr",
     "text": [
      "Evaluating: 100%|██████████| 5416/5416 [00:00<00:00, 45513.90it/s]\n"
     ]
    },
    {
     "output_type": "stream",
     "name": "stdout",
     "text": [
      "Train: 1.0000| Val: 0.7720| Test: 0.7810| Eval Time: 0.1250s\n",
      "Epoch 34| Loss: 0.0223| Acc: 1.0000| Train Time: 0.0160s\n"
     ]
    },
    {
     "output_type": "stream",
     "name": "stderr",
     "text": [
      "Evaluating: 100%|██████████| 5416/5416 [00:00<00:00, 45066.31it/s]\n"
     ]
    },
    {
     "output_type": "stream",
     "name": "stdout",
     "text": [
      "Train: 1.0000| Val: 0.7620| Test: 0.7820| Eval Time: 0.1252s\n",
      "Epoch 35| Loss: 0.0069| Acc: 1.0000| Train Time: 0.0150s\n"
     ]
    },
    {
     "output_type": "stream",
     "name": "stderr",
     "text": [
      "Evaluating: 100%|██████████| 5416/5416 [00:00<00:00, 51095.17it/s]\n"
     ]
    },
    {
     "output_type": "stream",
     "name": "stdout",
     "text": [
      "Train: 1.0000| Val: 0.7640| Test: 0.7810| Eval Time: 0.1110s\n",
      "Epoch 36| Loss: 0.0135| Acc: 1.0000| Train Time: 0.0190s\n"
     ]
    },
    {
     "output_type": "stream",
     "name": "stderr",
     "text": [
      "Evaluating: 100%|██████████| 5416/5416 [00:00<00:00, 45512.80it/s]\n"
     ]
    },
    {
     "output_type": "stream",
     "name": "stdout",
     "text": [
      "Train: 1.0000| Val: 0.7580| Test: 0.7800| Eval Time: 0.1240s\n",
      "Epoch 37| Loss: 0.0174| Acc: 1.0000| Train Time: 0.0160s\n"
     ]
    },
    {
     "output_type": "stream",
     "name": "stderr",
     "text": [
      "Evaluating: 100%|██████████| 5416/5416 [00:00<00:00, 32830.65it/s]\n"
     ]
    },
    {
     "output_type": "stream",
     "name": "stdout",
     "text": [
      "Train: 1.0000| Val: 0.7520| Test: 0.7770| Eval Time: 0.1730s\n",
      "Epoch 38| Loss: 0.0120| Acc: 1.0000| Train Time: 0.0260s\n"
     ]
    },
    {
     "output_type": "stream",
     "name": "stderr",
     "text": [
      "Evaluating: 100%|██████████| 5416/5416 [00:00<00:00, 37342.46it/s]\n"
     ]
    },
    {
     "output_type": "stream",
     "name": "stdout",
     "text": [
      "Train: 1.0000| Val: 0.7500| Test: 0.7780| Eval Time: 0.1551s\n",
      "Epoch 39| Loss: 0.0068| Acc: 1.0000| Train Time: 0.0200s\n"
     ]
    },
    {
     "output_type": "stream",
     "name": "stderr",
     "text": [
      "Evaluating: 100%|██████████| 5416/5416 [00:00<00:00, 44760.75it/s]\n"
     ]
    },
    {
     "output_type": "stream",
     "name": "stdout",
     "text": [
      "Train: 1.0000| Val: 0.7500| Test: 0.7760| Eval Time: 0.1250s\n",
      "Epoch 40| Loss: 0.0028| Acc: 1.0000| Train Time: 0.0220s\n"
     ]
    },
    {
     "output_type": "stream",
     "name": "stderr",
     "text": [
      "Evaluating: 100%|██████████| 5416/5416 [00:00<00:00, 48792.56it/s]\n"
     ]
    },
    {
     "output_type": "stream",
     "name": "stdout",
     "text": [
      "Train: 1.0000| Val: 0.7500| Test: 0.7740| Eval Time: 0.1180s\n",
      "Epoch 41| Loss: 0.0022| Acc: 1.0000| Train Time: 0.0190s\n"
     ]
    },
    {
     "output_type": "stream",
     "name": "stderr",
     "text": [
      "Evaluating: 100%|██████████| 5416/5416 [00:00<00:00, 50597.15it/s]\n"
     ]
    },
    {
     "output_type": "stream",
     "name": "stdout",
     "text": [
      "Train: 1.0000| Val: 0.7500| Test: 0.7720| Eval Time: 0.1130s\n",
      "Epoch 42| Loss: 0.0092| Acc: 1.0000| Train Time: 0.0150s\n"
     ]
    },
    {
     "output_type": "stream",
     "name": "stderr",
     "text": [
      "Evaluating: 100%|██████████| 5416/5416 [00:00<00:00, 50147.91it/s]\n"
     ]
    },
    {
     "output_type": "stream",
     "name": "stdout",
     "text": [
      "Train: 1.0000| Val: 0.7460| Test: 0.7710| Eval Time: 0.1150s\n",
      "Epoch 43| Loss: 0.0066| Acc: 1.0000| Train Time: 0.0210s\n"
     ]
    },
    {
     "output_type": "stream",
     "name": "stderr",
     "text": [
      "Evaluating: 100%|██████████| 5416/5416 [00:00<00:00, 46689.68it/s]\n"
     ]
    },
    {
     "output_type": "stream",
     "name": "stdout",
     "text": [
      "Train: 1.0000| Val: 0.7420| Test: 0.7710| Eval Time: 0.1240s\n",
      "Epoch 44| Loss: 0.0018| Acc: 1.0000| Train Time: 0.0160s\n"
     ]
    },
    {
     "output_type": "stream",
     "name": "stderr",
     "text": [
      "Evaluating: 100%|██████████| 5416/5416 [00:00<00:00, 44393.71it/s]\n"
     ]
    },
    {
     "output_type": "stream",
     "name": "stdout",
     "text": [
      "Train: 1.0000| Val: 0.7420| Test: 0.7700| Eval Time: 0.1270s\n",
      "Epoch 45| Loss: 0.0055| Acc: 1.0000| Train Time: 0.0170s\n"
     ]
    },
    {
     "output_type": "stream",
     "name": "stderr",
     "text": [
      "Evaluating: 100%|██████████| 5416/5416 [00:00<00:00, 54158.63it/s]\n"
     ]
    },
    {
     "output_type": "stream",
     "name": "stdout",
     "text": [
      "Train: 1.0000| Val: 0.7420| Test: 0.7700| Eval Time: 0.1060s\n",
      "Epoch 46| Loss: 0.0022| Acc: 1.0000| Train Time: 0.0170s\n"
     ]
    },
    {
     "output_type": "stream",
     "name": "stderr",
     "text": [
      "Evaluating: 100%|██████████| 5416/5416 [00:00<00:00, 47511.12it/s]\n"
     ]
    },
    {
     "output_type": "stream",
     "name": "stdout",
     "text": [
      "Train: 1.0000| Val: 0.7420| Test: 0.7660| Eval Time: 0.1210s\n",
      "Epoch 47| Loss: 0.0092| Acc: 1.0000| Train Time: 0.0171s\n"
     ]
    },
    {
     "output_type": "stream",
     "name": "stderr",
     "text": [
      "Evaluating: 100%|██████████| 5416/5416 [00:00<00:00, 37456.99it/s]\n"
     ]
    },
    {
     "output_type": "stream",
     "name": "stdout",
     "text": [
      "Train: 1.0000| Val: 0.7420| Test: 0.7660| Eval Time: 0.1503s\n",
      "Epoch 48| Loss: 0.0172| Acc: 0.9929| Train Time: 0.0240s\n"
     ]
    },
    {
     "output_type": "stream",
     "name": "stderr",
     "text": [
      "Evaluating: 100%|██████████| 5416/5416 [00:00<00:00, 35271.32it/s]\n"
     ]
    },
    {
     "output_type": "stream",
     "name": "stdout",
     "text": [
      "Train: 1.0000| Val: 0.7420| Test: 0.7640| Eval Time: 0.1616s\n",
      "Epoch 49| Loss: 0.0041| Acc: 1.0000| Train Time: 0.0180s\n"
     ]
    },
    {
     "output_type": "stream",
     "name": "stderr",
     "text": [
      "Evaluating: 100%|██████████| 5416/5416 [00:00<00:00, 51093.22it/s]\n"
     ]
    },
    {
     "output_type": "stream",
     "name": "stdout",
     "text": [
      "Train: 1.0000| Val: 0.7440| Test: 0.7640| Eval Time: 0.1120s\n",
      "Epoch 50| Loss: 0.0052| Acc: 1.0000| Train Time: 0.0230s\n"
     ]
    },
    {
     "output_type": "stream",
     "name": "stderr",
     "text": [
      "Evaluating: 100%|██████████| 5416/5416 [00:00<00:00, 47508.84it/s]\n"
     ]
    },
    {
     "output_type": "stream",
     "name": "stdout",
     "text": [
      "Train: 1.0000| Val: 0.7460| Test: 0.7660| Eval Time: 0.1200s\n",
      "Epoch 51| Loss: 0.0068| Acc: 1.0000| Train Time: 0.0160s\n"
     ]
    },
    {
     "output_type": "stream",
     "name": "stderr",
     "text": [
      "Evaluating: 100%|██████████| 5416/5416 [00:00<00:00, 47096.14it/s]\n"
     ]
    },
    {
     "output_type": "stream",
     "name": "stdout",
     "text": [
      "Train: 1.0000| Val: 0.7420| Test: 0.7650| Eval Time: 0.1200s\n",
      "Epoch 52| Loss: 0.0085| Acc: 1.0000| Train Time: 0.0170s\n"
     ]
    },
    {
     "output_type": "stream",
     "name": "stderr",
     "text": [
      "Evaluating: 100%|██████████| 5416/5416 [00:00<00:00, 41661.65it/s]\n"
     ]
    },
    {
     "output_type": "stream",
     "name": "stdout",
     "text": [
      "Train: 1.0000| Val: 0.7380| Test: 0.7660| Eval Time: 0.1350s\n",
      "Epoch 53| Loss: 0.0089| Acc: 1.0000| Train Time: 0.0170s\n"
     ]
    },
    {
     "output_type": "stream",
     "name": "stderr",
     "text": [
      "Evaluating: 100%|██████████| 5416/5416 [00:00<00:00, 45263.87it/s]\n"
     ]
    },
    {
     "output_type": "stream",
     "name": "stdout",
     "text": [
      "Train: 1.0000| Val: 0.7400| Test: 0.7640| Eval Time: 0.1247s\n",
      "Epoch 54| Loss: 0.0023| Acc: 1.0000| Train Time: 0.0180s\n"
     ]
    },
    {
     "output_type": "stream",
     "name": "stderr",
     "text": [
      "Evaluating: 100%|██████████| 5416/5416 [00:00<00:00, 43652.30it/s]\n"
     ]
    },
    {
     "output_type": "stream",
     "name": "stdout",
     "text": [
      "Train: 1.0000| Val: 0.7400| Test: 0.7640| Eval Time: 0.1291s\n",
      "Epoch 55| Loss: 0.0248| Acc: 0.9929| Train Time: 0.0160s\n"
     ]
    },
    {
     "output_type": "stream",
     "name": "stderr",
     "text": [
      "Evaluating: 100%|██████████| 5416/5416 [00:00<00:00, 38962.98it/s]\n"
     ]
    },
    {
     "output_type": "stream",
     "name": "stdout",
     "text": [
      "Train: 1.0000| Val: 0.7400| Test: 0.7660| Eval Time: 0.1440s\n",
      "Epoch 56| Loss: 0.0037| Acc: 1.0000| Train Time: 0.0210s\n"
     ]
    },
    {
     "output_type": "stream",
     "name": "stderr",
     "text": [
      "Evaluating: 100%|██████████| 5416/5416 [00:00<00:00, 49687.65it/s]\n"
     ]
    },
    {
     "output_type": "stream",
     "name": "stdout",
     "text": [
      "Train: 1.0000| Val: 0.7400| Test: 0.7650| Eval Time: 0.1160s\n",
      "\n",
      "Result of  5. run| Train: 1.0000| Val: 0.7920| Test: 0.7990\n",
      "\n",
      "Run 01:\n"
     ]
    },
    {
     "output_type": "stream",
     "name": "stderr",
     "text": [
      "Epoch 01: 100%|██████████| 140/140 [00:00<00:00, 147.09it/s]\n"
     ]
    },
    {
     "output_type": "stream",
     "name": "stdout",
     "text": [
      "Epoch 01| Loss: 1.9548| Acc: 0.1286| Train Time: 0.9548s\n"
     ]
    },
    {
     "output_type": "stream",
     "name": "stderr",
     "text": [
      "Evaluating: 100%|██████████| 5416/5416 [00:03<00:00, 1510.76it/s]\n"
     ]
    },
    {
     "output_type": "stream",
     "name": "stdout",
     "text": [
      "Train: 0.8714| Val: 0.6000| Test: 0.6150| Eval Time: 3.5899s\n",
      "Epoch 02| Loss: 1.5718| Acc: 0.7000| Train Time: 0.8295s\n"
     ]
    },
    {
     "output_type": "stream",
     "name": "stderr",
     "text": [
      "Evaluating: 100%|██████████| 5416/5416 [00:00<00:00, 45897.46it/s]\n"
     ]
    },
    {
     "output_type": "stream",
     "name": "stdout",
     "text": [
      "Train: 0.9500| Val: 0.7100| Test: 0.7240| Eval Time: 0.1230s\n",
      "Epoch 03| Loss: 1.1872| Acc: 0.9000| Train Time: 0.0220s\n"
     ]
    },
    {
     "output_type": "stream",
     "name": "stderr",
     "text": [
      "Evaluating: 100%|██████████| 5416/5416 [00:00<00:00, 35867.83it/s]"
     ]
    },
    {
     "output_type": "stream",
     "name": "stdout",
     "text": [
      "Train: 0.9714| Val: 0.7360| Test: 0.7660| Eval Time: 0.1580s\n"
     ]
    },
    {
     "output_type": "stream",
     "name": "stderr",
     "text": [
      "\n"
     ]
    },
    {
     "output_type": "stream",
     "name": "stdout",
     "text": [
      "Epoch 04| Loss: 0.8862| Acc: 0.9286| Train Time: 0.0260s\n"
     ]
    },
    {
     "output_type": "stream",
     "name": "stderr",
     "text": [
      "Evaluating: 100%|██████████| 5416/5416 [00:00<00:00, 36843.94it/s]"
     ]
    },
    {
     "output_type": "stream",
     "name": "stdout",
     "text": [
      "Train: 0.9786| Val: 0.7600| Test: 0.7870| Eval Time: 0.1520s\n",
      "Epoch 05| Loss: 0.7198| Acc: 0.9714| Train Time: 0.0280s\n"
     ]
    },
    {
     "output_type": "stream",
     "name": "stderr",
     "text": [
      "\n",
      "Evaluating: 100%|██████████| 5416/5416 [00:00<00:00, 35399.05it/s]\n"
     ]
    },
    {
     "output_type": "stream",
     "name": "stdout",
     "text": [
      "Train: 0.9857| Val: 0.7600| Test: 0.8060| Eval Time: 0.1580s\n",
      "Epoch 06| Loss: 0.5042| Acc: 1.0000| Train Time: 0.0210s\n"
     ]
    },
    {
     "output_type": "stream",
     "name": "stderr",
     "text": [
      "Evaluating: 100%|██████████| 5416/5416 [00:00<00:00, 34718.13it/s]"
     ]
    },
    {
     "output_type": "stream",
     "name": "stdout",
     "text": [
      "Train: 0.9857| Val: 0.7640| Test: 0.8080| Eval Time: 0.1600s\n"
     ]
    },
    {
     "output_type": "stream",
     "name": "stderr",
     "text": [
      "\n"
     ]
    },
    {
     "output_type": "stream",
     "name": "stdout",
     "text": [
      "Epoch 07| Loss: 0.5034| Acc: 0.9714| Train Time: 0.0260s\n"
     ]
    },
    {
     "output_type": "stream",
     "name": "stderr",
     "text": [
      "Evaluating: 100%|██████████| 5416/5416 [00:00<00:00, 36595.42it/s]"
     ]
    },
    {
     "output_type": "stream",
     "name": "stdout",
     "text": [
      "Train: 0.9857| Val: 0.7660| Test: 0.8070| Eval Time: 0.1530s\n"
     ]
    },
    {
     "output_type": "stream",
     "name": "stderr",
     "text": [
      "\n"
     ]
    },
    {
     "output_type": "stream",
     "name": "stdout",
     "text": [
      "Epoch 08| Loss: 0.3282| Acc: 0.9929| Train Time: 0.0310s\n"
     ]
    },
    {
     "output_type": "stream",
     "name": "stderr",
     "text": [
      "Evaluating: 100%|██████████| 5416/5416 [00:00<00:00, 35369.45it/s]"
     ]
    },
    {
     "output_type": "stream",
     "name": "stdout",
     "text": [
      "Train: 0.9857| Val: 0.7760| Test: 0.8090| Eval Time: 0.1581s\n",
      "Epoch 09| Loss: 0.2812| Acc: 0.9857| Train Time: 0.0210s\n"
     ]
    },
    {
     "output_type": "stream",
     "name": "stderr",
     "text": [
      "\n",
      "Evaluating: 100%|██████████| 5416/5416 [00:00<00:00, 39964.23it/s]\n"
     ]
    },
    {
     "output_type": "stream",
     "name": "stdout",
     "text": [
      "Train: 0.9857| Val: 0.7800| Test: 0.8090| Eval Time: 0.1405s\n",
      "Epoch 10| Loss: 0.2258| Acc: 0.9857| Train Time: 0.0210s\n"
     ]
    },
    {
     "output_type": "stream",
     "name": "stderr",
     "text": [
      "Evaluating: 100%|██████████| 5416/5416 [00:00<00:00, 40418.75it/s]\n"
     ]
    },
    {
     "output_type": "stream",
     "name": "stdout",
     "text": [
      "Train: 1.0000| Val: 0.7780| Test: 0.8050| Eval Time: 0.1390s\n",
      "Epoch 11| Loss: 0.1435| Acc: 0.9929| Train Time: 0.0230s\n"
     ]
    },
    {
     "output_type": "stream",
     "name": "stderr",
     "text": [
      "Evaluating: 100%|██████████| 5416/5416 [00:00<00:00, 30089.08it/s]\n"
     ]
    },
    {
     "output_type": "stream",
     "name": "stdout",
     "text": [
      "Train: 1.0000| Val: 0.7800| Test: 0.8050| Eval Time: 0.1870s\n",
      "Epoch 12| Loss: 0.1387| Acc: 1.0000| Train Time: 0.0260s\n"
     ]
    },
    {
     "output_type": "stream",
     "name": "stderr",
     "text": [
      "Evaluating: 100%|██████████| 5416/5416 [00:00<00:00, 37096.28it/s]\n"
     ]
    },
    {
     "output_type": "stream",
     "name": "stdout",
     "text": [
      "Train: 1.0000| Val: 0.7780| Test: 0.8060| Eval Time: 0.1510s\n",
      "Epoch 13| Loss: 0.1121| Acc: 0.9929| Train Time: 0.0240s\n"
     ]
    },
    {
     "output_type": "stream",
     "name": "stderr",
     "text": [
      "Evaluating: 100%|██████████| 5416/5416 [00:00<00:00, 26945.28it/s]\n"
     ]
    },
    {
     "output_type": "stream",
     "name": "stdout",
     "text": [
      "Train: 1.0000| Val: 0.7780| Test: 0.8010| Eval Time: 0.2080s\n",
      "Epoch 14| Loss: 0.1064| Acc: 1.0000| Train Time: 0.0290s\n"
     ]
    },
    {
     "output_type": "stream",
     "name": "stderr",
     "text": [
      "Evaluating: 100%|██████████| 5416/5416 [00:00<00:00, 35632.26it/s]\n"
     ]
    },
    {
     "output_type": "stream",
     "name": "stdout",
     "text": [
      "Train: 1.0000| Val: 0.7780| Test: 0.8000| Eval Time: 0.1590s\n",
      "Epoch 15| Loss: 0.0747| Acc: 1.0000| Train Time: 0.0230s\n"
     ]
    },
    {
     "output_type": "stream",
     "name": "stderr",
     "text": [
      "Evaluating: 100%|██████████| 5416/5416 [00:00<00:00, 37611.28it/s]"
     ]
    },
    {
     "output_type": "stream",
     "name": "stdout",
     "text": [
      "Train: 1.0000| Val: 0.7780| Test: 0.8000| Eval Time: 0.1500s\n",
      "Epoch 16| Loss: 0.0476| Acc: 1.0000| Train Time: 0.0230s\n"
     ]
    },
    {
     "output_type": "stream",
     "name": "stderr",
     "text": [
      "\n",
      "Evaluating: 100%|██████████| 5416/5416 [00:00<00:00, 36106.47it/s]\n"
     ]
    },
    {
     "output_type": "stream",
     "name": "stdout",
     "text": [
      "Train: 1.0000| Val: 0.7740| Test: 0.7930| Eval Time: 0.1560s\n",
      "Epoch 17| Loss: 0.0318| Acc: 1.0000| Train Time: 0.0250s\n"
     ]
    },
    {
     "output_type": "stream",
     "name": "stderr",
     "text": [
      "Evaluating: 100%|██████████| 5416/5416 [00:00<00:00, 36140.65it/s]"
     ]
    },
    {
     "output_type": "stream",
     "name": "stdout",
     "text": [
      "Train: 1.0000| Val: 0.7700| Test: 0.7920| Eval Time: 0.1559s\n",
      "Epoch 18| Loss: 0.0355| Acc: 1.0000| Train Time: 0.0210s\n"
     ]
    },
    {
     "output_type": "stream",
     "name": "stderr",
     "text": [
      "\n",
      "Evaluating: 100%|██████████| 5416/5416 [00:00<00:00, 38141.50it/s]\n"
     ]
    },
    {
     "output_type": "stream",
     "name": "stdout",
     "text": [
      "Train: 1.0000| Val: 0.7700| Test: 0.7880| Eval Time: 0.1470s\n",
      "Epoch 19| Loss: 0.0462| Acc: 1.0000| Train Time: 0.0230s\n"
     ]
    },
    {
     "output_type": "stream",
     "name": "stderr",
     "text": [
      "Evaluating: 100%|██████████| 5416/5416 [00:00<00:00, 36259.31it/s]\n"
     ]
    },
    {
     "output_type": "stream",
     "name": "stdout",
     "text": [
      "Train: 1.0000| Val: 0.7680| Test: 0.7900| Eval Time: 0.1564s\n",
      "Epoch 20| Loss: 0.0365| Acc: 0.9929| Train Time: 0.0230s\n"
     ]
    },
    {
     "output_type": "stream",
     "name": "stderr",
     "text": [
      "Evaluating: 100%|██████████| 5416/5416 [00:00<00:00, 35867.15it/s]\n"
     ]
    },
    {
     "output_type": "stream",
     "name": "stdout",
     "text": [
      "Train: 1.0000| Val: 0.7660| Test: 0.7880| Eval Time: 0.1550s\n",
      "Epoch 21| Loss: 0.0213| Acc: 1.0000| Train Time: 0.0220s\n"
     ]
    },
    {
     "output_type": "stream",
     "name": "stderr",
     "text": [
      "Evaluating: 100%|██████████| 5416/5416 [00:00<00:00, 38686.08it/s]\n"
     ]
    },
    {
     "output_type": "stream",
     "name": "stdout",
     "text": [
      "Train: 1.0000| Val: 0.7660| Test: 0.7890| Eval Time: 0.1460s\n",
      "Epoch 22| Loss: 0.0215| Acc: 1.0000| Train Time: 0.0210s\n"
     ]
    },
    {
     "output_type": "stream",
     "name": "stderr",
     "text": [
      "Evaluating: 100%|██████████| 5416/5416 [00:00<00:00, 34497.12it/s]\n"
     ]
    },
    {
     "output_type": "stream",
     "name": "stdout",
     "text": [
      "Train: 1.0000| Val: 0.7640| Test: 0.7840| Eval Time: 0.1620s\n",
      "Epoch 23| Loss: 0.0209| Acc: 1.0000| Train Time: 0.0230s\n"
     ]
    },
    {
     "output_type": "stream",
     "name": "stderr",
     "text": [
      "Evaluating: 100%|██████████| 5416/5416 [00:00<00:00, 42646.04it/s]\n"
     ]
    },
    {
     "output_type": "stream",
     "name": "stdout",
     "text": [
      "Train: 1.0000| Val: 0.7600| Test: 0.7840| Eval Time: 0.1330s\n",
      "Epoch 24| Loss: 0.0212| Acc: 1.0000| Train Time: 0.0210s\n"
     ]
    },
    {
     "output_type": "stream",
     "name": "stderr",
     "text": [
      "Evaluating: 100%|██████████| 5416/5416 [00:00<00:00, 39084.92it/s]\n"
     ]
    },
    {
     "output_type": "stream",
     "name": "stdout",
     "text": [
      "Train: 1.0000| Val: 0.7580| Test: 0.7820| Eval Time: 0.1436s\n",
      "Epoch 25| Loss: 0.0848| Acc: 0.9929| Train Time: 0.0220s\n"
     ]
    },
    {
     "output_type": "stream",
     "name": "stderr",
     "text": [
      "Evaluating: 100%|██████████| 5416/5416 [00:00<00:00, 34318.10it/s]\n"
     ]
    },
    {
     "output_type": "stream",
     "name": "stdout",
     "text": [
      "Train: 1.0000| Val: 0.7620| Test: 0.7890| Eval Time: 0.1638s\n",
      "Epoch 26| Loss: 0.0096| Acc: 1.0000| Train Time: 0.0200s\n"
     ]
    },
    {
     "output_type": "stream",
     "name": "stderr",
     "text": [
      "Evaluating: 100%|██████████| 5416/5416 [00:00<00:00, 35168.82it/s]"
     ]
    },
    {
     "output_type": "stream",
     "name": "stdout",
     "text": [
      "Train: 1.0000| Val: 0.7580| Test: 0.7900| Eval Time: 0.1600s\n"
     ]
    },
    {
     "output_type": "stream",
     "name": "stderr",
     "text": [
      "\n"
     ]
    },
    {
     "output_type": "stream",
     "name": "stdout",
     "text": [
      "Epoch 27| Loss: 0.0103| Acc: 1.0000| Train Time: 0.0240s\n"
     ]
    },
    {
     "output_type": "stream",
     "name": "stderr",
     "text": [
      "Evaluating: 100%|██████████| 5416/5416 [00:00<00:00, 38685.69it/s]\n"
     ]
    },
    {
     "output_type": "stream",
     "name": "stdout",
     "text": [
      "Train: 1.0000| Val: 0.7560| Test: 0.7910| Eval Time: 0.1440s\n",
      "Epoch 28| Loss: 0.0101| Acc: 1.0000| Train Time: 0.0260s\n"
     ]
    },
    {
     "output_type": "stream",
     "name": "stderr",
     "text": [
      "Evaluating: 100%|██████████| 5416/5416 [00:00<00:00, 41066.58it/s]\n"
     ]
    },
    {
     "output_type": "stream",
     "name": "stdout",
     "text": [
      "Train: 1.0000| Val: 0.7580| Test: 0.7910| Eval Time: 0.1379s\n",
      "Epoch 29| Loss: 0.0103| Acc: 1.0000| Train Time: 0.0220s\n"
     ]
    },
    {
     "output_type": "stream",
     "name": "stderr",
     "text": [
      "Evaluating: 100%|██████████| 5416/5416 [00:00<00:00, 38809.94it/s]"
     ]
    },
    {
     "output_type": "stream",
     "name": "stdout",
     "text": [
      "Train: 1.0000| Val: 0.7600| Test: 0.7950| Eval Time: 0.1466s\n",
      "Epoch 30| Loss: 0.0083| Acc: 1.0000| Train Time: 0.0240s\n"
     ]
    },
    {
     "output_type": "stream",
     "name": "stderr",
     "text": [
      "\n",
      "Evaluating: 100%|██████████| 5416/5416 [00:00<00:00, 33432.16it/s]"
     ]
    },
    {
     "output_type": "stream",
     "name": "stdout",
     "text": [
      "Train: 1.0000| Val: 0.7580| Test: 0.7920| Eval Time: 0.1680s\n",
      "Epoch 31| Loss: 0.0064| Acc: 1.0000| Train Time: 0.0240s\n"
     ]
    },
    {
     "output_type": "stream",
     "name": "stderr",
     "text": [
      "\n",
      "Evaluating: 100%|██████████| 5416/5416 [00:00<00:00, 36956.32it/s]\n"
     ]
    },
    {
     "output_type": "stream",
     "name": "stdout",
     "text": [
      "Train: 1.0000| Val: 0.7560| Test: 0.7890| Eval Time: 0.1526s\n",
      "Epoch 32| Loss: 0.0037| Acc: 1.0000| Train Time: 0.0265s\n"
     ]
    },
    {
     "output_type": "stream",
     "name": "stderr",
     "text": [
      "Evaluating: 100%|██████████| 5416/5416 [00:00<00:00, 33850.08it/s]\n"
     ]
    },
    {
     "output_type": "stream",
     "name": "stdout",
     "text": [
      "Train: 1.0000| Val: 0.7540| Test: 0.7880| Eval Time: 0.1660s\n",
      "Epoch 33| Loss: 0.0062| Acc: 1.0000| Train Time: 0.0280s\n"
     ]
    },
    {
     "output_type": "stream",
     "name": "stderr",
     "text": [
      "Evaluating: 100%|██████████| 5416/5416 [00:00<00:00, 30948.66it/s]\n"
     ]
    },
    {
     "output_type": "stream",
     "name": "stdout",
     "text": [
      "Train: 1.0000| Val: 0.7540| Test: 0.7880| Eval Time: 0.1810s\n",
      "Epoch 34| Loss: 0.0132| Acc: 1.0000| Train Time: 0.0250s\n"
     ]
    },
    {
     "output_type": "stream",
     "name": "stderr",
     "text": [
      "Evaluating: 100%|██████████| 5416/5416 [00:00<00:00, 36595.12it/s]\n"
     ]
    },
    {
     "output_type": "stream",
     "name": "stdout",
     "text": [
      "Train: 1.0000| Val: 0.7520| Test: 0.7850| Eval Time: 0.1520s\n",
      "Epoch 35| Loss: 0.0062| Acc: 1.0000| Train Time: 0.0230s\n"
     ]
    },
    {
     "output_type": "stream",
     "name": "stderr",
     "text": [
      "Evaluating: 100%|██████████| 5416/5416 [00:00<00:00, 36844.12it/s]\n"
     ]
    },
    {
     "output_type": "stream",
     "name": "stdout",
     "text": [
      "Train: 1.0000| Val: 0.7480| Test: 0.7860| Eval Time: 0.1530s\n",
      "Epoch 36| Loss: 0.0099| Acc: 1.0000| Train Time: 0.0210s\n"
     ]
    },
    {
     "output_type": "stream",
     "name": "stderr",
     "text": [
      "Evaluating: 100%|██████████| 5416/5416 [00:00<00:00, 38410.69it/s]"
     ]
    },
    {
     "output_type": "stream",
     "name": "stdout",
     "text": [
      "Train: 1.0000| Val: 0.7480| Test: 0.7870| Eval Time: 0.1470s\n",
      "Epoch 37| Loss: 0.0165| Acc: 1.0000| Train Time: 0.0230s\n"
     ]
    },
    {
     "output_type": "stream",
     "name": "stderr",
     "text": [
      "\n",
      "Evaluating: 100%|██████████| 5416/5416 [00:00<00:00, 28505.36it/s]\n"
     ]
    },
    {
     "output_type": "stream",
     "name": "stdout",
     "text": [
      "Train: 1.0000| Val: 0.7480| Test: 0.7850| Eval Time: 0.1960s\n",
      "Epoch 38| Loss: 0.0031| Acc: 1.0000| Train Time: 0.0290s\n"
     ]
    },
    {
     "output_type": "stream",
     "name": "stderr",
     "text": [
      "Evaluating: 100%|██████████| 5416/5416 [00:00<00:00, 31488.73it/s]\n"
     ]
    },
    {
     "output_type": "stream",
     "name": "stdout",
     "text": [
      "Train: 1.0000| Val: 0.7480| Test: 0.7870| Eval Time: 0.1810s\n",
      "Epoch 39| Loss: 0.0042| Acc: 1.0000| Train Time: 0.0220s\n"
     ]
    },
    {
     "output_type": "stream",
     "name": "stderr",
     "text": [
      "Evaluating: 100%|██████████| 5416/5416 [00:00<00:00, 33639.35it/s]\n"
     ]
    },
    {
     "output_type": "stream",
     "name": "stdout",
     "text": [
      "Train: 1.0000| Val: 0.7500| Test: 0.7860| Eval Time: 0.1650s\n",
      "Epoch 40| Loss: 0.0056| Acc: 1.0000| Train Time: 0.0230s\n"
     ]
    },
    {
     "output_type": "stream",
     "name": "stderr",
     "text": [
      "Evaluating: 100%|██████████| 5416/5416 [00:00<00:00, 39171.73it/s]\n"
     ]
    },
    {
     "output_type": "stream",
     "name": "stdout",
     "text": [
      "Train: 1.0000| Val: 0.7500| Test: 0.7850| Eval Time: 0.1423s\n",
      "Epoch 41| Loss: 0.0099| Acc: 1.0000| Train Time: 0.0230s\n"
     ]
    },
    {
     "output_type": "stream",
     "name": "stderr",
     "text": [
      "Evaluating: 100%|██████████| 5416/5416 [00:00<00:00, 40118.31it/s]\n"
     ]
    },
    {
     "output_type": "stream",
     "name": "stdout",
     "text": [
      "Train: 1.0000| Val: 0.7500| Test: 0.7830| Eval Time: 0.1400s\n",
      "Epoch 42| Loss: 0.0024| Acc: 1.0000| Train Time: 0.0214s\n"
     ]
    },
    {
     "output_type": "stream",
     "name": "stderr",
     "text": [
      "Evaluating: 100%|██████████| 5416/5416 [00:00<00:00, 36349.18it/s]\n"
     ]
    },
    {
     "output_type": "stream",
     "name": "stdout",
     "text": [
      "Train: 1.0000| Val: 0.7520| Test: 0.7840| Eval Time: 0.1540s\n",
      "Epoch 43| Loss: 0.0043| Acc: 1.0000| Train Time: 0.0260s\n"
     ]
    },
    {
     "output_type": "stream",
     "name": "stderr",
     "text": [
      "Evaluating: 100%|██████████| 5416/5416 [00:00<00:00, 39533.92it/s]\n"
     ]
    },
    {
     "output_type": "stream",
     "name": "stdout",
     "text": [
      "Train: 1.0000| Val: 0.7540| Test: 0.7870| Eval Time: 0.1420s\n",
      "Epoch 44| Loss: 0.0133| Acc: 1.0000| Train Time: 0.0240s\n"
     ]
    },
    {
     "output_type": "stream",
     "name": "stderr",
     "text": [
      "Evaluating: 100%|██████████| 5416/5416 [00:00<00:00, 38141.18it/s]\n"
     ]
    },
    {
     "output_type": "stream",
     "name": "stdout",
     "text": [
      "Train: 1.0000| Val: 0.7560| Test: 0.7870| Eval Time: 0.1470s\n",
      "Epoch 45| Loss: 0.0023| Acc: 1.0000| Train Time: 0.0250s\n"
     ]
    },
    {
     "output_type": "stream",
     "name": "stderr",
     "text": [
      "Evaluating: 100%|██████████| 5416/5416 [00:00<00:00, 38957.83it/s]"
     ]
    },
    {
     "output_type": "stream",
     "name": "stdout",
     "text": [
      "Train: 1.0000| Val: 0.7540| Test: 0.7870| Eval Time: 0.1450s\n",
      "Epoch 46| Loss: 0.0028| Acc: 1.0000| Train Time: 0.0220s\n"
     ]
    },
    {
     "output_type": "stream",
     "name": "stderr",
     "text": [
      "\n",
      "Evaluating: 100%|██████████| 5416/5416 [00:00<00:00, 35509.94it/s]\n"
     ]
    },
    {
     "output_type": "stream",
     "name": "stdout",
     "text": [
      "Train: 1.0000| Val: 0.7580| Test: 0.7870| Eval Time: 0.1585s\n",
      "Epoch 47| Loss: 0.0034| Acc: 1.0000| Train Time: 0.0220s\n"
     ]
    },
    {
     "output_type": "stream",
     "name": "stderr",
     "text": [
      "Evaluating: 100%|██████████| 5416/5416 [00:00<00:00, 39532.68it/s]"
     ]
    },
    {
     "output_type": "stream",
     "name": "stdout",
     "text": [
      "Train: 1.0000| Val: 0.7580| Test: 0.7910| Eval Time: 0.1430s\n",
      "Epoch 48| Loss: 0.0021| Acc: 1.0000| Train Time: 0.0240s\n"
     ]
    },
    {
     "output_type": "stream",
     "name": "stderr",
     "text": [
      "\n",
      "Evaluating: 100%|██████████| 5416/5416 [00:00<00:00, 41332.14it/s]"
     ]
    },
    {
     "output_type": "stream",
     "name": "stdout",
     "text": [
      "Train: 1.0000| Val: 0.7580| Test: 0.7900| Eval Time: 0.1350s\n",
      "Epoch 49| Loss: 0.0012| Acc: 1.0000| Train Time: 0.0250s\n"
     ]
    },
    {
     "output_type": "stream",
     "name": "stderr",
     "text": [
      "\n",
      "Evaluating: 100%|██████████| 5416/5416 [00:00<00:00, 34942.32it/s]\n"
     ]
    },
    {
     "output_type": "stream",
     "name": "stdout",
     "text": [
      "Train: 1.0000| Val: 0.7580| Test: 0.7900| Eval Time: 0.1600s\n",
      "Epoch 50| Loss: 0.0054| Acc: 1.0000| Train Time: 0.0320s\n"
     ]
    },
    {
     "output_type": "stream",
     "name": "stderr",
     "text": [
      "Evaluating: 100%|██████████| 5416/5416 [00:00<00:00, 34061.17it/s]\n"
     ]
    },
    {
     "output_type": "stream",
     "name": "stdout",
     "text": [
      "Train: 1.0000| Val: 0.7540| Test: 0.7900| Eval Time: 0.1670s\n",
      "Epoch 51| Loss: 0.0046| Acc: 1.0000| Train Time: 0.0370s\n"
     ]
    },
    {
     "output_type": "stream",
     "name": "stderr",
     "text": [
      "Evaluating: 100%|██████████| 5416/5416 [00:00<00:00, 25599.15it/s]\n"
     ]
    },
    {
     "output_type": "stream",
     "name": "stdout",
     "text": [
      "Train: 1.0000| Val: 0.7540| Test: 0.7900| Eval Time: 0.2166s\n",
      "Epoch 52| Loss: 0.0025| Acc: 1.0000| Train Time: 0.0250s\n"
     ]
    },
    {
     "output_type": "stream",
     "name": "stderr",
     "text": [
      "Evaluating: 100%|██████████| 5416/5416 [00:00<00:00, 35638.69it/s]\n"
     ]
    },
    {
     "output_type": "stream",
     "name": "stdout",
     "text": [
      "Train: 1.0000| Val: 0.7560| Test: 0.7910| Eval Time: 0.1577s\n",
      "Epoch 53| Loss: 0.0045| Acc: 1.0000| Train Time: 0.0288s\n"
     ]
    },
    {
     "output_type": "stream",
     "name": "stderr",
     "text": [
      "Evaluating: 100%|██████████| 5416/5416 [00:00<00:00, 36594.24it/s]"
     ]
    },
    {
     "output_type": "stream",
     "name": "stdout",
     "text": [
      "Train: 1.0000| Val: 0.7540| Test: 0.7930| Eval Time: 0.1530s\n",
      "Epoch 54| Loss: 0.0012| Acc: 1.0000| Train Time: 0.0250s\n"
     ]
    },
    {
     "output_type": "stream",
     "name": "stderr",
     "text": [
      "\n",
      "Evaluating: 100%|██████████| 5416/5416 [00:00<00:00, 38410.95it/s]\n"
     ]
    },
    {
     "output_type": "stream",
     "name": "stdout",
     "text": [
      "Train: 1.0000| Val: 0.7560| Test: 0.7920| Eval Time: 0.1470s\n",
      "Epoch 55| Loss: 0.0017| Acc: 1.0000| Train Time: 0.0240s\n"
     ]
    },
    {
     "output_type": "stream",
     "name": "stderr",
     "text": [
      "Evaluating: 100%|██████████| 5416/5416 [00:00<00:00, 36322.22it/s]\n"
     ]
    },
    {
     "output_type": "stream",
     "name": "stdout",
     "text": [
      "Train: 1.0000| Val: 0.7560| Test: 0.7930| Eval Time: 0.1541s\n",
      "Epoch 56| Loss: 0.0042| Acc: 1.0000| Train Time: 0.0240s\n"
     ]
    },
    {
     "output_type": "stream",
     "name": "stderr",
     "text": [
      "Evaluating: 100%|██████████| 5416/5416 [00:00<00:00, 36594.83it/s]\n"
     ]
    },
    {
     "output_type": "stream",
     "name": "stdout",
     "text": [
      "Train: 1.0000| Val: 0.7580| Test: 0.7930| Eval Time: 0.1530s\n",
      "Epoch 57| Loss: 0.0025| Acc: 1.0000| Train Time: 0.0230s\n"
     ]
    },
    {
     "output_type": "stream",
     "name": "stderr",
     "text": [
      "Evaluating: 100%|██████████| 5416/5416 [00:00<00:00, 35168.28it/s]\n"
     ]
    },
    {
     "output_type": "stream",
     "name": "stdout",
     "text": [
      "Train: 1.0000| Val: 0.7580| Test: 0.7960| Eval Time: 0.1590s\n",
      "Epoch 58| Loss: 0.0032| Acc: 1.0000| Train Time: 0.0260s\n"
     ]
    },
    {
     "output_type": "stream",
     "name": "stderr",
     "text": [
      "Evaluating: 100%|██████████| 5416/5416 [00:00<00:00, 39532.34it/s]\n"
     ]
    },
    {
     "output_type": "stream",
     "name": "stdout",
     "text": [
      "Train: 1.0000| Val: 0.7580| Test: 0.7970| Eval Time: 0.1430s\n",
      "Epoch 59| Loss: 0.0067| Acc: 1.0000| Train Time: 0.0240s\n"
     ]
    },
    {
     "output_type": "stream",
     "name": "stderr",
     "text": [
      "Evaluating: 100%|██████████| 5416/5416 [00:00<00:00, 37351.42it/s]\n"
     ]
    },
    {
     "output_type": "stream",
     "name": "stdout",
     "text": [
      "Train: 1.0000| Val: 0.7600| Test: 0.7970| Eval Time: 0.1510s\n",
      "\n",
      "Result of  1. run| Train: 0.9857| Val: 0.7800| Test: 0.8090\n",
      "\n",
      "Run 02:\n"
     ]
    },
    {
     "output_type": "stream",
     "name": "stderr",
     "text": [
      "Epoch 01: 100%|██████████| 140/140 [00:00<00:00, 4999.94it/s]\n"
     ]
    },
    {
     "output_type": "stream",
     "name": "stdout",
     "text": [
      "Epoch 01| Loss: 1.9675| Acc: 0.1286| Train Time: 0.0330s\n"
     ]
    },
    {
     "output_type": "stream",
     "name": "stderr",
     "text": [
      "Evaluating: 100%|██████████| 5416/5416 [00:00<00:00, 34942.53it/s]\n"
     ]
    },
    {
     "output_type": "stream",
     "name": "stdout",
     "text": [
      "Train: 0.8429| Val: 0.6260| Test: 0.6400| Eval Time: 0.1610s\n",
      "Epoch 02| Loss: 1.5531| Acc: 0.7357| Train Time: 0.0240s\n"
     ]
    },
    {
     "output_type": "stream",
     "name": "stderr",
     "text": [
      "Evaluating: 100%|██████████| 5416/5416 [00:00<00:00, 37723.58it/s]"
     ]
    },
    {
     "output_type": "stream",
     "name": "stdout",
     "text": [
      "Train: 0.9714| Val: 0.7100| Test: 0.7520| Eval Time: 0.1506s\n",
      "Epoch 03| Loss: 1.2134| Acc: 0.9071| Train Time: 0.0260s\n"
     ]
    },
    {
     "output_type": "stream",
     "name": "stderr",
     "text": [
      "\n",
      "Evaluating: 100%|██████████| 5416/5416 [00:00<00:00, 36844.36it/s]\n"
     ]
    },
    {
     "output_type": "stream",
     "name": "stdout",
     "text": [
      "Train: 0.9929| Val: 0.7320| Test: 0.7770| Eval Time: 0.1540s\n",
      "Epoch 04| Loss: 0.8693| Acc: 0.9429| Train Time: 0.0230s\n"
     ]
    },
    {
     "output_type": "stream",
     "name": "stderr",
     "text": [
      "Evaluating: 100%|██████████| 5416/5416 [00:00<00:00, 37354.31it/s]\n"
     ]
    },
    {
     "output_type": "stream",
     "name": "stdout",
     "text": [
      "Train: 0.9929| Val: 0.7400| Test: 0.7810| Eval Time: 0.1530s\n",
      "Epoch 05| Loss: 0.6873| Acc: 0.9714| Train Time: 0.0220s\n"
     ]
    },
    {
     "output_type": "stream",
     "name": "stderr",
     "text": [
      "Evaluating: 100%|██████████| 5416/5416 [00:00<00:00, 37216.92it/s]"
     ]
    },
    {
     "output_type": "stream",
     "name": "stdout",
     "text": [
      "Train: 1.0000| Val: 0.7520| Test: 0.7830| Eval Time: 0.1524s\n",
      "Epoch 06| Loss: 0.5254| Acc: 0.9929| Train Time: 0.0240s\n"
     ]
    },
    {
     "output_type": "stream",
     "name": "stderr",
     "text": [
      "\n",
      "Evaluating: 100%|██████████| 5416/5416 [00:00<00:00, 32824.58it/s]\n"
     ]
    },
    {
     "output_type": "stream",
     "name": "stdout",
     "text": [
      "Train: 1.0000| Val: 0.7540| Test: 0.7860| Eval Time: 0.1710s\n",
      "Epoch 07| Loss: 0.4536| Acc: 0.9929| Train Time: 0.0230s\n"
     ]
    },
    {
     "output_type": "stream",
     "name": "stderr",
     "text": [
      "Evaluating: 100%|██████████| 5416/5416 [00:00<00:00, 35397.84it/s]\n"
     ]
    },
    {
     "output_type": "stream",
     "name": "stdout",
     "text": [
      "Train: 1.0000| Val: 0.7580| Test: 0.7810| Eval Time: 0.1590s\n",
      "Epoch 08| Loss: 0.4264| Acc: 0.9786| Train Time: 0.0280s\n"
     ]
    },
    {
     "output_type": "stream",
     "name": "stderr",
     "text": [
      "Evaluating: 100%|██████████| 5416/5416 [00:00<00:00, 37611.16it/s]"
     ]
    },
    {
     "output_type": "stream",
     "name": "stdout",
     "text": [
      "Train: 1.0000| Val: 0.7600| Test: 0.7830| Eval Time: 0.1500s\n"
     ]
    },
    {
     "output_type": "stream",
     "name": "stderr",
     "text": [
      "\n"
     ]
    },
    {
     "output_type": "stream",
     "name": "stdout",
     "text": [
      "Epoch 09| Loss: 0.2695| Acc: 0.9857| Train Time: 0.0240s\n"
     ]
    },
    {
     "output_type": "stream",
     "name": "stderr",
     "text": [
      "Evaluating: 100%|██████████| 5416/5416 [00:00<00:00, 37096.10it/s]\n"
     ]
    },
    {
     "output_type": "stream",
     "name": "stdout",
     "text": [
      "Train: 1.0000| Val: 0.7580| Test: 0.7830| Eval Time: 0.1510s\n",
      "Epoch 10| Loss: 0.1882| Acc: 0.9929| Train Time: 0.0240s\n"
     ]
    },
    {
     "output_type": "stream",
     "name": "stderr",
     "text": [
      "Evaluating: 100%|██████████| 5416/5416 [00:00<00:00, 34062.86it/s]\n"
     ]
    },
    {
     "output_type": "stream",
     "name": "stdout",
     "text": [
      "Train: 1.0000| Val: 0.7560| Test: 0.7840| Eval Time: 0.1640s\n",
      "Epoch 11| Loss: 0.1696| Acc: 1.0000| Train Time: 0.0250s\n"
     ]
    },
    {
     "output_type": "stream",
     "name": "stderr",
     "text": [
      "Evaluating: 100%|██████████| 5416/5416 [00:00<00:00, 33952.69it/s]\n"
     ]
    },
    {
     "output_type": "stream",
     "name": "stdout",
     "text": [
      "Train: 1.0000| Val: 0.7540| Test: 0.7800| Eval Time: 0.1655s\n",
      "Epoch 12| Loss: 0.1369| Acc: 0.9929| Train Time: 0.0300s\n"
     ]
    },
    {
     "output_type": "stream",
     "name": "stderr",
     "text": [
      "Evaluating: 100%|██████████| 5416/5416 [00:00<00:00, 36843.88it/s]\n"
     ]
    },
    {
     "output_type": "stream",
     "name": "stdout",
     "text": [
      "Train: 1.0000| Val: 0.7580| Test: 0.7820| Eval Time: 0.1550s\n",
      "Epoch 13| Loss: 0.1024| Acc: 1.0000| Train Time: 0.0230s\n"
     ]
    },
    {
     "output_type": "stream",
     "name": "stderr",
     "text": [
      "Evaluating: 100%|██████████| 5416/5416 [00:00<00:00, 36349.13it/s]"
     ]
    },
    {
     "output_type": "stream",
     "name": "stdout",
     "text": [
      "Train: 1.0000| Val: 0.7500| Test: 0.7850| Eval Time: 0.1550s\n"
     ]
    },
    {
     "output_type": "stream",
     "name": "stderr",
     "text": [
      "\n"
     ]
    },
    {
     "output_type": "stream",
     "name": "stdout",
     "text": [
      "Epoch 14| Loss: 0.0684| Acc: 1.0000| Train Time: 0.0250s\n"
     ]
    },
    {
     "output_type": "stream",
     "name": "stderr",
     "text": [
      "Evaluating: 100%|██████████| 5416/5416 [00:00<00:00, 37409.92it/s]\n"
     ]
    },
    {
     "output_type": "stream",
     "name": "stdout",
     "text": [
      "Train: 1.0000| Val: 0.7520| Test: 0.7880| Eval Time: 0.1508s\n",
      "Epoch 15| Loss: 0.1089| Acc: 0.9929| Train Time: 0.0230s\n"
     ]
    },
    {
     "output_type": "stream",
     "name": "stderr",
     "text": [
      "Evaluating: 100%|██████████| 5416/5416 [00:00<00:00, 38140.98it/s]\n"
     ]
    },
    {
     "output_type": "stream",
     "name": "stdout",
     "text": [
      "Train: 1.0000| Val: 0.7480| Test: 0.7870| Eval Time: 0.1480s\n",
      "Epoch 16| Loss: 0.0940| Acc: 0.9929| Train Time: 0.0246s\n"
     ]
    },
    {
     "output_type": "stream",
     "name": "stderr",
     "text": [
      "Evaluating: 100%|██████████| 5416/5416 [00:00<00:00, 38965.05it/s]\n"
     ]
    },
    {
     "output_type": "stream",
     "name": "stdout",
     "text": [
      "Train: 1.0000| Val: 0.7500| Test: 0.7850| Eval Time: 0.1445s\n",
      "Epoch 17| Loss: 0.0581| Acc: 1.0000| Train Time: 0.0200s\n"
     ]
    },
    {
     "output_type": "stream",
     "name": "stderr",
     "text": [
      "Evaluating: 100%|██████████| 5416/5416 [00:00<00:00, 42644.92it/s]\n"
     ]
    },
    {
     "output_type": "stream",
     "name": "stdout",
     "text": [
      "Train: 1.0000| Val: 0.7460| Test: 0.7850| Eval Time: 0.1320s\n",
      "Epoch 18| Loss: 0.0467| Acc: 1.0000| Train Time: 0.0250s\n"
     ]
    },
    {
     "output_type": "stream",
     "name": "stderr",
     "text": [
      "Evaluating: 100%|██████████| 5416/5416 [00:00<00:00, 31673.75it/s]\n"
     ]
    },
    {
     "output_type": "stream",
     "name": "stdout",
     "text": [
      "Train: 1.0000| Val: 0.7440| Test: 0.7850| Eval Time: 0.1770s\n",
      "Epoch 19| Loss: 0.0401| Acc: 1.0000| Train Time: 0.0240s\n"
     ]
    },
    {
     "output_type": "stream",
     "name": "stderr",
     "text": [
      "Evaluating: 100%|██████████| 5416/5416 [00:00<00:00, 41788.03it/s]\n"
     ]
    },
    {
     "output_type": "stream",
     "name": "stdout",
     "text": [
      "Train: 1.0000| Val: 0.7460| Test: 0.7850| Eval Time: 0.1356s\n",
      "Epoch 20| Loss: 0.0244| Acc: 1.0000| Train Time: 0.0200s\n"
     ]
    },
    {
     "output_type": "stream",
     "name": "stderr",
     "text": [
      "Evaluating: 100%|██████████| 5416/5416 [00:00<00:00, 38453.41it/s]\n"
     ]
    },
    {
     "output_type": "stream",
     "name": "stdout",
     "text": [
      "Train: 1.0000| Val: 0.7500| Test: 0.7830| Eval Time: 0.1458s\n",
      "Epoch 21| Loss: 0.0370| Acc: 1.0000| Train Time: 0.0220s\n"
     ]
    },
    {
     "output_type": "stream",
     "name": "stderr",
     "text": [
      "Evaluating: 100%|██████████| 5416/5416 [00:00<00:00, 38462.59it/s]\n"
     ]
    },
    {
     "output_type": "stream",
     "name": "stdout",
     "text": [
      "Train: 1.0000| Val: 0.7500| Test: 0.7840| Eval Time: 0.1458s\n",
      "Epoch 22| Loss: 0.0264| Acc: 1.0000| Train Time: 0.0220s\n"
     ]
    },
    {
     "output_type": "stream",
     "name": "stderr",
     "text": [
      "Evaluating: 100%|██████████| 5416/5416 [00:00<00:00, 38650.60it/s]\n"
     ]
    },
    {
     "output_type": "stream",
     "name": "stdout",
     "text": [
      "Train: 1.0000| Val: 0.7500| Test: 0.7850| Eval Time: 0.1451s\n",
      "Epoch 23| Loss: 0.0235| Acc: 1.0000| Train Time: 0.0230s\n"
     ]
    },
    {
     "output_type": "stream",
     "name": "stderr",
     "text": [
      "Evaluating: 100%|██████████| 5416/5416 [00:00<00:00, 39533.58it/s]\n"
     ]
    },
    {
     "output_type": "stream",
     "name": "stdout",
     "text": [
      "Train: 1.0000| Val: 0.7540| Test: 0.7870| Eval Time: 0.1430s\n",
      "Epoch 24| Loss: 0.0196| Acc: 1.0000| Train Time: 0.0200s\n"
     ]
    },
    {
     "output_type": "stream",
     "name": "stderr",
     "text": [
      "Evaluating: 100%|██████████| 5416/5416 [00:00<00:00, 39825.02it/s]\n"
     ]
    },
    {
     "output_type": "stream",
     "name": "stdout",
     "text": [
      "Train: 1.0000| Val: 0.7520| Test: 0.7860| Eval Time: 0.1420s\n",
      "Epoch 25| Loss: 0.0166| Acc: 1.0000| Train Time: 0.0230s\n"
     ]
    },
    {
     "output_type": "stream",
     "name": "stderr",
     "text": [
      "Evaluating: 100%|██████████| 5416/5416 [00:00<00:00, 41030.31it/s]\n"
     ]
    },
    {
     "output_type": "stream",
     "name": "stdout",
     "text": [
      "Train: 1.0000| Val: 0.7500| Test: 0.7880| Eval Time: 0.1380s\n",
      "Epoch 26| Loss: 0.0182| Acc: 1.0000| Train Time: 0.0200s\n"
     ]
    },
    {
     "output_type": "stream",
     "name": "stderr",
     "text": [
      "Evaluating: 100%|██████████| 5416/5416 [00:00<00:00, 33639.95it/s]\n"
     ]
    },
    {
     "output_type": "stream",
     "name": "stdout",
     "text": [
      "Train: 1.0000| Val: 0.7540| Test: 0.7890| Eval Time: 0.1680s\n",
      "Epoch 27| Loss: 0.0118| Acc: 1.0000| Train Time: 0.0260s\n"
     ]
    },
    {
     "output_type": "stream",
     "name": "stderr",
     "text": [
      "Evaluating: 100%|██████████| 5416/5416 [00:00<00:00, 37552.03it/s]\n"
     ]
    },
    {
     "output_type": "stream",
     "name": "stdout",
     "text": [
      "Train: 1.0000| Val: 0.7540| Test: 0.7840| Eval Time: 0.1504s\n",
      "Epoch 28| Loss: 0.0047| Acc: 1.0000| Train Time: 0.0230s\n"
     ]
    },
    {
     "output_type": "stream",
     "name": "stderr",
     "text": [
      "Evaluating: 100%|██████████| 5416/5416 [00:00<00:00, 33024.72it/s]\n"
     ]
    },
    {
     "output_type": "stream",
     "name": "stdout",
     "text": [
      "Train: 1.0000| Val: 0.7540| Test: 0.7840| Eval Time: 0.1700s\n",
      "Epoch 29| Loss: 0.0085| Acc: 1.0000| Train Time: 0.0250s\n"
     ]
    },
    {
     "output_type": "stream",
     "name": "stderr",
     "text": [
      "Evaluating: 100%|██████████| 5416/5416 [00:00<00:00, 39823.20it/s]\n"
     ]
    },
    {
     "output_type": "stream",
     "name": "stdout",
     "text": [
      "Train: 1.0000| Val: 0.7540| Test: 0.7850| Eval Time: 0.1420s\n",
      "Epoch 30| Loss: 0.0111| Acc: 1.0000| Train Time: 0.0210s\n"
     ]
    },
    {
     "output_type": "stream",
     "name": "stderr",
     "text": [
      "Evaluating: 100%|██████████| 5416/5416 [00:00<00:00, 32431.36it/s]\n"
     ]
    },
    {
     "output_type": "stream",
     "name": "stdout",
     "text": [
      "Train: 1.0000| Val: 0.7520| Test: 0.7850| Eval Time: 0.1720s\n",
      "Epoch 31| Loss: 0.0093| Acc: 1.0000| Train Time: 0.0240s\n"
     ]
    },
    {
     "output_type": "stream",
     "name": "stderr",
     "text": [
      "Evaluating: 100%|██████████| 5416/5416 [00:00<00:00, 31306.99it/s]\n"
     ]
    },
    {
     "output_type": "stream",
     "name": "stdout",
     "text": [
      "Train: 1.0000| Val: 0.7520| Test: 0.7840| Eval Time: 0.1800s\n",
      "Epoch 32| Loss: 0.0048| Acc: 1.0000| Train Time: 0.0240s\n"
     ]
    },
    {
     "output_type": "stream",
     "name": "stderr",
     "text": [
      "Evaluating: 100%|██████████| 5416/5416 [00:00<00:00, 32431.45it/s]\n"
     ]
    },
    {
     "output_type": "stream",
     "name": "stdout",
     "text": [
      "Train: 1.0000| Val: 0.7500| Test: 0.7840| Eval Time: 0.1730s\n",
      "Epoch 33| Loss: 0.0021| Acc: 1.0000| Train Time: 0.0260s\n"
     ]
    },
    {
     "output_type": "stream",
     "name": "stderr",
     "text": [
      "Evaluating: 100%|██████████| 5416/5416 [00:00<00:00, 36349.30it/s]\n"
     ]
    },
    {
     "output_type": "stream",
     "name": "stdout",
     "text": [
      "Train: 1.0000| Val: 0.7460| Test: 0.7840| Eval Time: 0.1550s\n",
      "Epoch 34| Loss: 0.0062| Acc: 1.0000| Train Time: 0.0250s\n"
     ]
    },
    {
     "output_type": "stream",
     "name": "stderr",
     "text": [
      "Evaluating: 100%|██████████| 5416/5416 [00:00<00:00, 37737.18it/s]\n"
     ]
    },
    {
     "output_type": "stream",
     "name": "stdout",
     "text": [
      "Train: 1.0000| Val: 0.7460| Test: 0.7840| Eval Time: 0.1485s\n",
      "Epoch 35| Loss: 0.0060| Acc: 1.0000| Train Time: 0.0230s\n"
     ]
    },
    {
     "output_type": "stream",
     "name": "stderr",
     "text": [
      "Evaluating: 100%|██████████| 5416/5416 [00:00<00:00, 25074.09it/s]\n"
     ]
    },
    {
     "output_type": "stream",
     "name": "stdout",
     "text": [
      "Train: 1.0000| Val: 0.7460| Test: 0.7840| Eval Time: 0.2210s\n",
      "Epoch 36| Loss: 0.0030| Acc: 1.0000| Train Time: 0.0270s\n"
     ]
    },
    {
     "output_type": "stream",
     "name": "stderr",
     "text": [
      "Evaluating: 100%|██████████| 5416/5416 [00:00<00:00, 36843.82it/s]\n"
     ]
    },
    {
     "output_type": "stream",
     "name": "stdout",
     "text": [
      "Train: 1.0000| Val: 0.7460| Test: 0.7830| Eval Time: 0.1540s\n",
      "Epoch 37| Loss: 0.0051| Acc: 1.0000| Train Time: 0.0210s\n"
     ]
    },
    {
     "output_type": "stream",
     "name": "stderr",
     "text": [
      "Evaluating: 100%|██████████| 5416/5416 [00:00<00:00, 38686.21it/s]\n"
     ]
    },
    {
     "output_type": "stream",
     "name": "stdout",
     "text": [
      "Train: 1.0000| Val: 0.7440| Test: 0.7820| Eval Time: 0.1460s\n",
      "Epoch 38| Loss: 0.0022| Acc: 1.0000| Train Time: 0.0250s\n"
     ]
    },
    {
     "output_type": "stream",
     "name": "stderr",
     "text": [
      "Evaluating: 100%|██████████| 5416/5416 [00:00<00:00, 32598.86it/s]\n"
     ]
    },
    {
     "output_type": "stream",
     "name": "stdout",
     "text": [
      "Train: 1.0000| Val: 0.7440| Test: 0.7820| Eval Time: 0.1711s\n",
      "Epoch 39| Loss: 0.0025| Acc: 1.0000| Train Time: 0.0290s\n"
     ]
    },
    {
     "output_type": "stream",
     "name": "stderr",
     "text": [
      "Evaluating: 100%|██████████| 5416/5416 [00:00<00:00, 34942.10it/s]\n"
     ]
    },
    {
     "output_type": "stream",
     "name": "stdout",
     "text": [
      "Train: 1.0000| Val: 0.7440| Test: 0.7830| Eval Time: 0.1600s\n",
      "Epoch 40| Loss: 0.0018| Acc: 1.0000| Train Time: 0.0210s\n"
     ]
    },
    {
     "output_type": "stream",
     "name": "stderr",
     "text": [
      "Evaluating: 100%|██████████| 5416/5416 [00:00<00:00, 35929.89it/s]\n"
     ]
    },
    {
     "output_type": "stream",
     "name": "stdout",
     "text": [
      "Train: 1.0000| Val: 0.7440| Test: 0.7840| Eval Time: 0.1557s\n",
      "Epoch 41| Loss: 0.0028| Acc: 1.0000| Train Time: 0.0340s\n"
     ]
    },
    {
     "output_type": "stream",
     "name": "stderr",
     "text": [
      "Evaluating: 100%|██████████| 5416/5416 [00:00<00:00, 38141.62it/s]\n"
     ]
    },
    {
     "output_type": "stream",
     "name": "stdout",
     "text": [
      "Train: 1.0000| Val: 0.7440| Test: 0.7830| Eval Time: 0.1500s\n",
      "Epoch 42| Loss: 0.0043| Acc: 1.0000| Train Time: 0.0210s\n"
     ]
    },
    {
     "output_type": "stream",
     "name": "stderr",
     "text": [
      "Evaluating: 100%|██████████| 5416/5416 [00:00<00:00, 32081.80it/s]\n"
     ]
    },
    {
     "output_type": "stream",
     "name": "stdout",
     "text": [
      "Train: 1.0000| Val: 0.7440| Test: 0.7810| Eval Time: 0.1748s\n",
      "Epoch 43| Loss: 0.0026| Acc: 1.0000| Train Time: 0.0220s\n"
     ]
    },
    {
     "output_type": "stream",
     "name": "stderr",
     "text": [
      "Evaluating: 100%|██████████| 5416/5416 [00:00<00:00, 29588.44it/s]\n"
     ]
    },
    {
     "output_type": "stream",
     "name": "stdout",
     "text": [
      "Train: 1.0000| Val: 0.7440| Test: 0.7810| Eval Time: 0.1900s\n",
      "Epoch 44| Loss: 0.0087| Acc: 1.0000| Train Time: 0.0260s\n"
     ]
    },
    {
     "output_type": "stream",
     "name": "stderr",
     "text": [
      "Evaluating: 100%|██████████| 5416/5416 [00:00<00:00, 35399.55it/s]\n"
     ]
    },
    {
     "output_type": "stream",
     "name": "stdout",
     "text": [
      "Train: 1.0000| Val: 0.7420| Test: 0.7780| Eval Time: 0.1600s\n",
      "Epoch 45| Loss: 0.0066| Acc: 1.0000| Train Time: 0.0330s\n"
     ]
    },
    {
     "output_type": "stream",
     "name": "stderr",
     "text": [
      "Evaluating: 100%|██████████| 5416/5416 [00:00<00:00, 33024.67it/s]\n"
     ]
    },
    {
     "output_type": "stream",
     "name": "stdout",
     "text": [
      "Train: 1.0000| Val: 0.7440| Test: 0.7780| Eval Time: 0.1720s\n",
      "Epoch 46| Loss: 0.0099| Acc: 1.0000| Train Time: 0.0230s\n"
     ]
    },
    {
     "output_type": "stream",
     "name": "stderr",
     "text": [
      "Evaluating: 100%|██████████| 5416/5416 [00:00<00:00, 33026.45it/s]\n"
     ]
    },
    {
     "output_type": "stream",
     "name": "stdout",
     "text": [
      "Train: 1.0000| Val: 0.7420| Test: 0.7800| Eval Time: 0.1700s\n",
      "Epoch 47| Loss: 0.0189| Acc: 1.0000| Train Time: 0.0250s\n"
     ]
    },
    {
     "output_type": "stream",
     "name": "stderr",
     "text": [
      "Evaluating: 100%|██████████| 5416/5416 [00:00<00:00, 38249.20it/s]\n"
     ]
    },
    {
     "output_type": "stream",
     "name": "stdout",
     "text": [
      "Train: 1.0000| Val: 0.7440| Test: 0.7800| Eval Time: 0.1456s\n",
      "Epoch 48| Loss: 0.0045| Acc: 1.0000| Train Time: 0.0230s\n"
     ]
    },
    {
     "output_type": "stream",
     "name": "stderr",
     "text": [
      "Evaluating: 100%|██████████| 5416/5416 [00:00<00:00, 38410.43it/s]\n"
     ]
    },
    {
     "output_type": "stream",
     "name": "stdout",
     "text": [
      "Train: 1.0000| Val: 0.7440| Test: 0.7810| Eval Time: 0.1470s\n",
      "Epoch 49| Loss: 0.0020| Acc: 1.0000| Train Time: 0.0263s\n"
     ]
    },
    {
     "output_type": "stream",
     "name": "stderr",
     "text": [
      "Evaluating: 100%|██████████| 5416/5416 [00:00<00:00, 32626.67it/s]\n"
     ]
    },
    {
     "output_type": "stream",
     "name": "stdout",
     "text": [
      "Train: 1.0000| Val: 0.7440| Test: 0.7820| Eval Time: 0.1700s\n",
      "Epoch 50| Loss: 0.0036| Acc: 1.0000| Train Time: 0.0260s\n"
     ]
    },
    {
     "output_type": "stream",
     "name": "stderr",
     "text": [
      "Evaluating: 100%|██████████| 5416/5416 [00:00<00:00, 34487.48it/s]\n"
     ]
    },
    {
     "output_type": "stream",
     "name": "stdout",
     "text": [
      "Train: 1.0000| Val: 0.7440| Test: 0.7810| Eval Time: 0.1640s\n",
      "Epoch 51| Loss: 0.0107| Acc: 1.0000| Train Time: 0.0320s\n"
     ]
    },
    {
     "output_type": "stream",
     "name": "stderr",
     "text": [
      "Evaluating: 100%|██████████| 5416/5416 [00:00<00:00, 23650.52it/s]\n"
     ]
    },
    {
     "output_type": "stream",
     "name": "stdout",
     "text": [
      "Train: 1.0000| Val: 0.7440| Test: 0.7800| Eval Time: 0.2360s\n",
      "Epoch 52| Loss: 0.0033| Acc: 1.0000| Train Time: 0.0250s\n"
     ]
    },
    {
     "output_type": "stream",
     "name": "stderr",
     "text": [
      "Evaluating: 100%|██████████| 5416/5416 [00:00<00:00, 31859.03it/s]\n"
     ]
    },
    {
     "output_type": "stream",
     "name": "stdout",
     "text": [
      "Train: 1.0000| Val: 0.7440| Test: 0.7800| Eval Time: 0.1760s\n",
      "Epoch 53| Loss: 0.0017| Acc: 1.0000| Train Time: 0.0381s\n"
     ]
    },
    {
     "output_type": "stream",
     "name": "stderr",
     "text": [
      "Evaluating: 100%|██████████| 5416/5416 [00:00<00:00, 28208.63it/s]\n"
     ]
    },
    {
     "output_type": "stream",
     "name": "stdout",
     "text": [
      "Train: 1.0000| Val: 0.7440| Test: 0.7780| Eval Time: 0.2010s\n",
      "Epoch 54| Loss: 0.0039| Acc: 1.0000| Train Time: 0.0310s\n"
     ]
    },
    {
     "output_type": "stream",
     "name": "stderr",
     "text": [
      "Evaluating:  55%|█████▍    | 2964/5416 [00:00<00:00, 27962.66it/s]"
     ]
    }
   ],
   "metadata": {}
  }
 ],
 "metadata": {
  "orig_nbformat": 4,
  "kernelspec": {
   "name": "python3",
   "display_name": "Python 3.8.10 64-bit ('PSN': conda)"
  },
  "interpreter": {
   "hash": "b8be38cac5e07419459cc1d2fe0e04c6cbe36991c6a4efd3c9a636608bfd9cde"
  },
  "language_info": {
   "name": "python",
   "version": "3.8.10",
   "mimetype": "text/x-python",
   "codemirror_mode": {
    "name": "ipython",
    "version": 3
   },
   "pygments_lexer": "ipython3",
   "nbconvert_exporter": "python",
   "file_extension": ".py"
  }
 },
 "nbformat": 4,
 "nbformat_minor": 2
}