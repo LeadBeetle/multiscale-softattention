{
 "cells": [
  {
   "cell_type": "code",
   "execution_count": 1,
   "source": [
    "from utils.constants import *\r\n",
    "from utils.experimentorUtils import * "
   ],
   "outputs": [],
   "metadata": {}
  },
  {
   "cell_type": "code",
   "execution_count": 2,
   "source": [
    "models   = [ModelType.GATV1]\r\n",
    "datasets = [Dataset.CORA]\r\n",
    "degrees  = [1]\r\n",
    "num_layers = [2,3,4]\r\n",
    "sparse = [True]\r\n",
    "\r\n",
    "runExperiments(models, datasets, degrees, sparse, num_layers)"
   ],
   "outputs": [
    {
     "output_type": "stream",
     "name": "stdout",
     "text": [
      "Run 01 for GatV1_K1_s and PubMed:\n"
     ]
    },
    {
     "output_type": "stream",
     "name": "stderr",
     "text": [
      "Epoch 01: 100%|██████████| 60/60 [00:01<00:00, 46.13it/s]\n"
     ]
    },
    {
     "output_type": "stream",
     "name": "stdout",
     "text": [
      "Epoch 01| Loss: 1.1118| Acc: 0.2667| Train Time: 1.3046s\n"
     ]
    },
    {
     "output_type": "stream",
     "name": "stderr",
     "text": [
      "Evaluating: 100%|██████████| 59151/59151 [00:07<00:00, 7631.85it/s] \n"
     ]
    },
    {
     "output_type": "stream",
     "name": "stdout",
     "text": [
      "Train: 0.6500| Val: 0.4860| Test: 0.4500| Eval Time: 7.7586s\n",
      "Epoch 02| Loss: 1.0625| Acc: 0.5500| Train Time: 0.7970s\n"
     ]
    },
    {
     "output_type": "stream",
     "name": "stderr",
     "text": [
      "Evaluating: 100%|██████████| 59151/59151 [00:01<00:00, 44009.59it/s]\n"
     ]
    },
    {
     "output_type": "stream",
     "name": "stdout",
     "text": [
      "Train: 0.7500| Val: 0.4440| Test: 0.4160| Eval Time: 1.3511s\n",
      "Epoch 03| Loss: 1.0178| Acc: 0.6000| Train Time: 0.7900s\n"
     ]
    },
    {
     "output_type": "stream",
     "name": "stderr",
     "text": [
      "Evaluating: 100%|██████████| 59151/59151 [00:01<00:00, 43398.28it/s]\n"
     ]
    },
    {
     "output_type": "stream",
     "name": "stdout",
     "text": [
      "Train: 0.9333| Val: 0.7120| Test: 0.7090| Eval Time: 1.3690s\n",
      "Epoch 04| Loss: 0.9930| Acc: 0.7167| Train Time: 0.0680s\n"
     ]
    },
    {
     "output_type": "stream",
     "name": "stderr",
     "text": [
      "Evaluating: 100%|██████████| 59151/59151 [00:01<00:00, 44273.01it/s]\n"
     ]
    },
    {
     "output_type": "stream",
     "name": "stdout",
     "text": [
      "Train: 0.9333| Val: 0.7380| Test: 0.7400| Eval Time: 1.3421s\n",
      "Epoch 05| Loss: 0.9315| Acc: 0.8333| Train Time: 0.0620s\n"
     ]
    },
    {
     "output_type": "stream",
     "name": "stderr",
     "text": [
      "Evaluating: 100%|██████████| 59151/59151 [00:01<00:00, 45375.62it/s]\n"
     ]
    },
    {
     "output_type": "stream",
     "name": "stdout",
     "text": [
      "Train: 0.9333| Val: 0.7520| Test: 0.7370| Eval Time: 1.3086s\n",
      "Epoch 06| Loss: 0.8995| Acc: 0.8167| Train Time: 0.0630s\n"
     ]
    },
    {
     "output_type": "stream",
     "name": "stderr",
     "text": [
      "Evaluating: 100%|██████████| 59151/59151 [00:01<00:00, 44206.13it/s]\n"
     ]
    },
    {
     "output_type": "stream",
     "name": "stdout",
     "text": [
      "Train: 0.9500| Val: 0.7400| Test: 0.7370| Eval Time: 1.3451s\n",
      "Epoch 07| Loss: 0.8087| Acc: 0.8667| Train Time: 0.0630s\n"
     ]
    },
    {
     "output_type": "stream",
     "name": "stderr",
     "text": [
      "Evaluating: 100%|██████████| 59151/59151 [00:01<00:00, 46046.71it/s]\n"
     ]
    },
    {
     "output_type": "stream",
     "name": "stdout",
     "text": [
      "Train: 0.9500| Val: 0.7440| Test: 0.7320| Eval Time: 1.2906s\n",
      "Epoch 08| Loss: 0.7395| Acc: 0.8833| Train Time: 0.0640s\n"
     ]
    },
    {
     "output_type": "stream",
     "name": "stderr",
     "text": [
      "Evaluating: 100%|██████████| 59151/59151 [00:01<00:00, 43781.80it/s]\n"
     ]
    },
    {
     "output_type": "stream",
     "name": "stdout",
     "text": [
      "Train: 0.9500| Val: 0.7400| Test: 0.7310| Eval Time: 1.3570s\n",
      "Epoch 09| Loss: 0.6478| Acc: 0.8833| Train Time: 0.0610s\n"
     ]
    },
    {
     "output_type": "stream",
     "name": "stderr",
     "text": [
      "Evaluating: 100%|██████████| 59151/59151 [00:01<00:00, 43294.07it/s]\n"
     ]
    },
    {
     "output_type": "stream",
     "name": "stdout",
     "text": [
      "Train: 0.9500| Val: 0.7400| Test: 0.7280| Eval Time: 1.3723s\n",
      "Epoch 10| Loss: 0.5187| Acc: 0.9500| Train Time: 0.0630s\n"
     ]
    },
    {
     "output_type": "stream",
     "name": "stderr",
     "text": [
      "Evaluating: 100%|██████████| 59151/59151 [00:01<00:00, 44456.84it/s]\n"
     ]
    },
    {
     "output_type": "stream",
     "name": "stdout",
     "text": [
      "Train: 0.9667| Val: 0.7400| Test: 0.7300| Eval Time: 1.3375s\n",
      "Epoch 11| Loss: 0.4422| Acc: 0.9500| Train Time: 0.0670s\n"
     ]
    },
    {
     "output_type": "stream",
     "name": "stderr",
     "text": [
      "Evaluating: 100%|██████████| 59151/59151 [00:01<00:00, 45426.73it/s]\n"
     ]
    },
    {
     "output_type": "stream",
     "name": "stdout",
     "text": [
      "Train: 0.9667| Val: 0.7420| Test: 0.7290| Eval Time: 1.3081s\n",
      "Epoch 12| Loss: 0.3673| Acc: 0.9667| Train Time: 0.0620s\n"
     ]
    },
    {
     "output_type": "stream",
     "name": "stderr",
     "text": [
      "Evaluating: 100%|██████████| 59151/59151 [00:01<00:00, 44858.36it/s]\n"
     ]
    },
    {
     "output_type": "stream",
     "name": "stdout",
     "text": [
      "Train: 0.9667| Val: 0.7500| Test: 0.7300| Eval Time: 1.3256s\n",
      "Epoch 13| Loss: 0.3250| Acc: 0.9500| Train Time: 0.0620s\n"
     ]
    },
    {
     "output_type": "stream",
     "name": "stderr",
     "text": [
      "Evaluating: 100%|██████████| 59151/59151 [00:01<00:00, 47207.46it/s]\n"
     ]
    },
    {
     "output_type": "stream",
     "name": "stdout",
     "text": [
      "Train: 0.9667| Val: 0.7500| Test: 0.7410| Eval Time: 1.2590s\n",
      "Epoch 14| Loss: 0.2768| Acc: 0.9333| Train Time: 0.0630s\n"
     ]
    },
    {
     "output_type": "stream",
     "name": "stderr",
     "text": [
      "Evaluating: 100%|██████████| 59151/59151 [00:01<00:00, 44589.77it/s]\n"
     ]
    },
    {
     "output_type": "stream",
     "name": "stdout",
     "text": [
      "Train: 0.9667| Val: 0.7520| Test: 0.7420| Eval Time: 1.3346s\n",
      "Epoch 15| Loss: 0.1944| Acc: 0.9667| Train Time: 0.0610s\n"
     ]
    },
    {
     "output_type": "stream",
     "name": "stderr",
     "text": [
      "Evaluating: 100%|██████████| 59151/59151 [00:01<00:00, 43978.41it/s]\n"
     ]
    },
    {
     "output_type": "stream",
     "name": "stdout",
     "text": [
      "Train: 0.9667| Val: 0.7580| Test: 0.7450| Eval Time: 1.3520s\n",
      "Epoch 16| Loss: 0.1535| Acc: 0.9667| Train Time: 0.0640s\n"
     ]
    },
    {
     "output_type": "stream",
     "name": "stderr",
     "text": [
      "Evaluating: 100%|██████████| 59151/59151 [00:01<00:00, 42055.08it/s]\n"
     ]
    },
    {
     "output_type": "stream",
     "name": "stdout",
     "text": [
      "Train: 0.9833| Val: 0.7600| Test: 0.7480| Eval Time: 1.4145s\n",
      "Epoch 17| Loss: 0.1097| Acc: 1.0000| Train Time: 0.0690s\n"
     ]
    },
    {
     "output_type": "stream",
     "name": "stderr",
     "text": [
      "Evaluating: 100%|██████████| 59151/59151 [00:01<00:00, 39802.87it/s]\n"
     ]
    },
    {
     "output_type": "stream",
     "name": "stdout",
     "text": [
      "Train: 1.0000| Val: 0.7560| Test: 0.7540| Eval Time: 1.4931s\n",
      "Epoch 18| Loss: 0.0751| Acc: 1.0000| Train Time: 0.0630s\n"
     ]
    },
    {
     "output_type": "stream",
     "name": "stderr",
     "text": [
      "Evaluating: 100%|██████████| 59151/59151 [00:01<00:00, 40497.47it/s]\n"
     ]
    },
    {
     "output_type": "stream",
     "name": "stdout",
     "text": [
      "Train: 1.0000| Val: 0.7540| Test: 0.7570| Eval Time: 1.4676s\n",
      "Epoch 19| Loss: 0.0624| Acc: 1.0000| Train Time: 0.0650s\n"
     ]
    },
    {
     "output_type": "stream",
     "name": "stderr",
     "text": [
      "Evaluating: 100%|██████████| 59151/59151 [00:01<00:00, 35066.36it/s]\n"
     ]
    },
    {
     "output_type": "stream",
     "name": "stdout",
     "text": [
      "Train: 1.0000| Val: 0.7500| Test: 0.7550| Eval Time: 1.6979s\n",
      "Epoch 20| Loss: 0.0475| Acc: 1.0000| Train Time: 0.0780s\n"
     ]
    },
    {
     "output_type": "stream",
     "name": "stderr",
     "text": [
      "Evaluating: 100%|██████████| 59151/59151 [00:01<00:00, 48106.88it/s]\n"
     ]
    },
    {
     "output_type": "stream",
     "name": "stdout",
     "text": [
      "Train: 1.0000| Val: 0.7460| Test: 0.7530| Eval Time: 1.2356s\n",
      "Epoch 21| Loss: 0.0382| Acc: 1.0000| Train Time: 0.0610s\n"
     ]
    },
    {
     "output_type": "stream",
     "name": "stderr",
     "text": [
      "Evaluating: 100%|██████████| 59151/59151 [00:01<00:00, 46980.41it/s]\n"
     ]
    },
    {
     "output_type": "stream",
     "name": "stdout",
     "text": [
      "Train: 1.0000| Val: 0.7500| Test: 0.7530| Eval Time: 1.2651s\n",
      "Epoch 22| Loss: 0.0275| Acc: 1.0000| Train Time: 0.0620s\n"
     ]
    },
    {
     "output_type": "stream",
     "name": "stderr",
     "text": [
      "Evaluating: 100%|██████████| 59151/59151 [00:01<00:00, 40292.52it/s]\n"
     ]
    },
    {
     "output_type": "stream",
     "name": "stdout",
     "text": [
      "Train: 1.0000| Val: 0.7600| Test: 0.7580| Eval Time: 1.4760s\n",
      "Epoch 23| Loss: 0.0325| Acc: 1.0000| Train Time: 0.0690s\n"
     ]
    },
    {
     "output_type": "stream",
     "name": "stderr",
     "text": [
      "Evaluating: 100%|██████████| 59151/59151 [00:01<00:00, 36442.77it/s]\n"
     ]
    },
    {
     "output_type": "stream",
     "name": "stdout",
     "text": [
      "Train: 1.0000| Val: 0.7700| Test: 0.7590| Eval Time: 1.6291s\n",
      "Epoch 24| Loss: 0.0147| Acc: 1.0000| Train Time: 0.0650s\n"
     ]
    },
    {
     "output_type": "stream",
     "name": "stderr",
     "text": [
      "Evaluating: 100%|██████████| 59151/59151 [00:01<00:00, 45394.76it/s]\n"
     ]
    },
    {
     "output_type": "stream",
     "name": "stdout",
     "text": [
      "Train: 1.0000| Val: 0.7660| Test: 0.7580| Eval Time: 1.3110s\n",
      "Epoch 25| Loss: 0.0146| Acc: 1.0000| Train Time: 0.0630s\n"
     ]
    },
    {
     "output_type": "stream",
     "name": "stderr",
     "text": [
      "Evaluating: 100%|██████████| 59151/59151 [00:01<00:00, 43001.67it/s]\n"
     ]
    },
    {
     "output_type": "stream",
     "name": "stdout",
     "text": [
      "Train: 1.0000| Val: 0.7680| Test: 0.7570| Eval Time: 1.3816s\n",
      "Epoch 26| Loss: 0.0059| Acc: 1.0000| Train Time: 0.0640s\n"
     ]
    },
    {
     "output_type": "stream",
     "name": "stderr",
     "text": [
      "Evaluating: 100%|██████████| 59151/59151 [00:01<00:00, 38383.21it/s]\n"
     ]
    },
    {
     "output_type": "stream",
     "name": "stdout",
     "text": [
      "Train: 1.0000| Val: 0.7720| Test: 0.7620| Eval Time: 1.5471s\n",
      "Epoch 27| Loss: 0.0074| Acc: 1.0000| Train Time: 0.0640s\n"
     ]
    },
    {
     "output_type": "stream",
     "name": "stderr",
     "text": [
      "Evaluating: 100%|██████████| 59151/59151 [00:01<00:00, 43093.50it/s]\n"
     ]
    },
    {
     "output_type": "stream",
     "name": "stdout",
     "text": [
      "Train: 1.0000| Val: 0.7740| Test: 0.7610| Eval Time: 1.3786s\n",
      "Epoch 28| Loss: 0.0048| Acc: 1.0000| Train Time: 0.0630s\n"
     ]
    },
    {
     "output_type": "stream",
     "name": "stderr",
     "text": [
      "Evaluating: 100%|██████████| 59151/59151 [00:01<00:00, 39734.50it/s]\n"
     ]
    },
    {
     "output_type": "stream",
     "name": "stdout",
     "text": [
      "Train: 1.0000| Val: 0.7780| Test: 0.7610| Eval Time: 1.4967s\n",
      "Epoch 29| Loss: 0.0028| Acc: 1.0000| Train Time: 0.0780s\n"
     ]
    },
    {
     "output_type": "stream",
     "name": "stderr",
     "text": [
      "Evaluating: 100%|██████████| 59151/59151 [00:01<00:00, 31121.51it/s]\n"
     ]
    },
    {
     "output_type": "stream",
     "name": "stdout",
     "text": [
      "Train: 1.0000| Val: 0.7820| Test: 0.7620| Eval Time: 1.9107s\n",
      "Epoch 30| Loss: 0.0035| Acc: 1.0000| Train Time: 0.0740s\n"
     ]
    },
    {
     "output_type": "stream",
     "name": "stderr",
     "text": [
      "Evaluating: 100%|██████████| 59151/59151 [00:01<00:00, 30735.49it/s]"
     ]
    }
   ],
   "metadata": {}
  }
 ],
 "metadata": {
  "orig_nbformat": 4,
  "kernelspec": {
   "name": "python3",
   "display_name": "Python 3.8.10 64-bit ('PSN': conda)"
  },
  "interpreter": {
   "hash": "b8be38cac5e07419459cc1d2fe0e04c6cbe36991c6a4efd3c9a636608bfd9cde"
  },
  "language_info": {
   "name": "python",
   "version": "3.8.10",
   "mimetype": "text/x-python",
   "codemirror_mode": {
    "name": "ipython",
    "version": 3
   },
   "pygments_lexer": "ipython3",
   "nbconvert_exporter": "python",
   "file_extension": ".py"
  }
 },
 "nbformat": 4,
 "nbformat_minor": 2
}