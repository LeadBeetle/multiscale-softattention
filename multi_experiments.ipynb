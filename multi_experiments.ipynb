{
 "cells": [
  {
   "cell_type": "code",
   "execution_count": 1,
   "source": [
    "from utils.constants import *\r\n",
    "from utils.experimentorUtils import * "
   ],
   "outputs": [],
   "metadata": {}
  },
  {
   "cell_type": "code",
   "execution_count": 2,
   "source": [
    "models   = [ModelType.GATV1, ModelType.GATV2, ModelType.TRANS]\r\n",
    "datasets = [Dataset.CITESEER, Dataset.PUBMED, Dataset.CORA]\r\n",
    "degrees  = [1, 2, 3, 4, 5, 6]\r\n",
    "sparse = [True]\r\n",
    "\r\n",
    "runExperiments(models, datasets, degrees, sparse)"
   ],
   "outputs": [
    {
     "output_type": "stream",
     "name": "stdout",
     "text": [
      "Run 01 for GatV1_K10_s and CiteSeer:\n"
     ]
    },
    {
     "output_type": "stream",
     "name": "stderr",
     "text": [
      "Epoch 01: 100%|██████████| 120/120 [00:00<00:00, 155.44it/s]\n"
     ]
    },
    {
     "output_type": "stream",
     "name": "stdout",
     "text": [
      "Epoch 01| Loss: 2.6169| Acc: 0.1667| Train Time: 0.7750s\n"
     ]
    },
    {
     "output_type": "stream",
     "name": "stderr",
     "text": [
      "Evaluating: 100%|██████████| 6654/6654 [00:04<00:00, 1401.48it/s]\n"
     ]
    },
    {
     "output_type": "stream",
     "name": "stdout",
     "text": [
      "Train: 0.6667| Val: 0.5060| Test: 0.5110| Eval Time: 4.7518s\n",
      "Epoch 02| Loss: 1.5899| Acc: 0.6083| Train Time: 0.7240s\n"
     ]
    },
    {
     "output_type": "stream",
     "name": "stderr",
     "text": [
      "Evaluating: 100%|██████████| 6654/6654 [00:00<00:00, 10784.46it/s]\n"
     ]
    },
    {
     "output_type": "stream",
     "name": "stdout",
     "text": [
      "Train: 0.8000| Val: 0.6140| Test: 0.5890| Eval Time: 0.6220s\n",
      "Epoch 03| Loss: 0.9520| Acc: 0.7583| Train Time: 0.7777s\n"
     ]
    },
    {
     "output_type": "stream",
     "name": "stderr",
     "text": [
      "Evaluating: 100%|██████████| 6654/6654 [00:00<00:00, 9931.38it/s]\n"
     ]
    },
    {
     "output_type": "stream",
     "name": "stdout",
     "text": [
      "Train: 0.8667| Val: 0.6340| Test: 0.6020| Eval Time: 0.6770s\n",
      "Epoch 04| Loss: 0.8559| Acc: 0.8167| Train Time: 0.0850s\n"
     ]
    },
    {
     "output_type": "stream",
     "name": "stderr",
     "text": [
      "Evaluating: 100%|██████████| 6654/6654 [00:00<00:00, 9102.25it/s]\n"
     ]
    },
    {
     "output_type": "stream",
     "name": "stdout",
     "text": [
      "Train: 0.9417| Val: 0.6280| Test: 0.6050| Eval Time: 0.7370s\n",
      "Epoch 05| Loss: 0.6264| Acc: 0.8500| Train Time: 0.0880s\n"
     ]
    },
    {
     "output_type": "stream",
     "name": "stderr",
     "text": [
      "Evaluating: 100%|██████████| 6654/6654 [00:00<00:00, 9505.29it/s]\n"
     ]
    },
    {
     "output_type": "stream",
     "name": "stdout",
     "text": [
      "Train: 0.9417| Val: 0.6180| Test: 0.5880| Eval Time: 0.7050s\n",
      "Epoch 06| Loss: 0.3654| Acc: 0.9167| Train Time: 0.0750s\n"
     ]
    },
    {
     "output_type": "stream",
     "name": "stderr",
     "text": [
      "Evaluating: 100%|██████████| 6654/6654 [00:00<00:00, 10413.15it/s]\n"
     ]
    },
    {
     "output_type": "stream",
     "name": "stdout",
     "text": [
      "Train: 0.9583| Val: 0.6100| Test: 0.5920| Eval Time: 0.6440s\n",
      "Epoch 07| Loss: 0.3945| Acc: 0.9000| Train Time: 0.0790s\n"
     ]
    },
    {
     "output_type": "stream",
     "name": "stderr",
     "text": [
      "Evaluating: 100%|██████████| 6654/6654 [00:00<00:00, 9828.67it/s]\n"
     ]
    },
    {
     "output_type": "stream",
     "name": "stdout",
     "text": [
      "Train: 0.9500| Val: 0.6320| Test: 0.6010| Eval Time: 0.6820s\n",
      "Epoch 08| Loss: 0.5358| Acc: 0.9000| Train Time: 0.0860s\n"
     ]
    },
    {
     "output_type": "stream",
     "name": "stderr",
     "text": [
      "Evaluating: 100%|██████████| 6654/6654 [00:00<00:00, 10158.79it/s]\n"
     ]
    },
    {
     "output_type": "stream",
     "name": "stdout",
     "text": [
      "Train: 0.9583| Val: 0.6440| Test: 0.6040| Eval Time: 0.6610s\n",
      "Epoch 09| Loss: 0.3007| Acc: 0.9583| Train Time: 0.0770s\n"
     ]
    },
    {
     "output_type": "stream",
     "name": "stderr",
     "text": [
      "Evaluating: 100%|██████████| 6654/6654 [00:00<00:00, 10066.14it/s]\n"
     ]
    },
    {
     "output_type": "stream",
     "name": "stdout",
     "text": [
      "Train: 0.9417| Val: 0.6480| Test: 0.6150| Eval Time: 0.6660s\n",
      "Epoch 10| Loss: 0.2796| Acc: 0.9333| Train Time: 0.0810s\n"
     ]
    },
    {
     "output_type": "stream",
     "name": "stderr",
     "text": [
      "Evaluating: 100%|██████████| 6654/6654 [00:00<00:00, 9828.67it/s]\n"
     ]
    },
    {
     "output_type": "stream",
     "name": "stdout",
     "text": [
      "Train: 0.9417| Val: 0.6480| Test: 0.6230| Eval Time: 0.6820s\n",
      "Epoch 11| Loss: 0.2232| Acc: 0.9667| Train Time: 0.0786s\n"
     ]
    },
    {
     "output_type": "stream",
     "name": "stderr",
     "text": [
      "Evaluating: 100%|██████████| 6654/6654 [00:00<00:00, 9976.06it/s]\n"
     ]
    },
    {
     "output_type": "stream",
     "name": "stdout",
     "text": [
      "Train: 0.9333| Val: 0.6500| Test: 0.6280| Eval Time: 0.6720s\n",
      "Epoch 12| Loss: 0.2446| Acc: 0.9417| Train Time: 0.0770s\n"
     ]
    },
    {
     "output_type": "stream",
     "name": "stderr",
     "text": [
      "Evaluating: 100%|██████████| 6654/6654 [00:00<00:00, 9946.22it/s]\n"
     ]
    },
    {
     "output_type": "stream",
     "name": "stdout",
     "text": [
      "Train: 0.9500| Val: 0.6620| Test: 0.6310| Eval Time: 0.6740s\n",
      "Epoch 13| Loss: 0.2683| Acc: 0.9417| Train Time: 0.0790s\n"
     ]
    },
    {
     "output_type": "stream",
     "name": "stderr",
     "text": [
      "Evaluating: 100%|██████████| 6654/6654 [00:00<00:00, 9842.70it/s]\n"
     ]
    },
    {
     "output_type": "stream",
     "name": "stdout",
     "text": [
      "Train: 0.9500| Val: 0.6600| Test: 0.6380| Eval Time: 0.6810s\n",
      "Epoch 14| Loss: 0.2258| Acc: 0.9750| Train Time: 0.0760s\n"
     ]
    },
    {
     "output_type": "stream",
     "name": "stderr",
     "text": [
      "Evaluating: 100%|██████████| 6654/6654 [00:00<00:00, 9887.06it/s]\n"
     ]
    },
    {
     "output_type": "stream",
     "name": "stdout",
     "text": [
      "Train: 0.9500| Val: 0.6560| Test: 0.6350| Eval Time: 0.6770s\n",
      "Epoch 15| Loss: 0.3627| Acc: 0.9500| Train Time: 0.0800s\n"
     ]
    },
    {
     "output_type": "stream",
     "name": "stderr",
     "text": [
      "Evaluating: 100%|██████████| 6654/6654 [00:00<00:00, 9713.87it/s]\n"
     ]
    },
    {
     "output_type": "stream",
     "name": "stdout",
     "text": [
      "Train: 0.9500| Val: 0.6580| Test: 0.6340| Eval Time: 0.6900s\n",
      "Epoch 16| Loss: 0.1245| Acc: 0.9583| Train Time: 0.0790s\n"
     ]
    },
    {
     "output_type": "stream",
     "name": "stderr",
     "text": [
      "Evaluating: 100%|██████████| 6654/6654 [00:00<00:00, 9937.97it/s]\n"
     ]
    },
    {
     "output_type": "stream",
     "name": "stdout",
     "text": [
      "Train: 0.9667| Val: 0.6580| Test: 0.6400| Eval Time: 0.6746s\n",
      "Epoch 17| Loss: 0.2370| Acc: 0.9667| Train Time: 0.0850s\n"
     ]
    },
    {
     "output_type": "stream",
     "name": "stderr",
     "text": [
      "Evaluating: 100%|██████████| 6654/6654 [00:00<00:00, 9886.03it/s]\n"
     ]
    },
    {
     "output_type": "stream",
     "name": "stdout",
     "text": [
      "Train: 0.9667| Val: 0.6660| Test: 0.6410| Eval Time: 0.6791s\n",
      "Epoch 18| Loss: 0.1358| Acc: 0.9750| Train Time: 0.0770s\n"
     ]
    },
    {
     "output_type": "stream",
     "name": "stderr",
     "text": [
      "Evaluating: 100%|██████████| 6654/6654 [00:00<00:00, 9916.13it/s]\n"
     ]
    },
    {
     "output_type": "stream",
     "name": "stdout",
     "text": [
      "Train: 0.9667| Val: 0.6680| Test: 0.6440| Eval Time: 0.6760s\n",
      "Epoch 19| Loss: 0.0859| Acc: 0.9667| Train Time: 0.0840s\n"
     ]
    },
    {
     "output_type": "stream",
     "name": "stderr",
     "text": [
      "Evaluating: 100%|██████████| 6654/6654 [00:00<00:00, 9785.35it/s]\n"
     ]
    },
    {
     "output_type": "stream",
     "name": "stdout",
     "text": [
      "Train: 0.9667| Val: 0.6720| Test: 0.6450| Eval Time: 0.6840s\n",
      "Epoch 20| Loss: 0.0765| Acc: 0.9917| Train Time: 0.0780s\n"
     ]
    },
    {
     "output_type": "stream",
     "name": "stderr",
     "text": [
      "Evaluating: 100%|██████████| 6654/6654 [00:00<00:00, 9975.52it/s] \n"
     ]
    },
    {
     "output_type": "stream",
     "name": "stdout",
     "text": [
      "Train: 0.9667| Val: 0.6720| Test: 0.6450| Eval Time: 0.6720s\n",
      "Epoch 21| Loss: 0.0749| Acc: 0.9917| Train Time: 0.0730s\n"
     ]
    },
    {
     "output_type": "stream",
     "name": "stderr",
     "text": [
      "Evaluating: 100%|██████████| 6654/6654 [00:00<00:00, 10081.85it/s]\n"
     ]
    },
    {
     "output_type": "stream",
     "name": "stdout",
     "text": [
      "Train: 0.9500| Val: 0.6700| Test: 0.6470| Eval Time: 0.6660s\n",
      "Epoch 22| Loss: 0.1002| Acc: 0.9833| Train Time: 0.0835s\n"
     ]
    },
    {
     "output_type": "stream",
     "name": "stderr",
     "text": [
      "Evaluating: 100%|██████████| 6654/6654 [00:00<00:00, 9946.24it/s]\n"
     ]
    },
    {
     "output_type": "stream",
     "name": "stdout",
     "text": [
      "Train: 0.9583| Val: 0.6760| Test: 0.6420| Eval Time: 0.6750s\n",
      "Epoch 23| Loss: 0.0502| Acc: 0.9917| Train Time: 0.0770s\n"
     ]
    },
    {
     "output_type": "stream",
     "name": "stderr",
     "text": [
      "Evaluating: 100%|██████████| 6654/6654 [00:00<00:00, 9741.61it/s]\n"
     ]
    },
    {
     "output_type": "stream",
     "name": "stdout",
     "text": [
      "Train: 0.9667| Val: 0.6760| Test: 0.6370| Eval Time: 0.6870s\n",
      "Epoch 24| Loss: 0.0443| Acc: 0.9917| Train Time: 0.0750s\n"
     ]
    },
    {
     "output_type": "stream",
     "name": "stderr",
     "text": [
      "Evaluating: 100%|██████████| 6654/6654 [00:00<00:00, 9961.07it/s]\n"
     ]
    },
    {
     "output_type": "stream",
     "name": "stdout",
     "text": [
      "Train: 0.9667| Val: 0.6740| Test: 0.6350| Eval Time: 0.6740s\n",
      "Epoch 25| Loss: 0.1483| Acc: 0.9583| Train Time: 0.0770s\n"
     ]
    },
    {
     "output_type": "stream",
     "name": "stderr",
     "text": [
      "Evaluating: 100%|██████████| 6654/6654 [00:00<00:00, 9886.49it/s] \n"
     ]
    },
    {
     "output_type": "stream",
     "name": "stdout",
     "text": [
      "Train: 0.9667| Val: 0.6680| Test: 0.6340| Eval Time: 0.6790s\n",
      "Epoch 26| Loss: 0.0904| Acc: 0.9833| Train Time: 0.0920s\n"
     ]
    },
    {
     "output_type": "stream",
     "name": "stderr",
     "text": [
      "Evaluating: 100%|██████████| 6654/6654 [00:00<00:00, 10051.41it/s]\n"
     ]
    },
    {
     "output_type": "stream",
     "name": "stdout",
     "text": [
      "Train: 0.9667| Val: 0.6600| Test: 0.6300| Eval Time: 0.6680s\n",
      "Epoch 27| Loss: 0.1086| Acc: 0.9667| Train Time: 0.0770s\n"
     ]
    },
    {
     "output_type": "stream",
     "name": "stderr",
     "text": [
      "Evaluating: 100%|██████████| 6654/6654 [00:00<00:00, 9871.18it/s]\n"
     ]
    },
    {
     "output_type": "stream",
     "name": "stdout",
     "text": [
      "Train: 0.9583| Val: 0.6600| Test: 0.6260| Eval Time: 0.6791s\n",
      "Epoch 28| Loss: 0.1757| Acc: 0.9833| Train Time: 0.0800s\n"
     ]
    },
    {
     "output_type": "stream",
     "name": "stderr",
     "text": [
      "Evaluating: 100%|██████████| 6654/6654 [00:00<00:00, 9843.23it/s]\n"
     ]
    },
    {
     "output_type": "stream",
     "name": "stdout",
     "text": [
      "Train: 0.9583| Val: 0.6560| Test: 0.6180| Eval Time: 0.6820s\n",
      "Epoch 29| Loss: 0.0291| Acc: 0.9917| Train Time: 0.0890s\n"
     ]
    },
    {
     "output_type": "stream",
     "name": "stderr",
     "text": [
      "Evaluating: 100%|██████████| 6654/6654 [00:00<00:00, 9518.78it/s]\n"
     ]
    },
    {
     "output_type": "stream",
     "name": "stdout",
     "text": [
      "Train: 0.9667| Val: 0.6560| Test: 0.6120| Eval Time: 0.7060s\n",
      "Epoch 30| Loss: 0.0288| Acc: 1.0000| Train Time: 0.0820s\n"
     ]
    },
    {
     "output_type": "stream",
     "name": "stderr",
     "text": [
      "Evaluating: 100%|██████████| 6654/6654 [00:00<00:00, 9615.63it/s]\n"
     ]
    },
    {
     "output_type": "stream",
     "name": "stdout",
     "text": [
      "Train: 0.9667| Val: 0.6520| Test: 0.6050| Eval Time: 0.6970s\n",
      "Epoch 31| Loss: 0.0539| Acc: 0.9833| Train Time: 0.0790s\n"
     ]
    },
    {
     "output_type": "stream",
     "name": "stderr",
     "text": [
      "Evaluating: 100%|██████████| 6654/6654 [00:00<00:00, 9728.07it/s]\n"
     ]
    },
    {
     "output_type": "stream",
     "name": "stdout",
     "text": [
      "Train: 0.9667| Val: 0.6440| Test: 0.6020| Eval Time: 0.6890s\n",
      "Epoch 32| Loss: 0.0718| Acc: 0.9917| Train Time: 0.0780s\n"
     ]
    },
    {
     "output_type": "stream",
     "name": "stderr",
     "text": [
      "Evaluating: 100%|██████████| 6654/6654 [00:00<00:00, 8973.45it/s]\n"
     ]
    },
    {
     "output_type": "stream",
     "name": "stdout",
     "text": [
      "Train: 0.9750| Val: 0.6400| Test: 0.6000| Eval Time: 0.7485s\n",
      "Epoch 33| Loss: 0.3453| Acc: 0.9833| Train Time: 0.0840s\n"
     ]
    },
    {
     "output_type": "stream",
     "name": "stderr",
     "text": [
      "Evaluating: 100%|██████████| 6654/6654 [00:00<00:00, 9371.88it/s]\n"
     ]
    },
    {
     "output_type": "stream",
     "name": "stdout",
     "text": [
      "Train: 0.9750| Val: 0.6400| Test: 0.6000| Eval Time: 0.7150s\n",
      "Epoch 34| Loss: 0.2448| Acc: 0.9833| Train Time: 0.0870s\n"
     ]
    },
    {
     "output_type": "stream",
     "name": "stderr",
     "text": [
      "Evaluating: 100%|██████████| 6654/6654 [00:00<00:00, 10142.98it/s]\n"
     ]
    },
    {
     "output_type": "stream",
     "name": "stdout",
     "text": [
      "Train: 0.9750| Val: 0.6380| Test: 0.6020| Eval Time: 0.6610s\n",
      "Epoch 35| Loss: 0.1499| Acc: 0.9833| Train Time: 0.0840s\n"
     ]
    },
    {
     "output_type": "stream",
     "name": "stderr",
     "text": [
      "Evaluating: 100%|██████████| 6654/6654 [00:00<00:00, 9671.00it/s]\n"
     ]
    },
    {
     "output_type": "stream",
     "name": "stdout",
     "text": [
      "Train: 0.9750| Val: 0.6360| Test: 0.5980| Eval Time: 0.6920s\n",
      "Epoch 36| Loss: 0.1755| Acc: 0.9917| Train Time: 0.0790s\n"
     ]
    },
    {
     "output_type": "stream",
     "name": "stderr",
     "text": [
      "Evaluating: 100%|██████████| 6654/6654 [00:00<00:00, 9850.07it/s]\n"
     ]
    },
    {
     "output_type": "stream",
     "name": "stdout",
     "text": [
      "Train: 0.9750| Val: 0.6440| Test: 0.5990| Eval Time: 0.6815s\n",
      "Epoch 37| Loss: 0.0846| Acc: 0.9833| Train Time: 0.0860s\n"
     ]
    },
    {
     "output_type": "stream",
     "name": "stderr",
     "text": [
      "Evaluating: 100%|██████████| 6654/6654 [00:00<00:00, 9843.16it/s] \n"
     ]
    },
    {
     "output_type": "stream",
     "name": "stdout",
     "text": [
      "Train: 0.9667| Val: 0.6440| Test: 0.5990| Eval Time: 0.6800s\n",
      "Epoch 38| Loss: 0.0457| Acc: 0.9917| Train Time: 0.0780s\n"
     ]
    },
    {
     "output_type": "stream",
     "name": "stderr",
     "text": [
      "Evaluating: 100%|██████████| 6654/6654 [00:00<00:00, 9864.83it/s]\n"
     ]
    },
    {
     "output_type": "stream",
     "name": "stdout",
     "text": [
      "Train: 0.9750| Val: 0.6520| Test: 0.6070| Eval Time: 0.6805s\n",
      "Epoch 39| Loss: 0.1475| Acc: 0.9833| Train Time: 0.1000s\n"
     ]
    },
    {
     "output_type": "stream",
     "name": "stderr",
     "text": [
      "Evaluating: 100%|██████████| 6654/6654 [00:00<00:00, 8871.66it/s]\n"
     ]
    },
    {
     "output_type": "stream",
     "name": "stdout",
     "text": [
      "Train: 0.9750| Val: 0.6480| Test: 0.6190| Eval Time: 0.7580s\n",
      "Epoch 40| Loss: 0.0088| Acc: 1.0000| Train Time: 0.0920s\n"
     ]
    },
    {
     "output_type": "stream",
     "name": "stderr",
     "text": [
      "Evaluating: 100%|██████████| 6654/6654 [00:00<00:00, 9573.71it/s]\n"
     ]
    },
    {
     "output_type": "stream",
     "name": "stdout",
     "text": [
      "Train: 0.9750| Val: 0.6480| Test: 0.6180| Eval Time: 0.7020s\n",
      "Epoch 41| Loss: 0.0075| Acc: 1.0000| Train Time: 0.0760s\n"
     ]
    },
    {
     "output_type": "stream",
     "name": "stderr",
     "text": [
      "Evaluating: 100%|██████████| 6654/6654 [00:00<00:00, 9691.83it/s]\n"
     ]
    },
    {
     "output_type": "stream",
     "name": "stdout",
     "text": [
      "Train: 0.9833| Val: 0.6560| Test: 0.6210| Eval Time: 0.6916s\n",
      "Epoch 42| Loss: 0.0080| Acc: 1.0000| Train Time: 0.0820s\n"
     ]
    },
    {
     "output_type": "stream",
     "name": "stderr",
     "text": [
      "Evaluating: 100%|██████████| 6654/6654 [00:00<00:00, 9931.35it/s]\n"
     ]
    },
    {
     "output_type": "stream",
     "name": "stdout",
     "text": [
      "Train: 0.9833| Val: 0.6520| Test: 0.6260| Eval Time: 0.6750s\n",
      "Epoch 43| Loss: 0.0160| Acc: 1.0000| Train Time: 0.0830s\n"
     ]
    },
    {
     "output_type": "stream",
     "name": "stderr",
     "text": [
      "Evaluating: 100%|██████████| 6654/6654 [00:00<00:00, 9512.17it/s]\n"
     ]
    },
    {
     "output_type": "stream",
     "name": "stdout",
     "text": [
      "Train: 0.9833| Val: 0.6520| Test: 0.6270| Eval Time: 0.7045s\n",
      "Epoch 44| Loss: 0.0502| Acc: 0.9917| Train Time: 0.0810s\n"
     ]
    },
    {
     "output_type": "stream",
     "name": "stderr",
     "text": [
      "Evaluating: 100%|██████████| 6654/6654 [00:00<00:00, 9973.95it/s] \n"
     ]
    },
    {
     "output_type": "stream",
     "name": "stdout",
     "text": [
      "Train: 0.9917| Val: 0.6500| Test: 0.6260| Eval Time: 0.6721s\n",
      "Epoch 45| Loss: 0.0202| Acc: 0.9917| Train Time: 0.0820s\n"
     ]
    },
    {
     "output_type": "stream",
     "name": "stderr",
     "text": [
      "Evaluating: 100%|██████████| 6654/6654 [00:00<00:00, 9976.01it/s]\n"
     ]
    },
    {
     "output_type": "stream",
     "name": "stdout",
     "text": [
      "Train: 0.9917| Val: 0.6440| Test: 0.6200| Eval Time: 0.6720s\n",
      "Epoch 46| Loss: 0.0060| Acc: 1.0000| Train Time: 0.0800s\n"
     ]
    },
    {
     "output_type": "stream",
     "name": "stderr",
     "text": [
      "Evaluating: 100%|██████████| 6654/6654 [00:00<00:00, 9699.27it/s]\n"
     ]
    },
    {
     "output_type": "stream",
     "name": "stdout",
     "text": [
      "Train: 0.9833| Val: 0.6460| Test: 0.6230| Eval Time: 0.6920s\n",
      "Epoch 47| Loss: 0.0065| Acc: 1.0000| Train Time: 0.0820s\n"
     ]
    },
    {
     "output_type": "stream",
     "name": "stderr",
     "text": [
      "Evaluating: 100%|██████████| 6654/6654 [00:00<00:00, 9871.92it/s]\n"
     ]
    },
    {
     "output_type": "stream",
     "name": "stdout",
     "text": [
      "Train: 0.9833| Val: 0.6400| Test: 0.6210| Eval Time: 0.6800s\n",
      "Epoch 48| Loss: 0.0094| Acc: 1.0000| Train Time: 0.0810s\n"
     ]
    },
    {
     "output_type": "stream",
     "name": "stderr",
     "text": [
      "Evaluating: 100%|██████████| 6654/6654 [00:00<00:00, 9351.42it/s]\n"
     ]
    },
    {
     "output_type": "stream",
     "name": "stdout",
     "text": [
      "Train: 0.9833| Val: 0.6360| Test: 0.6240| Eval Time: 0.7175s\n",
      "Epoch 49| Loss: 0.0295| Acc: 0.9917| Train Time: 0.0920s\n"
     ]
    },
    {
     "output_type": "stream",
     "name": "stderr",
     "text": [
      "Evaluating: 100%|██████████| 6654/6654 [00:00<00:00, 10028.02it/s]\n"
     ]
    },
    {
     "output_type": "stream",
     "name": "stdout",
     "text": [
      "Train: 0.9833| Val: 0.6340| Test: 0.6240| Eval Time: 0.6685s\n",
      "Epoch 50| Loss: 0.0125| Acc: 1.0000| Train Time: 0.0730s\n"
     ]
    },
    {
     "output_type": "stream",
     "name": "stderr",
     "text": [
      "Evaluating: 100%|██████████| 6654/6654 [00:00<00:00, 9572.56it/s]\n"
     ]
    },
    {
     "output_type": "stream",
     "name": "stdout",
     "text": [
      "Train: 0.9833| Val: 0.6340| Test: 0.6240| Eval Time: 0.7011s\n",
      "Epoch 51| Loss: 0.0518| Acc: 0.9833| Train Time: 0.0760s\n"
     ]
    },
    {
     "output_type": "stream",
     "name": "stderr",
     "text": [
      "Evaluating: 100%|██████████| 6654/6654 [00:00<00:00, 9216.07it/s]\n"
     ]
    },
    {
     "output_type": "stream",
     "name": "stdout",
     "text": [
      "Train: 0.9917| Val: 0.6380| Test: 0.6220| Eval Time: 0.7270s\n",
      "Epoch 52| Loss: 0.0277| Acc: 0.9917| Train Time: 0.0820s\n"
     ]
    },
    {
     "output_type": "stream",
     "name": "stderr",
     "text": [
      "Evaluating: 100%|██████████| 6654/6654 [00:00<00:00, 9813.46it/s]\n"
     ]
    },
    {
     "output_type": "stream",
     "name": "stdout",
     "text": [
      "Train: 0.9917| Val: 0.6380| Test: 0.6220| Eval Time: 0.6850s\n",
      "\n",
      "Result of  1. run| Train: 0.9583| Val: 0.6760| Test: 0.6420\n",
      "\n",
      "Run 02 for GatV1_K10_s and CiteSeer:\n"
     ]
    },
    {
     "output_type": "stream",
     "name": "stderr",
     "text": [
      "Epoch 01: 100%|██████████| 120/120 [00:00<00:00, 1379.31it/s]\n"
     ]
    },
    {
     "output_type": "stream",
     "name": "stdout",
     "text": [
      "Epoch 01| Loss: 2.5051| Acc: 0.1500| Train Time: 0.0890s\n"
     ]
    },
    {
     "output_type": "stream",
     "name": "stderr",
     "text": [
      "Evaluating: 100%|██████████| 6654/6654 [00:00<00:00, 9983.10it/s] \n"
     ]
    },
    {
     "output_type": "stream",
     "name": "stdout",
     "text": [
      "Train: 0.6333| Val: 0.4600| Test: 0.4510| Eval Time: 0.6715s\n",
      "Epoch 02| Loss: 1.6663| Acc: 0.5167| Train Time: 0.0770s\n"
     ]
    },
    {
     "output_type": "stream",
     "name": "stderr",
     "text": [
      "Evaluating: 100%|██████████| 6654/6654 [00:00<00:00, 9761.40it/s]\n"
     ]
    },
    {
     "output_type": "stream",
     "name": "stdout",
     "text": [
      "Train: 0.8167| Val: 0.6240| Test: 0.6090| Eval Time: 0.6887s\n",
      "Epoch 03| Loss: 1.1017| Acc: 0.7083| Train Time: 0.0860s\n"
     ]
    },
    {
     "output_type": "stream",
     "name": "stderr",
     "text": [
      "Evaluating: 100%|██████████| 6654/6654 [00:00<00:00, 9299.54it/s]\n"
     ]
    },
    {
     "output_type": "stream",
     "name": "stdout",
     "text": [
      "Train: 0.9000| Val: 0.6280| Test: 0.6230| Eval Time: 0.7215s\n",
      "Epoch 04| Loss: 0.6730| Acc: 0.8083| Train Time: 0.0730s\n"
     ]
    },
    {
     "output_type": "stream",
     "name": "stderr",
     "text": [
      "Evaluating: 100%|██████████| 6654/6654 [00:00<00:00, 9726.74it/s]\n"
     ]
    },
    {
     "output_type": "stream",
     "name": "stdout",
     "text": [
      "Train: 0.9000| Val: 0.5420| Test: 0.5650| Eval Time: 0.6901s\n",
      "Epoch 05| Loss: 0.7713| Acc: 0.8083| Train Time: 0.0780s\n"
     ]
    },
    {
     "output_type": "stream",
     "name": "stderr",
     "text": [
      "Evaluating: 100%|██████████| 6654/6654 [00:00<00:00, 9697.77it/s]\n"
     ]
    },
    {
     "output_type": "stream",
     "name": "stdout",
     "text": [
      "Train: 0.9083| Val: 0.5380| Test: 0.5560| Eval Time: 0.6921s\n",
      "Epoch 06| Loss: 0.7091| Acc: 0.8417| Train Time: 0.0790s\n"
     ]
    },
    {
     "output_type": "stream",
     "name": "stderr",
     "text": [
      "Evaluating: 100%|██████████| 6654/6654 [00:00<00:00, 10066.59it/s]\n"
     ]
    },
    {
     "output_type": "stream",
     "name": "stdout",
     "text": [
      "Train: 0.9250| Val: 0.5960| Test: 0.5940| Eval Time: 0.6670s\n",
      "Epoch 07| Loss: 0.3887| Acc: 0.9000| Train Time: 0.0766s\n"
     ]
    },
    {
     "output_type": "stream",
     "name": "stderr",
     "text": [
      "Evaluating: 100%|██████████| 6654/6654 [00:00<00:00, 10097.10it/s]\n"
     ]
    },
    {
     "output_type": "stream",
     "name": "stdout",
     "text": [
      "Train: 0.9333| Val: 0.6240| Test: 0.6110| Eval Time: 0.6635s\n",
      "Epoch 08| Loss: 0.4989| Acc: 0.8667| Train Time: 0.0810s\n"
     ]
    },
    {
     "output_type": "stream",
     "name": "stderr",
     "text": [
      "Evaluating: 100%|██████████| 6654/6654 [00:00<00:00, 9600.99it/s]\n"
     ]
    },
    {
     "output_type": "stream",
     "name": "stdout",
     "text": [
      "Train: 0.9500| Val: 0.6240| Test: 0.6290| Eval Time: 0.6991s\n",
      "Epoch 09| Loss: 0.4671| Acc: 0.9000| Train Time: 0.0870s\n"
     ]
    },
    {
     "output_type": "stream",
     "name": "stderr",
     "text": [
      "Evaluating: 100%|██████████| 6654/6654 [00:00<00:00, 9728.04it/s]\n"
     ]
    },
    {
     "output_type": "stream",
     "name": "stdout",
     "text": [
      "Train: 0.9333| Val: 0.6420| Test: 0.6330| Eval Time: 0.6910s\n",
      "Epoch 10| Loss: 0.2786| Acc: 0.9333| Train Time: 0.0920s\n"
     ]
    },
    {
     "output_type": "stream",
     "name": "stderr",
     "text": [
      "Evaluating: 100%|██████████| 6654/6654 [00:00<00:00, 9656.53it/s]\n"
     ]
    },
    {
     "output_type": "stream",
     "name": "stdout",
     "text": [
      "Train: 0.9333| Val: 0.6460| Test: 0.6320| Eval Time: 0.6930s\n",
      "Epoch 11| Loss: 0.2897| Acc: 0.9417| Train Time: 0.0720s\n"
     ]
    },
    {
     "output_type": "stream",
     "name": "stderr",
     "text": [
      "Evaluating: 100%|██████████| 6654/6654 [00:00<00:00, 9893.69it/s]\n"
     ]
    },
    {
     "output_type": "stream",
     "name": "stdout",
     "text": [
      "Train: 0.9500| Val: 0.6440| Test: 0.6360| Eval Time: 0.6776s\n",
      "Epoch 12| Loss: 0.2531| Acc: 0.9333| Train Time: 0.0800s\n"
     ]
    },
    {
     "output_type": "stream",
     "name": "stderr",
     "text": [
      "Evaluating:  73%|███████▎  | 4863/6654 [00:00<00:00, 9586.69it/s] "
     ]
    }
   ],
   "metadata": {}
  }
 ],
 "metadata": {
  "orig_nbformat": 4,
  "kernelspec": {
   "name": "python3",
   "display_name": "Python 3.8.10 64-bit ('PSN': conda)"
  },
  "interpreter": {
   "hash": "b8be38cac5e07419459cc1d2fe0e04c6cbe36991c6a4efd3c9a636608bfd9cde"
  },
  "language_info": {
   "name": "python",
   "version": "3.8.10",
   "mimetype": "text/x-python",
   "codemirror_mode": {
    "name": "ipython",
    "version": 3
   },
   "pygments_lexer": "ipython3",
   "nbconvert_exporter": "python",
   "file_extension": ".py"
  }
 },
 "nbformat": 4,
 "nbformat_minor": 2
}