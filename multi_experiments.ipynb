{
 "cells": [
  {
   "cell_type": "code",
   "execution_count": null,
   "source": [
    "from utils.constants import *\r\n",
    "from utils.experimentorUtils import * "
   ],
   "outputs": [],
   "metadata": {}
  },
  {
   "cell_type": "code",
   "execution_count": null,
   "source": [
    "models     = [ModelType.GATV1]\r\n",
    "datasets   = [Dataset.CITESEER, Dataset.CORA, Dataset.PUBMED]\r\n",
    "degrees    = [5,6,7,8,9,10]\r\n",
    "num_layers = [3]\r\n",
    "sparse     = [True]\r\n",
    "adj_modes  = [AdjacencyMode.OneStep]\r\n",
    "aggr_modes = [AggrMode.NONE]\r\n",
    "\r\n",
    "runExperiments(models, datasets, degrees, sparse, num_layers, adj_modes, aggr_modes)"
   ],
   "outputs": [],
   "metadata": {}
  }
 ],
 "metadata": {
  "orig_nbformat": 4,
  "kernelspec": {
   "name": "python3",
   "display_name": "Python 3.8.10 64-bit ('PSN': conda)"
  },
  "interpreter": {
   "hash": "b8be38cac5e07419459cc1d2fe0e04c6cbe36991c6a4efd3c9a636608bfd9cde"
  },
  "language_info": {
   "name": "python",
   "version": "3.8.10",
   "mimetype": "text/x-python",
   "codemirror_mode": {
    "name": "ipython",
    "version": 3
   },
   "pygments_lexer": "ipython3",
   "nbconvert_exporter": "python",
   "file_extension": ".py"
  }
 },
 "nbformat": 4,
 "nbformat_minor": 2
}