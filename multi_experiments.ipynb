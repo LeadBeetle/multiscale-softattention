{
 "cells": [
  {
   "cell_type": "code",
   "execution_count": 1,
   "metadata": {},
   "outputs": [],
   "source": [
    "from utils.constants import *\r\n",
    "from utils.experimentorUtils import * "
   ]
  },
  {
   "cell_type": "code",
   "execution_count": null,
   "metadata": {},
   "outputs": [
    {
     "name": "stdout",
     "output_type": "stream",
     "text": [
      "Run 01 for GatV1_K2_D3_s_AggrMode.MAX and CiteSeer:\n"
     ]
    },
    {
     "name": "stderr",
     "output_type": "stream",
     "text": [
      "Epoch 01: 100%|██████████| 120/120 [00:05<00:00, 21.66it/s]\n"
     ]
    },
    {
     "name": "stdout",
     "output_type": "stream",
     "text": [
      "Epoch 01| Loss: 1.8138| Acc: 0.1750| Train Time: 5.5467s\n"
     ]
    },
    {
     "name": "stderr",
     "output_type": "stream",
     "text": [
      "Evaluating: 100%|██████████| 9981/9981 [00:10<00:00, 994.49it/s] \n"
     ]
    },
    {
     "name": "stdout",
     "output_type": "stream",
     "text": [
      "Train: 0.8750| Val: 0.5980| Test: 0.5500| Eval Time: 10.0452s\n",
      "Epoch 02| Loss: 1.3609| Acc: 0.6000| Train Time: 1.1446s\n"
     ]
    },
    {
     "name": "stderr",
     "output_type": "stream",
     "text": [
      "Evaluating: 100%|██████████| 9981/9981 [00:00<00:00, 11907.07it/s]\n"
     ]
    },
    {
     "name": "stdout",
     "output_type": "stream",
     "text": [
      "Train: 0.9000| Val: 0.6760| Test: 0.6830| Eval Time: 0.8480s\n",
      "Epoch 03| Loss: 0.9254| Acc: 0.8167| Train Time: 1.1542s\n"
     ]
    },
    {
     "name": "stderr",
     "output_type": "stream",
     "text": [
      "Evaluating: 100%|██████████| 9981/9981 [00:00<00:00, 11976.64it/s]\n"
     ]
    },
    {
     "name": "stdout",
     "output_type": "stream",
     "text": [
      "Train: 0.9333| Val: 0.6860| Test: 0.6860| Eval Time: 0.8435s\n",
      "Epoch 04| Loss: 0.4872| Acc: 0.9000| Train Time: 0.1160s\n"
     ]
    },
    {
     "name": "stderr",
     "output_type": "stream",
     "text": [
      "Evaluating: 100%|██████████| 9981/9981 [00:00<00:00, 11469.37it/s]\n"
     ]
    },
    {
     "name": "stdout",
     "output_type": "stream",
     "text": [
      "Train: 0.9750| Val: 0.6900| Test: 0.6940| Eval Time: 0.8770s\n",
      "Epoch 05| Loss: 0.1974| Acc: 0.9417| Train Time: 0.1007s\n"
     ]
    },
    {
     "name": "stderr",
     "output_type": "stream",
     "text": [
      "Evaluating: 100%|██████████| 9981/9981 [00:00<00:00, 10250.22it/s]\n"
     ]
    },
    {
     "name": "stdout",
     "output_type": "stream",
     "text": [
      "Train: 0.9583| Val: 0.6840| Test: 0.6960| Eval Time: 0.9889s\n",
      "Epoch 06| Loss: 0.1684| Acc: 0.9417| Train Time: 0.1251s\n"
     ]
    },
    {
     "name": "stderr",
     "output_type": "stream",
     "text": [
      "Evaluating: 100%|██████████| 9981/9981 [00:01<00:00, 9228.67it/s] \n"
     ]
    },
    {
     "name": "stdout",
     "output_type": "stream",
     "text": [
      "Train: 0.9833| Val: 0.6680| Test: 0.6850| Eval Time: 1.0898s\n",
      "Epoch 07| Loss: 0.0981| Acc: 0.9667| Train Time: 0.2055s\n"
     ]
    },
    {
     "name": "stderr",
     "output_type": "stream",
     "text": [
      "Evaluating: 100%|██████████| 9981/9981 [00:00<00:00, 10194.89it/s]\n"
     ]
    },
    {
     "name": "stdout",
     "output_type": "stream",
     "text": [
      "Train: 0.9833| Val: 0.6580| Test: 0.6770| Eval Time: 0.9892s\n",
      "Epoch 08| Loss: 0.1040| Acc: 0.9583| Train Time: 0.1909s\n"
     ]
    },
    {
     "name": "stderr",
     "output_type": "stream",
     "text": [
      "Evaluating: 100%|██████████| 9981/9981 [00:00<00:00, 11216.99it/s]\n"
     ]
    },
    {
     "name": "stdout",
     "output_type": "stream",
     "text": [
      "Train: 0.9667| Val: 0.6580| Test: 0.6720| Eval Time: 0.8979s\n",
      "Epoch 09| Loss: 0.1240| Acc: 0.9667| Train Time: 0.1148s\n"
     ]
    },
    {
     "name": "stderr",
     "output_type": "stream",
     "text": [
      "Evaluating: 100%|██████████| 9981/9981 [00:00<00:00, 11150.29it/s]\n"
     ]
    },
    {
     "name": "stdout",
     "output_type": "stream",
     "text": [
      "Train: 0.9917| Val: 0.6760| Test: 0.6720| Eval Time: 0.9016s\n",
      "Epoch 10| Loss: 0.0522| Acc: 0.9667| Train Time: 0.1101s\n"
     ]
    },
    {
     "name": "stderr",
     "output_type": "stream",
     "text": [
      "Evaluating: 100%|██████████| 9981/9981 [00:00<00:00, 10695.43it/s]\n"
     ]
    },
    {
     "name": "stdout",
     "output_type": "stream",
     "text": [
      "Train: 0.9917| Val: 0.6820| Test: 0.6850| Eval Time: 0.9988s\n",
      "Epoch 11| Loss: 0.1357| Acc: 0.9833| Train Time: 0.1716s\n"
     ]
    },
    {
     "name": "stderr",
     "output_type": "stream",
     "text": [
      "Evaluating: 100%|██████████| 9981/9981 [00:00<00:00, 10989.69it/s]\n"
     ]
    },
    {
     "name": "stdout",
     "output_type": "stream",
     "text": [
      "Train: 0.9750| Val: 0.6620| Test: 0.6670| Eval Time: 0.9163s\n",
      "Epoch 12| Loss: 0.1266| Acc: 0.9667| Train Time: 0.1089s\n"
     ]
    },
    {
     "name": "stderr",
     "output_type": "stream",
     "text": [
      "Evaluating: 100%|██████████| 9981/9981 [00:00<00:00, 10090.33it/s]\n"
     ]
    },
    {
     "name": "stdout",
     "output_type": "stream",
     "text": [
      "Train: 0.9917| Val: 0.6580| Test: 0.6660| Eval Time: 1.0611s\n",
      "Epoch 13| Loss: 0.1316| Acc: 0.9833| Train Time: 0.1319s\n"
     ]
    },
    {
     "name": "stderr",
     "output_type": "stream",
     "text": [
      "Evaluating: 100%|██████████| 9981/9981 [00:00<00:00, 11044.42it/s]\n"
     ]
    },
    {
     "name": "stdout",
     "output_type": "stream",
     "text": [
      "Train: 0.9917| Val: 0.6720| Test: 0.6630| Eval Time: 0.9738s\n",
      "Epoch 14| Loss: 0.0396| Acc: 0.9917| Train Time: 0.1238s\n"
     ]
    },
    {
     "name": "stderr",
     "output_type": "stream",
     "text": [
      "Evaluating: 100%|██████████| 9981/9981 [00:00<00:00, 10829.16it/s]\n"
     ]
    },
    {
     "name": "stdout",
     "output_type": "stream",
     "text": [
      "Train: 1.0000| Val: 0.6700| Test: 0.6630| Eval Time: 0.9949s\n",
      "Epoch 15| Loss: 0.0449| Acc: 0.9917| Train Time: 0.1844s\n"
     ]
    },
    {
     "name": "stderr",
     "output_type": "stream",
     "text": [
      "Evaluating: 100%|██████████| 9981/9981 [00:00<00:00, 11222.60it/s]\n"
     ]
    },
    {
     "name": "stdout",
     "output_type": "stream",
     "text": [
      "Train: 1.0000| Val: 0.6740| Test: 0.6720| Eval Time: 0.9057s\n",
      "Epoch 16| Loss: 0.0119| Acc: 1.0000| Train Time: 0.1841s\n"
     ]
    },
    {
     "name": "stderr",
     "output_type": "stream",
     "text": [
      "Evaluating: 100%|██████████| 9981/9981 [00:00<00:00, 10906.54it/s]\n"
     ]
    },
    {
     "name": "stdout",
     "output_type": "stream",
     "text": [
      "Train: 0.9917| Val: 0.6680| Test: 0.6670| Eval Time: 0.9250s\n",
      "Epoch 17| Loss: 0.1384| Acc: 0.9917| Train Time: 0.1839s\n"
     ]
    },
    {
     "name": "stderr",
     "output_type": "stream",
     "text": [
      "Evaluating: 100%|██████████| 9981/9981 [00:01<00:00, 9097.85it/s] \n"
     ]
    },
    {
     "name": "stdout",
     "output_type": "stream",
     "text": [
      "Train: 0.9917| Val: 0.6620| Test: 0.6700| Eval Time: 1.1077s\n",
      "Epoch 18| Loss: 0.0704| Acc: 0.9750| Train Time: 0.1881s\n"
     ]
    },
    {
     "name": "stderr",
     "output_type": "stream",
     "text": [
      "Evaluating: 100%|██████████| 9981/9981 [00:00<00:00, 11132.31it/s]\n"
     ]
    },
    {
     "name": "stdout",
     "output_type": "stream",
     "text": [
      "Train: 0.9917| Val: 0.6660| Test: 0.6750| Eval Time: 0.9078s\n",
      "Epoch 19| Loss: 0.2814| Acc: 0.9583| Train Time: 0.1142s\n"
     ]
    },
    {
     "name": "stderr",
     "output_type": "stream",
     "text": [
      "Evaluating: 100%|██████████| 9981/9981 [00:00<00:00, 11188.88it/s]\n"
     ]
    },
    {
     "name": "stdout",
     "output_type": "stream",
     "text": [
      "Train: 0.9917| Val: 0.6680| Test: 0.6820| Eval Time: 0.9661s\n",
      "Epoch 20| Loss: 0.2102| Acc: 0.9667| Train Time: 0.2132s\n"
     ]
    },
    {
     "name": "stderr",
     "output_type": "stream",
     "text": [
      "Evaluating:   0%|          | 0/9981 [00:00<?, ?it/s]"
     ]
    }
   ],
   "source": [
    "models     = [ModelType.GATV1, ModelType.GATV2, ModelType.TRANS]\r\n",
    "datasets   = [Dataset.CITESEER, Dataset.CORA]\r\n",
    "degrees    = [2,3,4]\r\n",
    "num_layers = [2,4]\r\n",
    "sparse     = [True]\r\n",
    "adj_modes  = [AdjacencyMode.Partial]\r\n",
    "aggr_modes = [AggrMode.MAX, AggrMode.MEAN]\r\n",
    "\r\n",
    "runExperiments(models, datasets, degrees, sparse, num_layers, adj_modes, aggr_modes)"
   ]
  },
  {
   "cell_type": "code",
   "execution_count": null,
   "metadata": {},
   "outputs": [],
   "source": []
  }
 ],
 "metadata": {
  "interpreter": {
   "hash": "b8be38cac5e07419459cc1d2fe0e04c6cbe36991c6a4efd3c9a636608bfd9cde"
  },
  "kernelspec": {
   "display_name": "Python [conda env:.conda-PSN]",
   "language": "python",
   "name": "conda-env-.conda-PSN-py"
  },
  "language_info": {
   "codemirror_mode": {
    "name": "ipython",
    "version": 3
   },
   "file_extension": ".py",
   "mimetype": "text/x-python",
   "name": "python",
   "nbconvert_exporter": "python",
   "pygments_lexer": "ipython3",
   "version": "3.8.10"
  }
 },
 "nbformat": 4,
 "nbformat_minor": 4
}
