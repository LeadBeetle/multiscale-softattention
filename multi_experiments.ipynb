{
 "cells": [
  {
   "cell_type": "code",
   "execution_count": 1,
   "source": [
    "from utils.constants import *\r\n",
    "from utils.experimentorUtils import * "
   ],
   "outputs": [],
   "metadata": {}
  },
  {
   "cell_type": "code",
   "execution_count": 2,
   "source": [
    "models     = [ModelType.GATV1, ModelType.GATV2]\r\n",
    "datasets   = [Dataset.CORA, Dataset.CITESEER, Dataset.PUBMED]\r\n",
    "degrees    = [1, 2, 3, 4, 5, 6, 7, 8]\r\n",
    "num_layers = [2, 3, 4]\r\n",
    "sparse     = [True]\r\n",
    "\r\n",
    "runExperiments(models, datasets, degrees, sparse, num_layers)"
   ],
   "outputs": [
    {
     "output_type": "stream",
     "name": "stdout",
     "text": [
      "Run 01 for GatV1_K1_D2_s and Cora:\n"
     ]
    },
    {
     "output_type": "stream",
     "name": "stderr",
     "text": [
      "Epoch 01: 100%|██████████| 140/140 [00:00<00:00, 733.00it/s]\n"
     ]
    },
    {
     "output_type": "stream",
     "name": "stdout",
     "text": [
      "Epoch 01| Loss: 1.9477| Acc: 0.1857| Train Time: 0.1960s\n"
     ]
    },
    {
     "output_type": "stream",
     "name": "stderr",
     "text": [
      "Evaluating: 100%|██████████| 5416/5416 [00:00<00:00, 27989.00it/s]\n"
     ]
    },
    {
     "output_type": "stream",
     "name": "stdout",
     "text": [
      "Train: 0.9929| Val: 0.7080| Test: 0.7210| Eval Time: 0.2015s\n",
      "\n",
      "Result of  1. run| Train: 0.9929| Val: 0.7080| Test: 0.7210\n",
      "\n",
      "Run 01 for GatV1_K1_D3_s and Cora:\n"
     ]
    },
    {
     "output_type": "stream",
     "name": "stderr",
     "text": [
      "Epoch 01: 100%|██████████| 140/140 [00:00<00:00, 629.19it/s]\n"
     ]
    },
    {
     "output_type": "stream",
     "name": "stdout",
     "text": [
      "Epoch 01| Loss: 1.9656| Acc: 0.1571| Train Time: 0.2275s\n"
     ]
    },
    {
     "output_type": "stream",
     "name": "stderr",
     "text": [
      "Evaluating: 100%|██████████| 8124/8124 [00:00<00:00, 32366.70it/s]\n"
     ]
    },
    {
     "output_type": "stream",
     "name": "stdout",
     "text": [
      "Train: 0.9000| Val: 0.7000| Test: 0.6870| Eval Time: 0.2570s\n",
      "\n",
      "Result of  1. run| Train: 0.9000| Val: 0.7000| Test: 0.6870\n",
      "\n",
      "Run 01 for GatV1_K1_D4_s and Cora:\n"
     ]
    },
    {
     "output_type": "stream",
     "name": "stderr",
     "text": [
      "Epoch 01: 100%|██████████| 140/140 [00:00<00:00, 319.98it/s]\n"
     ]
    },
    {
     "output_type": "stream",
     "name": "stdout",
     "text": [
      "Epoch 01| Loss: 2.0341| Acc: 0.1357| Train Time: 0.4405s\n"
     ]
    },
    {
     "output_type": "stream",
     "name": "stderr",
     "text": [
      "Evaluating: 100%|██████████| 10832/10832 [00:00<00:00, 29922.79it/s]\n"
     ]
    },
    {
     "output_type": "stream",
     "name": "stdout",
     "text": [
      "Train: 0.7929| Val: 0.5440| Test: 0.5620| Eval Time: 0.3660s\n",
      "\n",
      "Result of  1. run| Train: 0.7929| Val: 0.5440| Test: 0.5620\n",
      "\n",
      "Run 01 for GatV1_K2_D2_s and Cora:\n"
     ]
    },
    {
     "output_type": "stream",
     "name": "stderr",
     "text": [
      "Epoch 01: 100%|██████████| 140/140 [00:00<00:00, 1296.29it/s]\n"
     ]
    },
    {
     "output_type": "stream",
     "name": "stdout",
     "text": [
      "Epoch 01| Loss: 1.9671| Acc: 0.1429| Train Time: 0.1100s\n"
     ]
    },
    {
     "output_type": "stream",
     "name": "stderr",
     "text": [
      "Evaluating: 100%|██████████| 5416/5416 [00:00<00:00, 23040.46it/s]\n"
     ]
    },
    {
     "output_type": "stream",
     "name": "stdout",
     "text": [
      "Train: 0.9929| Val: 0.6880| Test: 0.7190| Eval Time: 0.2401s\n",
      "\n",
      "Result of  1. run| Train: 0.9929| Val: 0.6880| Test: 0.7190\n",
      "\n",
      "Run 01 for GatV1_K2_D3_s and Cora:\n"
     ]
    },
    {
     "output_type": "stream",
     "name": "stderr",
     "text": [
      "Epoch 01: 100%|██████████| 140/140 [00:00<00:00, 528.30it/s]\n"
     ]
    },
    {
     "output_type": "stream",
     "name": "stdout",
     "text": [
      "Epoch 01| Loss: 2.0115| Acc: 0.1143| Train Time: 0.2690s\n"
     ]
    },
    {
     "output_type": "stream",
     "name": "stderr",
     "text": [
      "Evaluating: 100%|██████████| 8124/8124 [00:00<00:00, 23177.25it/s]\n"
     ]
    },
    {
     "output_type": "stream",
     "name": "stdout",
     "text": [
      "Train: 0.9286| Val: 0.6900| Test: 0.7310| Eval Time: 0.3565s\n",
      "\n",
      "Result of  1. run| Train: 0.9286| Val: 0.6900| Test: 0.7310\n",
      "\n",
      "Run 01 for GatV1_K2_D4_s and Cora:\n"
     ]
    },
    {
     "output_type": "stream",
     "name": "stderr",
     "text": [
      "Epoch 01: 100%|██████████| 140/140 [00:00<00:00, 305.01it/s]\n"
     ]
    },
    {
     "output_type": "stream",
     "name": "stdout",
     "text": [
      "Epoch 01| Loss: 2.0748| Acc: 0.1214| Train Time: 0.4630s\n"
     ]
    },
    {
     "output_type": "stream",
     "name": "stderr",
     "text": [
      "Evaluating: 100%|██████████| 10832/10832 [00:00<00:00, 18708.13it/s]\n"
     ]
    },
    {
     "output_type": "stream",
     "name": "stdout",
     "text": [
      "Train: 0.6714| Val: 0.4700| Test: 0.4390| Eval Time: 0.5850s\n",
      "\n",
      "Result of  1. run| Train: 0.6714| Val: 0.4700| Test: 0.4390\n",
      "\n",
      "Run 01 for GatV1_K3_D2_s and Cora:\n"
     ]
    },
    {
     "output_type": "stream",
     "name": "stderr",
     "text": [
      "Epoch 01: 100%|██████████| 140/140 [00:00<00:00, 1400.03it/s]\n"
     ]
    },
    {
     "output_type": "stream",
     "name": "stdout",
     "text": [
      "Epoch 01| Loss: 1.9561| Acc: 0.1714| Train Time: 0.1080s\n"
     ]
    },
    {
     "output_type": "stream",
     "name": "stderr",
     "text": [
      "Evaluating: 100%|██████████| 5416/5416 [00:00<00:00, 22016.40it/s]\n"
     ]
    },
    {
     "output_type": "stream",
     "name": "stdout",
     "text": [
      "Train: 0.9643| Val: 0.5860| Test: 0.5860| Eval Time: 0.2510s\n",
      "\n",
      "Result of  1. run| Train: 0.9643| Val: 0.5860| Test: 0.5860\n",
      "\n",
      "Run 01 for GatV1_K3_D3_s and Cora:\n"
     ]
    },
    {
     "output_type": "stream",
     "name": "stderr",
     "text": [
      "Epoch 01: 100%|██████████| 140/140 [00:00<00:00, 544.75it/s]\n"
     ]
    },
    {
     "output_type": "stream",
     "name": "stdout",
     "text": [
      "Epoch 01| Loss: 1.9615| Acc: 0.1429| Train Time: 0.2590s\n"
     ]
    },
    {
     "output_type": "stream",
     "name": "stderr",
     "text": [
      "Evaluating: 100%|██████████| 8124/8124 [00:00<00:00, 31366.70it/s]\n"
     ]
    },
    {
     "output_type": "stream",
     "name": "stdout",
     "text": [
      "Train: 0.8857| Val: 0.6220| Test: 0.6350| Eval Time: 0.2640s\n",
      "\n",
      "Result of  1. run| Train: 0.8857| Val: 0.6220| Test: 0.6350\n",
      "\n",
      "Run 01 for GatV1_K3_D4_s and Cora:\n"
     ]
    },
    {
     "output_type": "stream",
     "name": "stderr",
     "text": [
      "Epoch 01: 100%|██████████| 140/140 [00:00<00:00, 323.62it/s]\n"
     ]
    },
    {
     "output_type": "stream",
     "name": "stdout",
     "text": [
      "Epoch 01| Loss: 2.0747| Acc: 0.1357| Train Time: 0.4356s\n"
     ]
    },
    {
     "output_type": "stream",
     "name": "stderr",
     "text": [
      "Evaluating: 100%|██████████| 10832/10832 [00:00<00:00, 27632.64it/s]\n"
     ]
    },
    {
     "output_type": "stream",
     "name": "stdout",
     "text": [
      "Train: 0.8000| Val: 0.5100| Test: 0.5320| Eval Time: 0.3970s\n",
      "\n",
      "Result of  1. run| Train: 0.8000| Val: 0.5100| Test: 0.5320\n",
      "\n",
      "Run 01 for GatV1_K4_D2_s and Cora:\n"
     ]
    },
    {
     "output_type": "stream",
     "name": "stderr",
     "text": [
      "Epoch 01: 100%|██████████| 140/140 [00:00<00:00, 1333.37it/s]\n"
     ]
    },
    {
     "output_type": "stream",
     "name": "stdout",
     "text": [
      "Epoch 01| Loss: 1.9545| Acc: 0.1500| Train Time: 0.1100s\n"
     ]
    },
    {
     "output_type": "stream",
     "name": "stderr",
     "text": [
      "Evaluating: 100%|██████████| 5416/5416 [00:00<00:00, 24618.50it/s]\n"
     ]
    },
    {
     "output_type": "stream",
     "name": "stdout",
     "text": [
      "Train: 0.9643| Val: 0.6900| Test: 0.6940| Eval Time: 0.2250s\n",
      "\n",
      "Result of  1. run| Train: 0.9643| Val: 0.6900| Test: 0.6940\n",
      "\n",
      "Run 01 for GatV1_K4_D3_s and Cora:\n"
     ]
    },
    {
     "output_type": "stream",
     "name": "stderr",
     "text": [
      "Epoch 01: 100%|██████████| 140/140 [00:00<00:00, 518.93it/s]\n"
     ]
    },
    {
     "output_type": "stream",
     "name": "stdout",
     "text": [
      "Epoch 01| Loss: 1.9456| Acc: 0.1929| Train Time: 0.2728s\n"
     ]
    },
    {
     "output_type": "stream",
     "name": "stderr",
     "text": [
      "Evaluating: 100%|██████████| 8124/8124 [00:00<00:00, 33024.38it/s]\n"
     ]
    },
    {
     "output_type": "stream",
     "name": "stdout",
     "text": [
      "Train: 0.9286| Val: 0.7020| Test: 0.7110| Eval Time: 0.2510s\n",
      "\n",
      "Result of  1. run| Train: 0.9286| Val: 0.7020| Test: 0.7110\n",
      "\n",
      "Run 01 for GatV1_K4_D4_s and Cora:\n"
     ]
    },
    {
     "output_type": "stream",
     "name": "stderr",
     "text": [
      "Epoch 01: 100%|██████████| 140/140 [00:00<00:00, 399.95it/s]\n"
     ]
    },
    {
     "output_type": "stream",
     "name": "stdout",
     "text": [
      "Epoch 01| Loss: 2.0398| Acc: 0.1429| Train Time: 0.3540s\n"
     ]
    },
    {
     "output_type": "stream",
     "name": "stderr",
     "text": [
      "Evaluating: 100%|██████████| 10832/10832 [00:00<00:00, 39104.97it/s]\n"
     ]
    },
    {
     "output_type": "stream",
     "name": "stdout",
     "text": [
      "Train: 0.6786| Val: 0.6320| Test: 0.6370| Eval Time: 0.2830s\n",
      "\n",
      "Result of  1. run| Train: 0.6786| Val: 0.6320| Test: 0.6370\n",
      "\n",
      "Run 01 for GatV1_K5_D2_s and Cora:\n"
     ]
    },
    {
     "output_type": "stream",
     "name": "stderr",
     "text": [
      "Epoch 01: 100%|██████████| 140/140 [00:00<00:00, 2089.42it/s]\n"
     ]
    },
    {
     "output_type": "stream",
     "name": "stdout",
     "text": [
      "Epoch 01| Loss: 1.9439| Acc: 0.1929| Train Time: 0.0700s\n"
     ]
    },
    {
     "output_type": "stream",
     "name": "stderr",
     "text": [
      "Evaluating: 100%|██████████| 5416/5416 [00:00<00:00, 33222.31it/s]\n"
     ]
    },
    {
     "output_type": "stream",
     "name": "stdout",
     "text": [
      "Train: 0.9929| Val: 0.6800| Test: 0.7160| Eval Time: 0.1710s\n",
      "\n",
      "Result of  1. run| Train: 0.9929| Val: 0.6800| Test: 0.7160\n",
      "\n",
      "Run 01 for GatV1_K5_D3_s and Cora:\n"
     ]
    },
    {
     "output_type": "stream",
     "name": "stderr",
     "text": [
      "Epoch 01: 100%|██████████| 140/140 [00:00<00:00, 764.90it/s]\n"
     ]
    },
    {
     "output_type": "stream",
     "name": "stdout",
     "text": [
      "Epoch 01| Loss: 1.9719| Acc: 0.1214| Train Time: 0.1860s\n"
     ]
    },
    {
     "output_type": "stream",
     "name": "stderr",
     "text": [
      "Evaluating: 100%|██████████| 8124/8124 [00:00<00:00, 35017.44it/s]\n"
     ]
    },
    {
     "output_type": "stream",
     "name": "stdout",
     "text": [
      "Train: 0.9286| Val: 0.7200| Test: 0.7480| Eval Time: 0.2360s\n",
      "\n",
      "Result of  1. run| Train: 0.9286| Val: 0.7200| Test: 0.7480\n",
      "\n",
      "Run 01 for GatV1_K5_D4_s and Cora:\n"
     ]
    },
    {
     "output_type": "stream",
     "name": "stderr",
     "text": [
      "Epoch 01: 100%|██████████| 140/140 [00:00<00:00, 414.20it/s]\n"
     ]
    },
    {
     "output_type": "stream",
     "name": "stdout",
     "text": [
      "Epoch 01| Loss: 2.0245| Acc: 0.1071| Train Time: 0.3400s\n"
     ]
    },
    {
     "output_type": "stream",
     "name": "stderr",
     "text": [
      "Evaluating: 100%|██████████| 10832/10832 [00:00<00:00, 33949.69it/s]\n"
     ]
    },
    {
     "output_type": "stream",
     "name": "stdout",
     "text": [
      "Train: 0.7643| Val: 0.6240| Test: 0.6340| Eval Time: 0.3231s\n",
      "\n",
      "Result of  1. run| Train: 0.7643| Val: 0.6240| Test: 0.6340\n",
      "\n",
      "Run 01 for GatV1_K6_D2_s and Cora:\n"
     ]
    },
    {
     "output_type": "stream",
     "name": "stderr",
     "text": [
      "Epoch 01: 100%|██████████| 140/140 [00:00<00:00, 1891.79it/s]\n"
     ]
    },
    {
     "output_type": "stream",
     "name": "stdout",
     "text": [
      "Epoch 01| Loss: 1.9849| Acc: 0.1000| Train Time: 0.0760s\n"
     ]
    },
    {
     "output_type": "stream",
     "name": "stderr",
     "text": [
      "Evaluating: 100%|██████████| 5416/5416 [00:00<00:00, 34942.86it/s]\n"
     ]
    },
    {
     "output_type": "stream",
     "name": "stdout",
     "text": [
      "Train: 0.9714| Val: 0.6760| Test: 0.7150| Eval Time: 0.1590s\n",
      "\n",
      "Result of  1. run| Train: 0.9714| Val: 0.6760| Test: 0.7150\n",
      "\n",
      "Run 01 for GatV1_K6_D3_s and Cora:\n"
     ]
    },
    {
     "output_type": "stream",
     "name": "stderr",
     "text": [
      "Epoch 01: 100%|██████████| 140/140 [00:00<00:00, 666.66it/s]\n"
     ]
    },
    {
     "output_type": "stream",
     "name": "stdout",
     "text": [
      "Epoch 01| Loss: 1.9787| Acc: 0.1286| Train Time: 0.2130s\n"
     ]
    },
    {
     "output_type": "stream",
     "name": "stderr",
     "text": [
      "Evaluating: 100%|██████████| 8124/8124 [00:00<00:00, 33710.02it/s]\n"
     ]
    },
    {
     "output_type": "stream",
     "name": "stdout",
     "text": [
      "Train: 0.8929| Val: 0.5720| Test: 0.5960| Eval Time: 0.2460s\n",
      "\n",
      "Result of  1. run| Train: 0.8929| Val: 0.5720| Test: 0.5960\n",
      "\n",
      "Run 01 for GatV1_K6_D4_s and Cora:\n"
     ]
    },
    {
     "output_type": "stream",
     "name": "stderr",
     "text": [
      "Epoch 01: 100%|██████████| 140/140 [00:00<00:00, 417.91it/s]\n"
     ]
    },
    {
     "output_type": "stream",
     "name": "stdout",
     "text": [
      "Epoch 01| Loss: 1.9971| Acc: 0.1214| Train Time: 0.3370s\n"
     ]
    },
    {
     "output_type": "stream",
     "name": "stderr",
     "text": [
      "Evaluating: 100%|██████████| 10832/10832 [00:00<00:00, 37873.62it/s]\n"
     ]
    },
    {
     "output_type": "stream",
     "name": "stdout",
     "text": [
      "Train: 0.7500| Val: 0.5420| Test: 0.5330| Eval Time: 0.2920s\n",
      "\n",
      "Result of  1. run| Train: 0.7500| Val: 0.5420| Test: 0.5330\n",
      "\n",
      "Run 01 for GatV1_K7_D2_s and Cora:\n"
     ]
    },
    {
     "output_type": "stream",
     "name": "stderr",
     "text": [
      "Epoch 01: 100%|██████████| 140/140 [00:00<00:00, 1878.71it/s]\n"
     ]
    },
    {
     "output_type": "stream",
     "name": "stdout",
     "text": [
      "Epoch 01| Loss: 1.9934| Acc: 0.1000| Train Time: 0.0785s\n"
     ]
    },
    {
     "output_type": "stream",
     "name": "stderr",
     "text": [
      "Evaluating: 100%|██████████| 5416/5416 [00:00<00:00, 27632.67it/s]\n"
     ]
    },
    {
     "output_type": "stream",
     "name": "stdout",
     "text": [
      "Train: 0.9643| Val: 0.6720| Test: 0.6930| Eval Time: 0.2000s\n",
      "\n",
      "Result of  1. run| Train: 0.9643| Val: 0.6720| Test: 0.6930\n",
      "\n",
      "Run 01 for GatV1_K7_D3_s and Cora:\n"
     ]
    },
    {
     "output_type": "stream",
     "name": "stderr",
     "text": [
      "Epoch 01: 100%|██████████| 140/140 [00:00<00:00, 600.86it/s]\n"
     ]
    },
    {
     "output_type": "stream",
     "name": "stdout",
     "text": [
      "Epoch 01| Loss: 1.9851| Acc: 0.1143| Train Time: 0.2360s\n"
     ]
    },
    {
     "output_type": "stream",
     "name": "stderr",
     "text": [
      "Evaluating: 100%|██████████| 8124/8124 [00:00<00:00, 26205.81it/s]\n"
     ]
    },
    {
     "output_type": "stream",
     "name": "stdout",
     "text": [
      "Train: 0.9143| Val: 0.6240| Test: 0.6430| Eval Time: 0.3160s\n",
      "\n",
      "Result of  1. run| Train: 0.9143| Val: 0.6240| Test: 0.6430\n",
      "\n",
      "Run 01 for GatV1_K7_D4_s and Cora:\n"
     ]
    },
    {
     "output_type": "stream",
     "name": "stderr",
     "text": [
      "Epoch 01: 100%|██████████| 140/140 [00:00<00:00, 267.15it/s]\n"
     ]
    },
    {
     "output_type": "stream",
     "name": "stdout",
     "text": [
      "Epoch 01| Loss: 1.9991| Acc: 0.1000| Train Time: 0.5270s\n"
     ]
    },
    {
     "output_type": "stream",
     "name": "stderr",
     "text": [
      "Evaluating: 100%|██████████| 10832/10832 [00:00<00:00, 20437.39it/s]\n"
     ]
    },
    {
     "output_type": "stream",
     "name": "stdout",
     "text": [
      "Train: 0.8500| Val: 0.6920| Test: 0.7020| Eval Time: 0.5360s\n",
      "\n",
      "Result of  1. run| Train: 0.8500| Val: 0.6920| Test: 0.7020\n",
      "\n",
      "Run 01 for GatV1_K8_D2_s and Cora:\n"
     ]
    },
    {
     "output_type": "stream",
     "name": "stderr",
     "text": [
      "Epoch 01: 100%|██████████| 140/140 [00:00<00:00, 1191.17it/s]\n"
     ]
    },
    {
     "output_type": "stream",
     "name": "stdout",
     "text": [
      "Epoch 01| Loss: 1.9655| Acc: 0.1286| Train Time: 0.1215s\n"
     ]
    },
    {
     "output_type": "stream",
     "name": "stderr",
     "text": [
      "Evaluating: 100%|██████████| 5416/5416 [00:00<00:00, 19205.78it/s]\n"
     ]
    },
    {
     "output_type": "stream",
     "name": "stdout",
     "text": [
      "Train: 0.9786| Val: 0.6460| Test: 0.6290| Eval Time: 0.2880s\n",
      "\n",
      "Result of  1. run| Train: 0.9786| Val: 0.6460| Test: 0.6290\n",
      "\n",
      "Run 01 for GatV1_K8_D3_s and Cora:\n"
     ]
    },
    {
     "output_type": "stream",
     "name": "stderr",
     "text": [
      "Epoch 01: 100%|██████████| 140/140 [00:00<00:00, 487.80it/s]\n"
     ]
    },
    {
     "output_type": "stream",
     "name": "stdout",
     "text": [
      "Epoch 01| Loss: 1.9874| Acc: 0.1357| Train Time: 0.2900s\n"
     ]
    },
    {
     "output_type": "stream",
     "name": "stderr",
     "text": [
      "Evaluating: 100%|██████████| 8124/8124 [00:00<00:00, 24430.91it/s]\n"
     ]
    },
    {
     "output_type": "stream",
     "name": "stdout",
     "text": [
      "Train: 0.8786| Val: 0.7200| Test: 0.7450| Eval Time: 0.3405s\n",
      "\n",
      "Result of  1. run| Train: 0.8786| Val: 0.7200| Test: 0.7450\n",
      "\n",
      "Run 01 for GatV1_K8_D4_s and Cora:\n"
     ]
    },
    {
     "output_type": "stream",
     "name": "stderr",
     "text": [
      "Epoch 01: 100%|██████████| 140/140 [00:00<00:00, 292.89it/s]\n"
     ]
    },
    {
     "output_type": "stream",
     "name": "stdout",
     "text": [
      "Epoch 01| Loss: 2.0571| Acc: 0.1214| Train Time: 0.4810s\n"
     ]
    },
    {
     "output_type": "stream",
     "name": "stderr",
     "text": [
      "Evaluating: 100%|██████████| 10832/10832 [00:00<00:00, 25351.39it/s]\n"
     ]
    },
    {
     "output_type": "stream",
     "name": "stdout",
     "text": [
      "Train: 0.6714| Val: 0.4620| Test: 0.4620| Eval Time: 0.4333s\n",
      "\n",
      "Result of  1. run| Train: 0.6714| Val: 0.4620| Test: 0.4620\n",
      "\n",
      "Run 01 for GatV2_K1_D2_s and Cora:\n"
     ]
    },
    {
     "output_type": "stream",
     "name": "stderr",
     "text": [
      "Epoch 01: 100%|██████████| 140/140 [00:00<00:00, 1102.33it/s]\n"
     ]
    },
    {
     "output_type": "stream",
     "name": "stdout",
     "text": [
      "Epoch 01| Loss: 1.9564| Acc: 0.1714| Train Time: 0.1350s\n"
     ]
    },
    {
     "output_type": "stream",
     "name": "stderr",
     "text": [
      "Evaluating: 100%|██████████| 5416/5416 [00:00<00:00, 20095.62it/s]\n"
     ]
    },
    {
     "output_type": "stream",
     "name": "stdout",
     "text": [
      "Train: 0.9929| Val: 0.5880| Test: 0.6320| Eval Time: 0.2755s\n",
      "\n",
      "Result of  1. run| Train: 0.9929| Val: 0.5880| Test: 0.6320\n",
      "\n",
      "Run 01 for GatV2_K1_D3_s and Cora:\n"
     ]
    },
    {
     "output_type": "stream",
     "name": "stderr",
     "text": [
      "Epoch 01: 100%|██████████| 140/140 [00:00<00:00, 393.18it/s]\n"
     ]
    },
    {
     "output_type": "stream",
     "name": "stdout",
     "text": [
      "Epoch 01| Loss: 2.0331| Acc: 0.1286| Train Time: 0.3591s\n"
     ]
    },
    {
     "output_type": "stream",
     "name": "stderr",
     "text": [
      "Evaluating: 100%|██████████| 8124/8124 [00:00<00:00, 17850.94it/s]\n"
     ]
    },
    {
     "output_type": "stream",
     "name": "stdout",
     "text": [
      "Train: 0.6500| Val: 0.4440| Test: 0.4560| Eval Time: 0.4631s\n",
      "\n",
      "Result of  1. run| Train: 0.6500| Val: 0.4440| Test: 0.4560\n",
      "\n",
      "Run 01 for GatV2_K1_D4_s and Cora:\n"
     ]
    },
    {
     "output_type": "stream",
     "name": "stderr",
     "text": [
      "Epoch 01: 100%|██████████| 140/140 [00:00<00:00, 212.43it/s]\n"
     ]
    },
    {
     "output_type": "stream",
     "name": "stdout",
     "text": [
      "Epoch 01| Loss: 2.4539| Acc: 0.1357| Train Time: 0.6630s\n"
     ]
    },
    {
     "output_type": "stream",
     "name": "stderr",
     "text": [
      "Evaluating:  24%|██▎       | 2560/10832 [00:00<00:00, 10249.61it/s]"
     ]
    }
   ],
   "metadata": {}
  }
 ],
 "metadata": {
  "orig_nbformat": 4,
  "kernelspec": {
   "name": "python3",
   "display_name": "Python 3.8.10 64-bit ('PSN': conda)"
  },
  "interpreter": {
   "hash": "b8be38cac5e07419459cc1d2fe0e04c6cbe36991c6a4efd3c9a636608bfd9cde"
  },
  "language_info": {
   "name": "python",
   "version": "3.8.10",
   "mimetype": "text/x-python",
   "codemirror_mode": {
    "name": "ipython",
    "version": 3
   },
   "pygments_lexer": "ipython3",
   "nbconvert_exporter": "python",
   "file_extension": ".py"
  }
 },
 "nbformat": 4,
 "nbformat_minor": 2
}