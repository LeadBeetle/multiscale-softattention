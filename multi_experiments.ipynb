{
 "cells": [
  {
   "cell_type": "code",
   "execution_count": 1,
   "source": [
    "import torch\r\n",
    "from utils.experimentorUtils import getExperimentor\r\n",
    "from utils.constants import *\r\n",
    "print(torch.backends.cudnn.version())"
   ],
   "outputs": [
    {
     "output_type": "stream",
     "name": "stdout",
     "text": [
      "8005\n"
     ]
    }
   ],
   "metadata": {}
  },
  {
   "cell_type": "code",
   "execution_count": 2,
   "source": [
    "config = {\r\n",
    "    \"dataset_name\": Dataset.CORA,\r\n",
    "    \"model_type\": ModelType.GATV1,\r\n",
    "    'num_of_epochs': 500,\r\n",
    "    'num_of_runs': 3,\r\n",
    "    'patience_period': 100,\r\n",
    "    \r\n",
    "    'batch_size': 256,\r\n",
    "    'test_batch_size': 256,\r\n",
    "    'num_workers': 2,\r\n",
    "    'force_cpu': False,\r\n",
    "    'test_frequency': 5,\r\n",
    "    'console_log_freq': 1,\r\n",
    "    'do_train_tqdm_logging': False,\r\n",
    "    \r\n",
    "    'lr': 0.005,\r\n",
    "    'num_of_layers': 2, \r\n",
    "    'num_heads': 8,\r\n",
    "    'hidden_size': 128,\r\n",
    "    'dropout': 0.6,  \r\n",
    "    \"use_layer_norm\": False,\r\n",
    "    \"use_batch_norm\": False,\r\n",
    "    \r\n",
    "    'nbor_degree': 1,\r\n",
    "    'adj_mode': AdjacencyMode.OneStep,\r\n",
    "    'sparse': True\r\n",
    "}"
   ],
   "outputs": [],
   "metadata": {}
  },
  {
   "cell_type": "code",
   "execution_count": 3,
   "source": [
    "\r\n",
    "for isSparse in [False, True]:\r\n",
    "    config[\"sparse\"] = isSparse\r\n",
    "    for dataset in [Dataset.PUBMED, Dataset.CORA, Dataset.CITESEER]:\r\n",
    "        config[\"dataset_name\"] = dataset\r\n",
    "        if dataset == Dataset.PUBMED:\r\n",
    "                config[\"lr\"] = 0.01\r\n",
    "                config[\"num_heads\"] = 8\r\n",
    "        else: \r\n",
    "            config[\"lr\"] = 0.005\r\n",
    "            config[\"num_heads\"] = 1\r\n",
    "            \r\n",
    "        for degree in [1, 2, 3, 4]:\r\n",
    "            config[\"nbor_degree\"] = degree\r\n",
    "            experimentor = getExperimentor(config[\"dataset_name\"])(config)\r\n",
    "            experimentor.run_wrapper()"
   ],
   "outputs": [
    {
     "output_type": "stream",
     "name": "stdout",
     "text": [
      "Run 01:\n"
     ]
    },
    {
     "output_type": "stream",
     "name": "stderr",
     "text": [
      "Epoch 01: 100%|██████████| 2708/2708 [00:15<00:00, 177.46it/s]\n"
     ]
    },
    {
     "output_type": "stream",
     "name": "stdout",
     "text": [
      "Epoch 01| Loss: 0.7450| Acc: 0.7334| Train Time: 15.2627s\n",
      "Epoch 02| Loss: 0.2055| Acc: 0.9398| Train Time: 2.7560s\n",
      "Epoch 03| Loss: 0.1087| Acc: 0.9638| Train Time: 2.6356s\n",
      "Epoch 04| Loss: 0.0770| Acc: 0.9730| Train Time: 2.3331s\n",
      "Epoch 05| Loss: 0.0440| Acc: 0.9863| Train Time: 2.4046s\n"
     ]
    },
    {
     "output_type": "stream",
     "name": "stderr",
     "text": [
      "Evaluating: 100%|██████████| 5416/5416 [00:08<00:00, 650.65it/s] \n"
     ]
    },
    {
     "output_type": "stream",
     "name": "stdout",
     "text": [
      "Train: 1.0000| Val: 0.9940| Test: 0.9970| Eval Time: 8.3280s\n",
      "Epoch 06| Loss: 0.0334| Acc: 0.9889| Train Time: 2.4880s\n",
      "Epoch 07| Loss: 0.0186| Acc: 0.9948| Train Time: 2.4226s\n",
      "Epoch 08| Loss: 0.0189| Acc: 0.9926| Train Time: 2.4535s\n",
      "Epoch 09| Loss: 0.0159| Acc: 0.9952| Train Time: 2.4871s\n",
      "Epoch 10| Loss: 0.0111| Acc: 0.9974| Train Time: 2.3783s\n"
     ]
    },
    {
     "output_type": "stream",
     "name": "stderr",
     "text": [
      "Evaluating: 100%|██████████| 5416/5416 [00:04<00:00, 1140.10it/s]\n"
     ]
    },
    {
     "output_type": "stream",
     "name": "stdout",
     "text": [
      "Train: 1.0000| Val: 1.0000| Test: 1.0000| Eval Time: 4.7555s\n",
      "Epoch 11| Loss: 0.0121| Acc: 0.9967| Train Time: 2.5514s\n",
      "Epoch 12| Loss: 0.0137| Acc: 0.9967| Train Time: 2.5976s\n",
      "Epoch 13| Loss: 0.0065| Acc: 0.9985| Train Time: 2.6753s\n",
      "Epoch 14| Loss: 0.0082| Acc: 0.9982| Train Time: 3.6157s\n",
      "Epoch 15| Loss: 0.0087| Acc: 0.9974| Train Time: 3.7572s\n"
     ]
    },
    {
     "output_type": "stream",
     "name": "stderr",
     "text": [
      "Evaluating: 100%|██████████| 5416/5416 [00:05<00:00, 909.96it/s]\n"
     ]
    },
    {
     "output_type": "stream",
     "name": "stdout",
     "text": [
      "Train: 1.0000| Val: 1.0000| Test: 0.9990| Eval Time: 5.9629s\n",
      "Epoch 16| Loss: 0.0080| Acc: 0.9978| Train Time: 2.7900s\n",
      "Epoch 17| Loss: 0.0108| Acc: 0.9948| Train Time: 2.5416s\n",
      "Epoch 18| Loss: 0.0071| Acc: 0.9985| Train Time: 2.6348s\n",
      "Epoch 19| Loss: 0.0087| Acc: 0.9974| Train Time: 2.5450s\n",
      "Epoch 20| Loss: 0.0068| Acc: 0.9985| Train Time: 2.7244s\n"
     ]
    },
    {
     "output_type": "stream",
     "name": "stderr",
     "text": [
      "Evaluating: 100%|██████████| 5416/5416 [00:04<00:00, 1098.41it/s]\n"
     ]
    },
    {
     "output_type": "stream",
     "name": "stdout",
     "text": [
      "Train: 1.0000| Val: 1.0000| Test: 0.9990| Eval Time: 4.9348s\n"
     ]
    }
   ],
   "metadata": {}
  }
 ],
 "metadata": {
  "orig_nbformat": 4,
  "kernelspec": {
   "name": "python3",
   "display_name": "Python 3.8.10 64-bit ('PS': conda)"
  },
  "interpreter": {
   "hash": "1322c26f02ebbf0700fad666a69e487b987002dd3640f1a2df48e494c6ae2c9b"
  },
  "language_info": {
   "name": "python",
   "version": "3.8.10",
   "mimetype": "text/x-python",
   "codemirror_mode": {
    "name": "ipython",
    "version": 3
   },
   "pygments_lexer": "ipython3",
   "nbconvert_exporter": "python",
   "file_extension": ".py"
  }
 },
 "nbformat": 4,
 "nbformat_minor": 2
}