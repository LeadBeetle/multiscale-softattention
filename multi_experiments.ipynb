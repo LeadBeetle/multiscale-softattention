{
 "cells": [
  {
   "cell_type": "code",
   "execution_count": 1,
   "source": [
    "from utils.constants import *\r\n",
    "from utils.experimentorUtils import * "
   ],
   "outputs": [],
   "metadata": {}
  },
  {
   "cell_type": "code",
   "execution_count": 2,
   "source": [
    "models   = [ModelType.GATV1]\r\n",
    "datasets = [Dataset.CORA]\r\n",
    "degrees  = [4]\r\n",
    "sparse = [False]\r\n",
    "\r\n",
    "runExperiments(models, datasets, degrees, sparse)"
   ],
   "outputs": [
    {
     "output_type": "stream",
     "name": "stdout",
     "text": [
      "Run 01 for GatV1_K4_s and Cora:\n"
     ]
    },
    {
     "output_type": "stream",
     "name": "stderr",
     "text": [
      "Epoch 01:   0%|          | 0/140 [00:00<?, ?it/s]"
     ]
    },
    {
     "output_type": "stream",
     "name": "stdout",
     "text": [
      "Adj(adj_t=SparseTensor(row=tensor([  0,   0,   0,  ..., 643, 643, 643]),\n",
      "             col=tensor([   0,  140,  141,  ...,  641,  643, 1108]),\n",
      "             val=tensor([1., 1., 1.,  ..., 1., 1., 1.]),\n",
      "             size=(644, 1664), nnz=4478, density=0.42%), e_id=tensor([  120,   121,   122,  ..., 11313, 11314, 11312]), size=(1664, 644))\n"
     ]
    },
    {
     "output_type": "stream",
     "name": "stderr",
     "text": [
      "Epoch 01: 100%|██████████| 140/140 [00:00<00:00, 514.71it/s]\n"
     ]
    },
    {
     "output_type": "stream",
     "name": "stdout",
     "text": [
      "Epoch 01| Loss: 2.0564| Acc: 0.1429| Train Time: 0.2800s\n"
     ]
    },
    {
     "output_type": "stream",
     "name": "stderr",
     "text": [
      "Evaluating: 100%|██████████| 5416/5416 [00:00<00:00, 19032.74it/s]\n"
     ]
    },
    {
     "output_type": "stream",
     "name": "stdout",
     "text": [
      "Train: 0.7571| Val: 0.4240| Test: 0.4420| Eval Time: 0.2906s\n",
      "Adj(adj_t=SparseTensor(row=tensor([  0,   0,   0,  ..., 643, 643, 643]),\n",
      "             col=tensor([   0,  140,  141,  ..., 1494, 1662, 1663]),\n",
      "             val=tensor([1., 1., 1.,  ..., 1., 1., 1.]),\n",
      "             size=(644, 1664), nnz=4478, density=0.42%), e_id=tensor([ 381,  382,  383,  ..., 9536, 9531, 9533]), size=(1664, 644))\n",
      "Epoch 02| Loss: 1.5298| Acc: 0.6000| Train Time: 0.1080s\n"
     ]
    },
    {
     "output_type": "stream",
     "name": "stderr",
     "text": [
      "Evaluating: 100%|██████████| 5416/5416 [00:00<00:00, 26680.98it/s]\n"
     ]
    },
    {
     "output_type": "stream",
     "name": "stdout",
     "text": [
      "Train: 0.9071| Val: 0.5600| Test: 0.5850| Eval Time: 0.2090s\n",
      "Adj(adj_t=SparseTensor(row=tensor([  0,   0,   1,  ..., 643, 643, 643]),\n",
      "             col=tensor([  0, 140,   1,  ..., 139, 642, 643]),\n",
      "             val=tensor([1., 1., 1.,  ..., 1., 1., 1.]),\n",
      "             size=(644, 1664), nnz=4478, density=0.42%), e_id=tensor([ 532,  533,  736,  ..., 9308, 9309, 9310]), size=(1664, 644))\n",
      "Epoch 03| Loss: 1.1436| Acc: 0.8000| Train Time: 0.0610s\n"
     ]
    },
    {
     "output_type": "stream",
     "name": "stderr",
     "text": [
      "Evaluating: 100%|██████████| 5416/5416 [00:00<00:00, 27633.38it/s]\n"
     ]
    },
    {
     "output_type": "stream",
     "name": "stdout",
     "text": [
      "Train: 0.9571| Val: 0.7000| Test: 0.7190| Eval Time: 0.2000s\n",
      "Adj(adj_t=SparseTensor(row=tensor([  0,   0,   1,  ..., 643, 643, 643]),\n",
      "             col=tensor([  0, 140,   1,  ..., 423, 643, 810]),\n",
      "             val=tensor([1., 1., 1.,  ..., 1., 1., 1.]),\n",
      "             size=(644, 1664), nnz=4478, density=0.42%), e_id=tensor([  527,   528,   144,  ..., 10675, 10677, 10676]), size=(1664, 644))\n",
      "Epoch 04| Loss: 0.9408| Acc: 0.9000| Train Time: 0.0610s\n"
     ]
    },
    {
     "output_type": "stream",
     "name": "stderr",
     "text": [
      "Evaluating: 100%|██████████| 5416/5416 [00:00<00:00, 27544.95it/s]\n"
     ]
    },
    {
     "output_type": "stream",
     "name": "stdout",
     "text": [
      "Train: 0.9857| Val: 0.7520| Test: 0.7590| Eval Time: 0.2006s\n",
      "Adj(adj_t=SparseTensor(row=tensor([  0,   0,   0,  ..., 643, 643, 643]),\n",
      "             col=tensor([  0, 140, 141,  ..., 139, 642, 643]),\n",
      "             val=tensor([1., 1., 1.,  ..., 1., 1., 1.]),\n",
      "             size=(644, 1664), nnz=4478, density=0.42%), e_id=tensor([  304,   305,   306,  ..., 11348, 11349, 11350]), size=(1664, 644))\n",
      "Epoch 05| Loss: 0.7288| Acc: 0.9500| Train Time: 0.0610s\n"
     ]
    },
    {
     "output_type": "stream",
     "name": "stderr",
     "text": [
      "Evaluating: 100%|██████████| 5416/5416 [00:00<00:00, 26945.53it/s]\n"
     ]
    },
    {
     "output_type": "stream",
     "name": "stdout",
     "text": [
      "Train: 0.9929| Val: 0.7680| Test: 0.7800| Eval Time: 0.2060s\n",
      "Adj(adj_t=SparseTensor(row=tensor([  0,   0,   0,  ..., 642, 643, 643]),\n",
      "             col=tensor([   0,  140,  141,  ..., 1663,  139,  643]),\n",
      "             val=tensor([1., 1., 1.,  ..., 1., 1., 1.]),\n",
      "             size=(644, 1664), nnz=4478, density=0.42%), e_id=tensor([  564,   565,   566,  ...,  8013, 12532, 12533]), size=(1664, 644))\n",
      "Epoch 06| Loss: 0.6164| Acc: 0.9571| Train Time: 0.0586s\n"
     ]
    },
    {
     "output_type": "stream",
     "name": "stderr",
     "text": [
      "Evaluating: 100%|██████████| 5416/5416 [00:00<00:00, 27776.51it/s]\n"
     ]
    },
    {
     "output_type": "stream",
     "name": "stdout",
     "text": [
      "Train: 0.9929| Val: 0.7740| Test: 0.7960| Eval Time: 0.2020s\n",
      "Adj(adj_t=SparseTensor(row=tensor([  0,   0,   0,  ..., 643, 643, 643]),\n",
      "             col=tensor([   0,  140,  141,  ...,  441,  643, 1065]),\n",
      "             val=tensor([1., 1., 1.,  ..., 1., 1., 1.]),\n",
      "             size=(644, 1664), nnz=4478, density=0.42%), e_id=tensor([  624,   625,   626,  ..., 11118, 11117, 11119]), size=(1664, 644))\n",
      "Epoch 07| Loss: 0.4702| Acc: 0.9714| Train Time: 0.0580s\n"
     ]
    },
    {
     "output_type": "stream",
     "name": "stderr",
     "text": [
      "Evaluating: 100%|██████████| 5416/5416 [00:00<00:00, 25788.13it/s]\n"
     ]
    },
    {
     "output_type": "stream",
     "name": "stdout",
     "text": [
      "Train: 0.9929| Val: 0.7740| Test: 0.7890| Eval Time: 0.2170s\n",
      "Adj(adj_t=SparseTensor(row=tensor([  0,   0,   0,  ..., 643, 643, 643]),\n",
      "             col=tensor([   0,   15,  140,  ...,  643, 1645, 1662]),\n",
      "             val=tensor([1., 1., 1.,  ..., 1., 1., 1.]),\n",
      "             size=(644, 1664), nnz=4478, density=0.42%), e_id=tensor([  279,   280,   281,  ..., 11834, 11832, 11833]), size=(1664, 644))\n",
      "Epoch 08| Loss: 0.4253| Acc: 0.9857| Train Time: 0.0710s\n"
     ]
    },
    {
     "output_type": "stream",
     "name": "stderr",
     "text": [
      "Evaluating: 100%|██████████| 5416/5416 [00:00<00:00, 26729.36it/s]\n"
     ]
    },
    {
     "output_type": "stream",
     "name": "stdout",
     "text": [
      "Train: 0.9929| Val: 0.7600| Test: 0.7850| Eval Time: 0.2076s\n",
      "Adj(adj_t=SparseTensor(row=tensor([  0,   0,   0,  ..., 643, 643, 643]),\n",
      "             col=tensor([   0,  140,  141,  ..., 1081, 1404, 1663]),\n",
      "             val=tensor([1., 1., 1.,  ..., 1., 1., 1.]),\n",
      "             size=(644, 1664), nnz=4478, density=0.42%), e_id=tensor([  160,   161,   162,  ..., 10334, 10328, 10329]), size=(1664, 644))\n",
      "Epoch 09| Loss: 0.3179| Acc: 0.9786| Train Time: 0.0610s\n"
     ]
    },
    {
     "output_type": "stream",
     "name": "stderr",
     "text": [
      "Evaluating: 100%|██████████| 5416/5416 [00:00<00:00, 23145.09it/s]\n"
     ]
    },
    {
     "output_type": "stream",
     "name": "stdout",
     "text": [
      "Train: 0.9929| Val: 0.7500| Test: 0.7780| Eval Time: 0.2400s\n",
      "Adj(adj_t=SparseTensor(row=tensor([  0,   0,   0,  ..., 643, 643, 643]),\n",
      "             col=tensor([   0,  140,  141,  ...,  643, 1662, 1663]),\n",
      "             val=tensor([1., 1., 1.,  ..., 1., 1., 1.]),\n",
      "             size=(644, 1664), nnz=4478, density=0.42%), e_id=tensor([   51,    52,    53,  ..., 12468, 12465, 12466]), size=(1664, 644))\n",
      "Epoch 10| Loss: 0.2320| Acc: 0.9929| Train Time: 0.0650s\n"
     ]
    },
    {
     "output_type": "stream",
     "name": "stderr",
     "text": [
      "Evaluating: 100%|██████████| 5416/5416 [00:00<00:00, 25790.35it/s]\n"
     ]
    },
    {
     "output_type": "stream",
     "name": "stdout",
     "text": [
      "Train: 0.9929| Val: 0.7440| Test: 0.7760| Eval Time: 0.2160s\n",
      "Adj(adj_t=SparseTensor(row=tensor([  0,   0,   0,  ..., 643, 643, 643]),\n",
      "             col=tensor([   0,  140,  141,  ...,  642,  643, 1546]),\n",
      "             val=tensor([1., 1., 1.,  ..., 1., 1., 1.]),\n",
      "             size=(644, 1664), nnz=4478, density=0.42%), e_id=tensor([ 130,  131,  132,  ..., 9701, 9702, 9699]), size=(1664, 644))\n",
      "Epoch 11| Loss: 0.2156| Acc: 0.9857| Train Time: 0.0600s\n"
     ]
    },
    {
     "output_type": "stream",
     "name": "stderr",
     "text": [
      "Evaluating: 100%|██████████| 5416/5416 [00:00<00:00, 27074.22it/s]\n"
     ]
    },
    {
     "output_type": "stream",
     "name": "stdout",
     "text": [
      "Train: 0.9929| Val: 0.7460| Test: 0.7710| Eval Time: 0.2061s\n",
      "Adj(adj_t=SparseTensor(row=tensor([  0,   0,   1,  ..., 643, 643, 643]),\n",
      "             col=tensor([   0,  140,    1,  ..., 1661, 1662, 1663]),\n",
      "             val=tensor([1., 1., 1.,  ..., 1., 1., 1.]),\n",
      "             size=(644, 1664), nnz=4478, density=0.42%), e_id=tensor([  277,   278,   485,  ..., 11491, 11492, 11494]), size=(1664, 644))\n",
      "Epoch 12| Loss: 0.1721| Acc: 0.9929| Train Time: 0.0590s\n"
     ]
    },
    {
     "output_type": "stream",
     "name": "stderr",
     "text": [
      "Evaluating: 100%|██████████| 5416/5416 [00:00<00:00, 26799.24it/s]\n"
     ]
    },
    {
     "output_type": "stream",
     "name": "stdout",
     "text": [
      "Train: 0.9929| Val: 0.7540| Test: 0.7730| Eval Time: 0.2081s\n",
      "Adj(adj_t=SparseTensor(row=tensor([  0,   0,   0,  ..., 643, 643, 643]),\n",
      "             col=tensor([   0,  140,  141,  ..., 1661, 1662, 1663]),\n",
      "             val=tensor([1., 1., 1.,  ..., 1., 1., 1.]),\n",
      "             size=(644, 1664), nnz=4478, density=0.42%), e_id=tensor([  237,   238,   239,  ..., 10565, 10568, 10569]), size=(1664, 644))\n",
      "Epoch 13| Loss: 0.1521| Acc: 0.9929| Train Time: 0.0570s\n"
     ]
    },
    {
     "output_type": "stream",
     "name": "stderr",
     "text": [
      "Evaluating: 100%|██████████| 5416/5416 [00:00<00:00, 28660.48it/s]\n"
     ]
    },
    {
     "output_type": "stream",
     "name": "stdout",
     "text": [
      "Train: 1.0000| Val: 0.7580| Test: 0.7730| Eval Time: 0.1960s\n",
      "Adj(adj_t=SparseTensor(row=tensor([  0,   0,   0,  ..., 643, 643, 643]),\n",
      "             col=tensor([   0,  140,  141,  ...,  139,  643, 1221]),\n",
      "             val=tensor([1., 1., 1.,  ..., 1., 1., 1.]),\n",
      "             size=(644, 1664), nnz=4478, density=0.42%), e_id=tensor([  160,   161,   162,  ..., 10005, 10007, 10006]), size=(1664, 644))\n",
      "Epoch 14| Loss: 0.1282| Acc: 1.0000| Train Time: 0.0660s\n"
     ]
    },
    {
     "output_type": "stream",
     "name": "stderr",
     "text": [
      "Evaluating: 100%|██████████| 5416/5416 [00:00<00:00, 23145.35it/s]\n"
     ]
    },
    {
     "output_type": "stream",
     "name": "stdout",
     "text": [
      "Train: 1.0000| Val: 0.7540| Test: 0.7780| Eval Time: 0.2400s\n",
      "Adj(adj_t=SparseTensor(row=tensor([  0,   0,   0,  ..., 643, 643, 643]),\n",
      "             col=tensor([   0,   80,  140,  ..., 1115, 1662, 1663]),\n",
      "             val=tensor([1., 1., 1.,  ..., 1., 1., 1.]),\n",
      "             size=(644, 1664), nnz=4478, density=0.42%), e_id=tensor([  279,   280,   281,  ..., 12234, 12235, 12236]), size=(1664, 644))\n",
      "Epoch 15| Loss: 0.1022| Acc: 0.9929| Train Time: 0.0650s\n"
     ]
    },
    {
     "output_type": "stream",
     "name": "stderr",
     "text": [
      "Evaluating: 100%|██████████| 5416/5416 [00:00<00:00, 24507.22it/s]\n"
     ]
    },
    {
     "output_type": "stream",
     "name": "stdout",
     "text": [
      "Train: 1.0000| Val: 0.7560| Test: 0.7790| Eval Time: 0.2280s\n",
      "Adj(adj_t=SparseTensor(row=tensor([  0,   0,   0,  ..., 643, 643, 643]),\n",
      "             col=tensor([   0,   91,  140,  ...,  139,  643, 1091]),\n",
      "             val=tensor([1., 1., 1.,  ..., 1., 1., 1.]),\n",
      "             size=(644, 1664), nnz=4478, density=0.42%), e_id=tensor([ 257,  258,  259,  ..., 6851, 6853, 6852]), size=(1664, 644))\n",
      "Epoch 16| Loss: 0.0882| Acc: 0.9929| Train Time: 0.0710s\n"
     ]
    },
    {
     "output_type": "stream",
     "name": "stderr",
     "text": [
      "Evaluating: 100%|██████████| 5416/5416 [00:00<00:00, 27216.19it/s]\n"
     ]
    },
    {
     "output_type": "stream",
     "name": "stdout",
     "text": [
      "Train: 1.0000| Val: 0.7600| Test: 0.7770| Eval Time: 0.2050s\n",
      "Adj(adj_t=SparseTensor(row=tensor([  0,   0,   0,  ..., 643, 643, 643]),\n",
      "             col=tensor([   0,  140,  141,  ..., 1661, 1662, 1663]),\n",
      "             val=tensor([1., 1., 1.,  ..., 1., 1., 1.]),\n",
      "             size=(644, 1664), nnz=4478, density=0.42%), e_id=tensor([  127,   128,   129,  ..., 10215, 10218, 10219]), size=(1664, 644))\n",
      "Epoch 17| Loss: 0.0886| Acc: 0.9929| Train Time: 0.0580s\n"
     ]
    },
    {
     "output_type": "stream",
     "name": "stderr",
     "text": [
      "Evaluating: 100%|██████████| 5416/5416 [00:00<00:00, 28798.36it/s]\n"
     ]
    },
    {
     "output_type": "stream",
     "name": "stdout",
     "text": [
      "Train: 1.0000| Val: 0.7560| Test: 0.7740| Eval Time: 0.1941s\n",
      "Adj(adj_t=SparseTensor(row=tensor([  0,   0,   0,  ..., 643, 643, 643]),\n",
      "             col=tensor([   0,   16,  140,  ...,  333,  643, 1262]),\n",
      "             val=tensor([1., 1., 1.,  ..., 1., 1., 1.]),\n",
      "             size=(644, 1664), nnz=4478, density=0.42%), e_id=tensor([  102,   101,   103,  ..., 11089, 11090, 11091]), size=(1664, 644))\n",
      "Epoch 18| Loss: 0.0537| Acc: 1.0000| Train Time: 0.0720s\n"
     ]
    },
    {
     "output_type": "stream",
     "name": "stderr",
     "text": [
      "Evaluating: 100%|██████████| 5416/5416 [00:00<00:00, 23047.31it/s]\n"
     ]
    },
    {
     "output_type": "stream",
     "name": "stdout",
     "text": [
      "Train: 1.0000| Val: 0.7540| Test: 0.7740| Eval Time: 0.2450s\n",
      "Adj(adj_t=SparseTensor(row=tensor([  0,   0,   0,  ..., 643, 643, 643]),\n",
      "             col=tensor([  0, 140, 141,  ..., 139, 496, 643]),\n",
      "             val=tensor([1., 1., 1.,  ..., 1., 1., 1.]),\n",
      "             size=(644, 1664), nnz=4478, density=0.42%), e_id=tensor([   51,    52,    53,  ..., 11229, 11230, 11231]), size=(1664, 644))\n",
      "Epoch 19| Loss: 0.0624| Acc: 1.0000| Train Time: 0.1030s\n"
     ]
    },
    {
     "output_type": "stream",
     "name": "stderr",
     "text": [
      "Evaluating: 100%|██████████| 5416/5416 [00:00<00:00, 15171.34it/s]\n"
     ]
    },
    {
     "output_type": "stream",
     "name": "stdout",
     "text": [
      "Train: 1.0000| Val: 0.7500| Test: 0.7730| Eval Time: 0.3660s\n",
      "Adj(adj_t=SparseTensor(row=tensor([  0,   0,   0,  ..., 643, 643, 643]),\n",
      "             col=tensor([   0,  140,  141,  ..., 1661, 1662, 1663]),\n",
      "             val=tensor([1., 1., 1.,  ..., 1., 1., 1.]),\n",
      "             size=(644, 1664), nnz=4478, density=0.42%), e_id=tensor([  360,   361,   362,  ..., 12187, 12191, 12192]), size=(1664, 644))\n",
      "Epoch 20| Loss: 0.0314| Acc: 1.0000| Train Time: 0.1190s\n"
     ]
    },
    {
     "output_type": "stream",
     "name": "stderr",
     "text": [
      "Evaluating: 100%|██████████| 5416/5416 [00:00<00:00, 13886.88it/s]\n"
     ]
    },
    {
     "output_type": "stream",
     "name": "stdout",
     "text": [
      "Train: 1.0000| Val: 0.7440| Test: 0.7740| Eval Time: 0.4040s\n",
      "Adj(adj_t=SparseTensor(row=tensor([  0,   0,   0,  ..., 642, 643, 643]),\n",
      "             col=tensor([   0,  140,  141,  ..., 1663,  139,  643]),\n",
      "             val=tensor([1., 1., 1.,  ..., 1., 1., 1.]),\n",
      "             size=(644, 1664), nnz=4478, density=0.42%), e_id=tensor([ 321,  322,  323,  ..., 1719, 7228, 7229]), size=(1664, 644))\n",
      "Epoch 21| Loss: 0.0438| Acc: 1.0000| Train Time: 0.1138s\n"
     ]
    },
    {
     "output_type": "stream",
     "name": "stderr",
     "text": [
      "Evaluating: 100%|██████████| 5416/5416 [00:00<00:00, 19412.43it/s]\n"
     ]
    },
    {
     "output_type": "stream",
     "name": "stdout",
     "text": [
      "Train: 1.0000| Val: 0.7440| Test: 0.7730| Eval Time: 0.2900s\n",
      "Adj(adj_t=SparseTensor(row=tensor([  0,   0,   0,  ..., 643, 643, 643]),\n",
      "             col=tensor([   0,  140,  141,  ..., 1661, 1662, 1663]),\n",
      "             val=tensor([1., 1., 1.,  ..., 1., 1., 1.]),\n",
      "             size=(644, 1664), nnz=4478, density=0.42%), e_id=tensor([ 130,  131,  132,  ..., 8963, 8964, 8972]), size=(1664, 644))\n",
      "Epoch 22| Loss: 0.0336| Acc: 1.0000| Train Time: 0.1020s\n"
     ]
    },
    {
     "output_type": "stream",
     "name": "stderr",
     "text": [
      "Evaluating: 100%|██████████| 5416/5416 [00:00<00:00, 18537.68it/s]\n"
     ]
    },
    {
     "output_type": "stream",
     "name": "stdout",
     "text": [
      "Train: 1.0000| Val: 0.7420| Test: 0.7740| Eval Time: 0.3032s\n",
      "Adj(adj_t=SparseTensor(row=tensor([  0,   0,   0,  ..., 643, 643, 643]),\n",
      "             col=tensor([   0,  140,  141,  ..., 1660, 1661, 1662]),\n",
      "             val=tensor([1., 1., 1.,  ..., 1., 1., 1.]),\n",
      "             size=(644, 1664), nnz=4478, density=0.42%), e_id=tensor([   22,    23,    24,  ..., 11167, 11168, 11170]), size=(1664, 644))\n",
      "Epoch 23| Loss: 0.0203| Acc: 1.0000| Train Time: 0.1490s\n"
     ]
    },
    {
     "output_type": "stream",
     "name": "stderr",
     "text": [
      "Evaluating: 100%|██████████| 5416/5416 [00:00<00:00, 16065.57it/s]\n"
     ]
    },
    {
     "output_type": "stream",
     "name": "stdout",
     "text": [
      "Train: 1.0000| Val: 0.7400| Test: 0.7740| Eval Time: 0.3451s\n",
      "Adj(adj_t=SparseTensor(row=tensor([  0,   0,   0,  ..., 642, 643, 643]),\n",
      "             col=tensor([   0,  140,  141,  ..., 1663,  139,  643]),\n",
      "             val=tensor([1., 1., 1.,  ..., 1., 1., 1.]),\n",
      "             size=(644, 1664), nnz=4478, density=0.42%), e_id=tensor([ 156,  157,  158,  ..., 3293, 3297, 3298]), size=(1664, 644))\n",
      "Epoch 24| Loss: 0.0403| Acc: 1.0000| Train Time: 0.0820s\n"
     ]
    },
    {
     "output_type": "stream",
     "name": "stderr",
     "text": [
      "Evaluating: 100%|██████████| 5416/5416 [00:00<00:00, 20284.67it/s]\n"
     ]
    },
    {
     "output_type": "stream",
     "name": "stdout",
     "text": [
      "Train: 1.0000| Val: 0.7440| Test: 0.7760| Eval Time: 0.2750s\n",
      "Adj(adj_t=SparseTensor(row=tensor([  0,   0,   0,  ..., 643, 643, 643]),\n",
      "             col=tensor([   0,  140,  141,  ..., 1660, 1661, 1662]),\n",
      "             val=tensor([1., 1., 1.,  ..., 1., 1., 1.]),\n",
      "             size=(644, 1664), nnz=4478, density=0.42%), e_id=tensor([  726,   727,   728,  ..., 11167, 11168, 11170]), size=(1664, 644))\n",
      "Epoch 25| Loss: 0.0202| Acc: 1.0000| Train Time: 0.0970s\n"
     ]
    },
    {
     "output_type": "stream",
     "name": "stderr",
     "text": [
      "Evaluating: 100%|██████████| 5416/5416 [00:00<00:00, 17815.49it/s]\n"
     ]
    },
    {
     "output_type": "stream",
     "name": "stdout",
     "text": [
      "Train: 1.0000| Val: 0.7440| Test: 0.7760| Eval Time: 0.3191s\n",
      "Adj(adj_t=SparseTensor(row=tensor([  0,   0,   0,  ..., 643, 643, 643]),\n",
      "             col=tensor([   0,  105,  140,  ...,  139,  643, 1253]),\n",
      "             val=tensor([1., 1., 1.,  ..., 1., 1., 1.]),\n",
      "             size=(644, 1664), nnz=4478, density=0.42%), e_id=tensor([ 570,  569,  571,  ..., 9850, 9852, 9851]), size=(1664, 644))\n",
      "Epoch 26| Loss: 0.0276| Acc: 1.0000| Train Time: 0.0880s\n"
     ]
    },
    {
     "output_type": "stream",
     "name": "stderr",
     "text": [
      "Evaluating: 100%|██████████| 5416/5416 [00:00<00:00, 19268.21it/s]\n"
     ]
    },
    {
     "output_type": "stream",
     "name": "stdout",
     "text": [
      "Train: 1.0000| Val: 0.7440| Test: 0.7760| Eval Time: 0.2931s\n",
      "Adj(adj_t=SparseTensor(row=tensor([  0,   0,   0,  ..., 643, 643, 643]),\n",
      "             col=tensor([   0,  106,  140,  ...,  643, 1278, 1663]),\n",
      "             val=tensor([1., 1., 1.,  ..., 1., 1., 1.]),\n",
      "             size=(644, 1664), nnz=4478, density=0.42%), e_id=tensor([    9,     8,    10,  ..., 11750, 11746, 11747]), size=(1664, 644))\n",
      "Epoch 27| Loss: 0.0167| Acc: 1.0000| Train Time: 0.0925s\n"
     ]
    },
    {
     "output_type": "stream",
     "name": "stderr",
     "text": [
      "Evaluating: 100%|██████████| 5416/5416 [00:00<00:00, 19555.97it/s]\n"
     ]
    },
    {
     "output_type": "stream",
     "name": "stdout",
     "text": [
      "Train: 1.0000| Val: 0.7440| Test: 0.7770| Eval Time: 0.2839s\n",
      "Adj(adj_t=SparseTensor(row=tensor([  0,   0,   0,  ..., 643, 643, 643]),\n",
      "             col=tensor([   0,  140,  141,  ...,  737, 1662, 1663]),\n",
      "             val=tensor([1., 1., 1.,  ..., 1., 1., 1.]),\n",
      "             size=(644, 1664), nnz=4478, density=0.42%), e_id=tensor([  400,   401,   402,  ..., 10687, 10684, 10686]), size=(1664, 644))\n",
      "Epoch 28| Loss: 0.0173| Acc: 1.0000| Train Time: 0.0732s\n"
     ]
    },
    {
     "output_type": "stream",
     "name": "stderr",
     "text": [
      "Evaluating: 100%|██████████| 5416/5416 [00:00<00:00, 21686.63it/s]\n"
     ]
    },
    {
     "output_type": "stream",
     "name": "stdout",
     "text": [
      "Train: 1.0000| Val: 0.7420| Test: 0.7780| Eval Time: 0.2578s\n",
      "Adj(adj_t=SparseTensor(row=tensor([  0,   0,   0,  ..., 643, 643, 643]),\n",
      "             col=tensor([   0,  140,  141,  ..., 1389, 1662, 1663]),\n",
      "             val=tensor([1., 1., 1.,  ..., 1., 1., 1.]),\n",
      "             size=(644, 1664), nnz=4478, density=0.42%), e_id=tensor([ 173,  174,  175,  ..., 9535, 9531, 9533]), size=(1664, 644))\n",
      "Epoch 29| Loss: 0.0180| Acc: 1.0000| Train Time: 0.0840s\n"
     ]
    },
    {
     "output_type": "stream",
     "name": "stderr",
     "text": [
      "Evaluating: 100%|██████████| 5416/5416 [00:00<00:00, 16061.95it/s]\n"
     ]
    },
    {
     "output_type": "stream",
     "name": "stdout",
     "text": [
      "Train: 1.0000| Val: 0.7400| Test: 0.7780| Eval Time: 0.3542s\n",
      "Adj(adj_t=SparseTensor(row=tensor([  0,   0,   1,  ..., 643, 643, 643]),\n",
      "             col=tensor([  0, 140,   1,  ..., 242, 243, 643]),\n",
      "             val=tensor([1., 1., 1.,  ..., 1., 1., 1.]),\n",
      "             size=(644, 1664), nnz=4478, density=0.42%), e_id=tensor([  574,   575,    40,  ..., 12629, 12630, 12631]), size=(1664, 644))\n",
      "Epoch 30| Loss: 0.0172| Acc: 1.0000| Train Time: 0.1050s\n"
     ]
    },
    {
     "output_type": "stream",
     "name": "stderr",
     "text": [
      "Evaluating: 100%|██████████| 5416/5416 [00:00<00:00, 19624.63it/s]\n"
     ]
    },
    {
     "output_type": "stream",
     "name": "stdout",
     "text": [
      "Train: 1.0000| Val: 0.7400| Test: 0.7750| Eval Time: 0.2890s\n",
      "Adj(adj_t=SparseTensor(row=tensor([  0,   0,   0,  ..., 643, 643, 643]),\n",
      "             col=tensor([   0,   53,  124,  ...,  643, 1294, 1663]),\n",
      "             val=tensor([1., 1., 1.,  ..., 1., 1., 1.]),\n",
      "             size=(644, 1664), nnz=4478, density=0.42%), e_id=tensor([  695,   694,   693,  ..., 11671, 11670, 11672]), size=(1664, 644))\n",
      "Epoch 31| Loss: 0.0120| Acc: 1.0000| Train Time: 0.0996s\n"
     ]
    },
    {
     "output_type": "stream",
     "name": "stderr",
     "text": [
      "Evaluating: 100%|██████████| 5416/5416 [00:00<00:00, 17193.67it/s]\n"
     ]
    },
    {
     "output_type": "stream",
     "name": "stdout",
     "text": [
      "Train: 1.0000| Val: 0.7360| Test: 0.7770| Eval Time: 0.3270s\n",
      "Adj(adj_t=SparseTensor(row=tensor([  0,   0,   0,  ..., 643, 643, 643]),\n",
      "             col=tensor([   0,  140,  141,  ...,  227,  643, 1663]),\n",
      "             val=tensor([1., 1., 1.,  ..., 1., 1., 1.]),\n",
      "             size=(644, 1664), nnz=4478, density=0.42%), e_id=tensor([  478,   479,   480,  ..., 11013, 11015, 11012]), size=(1664, 644))\n",
      "Epoch 32| Loss: 0.0134| Acc: 1.0000| Train Time: 0.1240s\n"
     ]
    },
    {
     "output_type": "stream",
     "name": "stderr",
     "text": [
      "Evaluating: 100%|██████████| 5416/5416 [00:00<00:00, 15254.21it/s]\n"
     ]
    },
    {
     "output_type": "stream",
     "name": "stdout",
     "text": [
      "Train: 1.0000| Val: 0.7380| Test: 0.7760| Eval Time: 0.3716s\n",
      "Adj(adj_t=SparseTensor(row=tensor([  0,   0,   0,  ..., 643, 643, 643]),\n",
      "             col=tensor([  0, 140, 141,  ..., 139, 390, 643]),\n",
      "             val=tensor([1., 1., 1.,  ..., 1., 1., 1.]),\n",
      "             size=(644, 1664), nnz=4478, density=0.42%), e_id=tensor([ 640,  641,  642,  ..., 7539, 7540, 7541]), size=(1664, 644))\n",
      "Epoch 33| Loss: 0.0104| Acc: 1.0000| Train Time: 0.0900s\n"
     ]
    },
    {
     "output_type": "stream",
     "name": "stderr",
     "text": [
      "Evaluating: 100%|██████████| 5416/5416 [00:00<00:00, 18484.67it/s]\n"
     ]
    },
    {
     "output_type": "stream",
     "name": "stdout",
     "text": [
      "Train: 1.0000| Val: 0.7380| Test: 0.7740| Eval Time: 0.3040s\n",
      "Adj(adj_t=SparseTensor(row=tensor([  0,   0,   0,  ..., 643, 643, 643]),\n",
      "             col=tensor([  0, 140, 141,  ..., 139, 642, 643]),\n",
      "             val=tensor([1., 1., 1.,  ..., 1., 1., 1.]),\n",
      "             size=(644, 1664), nnz=4478, density=0.42%), e_id=tensor([  412,   413,   414,  ..., 11582, 11583, 11584]), size=(1664, 644))\n",
      "Epoch 34| Loss: 0.0044| Acc: 1.0000| Train Time: 0.0940s\n"
     ]
    },
    {
     "output_type": "stream",
     "name": "stderr",
     "text": [
      "Evaluating: 100%|██████████| 5416/5416 [00:00<00:00, 19138.29it/s]\n"
     ]
    },
    {
     "output_type": "stream",
     "name": "stdout",
     "text": [
      "Train: 1.0000| Val: 0.7360| Test: 0.7730| Eval Time: 0.2990s\n",
      "Adj(adj_t=SparseTensor(row=tensor([  0,   0,   1,  ..., 643, 643, 643]),\n",
      "             col=tensor([  0, 140,   1,  ..., 567, 642, 643]),\n",
      "             val=tensor([1., 1., 1.,  ..., 1., 1., 1.]),\n",
      "             size=(644, 1664), nnz=4478, density=0.42%), e_id=tensor([  758,   759,     9,  ..., 11433, 11432, 11434]), size=(1664, 644))\n",
      "Epoch 35| Loss: 0.0115| Acc: 1.0000| Train Time: 0.1010s\n"
     ]
    },
    {
     "output_type": "stream",
     "name": "stderr",
     "text": [
      "Evaluating: 100%|██████████| 5416/5416 [00:00<00:00, 19694.32it/s]\n"
     ]
    },
    {
     "output_type": "stream",
     "name": "stdout",
     "text": [
      "Train: 1.0000| Val: 0.7340| Test: 0.7740| Eval Time: 0.2840s\n",
      "Adj(adj_t=SparseTensor(row=tensor([  0,   0,   1,  ..., 643, 643, 643]),\n",
      "             col=tensor([   0,  140,    1,  ...,  885,  983, 1663]),\n",
      "             val=tensor([1., 1., 1.,  ..., 1., 1., 1.]),\n",
      "             size=(644, 1664), nnz=4478, density=0.42%), e_id=tensor([  300,   301,   160,  ..., 13046, 13047, 13045]), size=(1664, 644))\n",
      "Epoch 36| Loss: 0.0112| Acc: 1.0000| Train Time: 0.0930s\n"
     ]
    },
    {
     "output_type": "stream",
     "name": "stderr",
     "text": [
      "Evaluating: 100%|██████████| 5416/5416 [00:00<00:00, 17668.68it/s]\n"
     ]
    },
    {
     "output_type": "stream",
     "name": "stdout",
     "text": [
      "Train: 1.0000| Val: 0.7340| Test: 0.7740| Eval Time: 0.3255s\n",
      "\n",
      "Result of  1. run| Train: 0.9929| Val: 0.7740| Test: 0.7960\n",
      "\n",
      "Run 02 for GatV1_K4_s and Cora:\n"
     ]
    },
    {
     "output_type": "stream",
     "name": "stderr",
     "text": [
      "Epoch 01: 100%|██████████| 140/140 [00:00<00:00, 1319.40it/s]\n"
     ]
    },
    {
     "output_type": "stream",
     "name": "stdout",
     "text": [
      "Adj(adj_t=SparseTensor(row=tensor([  0,   0,   0,  ..., 643, 643, 643]),\n",
      "             col=tensor([   0,   24,  140,  ...,  139,  643, 1649]),\n",
      "             val=tensor([1., 1., 1.,  ..., 1., 1., 1.]),\n",
      "             size=(644, 1664), nnz=4478, density=0.42%), e_id=tensor([   76,    77,    78,  ..., 10005, 10007, 10006]), size=(1664, 644))\n",
      "Epoch 01| Loss: 1.9811| Acc: 0.1357| Train Time: 0.1101s\n"
     ]
    },
    {
     "output_type": "stream",
     "name": "stderr",
     "text": [
      "Evaluating: 100%|██████████| 5416/5416 [00:00<00:00, 19912.00it/s]\n"
     ]
    },
    {
     "output_type": "stream",
     "name": "stdout",
     "text": [
      "Train: 0.8857| Val: 0.5620| Test: 0.6000| Eval Time: 0.2830s\n",
      "Adj(adj_t=SparseTensor(row=tensor([  0,   0,   0,  ..., 643, 643, 643]),\n",
      "             col=tensor([   0,  121,  140,  ...,  642,  643, 1456]),\n",
      "             val=tensor([1., 1., 1.,  ..., 1., 1., 1.]),\n",
      "             size=(644, 1664), nnz=4478, density=0.42%), e_id=tensor([  76,   77,   78,  ..., 8184, 8186, 8185]), size=(1664, 644))\n",
      "Epoch 02| Loss: 1.5803| Acc: 0.6786| Train Time: 0.1070s\n"
     ]
    },
    {
     "output_type": "stream",
     "name": "stderr",
     "text": [
      "Evaluating: 100%|██████████| 5416/5416 [00:00<00:00, 20059.35it/s]\n"
     ]
    },
    {
     "output_type": "stream",
     "name": "stdout",
     "text": [
      "Train: 0.9714| Val: 0.7040| Test: 0.7090| Eval Time: 0.2790s\n",
      "Adj(adj_t=SparseTensor(row=tensor([  0,   0,   0,  ..., 643, 643, 643]),\n",
      "             col=tensor([  0,  98, 140,  ..., 139, 642, 643]),\n",
      "             val=tensor([1., 1., 1.,  ..., 1., 1., 1.]),\n",
      "             size=(644, 1664), nnz=4478, density=0.42%), e_id=tensor([  761,   760,   762,  ..., 12873, 12874, 12875]), size=(1664, 644))\n",
      "Epoch 03| Loss: 1.0986| Acc: 0.8357| Train Time: 0.0823s\n"
     ]
    },
    {
     "output_type": "stream",
     "name": "stderr",
     "text": [
      "Evaluating: 100%|██████████| 5416/5416 [00:00<00:00, 18759.46it/s]\n"
     ]
    },
    {
     "output_type": "stream",
     "name": "stdout",
     "text": [
      "Train: 0.9714| Val: 0.7480| Test: 0.7520| Eval Time: 0.2957s\n",
      "Adj(adj_t=SparseTensor(row=tensor([  0,   0,   0,  ..., 643, 643, 643]),\n",
      "             col=tensor([   0,  140,  141,  ..., 1661, 1662, 1663]),\n",
      "             val=tensor([1., 1., 1.,  ..., 1., 1., 1.]),\n",
      "             size=(644, 1664), nnz=4478, density=0.42%), e_id=tensor([ 219,  220,  221,  ..., 8963, 8964, 8972]), size=(1664, 644))\n",
      "Epoch 04| Loss: 0.9166| Acc: 0.9286| Train Time: 0.0940s\n"
     ]
    },
    {
     "output_type": "stream",
     "name": "stderr",
     "text": [
      "Evaluating: 100%|██████████| 5416/5416 [00:00<00:00, 17933.50it/s]\n"
     ]
    },
    {
     "output_type": "stream",
     "name": "stdout",
     "text": [
      "Train: 0.9929| Val: 0.7720| Test: 0.7800| Eval Time: 0.3100s\n",
      "Adj(adj_t=SparseTensor(row=tensor([  0,   0,   1,  ..., 643, 643, 643]),\n",
      "             col=tensor([   0,  140,    1,  ..., 1661, 1662, 1663]),\n",
      "             val=tensor([1., 1., 1.,  ..., 1., 1., 1.]),\n",
      "             size=(644, 1664), nnz=4478, density=0.42%), e_id=tensor([   31,    32,   308,  ..., 11065, 11066, 11073]), size=(1664, 644))\n",
      "Epoch 05| Loss: 0.7221| Acc: 0.9429| Train Time: 0.0985s\n"
     ]
    },
    {
     "output_type": "stream",
     "name": "stderr",
     "text": [
      "Evaluating: 100%|██████████| 5416/5416 [00:00<00:00, 19340.50it/s]\n"
     ]
    },
    {
     "output_type": "stream",
     "name": "stdout",
     "text": [
      "Train: 0.9929| Val: 0.7780| Test: 0.7960| Eval Time: 0.2880s\n",
      "Adj(adj_t=SparseTensor(row=tensor([  0,   0,   0,  ..., 643, 643, 643]),\n",
      "             col=tensor([  0, 140, 141,  ..., 139, 642, 643]),\n",
      "             val=tensor([1., 1., 1.,  ..., 1., 1., 1.]),\n",
      "             size=(644, 1664), nnz=4478, density=0.42%), e_id=tensor([   16,    17,    18,  ..., 13218, 13219, 13220]), size=(1664, 644))\n",
      "Epoch 06| Loss: 0.4920| Acc: 1.0000| Train Time: 0.0916s\n"
     ]
    },
    {
     "output_type": "stream",
     "name": "stderr",
     "text": [
      "Evaluating: 100%|██████████| 5416/5416 [00:00<00:00, 15563.56it/s]\n"
     ]
    },
    {
     "output_type": "stream",
     "name": "stdout",
     "text": [
      "Train: 0.9929| Val: 0.7820| Test: 0.8000| Eval Time: 0.3560s\n",
      "Adj(adj_t=SparseTensor(row=tensor([  0,   0,   0,  ..., 643, 643, 643]),\n",
      "             col=tensor([   0,  140,  141,  ...,  643, 1038, 1663]),\n",
      "             val=tensor([1., 1., 1.,  ..., 1., 1., 1.]),\n",
      "             size=(644, 1664), nnz=4478, density=0.42%), e_id=tensor([ 209,  210,  211,  ..., 9053, 9051, 9052]), size=(1664, 644))\n",
      "Epoch 07| Loss: 0.4176| Acc: 0.9643| Train Time: 0.1290s\n"
     ]
    },
    {
     "output_type": "stream",
     "name": "stderr",
     "text": [
      "Evaluating: 100%|██████████| 5416/5416 [00:00<00:00, 13749.89it/s]\n"
     ]
    },
    {
     "output_type": "stream",
     "name": "stdout",
     "text": [
      "Train: 0.9929| Val: 0.7780| Test: 0.8020| Eval Time: 0.4019s\n",
      "Adj(adj_t=SparseTensor(row=tensor([  0,   0,   1,  ..., 643, 643, 643]),\n",
      "             col=tensor([   0,  140,    1,  ...,  139,  643, 1453]),\n",
      "             val=tensor([1., 1., 1.,  ..., 1., 1., 1.]),\n",
      "             size=(644, 1664), nnz=4478, density=0.42%), e_id=tensor([   82,    83,   232,  ..., 10005, 10007, 10006]), size=(1664, 644))\n",
      "Epoch 08| Loss: 0.2859| Acc: 0.9857| Train Time: 0.1215s\n"
     ]
    },
    {
     "output_type": "stream",
     "name": "stderr",
     "text": [
      "Evaluating: 100%|██████████| 5416/5416 [00:00<00:00, 12910.04it/s]\n"
     ]
    },
    {
     "output_type": "stream",
     "name": "stdout",
     "text": [
      "Train: 0.9857| Val: 0.7720| Test: 0.8010| Eval Time: 0.4285s\n",
      "Adj(adj_t=SparseTensor(row=tensor([  0,   0,   0,  ..., 642, 643, 643]),\n",
      "             col=tensor([   0,  140,  141,  ..., 1026,  139,  643]),\n",
      "             val=tensor([1., 1., 1.,  ..., 1., 1., 1.]),\n",
      "             size=(644, 1664), nnz=4478, density=0.42%), e_id=tensor([  412,   413,   414,  ..., 11712, 12634, 12635]), size=(1664, 644))\n",
      "Epoch 09| Loss: 0.2766| Acc: 0.9786| Train Time: 0.1220s\n"
     ]
    },
    {
     "output_type": "stream",
     "name": "stderr",
     "text": [
      "Evaluating: 100%|██████████| 5416/5416 [00:00<00:00, 11969.86it/s]\n"
     ]
    },
    {
     "output_type": "stream",
     "name": "stdout",
     "text": [
      "Train: 0.9929| Val: 0.7700| Test: 0.7980| Eval Time: 0.4655s\n",
      "Adj(adj_t=SparseTensor(row=tensor([  0,   0,   0,  ..., 643, 643, 643]),\n",
      "             col=tensor([   0,  140,  141,  ...,  643,  796, 1661]),\n",
      "             val=tensor([1., 1., 1.,  ..., 1., 1., 1.]),\n",
      "             size=(644, 1664), nnz=4478, density=0.42%), e_id=tensor([  640,   641,   642,  ..., 11370, 11369, 11371]), size=(1664, 644))\n",
      "Epoch 10| Loss: 0.2258| Acc: 1.0000| Train Time: 0.1200s\n"
     ]
    },
    {
     "output_type": "stream",
     "name": "stderr",
     "text": [
      "Evaluating: 100%|██████████| 5416/5416 [00:00<00:00, 12926.19it/s]\n"
     ]
    },
    {
     "output_type": "stream",
     "name": "stdout",
     "text": [
      "Train: 1.0000| Val: 0.7640| Test: 0.8030| Eval Time: 0.4320s\n",
      "Adj(adj_t=SparseTensor(row=tensor([  0,   0,   0,  ..., 643, 643, 643]),\n",
      "             col=tensor([   0,   27,  140,  ..., 1595, 1596, 1597]),\n",
      "             val=tensor([1., 1., 1.,  ..., 1., 1., 1.]),\n",
      "             size=(644, 1664), nnz=4478, density=0.42%), e_id=tensor([  377,   378,   379,  ..., 13119, 13121, 13118]), size=(1664, 644))\n",
      "Epoch 11| Loss: 0.2464| Acc: 0.9714| Train Time: 0.1370s\n"
     ]
    },
    {
     "output_type": "stream",
     "name": "stderr",
     "text": [
      "Evaluating: 100%|██████████| 5416/5416 [00:00<00:00, 13695.01it/s]\n"
     ]
    },
    {
     "output_type": "stream",
     "name": "stdout",
     "text": [
      "Train: 1.0000| Val: 0.7600| Test: 0.7990| Eval Time: 0.4055s\n",
      "Adj(adj_t=SparseTensor(row=tensor([  0,   0,   0,  ..., 643, 643, 643]),\n",
      "             col=tensor([   0,  140,  141,  ..., 1169, 1310, 1663]),\n",
      "             val=tensor([1., 1., 1.,  ..., 1., 1., 1.]),\n",
      "             size=(644, 1664), nnz=4478, density=0.42%), e_id=tensor([   90,    91,    92,  ..., 12771, 12772, 12773]), size=(1664, 644))\n",
      "Epoch 12| Loss: 0.1838| Acc: 0.9857| Train Time: 0.1300s\n"
     ]
    },
    {
     "output_type": "stream",
     "name": "stderr",
     "text": [
      "Evaluating: 100%|██████████| 5416/5416 [00:00<00:00, 16167.22it/s]\n"
     ]
    },
    {
     "output_type": "stream",
     "name": "stdout",
     "text": [
      "Train: 1.0000| Val: 0.7500| Test: 0.7940| Eval Time: 0.3440s\n",
      "Adj(adj_t=SparseTensor(row=tensor([  0,   0,   1,  ..., 643, 643, 643]),\n",
      "             col=tensor([   0,  140,    1,  ..., 1661, 1662, 1663]),\n",
      "             val=tensor([1., 1., 1.,  ..., 1., 1., 1.]),\n",
      "             size=(644, 1664), nnz=4478, density=0.42%), e_id=tensor([  532,   533,   302,  ..., 10565, 10568, 10569]), size=(1664, 644))\n",
      "Epoch 13| Loss: 0.0921| Acc: 1.0000| Train Time: 0.1550s\n"
     ]
    },
    {
     "output_type": "stream",
     "name": "stderr",
     "text": [
      "Evaluating: 100%|██████████| 5416/5416 [00:00<00:00, 15063.41it/s]\n"
     ]
    },
    {
     "output_type": "stream",
     "name": "stdout",
     "text": [
      "Train: 1.0000| Val: 0.7460| Test: 0.7920| Eval Time: 0.3715s\n",
      "Adj(adj_t=SparseTensor(row=tensor([  0,   0,   0,  ..., 643, 643, 643]),\n",
      "             col=tensor([   0,    7,  140,  ...,  696, 1662, 1663]),\n",
      "             val=tensor([1., 1., 1.,  ..., 1., 1., 1.]),\n",
      "             size=(644, 1664), nnz=4478, density=0.42%), e_id=tensor([  548,   549,   550,  ..., 10683, 10684, 10686]), size=(1664, 644))\n",
      "Epoch 14| Loss: 0.0845| Acc: 0.9929| Train Time: 0.1190s\n"
     ]
    },
    {
     "output_type": "stream",
     "name": "stderr",
     "text": [
      "Evaluating: 100%|██████████| 5416/5416 [00:00<00:00, 19206.11it/s]\n"
     ]
    },
    {
     "output_type": "stream",
     "name": "stdout",
     "text": [
      "Train: 1.0000| Val: 0.7400| Test: 0.7880| Eval Time: 0.2950s\n",
      "Adj(adj_t=SparseTensor(row=tensor([  0,   0,   0,  ..., 643, 643, 643]),\n",
      "             col=tensor([  0,  62, 140,  ..., 139, 642, 643]),\n",
      "             val=tensor([1., 1., 1.,  ..., 1., 1., 1.]),\n",
      "             size=(644, 1664), nnz=4478, density=0.42%), e_id=tensor([  279,   280,   281,  ..., 13218, 13219, 13220]), size=(1664, 644))\n",
      "Epoch 15| Loss: 0.0648| Acc: 1.0000| Train Time: 0.1005s\n"
     ]
    },
    {
     "output_type": "stream",
     "name": "stderr",
     "text": [
      "Evaluating: 100%|██████████| 5416/5416 [00:00<00:00, 19695.92it/s]\n"
     ]
    },
    {
     "output_type": "stream",
     "name": "stdout",
     "text": [
      "Train: 1.0000| Val: 0.7400| Test: 0.7850| Eval Time: 0.2850s\n",
      "Adj(adj_t=SparseTensor(row=tensor([  0,   0,   0,  ..., 643, 643, 643]),\n",
      "             col=tensor([   0,  140,  141,  ..., 1168, 1169, 1170]),\n",
      "             val=tensor([1., 1., 1.,  ..., 1., 1., 1.]),\n",
      "             size=(644, 1664), nnz=4478, density=0.42%), e_id=tensor([  190,   191,   192,  ..., 13119, 13121, 13118]), size=(1664, 644))\n",
      "Epoch 16| Loss: 0.0932| Acc: 1.0000| Train Time: 0.0870s\n"
     ]
    },
    {
     "output_type": "stream",
     "name": "stderr",
     "text": [
      "Evaluating:  47%|████▋     | 2560/5416 [00:00<00:00, 11656.54it/s]"
     ]
    }
   ],
   "metadata": {}
  }
 ],
 "metadata": {
  "orig_nbformat": 4,
  "kernelspec": {
   "name": "python3",
   "display_name": "Python 3.8.10 64-bit ('PSN': conda)"
  },
  "interpreter": {
   "hash": "b8be38cac5e07419459cc1d2fe0e04c6cbe36991c6a4efd3c9a636608bfd9cde"
  },
  "language_info": {
   "name": "python",
   "version": "3.8.10",
   "mimetype": "text/x-python",
   "codemirror_mode": {
    "name": "ipython",
    "version": 3
   },
   "pygments_lexer": "ipython3",
   "nbconvert_exporter": "python",
   "file_extension": ".py"
  }
 },
 "nbformat": 4,
 "nbformat_minor": 2
}